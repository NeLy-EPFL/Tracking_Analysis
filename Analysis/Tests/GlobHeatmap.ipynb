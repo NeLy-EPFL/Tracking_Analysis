{
 "cells": [
  {
   "cell_type": "code",
   "execution_count": 6,
   "metadata": {
    "collapsed": true,
    "pycharm": {
     "name": "#%%\n"
    }
   },
   "outputs": [],
   "source": [
    "from pathlib import Path\n",
    "import pandas as pd\n",
    "import matplotlib.pyplot as plt\n"
   ]
  },
  {
   "cell_type": "code",
   "execution_count": 2,
   "outputs": [],
   "source": [
    "\n",
    "DataPath = Path ('/Volumes/Ramdya-Lab/DURRIEU_Matthias/Experimental_data/MultiSensory_Project/GatedArenas')\n",
    "Filters = ['Results', 'BadExp', 'Starved_Water']\n",
    "\n",
    "Files = [path for path in DataPath.rglob('*.csv') if any(match in path.as_posix() for match in Filters) is False]\n",
    "\n"
   ],
   "metadata": {
    "collapsed": false,
    "pycharm": {
     "name": "#%%\n"
    }
   }
  },
  {
   "cell_type": "code",
   "execution_count": 15,
   "outputs": [
    {
     "name": "stdout",
     "output_type": "stream",
     "text": [
      "/Volumes/Ramdya-Lab/DURRIEU_Matthias/Experimental_data/MultiSensory_Project/GatedArenas/220310_LeftRew_OrangeRew/Ctrl/Test_Starved_noWater/091535_s0a0_p0-0/Ctrl_Starved_noWater_p0-0_80fps_Trimmed_tracked.csv\n"
     ]
    },
    {
     "name": "stderr",
     "output_type": "stream",
     "text": [
      "/var/folders/3v/_y6xq12x6l96bm2kp__gv6z40000gn/T/ipykernel_7009/3704256551.py:13: SettingWithCopyWarning: \n",
      "A value is trying to be set on a copy of a slice from a DataFrame\n",
      "\n",
      "See the caveats in the documentation: https://pandas.pydata.org/pandas-docs/stable/user_guide/indexing.html#returning-a-view-versus-a-copy\n",
      "  data['ReverseX'].loc[data.frame == frame] = data['pos_x'].loc[data.frame == frame] \\\n"
     ]
    },
    {
     "name": "stdout",
     "output_type": "stream",
     "text": [
      "/Volumes/Ramdya-Lab/DURRIEU_Matthias/Experimental_data/MultiSensory_Project/GatedArenas/220310_LeftRew_OrangeRew/Ctrl/Test_Starved_noWater/100841_s0a0_p0-0/Ctrl_Starved_noWater_p0-0_80fps_Trimmed_tracked.csv\n"
     ]
    },
    {
     "name": "stderr",
     "output_type": "stream",
     "text": [
      "/var/folders/3v/_y6xq12x6l96bm2kp__gv6z40000gn/T/ipykernel_7009/3704256551.py:13: SettingWithCopyWarning: \n",
      "A value is trying to be set on a copy of a slice from a DataFrame\n",
      "\n",
      "See the caveats in the documentation: https://pandas.pydata.org/pandas-docs/stable/user_guide/indexing.html#returning-a-view-versus-a-copy\n",
      "  data['ReverseX'].loc[data.frame == frame] = data['pos_x'].loc[data.frame == frame] \\\n"
     ]
    },
    {
     "name": "stdout",
     "output_type": "stream",
     "text": [
      "/Volumes/Ramdya-Lab/DURRIEU_Matthias/Experimental_data/MultiSensory_Project/GatedArenas/220310_LeftRew_OrangeRew/Ctrl/Test_Starved_noWater/111825_s0a0_p0-0/Ctrl_Starved_noWater_p0-0_80fps_Trimmed_tracked.csv\n"
     ]
    },
    {
     "name": "stderr",
     "output_type": "stream",
     "text": [
      "/var/folders/3v/_y6xq12x6l96bm2kp__gv6z40000gn/T/ipykernel_7009/3704256551.py:13: SettingWithCopyWarning: \n",
      "A value is trying to be set on a copy of a slice from a DataFrame\n",
      "\n",
      "See the caveats in the documentation: https://pandas.pydata.org/pandas-docs/stable/user_guide/indexing.html#returning-a-view-versus-a-copy\n",
      "  data['ReverseX'].loc[data.frame == frame] = data['pos_x'].loc[data.frame == frame] \\\n"
     ]
    },
    {
     "name": "stdout",
     "output_type": "stream",
     "text": [
      "/Volumes/Ramdya-Lab/DURRIEU_Matthias/Experimental_data/MultiSensory_Project/GatedArenas/220310_LeftRew_OrangeRew/Ctrl/Test_Starved_noWater/122530_s0a0_p0-0/Ctrl_Starved_noWater_p0-0_80fps_Trimmed_tracked.csv\n"
     ]
    },
    {
     "name": "stderr",
     "output_type": "stream",
     "text": [
      "/var/folders/3v/_y6xq12x6l96bm2kp__gv6z40000gn/T/ipykernel_7009/3704256551.py:13: SettingWithCopyWarning: \n",
      "A value is trying to be set on a copy of a slice from a DataFrame\n",
      "\n",
      "See the caveats in the documentation: https://pandas.pydata.org/pandas-docs/stable/user_guide/indexing.html#returning-a-view-versus-a-copy\n",
      "  data['ReverseX'].loc[data.frame == frame] = data['pos_x'].loc[data.frame == frame] \\\n"
     ]
    },
    {
     "name": "stdout",
     "output_type": "stream",
     "text": [
      "/Volumes/Ramdya-Lab/DURRIEU_Matthias/Experimental_data/MultiSensory_Project/GatedArenas/220310_LeftRew_OrangeRew/Ctrl/Test_Starved_noWater/131701_s0a0_p0-0/Ctrl_Starved_noWater_p0-0_80fps_Trimmed_tracked.csv\n"
     ]
    },
    {
     "name": "stderr",
     "output_type": "stream",
     "text": [
      "/var/folders/3v/_y6xq12x6l96bm2kp__gv6z40000gn/T/ipykernel_7009/3704256551.py:13: SettingWithCopyWarning: \n",
      "A value is trying to be set on a copy of a slice from a DataFrame\n",
      "\n",
      "See the caveats in the documentation: https://pandas.pydata.org/pandas-docs/stable/user_guide/indexing.html#returning-a-view-versus-a-copy\n",
      "  data['ReverseX'].loc[data.frame == frame] = data['pos_x'].loc[data.frame == frame] \\\n"
     ]
    },
    {
     "name": "stdout",
     "output_type": "stream",
     "text": [
      "/Volumes/Ramdya-Lab/DURRIEU_Matthias/Experimental_data/MultiSensory_Project/GatedArenas/220310_LeftRew_OrangeRew/Trained/Test_Starved_noWater/093237_s0a0_p0-0/Trained_Starved_noWater_p0-0_80fps_Trimmed_tracked.csv\n"
     ]
    },
    {
     "name": "stderr",
     "output_type": "stream",
     "text": [
      "/var/folders/3v/_y6xq12x6l96bm2kp__gv6z40000gn/T/ipykernel_7009/3704256551.py:13: SettingWithCopyWarning: \n",
      "A value is trying to be set on a copy of a slice from a DataFrame\n",
      "\n",
      "See the caveats in the documentation: https://pandas.pydata.org/pandas-docs/stable/user_guide/indexing.html#returning-a-view-versus-a-copy\n",
      "  data['ReverseX'].loc[data.frame == frame] = data['pos_x'].loc[data.frame == frame] \\\n"
     ]
    },
    {
     "name": "stdout",
     "output_type": "stream",
     "text": [
      "/Volumes/Ramdya-Lab/DURRIEU_Matthias/Experimental_data/MultiSensory_Project/GatedArenas/220310_LeftRew_OrangeRew/Trained/Test_Starved_noWater/102528_s0a0_p0-0/Trained_Starved_noWater_p0-0_80fps_Trimmed_tracked.csv\n"
     ]
    },
    {
     "name": "stderr",
     "output_type": "stream",
     "text": [
      "/var/folders/3v/_y6xq12x6l96bm2kp__gv6z40000gn/T/ipykernel_7009/3704256551.py:13: SettingWithCopyWarning: \n",
      "A value is trying to be set on a copy of a slice from a DataFrame\n",
      "\n",
      "See the caveats in the documentation: https://pandas.pydata.org/pandas-docs/stable/user_guide/indexing.html#returning-a-view-versus-a-copy\n",
      "  data['ReverseX'].loc[data.frame == frame] = data['pos_x'].loc[data.frame == frame] \\\n"
     ]
    },
    {
     "name": "stdout",
     "output_type": "stream",
     "text": [
      "/Volumes/Ramdya-Lab/DURRIEU_Matthias/Experimental_data/MultiSensory_Project/GatedArenas/220310_LeftRew_OrangeRew/Trained/Test_Starved_noWater/112924_s0a0_p0-0/Trained_Starved_noWater_p0-0_80fps_Trimmed_tracked.csv\n"
     ]
    },
    {
     "name": "stderr",
     "output_type": "stream",
     "text": [
      "/var/folders/3v/_y6xq12x6l96bm2kp__gv6z40000gn/T/ipykernel_7009/3704256551.py:13: SettingWithCopyWarning: \n",
      "A value is trying to be set on a copy of a slice from a DataFrame\n",
      "\n",
      "See the caveats in the documentation: https://pandas.pydata.org/pandas-docs/stable/user_guide/indexing.html#returning-a-view-versus-a-copy\n",
      "  data['ReverseX'].loc[data.frame == frame] = data['pos_x'].loc[data.frame == frame] \\\n"
     ]
    },
    {
     "name": "stdout",
     "output_type": "stream",
     "text": [
      "/Volumes/Ramdya-Lab/DURRIEU_Matthias/Experimental_data/MultiSensory_Project/GatedArenas/220310_LeftRew_OrangeRew/Trained/Test_Starved_noWater/123652_s0a0_p0-0/Trained_Starved_noWater_p0-0_80fps_Trimmed_tracked.csv\n"
     ]
    },
    {
     "name": "stderr",
     "output_type": "stream",
     "text": [
      "/var/folders/3v/_y6xq12x6l96bm2kp__gv6z40000gn/T/ipykernel_7009/3704256551.py:13: SettingWithCopyWarning: \n",
      "A value is trying to be set on a copy of a slice from a DataFrame\n",
      "\n",
      "See the caveats in the documentation: https://pandas.pydata.org/pandas-docs/stable/user_guide/indexing.html#returning-a-view-versus-a-copy\n",
      "  data['ReverseX'].loc[data.frame == frame] = data['pos_x'].loc[data.frame == frame] \\\n"
     ]
    },
    {
     "name": "stdout",
     "output_type": "stream",
     "text": [
      "/Volumes/Ramdya-Lab/DURRIEU_Matthias/Experimental_data/MultiSensory_Project/GatedArenas/220310_LeftRew_OrangeRew/Trained/Test_Starved_noWater/133224_s0a0_p0-0/Trained_Starved_noWater_p0-0_80fps_Trimmed_tracked.csv\n"
     ]
    },
    {
     "name": "stderr",
     "output_type": "stream",
     "text": [
      "/var/folders/3v/_y6xq12x6l96bm2kp__gv6z40000gn/T/ipykernel_7009/3704256551.py:13: SettingWithCopyWarning: \n",
      "A value is trying to be set on a copy of a slice from a DataFrame\n",
      "\n",
      "See the caveats in the documentation: https://pandas.pydata.org/pandas-docs/stable/user_guide/indexing.html#returning-a-view-versus-a-copy\n",
      "  data['ReverseX'].loc[data.frame == frame] = data['pos_x'].loc[data.frame == frame] \\\n"
     ]
    },
    {
     "name": "stdout",
     "output_type": "stream",
     "text": [
      "/Volumes/Ramdya-Lab/DURRIEU_Matthias/Experimental_data/MultiSensory_Project/GatedArenas/220310_LeftRew_OrangeRew/Trained/Test_Starved_noWater/140733_s0a0_p0-0/Trained_Starved_noWater_p0-0_80fps_Trimmed_tracked.csv\n"
     ]
    },
    {
     "name": "stderr",
     "output_type": "stream",
     "text": [
      "/var/folders/3v/_y6xq12x6l96bm2kp__gv6z40000gn/T/ipykernel_7009/3704256551.py:13: SettingWithCopyWarning: \n",
      "A value is trying to be set on a copy of a slice from a DataFrame\n",
      "\n",
      "See the caveats in the documentation: https://pandas.pydata.org/pandas-docs/stable/user_guide/indexing.html#returning-a-view-versus-a-copy\n",
      "  data['ReverseX'].loc[data.frame == frame] = data['pos_x'].loc[data.frame == frame] \\\n"
     ]
    },
    {
     "name": "stdout",
     "output_type": "stream",
     "text": [
      "/Volumes/Ramdya-Lab/DURRIEU_Matthias/Experimental_data/MultiSensory_Project/GatedArenas/220304_LeftRew_BlueRew/Ctrl/Test_Starved_noWater/220304/111346_s0a0_p0-0/Ctrl_Starved_noWater_p0-0_80fps_Trimmed_tracked.csv\n"
     ]
    },
    {
     "name": "stderr",
     "output_type": "stream",
     "text": [
      "/var/folders/3v/_y6xq12x6l96bm2kp__gv6z40000gn/T/ipykernel_7009/3704256551.py:13: SettingWithCopyWarning: \n",
      "A value is trying to be set on a copy of a slice from a DataFrame\n",
      "\n",
      "See the caveats in the documentation: https://pandas.pydata.org/pandas-docs/stable/user_guide/indexing.html#returning-a-view-versus-a-copy\n",
      "  data['ReverseX'].loc[data.frame == frame] = data['pos_x'].loc[data.frame == frame] \\\n"
     ]
    },
    {
     "name": "stdout",
     "output_type": "stream",
     "text": [
      "/Volumes/Ramdya-Lab/DURRIEU_Matthias/Experimental_data/MultiSensory_Project/GatedArenas/220304_LeftRew_BlueRew/Ctrl/Test_Starved_noWater/220304/133752_s0a0_p0-0/Ctrl_Starved_noWater_p0-0_80fps_Trimmed_tracked.csv\n"
     ]
    },
    {
     "name": "stderr",
     "output_type": "stream",
     "text": [
      "/var/folders/3v/_y6xq12x6l96bm2kp__gv6z40000gn/T/ipykernel_7009/3704256551.py:13: SettingWithCopyWarning: \n",
      "A value is trying to be set on a copy of a slice from a DataFrame\n",
      "\n",
      "See the caveats in the documentation: https://pandas.pydata.org/pandas-docs/stable/user_guide/indexing.html#returning-a-view-versus-a-copy\n",
      "  data['ReverseX'].loc[data.frame == frame] = data['pos_x'].loc[data.frame == frame] \\\n"
     ]
    },
    {
     "name": "stdout",
     "output_type": "stream",
     "text": [
      "/Volumes/Ramdya-Lab/DURRIEU_Matthias/Experimental_data/MultiSensory_Project/GatedArenas/220304_LeftRew_BlueRew/Ctrl/Test_Starved_noWater/220304/142838_s0a0_p0-0/Ctrl_Starved_noWater_p0-0_80fps_Trimmed_tracked.csv\n"
     ]
    },
    {
     "name": "stderr",
     "output_type": "stream",
     "text": [
      "/var/folders/3v/_y6xq12x6l96bm2kp__gv6z40000gn/T/ipykernel_7009/3704256551.py:13: SettingWithCopyWarning: \n",
      "A value is trying to be set on a copy of a slice from a DataFrame\n",
      "\n",
      "See the caveats in the documentation: https://pandas.pydata.org/pandas-docs/stable/user_guide/indexing.html#returning-a-view-versus-a-copy\n",
      "  data['ReverseX'].loc[data.frame == frame] = data['pos_x'].loc[data.frame == frame] \\\n"
     ]
    },
    {
     "name": "stdout",
     "output_type": "stream",
     "text": [
      "/Volumes/Ramdya-Lab/DURRIEU_Matthias/Experimental_data/MultiSensory_Project/GatedArenas/220304_LeftRew_BlueRew/Trained/Starved_noWater/220304/112821_s0a0_p0-0/Trained_Starved_noWater_p0-0_80fps_Trimmed_tracked.csv\n"
     ]
    },
    {
     "name": "stderr",
     "output_type": "stream",
     "text": [
      "/var/folders/3v/_y6xq12x6l96bm2kp__gv6z40000gn/T/ipykernel_7009/3704256551.py:13: SettingWithCopyWarning: \n",
      "A value is trying to be set on a copy of a slice from a DataFrame\n",
      "\n",
      "See the caveats in the documentation: https://pandas.pydata.org/pandas-docs/stable/user_guide/indexing.html#returning-a-view-versus-a-copy\n",
      "  data['ReverseX'].loc[data.frame == frame] = data['pos_x'].loc[data.frame == frame] \\\n"
     ]
    },
    {
     "name": "stdout",
     "output_type": "stream",
     "text": [
      "/Volumes/Ramdya-Lab/DURRIEU_Matthias/Experimental_data/MultiSensory_Project/GatedArenas/220304_LeftRew_BlueRew/Trained/Starved_noWater/220304/134947_s0a0_p0-0/Trained_Starved_noWater_p0-0_80fps_Trimmed_tracked.csv\n"
     ]
    },
    {
     "name": "stderr",
     "output_type": "stream",
     "text": [
      "/var/folders/3v/_y6xq12x6l96bm2kp__gv6z40000gn/T/ipykernel_7009/3704256551.py:13: SettingWithCopyWarning: \n",
      "A value is trying to be set on a copy of a slice from a DataFrame\n",
      "\n",
      "See the caveats in the documentation: https://pandas.pydata.org/pandas-docs/stable/user_guide/indexing.html#returning-a-view-versus-a-copy\n",
      "  data['ReverseX'].loc[data.frame == frame] = data['pos_x'].loc[data.frame == frame] \\\n"
     ]
    },
    {
     "name": "stdout",
     "output_type": "stream",
     "text": [
      "/Volumes/Ramdya-Lab/DURRIEU_Matthias/Experimental_data/MultiSensory_Project/GatedArenas/220304_LeftRew_BlueRew/Trained/Starved_noWater/220304/144546_s0a0_p0-0/Trained_Starved_noWater_p0-0_80fps_Trimmed_tracked.csv\n"
     ]
    },
    {
     "name": "stderr",
     "output_type": "stream",
     "text": [
      "/var/folders/3v/_y6xq12x6l96bm2kp__gv6z40000gn/T/ipykernel_7009/3704256551.py:13: SettingWithCopyWarning: \n",
      "A value is trying to be set on a copy of a slice from a DataFrame\n",
      "\n",
      "See the caveats in the documentation: https://pandas.pydata.org/pandas-docs/stable/user_guide/indexing.html#returning-a-view-versus-a-copy\n",
      "  data['ReverseX'].loc[data.frame == frame] = data['pos_x'].loc[data.frame == frame] \\\n"
     ]
    },
    {
     "name": "stdout",
     "output_type": "stream",
     "text": [
      "/Volumes/Ramdya-Lab/DURRIEU_Matthias/Experimental_data/MultiSensory_Project/GatedArenas/220728_BlueRew/Ctrl_Food/Test_Starved_noWater/220728/121539_s0a0_p1-0_LeftRew/Ctrl_Food_Starved_noWater_p1-0_80fps_Trimmed_tracked.csv\n"
     ]
    },
    {
     "name": "stderr",
     "output_type": "stream",
     "text": [
      "/var/folders/3v/_y6xq12x6l96bm2kp__gv6z40000gn/T/ipykernel_7009/3704256551.py:13: SettingWithCopyWarning: \n",
      "A value is trying to be set on a copy of a slice from a DataFrame\n",
      "\n",
      "See the caveats in the documentation: https://pandas.pydata.org/pandas-docs/stable/user_guide/indexing.html#returning-a-view-versus-a-copy\n",
      "  data['ReverseX'].loc[data.frame == frame] = data['pos_x'].loc[data.frame == frame] \\\n"
     ]
    },
    {
     "name": "stdout",
     "output_type": "stream",
     "text": [
      "/Volumes/Ramdya-Lab/DURRIEU_Matthias/Experimental_data/MultiSensory_Project/GatedArenas/220728_BlueRew/Ctrl_Food/Test_Starved_noWater/220728/100846_s0a0_p1-0_LeftRew/Ctrl_Food_Starved_noWater_p1-0_80fps_Trimmed_tracked.csv\n"
     ]
    },
    {
     "name": "stderr",
     "output_type": "stream",
     "text": [
      "/var/folders/3v/_y6xq12x6l96bm2kp__gv6z40000gn/T/ipykernel_7009/3704256551.py:13: SettingWithCopyWarning: \n",
      "A value is trying to be set on a copy of a slice from a DataFrame\n",
      "\n",
      "See the caveats in the documentation: https://pandas.pydata.org/pandas-docs/stable/user_guide/indexing.html#returning-a-view-versus-a-copy\n",
      "  data['ReverseX'].loc[data.frame == frame] = data['pos_x'].loc[data.frame == frame] \\\n"
     ]
    },
    {
     "name": "stdout",
     "output_type": "stream",
     "text": [
      "/Volumes/Ramdya-Lab/DURRIEU_Matthias/Experimental_data/MultiSensory_Project/GatedArenas/220728_BlueRew/Ctrl_Food/Test_Starved_noWater/220728/122600_s0a0_p1-0_LeftRew/Ctrl_Food_Starved_noWater_p1-0_80fps_Trimmed_tracked.csv\n"
     ]
    },
    {
     "name": "stderr",
     "output_type": "stream",
     "text": [
      "/var/folders/3v/_y6xq12x6l96bm2kp__gv6z40000gn/T/ipykernel_7009/3704256551.py:13: SettingWithCopyWarning: \n",
      "A value is trying to be set on a copy of a slice from a DataFrame\n",
      "\n",
      "See the caveats in the documentation: https://pandas.pydata.org/pandas-docs/stable/user_guide/indexing.html#returning-a-view-versus-a-copy\n",
      "  data['ReverseX'].loc[data.frame == frame] = data['pos_x'].loc[data.frame == frame] \\\n"
     ]
    },
    {
     "name": "stdout",
     "output_type": "stream",
     "text": [
      "/Volumes/Ramdya-Lab/DURRIEU_Matthias/Experimental_data/MultiSensory_Project/GatedArenas/220728_BlueRew/Ctrl_Food/Test_Starved_noWater/220728/113352_s0a0_p1-0_RightRew/Ctrl_Food_Starved_noWater_p1-0_80fps_Trimmed_tracked.csv\n"
     ]
    },
    {
     "name": "stderr",
     "output_type": "stream",
     "text": [
      "/var/folders/3v/_y6xq12x6l96bm2kp__gv6z40000gn/T/ipykernel_7009/3704256551.py:13: SettingWithCopyWarning: \n",
      "A value is trying to be set on a copy of a slice from a DataFrame\n",
      "\n",
      "See the caveats in the documentation: https://pandas.pydata.org/pandas-docs/stable/user_guide/indexing.html#returning-a-view-versus-a-copy\n",
      "  data['ReverseX'].loc[data.frame == frame] = data['pos_x'].loc[data.frame == frame] \\\n"
     ]
    },
    {
     "name": "stdout",
     "output_type": "stream",
     "text": [
      "/Volumes/Ramdya-Lab/DURRIEU_Matthias/Experimental_data/MultiSensory_Project/GatedArenas/220728_BlueRew/Ctrl_Food/Test_Starved_noWater/220728/105656_s0a0_p1-0_RightRew/Ctrl_Food_Starved_noWater_p1-0_80fps_Trimmed_tracked.csv\n"
     ]
    },
    {
     "name": "stderr",
     "output_type": "stream",
     "text": [
      "/var/folders/3v/_y6xq12x6l96bm2kp__gv6z40000gn/T/ipykernel_7009/3704256551.py:13: SettingWithCopyWarning: \n",
      "A value is trying to be set on a copy of a slice from a DataFrame\n",
      "\n",
      "See the caveats in the documentation: https://pandas.pydata.org/pandas-docs/stable/user_guide/indexing.html#returning-a-view-versus-a-copy\n",
      "  data['ReverseX'].loc[data.frame == frame] = data['pos_x'].loc[data.frame == frame] \\\n"
     ]
    },
    {
     "name": "stdout",
     "output_type": "stream",
     "text": [
      "/Volumes/Ramdya-Lab/DURRIEU_Matthias/Experimental_data/MultiSensory_Project/GatedArenas/220728_BlueRew/Ctrl_Food/Test_Starved_noWater/220728/114416_s0a0_p1-0_RightRew/Ctrl_Food_Starved_noWater_p1-0_80fps_Trimmed_tracked.csv\n"
     ]
    },
    {
     "name": "stderr",
     "output_type": "stream",
     "text": [
      "/var/folders/3v/_y6xq12x6l96bm2kp__gv6z40000gn/T/ipykernel_7009/3704256551.py:13: SettingWithCopyWarning: \n",
      "A value is trying to be set on a copy of a slice from a DataFrame\n",
      "\n",
      "See the caveats in the documentation: https://pandas.pydata.org/pandas-docs/stable/user_guide/indexing.html#returning-a-view-versus-a-copy\n",
      "  data['ReverseX'].loc[data.frame == frame] = data['pos_x'].loc[data.frame == frame] \\\n"
     ]
    },
    {
     "name": "stdout",
     "output_type": "stream",
     "text": [
      "/Volumes/Ramdya-Lab/DURRIEU_Matthias/Experimental_data/MultiSensory_Project/GatedArenas/220728_BlueRew/Ctrl_Food/Test_Starved_noWater/220728/104620_s0a0_p1-0_RightRew/Ctrl_Food_Starved_noWater_p1-0_80fps_Trimmed_tracked.csv\n"
     ]
    },
    {
     "name": "stderr",
     "output_type": "stream",
     "text": [
      "/var/folders/3v/_y6xq12x6l96bm2kp__gv6z40000gn/T/ipykernel_7009/3704256551.py:13: SettingWithCopyWarning: \n",
      "A value is trying to be set on a copy of a slice from a DataFrame\n",
      "\n",
      "See the caveats in the documentation: https://pandas.pydata.org/pandas-docs/stable/user_guide/indexing.html#returning-a-view-versus-a-copy\n",
      "  data['ReverseX'].loc[data.frame == frame] = data['pos_x'].loc[data.frame == frame] \\\n"
     ]
    },
    {
     "name": "stdout",
     "output_type": "stream",
     "text": [
      "/Volumes/Ramdya-Lab/DURRIEU_Matthias/Experimental_data/MultiSensory_Project/GatedArenas/220728_BlueRew/Ctrl_Food/Test_Starved_noWater/220728/095807_s0a0_p1-0_LeftRew/Ctrl_Food_Starved_noWater_p1-0_80fps_Corr_Trimmed_tracked.csv\n"
     ]
    },
    {
     "name": "stderr",
     "output_type": "stream",
     "text": [
      "/var/folders/3v/_y6xq12x6l96bm2kp__gv6z40000gn/T/ipykernel_7009/3704256551.py:13: SettingWithCopyWarning: \n",
      "A value is trying to be set on a copy of a slice from a DataFrame\n",
      "\n",
      "See the caveats in the documentation: https://pandas.pydata.org/pandas-docs/stable/user_guide/indexing.html#returning-a-view-versus-a-copy\n",
      "  data['ReverseX'].loc[data.frame == frame] = data['pos_x'].loc[data.frame == frame] \\\n"
     ]
    },
    {
     "name": "stdout",
     "output_type": "stream",
     "text": [
      "/Volumes/Ramdya-Lab/DURRIEU_Matthias/Experimental_data/MultiSensory_Project/GatedArenas/220728_BlueRew/Trained_Food/Test_Starved_noWater/220728/115453_s0a0_p1-0_RightRew/Trained_Food_Starved_noWater_p1-0_80fps_Trimmed_tracked.csv\n"
     ]
    },
    {
     "name": "stderr",
     "output_type": "stream",
     "text": [
      "/var/folders/3v/_y6xq12x6l96bm2kp__gv6z40000gn/T/ipykernel_7009/3704256551.py:13: SettingWithCopyWarning: \n",
      "A value is trying to be set on a copy of a slice from a DataFrame\n",
      "\n",
      "See the caveats in the documentation: https://pandas.pydata.org/pandas-docs/stable/user_guide/indexing.html#returning-a-view-versus-a-copy\n",
      "  data['ReverseX'].loc[data.frame == frame] = data['pos_x'].loc[data.frame == frame] \\\n"
     ]
    },
    {
     "name": "stdout",
     "output_type": "stream",
     "text": [
      "/Volumes/Ramdya-Lab/DURRIEU_Matthias/Experimental_data/MultiSensory_Project/GatedArenas/220728_BlueRew/Trained_Food/Test_Starved_noWater/220728/111745_s0a0_p1-0_RightRew/Trained_Food_Starved_noWater_p1-0_80fps_Trimmed_tracked.csv\n"
     ]
    },
    {
     "name": "stderr",
     "output_type": "stream",
     "text": [
      "/var/folders/3v/_y6xq12x6l96bm2kp__gv6z40000gn/T/ipykernel_7009/3704256551.py:13: SettingWithCopyWarning: \n",
      "A value is trying to be set on a copy of a slice from a DataFrame\n",
      "\n",
      "See the caveats in the documentation: https://pandas.pydata.org/pandas-docs/stable/user_guide/indexing.html#returning-a-view-versus-a-copy\n",
      "  data['ReverseX'].loc[data.frame == frame] = data['pos_x'].loc[data.frame == frame] \\\n"
     ]
    },
    {
     "name": "stdout",
     "output_type": "stream",
     "text": [
      "/Volumes/Ramdya-Lab/DURRIEU_Matthias/Experimental_data/MultiSensory_Project/GatedArenas/220728_BlueRew/Trained_Food/Test_Starved_noWater/220728/120516_s0a0_p1-0_LeftRew/Trained_Food_Starved_noWater_p1-0_80fps_Trimmed_tracked.csv\n"
     ]
    },
    {
     "name": "stderr",
     "output_type": "stream",
     "text": [
      "/var/folders/3v/_y6xq12x6l96bm2kp__gv6z40000gn/T/ipykernel_7009/3704256551.py:13: SettingWithCopyWarning: \n",
      "A value is trying to be set on a copy of a slice from a DataFrame\n",
      "\n",
      "See the caveats in the documentation: https://pandas.pydata.org/pandas-docs/stable/user_guide/indexing.html#returning-a-view-versus-a-copy\n",
      "  data['ReverseX'].loc[data.frame == frame] = data['pos_x'].loc[data.frame == frame] \\\n"
     ]
    },
    {
     "name": "stdout",
     "output_type": "stream",
     "text": [
      "/Volumes/Ramdya-Lab/DURRIEU_Matthias/Experimental_data/MultiSensory_Project/GatedArenas/220728_BlueRew/Trained_Food/Test_Starved_noWater/220728/101917_s0a0_p1-0_LeftRew/Trained_Food_Starved_noWater_p1-0_80fps_Corr_Trimmed_tracked.csv\n"
     ]
    },
    {
     "name": "stderr",
     "output_type": "stream",
     "text": [
      "/var/folders/3v/_y6xq12x6l96bm2kp__gv6z40000gn/T/ipykernel_7009/3704256551.py:13: SettingWithCopyWarning: \n",
      "A value is trying to be set on a copy of a slice from a DataFrame\n",
      "\n",
      "See the caveats in the documentation: https://pandas.pydata.org/pandas-docs/stable/user_guide/indexing.html#returning-a-view-versus-a-copy\n",
      "  data['ReverseX'].loc[data.frame == frame] = data['pos_x'].loc[data.frame == frame] \\\n"
     ]
    },
    {
     "name": "stdout",
     "output_type": "stream",
     "text": [
      "/Volumes/Ramdya-Lab/DURRIEU_Matthias/Experimental_data/MultiSensory_Project/GatedArenas/220728_BlueRew/Trained_Food/Test_Starved_noWater/220728/110723_s0a0_p1-0_RightRew/Trained_Food_Starved_noWater_p1-0_80fps_Trimmed_tracked.csv\n"
     ]
    },
    {
     "name": "stderr",
     "output_type": "stream",
     "text": [
      "/var/folders/3v/_y6xq12x6l96bm2kp__gv6z40000gn/T/ipykernel_7009/3704256551.py:13: SettingWithCopyWarning: \n",
      "A value is trying to be set on a copy of a slice from a DataFrame\n",
      "\n",
      "See the caveats in the documentation: https://pandas.pydata.org/pandas-docs/stable/user_guide/indexing.html#returning-a-view-versus-a-copy\n",
      "  data['ReverseX'].loc[data.frame == frame] = data['pos_x'].loc[data.frame == frame] \\\n"
     ]
    },
    {
     "name": "stdout",
     "output_type": "stream",
     "text": [
      "/Volumes/Ramdya-Lab/DURRIEU_Matthias/Experimental_data/MultiSensory_Project/GatedArenas/220728_BlueRew/Trained_Food/Test_Starved_noWater/220728/094736_s0a0_p1-0_LeftRew/Trained_Food_Starved_noWater_p1-0_80fps_Trimmed_tracked.csv\n"
     ]
    },
    {
     "name": "stderr",
     "output_type": "stream",
     "text": [
      "/var/folders/3v/_y6xq12x6l96bm2kp__gv6z40000gn/T/ipykernel_7009/3704256551.py:13: SettingWithCopyWarning: \n",
      "A value is trying to be set on a copy of a slice from a DataFrame\n",
      "\n",
      "See the caveats in the documentation: https://pandas.pydata.org/pandas-docs/stable/user_guide/indexing.html#returning-a-view-versus-a-copy\n",
      "  data['ReverseX'].loc[data.frame == frame] = data['pos_x'].loc[data.frame == frame] \\\n"
     ]
    },
    {
     "name": "stdout",
     "output_type": "stream",
     "text": [
      "/Volumes/Ramdya-Lab/DURRIEU_Matthias/Experimental_data/MultiSensory_Project/GatedArenas/220729_BlueRew/Trained_Food/Test_Starved_noWater/220729/091150_s0a0_p1-0_LeftRew/Trained_Food_Starved_noWater_p1-0_80fps_Trimmed_tracked.csv\n"
     ]
    },
    {
     "name": "stderr",
     "output_type": "stream",
     "text": [
      "/var/folders/3v/_y6xq12x6l96bm2kp__gv6z40000gn/T/ipykernel_7009/3704256551.py:13: SettingWithCopyWarning: \n",
      "A value is trying to be set on a copy of a slice from a DataFrame\n",
      "\n",
      "See the caveats in the documentation: https://pandas.pydata.org/pandas-docs/stable/user_guide/indexing.html#returning-a-view-versus-a-copy\n",
      "  data['ReverseX'].loc[data.frame == frame] = data['pos_x'].loc[data.frame == frame] \\\n"
     ]
    },
    {
     "name": "stdout",
     "output_type": "stream",
     "text": [
      "/Volumes/Ramdya-Lab/DURRIEU_Matthias/Experimental_data/MultiSensory_Project/GatedArenas/220729_BlueRew/Trained_Food/Test_Starved_noWater/220729/104700_s0a0_p1-0_LeftRew/Trained_Food_Starved_noWater_p1-0_80fps_Trimmed_tracked.csv\n"
     ]
    },
    {
     "name": "stderr",
     "output_type": "stream",
     "text": [
      "/var/folders/3v/_y6xq12x6l96bm2kp__gv6z40000gn/T/ipykernel_7009/3704256551.py:13: SettingWithCopyWarning: \n",
      "A value is trying to be set on a copy of a slice from a DataFrame\n",
      "\n",
      "See the caveats in the documentation: https://pandas.pydata.org/pandas-docs/stable/user_guide/indexing.html#returning-a-view-versus-a-copy\n",
      "  data['ReverseX'].loc[data.frame == frame] = data['pos_x'].loc[data.frame == frame] \\\n"
     ]
    },
    {
     "name": "stdout",
     "output_type": "stream",
     "text": [
      "/Volumes/Ramdya-Lab/DURRIEU_Matthias/Experimental_data/MultiSensory_Project/GatedArenas/220729_BlueRew/Trained_Food/Test_Starved_noWater/220729/101515_s0a0_p1-0_RightRew/Trained_Food_Starved_noWater_p1-0_80fps_Trimmed_tracked.csv\n"
     ]
    },
    {
     "name": "stderr",
     "output_type": "stream",
     "text": [
      "/var/folders/3v/_y6xq12x6l96bm2kp__gv6z40000gn/T/ipykernel_7009/3704256551.py:13: SettingWithCopyWarning: \n",
      "A value is trying to be set on a copy of a slice from a DataFrame\n",
      "\n",
      "See the caveats in the documentation: https://pandas.pydata.org/pandas-docs/stable/user_guide/indexing.html#returning-a-view-versus-a-copy\n",
      "  data['ReverseX'].loc[data.frame == frame] = data['pos_x'].loc[data.frame == frame] \\\n"
     ]
    },
    {
     "name": "stdout",
     "output_type": "stream",
     "text": [
      "/Volumes/Ramdya-Lab/DURRIEU_Matthias/Experimental_data/MultiSensory_Project/GatedArenas/220729_BlueRew/Trained_Food/Test_Starved_noWater/220729/094324_s0a0_p1-0_RightRew/Trained_Food_Starved_noWater_p1-0_80fps_Trimmed_tracked.csv\n"
     ]
    },
    {
     "name": "stderr",
     "output_type": "stream",
     "text": [
      "/var/folders/3v/_y6xq12x6l96bm2kp__gv6z40000gn/T/ipykernel_7009/3704256551.py:13: SettingWithCopyWarning: \n",
      "A value is trying to be set on a copy of a slice from a DataFrame\n",
      "\n",
      "See the caveats in the documentation: https://pandas.pydata.org/pandas-docs/stable/user_guide/indexing.html#returning-a-view-versus-a-copy\n",
      "  data['ReverseX'].loc[data.frame == frame] = data['pos_x'].loc[data.frame == frame] \\\n"
     ]
    },
    {
     "name": "stdout",
     "output_type": "stream",
     "text": [
      "/Volumes/Ramdya-Lab/DURRIEU_Matthias/Experimental_data/MultiSensory_Project/GatedArenas/220729_BlueRew/Trained_Food/Test_Starved_noWater/220729/084019_s0a0_p1-0_LeftRew/Trained_Food_Starved_noWater_p1-0_80fps_Trimmed_tracked.csv\n"
     ]
    },
    {
     "name": "stderr",
     "output_type": "stream",
     "text": [
      "/var/folders/3v/_y6xq12x6l96bm2kp__gv6z40000gn/T/ipykernel_7009/3704256551.py:13: SettingWithCopyWarning: \n",
      "A value is trying to be set on a copy of a slice from a DataFrame\n",
      "\n",
      "See the caveats in the documentation: https://pandas.pydata.org/pandas-docs/stable/user_guide/indexing.html#returning-a-view-versus-a-copy\n",
      "  data['ReverseX'].loc[data.frame == frame] = data['pos_x'].loc[data.frame == frame] \\\n"
     ]
    },
    {
     "name": "stdout",
     "output_type": "stream",
     "text": [
      "/Volumes/Ramdya-Lab/DURRIEU_Matthias/Experimental_data/MultiSensory_Project/GatedArenas/220729_BlueRew/Ctr_Food/Test_Starved_noWater/220729/100440_s0a0_p1-0_RightRew/Ctrl_Food_Starved_noWater_p1-0_80fps_Trimmed_tracked.csv\n"
     ]
    },
    {
     "name": "stderr",
     "output_type": "stream",
     "text": [
      "/var/folders/3v/_y6xq12x6l96bm2kp__gv6z40000gn/T/ipykernel_7009/3704256551.py:13: SettingWithCopyWarning: \n",
      "A value is trying to be set on a copy of a slice from a DataFrame\n",
      "\n",
      "See the caveats in the documentation: https://pandas.pydata.org/pandas-docs/stable/user_guide/indexing.html#returning-a-view-versus-a-copy\n",
      "  data['ReverseX'].loc[data.frame == frame] = data['pos_x'].loc[data.frame == frame] \\\n"
     ]
    },
    {
     "name": "stdout",
     "output_type": "stream",
     "text": [
      "/Volumes/Ramdya-Lab/DURRIEU_Matthias/Experimental_data/MultiSensory_Project/GatedArenas/220729_BlueRew/Ctr_Food/Test_Starved_noWater/220729/082926_s0a0_p1-0_LeftRew/Ctrl_Food_Starved_noWater_p1-0_80fps_Trimmed_tracked.csv\n"
     ]
    },
    {
     "name": "stderr",
     "output_type": "stream",
     "text": [
      "/var/folders/3v/_y6xq12x6l96bm2kp__gv6z40000gn/T/ipykernel_7009/3704256551.py:13: SettingWithCopyWarning: \n",
      "A value is trying to be set on a copy of a slice from a DataFrame\n",
      "\n",
      "See the caveats in the documentation: https://pandas.pydata.org/pandas-docs/stable/user_guide/indexing.html#returning-a-view-versus-a-copy\n",
      "  data['ReverseX'].loc[data.frame == frame] = data['pos_x'].loc[data.frame == frame] \\\n"
     ]
    },
    {
     "name": "stdout",
     "output_type": "stream",
     "text": [
      "/Volumes/Ramdya-Lab/DURRIEU_Matthias/Experimental_data/MultiSensory_Project/GatedArenas/220729_BlueRew/Ctr_Food/Test_Starved_noWater/220729/103621_s0a0_p1-0_LeftRew/Ctrl_Food_Starved_noWater_p1-0_80fps_Trimmed_tracked.csv\n"
     ]
    },
    {
     "name": "stderr",
     "output_type": "stream",
     "text": [
      "/var/folders/3v/_y6xq12x6l96bm2kp__gv6z40000gn/T/ipykernel_7009/3704256551.py:13: SettingWithCopyWarning: \n",
      "A value is trying to be set on a copy of a slice from a DataFrame\n",
      "\n",
      "See the caveats in the documentation: https://pandas.pydata.org/pandas-docs/stable/user_guide/indexing.html#returning-a-view-versus-a-copy\n",
      "  data['ReverseX'].loc[data.frame == frame] = data['pos_x'].loc[data.frame == frame] \\\n"
     ]
    },
    {
     "name": "stdout",
     "output_type": "stream",
     "text": [
      "/Volumes/Ramdya-Lab/DURRIEU_Matthias/Experimental_data/MultiSensory_Project/GatedArenas/220729_BlueRew/Ctr_Food/Test_Starved_noWater/220729/110820_s0a0_p1-0_LeftRew/Ctrl_Food_Starved_noWater_p1-0_80fps_Trimmed_tracked.csv\n"
     ]
    },
    {
     "name": "stderr",
     "output_type": "stream",
     "text": [
      "/var/folders/3v/_y6xq12x6l96bm2kp__gv6z40000gn/T/ipykernel_7009/3704256551.py:13: SettingWithCopyWarning: \n",
      "A value is trying to be set on a copy of a slice from a DataFrame\n",
      "\n",
      "See the caveats in the documentation: https://pandas.pydata.org/pandas-docs/stable/user_guide/indexing.html#returning-a-view-versus-a-copy\n",
      "  data['ReverseX'].loc[data.frame == frame] = data['pos_x'].loc[data.frame == frame] \\\n"
     ]
    },
    {
     "name": "stdout",
     "output_type": "stream",
     "text": [
      "/Volumes/Ramdya-Lab/DURRIEU_Matthias/Experimental_data/MultiSensory_Project/GatedArenas/220729_BlueRew/Ctr_Food/Test_Starved_noWater/220729/093253_s0a0_p1-0_RightRew/Ctrl_Food_Starved_noWater_p1-0_80fps_Trimmed_tracked.csv\n"
     ]
    },
    {
     "name": "stderr",
     "output_type": "stream",
     "text": [
      "/var/folders/3v/_y6xq12x6l96bm2kp__gv6z40000gn/T/ipykernel_7009/3704256551.py:13: SettingWithCopyWarning: \n",
      "A value is trying to be set on a copy of a slice from a DataFrame\n",
      "\n",
      "See the caveats in the documentation: https://pandas.pydata.org/pandas-docs/stable/user_guide/indexing.html#returning-a-view-versus-a-copy\n",
      "  data['ReverseX'].loc[data.frame == frame] = data['pos_x'].loc[data.frame == frame] \\\n"
     ]
    },
    {
     "name": "stdout",
     "output_type": "stream",
     "text": [
      "/Volumes/Ramdya-Lab/DURRIEU_Matthias/Experimental_data/MultiSensory_Project/GatedArenas/220729_BlueRew/Trained_Food_Starved_noWater/Test_Starved_noWater/220729/102545_s0a0_p1-0_RightRew/Trained_Food_Starved_noWater_Starved_noWater_p1-0_80fps_Trimmed_tracked.csv\n"
     ]
    },
    {
     "name": "stderr",
     "output_type": "stream",
     "text": [
      "/var/folders/3v/_y6xq12x6l96bm2kp__gv6z40000gn/T/ipykernel_7009/3704256551.py:13: SettingWithCopyWarning: \n",
      "A value is trying to be set on a copy of a slice from a DataFrame\n",
      "\n",
      "See the caveats in the documentation: https://pandas.pydata.org/pandas-docs/stable/user_guide/indexing.html#returning-a-view-versus-a-copy\n",
      "  data['ReverseX'].loc[data.frame == frame] = data['pos_x'].loc[data.frame == frame] \\\n"
     ]
    },
    {
     "name": "stdout",
     "output_type": "stream",
     "text": [
      "/Volumes/Ramdya-Lab/DURRIEU_Matthias/Experimental_data/MultiSensory_Project/GatedArenas/220729_BlueRew/Trained_Food_Starved_noWater/Test_Starved_noWater/220729/085056_s0a0_p1-0_LeftRew/Trained_Food_Starved_noWater_Starved_noWater_p1-0_80fps_Trimmed_tracked.csv\n"
     ]
    },
    {
     "name": "stderr",
     "output_type": "stream",
     "text": [
      "/var/folders/3v/_y6xq12x6l96bm2kp__gv6z40000gn/T/ipykernel_7009/3704256551.py:13: SettingWithCopyWarning: \n",
      "A value is trying to be set on a copy of a slice from a DataFrame\n",
      "\n",
      "See the caveats in the documentation: https://pandas.pydata.org/pandas-docs/stable/user_guide/indexing.html#returning-a-view-versus-a-copy\n",
      "  data['ReverseX'].loc[data.frame == frame] = data['pos_x'].loc[data.frame == frame] \\\n"
     ]
    },
    {
     "name": "stdout",
     "output_type": "stream",
     "text": [
      "/Volumes/Ramdya-Lab/DURRIEU_Matthias/Experimental_data/MultiSensory_Project/GatedArenas/220729_BlueRew/Trained_Food_Starved_noWater/Test_Starved_noWater/220729/092225_s0a0_p1-0_LeftRew/Trained_Food_Starved_noWater_Starved_noWater_p1-0_80fps_Trimmed_tracked.csv\n"
     ]
    },
    {
     "name": "stderr",
     "output_type": "stream",
     "text": [
      "/var/folders/3v/_y6xq12x6l96bm2kp__gv6z40000gn/T/ipykernel_7009/3704256551.py:13: SettingWithCopyWarning: \n",
      "A value is trying to be set on a copy of a slice from a DataFrame\n",
      "\n",
      "See the caveats in the documentation: https://pandas.pydata.org/pandas-docs/stable/user_guide/indexing.html#returning-a-view-versus-a-copy\n",
      "  data['ReverseX'].loc[data.frame == frame] = data['pos_x'].loc[data.frame == frame] \\\n"
     ]
    },
    {
     "name": "stdout",
     "output_type": "stream",
     "text": [
      "/Volumes/Ramdya-Lab/DURRIEU_Matthias/Experimental_data/MultiSensory_Project/GatedArenas/220729_BlueRew/Trained_Food_Starved_noWater/Test_Starved_noWater/220729/095401_s0a0_p1-0_RightRew/Trained_Food_Starved_noWater_Starved_noWater_p1-0_80fps_Trimmed_tracked.csv\n"
     ]
    },
    {
     "name": "stderr",
     "output_type": "stream",
     "text": [
      "/var/folders/3v/_y6xq12x6l96bm2kp__gv6z40000gn/T/ipykernel_7009/3704256551.py:13: SettingWithCopyWarning: \n",
      "A value is trying to be set on a copy of a slice from a DataFrame\n",
      "\n",
      "See the caveats in the documentation: https://pandas.pydata.org/pandas-docs/stable/user_guide/indexing.html#returning-a-view-versus-a-copy\n",
      "  data['ReverseX'].loc[data.frame == frame] = data['pos_x'].loc[data.frame == frame] \\\n"
     ]
    },
    {
     "name": "stdout",
     "output_type": "stream",
     "text": [
      "/Volumes/Ramdya-Lab/DURRIEU_Matthias/Experimental_data/MultiSensory_Project/GatedArenas/220804/Ctrl_Food_OrangeRew/Test_Starved_noWater_RightRew/220804/110553_s0a0_p0-0/Ctrl_Food_OrangeRew_Test_Starved_noWater_RightRew_p0-0_80fps_Trimmed_tracked.csv\n"
     ]
    },
    {
     "name": "stderr",
     "output_type": "stream",
     "text": [
      "/var/folders/3v/_y6xq12x6l96bm2kp__gv6z40000gn/T/ipykernel_7009/3704256551.py:13: SettingWithCopyWarning: \n",
      "A value is trying to be set on a copy of a slice from a DataFrame\n",
      "\n",
      "See the caveats in the documentation: https://pandas.pydata.org/pandas-docs/stable/user_guide/indexing.html#returning-a-view-versus-a-copy\n",
      "  data['ReverseX'].loc[data.frame == frame] = data['pos_x'].loc[data.frame == frame] \\\n"
     ]
    },
    {
     "name": "stdout",
     "output_type": "stream",
     "text": [
      "/Volumes/Ramdya-Lab/DURRIEU_Matthias/Experimental_data/MultiSensory_Project/GatedArenas/220804/Ctrl_Food_OrangeRew/Test_Starved_noWater_RightRew/220804/103410_s0a0_p0-0/Ctrl_Food_OrangeRew_Test_Starved_noWater_RightRew_p0-0_80fps_Trimmed_tracked.csv\n"
     ]
    },
    {
     "name": "stderr",
     "output_type": "stream",
     "text": [
      "/var/folders/3v/_y6xq12x6l96bm2kp__gv6z40000gn/T/ipykernel_7009/3704256551.py:13: SettingWithCopyWarning: \n",
      "A value is trying to be set on a copy of a slice from a DataFrame\n",
      "\n",
      "See the caveats in the documentation: https://pandas.pydata.org/pandas-docs/stable/user_guide/indexing.html#returning-a-view-versus-a-copy\n",
      "  data['ReverseX'].loc[data.frame == frame] = data['pos_x'].loc[data.frame == frame] \\\n"
     ]
    },
    {
     "name": "stdout",
     "output_type": "stream",
     "text": [
      "/Volumes/Ramdya-Lab/DURRIEU_Matthias/Experimental_data/MultiSensory_Project/GatedArenas/220804/Ctrl_Food_OrangeRew/Test_Starved_noWater_RightRew/220804/102346_s0a0_p0-0/Ctrl_Food_OrangeRew_Test_Starved_noWater_RightRew_p0-0_80fps_Trimmed_tracked.csv\n"
     ]
    },
    {
     "name": "stderr",
     "output_type": "stream",
     "text": [
      "/var/folders/3v/_y6xq12x6l96bm2kp__gv6z40000gn/T/ipykernel_7009/3704256551.py:13: SettingWithCopyWarning: \n",
      "A value is trying to be set on a copy of a slice from a DataFrame\n",
      "\n",
      "See the caveats in the documentation: https://pandas.pydata.org/pandas-docs/stable/user_guide/indexing.html#returning-a-view-versus-a-copy\n",
      "  data['ReverseX'].loc[data.frame == frame] = data['pos_x'].loc[data.frame == frame] \\\n"
     ]
    },
    {
     "name": "stdout",
     "output_type": "stream",
     "text": [
      "/Volumes/Ramdya-Lab/DURRIEU_Matthias/Experimental_data/MultiSensory_Project/GatedArenas/220804/Ctrl_Food_OrangeRew/Test_Starved_noWater_RightRew/220804/095116_s0a0_p0-0/Ctrl_Food_OrangeRew_Test_Starved_noWater_RightRew_p0-0_80fps_Trimmed_tracked.csv\n"
     ]
    },
    {
     "name": "stderr",
     "output_type": "stream",
     "text": [
      "/var/folders/3v/_y6xq12x6l96bm2kp__gv6z40000gn/T/ipykernel_7009/3704256551.py:13: SettingWithCopyWarning: \n",
      "A value is trying to be set on a copy of a slice from a DataFrame\n",
      "\n",
      "See the caveats in the documentation: https://pandas.pydata.org/pandas-docs/stable/user_guide/indexing.html#returning-a-view-versus-a-copy\n",
      "  data['ReverseX'].loc[data.frame == frame] = data['pos_x'].loc[data.frame == frame] \\\n"
     ]
    },
    {
     "name": "stdout",
     "output_type": "stream",
     "text": [
      "/Volumes/Ramdya-Lab/DURRIEU_Matthias/Experimental_data/MultiSensory_Project/GatedArenas/220804/Ctrl_Food_OrangeRew/Test_Starved_noWater_LeftRew/220804/114732_s0a0_p0-0/Ctrl_Food_OrangeRew_Test_Starved_noWater_LeftRew_p0-0_80fps_Trimmed_tracked.csv\n"
     ]
    },
    {
     "name": "stderr",
     "output_type": "stream",
     "text": [
      "/var/folders/3v/_y6xq12x6l96bm2kp__gv6z40000gn/T/ipykernel_7009/3704256551.py:13: SettingWithCopyWarning: \n",
      "A value is trying to be set on a copy of a slice from a DataFrame\n",
      "\n",
      "See the caveats in the documentation: https://pandas.pydata.org/pandas-docs/stable/user_guide/indexing.html#returning-a-view-versus-a-copy\n",
      "  data['ReverseX'].loc[data.frame == frame] = data['pos_x'].loc[data.frame == frame] \\\n"
     ]
    },
    {
     "name": "stdout",
     "output_type": "stream",
     "text": [
      "/Volumes/Ramdya-Lab/DURRIEU_Matthias/Experimental_data/MultiSensory_Project/GatedArenas/220804/Ctrl_Food_OrangeRew/Test_Starved_noWater_LeftRew/220804/122931_s0a0_p0-0/Ctrl_Food_OrangeRew_Test_Starved_noWater_LeftRew_p0-0_80fps_Trimmed_tracked.csv\n"
     ]
    },
    {
     "name": "stderr",
     "output_type": "stream",
     "text": [
      "/var/folders/3v/_y6xq12x6l96bm2kp__gv6z40000gn/T/ipykernel_7009/3704256551.py:13: SettingWithCopyWarning: \n",
      "A value is trying to be set on a copy of a slice from a DataFrame\n",
      "\n",
      "See the caveats in the documentation: https://pandas.pydata.org/pandas-docs/stable/user_guide/indexing.html#returning-a-view-versus-a-copy\n",
      "  data['ReverseX'].loc[data.frame == frame] = data['pos_x'].loc[data.frame == frame] \\\n"
     ]
    },
    {
     "name": "stdout",
     "output_type": "stream",
     "text": [
      "/Volumes/Ramdya-Lab/DURRIEU_Matthias/Experimental_data/MultiSensory_Project/GatedArenas/220804/Ctrl_Food_OrangeRew/Test_Starved_noWater_LeftRew/220804/111619_s0a0_p0-0/Ctrl_Food_OrangeRew_Test_Starved_noWater_LeftRew_p0-0_80fps_Trimmed_tracked.csv\n"
     ]
    },
    {
     "name": "stderr",
     "output_type": "stream",
     "text": [
      "/var/folders/3v/_y6xq12x6l96bm2kp__gv6z40000gn/T/ipykernel_7009/3704256551.py:13: SettingWithCopyWarning: \n",
      "A value is trying to be set on a copy of a slice from a DataFrame\n",
      "\n",
      "See the caveats in the documentation: https://pandas.pydata.org/pandas-docs/stable/user_guide/indexing.html#returning-a-view-versus-a-copy\n",
      "  data['ReverseX'].loc[data.frame == frame] = data['pos_x'].loc[data.frame == frame] \\\n"
     ]
    },
    {
     "name": "stdout",
     "output_type": "stream",
     "text": [
      "/Volumes/Ramdya-Lab/DURRIEU_Matthias/Experimental_data/MultiSensory_Project/GatedArenas/220804/Ctrl_Food_OrangeRew/Test_Starved_noWater_LeftRew/220804/115757_s0a0_p0-0/Ctrl_Food_OrangeRew_Test_Starved_noWater_LeftRew_p0-0_80fps_Trimmed_tracked.csv\n"
     ]
    },
    {
     "name": "stderr",
     "output_type": "stream",
     "text": [
      "/var/folders/3v/_y6xq12x6l96bm2kp__gv6z40000gn/T/ipykernel_7009/3704256551.py:13: SettingWithCopyWarning: \n",
      "A value is trying to be set on a copy of a slice from a DataFrame\n",
      "\n",
      "See the caveats in the documentation: https://pandas.pydata.org/pandas-docs/stable/user_guide/indexing.html#returning-a-view-versus-a-copy\n",
      "  data['ReverseX'].loc[data.frame == frame] = data['pos_x'].loc[data.frame == frame] \\\n"
     ]
    },
    {
     "name": "stdout",
     "output_type": "stream",
     "text": [
      "/Volumes/Ramdya-Lab/DURRIEU_Matthias/Experimental_data/MultiSensory_Project/GatedArenas/220804/Trained_Food_OrangeRew/Test_Starved_noWater_RightRew/220804/101315_s0a0_p0-0/Trained_Food_OrangeRew_Test_Starved_noWater_RightRew_p0-0_80fps_Trimmed_tracked.csv\n"
     ]
    },
    {
     "name": "stderr",
     "output_type": "stream",
     "text": [
      "/var/folders/3v/_y6xq12x6l96bm2kp__gv6z40000gn/T/ipykernel_7009/3704256551.py:13: SettingWithCopyWarning: \n",
      "A value is trying to be set on a copy of a slice from a DataFrame\n",
      "\n",
      "See the caveats in the documentation: https://pandas.pydata.org/pandas-docs/stable/user_guide/indexing.html#returning-a-view-versus-a-copy\n",
      "  data['ReverseX'].loc[data.frame == frame] = data['pos_x'].loc[data.frame == frame] \\\n"
     ]
    },
    {
     "name": "stdout",
     "output_type": "stream",
     "text": [
      "/Volumes/Ramdya-Lab/DURRIEU_Matthias/Experimental_data/MultiSensory_Project/GatedArenas/220804/Trained_Food_OrangeRew/Test_Starved_noWater_RightRew/220804/100254_s0a0_p0-0/Trained_Food_OrangeRew_Test_Starved_noWater_RightRew_p0-0_80fps_Trimmed_tracked.csv\n"
     ]
    },
    {
     "name": "stderr",
     "output_type": "stream",
     "text": [
      "/var/folders/3v/_y6xq12x6l96bm2kp__gv6z40000gn/T/ipykernel_7009/3704256551.py:13: SettingWithCopyWarning: \n",
      "A value is trying to be set on a copy of a slice from a DataFrame\n",
      "\n",
      "See the caveats in the documentation: https://pandas.pydata.org/pandas-docs/stable/user_guide/indexing.html#returning-a-view-versus-a-copy\n",
      "  data['ReverseX'].loc[data.frame == frame] = data['pos_x'].loc[data.frame == frame] \\\n"
     ]
    },
    {
     "name": "stdout",
     "output_type": "stream",
     "text": [
      "/Volumes/Ramdya-Lab/DURRIEU_Matthias/Experimental_data/MultiSensory_Project/GatedArenas/220804/Trained_Food_OrangeRew/Test_Starved_noWater_RightRew/220804/104511_s0a0_p0-0/Trained_Food_OrangeRew_Test_Starved_noWater_RightRew_p0-0_80fps_Trimmed_tracked.csv\n"
     ]
    },
    {
     "name": "stderr",
     "output_type": "stream",
     "text": [
      "/var/folders/3v/_y6xq12x6l96bm2kp__gv6z40000gn/T/ipykernel_7009/3704256551.py:13: SettingWithCopyWarning: \n",
      "A value is trying to be set on a copy of a slice from a DataFrame\n",
      "\n",
      "See the caveats in the documentation: https://pandas.pydata.org/pandas-docs/stable/user_guide/indexing.html#returning-a-view-versus-a-copy\n",
      "  data['ReverseX'].loc[data.frame == frame] = data['pos_x'].loc[data.frame == frame] \\\n"
     ]
    },
    {
     "name": "stdout",
     "output_type": "stream",
     "text": [
      "/Volumes/Ramdya-Lab/DURRIEU_Matthias/Experimental_data/MultiSensory_Project/GatedArenas/220804/Trained_Food_OrangeRew/Test_Starved_noWater_RightRew/220804/105531_s0a0_p0-0/Trained_Food_OrangeRew_Test_Starved_noWater_RightRew_p0-0_80fps_Trimmed_tracked.csv\n"
     ]
    },
    {
     "name": "stderr",
     "output_type": "stream",
     "text": [
      "/var/folders/3v/_y6xq12x6l96bm2kp__gv6z40000gn/T/ipykernel_7009/3704256551.py:13: SettingWithCopyWarning: \n",
      "A value is trying to be set on a copy of a slice from a DataFrame\n",
      "\n",
      "See the caveats in the documentation: https://pandas.pydata.org/pandas-docs/stable/user_guide/indexing.html#returning-a-view-versus-a-copy\n",
      "  data['ReverseX'].loc[data.frame == frame] = data['pos_x'].loc[data.frame == frame] \\\n"
     ]
    },
    {
     "name": "stdout",
     "output_type": "stream",
     "text": [
      "/Volumes/Ramdya-Lab/DURRIEU_Matthias/Experimental_data/MultiSensory_Project/GatedArenas/220804/Trained_Food_OrangeRew/Test_Starved_noWater_LeftRew/220804/120820_s0a0_p0-0/Trained_Food_OrangeRew_Test_Starved_noWater_LeftRew_p0-0_80fps_Trimmed_tracked.csv\n"
     ]
    },
    {
     "name": "stderr",
     "output_type": "stream",
     "text": [
      "/var/folders/3v/_y6xq12x6l96bm2kp__gv6z40000gn/T/ipykernel_7009/3704256551.py:13: SettingWithCopyWarning: \n",
      "A value is trying to be set on a copy of a slice from a DataFrame\n",
      "\n",
      "See the caveats in the documentation: https://pandas.pydata.org/pandas-docs/stable/user_guide/indexing.html#returning-a-view-versus-a-copy\n",
      "  data['ReverseX'].loc[data.frame == frame] = data['pos_x'].loc[data.frame == frame] \\\n"
     ]
    },
    {
     "name": "stdout",
     "output_type": "stream",
     "text": [
      "/Volumes/Ramdya-Lab/DURRIEU_Matthias/Experimental_data/MultiSensory_Project/GatedArenas/220804/Trained_Food_OrangeRew/Test_Starved_noWater_LeftRew/220804/121841_s0a0_p0-0/Trained_Food_OrangeRew_Test_Starved_noWater_LeftRew_p0-0_80fps_Trimmed_tracked.csv\n"
     ]
    },
    {
     "name": "stderr",
     "output_type": "stream",
     "text": [
      "/var/folders/3v/_y6xq12x6l96bm2kp__gv6z40000gn/T/ipykernel_7009/3704256551.py:13: SettingWithCopyWarning: \n",
      "A value is trying to be set on a copy of a slice from a DataFrame\n",
      "\n",
      "See the caveats in the documentation: https://pandas.pydata.org/pandas-docs/stable/user_guide/indexing.html#returning-a-view-versus-a-copy\n",
      "  data['ReverseX'].loc[data.frame == frame] = data['pos_x'].loc[data.frame == frame] \\\n"
     ]
    },
    {
     "name": "stdout",
     "output_type": "stream",
     "text": [
      "/Volumes/Ramdya-Lab/DURRIEU_Matthias/Experimental_data/MultiSensory_Project/GatedArenas/220804/Trained_Food_OrangeRew/Test_Starved_noWater_LeftRew/220804/113705_s0a0_p0-0/Trained_Food_OrangeRew_Test_Starved_noWater_LeftRew_p0-0_80fps_Trimmed_tracked.csv\n"
     ]
    },
    {
     "name": "stderr",
     "output_type": "stream",
     "text": [
      "/var/folders/3v/_y6xq12x6l96bm2kp__gv6z40000gn/T/ipykernel_7009/3704256551.py:13: SettingWithCopyWarning: \n",
      "A value is trying to be set on a copy of a slice from a DataFrame\n",
      "\n",
      "See the caveats in the documentation: https://pandas.pydata.org/pandas-docs/stable/user_guide/indexing.html#returning-a-view-versus-a-copy\n",
      "  data['ReverseX'].loc[data.frame == frame] = data['pos_x'].loc[data.frame == frame] \\\n"
     ]
    },
    {
     "name": "stdout",
     "output_type": "stream",
     "text": [
      "/Volumes/Ramdya-Lab/DURRIEU_Matthias/Experimental_data/MultiSensory_Project/GatedArenas/220804/Trained_Food_OrangeRew/Test_Starved_noWater_LeftRew/220804/112647_s0a0_p0-0/Trained_Food_OrangeRew_Test_Starved_noWater_LeftRew_p0-0_80fps_Trimmed_tracked.csv\n"
     ]
    },
    {
     "name": "stderr",
     "output_type": "stream",
     "text": [
      "/var/folders/3v/_y6xq12x6l96bm2kp__gv6z40000gn/T/ipykernel_7009/3704256551.py:13: SettingWithCopyWarning: \n",
      "A value is trying to be set on a copy of a slice from a DataFrame\n",
      "\n",
      "See the caveats in the documentation: https://pandas.pydata.org/pandas-docs/stable/user_guide/indexing.html#returning-a-view-versus-a-copy\n",
      "  data['ReverseX'].loc[data.frame == frame] = data['pos_x'].loc[data.frame == frame] \\\n"
     ]
    }
   ],
   "source": [
    "Df = list()\n",
    "Flycount = 0\n",
    "for file in Files:\n",
    "        print (file.as_posix())\n",
    "        data = pd.read_csv(file)\n",
    "        data['Side'] = 'Left' if 'LeftRew' in file.as_posix() else 'Right'\n",
    "        Flycount+=1\n",
    "        data['Fly'] = Flycount\n",
    "        data['Training'] = 'Trained' if 'Trained' in file.as_posix() else 'Control'\n",
    "        middlex =(( max(data.pos_x) - min(data.pos_x) ) / 2) + min(data.pos_x)\n",
    "        data['ReverseX'] = 0\n",
    "        for frame in data.frame:\n",
    "            data['ReverseX'].loc[data.frame == frame] = data['pos_x'].loc[data.frame == frame] \\\n",
    "                                                        + (2*(middlex-data['pos_x'].loc[data.frame == frame]))\n",
    "        Df.append(data)\n",
    "\n",
    "Dataframe = pd.concat(Df, ignore_index=True)"
   ],
   "metadata": {
    "collapsed": false,
    "pycharm": {
     "name": "#%%\n"
    }
   }
  },
  {
   "cell_type": "code",
   "execution_count": 21,
   "outputs": [],
   "source": [
    "import numpy as np\n",
    "#df['Normalized'] = np.where(df['Currency'] == '$', df['Budget'] * 0.78125, df['Budget'])\n",
    "Dataframe['TrueX'] = np.where(Dataframe.Side == \"Left\", Dataframe['pos_x'], Dataframe['ReverseX'])\n",
    "\n",
    "\n",
    "#Dataframe.loc['TrueX'] = Dataframe['pos_x'] if Dataframe['Side'] == 'Left' else Dataframe['ReverseX']"
   ],
   "metadata": {
    "collapsed": false,
    "pycharm": {
     "name": "#%%\n"
    }
   }
  },
  {
   "cell_type": "code",
   "execution_count": null,
   "outputs": [],
   "source": [
    "HeatTest = pd.read_csv('/Volumes/Ramdya-Lab/DURRIEU_Matthias/Experimental_data/MultiSensory_Project/GatedArenas/220304_LeftRew_BlueRew/Trained/Starved_noWater/220304/112821_s0a0_p0-0/Trained_Starved_noWater_p0-0_80fps_Trimmed_tracked.csv')"
   ],
   "metadata": {
    "collapsed": false,
    "pycharm": {
     "name": "#%%\n"
    }
   }
  },
  {
   "cell_type": "code",
   "execution_count": 10,
   "outputs": [
    {
     "name": "stderr",
     "output_type": "stream",
     "text": [
      "/var/folders/3v/_y6xq12x6l96bm2kp__gv6z40000gn/T/ipykernel_7009/4260466512.py:4: SettingWithCopyWarning: \n",
      "A value is trying to be set on a copy of a slice from a DataFrame\n",
      "\n",
      "See the caveats in the documentation: https://pandas.pydata.org/pandas-docs/stable/user_guide/indexing.html#returning-a-view-versus-a-copy\n",
      "  HeatTest['ReverseX'][HeatTest.frame == frame] = HeatTest['pos_x'][HeatTest.frame == frame] + (2*(middlex-HeatTest['pos_x'][HeatTest.frame == frame]))\n"
     ]
    }
   ],
   "source": [
    "middlex =(( max(HeatTest.pos_x) - min(HeatTest.pos_x) ) / 2) + min(HeatTest.pos_x)\n",
    "\n",
    "for frame in HeatTest.frame:\n",
    "    HeatTest['ReverseX'][HeatTest.frame == frame] = HeatTest['pos_x'][HeatTest.frame == frame] + (2*(middlex-HeatTest['pos_x'][HeatTest.frame == frame]))"
   ],
   "metadata": {
    "collapsed": false,
    "pycharm": {
     "name": "#%%\n"
    }
   }
  },
  {
   "cell_type": "code",
   "execution_count": 7,
   "outputs": [
    {
     "data": {
      "text/plain": "<Figure size 360x360 with 1 Axes>",
      "image/png": "[encoded data removed]"
     },
     "metadata": {
      "needs_background": "light"
     },
     "output_type": "display_data"
    }
   ],
   "source": [
    "plt.figure(figsize=(5, 5))\n",
    "plt.hist2d(HeatTest['pos_x'], HeatTest['pos_y'], bins=30)\n",
    "plt.xlabel('X', fontsize=16)\n",
    "plt.ylabel('Y', fontsize=16)\n",
    "plt.gca().invert_yaxis()\n",
    "\n",
    "plt.tight_layout()\n"
   ],
   "metadata": {
    "collapsed": false,
    "pycharm": {
     "name": "#%%\n"
    }
   }
  },
  {
   "cell_type": "code",
   "execution_count": 11,
   "outputs": [
    {
     "data": {
      "text/plain": "<Figure size 360x360 with 1 Axes>",
      "image/png": "[encoded data removed]"
     },
     "metadata": {
      "needs_background": "light"
     },
     "output_type": "display_data"
    }
   ],
   "source": [
    "plt.figure(figsize=(5, 5))\n",
    "plt.hist2d(HeatTest['ReverseX'], HeatTest['pos_y'], bins=30)\n",
    "plt.xlabel('X', fontsize=16)\n",
    "plt.ylabel('Y', fontsize=16)\n",
    "plt.gca().invert_yaxis()\n",
    "\n",
    "plt.tight_layout()\n"
   ],
   "metadata": {
    "collapsed": false,
    "pycharm": {
     "name": "#%%\n"
    }
   }
  },
  {
   "cell_type": "code",
   "execution_count": 11,
   "outputs": [
    {
     "data": {
      "text/plain": "184.76013787510132"
     },
     "execution_count": 11,
     "metadata": {},
     "output_type": "execute_result"
    }
   ],
   "source": [
    "min(HeatTest.pos_x)"
   ],
   "metadata": {
    "collapsed": false,
    "pycharm": {
     "name": "#%%\n"
    }
   }
  },
  {
   "cell_type": "code",
   "execution_count": 16,
   "outputs": [
    {
     "data": {
      "text/plain": "237"
     },
     "execution_count": 16,
     "metadata": {},
     "output_type": "execute_result"
    }
   ],
   "source": [
    "421 - 184"
   ],
   "metadata": {
    "collapsed": false,
    "pycharm": {
     "name": "#%%\n"
    }
   }
  },
  {
   "cell_type": "code",
   "execution_count": 17,
   "outputs": [
    {
     "data": {
      "text/plain": "658"
     },
     "execution_count": 17,
     "metadata": {},
     "output_type": "execute_result"
    }
   ],
   "source": [
    "421+237"
   ],
   "metadata": {
    "collapsed": false,
    "pycharm": {
     "name": "#%%\n"
    }
   }
  },
  {
   "cell_type": "code",
   "execution_count": 27,
   "outputs": [
    {
     "data": {
      "text/plain": "<Figure size 360x360 with 1 Axes>",
      "image/png": "[encoded data removed]"
     },
     "metadata": {
      "needs_background": "light"
     },
     "output_type": "display_data"
    }
   ],
   "source": [
    "import matplotlib as mpl\n",
    "Trained = Dataframe[Dataframe.Training==\"Trained\"]\n",
    "\n",
    "plt.figure(figsize=(5, 5))\n",
    "plt.hist2d(Trained['TrueX'], Trained['pos_y'], bins=30, cmap='viridis', norm=mpl.colors.LogNorm(),)\n",
    "plt.xlabel('X', fontsize=16)\n",
    "plt.ylabel('Y', fontsize=16)\n",
    "plt.gca().invert_yaxis()\n",
    "\n",
    "plt.tight_layout()"
   ],
   "metadata": {
    "collapsed": false,
    "pycharm": {
     "name": "#%%\n"
    }
   }
  },
  {
   "cell_type": "code",
   "execution_count": 28,
   "outputs": [
    {
     "data": {
      "text/plain": "<Figure size 360x360 with 1 Axes>",
      "image/png": "[encoded data removed]"
     },
     "metadata": {
      "needs_background": "light"
     },
     "output_type": "display_data"
    }
   ],
   "source": [
    "Controls = Dataframe[Dataframe.Training==\"Control\"]\n",
    "\n",
    "plt.figure(figsize=(5, 5))\n",
    "plt.hist2d(Controls['TrueX'], Controls['pos_y'], bins=30, cmap='viridis', norm=mpl.colors.LogNorm(),)\n",
    "plt.xlabel('X', fontsize=16)\n",
    "plt.ylabel('Y', fontsize=16)\n",
    "plt.gca().invert_yaxis()\n",
    "\n",
    "plt.tight_layout()"
   ],
   "metadata": {
    "collapsed": false,
    "pycharm": {
     "name": "#%%\n"
    }
   }
  },
  {
   "cell_type": "code",
   "execution_count": null,
   "outputs": [],
   "source": [],
   "metadata": {
    "collapsed": false,
    "pycharm": {
     "name": "#%%\n"
    }
   }
  }
 ],
 "metadata": {
  "kernelspec": {
   "display_name": "Python 3",
   "language": "python",
   "name": "python3"
  },
  "language_info": {
   "codemirror_mode": {
    "name": "ipython",
    "version": 2
   },
   "file_extension": ".py",
   "mimetype": "text/x-python",
   "name": "python",
   "nbconvert_exporter": "python",
   "pygments_lexer": "ipython2",
   "version": "2.7.6"
  }
 },
 "nbformat": 4,
 "nbformat_minor": 0
}