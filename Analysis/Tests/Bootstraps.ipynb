{
 "cells": [
  {
   "cell_type": "code",
   "execution_count": 1,
   "metadata": {
    "collapsed": true,
    "pycharm": {
     "name": "#%%\n"
    }
   },
   "outputs": [
    {
     "data": {
      "text/html": "<div class=\"bk-root\">\n        <a href=\"https://bokeh.org\" target=\"_blank\" class=\"bk-logo bk-logo-small bk-logo-notebook\"></a>\n        <span id=\"1002\">Loading BokehJS ...</span>\n    </div>\n"
     },
     "metadata": {},
     "output_type": "display_data"
    },
    {
     "data": {
      "application/javascript": "(function(root) {\n  function now() {\n    return new Date();\n  }\n\n  const force = true;\n\n  if (typeof root._bokeh_onload_callbacks === \"undefined\" || force === true) {\n    root._bokeh_onload_callbacks = [];\n    root._bokeh_is_loading = undefined;\n  }\n\nconst JS_MIME_TYPE = 'application/javascript';\n  const HTML_MIME_TYPE = 'text/html';\n  const EXEC_MIME_TYPE = 'application/vnd.bokehjs_exec.v0+json';\n  const CLASS_NAME = 'output_bokeh rendered_html';\n\n  /**\n   * Render data to the DOM node\n   */\n  function render(props, node) {\n    const script = document.createElement(\"script\");\n    node.appendChild(script);\n  }\n\n  /**\n   * Handle when an output is cleared or removed\n   */\n  function handleClearOutput(event, handle) {\n    const cell = handle.cell;\n\n    const id = cell.output_area._bokeh_element_id;\n    const server_id = cell.output_area._bokeh_server_id;\n    // Clean up Bokeh references\n    if (id != null && id in Bokeh.index) {\n      Bokeh.index[id].model.document.clear();\n      delete Bokeh.index[id];\n    }\n\n    if (server_id !== undefined) {\n      // Clean up Bokeh references\n      const cmd_clean = \"from bokeh.io.state import curstate; print(curstate().uuid_to_server['\" + server_id + \"'].get_sessions()[0].document.roots[0]._id)\";\n      cell.notebook.kernel.execute(cmd_clean, {\n        iopub: {\n          output: function(msg) {\n            const id = msg.content.text.trim();\n            if (id in Bokeh.index) {\n              Bokeh.index[id].model.document.clear();\n              delete Bokeh.index[id];\n            }\n          }\n        }\n      });\n      // Destroy server and session\n      const cmd_destroy = \"import bokeh.io.notebook as ion; ion.destroy_server('\" + server_id + \"')\";\n      cell.notebook.kernel.execute(cmd_destroy);\n    }\n  }\n\n  /**\n   * Handle when a new output is added\n   */\n  function handleAddOutput(event, handle) {\n    const output_area = handle.output_area;\n    const output = handle.output;\n\n    // limit handleAddOutput to display_data with EXEC_MIME_TYPE content only\n    if ((output.output_type != \"display_data\") || (!Object.prototype.hasOwnProperty.call(output.data, EXEC_MIME_TYPE))) {\n      return\n    }\n\n    const toinsert = output_area.element.find(\".\" + CLASS_NAME.split(' ')[0]);\n\n    if (output.metadata[EXEC_MIME_TYPE][\"id\"] !== undefined) {\n      toinsert[toinsert.length - 1].firstChild.textContent = output.data[JS_MIME_TYPE];\n      // store reference to embed id on output_area\n      output_area._bokeh_element_id = output.metadata[EXEC_MIME_TYPE][\"id\"];\n    }\n    if (output.metadata[EXEC_MIME_TYPE][\"server_id\"] !== undefined) {\n      const bk_div = document.createElement(\"div\");\n      bk_div.innerHTML = output.data[HTML_MIME_TYPE];\n      const script_attrs = bk_div.children[0].attributes;\n      for (let i = 0; i < script_attrs.length; i++) {\n        toinsert[toinsert.length - 1].firstChild.setAttribute(script_attrs[i].name, script_attrs[i].value);\n        toinsert[toinsert.length - 1].firstChild.textContent = bk_div.children[0].textContent\n      }\n      // store reference to server id on output_area\n      output_area._bokeh_server_id = output.metadata[EXEC_MIME_TYPE][\"server_id\"];\n    }\n  }\n\n  function register_renderer(events, OutputArea) {\n\n    function append_mime(data, metadata, element) {\n      // create a DOM node to render to\n      const toinsert = this.create_output_subarea(\n        metadata,\n        CLASS_NAME,\n        EXEC_MIME_TYPE\n      );\n      this.keyboard_manager.register_events(toinsert);\n      // Render to node\n      const props = {data: data, metadata: metadata[EXEC_MIME_TYPE]};\n      render(props, toinsert[toinsert.length - 1]);\n      element.append(toinsert);\n      return toinsert\n    }\n\n    /* Handle when an output is cleared or removed */\n    events.on('clear_output.CodeCell', handleClearOutput);\n    events.on('delete.Cell', handleClearOutput);\n\n    /* Handle when a new output is added */\n    events.on('output_added.OutputArea', handleAddOutput);\n\n    /**\n     * Register the mime type and append_mime function with output_area\n     */\n    OutputArea.prototype.register_mime_type(EXEC_MIME_TYPE, append_mime, {\n      /* Is output safe? */\n      safe: true,\n      /* Index of renderer in `output_area.display_order` */\n      index: 0\n    });\n  }\n\n  // register the mime type if in Jupyter Notebook environment and previously unregistered\n  if (root.Jupyter !== undefined) {\n    const events = require('base/js/events');\n    const OutputArea = require('notebook/js/outputarea').OutputArea;\n\n    if (OutputArea.prototype.mime_types().indexOf(EXEC_MIME_TYPE) == -1) {\n      register_renderer(events, OutputArea);\n    }\n  }\n  if (typeof (root._bokeh_timeout) === \"undefined\" || force === true) {\n    root._bokeh_timeout = Date.now() + 5000;\n    root._bokeh_failed_load = false;\n  }\n\n  const NB_LOAD_WARNING = {'data': {'text/html':\n     \"<div style='background-color: #fdd'>\\n\"+\n     \"<p>\\n\"+\n     \"BokehJS does not appear to have successfully loaded. If loading BokehJS from CDN, this \\n\"+\n     \"may be due to a slow or bad network connection. Possible fixes:\\n\"+\n     \"</p>\\n\"+\n     \"<ul>\\n\"+\n     \"<li>re-rerun `output_notebook()` to attempt to load from CDN again, or</li>\\n\"+\n     \"<li>use INLINE resources instead, as so:</li>\\n\"+\n     \"</ul>\\n\"+\n     \"<code>\\n\"+\n     \"from bokeh.resources import INLINE\\n\"+\n     \"output_notebook(resources=INLINE)\\n\"+\n     \"</code>\\n\"+\n     \"</div>\"}};\n\n  function display_loaded() {\n    const el = document.getElementById(\"1002\");\n    if (el != null) {\n      el.textContent = \"BokehJS is loading...\";\n    }\n    if (root.Bokeh !== undefined) {\n      if (el != null) {\n        el.textContent = \"BokehJS \" + root.Bokeh.version + \" successfully loaded.\";\n      }\n    } else if (Date.now() < root._bokeh_timeout) {\n      setTimeout(display_loaded, 100)\n    }\n  }\n\n  function run_callbacks() {\n    try {\n      root._bokeh_onload_callbacks.forEach(function(callback) {\n        if (callback != null)\n          callback();\n      });\n    } finally {\n      delete root._bokeh_onload_callbacks\n    }\n    console.debug(\"Bokeh: all callbacks have finished\");\n  }\n\n  function load_libs(css_urls, js_urls, callback) {\n    if (css_urls == null) css_urls = [];\n    if (js_urls == null) js_urls = [];\n\n    root._bokeh_onload_callbacks.push(callback);\n    if (root._bokeh_is_loading > 0) {\n      console.debug(\"Bokeh: BokehJS is being loaded, scheduling callback at\", now());\n      return null;\n    }\n    if (js_urls == null || js_urls.length === 0) {\n      run_callbacks();\n      return null;\n    }\n    console.debug(\"Bokeh: BokehJS not loaded, scheduling load and callback at\", now());\n    root._bokeh_is_loading = css_urls.length + js_urls.length;\n\n    function on_load() {\n      root._bokeh_is_loading--;\n      if (root._bokeh_is_loading === 0) {\n        console.debug(\"Bokeh: all BokehJS libraries/stylesheets loaded\");\n        run_callbacks()\n      }\n    }\n\n    function on_error(url) {\n      console.error(\"failed to load \" + url);\n    }\n\n    for (let i = 0; i < css_urls.length; i++) {\n      const url = css_urls[i];\n      const element = document.createElement(\"link\");\n      element.onload = on_load;\n      element.onerror = on_error.bind(null, url);\n      element.rel = \"stylesheet\";\n      element.type = \"text/css\";\n      element.href = url;\n      console.debug(\"Bokeh: injecting link tag for BokehJS stylesheet: \", url);\n      document.body.appendChild(element);\n    }\n\n    for (let i = 0; i < js_urls.length; i++) {\n      const url = js_urls[i];\n      const element = document.createElement('script');\n      element.onload = on_load;\n      element.onerror = on_error.bind(null, url);\n      element.async = false;\n      element.src = url;\n      console.debug(\"Bokeh: injecting script tag for BokehJS library: \", url);\n      document.head.appendChild(element);\n    }\n  };\n\n  function inject_raw_css(css) {\n    const element = document.createElement(\"style\");\n    element.appendChild(document.createTextNode(css));\n    document.body.appendChild(element);\n  }\n\n  const js_urls = [\"https://cdn.bokeh.org/bokeh/release/bokeh-2.4.3.min.js\", \"https://cdn.bokeh.org/bokeh/release/bokeh-gl-2.4.3.min.js\", \"https://cdn.bokeh.org/bokeh/release/bokeh-widgets-2.4.3.min.js\", \"https://cdn.bokeh.org/bokeh/release/bokeh-tables-2.4.3.min.js\", \"https://cdn.bokeh.org/bokeh/release/bokeh-mathjax-2.4.3.min.js\"];\n  const css_urls = [];\n\n  const inline_js = [    function(Bokeh) {\n      Bokeh.set_log_level(\"info\");\n    },\nfunction(Bokeh) {\n    }\n  ];\n\n  function run_inline_js() {\n    if (root.Bokeh !== undefined || force === true) {\n          for (let i = 0; i < inline_js.length; i++) {\n      inline_js[i].call(root, root.Bokeh);\n    }\nif (force === true) {\n        display_loaded();\n      }} else if (Date.now() < root._bokeh_timeout) {\n      setTimeout(run_inline_js, 100);\n    } else if (!root._bokeh_failed_load) {\n      console.log(\"Bokeh: BokehJS failed to load within specified timeout.\");\n      root._bokeh_failed_load = true;\n    } else if (force !== true) {\n      const cell = $(document.getElementById(\"1002\")).parents('.cell').data().cell;\n      cell.output_area.append_execute_result(NB_LOAD_WARNING)\n    }\n  }\n\n  if (root._bokeh_is_loading === 0) {\n    console.debug(\"Bokeh: BokehJS loaded, going straight to plotting\");\n    run_inline_js();\n  } else {\n    load_libs(css_urls, js_urls, function() {\n      console.debug(\"Bokeh: BokehJS plotting callback run at\", now());\n      run_inline_js();\n    });\n  }\n}(window));",
      "application/vnd.bokehjs_load.v0+json": "(function(root) {\n  function now() {\n    return new Date();\n  }\n\n  const force = true;\n\n  if (typeof root._bokeh_onload_callbacks === \"undefined\" || force === true) {\n    root._bokeh_onload_callbacks = [];\n    root._bokeh_is_loading = undefined;\n  }\n\n\n  if (typeof (root._bokeh_timeout) === \"undefined\" || force === true) {\n    root._bokeh_timeout = Date.now() + 5000;\n    root._bokeh_failed_load = false;\n  }\n\n  const NB_LOAD_WARNING = {'data': {'text/html':\n     \"<div style='background-color: #fdd'>\\n\"+\n     \"<p>\\n\"+\n     \"BokehJS does not appear to have successfully loaded. If loading BokehJS from CDN, this \\n\"+\n     \"may be due to a slow or bad network connection. Possible fixes:\\n\"+\n     \"</p>\\n\"+\n     \"<ul>\\n\"+\n     \"<li>re-rerun `output_notebook()` to attempt to load from CDN again, or</li>\\n\"+\n     \"<li>use INLINE resources instead, as so:</li>\\n\"+\n     \"</ul>\\n\"+\n     \"<code>\\n\"+\n     \"from bokeh.resources import INLINE\\n\"+\n     \"output_notebook(resources=INLINE)\\n\"+\n     \"</code>\\n\"+\n     \"</div>\"}};\n\n  function display_loaded() {\n    const el = document.getElementById(\"1002\");\n    if (el != null) {\n      el.textContent = \"BokehJS is loading...\";\n    }\n    if (root.Bokeh !== undefined) {\n      if (el != null) {\n        el.textContent = \"BokehJS \" + root.Bokeh.version + \" successfully loaded.\";\n      }\n    } else if (Date.now() < root._bokeh_timeout) {\n      setTimeout(display_loaded, 100)\n    }\n  }\n\n  function run_callbacks() {\n    try {\n      root._bokeh_onload_callbacks.forEach(function(callback) {\n        if (callback != null)\n          callback();\n      });\n    } finally {\n      delete root._bokeh_onload_callbacks\n    }\n    console.debug(\"Bokeh: all callbacks have finished\");\n  }\n\n  function load_libs(css_urls, js_urls, callback) {\n    if (css_urls == null) css_urls = [];\n    if (js_urls == null) js_urls = [];\n\n    root._bokeh_onload_callbacks.push(callback);\n    if (root._bokeh_is_loading > 0) {\n      console.debug(\"Bokeh: BokehJS is being loaded, scheduling callback at\", now());\n      return null;\n    }\n    if (js_urls == null || js_urls.length === 0) {\n      run_callbacks();\n      return null;\n    }\n    console.debug(\"Bokeh: BokehJS not loaded, scheduling load and callback at\", now());\n    root._bokeh_is_loading = css_urls.length + js_urls.length;\n\n    function on_load() {\n      root._bokeh_is_loading--;\n      if (root._bokeh_is_loading === 0) {\n        console.debug(\"Bokeh: all BokehJS libraries/stylesheets loaded\");\n        run_callbacks()\n      }\n    }\n\n    function on_error(url) {\n      console.error(\"failed to load \" + url);\n    }\n\n    for (let i = 0; i < css_urls.length; i++) {\n      const url = css_urls[i];\n      const element = document.createElement(\"link\");\n      element.onload = on_load;\n      element.onerror = on_error.bind(null, url);\n      element.rel = \"stylesheet\";\n      element.type = \"text/css\";\n      element.href = url;\n      console.debug(\"Bokeh: injecting link tag for BokehJS stylesheet: \", url);\n      document.body.appendChild(element);\n    }\n\n    for (let i = 0; i < js_urls.length; i++) {\n      const url = js_urls[i];\n      const element = document.createElement('script');\n      element.onload = on_load;\n      element.onerror = on_error.bind(null, url);\n      element.async = false;\n      element.src = url;\n      console.debug(\"Bokeh: injecting script tag for BokehJS library: \", url);\n      document.head.appendChild(element);\n    }\n  };\n\n  function inject_raw_css(css) {\n    const element = document.createElement(\"style\");\n    element.appendChild(document.createTextNode(css));\n    document.body.appendChild(element);\n  }\n\n  const js_urls = [\"https://cdn.bokeh.org/bokeh/release/bokeh-2.4.3.min.js\", \"https://cdn.bokeh.org/bokeh/release/bokeh-gl-2.4.3.min.js\", \"https://cdn.bokeh.org/bokeh/release/bokeh-widgets-2.4.3.min.js\", \"https://cdn.bokeh.org/bokeh/release/bokeh-tables-2.4.3.min.js\", \"https://cdn.bokeh.org/bokeh/release/bokeh-mathjax-2.4.3.min.js\"];\n  const css_urls = [];\n\n  const inline_js = [    function(Bokeh) {\n      Bokeh.set_log_level(\"info\");\n    },\nfunction(Bokeh) {\n    }\n  ];\n\n  function run_inline_js() {\n    if (root.Bokeh !== undefined || force === true) {\n          for (let i = 0; i < inline_js.length; i++) {\n      inline_js[i].call(root, root.Bokeh);\n    }\nif (force === true) {\n        display_loaded();\n      }} else if (Date.now() < root._bokeh_timeout) {\n      setTimeout(run_inline_js, 100);\n    } else if (!root._bokeh_failed_load) {\n      console.log(\"Bokeh: BokehJS failed to load within specified timeout.\");\n      root._bokeh_failed_load = true;\n    } else if (force !== true) {\n      const cell = $(document.getElementById(\"1002\")).parents('.cell').data().cell;\n      cell.output_area.append_execute_result(NB_LOAD_WARNING)\n    }\n  }\n\n  if (root._bokeh_is_loading === 0) {\n    console.debug(\"Bokeh: BokehJS loaded, going straight to plotting\");\n    run_inline_js();\n  } else {\n    load_libs(css_urls, js_urls, function() {\n      console.debug(\"Bokeh: BokehJS plotting callback run at\", now());\n      run_inline_js();\n    });\n  }\n}(window));"
     },
     "metadata": {},
     "output_type": "display_data"
    }
   ],
   "source": [
    "import pandas as pd\n",
    "import seaborn as sns\n",
    "import matplotlib.pyplot as plt\n",
    "import scipy\n",
    "import numpy as np\n",
    "import ast\n",
    "\n",
    "import iqplot\n",
    "\n",
    "\n",
    "import bokeh.io\n",
    "import bokeh.models\n",
    "import bokeh.plotting\n",
    "\n",
    "bokeh.io.output_notebook()"
   ]
  },
  {
   "cell_type": "code",
   "execution_count": 3,
   "outputs": [],
   "source": [
    "rg = np.random.default_rng()\n",
    "\n",
    "def draw_bs_rep(data, func, rg):\n",
    "    \"\"\"Compute a bootstrap replicate from data.\"\"\"\n",
    "    bs_sample = rg.choice(data, size=len(data))\n",
    "    return func(bs_sample)\n",
    "\n",
    "def draw_bs_ci(data, func=np.mean, rg=rg, n_reps=2000):\n",
    "    \"\"\"Sample bootstrap multiple times and compute confidence interval\"\"\"\n",
    "    bs_reps = np.array(\n",
    "        [draw_bs_rep(data, func, rg) for _ in range(n_reps)]\n",
    "    )\n",
    "    conf_int = np.percentile(bs_reps,[2.5, 97.5])\n",
    "    return(conf_int)"
   ],
   "metadata": {
    "collapsed": false,
    "pycharm": {
     "name": "#%%\n"
    }
   }
  },
  {
   "cell_type": "code",
   "execution_count": 5,
   "outputs": [],
   "source": [
    "Data = pd.read_csv(\n",
    "    \"/Volumes/Ramdya-Lab/DURRIEU_Matthias/Experimental_data/MultiSensory_Project/GatedArenas/Results/DataSetAugust22.csv\")\n",
    "\n",
    "Data = Data[Data['Test Starvation'] == \"Overnight no Water\"]\n",
    "Data = Data[Data[\"Training Starvation\"] == \"Not starved\"]#.reset_index()\n",
    "# Prep dataset from data\n",
    "Melted = pd.melt(\n",
    "    Data,\n",
    "    id_vars=[\"Training\", \"ObjectsReinforced\", \"Reinforced_side\", \"Date\", \"Fly\"],\n",
    "    value_name=\"Durations\",\n",
    "    value_vars=[\n",
    "        \"Durations Left Corner\",\n",
    "        \"Durations Right Corner\",\n",
    "        \"Durations Top Corner\",\n",
    "        \"Durations Left Front\",\n",
    "        \"Durations Right Front\",\n",
    "        \"Durations Top Front\",\n",
    "    ],\n",
    "    var_name=\"Variable\",\n",
    ")\n",
    "\n",
    "conditions = [\n",
    "    (\n",
    "        Melted[\"Reinforced_side\"].str.contains(\"Right\")\n",
    "        & (Melted[\"Variable\"].str.contains(\"Right\"))\n",
    "    ),\n",
    "    (\n",
    "        Melted[\"Reinforced_side\"].str.contains(\"Left\")\n",
    "        & (Melted[\"Variable\"].str.contains(\"Left\"))\n",
    "    ),\n",
    "    (\n",
    "        Melted[\"Reinforced_side\"].str.contains(\"Right\")\n",
    "        & (Melted[\"Variable\"].str.contains(\"Left\"))\n",
    "    ),\n",
    "    (\n",
    "        Melted[\"Reinforced_side\"].str.contains(\"Left\")\n",
    "        & (Melted[\"Variable\"].str.contains(\"Right\"))\n",
    "    ),\n",
    "    (Melted[\"Variable\"].str.contains(\"Top\")),\n",
    "]\n",
    "\n",
    "values = [\n",
    "    \"Rewarded\",\n",
    "    \"Rewarded\",\n",
    "    \"Punished\",\n",
    "    \"Punished\",\n",
    "    \"Empty\",\n",
    "]\n",
    "Melted[\"Condition\"] = np.select(conditions, values)\n",
    "\n",
    "conditions = [\n",
    "    ((Melted[\"Variable\"].str.contains(\"Corner\"))),\n",
    "    ((Melted[\"Variable\"].str.contains(\"Front\"))),\n",
    "]\n",
    "values = [\n",
    "    \"Corner\",\n",
    "    \"Front\",\n",
    "]\n",
    "Melted[\"Location\"] = np.select(conditions, values)"
   ],
   "metadata": {
    "collapsed": false,
    "pycharm": {
     "name": "#%%\n"
    }
   }
  },
  {
   "cell_type": "code",
   "execution_count": 8,
   "outputs": [],
   "source": [
    "Thresh = 80\n",
    "\n",
    "for index, row in Melted.iterrows():\n",
    "    Melted.loc[index, \"Peeks\"] = sum(\n",
    "                1 for i in ast.literal_eval(row[\"Durations\"]) if i > Thresh\n",
    "            )"
   ],
   "metadata": {
    "collapsed": false,
    "pycharm": {
     "name": "#%%\n"
    }
   }
  },
  {
   "cell_type": "code",
   "execution_count": 11,
   "outputs": [
    {
     "data": {
      "text/plain": "<pandas.core.groupby.generic.DataFrameGroupBy object at 0x7fc95d875fc0>"
     },
     "execution_count": 11,
     "metadata": {},
     "output_type": "execute_result"
    }
   ],
   "source": [
    "Stat_Data=Melted.groupby(['Training', 'Condition'])\n",
    "Stat_Data"
   ],
   "metadata": {
    "collapsed": false,
    "pycharm": {
     "name": "#%%\n"
    }
   }
  },
  {
   "cell_type": "code",
   "execution_count": 12,
   "outputs": [],
   "source": [
    "\n",
    "Groups = list(Stat_Data.groups.keys())\n",
    "\n",
    "ConfInts = Stat_Data['Peeks'].apply(lambda x: draw_bs_ci(x))\n",
    "Means = Stat_Data['Peeks'].mean()"
   ],
   "metadata": {
    "collapsed": false,
    "pycharm": {
     "name": "#%%\n"
    }
   }
  },
  {
   "cell_type": "code",
   "execution_count": 15,
   "outputs": [],
   "source": [
    "Treshs = list(range(20, 300, 10))\n"
   ],
   "metadata": {
    "collapsed": false,
    "pycharm": {
     "name": "#%%\n"
    }
   }
  },
  {
   "cell_type": "code",
   "execution_count": 85,
   "outputs": [
    {
     "name": "stderr",
     "output_type": "stream",
     "text": [
      "/var/folders/3v/_y6xq12x6l96bm2kp__gv6z40000gn/T/ipykernel_5081/3570711537.py:48: FutureWarning: In a future version of pandas all arguments of concat except for the argument 'objs' will be keyword-only.\n",
      "  CI_Data= pd.concat(CI_Data,Merged)\n"
     ]
    },
    {
     "ename": "TypeError",
     "evalue": "first argument must be an iterable of pandas objects, you passed an object of type \"type\"",
     "output_type": "error",
     "traceback": [
      "\u001B[0;31m---------------------------------------------------------------------------\u001B[0m",
      "\u001B[0;31mTypeError\u001B[0m                                 Traceback (most recent call last)",
      "Input \u001B[0;32mIn [85]\u001B[0m, in \u001B[0;36m<cell line: 2>\u001B[0;34m()\u001B[0m\n\u001B[1;32m     44\u001B[0m Merged\u001B[38;5;241m=\u001B[39m pd\u001B[38;5;241m.\u001B[39mmerge(CMelt, MMelt, on\u001B[38;5;241m=\u001B[39m[\u001B[38;5;124m\"\u001B[39m\u001B[38;5;124mTraining\u001B[39m\u001B[38;5;124m\"\u001B[39m, \u001B[38;5;124m\"\u001B[39m\u001B[38;5;124mCondition\u001B[39m\u001B[38;5;124m\"\u001B[39m])\n\u001B[1;32m     46\u001B[0m Merged[\u001B[38;5;124m'\u001B[39m\u001B[38;5;124mTreshold\u001B[39m\u001B[38;5;124m'\u001B[39m] \u001B[38;5;241m=\u001B[39m t\n\u001B[0;32m---> 48\u001B[0m CI_Data\u001B[38;5;241m=\u001B[39m \u001B[43mpd\u001B[49m\u001B[38;5;241;43m.\u001B[39;49m\u001B[43mconcat\u001B[49m\u001B[43m(\u001B[49m\u001B[43mCI_Data\u001B[49m\u001B[43m,\u001B[49m\u001B[43mMerged\u001B[49m\u001B[43m)\u001B[49m\n",
      "File \u001B[0;32m/opt/miniconda3/envs/TrackingAnalysis/lib/python3.10/site-packages/pandas/util/_decorators.py:311\u001B[0m, in \u001B[0;36mdeprecate_nonkeyword_arguments.<locals>.decorate.<locals>.wrapper\u001B[0;34m(*args, **kwargs)\u001B[0m\n\u001B[1;32m    305\u001B[0m \u001B[38;5;28;01mif\u001B[39;00m \u001B[38;5;28mlen\u001B[39m(args) \u001B[38;5;241m>\u001B[39m num_allow_args:\n\u001B[1;32m    306\u001B[0m     warnings\u001B[38;5;241m.\u001B[39mwarn(\n\u001B[1;32m    307\u001B[0m         msg\u001B[38;5;241m.\u001B[39mformat(arguments\u001B[38;5;241m=\u001B[39marguments),\n\u001B[1;32m    308\u001B[0m         \u001B[38;5;167;01mFutureWarning\u001B[39;00m,\n\u001B[1;32m    309\u001B[0m         stacklevel\u001B[38;5;241m=\u001B[39mstacklevel,\n\u001B[1;32m    310\u001B[0m     )\n\u001B[0;32m--> 311\u001B[0m \u001B[38;5;28;01mreturn\u001B[39;00m \u001B[43mfunc\u001B[49m\u001B[43m(\u001B[49m\u001B[38;5;241;43m*\u001B[39;49m\u001B[43margs\u001B[49m\u001B[43m,\u001B[49m\u001B[43m \u001B[49m\u001B[38;5;241;43m*\u001B[39;49m\u001B[38;5;241;43m*\u001B[39;49m\u001B[43mkwargs\u001B[49m\u001B[43m)\u001B[49m\n",
      "File \u001B[0;32m/opt/miniconda3/envs/TrackingAnalysis/lib/python3.10/site-packages/pandas/core/reshape/concat.py:347\u001B[0m, in \u001B[0;36mconcat\u001B[0;34m(objs, axis, join, ignore_index, keys, levels, names, verify_integrity, sort, copy)\u001B[0m\n\u001B[1;32m    143\u001B[0m \u001B[38;5;129m@deprecate_nonkeyword_arguments\u001B[39m(version\u001B[38;5;241m=\u001B[39m\u001B[38;5;28;01mNone\u001B[39;00m, allowed_args\u001B[38;5;241m=\u001B[39m[\u001B[38;5;124m\"\u001B[39m\u001B[38;5;124mobjs\u001B[39m\u001B[38;5;124m\"\u001B[39m])\n\u001B[1;32m    144\u001B[0m \u001B[38;5;28;01mdef\u001B[39;00m \u001B[38;5;21mconcat\u001B[39m(\n\u001B[1;32m    145\u001B[0m     objs: Iterable[NDFrame] \u001B[38;5;241m|\u001B[39m Mapping[Hashable, NDFrame],\n\u001B[0;32m   (...)\u001B[0m\n\u001B[1;32m    154\u001B[0m     copy: \u001B[38;5;28mbool\u001B[39m \u001B[38;5;241m=\u001B[39m \u001B[38;5;28;01mTrue\u001B[39;00m,\n\u001B[1;32m    155\u001B[0m ) \u001B[38;5;241m-\u001B[39m\u001B[38;5;241m>\u001B[39m DataFrame \u001B[38;5;241m|\u001B[39m Series:\n\u001B[1;32m    156\u001B[0m     \u001B[38;5;124;03m\"\"\"\u001B[39;00m\n\u001B[1;32m    157\u001B[0m \u001B[38;5;124;03m    Concatenate pandas objects along a particular axis with optional set logic\u001B[39;00m\n\u001B[1;32m    158\u001B[0m \u001B[38;5;124;03m    along the other axes.\u001B[39;00m\n\u001B[0;32m   (...)\u001B[0m\n\u001B[1;32m    345\u001B[0m \u001B[38;5;124;03m    ValueError: Indexes have overlapping values: ['a']\u001B[39;00m\n\u001B[1;32m    346\u001B[0m \u001B[38;5;124;03m    \"\"\"\u001B[39;00m\n\u001B[0;32m--> 347\u001B[0m     op \u001B[38;5;241m=\u001B[39m \u001B[43m_Concatenator\u001B[49m\u001B[43m(\u001B[49m\n\u001B[1;32m    348\u001B[0m \u001B[43m        \u001B[49m\u001B[43mobjs\u001B[49m\u001B[43m,\u001B[49m\n\u001B[1;32m    349\u001B[0m \u001B[43m        \u001B[49m\u001B[43maxis\u001B[49m\u001B[38;5;241;43m=\u001B[39;49m\u001B[43maxis\u001B[49m\u001B[43m,\u001B[49m\n\u001B[1;32m    350\u001B[0m \u001B[43m        \u001B[49m\u001B[43mignore_index\u001B[49m\u001B[38;5;241;43m=\u001B[39;49m\u001B[43mignore_index\u001B[49m\u001B[43m,\u001B[49m\n\u001B[1;32m    351\u001B[0m \u001B[43m        \u001B[49m\u001B[43mjoin\u001B[49m\u001B[38;5;241;43m=\u001B[39;49m\u001B[43mjoin\u001B[49m\u001B[43m,\u001B[49m\n\u001B[1;32m    352\u001B[0m \u001B[43m        \u001B[49m\u001B[43mkeys\u001B[49m\u001B[38;5;241;43m=\u001B[39;49m\u001B[43mkeys\u001B[49m\u001B[43m,\u001B[49m\n\u001B[1;32m    353\u001B[0m \u001B[43m        \u001B[49m\u001B[43mlevels\u001B[49m\u001B[38;5;241;43m=\u001B[39;49m\u001B[43mlevels\u001B[49m\u001B[43m,\u001B[49m\n\u001B[1;32m    354\u001B[0m \u001B[43m        \u001B[49m\u001B[43mnames\u001B[49m\u001B[38;5;241;43m=\u001B[39;49m\u001B[43mnames\u001B[49m\u001B[43m,\u001B[49m\n\u001B[1;32m    355\u001B[0m \u001B[43m        \u001B[49m\u001B[43mverify_integrity\u001B[49m\u001B[38;5;241;43m=\u001B[39;49m\u001B[43mverify_integrity\u001B[49m\u001B[43m,\u001B[49m\n\u001B[1;32m    356\u001B[0m \u001B[43m        \u001B[49m\u001B[43mcopy\u001B[49m\u001B[38;5;241;43m=\u001B[39;49m\u001B[43mcopy\u001B[49m\u001B[43m,\u001B[49m\n\u001B[1;32m    357\u001B[0m \u001B[43m        \u001B[49m\u001B[43msort\u001B[49m\u001B[38;5;241;43m=\u001B[39;49m\u001B[43msort\u001B[49m\u001B[43m,\u001B[49m\n\u001B[1;32m    358\u001B[0m \u001B[43m    \u001B[49m\u001B[43m)\u001B[49m\n\u001B[1;32m    360\u001B[0m     \u001B[38;5;28;01mreturn\u001B[39;00m op\u001B[38;5;241m.\u001B[39mget_result()\n",
      "File \u001B[0;32m/opt/miniconda3/envs/TrackingAnalysis/lib/python3.10/site-packages/pandas/core/reshape/concat.py:382\u001B[0m, in \u001B[0;36m_Concatenator.__init__\u001B[0;34m(self, objs, axis, join, keys, levels, names, ignore_index, verify_integrity, copy, sort)\u001B[0m\n\u001B[1;32m    368\u001B[0m \u001B[38;5;28;01mdef\u001B[39;00m \u001B[38;5;21m__init__\u001B[39m(\n\u001B[1;32m    369\u001B[0m     \u001B[38;5;28mself\u001B[39m,\n\u001B[1;32m    370\u001B[0m     objs: Iterable[NDFrame] \u001B[38;5;241m|\u001B[39m Mapping[Hashable, NDFrame],\n\u001B[0;32m   (...)\u001B[0m\n\u001B[1;32m    379\u001B[0m     sort\u001B[38;5;241m=\u001B[39m\u001B[38;5;28;01mFalse\u001B[39;00m,\n\u001B[1;32m    380\u001B[0m ):\n\u001B[1;32m    381\u001B[0m     \u001B[38;5;28;01mif\u001B[39;00m \u001B[38;5;28misinstance\u001B[39m(objs, (ABCSeries, ABCDataFrame, \u001B[38;5;28mstr\u001B[39m)):\n\u001B[0;32m--> 382\u001B[0m         \u001B[38;5;28;01mraise\u001B[39;00m \u001B[38;5;167;01mTypeError\u001B[39;00m(\n\u001B[1;32m    383\u001B[0m             \u001B[38;5;124m\"\u001B[39m\u001B[38;5;124mfirst argument must be an iterable of pandas \u001B[39m\u001B[38;5;124m\"\u001B[39m\n\u001B[1;32m    384\u001B[0m             \u001B[38;5;124mf\u001B[39m\u001B[38;5;124m'\u001B[39m\u001B[38;5;124mobjects, you passed an object of type \u001B[39m\u001B[38;5;124m\"\u001B[39m\u001B[38;5;132;01m{\u001B[39;00m\u001B[38;5;28mtype\u001B[39m(objs)\u001B[38;5;241m.\u001B[39m\u001B[38;5;18m__name__\u001B[39m\u001B[38;5;132;01m}\u001B[39;00m\u001B[38;5;124m\"\u001B[39m\u001B[38;5;124m'\u001B[39m\n\u001B[1;32m    385\u001B[0m         )\n\u001B[1;32m    387\u001B[0m     \u001B[38;5;28;01mif\u001B[39;00m join \u001B[38;5;241m==\u001B[39m \u001B[38;5;124m\"\u001B[39m\u001B[38;5;124mouter\u001B[39m\u001B[38;5;124m\"\u001B[39m:\n\u001B[1;32m    388\u001B[0m         \u001B[38;5;28mself\u001B[39m\u001B[38;5;241m.\u001B[39mintersect \u001B[38;5;241m=\u001B[39m \u001B[38;5;28;01mFalse\u001B[39;00m\n",
      "\u001B[0;31mTypeError\u001B[0m: first argument must be an iterable of pandas objects, you passed an object of type \"type\""
     ]
    }
   ],
   "source": [
    "\n",
    "CI_Data = pd.DataFrame\n",
    "\n",
    "\n",
    "for t in Treshs:\n",
    "\n",
    "        for index, row in Melted.iterrows():\n",
    "        # print(row['Durations Left Corner'])\n",
    "\n",
    "        # print (1 for i in row['Durations Left Corner'])\n",
    "            Melted.loc[index, \"Peeks\"] = sum(\n",
    "                1 for i in ast.literal_eval(row[\"Durations\"]) if i > t\n",
    "            )\n",
    "        Stat_Data=Melted.groupby(['Training', 'Condition'])\n",
    "        Groups = list(Stat_Data.groups.keys())\n",
    "\n",
    "        ConfInts = Stat_Data['Peeks'].apply(lambda x: draw_bs_ci(x))\n",
    "        Means = Stat_Data['Peeks'].mean()\n",
    "\n",
    "        C_Unst = ConfInts.unstack().reset_index()\n",
    "        CMelt = pd.melt(\n",
    "            C_Unst,\n",
    "            id_vars=[\"Training\",],\n",
    "            value_name=\"CI\",\n",
    "            value_vars=[\n",
    "                \"Empty\",\n",
    "                \"Punished\",\n",
    "                \"Rewarded\"\n",
    "            ],\n",
    "            var_name=\"Condition\",\n",
    "        )\n",
    "\n",
    "        M_Unst = Means.unstack().reset_index()\n",
    "\n",
    "        MMelt = pd.melt(\n",
    "            M_Unst,\n",
    "            id_vars=[\"Training\",],\n",
    "            value_name=\"Mean\",\n",
    "            value_vars=[\n",
    "                \"Empty\",\n",
    "                \"Punished\",\n",
    "                \"Rewarded\"\n",
    "            ],\n",
    "            var_name=\"Condition\",\n",
    "        )\n",
    "\n",
    "        Merged= pd.merge(CMelt, MMelt, on=[\"Training\", \"Condition\"])\n",
    "\n",
    "        Merged['Treshold'] = t\n",
    "\n",
    "        yield(Merged)\n",
    "        #CI_Data= pd.concat(CI_Data,Merged)\n",
    "\n",
    "\n",
    "\n",
    "\n",
    "\n"
   ],
   "metadata": {
    "collapsed": false,
    "pycharm": {
     "name": "#%%\n"
    }
   }
  },
  {
   "cell_type": "code",
   "execution_count": 91,
   "outputs": [],
   "source": [
    "CI_Data = pd.DataFrame\n",
    "\n",
    "\n",
    "#for t in Treshs:\n",
    "def TreshComp (Treshs):\n",
    "    for t in Treshs:\n",
    "        for index, row in Melted.iterrows():\n",
    "        # print(row['Durations Left Corner'])\n",
    "\n",
    "        # print (1 for i in row['Durations Left Corner'])\n",
    "            Melted.loc[index, \"Peeks\"] = sum(\n",
    "                1 for i in ast.literal_eval(row[\"Durations\"]) if i > t\n",
    "            )\n",
    "        Stat_Data=Melted.groupby(['Training', 'Condition'])\n",
    "        Groups = list(Stat_Data.groups.keys())\n",
    "\n",
    "        ConfInts = Stat_Data['Peeks'].apply(lambda x: draw_bs_ci(x))\n",
    "        Means = Stat_Data['Peeks'].mean()\n",
    "\n",
    "        C_Unst = ConfInts.unstack().reset_index()\n",
    "        CMelt = pd.melt(\n",
    "            C_Unst,\n",
    "            id_vars=[\"Training\",],\n",
    "            value_name=\"CI\",\n",
    "            value_vars=[\n",
    "                \"Empty\",\n",
    "                \"Punished\",\n",
    "                \"Rewarded\"\n",
    "            ],\n",
    "            var_name=\"Condition\",\n",
    "        )\n",
    "\n",
    "        M_Unst = Means.unstack().reset_index()\n",
    "\n",
    "        MMelt = pd.melt(\n",
    "            M_Unst,\n",
    "            id_vars=[\"Training\",],\n",
    "            value_name=\"Mean\",\n",
    "            value_vars=[\n",
    "                \"Empty\",\n",
    "                \"Punished\",\n",
    "                \"Rewarded\"\n",
    "            ],\n",
    "            var_name=\"Condition\",\n",
    "        )\n",
    "\n",
    "        Merged= pd.merge(CMelt, MMelt, on=[\"Training\", \"Condition\"])\n",
    "\n",
    "        Merged['Treshold'] = t\n",
    "\n",
    "        yield(Merged)\n",
    "        #CI_Data= pd.concat(CI_Data,Merged)"
   ],
   "metadata": {
    "collapsed": false,
    "pycharm": {
     "name": "#%%\n"
    }
   }
  },
  {
   "cell_type": "code",
   "execution_count": 92,
   "outputs": [],
   "source": [
    "CI_Data = pd.concat(TreshComp(Treshs))\n"
   ],
   "metadata": {
    "collapsed": false,
    "pycharm": {
     "name": "#%%\n"
    }
   }
  },
  {
   "cell_type": "markdown",
   "source": [],
   "metadata": {
    "collapsed": false,
    "pycharm": {
     "name": "#%% md\n"
    }
   }
  },
  {
   "cell_type": "code",
   "execution_count": 19,
   "outputs": [
    {
     "data": {
      "text/plain": "7.103448275862069"
     },
     "execution_count": 19,
     "metadata": {},
     "output_type": "execute_result"
    }
   ],
   "source": [
    "ConfInts[\"Ctrl\", \"Empty\"][1]"
   ],
   "metadata": {
    "collapsed": false,
    "pycharm": {
     "name": "#%%\n"
    }
   }
  },
  {
   "cell_type": "code",
   "execution_count": 29,
   "outputs": [],
   "source": [
    "Intervals = CI_Data['ConfInts']"
   ],
   "metadata": {
    "collapsed": false,
    "pycharm": {
     "name": "#%%\n"
    }
   }
  },
  {
   "cell_type": "code",
   "execution_count": 40,
   "outputs": [
    {
     "data": {
      "text/plain": "array([Training  Condition\n       Ctrl      Empty          [27.41336206896552, 35.22456896551724]\n                 Punished      [26.948275862068964, 35.43103448275862]\n                 Rewarded     [24.724137931034484, 32.879741379310346]\n       Trained   Empty                                [26.1385, 34.58]\n                 Punished                             [29.32, 38.8805]\n                 Rewarded                             [25.5795, 34.48]\n       Name: Peeks, dtype: object                                     ,\n       Training  Condition\n       Ctrl      Empty        [22.257758620689653, 28.190517241379307]\n                 Punished      [20.93103448275862, 27.138362068965513]\n                 Rewarded       [18.93103448275862, 25.17241379310345]\n       Trained   Empty                                [21.3795, 28.48]\n                 Punished                  [22.48, 29.840999999999994]\n                 Rewarded                             [19.28, 25.7805]\n       Name: Peeks, dtype: object                                     ,\n       Training  Condition\n       Ctrl      Empty         [16.53448275862069, 21.396982758620688]\n                 Punished      [14.70646551724138, 18.931465517241374]\n                 Rewarded     [13.586206896551724, 18.862499999999997]\n       Trained   Empty                                [15.2195, 20.22]\n                 Punished                              [15.758, 21.04]\n                 Rewarded                             [13.42, 17.9205]\n       Name: Peeks, dtype: object                                     ,\n       Training  Condition\n       Ctrl      Empty         [11.53448275862069, 15.568965517241379]\n                 Punished     [10.309482758620689, 13.862499999999999]\n                 Rewarded                   [10.017241379310345, 14.0]\n       Trained   Empty                                   [10.96, 14.6]\n                 Punished                               [11.16, 15.16]\n                 Rewarded                                [9.58, 13.06]\n       Name: Peeks, dtype: object                                     ,\n       Training  Condition\n       Ctrl      Empty         [8.03448275862069, 11.362068965517242]\n                 Punished     [7.310344827586207, 10.344827586206897]\n                 Rewarded     [7.568965517241379, 10.586206896551724]\n       Trained   Empty                     [8.34, 11.220999999999995]\n                 Punished                  [8.74, 11.980499999999997]\n                 Rewarded                [7.1395, 10.180499999999997]\n       Name: Peeks, dtype: object                                    ,\n       Training  Condition\n       Ctrl      Empty        [5.948275862068965, 8.620689655172415]\n                 Punished     [5.740948275862069, 8.345258620689654]\n                 Rewarded     [5.844827586206897, 8.379310344827585]\n       Trained   Empty                                [6.4595, 9.04]\n                 Punished                              [6.9195, 9.8]\n                 Rewarded                  [5.62, 8.240499999999997]\n       Name: Peeks, dtype: object                                   ,\n       Training  Condition\n       Ctrl      Empty         [4.620689655172414, 7.120689655172414]\n                 Punished     [4.5344827586206895, 6.879310344827586]\n                 Rewarded      [4.724137931034483, 7.120689655172414]\n       Trained   Empty                                   [5.44, 7.74]\n                 Punished                    [5.859500000000001, 8.2]\n                 Rewarded                   [4.52, 6.820499999999997]\n       Name: Peeks, dtype: object                                    ,\n       Training  Condition\n       Ctrl      Empty        [3.7586206896551726, 5.896551724137931]\n                 Punished     [3.7758620689655173, 5.775862068965517]\n                 Rewarded     [3.7413793103448274, 5.637931034482759]\n       Trained   Empty                      [4.14, 6.220499999999997]\n                 Punished                                [4.82, 6.98]\n                 Rewarded                                [3.72, 5.82]\n       Name: Peeks, dtype: object                                    ,\n       Training  Condition\n       Ctrl      Empty        [3.120258620689655, 4.9655172413793105]\n                 Punished      [3.1551724137931036, 5.08663793103448]\n                 Rewarded      [3.258189655172414, 5.051724137931035]\n       Trained   Empty                                   [3.32, 5.26]\n                 Punished                                [3.84, 5.82]\n                 Rewarded                              [3.1395, 4.98]\n       Name: Peeks, dtype: object                                    ,\n       Training  Condition\n       Ctrl      Empty        [2.6206896551724137, 4.413793103448276]\n                 Punished      [2.706896551724138, 4.482758620689655]\n                 Rewarded     [2.6206896551724137, 4.155172413793103]\n       Trained   Empty                                   [2.72, 4.56]\n                 Punished                                [3.34, 5.12]\n                 Rewarded                               [2.6395, 4.3]\n       Name: Peeks, dtype: object                                    ,\n       Training  Condition\n       Ctrl      Empty          [2.430603448275862, 4.086206896551724]\n                 Punished     [2.4995689655172413, 4.1038793103448254]\n                 Rewarded      [2.293103448275862, 3.6724137931034484]\n       Trained   Empty                                  [2.5395, 4.36]\n                 Punished                                 [2.94, 4.56]\n                 Rewarded                                 [2.28, 3.74]\n       Name: Peeks, dtype: object                                     ,\n       Training  Condition\n       Ctrl      Empty         [2.1379310344827585, 3.689655172413793]\n                 Punished     [2.1551724137931036, 3.5689655172413794]\n                 Rewarded     [2.1374999999999997, 3.4659482758620666]\n       Trained   Empty                                    [2.22, 4.02]\n                 Punished                                   [2.5, 4.1]\n                 Rewarded                                 [2.02, 3.44]\n       Name: Peeks, dtype: object                                     ,\n       Training  Condition\n       Ctrl      Empty                      [2.0, 3.4482758620689653]\n                 Punished      [1.896551724137931, 3.207327586206894]\n                 Rewarded     [1.9482758620689655, 3.086206896551724]\n       Trained   Empty                                   [2.16, 3.88]\n                 Punished                                [2.32, 3.82]\n                 Rewarded                                [1.82, 3.16]\n       Name: Peeks, dtype: object                                    ,\n       Training  Condition\n       Ctrl      Empty        [1.6896551724137931, 3.1211206896551698]\n                 Punished     [1.7241379310344827, 2.9482758620689653]\n                 Rewarded                    [1.7754310344827589, 3.0]\n       Trained   Empty                                    [2.02, 3.72]\n                 Punished                                 [2.06, 3.48]\n                 Rewarded                                  [1.7, 2.98]\n       Name: Peeks, dtype: object                                     ,\n       Training  Condition\n       Ctrl      Empty          [1.654741379310345, 3.017672413793101]\n                 Punished      [1.6206896551724137, 2.793103448275862]\n                 Rewarded     [1.5689655172413792, 2.7241379310344827]\n       Trained   Empty                                    [1.98, 3.66]\n                 Punished                                  [1.96, 3.3]\n                 Rewarded                    [1.62, 2.860499999999997]\n       Name: Peeks, dtype: object                                     ,\n       Training  Condition\n       Ctrl      Empty        [1.6379310344827587, 2.9655172413793105]\n                 Punished     [1.5517241379310345, 2.6551724137931036]\n                 Rewarded     [1.5172413793103448, 2.6551724137931036]\n       Trained   Empty                                    [1.94, 3.52]\n                 Punished                                 [1.74, 3.04]\n                 Rewarded                                  [1.42, 2.7]\n       Name: Peeks, dtype: object                                     ,\n       Training  Condition\n       Ctrl      Empty        [1.5340517241379312, 2.9310344827586206]\n                 Punished                     [1.5, 2.586206896551724]\n                 Rewarded     [1.4137931034482758, 2.4310344827586206]\n       Trained   Empty                                      [1.8, 3.4]\n                 Punished                               [1.6595, 2.92]\n                 Rewarded                                 [1.36, 2.56]\n       Name: Peeks, dtype: object                                     ,\n       Training  Condition\n       Ctrl      Empty        [1.4827586206896552, 2.7758620689655173]\n                 Punished     [1.3793103448275863, 2.3280172413793077]\n                 Rewarded     [1.3620689655172413, 2.3793103448275863]\n       Trained   Empty                                    [1.68, 3.22]\n                 Punished                                 [1.56, 2.78]\n                 Rewarded                    [1.32, 2.460499999999997]\n       Name: Peeks, dtype: object                                     ,\n       Training  Condition\n       Ctrl      Empty         [1.4137931034482758, 2.690086206896549]\n                 Punished       [1.293103448275862, 2.206896551724138]\n                 Rewarded     [1.2586206896551724, 2.2245689655172387]\n       Trained   Empty                                    [1.64, 3.18]\n                 Punished                                   [1.5, 2.6]\n                 Rewarded                                [1.1595, 2.3]\n       Name: Peeks, dtype: object                                     ,\n       Training  Condition\n       Ctrl      Empty        [1.3793103448275863, 2.5344827586206895]\n                 Punished      [1.2413793103448276, 2.086206896551724]\n                 Rewarded     [1.1724137931034482, 2.1724137931034484]\n       Trained   Empty                                    [1.62, 3.08]\n                 Punished                                  [1.32, 2.4]\n                 Rewarded                                 [1.08, 2.16]\n       Name: Peeks, dtype: object                                     ,\n       Training  Condition\n       Ctrl      Empty         [1.2586206896551724, 2.413793103448276]\n                 Punished     [1.1551724137931034, 1.9655172413793103]\n                 Rewarded      [1.1551724137931034, 2.086206896551724]\n       Trained   Empty                                    [1.56, 2.98]\n                 Punished                                 [1.22, 2.32]\n                 Rewarded                                  [1.1, 2.14]\n       Name: Peeks, dtype: object                                     ,\n       Training  Condition\n       Ctrl      Empty         [1.206896551724138, 2.3793103448275863]\n                 Punished     [1.0862068965517242, 1.9137931034482758]\n                 Rewarded     [1.1379310344827587, 2.0689655172413794]\n       Trained   Empty                                     [1.5, 2.94]\n                 Punished                                 [1.16, 2.22]\n                 Rewarded                     [1.1, 2.140499999999997]\n       Name: Peeks, dtype: object                                     ,\n       Training  Condition\n       Ctrl      Empty         [1.1724137931034482, 2.310344827586207]\n                 Punished     [1.0344827586206897, 1.8620689655172413]\n                 Rewarded     [1.0862068965517242, 2.0172413793103448]\n       Trained   Empty                                    [1.42, 2.88]\n                 Punished                                 [1.14, 2.16]\n                 Rewarded                                  [1.1, 2.12]\n       Name: Peeks, dtype: object                                     ,\n       Training  Condition\n       Ctrl      Empty        [1.1379310344827587, 2.2586206896551726]\n                 Punished      [0.9655172413793104, 1.793103448275862]\n                 Rewarded      [1.051293103448276, 1.9827586206896552]\n       Trained   Empty                       [1.38, 2.820499999999997]\n                 Punished                                  [1.1, 2.08]\n                 Rewarded                                 [1.04, 2.06]\n       Name: Peeks, dtype: object                                     ,\n       Training  Condition\n       Ctrl      Empty        [1.1551724137931034, 2.2413793103448274]\n                 Punished     [0.9310344827586207, 1.6724137931034482]\n                 Rewarded     [1.0172413793103448, 1.9827586206896552]\n       Trained   Empty                                    [1.34, 2.82]\n                 Punished                                 [1.04, 2.06]\n                 Rewarded                                 [0.96, 1.98]\n       Name: Peeks, dtype: object                                     ,\n       Training  Condition\n       Ctrl      Empty          [1.103448275862069, 2.206896551724138]\n                 Punished     [0.9137931034482759, 1.6551724137931034]\n                 Rewarded     [0.9827586206896551, 1.8448275862068966]\n       Trained   Empty                                     [1.36, 2.8]\n                 Punished                                  [1.02, 2.0]\n                 Rewarded                                 [0.88, 1.86]\n       Name: Peeks, dtype: object                                     ,\n       Training  Condition\n       Ctrl      Empty        [1.0689655172413792, 2.1551724137931036]\n                 Punished     [0.8620689655172413, 1.6206896551724137]\n                 Rewarded     [0.9655172413793104, 1.8103448275862069]\n       Trained   Empty                                     [1.3, 2.74]\n                 Punished                    [1.02, 2.000499999999997]\n                 Rewarded                                 [0.88, 1.84]\n       Name: Peeks, dtype: object                                     ,\n       Training  Condition\n       Ctrl      Empty         [1.0517241379310345, 2.086206896551724]\n                 Punished     [0.8275862068965517, 1.5689655172413792]\n                 Rewarded      [0.930603448275862, 1.7413793103448276]\n       Trained   Empty                                    [1.32, 2.68]\n                 Punished                                 [0.98, 1.92]\n                 Rewarded                                 [0.88, 1.84]\n       Name: Peeks, dtype: object                                     ],\n      dtype=object)"
     },
     "execution_count": 40,
     "metadata": {},
     "output_type": "execute_result"
    }
   ],
   "source": [
    "Intervals.values"
   ],
   "metadata": {
    "collapsed": false,
    "pycharm": {
     "name": "#%%\n"
    }
   }
  },
  {
   "cell_type": "code",
   "execution_count": 41,
   "outputs": [
    {
     "data": {
      "text/plain": "[{'ConfInts': Training  Condition\n  Ctrl      Empty          [27.41336206896552, 35.22456896551724]\n            Punished      [26.948275862068964, 35.43103448275862]\n            Rewarded     [24.724137931034484, 32.879741379310346]\n  Trained   Empty                                [26.1385, 34.58]\n            Punished                             [29.32, 38.8805]\n            Rewarded                             [25.5795, 34.48]\n  Name: Peeks, dtype: object,\n  'Means': Training  Condition\n  Ctrl      Empty        31.120690\n            Punished     31.241379\n            Rewarded     28.655172\n  Trained   Empty        30.460000\n            Punished     33.980000\n            Rewarded     29.960000\n  Name: Peeks, dtype: float64},\n {'ConfInts': Training  Condition\n  Ctrl      Empty        [22.257758620689653, 28.190517241379307]\n            Punished      [20.93103448275862, 27.138362068965513]\n            Rewarded       [18.93103448275862, 25.17241379310345]\n  Trained   Empty                                [21.3795, 28.48]\n            Punished                  [22.48, 29.840999999999994]\n            Rewarded                             [19.28, 25.7805]\n  Name: Peeks, dtype: object,\n  'Means': Training  Condition\n  Ctrl      Empty        25.327586\n            Punished     24.155172\n            Rewarded     22.172414\n  Trained   Empty        25.060000\n            Punished     26.140000\n            Rewarded     22.460000\n  Name: Peeks, dtype: float64},\n {'ConfInts': Training  Condition\n  Ctrl      Empty         [16.53448275862069, 21.396982758620688]\n            Punished      [14.70646551724138, 18.931465517241374]\n            Rewarded     [13.586206896551724, 18.862499999999997]\n  Trained   Empty                                [15.2195, 20.22]\n            Punished                              [15.758, 21.04]\n            Rewarded                             [13.42, 17.9205]\n  Name: Peeks, dtype: object,\n  'Means': Training  Condition\n  Ctrl      Empty        19.034483\n            Punished     16.793103\n            Rewarded     16.155172\n  Trained   Empty        17.700000\n            Punished     18.380000\n            Rewarded     15.700000\n  Name: Peeks, dtype: float64},\n {'ConfInts': Training  Condition\n  Ctrl      Empty         [11.53448275862069, 15.568965517241379]\n            Punished     [10.309482758620689, 13.862499999999999]\n            Rewarded                   [10.017241379310345, 14.0]\n  Trained   Empty                                   [10.96, 14.6]\n            Punished                               [11.16, 15.16]\n            Rewarded                                [9.58, 13.06]\n  Name: Peeks, dtype: object,\n  'Means': Training  Condition\n  Ctrl      Empty        13.482759\n            Punished     12.051724\n            Rewarded     11.982759\n  Trained   Empty        12.760000\n            Punished     13.180000\n            Rewarded     11.320000\n  Name: Peeks, dtype: float64},\n {'ConfInts': Training  Condition\n  Ctrl      Empty         [8.03448275862069, 11.362068965517242]\n            Punished     [7.310344827586207, 10.344827586206897]\n            Rewarded     [7.568965517241379, 10.586206896551724]\n  Trained   Empty                     [8.34, 11.220999999999995]\n            Punished                  [8.74, 11.980499999999997]\n            Rewarded                [7.1395, 10.180499999999997]\n  Name: Peeks, dtype: object,\n  'Means': Training  Condition\n  Ctrl      Empty         9.655172\n            Punished      8.775862\n            Rewarded      9.017241\n  Trained   Empty         9.740000\n            Punished     10.340000\n            Rewarded      8.640000\n  Name: Peeks, dtype: float64},\n {'ConfInts': Training  Condition\n  Ctrl      Empty        [5.948275862068965, 8.620689655172415]\n            Punished     [5.740948275862069, 8.345258620689654]\n            Rewarded     [5.844827586206897, 8.379310344827585]\n  Trained   Empty                                [6.4595, 9.04]\n            Punished                              [6.9195, 9.8]\n            Rewarded                  [5.62, 8.240499999999997]\n  Name: Peeks, dtype: object,\n  'Means': Training  Condition\n  Ctrl      Empty        7.275862\n            Punished     7.017241\n            Rewarded     7.068966\n  Trained   Empty        7.740000\n            Punished     8.320000\n            Rewarded     6.920000\n  Name: Peeks, dtype: float64},\n {'ConfInts': Training  Condition\n  Ctrl      Empty         [4.620689655172414, 7.120689655172414]\n            Punished     [4.5344827586206895, 6.879310344827586]\n            Rewarded      [4.724137931034483, 7.120689655172414]\n  Trained   Empty                                   [5.44, 7.74]\n            Punished                    [5.859500000000001, 8.2]\n            Rewarded                   [4.52, 6.820499999999997]\n  Name: Peeks, dtype: object,\n  'Means': Training  Condition\n  Ctrl      Empty        5.810345\n            Punished     5.672414\n            Rewarded     5.844828\n  Trained   Empty        6.540000\n            Punished     6.980000\n            Rewarded     5.660000\n  Name: Peeks, dtype: float64},\n {'ConfInts': Training  Condition\n  Ctrl      Empty        [3.7586206896551726, 5.896551724137931]\n            Punished     [3.7758620689655173, 5.775862068965517]\n            Rewarded     [3.7413793103448274, 5.637931034482759]\n  Trained   Empty                      [4.14, 6.220499999999997]\n            Punished                                [4.82, 6.98]\n            Rewarded                                [3.72, 5.82]\n  Name: Peeks, dtype: object,\n  'Means': Training  Condition\n  Ctrl      Empty        4.775862\n            Punished     4.741379\n            Rewarded     4.655172\n  Trained   Empty        5.140000\n            Punished     5.860000\n            Rewarded     4.740000\n  Name: Peeks, dtype: float64},\n {'ConfInts': Training  Condition\n  Ctrl      Empty        [3.120258620689655, 4.9655172413793105]\n            Punished      [3.1551724137931036, 5.08663793103448]\n            Rewarded      [3.258189655172414, 5.051724137931035]\n  Trained   Empty                                   [3.32, 5.26]\n            Punished                                [3.84, 5.82]\n            Rewarded                              [3.1395, 4.98]\n  Name: Peeks, dtype: object,\n  'Means': Training  Condition\n  Ctrl      Empty        3.982759\n            Punished     4.103448\n            Rewarded     4.120690\n  Trained   Empty        4.260000\n            Punished     4.820000\n            Rewarded     4.020000\n  Name: Peeks, dtype: float64},\n {'ConfInts': Training  Condition\n  Ctrl      Empty        [2.6206896551724137, 4.413793103448276]\n            Punished      [2.706896551724138, 4.482758620689655]\n            Rewarded     [2.6206896551724137, 4.155172413793103]\n  Trained   Empty                                   [2.72, 4.56]\n            Punished                                [3.34, 5.12]\n            Rewarded                               [2.6395, 4.3]\n  Name: Peeks, dtype: object,\n  'Means': Training  Condition\n  Ctrl      Empty        3.500000\n            Punished     3.586207\n            Rewarded     3.362069\n  Trained   Empty        3.620000\n            Punished     4.240000\n            Rewarded     3.460000\n  Name: Peeks, dtype: float64},\n {'ConfInts': Training  Condition\n  Ctrl      Empty          [2.430603448275862, 4.086206896551724]\n            Punished     [2.4995689655172413, 4.1038793103448254]\n            Rewarded      [2.293103448275862, 3.6724137931034484]\n  Trained   Empty                                  [2.5395, 4.36]\n            Punished                                 [2.94, 4.56]\n            Rewarded                                 [2.28, 3.74]\n  Name: Peeks, dtype: object,\n  'Means': Training  Condition\n  Ctrl      Empty        3.189655\n            Punished     3.258621\n            Rewarded     2.948276\n  Trained   Empty        3.380000\n            Punished     3.720000\n            Rewarded     3.000000\n  Name: Peeks, dtype: float64},\n {'ConfInts': Training  Condition\n  Ctrl      Empty         [2.1379310344827585, 3.689655172413793]\n            Punished     [2.1551724137931036, 3.5689655172413794]\n            Rewarded     [2.1374999999999997, 3.4659482758620666]\n  Trained   Empty                                    [2.22, 4.02]\n            Punished                                   [2.5, 4.1]\n            Rewarded                                 [2.02, 3.44]\n  Name: Peeks, dtype: object,\n  'Means': Training  Condition\n  Ctrl      Empty        2.879310\n            Punished     2.844828\n            Rewarded     2.758621\n  Trained   Empty        3.100000\n            Punished     3.280000\n            Rewarded     2.680000\n  Name: Peeks, dtype: float64},\n {'ConfInts': Training  Condition\n  Ctrl      Empty                      [2.0, 3.4482758620689653]\n            Punished      [1.896551724137931, 3.207327586206894]\n            Rewarded     [1.9482758620689655, 3.086206896551724]\n  Trained   Empty                                   [2.16, 3.88]\n            Punished                                [2.32, 3.82]\n            Rewarded                                [1.82, 3.16]\n  Name: Peeks, dtype: object,\n  'Means': Training  Condition\n  Ctrl      Empty        2.689655\n            Punished     2.551724\n            Rewarded     2.500000\n  Trained   Empty        2.980000\n            Punished     3.020000\n            Rewarded     2.480000\n  Name: Peeks, dtype: float64},\n {'ConfInts': Training  Condition\n  Ctrl      Empty        [1.6896551724137931, 3.1211206896551698]\n            Punished     [1.7241379310344827, 2.9482758620689653]\n            Rewarded                    [1.7754310344827589, 3.0]\n  Trained   Empty                                    [2.02, 3.72]\n            Punished                                 [2.06, 3.48]\n            Rewarded                                  [1.7, 2.98]\n  Name: Peeks, dtype: object,\n  'Means': Training  Condition\n  Ctrl      Empty        2.379310\n            Punished     2.293103\n            Rewarded     2.344828\n  Trained   Empty        2.840000\n            Punished     2.740000\n            Rewarded     2.320000\n  Name: Peeks, dtype: float64},\n {'ConfInts': Training  Condition\n  Ctrl      Empty          [1.654741379310345, 3.017672413793101]\n            Punished      [1.6206896551724137, 2.793103448275862]\n            Rewarded     [1.5689655172413792, 2.7241379310344827]\n  Trained   Empty                                    [1.98, 3.66]\n            Punished                                  [1.96, 3.3]\n            Rewarded                    [1.62, 2.860499999999997]\n  Name: Peeks, dtype: object,\n  'Means': Training  Condition\n  Ctrl      Empty        2.293103\n            Punished     2.206897\n            Rewarded     2.120690\n  Trained   Empty        2.780000\n            Punished     2.620000\n            Rewarded     2.220000\n  Name: Peeks, dtype: float64},\n {'ConfInts': Training  Condition\n  Ctrl      Empty        [1.6379310344827587, 2.9655172413793105]\n            Punished     [1.5517241379310345, 2.6551724137931036]\n            Rewarded     [1.5172413793103448, 2.6551724137931036]\n  Trained   Empty                                    [1.94, 3.52]\n            Punished                                 [1.74, 3.04]\n            Rewarded                                  [1.42, 2.7]\n  Name: Peeks, dtype: object,\n  'Means': Training  Condition\n  Ctrl      Empty        2.258621\n            Punished     2.086207\n            Rewarded     2.051724\n  Trained   Empty        2.700000\n            Punished     2.380000\n            Rewarded     2.040000\n  Name: Peeks, dtype: float64},\n {'ConfInts': Training  Condition\n  Ctrl      Empty        [1.5340517241379312, 2.9310344827586206]\n            Punished                     [1.5, 2.586206896551724]\n            Rewarded     [1.4137931034482758, 2.4310344827586206]\n  Trained   Empty                                      [1.8, 3.4]\n            Punished                               [1.6595, 2.92]\n            Rewarded                                 [1.36, 2.56]\n  Name: Peeks, dtype: object,\n  'Means': Training  Condition\n  Ctrl      Empty        2.189655\n            Punished     2.034483\n            Rewarded     1.896552\n  Trained   Empty        2.560000\n            Punished     2.280000\n            Rewarded     1.920000\n  Name: Peeks, dtype: float64},\n {'ConfInts': Training  Condition\n  Ctrl      Empty        [1.4827586206896552, 2.7758620689655173]\n            Punished     [1.3793103448275863, 2.3280172413793077]\n            Rewarded     [1.3620689655172413, 2.3793103448275863]\n  Trained   Empty                                    [1.68, 3.22]\n            Punished                                 [1.56, 2.78]\n            Rewarded                    [1.32, 2.460499999999997]\n  Name: Peeks, dtype: object,\n  'Means': Training  Condition\n  Ctrl      Empty        2.103448\n            Punished     1.862069\n            Rewarded     1.827586\n  Trained   Empty        2.400000\n            Punished     2.140000\n            Rewarded     1.860000\n  Name: Peeks, dtype: float64},\n {'ConfInts': Training  Condition\n  Ctrl      Empty         [1.4137931034482758, 2.690086206896549]\n            Punished       [1.293103448275862, 2.206896551724138]\n            Rewarded     [1.2586206896551724, 2.2245689655172387]\n  Trained   Empty                                    [1.64, 3.18]\n            Punished                                   [1.5, 2.6]\n            Rewarded                                [1.1595, 2.3]\n  Name: Peeks, dtype: object,\n  'Means': Training  Condition\n  Ctrl      Empty        2.017241\n            Punished     1.741379\n            Rewarded     1.724138\n  Trained   Empty        2.380000\n            Punished     2.020000\n            Rewarded     1.680000\n  Name: Peeks, dtype: float64},\n {'ConfInts': Training  Condition\n  Ctrl      Empty        [1.3793103448275863, 2.5344827586206895]\n            Punished      [1.2413793103448276, 2.086206896551724]\n            Rewarded     [1.1724137931034482, 2.1724137931034484]\n  Trained   Empty                                    [1.62, 3.08]\n            Punished                                  [1.32, 2.4]\n            Rewarded                                 [1.08, 2.16]\n  Name: Peeks, dtype: object,\n  'Means': Training  Condition\n  Ctrl      Empty        1.931034\n            Punished     1.672414\n            Rewarded     1.637931\n  Trained   Empty        2.320000\n            Punished     1.860000\n            Rewarded     1.600000\n  Name: Peeks, dtype: float64},\n {'ConfInts': Training  Condition\n  Ctrl      Empty         [1.2586206896551724, 2.413793103448276]\n            Punished     [1.1551724137931034, 1.9655172413793103]\n            Rewarded      [1.1551724137931034, 2.086206896551724]\n  Trained   Empty                                    [1.56, 2.98]\n            Punished                                 [1.22, 2.32]\n            Rewarded                                  [1.1, 2.14]\n  Name: Peeks, dtype: object,\n  'Means': Training  Condition\n  Ctrl      Empty        1.827586\n            Punished     1.551724\n            Rewarded     1.603448\n  Trained   Empty        2.240000\n            Punished     1.740000\n            Rewarded     1.600000\n  Name: Peeks, dtype: float64},\n {'ConfInts': Training  Condition\n  Ctrl      Empty         [1.206896551724138, 2.3793103448275863]\n            Punished     [1.0862068965517242, 1.9137931034482758]\n            Rewarded     [1.1379310344827587, 2.0689655172413794]\n  Trained   Empty                                     [1.5, 2.94]\n            Punished                                 [1.16, 2.22]\n            Rewarded                     [1.1, 2.140499999999997]\n  Name: Peeks, dtype: object,\n  'Means': Training  Condition\n  Ctrl      Empty        1.758621\n            Punished     1.482759\n            Rewarded     1.568966\n  Trained   Empty        2.200000\n            Punished     1.660000\n            Rewarded     1.600000\n  Name: Peeks, dtype: float64},\n {'ConfInts': Training  Condition\n  Ctrl      Empty         [1.1724137931034482, 2.310344827586207]\n            Punished     [1.0344827586206897, 1.8620689655172413]\n            Rewarded     [1.0862068965517242, 2.0172413793103448]\n  Trained   Empty                                    [1.42, 2.88]\n            Punished                                 [1.14, 2.16]\n            Rewarded                                  [1.1, 2.12]\n  Name: Peeks, dtype: object,\n  'Means': Training  Condition\n  Ctrl      Empty        1.706897\n            Punished     1.413793\n            Rewarded     1.517241\n  Trained   Empty        2.100000\n            Punished     1.620000\n            Rewarded     1.580000\n  Name: Peeks, dtype: float64},\n {'ConfInts': Training  Condition\n  Ctrl      Empty        [1.1379310344827587, 2.2586206896551726]\n            Punished      [0.9655172413793104, 1.793103448275862]\n            Rewarded      [1.051293103448276, 1.9827586206896552]\n  Trained   Empty                       [1.38, 2.820499999999997]\n            Punished                                  [1.1, 2.08]\n            Rewarded                                 [1.04, 2.06]\n  Name: Peeks, dtype: object,\n  'Means': Training  Condition\n  Ctrl      Empty        1.655172\n            Punished     1.362069\n            Rewarded     1.482759\n  Trained   Empty        2.060000\n            Punished     1.560000\n            Rewarded     1.520000\n  Name: Peeks, dtype: float64},\n {'ConfInts': Training  Condition\n  Ctrl      Empty        [1.1551724137931034, 2.2413793103448274]\n            Punished     [0.9310344827586207, 1.6724137931034482]\n            Rewarded     [1.0172413793103448, 1.9827586206896552]\n  Trained   Empty                                    [1.34, 2.82]\n            Punished                                 [1.04, 2.06]\n            Rewarded                                 [0.96, 1.98]\n  Name: Peeks, dtype: object,\n  'Means': Training  Condition\n  Ctrl      Empty        1.655172\n            Punished     1.293103\n            Rewarded     1.465517\n  Trained   Empty        2.040000\n            Punished     1.520000\n            Rewarded     1.440000\n  Name: Peeks, dtype: float64},\n {'ConfInts': Training  Condition\n  Ctrl      Empty          [1.103448275862069, 2.206896551724138]\n            Punished     [0.9137931034482759, 1.6551724137931034]\n            Rewarded     [0.9827586206896551, 1.8448275862068966]\n  Trained   Empty                                     [1.36, 2.8]\n            Punished                                  [1.02, 2.0]\n            Rewarded                                 [0.88, 1.86]\n  Name: Peeks, dtype: object,\n  'Means': Training  Condition\n  Ctrl      Empty        1.620690\n            Punished     1.275862\n            Rewarded     1.396552\n  Trained   Empty        2.040000\n            Punished     1.500000\n            Rewarded     1.340000\n  Name: Peeks, dtype: float64},\n {'ConfInts': Training  Condition\n  Ctrl      Empty        [1.0689655172413792, 2.1551724137931036]\n            Punished     [0.8620689655172413, 1.6206896551724137]\n            Rewarded     [0.9655172413793104, 1.8103448275862069]\n  Trained   Empty                                     [1.3, 2.74]\n            Punished                    [1.02, 2.000499999999997]\n            Rewarded                                 [0.88, 1.84]\n  Name: Peeks, dtype: object,\n  'Means': Training  Condition\n  Ctrl      Empty        1.568966\n            Punished     1.224138\n            Rewarded     1.379310\n  Trained   Empty        2.000000\n            Punished     1.480000\n            Rewarded     1.320000\n  Name: Peeks, dtype: float64},\n {'ConfInts': Training  Condition\n  Ctrl      Empty         [1.0517241379310345, 2.086206896551724]\n            Punished     [0.8275862068965517, 1.5689655172413792]\n            Rewarded      [0.930603448275862, 1.7413793103448276]\n  Trained   Empty                                    [1.32, 2.68]\n            Punished                                 [0.98, 1.92]\n            Rewarded                                 [0.88, 1.84]\n  Name: Peeks, dtype: object,\n  'Means': Training  Condition\n  Ctrl      Empty        1.551724\n            Punished     1.172414\n            Rewarded     1.327586\n  Trained   Empty        1.980000\n            Punished     1.420000\n            Rewarded     1.320000\n  Name: Peeks, dtype: float64}]"
     },
     "execution_count": 41,
     "metadata": {},
     "output_type": "execute_result"
    }
   ],
   "source": [
    "CI"
   ],
   "metadata": {
    "collapsed": false,
    "pycharm": {
     "name": "#%%\n"
    }
   }
  },
  {
   "cell_type": "code",
   "execution_count": 44,
   "outputs": [
    {
     "ename": "ValueError",
     "evalue": "column must be unique",
     "output_type": "error",
     "traceback": [
      "\u001B[0;31m---------------------------------------------------------------------------\u001B[0m",
      "\u001B[0;31mValueError\u001B[0m                                Traceback (most recent call last)",
      "Input \u001B[0;32mIn [44]\u001B[0m, in \u001B[0;36m<cell line: 1>\u001B[0;34m()\u001B[0m\n\u001B[0;32m----> 1\u001B[0m TestExplo \u001B[38;5;241m=\u001B[39m \u001B[43mCI_Data\u001B[49m\u001B[38;5;241;43m.\u001B[39;49m\u001B[43mexplode\u001B[49m\u001B[43m(\u001B[49m\u001B[38;5;28;43mlist\u001B[39;49m\u001B[43m(\u001B[49m\u001B[38;5;124;43m'\u001B[39;49m\u001B[38;5;124;43mConfIntsMeans\u001B[39;49m\u001B[38;5;124;43m'\u001B[39;49m\u001B[43m)\u001B[49m\u001B[43m)\u001B[49m\n",
      "File \u001B[0;32m/opt/miniconda3/envs/TrackingAnalysis/lib/python3.10/site-packages/pandas/core/frame.py:8338\u001B[0m, in \u001B[0;36mDataFrame.explode\u001B[0;34m(self, column, ignore_index)\u001B[0m\n\u001B[1;32m   8336\u001B[0m         \u001B[38;5;28;01mraise\u001B[39;00m \u001B[38;5;167;01mValueError\u001B[39;00m(\u001B[38;5;124m\"\u001B[39m\u001B[38;5;124mcolumn must be nonempty\u001B[39m\u001B[38;5;124m\"\u001B[39m)\n\u001B[1;32m   8337\u001B[0m     \u001B[38;5;28;01mif\u001B[39;00m \u001B[38;5;28mlen\u001B[39m(column) \u001B[38;5;241m>\u001B[39m \u001B[38;5;28mlen\u001B[39m(\u001B[38;5;28mset\u001B[39m(column)):\n\u001B[0;32m-> 8338\u001B[0m         \u001B[38;5;28;01mraise\u001B[39;00m \u001B[38;5;167;01mValueError\u001B[39;00m(\u001B[38;5;124m\"\u001B[39m\u001B[38;5;124mcolumn must be unique\u001B[39m\u001B[38;5;124m\"\u001B[39m)\n\u001B[1;32m   8339\u001B[0m     columns \u001B[38;5;241m=\u001B[39m column\n\u001B[1;32m   8340\u001B[0m \u001B[38;5;28;01melse\u001B[39;00m:\n",
      "\u001B[0;31mValueError\u001B[0m: column must be unique"
     ]
    }
   ],
   "source": [
    "TestExplo = CI_Data.explode(list('ConfIntsMeans'))"
   ],
   "metadata": {
    "collapsed": false,
    "pycharm": {
     "name": "#%%\n"
    }
   }
  },
  {
   "cell_type": "code",
   "execution_count": 45,
   "outputs": [],
   "source": [
    "TestExplo2 = TestExplo.explode('Means')"
   ],
   "metadata": {
    "collapsed": false,
    "pycharm": {
     "name": "#%%\n"
    }
   }
  },
  {
   "cell_type": "code",
   "execution_count": 46,
   "outputs": [],
   "source": [
    "TestUnstack = CI_Data.unstack()"
   ],
   "metadata": {
    "collapsed": false,
    "pycharm": {
     "name": "#%%\n"
    }
   }
  },
  {
   "cell_type": "code",
   "execution_count": 47,
   "outputs": [],
   "source": [
    "TestStack = CI_Data.stack()"
   ],
   "metadata": {
    "collapsed": false,
    "pycharm": {
     "name": "#%%\n"
    }
   }
  },
  {
   "cell_type": "code",
   "execution_count": 53,
   "outputs": [],
   "source": [
    "TestUnstack2 = CI_Data.ConfInts.unstack"
   ],
   "metadata": {
    "collapsed": false,
    "pycharm": {
     "name": "#%%\n"
    }
   }
  },
  {
   "cell_type": "code",
   "execution_count": 54,
   "outputs": [],
   "source": [
    "TestExplo3 = CI_Data.ConfInts.explode()"
   ],
   "metadata": {
    "collapsed": false,
    "pycharm": {
     "name": "#%%\n"
    }
   }
  },
  {
   "cell_type": "code",
   "execution_count": 55,
   "outputs": [
    {
     "data": {
      "text/plain": "Training  Condition\nCtrl      Empty         [1.0517241379310345, 2.086206896551724]\n          Punished     [0.8275862068965517, 1.5689655172413792]\n          Rewarded      [0.930603448275862, 1.7413793103448276]\nTrained   Empty                                    [1.32, 2.68]\n          Punished                                 [0.98, 1.92]\n          Rewarded                                 [0.88, 1.84]\nName: Peeks, dtype: object"
     },
     "execution_count": 55,
     "metadata": {},
     "output_type": "execute_result"
    }
   ],
   "source": [
    "ConfInts"
   ],
   "metadata": {
    "collapsed": false,
    "pycharm": {
     "name": "#%%\n"
    }
   }
  },
  {
   "cell_type": "code",
   "execution_count": 56,
   "outputs": [
    {
     "ename": "AttributeError",
     "evalue": "'Series' object has no attribute 'Training'",
     "output_type": "error",
     "traceback": [
      "\u001B[0;31m---------------------------------------------------------------------------\u001B[0m",
      "\u001B[0;31mAttributeError\u001B[0m                            Traceback (most recent call last)",
      "Input \u001B[0;32mIn [56]\u001B[0m, in \u001B[0;36m<cell line: 1>\u001B[0;34m()\u001B[0m\n\u001B[0;32m----> 1\u001B[0m \u001B[43mConfInts\u001B[49m\u001B[38;5;241;43m.\u001B[39;49m\u001B[43mTraining\u001B[49m\n",
      "File \u001B[0;32m/opt/miniconda3/envs/TrackingAnalysis/lib/python3.10/site-packages/pandas/core/generic.py:5575\u001B[0m, in \u001B[0;36mNDFrame.__getattr__\u001B[0;34m(self, name)\u001B[0m\n\u001B[1;32m   5568\u001B[0m \u001B[38;5;28;01mif\u001B[39;00m (\n\u001B[1;32m   5569\u001B[0m     name \u001B[38;5;129;01mnot\u001B[39;00m \u001B[38;5;129;01min\u001B[39;00m \u001B[38;5;28mself\u001B[39m\u001B[38;5;241m.\u001B[39m_internal_names_set\n\u001B[1;32m   5570\u001B[0m     \u001B[38;5;129;01mand\u001B[39;00m name \u001B[38;5;129;01mnot\u001B[39;00m \u001B[38;5;129;01min\u001B[39;00m \u001B[38;5;28mself\u001B[39m\u001B[38;5;241m.\u001B[39m_metadata\n\u001B[1;32m   5571\u001B[0m     \u001B[38;5;129;01mand\u001B[39;00m name \u001B[38;5;129;01mnot\u001B[39;00m \u001B[38;5;129;01min\u001B[39;00m \u001B[38;5;28mself\u001B[39m\u001B[38;5;241m.\u001B[39m_accessors\n\u001B[1;32m   5572\u001B[0m     \u001B[38;5;129;01mand\u001B[39;00m \u001B[38;5;28mself\u001B[39m\u001B[38;5;241m.\u001B[39m_info_axis\u001B[38;5;241m.\u001B[39m_can_hold_identifiers_and_holds_name(name)\n\u001B[1;32m   5573\u001B[0m ):\n\u001B[1;32m   5574\u001B[0m     \u001B[38;5;28;01mreturn\u001B[39;00m \u001B[38;5;28mself\u001B[39m[name]\n\u001B[0;32m-> 5575\u001B[0m \u001B[38;5;28;01mreturn\u001B[39;00m \u001B[38;5;28;43mobject\u001B[39;49m\u001B[38;5;241;43m.\u001B[39;49m\u001B[38;5;21;43m__getattribute__\u001B[39;49m\u001B[43m(\u001B[49m\u001B[38;5;28;43mself\u001B[39;49m\u001B[43m,\u001B[49m\u001B[43m \u001B[49m\u001B[43mname\u001B[49m\u001B[43m)\u001B[49m\n",
      "\u001B[0;31mAttributeError\u001B[0m: 'Series' object has no attribute 'Training'"
     ]
    }
   ],
   "source": [
    "ConfInts.Training"
   ],
   "metadata": {
    "collapsed": false,
    "pycharm": {
     "name": "#%%\n"
    }
   }
  },
  {
   "cell_type": "code",
   "execution_count": 60,
   "outputs": [],
   "source": [],
   "metadata": {
    "collapsed": false,
    "pycharm": {
     "name": "#%%\n"
    }
   }
  },
  {
   "cell_type": "code",
   "execution_count": 65,
   "outputs": [],
   "source": [
    "#CMelt = C_Unst.melt()\n",
    "C_Unst = ConfInts.unstack().reset_index()\n",
    "CMelt = pd.melt(\n",
    "    C_Unst,\n",
    "    id_vars=[\"Training\",],\n",
    "    value_name=\"CI\",\n",
    "    value_vars=[\n",
    "        \"Empty\",\n",
    "        \"Punished\",\n",
    "        \"Rewarded\"\n",
    "    ],\n",
    "    var_name=\"Condition\",\n",
    ")"
   ],
   "metadata": {
    "collapsed": false,
    "pycharm": {
     "name": "#%%\n"
    }
   }
  },
  {
   "cell_type": "code",
   "execution_count": 67,
   "outputs": [
    {
     "data": {
      "text/plain": "Training  Condition\nCtrl      Empty        1.551724\n          Punished     1.172414\n          Rewarded     1.327586\nTrained   Empty        1.980000\n          Punished     1.420000\n          Rewarded     1.320000\nName: Peeks, dtype: float64"
     },
     "execution_count": 67,
     "metadata": {},
     "output_type": "execute_result"
    }
   ],
   "source": [
    "Means"
   ],
   "metadata": {
    "collapsed": false,
    "pycharm": {
     "name": "#%%\n"
    }
   }
  },
  {
   "cell_type": "code",
   "execution_count": 73,
   "outputs": [],
   "source": [
    "M_Unst = Means.unstack().reset_index()\n",
    "\n",
    "MMelt = pd.melt(\n",
    "    M_Unst,\n",
    "    id_vars=[\"Training\",],\n",
    "    value_name=\"Mean\",\n",
    "    value_vars=[\n",
    "        \"Empty\",\n",
    "        \"Punished\",\n",
    "        \"Rewarded\"\n",
    "    ],\n",
    "    var_name=\"Condition\",\n",
    ")"
   ],
   "metadata": {
    "collapsed": false,
    "pycharm": {
     "name": "#%%\n"
    }
   }
  },
  {
   "cell_type": "code",
   "execution_count": 70,
   "outputs": [
    {
     "data": {
      "text/plain": "  Training Condition                                        CI\n0     Ctrl     Empty   [1.0517241379310345, 2.086206896551724]\n1  Trained     Empty                              [1.32, 2.68]\n2     Ctrl  Punished  [0.8275862068965517, 1.5689655172413792]\n3  Trained  Punished                              [0.98, 1.92]\n4     Ctrl  Rewarded   [0.930603448275862, 1.7413793103448276]\n5  Trained  Rewarded                              [0.88, 1.84]\n0     Ctrl     Empty                                  1.551724\n1  Trained     Empty                                      1.98\n2     Ctrl  Punished                                  1.172414\n3  Trained  Punished                                      1.42\n4     Ctrl  Rewarded                                  1.327586\n5  Trained  Rewarded                                      1.32",
      "text/html": "<div>\n<style scoped>\n    .dataframe tbody tr th:only-of-type {\n        vertical-align: middle;\n    }\n\n    .dataframe tbody tr th {\n        vertical-align: top;\n    }\n\n    .dataframe thead th {\n        text-align: right;\n    }\n</style>\n<table border=\"1\" class=\"dataframe\">\n  <thead>\n    <tr style=\"text-align: right;\">\n      <th></th>\n      <th>Training</th>\n      <th>Condition</th>\n      <th>CI</th>\n    </tr>\n  </thead>\n  <tbody>\n    <tr>\n      <th>0</th>\n      <td>Ctrl</td>\n      <td>Empty</td>\n      <td>[1.0517241379310345, 2.086206896551724]</td>\n    </tr>\n    <tr>\n      <th>1</th>\n      <td>Trained</td>\n      <td>Empty</td>\n      <td>[1.32, 2.68]</td>\n    </tr>\n    <tr>\n      <th>2</th>\n      <td>Ctrl</td>\n      <td>Punished</td>\n      <td>[0.8275862068965517, 1.5689655172413792]</td>\n    </tr>\n    <tr>\n      <th>3</th>\n      <td>Trained</td>\n      <td>Punished</td>\n      <td>[0.98, 1.92]</td>\n    </tr>\n    <tr>\n      <th>4</th>\n      <td>Ctrl</td>\n      <td>Rewarded</td>\n      <td>[0.930603448275862, 1.7413793103448276]</td>\n    </tr>\n    <tr>\n      <th>5</th>\n      <td>Trained</td>\n      <td>Rewarded</td>\n      <td>[0.88, 1.84]</td>\n    </tr>\n    <tr>\n      <th>0</th>\n      <td>Ctrl</td>\n      <td>Empty</td>\n      <td>1.551724</td>\n    </tr>\n    <tr>\n      <th>1</th>\n      <td>Trained</td>\n      <td>Empty</td>\n      <td>1.98</td>\n    </tr>\n    <tr>\n      <th>2</th>\n      <td>Ctrl</td>\n      <td>Punished</td>\n      <td>1.172414</td>\n    </tr>\n    <tr>\n      <th>3</th>\n      <td>Trained</td>\n      <td>Punished</td>\n      <td>1.42</td>\n    </tr>\n    <tr>\n      <th>4</th>\n      <td>Ctrl</td>\n      <td>Rewarded</td>\n      <td>1.327586</td>\n    </tr>\n    <tr>\n      <th>5</th>\n      <td>Trained</td>\n      <td>Rewarded</td>\n      <td>1.32</td>\n    </tr>\n  </tbody>\n</table>\n</div>"
     },
     "execution_count": 70,
     "metadata": {},
     "output_type": "execute_result"
    }
   ],
   "source": [
    "pd.concat([CMelt, MMelt])"
   ],
   "metadata": {
    "collapsed": false,
    "pycharm": {
     "name": "#%%\n"
    }
   }
  },
  {
   "cell_type": "code",
   "execution_count": 79,
   "outputs": [],
   "source": [
    "Merged= pd.merge(CMelt, MMelt, on=[\"Training\", \"Condition\"])\n",
    "\n",
    "Merged['Treshold'] = 20"
   ],
   "metadata": {
    "collapsed": false,
    "pycharm": {
     "name": "#%%\n"
    }
   }
  },
  {
   "cell_type": "code",
   "execution_count": 78,
   "outputs": [
    {
     "data": {
      "text/plain": "  Training Condition        CI      Mean\n0     Ctrl     Empty  1.051724  1.551724\n0     Ctrl     Empty  2.086207  1.551724\n1  Trained     Empty      1.32  1.980000\n1  Trained     Empty      2.68  1.980000\n2     Ctrl  Punished  0.827586  1.172414\n2     Ctrl  Punished  1.568966  1.172414\n3  Trained  Punished      0.98  1.420000\n3  Trained  Punished      1.92  1.420000\n4     Ctrl  Rewarded  0.930603  1.327586\n4     Ctrl  Rewarded  1.741379  1.327586\n5  Trained  Rewarded      0.88  1.320000\n5  Trained  Rewarded      1.84  1.320000",
      "text/html": "<div>\n<style scoped>\n    .dataframe tbody tr th:only-of-type {\n        vertical-align: middle;\n    }\n\n    .dataframe tbody tr th {\n        vertical-align: top;\n    }\n\n    .dataframe thead th {\n        text-align: right;\n    }\n</style>\n<table border=\"1\" class=\"dataframe\">\n  <thead>\n    <tr style=\"text-align: right;\">\n      <th></th>\n      <th>Training</th>\n      <th>Condition</th>\n      <th>CI</th>\n      <th>Mean</th>\n    </tr>\n  </thead>\n  <tbody>\n    <tr>\n      <th>0</th>\n      <td>Ctrl</td>\n      <td>Empty</td>\n      <td>1.051724</td>\n      <td>1.551724</td>\n    </tr>\n    <tr>\n      <th>0</th>\n      <td>Ctrl</td>\n      <td>Empty</td>\n      <td>2.086207</td>\n      <td>1.551724</td>\n    </tr>\n    <tr>\n      <th>1</th>\n      <td>Trained</td>\n      <td>Empty</td>\n      <td>1.32</td>\n      <td>1.980000</td>\n    </tr>\n    <tr>\n      <th>1</th>\n      <td>Trained</td>\n      <td>Empty</td>\n      <td>2.68</td>\n      <td>1.980000</td>\n    </tr>\n    <tr>\n      <th>2</th>\n      <td>Ctrl</td>\n      <td>Punished</td>\n      <td>0.827586</td>\n      <td>1.172414</td>\n    </tr>\n    <tr>\n      <th>2</th>\n      <td>Ctrl</td>\n      <td>Punished</td>\n      <td>1.568966</td>\n      <td>1.172414</td>\n    </tr>\n    <tr>\n      <th>3</th>\n      <td>Trained</td>\n      <td>Punished</td>\n      <td>0.98</td>\n      <td>1.420000</td>\n    </tr>\n    <tr>\n      <th>3</th>\n      <td>Trained</td>\n      <td>Punished</td>\n      <td>1.92</td>\n      <td>1.420000</td>\n    </tr>\n    <tr>\n      <th>4</th>\n      <td>Ctrl</td>\n      <td>Rewarded</td>\n      <td>0.930603</td>\n      <td>1.327586</td>\n    </tr>\n    <tr>\n      <th>4</th>\n      <td>Ctrl</td>\n      <td>Rewarded</td>\n      <td>1.741379</td>\n      <td>1.327586</td>\n    </tr>\n    <tr>\n      <th>5</th>\n      <td>Trained</td>\n      <td>Rewarded</td>\n      <td>0.88</td>\n      <td>1.320000</td>\n    </tr>\n    <tr>\n      <th>5</th>\n      <td>Trained</td>\n      <td>Rewarded</td>\n      <td>1.84</td>\n      <td>1.320000</td>\n    </tr>\n  </tbody>\n</table>\n</div>"
     },
     "execution_count": 78,
     "metadata": {},
     "output_type": "execute_result"
    }
   ],
   "source": [
    "pd.explode(Merged)"
   ],
   "metadata": {
    "collapsed": false,
    "pycharm": {
     "name": "#%%\n"
    }
   }
  },
  {
   "cell_type": "code",
   "execution_count": 93,
   "outputs": [
    {
     "data": {
      "text/plain": "1               [26.1595, 34.3405]\n1    [21.4995, 28.541499999999992]\n1                    [15.18, 20.2]\n1    [10.9195, 14.500499999999997]\n1                    [8.26, 11.24]\n1                     [6.44, 8.98]\n1                     [5.42, 7.78]\n1                      [4.12, 6.2]\n1         [3.3, 5.240499999999997]\n1                      [2.72, 4.6]\n1      [2.4995, 4.320499999999997]\n1                     [2.28, 4.04]\n1                     [2.16, 3.86]\n1                      [2.0, 3.76]\n1                     [1.96, 3.66]\n1                      [1.9, 3.54]\n1        [1.78, 3.360499999999997]\n1                     [1.66, 3.16]\n1                     [1.66, 3.18]\n1                      [1.6, 3.12]\n1                     [1.52, 2.98]\n1                      [1.5, 2.98]\n1                     [1.42, 2.84]\n1                     [1.36, 2.84]\n1                     [1.34, 2.74]\n1        [1.36, 2.780499999999997]\n1       [1.32, 2.7404999999999973]\n1                      [1.34, 2.7]\nName: CI, dtype: object"
     },
     "execution_count": 93,
     "metadata": {},
     "output_type": "execute_result"
    }
   ],
   "source": [
    "CI_Data.CI[]"
   ],
   "metadata": {
    "collapsed": false,
    "pycharm": {
     "name": "#%%\n"
    }
   }
  },
  {
   "cell_type": "code",
   "execution_count": 95,
   "outputs": [
    {
     "ename": "ValueError",
     "evalue": "malformed node or string: 1               [26.1595, 34.3405]\n1    [21.4995, 28.541499999999992]\n1                    [15.18, 20.2]\n1    [10.9195, 14.500499999999997]\n1                    [8.26, 11.24]\n1                     [6.44, 8.98]\n1                     [5.42, 7.78]\n1                      [4.12, 6.2]\n1         [3.3, 5.240499999999997]\n1                      [2.72, 4.6]\n1      [2.4995, 4.320499999999997]\n1                     [2.28, 4.04]\n1                     [2.16, 3.86]\n1                      [2.0, 3.76]\n1                     [1.96, 3.66]\n1                      [1.9, 3.54]\n1        [1.78, 3.360499999999997]\n1                     [1.66, 3.16]\n1                     [1.66, 3.18]\n1                      [1.6, 3.12]\n1                     [1.52, 2.98]\n1                      [1.5, 2.98]\n1                     [1.42, 2.84]\n1                     [1.36, 2.84]\n1                     [1.34, 2.74]\n1        [1.36, 2.780499999999997]\n1       [1.32, 2.7404999999999973]\n1                      [1.34, 2.7]\nName: CI, dtype: object",
     "output_type": "error",
     "traceback": [
      "\u001B[0;31m---------------------------------------------------------------------------\u001B[0m",
      "\u001B[0;31mValueError\u001B[0m                                Traceback (most recent call last)",
      "Input \u001B[0;32mIn [95]\u001B[0m, in \u001B[0;36m<cell line: 1>\u001B[0;34m()\u001B[0m\n\u001B[0;32m----> 1\u001B[0m \u001B[43mast\u001B[49m\u001B[38;5;241;43m.\u001B[39;49m\u001B[43mliteral_eval\u001B[49m\u001B[43m(\u001B[49m\u001B[43mCI_Data\u001B[49m\u001B[43m[\u001B[49m\u001B[38;5;124;43m\"\u001B[39;49m\u001B[38;5;124;43mCI\u001B[39;49m\u001B[38;5;124;43m\"\u001B[39;49m\u001B[43m]\u001B[49m\u001B[43m[\u001B[49m\u001B[38;5;241;43m1\u001B[39;49m\u001B[43m]\u001B[49m\u001B[43m)\u001B[49m\n",
      "File \u001B[0;32m/opt/miniconda3/envs/TrackingAnalysis/lib/python3.10/ast.py:108\u001B[0m, in \u001B[0;36mliteral_eval\u001B[0;34m(node_or_string)\u001B[0m\n\u001B[1;32m    106\u001B[0m                 \u001B[38;5;28;01mreturn\u001B[39;00m left \u001B[38;5;241m-\u001B[39m right\n\u001B[1;32m    107\u001B[0m     \u001B[38;5;28;01mreturn\u001B[39;00m _convert_signed_num(node)\n\u001B[0;32m--> 108\u001B[0m \u001B[38;5;28;01mreturn\u001B[39;00m \u001B[43m_convert\u001B[49m\u001B[43m(\u001B[49m\u001B[43mnode_or_string\u001B[49m\u001B[43m)\u001B[49m\n",
      "File \u001B[0;32m/opt/miniconda3/envs/TrackingAnalysis/lib/python3.10/ast.py:107\u001B[0m, in \u001B[0;36mliteral_eval.<locals>._convert\u001B[0;34m(node)\u001B[0m\n\u001B[1;32m    105\u001B[0m         \u001B[38;5;28;01melse\u001B[39;00m:\n\u001B[1;32m    106\u001B[0m             \u001B[38;5;28;01mreturn\u001B[39;00m left \u001B[38;5;241m-\u001B[39m right\n\u001B[0;32m--> 107\u001B[0m \u001B[38;5;28;01mreturn\u001B[39;00m \u001B[43m_convert_signed_num\u001B[49m\u001B[43m(\u001B[49m\u001B[43mnode\u001B[49m\u001B[43m)\u001B[49m\n",
      "File \u001B[0;32m/opt/miniconda3/envs/TrackingAnalysis/lib/python3.10/ast.py:81\u001B[0m, in \u001B[0;36mliteral_eval.<locals>._convert_signed_num\u001B[0;34m(node)\u001B[0m\n\u001B[1;32m     79\u001B[0m     \u001B[38;5;28;01melse\u001B[39;00m:\n\u001B[1;32m     80\u001B[0m         \u001B[38;5;28;01mreturn\u001B[39;00m \u001B[38;5;241m-\u001B[39m operand\n\u001B[0;32m---> 81\u001B[0m \u001B[38;5;28;01mreturn\u001B[39;00m \u001B[43m_convert_num\u001B[49m\u001B[43m(\u001B[49m\u001B[43mnode\u001B[49m\u001B[43m)\u001B[49m\n",
      "File \u001B[0;32m/opt/miniconda3/envs/TrackingAnalysis/lib/python3.10/ast.py:72\u001B[0m, in \u001B[0;36mliteral_eval.<locals>._convert_num\u001B[0;34m(node)\u001B[0m\n\u001B[1;32m     70\u001B[0m \u001B[38;5;28;01mdef\u001B[39;00m \u001B[38;5;21m_convert_num\u001B[39m(node):\n\u001B[1;32m     71\u001B[0m     \u001B[38;5;28;01mif\u001B[39;00m \u001B[38;5;129;01mnot\u001B[39;00m \u001B[38;5;28misinstance\u001B[39m(node, Constant) \u001B[38;5;129;01mor\u001B[39;00m \u001B[38;5;28mtype\u001B[39m(node\u001B[38;5;241m.\u001B[39mvalue) \u001B[38;5;129;01mnot\u001B[39;00m \u001B[38;5;129;01min\u001B[39;00m (\u001B[38;5;28mint\u001B[39m, \u001B[38;5;28mfloat\u001B[39m, \u001B[38;5;28mcomplex\u001B[39m):\n\u001B[0;32m---> 72\u001B[0m         \u001B[43m_raise_malformed_node\u001B[49m\u001B[43m(\u001B[49m\u001B[43mnode\u001B[49m\u001B[43m)\u001B[49m\n\u001B[1;32m     73\u001B[0m     \u001B[38;5;28;01mreturn\u001B[39;00m node\u001B[38;5;241m.\u001B[39mvalue\n",
      "File \u001B[0;32m/opt/miniconda3/envs/TrackingAnalysis/lib/python3.10/ast.py:69\u001B[0m, in \u001B[0;36mliteral_eval.<locals>._raise_malformed_node\u001B[0;34m(node)\u001B[0m\n\u001B[1;32m     67\u001B[0m \u001B[38;5;28;01mif\u001B[39;00m lno \u001B[38;5;241m:=\u001B[39m \u001B[38;5;28mgetattr\u001B[39m(node, \u001B[38;5;124m'\u001B[39m\u001B[38;5;124mlineno\u001B[39m\u001B[38;5;124m'\u001B[39m, \u001B[38;5;28;01mNone\u001B[39;00m):\n\u001B[1;32m     68\u001B[0m     msg \u001B[38;5;241m+\u001B[39m\u001B[38;5;241m=\u001B[39m \u001B[38;5;124mf\u001B[39m\u001B[38;5;124m'\u001B[39m\u001B[38;5;124m on line \u001B[39m\u001B[38;5;132;01m{\u001B[39;00mlno\u001B[38;5;132;01m}\u001B[39;00m\u001B[38;5;124m'\u001B[39m\n\u001B[0;32m---> 69\u001B[0m \u001B[38;5;28;01mraise\u001B[39;00m \u001B[38;5;167;01mValueError\u001B[39;00m(msg \u001B[38;5;241m+\u001B[39m \u001B[38;5;124mf\u001B[39m\u001B[38;5;124m'\u001B[39m\u001B[38;5;124m: \u001B[39m\u001B[38;5;132;01m{\u001B[39;00mnode\u001B[38;5;132;01m!r}\u001B[39;00m\u001B[38;5;124m'\u001B[39m)\n",
      "\u001B[0;31mValueError\u001B[0m: malformed node or string: 1               [26.1595, 34.3405]\n1    [21.4995, 28.541499999999992]\n1                    [15.18, 20.2]\n1    [10.9195, 14.500499999999997]\n1                    [8.26, 11.24]\n1                     [6.44, 8.98]\n1                     [5.42, 7.78]\n1                      [4.12, 6.2]\n1         [3.3, 5.240499999999997]\n1                      [2.72, 4.6]\n1      [2.4995, 4.320499999999997]\n1                     [2.28, 4.04]\n1                     [2.16, 3.86]\n1                      [2.0, 3.76]\n1                     [1.96, 3.66]\n1                      [1.9, 3.54]\n1        [1.78, 3.360499999999997]\n1                     [1.66, 3.16]\n1                     [1.66, 3.18]\n1                      [1.6, 3.12]\n1                     [1.52, 2.98]\n1                      [1.5, 2.98]\n1                     [1.42, 2.84]\n1                     [1.36, 2.84]\n1                     [1.34, 2.74]\n1        [1.36, 2.780499999999997]\n1       [1.32, 2.7404999999999973]\n1                      [1.34, 2.7]\nName: CI, dtype: object"
     ]
    }
   ],
   "source": [
    "ast.literal_eval(CI_Data[\"CI\"][1])"
   ],
   "metadata": {
    "collapsed": false,
    "pycharm": {
     "name": "#%%\n"
    }
   }
  },
  {
   "cell_type": "code",
   "execution_count": 97,
   "outputs": [],
   "source": [
    "CI_Data=CI_Data.reset_index()"
   ],
   "metadata": {
    "collapsed": false,
    "pycharm": {
     "name": "#%%\n"
    }
   }
  },
  {
   "cell_type": "code",
   "execution_count": 98,
   "outputs": [
    {
     "ename": "ValueError",
     "evalue": "malformed node or string: array([26.1595, 34.3405])",
     "output_type": "error",
     "traceback": [
      "\u001B[0;31m---------------------------------------------------------------------------\u001B[0m",
      "\u001B[0;31mValueError\u001B[0m                                Traceback (most recent call last)",
      "Input \u001B[0;32mIn [98]\u001B[0m, in \u001B[0;36m<cell line: 1>\u001B[0;34m()\u001B[0m\n\u001B[0;32m----> 1\u001B[0m \u001B[43mast\u001B[49m\u001B[38;5;241;43m.\u001B[39;49m\u001B[43mliteral_eval\u001B[49m\u001B[43m(\u001B[49m\u001B[43mCI_Data\u001B[49m\u001B[43m[\u001B[49m\u001B[38;5;124;43m\"\u001B[39;49m\u001B[38;5;124;43mCI\u001B[39;49m\u001B[38;5;124;43m\"\u001B[39;49m\u001B[43m]\u001B[49m\u001B[43m[\u001B[49m\u001B[38;5;241;43m1\u001B[39;49m\u001B[43m]\u001B[49m\u001B[43m)\u001B[49m\n",
      "File \u001B[0;32m/opt/miniconda3/envs/TrackingAnalysis/lib/python3.10/ast.py:108\u001B[0m, in \u001B[0;36mliteral_eval\u001B[0;34m(node_or_string)\u001B[0m\n\u001B[1;32m    106\u001B[0m                 \u001B[38;5;28;01mreturn\u001B[39;00m left \u001B[38;5;241m-\u001B[39m right\n\u001B[1;32m    107\u001B[0m     \u001B[38;5;28;01mreturn\u001B[39;00m _convert_signed_num(node)\n\u001B[0;32m--> 108\u001B[0m \u001B[38;5;28;01mreturn\u001B[39;00m \u001B[43m_convert\u001B[49m\u001B[43m(\u001B[49m\u001B[43mnode_or_string\u001B[49m\u001B[43m)\u001B[49m\n",
      "File \u001B[0;32m/opt/miniconda3/envs/TrackingAnalysis/lib/python3.10/ast.py:107\u001B[0m, in \u001B[0;36mliteral_eval.<locals>._convert\u001B[0;34m(node)\u001B[0m\n\u001B[1;32m    105\u001B[0m         \u001B[38;5;28;01melse\u001B[39;00m:\n\u001B[1;32m    106\u001B[0m             \u001B[38;5;28;01mreturn\u001B[39;00m left \u001B[38;5;241m-\u001B[39m right\n\u001B[0;32m--> 107\u001B[0m \u001B[38;5;28;01mreturn\u001B[39;00m \u001B[43m_convert_signed_num\u001B[49m\u001B[43m(\u001B[49m\u001B[43mnode\u001B[49m\u001B[43m)\u001B[49m\n",
      "File \u001B[0;32m/opt/miniconda3/envs/TrackingAnalysis/lib/python3.10/ast.py:81\u001B[0m, in \u001B[0;36mliteral_eval.<locals>._convert_signed_num\u001B[0;34m(node)\u001B[0m\n\u001B[1;32m     79\u001B[0m     \u001B[38;5;28;01melse\u001B[39;00m:\n\u001B[1;32m     80\u001B[0m         \u001B[38;5;28;01mreturn\u001B[39;00m \u001B[38;5;241m-\u001B[39m operand\n\u001B[0;32m---> 81\u001B[0m \u001B[38;5;28;01mreturn\u001B[39;00m \u001B[43m_convert_num\u001B[49m\u001B[43m(\u001B[49m\u001B[43mnode\u001B[49m\u001B[43m)\u001B[49m\n",
      "File \u001B[0;32m/opt/miniconda3/envs/TrackingAnalysis/lib/python3.10/ast.py:72\u001B[0m, in \u001B[0;36mliteral_eval.<locals>._convert_num\u001B[0;34m(node)\u001B[0m\n\u001B[1;32m     70\u001B[0m \u001B[38;5;28;01mdef\u001B[39;00m \u001B[38;5;21m_convert_num\u001B[39m(node):\n\u001B[1;32m     71\u001B[0m     \u001B[38;5;28;01mif\u001B[39;00m \u001B[38;5;129;01mnot\u001B[39;00m \u001B[38;5;28misinstance\u001B[39m(node, Constant) \u001B[38;5;129;01mor\u001B[39;00m \u001B[38;5;28mtype\u001B[39m(node\u001B[38;5;241m.\u001B[39mvalue) \u001B[38;5;129;01mnot\u001B[39;00m \u001B[38;5;129;01min\u001B[39;00m (\u001B[38;5;28mint\u001B[39m, \u001B[38;5;28mfloat\u001B[39m, \u001B[38;5;28mcomplex\u001B[39m):\n\u001B[0;32m---> 72\u001B[0m         \u001B[43m_raise_malformed_node\u001B[49m\u001B[43m(\u001B[49m\u001B[43mnode\u001B[49m\u001B[43m)\u001B[49m\n\u001B[1;32m     73\u001B[0m     \u001B[38;5;28;01mreturn\u001B[39;00m node\u001B[38;5;241m.\u001B[39mvalue\n",
      "File \u001B[0;32m/opt/miniconda3/envs/TrackingAnalysis/lib/python3.10/ast.py:69\u001B[0m, in \u001B[0;36mliteral_eval.<locals>._raise_malformed_node\u001B[0;34m(node)\u001B[0m\n\u001B[1;32m     67\u001B[0m \u001B[38;5;28;01mif\u001B[39;00m lno \u001B[38;5;241m:=\u001B[39m \u001B[38;5;28mgetattr\u001B[39m(node, \u001B[38;5;124m'\u001B[39m\u001B[38;5;124mlineno\u001B[39m\u001B[38;5;124m'\u001B[39m, \u001B[38;5;28;01mNone\u001B[39;00m):\n\u001B[1;32m     68\u001B[0m     msg \u001B[38;5;241m+\u001B[39m\u001B[38;5;241m=\u001B[39m \u001B[38;5;124mf\u001B[39m\u001B[38;5;124m'\u001B[39m\u001B[38;5;124m on line \u001B[39m\u001B[38;5;132;01m{\u001B[39;00mlno\u001B[38;5;132;01m}\u001B[39;00m\u001B[38;5;124m'\u001B[39m\n\u001B[0;32m---> 69\u001B[0m \u001B[38;5;28;01mraise\u001B[39;00m \u001B[38;5;167;01mValueError\u001B[39;00m(msg \u001B[38;5;241m+\u001B[39m \u001B[38;5;124mf\u001B[39m\u001B[38;5;124m'\u001B[39m\u001B[38;5;124m: \u001B[39m\u001B[38;5;132;01m{\u001B[39;00mnode\u001B[38;5;132;01m!r}\u001B[39;00m\u001B[38;5;124m'\u001B[39m)\n",
      "\u001B[0;31mValueError\u001B[0m: malformed node or string: array([26.1595, 34.3405])"
     ]
    }
   ],
   "source": [
    "ast.literal_eval(CI_Data[\"CI\"][1])"
   ],
   "metadata": {
    "collapsed": false,
    "pycharm": {
     "name": "#%%\n"
    }
   }
  },
  {
   "cell_type": "code",
   "execution_count": 101,
   "outputs": [
    {
     "data": {
      "text/plain": "27.396120689655174"
     },
     "execution_count": 101,
     "metadata": {},
     "output_type": "execute_result"
    }
   ],
   "source": [
    "CI_Data.CI[0][0]"
   ],
   "metadata": {
    "collapsed": false,
    "pycharm": {
     "name": "#%%\n"
    }
   }
  },
  {
   "cell_type": "code",
   "execution_count": 104,
   "outputs": [],
   "source": [
    "LowerBounds = CI_Data.CI.str[0]\n",
    "UpperBounds = CI_Data.CI.str[1]\n",
    "Means = CI_Data.Mean"
   ],
   "metadata": {
    "collapsed": false,
    "pycharm": {
     "name": "#%%\n"
    }
   }
  },
  {
   "cell_type": "code",
   "execution_count": 115,
   "outputs": [
    {
     "name": "stderr",
     "output_type": "stream",
     "text": [
      "/var/folders/3v/_y6xq12x6l96bm2kp__gv6z40000gn/T/ipykernel_5081/3752814992.py:4: SettingWithCopyWarning: \n",
      "A value is trying to be set on a copy of a slice from a DataFrame.\n",
      "Try using .loc[row_indexer,col_indexer] = value instead\n",
      "\n",
      "See the caveats in the documentation: https://pandas.pydata.org/pandas-docs/stable/user_guide/indexing.html#returning-a-view-versus-a-copy\n",
      "  EmptysC['LowerBounds'] = EmptysC.CI.str[0]\n",
      "/var/folders/3v/_y6xq12x6l96bm2kp__gv6z40000gn/T/ipykernel_5081/3752814992.py:5: SettingWithCopyWarning: \n",
      "A value is trying to be set on a copy of a slice from a DataFrame.\n",
      "Try using .loc[row_indexer,col_indexer] = value instead\n",
      "\n",
      "See the caveats in the documentation: https://pandas.pydata.org/pandas-docs/stable/user_guide/indexing.html#returning-a-view-versus-a-copy\n",
      "  EmptysC['UpperBounds'] = EmptysC.CI.str[1]\n",
      "/var/folders/3v/_y6xq12x6l96bm2kp__gv6z40000gn/T/ipykernel_5081/3752814992.py:9: SettingWithCopyWarning: \n",
      "A value is trying to be set on a copy of a slice from a DataFrame.\n",
      "Try using .loc[row_indexer,col_indexer] = value instead\n",
      "\n",
      "See the caveats in the documentation: https://pandas.pydata.org/pandas-docs/stable/user_guide/indexing.html#returning-a-view-versus-a-copy\n",
      "  EmptysT['LowerBounds'] = EmptysT.CI.str[0]\n",
      "/var/folders/3v/_y6xq12x6l96bm2kp__gv6z40000gn/T/ipykernel_5081/3752814992.py:10: SettingWithCopyWarning: \n",
      "A value is trying to be set on a copy of a slice from a DataFrame.\n",
      "Try using .loc[row_indexer,col_indexer] = value instead\n",
      "\n",
      "See the caveats in the documentation: https://pandas.pydata.org/pandas-docs/stable/user_guide/indexing.html#returning-a-view-versus-a-copy\n",
      "  EmptysT['UpperBounds'] = EmptysT.CI.str[1]\n"
     ]
    }
   ],
   "source": [
    "Emptys = CI_Data.loc[CI_Data.Condition == \"Empty\"]\n",
    "EmptysC = Emptys.loc[Emptys.Training == \"Ctrl\"]\n",
    "\n",
    "EmptysC['LowerBounds'] = EmptysC.CI.str[0]\n",
    "EmptysC['UpperBounds'] = EmptysC.CI.str[1]\n",
    "\n",
    "EmptysT = Emptys.loc[Emptys.Training == \"Trained\"]\n",
    "\n",
    "EmptysT['LowerBounds'] = EmptysT.CI.str[0]\n",
    "EmptysT['UpperBounds'] = EmptysT.CI.str[1]\n",
    "\n"
   ],
   "metadata": {
    "collapsed": false,
    "pycharm": {
     "name": "#%%\n"
    }
   }
  },
  {
   "cell_type": "code",
   "execution_count": 118,
   "outputs": [
    {
     "name": "stderr",
     "output_type": "stream",
     "text": [
      "/var/folders/3v/_y6xq12x6l96bm2kp__gv6z40000gn/T/ipykernel_5081/2690872476.py:4: SettingWithCopyWarning: \n",
      "A value is trying to be set on a copy of a slice from a DataFrame.\n",
      "Try using .loc[row_indexer,col_indexer] = value instead\n",
      "\n",
      "See the caveats in the documentation: https://pandas.pydata.org/pandas-docs/stable/user_guide/indexing.html#returning-a-view-versus-a-copy\n",
      "  RewardedsC['LowerBounds'] = RewardedsC.CI.str[0]\n",
      "/var/folders/3v/_y6xq12x6l96bm2kp__gv6z40000gn/T/ipykernel_5081/2690872476.py:5: SettingWithCopyWarning: \n",
      "A value is trying to be set on a copy of a slice from a DataFrame.\n",
      "Try using .loc[row_indexer,col_indexer] = value instead\n",
      "\n",
      "See the caveats in the documentation: https://pandas.pydata.org/pandas-docs/stable/user_guide/indexing.html#returning-a-view-versus-a-copy\n",
      "  RewardedsC['UpperBounds'] = RewardedsC.CI.str[1]\n",
      "/var/folders/3v/_y6xq12x6l96bm2kp__gv6z40000gn/T/ipykernel_5081/2690872476.py:9: SettingWithCopyWarning: \n",
      "A value is trying to be set on a copy of a slice from a DataFrame.\n",
      "Try using .loc[row_indexer,col_indexer] = value instead\n",
      "\n",
      "See the caveats in the documentation: https://pandas.pydata.org/pandas-docs/stable/user_guide/indexing.html#returning-a-view-versus-a-copy\n",
      "  RewardedsT['LowerBounds'] = RewardedsT.CI.str[0]\n",
      "/var/folders/3v/_y6xq12x6l96bm2kp__gv6z40000gn/T/ipykernel_5081/2690872476.py:10: SettingWithCopyWarning: \n",
      "A value is trying to be set on a copy of a slice from a DataFrame.\n",
      "Try using .loc[row_indexer,col_indexer] = value instead\n",
      "\n",
      "See the caveats in the documentation: https://pandas.pydata.org/pandas-docs/stable/user_guide/indexing.html#returning-a-view-versus-a-copy\n",
      "  RewardedsT['UpperBounds'] = RewardedsT.CI.str[1]\n"
     ]
    }
   ],
   "source": [
    "Rewardeds = CI_Data.loc[CI_Data.Condition == \"Rewarded\"]\n",
    "RewardedsC = Rewardeds.loc[Rewardeds.Training == \"Ctrl\"]\n",
    "\n",
    "RewardedsC['LowerBounds'] = RewardedsC.CI.str[0]\n",
    "RewardedsC['UpperBounds'] = RewardedsC.CI.str[1]\n",
    "\n",
    "RewardedsT = Rewardeds.loc[Rewardeds.Training == \"Trained\"]\n",
    "\n",
    "RewardedsT['LowerBounds'] = RewardedsT.CI.str[0]\n",
    "RewardedsT['UpperBounds'] = RewardedsT.CI.str[1]\n"
   ],
   "metadata": {
    "collapsed": false,
    "pycharm": {
     "name": "#%%\n"
    }
   }
  },
  {
   "cell_type": "code",
   "execution_count": 129,
   "outputs": [
    {
     "name": "stderr",
     "output_type": "stream",
     "text": [
      "/var/folders/3v/_y6xq12x6l96bm2kp__gv6z40000gn/T/ipykernel_5081/1772253791.py:4: SettingWithCopyWarning: \n",
      "A value is trying to be set on a copy of a slice from a DataFrame.\n",
      "Try using .loc[row_indexer,col_indexer] = value instead\n",
      "\n",
      "See the caveats in the documentation: https://pandas.pydata.org/pandas-docs/stable/user_guide/indexing.html#returning-a-view-versus-a-copy\n",
      "  PunishesC['LowerBounds'] = PunishesC.CI.str[0]\n",
      "/var/folders/3v/_y6xq12x6l96bm2kp__gv6z40000gn/T/ipykernel_5081/1772253791.py:5: SettingWithCopyWarning: \n",
      "A value is trying to be set on a copy of a slice from a DataFrame.\n",
      "Try using .loc[row_indexer,col_indexer] = value instead\n",
      "\n",
      "See the caveats in the documentation: https://pandas.pydata.org/pandas-docs/stable/user_guide/indexing.html#returning-a-view-versus-a-copy\n",
      "  PunishesC['UpperBounds'] = PunishesC.CI.str[1]\n",
      "/var/folders/3v/_y6xq12x6l96bm2kp__gv6z40000gn/T/ipykernel_5081/1772253791.py:9: SettingWithCopyWarning: \n",
      "A value is trying to be set on a copy of a slice from a DataFrame.\n",
      "Try using .loc[row_indexer,col_indexer] = value instead\n",
      "\n",
      "See the caveats in the documentation: https://pandas.pydata.org/pandas-docs/stable/user_guide/indexing.html#returning-a-view-versus-a-copy\n",
      "  PunishesT['LowerBounds'] = PunishesT.CI.str[0]\n",
      "/var/folders/3v/_y6xq12x6l96bm2kp__gv6z40000gn/T/ipykernel_5081/1772253791.py:10: SettingWithCopyWarning: \n",
      "A value is trying to be set on a copy of a slice from a DataFrame.\n",
      "Try using .loc[row_indexer,col_indexer] = value instead\n",
      "\n",
      "See the caveats in the documentation: https://pandas.pydata.org/pandas-docs/stable/user_guide/indexing.html#returning-a-view-versus-a-copy\n",
      "  PunishesT['UpperBounds'] = PunishesT.CI.str[1]\n"
     ]
    }
   ],
   "source": [
    "Punishes = CI_Data.loc[CI_Data.Condition == \"Punished\"]\n",
    "PunishesC = Punishes.loc[Punishes.Training == \"Ctrl\"]\n",
    "\n",
    "PunishesC['LowerBounds'] = PunishesC.CI.str[0]\n",
    "PunishesC['UpperBounds'] = PunishesC.CI.str[1]\n",
    "\n",
    "PunishesT = Punishes.loc[Punishes.Training == \"Trained\"]\n",
    "\n",
    "PunishesT['LowerBounds'] = PunishesT.CI.str[0]\n",
    "PunishesT['UpperBounds'] = PunishesT.CI.str[1]\n"
   ],
   "metadata": {
    "collapsed": false,
    "pycharm": {
     "name": "#%%\n"
    }
   }
  },
  {
   "cell_type": "code",
   "execution_count": 130,
   "outputs": [
    {
     "data": {
      "text/html": "\n  <div class=\"bk-root\" id=\"81558168-f03b-4b1d-b83a-80f190807633\" data-root-id=\"3704\"></div>\n"
     },
     "metadata": {},
     "output_type": "display_data"
    },
    {
     "data": {
      "application/javascript": "(function(root) {\n  function embed_document(root) {\n  const docs_json = {\"67c0bd37-87fe-4128-874b-647d20567d66\":{\"defs\":[],\"roots\":{\"references\":[{\"attributes\":{\"children\":[{\"id\":\"3521\"},{\"id\":\"3582\"},{\"id\":\"3643\"}]},\"id\":\"3704\",\"type\":\"Column\"},{\"attributes\":{\"data\":{\"CI\":[[27.396120689655174,34.91379310344828],[22.32758620689655,28.328017241379307],[16.620689655172413,21.362068965517242],[11.413793103448276,15.46551724137931],[8.068965517241379,11.344827586206897],[5.982758620689655,8.65560344827586],[4.6547413793103445,7.0],[3.723706896551724,5.844827586206897],[3.086206896551724,5.017241379310345],[2.706896551724138,4.448706896551721],[2.413793103448276,4.051724137931035],[2.1379310344827585,3.7586206896551726],[1.9827586206896552,3.4310344827586206],[1.706896551724138,3.0689655172413794],[1.6206896551724137,3.0172413793103448],[1.6379310344827587,2.9827586206896552],[1.5689655172413792,2.896982758620687],[1.5,2.7590517241379287],[1.4137931034482758,2.7241379310344827],[1.3793103448275863,2.586206896551724],[1.2758620689655173,2.4310344827586206],[1.2241379310344827,2.3793103448275863],[1.1379310344827587,2.3280172413793077],[1.1551724137931034,2.207327586206894],[1.1551724137931034,2.2586206896551726],[1.103448275862069,2.207327586206894],[1.0517241379310345,2.1206896551724137],[1.0689655172413792,2.086206896551724]],\"Condition\":[\"Empty\",\"Empty\",\"Empty\",\"Empty\",\"Empty\",\"Empty\",\"Empty\",\"Empty\",\"Empty\",\"Empty\",\"Empty\",\"Empty\",\"Empty\",\"Empty\",\"Empty\",\"Empty\",\"Empty\",\"Empty\",\"Empty\",\"Empty\",\"Empty\",\"Empty\",\"Empty\",\"Empty\",\"Empty\",\"Empty\",\"Empty\",\"Empty\"],\"LowerBounds\":{\"__ndarray__\":\"g1ZfKmhlO0DLPY2w3FM2QFjuaYTlnjBAyz2NsNzTJkD3NMJyTyMgQITlnkZY7hdASOcthnSeEkBtomTXJsoNQNQIyz2NsAhAlnsaYbmnBUAs9zTCck8DQLmnEZZ7GgFAEpZ7GmG5/z8s9zTCck/7P4TlnkZY7vk/c08jLPc0+j+5pxGWexr5PwAAAAAAAPg/WO5phOWe9j98GmG5pxH2P+aeRljuafQ/GmG5pxGW8z9zTyMs9zTyP2G5pxGWe/I/YbmnEZZ78j+WexphuafxP8s9jbDc0/A/uacRlnsa8T8=\",\"dtype\":\"float64\",\"order\":\"little\",\"shape\":[28]},\"Mean\":{\"__ndarray__\":\"WO5phOUeP0DLPY2w3FM5QD6NsNzTCDNAwnJPIyz3KkAs9zTCck8jQLmnEZZ7Gh1AsdzTCMs9F0C5pxGWexoTQAnLPY2w3A9AAAAAAAAADECfRljuaYQJQD6NsNzTCAdAn0ZY7mmEBUA+jbDc0wgDQGqE5Z5GWAJAfBphuacRAkCfRljuaYQBQMs9jbDc0wBA9zTCck8jAEBHWO5phOX+P7Hc0wjLPf0/9zTCck8j/D8s9zTCck/7P2G5pxGWe/o/YbmnEZZ7+j+E5Z5GWO75P7mnEZZ7Gvk/yz2NsNzT+D8=\",\"dtype\":\"float64\",\"order\":\"little\",\"shape\":[28]},\"Training\":[\"Ctrl\",\"Ctrl\",\"Ctrl\",\"Ctrl\",\"Ctrl\",\"Ctrl\",\"Ctrl\",\"Ctrl\",\"Ctrl\",\"Ctrl\",\"Ctrl\",\"Ctrl\",\"Ctrl\",\"Ctrl\",\"Ctrl\",\"Ctrl\",\"Ctrl\",\"Ctrl\",\"Ctrl\",\"Ctrl\",\"Ctrl\",\"Ctrl\",\"Ctrl\",\"Ctrl\",\"Ctrl\",\"Ctrl\",\"Ctrl\",\"Ctrl\"],\"Treshold\":[20,30,40,50,60,70,80,90,100,110,120,130,140,150,160,170,180,190,200,210,220,230,240,250,260,270,280,290],\"UpperBounds\":{\"__ndarray__\":\"c08jLPd0QUCOPxzw+FM8QAnLPY2wXDVAhOWeRljuLkDUCMs9jbAmQLP6UkGrTyFAAAAAAAAAHECoEZZ7GmEXQHwaYbmnERRAmrcY0nnLEUBzTyMs9zQQQHwaYbmnEQ5AIyz3NMJyC0Dd0wjLPY0IQPc0wnJPIwhACcs9jbDcB0BP0OpLBS0HQJYo2bWJEgZAjbDc0wjLBUDUCMs9jbAEQCMs9zTCcgNAPo2w3NMIA0By/OGAx58CQLCJkl2bqAFAfBphuacRAkCwiZJdm6gBQMJyTyMs9wBA1AjLPY2wAEA=\",\"dtype\":\"float64\",\"order\":\"little\",\"shape\":[28]},\"index\":[0,0,0,0,0,0,0,0,0,0,0,0,0,0,0,0,0,0,0,0,0,0,0,0,0,0,0,0],\"level_0\":[0,6,12,18,24,30,36,42,48,54,60,66,72,78,84,90,96,102,108,114,120,126,132,138,144,150,156,162]},\"selected\":{\"id\":\"3851\"},\"selection_policy\":{\"id\":\"3850\"}},\"id\":\"3561\",\"type\":\"ColumnDataSource\"},{\"attributes\":{\"below\":[{\"id\":\"3532\"}],\"center\":[{\"id\":\"3535\"},{\"id\":\"3539\"}],\"height\":300,\"left\":[{\"id\":\"3536\"}],\"renderers\":[{\"id\":\"3559\"},{\"id\":\"3566\"},{\"id\":\"3573\"},{\"id\":\"3580\"}],\"title\":{\"id\":\"3522\"},\"toolbar\":{\"id\":\"3547\"},\"width\":450,\"x_range\":{\"id\":\"3524\"},\"x_scale\":{\"id\":\"3528\"},\"y_range\":{\"id\":\"3526\"},\"y_scale\":{\"id\":\"3530\"}},\"id\":\"3521\",\"subtype\":\"Figure\",\"type\":\"Plot\"},{\"attributes\":{\"coordinates\":null,\"data_source\":{\"id\":\"3683\"},\"glyph\":{\"id\":\"3685\"},\"group\":null,\"hover_glyph\":null,\"muted_glyph\":{\"id\":\"3687\"},\"nonselection_glyph\":{\"id\":\"3686\"},\"view\":{\"id\":\"3689\"}},\"id\":\"3688\",\"type\":\"GlyphRenderer\"},{\"attributes\":{\"fill_color\":{\"value\":\"orange\"},\"hatch_color\":{\"value\":\"orange\"},\"line_color\":{\"value\":\"orange\"},\"x\":{\"field\":\"Treshold\"},\"y\":{\"field\":\"Mean\"}},\"id\":\"3631\",\"type\":\"Circle\"},{\"attributes\":{\"data\":{\"CI\":[[27.396120689655174,34.91379310344828],[22.32758620689655,28.328017241379307],[16.620689655172413,21.362068965517242],[11.413793103448276,15.46551724137931],[8.068965517241379,11.344827586206897],[5.982758620689655,8.65560344827586],[4.6547413793103445,7.0],[3.723706896551724,5.844827586206897],[3.086206896551724,5.017241379310345],[2.706896551724138,4.448706896551721],[2.413793103448276,4.051724137931035],[2.1379310344827585,3.7586206896551726],[1.9827586206896552,3.4310344827586206],[1.706896551724138,3.0689655172413794],[1.6206896551724137,3.0172413793103448],[1.6379310344827587,2.9827586206896552],[1.5689655172413792,2.896982758620687],[1.5,2.7590517241379287],[1.4137931034482758,2.7241379310344827],[1.3793103448275863,2.586206896551724],[1.2758620689655173,2.4310344827586206],[1.2241379310344827,2.3793103448275863],[1.1379310344827587,2.3280172413793077],[1.1551724137931034,2.207327586206894],[1.1551724137931034,2.2586206896551726],[1.103448275862069,2.207327586206894],[1.0517241379310345,2.1206896551724137],[1.0689655172413792,2.086206896551724]],\"Condition\":[\"Empty\",\"Empty\",\"Empty\",\"Empty\",\"Empty\",\"Empty\",\"Empty\",\"Empty\",\"Empty\",\"Empty\",\"Empty\",\"Empty\",\"Empty\",\"Empty\",\"Empty\",\"Empty\",\"Empty\",\"Empty\",\"Empty\",\"Empty\",\"Empty\",\"Empty\",\"Empty\",\"Empty\",\"Empty\",\"Empty\",\"Empty\",\"Empty\"],\"LowerBounds\":{\"__ndarray__\":\"g1ZfKmhlO0DLPY2w3FM2QFjuaYTlnjBAyz2NsNzTJkD3NMJyTyMgQITlnkZY7hdASOcthnSeEkBtomTXJsoNQNQIyz2NsAhAlnsaYbmnBUAs9zTCck8DQLmnEZZ7GgFAEpZ7GmG5/z8s9zTCck/7P4TlnkZY7vk/c08jLPc0+j+5pxGWexr5PwAAAAAAAPg/WO5phOWe9j98GmG5pxH2P+aeRljuafQ/GmG5pxGW8z9zTyMs9zTyP2G5pxGWe/I/YbmnEZZ78j+WexphuafxP8s9jbDc0/A/uacRlnsa8T8=\",\"dtype\":\"float64\",\"order\":\"little\",\"shape\":[28]},\"Mean\":{\"__ndarray__\":\"WO5phOUeP0DLPY2w3FM5QD6NsNzTCDNAwnJPIyz3KkAs9zTCck8jQLmnEZZ7Gh1AsdzTCMs9F0C5pxGWexoTQAnLPY2w3A9AAAAAAAAADECfRljuaYQJQD6NsNzTCAdAn0ZY7mmEBUA+jbDc0wgDQGqE5Z5GWAJAfBphuacRAkCfRljuaYQBQMs9jbDc0wBA9zTCck8jAEBHWO5phOX+P7Hc0wjLPf0/9zTCck8j/D8s9zTCck/7P2G5pxGWe/o/YbmnEZZ7+j+E5Z5GWO75P7mnEZZ7Gvk/yz2NsNzT+D8=\",\"dtype\":\"float64\",\"order\":\"little\",\"shape\":[28]},\"Training\":[\"Ctrl\",\"Ctrl\",\"Ctrl\",\"Ctrl\",\"Ctrl\",\"Ctrl\",\"Ctrl\",\"Ctrl\",\"Ctrl\",\"Ctrl\",\"Ctrl\",\"Ctrl\",\"Ctrl\",\"Ctrl\",\"Ctrl\",\"Ctrl\",\"Ctrl\",\"Ctrl\",\"Ctrl\",\"Ctrl\",\"Ctrl\",\"Ctrl\",\"Ctrl\",\"Ctrl\",\"Ctrl\",\"Ctrl\",\"Ctrl\",\"Ctrl\"],\"Treshold\":[20,30,40,50,60,70,80,90,100,110,120,130,140,150,160,170,180,190,200,210,220,230,240,250,260,270,280,290],\"UpperBounds\":{\"__ndarray__\":\"c08jLPd0QUCOPxzw+FM8QAnLPY2wXDVAhOWeRljuLkDUCMs9jbAmQLP6UkGrTyFAAAAAAAAAHECoEZZ7GmEXQHwaYbmnERRAmrcY0nnLEUBzTyMs9zQQQHwaYbmnEQ5AIyz3NMJyC0Dd0wjLPY0IQPc0wnJPIwhACcs9jbDcB0BP0OpLBS0HQJYo2bWJEgZAjbDc0wjLBUDUCMs9jbAEQCMs9zTCcgNAPo2w3NMIA0By/OGAx58CQLCJkl2bqAFAfBphuacRAkCwiZJdm6gBQMJyTyMs9wBA1AjLPY2wAEA=\",\"dtype\":\"float64\",\"order\":\"little\",\"shape\":[28]},\"index\":[0,0,0,0,0,0,0,0,0,0,0,0,0,0,0,0,0,0,0,0,0,0,0,0,0,0,0,0],\"level_0\":[0,6,12,18,24,30,36,42,48,54,60,66,72,78,84,90,96,102,108,114,120,126,132,138,144,150,156,162]},\"selected\":{\"id\":\"3849\"},\"selection_policy\":{\"id\":\"3848\"}},\"id\":\"3554\",\"type\":\"ColumnDataSource\"},{\"attributes\":{\"line_color\":{\"value\":\"#1f77b4\"},\"line_width\":{\"value\":2},\"x0\":{\"field\":\"Treshold\"},\"x1\":{\"field\":\"Treshold\"},\"y0\":{\"field\":\"LowerBounds\"},\"y1\":{\"field\":\"UpperBounds\"}},\"id\":\"3563\",\"type\":\"Segment\"},{\"attributes\":{\"bottom_units\":\"screen\",\"coordinates\":null,\"fill_alpha\":0.5,\"fill_color\":\"lightgrey\",\"group\":null,\"left_units\":\"screen\",\"level\":\"overlay\",\"line_alpha\":1.0,\"line_color\":\"black\",\"line_dash\":[4,4],\"line_width\":2,\"right_units\":\"screen\",\"syncable\":false,\"top_units\":\"screen\"},\"id\":\"3668\",\"type\":\"BoxAnnotation\"},{\"attributes\":{},\"id\":\"3524\",\"type\":\"DataRange1d\"},{\"attributes\":{\"below\":[{\"id\":\"3654\"}],\"center\":[{\"id\":\"3657\"},{\"id\":\"3661\"}],\"height\":300,\"left\":[{\"id\":\"3658\"}],\"renderers\":[{\"id\":\"3681\"},{\"id\":\"3688\"},{\"id\":\"3695\"},{\"id\":\"3702\"}],\"title\":{\"id\":\"3644\"},\"toolbar\":{\"id\":\"3669\"},\"width\":450,\"x_range\":{\"id\":\"3646\"},\"x_scale\":{\"id\":\"3650\"},\"y_range\":{\"id\":\"3648\"},\"y_scale\":{\"id\":\"3652\"}},\"id\":\"3643\",\"subtype\":\"Figure\",\"type\":\"Plot\"},{\"attributes\":{\"fill_alpha\":{\"value\":0.1},\"fill_color\":{\"value\":\"orange\"},\"hatch_alpha\":{\"value\":0.1},\"hatch_color\":{\"value\":\"orange\"},\"line_alpha\":{\"value\":0.1},\"line_color\":{\"value\":\"orange\"},\"x\":{\"field\":\"Treshold\"},\"y\":{\"field\":\"Mean\"}},\"id\":\"3693\",\"type\":\"Circle\"},{\"attributes\":{\"coordinates\":null,\"group\":null,\"text\":\"Empty chamber peekings\",\"text_color\":\"#5B5B5B\",\"text_font\":\"Calibri Light\",\"text_font_size\":\"1.25em\",\"text_font_style\":\"bold\"},\"id\":\"3522\",\"type\":\"Title\"},{\"attributes\":{},\"id\":\"3530\",\"type\":\"LinearScale\"},{\"attributes\":{\"fill_color\":{\"value\":\"#1f77b4\"},\"line_color\":{\"value\":\"#1f77b4\"},\"x\":{\"field\":\"Treshold\"},\"y\":{\"field\":\"Mean\"}},\"id\":\"3678\",\"type\":\"Circle\"},{\"attributes\":{},\"id\":\"3866\",\"type\":\"UnionRenderers\"},{\"attributes\":{},\"id\":\"3526\",\"type\":\"DataRange1d\"},{\"attributes\":{},\"id\":\"3850\",\"type\":\"UnionRenderers\"},{\"attributes\":{},\"id\":\"3533\",\"type\":\"BasicTicker\"},{\"attributes\":{},\"id\":\"3665\",\"type\":\"SaveTool\"},{\"attributes\":{\"axis\":{\"id\":\"3532\"},\"coordinates\":null,\"group\":null,\"ticker\":null},\"id\":\"3535\",\"type\":\"Grid\"},{\"attributes\":{\"coordinates\":null,\"data_source\":{\"id\":\"3697\"},\"glyph\":{\"id\":\"3699\"},\"group\":null,\"hover_glyph\":null,\"muted_glyph\":{\"id\":\"3701\"},\"nonselection_glyph\":{\"id\":\"3700\"},\"view\":{\"id\":\"3703\"}},\"id\":\"3702\",\"type\":\"GlyphRenderer\"},{\"attributes\":{},\"id\":\"3851\",\"type\":\"Selection\"},{\"attributes\":{},\"id\":\"3528\",\"type\":\"LinearScale\"},{\"attributes\":{},\"id\":\"3867\",\"type\":\"Selection\"},{\"attributes\":{\"axis_label\":\"Peeking Threshold\",\"axis_label_standoff\":10,\"axis_label_text_color\":\"#5B5B5B\",\"axis_label_text_font\":\"Calibri Light\",\"axis_label_text_font_size\":\"1.15em\",\"axis_label_text_font_style\":\"bold\",\"axis_line_alpha\":1,\"axis_line_color\":\"#5B5B5B\",\"coordinates\":null,\"formatter\":{\"id\":\"3834\"},\"group\":null,\"major_label_policy\":{\"id\":\"3835\"},\"major_label_text_color\":\"#5B5B5B\",\"major_label_text_font\":\"Calibri Light\",\"major_label_text_font_size\":\"0.95em\",\"major_label_text_font_style\":\"bold\",\"major_tick_in\":0,\"major_tick_line_alpha\":0.25,\"major_tick_line_color\":\"#5B5B5B\",\"major_tick_out\":3,\"minor_tick_line_alpha\":0.25,\"minor_tick_line_color\":\"#5B5B5B\",\"ticker\":{\"id\":\"3533\"}},\"id\":\"3532\",\"type\":\"LinearAxis\"},{\"attributes\":{\"coordinates\":null,\"group\":null,\"text\":\"Punished chamber peekings\",\"text_color\":\"#5B5B5B\",\"text_font\":\"Calibri Light\",\"text_font_size\":\"1.25em\",\"text_font_style\":\"bold\"},\"id\":\"3644\",\"type\":\"Title\"},{\"attributes\":{},\"id\":\"3844\",\"type\":\"AllLabels\"},{\"attributes\":{\"fill_alpha\":{\"value\":0.2},\"fill_color\":{\"value\":\"orange\"},\"hatch_alpha\":{\"value\":0.2},\"hatch_color\":{\"value\":\"orange\"},\"line_alpha\":{\"value\":0.2},\"line_color\":{\"value\":\"orange\"},\"x\":{\"field\":\"Treshold\"},\"y\":{\"field\":\"Mean\"}},\"id\":\"3633\",\"type\":\"Circle\"},{\"attributes\":{},\"id\":\"3663\",\"type\":\"WheelZoomTool\"},{\"attributes\":{},\"id\":\"3541\",\"type\":\"WheelZoomTool\"},{\"attributes\":{\"axis_label\":\"Count\",\"axis_label_standoff\":10,\"axis_label_text_color\":\"#5B5B5B\",\"axis_label_text_font\":\"Calibri Light\",\"axis_label_text_font_size\":\"1.15em\",\"axis_label_text_font_style\":\"bold\",\"axis_line_alpha\":1,\"axis_line_color\":\"#5B5B5B\",\"coordinates\":null,\"formatter\":{\"id\":\"3831\"},\"group\":null,\"major_label_policy\":{\"id\":\"3832\"},\"major_label_text_color\":\"#5B5B5B\",\"major_label_text_font\":\"Calibri Light\",\"major_label_text_font_size\":\"0.95em\",\"major_label_text_font_style\":\"bold\",\"major_tick_in\":0,\"major_tick_line_alpha\":0.25,\"major_tick_line_color\":\"#5B5B5B\",\"major_tick_out\":3,\"minor_tick_line_alpha\":0.25,\"minor_tick_line_color\":\"#5B5B5B\",\"ticker\":{\"id\":\"3537\"}},\"id\":\"3536\",\"type\":\"LinearAxis\"},{\"attributes\":{\"axis\":{\"id\":\"3536\"},\"coordinates\":null,\"dimension\":1,\"group\":null,\"ticker\":null},\"id\":\"3539\",\"type\":\"Grid\"},{\"attributes\":{},\"id\":\"3537\",\"type\":\"BasicTicker\"},{\"attributes\":{\"axis_label\":\"Peeking Threshold\",\"axis_label_standoff\":10,\"axis_label_text_color\":\"#5B5B5B\",\"axis_label_text_font\":\"Calibri Light\",\"axis_label_text_font_size\":\"1.15em\",\"axis_label_text_font_style\":\"bold\",\"axis_line_alpha\":1,\"axis_line_color\":\"#5B5B5B\",\"coordinates\":null,\"formatter\":{\"id\":\"3840\"},\"group\":null,\"major_label_policy\":{\"id\":\"3841\"},\"major_label_text_color\":\"#5B5B5B\",\"major_label_text_font\":\"Calibri Light\",\"major_label_text_font_size\":\"0.95em\",\"major_label_text_font_style\":\"bold\",\"major_tick_in\":0,\"major_tick_line_alpha\":0.25,\"major_tick_line_color\":\"#5B5B5B\",\"major_tick_out\":3,\"minor_tick_line_alpha\":0.25,\"minor_tick_line_color\":\"#5B5B5B\",\"ticker\":{\"id\":\"3594\"}},\"id\":\"3593\",\"type\":\"LinearAxis\"},{\"attributes\":{\"line_color\":{\"value\":\"#1f77b4\"},\"line_width\":{\"value\":2},\"x0\":{\"field\":\"Treshold\"},\"x1\":{\"field\":\"Treshold\"},\"y0\":{\"field\":\"LowerBounds\"},\"y1\":{\"field\":\"UpperBounds\"}},\"id\":\"3624\",\"type\":\"Segment\"},{\"attributes\":{},\"id\":\"3545\",\"type\":\"HelpTool\"},{\"attributes\":{},\"id\":\"3598\",\"type\":\"BasicTicker\"},{\"attributes\":{},\"id\":\"3540\",\"type\":\"PanTool\"},{\"attributes\":{\"line_color\":{\"value\":\"#1f77b4\"},\"line_width\":{\"value\":2},\"x0\":{\"field\":\"Treshold\"},\"x1\":{\"field\":\"Treshold\"},\"y0\":{\"field\":\"LowerBounds\"},\"y1\":{\"field\":\"UpperBounds\"}},\"id\":\"3685\",\"type\":\"Segment\"},{\"attributes\":{\"overlay\":{\"id\":\"3546\"}},\"id\":\"3542\",\"type\":\"BoxZoomTool\"},{\"attributes\":{},\"id\":\"3543\",\"type\":\"SaveTool\"},{\"attributes\":{},\"id\":\"3544\",\"type\":\"ResetTool\"},{\"attributes\":{\"data\":{\"CI\":[[25.3995,34.680499999999995],[19.24,25.8],[13.44,17.98],[9.6,13.0],[7.1195,10.1],[5.66,8.22],[4.54,6.84],[3.7195,5.840499999999997],[3.14,5.02],[2.66,4.34],[2.28,3.74],[2.0,3.42],[1.8395000000000001,3.180499999999997],[1.68,2.98],[1.62,2.88],[1.44,2.66],[1.34,2.54],[1.3,2.440499999999997],[1.1395,2.26],[1.08,2.16],[1.1,2.16],[1.1,2.16],[1.0995000000000001,2.12],[1.06,2.06],[0.96,1.9404999999999972],[0.86,1.88],[0.8595,1.82],[0.8795000000000001,1.82]],\"Condition\":[\"Rewarded\",\"Rewarded\",\"Rewarded\",\"Rewarded\",\"Rewarded\",\"Rewarded\",\"Rewarded\",\"Rewarded\",\"Rewarded\",\"Rewarded\",\"Rewarded\",\"Rewarded\",\"Rewarded\",\"Rewarded\",\"Rewarded\",\"Rewarded\",\"Rewarded\",\"Rewarded\",\"Rewarded\",\"Rewarded\",\"Rewarded\",\"Rewarded\",\"Rewarded\",\"Rewarded\",\"Rewarded\",\"Rewarded\",\"Rewarded\",\"Rewarded\"],\"LowerBounds\":{\"__ndarray__\":\"g8DKoUVmOUA9CtejcD0zQOF6FK5H4SpAMzMzMzMzI0DufD81XnocQKRwPQrXoxZAKVyPwvUoEkCoxks3icENQB+F61G4HglASOF6FK5HBUA9CtejcD0CQAAAAAAAAABAPN9PjZdu/T/hehSuR+H6P+xRuB6F6/k/CtejcD0K9z9xPQrXo3D1P83MzMzMzPQ/CKwcWmQ78j9I4XoUrkfxP5qZmZmZmfE/mpmZmZmZ8T9lO99PjZfxP/YoXI/C9fA/uB6F61G47j+F61G4HoXrPxsv3SQGges/v58aL90k7D8=\",\"dtype\":\"float64\",\"order\":\"little\",\"shape\":[28]},\"Mean\":{\"__ndarray__\":\"9ihcj8L1PUD2KFyPwnU2QGZmZmZmZi9ApHA9CtejJkBI4XoUrkchQK5H4XoUrhtApHA9CtejFkD2KFyPwvUSQBSuR+F6FBBArkfhehSuC0AAAAAAAAAIQHE9CtejcAVA16NwPQrXA0CPwvUoXI8CQMP1KFyPwgFAUrgehetRAEC4HoXrUbj+P8P1KFyPwv0/4XoUrkfh+j+amZmZmZn5P5qZmZmZmfk/mpmZmZmZ+T9I4XoUrkf5P1K4HoXrUfg/CtejcD0K9z9xPQrXo3D1Px+F61G4HvU/H4XrUbge9T8=\",\"dtype\":\"float64\",\"order\":\"little\",\"shape\":[28]},\"Training\":[\"Trained\",\"Trained\",\"Trained\",\"Trained\",\"Trained\",\"Trained\",\"Trained\",\"Trained\",\"Trained\",\"Trained\",\"Trained\",\"Trained\",\"Trained\",\"Trained\",\"Trained\",\"Trained\",\"Trained\",\"Trained\",\"Trained\",\"Trained\",\"Trained\",\"Trained\",\"Trained\",\"Trained\",\"Trained\",\"Trained\",\"Trained\",\"Trained\"],\"Treshold\":[20,30,40,50,60,70,80,90,100,110,120,130,140,150,160,170,180,190,200,210,220,230,240,250,260,270,280,290],\"UpperBounds\":{\"__ndarray__\":\"yHa+nxpXQUDNzMzMzMw5QHsUrkfh+jFAAAAAAAAAKkAzMzMzMzMkQHE9CtejcCBAXI/C9ShcG0DmJjEIrFwXQBSuR+F6FBRAXI/C9ShcEUDsUbgehesNQFyPwvUoXAtAhWzn+6lxCUDXo3A9CtcHQArXo3A9CgdASOF6FK5HBUBSuB6F61EEQJkaL90khgNAFK5H4XoUAkBI4XoUrkcBQEjhehSuRwFASOF6FK5HAUD2KFyPwvUAQHsUrkfhegBAMzVeukkM/z8UrkfhehT+Px+F61G4Hv0/H4XrUbge/T8=\",\"dtype\":\"float64\",\"order\":\"little\",\"shape\":[28]},\"index\":[5,5,5,5,5,5,5,5,5,5,5,5,5,5,5,5,5,5,5,5,5,5,5,5,5,5,5,5],\"level_0\":[5,11,17,23,29,35,41,47,53,59,65,71,77,83,89,95,101,107,113,119,125,131,137,143,149,155,161,167]},\"selected\":{\"id\":\"3864\"},\"selection_policy\":{\"id\":\"3863\"}},\"id\":\"3636\",\"type\":\"ColumnDataSource\"},{\"attributes\":{},\"id\":\"3852\",\"type\":\"UnionRenderers\"},{\"attributes\":{\"data\":{\"CI\":[[27.17241379310345,35.25905172413793],[20.981896551724137,27.275862068965516],[14.499137931034483,19.138362068965513],[10.396120689655172,13.862068965517242],[7.362068965517241,10.310775862068963],[5.706896551724138,8.362499999999999],[4.5344827586206895,6.982758620689655],[3.7413793103448274,5.810775862068963],[3.1724137931034484,5.137931034482759],[2.7413793103448274,4.500431034482756],[2.4655172413793105,4.086206896551724],[2.1724137931034484,3.5693965517241355],[1.896551724137931,3.2413793103448274],[1.6892241379310347,2.913793103448276],[1.6719827586206897,2.810344827586207],[1.5862068965517242,2.6724137931034484],[1.5340517241379312,2.603879310344825],[1.396551724137931,2.3620689655172415],[1.3103448275862069,2.206896551724138],[1.2413793103448276,2.1379310344827585],[1.1379310344827587,1.9827586206896552],[1.0862068965517242,1.896551724137931],[1.0172413793103448,1.8448275862068966],[0.9827586206896551,1.7762931034482736],[0.9310344827586207,1.6724137931034482],[0.9310344827586207,1.6551724137931034],[0.8620689655172413,1.603448275862069],[0.8271551724137931,1.5344827586206897]],\"Condition\":[\"Punished\",\"Punished\",\"Punished\",\"Punished\",\"Punished\",\"Punished\",\"Punished\",\"Punished\",\"Punished\",\"Punished\",\"Punished\",\"Punished\",\"Punished\",\"Punished\",\"Punished\",\"Punished\",\"Punished\",\"Punished\",\"Punished\",\"Punished\",\"Punished\",\"Punished\",\"Punished\",\"Punished\",\"Punished\",\"Punished\",\"Punished\",\"Punished\"],\"LowerBounds\":{\"__ndarray__\":\"NcJyTyMsO0DZtYmSXfs0QPD4wwGP/yxABa2+VNDKJEAjLPc0wnIdQMs9jbDc0xZA9zTCck8jEkCE5Z5GWO4NQKgRlnsaYQlAhOWeRljuBUASlnsaYbkDQKgRlnsaYQFAaoTlnkZY/j//cMDjDwf7PxAHPP5wwPo/qBGWexph+T+etxjSeYv4P2qE5Z5GWPY/wnJPIyz39D8Jyz2NsNzzP3NPIyz3NPI/qBGWexph8T/uaYTlnkbwPyMs9zTCcu8/jbDc0wjL7T+NsNzTCMvtPxphuacRlus/4oDHHw546j8=\",\"dtype\":\"float64\",\"order\":\"little\",\"shape\":[28]},\"Mean\":{\"__ndarray__\":\"sdzTCMs9P0CWexphuSc4QI2w3NMIyzBAuacRlnsaKEDd0wjLPY0hQHwaYbmnERxA1AjLPY2wFkDCck8jLPcSQOaeRljuaRBA1AjLPY2wDEB8GmG5pxEKQE8jLPc0wgZA5p5GWO5pBEBqhOWeRlgCQJZ7GmG5pwFA1AjLPY2wAEDuaYTlnkYAQI2w3NMIy/0/Ccs9jbDc+z9PIyz3NML6P8s9jbDc0/g/EpZ7GmG59z9Y7mmE5Z72P42w3NMIy/U/1AjLPY2w9D/mnkZY7mn0PxphuacRlvM/TyMs9zTC8j8=\",\"dtype\":\"float64\",\"order\":\"little\",\"shape\":[28]},\"Training\":[\"Ctrl\",\"Ctrl\",\"Ctrl\",\"Ctrl\",\"Ctrl\",\"Ctrl\",\"Ctrl\",\"Ctrl\",\"Ctrl\",\"Ctrl\",\"Ctrl\",\"Ctrl\",\"Ctrl\",\"Ctrl\",\"Ctrl\",\"Ctrl\",\"Ctrl\",\"Ctrl\",\"Ctrl\",\"Ctrl\",\"Ctrl\",\"Ctrl\",\"Ctrl\",\"Ctrl\",\"Ctrl\",\"Ctrl\",\"Ctrl\",\"Ctrl\"],\"Treshold\":[20,30,40,50,60,70,80,90,100,110,120,130,140,150,160,170,180,190,200,210,220,230,240,250,260,270,280,290],\"UpperBounds\":{\"__ndarray__\":\"ipJdmyihQUDuaYTlnkY7QLo2UbJrIzNAEpZ7GmG5K0Df8YcDHp8kQJmZmZmZuSBAhOWeRljuG0C+4w8HPD4XQN3TCMs9jRRADQc8/nAAEkBqhOWeRlgQQPfhgMcfjgxAhOWeRljuCUAs9zTCck8HQGG5pxGWewZAqBGWexphBUDlSwWtvtQEQEdY7mmE5QJAlnsaYbmnAUC5pxGWexoBQBKWexphuf8/aoTlnkZY/j+fRljuaYT9Pxu7NlGya/w/TyMs9zTC+j9huacRlnv6P5Z7GmG5p/k/3dMIyz2N+D8=\",\"dtype\":\"float64\",\"order\":\"little\",\"shape\":[28]},\"index\":[2,2,2,2,2,2,2,2,2,2,2,2,2,2,2,2,2,2,2,2,2,2,2,2,2,2,2,2],\"level_0\":[2,8,14,20,26,32,38,44,50,56,62,68,74,80,86,92,98,104,110,116,122,128,134,140,146,152,158,164]},\"selected\":{\"id\":\"3869\"},\"selection_policy\":{\"id\":\"3868\"}},\"id\":\"3683\",\"type\":\"ColumnDataSource\"},{\"attributes\":{},\"id\":\"3853\",\"type\":\"Selection\"},{\"attributes\":{},\"id\":\"3605\",\"type\":\"ResetTool\"},{\"attributes\":{\"bottom_units\":\"screen\",\"coordinates\":null,\"fill_alpha\":0.5,\"fill_color\":\"lightgrey\",\"group\":null,\"left_units\":\"screen\",\"level\":\"overlay\",\"line_alpha\":1.0,\"line_color\":\"black\",\"line_dash\":[4,4],\"line_width\":2,\"right_units\":\"screen\",\"syncable\":false,\"top_units\":\"screen\"},\"id\":\"3607\",\"type\":\"BoxAnnotation\"},{\"attributes\":{},\"id\":\"3868\",\"type\":\"UnionRenderers\"},{\"attributes\":{\"data\":{\"CI\":[[24.49956896551724,32.828017241379314],[19.120258620689654,25.396982758620688],[13.723706896551723,18.793534482758616],[10.154741379310344,13.982758620689655],[7.56853448275862,10.586206896551724],[5.896551724137931,8.362068965517242],[4.741379310344827,7.069396551724135],[3.7413793103448274,5.689655172413793],[3.2758620689655173,5.12112068965517],[2.6551724137931036,4.172413793103448],[2.2758620689655173,3.689655172413793],[2.1379310344827585,3.4827586206896552],[1.9482758620689655,3.1551724137931036],[1.7926724137931036,2.9655172413793105],[1.5685344827586207,2.7413793103448274],[1.5172413793103448,2.6556034482758597],[1.4310344827586208,2.413793103448276],[1.3275862068965518,2.3620689655172415],[1.2586206896551724,2.2413793103448274],[1.1896551724137931,2.1551724137931036],[1.1551724137931034,2.086206896551724],[1.1379310344827587,2.0689655172413794],[1.0862068965517242,2.017672413793101],[1.0172413793103448,1.9487068965517218],[1.0,1.9482758620689655],[1.0,1.8793103448275863],[0.9655172413793104,1.8448275862068966],[0.9310344827586207,1.7413793103448276]],\"Condition\":[\"Rewarded\",\"Rewarded\",\"Rewarded\",\"Rewarded\",\"Rewarded\",\"Rewarded\",\"Rewarded\",\"Rewarded\",\"Rewarded\",\"Rewarded\",\"Rewarded\",\"Rewarded\",\"Rewarded\",\"Rewarded\",\"Rewarded\",\"Rewarded\",\"Rewarded\",\"Rewarded\",\"Rewarded\",\"Rewarded\",\"Rewarded\",\"Rewarded\",\"Rewarded\",\"Rewarded\",\"Rewarded\",\"Rewarded\",\"Rewarded\",\"Rewarded\"],\"LowerBounds\":{\"__ndarray__\":\"PP5wwON/OECU7NpEyR4zQJso2bWJcitApPMWQzpPJEDeYkjnLUYeQBphuacRlhdAwnJPIyz3EkCE5Z5GWO4NQHNPIyz3NApAsdzTCMs9BUBzTyMs9zQCQLmnEZZ7GgFANcJyTyMs/z+V7NpEya78P3qLIZ23GPk/7mmE5Z5G+D9HWO5phOX2P7Hc0wjLPfU/9zTCck8j9D8+jbDc0wjzP2G5pxGWe/I/c08jLPc08j+oEZZ7GmHxP+5phOWeRvA/AAAAAAAA8D8AAAAAAADwP0dY7mmE5e4/jbDc0wjL7T8=\",\"dtype\":\"float64\",\"order\":\"little\",\"shape\":[28]},\"Mean\":{\"__ndarray__\":\"lnsaYbmnPEA1wnJPIyw2QJZ7GmG5JzBAwnJPIyz3J0A+jbDc0wgiQO5phOWeRhxAqBGWexphF0BY7mmE5Z4SQGG5pxGWexBAR1juaYTlCkAaYbmnEZYHQHwaYbmnEQZAAAAAAAAABEBPIyz3NMICQMJyTyMs9wBA5p5GWO5pAEBqhOWeRlj+P7Hc0wjLPf0/GmG5pxGW+z9zTyMs9zT6P5Z7GmG5p/k/uacRlnsa+T/uaYTlnkb4PxKWexphufc/Iyz3NMJy9z9qhOWeRlj2P3waYbmnEfY/sdzTCMs99T8=\",\"dtype\":\"float64\",\"order\":\"little\",\"shape\":[28]},\"Training\":[\"Ctrl\",\"Ctrl\",\"Ctrl\",\"Ctrl\",\"Ctrl\",\"Ctrl\",\"Ctrl\",\"Ctrl\",\"Ctrl\",\"Ctrl\",\"Ctrl\",\"Ctrl\",\"Ctrl\",\"Ctrl\",\"Ctrl\",\"Ctrl\",\"Ctrl\",\"Ctrl\",\"Ctrl\",\"Ctrl\",\"Ctrl\",\"Ctrl\",\"Ctrl\",\"Ctrl\",\"Ctrl\",\"Ctrl\",\"Ctrl\",\"Ctrl\"],\"Treshold\":[20,30,40,50,60,70,80,90,100,110,120,130,140,150,160,170,180,190,200,210,220,230,240,250,260,270,280,290],\"UpperBounds\":{\"__ndarray__\":\"yB8OePxpQEAKWn2poGU5QFCyaxMlyzJAwnJPIyz3K0A1wnJPIywlQBKWexphuSBA+3DA4w9HHEBPIyz3NMIWQG7A4w8HfBRA1AjLPY2wEECfRljuaYQNQAnLPY2w3AtAsdzTCMs9CUASlnsaYbkHQITlnkZY7gVAy+pLBa0+BUAs9zTCck8DQEdY7mmE5QJAhOWeRljuAUCx3NMIyz0BQNQIyz2NsABA3dMIyz2NAEARQzpvMSQAQGreYkjnLf8/NcJyTyMs/z98GmG5pxH+P59GWO5phP0/Ccs9jbDc+z8=\",\"dtype\":\"float64\",\"order\":\"little\",\"shape\":[28]},\"index\":[4,4,4,4,4,4,4,4,4,4,4,4,4,4,4,4,4,4,4,4,4,4,4,4,4,4,4,4],\"level_0\":[4,10,16,22,28,34,40,46,52,58,64,70,76,82,88,94,100,106,112,118,124,130,136,142,148,154,160,166]},\"selected\":{\"id\":\"3860\"},\"selection_policy\":{\"id\":\"3859\"}},\"id\":\"3622\",\"type\":\"ColumnDataSource\"},{\"attributes\":{},\"id\":\"3869\",\"type\":\"Selection\"},{\"attributes\":{\"line_alpha\":{\"value\":0.2},\"line_color\":{\"value\":\"orange\"},\"line_width\":{\"value\":2},\"x0\":{\"field\":\"Treshold\"},\"x1\":{\"field\":\"Treshold\"},\"y0\":{\"field\":\"LowerBounds\"},\"y1\":{\"field\":\"UpperBounds\"}},\"id\":\"3579\",\"type\":\"Segment\"},{\"attributes\":{\"source\":{\"id\":\"3554\"}},\"id\":\"3560\",\"type\":\"CDSView\"},{\"attributes\":{\"line_alpha\":{\"value\":0.1},\"line_color\":{\"value\":\"orange\"},\"line_width\":{\"value\":2},\"x0\":{\"field\":\"Treshold\"},\"x1\":{\"field\":\"Treshold\"},\"y0\":{\"field\":\"LowerBounds\"},\"y1\":{\"field\":\"UpperBounds\"}},\"id\":\"3700\",\"type\":\"Segment\"},{\"attributes\":{},\"id\":\"3841\",\"type\":\"AllLabels\"},{\"attributes\":{\"line_alpha\":{\"value\":0.2},\"line_color\":{\"value\":\"#1f77b4\"},\"line_width\":{\"value\":2},\"x0\":{\"field\":\"Treshold\"},\"x1\":{\"field\":\"Treshold\"},\"y0\":{\"field\":\"LowerBounds\"},\"y1\":{\"field\":\"UpperBounds\"}},\"id\":\"3565\",\"type\":\"Segment\"},{\"attributes\":{},\"id\":\"3655\",\"type\":\"BasicTicker\"},{\"attributes\":{\"line_alpha\":{\"value\":0.1},\"line_color\":{\"value\":\"#1f77b4\"},\"line_width\":{\"value\":2},\"x0\":{\"field\":\"Treshold\"},\"x1\":{\"field\":\"Treshold\"},\"y0\":{\"field\":\"LowerBounds\"},\"y1\":{\"field\":\"UpperBounds\"}},\"id\":\"3564\",\"type\":\"Segment\"},{\"attributes\":{},\"id\":\"3834\",\"type\":\"BasicTickFormatter\"},{\"attributes\":{\"source\":{\"id\":\"3575\"}},\"id\":\"3581\",\"type\":\"CDSView\"},{\"attributes\":{\"source\":{\"id\":\"3676\"}},\"id\":\"3682\",\"type\":\"CDSView\"},{\"attributes\":{},\"id\":\"3604\",\"type\":\"SaveTool\"},{\"attributes\":{\"fill_alpha\":{\"value\":0.2},\"fill_color\":{\"value\":\"orange\"},\"hatch_alpha\":{\"value\":0.2},\"hatch_color\":{\"value\":\"orange\"},\"line_alpha\":{\"value\":0.2},\"line_color\":{\"value\":\"orange\"},\"x\":{\"field\":\"Treshold\"},\"y\":{\"field\":\"Mean\"}},\"id\":\"3572\",\"type\":\"Circle\"},{\"attributes\":{},\"id\":\"3870\",\"type\":\"UnionRenderers\"},{\"attributes\":{},\"id\":\"3854\",\"type\":\"UnionRenderers\"},{\"attributes\":{\"coordinates\":null,\"data_source\":{\"id\":\"3629\"},\"glyph\":{\"id\":\"3631\"},\"group\":null,\"hover_glyph\":null,\"muted_glyph\":{\"id\":\"3633\"},\"nonselection_glyph\":{\"id\":\"3632\"},\"view\":{\"id\":\"3635\"}},\"id\":\"3634\",\"type\":\"GlyphRenderer\"},{\"attributes\":{},\"id\":\"3662\",\"type\":\"PanTool\"},{\"attributes\":{},\"id\":\"3855\",\"type\":\"Selection\"},{\"attributes\":{},\"id\":\"3871\",\"type\":\"Selection\"},{\"attributes\":{\"coordinates\":null,\"data_source\":{\"id\":\"3568\"},\"glyph\":{\"id\":\"3570\"},\"group\":null,\"hover_glyph\":null,\"muted_glyph\":{\"id\":\"3572\"},\"nonselection_glyph\":{\"id\":\"3571\"},\"view\":{\"id\":\"3574\"}},\"id\":\"3573\",\"type\":\"GlyphRenderer\"},{\"attributes\":{},\"id\":\"3589\",\"type\":\"LinearScale\"},{\"attributes\":{\"source\":{\"id\":\"3568\"}},\"id\":\"3574\",\"type\":\"CDSView\"},{\"attributes\":{},\"id\":\"3585\",\"type\":\"DataRange1d\"},{\"attributes\":{\"below\":[{\"id\":\"3593\"}],\"center\":[{\"id\":\"3596\"},{\"id\":\"3600\"}],\"height\":300,\"left\":[{\"id\":\"3597\"}],\"renderers\":[{\"id\":\"3620\"},{\"id\":\"3627\"},{\"id\":\"3634\"},{\"id\":\"3641\"}],\"title\":{\"id\":\"3583\"},\"toolbar\":{\"id\":\"3608\"},\"width\":450,\"x_range\":{\"id\":\"3585\"},\"x_scale\":{\"id\":\"3589\"},\"y_range\":{\"id\":\"3587\"},\"y_scale\":{\"id\":\"3591\"}},\"id\":\"3582\",\"subtype\":\"Figure\",\"type\":\"Plot\"},{\"attributes\":{\"fill_alpha\":{\"value\":0.1},\"fill_color\":{\"value\":\"orange\"},\"hatch_alpha\":{\"value\":0.1},\"hatch_color\":{\"value\":\"orange\"},\"line_alpha\":{\"value\":0.1},\"line_color\":{\"value\":\"orange\"},\"x\":{\"field\":\"Treshold\"},\"y\":{\"field\":\"Mean\"}},\"id\":\"3571\",\"type\":\"Circle\"},{\"attributes\":{\"fill_alpha\":{\"value\":0.2},\"fill_color\":{\"value\":\"#1f77b4\"},\"hatch_alpha\":{\"value\":0.2},\"line_alpha\":{\"value\":0.2},\"line_color\":{\"value\":\"#1f77b4\"},\"x\":{\"field\":\"Treshold\"},\"y\":{\"field\":\"Mean\"}},\"id\":\"3619\",\"type\":\"Circle\"},{\"attributes\":{\"source\":{\"id\":\"3629\"}},\"id\":\"3635\",\"type\":\"CDSView\"},{\"attributes\":{\"source\":{\"id\":\"3561\"}},\"id\":\"3567\",\"type\":\"CDSView\"},{\"attributes\":{\"line_alpha\":{\"value\":0.2},\"line_color\":{\"value\":\"orange\"},\"line_width\":{\"value\":2},\"x0\":{\"field\":\"Treshold\"},\"x1\":{\"field\":\"Treshold\"},\"y0\":{\"field\":\"LowerBounds\"},\"y1\":{\"field\":\"UpperBounds\"}},\"id\":\"3640\",\"type\":\"Segment\"},{\"attributes\":{\"coordinates\":null,\"data_source\":{\"id\":\"3561\"},\"glyph\":{\"id\":\"3563\"},\"group\":null,\"hover_glyph\":null,\"muted_glyph\":{\"id\":\"3565\"},\"nonselection_glyph\":{\"id\":\"3564\"},\"view\":{\"id\":\"3567\"}},\"id\":\"3566\",\"type\":\"GlyphRenderer\"},{\"attributes\":{\"fill_color\":{\"value\":\"#1f77b4\"},\"line_color\":{\"value\":\"#1f77b4\"},\"x\":{\"field\":\"Treshold\"},\"y\":{\"field\":\"Mean\"}},\"id\":\"3556\",\"type\":\"Circle\"},{\"attributes\":{\"coordinates\":null,\"data_source\":{\"id\":\"3636\"},\"glyph\":{\"id\":\"3638\"},\"group\":null,\"hover_glyph\":null,\"muted_glyph\":{\"id\":\"3640\"},\"nonselection_glyph\":{\"id\":\"3639\"},\"view\":{\"id\":\"3642\"}},\"id\":\"3641\",\"type\":\"GlyphRenderer\"},{\"attributes\":{\"data\":{\"CI\":[[26.1595,34.3405],[21.4995,28.541499999999992],[15.18,20.2],[10.9195,14.500499999999997],[8.26,11.24],[6.44,8.98],[5.42,7.78],[4.12,6.2],[3.3,5.240499999999997],[2.72,4.6],[2.4995,4.320499999999997],[2.28,4.04],[2.16,3.86],[2.0,3.76],[1.96,3.66],[1.9,3.54],[1.78,3.360499999999997],[1.66,3.16],[1.66,3.18],[1.6,3.12],[1.52,2.98],[1.5,2.98],[1.42,2.84],[1.36,2.84],[1.34,2.74],[1.36,2.780499999999997],[1.32,2.7404999999999973],[1.34,2.7]],\"Condition\":[\"Empty\",\"Empty\",\"Empty\",\"Empty\",\"Empty\",\"Empty\",\"Empty\",\"Empty\",\"Empty\",\"Empty\",\"Empty\",\"Empty\",\"Empty\",\"Empty\",\"Empty\",\"Empty\",\"Empty\",\"Empty\",\"Empty\",\"Empty\",\"Empty\",\"Empty\",\"Empty\",\"Empty\",\"Empty\",\"Empty\",\"Empty\",\"Empty\"],\"LowerBounds\":{\"__ndarray__\":\"Rrbz/dQoOkAdWmQ73381QFyPwvUoXC5AEFg5tMjWJUCF61G4HoUgQMP1KFyPwhlArkfhehSuFUB7FK5H4XoQQGZmZmZmZgpAw/UoXI/CBUDl0CLb+f4DQD0K16NwPQJASOF6FK5HAUAAAAAAAAAAQFyPwvUoXP8/ZmZmZmZm/j97FK5H4Xr8P4/C9Shcj/o/j8L1KFyP+j+amZmZmZn5P1K4HoXrUfg/AAAAAAAA+D+4HoXrUbj2P8P1KFyPwvU/cT0K16Nw9T/D9Shcj8L1Px+F61G4HvU/cT0K16Nw9T8=\",\"dtype\":\"float64\",\"order\":\"little\",\"shape\":[28]},\"Mean\":{\"__ndarray__\":\"9ihcj8J1PkCPwvUoXA85QDMzMzMzszFAhetRuB6FKUB7FK5H4XojQPYoXI/C9R5AKVyPwvUoGkCPwvUoXI8UQArXo3A9ChFA9ihcj8L1DEAK16NwPQoLQM3MzMzMzAhA16NwPQrXB0C4HoXrUbgGQD0K16NwPQZAmpmZmZmZBUB7FK5H4XoEQDMzMzMzMwNACtejcD0KA0CPwvUoXI8CQOxRuB6F6wFAmpmZmZmZAUDNzMzMzMwAQHsUrkfhegBAUrgehetRAEBSuB6F61EAQAAAAAAAAABArkfhehSu/z8=\",\"dtype\":\"float64\",\"order\":\"little\",\"shape\":[28]},\"Training\":[\"Trained\",\"Trained\",\"Trained\",\"Trained\",\"Trained\",\"Trained\",\"Trained\",\"Trained\",\"Trained\",\"Trained\",\"Trained\",\"Trained\",\"Trained\",\"Trained\",\"Trained\",\"Trained\",\"Trained\",\"Trained\",\"Trained\",\"Trained\",\"Trained\",\"Trained\",\"Trained\",\"Trained\",\"Trained\",\"Trained\",\"Trained\",\"Trained\"],\"Treshold\":[20,30,40,50,60,70,80,90,100,110,120,130,140,150,160,170,180,190,200,210,220,230,240,250,260,270,280,290],\"UpperBounds\":{\"__ndarray__\":\"3SQGgZUrQUCyyHa+n4o8QDMzMzMzMzRAxUs3iUEALUB7FK5H4XomQPYoXI/C9SFAH4XrUbgeH0DNzMzMzMwYQIDAyqFF9hRAZmZmZmZmEkDSeOkmMUgRQClcj8L1KBBA4XoUrkfhDkAUrkfhehQOQEjhehSuRw1AUrgehetRDED1qfHSTeIKQEjhehSuRwlAcT0K16NwCUD2KFyPwvUIQNejcD0K1wdA16NwPQrXB0C4HoXrUbgGQLgehetRuAZA7FG4HoXrBUBRObTIdj4GQACBlUOL7AVAmpmZmZmZBUA=\",\"dtype\":\"float64\",\"order\":\"little\",\"shape\":[28]},\"index\":[1,1,1,1,1,1,1,1,1,1,1,1,1,1,1,1,1,1,1,1,1,1,1,1,1,1,1,1],\"level_0\":[1,7,13,19,25,31,37,43,49,55,61,67,73,79,85,91,97,103,109,115,121,127,133,139,145,151,157,163]},\"selected\":{\"id\":\"3855\"},\"selection_policy\":{\"id\":\"3854\"}},\"id\":\"3575\",\"type\":\"ColumnDataSource\"},{\"attributes\":{\"source\":{\"id\":\"3636\"}},\"id\":\"3642\",\"type\":\"CDSView\"},{\"attributes\":{\"fill_color\":{\"value\":\"orange\"},\"hatch_color\":{\"value\":\"orange\"},\"line_color\":{\"value\":\"orange\"},\"x\":{\"field\":\"Treshold\"},\"y\":{\"field\":\"Mean\"}},\"id\":\"3570\",\"type\":\"Circle\"},{\"attributes\":{},\"id\":\"3872\",\"type\":\"UnionRenderers\"},{\"attributes\":{},\"id\":\"3873\",\"type\":\"Selection\"},{\"attributes\":{\"tools\":[{\"id\":\"3540\"},{\"id\":\"3541\"},{\"id\":\"3542\"},{\"id\":\"3543\"},{\"id\":\"3544\"},{\"id\":\"3545\"}]},\"id\":\"3547\",\"type\":\"Toolbar\"},{\"attributes\":{\"coordinates\":null,\"group\":null,\"text\":\"Rewarded chamber peekings\",\"text_color\":\"#5B5B5B\",\"text_font\":\"Calibri Light\",\"text_font_size\":\"1.25em\",\"text_font_style\":\"bold\"},\"id\":\"3583\",\"type\":\"Title\"},{\"attributes\":{\"line_alpha\":{\"value\":0.1},\"line_color\":{\"value\":\"#1f77b4\"},\"line_width\":{\"value\":2},\"x0\":{\"field\":\"Treshold\"},\"x1\":{\"field\":\"Treshold\"},\"y0\":{\"field\":\"LowerBounds\"},\"y1\":{\"field\":\"UpperBounds\"}},\"id\":\"3625\",\"type\":\"Segment\"},{\"attributes\":{},\"id\":\"3857\",\"type\":\"UnionRenderers\"},{\"attributes\":{\"tools\":[{\"id\":\"3601\"},{\"id\":\"3602\"},{\"id\":\"3603\"},{\"id\":\"3604\"},{\"id\":\"3605\"},{\"id\":\"3606\"}]},\"id\":\"3608\",\"type\":\"Toolbar\"},{\"attributes\":{\"axis\":{\"id\":\"3654\"},\"coordinates\":null,\"group\":null,\"ticker\":null},\"id\":\"3657\",\"type\":\"Grid\"},{\"attributes\":{},\"id\":\"3652\",\"type\":\"LinearScale\"},{\"attributes\":{},\"id\":\"3591\",\"type\":\"LinearScale\"},{\"attributes\":{},\"id\":\"3858\",\"type\":\"Selection\"},{\"attributes\":{},\"id\":\"3650\",\"type\":\"LinearScale\"},{\"attributes\":{\"axis_label\":\"Count\",\"axis_label_standoff\":10,\"axis_label_text_color\":\"#5B5B5B\",\"axis_label_text_font\":\"Calibri Light\",\"axis_label_text_font_size\":\"1.15em\",\"axis_label_text_font_style\":\"bold\",\"axis_line_alpha\":1,\"axis_line_color\":\"#5B5B5B\",\"coordinates\":null,\"formatter\":{\"id\":\"3837\"},\"group\":null,\"major_label_policy\":{\"id\":\"3838\"},\"major_label_text_color\":\"#5B5B5B\",\"major_label_text_font\":\"Calibri Light\",\"major_label_text_font_size\":\"0.95em\",\"major_label_text_font_style\":\"bold\",\"major_tick_in\":0,\"major_tick_line_alpha\":0.25,\"major_tick_line_color\":\"#5B5B5B\",\"major_tick_out\":3,\"minor_tick_line_alpha\":0.25,\"minor_tick_line_color\":\"#5B5B5B\",\"ticker\":{\"id\":\"3598\"}},\"id\":\"3597\",\"type\":\"LinearAxis\"},{\"attributes\":{\"coordinates\":null,\"data_source\":{\"id\":\"3676\"},\"glyph\":{\"id\":\"3678\"},\"group\":null,\"hover_glyph\":null,\"muted_glyph\":{\"id\":\"3680\"},\"nonselection_glyph\":{\"id\":\"3679\"},\"view\":{\"id\":\"3682\"}},\"id\":\"3681\",\"type\":\"GlyphRenderer\"},{\"attributes\":{\"line_alpha\":{\"value\":0.1},\"line_color\":{\"value\":\"orange\"},\"line_width\":{\"value\":2},\"x0\":{\"field\":\"Treshold\"},\"x1\":{\"field\":\"Treshold\"},\"y0\":{\"field\":\"LowerBounds\"},\"y1\":{\"field\":\"UpperBounds\"}},\"id\":\"3639\",\"type\":\"Segment\"},{\"attributes\":{\"fill_alpha\":{\"value\":0.2},\"fill_color\":{\"value\":\"orange\"},\"hatch_alpha\":{\"value\":0.2},\"hatch_color\":{\"value\":\"orange\"},\"line_alpha\":{\"value\":0.2},\"line_color\":{\"value\":\"orange\"},\"x\":{\"field\":\"Treshold\"},\"y\":{\"field\":\"Mean\"}},\"id\":\"3694\",\"type\":\"Circle\"},{\"attributes\":{},\"id\":\"3835\",\"type\":\"AllLabels\"},{\"attributes\":{},\"id\":\"3846\",\"type\":\"BasicTickFormatter\"},{\"attributes\":{\"axis_label\":\"Peeking Threshold\",\"axis_label_standoff\":10,\"axis_label_text_color\":\"#5B5B5B\",\"axis_label_text_font\":\"Calibri Light\",\"axis_label_text_font_size\":\"1.15em\",\"axis_label_text_font_style\":\"bold\",\"axis_line_alpha\":1,\"axis_line_color\":\"#5B5B5B\",\"coordinates\":null,\"formatter\":{\"id\":\"3846\"},\"group\":null,\"major_label_policy\":{\"id\":\"3847\"},\"major_label_text_color\":\"#5B5B5B\",\"major_label_text_font\":\"Calibri Light\",\"major_label_text_font_size\":\"0.95em\",\"major_label_text_font_style\":\"bold\",\"major_tick_in\":0,\"major_tick_line_alpha\":0.25,\"major_tick_line_color\":\"#5B5B5B\",\"major_tick_out\":3,\"minor_tick_line_alpha\":0.25,\"minor_tick_line_color\":\"#5B5B5B\",\"ticker\":{\"id\":\"3655\"}},\"id\":\"3654\",\"type\":\"LinearAxis\"},{\"attributes\":{},\"id\":\"3832\",\"type\":\"AllLabels\"},{\"attributes\":{},\"id\":\"3843\",\"type\":\"BasicTickFormatter\"},{\"attributes\":{\"fill_alpha\":{\"value\":0.1},\"fill_color\":{\"value\":\"#1f77b4\"},\"hatch_alpha\":{\"value\":0.1},\"line_alpha\":{\"value\":0.1},\"line_color\":{\"value\":\"#1f77b4\"},\"x\":{\"field\":\"Treshold\"},\"y\":{\"field\":\"Mean\"}},\"id\":\"3679\",\"type\":\"Circle\"},{\"attributes\":{\"source\":{\"id\":\"3683\"}},\"id\":\"3689\",\"type\":\"CDSView\"},{\"attributes\":{\"source\":{\"id\":\"3615\"}},\"id\":\"3621\",\"type\":\"CDSView\"},{\"attributes\":{},\"id\":\"3847\",\"type\":\"AllLabels\"},{\"attributes\":{},\"id\":\"3859\",\"type\":\"UnionRenderers\"},{\"attributes\":{},\"id\":\"3659\",\"type\":\"BasicTicker\"},{\"attributes\":{\"line_alpha\":{\"value\":0.2},\"line_color\":{\"value\":\"orange\"},\"line_width\":{\"value\":2},\"x0\":{\"field\":\"Treshold\"},\"x1\":{\"field\":\"Treshold\"},\"y0\":{\"field\":\"LowerBounds\"},\"y1\":{\"field\":\"UpperBounds\"}},\"id\":\"3701\",\"type\":\"Segment\"},{\"attributes\":{},\"id\":\"3860\",\"type\":\"Selection\"},{\"attributes\":{\"coordinates\":null,\"data_source\":{\"id\":\"3615\"},\"glyph\":{\"id\":\"3617\"},\"group\":null,\"hover_glyph\":null,\"muted_glyph\":{\"id\":\"3619\"},\"nonselection_glyph\":{\"id\":\"3618\"},\"view\":{\"id\":\"3621\"}},\"id\":\"3620\",\"type\":\"GlyphRenderer\"},{\"attributes\":{},\"id\":\"3831\",\"type\":\"BasicTickFormatter\"},{\"attributes\":{\"data\":{\"CI\":[[27.17241379310345,35.25905172413793],[20.981896551724137,27.275862068965516],[14.499137931034483,19.138362068965513],[10.396120689655172,13.862068965517242],[7.362068965517241,10.310775862068963],[5.706896551724138,8.362499999999999],[4.5344827586206895,6.982758620689655],[3.7413793103448274,5.810775862068963],[3.1724137931034484,5.137931034482759],[2.7413793103448274,4.500431034482756],[2.4655172413793105,4.086206896551724],[2.1724137931034484,3.5693965517241355],[1.896551724137931,3.2413793103448274],[1.6892241379310347,2.913793103448276],[1.6719827586206897,2.810344827586207],[1.5862068965517242,2.6724137931034484],[1.5340517241379312,2.603879310344825],[1.396551724137931,2.3620689655172415],[1.3103448275862069,2.206896551724138],[1.2413793103448276,2.1379310344827585],[1.1379310344827587,1.9827586206896552],[1.0862068965517242,1.896551724137931],[1.0172413793103448,1.8448275862068966],[0.9827586206896551,1.7762931034482736],[0.9310344827586207,1.6724137931034482],[0.9310344827586207,1.6551724137931034],[0.8620689655172413,1.603448275862069],[0.8271551724137931,1.5344827586206897]],\"Condition\":[\"Punished\",\"Punished\",\"Punished\",\"Punished\",\"Punished\",\"Punished\",\"Punished\",\"Punished\",\"Punished\",\"Punished\",\"Punished\",\"Punished\",\"Punished\",\"Punished\",\"Punished\",\"Punished\",\"Punished\",\"Punished\",\"Punished\",\"Punished\",\"Punished\",\"Punished\",\"Punished\",\"Punished\",\"Punished\",\"Punished\",\"Punished\",\"Punished\"],\"LowerBounds\":{\"__ndarray__\":\"NcJyTyMsO0DZtYmSXfs0QPD4wwGP/yxABa2+VNDKJEAjLPc0wnIdQMs9jbDc0xZA9zTCck8jEkCE5Z5GWO4NQKgRlnsaYQlAhOWeRljuBUASlnsaYbkDQKgRlnsaYQFAaoTlnkZY/j//cMDjDwf7PxAHPP5wwPo/qBGWexph+T+etxjSeYv4P2qE5Z5GWPY/wnJPIyz39D8Jyz2NsNzzP3NPIyz3NPI/qBGWexph8T/uaYTlnkbwPyMs9zTCcu8/jbDc0wjL7T+NsNzTCMvtPxphuacRlus/4oDHHw546j8=\",\"dtype\":\"float64\",\"order\":\"little\",\"shape\":[28]},\"Mean\":{\"__ndarray__\":\"sdzTCMs9P0CWexphuSc4QI2w3NMIyzBAuacRlnsaKEDd0wjLPY0hQHwaYbmnERxA1AjLPY2wFkDCck8jLPcSQOaeRljuaRBA1AjLPY2wDEB8GmG5pxEKQE8jLPc0wgZA5p5GWO5pBEBqhOWeRlgCQJZ7GmG5pwFA1AjLPY2wAEDuaYTlnkYAQI2w3NMIy/0/Ccs9jbDc+z9PIyz3NML6P8s9jbDc0/g/EpZ7GmG59z9Y7mmE5Z72P42w3NMIy/U/1AjLPY2w9D/mnkZY7mn0PxphuacRlvM/TyMs9zTC8j8=\",\"dtype\":\"float64\",\"order\":\"little\",\"shape\":[28]},\"Training\":[\"Ctrl\",\"Ctrl\",\"Ctrl\",\"Ctrl\",\"Ctrl\",\"Ctrl\",\"Ctrl\",\"Ctrl\",\"Ctrl\",\"Ctrl\",\"Ctrl\",\"Ctrl\",\"Ctrl\",\"Ctrl\",\"Ctrl\",\"Ctrl\",\"Ctrl\",\"Ctrl\",\"Ctrl\",\"Ctrl\",\"Ctrl\",\"Ctrl\",\"Ctrl\",\"Ctrl\",\"Ctrl\",\"Ctrl\",\"Ctrl\",\"Ctrl\"],\"Treshold\":[20,30,40,50,60,70,80,90,100,110,120,130,140,150,160,170,180,190,200,210,220,230,240,250,260,270,280,290],\"UpperBounds\":{\"__ndarray__\":\"ipJdmyihQUDuaYTlnkY7QLo2UbJrIzNAEpZ7GmG5K0Df8YcDHp8kQJmZmZmZuSBAhOWeRljuG0C+4w8HPD4XQN3TCMs9jRRADQc8/nAAEkBqhOWeRlgQQPfhgMcfjgxAhOWeRljuCUAs9zTCck8HQGG5pxGWewZAqBGWexphBUDlSwWtvtQEQEdY7mmE5QJAlnsaYbmnAUC5pxGWexoBQBKWexphuf8/aoTlnkZY/j+fRljuaYT9Pxu7NlGya/w/TyMs9zTC+j9huacRlnv6P5Z7GmG5p/k/3dMIyz2N+D8=\",\"dtype\":\"float64\",\"order\":\"little\",\"shape\":[28]},\"index\":[2,2,2,2,2,2,2,2,2,2,2,2,2,2,2,2,2,2,2,2,2,2,2,2,2,2,2,2],\"level_0\":[2,8,14,20,26,32,38,44,50,56,62,68,74,80,86,92,98,104,110,116,122,128,134,140,146,152,158,164]},\"selected\":{\"id\":\"3867\"},\"selection_policy\":{\"id\":\"3866\"}},\"id\":\"3676\",\"type\":\"ColumnDataSource\"},{\"attributes\":{\"axis\":{\"id\":\"3658\"},\"coordinates\":null,\"dimension\":1,\"group\":null,\"ticker\":null},\"id\":\"3661\",\"type\":\"Grid\"},{\"attributes\":{\"source\":{\"id\":\"3690\"}},\"id\":\"3696\",\"type\":\"CDSView\"},{\"attributes\":{},\"id\":\"3849\",\"type\":\"Selection\"},{\"attributes\":{\"data\":{\"CI\":[[29.12,38.900499999999994],[22.6395,29.7805],[15.7985,21.12],[11.18,15.200499999999996],[8.7,11.920499999999997],[6.88,9.720499999999998],[5.88,8.16],[4.78,6.860499999999997],[3.92,5.760499999999997],[3.36,5.08],[2.9595,4.54],[2.5195,4.08],[2.26,3.84],[2.0595,3.480499999999997],[1.96,3.34],[1.74,3.080499999999997],[1.68,2.92],[1.56,2.72],[1.5195,2.6],[1.34,2.44],[1.2395,2.3],[1.18,2.2004999999999972],[1.14,2.14],[1.1,2.06],[1.0795000000000001,2.04],[1.04,2.04],[1.02,2.0],[0.96,1.94]],\"Condition\":[\"Punished\",\"Punished\",\"Punished\",\"Punished\",\"Punished\",\"Punished\",\"Punished\",\"Punished\",\"Punished\",\"Punished\",\"Punished\",\"Punished\",\"Punished\",\"Punished\",\"Punished\",\"Punished\",\"Punished\",\"Punished\",\"Punished\",\"Punished\",\"Punished\",\"Punished\",\"Punished\",\"Punished\",\"Punished\",\"Punished\",\"Punished\",\"Punished\"],\"LowerBounds\":{\"__ndarray__\":\"H4XrUbgePUDByqFFtqM2QEa28/3UmC9AXI/C9ShcJkBmZmZmZmYhQIXrUbgehRtAhetRuB6FF0AfhetRuB4TQFyPwvUoXA9A4XoUrkfhCkCTGARWDq0HQA4tsp3vJwRAFK5H4XoUAkBg5dAi23kAQFyPwvUoXP8/16NwPQrX+z/hehSuR+H6P/YoXI/C9fg/HVpkO99P+D9xPQrXo3D1P6JFtvP91PM/4XoUrkfh8j89CtejcD3yP5qZmZmZmfE/E4PAyqFF8T+kcD0K16PwP1K4HoXrUfA/uB6F61G47j8=\",\"dtype\":\"float64\",\"order\":\"little\",\"shape\":[28]},\"Mean\":{\"__ndarray__\":\"PQrXo3D9QECkcD0K1yM6QOF6FK5HYTJAXI/C9ShcKkCuR+F6FK4kQKRwPQrXoyBA7FG4HoXrG0BxPQrXo3AXQEjhehSuRxNA9ihcj8L1EEDD9Shcj8INQD0K16NwPQpAKVyPwvUoCEDsUbgehesFQPYoXI/C9QRACtejcD0KA0A9CtejcD0CQB+F61G4HgFAKVyPwvUoAEDD9Shcj8L9P9ejcD0K1/s/j8L1KFyP+j/sUbgehev5P/YoXI/C9fg/UrgehetR+D8AAAAAAAD4P65H4XoUrvc/uB6F61G49j8=\",\"dtype\":\"float64\",\"order\":\"little\",\"shape\":[28]},\"Training\":[\"Trained\",\"Trained\",\"Trained\",\"Trained\",\"Trained\",\"Trained\",\"Trained\",\"Trained\",\"Trained\",\"Trained\",\"Trained\",\"Trained\",\"Trained\",\"Trained\",\"Trained\",\"Trained\",\"Trained\",\"Trained\",\"Trained\",\"Trained\",\"Trained\",\"Trained\",\"Trained\",\"Trained\",\"Trained\",\"Trained\",\"Trained\",\"Trained\"],\"Treshold\":[20,30,40,50,60,70,80,90,100,110,120,130,140,150,160,170,180,190,200,210,220,230,240,250,260,270,280,290],\"UpperBounds\":{\"__ndarray__\":\"JAaBlUNzQ0ArhxbZzsc9QB+F61G4HjVAK7Kd76dmLkCc76fGS9cnQDaJQWDlcCNAUrgehetRIED71HjpJnEbQJRuEoPAChdAUrgehetRFEApXI/C9SgSQFK4HoXrURBAuB6F61G4DkDr0k1iENgLQLgehetRuApAuJ8aL92kCEBcj8L1KFwHQMP1KFyPwgVAzczMzMzMBECF61G4HoUDQGZmZmZmZgJArsh2vp+aAUAfhetRuB4BQHsUrkfhegBAUrgehetRAEBSuB6F61EAQAAAAAAAAABACtejcD0K/z8=\",\"dtype\":\"float64\",\"order\":\"little\",\"shape\":[28]},\"index\":[3,3,3,3,3,3,3,3,3,3,3,3,3,3,3,3,3,3,3,3,3,3,3,3,3,3,3,3],\"level_0\":[3,9,15,21,27,33,39,45,51,57,63,69,75,81,87,93,99,105,111,117,123,129,135,141,147,153,159,165]},\"selected\":{\"id\":\"3873\"},\"selection_policy\":{\"id\":\"3872\"}},\"id\":\"3697\",\"type\":\"ColumnDataSource\"},{\"attributes\":{\"tools\":[{\"id\":\"3662\"},{\"id\":\"3663\"},{\"id\":\"3664\"},{\"id\":\"3665\"},{\"id\":\"3666\"},{\"id\":\"3667\"}]},\"id\":\"3669\",\"type\":\"Toolbar\"},{\"attributes\":{\"fill_color\":{\"value\":\"#1f77b4\"},\"line_color\":{\"value\":\"#1f77b4\"},\"x\":{\"field\":\"Treshold\"},\"y\":{\"field\":\"Mean\"}},\"id\":\"3617\",\"type\":\"Circle\"},{\"attributes\":{\"line_alpha\":{\"value\":0.2},\"line_color\":{\"value\":\"#1f77b4\"},\"line_width\":{\"value\":2},\"x0\":{\"field\":\"Treshold\"},\"x1\":{\"field\":\"Treshold\"},\"y0\":{\"field\":\"LowerBounds\"},\"y1\":{\"field\":\"UpperBounds\"}},\"id\":\"3626\",\"type\":\"Segment\"},{\"attributes\":{},\"id\":\"3840\",\"type\":\"BasicTickFormatter\"},{\"attributes\":{\"fill_color\":{\"value\":\"orange\"},\"hatch_color\":{\"value\":\"orange\"},\"line_color\":{\"value\":\"orange\"},\"x\":{\"field\":\"Treshold\"},\"y\":{\"field\":\"Mean\"}},\"id\":\"3692\",\"type\":\"Circle\"},{\"attributes\":{\"line_alpha\":{\"value\":0.2},\"line_color\":{\"value\":\"#1f77b4\"},\"line_width\":{\"value\":2},\"x0\":{\"field\":\"Treshold\"},\"x1\":{\"field\":\"Treshold\"},\"y0\":{\"field\":\"LowerBounds\"},\"y1\":{\"field\":\"UpperBounds\"}},\"id\":\"3687\",\"type\":\"Segment\"},{\"attributes\":{\"bottom_units\":\"screen\",\"coordinates\":null,\"fill_alpha\":0.5,\"fill_color\":\"lightgrey\",\"group\":null,\"left_units\":\"screen\",\"level\":\"overlay\",\"line_alpha\":1.0,\"line_color\":\"black\",\"line_dash\":[4,4],\"line_width\":2,\"right_units\":\"screen\",\"syncable\":false,\"top_units\":\"screen\"},\"id\":\"3546\",\"type\":\"BoxAnnotation\"},{\"attributes\":{},\"id\":\"3587\",\"type\":\"DataRange1d\"},{\"attributes\":{},\"id\":\"3606\",\"type\":\"HelpTool\"},{\"attributes\":{},\"id\":\"3861\",\"type\":\"UnionRenderers\"},{\"attributes\":{\"data\":{\"CI\":[[25.3995,34.680499999999995],[19.24,25.8],[13.44,17.98],[9.6,13.0],[7.1195,10.1],[5.66,8.22],[4.54,6.84],[3.7195,5.840499999999997],[3.14,5.02],[2.66,4.34],[2.28,3.74],[2.0,3.42],[1.8395000000000001,3.180499999999997],[1.68,2.98],[1.62,2.88],[1.44,2.66],[1.34,2.54],[1.3,2.440499999999997],[1.1395,2.26],[1.08,2.16],[1.1,2.16],[1.1,2.16],[1.0995000000000001,2.12],[1.06,2.06],[0.96,1.9404999999999972],[0.86,1.88],[0.8595,1.82],[0.8795000000000001,1.82]],\"Condition\":[\"Rewarded\",\"Rewarded\",\"Rewarded\",\"Rewarded\",\"Rewarded\",\"Rewarded\",\"Rewarded\",\"Rewarded\",\"Rewarded\",\"Rewarded\",\"Rewarded\",\"Rewarded\",\"Rewarded\",\"Rewarded\",\"Rewarded\",\"Rewarded\",\"Rewarded\",\"Rewarded\",\"Rewarded\",\"Rewarded\",\"Rewarded\",\"Rewarded\",\"Rewarded\",\"Rewarded\",\"Rewarded\",\"Rewarded\",\"Rewarded\",\"Rewarded\"],\"LowerBounds\":{\"__ndarray__\":\"g8DKoUVmOUA9CtejcD0zQOF6FK5H4SpAMzMzMzMzI0DufD81XnocQKRwPQrXoxZAKVyPwvUoEkCoxks3icENQB+F61G4HglASOF6FK5HBUA9CtejcD0CQAAAAAAAAABAPN9PjZdu/T/hehSuR+H6P+xRuB6F6/k/CtejcD0K9z9xPQrXo3D1P83MzMzMzPQ/CKwcWmQ78j9I4XoUrkfxP5qZmZmZmfE/mpmZmZmZ8T9lO99PjZfxP/YoXI/C9fA/uB6F61G47j+F61G4HoXrPxsv3SQGges/v58aL90k7D8=\",\"dtype\":\"float64\",\"order\":\"little\",\"shape\":[28]},\"Mean\":{\"__ndarray__\":\"9ihcj8L1PUD2KFyPwnU2QGZmZmZmZi9ApHA9CtejJkBI4XoUrkchQK5H4XoUrhtApHA9CtejFkD2KFyPwvUSQBSuR+F6FBBArkfhehSuC0AAAAAAAAAIQHE9CtejcAVA16NwPQrXA0CPwvUoXI8CQMP1KFyPwgFAUrgehetRAEC4HoXrUbj+P8P1KFyPwv0/4XoUrkfh+j+amZmZmZn5P5qZmZmZmfk/mpmZmZmZ+T9I4XoUrkf5P1K4HoXrUfg/CtejcD0K9z9xPQrXo3D1Px+F61G4HvU/H4XrUbge9T8=\",\"dtype\":\"float64\",\"order\":\"little\",\"shape\":[28]},\"Training\":[\"Trained\",\"Trained\",\"Trained\",\"Trained\",\"Trained\",\"Trained\",\"Trained\",\"Trained\",\"Trained\",\"Trained\",\"Trained\",\"Trained\",\"Trained\",\"Trained\",\"Trained\",\"Trained\",\"Trained\",\"Trained\",\"Trained\",\"Trained\",\"Trained\",\"Trained\",\"Trained\",\"Trained\",\"Trained\",\"Trained\",\"Trained\",\"Trained\"],\"Treshold\":[20,30,40,50,60,70,80,90,100,110,120,130,140,150,160,170,180,190,200,210,220,230,240,250,260,270,280,290],\"UpperBounds\":{\"__ndarray__\":\"yHa+nxpXQUDNzMzMzMw5QHsUrkfh+jFAAAAAAAAAKkAzMzMzMzMkQHE9CtejcCBAXI/C9ShcG0DmJjEIrFwXQBSuR+F6FBRAXI/C9ShcEUDsUbgehesNQFyPwvUoXAtAhWzn+6lxCUDXo3A9CtcHQArXo3A9CgdASOF6FK5HBUBSuB6F61EEQJkaL90khgNAFK5H4XoUAkBI4XoUrkcBQEjhehSuRwFASOF6FK5HAUD2KFyPwvUAQHsUrkfhegBAMzVeukkM/z8UrkfhehT+Px+F61G4Hv0/H4XrUbge/T8=\",\"dtype\":\"float64\",\"order\":\"little\",\"shape\":[28]},\"index\":[5,5,5,5,5,5,5,5,5,5,5,5,5,5,5,5,5,5,5,5,5,5,5,5,5,5,5,5],\"level_0\":[5,11,17,23,29,35,41,47,53,59,65,71,77,83,89,95,101,107,113,119,125,131,137,143,149,155,161,167]},\"selected\":{\"id\":\"3862\"},\"selection_policy\":{\"id\":\"3861\"}},\"id\":\"3629\",\"type\":\"ColumnDataSource\"},{\"attributes\":{\"fill_alpha\":{\"value\":0.1},\"fill_color\":{\"value\":\"orange\"},\"hatch_alpha\":{\"value\":0.1},\"hatch_color\":{\"value\":\"orange\"},\"line_alpha\":{\"value\":0.1},\"line_color\":{\"value\":\"orange\"},\"x\":{\"field\":\"Treshold\"},\"y\":{\"field\":\"Mean\"}},\"id\":\"3632\",\"type\":\"Circle\"},{\"attributes\":{\"coordinates\":null,\"data_source\":{\"id\":\"3622\"},\"glyph\":{\"id\":\"3624\"},\"group\":null,\"hover_glyph\":null,\"muted_glyph\":{\"id\":\"3626\"},\"nonselection_glyph\":{\"id\":\"3625\"},\"view\":{\"id\":\"3628\"}},\"id\":\"3627\",\"type\":\"GlyphRenderer\"},{\"attributes\":{\"axis_label\":\"Count\",\"axis_label_standoff\":10,\"axis_label_text_color\":\"#5B5B5B\",\"axis_label_text_font\":\"Calibri Light\",\"axis_label_text_font_size\":\"1.15em\",\"axis_label_text_font_style\":\"bold\",\"axis_line_alpha\":1,\"axis_line_color\":\"#5B5B5B\",\"coordinates\":null,\"formatter\":{\"id\":\"3843\"},\"group\":null,\"major_label_policy\":{\"id\":\"3844\"},\"major_label_text_color\":\"#5B5B5B\",\"major_label_text_font\":\"Calibri Light\",\"major_label_text_font_size\":\"0.95em\",\"major_label_text_font_style\":\"bold\",\"major_tick_in\":0,\"major_tick_line_alpha\":0.25,\"major_tick_line_color\":\"#5B5B5B\",\"major_tick_out\":3,\"minor_tick_line_alpha\":0.25,\"minor_tick_line_color\":\"#5B5B5B\",\"ticker\":{\"id\":\"3659\"}},\"id\":\"3658\",\"type\":\"LinearAxis\"},{\"attributes\":{},\"id\":\"3862\",\"type\":\"Selection\"},{\"attributes\":{\"coordinates\":null,\"data_source\":{\"id\":\"3554\"},\"glyph\":{\"id\":\"3556\"},\"group\":null,\"hover_glyph\":null,\"muted_glyph\":{\"id\":\"3558\"},\"nonselection_glyph\":{\"id\":\"3557\"},\"view\":{\"id\":\"3560\"}},\"id\":\"3559\",\"type\":\"GlyphRenderer\"},{\"attributes\":{\"coordinates\":null,\"data_source\":{\"id\":\"3575\"},\"glyph\":{\"id\":\"3577\"},\"group\":null,\"hover_glyph\":null,\"muted_glyph\":{\"id\":\"3579\"},\"nonselection_glyph\":{\"id\":\"3578\"},\"view\":{\"id\":\"3581\"}},\"id\":\"3580\",\"type\":\"GlyphRenderer\"},{\"attributes\":{\"source\":{\"id\":\"3697\"}},\"id\":\"3703\",\"type\":\"CDSView\"},{\"attributes\":{\"data\":{\"CI\":[[24.49956896551724,32.828017241379314],[19.120258620689654,25.396982758620688],[13.723706896551723,18.793534482758616],[10.154741379310344,13.982758620689655],[7.56853448275862,10.586206896551724],[5.896551724137931,8.362068965517242],[4.741379310344827,7.069396551724135],[3.7413793103448274,5.689655172413793],[3.2758620689655173,5.12112068965517],[2.6551724137931036,4.172413793103448],[2.2758620689655173,3.689655172413793],[2.1379310344827585,3.4827586206896552],[1.9482758620689655,3.1551724137931036],[1.7926724137931036,2.9655172413793105],[1.5685344827586207,2.7413793103448274],[1.5172413793103448,2.6556034482758597],[1.4310344827586208,2.413793103448276],[1.3275862068965518,2.3620689655172415],[1.2586206896551724,2.2413793103448274],[1.1896551724137931,2.1551724137931036],[1.1551724137931034,2.086206896551724],[1.1379310344827587,2.0689655172413794],[1.0862068965517242,2.017672413793101],[1.0172413793103448,1.9487068965517218],[1.0,1.9482758620689655],[1.0,1.8793103448275863],[0.9655172413793104,1.8448275862068966],[0.9310344827586207,1.7413793103448276]],\"Condition\":[\"Rewarded\",\"Rewarded\",\"Rewarded\",\"Rewarded\",\"Rewarded\",\"Rewarded\",\"Rewarded\",\"Rewarded\",\"Rewarded\",\"Rewarded\",\"Rewarded\",\"Rewarded\",\"Rewarded\",\"Rewarded\",\"Rewarded\",\"Rewarded\",\"Rewarded\",\"Rewarded\",\"Rewarded\",\"Rewarded\",\"Rewarded\",\"Rewarded\",\"Rewarded\",\"Rewarded\",\"Rewarded\",\"Rewarded\",\"Rewarded\",\"Rewarded\"],\"LowerBounds\":{\"__ndarray__\":\"PP5wwON/OECU7NpEyR4zQJso2bWJcitApPMWQzpPJEDeYkjnLUYeQBphuacRlhdAwnJPIyz3EkCE5Z5GWO4NQHNPIyz3NApAsdzTCMs9BUBzTyMs9zQCQLmnEZZ7GgFANcJyTyMs/z+V7NpEya78P3qLIZ23GPk/7mmE5Z5G+D9HWO5phOX2P7Hc0wjLPfU/9zTCck8j9D8+jbDc0wjzP2G5pxGWe/I/c08jLPc08j+oEZZ7GmHxP+5phOWeRvA/AAAAAAAA8D8AAAAAAADwP0dY7mmE5e4/jbDc0wjL7T8=\",\"dtype\":\"float64\",\"order\":\"little\",\"shape\":[28]},\"Mean\":{\"__ndarray__\":\"lnsaYbmnPEA1wnJPIyw2QJZ7GmG5JzBAwnJPIyz3J0A+jbDc0wgiQO5phOWeRhxAqBGWexphF0BY7mmE5Z4SQGG5pxGWexBAR1juaYTlCkAaYbmnEZYHQHwaYbmnEQZAAAAAAAAABEBPIyz3NMICQMJyTyMs9wBA5p5GWO5pAEBqhOWeRlj+P7Hc0wjLPf0/GmG5pxGW+z9zTyMs9zT6P5Z7GmG5p/k/uacRlnsa+T/uaYTlnkb4PxKWexphufc/Iyz3NMJy9z9qhOWeRlj2P3waYbmnEfY/sdzTCMs99T8=\",\"dtype\":\"float64\",\"order\":\"little\",\"shape\":[28]},\"Training\":[\"Ctrl\",\"Ctrl\",\"Ctrl\",\"Ctrl\",\"Ctrl\",\"Ctrl\",\"Ctrl\",\"Ctrl\",\"Ctrl\",\"Ctrl\",\"Ctrl\",\"Ctrl\",\"Ctrl\",\"Ctrl\",\"Ctrl\",\"Ctrl\",\"Ctrl\",\"Ctrl\",\"Ctrl\",\"Ctrl\",\"Ctrl\",\"Ctrl\",\"Ctrl\",\"Ctrl\",\"Ctrl\",\"Ctrl\",\"Ctrl\",\"Ctrl\"],\"Treshold\":[20,30,40,50,60,70,80,90,100,110,120,130,140,150,160,170,180,190,200,210,220,230,240,250,260,270,280,290],\"UpperBounds\":{\"__ndarray__\":\"yB8OePxpQEAKWn2poGU5QFCyaxMlyzJAwnJPIyz3K0A1wnJPIywlQBKWexphuSBA+3DA4w9HHEBPIyz3NMIWQG7A4w8HfBRA1AjLPY2wEECfRljuaYQNQAnLPY2w3AtAsdzTCMs9CUASlnsaYbkHQITlnkZY7gVAy+pLBa0+BUAs9zTCck8DQEdY7mmE5QJAhOWeRljuAUCx3NMIyz0BQNQIyz2NsABA3dMIyz2NAEARQzpvMSQAQGreYkjnLf8/NcJyTyMs/z98GmG5pxH+P59GWO5phP0/Ccs9jbDc+z8=\",\"dtype\":\"float64\",\"order\":\"little\",\"shape\":[28]},\"index\":[4,4,4,4,4,4,4,4,4,4,4,4,4,4,4,4,4,4,4,4,4,4,4,4,4,4,4,4],\"level_0\":[4,10,16,22,28,34,40,46,52,58,64,70,76,82,88,94,100,106,112,118,124,130,136,142,148,154,160,166]},\"selected\":{\"id\":\"3858\"},\"selection_policy\":{\"id\":\"3857\"}},\"id\":\"3615\",\"type\":\"ColumnDataSource\"},{\"attributes\":{\"fill_alpha\":{\"value\":0.2},\"fill_color\":{\"value\":\"#1f77b4\"},\"hatch_alpha\":{\"value\":0.2},\"line_alpha\":{\"value\":0.2},\"line_color\":{\"value\":\"#1f77b4\"},\"x\":{\"field\":\"Treshold\"},\"y\":{\"field\":\"Mean\"}},\"id\":\"3680\",\"type\":\"Circle\"},{\"attributes\":{\"line_color\":{\"value\":\"orange\"},\"line_width\":{\"value\":2},\"x0\":{\"field\":\"Treshold\"},\"x1\":{\"field\":\"Treshold\"},\"y0\":{\"field\":\"LowerBounds\"},\"y1\":{\"field\":\"UpperBounds\"}},\"id\":\"3699\",\"type\":\"Segment\"},{\"attributes\":{\"line_alpha\":{\"value\":0.1},\"line_color\":{\"value\":\"orange\"},\"line_width\":{\"value\":2},\"x0\":{\"field\":\"Treshold\"},\"x1\":{\"field\":\"Treshold\"},\"y0\":{\"field\":\"LowerBounds\"},\"y1\":{\"field\":\"UpperBounds\"}},\"id\":\"3578\",\"type\":\"Segment\"},{\"attributes\":{},\"id\":\"3838\",\"type\":\"AllLabels\"},{\"attributes\":{\"data\":{\"CI\":[[29.12,38.900499999999994],[22.6395,29.7805],[15.7985,21.12],[11.18,15.200499999999996],[8.7,11.920499999999997],[6.88,9.720499999999998],[5.88,8.16],[4.78,6.860499999999997],[3.92,5.760499999999997],[3.36,5.08],[2.9595,4.54],[2.5195,4.08],[2.26,3.84],[2.0595,3.480499999999997],[1.96,3.34],[1.74,3.080499999999997],[1.68,2.92],[1.56,2.72],[1.5195,2.6],[1.34,2.44],[1.2395,2.3],[1.18,2.2004999999999972],[1.14,2.14],[1.1,2.06],[1.0795000000000001,2.04],[1.04,2.04],[1.02,2.0],[0.96,1.94]],\"Condition\":[\"Punished\",\"Punished\",\"Punished\",\"Punished\",\"Punished\",\"Punished\",\"Punished\",\"Punished\",\"Punished\",\"Punished\",\"Punished\",\"Punished\",\"Punished\",\"Punished\",\"Punished\",\"Punished\",\"Punished\",\"Punished\",\"Punished\",\"Punished\",\"Punished\",\"Punished\",\"Punished\",\"Punished\",\"Punished\",\"Punished\",\"Punished\",\"Punished\"],\"LowerBounds\":{\"__ndarray__\":\"H4XrUbgePUDByqFFtqM2QEa28/3UmC9AXI/C9ShcJkBmZmZmZmYhQIXrUbgehRtAhetRuB6FF0AfhetRuB4TQFyPwvUoXA9A4XoUrkfhCkCTGARWDq0HQA4tsp3vJwRAFK5H4XoUAkBg5dAi23kAQFyPwvUoXP8/16NwPQrX+z/hehSuR+H6P/YoXI/C9fg/HVpkO99P+D9xPQrXo3D1P6JFtvP91PM/4XoUrkfh8j89CtejcD3yP5qZmZmZmfE/E4PAyqFF8T+kcD0K16PwP1K4HoXrUfA/uB6F61G47j8=\",\"dtype\":\"float64\",\"order\":\"little\",\"shape\":[28]},\"Mean\":{\"__ndarray__\":\"PQrXo3D9QECkcD0K1yM6QOF6FK5HYTJAXI/C9ShcKkCuR+F6FK4kQKRwPQrXoyBA7FG4HoXrG0BxPQrXo3AXQEjhehSuRxNA9ihcj8L1EEDD9Shcj8INQD0K16NwPQpAKVyPwvUoCEDsUbgehesFQPYoXI/C9QRACtejcD0KA0A9CtejcD0CQB+F61G4HgFAKVyPwvUoAEDD9Shcj8L9P9ejcD0K1/s/j8L1KFyP+j/sUbgehev5P/YoXI/C9fg/UrgehetR+D8AAAAAAAD4P65H4XoUrvc/uB6F61G49j8=\",\"dtype\":\"float64\",\"order\":\"little\",\"shape\":[28]},\"Training\":[\"Trained\",\"Trained\",\"Trained\",\"Trained\",\"Trained\",\"Trained\",\"Trained\",\"Trained\",\"Trained\",\"Trained\",\"Trained\",\"Trained\",\"Trained\",\"Trained\",\"Trained\",\"Trained\",\"Trained\",\"Trained\",\"Trained\",\"Trained\",\"Trained\",\"Trained\",\"Trained\",\"Trained\",\"Trained\",\"Trained\",\"Trained\",\"Trained\"],\"Treshold\":[20,30,40,50,60,70,80,90,100,110,120,130,140,150,160,170,180,190,200,210,220,230,240,250,260,270,280,290],\"UpperBounds\":{\"__ndarray__\":\"JAaBlUNzQ0ArhxbZzsc9QB+F61G4HjVAK7Kd76dmLkCc76fGS9cnQDaJQWDlcCNAUrgehetRIED71HjpJnEbQJRuEoPAChdAUrgehetRFEApXI/C9SgSQFK4HoXrURBAuB6F61G4DkDr0k1iENgLQLgehetRuApAuJ8aL92kCEBcj8L1KFwHQMP1KFyPwgVAzczMzMzMBECF61G4HoUDQGZmZmZmZgJArsh2vp+aAUAfhetRuB4BQHsUrkfhegBAUrgehetRAEBSuB6F61EAQAAAAAAAAABACtejcD0K/z8=\",\"dtype\":\"float64\",\"order\":\"little\",\"shape\":[28]},\"index\":[3,3,3,3,3,3,3,3,3,3,3,3,3,3,3,3,3,3,3,3,3,3,3,3,3,3,3,3],\"level_0\":[3,9,15,21,27,33,39,45,51,57,63,69,75,81,87,93,99,105,111,117,123,129,135,141,147,153,159,165]},\"selected\":{\"id\":\"3871\"},\"selection_policy\":{\"id\":\"3870\"}},\"id\":\"3690\",\"type\":\"ColumnDataSource\"},{\"attributes\":{\"coordinates\":null,\"data_source\":{\"id\":\"3690\"},\"glyph\":{\"id\":\"3692\"},\"group\":null,\"hover_glyph\":null,\"muted_glyph\":{\"id\":\"3694\"},\"nonselection_glyph\":{\"id\":\"3693\"},\"view\":{\"id\":\"3696\"}},\"id\":\"3695\",\"type\":\"GlyphRenderer\"},{\"attributes\":{\"fill_alpha\":{\"value\":0.2},\"fill_color\":{\"value\":\"#1f77b4\"},\"hatch_alpha\":{\"value\":0.2},\"line_alpha\":{\"value\":0.2},\"line_color\":{\"value\":\"#1f77b4\"},\"x\":{\"field\":\"Treshold\"},\"y\":{\"field\":\"Mean\"}},\"id\":\"3558\",\"type\":\"Circle\"},{\"attributes\":{\"fill_alpha\":{\"value\":0.1},\"fill_color\":{\"value\":\"#1f77b4\"},\"hatch_alpha\":{\"value\":0.1},\"line_alpha\":{\"value\":0.1},\"line_color\":{\"value\":\"#1f77b4\"},\"x\":{\"field\":\"Treshold\"},\"y\":{\"field\":\"Mean\"}},\"id\":\"3557\",\"type\":\"Circle\"},{\"attributes\":{\"source\":{\"id\":\"3622\"}},\"id\":\"3628\",\"type\":\"CDSView\"},{\"attributes\":{\"line_color\":{\"value\":\"orange\"},\"line_width\":{\"value\":2},\"x0\":{\"field\":\"Treshold\"},\"x1\":{\"field\":\"Treshold\"},\"y0\":{\"field\":\"LowerBounds\"},\"y1\":{\"field\":\"UpperBounds\"}},\"id\":\"3577\",\"type\":\"Segment\"},{\"attributes\":{},\"id\":\"3837\",\"type\":\"BasicTickFormatter\"},{\"attributes\":{\"overlay\":{\"id\":\"3668\"}},\"id\":\"3664\",\"type\":\"BoxZoomTool\"},{\"attributes\":{\"line_alpha\":{\"value\":0.1},\"line_color\":{\"value\":\"#1f77b4\"},\"line_width\":{\"value\":2},\"x0\":{\"field\":\"Treshold\"},\"x1\":{\"field\":\"Treshold\"},\"y0\":{\"field\":\"LowerBounds\"},\"y1\":{\"field\":\"UpperBounds\"}},\"id\":\"3686\",\"type\":\"Segment\"},{\"attributes\":{},\"id\":\"3646\",\"type\":\"DataRange1d\"},{\"attributes\":{},\"id\":\"3601\",\"type\":\"PanTool\"},{\"attributes\":{},\"id\":\"3667\",\"type\":\"HelpTool\"},{\"attributes\":{},\"id\":\"3666\",\"type\":\"ResetTool\"},{\"attributes\":{},\"id\":\"3848\",\"type\":\"UnionRenderers\"},{\"attributes\":{\"overlay\":{\"id\":\"3607\"}},\"id\":\"3603\",\"type\":\"BoxZoomTool\"},{\"attributes\":{},\"id\":\"3863\",\"type\":\"UnionRenderers\"},{\"attributes\":{},\"id\":\"3864\",\"type\":\"Selection\"},{\"attributes\":{\"line_color\":{\"value\":\"orange\"},\"line_width\":{\"value\":2},\"x0\":{\"field\":\"Treshold\"},\"x1\":{\"field\":\"Treshold\"},\"y0\":{\"field\":\"LowerBounds\"},\"y1\":{\"field\":\"UpperBounds\"}},\"id\":\"3638\",\"type\":\"Segment\"},{\"attributes\":{},\"id\":\"3594\",\"type\":\"BasicTicker\"},{\"attributes\":{},\"id\":\"3602\",\"type\":\"WheelZoomTool\"},{\"attributes\":{\"data\":{\"CI\":[[26.1595,34.3405],[21.4995,28.541499999999992],[15.18,20.2],[10.9195,14.500499999999997],[8.26,11.24],[6.44,8.98],[5.42,7.78],[4.12,6.2],[3.3,5.240499999999997],[2.72,4.6],[2.4995,4.320499999999997],[2.28,4.04],[2.16,3.86],[2.0,3.76],[1.96,3.66],[1.9,3.54],[1.78,3.360499999999997],[1.66,3.16],[1.66,3.18],[1.6,3.12],[1.52,2.98],[1.5,2.98],[1.42,2.84],[1.36,2.84],[1.34,2.74],[1.36,2.780499999999997],[1.32,2.7404999999999973],[1.34,2.7]],\"Condition\":[\"Empty\",\"Empty\",\"Empty\",\"Empty\",\"Empty\",\"Empty\",\"Empty\",\"Empty\",\"Empty\",\"Empty\",\"Empty\",\"Empty\",\"Empty\",\"Empty\",\"Empty\",\"Empty\",\"Empty\",\"Empty\",\"Empty\",\"Empty\",\"Empty\",\"Empty\",\"Empty\",\"Empty\",\"Empty\",\"Empty\",\"Empty\",\"Empty\"],\"LowerBounds\":{\"__ndarray__\":\"Rrbz/dQoOkAdWmQ73381QFyPwvUoXC5AEFg5tMjWJUCF61G4HoUgQMP1KFyPwhlArkfhehSuFUB7FK5H4XoQQGZmZmZmZgpAw/UoXI/CBUDl0CLb+f4DQD0K16NwPQJASOF6FK5HAUAAAAAAAAAAQFyPwvUoXP8/ZmZmZmZm/j97FK5H4Xr8P4/C9Shcj/o/j8L1KFyP+j+amZmZmZn5P1K4HoXrUfg/AAAAAAAA+D+4HoXrUbj2P8P1KFyPwvU/cT0K16Nw9T/D9Shcj8L1Px+F61G4HvU/cT0K16Nw9T8=\",\"dtype\":\"float64\",\"order\":\"little\",\"shape\":[28]},\"Mean\":{\"__ndarray__\":\"9ihcj8J1PkCPwvUoXA85QDMzMzMzszFAhetRuB6FKUB7FK5H4XojQPYoXI/C9R5AKVyPwvUoGkCPwvUoXI8UQArXo3A9ChFA9ihcj8L1DEAK16NwPQoLQM3MzMzMzAhA16NwPQrXB0C4HoXrUbgGQD0K16NwPQZAmpmZmZmZBUB7FK5H4XoEQDMzMzMzMwNACtejcD0KA0CPwvUoXI8CQOxRuB6F6wFAmpmZmZmZAUDNzMzMzMwAQHsUrkfhegBAUrgehetRAEBSuB6F61EAQAAAAAAAAABArkfhehSu/z8=\",\"dtype\":\"float64\",\"order\":\"little\",\"shape\":[28]},\"Training\":[\"Trained\",\"Trained\",\"Trained\",\"Trained\",\"Trained\",\"Trained\",\"Trained\",\"Trained\",\"Trained\",\"Trained\",\"Trained\",\"Trained\",\"Trained\",\"Trained\",\"Trained\",\"Trained\",\"Trained\",\"Trained\",\"Trained\",\"Trained\",\"Trained\",\"Trained\",\"Trained\",\"Trained\",\"Trained\",\"Trained\",\"Trained\",\"Trained\"],\"Treshold\":[20,30,40,50,60,70,80,90,100,110,120,130,140,150,160,170,180,190,200,210,220,230,240,250,260,270,280,290],\"UpperBounds\":{\"__ndarray__\":\"3SQGgZUrQUCyyHa+n4o8QDMzMzMzMzRAxUs3iUEALUB7FK5H4XomQPYoXI/C9SFAH4XrUbgeH0DNzMzMzMwYQIDAyqFF9hRAZmZmZmZmEkDSeOkmMUgRQClcj8L1KBBA4XoUrkfhDkAUrkfhehQOQEjhehSuRw1AUrgehetRDED1qfHSTeIKQEjhehSuRwlAcT0K16NwCUD2KFyPwvUIQNejcD0K1wdA16NwPQrXB0C4HoXrUbgGQLgehetRuAZA7FG4HoXrBUBRObTIdj4GQACBlUOL7AVAmpmZmZmZBUA=\",\"dtype\":\"float64\",\"order\":\"little\",\"shape\":[28]},\"index\":[1,1,1,1,1,1,1,1,1,1,1,1,1,1,1,1,1,1,1,1,1,1,1,1,1,1,1,1],\"level_0\":[1,7,13,19,25,31,37,43,49,55,61,67,73,79,85,91,97,103,109,115,121,127,133,139,145,151,157,163]},\"selected\":{\"id\":\"3853\"},\"selection_policy\":{\"id\":\"3852\"}},\"id\":\"3568\",\"type\":\"ColumnDataSource\"},{\"attributes\":{},\"id\":\"3648\",\"type\":\"DataRange1d\"},{\"attributes\":{\"fill_alpha\":{\"value\":0.1},\"fill_color\":{\"value\":\"#1f77b4\"},\"hatch_alpha\":{\"value\":0.1},\"line_alpha\":{\"value\":0.1},\"line_color\":{\"value\":\"#1f77b4\"},\"x\":{\"field\":\"Treshold\"},\"y\":{\"field\":\"Mean\"}},\"id\":\"3618\",\"type\":\"Circle\"},{\"attributes\":{\"axis\":{\"id\":\"3597\"},\"coordinates\":null,\"dimension\":1,\"group\":null,\"ticker\":null},\"id\":\"3600\",\"type\":\"Grid\"},{\"attributes\":{\"axis\":{\"id\":\"3593\"},\"coordinates\":null,\"group\":null,\"ticker\":null},\"id\":\"3596\",\"type\":\"Grid\"}],\"root_ids\":[\"3704\"]},\"title\":\"Bokeh Application\",\"version\":\"2.4.3\"}};\n  const render_items = [{\"docid\":\"67c0bd37-87fe-4128-874b-647d20567d66\",\"root_ids\":[\"3704\"],\"roots\":{\"3704\":\"81558168-f03b-4b1d-b83a-80f190807633\"}}];\n  root.Bokeh.embed.embed_items_notebook(docs_json, render_items);\n  }\n  if (root.Bokeh !== undefined) {\n    embed_document(root);\n  } else {\n    let attempts = 0;\n    const timer = setInterval(function(root) {\n      if (root.Bokeh !== undefined) {\n        clearInterval(timer);\n        embed_document(root);\n      } else {\n        attempts++;\n        if (attempts > 100) {\n          clearInterval(timer);\n          console.log(\"Bokeh: ERROR: Unable to run BokehJS code because BokehJS library is missing\");\n        }\n      }\n    }, 10, root)\n  }\n})(window);",
      "application/vnd.bokehjs_exec.v0+json": ""
     },
     "metadata": {
      "application/vnd.bokehjs_exec.v0+json": {
       "id": "3704"
      }
     },
     "output_type": "display_data"
    }
   ],
   "source": [
    "x = 'Peeking Threshold'\n",
    "y = 'Count'\n",
    "\n",
    "# Make the plot\n",
    "s1 = bokeh.plotting.figure(\n",
    "    height=300,\n",
    "    width=450,\n",
    "    x_axis_label=x,\n",
    "    y_axis_label=y,\n",
    "    title='Empty chamber peekings',\n",
    ")\n",
    "\n",
    "s1.circle(\n",
    "    source=EmptysC,\n",
    "    x='Treshold',\n",
    "    y='Mean',\n",
    ")\n",
    "\n",
    "s1.segment(\n",
    "    source=EmptysC,\n",
    "    x0='Treshold',\n",
    "    y0='LowerBounds',\n",
    "    x1='Treshold',\n",
    "    y1='UpperBounds',\n",
    "    line_width=2\n",
    ")\n",
    "\n",
    "s1.circle(\n",
    "    source=EmptysT,\n",
    "    x='Treshold',\n",
    "    y='Mean',\n",
    "    color='orange',\n",
    ")\n",
    "\n",
    "s1.segment(\n",
    "    source=EmptysT,\n",
    "    x0='Treshold',\n",
    "    y0='LowerBounds',\n",
    "    x1='Treshold',\n",
    "    y1='UpperBounds',\n",
    "    color='orange',\n",
    "    line_width=2\n",
    ")\n",
    "\n",
    "\n",
    "###\n",
    "s2 = bokeh.plotting.figure(\n",
    "    height=300,\n",
    "    width=450,\n",
    "    x_axis_label=x,\n",
    "    y_axis_label=y,\n",
    "    title='Rewarded chamber peekings',\n",
    "\n",
    ")\n",
    "\n",
    "s2.circle(\n",
    "    source=RewardedsC,\n",
    "    x='Treshold',\n",
    "    y='Mean',\n",
    ")\n",
    "\n",
    "s2.segment(\n",
    "    source=RewardedsC,\n",
    "    x0='Treshold',\n",
    "    y0='LowerBounds',\n",
    "    x1='Treshold',\n",
    "    y1='UpperBounds',\n",
    "    line_width=2\n",
    ")\n",
    "\n",
    "s2.circle(\n",
    "    source=RewardedsT,\n",
    "    x='Treshold',\n",
    "    y='Mean',\n",
    "    color='orange',\n",
    ")\n",
    "\n",
    "s2.segment(\n",
    "    source=RewardedsT,\n",
    "    x0='Treshold',\n",
    "    y0='LowerBounds',\n",
    "    x1='Treshold',\n",
    "    y1='UpperBounds',\n",
    "    color='orange',\n",
    "    line_width=2\n",
    ")\n",
    "\n",
    "###\n",
    "s3 = bokeh.plotting.figure(\n",
    "    height=300,\n",
    "    width=450,\n",
    "    x_axis_label=x,\n",
    "    y_axis_label=y,\n",
    "    title='Punished chamber peekings',\n",
    "\n",
    ")\n",
    "\n",
    "s3.circle(\n",
    "    source=PunishesC,\n",
    "    x='Treshold',\n",
    "    y='Mean',\n",
    ")\n",
    "\n",
    "s3.segment(\n",
    "    source=PunishesC,\n",
    "    x0='Treshold',\n",
    "    y0='LowerBounds',\n",
    "    x1='Treshold',\n",
    "    y1='UpperBounds',\n",
    "    line_width=2\n",
    ")\n",
    "\n",
    "s3.circle(\n",
    "    source=PunishesT,\n",
    "    x='Treshold',\n",
    "    y='Mean',\n",
    "    color='orange',\n",
    ")\n",
    "\n",
    "s3.segment(\n",
    "    source=PunishesT,\n",
    "    x0='Treshold',\n",
    "    y0='LowerBounds',\n",
    "    x1='Treshold',\n",
    "    y1='UpperBounds',\n",
    "    color='orange',\n",
    "    line_width=2\n",
    ")\n",
    "#p = bokeh.io.hplot(s1,s2)\n",
    "\n",
    "\n",
    "bokeh.io.show(bokeh.layouts.column(s1,s2,s3))\n"
   ],
   "metadata": {
    "collapsed": false,
    "pycharm": {
     "name": "#%%\n"
    }
   }
  },
  {
   "cell_type": "code",
   "execution_count": null,
   "outputs": [],
   "source": [],
   "metadata": {
    "collapsed": false,
    "pycharm": {
     "name": "#%%\n"
    }
   }
  }
 ],
 "metadata": {
  "kernelspec": {
   "display_name": "Python 3",
   "language": "python",
   "name": "python3"
  },
  "language_info": {
   "codemirror_mode": {
    "name": "ipython",
    "version": 2
   },
   "file_extension": ".py",
   "mimetype": "text/x-python",
   "name": "python",
   "nbconvert_exporter": "python",
   "pygments_lexer": "ipython2",
   "version": "2.7.6"
  }
 },
 "nbformat": 4,
 "nbformat_minor": 0
}