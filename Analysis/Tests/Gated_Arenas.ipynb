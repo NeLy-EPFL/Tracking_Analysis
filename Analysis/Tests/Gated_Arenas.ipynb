{
 "cells": [
  {
   "cell_type": "code",
   "execution_count": 62,
   "outputs": [],
   "source": [
    "import pandas as pd\n",
    "import seaborn as sns\n",
    "import matplotlib.pyplot as plt\n",
    "import numpy as np\n",
    "import ast\n",
    "import itertools\n",
    "\n",
    "import iqplot\n",
    "\n",
    "import bokeh.io\n",
    "import bokeh.models\n",
    "import bokeh.plotting\n",
    "import ast\n",
    "import holoviews as hv\n",
    "import colorcet\n",
    "bokeh.io.output_notebook()\n",
    "hv.extension('bokeh')"
   ],
   "metadata": {
    "collapsed": false,
    "pycharm": {
     "name": "#%%\n"
    }
   }
  },
  {
   "cell_type": "code",
   "execution_count": 40,
   "outputs": [],
   "source": [
    "Data = pd.read_csv('/Volumes/Ramdya-Lab/DURRIEU_Matthias/Experimental_data/MultiSensory_Project/GatedArenas/Results/DataSetAugust22.csv')\n",
    "Data.head()"
   ],
   "metadata": {
    "collapsed": false,
    "pycharm": {
     "name": "#%%\n"
    }
   }
  },
  {
   "cell_type": "code",
   "execution_count": 41,
   "outputs": [],
   "source": [
    "Data_noWater = Data[Data['Test Starvation'] == \"Overnight no Water\"]\n",
    "Data_noWater_Simple = Data_noWater[Data_noWater[\"Training Starvation\"] == \"Not starved\"]#.reset_index()"
   ],
   "metadata": {
    "collapsed": false,
    "pycharm": {
     "name": "#%%\n"
    }
   }
  },
  {
   "cell_type": "code",
   "execution_count": 42,
   "outputs": [],
   "source": [
    "Data_noWater_Simple[\"Peeks Left\"] = [160] * len(Data_noWater_Simple)"
   ],
   "metadata": {
    "collapsed": false,
    "pycharm": {
     "name": "#%%\n"
    }
   }
  },
  {
   "cell_type": "code",
   "execution_count": 43,
   "outputs": [],
   "source": [
    "param = 160\n",
    "\n",
    "for index, row in Data_noWater_Simple.iterrows():\n",
    "    print (row['Durations Left Corner'])\n",
    "\n",
    "    #print (1 for i in row['Durations Left Corner'])\n",
    "    Data_noWater_Simple.loc[index,\"Peeks Left\"] = sum(1 for i in ast.literal_eval(row['Durations Left Corner']) if i > param)\n",
    "    #Data_noWater_Simple['Peeks Left'][rows]= sum(1 for i in Data['Durations Left Corner'][rows] if i > param)\n",
    "\n",
    "\n",
    "       # Data_noWater_Simple.apply(sum(1 for i in Data['Durations Left Corner'] if i > param) for elements in Data['Durations Left Corner'])\n",
    "Data_noWater_Simple['Peeks Left']"
   ],
   "metadata": {
    "collapsed": false,
    "pycharm": {
     "name": "#%%\n"
    }
   }
  },
  {
   "cell_type": "code",
   "execution_count": 7,
   "outputs": [],
   "source": [
    "p_box = iqplot.stripbox(data=Data_noWater_Simple,\n",
    "                   q=\"Peeks Left\",\n",
    "                   cats=\"Training\",\n",
    "                   )\n",
    "\n",
    "bokeh.io.show(p_box)\n",
    "\n"
   ],
   "metadata": {
    "collapsed": false,
    "pycharm": {
     "name": "#%%\n"
    }
   }
  },
  {
   "cell_type": "code",
   "execution_count": 74,
   "outputs": [],
   "source": [
    "source = bokeh.models.ColumnDataSource(\n",
    "    dict(\n",
    "        Training=Data_noWater_Simple[\"Training\"],\n",
    "        LCDurations=Data_noWater_Simple[\"Durations Left Corner\"],\n",
    "        LPeeks=Data_noWater_Simple[\"Peeks Left\"],\n",
    "    )\n",
    ")"
   ],
   "metadata": {
    "collapsed": false,
    "pycharm": {
     "name": "#%%\n"
    }
   }
  },
  {
   "cell_type": "code",
   "execution_count": 75,
   "outputs": [],
   "source": [
    "s_box = iqplot.stripbox(data=source,\n",
    "                   q=source.data[\"LPeeks\"],\n",
    "                   cats=source.data[\"Training\"],\n",
    "                   )\n",
    "\n",
    "bokeh.io.show(s_box)"
   ],
   "metadata": {
    "collapsed": false,
    "pycharm": {
     "name": "#%%\n"
    }
   }
  },
  {
   "cell_type": "code",
   "execution_count": 63,
   "outputs": [],
   "source": [
    "def no_ygrid_hook(plot, element):\n",
    "    \"\"\"Hook for disabling x-grid lines.\"\"\"\n",
    "    plot.handles[\"plot\"].ygrid.grid_line_color = None\n",
    "\n",
    "boxwhisker_opts = dict(\n",
    "    box_color=\"origin\",\n",
    "    box_line_color=\"white\",\n",
    "    box_line_width=1.5,\n",
    "    box_width=0.4,\n",
    "    cmap=colorcet.b_glasbey_category10,\n",
    "    frame_height=150,\n",
    "    frame_width=400,\n",
    "    hooks=[no_ygrid_hook],\n",
    "    invert_axes=True,\n",
    "    invert_yaxis=True,\n",
    "    outlier_line_alpha=0,\n",
    "    show_grid=True,\n",
    "    title=\"HoloViews\",\n",
    ")\n"
   ],
   "metadata": {
    "collapsed": false,
    "pycharm": {
     "name": "#%%\n"
    }
   }
  },
  {
   "cell_type": "code",
   "execution_count": 65,
   "outputs": [],
   "source": [
    "import bokeh.sampledata.autompg\n",
    "df = bokeh.sampledata.autompg.autompg_clean\n",
    "df['cyl'] = df['cyl'].astype(str)\n",
    "\n",
    "testhv = hv.BoxWhisker(data=df, kdims=\"origin\", vdims=\"mpg\",).opts(**boxwhisker_opts)\n",
    "\n",
    "bokeh.io.show(testhv)"
   ],
   "metadata": {
    "collapsed": false,
    "pycharm": {
     "name": "#%%\n"
    }
   }
  },
  {
   "cell_type": "code",
   "execution_count": 67,
   "outputs": [],
   "source": [
    "phv = hv.BoxWhisker(data=Data_noWater_Simple,\n",
    "                    kdims=\"Training\",\n",
    "                    vdims=\"Peeks Left\")#.opts(**boxwhisker_opts)\n",
    "\n",
    "bokeh.io.show(hv.render(phv))"
   ],
   "metadata": {
    "collapsed": false,
    "pycharm": {
     "name": "#%%\n"
    }
   }
  },
  {
   "cell_type": "code",
   "execution_count": 48,
   "outputs": [],
   "source": [
    "lay = bokeh.layouts.row(p_box,p_box)\n",
    "bokeh.io.show(lay)"
   ],
   "metadata": {
    "collapsed": false,
    "pycharm": {
     "name": "#%%\n"
    }
   }
  },
  {
   "cell_type": "code",
   "execution_count": 8,
   "outputs": [],
   "source": [
    "row = 10\n",
    "Data_noWater_Simple['Durations Left Corner'][row]"
   ],
   "metadata": {
    "collapsed": false,
    "pycharm": {
     "name": "#%%\n"
    }
   }
  },
  {
   "cell_type": "code",
   "execution_count": 44,
   "outputs": [],
   "source": [
    "source = bokeh.models.ColumnDataSource(dict(Training=Data_noWater_Simple[\"Training\"],\n",
    "                                            LCDurations= Data_noWater_Simple['Durations Left Corner'],\n",
    "                                            LPeeks=Data_noWater_Simple['Peeks Left']))"
   ],
   "metadata": {
    "collapsed": false,
    "pycharm": {
     "name": "#%%\n"
    }
   }
  },
  {
   "cell_type": "code",
   "execution_count": 46,
   "outputs": [],
   "source": [
    "p_box = iqplot.stripbox(source=source,\n",
    "                   q=\"LPeeks\",\n",
    "                   cats=\"Training\",\n",
    "                   )\n",
    "\n",
    "bokeh.io.show(p_box)"
   ],
   "metadata": {
    "collapsed": false,
    "pycharm": {
     "name": "#%%\n"
    }
   }
  },
  {
   "cell_type": "code",
   "execution_count": 10,
   "outputs": [],
   "source": [
    "source.data['LPeeks']"
   ],
   "metadata": {
    "collapsed": false,
    "pycharm": {
     "name": "#%%\n"
    }
   }
  },
  {
   "cell_type": "code",
   "execution_count": 21,
   "outputs": [],
   "source": [
    "Data_noWater_Simple[\"Durations Left Corner\"]"
   ],
   "metadata": {
    "collapsed": false,
    "pycharm": {
     "name": "#%%\n"
    }
   }
  },
  {
   "cell_type": "code",
   "execution_count": 35,
   "outputs": [],
   "source": [
    "\n",
    "\n",
    "Durs = source.data['LCDurations']\n",
    "Durs = Durs.values"
   ],
   "metadata": {
    "collapsed": false,
    "pycharm": {
     "name": "#%%\n"
    }
   }
  },
  {
   "cell_type": "code",
   "execution_count": 33,
   "outputs": [],
   "source": [
    "\n",
    "#Durs[0] = ast.literal_eval(Durs[0])\n",
    "for i in Durs:\n",
    "    Durs[i] = ast.literal_eval(Durs[i])"
   ],
   "metadata": {
    "collapsed": false,
    "pycharm": {
     "name": "#%%\n"
    }
   }
  },
  {
   "cell_type": "code",
   "execution_count": 34,
   "outputs": [],
   "source": [
    "\n",
    "#for i in itertools.chain.from_iterable(Durs):\n",
    "\n",
    "    #print(ast.literal_eval(Durs[i]))\n",
    "\n",
    "Durs"
   ],
   "metadata": {
    "collapsed": false,
    "pycharm": {
     "name": "#%%\n"
    }
   }
  },
  {
   "cell_type": "code",
   "execution_count": 12,
   "outputs": [],
   "source": [
    "param = 40\n",
    "for j in Durs:\n",
    "    #print(source.data['LCDurations'][row])\n",
    "    LPeeks = sum(1 for i in ast.literal_eval(Durs[j]) if i > param)\n",
    "    #source.data.loc[\"LPeeks\"] = sum(1 for i in ast.literal_eval(source.data['LCDurations'][row]) if i > param)\n",
    "\n",
    "#source.data[\"LPeeks\"]"
   ],
   "metadata": {
    "collapsed": false,
    "pycharm": {
     "name": "#%%\n"
    }
   }
  },
  {
   "cell_type": "code",
   "execution_count": 12,
   "outputs": [],
   "source": [
    "Melted = pd.melt(Data_noWater_Simple,\n",
    "                 id_vars=['Training', 'ObjectsReinforced','Reinforced_side',\n",
    "                          'Fly', 'Date'],\n",
    "                 value_name = 'Count',\n",
    "                 value_vars=['Peeks Left', 'Peeks Right', 'Peeks Top', 'Long Peeks Left', 'Long Peeks Right', 'Long Peeks Top','Face Left', 'Face Right', 'Face Top'],\n",
    "                 var_name='Type')"
   ],
   "metadata": {
    "collapsed": false,
    "pycharm": {
     "name": "#%%\n"
    }
   }
  },
  {
   "cell_type": "code",
   "execution_count": 11,
   "outputs": [],
   "source": [
    "conditions = [\n",
    "    (Melted['Reinforced_side'].str.contains('Right') & (Melted['Type'].str.contains('Right'))),\n",
    "    (Melted['Reinforced_side'].str.contains('Left') & (Melted['Type'].str.contains('Left'))),\n",
    "    (Melted['Reinforced_side'].str.contains('Right') & (Melted['Type'].str.contains('Left'))),\n",
    "    (Melted['Reinforced_side'].str.contains('Left') & (Melted['Type'].str.contains('Right'))),\n",
    "    (Melted['Type'].str.contains('Top')),\n",
    "]\n",
    "\n",
    "values = ['Rewarded Side', 'Rewarded Side', 'Punished Side', 'Punished Side', 'Empty Side']\n",
    "Melted['Condition'] = np.select(conditions,values)\n",
    "Melted.head()"
   ],
   "metadata": {
    "collapsed": false,
    "pycharm": {
     "name": "#%%\n"
    }
   }
  },
  {
   "cell_type": "code",
   "execution_count": 16,
   "outputs": [],
   "source": [
    "conditions = [\n",
    "    (Melted['Type'].str.contains('Long')),\n",
    "    (Melted['Type'].str.contains('Face')),\n",
    "    (('Long' not in Melted['Type']) & ('Face' not in Melted['Type'])) # This is not really working but still gives expected result\n",
    "]\n",
    "\n",
    "values = ['Squeeze', 'Fronts', 'Peeks']\n",
    "Melted['Beh'] = np.select(conditions,values)\n",
    "Melted.head()"
   ],
   "metadata": {
    "collapsed": false,
    "pycharm": {
     "name": "#%%\n"
    }
   }
  },
  {
   "cell_type": "code",
   "execution_count": 17,
   "outputs": [],
   "source": [
    "sns.set(font_scale=1)\n",
    "g=sns.catplot(x='Condition', y = 'Count',\n",
    "            hue='Training', showfliers = False,\n",
    "            col='Beh',\n",
    "            kind=\"box\",\n",
    "            row='ObjectsReinforced',\n",
    "            data= Melted)\n",
    "g.map_dataframe(sns.stripplot,x='Condition', y = 'Count',\n",
    "            hue='Training', dodge=True,\n",
    "            palette=[\"#404040\"])\n",
    "plt.show\n",
    "\n",
    "#plt.savefig('/Volumes/Ramdya-Lab/DURRIEU_Matthias/Experimental_data/MultiSensory_Project/GatedArenas/Results/220722_BehaviorPlot_ObjectSplit.png')"
   ],
   "metadata": {
    "collapsed": false,
    "pycharm": {
     "name": "#%%\n"
    }
   }
  },
  {
   "cell_type": "code",
   "execution_count": 8,
   "outputs": [],
   "source": [
    "Melted.Training = pd.Categorical(Melted.Training,\n",
    "                                 categories=['Trained', 'Ctrl'])"
   ],
   "metadata": {
    "collapsed": false,
    "pycharm": {
     "name": "#%%\n"
    }
   }
  },
  {
   "cell_type": "code",
   "execution_count": 67,
   "outputs": [],
   "source": [
    "TimeData = pd.read_csv('/Volumes/Ramdya-Lab/DURRIEU_Matthias/Experimental_data/MultiSensory_Project/GatedArenas/Results/DataSetNew.csv')\n",
    "\n",
    "TimeData.head()"
   ],
   "metadata": {
    "collapsed": false,
    "pycharm": {
     "name": "#%%\n"
    }
   }
  },
  {
   "cell_type": "code",
   "execution_count": 68,
   "outputs": [
    {
     "data": {
      "text/plain": "  Training ObjectsReinforced Reinforced_side      Date  Fly  \\\n0     Ctrl            Orange            Left  22-03-10    1   \n1     Ctrl            Orange            Left  22-03-10    2   \n1     Ctrl            Orange            Left  22-03-10    2   \n1     Ctrl            Orange            Left  22-03-10    2   \n1     Ctrl            Orange            Left  22-03-10    2   \n\n             Variable Values    Kind      Condition  \n0  Visits Left Corner    NaN  Visits  Rewarded Side  \n1  Visits Left Corner    452  Visits  Rewarded Side  \n1  Visits Left Corner   2689  Visits  Rewarded Side  \n1  Visits Left Corner   4476  Visits  Rewarded Side  \n1  Visits Left Corner   4538  Visits  Rewarded Side  ",
      "text/html": "<div>\n<style scoped>\n    .dataframe tbody tr th:only-of-type {\n        vertical-align: middle;\n    }\n\n    .dataframe tbody tr th {\n        vertical-align: top;\n    }\n\n    .dataframe thead th {\n        text-align: right;\n    }\n</style>\n<table border=\"1\" class=\"dataframe\">\n  <thead>\n    <tr style=\"text-align: right;\">\n      <th></th>\n      <th>Training</th>\n      <th>ObjectsReinforced</th>\n      <th>Reinforced_side</th>\n      <th>Date</th>\n      <th>Fly</th>\n      <th>Variable</th>\n      <th>Values</th>\n      <th>Kind</th>\n      <th>Condition</th>\n    </tr>\n  </thead>\n  <tbody>\n    <tr>\n      <th>0</th>\n      <td>Ctrl</td>\n      <td>Orange</td>\n      <td>Left</td>\n      <td>22-03-10</td>\n      <td>1</td>\n      <td>Visits Left Corner</td>\n      <td>NaN</td>\n      <td>Visits</td>\n      <td>Rewarded Side</td>\n    </tr>\n    <tr>\n      <th>1</th>\n      <td>Ctrl</td>\n      <td>Orange</td>\n      <td>Left</td>\n      <td>22-03-10</td>\n      <td>2</td>\n      <td>Visits Left Corner</td>\n      <td>452</td>\n      <td>Visits</td>\n      <td>Rewarded Side</td>\n    </tr>\n    <tr>\n      <th>1</th>\n      <td>Ctrl</td>\n      <td>Orange</td>\n      <td>Left</td>\n      <td>22-03-10</td>\n      <td>2</td>\n      <td>Visits Left Corner</td>\n      <td>2689</td>\n      <td>Visits</td>\n      <td>Rewarded Side</td>\n    </tr>\n    <tr>\n      <th>1</th>\n      <td>Ctrl</td>\n      <td>Orange</td>\n      <td>Left</td>\n      <td>22-03-10</td>\n      <td>2</td>\n      <td>Visits Left Corner</td>\n      <td>4476</td>\n      <td>Visits</td>\n      <td>Rewarded Side</td>\n    </tr>\n    <tr>\n      <th>1</th>\n      <td>Ctrl</td>\n      <td>Orange</td>\n      <td>Left</td>\n      <td>22-03-10</td>\n      <td>2</td>\n      <td>Visits Left Corner</td>\n      <td>4538</td>\n      <td>Visits</td>\n      <td>Rewarded Side</td>\n    </tr>\n  </tbody>\n</table>\n</div>"
     },
     "execution_count": 68,
     "metadata": {},
     "output_type": "execute_result"
    }
   ],
   "source": [
    "TimeMelted = pd.melt(TimeData, id_vars=['Training', 'ObjectsReinforced',\n",
    "                                        'Reinforced_side', 'Date', 'Fly'],\n",
    "                     value_name = 'Values',\n",
    "                     value_vars=['Visits Left Corner', 'Durations Left Corner',\n",
    "          'Visits Right Corner', 'Durations Right Corner',\n",
    "          'Visits Top Corner', 'Durations Top Corner',\n",
    "          'Visits Left Front', 'Durations Left Front',\n",
    "          'Visits Right Front', 'Durations Right Front',\n",
    "          'Visits Top Front', 'Durations Top Front'],\n",
    "                     var_name=\"Variable\")\n",
    "\n",
    "TimeMelted[['Values',]] = TimeMelted[['Values',]].applymap(ast.literal_eval)\n",
    "TimeMelted = TimeMelted.explode('Values').drop_duplicates()\n",
    "\n",
    "conditions = [\n",
    "    (TimeMelted['Variable'].str.contains('Durations')),\n",
    "    (TimeMelted['Variable'].str.contains('Visits')),\n",
    "]\n",
    "\n",
    "values = ['Durations', 'Visits']\n",
    "TimeMelted['Kind'] = np.select(conditions,values)\n",
    "TimeMelted.head()\n",
    "\n",
    "conditions = [\n",
    "    (TimeMelted['Reinforced_side'].str.contains('Right') & (TimeMelted['Variable'].str.contains('Right'))),\n",
    "    (TimeMelted['Reinforced_side'].str.contains('Left') & (TimeMelted['Variable'].str.contains('Left'))),\n",
    "    (TimeMelted['Reinforced_side'].str.contains('Right') & (TimeMelted['Variable'].str.contains('Left'))),\n",
    "    (TimeMelted['Reinforced_side'].str.contains('Left') & (TimeMelted['Variable'].str.contains('Right'))),\n",
    "    (TimeMelted['Variable'].str.contains('Top')),\n",
    "]\n",
    "\n",
    "values = ['Rewarded Side', 'Rewarded Side', 'Punished Side', 'Punished Side', 'Empty Side']\n",
    "TimeMelted['Condition'] = np.select(conditions,values)\n",
    "TimeMelted.head()"
   ],
   "metadata": {
    "collapsed": false,
    "pycharm": {
     "name": "#%%\n"
    }
   }
  },
  {
   "cell_type": "code",
   "execution_count": 11,
   "outputs": [],
   "source": [
    "ReinforcedVisit = TimeMelted[TimeMelted['Condition'] == \"Rewarded Side\"]\n",
    "\n",
    "ReinforcedVisit.loc[ReinforcedVisit['Variable'].str.contains('Visits'), 'Variable'] = 'Visits'\n",
    "ReinforcedVisit.loc[ReinforcedVisit['Variable'].str.contains('Durations'), 'Variable'] = 'Durations'\n",
    "\n",
    "ReinforcedVisit = ReinforcedVisit.reset_index().pivot_table(index = ['Fly', 'Training', 'ObjectsReinforced'],\n",
    "                                          columns = 'Variable',\n",
    "                                          values = 'Values').reset_index()"
   ],
   "metadata": {
    "collapsed": false,
    "pycharm": {
     "name": "#%%\n"
    }
   }
  },
  {
   "cell_type": "code",
   "execution_count": 12,
   "outputs": [],
   "source": [
    "PunishedVisits = TimeMelted[TimeMelted['Condition'] == \"Punished Side\"]\n",
    "\n",
    "PunishedVisits.loc[PunishedVisits['Variable'].str.contains('Visits'), 'Variable'] = 'Visits'\n",
    "PunishedVisits.loc[PunishedVisits['Variable'].str.contains('Durations'), 'Variable'] = 'Durations'\n",
    "\n",
    "PunishedVisits = PunishedVisits.reset_index().pivot_table(index = ['Fly', 'Training', 'ObjectsReinforced'],\n",
    "                                          columns = 'Variable',\n",
    "                                          values = 'Values').reset_index()"
   ],
   "metadata": {
    "collapsed": false,
    "pycharm": {
     "name": "#%%\n"
    }
   }
  },
  {
   "cell_type": "code",
   "execution_count": 13,
   "outputs": [
    {
     "data": {
      "text/html": "\n  <div class=\"bk-root\" id=\"8cfc1d37-b862-4e74-90d4-36e002dbb1d0\" data-root-id=\"1003\"></div>\n"
     },
     "metadata": {},
     "output_type": "display_data"
    },
    {
     "data": {
      "application/javascript": "(function(root) {\n  function embed_document(root) {\n  const docs_json = {\"e10bf843-7325-40cf-84fa-5cd9c150bce6\":{\"defs\":[],\"roots\":{\"references\":[{\"attributes\":{\"below\":[{\"id\":\"1012\"}],\"center\":[{\"id\":\"1015\"},{\"id\":\"1019\"},{\"id\":\"1052\"}],\"frame_height\":300,\"frame_width\":400,\"left\":[{\"id\":\"1016\"}],\"renderers\":[{\"id\":\"1039\"},{\"id\":\"1059\"}],\"title\":{\"id\":\"1041\"},\"toolbar\":{\"id\":\"1027\"},\"x_range\":{\"id\":\"1004\"},\"x_scale\":{\"id\":\"1008\"},\"y_range\":{\"id\":\"1006\"},\"y_scale\":{\"id\":\"1010\"}},\"id\":\"1003\",\"subtype\":\"Figure\",\"type\":\"Plot\"},{\"attributes\":{},\"id\":\"1010\",\"type\":\"LinearScale\"},{\"attributes\":{\"source\":{\"id\":\"1054\"}},\"id\":\"1060\",\"type\":\"CDSView\"},{\"attributes\":{\"tools\":[{\"id\":\"1020\"},{\"id\":\"1021\"},{\"id\":\"1022\"},{\"id\":\"1023\"},{\"id\":\"1024\"},{\"id\":\"1025\"}]},\"id\":\"1027\",\"type\":\"Toolbar\"},{\"attributes\":{\"fill_alpha\":{\"value\":0.2},\"fill_color\":{\"value\":\"#1f77b4\"},\"hatch_alpha\":{\"value\":0.2},\"line_alpha\":{\"value\":0.2},\"line_color\":{\"value\":\"#1f77b4\"},\"x\":{\"field\":\"Visits\"},\"y\":{\"field\":\"Durations\"}},\"id\":\"1038\",\"type\":\"Circle\"},{\"attributes\":{},\"id\":\"1047\",\"type\":\"BasicTickFormatter\"},{\"attributes\":{},\"id\":\"1023\",\"type\":\"SaveTool\"},{\"attributes\":{},\"id\":\"1024\",\"type\":\"ResetTool\"},{\"attributes\":{\"fill_alpha\":{\"value\":0.1},\"fill_color\":{\"value\":\"orange\"},\"hatch_alpha\":{\"value\":0.1},\"hatch_color\":{\"value\":\"orange\"},\"line_alpha\":{\"value\":0.1},\"line_color\":{\"value\":\"orange\"},\"x\":{\"field\":\"Visits\"},\"y\":{\"field\":\"Durations\"}},\"id\":\"1057\",\"type\":\"Circle\"},{\"attributes\":{\"overlay\":{\"id\":\"1026\"}},\"id\":\"1022\",\"type\":\"BoxZoomTool\"},{\"attributes\":{},\"id\":\"1017\",\"type\":\"BasicTicker\"},{\"attributes\":{},\"id\":\"1013\",\"type\":\"BasicTicker\"},{\"attributes\":{\"fill_alpha\":{\"value\":0.2},\"fill_color\":{\"value\":\"orange\"},\"hatch_alpha\":{\"value\":0.2},\"hatch_color\":{\"value\":\"orange\"},\"line_alpha\":{\"value\":0.2},\"line_color\":{\"value\":\"orange\"},\"x\":{\"field\":\"Visits\"},\"y\":{\"field\":\"Durations\"}},\"id\":\"1058\",\"type\":\"Circle\"},{\"attributes\":{\"coordinates\":null,\"data_source\":{\"id\":\"1054\"},\"glyph\":{\"id\":\"1056\"},\"group\":null,\"hover_glyph\":null,\"muted_glyph\":{\"id\":\"1058\"},\"nonselection_glyph\":{\"id\":\"1057\"},\"view\":{\"id\":\"1060\"}},\"id\":\"1059\",\"type\":\"GlyphRenderer\"},{\"attributes\":{\"label\":{\"value\":\"Control flies\"},\"renderers\":[{\"id\":\"1059\"}]},\"id\":\"1074\",\"type\":\"LegendItem\"},{\"attributes\":{},\"id\":\"1072\",\"type\":\"Selection\"},{\"attributes\":{\"coordinates\":null,\"group\":null,\"text_color\":\"#5B5B5B\",\"text_font\":\"Calibri Light\",\"text_font_size\":\"1.25em\",\"text_font_style\":\"bold\"},\"id\":\"1041\",\"type\":\"Title\"},{\"attributes\":{\"bottom_units\":\"screen\",\"coordinates\":null,\"fill_alpha\":0.5,\"fill_color\":\"lightgrey\",\"group\":null,\"left_units\":\"screen\",\"level\":\"overlay\",\"line_alpha\":1.0,\"line_color\":\"black\",\"line_dash\":[4,4],\"line_width\":2,\"right_units\":\"screen\",\"syncable\":false,\"top_units\":\"screen\"},\"id\":\"1026\",\"type\":\"BoxAnnotation\"},{\"attributes\":{},\"id\":\"1049\",\"type\":\"UnionRenderers\"},{\"attributes\":{\"data\":{\"Durations\":{\"__ndarray__\":\"zczMzMxsYUCU11BeQ/lgQOACF7jAhVJAzczMzMykoEA+jbDc00hZQF100UUXHWZAUV5DeQ3leUB3d3d3d3dZQDmO4ziOz2NA5DiO4zi6jkCSJEmSJFljQAAAAAAAWHBAAAAAAACKj0AzMzMzM+tgQBrrQ2N9KFxAWYEw0o5VU0AI1tHmfQpTQGWfQ2qCcVhARhdddNGFTUC0Ud/ZqC9YQFVVVVVVAVJAOm2g0wa6S0CMLrroostCQAAAAAAA9EJArA+N9aExTUC1tLS0tHRWQLdt27Ztx2dAP4L7CO7jU0Avuuiii65RQA==\",\"dtype\":\"float64\",\"order\":\"little\",\"shape\":[29]},\"Fly\":[1,2,3,4,5,6,7,8,9,10,22,23,24,25,26,27,34,35,36,37,38,39,40,41,53,54,55,56,57],\"ObjectsReinforced\":[\"Orange\",\"Orange\",\"Orange\",\"Orange\",\"Orange\",\"Orange\",\"Orange\",\"Orange\",\"Orange\",\"Orange\",\"Blue\",\"Blue\",\"Blue\",\"Blue\",\"Blue\",\"Blue\",\"Blue\",\"Blue\",\"Blue\",\"Blue\",\"Blue\",\"Blue\",\"Blue\",\"Blue\",\"Blue\",\"Blue\",\"Blue\",\"Blue\",\"Blue\"],\"Training\":[\"Ctrl\",\"Ctrl\",\"Ctrl\",\"Ctrl\",\"Ctrl\",\"Ctrl\",\"Ctrl\",\"Ctrl\",\"Ctrl\",\"Ctrl\",\"Ctrl\",\"Ctrl\",\"Ctrl\",\"Ctrl\",\"Ctrl\",\"Ctrl\",\"Ctrl\",\"Ctrl\",\"Ctrl\",\"Ctrl\",\"Ctrl\",\"Ctrl\",\"Ctrl\",\"Ctrl\",\"Ctrl\",\"Ctrl\",\"Ctrl\",\"Ctrl\",\"Ctrl\"],\"Visits\":{\"__ndarray__\":\"MzMzM/NI0UBmZmZmblfRQGZmZmaOB9VAq6qqqipkz0BGF110UezQQFVVVVVVDbJAAAAAAIBy00BaN5gi/0LUQB+F61FoSN9AUrgehatU1ECdc845Z9HRQAnLPY2wv7tAAAAAAIA3yUCnN73pzbrSQIUo/iKnLddAOtIcaU6E10ApXI/CdRLXQB3UQR0UvNhAlUu5lMtP2ECmpaWlZRrdQDSc1H15QdVA6SYxCOzn1UBIcB/BPTjTQCMVc6tz49VA0UUXXTSJ10BmZmZmZvPbQLETO7GT59VAHh4eHu7B1EDmFLycQq7YQA==\",\"dtype\":\"float64\",\"order\":\"little\",\"shape\":[29]},\"index\":[0,1,2,3,4,5,6,7,8,9,20,21,22,23,24,25,32,33,34,35,36,37,38,39,51,52,53,54,55]},\"selected\":{\"id\":\"1072\"},\"selection_policy\":{\"id\":\"1071\"}},\"id\":\"1054\",\"type\":\"ColumnDataSource\"},{\"attributes\":{},\"id\":\"1050\",\"type\":\"Selection\"},{\"attributes\":{},\"id\":\"1006\",\"type\":\"DataRange1d\"},{\"attributes\":{\"end\":48000},\"id\":\"1004\",\"type\":\"Range1d\"},{\"attributes\":{\"fill_alpha\":{\"value\":0.1},\"fill_color\":{\"value\":\"#1f77b4\"},\"hatch_alpha\":{\"value\":0.1},\"line_alpha\":{\"value\":0.1},\"line_color\":{\"value\":\"#1f77b4\"},\"x\":{\"field\":\"Visits\"},\"y\":{\"field\":\"Durations\"}},\"id\":\"1037\",\"type\":\"Circle\"},{\"attributes\":{},\"id\":\"1008\",\"type\":\"LinearScale\"},{\"attributes\":{\"data\":{\"Durations\":{\"__ndarray__\":\"juM4juP4UUDNzMzMzCCDQFVVVVVVFWtAkKcEeUowZkDP8zzP87xxQKgRlnsaUWdA55xzzjkXekA5juM4jndiQN977733vlhApEEapEG6UUASlnsaYZlfQDuxEzuxM2FA4Ad+4AeeY0BJkiRJkiRNQAAAAAAAqG1AhetRuB6FXUDLPY2w3BNHQOdAohU2h0hAzczMzMyMREDtIZcVAyVPQLrooosuClJAWlpaWlpKUkARZ+UnxFlSQOLh4eHh4UZA7FG4HoUra0BQcckQrONRQH41JtIDlT9APusGU+TTakDf9KY3vXlpQD3P8zzPM1dAj7gj7oj7cUA=\",\"dtype\":\"float64\",\"order\":\"little\",\"shape\":[31]},\"Fly\":[11,12,13,14,15,17,18,19,20,21,28,29,30,31,32,33,42,43,44,45,46,47,48,49,50,51,52,58,59,60,61],\"ObjectsReinforced\":[\"Orange\",\"Orange\",\"Orange\",\"Orange\",\"Orange\",\"Orange\",\"Orange\",\"Orange\",\"Orange\",\"Orange\",\"Blue\",\"Blue\",\"Blue\",\"Blue\",\"Blue\",\"Blue\",\"Blue\",\"Blue\",\"Blue\",\"Blue\",\"Blue\",\"Blue\",\"Blue\",\"Blue\",\"Blue\",\"Blue\",\"Blue\",\"Blue\",\"Blue\",\"Blue\",\"Blue\"],\"Training\":[\"Trained\",\"Trained\",\"Trained\",\"Trained\",\"Trained\",\"Trained\",\"Trained\",\"Trained\",\"Trained\",\"Trained\",\"Trained\",\"Trained\",\"Trained\",\"Trained\",\"Trained\",\"Trained\",\"Trained\",\"Trained\",\"Trained\",\"Trained\",\"Trained\",\"Trained\",\"Trained\",\"Trained\",\"Trained\",\"Trained\",\"Trained\",\"Trained\",\"Trained\",\"Trained\",\"Trained\"],\"Visits\":{\"__ndarray__\":\"MzMzMzOUyUCXlpaWNpbeQAAAAACgcttAd3d3d2cw10CMLrroomu/QDw8PDw8b9ZAVVVVVeW100CD8zE4/5nWQBw4cODAD9FAJUmSJAl42kDxqzGRnsrVQG9605vesdtAD7msGOjM1EAAAAAAwEDTQM7Nzc1NcdxAOY7jOI6NzUAOdNpAJ2LbQOW8LOLTbtdAIhzCIVyt1UAjlopYKjfaQHqe53neL9VAAAAAABj32kAK16NwDV3UQGvfsPaNSdRAhetRuN4B3UAuW7ZsGT/UQJo6v/awTtdAB2mQBmlF00C/vr6+/rHTQJT4GSX+o9hAUt/ZqK+62EA=\",\"dtype\":\"float64\",\"order\":\"little\",\"shape\":[31]},\"index\":[10,11,12,13,14,15,16,17,18,19,26,27,28,29,30,31,40,41,42,43,44,45,46,47,48,49,50,56,57,58,59]},\"selected\":{\"id\":\"1050\"},\"selection_policy\":{\"id\":\"1049\"}},\"id\":\"1034\",\"type\":\"ColumnDataSource\"},{\"attributes\":{},\"id\":\"1048\",\"type\":\"AllLabels\"},{\"attributes\":{},\"id\":\"1021\",\"type\":\"WheelZoomTool\"},{\"attributes\":{\"label\":{\"value\":\"Trained flies\"},\"renderers\":[{\"id\":\"1039\"}]},\"id\":\"1053\",\"type\":\"LegendItem\"},{\"attributes\":{\"axis\":{\"id\":\"1016\"},\"coordinates\":null,\"dimension\":1,\"group\":null,\"ticker\":null},\"id\":\"1019\",\"type\":\"Grid\"},{\"attributes\":{\"axis_label\":\"Visits time\",\"axis_label_standoff\":10,\"axis_label_text_color\":\"#5B5B5B\",\"axis_label_text_font\":\"Calibri Light\",\"axis_label_text_font_size\":\"1.15em\",\"axis_label_text_font_style\":\"bold\",\"axis_line_alpha\":1,\"axis_line_color\":\"#5B5B5B\",\"coordinates\":null,\"formatter\":{\"id\":\"1047\"},\"group\":null,\"major_label_policy\":{\"id\":\"1048\"},\"major_label_text_color\":\"#5B5B5B\",\"major_label_text_font\":\"Calibri Light\",\"major_label_text_font_size\":\"0.95em\",\"major_label_text_font_style\":\"bold\",\"major_tick_in\":0,\"major_tick_line_alpha\":0.25,\"major_tick_line_color\":\"#5B5B5B\",\"major_tick_out\":3,\"minor_tick_line_alpha\":0.25,\"minor_tick_line_color\":\"#5B5B5B\",\"ticker\":{\"id\":\"1013\"}},\"id\":\"1012\",\"type\":\"LinearAxis\"},{\"attributes\":{},\"id\":\"1071\",\"type\":\"UnionRenderers\"},{\"attributes\":{},\"id\":\"1020\",\"type\":\"PanTool\"},{\"attributes\":{},\"id\":\"1045\",\"type\":\"AllLabels\"},{\"attributes\":{\"background_fill_alpha\":0.25,\"border_line_alpha\":0,\"coordinates\":null,\"glyph_width\":15,\"group\":null,\"items\":[{\"id\":\"1053\"},{\"id\":\"1074\"}],\"label_standoff\":8,\"label_text_color\":\"#5B5B5B\",\"label_text_font\":\"Calibri Light\",\"label_text_font_size\":\"0.95em\",\"label_text_font_style\":\"bold\",\"spacing\":8},\"id\":\"1052\",\"type\":\"Legend\"},{\"attributes\":{\"axis_label\":\"Visits duration\",\"axis_label_standoff\":10,\"axis_label_text_color\":\"#5B5B5B\",\"axis_label_text_font\":\"Calibri Light\",\"axis_label_text_font_size\":\"1.15em\",\"axis_label_text_font_style\":\"bold\",\"axis_line_alpha\":1,\"axis_line_color\":\"#5B5B5B\",\"coordinates\":null,\"formatter\":{\"id\":\"1044\"},\"group\":null,\"major_label_policy\":{\"id\":\"1045\"},\"major_label_text_color\":\"#5B5B5B\",\"major_label_text_font\":\"Calibri Light\",\"major_label_text_font_size\":\"0.95em\",\"major_label_text_font_style\":\"bold\",\"major_tick_in\":0,\"major_tick_line_alpha\":0.25,\"major_tick_line_color\":\"#5B5B5B\",\"major_tick_out\":3,\"minor_tick_line_alpha\":0.25,\"minor_tick_line_color\":\"#5B5B5B\",\"ticker\":{\"id\":\"1017\"}},\"id\":\"1016\",\"type\":\"LinearAxis\"},{\"attributes\":{\"fill_color\":{\"value\":\"orange\"},\"hatch_color\":{\"value\":\"orange\"},\"line_color\":{\"value\":\"orange\"},\"x\":{\"field\":\"Visits\"},\"y\":{\"field\":\"Durations\"}},\"id\":\"1056\",\"type\":\"Circle\"},{\"attributes\":{\"fill_color\":{\"value\":\"#1f77b4\"},\"line_color\":{\"value\":\"#1f77b4\"},\"x\":{\"field\":\"Visits\"},\"y\":{\"field\":\"Durations\"}},\"id\":\"1036\",\"type\":\"Circle\"},{\"attributes\":{\"axis\":{\"id\":\"1012\"},\"coordinates\":null,\"group\":null,\"ticker\":null},\"id\":\"1015\",\"type\":\"Grid\"},{\"attributes\":{\"coordinates\":null,\"data_source\":{\"id\":\"1034\"},\"glyph\":{\"id\":\"1036\"},\"group\":null,\"hover_glyph\":null,\"muted_glyph\":{\"id\":\"1038\"},\"nonselection_glyph\":{\"id\":\"1037\"},\"view\":{\"id\":\"1040\"}},\"id\":\"1039\",\"type\":\"GlyphRenderer\"},{\"attributes\":{},\"id\":\"1025\",\"type\":\"HelpTool\"},{\"attributes\":{},\"id\":\"1044\",\"type\":\"BasicTickFormatter\"},{\"attributes\":{\"source\":{\"id\":\"1034\"}},\"id\":\"1040\",\"type\":\"CDSView\"}],\"root_ids\":[\"1003\"]},\"title\":\"Bokeh Application\",\"version\":\"2.4.3\"}};\n  const render_items = [{\"docid\":\"e10bf843-7325-40cf-84fa-5cd9c150bce6\",\"root_ids\":[\"1003\"],\"roots\":{\"1003\":\"8cfc1d37-b862-4e74-90d4-36e002dbb1d0\"}}];\n  root.Bokeh.embed.embed_items_notebook(docs_json, render_items);\n  }\n  if (root.Bokeh !== undefined) {\n    embed_document(root);\n  } else {\n    let attempts = 0;\n    const timer = setInterval(function(root) {\n      if (root.Bokeh !== undefined) {\n        clearInterval(timer);\n        embed_document(root);\n      } else {\n        attempts++;\n        if (attempts > 100) {\n          clearInterval(timer);\n          console.log(\"Bokeh: ERROR: Unable to run BokehJS code because BokehJS library is missing\");\n        }\n      }\n    }, 10, root)\n  }\n})(window);",
      "application/vnd.bokehjs_exec.v0+json": ""
     },
     "metadata": {
      "application/vnd.bokehjs_exec.v0+json": {
       "id": "1003"
      }
     },
     "output_type": "display_data"
    }
   ],
   "source": [
    "# Create the figure, stored in variable `p`\n",
    "p = bokeh.plotting.figure(\n",
    "    frame_width=400,\n",
    "    frame_height=300,\n",
    "    x_axis_label='Visits time',\n",
    "    y_axis_label='Visits duration',\n",
    "    x_range=[0, 48000]\n",
    ")\n",
    "\n",
    "\n",
    "p.circle(\n",
    "    source= ReinforcedVisit[ReinforcedVisit['Training']== 'Trained'],\n",
    "    x='Visits',\n",
    "    y='Durations',\n",
    "    legend_label = 'Trained flies',\n",
    "\n",
    ")\n",
    "\n",
    "p.circle(\n",
    "    source=ReinforcedVisit[ReinforcedVisit['Training']== 'Ctrl'],\n",
    "    x='Visits',\n",
    "    y='Durations',\n",
    "    color = 'orange',\n",
    "    legend_label = 'Control flies'\n",
    ")\n",
    "\n",
    "bokeh.io.show(p)"
   ],
   "metadata": {
    "collapsed": false,
    "pycharm": {
     "name": "#%%\n"
    }
   }
  },
  {
   "cell_type": "code",
   "execution_count": 14,
   "outputs": [
    {
     "data": {
      "text/html": "\n  <div class=\"bk-root\" id=\"2462777b-7e68-4b8b-a8a4-ca42f78c8ef6\" data-root-id=\"1153\"></div>\n"
     },
     "metadata": {},
     "output_type": "display_data"
    },
    {
     "data": {
      "application/javascript": "(function(root) {\n  function embed_document(root) {\n  const docs_json = {\"3849e3b1-b628-40de-bdc5-2e08dea1ccb1\":{\"defs\":[],\"roots\":{\"references\":[{\"attributes\":{\"below\":[{\"id\":\"1162\"}],\"center\":[{\"id\":\"1165\"},{\"id\":\"1169\"},{\"id\":\"1202\"}],\"frame_height\":300,\"frame_width\":400,\"left\":[{\"id\":\"1166\"}],\"renderers\":[{\"id\":\"1189\"},{\"id\":\"1209\"}],\"title\":{\"id\":\"1191\"},\"toolbar\":{\"id\":\"1177\"},\"x_range\":{\"id\":\"1154\"},\"x_scale\":{\"id\":\"1158\"},\"y_range\":{\"id\":\"1156\"},\"y_scale\":{\"id\":\"1160\"}},\"id\":\"1153\",\"subtype\":\"Figure\",\"type\":\"Plot\"},{\"attributes\":{},\"id\":\"1200\",\"type\":\"Selection\"},{\"attributes\":{\"end\":48000},\"id\":\"1154\",\"type\":\"Range1d\"},{\"attributes\":{},\"id\":\"1197\",\"type\":\"BasicTickFormatter\"},{\"attributes\":{\"source\":{\"id\":\"1204\"}},\"id\":\"1210\",\"type\":\"CDSView\"},{\"attributes\":{\"coordinates\":null,\"group\":null,\"text_color\":\"#5B5B5B\",\"text_font\":\"Calibri Light\",\"text_font_size\":\"1.25em\",\"text_font_style\":\"bold\"},\"id\":\"1191\",\"type\":\"Title\"},{\"attributes\":{\"coordinates\":null,\"data_source\":{\"id\":\"1204\"},\"glyph\":{\"id\":\"1206\"},\"group\":null,\"hover_glyph\":null,\"muted_glyph\":{\"id\":\"1208\"},\"nonselection_glyph\":{\"id\":\"1207\"},\"view\":{\"id\":\"1210\"}},\"id\":\"1209\",\"type\":\"GlyphRenderer\"},{\"attributes\":{\"label\":{\"value\":\"Trained flies\"},\"renderers\":[{\"id\":\"1189\"}]},\"id\":\"1203\",\"type\":\"LegendItem\"},{\"attributes\":{},\"id\":\"1170\",\"type\":\"PanTool\"},{\"attributes\":{\"axis_label\":\"Visits duration\",\"axis_label_standoff\":10,\"axis_label_text_color\":\"#5B5B5B\",\"axis_label_text_font\":\"Calibri Light\",\"axis_label_text_font_size\":\"1.15em\",\"axis_label_text_font_style\":\"bold\",\"axis_line_alpha\":1,\"axis_line_color\":\"#5B5B5B\",\"coordinates\":null,\"formatter\":{\"id\":\"1194\"},\"group\":null,\"major_label_policy\":{\"id\":\"1195\"},\"major_label_text_color\":\"#5B5B5B\",\"major_label_text_font\":\"Calibri Light\",\"major_label_text_font_size\":\"0.95em\",\"major_label_text_font_style\":\"bold\",\"major_tick_in\":0,\"major_tick_line_alpha\":0.25,\"major_tick_line_color\":\"#5B5B5B\",\"major_tick_out\":3,\"minor_tick_line_alpha\":0.25,\"minor_tick_line_color\":\"#5B5B5B\",\"ticker\":{\"id\":\"1167\"}},\"id\":\"1166\",\"type\":\"LinearAxis\"},{\"attributes\":{},\"id\":\"1156\",\"type\":\"DataRange1d\"},{\"attributes\":{\"fill_color\":{\"value\":\"orange\"},\"hatch_color\":{\"value\":\"orange\"},\"line_color\":{\"value\":\"orange\"},\"x\":{\"field\":\"Visits\"},\"y\":{\"field\":\"Durations\"}},\"id\":\"1206\",\"type\":\"Circle\"},{\"attributes\":{\"label\":{\"value\":\"Control flies\"},\"renderers\":[{\"id\":\"1209\"}]},\"id\":\"1224\",\"type\":\"LegendItem\"},{\"attributes\":{\"fill_alpha\":{\"value\":0.2},\"fill_color\":{\"value\":\"orange\"},\"hatch_alpha\":{\"value\":0.2},\"hatch_color\":{\"value\":\"orange\"},\"line_alpha\":{\"value\":0.2},\"line_color\":{\"value\":\"orange\"},\"x\":{\"field\":\"Visits\"},\"y\":{\"field\":\"Durations\"}},\"id\":\"1208\",\"type\":\"Circle\"},{\"attributes\":{\"source\":{\"id\":\"1184\"}},\"id\":\"1190\",\"type\":\"CDSView\"},{\"attributes\":{\"axis\":{\"id\":\"1166\"},\"coordinates\":null,\"dimension\":1,\"group\":null,\"ticker\":null},\"id\":\"1169\",\"type\":\"Grid\"},{\"attributes\":{},\"id\":\"1195\",\"type\":\"AllLabels\"},{\"attributes\":{\"coordinates\":null,\"data_source\":{\"id\":\"1184\"},\"glyph\":{\"id\":\"1186\"},\"group\":null,\"hover_glyph\":null,\"muted_glyph\":{\"id\":\"1188\"},\"nonselection_glyph\":{\"id\":\"1187\"},\"view\":{\"id\":\"1190\"}},\"id\":\"1189\",\"type\":\"GlyphRenderer\"},{\"attributes\":{\"bottom_units\":\"screen\",\"coordinates\":null,\"fill_alpha\":0.5,\"fill_color\":\"lightgrey\",\"group\":null,\"left_units\":\"screen\",\"level\":\"overlay\",\"line_alpha\":1.0,\"line_color\":\"black\",\"line_dash\":[4,4],\"line_width\":2,\"right_units\":\"screen\",\"syncable\":false,\"top_units\":\"screen\"},\"id\":\"1176\",\"type\":\"BoxAnnotation\"},{\"attributes\":{\"fill_alpha\":{\"value\":0.1},\"fill_color\":{\"value\":\"orange\"},\"hatch_alpha\":{\"value\":0.1},\"hatch_color\":{\"value\":\"orange\"},\"line_alpha\":{\"value\":0.1},\"line_color\":{\"value\":\"orange\"},\"x\":{\"field\":\"Visits\"},\"y\":{\"field\":\"Durations\"}},\"id\":\"1207\",\"type\":\"Circle\"},{\"attributes\":{},\"id\":\"1221\",\"type\":\"UnionRenderers\"},{\"attributes\":{},\"id\":\"1175\",\"type\":\"HelpTool\"},{\"attributes\":{\"background_fill_alpha\":0.25,\"border_line_alpha\":0,\"coordinates\":null,\"glyph_width\":15,\"group\":null,\"items\":[{\"id\":\"1203\"},{\"id\":\"1224\"}],\"label_standoff\":8,\"label_text_color\":\"#5B5B5B\",\"label_text_font\":\"Calibri Light\",\"label_text_font_size\":\"0.95em\",\"label_text_font_style\":\"bold\",\"spacing\":8},\"id\":\"1202\",\"type\":\"Legend\"},{\"attributes\":{\"fill_alpha\":{\"value\":0.1},\"fill_color\":{\"value\":\"#1f77b4\"},\"hatch_alpha\":{\"value\":0.1},\"line_alpha\":{\"value\":0.1},\"line_color\":{\"value\":\"#1f77b4\"},\"x\":{\"field\":\"Visits\"},\"y\":{\"field\":\"Durations\"}},\"id\":\"1187\",\"type\":\"Circle\"},{\"attributes\":{\"axis\":{\"id\":\"1162\"},\"coordinates\":null,\"group\":null,\"ticker\":null},\"id\":\"1165\",\"type\":\"Grid\"},{\"attributes\":{},\"id\":\"1160\",\"type\":\"LinearScale\"},{\"attributes\":{\"data\":{\"Durations\":{\"__ndarray__\":\"2Ymd2ImVgUDQF/QFfUFVQIMp8lk3GFRAVVVVVVWNhUA5juM4joNmQHVQB3VQB3lAzczMzMx8WUD6gr6gLyhhQPYoXI/C9U1AmpmZmZmpgECrqqqqqrpsQOF6FK5H4VJA27Zt27btgkAAAAAAAChaQOmiiy66KEpApVZqpVZqRkAAAAAAAPpWQOto8z7FJVFAkj0DUelIQ0B605ve9AZcQOE+gvsI7k5AEz+jxM8oRkBVVVVVVXVgQCAqHdkzkEJA3t3d3d0dUUB605ve9OZHQJtssskmW1dAQacNdNqAVEAmtJfQXoJUQA==\",\"dtype\":\"float64\",\"order\":\"little\",\"shape\":[29]},\"Fly\":[1,2,3,4,5,6,7,8,9,10,22,23,24,25,26,27,34,35,36,37,38,39,40,41,53,54,55,56,57],\"ObjectsReinforced\":[\"Orange\",\"Orange\",\"Orange\",\"Orange\",\"Orange\",\"Orange\",\"Orange\",\"Orange\",\"Orange\",\"Orange\",\"Blue\",\"Blue\",\"Blue\",\"Blue\",\"Blue\",\"Blue\",\"Blue\",\"Blue\",\"Blue\",\"Blue\",\"Blue\",\"Blue\",\"Blue\",\"Blue\",\"Blue\",\"Blue\",\"Blue\",\"Blue\",\"Blue\"],\"Training\":[\"Ctrl\",\"Ctrl\",\"Ctrl\",\"Ctrl\",\"Ctrl\",\"Ctrl\",\"Ctrl\",\"Ctrl\",\"Ctrl\",\"Ctrl\",\"Ctrl\",\"Ctrl\",\"Ctrl\",\"Ctrl\",\"Ctrl\",\"Ctrl\",\"Ctrl\",\"Ctrl\",\"Ctrl\",\"Ctrl\",\"Ctrl\",\"Ctrl\",\"Ctrl\",\"Ctrl\",\"Ctrl\",\"Ctrl\",\"Ctrl\",\"Ctrl\",\"Ctrl\"],\"Visits\":{\"__ndarray__\":\"+ZZv+dbq0kAcx3Ech3LRQIjG+tC419NAVVVVVdXOykBfX19fX0nHQD+H1ATjIrxAo4suuui9ukAAAAAATGTZQIJ1tHl/ROFAAAAAAKCU2UB8GmG550TQQB3UQR3U+rhASZIkSZKH00B2gyny2f/ZQIZgHW1+69VAAAAAAAAN3kCKF8ikeK7UQAAAAAAIINlAn8/n8/k51kBZyEIWMjDaQOdqruaq8dVAf0evjK0210AzMzMzVyrTQMkvlvzCGNRAAAAAgOT700AFL6fgJb7cQAAAAADAI9ZATVlT1rRj1UChoKCgAMPVQA==\",\"dtype\":\"float64\",\"order\":\"little\",\"shape\":[29]},\"index\":[0,1,2,3,4,5,6,7,8,9,21,22,23,24,25,26,33,34,35,36,37,38,39,40,52,53,54,55,56]},\"selected\":{\"id\":\"1222\"},\"selection_policy\":{\"id\":\"1221\"}},\"id\":\"1204\",\"type\":\"ColumnDataSource\"},{\"attributes\":{},\"id\":\"1171\",\"type\":\"WheelZoomTool\"},{\"attributes\":{},\"id\":\"1167\",\"type\":\"BasicTicker\"},{\"attributes\":{},\"id\":\"1194\",\"type\":\"BasicTickFormatter\"},{\"attributes\":{},\"id\":\"1199\",\"type\":\"UnionRenderers\"},{\"attributes\":{},\"id\":\"1174\",\"type\":\"ResetTool\"},{\"attributes\":{\"tools\":[{\"id\":\"1170\"},{\"id\":\"1171\"},{\"id\":\"1172\"},{\"id\":\"1173\"},{\"id\":\"1174\"},{\"id\":\"1175\"}]},\"id\":\"1177\",\"type\":\"Toolbar\"},{\"attributes\":{},\"id\":\"1163\",\"type\":\"BasicTicker\"},{\"attributes\":{\"fill_color\":{\"value\":\"#1f77b4\"},\"line_color\":{\"value\":\"#1f77b4\"},\"x\":{\"field\":\"Visits\"},\"y\":{\"field\":\"Durations\"}},\"id\":\"1186\",\"type\":\"Circle\"},{\"attributes\":{},\"id\":\"1173\",\"type\":\"SaveTool\"},{\"attributes\":{\"data\":{\"Durations\":{\"__ndarray__\":\"AAAAAAC0c0BmZmZmZoZUQIqd2ImdWHhAX/EVX/FVXUDuaYTlntZ4QAAAAAAAUGZAo4suuuiCZ0B5DeU1lDdsQGZZlmVZ1ltA3so+h9REcECrqqqqqmZSQIuv+IqvuF1AWEeb9ykuZkBswRZswZZTQC1kIQtZeIVAH4XrUbh+YUC1tLS0tLRMQGPJL5b84lFA4htRYNKpTUAs9zTCcs9LQGRwPgbnY1NAXonalagdUEDLli1btuxPQG/hV2MivUZAPvjggw/+TUAvob2E9qJ4QGlpaWlpmVFAF1100UXXQEBJkiRJkiROQAQNJ3VffmBARGqC8VaWYkCGYRiGYVhtQA==\",\"dtype\":\"float64\",\"order\":\"little\",\"shape\":[32]},\"Fly\":[11,12,13,14,15,16,17,18,19,20,21,28,29,30,31,32,33,42,43,44,45,46,47,48,49,50,51,52,58,59,60,61],\"ObjectsReinforced\":[\"Orange\",\"Orange\",\"Orange\",\"Orange\",\"Orange\",\"Orange\",\"Orange\",\"Orange\",\"Orange\",\"Orange\",\"Orange\",\"Blue\",\"Blue\",\"Blue\",\"Blue\",\"Blue\",\"Blue\",\"Blue\",\"Blue\",\"Blue\",\"Blue\",\"Blue\",\"Blue\",\"Blue\",\"Blue\",\"Blue\",\"Blue\",\"Blue\",\"Blue\",\"Blue\",\"Blue\",\"Blue\"],\"Training\":[\"Trained\",\"Trained\",\"Trained\",\"Trained\",\"Trained\",\"Trained\",\"Trained\",\"Trained\",\"Trained\",\"Trained\",\"Trained\",\"Trained\",\"Trained\",\"Trained\",\"Trained\",\"Trained\",\"Trained\",\"Trained\",\"Trained\",\"Trained\",\"Trained\",\"Trained\",\"Trained\",\"Trained\",\"Trained\",\"Trained\",\"Trained\",\"Trained\",\"Trained\",\"Trained\",\"Trained\",\"Trained\"],\"Visits\":{\"__ndarray__\":\"idqVqF1s0EAAAAAAAGOnQAAAAAAgS9RAAAAAAKDdzkAAAAAAAMfIQEmSJEny/tlAkhu5kduo00DNzMzMrKrcQF100UVXp9xAIiIiItKW2kA1TdM07aLYQDTWh8Z6fNNASpMmTdro20AAAAAAPEzVQAAAAAAwENRAAAAAAKB92ECU11Bew8XFQFFg0ql5RdpAchzHcRyj1UAZeLo1/x3UQKQmGG+FU9ZAI591g0mBzkD43BKnfkrWQGZmZmbmitRAObjZL4S11UAlSZIk+bTZQIiHh4cHStFAqFvzw6Is10CrqqqqatvUQPHw8PBw3tZAeQ3lNZR71kBiGIZhmFTVQA==\",\"dtype\":\"float64\",\"order\":\"little\",\"shape\":[32]},\"index\":[10,11,12,13,14,15,16,17,18,19,20,27,28,29,30,31,32,41,42,43,44,45,46,47,48,49,50,51,57,58,59,60]},\"selected\":{\"id\":\"1200\"},\"selection_policy\":{\"id\":\"1199\"}},\"id\":\"1184\",\"type\":\"ColumnDataSource\"},{\"attributes\":{},\"id\":\"1198\",\"type\":\"AllLabels\"},{\"attributes\":{\"axis_label\":\"Visits time\",\"axis_label_standoff\":10,\"axis_label_text_color\":\"#5B5B5B\",\"axis_label_text_font\":\"Calibri Light\",\"axis_label_text_font_size\":\"1.15em\",\"axis_label_text_font_style\":\"bold\",\"axis_line_alpha\":1,\"axis_line_color\":\"#5B5B5B\",\"coordinates\":null,\"formatter\":{\"id\":\"1197\"},\"group\":null,\"major_label_policy\":{\"id\":\"1198\"},\"major_label_text_color\":\"#5B5B5B\",\"major_label_text_font\":\"Calibri Light\",\"major_label_text_font_size\":\"0.95em\",\"major_label_text_font_style\":\"bold\",\"major_tick_in\":0,\"major_tick_line_alpha\":0.25,\"major_tick_line_color\":\"#5B5B5B\",\"major_tick_out\":3,\"minor_tick_line_alpha\":0.25,\"minor_tick_line_color\":\"#5B5B5B\",\"ticker\":{\"id\":\"1163\"}},\"id\":\"1162\",\"type\":\"LinearAxis\"},{\"attributes\":{\"fill_alpha\":{\"value\":0.2},\"fill_color\":{\"value\":\"#1f77b4\"},\"hatch_alpha\":{\"value\":0.2},\"line_alpha\":{\"value\":0.2},\"line_color\":{\"value\":\"#1f77b4\"},\"x\":{\"field\":\"Visits\"},\"y\":{\"field\":\"Durations\"}},\"id\":\"1188\",\"type\":\"Circle\"},{\"attributes\":{},\"id\":\"1222\",\"type\":\"Selection\"},{\"attributes\":{\"overlay\":{\"id\":\"1176\"}},\"id\":\"1172\",\"type\":\"BoxZoomTool\"},{\"attributes\":{},\"id\":\"1158\",\"type\":\"LinearScale\"}],\"root_ids\":[\"1153\"]},\"title\":\"Bokeh Application\",\"version\":\"2.4.3\"}};\n  const render_items = [{\"docid\":\"3849e3b1-b628-40de-bdc5-2e08dea1ccb1\",\"root_ids\":[\"1153\"],\"roots\":{\"1153\":\"2462777b-7e68-4b8b-a8a4-ca42f78c8ef6\"}}];\n  root.Bokeh.embed.embed_items_notebook(docs_json, render_items);\n  }\n  if (root.Bokeh !== undefined) {\n    embed_document(root);\n  } else {\n    let attempts = 0;\n    const timer = setInterval(function(root) {\n      if (root.Bokeh !== undefined) {\n        clearInterval(timer);\n        embed_document(root);\n      } else {\n        attempts++;\n        if (attempts > 100) {\n          clearInterval(timer);\n          console.log(\"Bokeh: ERROR: Unable to run BokehJS code because BokehJS library is missing\");\n        }\n      }\n    }, 10, root)\n  }\n})(window);",
      "application/vnd.bokehjs_exec.v0+json": ""
     },
     "metadata": {
      "application/vnd.bokehjs_exec.v0+json": {
       "id": "1153"
      }
     },
     "output_type": "display_data"
    }
   ],
   "source": [
    "# Create the figure, stored in variable `p`\n",
    "p = bokeh.plotting.figure(\n",
    "    frame_width=400,\n",
    "    frame_height=300,\n",
    "    x_axis_label='Visits time',\n",
    "    y_axis_label='Visits duration',\n",
    "    x_range=[0, 48000]\n",
    ")\n",
    "\n",
    "\n",
    "p.circle(\n",
    "    source= PunishedVisits[PunishedVisits['Training']== 'Trained'],\n",
    "    x='Visits',\n",
    "    y='Durations',\n",
    "    legend_label = 'Trained flies'\n",
    ")\n",
    "\n",
    "p.circle(\n",
    "    source=PunishedVisits[PunishedVisits['Training']== 'Ctrl'],\n",
    "    x='Visits',\n",
    "    y='Durations',\n",
    "    color = 'orange',\n",
    "    legend_label = 'Control flies'\n",
    ")\n",
    "\n",
    "bokeh.io.show(p)"
   ],
   "metadata": {
    "collapsed": false,
    "pycharm": {
     "name": "#%%\n"
    }
   }
  },
  {
   "cell_type": "code",
   "execution_count": 15,
   "outputs": [],
   "source": [
    "EmptyVisits = TimeMelted[TimeMelted['Condition'] == \"Empty Side\"]\n",
    "\n",
    "EmptyVisits.loc[EmptyVisits['Variable'].str.contains('Visits'), 'Variable'] = 'Visits'\n",
    "EmptyVisits.loc[EmptyVisits['Variable'].str.contains('Durations'), 'Variable'] = 'Durations'\n",
    "\n",
    "EmptyVisits = EmptyVisits.reset_index().pivot_table(index = ['Fly', 'Training', 'ObjectsReinforced'],\n",
    "                                          columns = 'Variable',\n",
    "                                          values = 'Values').reset_index()"
   ],
   "metadata": {
    "collapsed": false,
    "pycharm": {
     "name": "#%%\n"
    }
   }
  },
  {
   "cell_type": "code",
   "execution_count": 16,
   "outputs": [
    {
     "data": {
      "text/html": "\n  <div class=\"bk-root\" id=\"4594702c-af50-42ba-b611-288402673891\" data-root-id=\"1316\"></div>\n"
     },
     "metadata": {},
     "output_type": "display_data"
    },
    {
     "data": {
      "application/javascript": "(function(root) {\n  function embed_document(root) {\n  const docs_json = {\"3f207f20-170b-4629-85c8-061515041b6e\":{\"defs\":[],\"roots\":{\"references\":[{\"attributes\":{\"below\":[{\"id\":\"1325\"}],\"center\":[{\"id\":\"1328\"},{\"id\":\"1332\"},{\"id\":\"1365\"}],\"frame_height\":300,\"frame_width\":400,\"left\":[{\"id\":\"1329\"}],\"renderers\":[{\"id\":\"1352\"},{\"id\":\"1372\"}],\"title\":{\"id\":\"1354\"},\"toolbar\":{\"id\":\"1340\"},\"x_range\":{\"id\":\"1317\"},\"x_scale\":{\"id\":\"1321\"},\"y_range\":{\"id\":\"1319\"},\"y_scale\":{\"id\":\"1323\"}},\"id\":\"1316\",\"subtype\":\"Figure\",\"type\":\"Plot\"},{\"attributes\":{},\"id\":\"1360\",\"type\":\"BasicTickFormatter\"},{\"attributes\":{},\"id\":\"1323\",\"type\":\"LinearScale\"},{\"attributes\":{\"data\":{\"Durations\":{\"__ndarray__\":\"AAAAAADAUkB2Yid2Ysd0QFVVVVVVlVFA6aKLLrpAbUDkOI7jOA5fQAAAAAAAwFNAsskmm2yyW0Bu27Zt2zZ3QLrooosuUmJA6jsb9Z0NUEC/s1Hf2ShCQOxRuB6FC1RAAAAAAABQV0Ce2Imd2CllQAAAAAAAjoFAmpmZmZkVbECe53me55lnQAAAAAAA1kRAVVVVVVWVQkCSJEmSJAlfQLy7u7u7e1RAR27kRm5kRUAMXOACF3hYQDaU11BeY0xApshn3WCKR0D0PM/zPMd6QAgffPDBR05Av76+vr4+SkBCewntJYRpQMnIyMjICGdAzsfgfAwOWUAAAAAAAPpmQA==\",\"dtype\":\"float64\",\"order\":\"little\",\"shape\":[32]},\"Fly\":[11,12,13,14,15,16,17,18,19,20,21,28,29,30,31,32,33,42,43,44,45,46,47,48,49,50,51,52,58,59,60,61],\"ObjectsReinforced\":[\"Orange\",\"Orange\",\"Orange\",\"Orange\",\"Orange\",\"Orange\",\"Orange\",\"Orange\",\"Orange\",\"Orange\",\"Orange\",\"Blue\",\"Blue\",\"Blue\",\"Blue\",\"Blue\",\"Blue\",\"Blue\",\"Blue\",\"Blue\",\"Blue\",\"Blue\",\"Blue\",\"Blue\",\"Blue\",\"Blue\",\"Blue\",\"Blue\",\"Blue\",\"Blue\",\"Blue\",\"Blue\"],\"Training\":[\"Trained\",\"Trained\",\"Trained\",\"Trained\",\"Trained\",\"Trained\",\"Trained\",\"Trained\",\"Trained\",\"Trained\",\"Trained\",\"Trained\",\"Trained\",\"Trained\",\"Trained\",\"Trained\",\"Trained\",\"Trained\",\"Trained\",\"Trained\",\"Trained\",\"Trained\",\"Trained\",\"Trained\",\"Trained\",\"Trained\",\"Trained\",\"Trained\",\"Trained\",\"Trained\",\"Trained\",\"Trained\"],\"Visits\":{\"__ndarray__\":\"kiRJkqR/y0AAAAAArEDeQAAAAAAAOHdAT+zETmy2y0AAAAAAQJ7RQAAAAADwnuZAZHA+Bmfd10C3bdu2raDYQCd2YieGetpASZIkSbJj10CEEEIIIX/bQERqgvFWfNBADM7H4Pw010CO4ziO0yzSQKuqqqpq+tFAJUmSJMH11kBrrbXWWjfBQHV+7SHX4tpAg+cIFK3m2ECWfQ6pqdDQQGgvob0UdtZALnHq95zx0kCYx1YErTvZQEtLS0sLMNVA0P3czz3P0UC5I+6Iu1DYQHkN5TUkydRAwpolxufI1ED8CO4j+BbWQMprKK8hWdRA9aY3vakLz0AAAAAAnNvRQA==\",\"dtype\":\"float64\",\"order\":\"little\",\"shape\":[32]},\"index\":[10,11,12,13,14,15,16,17,18,19,20,27,28,29,30,31,32,41,42,43,44,45,46,47,48,49,50,51,57,58,59,60]},\"selected\":{\"id\":\"1363\"},\"selection_policy\":{\"id\":\"1362\"}},\"id\":\"1347\",\"type\":\"ColumnDataSource\"},{\"attributes\":{\"fill_alpha\":{\"value\":0.1},\"fill_color\":{\"value\":\"#1f77b4\"},\"hatch_alpha\":{\"value\":0.1},\"line_alpha\":{\"value\":0.1},\"line_color\":{\"value\":\"#1f77b4\"},\"x\":{\"field\":\"Visits\"},\"y\":{\"field\":\"Durations\"}},\"id\":\"1350\",\"type\":\"Circle\"},{\"attributes\":{\"coordinates\":null,\"data_source\":{\"id\":\"1367\"},\"glyph\":{\"id\":\"1369\"},\"group\":null,\"hover_glyph\":null,\"muted_glyph\":{\"id\":\"1371\"},\"nonselection_glyph\":{\"id\":\"1370\"},\"view\":{\"id\":\"1373\"}},\"id\":\"1372\",\"type\":\"GlyphRenderer\"},{\"attributes\":{\"source\":{\"id\":\"1367\"}},\"id\":\"1373\",\"type\":\"CDSView\"},{\"attributes\":{},\"id\":\"1321\",\"type\":\"LinearScale\"},{\"attributes\":{},\"id\":\"1363\",\"type\":\"Selection\"},{\"attributes\":{},\"id\":\"1326\",\"type\":\"BasicTicker\"},{\"attributes\":{\"data\":{\"Durations\":{\"__ndarray__\":\"VVVVVVUxdkBicgUxuYJsQIIgCIIgyFZA27Zt27YVjUC5I+6IO+JSQKuqqqqqamdA09LS0tLyXEApXI/C9VhrQG7btm3bvlBAVVVVVVWVSEDPRn1no35oQCVJkiRJen5Aq6qqqqqikUBkz0BUOrJhQOQ4juM4DktAEq2wOZCoU0Blk0022WRSQMln3WCKXFNAAAAAAABwRUDHcRzHcdxbQNmJndiJ3VZAlNdQXkOZQUDBXDsw145KQNmJndiJnUVAR/YMRKWjSkAdbd6nuGRaQPzAD/zAD1pAiYiIiIhYVUBeQ3kN5aVYQA==\",\"dtype\":\"float64\",\"order\":\"little\",\"shape\":[29]},\"Fly\":[1,2,3,4,5,6,7,8,9,10,22,23,24,25,26,27,34,35,36,37,38,39,40,41,53,54,55,56,57],\"ObjectsReinforced\":[\"Orange\",\"Orange\",\"Orange\",\"Orange\",\"Orange\",\"Orange\",\"Orange\",\"Orange\",\"Orange\",\"Orange\",\"Blue\",\"Blue\",\"Blue\",\"Blue\",\"Blue\",\"Blue\",\"Blue\",\"Blue\",\"Blue\",\"Blue\",\"Blue\",\"Blue\",\"Blue\",\"Blue\",\"Blue\",\"Blue\",\"Blue\",\"Blue\",\"Blue\"],\"Training\":[\"Ctrl\",\"Ctrl\",\"Ctrl\",\"Ctrl\",\"Ctrl\",\"Ctrl\",\"Ctrl\",\"Ctrl\",\"Ctrl\",\"Ctrl\",\"Ctrl\",\"Ctrl\",\"Ctrl\",\"Ctrl\",\"Ctrl\",\"Ctrl\",\"Ctrl\",\"Ctrl\",\"Ctrl\",\"Ctrl\",\"Ctrl\",\"Ctrl\",\"Ctrl\",\"Ctrl\",\"Ctrl\",\"Ctrl\",\"Ctrl\",\"Ctrl\",\"Ctrl\"],\"Visits\":{\"__ndarray__\":\"AAAAAIDNx0ApXI/C9ZbNQFVVVVW11tRAmpmZmZnR3UCrqqqqQsLHQHIcx3EcX71AAAAAAPDzzUAAAAAAlVPUQPHw8PBwFeFAAAAAAMDW1UBln0Nqgp/OQOzETuwki8lAVVVVVVXRxkC562eLVfLUQJ7YiZ0489dAq6qqqkx+2kBiGIZhiGrWQMJzBIr2BtdAZGpg79i91kCamZmZGbfYQNmJndiJmNVAdgu/GpMa2UClT/qkz9nOQJ7neZ7vbtNA3cF+qw1z10BVVVVVvWbcQA4cOHDgOtVAtPIT4my61kCrqqqqzlTWQA==\",\"dtype\":\"float64\",\"order\":\"little\",\"shape\":[29]},\"index\":[0,1,2,3,4,5,6,7,8,9,21,22,23,24,25,26,33,34,35,36,37,38,39,40,52,53,54,55,56]},\"selected\":{\"id\":\"1385\"},\"selection_policy\":{\"id\":\"1384\"}},\"id\":\"1367\",\"type\":\"ColumnDataSource\"},{\"attributes\":{\"axis_label\":\"Visits duration\",\"axis_label_standoff\":10,\"axis_label_text_color\":\"#5B5B5B\",\"axis_label_text_font\":\"Calibri Light\",\"axis_label_text_font_size\":\"1.15em\",\"axis_label_text_font_style\":\"bold\",\"axis_line_alpha\":1,\"axis_line_color\":\"#5B5B5B\",\"coordinates\":null,\"formatter\":{\"id\":\"1357\"},\"group\":null,\"major_label_policy\":{\"id\":\"1358\"},\"major_label_text_color\":\"#5B5B5B\",\"major_label_text_font\":\"Calibri Light\",\"major_label_text_font_size\":\"0.95em\",\"major_label_text_font_style\":\"bold\",\"major_tick_in\":0,\"major_tick_line_alpha\":0.25,\"major_tick_line_color\":\"#5B5B5B\",\"major_tick_out\":3,\"minor_tick_line_alpha\":0.25,\"minor_tick_line_color\":\"#5B5B5B\",\"ticker\":{\"id\":\"1330\"}},\"id\":\"1329\",\"type\":\"LinearAxis\"},{\"attributes\":{},\"id\":\"1337\",\"type\":\"ResetTool\"},{\"attributes\":{\"fill_color\":{\"value\":\"orange\"},\"hatch_color\":{\"value\":\"orange\"},\"line_color\":{\"value\":\"orange\"},\"x\":{\"field\":\"Visits\"},\"y\":{\"field\":\"Durations\"}},\"id\":\"1369\",\"type\":\"Circle\"},{\"attributes\":{\"end\":48000},\"id\":\"1317\",\"type\":\"Range1d\"},{\"attributes\":{},\"id\":\"1385\",\"type\":\"Selection\"},{\"attributes\":{\"fill_alpha\":{\"value\":0.2},\"fill_color\":{\"value\":\"orange\"},\"hatch_alpha\":{\"value\":0.2},\"hatch_color\":{\"value\":\"orange\"},\"line_alpha\":{\"value\":0.2},\"line_color\":{\"value\":\"orange\"},\"x\":{\"field\":\"Visits\"},\"y\":{\"field\":\"Durations\"}},\"id\":\"1371\",\"type\":\"Circle\"},{\"attributes\":{\"coordinates\":null,\"group\":null,\"text_color\":\"#5B5B5B\",\"text_font\":\"Calibri Light\",\"text_font_size\":\"1.25em\",\"text_font_style\":\"bold\"},\"id\":\"1354\",\"type\":\"Title\"},{\"attributes\":{},\"id\":\"1357\",\"type\":\"BasicTickFormatter\"},{\"attributes\":{\"overlay\":{\"id\":\"1339\"}},\"id\":\"1335\",\"type\":\"BoxZoomTool\"},{\"attributes\":{\"fill_color\":{\"value\":\"#1f77b4\"},\"line_color\":{\"value\":\"#1f77b4\"},\"x\":{\"field\":\"Visits\"},\"y\":{\"field\":\"Durations\"}},\"id\":\"1349\",\"type\":\"Circle\"},{\"attributes\":{},\"id\":\"1334\",\"type\":\"WheelZoomTool\"},{\"attributes\":{\"background_fill_alpha\":0.25,\"border_line_alpha\":0,\"coordinates\":null,\"glyph_width\":15,\"group\":null,\"items\":[{\"id\":\"1366\"},{\"id\":\"1387\"}],\"label_standoff\":8,\"label_text_color\":\"#5B5B5B\",\"label_text_font\":\"Calibri Light\",\"label_text_font_size\":\"0.95em\",\"label_text_font_style\":\"bold\",\"spacing\":8},\"id\":\"1365\",\"type\":\"Legend\"},{\"attributes\":{\"axis\":{\"id\":\"1325\"},\"coordinates\":null,\"group\":null,\"ticker\":null},\"id\":\"1328\",\"type\":\"Grid\"},{\"attributes\":{\"fill_alpha\":{\"value\":0.2},\"fill_color\":{\"value\":\"#1f77b4\"},\"hatch_alpha\":{\"value\":0.2},\"line_alpha\":{\"value\":0.2},\"line_color\":{\"value\":\"#1f77b4\"},\"x\":{\"field\":\"Visits\"},\"y\":{\"field\":\"Durations\"}},\"id\":\"1351\",\"type\":\"Circle\"},{\"attributes\":{},\"id\":\"1358\",\"type\":\"AllLabels\"},{\"attributes\":{\"bottom_units\":\"screen\",\"coordinates\":null,\"fill_alpha\":0.5,\"fill_color\":\"lightgrey\",\"group\":null,\"left_units\":\"screen\",\"level\":\"overlay\",\"line_alpha\":1.0,\"line_color\":\"black\",\"line_dash\":[4,4],\"line_width\":2,\"right_units\":\"screen\",\"syncable\":false,\"top_units\":\"screen\"},\"id\":\"1339\",\"type\":\"BoxAnnotation\"},{\"attributes\":{},\"id\":\"1338\",\"type\":\"HelpTool\"},{\"attributes\":{},\"id\":\"1362\",\"type\":\"UnionRenderers\"},{\"attributes\":{},\"id\":\"1333\",\"type\":\"PanTool\"},{\"attributes\":{\"coordinates\":null,\"data_source\":{\"id\":\"1347\"},\"glyph\":{\"id\":\"1349\"},\"group\":null,\"hover_glyph\":null,\"muted_glyph\":{\"id\":\"1351\"},\"nonselection_glyph\":{\"id\":\"1350\"},\"view\":{\"id\":\"1353\"}},\"id\":\"1352\",\"type\":\"GlyphRenderer\"},{\"attributes\":{\"axis_label\":\"Visits time\",\"axis_label_standoff\":10,\"axis_label_text_color\":\"#5B5B5B\",\"axis_label_text_font\":\"Calibri Light\",\"axis_label_text_font_size\":\"1.15em\",\"axis_label_text_font_style\":\"bold\",\"axis_line_alpha\":1,\"axis_line_color\":\"#5B5B5B\",\"coordinates\":null,\"formatter\":{\"id\":\"1360\"},\"group\":null,\"major_label_policy\":{\"id\":\"1361\"},\"major_label_text_color\":\"#5B5B5B\",\"major_label_text_font\":\"Calibri Light\",\"major_label_text_font_size\":\"0.95em\",\"major_label_text_font_style\":\"bold\",\"major_tick_in\":0,\"major_tick_line_alpha\":0.25,\"major_tick_line_color\":\"#5B5B5B\",\"major_tick_out\":3,\"minor_tick_line_alpha\":0.25,\"minor_tick_line_color\":\"#5B5B5B\",\"ticker\":{\"id\":\"1326\"}},\"id\":\"1325\",\"type\":\"LinearAxis\"},{\"attributes\":{},\"id\":\"1330\",\"type\":\"BasicTicker\"},{\"attributes\":{},\"id\":\"1361\",\"type\":\"AllLabels\"},{\"attributes\":{},\"id\":\"1319\",\"type\":\"DataRange1d\"},{\"attributes\":{},\"id\":\"1336\",\"type\":\"SaveTool\"},{\"attributes\":{\"axis\":{\"id\":\"1329\"},\"coordinates\":null,\"dimension\":1,\"group\":null,\"ticker\":null},\"id\":\"1332\",\"type\":\"Grid\"},{\"attributes\":{\"source\":{\"id\":\"1347\"}},\"id\":\"1353\",\"type\":\"CDSView\"},{\"attributes\":{},\"id\":\"1384\",\"type\":\"UnionRenderers\"},{\"attributes\":{\"fill_alpha\":{\"value\":0.1},\"fill_color\":{\"value\":\"orange\"},\"hatch_alpha\":{\"value\":0.1},\"hatch_color\":{\"value\":\"orange\"},\"line_alpha\":{\"value\":0.1},\"line_color\":{\"value\":\"orange\"},\"x\":{\"field\":\"Visits\"},\"y\":{\"field\":\"Durations\"}},\"id\":\"1370\",\"type\":\"Circle\"},{\"attributes\":{\"label\":{\"value\":\"Trained flies\"},\"renderers\":[{\"id\":\"1352\"}]},\"id\":\"1366\",\"type\":\"LegendItem\"},{\"attributes\":{\"label\":{\"value\":\"Control flies\"},\"renderers\":[{\"id\":\"1372\"}]},\"id\":\"1387\",\"type\":\"LegendItem\"},{\"attributes\":{\"tools\":[{\"id\":\"1333\"},{\"id\":\"1334\"},{\"id\":\"1335\"},{\"id\":\"1336\"},{\"id\":\"1337\"},{\"id\":\"1338\"}]},\"id\":\"1340\",\"type\":\"Toolbar\"}],\"root_ids\":[\"1316\"]},\"title\":\"Bokeh Application\",\"version\":\"2.4.3\"}};\n  const render_items = [{\"docid\":\"3f207f20-170b-4629-85c8-061515041b6e\",\"root_ids\":[\"1316\"],\"roots\":{\"1316\":\"4594702c-af50-42ba-b611-288402673891\"}}];\n  root.Bokeh.embed.embed_items_notebook(docs_json, render_items);\n  }\n  if (root.Bokeh !== undefined) {\n    embed_document(root);\n  } else {\n    let attempts = 0;\n    const timer = setInterval(function(root) {\n      if (root.Bokeh !== undefined) {\n        clearInterval(timer);\n        embed_document(root);\n      } else {\n        attempts++;\n        if (attempts > 100) {\n          clearInterval(timer);\n          console.log(\"Bokeh: ERROR: Unable to run BokehJS code because BokehJS library is missing\");\n        }\n      }\n    }, 10, root)\n  }\n})(window);",
      "application/vnd.bokehjs_exec.v0+json": ""
     },
     "metadata": {
      "application/vnd.bokehjs_exec.v0+json": {
       "id": "1316"
      }
     },
     "output_type": "display_data"
    }
   ],
   "source": [
    "# Create the figure, stored in variable `p`\n",
    "p = bokeh.plotting.figure(\n",
    "    frame_width=400,\n",
    "    frame_height=300,\n",
    "    x_axis_label='Visits time',\n",
    "    y_axis_label='Visits duration',\n",
    "    x_range=[0, 48000]\n",
    ")\n",
    "\n",
    "\n",
    "p.circle(\n",
    "    source= EmptyVisits[EmptyVisits['Training']== 'Trained'],\n",
    "    x='Visits',\n",
    "    y='Durations',\n",
    "    legend_label = 'Trained flies'\n",
    ")\n",
    "\n",
    "p.circle(\n",
    "    source=EmptyVisits[EmptyVisits['Training']== 'Ctrl'],\n",
    "    x='Visits',\n",
    "    y='Durations',\n",
    "    color = 'orange',\n",
    "    legend_label = 'Control flies'\n",
    ")\n",
    "\n",
    "bokeh.io.show(p)"
   ],
   "metadata": {
    "collapsed": false,
    "pycharm": {
     "name": "#%%\n"
    }
   }
  },
  {
   "cell_type": "code",
   "execution_count": 17,
   "metadata": {
    "collapsed": false,
    "jupyter": {
     "outputs_hidden": false
    },
    "pycharm": {
     "name": "#%%\n"
    }
   },
   "outputs": [
    {
     "data": {
      "text/html": "\n  <div class=\"bk-root\" id=\"54b6a136-74ae-4586-8a51-cea1e8a14d84\" data-root-id=\"1492\"></div>\n"
     },
     "metadata": {},
     "output_type": "display_data"
    },
    {
     "data": {
      "application/javascript": "(function(root) {\n  function embed_document(root) {\n  const docs_json = {\"1b23be01-274d-42e4-ace6-3bce6794ba5f\":{\"defs\":[],\"roots\":{\"references\":[{\"attributes\":{\"below\":[{\"id\":\"1501\"}],\"center\":[{\"id\":\"1504\"},{\"id\":\"1508\"},{\"id\":\"1541\"}],\"frame_height\":300,\"frame_width\":400,\"left\":[{\"id\":\"1505\"}],\"renderers\":[{\"id\":\"1528\"},{\"id\":\"1548\"}],\"title\":{\"id\":\"1530\"},\"toolbar\":{\"id\":\"1516\"},\"x_range\":{\"id\":\"1493\"},\"x_scale\":{\"id\":\"1497\"},\"y_range\":{\"id\":\"1495\"},\"y_scale\":{\"id\":\"1499\"}},\"id\":\"1492\",\"subtype\":\"Figure\",\"type\":\"Plot\"},{\"attributes\":{\"label\":{\"value\":\"Trained flies\"},\"renderers\":[{\"id\":\"1528\"}]},\"id\":\"1542\",\"type\":\"LegendItem\"},{\"attributes\":{},\"id\":\"1510\",\"type\":\"WheelZoomTool\"},{\"attributes\":{\"coordinates\":null,\"data_source\":{\"id\":\"1543\"},\"glyph\":{\"id\":\"1545\"},\"group\":null,\"hover_glyph\":null,\"muted_glyph\":{\"id\":\"1547\"},\"nonselection_glyph\":{\"id\":\"1546\"},\"view\":{\"id\":\"1549\"}},\"id\":\"1548\",\"type\":\"GlyphRenderer\"},{\"attributes\":{\"fill_color\":{\"value\":\"orange\"},\"hatch_color\":{\"value\":\"orange\"},\"line_color\":{\"value\":\"orange\"},\"x\":{\"field\":\"Visits Right Corner\"},\"y\":{\"field\":\"Durations Right Corner\"}},\"id\":\"1545\",\"type\":\"Circle\"},{\"attributes\":{},\"id\":\"1561\",\"type\":\"Selection\"},{\"attributes\":{\"fill_alpha\":{\"value\":0.1},\"fill_color\":{\"value\":\"#1f77b4\"},\"hatch_alpha\":{\"value\":0.1},\"line_alpha\":{\"value\":0.1},\"line_color\":{\"value\":\"#1f77b4\"},\"x\":{\"field\":\"Visits Right Corner\"},\"y\":{\"field\":\"Durations Right Corner\"}},\"id\":\"1526\",\"type\":\"Circle\"},{\"attributes\":{\"coordinates\":null,\"group\":null,\"text_color\":\"#5B5B5B\",\"text_font\":\"Calibri Light\",\"text_font_size\":\"1.25em\",\"text_font_style\":\"bold\"},\"id\":\"1530\",\"type\":\"Title\"},{\"attributes\":{\"label\":{\"value\":\"Control flies\"},\"renderers\":[{\"id\":\"1548\"}]},\"id\":\"1563\",\"type\":\"LegendItem\"},{\"attributes\":{\"fill_alpha\":{\"value\":0.2},\"fill_color\":{\"value\":\"orange\"},\"hatch_alpha\":{\"value\":0.2},\"hatch_color\":{\"value\":\"orange\"},\"line_alpha\":{\"value\":0.2},\"line_color\":{\"value\":\"orange\"},\"x\":{\"field\":\"Visits Right Corner\"},\"y\":{\"field\":\"Durations Right Corner\"}},\"id\":\"1547\",\"type\":\"Circle\"},{\"attributes\":{\"axis\":{\"id\":\"1501\"},\"coordinates\":null,\"group\":null,\"ticker\":null},\"id\":\"1504\",\"type\":\"Grid\"},{\"attributes\":{\"source\":{\"id\":\"1523\"}},\"id\":\"1529\",\"type\":\"CDSView\"},{\"attributes\":{\"coordinates\":null,\"data_source\":{\"id\":\"1523\"},\"glyph\":{\"id\":\"1525\"},\"group\":null,\"hover_glyph\":null,\"muted_glyph\":{\"id\":\"1527\"},\"nonselection_glyph\":{\"id\":\"1526\"},\"view\":{\"id\":\"1529\"}},\"id\":\"1528\",\"type\":\"GlyphRenderer\"},{\"attributes\":{\"fill_alpha\":{\"value\":0.1},\"fill_color\":{\"value\":\"orange\"},\"hatch_alpha\":{\"value\":0.1},\"hatch_color\":{\"value\":\"orange\"},\"line_alpha\":{\"value\":0.1},\"line_color\":{\"value\":\"orange\"},\"x\":{\"field\":\"Visits Right Corner\"},\"y\":{\"field\":\"Durations Right Corner\"}},\"id\":\"1546\",\"type\":\"Circle\"},{\"attributes\":{},\"id\":\"1514\",\"type\":\"HelpTool\"},{\"attributes\":{\"source\":{\"id\":\"1543\"}},\"id\":\"1549\",\"type\":\"CDSView\"},{\"attributes\":{\"overlay\":{\"id\":\"1515\"}},\"id\":\"1511\",\"type\":\"BoxZoomTool\"},{\"attributes\":{},\"id\":\"1533\",\"type\":\"BasicTickFormatter\"},{\"attributes\":{\"axis\":{\"id\":\"1505\"},\"coordinates\":null,\"dimension\":1,\"group\":null,\"ticker\":null},\"id\":\"1508\",\"type\":\"Grid\"},{\"attributes\":{\"bottom_units\":\"screen\",\"coordinates\":null,\"fill_alpha\":0.5,\"fill_color\":\"lightgrey\",\"group\":null,\"left_units\":\"screen\",\"level\":\"overlay\",\"line_alpha\":1.0,\"line_color\":\"black\",\"line_dash\":[4,4],\"line_width\":2,\"right_units\":\"screen\",\"syncable\":false,\"top_units\":\"screen\"},\"id\":\"1515\",\"type\":\"BoxAnnotation\"},{\"attributes\":{},\"id\":\"1512\",\"type\":\"SaveTool\"},{\"attributes\":{},\"id\":\"1534\",\"type\":\"AllLabels\"},{\"attributes\":{},\"id\":\"1536\",\"type\":\"BasicTickFormatter\"},{\"attributes\":{},\"id\":\"1497\",\"type\":\"LinearScale\"},{\"attributes\":{},\"id\":\"1495\",\"type\":\"DataRange1d\"},{\"attributes\":{\"axis_label\":\"Visits time\",\"axis_label_standoff\":10,\"axis_label_text_color\":\"#5B5B5B\",\"axis_label_text_font\":\"Calibri Light\",\"axis_label_text_font_size\":\"1.15em\",\"axis_label_text_font_style\":\"bold\",\"axis_line_alpha\":1,\"axis_line_color\":\"#5B5B5B\",\"coordinates\":null,\"formatter\":{\"id\":\"1536\"},\"group\":null,\"major_label_policy\":{\"id\":\"1537\"},\"major_label_text_color\":\"#5B5B5B\",\"major_label_text_font\":\"Calibri Light\",\"major_label_text_font_size\":\"0.95em\",\"major_label_text_font_style\":\"bold\",\"major_tick_in\":0,\"major_tick_line_alpha\":0.25,\"major_tick_line_color\":\"#5B5B5B\",\"major_tick_out\":3,\"minor_tick_line_alpha\":0.25,\"minor_tick_line_color\":\"#5B5B5B\",\"ticker\":{\"id\":\"1502\"}},\"id\":\"1501\",\"type\":\"LinearAxis\"},{\"attributes\":{\"tools\":[{\"id\":\"1509\"},{\"id\":\"1510\"},{\"id\":\"1511\"},{\"id\":\"1512\"},{\"id\":\"1513\"},{\"id\":\"1514\"}]},\"id\":\"1516\",\"type\":\"Toolbar\"},{\"attributes\":{},\"id\":\"1537\",\"type\":\"AllLabels\"},{\"attributes\":{},\"id\":\"1502\",\"type\":\"BasicTicker\"},{\"attributes\":{},\"id\":\"1509\",\"type\":\"PanTool\"},{\"attributes\":{\"data\":{\"Durations Right Corner\":{\"__ndarray__\":\"btu2bdu6kkDNzMzMzMxTQN1ginzWzVFAAAAAAABwfUAndmIndmJnQAAAAAAAsFZAOY7jOI6jU0B605ve9KZUQNFFF1100UhAAAAAAAAATECrqqqqqtJrQAAAAAAAAEBAAAAAAACIjEDkOI7jOM5JQOmTPumTvk5AoQ7qoA7qR0AAAAAAAIBEQM3MzMzMzDdA9DzP8zyPREAXXXTRRfdXQAAAAAAAAEBAlTVlTVlTSUBvetOb3nRCQG7btm3bNkVAYid2Yid2TkAAAAAAAABDQNu2bdu2bT9AchzHcRwHUECGLGQhC1lMQA==\",\"dtype\":\"float64\",\"order\":\"little\",\"shape\":[29]},\"Fly\":[1,2,3,4,5,6,7,8,9,10,22,23,24,25,26,27,34,35,36,37,38,39,40,41,53,54,55,56,57],\"Training\":[\"Ctrl\",\"Ctrl\",\"Ctrl\",\"Ctrl\",\"Ctrl\",\"Ctrl\",\"Ctrl\",\"Ctrl\",\"Ctrl\",\"Ctrl\",\"Ctrl\",\"Ctrl\",\"Ctrl\",\"Ctrl\",\"Ctrl\",\"Ctrl\",\"Ctrl\",\"Ctrl\",\"Ctrl\",\"Ctrl\",\"Ctrl\",\"Ctrl\",\"Ctrl\",\"Ctrl\",\"Ctrl\",\"Ctrl\",\"Ctrl\",\"Ctrl\",\"Ctrl\"],\"Visits Right Corner\":{\"__ndarray__\":\"btu2bVto1ED0PM/zPDnRQCZXEJOrRtNAAAAAAIDG4UBu27ZtG7DHQG7btm17A9BAZmZmZmZgt0B2Yid2onLZQJqZmZnZwuFAAAAAAEBm3ECrqqqqaojSQDMzMzMzD6lAAAAAAAB4ykAYhmEYpi/aQPcS2kuocdZA2FBeQ5lx3kBVVVVVtR7WQFPWlDUl5NlAJ3VfHpv11UDqTW96k93cQDMzMzMjYtVAR5v3Ka4Z1kAUO7ET+6vUQLuFX40JN9RASimllFID2UAzMzMz06TfQAAAAACkK9hAfcu3fMvB1UCrqqqqsjHZQA==\",\"dtype\":\"float64\",\"order\":\"little\",\"shape\":[29]},\"index\":[0,1,2,3,4,5,6,7,8,9,21,22,23,24,25,26,33,34,35,36,37,38,39,40,52,53,54,55,56]},\"selected\":{\"id\":\"1561\"},\"selection_policy\":{\"id\":\"1560\"}},\"id\":\"1543\",\"type\":\"ColumnDataSource\"},{\"attributes\":{},\"id\":\"1506\",\"type\":\"BasicTicker\"},{\"attributes\":{\"fill_color\":{\"value\":\"#1f77b4\"},\"line_color\":{\"value\":\"#1f77b4\"},\"x\":{\"field\":\"Visits Right Corner\"},\"y\":{\"field\":\"Durations Right Corner\"}},\"id\":\"1525\",\"type\":\"Circle\"},{\"attributes\":{\"axis_label\":\"Visits duration\",\"axis_label_standoff\":10,\"axis_label_text_color\":\"#5B5B5B\",\"axis_label_text_font\":\"Calibri Light\",\"axis_label_text_font_size\":\"1.15em\",\"axis_label_text_font_style\":\"bold\",\"axis_line_alpha\":1,\"axis_line_color\":\"#5B5B5B\",\"coordinates\":null,\"formatter\":{\"id\":\"1533\"},\"group\":null,\"major_label_policy\":{\"id\":\"1534\"},\"major_label_text_color\":\"#5B5B5B\",\"major_label_text_font\":\"Calibri Light\",\"major_label_text_font_size\":\"0.95em\",\"major_label_text_font_style\":\"bold\",\"major_tick_in\":0,\"major_tick_line_alpha\":0.25,\"major_tick_line_color\":\"#5B5B5B\",\"major_tick_out\":3,\"minor_tick_line_alpha\":0.25,\"minor_tick_line_color\":\"#5B5B5B\",\"ticker\":{\"id\":\"1506\"}},\"id\":\"1505\",\"type\":\"LinearAxis\"},{\"attributes\":{\"background_fill_alpha\":0.25,\"border_line_alpha\":0,\"coordinates\":null,\"glyph_width\":15,\"group\":null,\"items\":[{\"id\":\"1542\"},{\"id\":\"1563\"}],\"label_standoff\":8,\"label_text_color\":\"#5B5B5B\",\"label_text_font\":\"Calibri Light\",\"label_text_font_size\":\"0.95em\",\"label_text_font_style\":\"bold\",\"spacing\":8},\"id\":\"1541\",\"type\":\"Legend\"},{\"attributes\":{\"fill_alpha\":{\"value\":0.2},\"fill_color\":{\"value\":\"#1f77b4\"},\"hatch_alpha\":{\"value\":0.2},\"line_alpha\":{\"value\":0.2},\"line_color\":{\"value\":\"#1f77b4\"},\"x\":{\"field\":\"Visits Right Corner\"},\"y\":{\"field\":\"Durations Right Corner\"}},\"id\":\"1527\",\"type\":\"Circle\"},{\"attributes\":{\"data\":{\"Durations Right Corner\":{\"__ndarray__\":\"ZmZmZmZOckAAAAAAAEBWQDMzMzMzE2pAq6qqqqoqR0B3d3d3dzdjQFVVVVVV5WFAYid2YifWakDkOI7jOE5wQAAAAAAAQFNAT+zETuy0Y0CdgpdT8HJUQAAAAAAA8FxAtJfQXkI7YUDDMAzDMAxSQAAAAAAAqHhAq6qqqqoqV0AAAAAAAABGQFVVVVVV1UpAWHzFV3xFSkCSJEmSJElGQHaDKfJZN0xADMMwDMOwWkAAAAAAAABMQKWUUkopJUZAYid2Yie2SkCamZmZmZlEQNFeQnsJ7UxALS0tLS0tPEBiJ3ZiJ3ZaQD0K16NwPVBAFK5H4XoUXECO4ziO4xhjQA==\",\"dtype\":\"float64\",\"order\":\"little\",\"shape\":[32]},\"Fly\":[11,12,13,14,15,16,17,18,19,20,21,28,29,30,31,32,33,42,43,44,45,46,47,48,49,50,51,52,58,59,60,61],\"Training\":[\"Trained\",\"Trained\",\"Trained\",\"Trained\",\"Trained\",\"Trained\",\"Trained\",\"Trained\",\"Trained\",\"Trained\",\"Trained\",\"Trained\",\"Trained\",\"Trained\",\"Trained\",\"Trained\",\"Trained\",\"Trained\",\"Trained\",\"Trained\",\"Trained\",\"Trained\",\"Trained\",\"Trained\",\"Trained\",\"Trained\",\"Trained\",\"Trained\",\"Trained\",\"Trained\",\"Trained\",\"Trained\"],\"Visits Right Corner\":{\"__ndarray__\":\"AAAAAHDb0ECSJEmSJD+qQAAAAACArc1AC1nIQhb4zUDHcRzHsf7GQAAAAADgWttAvvfeey8400CO4ziO4xDcQNRBHdQBct1AJUmSJElf3EAW01lMZ5HYQGZmZmbGWNNAdNFFF50k20AMwzAMQznUQEYXXXTRUNVAOY7jOA7C3kAAAAAA8IPIQEYXXXSR2tpAkYUsZEHg1kBaWlpa+rvTQBCN9aExdNdA9zTCcs/31UBkcD4GZ/TVQPMt3/Kth9RASZIkSbJ610AzMzMzs3XeQJeWlpZ2EtVAjuM4jmMe10CxEzuxE3rYQMs9jbCcrtVAE9pLaC/U1kB00UUXnavZQA==\",\"dtype\":\"float64\",\"order\":\"little\",\"shape\":[32]},\"index\":[10,11,12,13,14,15,16,17,18,19,20,27,28,29,30,31,32,41,42,43,44,45,46,47,48,49,50,51,57,58,59,60]},\"selected\":{\"id\":\"1539\"},\"selection_policy\":{\"id\":\"1538\"}},\"id\":\"1523\",\"type\":\"ColumnDataSource\"},{\"attributes\":{},\"id\":\"1560\",\"type\":\"UnionRenderers\"},{\"attributes\":{},\"id\":\"1493\",\"type\":\"DataRange1d\"},{\"attributes\":{},\"id\":\"1499\",\"type\":\"LinearScale\"},{\"attributes\":{},\"id\":\"1513\",\"type\":\"ResetTool\"},{\"attributes\":{},\"id\":\"1538\",\"type\":\"UnionRenderers\"},{\"attributes\":{},\"id\":\"1539\",\"type\":\"Selection\"}],\"root_ids\":[\"1492\"]},\"title\":\"Bokeh Application\",\"version\":\"2.4.3\"}};\n  const render_items = [{\"docid\":\"1b23be01-274d-42e4-ace6-3bce6794ba5f\",\"root_ids\":[\"1492\"],\"roots\":{\"1492\":\"54b6a136-74ae-4586-8a51-cea1e8a14d84\"}}];\n  root.Bokeh.embed.embed_items_notebook(docs_json, render_items);\n  }\n  if (root.Bokeh !== undefined) {\n    embed_document(root);\n  } else {\n    let attempts = 0;\n    const timer = setInterval(function(root) {\n      if (root.Bokeh !== undefined) {\n        clearInterval(timer);\n        embed_document(root);\n      } else {\n        attempts++;\n        if (attempts > 100) {\n          clearInterval(timer);\n          console.log(\"Bokeh: ERROR: Unable to run BokehJS code because BokehJS library is missing\");\n        }\n      }\n    }, 10, root)\n  }\n})(window);",
      "application/vnd.bokehjs_exec.v0+json": ""
     },
     "metadata": {
      "application/vnd.bokehjs_exec.v0+json": {
       "id": "1492"
      }
     },
     "output_type": "display_data"
    }
   ],
   "source": [
    "RightCornerVisits = TimeMelted[TimeMelted['Variable'].isin(['Visits Right Corner', 'Durations Right Corner'])].reset_index().pivot_table(index = ['Fly', 'Training'], columns = 'Variable', values = 'Values').reset_index()\n",
    "\n",
    "# Create the figure, stored in variable `p`\n",
    "p = bokeh.plotting.figure(\n",
    "    frame_width=400,\n",
    "    frame_height=300,\n",
    "    x_axis_label='Visits time',\n",
    "    y_axis_label='Visits duration'\n",
    ")\n",
    "\n",
    "\n",
    "p.circle(\n",
    "    source= RightCornerVisits[RightCornerVisits['Training']== 'Trained'],\n",
    "    x='Visits Right Corner',\n",
    "    y='Durations Right Corner',\n",
    "    legend_label = 'Trained flies'\n",
    ")\n",
    "\n",
    "p.circle(\n",
    "    source=RightCornerVisits[RightCornerVisits['Training']== 'Ctrl'],\n",
    "    x='Visits Right Corner',\n",
    "    y='Durations Right Corner',\n",
    "    color = 'orange',\n",
    "    legend_label = 'Control flies'\n",
    ")\n",
    "\n",
    "bokeh.io.show(p)"
   ]
  },
  {
   "cell_type": "markdown",
   "source": [
    "Bokeh boxplots"
   ],
   "metadata": {
    "collapsed": false,
    "pycharm": {
     "name": "#%% md\n"
    }
   }
  },
  {
   "cell_type": "code",
   "execution_count": 19,
   "outputs": [
    {
     "data": {
      "text/html": "\n  <div class=\"bk-root\" id=\"9c65a649-dd18-4f40-9969-ac7e489c3ef1\" data-root-id=\"1148\"></div>\n"
     },
     "metadata": {},
     "output_type": "display_data"
    },
    {
     "data": {
      "application/javascript": "(function(root) {\n  function embed_document(root) {\n  const docs_json = {\"ebea75ac-dadd-4e33-9d9e-35b8921c83a6\":{\"defs\":[],\"roots\":{\"references\":[{\"attributes\":{\"below\":[{\"id\":\"1156\"}],\"center\":[{\"id\":\"1159\"},{\"id\":\"1162\"}],\"frame_height\":275,\"frame_width\":375,\"left\":[{\"id\":\"1160\"}],\"renderers\":[{\"id\":\"1186\"},{\"id\":\"1192\"},{\"id\":\"1198\"},{\"id\":\"1204\"},{\"id\":\"1210\"},{\"id\":\"1216\"},{\"id\":\"1225\"}],\"title\":{\"id\":\"1240\"},\"toolbar\":{\"id\":\"1170\"},\"toolbar_location\":\"above\",\"x_range\":{\"id\":\"1149\"},\"x_scale\":{\"id\":\"1152\"},\"y_range\":{\"id\":\"1147\"},\"y_scale\":{\"id\":\"1154\"}},\"id\":\"1148\",\"subtype\":\"Figure\",\"type\":\"Plot\"},{\"attributes\":{\"factors\":[\"Trained\",\"Ctrl\"]},\"id\":\"1147\",\"type\":\"FactorRange\"},{\"attributes\":{},\"id\":\"1157\",\"type\":\"BasicTicker\"},{\"attributes\":{\"line_alpha\":{\"value\":0.1},\"line_color\":{\"value\":\"gray\"},\"x0\":{\"field\":\"bottom\"},\"x1\":{\"field\":\"bottom_whisker\"},\"y0\":{\"field\":\"cat\"},\"y1\":{\"field\":\"cat\"}},\"id\":\"1190\",\"type\":\"Segment\"},{\"attributes\":{},\"id\":\"1249\",\"type\":\"Selection\"},{\"attributes\":{\"coordinates\":null,\"data_source\":{\"id\":\"1177\"},\"glyph\":{\"id\":\"1201\"},\"group\":null,\"hover_glyph\":null,\"muted_glyph\":{\"id\":\"1203\"},\"nonselection_glyph\":{\"id\":\"1202\"},\"view\":{\"id\":\"1205\"}},\"id\":\"1204\",\"type\":\"GlyphRenderer\"},{\"attributes\":{\"fill_color\":{\"value\":\"#1f77b4\"},\"height\":{\"value\":0.1},\"left\":{\"field\":\"bottom_whisker\"},\"line_color\":{\"value\":\"gray\"},\"right\":{\"field\":\"bottom_whisker\"},\"y\":{\"field\":\"cat\"}},\"id\":\"1201\",\"type\":\"HBar\"},{\"attributes\":{\"coordinates\":null,\"data_source\":{\"id\":\"1177\"},\"glyph\":{\"id\":\"1183\"},\"group\":null,\"hover_glyph\":null,\"muted_glyph\":{\"id\":\"1185\"},\"nonselection_glyph\":{\"id\":\"1184\"},\"view\":{\"id\":\"1187\"}},\"id\":\"1186\",\"type\":\"GlyphRenderer\"},{\"attributes\":{\"line_color\":{\"value\":\"gray\"},\"x0\":{\"field\":\"bottom\"},\"x1\":{\"field\":\"bottom_whisker\"},\"y0\":{\"field\":\"cat\"},\"y1\":{\"field\":\"cat\"}},\"id\":\"1189\",\"type\":\"Segment\"},{\"attributes\":{\"source\":{\"id\":\"1220\"}},\"id\":\"1226\",\"type\":\"CDSView\"},{\"attributes\":{\"fill_alpha\":{\"value\":0.1},\"fill_color\":{\"field\":\"cat\",\"transform\":{\"id\":\"1181\"}},\"hatch_alpha\":{\"value\":0.1},\"height\":{\"value\":0.4},\"left\":{\"field\":\"bottom\"},\"line_alpha\":{\"value\":0.1},\"line_color\":{\"value\":\"gray\"},\"right\":{\"field\":\"top\"},\"y\":{\"field\":\"cat\"}},\"id\":\"1208\",\"type\":\"HBar\"},{\"attributes\":{\"data\":{\"__label\":[\"Ctrl\",\"Trained\"],\"bottom\":[0.0,0.0],\"bottom_whisker\":[0.0,0.0],\"cat\":[\"Ctrl\",\"Trained\"],\"middle\":[1.0,1.0],\"top\":[2.0,3.0],\"top_whisker\":[4.0,7.0]},\"selected\":{\"id\":\"1249\"},\"selection_policy\":{\"id\":\"1248\"}},\"id\":\"1177\",\"type\":\"ColumnDataSource\"},{\"attributes\":{},\"id\":\"1163\",\"type\":\"PanTool\"},{\"attributes\":{},\"id\":\"1164\",\"type\":\"WheelZoomTool\"},{\"attributes\":{\"source\":{\"id\":\"1177\"}},\"id\":\"1199\",\"type\":\"CDSView\"},{\"attributes\":{\"factors\":[\"Ctrl\",\"Trained\"],\"palette\":[\"#1f77b3\",\"#ff7e0e\",\"#2ba02b\",\"#d62628\",\"#9367bc\",\"#8c564b\",\"#e277c1\",\"#7e7e7e\",\"#bcbc21\",\"#16bdcf\",\"#3a0182\",\"#004201\",\"#0fffa8\",\"#5d003f\",\"#bcbcff\",\"#d8afa1\",\"#b80080\",\"#004d52\",\"#6b6400\",\"#7c0100\",\"#6026ff\",\"#ffff9a\",\"#564964\",\"#8cb893\",\"#93fbff\",\"#018267\",\"#90ff00\",\"#8200a0\",\"#ac8944\",\"#5b3400\",\"#ffbff2\",\"#ff6e75\",\"#798cff\",\"#dd00ff\",\"#505646\",\"#004489\",\"#ffbf60\",\"#ff018c\",\"#bdc8cf\",\"#af97b5\",\"#b65600\",\"#017000\",\"#cd87ff\",\"#1cd646\",\"#bfebc3\",\"#7997b5\",\"#a56089\",\"#6e8956\",\"#bc7c75\",\"#8a2844\",\"#00acff\",\"#8ed4ff\",\"#4b6d77\",\"#00d4b1\",\"#9300f2\",\"#8a9500\",\"#5d5b9e\",\"#fddfba\",\"#00939e\",\"#ffdb00\",\"#00aa79\",\"#520067\",\"#000091\",\"#0a5d3d\",\"#a5e275\",\"#623b41\",\"#c6c689\",\"#ff9eb5\",\"#cd4f6b\",\"#ff07d6\",\"#8a3a05\",\"#7e3d70\",\"#ff4901\",\"#602ba5\",\"#1c00ff\",\"#e6dfff\",\"#aa3baf\",\"#d89c00\",\"#a3a39e\",\"#3f69ff\",\"#46490c\",\"#7b6985\",\"#6b978c\",\"#ff9a75\",\"#835bff\",\"#7c6b46\",\"#80b654\",\"#bc0049\",\"#fd93ff\",\"#5d0018\",\"#89d1d1\",\"#9c8cd3\",\"#da6d42\",\"#8a5700\",\"#3b5069\",\"#4b6b3b\",\"#edcfd8\",\"#cfedff\",\"#aa1500\",\"#dfff4f\",\"#ff2a56\",\"#d1499e\",\"#707cb8\",\"#598000\",\"#00e4fd\",\"#774b95\",\"#67d48c\",\"#3d3a72\",\"#ac413f\",\"#d6a166\",\"#c169cd\",\"#69595d\",\"#87aced\",\"#a0a569\",\"#d1aae6\",\"#870062\",\"#00fddb\",\"#672818\",\"#b342ff\",\"#0e59c4\",\"#168742\",\"#90d300\",\"#cd7900\",\"#f959ff\",\"#5b7466\",\"#8eaeb3\",\"#9c7c8c\",\"#4600c6\",\"#6b4d2d\",\"#a56d46\",\"#9e8972\",\"#a8afca\",\"#cd8ca7\",\"#00fd64\",\"#917900\",\"#ff62a1\",\"#f4ffd8\",\"#018cf0\",\"#13aca0\",\"#5b2d59\",\"#89859e\",\"#cfccba\",\"#d4afc4\",\"#dbdd6d\",\"#cffff4\",\"#006485\",\"#006962\",\"#a84167\",\"#2d97c4\",\"#a874ff\",\"#26ba5d\",\"#57b600\",\"#caffa7\",\"#a379aa\",\"#ffbc93\",\"#89e2c1\",\"#0fc8ff\",\"#d400c4\",\"#626d89\",\"#69858e\",\"#4b4d52\",\"#aa6067\",\"#79b5d4\",\"#2b5916\",\"#9a0024\",\"#bdd1f2\",\"#896e67\",\"#69a56b\",\"#855467\",\"#aecdba\",\"#87997e\",\"#cadb00\",\"#9a0390\",\"#ebbc1a\",\"#eb9cd1\",\"#70006e\",\"#b1a131\",\"#ca6b93\",\"#4146a3\",\"#e48c89\",\"#d44400\",\"#c68aca\",\"#b69597\",\"#d41f75\",\"#724bcc\",\"#674d00\",\"#672138\",\"#38564f\",\"#6ebaaa\",\"#853a31\",\"#a5d397\",\"#b8af8e\",\"#d8e4df\",\"#aa00df\",\"#cac1db\",\"#ffdf8c\",\"#e2524d\",\"#66696e\",\"#ff001c\",\"#522d72\",\"#4d906b\",\"#a86d11\",\"#ff9e26\",\"#5ea3af\",\"#c88556\",\"#915997\",\"#a3a1ff\",\"#fdbaba\",\"#242a87\",\"#dbe6a8\",\"#97f2a7\",\"#6793d6\",\"#ba5b3f\",\"#3a5d91\",\"#364f2f\",\"#267c95\",\"#89959a\",\"#cfb356\",\"#004664\",\"#5e5d2f\",\"#8e8e41\",\"#ac3f13\",\"#69953b\",\"#a13d85\",\"#bfb6ba\",\"#acc667\",\"#6469cf\",\"#91af00\",\"#2be2da\",\"#016e36\",\"#ff7952\",\"#42807e\",\"#4fe800\",\"#995428\",\"#5d0a00\",\"#a30057\",\"#0c8700\",\"#5982a7\",\"#ffebfb\",\"#4b6901\",\"#8775d4\",\"#e6c6ff\",\"#a5ffda\",\"#d86e77\",\"#df014b\",\"#69675b\",\"#776ba1\",\"#7e8067\",\"#594685\",\"#0000ca\",\"#7c002a\",\"#97ff72\",\"#b5e2e1\",\"#db52c8\",\"#777734\",\"#57bd8e\"]},\"id\":\"1181\",\"type\":\"CategoricalColorMapper\"},{\"attributes\":{},\"id\":\"1243\",\"type\":\"CategoricalTickFormatter\"},{\"attributes\":{\"fill_alpha\":{\"value\":0.2},\"fill_color\":{\"value\":\"#1f77b4\"},\"hatch_alpha\":{\"value\":0.2},\"height\":{\"value\":0.4},\"left\":{\"field\":\"middle\"},\"line_alpha\":{\"value\":0.2},\"line_color\":{\"value\":\"gray\"},\"right\":{\"field\":\"middle\"},\"y\":{\"field\":\"cat\"}},\"id\":\"1215\",\"type\":\"HBar\"},{\"attributes\":{\"source\":{\"id\":\"1177\"}},\"id\":\"1193\",\"type\":\"CDSView\"},{\"attributes\":{\"fill_color\":{\"value\":\"#1f77b4\"},\"height\":{\"value\":0.4},\"left\":{\"field\":\"middle\"},\"line_color\":{\"value\":\"gray\"},\"right\":{\"field\":\"middle\"},\"y\":{\"field\":\"cat\"}},\"id\":\"1213\",\"type\":\"HBar\"},{\"attributes\":{\"coordinates\":null,\"data_source\":{\"id\":\"1177\"},\"glyph\":{\"id\":\"1207\"},\"group\":null,\"hover_glyph\":null,\"muted_glyph\":{\"id\":\"1209\"},\"nonselection_glyph\":{\"id\":\"1208\"},\"view\":{\"id\":\"1211\"}},\"id\":\"1210\",\"type\":\"GlyphRenderer\"},{\"attributes\":{\"source\":{\"id\":\"1177\"}},\"id\":\"1187\",\"type\":\"CDSView\"},{\"attributes\":{\"coordinates\":null,\"group\":null,\"text_color\":\"#5B5B5B\",\"text_font\":\"Calibri Light\",\"text_font_size\":\"1.25em\",\"text_font_style\":\"bold\"},\"id\":\"1240\",\"type\":\"Title\"},{\"attributes\":{\"data\":{\"Count\":[0,0,0,1,1,0,10,2,4,5,1,1,11,2,1,1,2,1,0,1,7,0,3,3,0,0,3,0,4,0,1,1,0,3,1,4,2,3,2,1,4,1,0,1,7,4,4,8,3,0,1,1,0,0,1,1,0,1,0,1,1,0,0,4,3,2,1,1,0,2,0,1,0,0,1,1,0,0,3,1,0,0,1,1,0,2,0,1,1,2,1,0,0,2,0,0,2,3,1,0,4,1,1,0,0,1,6,2,3,1,0,2,1,3],\"Training\":[\"Ctrl\",\"Ctrl\",\"Ctrl\",\"Ctrl\",\"Ctrl\",\"Trained\",\"Trained\",\"Trained\",\"Trained\",\"Trained\",\"Trained\",\"Ctrl\",\"Ctrl\",\"Ctrl\",\"Ctrl\",\"Ctrl\",\"Ctrl\",\"Ctrl\",\"Ctrl\",\"Ctrl\",\"Ctrl\",\"Ctrl\",\"Trained\",\"Trained\",\"Trained\",\"Trained\",\"Trained\",\"Trained\",\"Trained\",\"Trained\",\"Trained\",\"Trained\",\"Trained\",\"Ctrl\",\"Ctrl\",\"Ctrl\",\"Ctrl\",\"Ctrl\",\"Ctrl\",\"Ctrl\",\"Ctrl\",\"Ctrl\",\"Ctrl\",\"Trained\",\"Trained\",\"Trained\",\"Trained\",\"Trained\",\"Trained\",\"Ctrl\",\"Ctrl\",\"Ctrl\",\"Ctrl\",\"Ctrl\",\"Ctrl\",\"Ctrl\",\"Ctrl\",\"Ctrl\",\"Ctrl\",\"Ctrl\",\"Trained\",\"Trained\",\"Trained\",\"Trained\",\"Trained\",\"Trained\",\"Trained\",\"Trained\",\"Trained\",\"Trained\",\"Trained\",\"Ctrl\",\"Ctrl\",\"Ctrl\",\"Ctrl\",\"Ctrl\",\"Ctrl\",\"Ctrl\",\"Ctrl\",\"Ctrl\",\"Ctrl\",\"Trained\",\"Trained\",\"Trained\",\"Trained\",\"Trained\",\"Trained\",\"Ctrl\",\"Ctrl\",\"Ctrl\",\"Ctrl\",\"Ctrl\",\"Ctrl\",\"Ctrl\",\"Ctrl\",\"Ctrl\",\"Ctrl\",\"Ctrl\",\"Trained\",\"Trained\",\"Trained\",\"Trained\",\"Trained\",\"Trained\",\"Trained\",\"Trained\",\"Trained\",\"Trained\",\"Trained\",\"Ctrl\",\"Ctrl\",\"Ctrl\",\"Ctrl\",\"Ctrl\"],\"__label\":[\"Ctrl\",\"Ctrl\",\"Ctrl\",\"Ctrl\",\"Ctrl\",\"Trained\",\"Trained\",\"Trained\",\"Trained\",\"Trained\",\"Trained\",\"Ctrl\",\"Ctrl\",\"Ctrl\",\"Ctrl\",\"Ctrl\",\"Ctrl\",\"Ctrl\",\"Ctrl\",\"Ctrl\",\"Ctrl\",\"Ctrl\",\"Trained\",\"Trained\",\"Trained\",\"Trained\",\"Trained\",\"Trained\",\"Trained\",\"Trained\",\"Trained\",\"Trained\",\"Trained\",\"Ctrl\",\"Ctrl\",\"Ctrl\",\"Ctrl\",\"Ctrl\",\"Ctrl\",\"Ctrl\",\"Ctrl\",\"Ctrl\",\"Ctrl\",\"Trained\",\"Trained\",\"Trained\",\"Trained\",\"Trained\",\"Trained\",\"Ctrl\",\"Ctrl\",\"Ctrl\",\"Ctrl\",\"Ctrl\",\"Ctrl\",\"Ctrl\",\"Ctrl\",\"Ctrl\",\"Ctrl\",\"Ctrl\",\"Trained\",\"Trained\",\"Trained\",\"Trained\",\"Trained\",\"Trained\",\"Trained\",\"Trained\",\"Trained\",\"Trained\",\"Trained\",\"Ctrl\",\"Ctrl\",\"Ctrl\",\"Ctrl\",\"Ctrl\",\"Ctrl\",\"Ctrl\",\"Ctrl\",\"Ctrl\",\"Ctrl\",\"Trained\",\"Trained\",\"Trained\",\"Trained\",\"Trained\",\"Trained\",\"Ctrl\",\"Ctrl\",\"Ctrl\",\"Ctrl\",\"Ctrl\",\"Ctrl\",\"Ctrl\",\"Ctrl\",\"Ctrl\",\"Ctrl\",\"Ctrl\",\"Trained\",\"Trained\",\"Trained\",\"Trained\",\"Trained\",\"Trained\",\"Trained\",\"Trained\",\"Trained\",\"Trained\",\"Trained\",\"Ctrl\",\"Ctrl\",\"Ctrl\",\"Ctrl\",\"Ctrl\"],\"cat\":[\"Ctrl\",\"Ctrl\",\"Ctrl\",\"Ctrl\",\"Ctrl\",\"Trained\",\"Trained\",\"Trained\",\"Trained\",\"Trained\",\"Trained\",\"Ctrl\",\"Ctrl\",\"Ctrl\",\"Ctrl\",\"Ctrl\",\"Ctrl\",\"Ctrl\",\"Ctrl\",\"Ctrl\",\"Ctrl\",\"Ctrl\",\"Trained\",\"Trained\",\"Trained\",\"Trained\",\"Trained\",\"Trained\",\"Trained\",\"Trained\",\"Trained\",\"Trained\",\"Trained\",\"Ctrl\",\"Ctrl\",\"Ctrl\",\"Ctrl\",\"Ctrl\",\"Ctrl\",\"Ctrl\",\"Ctrl\",\"Ctrl\",\"Ctrl\",\"Trained\",\"Trained\",\"Trained\",\"Trained\",\"Trained\",\"Trained\",\"Ctrl\",\"Ctrl\",\"Ctrl\",\"Ctrl\",\"Ctrl\",\"Ctrl\",\"Ctrl\",\"Ctrl\",\"Ctrl\",\"Ctrl\",\"Ctrl\",\"Trained\",\"Trained\",\"Trained\",\"Trained\",\"Trained\",\"Trained\",\"Trained\",\"Trained\",\"Trained\",\"Trained\",\"Trained\",\"Ctrl\",\"Ctrl\",\"Ctrl\",\"Ctrl\",\"Ctrl\",\"Ctrl\",\"Ctrl\",\"Ctrl\",\"Ctrl\",\"Ctrl\",\"Trained\",\"Trained\",\"Trained\",\"Trained\",\"Trained\",\"Trained\",\"Ctrl\",\"Ctrl\",\"Ctrl\",\"Ctrl\",\"Ctrl\",\"Ctrl\",\"Ctrl\",\"Ctrl\",\"Ctrl\",\"Ctrl\",\"Ctrl\",\"Trained\",\"Trained\",\"Trained\",\"Trained\",\"Trained\",\"Trained\",\"Trained\",\"Trained\",\"Trained\",\"Trained\",\"Trained\",\"Ctrl\",\"Ctrl\",\"Ctrl\",\"Ctrl\",\"Ctrl\"]},\"selected\":{\"id\":\"1251\"},\"selection_policy\":{\"id\":\"1250\"}},\"id\":\"1220\",\"type\":\"ColumnDataSource\"},{\"attributes\":{},\"id\":\"1149\",\"type\":\"DataRange1d\"},{\"attributes\":{\"fill_color\":{\"field\":\"cat\",\"transform\":{\"id\":\"1219\"}},\"hatch_color\":{\"field\":\"cat\",\"transform\":{\"id\":\"1219\"}},\"line_color\":{\"field\":\"cat\",\"transform\":{\"id\":\"1219\"}},\"x\":{\"field\":\"Count\"},\"y\":{\"field\":\"cat\"}},\"id\":\"1222\",\"type\":\"Circle\"},{\"attributes\":{},\"id\":\"1166\",\"type\":\"SaveTool\"},{\"attributes\":{\"overlay\":{\"id\":\"1169\"}},\"id\":\"1165\",\"type\":\"BoxZoomTool\"},{\"attributes\":{\"bottom_units\":\"screen\",\"coordinates\":null,\"fill_alpha\":0.5,\"fill_color\":\"lightgrey\",\"group\":null,\"left_units\":\"screen\",\"level\":\"overlay\",\"line_alpha\":1.0,\"line_color\":\"black\",\"line_dash\":[4,4],\"line_width\":2,\"right_units\":\"screen\",\"syncable\":false,\"top_units\":\"screen\"},\"id\":\"1169\",\"type\":\"BoxAnnotation\"},{\"attributes\":{\"source\":{\"id\":\"1177\"}},\"id\":\"1217\",\"type\":\"CDSView\"},{\"attributes\":{\"fill_alpha\":{\"value\":0.1},\"fill_color\":{\"field\":\"cat\",\"transform\":{\"id\":\"1219\"}},\"hatch_alpha\":{\"value\":0.1},\"hatch_color\":{\"field\":\"cat\",\"transform\":{\"id\":\"1219\"}},\"line_alpha\":{\"value\":0.1},\"line_color\":{\"field\":\"cat\",\"transform\":{\"id\":\"1219\"}},\"x\":{\"field\":\"Count\"},\"y\":{\"field\":\"cat\"}},\"id\":\"1223\",\"type\":\"Circle\"},{\"attributes\":{},\"id\":\"1152\",\"type\":\"LinearScale\"},{\"attributes\":{\"line_alpha\":{\"value\":0.2},\"line_color\":{\"value\":\"gray\"},\"x0\":{\"field\":\"bottom\"},\"x1\":{\"field\":\"bottom_whisker\"},\"y0\":{\"field\":\"cat\"},\"y1\":{\"field\":\"cat\"}},\"id\":\"1191\",\"type\":\"Segment\"},{\"attributes\":{\"fill_alpha\":{\"value\":0.2},\"fill_color\":{\"value\":\"#1f77b4\"},\"hatch_alpha\":{\"value\":0.2},\"height\":{\"value\":0.1},\"left\":{\"field\":\"bottom_whisker\"},\"line_alpha\":{\"value\":0.2},\"line_color\":{\"value\":\"gray\"},\"right\":{\"field\":\"bottom_whisker\"},\"y\":{\"field\":\"cat\"}},\"id\":\"1203\",\"type\":\"HBar\"},{\"attributes\":{},\"id\":\"1161\",\"type\":\"CategoricalTicker\"},{\"attributes\":{},\"id\":\"1244\",\"type\":\"AllLabels\"},{\"attributes\":{\"coordinates\":null,\"data_source\":{\"id\":\"1220\"},\"glyph\":{\"id\":\"1222\"},\"group\":null,\"hover_glyph\":null,\"muted_glyph\":{\"id\":\"1224\"},\"nonselection_glyph\":{\"id\":\"1223\"},\"view\":{\"id\":\"1226\"}},\"id\":\"1225\",\"type\":\"GlyphRenderer\"},{\"attributes\":{\"fill_alpha\":{\"value\":0.2},\"fill_color\":{\"value\":\"#1f77b4\"},\"hatch_alpha\":{\"value\":0.2},\"height\":{\"value\":0.1},\"left\":{\"field\":\"top_whisker\"},\"line_alpha\":{\"value\":0.2},\"line_color\":{\"value\":\"gray\"},\"right\":{\"field\":\"top_whisker\"},\"y\":{\"field\":\"cat\"}},\"id\":\"1197\",\"type\":\"HBar\"},{\"attributes\":{\"fill_alpha\":{\"value\":0.1},\"fill_color\":{\"value\":\"#1f77b4\"},\"hatch_alpha\":{\"value\":0.1},\"height\":{\"value\":0.1},\"left\":{\"field\":\"bottom_whisker\"},\"line_alpha\":{\"value\":0.1},\"line_color\":{\"value\":\"gray\"},\"right\":{\"field\":\"bottom_whisker\"},\"y\":{\"field\":\"cat\"}},\"id\":\"1202\",\"type\":\"HBar\"},{\"attributes\":{\"tools\":[{\"id\":\"1163\"},{\"id\":\"1164\"},{\"id\":\"1165\"},{\"id\":\"1166\"},{\"id\":\"1167\"},{\"id\":\"1168\"}]},\"id\":\"1170\",\"type\":\"Toolbar\"},{\"attributes\":{\"fill_alpha\":{\"value\":0.2},\"fill_color\":{\"field\":\"cat\",\"transform\":{\"id\":\"1219\"}},\"hatch_alpha\":{\"value\":0.2},\"hatch_color\":{\"field\":\"cat\",\"transform\":{\"id\":\"1219\"}},\"line_alpha\":{\"value\":0.2},\"line_color\":{\"field\":\"cat\",\"transform\":{\"id\":\"1219\"}},\"x\":{\"field\":\"Count\"},\"y\":{\"field\":\"cat\"}},\"id\":\"1224\",\"type\":\"Circle\"},{\"attributes\":{},\"id\":\"1168\",\"type\":\"HelpTool\"},{\"attributes\":{},\"id\":\"1154\",\"type\":\"CategoricalScale\"},{\"attributes\":{\"fill_alpha\":{\"value\":0},\"fill_color\":{\"field\":\"cat\",\"transform\":{\"id\":\"1181\"}},\"height\":{\"value\":0.4},\"left\":{\"field\":\"bottom\"},\"line_color\":{\"value\":\"gray\"},\"right\":{\"field\":\"top\"},\"y\":{\"field\":\"cat\"}},\"id\":\"1207\",\"type\":\"HBar\"},{\"attributes\":{\"coordinates\":null,\"data_source\":{\"id\":\"1177\"},\"glyph\":{\"id\":\"1213\"},\"group\":null,\"hover_glyph\":null,\"muted_glyph\":{\"id\":\"1215\"},\"nonselection_glyph\":{\"id\":\"1214\"},\"view\":{\"id\":\"1217\"}},\"id\":\"1216\",\"type\":\"GlyphRenderer\"},{\"attributes\":{\"axis_label_standoff\":10,\"axis_label_text_color\":\"#5B5B5B\",\"axis_label_text_font\":\"Calibri Light\",\"axis_label_text_font_size\":\"1.15em\",\"axis_label_text_font_style\":\"bold\",\"axis_line_alpha\":1,\"axis_line_color\":\"#5B5B5B\",\"coordinates\":null,\"formatter\":{\"id\":\"1243\"},\"group\":null,\"major_label_policy\":{\"id\":\"1244\"},\"major_label_text_color\":\"#5B5B5B\",\"major_label_text_font\":\"Calibri Light\",\"major_label_text_font_size\":\"0.95em\",\"major_label_text_font_style\":\"bold\",\"major_tick_in\":0,\"major_tick_line_alpha\":0.25,\"major_tick_line_color\":\"#5B5B5B\",\"major_tick_out\":3,\"minor_tick_line_alpha\":0.25,\"minor_tick_line_color\":\"#5B5B5B\",\"ticker\":{\"id\":\"1161\"}},\"id\":\"1160\",\"type\":\"CategoricalAxis\"},{\"attributes\":{\"fill_alpha\":{\"value\":0.2},\"fill_color\":{\"field\":\"cat\",\"transform\":{\"id\":\"1181\"}},\"hatch_alpha\":{\"value\":0.2},\"height\":{\"value\":0.4},\"left\":{\"field\":\"bottom\"},\"line_alpha\":{\"value\":0.2},\"line_color\":{\"value\":\"gray\"},\"right\":{\"field\":\"top\"},\"y\":{\"field\":\"cat\"}},\"id\":\"1209\",\"type\":\"HBar\"},{\"attributes\":{},\"id\":\"1246\",\"type\":\"BasicTickFormatter\"},{\"attributes\":{\"coordinates\":null,\"data_source\":{\"id\":\"1177\"},\"glyph\":{\"id\":\"1195\"},\"group\":null,\"hover_glyph\":null,\"muted_glyph\":{\"id\":\"1197\"},\"nonselection_glyph\":{\"id\":\"1196\"},\"view\":{\"id\":\"1199\"}},\"id\":\"1198\",\"type\":\"GlyphRenderer\"},{\"attributes\":{\"axis\":{\"id\":\"1160\"},\"coordinates\":null,\"dimension\":1,\"grid_line_color\":null,\"group\":null,\"ticker\":null},\"id\":\"1162\",\"type\":\"Grid\"},{\"attributes\":{},\"id\":\"1251\",\"type\":\"Selection\"},{\"attributes\":{\"fill_alpha\":{\"value\":0.1},\"fill_color\":{\"value\":\"#1f77b4\"},\"hatch_alpha\":{\"value\":0.1},\"height\":{\"value\":0.4},\"left\":{\"field\":\"middle\"},\"line_alpha\":{\"value\":0.1},\"line_color\":{\"value\":\"gray\"},\"right\":{\"field\":\"middle\"},\"y\":{\"field\":\"cat\"}},\"id\":\"1214\",\"type\":\"HBar\"},{\"attributes\":{\"fill_alpha\":{\"value\":0.1},\"fill_color\":{\"value\":\"#1f77b4\"},\"hatch_alpha\":{\"value\":0.1},\"height\":{\"value\":0.1},\"left\":{\"field\":\"top_whisker\"},\"line_alpha\":{\"value\":0.1},\"line_color\":{\"value\":\"gray\"},\"right\":{\"field\":\"top_whisker\"},\"y\":{\"field\":\"cat\"}},\"id\":\"1196\",\"type\":\"HBar\"},{\"attributes\":{},\"id\":\"1167\",\"type\":\"ResetTool\"},{\"attributes\":{\"factors\":[\"Ctrl\",\"Trained\"],\"palette\":[\"#1f77b3\",\"#ff7e0e\",\"#2ba02b\",\"#d62628\",\"#9367bc\",\"#8c564b\",\"#e277c1\",\"#7e7e7e\",\"#bcbc21\",\"#16bdcf\",\"#3a0182\",\"#004201\",\"#0fffa8\",\"#5d003f\",\"#bcbcff\",\"#d8afa1\",\"#b80080\",\"#004d52\",\"#6b6400\",\"#7c0100\",\"#6026ff\",\"#ffff9a\",\"#564964\",\"#8cb893\",\"#93fbff\",\"#018267\",\"#90ff00\",\"#8200a0\",\"#ac8944\",\"#5b3400\",\"#ffbff2\",\"#ff6e75\",\"#798cff\",\"#dd00ff\",\"#505646\",\"#004489\",\"#ffbf60\",\"#ff018c\",\"#bdc8cf\",\"#af97b5\",\"#b65600\",\"#017000\",\"#cd87ff\",\"#1cd646\",\"#bfebc3\",\"#7997b5\",\"#a56089\",\"#6e8956\",\"#bc7c75\",\"#8a2844\",\"#00acff\",\"#8ed4ff\",\"#4b6d77\",\"#00d4b1\",\"#9300f2\",\"#8a9500\",\"#5d5b9e\",\"#fddfba\",\"#00939e\",\"#ffdb00\",\"#00aa79\",\"#520067\",\"#000091\",\"#0a5d3d\",\"#a5e275\",\"#623b41\",\"#c6c689\",\"#ff9eb5\",\"#cd4f6b\",\"#ff07d6\",\"#8a3a05\",\"#7e3d70\",\"#ff4901\",\"#602ba5\",\"#1c00ff\",\"#e6dfff\",\"#aa3baf\",\"#d89c00\",\"#a3a39e\",\"#3f69ff\",\"#46490c\",\"#7b6985\",\"#6b978c\",\"#ff9a75\",\"#835bff\",\"#7c6b46\",\"#80b654\",\"#bc0049\",\"#fd93ff\",\"#5d0018\",\"#89d1d1\",\"#9c8cd3\",\"#da6d42\",\"#8a5700\",\"#3b5069\",\"#4b6b3b\",\"#edcfd8\",\"#cfedff\",\"#aa1500\",\"#dfff4f\",\"#ff2a56\",\"#d1499e\",\"#707cb8\",\"#598000\",\"#00e4fd\",\"#774b95\",\"#67d48c\",\"#3d3a72\",\"#ac413f\",\"#d6a166\",\"#c169cd\",\"#69595d\",\"#87aced\",\"#a0a569\",\"#d1aae6\",\"#870062\",\"#00fddb\",\"#672818\",\"#b342ff\",\"#0e59c4\",\"#168742\",\"#90d300\",\"#cd7900\",\"#f959ff\",\"#5b7466\",\"#8eaeb3\",\"#9c7c8c\",\"#4600c6\",\"#6b4d2d\",\"#a56d46\",\"#9e8972\",\"#a8afca\",\"#cd8ca7\",\"#00fd64\",\"#917900\",\"#ff62a1\",\"#f4ffd8\",\"#018cf0\",\"#13aca0\",\"#5b2d59\",\"#89859e\",\"#cfccba\",\"#d4afc4\",\"#dbdd6d\",\"#cffff4\",\"#006485\",\"#006962\",\"#a84167\",\"#2d97c4\",\"#a874ff\",\"#26ba5d\",\"#57b600\",\"#caffa7\",\"#a379aa\",\"#ffbc93\",\"#89e2c1\",\"#0fc8ff\",\"#d400c4\",\"#626d89\",\"#69858e\",\"#4b4d52\",\"#aa6067\",\"#79b5d4\",\"#2b5916\",\"#9a0024\",\"#bdd1f2\",\"#896e67\",\"#69a56b\",\"#855467\",\"#aecdba\",\"#87997e\",\"#cadb00\",\"#9a0390\",\"#ebbc1a\",\"#eb9cd1\",\"#70006e\",\"#b1a131\",\"#ca6b93\",\"#4146a3\",\"#e48c89\",\"#d44400\",\"#c68aca\",\"#b69597\",\"#d41f75\",\"#724bcc\",\"#674d00\",\"#672138\",\"#38564f\",\"#6ebaaa\",\"#853a31\",\"#a5d397\",\"#b8af8e\",\"#d8e4df\",\"#aa00df\",\"#cac1db\",\"#ffdf8c\",\"#e2524d\",\"#66696e\",\"#ff001c\",\"#522d72\",\"#4d906b\",\"#a86d11\",\"#ff9e26\",\"#5ea3af\",\"#c88556\",\"#915997\",\"#a3a1ff\",\"#fdbaba\",\"#242a87\",\"#dbe6a8\",\"#97f2a7\",\"#6793d6\",\"#ba5b3f\",\"#3a5d91\",\"#364f2f\",\"#267c95\",\"#89959a\",\"#cfb356\",\"#004664\",\"#5e5d2f\",\"#8e8e41\",\"#ac3f13\",\"#69953b\",\"#a13d85\",\"#bfb6ba\",\"#acc667\",\"#6469cf\",\"#91af00\",\"#2be2da\",\"#016e36\",\"#ff7952\",\"#42807e\",\"#4fe800\",\"#995428\",\"#5d0a00\",\"#a30057\",\"#0c8700\",\"#5982a7\",\"#ffebfb\",\"#4b6901\",\"#8775d4\",\"#e6c6ff\",\"#a5ffda\",\"#d86e77\",\"#df014b\",\"#69675b\",\"#776ba1\",\"#7e8067\",\"#594685\",\"#0000ca\",\"#7c002a\",\"#97ff72\",\"#b5e2e1\",\"#db52c8\",\"#777734\",\"#57bd8e\"]},\"id\":\"1219\",\"type\":\"CategoricalColorMapper\"},{\"attributes\":{\"axis\":{\"id\":\"1156\"},\"coordinates\":null,\"group\":null,\"ticker\":null},\"id\":\"1159\",\"type\":\"Grid\"},{\"attributes\":{\"line_alpha\":{\"value\":0.2},\"line_color\":{\"value\":\"gray\"},\"x0\":{\"field\":\"top\"},\"x1\":{\"field\":\"top_whisker\"},\"y0\":{\"field\":\"cat\"},\"y1\":{\"field\":\"cat\"}},\"id\":\"1185\",\"type\":\"Segment\"},{\"attributes\":{\"line_color\":{\"value\":\"gray\"},\"x0\":{\"field\":\"top\"},\"x1\":{\"field\":\"top_whisker\"},\"y0\":{\"field\":\"cat\"},\"y1\":{\"field\":\"cat\"}},\"id\":\"1183\",\"type\":\"Segment\"},{\"attributes\":{\"coordinates\":null,\"data_source\":{\"id\":\"1177\"},\"glyph\":{\"id\":\"1189\"},\"group\":null,\"hover_glyph\":null,\"muted_glyph\":{\"id\":\"1191\"},\"nonselection_glyph\":{\"id\":\"1190\"},\"view\":{\"id\":\"1193\"}},\"id\":\"1192\",\"type\":\"GlyphRenderer\"},{\"attributes\":{},\"id\":\"1250\",\"type\":\"UnionRenderers\"},{\"attributes\":{},\"id\":\"1248\",\"type\":\"UnionRenderers\"},{\"attributes\":{\"source\":{\"id\":\"1177\"}},\"id\":\"1205\",\"type\":\"CDSView\"},{\"attributes\":{\"line_alpha\":{\"value\":0.1},\"line_color\":{\"value\":\"gray\"},\"x0\":{\"field\":\"top\"},\"x1\":{\"field\":\"top_whisker\"},\"y0\":{\"field\":\"cat\"},\"y1\":{\"field\":\"cat\"}},\"id\":\"1184\",\"type\":\"Segment\"},{\"attributes\":{\"fill_color\":{\"value\":\"#1f77b4\"},\"height\":{\"value\":0.1},\"left\":{\"field\":\"top_whisker\"},\"line_color\":{\"value\":\"gray\"},\"right\":{\"field\":\"top_whisker\"},\"y\":{\"field\":\"cat\"}},\"id\":\"1195\",\"type\":\"HBar\"},{\"attributes\":{\"axis_label\":\"Count\",\"axis_label_standoff\":10,\"axis_label_text_color\":\"#5B5B5B\",\"axis_label_text_font\":\"Calibri Light\",\"axis_label_text_font_size\":\"1.15em\",\"axis_label_text_font_style\":\"bold\",\"axis_line_alpha\":1,\"axis_line_color\":\"#5B5B5B\",\"coordinates\":null,\"formatter\":{\"id\":\"1246\"},\"group\":null,\"major_label_policy\":{\"id\":\"1247\"},\"major_label_text_color\":\"#5B5B5B\",\"major_label_text_font\":\"Calibri Light\",\"major_label_text_font_size\":\"0.95em\",\"major_label_text_font_style\":\"bold\",\"major_tick_in\":0,\"major_tick_line_alpha\":0.25,\"major_tick_line_color\":\"#5B5B5B\",\"major_tick_out\":3,\"minor_tick_line_alpha\":0.25,\"minor_tick_line_color\":\"#5B5B5B\",\"ticker\":{\"id\":\"1157\"}},\"id\":\"1156\",\"type\":\"LinearAxis\"},{\"attributes\":{\"source\":{\"id\":\"1177\"}},\"id\":\"1211\",\"type\":\"CDSView\"},{\"attributes\":{},\"id\":\"1247\",\"type\":\"AllLabels\"}],\"root_ids\":[\"1148\"]},\"title\":\"Bokeh Application\",\"version\":\"2.4.3\"}};\n  const render_items = [{\"docid\":\"ebea75ac-dadd-4e33-9d9e-35b8921c83a6\",\"root_ids\":[\"1148\"],\"roots\":{\"1148\":\"9c65a649-dd18-4f40-9969-ac7e489c3ef1\"}}];\n  root.Bokeh.embed.embed_items_notebook(docs_json, render_items);\n  }\n  if (root.Bokeh !== undefined) {\n    embed_document(root);\n  } else {\n    let attempts = 0;\n    const timer = setInterval(function(root) {\n      if (root.Bokeh !== undefined) {\n        clearInterval(timer);\n        embed_document(root);\n      } else {\n        attempts++;\n        if (attempts > 100) {\n          clearInterval(timer);\n          console.log(\"Bokeh: ERROR: Unable to run BokehJS code because BokehJS library is missing\");\n        }\n      }\n    }, 10, root)\n  }\n})(window);",
      "application/vnd.bokehjs_exec.v0+json": ""
     },
     "metadata": {
      "application/vnd.bokehjs_exec.v0+json": {
       "id": "1148"
      }
     },
     "output_type": "display_data"
    }
   ],
   "source": [
    "\n",
    "ThreshSlider = bokeh.models.Slider(\n",
    "    title=\"Peeks\",\n",
    "    start=0,\n",
    "    end=600,\n",
    "    step=10,\n",
    "    value=160\n",
    ")\n",
    "\n",
    "\n",
    "def slider_callback(attr, old, new):\n",
    "    param = ThreshSlider.value\n",
    "\n",
    "    Data['Peekings_Left'] = sum(1 for i in Data['Durations_Corner_Left'] if i > param)\n",
    "    #Peeks_Right = sum(1 for i in Durations_Corner_Right if i > 160)\n",
    "    #Peeks_Top = sum(1 for i in Durations_Corner_Top if i > 160)\n",
    "\n",
    "slider.on_change(\"value\", slider_callback)\n",
    "\n",
    "p_box = iqplot.stripbox(data=Data,\n",
    "                   q=\"Peekings_Left\",\n",
    "                   cats=\"Training\",\n",
    "                   )\n",
    "\n",
    "Box_layout = bokeh.layouts.row(\n",
    "    p_box,\n",
    "    bokeh.models.Spacer(width=15),\n",
    "    bokeh.layouts.column(\n",
    "        ThreshSlider,\n",
    "        width=200,\n",
    "    ),\n",
    ")\n",
    "\n",
    "def induction_app(doc):\n",
    "    doc.add_root(induction_layout)"
   ],
   "metadata": {
    "collapsed": false,
    "pycharm": {
     "name": "#%%\n"
    }
   }
  },
  {
   "cell_type": "code",
   "execution_count": 6,
   "outputs": [
    {
     "ename": "TypeError",
     "evalue": "'>' not supported between instances of 'str' and 'int'",
     "output_type": "error",
     "traceback": [
      "\u001B[0;31m---------------------------------------------------------------------------\u001B[0m",
      "\u001B[0;31mTypeError\u001B[0m                                 Traceback (most recent call last)",
      "Input \u001B[0;32mIn [6]\u001B[0m, in \u001B[0;36m<cell line: 3>\u001B[0;34m()\u001B[0m\n\u001B[1;32m      1\u001B[0m param \u001B[38;5;241m=\u001B[39m \u001B[38;5;241m160\u001B[39m\n\u001B[0;32m----> 3\u001B[0m Data[\u001B[38;5;124m'\u001B[39m\u001B[38;5;124mPeekings_Left\u001B[39m\u001B[38;5;124m'\u001B[39m] \u001B[38;5;241m=\u001B[39m \u001B[38;5;28;43msum\u001B[39;49m\u001B[43m(\u001B[49m\u001B[38;5;241;43m1\u001B[39;49m\u001B[43m \u001B[49m\u001B[38;5;28;43;01mfor\u001B[39;49;00m\u001B[43m \u001B[49m\u001B[43mi\u001B[49m\u001B[43m \u001B[49m\u001B[38;5;129;43;01min\u001B[39;49;00m\u001B[43m \u001B[49m\u001B[43mData\u001B[49m\u001B[43m[\u001B[49m\u001B[38;5;124;43m'\u001B[39;49m\u001B[38;5;124;43mDurations Left Corner\u001B[39;49m\u001B[38;5;124;43m'\u001B[39;49m\u001B[43m]\u001B[49m\u001B[43m \u001B[49m\u001B[38;5;28;43;01mif\u001B[39;49;00m\u001B[43m \u001B[49m\u001B[43mi\u001B[49m\u001B[43m \u001B[49m\u001B[38;5;241;43m>\u001B[39;49m\u001B[43m \u001B[49m\u001B[43mparam\u001B[49m\u001B[43m)\u001B[49m\n",
      "Input \u001B[0;32mIn [6]\u001B[0m, in \u001B[0;36m<genexpr>\u001B[0;34m(.0)\u001B[0m\n\u001B[1;32m      1\u001B[0m param \u001B[38;5;241m=\u001B[39m \u001B[38;5;241m160\u001B[39m\n\u001B[0;32m----> 3\u001B[0m Data[\u001B[38;5;124m'\u001B[39m\u001B[38;5;124mPeekings_Left\u001B[39m\u001B[38;5;124m'\u001B[39m] \u001B[38;5;241m=\u001B[39m \u001B[38;5;28msum\u001B[39m(\u001B[38;5;241m1\u001B[39m \u001B[38;5;28;01mfor\u001B[39;00m i \u001B[38;5;129;01min\u001B[39;00m Data[\u001B[38;5;124m'\u001B[39m\u001B[38;5;124mDurations Left Corner\u001B[39m\u001B[38;5;124m'\u001B[39m] \u001B[38;5;28;01mif\u001B[39;00m \u001B[43mi\u001B[49m\u001B[43m \u001B[49m\u001B[38;5;241;43m>\u001B[39;49m\u001B[43m \u001B[49m\u001B[43mparam\u001B[49m)\n",
      "\u001B[0;31mTypeError\u001B[0m: '>' not supported between instances of 'str' and 'int'"
     ]
    }
   ],
   "source": [
    "param = 160\n",
    "\n",
    "Data['Peekings_Left'] = sum(1 for i in Data['Durations Left Corner'] if i > param)\n"
   ],
   "metadata": {
    "collapsed": false,
    "pycharm": {
     "name": "#%%\n"
    }
   }
  },
  {
   "cell_type": "code",
   "execution_count": null,
   "outputs": [],
   "source": [],
   "metadata": {
    "collapsed": false,
    "pycharm": {
     "name": "#%%\n"
    }
   }
  }
 ],
 "metadata": {
  "kernelspec": {
   "display_name": "Python 3 (ipykernel)",
   "language": "python",
   "name": "python3"
  },
  "language_info": {
   "codemirror_mode": {
    "name": "ipython",
    "version": 3
   },
   "file_extension": ".py",
   "mimetype": "text/x-python",
   "name": "python",
   "nbconvert_exporter": "python",
   "pygments_lexer": "ipython3",
   "version": "3.10.4"
  }
 },
 "nbformat": 4,
 "nbformat_minor": 4
}