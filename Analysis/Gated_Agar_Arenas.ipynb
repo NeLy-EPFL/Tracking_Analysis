{
 "cells": [
  {
   "cell_type": "code",
   "execution_count": 1,
   "outputs": [],
   "source": [
    "import pandas as pd\n",
    "import seaborn as sns\n",
    "import matplotlib.pyplot as plt\n",
    "import scipy\n",
    "import numpy as np"
   ],
   "metadata": {
    "collapsed": false,
    "pycharm": {
     "name": "#%%\n"
    }
   }
  },
  {
   "cell_type": "code",
   "execution_count": 2,
   "outputs": [
    {
     "data": {
      "text/plain": "   Unnamed: 0      Date Training            Starvation  Relative Time Left  \\\n0           0  22-03-10  Trained    Overnight no Water            0.687568   \n1           0  22-03-10  Trained    Overnight no Water            0.445191   \n2           0  22-03-10  Trained    Overnight no Water            0.458867   \n3           0  22-03-10  Trained    Overnight no Water            0.508440   \n4           0  22-03-10  Trained  Overnight with Water            0.593114   \n\n   Relative Time Right  Relative Time far Left  Relative Time far Right  \\\n0             0.312432                0.242062                 0.188678   \n1             0.554809                0.229559                 0.274985   \n2             0.541133                0.247927                 0.191526   \n3             0.491560                0.416981                 0.396896   \n4             0.406886                0.291531                 0.218271   \n\n  Reinforced_side  Peeks Left  ...  Peeks Top  Face Left  Face Right  \\\n0             Top         0.0  ...        3.0        3.0         2.0   \n1             Top         1.0  ...        3.0        3.0         4.0   \n2             Top         1.0  ...        3.0        3.0         2.0   \n3             Top         3.0  ...        1.0        1.0         1.0   \n4             Top         1.0  ...        0.0        5.0         1.0   \n\n   Face Top  Long Peeks Left  Long Peeks Right  Long Peeks Top  \\\n0       6.0              0.0               1.0             3.0   \n1       3.0              0.0               0.0             2.0   \n2       4.0              0.0               1.0             3.0   \n3       0.0              1.0               4.0             0.0   \n4       3.0              0.0               1.0             0.0   \n\n   Long Face Left  Long Face Right  Long Face Top  \n0             2.0              1.0            4.0  \n1             2.0              3.0            1.0  \n2             1.0              1.0            3.0  \n3             1.0              0.0            0.0  \n4             3.0              0.0            1.0  \n\n[5 rows x 21 columns]",
      "text/html": "<div>\n<style scoped>\n    .dataframe tbody tr th:only-of-type {\n        vertical-align: middle;\n    }\n\n    .dataframe tbody tr th {\n        vertical-align: top;\n    }\n\n    .dataframe thead th {\n        text-align: right;\n    }\n</style>\n<table border=\"1\" class=\"dataframe\">\n  <thead>\n    <tr style=\"text-align: right;\">\n      <th></th>\n      <th>Unnamed: 0</th>\n      <th>Date</th>\n      <th>Training</th>\n      <th>Starvation</th>\n      <th>Relative Time Left</th>\n      <th>Relative Time Right</th>\n      <th>Relative Time far Left</th>\n      <th>Relative Time far Right</th>\n      <th>Reinforced_side</th>\n      <th>Peeks Left</th>\n      <th>...</th>\n      <th>Peeks Top</th>\n      <th>Face Left</th>\n      <th>Face Right</th>\n      <th>Face Top</th>\n      <th>Long Peeks Left</th>\n      <th>Long Peeks Right</th>\n      <th>Long Peeks Top</th>\n      <th>Long Face Left</th>\n      <th>Long Face Right</th>\n      <th>Long Face Top</th>\n    </tr>\n  </thead>\n  <tbody>\n    <tr>\n      <th>0</th>\n      <td>0</td>\n      <td>22-03-10</td>\n      <td>Trained</td>\n      <td>Overnight no Water</td>\n      <td>0.687568</td>\n      <td>0.312432</td>\n      <td>0.242062</td>\n      <td>0.188678</td>\n      <td>Top</td>\n      <td>0.0</td>\n      <td>...</td>\n      <td>3.0</td>\n      <td>3.0</td>\n      <td>2.0</td>\n      <td>6.0</td>\n      <td>0.0</td>\n      <td>1.0</td>\n      <td>3.0</td>\n      <td>2.0</td>\n      <td>1.0</td>\n      <td>4.0</td>\n    </tr>\n    <tr>\n      <th>1</th>\n      <td>0</td>\n      <td>22-03-10</td>\n      <td>Trained</td>\n      <td>Overnight no Water</td>\n      <td>0.445191</td>\n      <td>0.554809</td>\n      <td>0.229559</td>\n      <td>0.274985</td>\n      <td>Top</td>\n      <td>1.0</td>\n      <td>...</td>\n      <td>3.0</td>\n      <td>3.0</td>\n      <td>4.0</td>\n      <td>3.0</td>\n      <td>0.0</td>\n      <td>0.0</td>\n      <td>2.0</td>\n      <td>2.0</td>\n      <td>3.0</td>\n      <td>1.0</td>\n    </tr>\n    <tr>\n      <th>2</th>\n      <td>0</td>\n      <td>22-03-10</td>\n      <td>Trained</td>\n      <td>Overnight no Water</td>\n      <td>0.458867</td>\n      <td>0.541133</td>\n      <td>0.247927</td>\n      <td>0.191526</td>\n      <td>Top</td>\n      <td>1.0</td>\n      <td>...</td>\n      <td>3.0</td>\n      <td>3.0</td>\n      <td>2.0</td>\n      <td>4.0</td>\n      <td>0.0</td>\n      <td>1.0</td>\n      <td>3.0</td>\n      <td>1.0</td>\n      <td>1.0</td>\n      <td>3.0</td>\n    </tr>\n    <tr>\n      <th>3</th>\n      <td>0</td>\n      <td>22-03-10</td>\n      <td>Trained</td>\n      <td>Overnight no Water</td>\n      <td>0.508440</td>\n      <td>0.491560</td>\n      <td>0.416981</td>\n      <td>0.396896</td>\n      <td>Top</td>\n      <td>3.0</td>\n      <td>...</td>\n      <td>1.0</td>\n      <td>1.0</td>\n      <td>1.0</td>\n      <td>0.0</td>\n      <td>1.0</td>\n      <td>4.0</td>\n      <td>0.0</td>\n      <td>1.0</td>\n      <td>0.0</td>\n      <td>0.0</td>\n    </tr>\n    <tr>\n      <th>4</th>\n      <td>0</td>\n      <td>22-03-10</td>\n      <td>Trained</td>\n      <td>Overnight with Water</td>\n      <td>0.593114</td>\n      <td>0.406886</td>\n      <td>0.291531</td>\n      <td>0.218271</td>\n      <td>Top</td>\n      <td>1.0</td>\n      <td>...</td>\n      <td>0.0</td>\n      <td>5.0</td>\n      <td>1.0</td>\n      <td>3.0</td>\n      <td>0.0</td>\n      <td>1.0</td>\n      <td>0.0</td>\n      <td>3.0</td>\n      <td>0.0</td>\n      <td>1.0</td>\n    </tr>\n  </tbody>\n</table>\n<p>5 rows × 21 columns</p>\n</div>"
     },
     "execution_count": 2,
     "metadata": {},
     "output_type": "execute_result"
    }
   ],
   "source": [
    "Data = pd.read_csv('/Users/ulric/Desktop/Agar_Gated_Dataset.csv')\n",
    "Data.head()"
   ],
   "metadata": {
    "collapsed": false,
    "pycharm": {
     "name": "#%%\n"
    }
   }
  },
  {
   "cell_type": "code",
   "execution_count": null,
   "outputs": [],
   "source": [],
   "metadata": {
    "collapsed": false,
    "pycharm": {
     "name": "#%%\n"
    }
   }
  }
 ],
 "metadata": {
  "kernelspec": {
   "display_name": "Python 3",
   "language": "python",
   "name": "python3"
  },
  "language_info": {
   "codemirror_mode": {
    "name": "ipython",
    "version": 2
   },
   "file_extension": ".py",
   "mimetype": "text/x-python",
   "name": "python",
   "nbconvert_exporter": "python",
   "pygments_lexer": "ipython2",
   "version": "2.7.6"
  }
 },
 "nbformat": 4,
 "nbformat_minor": 0
}