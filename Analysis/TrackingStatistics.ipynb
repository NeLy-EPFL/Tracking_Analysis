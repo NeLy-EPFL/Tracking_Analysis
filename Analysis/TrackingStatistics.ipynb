{
 "cells": [
  {
   "attachments": {},
   "cell_type": "markdown",
   "metadata": {},
   "source": [
    "This notebook is meant to explore tracking data statistics across flies. The first element in there is about generating a 'pooled' dataset where all the dataframes are concatenated in one while keeping track of flies identity and conditions."
   ]
  },
  {
   "attachments": {},
   "cell_type": "markdown",
   "metadata": {},
   "source": [
    "# Libraries import"
   ]
  },
  {
   "cell_type": "code",
   "execution_count": null,
   "metadata": {},
   "outputs": [],
   "source": [
    "import sys\n",
    "from pathlib import Path\n",
    "import matplotlib as mpl\n",
    "\n",
    "mpl.rcParams[\"figure.figsize\"] = (\n",
    "    10,\n",
    "    10,\n",
    ")  # Change figure size including in the jupyter outputs.\n",
    "import matplotlib.pyplot as plt\n",
    "import pandas as pd\n",
    "import numpy as np\n",
    "import mpmath\n",
    "import cv2\n",
    "\n",
    "sys.modules[\"sympy.mpmath\"] = mpmath\n",
    "from scipy import signal\n",
    "import datetime\n",
    "import dateutil\n",
    "import bokeh.io\n",
    "import holoviews as hv\n",
    "from holoviews import opts\n",
    "\n",
    "hv.extension(\n",
    "    \"bokeh\",\n",
    "    \"matplotlib\",\n",
    ")\n",
    "bokeh.io.output_notebook()\n",
    "\n",
    "import panel as pn\n",
    "\n",
    "\n",
    "sys.path.insert(0, \"..\")\n",
    "\n",
    "from Utilities.Utils import *\n",
    "from Utilities.Processing import *\n",
    "\n",
    "import black\n",
    "import jupyter_black\n",
    "\n",
    "jupyter_black.load()"
   ]
  },
  {
   "attachments": {},
   "cell_type": "markdown",
   "metadata": {},
   "source": [
    "# Path and data import"
   ]
  },
  {
   "attachments": {},
   "cell_type": "markdown",
   "metadata": {},
   "source": [
    "Mac Paths"
   ]
  },
  {
   "cell_type": "code",
   "execution_count": null,
   "metadata": {},
   "outputs": [],
   "source": [
    "DataPath = [\n",
    "    Path(\n",
    "        \"/Volumes/Ramdya-Lab/DURRIEU_Matthias/Experimental_data/Optogenetics/Optobot/MultiMaze_15stepped_gated_bowtie\"\n",
    "    ),\n",
    "    Path(\n",
    "        \"/Volumes/Ramdya-Lab/DURRIEU_Matthias/Experimental_data/Optogenetics/Optobot/MultiMaze_15stepped_gated_bowtie_noFood\"\n",
    "    ),\n",
    "    Path(\n",
    "        \"/Volumes/Ramdya-Lab/DURRIEU_Matthias/Experimental_data/Optogenetics/Optobot/MultiMaze_15stepped_gated_bar_noFood\"\n",
    "    ),\n",
    "    Path(\n",
    "        \"/Volumes/Ramdya-Lab/DURRIEU_Matthias/Experimental_data/Optogenetics/Optobot/MultiMaze_15stepped_gated_bar\"\n",
    "    ),\n",
    "]"
   ]
  },
  {
   "attachments": {},
   "cell_type": "markdown",
   "metadata": {},
   "source": [
    "Workstation paths"
   ]
  },
  {
   "cell_type": "code",
   "execution_count": null,
   "metadata": {},
   "outputs": [],
   "source": [
    "DataPath = [\n",
    "    Path(\n",
    "        \"/mnt/labserver/DURRIEU_Matthias/Experimental_data/Optogenetics/Optobot/MultiMaze_15stepped_gated_bowtie\"\n",
    "    ),\n",
    "    Path(\n",
    "        \"/mnt/labserver/DURRIEU_Matthias/Experimental_data/Optogenetics/Optobot/MultiMaze_15stepped_gated_bowtie_noFood\"\n",
    "    ),\n",
    "    Path(\n",
    "        \"/mnt/labserver/DURRIEU_Matthias/Experimental_data/Optogenetics/Optobot/MultiMaze_15stepped_gated_bar_noFood\"\n",
    "    ),\n",
    "    Path(\n",
    "        \"/mnt/labserver/DURRIEU_Matthias/Experimental_data/Optogenetics/Optobot/MultiMaze_15stepped_gated_bar\"\n",
    "    ),\n",
    "]"
   ]
  },
  {
   "cell_type": "markdown",
   "metadata": {},
   "source": []
  },
  {
   "cell_type": "code",
   "execution_count": null,
   "metadata": {},
   "outputs": [],
   "source": [
    "# for each dataset, load the data and append it to the pooled dataframe\n",
    "pooled = pd.DataFrame()\n",
    "count = 0\n",
    "for paths in DataPath:\n",
    "    datasets = list(paths.glob(\"**/BallPositions_processed.feather\"))\n",
    "    for dataset in datasets:\n",
    "        df = pd.read_feather(dataset)\n",
    "        # add a column with the dataset name\n",
    "        count += 1\n",
    "        df[\"fly\"] = f\"Fly {count}\"\n",
    "        # check if the dataframe path contains \"noFood\"\n",
    "        if \"noFood\" in str(dataset):\n",
    "            df[\"food\"] = \"noFood\"\n",
    "        else:\n",
    "            df[\"food\"] = \"Food\"\n",
    "        pooled = pooled.append(df)"
   ]
  },
  {
   "attachments": {},
   "cell_type": "markdown",
   "metadata": {},
   "source": [
    "# Compute average value for ysmooth grouped by trial and fly"
   ]
  },
  {
   "cell_type": "code",
   "execution_count": null,
   "metadata": {},
   "outputs": [],
   "source": [
    "# Get average ysmooth over time grouped by trial and fly\n",
    "\n",
    "Group = pooled.groupby([\"food\", \"TrialNumber\", \"Time\"])"
   ]
  },
  {
   "cell_type": "code",
   "execution_count": null,
   "metadata": {},
   "outputs": [],
   "source": [
    "Group_avg = Group.mean()\n",
    "Group_med = Group.median()"
   ]
  },
  {
   "cell_type": "code",
   "execution_count": null,
   "metadata": {},
   "outputs": [],
   "source": [
    "Curves = (\n",
    "    hv.Curve(\n",
    "        data=Group_avg,\n",
    "        kdims=[\"Time\"],\n",
    "        vdims=[\n",
    "            \"ysmooth\",\n",
    "            \"TrialNumber\",\n",
    "            \"food\",\n",
    "        ],\n",
    "    )\n",
    "    .groupby([\"food\", \"TrialNumber\"])\n",
    "    .opts(\n",
    "        height=1000,\n",
    "        width=1000,\n",
    "        invert_yaxis=True,\n",
    "        color=hv.Palette(\"Viridis\"),\n",
    "        tools=[\n",
    "            \"hover\",\n",
    "            \"crosshair\",\n",
    "        ],\n",
    "        muted=True,\n",
    "    )\n",
    "    .overlay(\"TrialNumber\")\n",
    ")\n",
    "Curves"
   ]
  },
  {
   "attachments": {},
   "cell_type": "markdown",
   "metadata": {},
   "source": [
    "## Plot average value for ysmooth grouped by trial and fly, with a panel with and without food"
   ]
  },
  {
   "cell_type": "code",
   "execution_count": null,
   "metadata": {},
   "outputs": [],
   "source": [
    "Curves = (\n",
    "    hv.Curve(\n",
    "        data=Group_avg,\n",
    "        kdims=[\"Time\"],\n",
    "        vdims=[\n",
    "            \"ysmooth\",\n",
    "            \"TrialNumber\",\n",
    "            \"food\",\n",
    "        ],\n",
    "    )\n",
    "    .groupby([\"food\", \"TrialNumber\"])\n",
    "    .opts(\n",
    "        height=1000,\n",
    "        width=1000,\n",
    "        invert_yaxis=True,\n",
    "        color=hv.Palette(\"Viridis\"),\n",
    "        tools=[\n",
    "            \"hover\",\n",
    "            \"crosshair\",\n",
    "        ],\n",
    "        muted=True,\n",
    "    )\n",
    "    .overlay(\"TrialNumber\")\n",
    ")\n",
    "Curves"
   ]
  },
  {
   "attachments": {},
   "cell_type": "markdown",
   "metadata": {},
   "source": []
  },
  {
   "attachments": {},
   "cell_type": "markdown",
   "metadata": {},
   "source": [
    "## Plot with median instead to get estimates less impacted by outliers"
   ]
  },
  {
   "cell_type": "code",
   "execution_count": null,
   "metadata": {},
   "outputs": [],
   "source": [
    "Curves = (\n",
    "    hv.Curve(\n",
    "        data=Group_med,\n",
    "        kdims=[\"Time\"],\n",
    "        vdims=[\n",
    "            \"ysmooth\",\n",
    "            \"TrialNumber\",\n",
    "            \"food\",\n",
    "        ],\n",
    "    )\n",
    "    .groupby([\"food\", \"TrialNumber\"])\n",
    "    .opts(\n",
    "        height=1000,\n",
    "        width=1000,\n",
    "        invert_yaxis=True,\n",
    "        color=hv.Palette(\"Viridis\"),\n",
    "        tools=[\n",
    "            \"hover\",\n",
    "            \"crosshair\",\n",
    "        ],\n",
    "        muted=True,\n",
    "    )\n",
    "    .overlay(\"TrialNumber\")\n",
    ")\n",
    "Curves"
   ]
  },
  {
   "cell_type": "code",
   "execution_count": null,
   "metadata": {},
   "outputs": [],
   "source": []
  },
  {
   "attachments": {},
   "cell_type": "markdown",
   "metadata": {},
   "source": [
    "## Pooled plots"
   ]
  },
  {
   "cell_type": "code",
   "execution_count": null,
   "metadata": {},
   "outputs": [],
   "source": [
    "Group = pooled.groupby([\"TrialNumber\", \"Time\"])\n",
    "Group_avg = Group.mean()\n",
    "Group_med = Group.median()"
   ]
  },
  {
   "cell_type": "code",
   "execution_count": null,
   "metadata": {},
   "outputs": [],
   "source": [
    "Curves = (\n",
    "    hv.Curve(\n",
    "        data=Group_avg,\n",
    "        kdims=[\"Time\"],\n",
    "        vdims=[\n",
    "            \"ysmooth\",\n",
    "            \"TrialNumber\",\n",
    "        ],\n",
    "    )\n",
    "    .groupby([\"TrialNumber\"])\n",
    "    .opts(\n",
    "        height=1000,\n",
    "        width=1000,\n",
    "        invert_yaxis=True,\n",
    "        color=hv.Palette(\"Viridis\"),\n",
    "        tools=[\n",
    "            \"hover\",\n",
    "            \"crosshair\",\n",
    "        ],\n",
    "        muted=True,\n",
    "    )\n",
    "    .overlay()\n",
    ")\n",
    "Curves"
   ]
  },
  {
   "cell_type": "code",
   "execution_count": null,
   "metadata": {},
   "outputs": [],
   "source": [
    "hv.save(Curves, \"/Users/ulric/Downloads/Average_Pooled.html\")"
   ]
  },
  {
   "attachments": {},
   "cell_type": "markdown",
   "metadata": {},
   "source": [
    "# Plot average trial duration grouped by trial and fly"
   ]
  },
  {
   "cell_type": "code",
   "execution_count": null,
   "metadata": {},
   "outputs": [],
   "source": [
    "Trialdurations = pooled.groupby([\"fly\", \"TrialNumber\"]).apply(lambda x: x[\"Time\"].max())"
   ]
  },
  {
   "cell_type": "code",
   "execution_count": null,
   "metadata": {},
   "outputs": [],
   "source": [
    "# convert Trialdurations to a dataframe and reset index to get fly and TrialNumber as columns\n",
    "Trialdurations = pd.DataFrame(Trialdurations).reset_index()\n",
    "# rename column 0 to \"duration\"\n",
    "Trialdurations.rename(columns={0: \"duration\"}, inplace=True)\n",
    "\n",
    "Trialdurations"
   ]
  },
  {
   "cell_type": "code",
   "execution_count": null,
   "metadata": {},
   "outputs": [],
   "source": [
    "# Add column with converted durations in seconds\n",
    "Trialdurations[\"duration_s\"] = frame2time(\n",
    "    Trialdurations[\"duration\"], reverse=False, fps=80\n",
    ")"
   ]
  },
  {
   "cell_type": "code",
   "execution_count": null,
   "metadata": {},
   "outputs": [],
   "source": []
  },
  {
   "cell_type": "code",
   "execution_count": null,
   "metadata": {},
   "outputs": [],
   "source": [
    "# compute average duration grouped by TrialNumber\n",
    "Grouped_avg = Trialdurations.groupby(\"TrialNumber\").mean()"
   ]
  },
  {
   "cell_type": "code",
   "execution_count": null,
   "metadata": {},
   "outputs": [],
   "source": [
    "box = hv.BoxWhisker(data=Trialdurations, kdims=\"TrialNumber\", vdims=\"duration_s\").opts(\n",
    "    height=500,\n",
    "    width=500,\n",
    "    framewise=True,\n",
    "    cmap=\"Viridis\",\n",
    "    xlabel=\"Trial\",\n",
    "    ylabel=\"Duration (sec)\",\n",
    "    # ylim=(0, 40),\n",
    "    # box_color=\"TrialNumber\",\n",
    "    box_fill_alpha=0,\n",
    "    # invert_axes=True,\n",
    "    # invert_yaxis=True,\n",
    "    # box_line_color=\"gray\",\n",
    ")\n",
    "\n",
    "points = hv.Scatter(data=Trialdurations, kdims=\"TrialNumber\", vdims=\"duration_s\").opts(\n",
    "    framewise=True,\n",
    "    cmap=\"Viridis\",\n",
    "    # invert_axes=True,\n",
    "    # invert_yaxis=True,\n",
    "    # ylim=(0, 40),\n",
    "    color=\"TrialNumber\",\n",
    "    jitter=0.4,\n",
    ")\n",
    "\n",
    "\n",
    "box * points"
   ]
  },
  {
   "attachments": {},
   "cell_type": "markdown",
   "metadata": {},
   "source": [
    "## Grouped by food  condition"
   ]
  },
  {
   "cell_type": "code",
   "execution_count": null,
   "metadata": {},
   "outputs": [],
   "source": [
    "Trialdurations_food = pooled.groupby([\"food\", \"fly\", \"TrialNumber\"]).apply(\n",
    "    lambda x: x[\"Time\"].max()\n",
    ")"
   ]
  },
  {
   "cell_type": "code",
   "execution_count": null,
   "metadata": {},
   "outputs": [],
   "source": [
    "Trialdurations_food = pd.DataFrame(Trialdurations_food).reset_index()\n",
    "Trialdurations_food.rename(columns={0: \"duration\"}, inplace=True)\n",
    "\n",
    "Trialdurations_food"
   ]
  },
  {
   "cell_type": "code",
   "execution_count": null,
   "metadata": {},
   "outputs": [],
   "source": [
    "Trialdurations_food[\"duration_s\"] = frame2time(\n",
    "    Trialdurations_food[\"duration\"], reverse=False, fps=80\n",
    ")"
   ]
  },
  {
   "attachments": {},
   "cell_type": "markdown",
   "metadata": {},
   "source": [
    "Add replicate number to the plot"
   ]
  },
  {
   "cell_type": "code",
   "execution_count": null,
   "metadata": {},
   "outputs": [],
   "source": [
    "# find how many unique values there are in the fly column\n",
    "nflies = len(pooled[\"fly\"].unique())\n",
    "\n",
    "# same but only for the noFood condition\n",
    "nflies_noFood = len(pooled[pooled[\"food\"] == \"noFood\"][\"fly\"].unique())\n",
    "\n",
    "nflies_food = nflies - nflies_noFood\n",
    "\n",
    "replicates = {\"food\": [\"Food\", \"noFood\"], \"n\": [nflies_food, nflies_noFood]}"
   ]
  },
  {
   "cell_type": "code",
   "execution_count": null,
   "metadata": {},
   "outputs": [],
   "source": [
    "box = (\n",
    "    hv.BoxWhisker(\n",
    "        data=Trialdurations_food, kdims=[\"TrialNumber\", \"food\"], vdims=[\"duration_s\"]\n",
    "    )\n",
    "    .groupby(\"food\")\n",
    "    .opts(\n",
    "        height=1000,\n",
    "        width=1000,\n",
    "        framewise=True,\n",
    "        cmap=\"Viridis\",\n",
    "        xlabel=\"Trial\",\n",
    "        ylabel=\"Duration (sec)\",\n",
    "        # ylim=(0, 40),\n",
    "        # box_color=\"TrialNumber\",\n",
    "        box_fill_alpha=0,\n",
    "        # invert_axes=True,\n",
    "        # invert_yaxis=True,\n",
    "        # box_line_color=\"gray\",\n",
    "    )\n",
    ")\n",
    "\n",
    "points = (\n",
    "    hv.Scatter(\n",
    "        data=Trialdurations_food, kdims=[\"TrialNumber\", \"food\"], vdims=[\"duration_s\"]\n",
    "    )\n",
    "    .groupby(\"food\")\n",
    "    .opts(\n",
    "        framewise=True,\n",
    "        cmap=\"Viridis\",\n",
    "        # invert_axes=True,\n",
    "        # invert_yaxis=True,\n",
    "        # ylim=(0, 40),\n",
    "        color=\"TrialNumber\",\n",
    "        jitter=0.4,\n",
    "    )\n",
    ")\n",
    "\n",
    "# annot = hv.Text()\n",
    "\n",
    "\n",
    "box * points"
   ]
  },
  {
   "attachments": {},
   "cell_type": "markdown",
   "metadata": {},
   "source": [
    "implement fly lines"
   ]
  },
  {
   "cell_type": "code",
   "execution_count": null,
   "metadata": {},
   "outputs": [],
   "source": [
    "lines = (\n",
    "    hv.Curve(\n",
    "        data=Trialdurations_food,\n",
    "        kdims=[\"TrialNumber\"],\n",
    "        vdims=[\"duration_s\", \"food\", \"fly\"],\n",
    "    )\n",
    "    .groupby([\"food\", \"fly\"])\n",
    "    .opts(\n",
    "        framewise=True,\n",
    "        color=hv.Palette(\"Viridis\"),\n",
    "        alpha=0.8,\n",
    "        line_width=2,\n",
    "        # invert_axes=True,\n",
    "        # invert_yaxis=True,\n",
    "        # ylim=(0, 40),\n",
    "        # line_color=\"rank\",\n",
    "        # jitter=0.4,\n",
    "    )\n",
    "    .overlay(\"fly\")\n",
    ")\n",
    "\n",
    "# Curves = (\n",
    "#     hv.Curve(\n",
    "#         data=Group_avg,\n",
    "#         kdims=[\"Time\"],\n",
    "#         vdims=[\n",
    "#             \"ysmooth\",\n",
    "#             \"TrialNumber\",\n",
    "#         ],\n",
    "#     )\n",
    "#     .groupby([\"TrialNumber\"])\n",
    "#     .opts(\n",
    "#         height=1000,\n",
    "#         width=1000,\n",
    "#         invert_yaxis=True,\n",
    "#         color=hv.Palette(\"Viridis\"),\n",
    "#         tools=[\n",
    "#             \"hover\",\n",
    "#             \"crosshair\",\n",
    "#         ],\n",
    "#         muted=True,\n",
    "#     )\n",
    "#     .overlay()\n",
    "# )"
   ]
  },
  {
   "cell_type": "code",
   "execution_count": null,
   "metadata": {},
   "outputs": [],
   "source": [
    "box * lines"
   ]
  },
  {
   "cell_type": "code",
   "execution_count": null,
   "metadata": {},
   "outputs": [],
   "source": [
    "hv.help(hv.Curve)"
   ]
  },
  {
   "attachments": {},
   "cell_type": "markdown",
   "metadata": {},
   "source": [
    "Rank flies by first trial speed"
   ]
  },
  {
   "cell_type": "code",
   "execution_count": null,
   "metadata": {},
   "outputs": [],
   "source": [
    "# rank the flies by their first trial duration\n",
    "# first get the first trial duration for each fly\n",
    "first_trial = Trialdurations_food[Trialdurations_food[\"TrialNumber\"] == 1]\n",
    "\n",
    "# then sort by duration\n",
    "first_trial.sort_values(by=\"duration_s\", inplace=True)"
   ]
  },
  {
   "cell_type": "code",
   "execution_count": null,
   "metadata": {},
   "outputs": [],
   "source": [
    "# add a rank column with the rank of each fly in the first_trial dataframe\n",
    "first_trial[\"rank\"] = first_trial[\"duration_s\"].rank()\n",
    "first_trial"
   ]
  },
  {
   "cell_type": "code",
   "execution_count": null,
   "metadata": {},
   "outputs": [],
   "source": [
    "Trialdurations_food[\"rank\"] = Trialdurations_food[\"fly\"].map(\n",
    "    first_trial.set_index(\"fly\")[\"rank\"]\n",
    ")\n",
    "Trialdurations_food"
   ]
  },
  {
   "cell_type": "code",
   "execution_count": null,
   "metadata": {},
   "outputs": [],
   "source": [
    "Trialdurations_food_sorted = Trialdurations_food.sort_values(by=\"rank\")"
   ]
  },
  {
   "cell_type": "code",
   "execution_count": null,
   "metadata": {},
   "outputs": [],
   "source": [
    "Trialdurations_food_sorted"
   ]
  },
  {
   "attachments": {},
   "cell_type": "markdown",
   "metadata": {},
   "source": [
    "Rename values and labels"
   ]
  },
  {
   "cell_type": "code",
   "execution_count": null,
   "metadata": {},
   "outputs": [],
   "source": [
    "# Rename the food values as follow : \"Food\" -> \"Yes\", \"noFood\" -> \"No\"\n",
    "# Trialdurations_food[\"food\"] = Trialdurations_food[\"food\"].map(\n",
    "#     {\"Food\": \"Yes\", \"noFood\": \"No\"}\n",
    "# )\n"
   ]
  },
  {
   "cell_type": "code",
   "execution_count": null,
   "metadata": {},
   "outputs": [],
   "source": [
    "box = (\n",
    "    hv.BoxWhisker(\n",
    "        data=Trialdurations_food, kdims=[\"TrialNumber\", \"food\"], vdims=[\"duration_s\"]\n",
    "    )\n",
    "    .groupby(\"food\")\n",
    "    .opts(\n",
    "        # cmap=\"RdYlGn\",\n",
    "        box_fill_color=\"lightgray\",\n",
    "        box_fill_alpha=1,\n",
    "        # box_line_color=\"gray\",\n",
    "        outlier_alpha=0,\n",
    "    )\n",
    ")\n",
    "\n",
    "points = (\n",
    "    hv.Scatter(\n",
    "        data=Trialdurations_food,\n",
    "        kdims=[\"TrialNumber\"],\n",
    "        vdims=[\"duration_s\", \"food\", \"rank\"],\n",
    "    )\n",
    "    .groupby([\"food\", \"rank\"])\n",
    "    .opts(\n",
    "        color=hv.Palette(\"RdYlBu\"),\n",
    "        jitter=0,\n",
    "        marker=\"x\",\n",
    "    )\n",
    ").overlay(\"rank\")\n",
    "\n",
    "points_solo = (\n",
    "    hv.Scatter(\n",
    "        data=Trialdurations_food,\n",
    "        kdims=[\"TrialNumber\"],\n",
    "        vdims=[\n",
    "            \"duration_s\",\n",
    "            \"food\",\n",
    "        ],\n",
    "    )\n",
    "    .groupby(\n",
    "        [\n",
    "            \"food\",\n",
    "        ]\n",
    "    )\n",
    "    .opts(\n",
    "        color=hv.Palette(\"RdYlBu\"),\n",
    "        jitter=0.2,\n",
    "        # marker=\"x\",\n",
    "        size=5,\n",
    "        alpha=0.5,\n",
    "    )\n",
    ")\n",
    "\n",
    "lines2 = (\n",
    "    hv.Curve(\n",
    "        data=Trialdurations_food,\n",
    "        kdims=[\"TrialNumber\"],\n",
    "        vdims=[\"duration_s\", \"food\", \"rank\"],\n",
    "    )\n",
    "    .groupby([\"food\", \"rank\"])\n",
    "    .opts(\n",
    "        color=hv.Palette(\"RdYlBu\"),\n",
    "        alpha=1,\n",
    "        line_width=1.5,\n",
    "        # jitter=0.4,\n",
    "    )\n",
    ").overlay(\"rank\")\n",
    "\n",
    "Annotation = hv.Text(0, -30, f\"{nflies_food}\")\n",
    "\n",
    "Layout = (box * lines2 * points).opts(\n",
    "    height=750,\n",
    "    width=1000,\n",
    "    framewise=True,\n",
    "    xlabel=\"Trial\",\n",
    "    ylabel=\"Duration (sec)\",\n",
    "    show_grid=True,\n",
    "    fontscale=1.5,\n",
    ")\n",
    "Layout_Light = (box * points_solo).opts(\n",
    "    height=750,\n",
    "    width=1000,\n",
    "    framewise=True,\n",
    "    xlabel=\"Trial\",\n",
    "    ylabel=\"Duration (sec)\",\n",
    "    show_grid=True,\n",
    "    fontscale=1.5,\n",
    ")\n",
    "Layout"
   ]
  },
  {
   "cell_type": "code",
   "execution_count": null,
   "metadata": {},
   "outputs": [],
   "source": [
    "hv.save(\n",
    "    Layout,\n",
    "    \"/mnt/labserver/DURRIEU_Matthias/Pictures/230221_LabMeeting/SplitFood.html\",\n",
    "    fmt=\"html\",\n",
    ")"
   ]
  },
  {
   "attachments": {},
   "cell_type": "markdown",
   "metadata": {},
   "source": [
    "Line is doing something weird"
   ]
  },
  {
   "cell_type": "code",
   "execution_count": null,
   "metadata": {},
   "outputs": [],
   "source": [
    "linestest = (\n",
    "    hv.Curve(\n",
    "        data=Trialdurations_food,\n",
    "        kdims=[\"TrialNumber\"],\n",
    "        vdims=[\"duration_s\", \"food\", \"rank\"],\n",
    "    )\n",
    "    .groupby([\"food\", \"rank\"])\n",
    "    .opts(\n",
    "        color=hv.Palette(\"RdYlGn\"),\n",
    "        alpha=0.8,\n",
    "        line_width=1,\n",
    "        # jitter=0.4,\n",
    "    )\n",
    ").overlay()\n",
    "\n",
    "linestest"
   ]
  },
  {
   "cell_type": "code",
   "execution_count": null,
   "metadata": {},
   "outputs": [],
   "source": [
    "hv.help(hv.BoxWhisker)"
   ]
  },
  {
   "attachments": {},
   "cell_type": "markdown",
   "metadata": {},
   "source": [
    "Pooled data"
   ]
  },
  {
   "cell_type": "code",
   "execution_count": null,
   "metadata": {},
   "outputs": [],
   "source": [
    "box_pool = hv.BoxWhisker(\n",
    "    data=Trialdurations_food, kdims=[\"TrialNumber\"], vdims=[\"duration_s\"]\n",
    ").opts(\n",
    "    # cmap=\"RdYlGn\",\n",
    "    box_fill_color=\"lightgray\",\n",
    "    box_fill_alpha=1,\n",
    "    # box_line_color=\"gray\",\n",
    ")\n",
    "\n",
    "points_pool = (\n",
    "    hv.Scatter(\n",
    "        data=Trialdurations_food,\n",
    "        kdims=[\"TrialNumber\"],\n",
    "        vdims=[\"duration_s\", \"rank\"],\n",
    "    )\n",
    "    .groupby([\"rank\"])\n",
    "    .opts(\n",
    "        color=hv.Palette(\"RdYlBu\"),\n",
    "        jitter=0,\n",
    "        marker=\"x\",\n",
    "    )\n",
    ").overlay(\"rank\")\n",
    "\n",
    "\n",
    "lines2_pool = (\n",
    "    hv.Curve(\n",
    "        data=Trialdurations_food,\n",
    "        kdims=[\"TrialNumber\"],\n",
    "        vdims=[\"duration_s\", \"rank\"],\n",
    "    )\n",
    "    .groupby([\"rank\"])\n",
    "    .opts(\n",
    "        color=hv.Palette(\"RdYlBu\"),\n",
    "        alpha=1,\n",
    "        line_width=1.5,\n",
    "        # jitter=0.4,\n",
    "    )\n",
    ").overlay(\"rank\")\n",
    "\n",
    "points_solo = hv.Scatter(\n",
    "    data=Trialdurations_food,\n",
    "    kdims=[\"TrialNumber\"],\n",
    "    vdims=[\n",
    "        \"duration_s\",\n",
    "    ],\n",
    ").opts(\n",
    "    color=hv.Palette(\"RdYlBu\"),\n",
    "    jitter=0.2,\n",
    "    # marker=\"x\",\n",
    "    size=5,\n",
    "    alpha=0.5,\n",
    ")\n",
    "\n",
    "Annotation = hv.Text(0, -30, f\"{nflies_food}\")\n",
    "\n",
    "Layout = (box_pool * lines2_pool * points_pool).opts(\n",
    "    height=750,\n",
    "    width=1000,\n",
    "    framewise=True,\n",
    "    xlabel=\"Trial\",\n",
    "    ylabel=\"Duration (sec)\",\n",
    "    show_grid=True,\n",
    "    fontscale=1.5,\n",
    ")\n",
    "\n",
    "# Layout\n",
    "\n",
    "Layout_Light = (box_pool * points_solo).opts(\n",
    "    height=750,\n",
    "    width=1000,\n",
    "    framewise=True,\n",
    "    xlabel=\"Trial\",\n",
    "    ylabel=\"Duration (sec)\",\n",
    "    show_grid=True,\n",
    "    fontscale=1.5,\n",
    ")\n",
    "\n",
    "Layout_Light"
   ]
  },
  {
   "cell_type": "code",
   "execution_count": null,
   "metadata": {},
   "outputs": [],
   "source": [
    "hv.save(\n",
    "    Layout,\n",
    "    \"/mnt/labserver/DURRIEU_Matthias/Pictures/230221_LabMeeting/pooled.html\",\n",
    "    fmt=\"html\",\n",
    ")"
   ]
  },
  {
   "attachments": {},
   "cell_type": "markdown",
   "metadata": {},
   "source": [
    "# Cumulated plot"
   ]
  },
  {
   "cell_type": "code",
   "execution_count": null,
   "metadata": {},
   "outputs": [],
   "source": [
    "# for each fly and each trial, get the index of the first frame of the trial\n",
    "first_frame = (\n",
    "    pooled.groupby([\"fly\", \"TrialNumber\"])\n",
    "    .first()\n",
    "    .reset_index()\n",
    "    .loc[:, [\"fly\", \"TrialNumber\", \"frame\", \"food\"]]\n",
    ")"
   ]
  },
  {
   "cell_type": "code",
   "execution_count": null,
   "metadata": {},
   "outputs": [],
   "source": [
    "# Remove the first trial of each fly from first_frame\n",
    "first_frame = first_frame[first_frame[\"TrialNumber\"] != 1]"
   ]
  },
  {
   "cell_type": "code",
   "execution_count": null,
   "metadata": {},
   "outputs": [],
   "source": [
    "# Sort first_frame by frame value\n",
    "first_frame = first_frame.sort_values(by=\"frame\")"
   ]
  },
  {
   "cell_type": "code",
   "execution_count": null,
   "metadata": {},
   "outputs": [],
   "source": [
    "# Build a column incrementing by 1 for each value of frame\n",
    "first_frame[\"cumulated_success\"] = range(1, len(first_frame) + 1)\n",
    "first_frame[\"frametime\"] = first_frame[\"frame\"] / 80"
   ]
  },
  {
   "cell_type": "code",
   "execution_count": null,
   "metadata": {},
   "outputs": [],
   "source": [
    "# Plot the cumulative success\n",
    "\n",
    "cumulcurve_first = (\n",
    "    hv.Curve(\n",
    "        data=first_frame,\n",
    "        kdims=[\"frametime\"],\n",
    "        vdims=[\n",
    "            \"cumulated_success\",\n",
    "            \"food\",\n",
    "        ],\n",
    "    )\n",
    "    .groupby(\n",
    "        [\n",
    "            \"food\",\n",
    "        ]\n",
    "    )\n",
    "    .opts(\n",
    "        height=750,\n",
    "        width=1000,\n",
    "        # color=\"black\",\n",
    "        alpha=0.8,\n",
    "        line_width=1,\n",
    "        xlabel=\"Time(s)\",\n",
    "        ylabel=\"Cumulative success\",\n",
    "        show_grid=True,\n",
    "        fontscale=1.5,\n",
    "    )\n",
    ")\n",
    "hv.save(\n",
    "    cumulcurve_first,\n",
    "    \"/Volumes/Ramdya-Lab/DURRIEU_Matthias/Pictures/230316_TeamMeeting/cumulcurve_first.html\",\n",
    "    fmt=\"html\",\n",
    ")\n",
    "# cumulcurve_first"
   ]
  },
  {
   "cell_type": "code",
   "execution_count": null,
   "metadata": {},
   "outputs": [],
   "source": []
  },
  {
   "cell_type": "code",
   "execution_count": null,
   "metadata": {},
   "outputs": [],
   "source": [
    "# Create a column that for each fly increments by 1 each time a new trial starts in pooled\n",
    "pooled[\"cumulated_success\"] = pooled[\"TrialNumber\"] - 1\n",
    "pooled[\"Time_reel\"] = pooled[\"index\"] / 80"
   ]
  },
  {
   "cell_type": "code",
   "execution_count": null,
   "metadata": {},
   "outputs": [],
   "source": []
  },
  {
   "cell_type": "code",
   "execution_count": null,
   "metadata": {},
   "outputs": [],
   "source": [
    "cumulcurve = (\n",
    "    hv.Curve(\n",
    "        data=pooled,\n",
    "        kdims=[\"Time_reel\"],\n",
    "        vdims=[\"cumulated_success\", \"food\", \"fly\"],\n",
    "    )\n",
    "    .groupby([\"food\", \"fly\"])\n",
    "    .opts(\n",
    "        height=750,\n",
    "        width=1000,\n",
    "        # color=\"black\",\n",
    "        alpha=0.8,\n",
    "        line_width=1,\n",
    "        xlabel=\"Time(s)\",\n",
    "        ylabel=\"Cumulative success\",\n",
    "        show_grid=True,\n",
    "        fontscale=1.5,\n",
    "    )\n",
    ").overlay(\"fly\")\n",
    "hv.save(\n",
    "    cumulcurve,\n",
    "    \"/Volumes/Ramdya-Lab/DURRIEU_Matthias/Pictures/230316_TeamMeeting/cumulcurve.html\",\n",
    "    fmt=\"html\",\n",
    ")\n",
    "# cumulcurve"
   ]
  },
  {
   "cell_type": "code",
   "execution_count": null,
   "metadata": {},
   "outputs": [],
   "source": []
  },
  {
   "cell_type": "code",
   "execution_count": null,
   "metadata": {},
   "outputs": [],
   "source": [
    "GroupData = (\n",
    "    pooled.groupby(\n",
    "        [\n",
    "            \"Time_reel\",\n",
    "            \"food\",\n",
    "        ]\n",
    "    )\n",
    "    .mean()\n",
    "    .reset_index()\n",
    ")"
   ]
  },
  {
   "cell_type": "code",
   "execution_count": null,
   "metadata": {},
   "outputs": [],
   "source": [
    "cumulcurve_pool = (\n",
    "    hv.Curve(\n",
    "        data=GroupData,\n",
    "        kdims=[\"Time_reel\"],\n",
    "        vdims=[\n",
    "            \"cumulated_success\",\n",
    "            \"food\",\n",
    "        ],\n",
    "    )\n",
    "    .groupby(\n",
    "        [\n",
    "            \"food\",\n",
    "        ]\n",
    "    )\n",
    "    .opts(\n",
    "        height=750,\n",
    "        width=1000,\n",
    "        # color=\"black\",\n",
    "        alpha=0.8,\n",
    "        line_width=1,\n",
    "        xlabel=\"Time(s)\",\n",
    "        ylabel=\"Cumulative success\",\n",
    "        show_grid=True,\n",
    "        fontscale=1.5,\n",
    "    )\n",
    ")\n",
    "hv.save(\n",
    "    cumulcurve_pool,\n",
    "    \"/Volumes/Ramdya-Lab/DURRIEU_Matthias/Pictures/230316_TeamMeeting/cumulcurve_pool.html\",\n",
    "    fmt=\"html\",\n",
    ")\n",
    "# cumulcurve_pool"
   ]
  },
  {
   "attachments": {},
   "cell_type": "markdown",
   "metadata": {},
   "source": [
    "Add error bars"
   ]
  },
  {
   "attachments": {},
   "cell_type": "markdown",
   "metadata": {},
   "source": [
    "The right function here is hv.spread"
   ]
  },
  {
   "attachments": {},
   "cell_type": "markdown",
   "metadata": {},
   "source": [
    "First compute bootstrapped confidence interval for the points\n",
    "\n",
    "Then plot the points with the confidence interval"
   ]
  },
  {
   "cell_type": "code",
   "execution_count": null,
   "metadata": {},
   "outputs": [],
   "source": [
    "Groups = pooled.groupby(\n",
    "    [\n",
    "        \"Time_reel\",\n",
    "        \"food\",\n",
    "    ]\n",
    ")\n",
    "Groups"
   ]
  },
  {
   "cell_type": "code",
   "execution_count": null,
   "metadata": {},
   "outputs": [],
   "source": [
    "# Apply draw_bs_ci function to the pooled dataframe grouped by time_reel and food\n",
    "bs_ci = Groups[\"cumulated_success\"].apply(draw_bs_ci)"
   ]
  },
  {
   "cell_type": "code",
   "execution_count": null,
   "metadata": {},
   "outputs": [],
   "source": [
    "Groups = pooled.groupby([\"food\"])"
   ]
  },
  {
   "cell_type": "code",
   "execution_count": null,
   "metadata": {},
   "outputs": [],
   "source": [
    "Groups"
   ]
  },
  {
   "cell_type": "code",
   "execution_count": null,
   "metadata": {},
   "outputs": [],
   "source": [
    "# get average cumulated success on Groups data\n",
    "cumul_success = Groups[\"cumulated_success\"].mean().reset_index()\n",
    "\n",
    "cumul_success overtime"
   ]
  },
  {
   "cell_type": "code",
   "execution_count": null,
   "metadata": {},
   "outputs": [],
   "source": [
    "Grp_avg = pooled.groupby([\"food\", \"Time\"]).mean()"
   ]
  },
  {
   "attachments": {},
   "cell_type": "markdown",
   "metadata": {},
   "source": [
    "Not a good approach. Better is just do the same as above but with the pooled data"
   ]
  },
  {
   "cell_type": "code",
   "execution_count": null,
   "metadata": {},
   "outputs": [],
   "source": [
    "timesort = pooled.sort_values(by=\"Time\")\n",
    "timesort"
   ]
  },
  {
   "cell_type": "code",
   "execution_count": null,
   "metadata": {},
   "outputs": [],
   "source": [
    "timesort[pool_success] = "
   ]
  }
 ],
 "metadata": {
  "kernelspec": {
   "display_name": "TrackingAnalysis",
   "language": "python",
   "name": "python3"
  },
  "language_info": {
   "codemirror_mode": {
    "name": "ipython",
    "version": 3
   },
   "file_extension": ".py",
   "mimetype": "text/x-python",
   "name": "python",
   "nbconvert_exporter": "python",
   "pygments_lexer": "ipython3",
   "version": "3.10.4"
  },
  "orig_nbformat": 4,
  "vscode": {
   "interpreter": {
    "hash": "a10dcd6c5ba4f841b08c213cb10df2391c63c1275edb19c558150bb17ce2d2c0"
   }
  }
 },
 "nbformat": 4,
 "nbformat_minor": 2
}
