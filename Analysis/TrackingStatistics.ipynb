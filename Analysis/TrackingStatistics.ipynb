{
 "cells": [
  {
   "attachments": {},
   "cell_type": "markdown",
   "metadata": {},
   "source": [
    "This notebook is meant to explore tracking data statistics across flies. The first element in there is about generating a 'pooled' dataset where all the dataframes are concatenated in one while keeping track of flies identity and conditions."
   ]
  },
  {
   "attachments": {},
   "cell_type": "markdown",
   "metadata": {},
   "source": [
    "# Libraries import"
   ]
  },
  {
   "cell_type": "code",
   "execution_count": null,
   "metadata": {},
   "outputs": [],
   "source": [
    "import sys\n",
    "from pathlib import Path\n",
    "import matplotlib as mpl\n",
    "\n",
    "mpl.rcParams[\"figure.figsize\"] = (\n",
    "    10,\n",
    "    10,\n",
    ")  # Change figure size including in the jupyter outputs.\n",
    "import matplotlib.pyplot as plt\n",
    "import pandas as pd\n",
    "import numpy as np\n",
    "import mpmath\n",
    "import cv2\n",
    "\n",
    "sys.modules[\"sympy.mpmath\"] = mpmath\n",
    "from scipy import signal\n",
    "import datetime\n",
    "import dateutil\n",
    "import bokeh.io\n",
    "import holoviews as hv\n",
    "from holoviews import opts\n",
    "\n",
    "hv.extension(\n",
    "    \"bokeh\",\n",
    "    \"matplotlib\",\n",
    ")\n",
    "bokeh.io.output_notebook()\n",
    "\n",
    "import panel as pn\n",
    "\n",
    "\n",
    "sys.path.insert(0, \"..\")\n",
    "\n",
    "from Utilities.Utils import *\n",
    "from Utilities.Processing import *\n",
    "\n",
    "import black\n",
    "import jupyter_black\n",
    "\n",
    "jupyter_black.load()"
   ]
  },
  {
   "attachments": {},
   "cell_type": "markdown",
   "metadata": {},
   "source": [
    "# Path and data import"
   ]
  },
  {
   "cell_type": "code",
   "execution_count": null,
   "metadata": {},
   "outputs": [],
   "source": [
    "DataPath = [\n",
    "    Path(\n",
    "        \"/Volumes/Ramdya-Lab/DURRIEU_Matthias/Experimental_data/Optogenetics/Optobot/MultiMaze_15stepped_gated_bowtie\"\n",
    "    ),\n",
    "    Path(\n",
    "        \"/Volumes/Ramdya-Lab/DURRIEU_Matthias/Experimental_data/Optogenetics/Optobot/MultiMaze_15stepped_gated_bowtie_noFood\"\n",
    "    ),\n",
    "]"
   ]
  },
  {
   "cell_type": "markdown",
   "metadata": {},
   "source": []
  },
  {
   "cell_type": "code",
   "execution_count": null,
   "metadata": {},
   "outputs": [],
   "source": [
    "# for each dataset, load the data and append it to the pooled dataframe\n",
    "pooled = pd.DataFrame()\n",
    "count = 0\n",
    "for paths in DataPath:\n",
    "    datasets = list(paths.glob(\"**/BallPositions_processed.feather\"))\n",
    "    for dataset in datasets:\n",
    "        df = pd.read_feather(dataset)\n",
    "        # add a column with the dataset name\n",
    "        count += 1\n",
    "        df[\"fly\"] = f\"Fly {count}\"\n",
    "        # check if the dataframe path contains \"noFood\"\n",
    "        if \"noFood\" in str(dataset):\n",
    "            df[\"food\"] = \"noFood\"\n",
    "        else:\n",
    "            df[\"food\"] = \"Food\"\n",
    "        pooled = pooled.append(df)"
   ]
  },
  {
   "attachments": {},
   "cell_type": "markdown",
   "metadata": {},
   "source": [
    "# Compute average value for ysmooth grouped by trial and fly"
   ]
  },
  {
   "cell_type": "code",
   "execution_count": null,
   "metadata": {},
   "outputs": [],
   "source": [
    "# Get average ysmooth over time grouped by trial and fly\n",
    "\n",
    "Group = pooled.groupby([\"food\", \"TrialNumber\", \"Time\"])"
   ]
  },
  {
   "cell_type": "code",
   "execution_count": null,
   "metadata": {},
   "outputs": [],
   "source": [
    "Group_avg = Group.mean()\n",
    "Group_med = Group.median()"
   ]
  },
  {
   "cell_type": "code",
   "execution_count": null,
   "metadata": {},
   "outputs": [],
   "source": [
    "Curves = (\n",
    "    hv.Curve(\n",
    "        data=Group_avg,\n",
    "        kdims=[\"Time\"],\n",
    "        vdims=[\n",
    "            \"ysmooth\",\n",
    "            \"TrialNumber\",\n",
    "            \"food\",\n",
    "        ],\n",
    "    )\n",
    "    .groupby([\"food\", \"TrialNumber\"])\n",
    "    .opts(\n",
    "        height=1000,\n",
    "        width=1000,\n",
    "        invert_yaxis=True,\n",
    "        color=hv.Palette(\"Viridis\"),\n",
    "        tools=[\n",
    "            \"hover\",\n",
    "            \"crosshair\",\n",
    "        ],\n",
    "        muted=True,\n",
    "    )\n",
    "    .overlay(\"TrialNumber\")\n",
    ")\n",
    "Curves"
   ]
  },
  {
   "attachments": {},
   "cell_type": "markdown",
   "metadata": {},
   "source": [
    "## Plot average value for ysmooth grouped by trial and fly, with a panel with and without food"
   ]
  },
  {
   "cell_type": "code",
   "execution_count": null,
   "metadata": {},
   "outputs": [],
   "source": [
    "Curves = (\n",
    "    hv.Curve(\n",
    "        data=Group_avg,\n",
    "        kdims=[\"Time\"],\n",
    "        vdims=[\n",
    "            \"ysmooth\",\n",
    "            \"TrialNumber\",\n",
    "            \"food\",\n",
    "        ],\n",
    "    )\n",
    "    .groupby([\"food\", \"TrialNumber\"])\n",
    "    .opts(\n",
    "        height=1000,\n",
    "        width=1000,\n",
    "        invert_yaxis=True,\n",
    "        color=hv.Palette(\"Viridis\"),\n",
    "        tools=[\n",
    "            \"hover\",\n",
    "            \"crosshair\",\n",
    "        ],\n",
    "        muted=True,\n",
    "    )\n",
    "    .overlay(\"TrialNumber\")\n",
    ")\n",
    "Curves"
   ]
  },
  {
   "attachments": {},
   "cell_type": "markdown",
   "metadata": {},
   "source": []
  },
  {
   "attachments": {},
   "cell_type": "markdown",
   "metadata": {},
   "source": [
    "## Plot with median instead to get estimates less impacted by outliers"
   ]
  },
  {
   "cell_type": "code",
   "execution_count": null,
   "metadata": {},
   "outputs": [],
   "source": [
    "Curves = (\n",
    "    hv.Curve(\n",
    "        data=Group_med,\n",
    "        kdims=[\"Time\"],\n",
    "        vdims=[\n",
    "            \"ysmooth\",\n",
    "            \"TrialNumber\",\n",
    "            \"food\",\n",
    "        ],\n",
    "    )\n",
    "    .groupby([\"food\", \"TrialNumber\"])\n",
    "    .opts(\n",
    "        height=1000,\n",
    "        width=1000,\n",
    "        invert_yaxis=True,\n",
    "        color=hv.Palette(\"Viridis\"),\n",
    "        tools=[\n",
    "            \"hover\",\n",
    "            \"crosshair\",\n",
    "        ],\n",
    "        muted=True,\n",
    "    )\n",
    "    .overlay(\"TrialNumber\")\n",
    ")\n",
    "Curves"
   ]
  },
  {
   "cell_type": "code",
   "execution_count": null,
   "metadata": {},
   "outputs": [],
   "source": []
  },
  {
   "attachments": {},
   "cell_type": "markdown",
   "metadata": {},
   "source": [
    "## Pooled plots"
   ]
  },
  {
   "cell_type": "code",
   "execution_count": null,
   "metadata": {},
   "outputs": [],
   "source": [
    "Group = pooled.groupby([\"TrialNumber\", \"Time\"])\n",
    "Group_avg = Group.mean()\n",
    "Group_med = Group.median()"
   ]
  },
  {
   "cell_type": "code",
   "execution_count": null,
   "metadata": {},
   "outputs": [],
   "source": [
    "Curves = (\n",
    "    hv.Curve(\n",
    "        data=Group_avg,\n",
    "        kdims=[\"Time\"],\n",
    "        vdims=[\n",
    "            \"ysmooth\",\n",
    "            \"TrialNumber\",\n",
    "        ],\n",
    "    )\n",
    "    .groupby([\"TrialNumber\"])\n",
    "    .opts(\n",
    "        height=1000,\n",
    "        width=1000,\n",
    "        invert_yaxis=True,\n",
    "        color=hv.Palette(\"Viridis\"),\n",
    "        tools=[\n",
    "            \"hover\",\n",
    "            \"crosshair\",\n",
    "        ],\n",
    "        muted=True,\n",
    "    )\n",
    "    .overlay()\n",
    ")\n",
    "Curves"
   ]
  },
  {
   "cell_type": "code",
   "execution_count": null,
   "metadata": {},
   "outputs": [],
   "source": [
    "hv.save(Curves, \"/Users/ulric/Downloads/Average_Pooled.html\")"
   ]
  },
  {
   "attachments": {},
   "cell_type": "markdown",
   "metadata": {},
   "source": [
    "# Plot average trial duration grouped by trial and fly"
   ]
  },
  {
   "cell_type": "code",
   "execution_count": null,
   "metadata": {},
   "outputs": [],
   "source": [
    "Trialdurations = pooled.groupby([\"fly\", \"TrialNumber\"]).apply(lambda x: x[\"Time\"].max())"
   ]
  },
  {
   "cell_type": "code",
   "execution_count": null,
   "metadata": {},
   "outputs": [],
   "source": [
    "# convert Trialdurations to a dataframe and reset index to get fly and TrialNumber as columns\n",
    "Trialdurations = pd.DataFrame(Trialdurations).reset_index()\n",
    "# rename column 0 to \"duration\"\n",
    "Trialdurations.rename(columns={0: \"duration\"}, inplace=True)\n",
    "\n",
    "Trialdurations"
   ]
  },
  {
   "cell_type": "code",
   "execution_count": null,
   "metadata": {},
   "outputs": [],
   "source": [
    "# Add column with converted durations in seconds\n",
    "Trialdurations[\"duration_s\"] = frame2time(\n",
    "    Trialdurations[\"duration\"], reverse=False, fps=80\n",
    ")"
   ]
  },
  {
   "cell_type": "code",
   "execution_count": null,
   "metadata": {},
   "outputs": [],
   "source": []
  },
  {
   "cell_type": "code",
   "execution_count": null,
   "metadata": {},
   "outputs": [],
   "source": [
    "# compute average duration grouped by TrialNumber\n",
    "Grouped_avg = Trialdurations.groupby(\"TrialNumber\").mean()"
   ]
  },
  {
   "cell_type": "code",
   "execution_count": null,
   "metadata": {},
   "outputs": [],
   "source": [
    "box = hv.BoxWhisker(data=Trialdurations, kdims=\"TrialNumber\", vdims=\"duration_s\").opts(\n",
    "    height=500,\n",
    "    width=500,\n",
    "    framewise=True,\n",
    "    cmap=\"Viridis\",\n",
    "    xlabel=\"Trial\",\n",
    "    ylabel=\"Duration (sec)\",\n",
    "    # ylim=(0, 40),\n",
    "    # box_color=\"TrialNumber\",\n",
    "    box_fill_alpha=0,\n",
    "    # invert_axes=True,\n",
    "    # invert_yaxis=True,\n",
    "    # box_line_color=\"gray\",\n",
    ")\n",
    "\n",
    "points = hv.Scatter(data=Trialdurations, kdims=\"TrialNumber\", vdims=\"duration_s\").opts(\n",
    "    framewise=True,\n",
    "    cmap=\"Viridis\",\n",
    "    # invert_axes=True,\n",
    "    # invert_yaxis=True,\n",
    "    # ylim=(0, 40),\n",
    "    color=\"TrialNumber\",\n",
    "    jitter=0.4,\n",
    ")\n",
    "\n",
    "\n",
    "box * points"
   ]
  },
  {
   "attachments": {},
   "cell_type": "markdown",
   "metadata": {},
   "source": [
    "## Grouped by food  condition"
   ]
  },
  {
   "cell_type": "code",
   "execution_count": null,
   "metadata": {},
   "outputs": [],
   "source": [
    "Trialdurations_food = pooled.groupby([\"food\", \"fly\", \"TrialNumber\"]).apply(\n",
    "    lambda x: x[\"Time\"].max()\n",
    ")"
   ]
  },
  {
   "cell_type": "code",
   "execution_count": null,
   "metadata": {},
   "outputs": [],
   "source": [
    "Trialdurations_food = pd.DataFrame(Trialdurations_food).reset_index()\n",
    "Trialdurations_food.rename(columns={0: \"duration\"}, inplace=True)\n",
    "\n",
    "Trialdurations_food"
   ]
  },
  {
   "cell_type": "code",
   "execution_count": null,
   "metadata": {},
   "outputs": [],
   "source": [
    "Trialdurations_food[\"duration_s\"] = frame2time(\n",
    "    Trialdurations_food[\"duration\"], reverse=False, fps=80\n",
    ")"
   ]
  },
  {
   "cell_type": "code",
   "execution_count": null,
   "metadata": {},
   "outputs": [],
   "source": [
    "box = (\n",
    "    hv.BoxWhisker(\n",
    "        data=Trialdurations_food, kdims=[\"TrialNumber\", \"food\"], vdims=[\"duration_s\"]\n",
    "    )\n",
    "    .groupby(\"food\")\n",
    "    .opts(\n",
    "        height=500,\n",
    "        width=500,\n",
    "        framewise=True,\n",
    "        cmap=\"Viridis\",\n",
    "        xlabel=\"Trial\",\n",
    "        ylabel=\"Duration (sec)\",\n",
    "        # ylim=(0, 40),\n",
    "        # box_color=\"TrialNumber\",\n",
    "        box_fill_alpha=0,\n",
    "        # invert_axes=True,\n",
    "        # invert_yaxis=True,\n",
    "        # box_line_color=\"gray\",\n",
    "    )\n",
    ")\n",
    "\n",
    "points = (\n",
    "    hv.Scatter(\n",
    "        data=Trialdurations_food, kdims=[\"TrialNumber\", \"food\"], vdims=[\"duration_s\"]\n",
    "    )\n",
    "    .groupby(\"food\")\n",
    "    .opts(\n",
    "        framewise=True,\n",
    "        cmap=\"Viridis\",\n",
    "        # invert_axes=True,\n",
    "        # invert_yaxis=True,\n",
    "        # ylim=(0, 40),\n",
    "        color=\"TrialNumber\",\n",
    "        jitter=0.4,\n",
    "    )\n",
    ")\n",
    "\n",
    "\n",
    "box * points"
   ]
  },
  {
   "cell_type": "code",
   "execution_count": null,
   "metadata": {},
   "outputs": [],
   "source": []
  }
 ],
 "metadata": {
  "kernelspec": {
   "display_name": "TrackingAnalysis",
   "language": "python",
   "name": "python3"
  },
  "language_info": {
   "codemirror_mode": {
    "name": "ipython",
    "version": 3
   },
   "file_extension": ".py",
   "mimetype": "text/x-python",
   "name": "python",
   "nbconvert_exporter": "python",
   "pygments_lexer": "ipython3",
   "version": "3.10.4"
  },
  "orig_nbformat": 4,
  "vscode": {
   "interpreter": {
    "hash": "a10dcd6c5ba4f841b08c213cb10df2391c63c1275edb19c558150bb17ce2d2c0"
   }
  }
 },
 "nbformat": 4,
 "nbformat_minor": 2
}
