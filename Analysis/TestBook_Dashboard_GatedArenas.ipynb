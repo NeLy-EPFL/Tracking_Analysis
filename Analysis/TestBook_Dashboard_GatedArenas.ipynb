{
 "cells": [
  {
   "cell_type": "code",
   "execution_count": 1,
   "metadata": {
    "collapsed": false,
    "jupyter": {
     "outputs_hidden": false
    },
    "pycharm": {
     "name": "#%%\n"
    }
   },
   "outputs": [
    {
     "data": {
      "text/html": "<div class=\"bk-root\">\n        <a href=\"https://bokeh.org\" target=\"_blank\" class=\"bk-logo bk-logo-small bk-logo-notebook\"></a>\n        <span id=\"1002\">Loading BokehJS ...</span>\n    </div>\n"
     },
     "metadata": {},
     "output_type": "display_data"
    },
    {
     "data": {
      "application/javascript": "(function(root) {\n  function now() {\n    return new Date();\n  }\n\n  const force = true;\n\n  if (typeof root._bokeh_onload_callbacks === \"undefined\" || force === true) {\n    root._bokeh_onload_callbacks = [];\n    root._bokeh_is_loading = undefined;\n  }\n\nconst JS_MIME_TYPE = 'application/javascript';\n  const HTML_MIME_TYPE = 'text/html';\n  const EXEC_MIME_TYPE = 'application/vnd.bokehjs_exec.v0+json';\n  const CLASS_NAME = 'output_bokeh rendered_html';\n\n  /**\n   * Render data to the DOM node\n   */\n  function render(props, node) {\n    const script = document.createElement(\"script\");\n    node.appendChild(script);\n  }\n\n  /**\n   * Handle when an output is cleared or removed\n   */\n  function handleClearOutput(event, handle) {\n    const cell = handle.cell;\n\n    const id = cell.output_area._bokeh_element_id;\n    const server_id = cell.output_area._bokeh_server_id;\n    // Clean up Bokeh references\n    if (id != null && id in Bokeh.index) {\n      Bokeh.index[id].model.document.clear();\n      delete Bokeh.index[id];\n    }\n\n    if (server_id !== undefined) {\n      // Clean up Bokeh references\n      const cmd_clean = \"from bokeh.io.state import curstate; print(curstate().uuid_to_server['\" + server_id + \"'].get_sessions()[0].document.roots[0]._id)\";\n      cell.notebook.kernel.execute(cmd_clean, {\n        iopub: {\n          output: function(msg) {\n            const id = msg.content.text.trim();\n            if (id in Bokeh.index) {\n              Bokeh.index[id].model.document.clear();\n              delete Bokeh.index[id];\n            }\n          }\n        }\n      });\n      // Destroy server and session\n      const cmd_destroy = \"import bokeh.io.notebook as ion; ion.destroy_server('\" + server_id + \"')\";\n      cell.notebook.kernel.execute(cmd_destroy);\n    }\n  }\n\n  /**\n   * Handle when a new output is added\n   */\n  function handleAddOutput(event, handle) {\n    const output_area = handle.output_area;\n    const output = handle.output;\n\n    // limit handleAddOutput to display_data with EXEC_MIME_TYPE content only\n    if ((output.output_type != \"display_data\") || (!Object.prototype.hasOwnProperty.call(output.data, EXEC_MIME_TYPE))) {\n      return\n    }\n\n    const toinsert = output_area.element.find(\".\" + CLASS_NAME.split(' ')[0]);\n\n    if (output.metadata[EXEC_MIME_TYPE][\"id\"] !== undefined) {\n      toinsert[toinsert.length - 1].firstChild.textContent = output.data[JS_MIME_TYPE];\n      // store reference to embed id on output_area\n      output_area._bokeh_element_id = output.metadata[EXEC_MIME_TYPE][\"id\"];\n    }\n    if (output.metadata[EXEC_MIME_TYPE][\"server_id\"] !== undefined) {\n      const bk_div = document.createElement(\"div\");\n      bk_div.innerHTML = output.data[HTML_MIME_TYPE];\n      const script_attrs = bk_div.children[0].attributes;\n      for (let i = 0; i < script_attrs.length; i++) {\n        toinsert[toinsert.length - 1].firstChild.setAttribute(script_attrs[i].name, script_attrs[i].value);\n        toinsert[toinsert.length - 1].firstChild.textContent = bk_div.children[0].textContent\n      }\n      // store reference to server id on output_area\n      output_area._bokeh_server_id = output.metadata[EXEC_MIME_TYPE][\"server_id\"];\n    }\n  }\n\n  function register_renderer(events, OutputArea) {\n\n    function append_mime(data, metadata, element) {\n      // create a DOM node to render to\n      const toinsert = this.create_output_subarea(\n        metadata,\n        CLASS_NAME,\n        EXEC_MIME_TYPE\n      );\n      this.keyboard_manager.register_events(toinsert);\n      // Render to node\n      const props = {data: data, metadata: metadata[EXEC_MIME_TYPE]};\n      render(props, toinsert[toinsert.length - 1]);\n      element.append(toinsert);\n      return toinsert\n    }\n\n    /* Handle when an output is cleared or removed */\n    events.on('clear_output.CodeCell', handleClearOutput);\n    events.on('delete.Cell', handleClearOutput);\n\n    /* Handle when a new output is added */\n    events.on('output_added.OutputArea', handleAddOutput);\n\n    /**\n     * Register the mime type and append_mime function with output_area\n     */\n    OutputArea.prototype.register_mime_type(EXEC_MIME_TYPE, append_mime, {\n      /* Is output safe? */\n      safe: true,\n      /* Index of renderer in `output_area.display_order` */\n      index: 0\n    });\n  }\n\n  // register the mime type if in Jupyter Notebook environment and previously unregistered\n  if (root.Jupyter !== undefined) {\n    const events = require('base/js/events');\n    const OutputArea = require('notebook/js/outputarea').OutputArea;\n\n    if (OutputArea.prototype.mime_types().indexOf(EXEC_MIME_TYPE) == -1) {\n      register_renderer(events, OutputArea);\n    }\n  }\n  if (typeof (root._bokeh_timeout) === \"undefined\" || force === true) {\n    root._bokeh_timeout = Date.now() + 5000;\n    root._bokeh_failed_load = false;\n  }\n\n  const NB_LOAD_WARNING = {'data': {'text/html':\n     \"<div style='background-color: #fdd'>\\n\"+\n     \"<p>\\n\"+\n     \"BokehJS does not appear to have successfully loaded. If loading BokehJS from CDN, this \\n\"+\n     \"may be due to a slow or bad network connection. Possible fixes:\\n\"+\n     \"</p>\\n\"+\n     \"<ul>\\n\"+\n     \"<li>re-rerun `output_notebook()` to attempt to load from CDN again, or</li>\\n\"+\n     \"<li>use INLINE resources instead, as so:</li>\\n\"+\n     \"</ul>\\n\"+\n     \"<code>\\n\"+\n     \"from bokeh.resources import INLINE\\n\"+\n     \"output_notebook(resources=INLINE)\\n\"+\n     \"</code>\\n\"+\n     \"</div>\"}};\n\n  function display_loaded() {\n    const el = document.getElementById(\"1002\");\n    if (el != null) {\n      el.textContent = \"BokehJS is loading...\";\n    }\n    if (root.Bokeh !== undefined) {\n      if (el != null) {\n        el.textContent = \"BokehJS \" + root.Bokeh.version + \" successfully loaded.\";\n      }\n    } else if (Date.now() < root._bokeh_timeout) {\n      setTimeout(display_loaded, 100)\n    }\n  }\n\n  function run_callbacks() {\n    try {\n      root._bokeh_onload_callbacks.forEach(function(callback) {\n        if (callback != null)\n          callback();\n      });\n    } finally {\n      delete root._bokeh_onload_callbacks\n    }\n    console.debug(\"Bokeh: all callbacks have finished\");\n  }\n\n  function load_libs(css_urls, js_urls, callback) {\n    if (css_urls == null) css_urls = [];\n    if (js_urls == null) js_urls = [];\n\n    root._bokeh_onload_callbacks.push(callback);\n    if (root._bokeh_is_loading > 0) {\n      console.debug(\"Bokeh: BokehJS is being loaded, scheduling callback at\", now());\n      return null;\n    }\n    if (js_urls == null || js_urls.length === 0) {\n      run_callbacks();\n      return null;\n    }\n    console.debug(\"Bokeh: BokehJS not loaded, scheduling load and callback at\", now());\n    root._bokeh_is_loading = css_urls.length + js_urls.length;\n\n    function on_load() {\n      root._bokeh_is_loading--;\n      if (root._bokeh_is_loading === 0) {\n        console.debug(\"Bokeh: all BokehJS libraries/stylesheets loaded\");\n        run_callbacks()\n      }\n    }\n\n    function on_error(url) {\n      console.error(\"failed to load \" + url);\n    }\n\n    for (let i = 0; i < css_urls.length; i++) {\n      const url = css_urls[i];\n      const element = document.createElement(\"link\");\n      element.onload = on_load;\n      element.onerror = on_error.bind(null, url);\n      element.rel = \"stylesheet\";\n      element.type = \"text/css\";\n      element.href = url;\n      console.debug(\"Bokeh: injecting link tag for BokehJS stylesheet: \", url);\n      document.body.appendChild(element);\n    }\n\n    for (let i = 0; i < js_urls.length; i++) {\n      const url = js_urls[i];\n      const element = document.createElement('script');\n      element.onload = on_load;\n      element.onerror = on_error.bind(null, url);\n      element.async = false;\n      element.src = url;\n      console.debug(\"Bokeh: injecting script tag for BokehJS library: \", url);\n      document.head.appendChild(element);\n    }\n  };\n\n  function inject_raw_css(css) {\n    const element = document.createElement(\"style\");\n    element.appendChild(document.createTextNode(css));\n    document.body.appendChild(element);\n  }\n\n  const js_urls = [\"https://cdn.bokeh.org/bokeh/release/bokeh-2.4.3.min.js\", \"https://cdn.bokeh.org/bokeh/release/bokeh-gl-2.4.3.min.js\", \"https://cdn.bokeh.org/bokeh/release/bokeh-widgets-2.4.3.min.js\", \"https://cdn.bokeh.org/bokeh/release/bokeh-tables-2.4.3.min.js\", \"https://cdn.bokeh.org/bokeh/release/bokeh-mathjax-2.4.3.min.js\"];\n  const css_urls = [];\n\n  const inline_js = [    function(Bokeh) {\n      Bokeh.set_log_level(\"info\");\n    },\nfunction(Bokeh) {\n    }\n  ];\n\n  function run_inline_js() {\n    if (root.Bokeh !== undefined || force === true) {\n          for (let i = 0; i < inline_js.length; i++) {\n      inline_js[i].call(root, root.Bokeh);\n    }\nif (force === true) {\n        display_loaded();\n      }} else if (Date.now() < root._bokeh_timeout) {\n      setTimeout(run_inline_js, 100);\n    } else if (!root._bokeh_failed_load) {\n      console.log(\"Bokeh: BokehJS failed to load within specified timeout.\");\n      root._bokeh_failed_load = true;\n    } else if (force !== true) {\n      const cell = $(document.getElementById(\"1002\")).parents('.cell').data().cell;\n      cell.output_area.append_execute_result(NB_LOAD_WARNING)\n    }\n  }\n\n  if (root._bokeh_is_loading === 0) {\n    console.debug(\"Bokeh: BokehJS loaded, going straight to plotting\");\n    run_inline_js();\n  } else {\n    load_libs(css_urls, js_urls, function() {\n      console.debug(\"Bokeh: BokehJS plotting callback run at\", now());\n      run_inline_js();\n    });\n  }\n}(window));",
      "application/vnd.bokehjs_load.v0+json": "(function(root) {\n  function now() {\n    return new Date();\n  }\n\n  const force = true;\n\n  if (typeof root._bokeh_onload_callbacks === \"undefined\" || force === true) {\n    root._bokeh_onload_callbacks = [];\n    root._bokeh_is_loading = undefined;\n  }\n\n\n  if (typeof (root._bokeh_timeout) === \"undefined\" || force === true) {\n    root._bokeh_timeout = Date.now() + 5000;\n    root._bokeh_failed_load = false;\n  }\n\n  const NB_LOAD_WARNING = {'data': {'text/html':\n     \"<div style='background-color: #fdd'>\\n\"+\n     \"<p>\\n\"+\n     \"BokehJS does not appear to have successfully loaded. If loading BokehJS from CDN, this \\n\"+\n     \"may be due to a slow or bad network connection. Possible fixes:\\n\"+\n     \"</p>\\n\"+\n     \"<ul>\\n\"+\n     \"<li>re-rerun `output_notebook()` to attempt to load from CDN again, or</li>\\n\"+\n     \"<li>use INLINE resources instead, as so:</li>\\n\"+\n     \"</ul>\\n\"+\n     \"<code>\\n\"+\n     \"from bokeh.resources import INLINE\\n\"+\n     \"output_notebook(resources=INLINE)\\n\"+\n     \"</code>\\n\"+\n     \"</div>\"}};\n\n  function display_loaded() {\n    const el = document.getElementById(\"1002\");\n    if (el != null) {\n      el.textContent = \"BokehJS is loading...\";\n    }\n    if (root.Bokeh !== undefined) {\n      if (el != null) {\n        el.textContent = \"BokehJS \" + root.Bokeh.version + \" successfully loaded.\";\n      }\n    } else if (Date.now() < root._bokeh_timeout) {\n      setTimeout(display_loaded, 100)\n    }\n  }\n\n  function run_callbacks() {\n    try {\n      root._bokeh_onload_callbacks.forEach(function(callback) {\n        if (callback != null)\n          callback();\n      });\n    } finally {\n      delete root._bokeh_onload_callbacks\n    }\n    console.debug(\"Bokeh: all callbacks have finished\");\n  }\n\n  function load_libs(css_urls, js_urls, callback) {\n    if (css_urls == null) css_urls = [];\n    if (js_urls == null) js_urls = [];\n\n    root._bokeh_onload_callbacks.push(callback);\n    if (root._bokeh_is_loading > 0) {\n      console.debug(\"Bokeh: BokehJS is being loaded, scheduling callback at\", now());\n      return null;\n    }\n    if (js_urls == null || js_urls.length === 0) {\n      run_callbacks();\n      return null;\n    }\n    console.debug(\"Bokeh: BokehJS not loaded, scheduling load and callback at\", now());\n    root._bokeh_is_loading = css_urls.length + js_urls.length;\n\n    function on_load() {\n      root._bokeh_is_loading--;\n      if (root._bokeh_is_loading === 0) {\n        console.debug(\"Bokeh: all BokehJS libraries/stylesheets loaded\");\n        run_callbacks()\n      }\n    }\n\n    function on_error(url) {\n      console.error(\"failed to load \" + url);\n    }\n\n    for (let i = 0; i < css_urls.length; i++) {\n      const url = css_urls[i];\n      const element = document.createElement(\"link\");\n      element.onload = on_load;\n      element.onerror = on_error.bind(null, url);\n      element.rel = \"stylesheet\";\n      element.type = \"text/css\";\n      element.href = url;\n      console.debug(\"Bokeh: injecting link tag for BokehJS stylesheet: \", url);\n      document.body.appendChild(element);\n    }\n\n    for (let i = 0; i < js_urls.length; i++) {\n      const url = js_urls[i];\n      const element = document.createElement('script');\n      element.onload = on_load;\n      element.onerror = on_error.bind(null, url);\n      element.async = false;\n      element.src = url;\n      console.debug(\"Bokeh: injecting script tag for BokehJS library: \", url);\n      document.head.appendChild(element);\n    }\n  };\n\n  function inject_raw_css(css) {\n    const element = document.createElement(\"style\");\n    element.appendChild(document.createTextNode(css));\n    document.body.appendChild(element);\n  }\n\n  const js_urls = [\"https://cdn.bokeh.org/bokeh/release/bokeh-2.4.3.min.js\", \"https://cdn.bokeh.org/bokeh/release/bokeh-gl-2.4.3.min.js\", \"https://cdn.bokeh.org/bokeh/release/bokeh-widgets-2.4.3.min.js\", \"https://cdn.bokeh.org/bokeh/release/bokeh-tables-2.4.3.min.js\", \"https://cdn.bokeh.org/bokeh/release/bokeh-mathjax-2.4.3.min.js\"];\n  const css_urls = [];\n\n  const inline_js = [    function(Bokeh) {\n      Bokeh.set_log_level(\"info\");\n    },\nfunction(Bokeh) {\n    }\n  ];\n\n  function run_inline_js() {\n    if (root.Bokeh !== undefined || force === true) {\n          for (let i = 0; i < inline_js.length; i++) {\n      inline_js[i].call(root, root.Bokeh);\n    }\nif (force === true) {\n        display_loaded();\n      }} else if (Date.now() < root._bokeh_timeout) {\n      setTimeout(run_inline_js, 100);\n    } else if (!root._bokeh_failed_load) {\n      console.log(\"Bokeh: BokehJS failed to load within specified timeout.\");\n      root._bokeh_failed_load = true;\n    } else if (force !== true) {\n      const cell = $(document.getElementById(\"1002\")).parents('.cell').data().cell;\n      cell.output_area.append_execute_result(NB_LOAD_WARNING)\n    }\n  }\n\n  if (root._bokeh_is_loading === 0) {\n    console.debug(\"Bokeh: BokehJS loaded, going straight to plotting\");\n    run_inline_js();\n  } else {\n    load_libs(css_urls, js_urls, function() {\n      console.debug(\"Bokeh: BokehJS plotting callback run at\", now());\n      run_inline_js();\n    });\n  }\n}(window));"
     },
     "metadata": {},
     "output_type": "display_data"
    }
   ],
   "source": [
    "import pandas as pd\n",
    "import numpy as np\n",
    "import scipy.stats\n",
    "import ast\n",
    "\n",
    "import bokeh.io\n",
    "import bokeh.layouts\n",
    "import bokeh.models\n",
    "import bokeh.plotting\n",
    "\n",
    "\n",
    "bokeh.io.output_notebook()"
   ]
  },
  {
   "cell_type": "code",
   "execution_count": 2,
   "outputs": [],
   "source": [
    "notebook_url = 'localhost:8888'"
   ],
   "metadata": {
    "collapsed": false,
    "pycharm": {
     "name": "#%%\n"
    }
   }
  },
  {
   "cell_type": "code",
   "execution_count": 108,
   "metadata": {
    "collapsed": false,
    "jupyter": {
     "outputs_hidden": false
    },
    "pycharm": {
     "name": "#%%\n"
    }
   },
   "outputs": [],
   "source": [
    "# Read in data\n",
    "TimeData = pd.read_csv(\n",
    "    \"/Volumes/Ramdya-Lab/DURRIEU_Matthias/Experimental_data/MultiSensory_Project/GatedArenas/Results/DataSetNew.csv\"\n",
    ")\n",
    "\n",
    "# Prep dataset from data\n",
    "TimeMelted = pd.melt(\n",
    "    TimeData,\n",
    "    id_vars=[\"Training\", \"ObjectsReinforced\", \"Reinforced_side\", \"Date\", \"Fly\"],\n",
    "    value_name=\"Values\",\n",
    "    value_vars=[\n",
    "        \"Visits Left Corner\",\n",
    "        \"Durations Left Corner\",\n",
    "        \"Visits Right Corner\",\n",
    "        \"Durations Right Corner\",\n",
    "        \"Visits Top Corner\",\n",
    "        \"Durations Top Corner\",\n",
    "        \"Visits Left Front\",\n",
    "        \"Durations Left Front\",\n",
    "        \"Visits Right Front\",\n",
    "        \"Durations Right Front\",\n",
    "        \"Visits Top Front\",\n",
    "        \"Durations Top Front\",\n",
    "    ],\n",
    "    var_name=\"Variable\",\n",
    ")\n",
    "\n",
    "TimeMelted[[\"Values\",]] = TimeMelted[\n",
    "    [\n",
    "        \"Values\",\n",
    "    ]\n",
    "].applymap(ast.literal_eval)\n",
    "TimeMelted = TimeMelted.explode(\"Values\")#.drop_duplicates()#.dropna()#.reset_index()\n",
    "TimeMelted[\"EventIndex\"] = TimeMelted.groupby([\"Fly\", \"Variable\"]).cumcount()\n",
    "TimeMelted = TimeMelted.drop_duplicates().dropna()\n",
    "\n",
    "conditions = [\n",
    "    (TimeMelted[\"Variable\"].str.contains(\"Durations\")),\n",
    "    (TimeMelted[\"Variable\"].str.contains(\"Visits\")),\n",
    "]\n",
    "\n",
    "values = [\"Durations\", \"Visits\"]\n",
    "TimeMelted[\"Kind\"] = np.select(conditions, values)\n",
    "\n",
    "conditions = [\n",
    "    (\n",
    "        TimeMelted[\"Reinforced_side\"].str.contains(\"Right\")\n",
    "        & (TimeMelted[\"Variable\"].str.contains(\"Right\"))\n",
    "    ),\n",
    "    (\n",
    "        TimeMelted[\"Reinforced_side\"].str.contains(\"Left\")\n",
    "        & (TimeMelted[\"Variable\"].str.contains(\"Left\"))\n",
    "    ),\n",
    "    (\n",
    "        TimeMelted[\"Reinforced_side\"].str.contains(\"Right\")\n",
    "        & (TimeMelted[\"Variable\"].str.contains(\"Left\"))\n",
    "    ),\n",
    "    (\n",
    "        TimeMelted[\"Reinforced_side\"].str.contains(\"Left\")\n",
    "        & (TimeMelted[\"Variable\"].str.contains(\"Right\"))\n",
    "    ),\n",
    "    (TimeMelted[\"Variable\"].str.contains(\"Top\")),\n",
    "]\n",
    "\n",
    "values = [\n",
    "    \"Rewarded Side\",\n",
    "    \"Rewarded Side\",\n",
    "    \"Punished Side\",\n",
    "    \"Punished Side\",\n",
    "    \"Empty Side\",\n",
    "]\n",
    "TimeMelted[\"Condition\"] = np.select(conditions, values)\n",
    "\n",
    "TimeMelted = TimeMelted#.reset_index()"
   ]
  },
  {
   "cell_type": "code",
   "execution_count": 104,
   "outputs": [
    {
     "name": "stdout",
     "output_type": "stream",
     "text": [
      "[452, 2689, 4476, 4538, 6189, 6324, 11393, 11760, 20790, 24333, 24453, 32411, 42102, 42900, 43139]\n",
      "[1, 27, 32, 3, 37, 8, 19, 49, 32, 20, 46, 25, 54, 76, 88]\n"
     ]
    }
   ],
   "source": [
    "print(TimeData[\"Visits Left Corner\"][1])\n",
    "print(TimeData[\"Durations Left Corner\"][1])"
   ],
   "metadata": {
    "collapsed": false,
    "pycharm": {
     "name": "#%%\n"
    }
   }
  },
  {
   "cell_type": "code",
   "execution_count": null,
   "outputs": [],
   "source": [
    "print(TimeData[\"Visits Top Corner Corner\"][1])\n",
    "print(TimeData[\"Durations Left Corner\"][1])"
   ],
   "metadata": {
    "collapsed": false,
    "pycharm": {
     "name": "#%%\n"
    }
   }
  },
  {
   "cell_type": "code",
   "execution_count": 86,
   "outputs": [
    {
     "ename": "KeyError",
     "evalue": "'Requested level (Kind) does not match index name (None)'",
     "output_type": "error",
     "traceback": [
      "\u001B[0;31m---------------------------------------------------------------------------\u001B[0m",
      "\u001B[0;31mKeyError\u001B[0m                                  Traceback (most recent call last)",
      "Input \u001B[0;32mIn [86]\u001B[0m, in \u001B[0;36m<cell line: 1>\u001B[0;34m()\u001B[0m\n\u001B[0;32m----> 1\u001B[0m TimeMelted \u001B[38;5;241m=\u001B[39m \u001B[43mTimeMelted\u001B[49m\u001B[38;5;241;43m.\u001B[39;49m\u001B[43mstack\u001B[49m\u001B[43m(\u001B[49m\u001B[38;5;124;43m'\u001B[39;49m\u001B[38;5;124;43mKind\u001B[39;49m\u001B[38;5;124;43m'\u001B[39;49m\u001B[43m)\u001B[49m\n",
      "File \u001B[0;32m/opt/miniconda3/envs/TrackingAnalysis/lib/python3.10/site-packages/pandas/core/frame.py:8229\u001B[0m, in \u001B[0;36mDataFrame.stack\u001B[0;34m(self, level, dropna)\u001B[0m\n\u001B[1;32m   8227\u001B[0m     result \u001B[38;5;241m=\u001B[39m stack_multiple(\u001B[38;5;28mself\u001B[39m, level, dropna\u001B[38;5;241m=\u001B[39mdropna)\n\u001B[1;32m   8228\u001B[0m \u001B[38;5;28;01melse\u001B[39;00m:\n\u001B[0;32m-> 8229\u001B[0m     result \u001B[38;5;241m=\u001B[39m \u001B[43mstack\u001B[49m\u001B[43m(\u001B[49m\u001B[38;5;28;43mself\u001B[39;49m\u001B[43m,\u001B[49m\u001B[43m \u001B[49m\u001B[43mlevel\u001B[49m\u001B[43m,\u001B[49m\u001B[43m \u001B[49m\u001B[43mdropna\u001B[49m\u001B[38;5;241;43m=\u001B[39;49m\u001B[43mdropna\u001B[49m\u001B[43m)\u001B[49m\n\u001B[1;32m   8231\u001B[0m \u001B[38;5;28;01mreturn\u001B[39;00m result\u001B[38;5;241m.\u001B[39m__finalize__(\u001B[38;5;28mself\u001B[39m, method\u001B[38;5;241m=\u001B[39m\u001B[38;5;124m\"\u001B[39m\u001B[38;5;124mstack\u001B[39m\u001B[38;5;124m\"\u001B[39m)\n",
      "File \u001B[0;32m/opt/miniconda3/envs/TrackingAnalysis/lib/python3.10/site-packages/pandas/core/reshape/reshape.py:563\u001B[0m, in \u001B[0;36mstack\u001B[0;34m(frame, level, dropna)\u001B[0m\n\u001B[1;32m    560\u001B[0m N, K \u001B[38;5;241m=\u001B[39m frame\u001B[38;5;241m.\u001B[39mshape\n\u001B[1;32m    562\u001B[0m \u001B[38;5;66;03m# Will also convert negative level numbers and check if out of bounds.\u001B[39;00m\n\u001B[0;32m--> 563\u001B[0m level_num \u001B[38;5;241m=\u001B[39m \u001B[43mframe\u001B[49m\u001B[38;5;241;43m.\u001B[39;49m\u001B[43mcolumns\u001B[49m\u001B[38;5;241;43m.\u001B[39;49m\u001B[43m_get_level_number\u001B[49m\u001B[43m(\u001B[49m\u001B[43mlevel\u001B[49m\u001B[43m)\u001B[49m\n\u001B[1;32m    565\u001B[0m \u001B[38;5;28;01mif\u001B[39;00m \u001B[38;5;28misinstance\u001B[39m(frame\u001B[38;5;241m.\u001B[39mcolumns, MultiIndex):\n\u001B[1;32m    566\u001B[0m     \u001B[38;5;28;01mreturn\u001B[39;00m _stack_multi_columns(frame, level_num\u001B[38;5;241m=\u001B[39mlevel_num, dropna\u001B[38;5;241m=\u001B[39mdropna)\n",
      "File \u001B[0;32m/opt/miniconda3/envs/TrackingAnalysis/lib/python3.10/site-packages/pandas/core/indexes/base.py:1936\u001B[0m, in \u001B[0;36mIndex._get_level_number\u001B[0;34m(self, level)\u001B[0m\n\u001B[1;32m   1935\u001B[0m \u001B[38;5;28;01mdef\u001B[39;00m \u001B[38;5;21m_get_level_number\u001B[39m(\u001B[38;5;28mself\u001B[39m, level) \u001B[38;5;241m-\u001B[39m\u001B[38;5;241m>\u001B[39m \u001B[38;5;28mint\u001B[39m:\n\u001B[0;32m-> 1936\u001B[0m     \u001B[38;5;28;43mself\u001B[39;49m\u001B[38;5;241;43m.\u001B[39;49m\u001B[43m_validate_index_level\u001B[49m\u001B[43m(\u001B[49m\u001B[43mlevel\u001B[49m\u001B[43m)\u001B[49m\n\u001B[1;32m   1937\u001B[0m     \u001B[38;5;28;01mreturn\u001B[39;00m \u001B[38;5;241m0\u001B[39m\n",
      "File \u001B[0;32m/opt/miniconda3/envs/TrackingAnalysis/lib/python3.10/site-packages/pandas/core/indexes/base.py:1931\u001B[0m, in \u001B[0;36mIndex._validate_index_level\u001B[0;34m(self, level)\u001B[0m\n\u001B[1;32m   1927\u001B[0m         \u001B[38;5;28;01mraise\u001B[39;00m \u001B[38;5;167;01mIndexError\u001B[39;00m(\n\u001B[1;32m   1928\u001B[0m             \u001B[38;5;124mf\u001B[39m\u001B[38;5;124m\"\u001B[39m\u001B[38;5;124mToo many levels: Index has only 1 level, not \u001B[39m\u001B[38;5;132;01m{\u001B[39;00mlevel \u001B[38;5;241m+\u001B[39m \u001B[38;5;241m1\u001B[39m\u001B[38;5;132;01m}\u001B[39;00m\u001B[38;5;124m\"\u001B[39m\n\u001B[1;32m   1929\u001B[0m         )\n\u001B[1;32m   1930\u001B[0m \u001B[38;5;28;01melif\u001B[39;00m level \u001B[38;5;241m!=\u001B[39m \u001B[38;5;28mself\u001B[39m\u001B[38;5;241m.\u001B[39mname:\n\u001B[0;32m-> 1931\u001B[0m     \u001B[38;5;28;01mraise\u001B[39;00m \u001B[38;5;167;01mKeyError\u001B[39;00m(\n\u001B[1;32m   1932\u001B[0m         \u001B[38;5;124mf\u001B[39m\u001B[38;5;124m\"\u001B[39m\u001B[38;5;124mRequested level (\u001B[39m\u001B[38;5;132;01m{\u001B[39;00mlevel\u001B[38;5;132;01m}\u001B[39;00m\u001B[38;5;124m) does not match index name (\u001B[39m\u001B[38;5;132;01m{\u001B[39;00m\u001B[38;5;28mself\u001B[39m\u001B[38;5;241m.\u001B[39mname\u001B[38;5;132;01m}\u001B[39;00m\u001B[38;5;124m)\u001B[39m\u001B[38;5;124m\"\u001B[39m\n\u001B[1;32m   1933\u001B[0m     )\n",
      "\u001B[0;31mKeyError\u001B[0m: 'Requested level (Kind) does not match index name (None)'"
     ]
    }
   ],
   "source": [
    "TimeMelted = TimeMelted.stack('Kind')"
   ],
   "metadata": {
    "collapsed": false,
    "pycharm": {
     "name": "#%%\n"
    }
   }
  },
  {
   "cell_type": "code",
   "execution_count": 109,
   "outputs": [],
   "source": [
    "TimeMelted = (\n",
    "    TimeMelted.reset_index()\n",
    "    .pivot_table(\n",
    "        index=[\"Condition\",\"Fly\",\"EventIndex\",\"Training\", \"ObjectsReinforced\", ],\n",
    "        columns=\"Kind\",\n",
    "        values=\"Values\",\n",
    "    )\n",
    "    .reset_index()\n",
    ")"
   ],
   "metadata": {
    "collapsed": false,
    "pycharm": {
     "name": "#%%\n"
    }
   }
  },
  {
   "cell_type": "code",
   "execution_count": 70,
   "outputs": [],
   "source": [
    "\n",
    "# Produce the subsets\n",
    "\n",
    "ReinforcedVisit = TimeMelted[TimeMelted[\"Condition\"] == \"Rewarded Side\"]"
   ],
   "metadata": {
    "collapsed": false,
    "pycharm": {
     "name": "#%%\n"
    }
   }
  },
  {
   "cell_type": "code",
   "execution_count": 71,
   "outputs": [],
   "source": [
    "\n",
    "ReinforcedVisit.loc[\n",
    "    ReinforcedVisit[\"Variable\"].str.contains(\"Visits\"), \"Variable\"\n",
    "] = \"Visits\"\n",
    "ReinforcedVisit.loc[\n",
    "    ReinforcedVisit[\"Variable\"].str.contains(\"Durations\"), \"Variable\"\n",
    "] = \"Durations\""
   ],
   "metadata": {
    "collapsed": false,
    "pycharm": {
     "name": "#%%\n"
    }
   }
  },
  {
   "cell_type": "code",
   "execution_count": 48,
   "outputs": [
    {
     "ename": "KeyError",
     "evalue": "'Requested level (Variable) does not match index name (None)'",
     "output_type": "error",
     "traceback": [
      "\u001B[0;31m---------------------------------------------------------------------------\u001B[0m",
      "\u001B[0;31mKeyError\u001B[0m                                  Traceback (most recent call last)",
      "Input \u001B[0;32mIn [48]\u001B[0m, in \u001B[0;36m<cell line: 1>\u001B[0;34m()\u001B[0m\n\u001B[0;32m----> 1\u001B[0m \u001B[43mReinforcedVisit\u001B[49m\u001B[38;5;241;43m.\u001B[39;49m\u001B[43munstack\u001B[49m\u001B[43m(\u001B[49m\u001B[38;5;124;43m\"\u001B[39;49m\u001B[38;5;124;43mVariable\u001B[39;49m\u001B[38;5;124;43m\"\u001B[39;49m\u001B[43m)\u001B[49m\n",
      "File \u001B[0;32m/opt/miniconda3/envs/TrackingAnalysis/lib/python3.10/site-packages/pandas/core/frame.py:8425\u001B[0m, in \u001B[0;36mDataFrame.unstack\u001B[0;34m(self, level, fill_value)\u001B[0m\n\u001B[1;32m   8363\u001B[0m \u001B[38;5;124;03m\"\"\"\u001B[39;00m\n\u001B[1;32m   8364\u001B[0m \u001B[38;5;124;03mPivot a level of the (necessarily hierarchical) index labels.\u001B[39;00m\n\u001B[1;32m   8365\u001B[0m \n\u001B[0;32m   (...)\u001B[0m\n\u001B[1;32m   8421\u001B[0m \u001B[38;5;124;03mdtype: float64\u001B[39;00m\n\u001B[1;32m   8422\u001B[0m \u001B[38;5;124;03m\"\"\"\u001B[39;00m\n\u001B[1;32m   8423\u001B[0m \u001B[38;5;28;01mfrom\u001B[39;00m \u001B[38;5;21;01mpandas\u001B[39;00m\u001B[38;5;21;01m.\u001B[39;00m\u001B[38;5;21;01mcore\u001B[39;00m\u001B[38;5;21;01m.\u001B[39;00m\u001B[38;5;21;01mreshape\u001B[39;00m\u001B[38;5;21;01m.\u001B[39;00m\u001B[38;5;21;01mreshape\u001B[39;00m \u001B[38;5;28;01mimport\u001B[39;00m unstack\n\u001B[0;32m-> 8425\u001B[0m result \u001B[38;5;241m=\u001B[39m \u001B[43munstack\u001B[49m\u001B[43m(\u001B[49m\u001B[38;5;28;43mself\u001B[39;49m\u001B[43m,\u001B[49m\u001B[43m \u001B[49m\u001B[43mlevel\u001B[49m\u001B[43m,\u001B[49m\u001B[43m \u001B[49m\u001B[43mfill_value\u001B[49m\u001B[43m)\u001B[49m\n\u001B[1;32m   8427\u001B[0m \u001B[38;5;28;01mreturn\u001B[39;00m result\u001B[38;5;241m.\u001B[39m__finalize__(\u001B[38;5;28mself\u001B[39m, method\u001B[38;5;241m=\u001B[39m\u001B[38;5;124m\"\u001B[39m\u001B[38;5;124munstack\u001B[39m\u001B[38;5;124m\"\u001B[39m)\n",
      "File \u001B[0;32m/opt/miniconda3/envs/TrackingAnalysis/lib/python3.10/site-packages/pandas/core/reshape/reshape.py:474\u001B[0m, in \u001B[0;36munstack\u001B[0;34m(obj, level, fill_value)\u001B[0m\n\u001B[1;32m    472\u001B[0m \u001B[38;5;66;03m# Prioritize integer interpretation (GH #21677):\u001B[39;00m\n\u001B[1;32m    473\u001B[0m \u001B[38;5;28;01mif\u001B[39;00m \u001B[38;5;129;01mnot\u001B[39;00m is_integer(level) \u001B[38;5;129;01mand\u001B[39;00m \u001B[38;5;129;01mnot\u001B[39;00m level \u001B[38;5;241m==\u001B[39m \u001B[38;5;124m\"\u001B[39m\u001B[38;5;124m__placeholder__\u001B[39m\u001B[38;5;124m\"\u001B[39m:\n\u001B[0;32m--> 474\u001B[0m     level \u001B[38;5;241m=\u001B[39m \u001B[43mobj\u001B[49m\u001B[38;5;241;43m.\u001B[39;49m\u001B[43mindex\u001B[49m\u001B[38;5;241;43m.\u001B[39;49m\u001B[43m_get_level_number\u001B[49m\u001B[43m(\u001B[49m\u001B[43mlevel\u001B[49m\u001B[43m)\u001B[49m\n\u001B[1;32m    476\u001B[0m \u001B[38;5;28;01mif\u001B[39;00m \u001B[38;5;28misinstance\u001B[39m(obj, DataFrame):\n\u001B[1;32m    477\u001B[0m     \u001B[38;5;28;01mif\u001B[39;00m \u001B[38;5;28misinstance\u001B[39m(obj\u001B[38;5;241m.\u001B[39mindex, MultiIndex):\n",
      "File \u001B[0;32m/opt/miniconda3/envs/TrackingAnalysis/lib/python3.10/site-packages/pandas/core/indexes/base.py:1936\u001B[0m, in \u001B[0;36mIndex._get_level_number\u001B[0;34m(self, level)\u001B[0m\n\u001B[1;32m   1935\u001B[0m \u001B[38;5;28;01mdef\u001B[39;00m \u001B[38;5;21m_get_level_number\u001B[39m(\u001B[38;5;28mself\u001B[39m, level) \u001B[38;5;241m-\u001B[39m\u001B[38;5;241m>\u001B[39m \u001B[38;5;28mint\u001B[39m:\n\u001B[0;32m-> 1936\u001B[0m     \u001B[38;5;28;43mself\u001B[39;49m\u001B[38;5;241;43m.\u001B[39;49m\u001B[43m_validate_index_level\u001B[49m\u001B[43m(\u001B[49m\u001B[43mlevel\u001B[49m\u001B[43m)\u001B[49m\n\u001B[1;32m   1937\u001B[0m     \u001B[38;5;28;01mreturn\u001B[39;00m \u001B[38;5;241m0\u001B[39m\n",
      "File \u001B[0;32m/opt/miniconda3/envs/TrackingAnalysis/lib/python3.10/site-packages/pandas/core/indexes/base.py:1931\u001B[0m, in \u001B[0;36mIndex._validate_index_level\u001B[0;34m(self, level)\u001B[0m\n\u001B[1;32m   1927\u001B[0m         \u001B[38;5;28;01mraise\u001B[39;00m \u001B[38;5;167;01mIndexError\u001B[39;00m(\n\u001B[1;32m   1928\u001B[0m             \u001B[38;5;124mf\u001B[39m\u001B[38;5;124m\"\u001B[39m\u001B[38;5;124mToo many levels: Index has only 1 level, not \u001B[39m\u001B[38;5;132;01m{\u001B[39;00mlevel \u001B[38;5;241m+\u001B[39m \u001B[38;5;241m1\u001B[39m\u001B[38;5;132;01m}\u001B[39;00m\u001B[38;5;124m\"\u001B[39m\n\u001B[1;32m   1929\u001B[0m         )\n\u001B[1;32m   1930\u001B[0m \u001B[38;5;28;01melif\u001B[39;00m level \u001B[38;5;241m!=\u001B[39m \u001B[38;5;28mself\u001B[39m\u001B[38;5;241m.\u001B[39mname:\n\u001B[0;32m-> 1931\u001B[0m     \u001B[38;5;28;01mraise\u001B[39;00m \u001B[38;5;167;01mKeyError\u001B[39;00m(\n\u001B[1;32m   1932\u001B[0m         \u001B[38;5;124mf\u001B[39m\u001B[38;5;124m\"\u001B[39m\u001B[38;5;124mRequested level (\u001B[39m\u001B[38;5;132;01m{\u001B[39;00mlevel\u001B[38;5;132;01m}\u001B[39;00m\u001B[38;5;124m) does not match index name (\u001B[39m\u001B[38;5;132;01m{\u001B[39;00m\u001B[38;5;28mself\u001B[39m\u001B[38;5;241m.\u001B[39mname\u001B[38;5;132;01m}\u001B[39;00m\u001B[38;5;124m)\u001B[39m\u001B[38;5;124m\"\u001B[39m\n\u001B[1;32m   1933\u001B[0m     )\n",
      "\u001B[0;31mKeyError\u001B[0m: 'Requested level (Variable) does not match index name (None)'"
     ]
    }
   ],
   "source": [
    "#ReinforcedVisit.unstack(\"Variable\")"
   ],
   "metadata": {
    "collapsed": false,
    "pycharm": {
     "name": "#%%\n"
    }
   }
  },
  {
   "cell_type": "code",
   "execution_count": 72,
   "outputs": [],
   "source": [
    "\n",
    "ReinforcedVisit = (\n",
    "    ReinforcedVisit.reset_index()\n",
    "    .pivot_table(\n",
    "        index=[\"Fly\",\"Training\", \"ObjectsReinforced\", ],\n",
    "        columns=\"Variable\",\n",
    "        values=\"Values\",\n",
    "    )\n",
    "    .reset_index()\n",
    ")"
   ],
   "metadata": {
    "collapsed": false,
    "pycharm": {
     "name": "#%%\n"
    }
   }
  },
  {
   "cell_type": "code",
   "execution_count": 44,
   "outputs": [],
   "source": [
    "\n",
    "PunishedVisits = TimeMelted[TimeMelted[\"Condition\"] == \"Punished Side\"]\n",
    "\n",
    "PunishedVisits.loc[\n",
    "    PunishedVisits[\"Variable\"].str.contains(\"Visits\"), \"Variable\"\n",
    "] = \"Visits\"\n",
    "PunishedVisits.loc[\n",
    "    PunishedVisits[\"Variable\"].str.contains(\"Durations\"), \"Variable\"\n",
    "] = \"Durations\"\n",
    "\n",
    "PunishedVisits = (\n",
    "    PunishedVisits.reset_index()\n",
    "    .pivot_table(\n",
    "        index=[\"Fly\",\n",
    "               \"Training\",\n",
    "               \"ObjectsReinforced\"],\n",
    "        columns=\"Variable\",\n",
    "        values=\"Values\",\n",
    "    )\n",
    "    .reset_index()\n",
    ")\n",
    "\n",
    "EmptyVisits = TimeMelted[TimeMelted[\"Condition\"] == \"Empty Side\"]\n",
    "\n",
    "EmptyVisits.loc[EmptyVisits[\"Variable\"].str.contains(\"Visits\"), \"Variable\"] = \"Visits\"\n",
    "EmptyVisits.loc[\n",
    "    EmptyVisits[\"Variable\"].str.contains(\"Durations\"), \"Variable\"\n",
    "] = \"Durations\"\n",
    "\n",
    "EmptyVisits = (\n",
    "    EmptyVisits.reset_index()\n",
    "    .pivot_table(\n",
    "        index=[\"Fly\", \"Training\", \"ObjectsReinforced\"],\n",
    "        columns=\"Variable\",\n",
    "        values=\"Values\",\n",
    "    )\n",
    "    .reset_index()\n",
    ")"
   ],
   "metadata": {
    "collapsed": false,
    "pycharm": {
     "name": "#%%\n"
    }
   }
  },
  {
   "cell_type": "code",
   "execution_count": null,
   "outputs": [],
   "source": [],
   "metadata": {
    "collapsed": false,
    "pycharm": {
     "name": "#%%\n"
    }
   }
  },
  {
   "cell_type": "code",
   "execution_count": 4,
   "metadata": {
    "collapsed": false,
    "jupyter": {
     "outputs_hidden": false
    },
    "pycharm": {
     "name": "#%%\n"
    }
   },
   "outputs": [],
   "source": [
    "# Options for x and y selectors\n",
    "\n",
    "xy_options = list(\n",
    "    ReinforcedVisit.columns[ReinforcedVisit.columns.isin([\"Visits\", \"Durations\"])]\n",
    ")  #'ObjectsReinforced','Training', 'Fly'\n",
    "\n",
    "# Define the selector widgets\n",
    "\n",
    "x_selector = bokeh.models.Select(\n",
    "    title=\"x\",\n",
    "    options=xy_options,\n",
    "    value=\"Visits\",\n",
    "    width=200,\n",
    ")\n",
    "\n",
    "y_selector = bokeh.models.Select(\n",
    "    title=\"y\",\n",
    "    options=xy_options,\n",
    "    value=\"Durations\",\n",
    "    width=200,\n",
    ")\n",
    "\n",
    "colorby_selector = bokeh.models.Select(\n",
    "    title=\"color by\",\n",
    "    options=[\n",
    "        \"none\",\n",
    "        \"ObjectsReinforced\",\n",
    "        \"Training\",\n",
    "        \"Fly\",\n",
    "    ],\n",
    "    value=\"none\",\n",
    "    width=200,\n",
    ")"
   ]
  },
  {
   "cell_type": "code",
   "execution_count": null,
   "outputs": [],
   "source": [
    "# Column data source\n",
    "source = bokeh.models.ColumnDataSource(\n",
    "    dict(x=ReinforcedVisit[x_selector.value], y=ReinforcedVisit[y_selector.value], \n",
    "         \n",
    "        )\n",
    ")\n",
    "\n",
    "# Add a column for colors; for now, all bokeh's default blue\n",
    "source.data[\"color\"] = [\"#1f77b3\"] * len(ReinforcedVisit)\n",
    "\n",
    "# Make the plot\n",
    "p = bokeh.plotting.figure(\n",
    "    frame_height=500,\n",
    "    frame_width=500,\n",
    "    x_axis_label=x_selector.value,\n",
    "    y_axis_label=y_selector.value,\n",
    ")\n",
    "\n",
    "# Populate glyphs\n",
    "circle = p.circle(source=source, x=\"x\", y=\"y\", color=\"color\", \n",
    "                  #legend_group=\"color\",\n",
    "                 )"
   ],
   "metadata": {
    "collapsed": false,
    "pycharm": {
     "name": "#%%\n"
    }
   }
  },
  {
   "cell_type": "code",
   "execution_count": null,
   "outputs": [],
   "source": [
    "from bokeh.palettes import Category10\n",
    "import itertools\n",
    "\n",
    "colors = itertools.cycle(Category10[10])\n",
    "\n",
    "colors\n",
    "\n",
    "def color_gen():\n",
    "    yield from itertools.cycle(Category10[10])\n",
    "color = color_gen()"
   ],
   "metadata": {
    "collapsed": false,
    "pycharm": {
     "name": "#%%\n"
    }
   }
  },
  {
   "cell_type": "code",
   "execution_count": null,
   "outputs": [],
   "source": [
    "colors = []\n",
    "\n",
    "for fly, c in zip(ReinforcedVisit[\"Fly\"].unique(), color):\n",
    "    colors.append(c)\n",
    "\n",
    "colors\n",
    "#colors = colorgen() for flies in ReinforcedVisit[\"Fly\"]"
   ],
   "metadata": {
    "collapsed": false,
    "pycharm": {
     "name": "#%%\n"
    }
   }
  },
  {
   "cell_type": "code",
   "execution_count": null,
   "outputs": [],
   "source": [
    "def gfmt_callback(attr, new, old):\n",
    "    \"\"\"Callback for updating plot of GMFT results.\"\"\"\n",
    "    # Update color column\n",
    "    if colorby_selector.value == \"none\":\n",
    "        source.data[\"color\"] = [\"#1f77b3\"] * len(ReinforcedVisit)\n",
    "        \n",
    "    elif colorby_selector.value == \"ObjectReinforced\":\n",
    "        source.data[\"color\"] = [\n",
    "            \"#1f77b3\" if objects == \"Blue\" else \"#ff7e0e\"\n",
    "            for objects in ReinforcedVisit[\"ObjectsReinforced\"]\n",
    "        ]\n",
    "        \n",
    "    elif colorby_selector.value == \"Training\":\n",
    "        source.data[\"color\"] = [\n",
    "            \"#1f77b3\" if Training == \"Trained\" else \"#ff7e0e\"\n",
    "            for Training in ReinforcedVisit[\"Training\"]\n",
    "        ]\n",
    "\n",
    "    elif colorby_selector.value == \"Fly\":\n",
    "        source.data[\"color\"] = [\n",
    "            \n",
    "            colors for flies in ReinforcedVisit[\"Fly\"].unique()\n",
    "        ]\n",
    "\n",
    "    # Update x-data and axis label\n",
    "    source.data[\"x\"] = ReinforcedVisit[x_selector.value]\n",
    "    p.xaxis.axis_label = x_selector.value\n",
    "\n",
    "    # Update x-data and axis label\n",
    "    source.data[\"y\"] = ReinforcedVisit[y_selector.value]\n",
    "    p.yaxis.axis_label = y_selector.value\n",
    "\n",
    "\n",
    "# Connect selectors to callback\n",
    "colorby_selector.on_change(\"value\", gfmt_callback)\n",
    "x_selector.on_change(\"value\", gfmt_callback)\n",
    "y_selector.on_change(\"value\", gfmt_callback)\n",
    "\n",
    "# Build the layout\n",
    "gfmt_layout = bokeh.layouts.row(\n",
    "    p,\n",
    "    bokeh.layouts.Spacer(width=15),\n",
    "    bokeh.layouts.column(\n",
    "        x_selector,\n",
    "        bokeh.layouts.Spacer(height=15),\n",
    "        y_selector,\n",
    "        bokeh.layouts.Spacer(height=15),\n",
    "        colorby_selector,\n",
    "    ),\n",
    ")"
   ],
   "metadata": {
    "collapsed": false,
    "pycharm": {
     "name": "#%%\n"
    }
   }
  },
  {
   "cell_type": "code",
   "execution_count": null,
   "outputs": [],
   "source": [
    "def gfmt_app(doc):\n",
    "    doc.add_root(gfmt_layout)\n",
    "\n",
    "bokeh.io.show(gfmt_app, notebook_url=notebook_url)"
   ],
   "metadata": {
    "collapsed": false,
    "pycharm": {
     "name": "#%%\n"
    }
   }
  },
  {
   "cell_type": "code",
   "execution_count": null,
   "outputs": [],
   "source": [
    "# Column data source\n",
    "source = bokeh.models.ColumnDataSource(\n",
    "    dict(x=ReinforcedVisit[\"Visits\"], y=ReinforcedVisit[\"Durations\"], \n",
    "         \n",
    "        )\n",
    ")\n",
    "\n",
    "# Add a column for colors; for now, all bokeh's default blue\n",
    "source.data[\"color\"] = [\"#1f77b3\"] * len(ReinforcedVisit)\n",
    "\n",
    "# Make the plot\n",
    "p = bokeh.plotting.figure(\n",
    "    frame_height=500,\n",
    "    frame_width=500,\n",
    "    x_axis_label=x_selector.value,\n",
    "    y_axis_label=y_selector.value,\n",
    ")\n",
    "\n",
    "# Populate glyphs\n",
    "circle = p.circle(source=source, x=\"x\", y=\"y\", color=\"color\", \n",
    "                  #legend_group=\"color\",\n",
    "                 )\n",
    "\n",
    "bokeh.io.show(p)"
   ],
   "metadata": {
    "collapsed": false,
    "pycharm": {
     "name": "#%%\n"
    }
   }
  },
  {
   "cell_type": "code",
   "execution_count": 159,
   "metadata": {
    "collapsed": false,
    "jupyter": {
     "outputs_hidden": false
    },
    "pycharm": {
     "name": "#%%\n"
    }
   },
   "outputs": [],
   "source": [
    "def gfmt_callback(attr, new, old):\n",
    "    \"\"\"Callback for updating plot of GMFT results.\"\"\"\n",
    "    # Update color column\n",
    "    if colorby_selector.value == \"none\":\n",
    "        source.data[\"color\"] = [\"#1f77b3\"] * len(ReinforcedVisit)\n",
    "        \n",
    "    elif colorby_selector.value == \"ObjectReinforced\":\n",
    "        source.data[\"color\"] = [\n",
    "            \"#1f77b3\" if objects == \"Blue\" else \"#ff7e0e\"\n",
    "            for objects in ReinforcedVisit[\"ObjectsReinforced\"]\n",
    "        ]\n",
    "        \n",
    "    elif colorby_selector.value == \"Training\":\n",
    "        source.data[\"color\"] = [\n",
    "            \"#1f77b3\" if Training == \"Trained\" else \"#ff7e0e\"\n",
    "            for Training in ReinforcedVisit[\"Training\"]\n",
    "        ]\n",
    "\n",
    "    elif colorby_selector.value == \"Fly\":\n",
    "        source.data[\"color\"] = [\n",
    "            \n",
    "            colors for flies in ReinforcedVisit[\"Fly\"].unique()\n",
    "        ]\n",
    "\n",
    "    # Update x-data and axis label\n",
    "    source.data[\"x\"] = ReinforcedVisit[x_selector.value]\n",
    "    p.xaxis.axis_label = x_selector.value\n",
    "\n",
    "    # Update x-data and axis label\n",
    "    source.data[\"y\"] = ReinforcedVisit[y_selector.value]\n",
    "    p.yaxis.axis_label = y_selector.value\n",
    "\n",
    "\n",
    "# Connect selectors to callback\n",
    "colorby_selector.on_change(\"value\", gfmt_callback)\n",
    "x_selector.on_change(\"value\", gfmt_callback)\n",
    "y_selector.on_change(\"value\", gfmt_callback)\n",
    "\n",
    "# Build the layout\n",
    "gfmt_layout = bokeh.layouts.row(\n",
    "    p,\n",
    "    bokeh.layouts.Spacer(width=15),\n",
    "    bokeh.layouts.column(\n",
    "        x_selector,\n",
    "        bokeh.layouts.Spacer(height=15),\n",
    "        y_selector,\n",
    "        bokeh.layouts.Spacer(height=15),\n",
    "        colorby_selector,\n",
    "    ),\n",
    ")"
   ]
  },
  {
   "cell_type": "code",
   "execution_count": 161,
   "metadata": {
    "collapsed": false,
    "jupyter": {
     "outputs_hidden": false
    },
    "pycharm": {
     "name": "#%%\n"
    }
   },
   "outputs": [
    {
     "data": {
      "application/vnd.bokehjs_exec.v0+json": "",
      "text/html": [
       "<script id=\"2773\">\n",
       "  (function() {\n",
       "    const xhr = new XMLHttpRequest()\n",
       "    xhr.responseType = 'blob';\n",
       "    xhr.open('GET', \"http://localhost:51011/autoload.js?bokeh-autoload-element=2773&bokeh-absolute-url=http://localhost:51011&resources=none\", true);\n",
       "    xhr.onload = function (event) {\n",
       "      const script = document.createElement('script');\n",
       "      const src = URL.createObjectURL(event.target.response);\n",
       "      script.src = src;\n",
       "      document.body.appendChild(script);\n",
       "    };\n",
       "    xhr.send();\n",
       "  })();\n",
       "</script>"
      ]
     },
     "metadata": {
      "application/vnd.bokehjs_exec.v0+json": {
       "server_id": "9a4b18befda8436d9195b6d3a236a3f2"
      }
     },
     "output_type": "display_data"
    }
   ],
   "source": [
    "def gfmt_app(doc):\n",
    "    doc.add_root(gfmt_layout)\n",
    "\n",
    "bokeh.io.show(gfmt_app, notebook_url=notebook_url)"
   ]
  },
  {
   "cell_type": "code",
   "execution_count": 32,
   "metadata": {
    "pycharm": {
     "name": "#%%\n"
    }
   },
   "outputs": [
    {
     "data": {
      "text/plain": "['#1f77b3',\n '#1f77b3',\n '#1f77b3',\n '#1f77b3',\n '#1f77b3',\n '#1f77b3',\n '#1f77b3',\n '#1f77b3',\n '#1f77b3',\n '#1f77b3',\n '#1f77b3',\n '#1f77b3',\n '#1f77b3',\n '#1f77b3',\n '#1f77b3',\n '#1f77b3',\n '#1f77b3',\n '#1f77b3',\n '#1f77b3',\n '#1f77b3',\n '#1f77b3',\n '#1f77b3',\n '#1f77b3',\n '#1f77b3',\n '#1f77b3',\n '#1f77b3',\n '#1f77b3',\n '#1f77b3',\n '#1f77b3',\n '#1f77b3',\n '#1f77b3',\n '#1f77b3',\n '#1f77b3',\n '#1f77b3',\n '#1f77b3',\n '#1f77b3',\n '#1f77b3',\n '#1f77b3',\n '#1f77b3',\n '#1f77b3',\n '#1f77b3',\n '#1f77b3',\n '#1f77b3',\n '#1f77b3',\n '#1f77b3',\n '#1f77b3',\n '#1f77b3',\n '#1f77b3',\n '#1f77b3',\n '#1f77b3',\n '#1f77b3',\n '#1f77b3',\n '#1f77b3',\n '#1f77b3',\n '#1f77b3',\n '#1f77b3',\n '#1f77b3',\n '#1f77b3',\n '#1f77b3',\n '#1f77b3']"
     },
     "execution_count": 32,
     "metadata": {},
     "output_type": "execute_result"
    }
   ],
   "source": [
    "# Column data source\n",
    "source = bokeh.models.ColumnDataSource(\n",
    "    dict(x=ReinforcedVisit[\"Visits\"],\n",
    "         y=ReinforcedVisit[\"Durations\"],\n",
    "         Fly=ReinforcedVisit['Fly'],\n",
    "         Training=ReinforcedVisit['Training'],\n",
    "         ObjectsReinforced=ReinforcedVisit['ObjectsReinforced']\n",
    "         \n",
    "        )\n",
    ")\n",
    "\n",
    "# Add a column for colors; for now, all bokeh's default blue\n",
    "source.data[\"color\"] = [\"#1f77b3\"] * len(ReinforcedVisit)\n",
    "\n",
    "source.data[\"color\"]"
   ]
  },
  {
   "cell_type": "code",
   "execution_count": 13,
   "outputs": [
    {
     "data": {
      "text/html": "\n  <div class=\"bk-root\" id=\"2709a00c-c247-4bff-8d44-9afe879fdaf2\" data-root-id=\"1350\"></div>\n"
     },
     "metadata": {},
     "output_type": "display_data"
    },
    {
     "data": {
      "application/javascript": "(function(root) {\n  function embed_document(root) {\n  const docs_json = {\"7e9c9b2b-7f2a-4a4e-bc0a-1288ccf1e66b\":{\"defs\":[],\"roots\":{\"references\":[{\"attributes\":{\"below\":[{\"id\":\"1359\"}],\"center\":[{\"id\":\"1362\"},{\"id\":\"1366\"}],\"frame_height\":500,\"frame_width\":500,\"left\":[{\"id\":\"1363\"}],\"renderers\":[{\"id\":\"1385\"}],\"title\":{\"id\":\"1420\"},\"toolbar\":{\"id\":\"1374\"},\"x_range\":{\"id\":\"1351\"},\"x_scale\":{\"id\":\"1355\"},\"y_range\":{\"id\":\"1353\"},\"y_scale\":{\"id\":\"1357\"}},\"id\":\"1350\",\"subtype\":\"Figure\",\"type\":\"Plot\"},{\"attributes\":{\"axis\":{\"id\":\"1359\"},\"coordinates\":null,\"group\":null,\"ticker\":null},\"id\":\"1362\",\"type\":\"Grid\"},{\"attributes\":{\"data\":{\"color\":[\"#1f77b3\",\"#1f77b3\",\"#1f77b3\",\"#1f77b3\",\"#1f77b3\",\"#1f77b3\",\"#1f77b3\",\"#1f77b3\",\"#1f77b3\",\"#1f77b3\",\"#1f77b3\",\"#1f77b3\",\"#1f77b3\",\"#1f77b3\",\"#1f77b3\",\"#1f77b3\",\"#1f77b3\",\"#1f77b3\",\"#1f77b3\",\"#1f77b3\",\"#1f77b3\",\"#1f77b3\",\"#1f77b3\",\"#1f77b3\",\"#1f77b3\",\"#1f77b3\",\"#1f77b3\",\"#1f77b3\",\"#1f77b3\",\"#1f77b3\",\"#1f77b3\",\"#1f77b3\",\"#1f77b3\",\"#1f77b3\",\"#1f77b3\",\"#1f77b3\",\"#1f77b3\",\"#1f77b3\",\"#1f77b3\",\"#1f77b3\",\"#1f77b3\",\"#1f77b3\",\"#1f77b3\",\"#1f77b3\",\"#1f77b3\",\"#1f77b3\",\"#1f77b3\",\"#1f77b3\",\"#1f77b3\",\"#1f77b3\",\"#1f77b3\",\"#1f77b3\",\"#1f77b3\",\"#1f77b3\",\"#1f77b3\",\"#1f77b3\",\"#1f77b3\",\"#1f77b3\",\"#1f77b3\",\"#1f77b3\"],\"x\":{\"__ndarray__\":\"MzMzM/NI0UBmZmZmblfRQGZmZmaOB9VAq6qqqipkz0BGF110UezQQFVVVVVVDbJAAAAAAIBy00BaN5gi/0LUQB+F61FoSN9AUrgehatU1EAzMzMzM5TJQJeWlpY2lt5AAAAAAKBy20B3d3d3ZzDXQIwuuuiia79APDw8PDxv1kBVVVVV5bXTQIPzMTj/mdZAHDhw4MAP0UAlSZIkCXjaQJ1zzjln0dFACcs9jbC/u0AAAAAAgDfJQKc3venNutJAhSj+Iqct10A60hxpToTXQPGrMZGeytVAb3rTm96x20APuawY6MzUQAAAAADAQNNAzs3NzU1x3EA5juM4jo3NQClcj8J1EtdAHdRBHRS82ECVS7mUy0/YQKalpaVlGt1ANJzUfXlB1UDpJjEI7OfVQEhwH8E9ONNAIxVzq3Pj1UAOdNpAJ2LbQOW8LOLTbtdAIhzCIVyt1UAjlopYKjfaQHqe53neL9VAAAAAABj32kAK16NwDV3UQGvfsPaNSdRAhetRuN4B3UAuW7ZsGT/UQJo6v/awTtdA0UUXXTSJ10BmZmZmZvPbQLETO7GT59VAHh4eHu7B1EDmFLycQq7YQAdpkAZpRdNAv76+vv6x00CU+Bkl/qPYQFLf2aivuthA\",\"dtype\":\"float64\",\"order\":\"little\",\"shape\":[60]},\"y\":{\"__ndarray__\":\"zczMzMxsYUCU11BeQ/lgQOACF7jAhVJAzczMzMykoEA+jbDc00hZQF100UUXHWZAUV5DeQ3leUB3d3d3d3dZQDmO4ziOz2NA5DiO4zi6jkCO4ziO4/hRQM3MzMzMIINAVVVVVVUVa0CQpwR5SjBmQM/zPM/zvHFAqBGWexpRZ0DnnHPOORd6QDmO4ziOd2JA33vvvfe+WECkQRqkQbpRQJIkSZIkWWNAAAAAAABYcEAAAAAAAIqPQDMzMzMz62BAGutDY30oXEBZgTDSjlVTQBKWexphmV9AO7ETO7EzYUDgB37gB55jQEmSJEmSJE1AAAAAAACobUCF61G4HoVdQAjW0eZ9ClNAZZ9DaoJxWEBGF1100YVNQLRR39moL1hAVVVVVVUBUkA6baDTBrpLQIwuuuiiy0JAAAAAAAD0QkDLPY2w3BNHQOdAohU2h0hAzczMzMyMREDtIZcVAyVPQLrooosuClJAWlpaWlpKUkARZ+UnxFlSQOLh4eHh4UZA7FG4HoUra0BQcckQrONRQH41JtIDlT9ArA+N9aExTUC1tLS0tHRWQLdt27Ztx2dAP4L7CO7jU0Avuuiii65RQD7rBlPk02pA3/SmN715aUA9z/M8zzNXQI+4I+6I+3FA\",\"dtype\":\"float64\",\"order\":\"little\",\"shape\":[60]}},\"selected\":{\"id\":\"1429\"},\"selection_policy\":{\"id\":\"1428\"}},\"id\":\"1349\",\"type\":\"ColumnDataSource\"},{\"attributes\":{\"fill_color\":{\"field\":\"color\"},\"hatch_color\":{\"field\":\"color\"},\"line_color\":{\"field\":\"color\"},\"x\":{\"field\":\"x\"},\"y\":{\"field\":\"y\"}},\"id\":\"1382\",\"type\":\"Circle\"},{\"attributes\":{\"axis_label\":\"Visits\",\"axis_label_standoff\":10,\"axis_label_text_color\":\"#5B5B5B\",\"axis_label_text_font\":\"Calibri Light\",\"axis_label_text_font_size\":\"1.15em\",\"axis_label_text_font_style\":\"bold\",\"axis_line_alpha\":1,\"axis_line_color\":\"#5B5B5B\",\"coordinates\":null,\"formatter\":{\"id\":\"1426\"},\"group\":null,\"major_label_policy\":{\"id\":\"1427\"},\"major_label_text_color\":\"#5B5B5B\",\"major_label_text_font\":\"Calibri Light\",\"major_label_text_font_size\":\"0.95em\",\"major_label_text_font_style\":\"bold\",\"major_tick_in\":0,\"major_tick_line_alpha\":0.25,\"major_tick_line_color\":\"#5B5B5B\",\"major_tick_out\":3,\"minor_tick_line_alpha\":0.25,\"minor_tick_line_color\":\"#5B5B5B\",\"ticker\":{\"id\":\"1360\"}},\"id\":\"1359\",\"type\":\"LinearAxis\"},{\"attributes\":{\"coordinates\":null,\"group\":null,\"text_color\":\"#5B5B5B\",\"text_font\":\"Calibri Light\",\"text_font_size\":\"1.25em\",\"text_font_style\":\"bold\"},\"id\":\"1420\",\"type\":\"Title\"},{\"attributes\":{},\"id\":\"1427\",\"type\":\"AllLabels\"},{\"attributes\":{},\"id\":\"1353\",\"type\":\"DataRange1d\"},{\"attributes\":{},\"id\":\"1370\",\"type\":\"SaveTool\"},{\"attributes\":{\"source\":{\"id\":\"1349\"}},\"id\":\"1386\",\"type\":\"CDSView\"},{\"attributes\":{},\"id\":\"1367\",\"type\":\"PanTool\"},{\"attributes\":{},\"id\":\"1371\",\"type\":\"ResetTool\"},{\"attributes\":{\"fill_alpha\":{\"value\":0.2},\"fill_color\":{\"field\":\"color\"},\"hatch_alpha\":{\"value\":0.2},\"hatch_color\":{\"field\":\"color\"},\"line_alpha\":{\"value\":0.2},\"line_color\":{\"field\":\"color\"},\"x\":{\"field\":\"x\"},\"y\":{\"field\":\"y\"}},\"id\":\"1384\",\"type\":\"Circle\"},{\"attributes\":{},\"id\":\"1424\",\"type\":\"AllLabels\"},{\"attributes\":{\"coordinates\":null,\"data_source\":{\"id\":\"1349\"},\"glyph\":{\"id\":\"1382\"},\"group\":null,\"hover_glyph\":null,\"muted_glyph\":{\"id\":\"1384\"},\"nonselection_glyph\":{\"id\":\"1383\"},\"view\":{\"id\":\"1386\"}},\"id\":\"1385\",\"type\":\"GlyphRenderer\"},{\"attributes\":{},\"id\":\"1351\",\"type\":\"DataRange1d\"},{\"attributes\":{},\"id\":\"1429\",\"type\":\"Selection\"},{\"attributes\":{\"tools\":[{\"id\":\"1367\"},{\"id\":\"1368\"},{\"id\":\"1369\"},{\"id\":\"1370\"},{\"id\":\"1371\"},{\"id\":\"1372\"}]},\"id\":\"1374\",\"type\":\"Toolbar\"},{\"attributes\":{\"fill_alpha\":{\"value\":0.1},\"fill_color\":{\"field\":\"color\"},\"hatch_alpha\":{\"value\":0.1},\"hatch_color\":{\"field\":\"color\"},\"line_alpha\":{\"value\":0.1},\"line_color\":{\"field\":\"color\"},\"x\":{\"field\":\"x\"},\"y\":{\"field\":\"y\"}},\"id\":\"1383\",\"type\":\"Circle\"},{\"attributes\":{\"axis\":{\"id\":\"1363\"},\"coordinates\":null,\"dimension\":1,\"group\":null,\"ticker\":null},\"id\":\"1366\",\"type\":\"Grid\"},{\"attributes\":{\"axis_label\":\"Durations\",\"axis_label_standoff\":10,\"axis_label_text_color\":\"#5B5B5B\",\"axis_label_text_font\":\"Calibri Light\",\"axis_label_text_font_size\":\"1.15em\",\"axis_label_text_font_style\":\"bold\",\"axis_line_alpha\":1,\"axis_line_color\":\"#5B5B5B\",\"coordinates\":null,\"formatter\":{\"id\":\"1423\"},\"group\":null,\"major_label_policy\":{\"id\":\"1424\"},\"major_label_text_color\":\"#5B5B5B\",\"major_label_text_font\":\"Calibri Light\",\"major_label_text_font_size\":\"0.95em\",\"major_label_text_font_style\":\"bold\",\"major_tick_in\":0,\"major_tick_line_alpha\":0.25,\"major_tick_line_color\":\"#5B5B5B\",\"major_tick_out\":3,\"minor_tick_line_alpha\":0.25,\"minor_tick_line_color\":\"#5B5B5B\",\"ticker\":{\"id\":\"1364\"}},\"id\":\"1363\",\"type\":\"LinearAxis\"},{\"attributes\":{},\"id\":\"1357\",\"type\":\"LinearScale\"},{\"attributes\":{},\"id\":\"1372\",\"type\":\"HelpTool\"},{\"attributes\":{\"bottom_units\":\"screen\",\"coordinates\":null,\"fill_alpha\":0.5,\"fill_color\":\"lightgrey\",\"group\":null,\"left_units\":\"screen\",\"level\":\"overlay\",\"line_alpha\":1.0,\"line_color\":\"black\",\"line_dash\":[4,4],\"line_width\":2,\"right_units\":\"screen\",\"syncable\":false,\"top_units\":\"screen\"},\"id\":\"1373\",\"type\":\"BoxAnnotation\"},{\"attributes\":{},\"id\":\"1360\",\"type\":\"BasicTicker\"},{\"attributes\":{},\"id\":\"1364\",\"type\":\"BasicTicker\"},{\"attributes\":{},\"id\":\"1426\",\"type\":\"BasicTickFormatter\"},{\"attributes\":{\"overlay\":{\"id\":\"1373\"}},\"id\":\"1369\",\"type\":\"BoxZoomTool\"},{\"attributes\":{},\"id\":\"1355\",\"type\":\"LinearScale\"},{\"attributes\":{},\"id\":\"1428\",\"type\":\"UnionRenderers\"},{\"attributes\":{},\"id\":\"1423\",\"type\":\"BasicTickFormatter\"},{\"attributes\":{},\"id\":\"1368\",\"type\":\"WheelZoomTool\"}],\"root_ids\":[\"1350\"]},\"title\":\"Bokeh Application\",\"version\":\"2.4.3\"}};\n  const render_items = [{\"docid\":\"7e9c9b2b-7f2a-4a4e-bc0a-1288ccf1e66b\",\"root_ids\":[\"1350\"],\"roots\":{\"1350\":\"2709a00c-c247-4bff-8d44-9afe879fdaf2\"}}];\n  root.Bokeh.embed.embed_items_notebook(docs_json, render_items);\n  }\n  if (root.Bokeh !== undefined) {\n    embed_document(root);\n  } else {\n    let attempts = 0;\n    const timer = setInterval(function(root) {\n      if (root.Bokeh !== undefined) {\n        clearInterval(timer);\n        embed_document(root);\n      } else {\n        attempts++;\n        if (attempts > 100) {\n          clearInterval(timer);\n          console.log(\"Bokeh: ERROR: Unable to run BokehJS code because BokehJS library is missing\");\n        }\n      }\n    }, 10, root)\n  }\n})(window);",
      "application/vnd.bokehjs_exec.v0+json": ""
     },
     "metadata": {
      "application/vnd.bokehjs_exec.v0+json": {
       "id": "1350"
      }
     },
     "output_type": "display_data"
    }
   ],
   "source": [
    "# Make the plot\n",
    "p = bokeh.plotting.figure(\n",
    "    frame_height=500,\n",
    "    frame_width=500,\n",
    "    x_axis_label=x_selector.value,\n",
    "    y_axis_label=y_selector.value,\n",
    ")\n",
    "\n",
    "# Populate glyphs\n",
    "circle = p.circle(source=source, x=\"x\", y=\"y\", color=\"color\",\n",
    "                  #legend_group=\"color\",\n",
    "                 )\n",
    "\n",
    "bokeh.io.show(p)"
   ],
   "metadata": {
    "collapsed": false,
    "pycharm": {
     "name": "#%%\n"
    }
   }
  },
  {
   "cell_type": "code",
   "execution_count": 14,
   "metadata": {
    "pycharm": {
     "name": "#%%\n"
    }
   },
   "outputs": [],
   "source": [
    "from bokeh.palettes import Category10\n",
    "import itertools\n",
    "\n",
    "colors = itertools.cycle(Category10[10])\n",
    "\n",
    "colors\n",
    "\n",
    "def color_gen():\n",
    "    yield from itertools.cycle(Category10[10])\n",
    "color = color_gen()"
   ]
  },
  {
   "cell_type": "code",
   "execution_count": 20,
   "outputs": [
    {
     "data": {
      "text/plain": "['#1f77b4',\n '#ff7f0e',\n '#2ca02c',\n '#d62728',\n '#9467bd',\n '#8c564b',\n '#e377c2',\n '#7f7f7f',\n '#bcbd22',\n '#17becf',\n '#1f77b4',\n '#ff7f0e',\n '#2ca02c',\n '#d62728',\n '#9467bd',\n '#8c564b',\n '#e377c2',\n '#7f7f7f',\n '#bcbd22',\n '#17becf',\n '#1f77b4',\n '#ff7f0e',\n '#2ca02c',\n '#d62728',\n '#9467bd',\n '#8c564b',\n '#e377c2',\n '#7f7f7f',\n '#bcbd22',\n '#17becf',\n '#1f77b4',\n '#ff7f0e',\n '#2ca02c',\n '#d62728',\n '#9467bd',\n '#8c564b',\n '#e377c2',\n '#7f7f7f',\n '#bcbd22',\n '#17becf',\n '#1f77b4',\n '#ff7f0e',\n '#2ca02c',\n '#d62728',\n '#9467bd',\n '#8c564b',\n '#e377c2',\n '#7f7f7f',\n '#bcbd22',\n '#17becf',\n '#1f77b4',\n '#ff7f0e',\n '#2ca02c',\n '#d62728',\n '#9467bd',\n '#8c564b',\n '#e377c2',\n '#7f7f7f',\n '#bcbd22',\n '#17becf']"
     },
     "execution_count": 20,
     "metadata": {},
     "output_type": "execute_result"
    }
   ],
   "source": [
    "Flycolors = []\n",
    "\n",
    "for fly, c in zip(ReinforcedVisit[\"Fly\"].unique(), color):\n",
    "    colors.append(c)\n",
    "\n",
    "Flycolors\n",
    "#colors = colorgen() for flies in ReinforcedVisit[\"Fly\"]"
   ],
   "metadata": {
    "collapsed": false,
    "pycharm": {
     "name": "#%%\n"
    }
   }
  },
  {
   "cell_type": "code",
   "execution_count": 23,
   "outputs": [],
   "source": [
    "source.data[\"color\"] = colors\n"
   ],
   "metadata": {
    "collapsed": false,
    "pycharm": {
     "name": "#%%\n"
    }
   }
  },
  {
   "cell_type": "code",
   "execution_count": 24,
   "outputs": [
    {
     "data": {
      "text/plain": "['#1f77b4',\n '#ff7f0e',\n '#2ca02c',\n '#d62728',\n '#9467bd',\n '#8c564b',\n '#e377c2',\n '#7f7f7f',\n '#bcbd22',\n '#17becf',\n '#1f77b4',\n '#ff7f0e',\n '#2ca02c',\n '#d62728',\n '#9467bd',\n '#8c564b',\n '#e377c2',\n '#7f7f7f',\n '#bcbd22',\n '#17becf',\n '#1f77b4',\n '#ff7f0e',\n '#2ca02c',\n '#d62728',\n '#9467bd',\n '#8c564b',\n '#e377c2',\n '#7f7f7f',\n '#bcbd22',\n '#17becf',\n '#1f77b4',\n '#ff7f0e',\n '#2ca02c',\n '#d62728',\n '#9467bd',\n '#8c564b',\n '#e377c2',\n '#7f7f7f',\n '#bcbd22',\n '#17becf',\n '#1f77b4',\n '#ff7f0e',\n '#2ca02c',\n '#d62728',\n '#9467bd',\n '#8c564b',\n '#e377c2',\n '#7f7f7f',\n '#bcbd22',\n '#17becf',\n '#1f77b4',\n '#ff7f0e',\n '#2ca02c',\n '#d62728',\n '#9467bd',\n '#8c564b',\n '#e377c2',\n '#7f7f7f',\n '#bcbd22',\n '#17becf']"
     },
     "execution_count": 24,
     "metadata": {},
     "output_type": "execute_result"
    }
   ],
   "source": [
    "source.data[\"color\"]"
   ],
   "metadata": {
    "collapsed": false,
    "pycharm": {
     "name": "#%%\n"
    }
   }
  },
  {
   "cell_type": "code",
   "execution_count": 25,
   "outputs": [
    {
     "data": {
      "text/html": "\n  <div class=\"bk-root\" id=\"1028fe78-7503-4ad2-b01e-4b0e5ba1326d\" data-root-id=\"1488\"></div>\n"
     },
     "metadata": {},
     "output_type": "display_data"
    },
    {
     "data": {
      "application/javascript": "(function(root) {\n  function embed_document(root) {\n  const docs_json = {\"bce8c922-7f18-433e-9703-2cebf37e2e96\":{\"defs\":[],\"roots\":{\"references\":[{\"attributes\":{\"below\":[{\"id\":\"1497\"}],\"center\":[{\"id\":\"1500\"},{\"id\":\"1504\"}],\"frame_height\":500,\"frame_width\":500,\"left\":[{\"id\":\"1501\"}],\"renderers\":[{\"id\":\"1523\"}],\"title\":{\"id\":\"1569\"},\"toolbar\":{\"id\":\"1512\"},\"x_range\":{\"id\":\"1489\"},\"x_scale\":{\"id\":\"1493\"},\"y_range\":{\"id\":\"1491\"},\"y_scale\":{\"id\":\"1495\"}},\"id\":\"1488\",\"subtype\":\"Figure\",\"type\":\"Plot\"},{\"attributes\":{},\"id\":\"1505\",\"type\":\"PanTool\"},{\"attributes\":{\"axis_label\":\"Visits\",\"axis_label_standoff\":10,\"axis_label_text_color\":\"#5B5B5B\",\"axis_label_text_font\":\"Calibri Light\",\"axis_label_text_font_size\":\"1.15em\",\"axis_label_text_font_style\":\"bold\",\"axis_line_alpha\":1,\"axis_line_color\":\"#5B5B5B\",\"coordinates\":null,\"formatter\":{\"id\":\"1575\"},\"group\":null,\"major_label_policy\":{\"id\":\"1576\"},\"major_label_text_color\":\"#5B5B5B\",\"major_label_text_font\":\"Calibri Light\",\"major_label_text_font_size\":\"0.95em\",\"major_label_text_font_style\":\"bold\",\"major_tick_in\":0,\"major_tick_line_alpha\":0.25,\"major_tick_line_color\":\"#5B5B5B\",\"major_tick_out\":3,\"minor_tick_line_alpha\":0.25,\"minor_tick_line_color\":\"#5B5B5B\",\"ticker\":{\"id\":\"1498\"}},\"id\":\"1497\",\"type\":\"LinearAxis\"},{\"attributes\":{\"fill_color\":{\"field\":\"color\"},\"hatch_color\":{\"field\":\"color\"},\"line_color\":{\"field\":\"color\"},\"x\":{\"field\":\"x\"},\"y\":{\"field\":\"y\"}},\"id\":\"1520\",\"type\":\"Circle\"},{\"attributes\":{\"data\":{\"color\":[\"#1f77b4\",\"#ff7f0e\",\"#2ca02c\",\"#d62728\",\"#9467bd\",\"#8c564b\",\"#e377c2\",\"#7f7f7f\",\"#bcbd22\",\"#17becf\",\"#1f77b4\",\"#ff7f0e\",\"#2ca02c\",\"#d62728\",\"#9467bd\",\"#8c564b\",\"#e377c2\",\"#7f7f7f\",\"#bcbd22\",\"#17becf\",\"#1f77b4\",\"#ff7f0e\",\"#2ca02c\",\"#d62728\",\"#9467bd\",\"#8c564b\",\"#e377c2\",\"#7f7f7f\",\"#bcbd22\",\"#17becf\",\"#1f77b4\",\"#ff7f0e\",\"#2ca02c\",\"#d62728\",\"#9467bd\",\"#8c564b\",\"#e377c2\",\"#7f7f7f\",\"#bcbd22\",\"#17becf\",\"#1f77b4\",\"#ff7f0e\",\"#2ca02c\",\"#d62728\",\"#9467bd\",\"#8c564b\",\"#e377c2\",\"#7f7f7f\",\"#bcbd22\",\"#17becf\",\"#1f77b4\",\"#ff7f0e\",\"#2ca02c\",\"#d62728\",\"#9467bd\",\"#8c564b\",\"#e377c2\",\"#7f7f7f\",\"#bcbd22\",\"#17becf\"],\"x\":{\"__ndarray__\":\"MzMzM/NI0UBmZmZmblfRQGZmZmaOB9VAq6qqqipkz0BGF110UezQQFVVVVVVDbJAAAAAAIBy00BaN5gi/0LUQB+F61FoSN9AUrgehatU1EAzMzMzM5TJQJeWlpY2lt5AAAAAAKBy20B3d3d3ZzDXQIwuuuiia79APDw8PDxv1kBVVVVV5bXTQIPzMTj/mdZAHDhw4MAP0UAlSZIkCXjaQJ1zzjln0dFACcs9jbC/u0AAAAAAgDfJQKc3venNutJAhSj+Iqct10A60hxpToTXQPGrMZGeytVAb3rTm96x20APuawY6MzUQAAAAADAQNNAzs3NzU1x3EA5juM4jo3NQClcj8J1EtdAHdRBHRS82ECVS7mUy0/YQKalpaVlGt1ANJzUfXlB1UDpJjEI7OfVQEhwH8E9ONNAIxVzq3Pj1UAOdNpAJ2LbQOW8LOLTbtdAIhzCIVyt1UAjlopYKjfaQHqe53neL9VAAAAAABj32kAK16NwDV3UQGvfsPaNSdRAhetRuN4B3UAuW7ZsGT/UQJo6v/awTtdA0UUXXTSJ10BmZmZmZvPbQLETO7GT59VAHh4eHu7B1EDmFLycQq7YQAdpkAZpRdNAv76+vv6x00CU+Bkl/qPYQFLf2aivuthA\",\"dtype\":\"float64\",\"order\":\"little\",\"shape\":[60]},\"y\":{\"__ndarray__\":\"zczMzMxsYUCU11BeQ/lgQOACF7jAhVJAzczMzMykoEA+jbDc00hZQF100UUXHWZAUV5DeQ3leUB3d3d3d3dZQDmO4ziOz2NA5DiO4zi6jkCO4ziO4/hRQM3MzMzMIINAVVVVVVUVa0CQpwR5SjBmQM/zPM/zvHFAqBGWexpRZ0DnnHPOORd6QDmO4ziOd2JA33vvvfe+WECkQRqkQbpRQJIkSZIkWWNAAAAAAABYcEAAAAAAAIqPQDMzMzMz62BAGutDY30oXEBZgTDSjlVTQBKWexphmV9AO7ETO7EzYUDgB37gB55jQEmSJEmSJE1AAAAAAACobUCF61G4HoVdQAjW0eZ9ClNAZZ9DaoJxWEBGF1100YVNQLRR39moL1hAVVVVVVUBUkA6baDTBrpLQIwuuuiiy0JAAAAAAAD0QkDLPY2w3BNHQOdAohU2h0hAzczMzMyMREDtIZcVAyVPQLrooosuClJAWlpaWlpKUkARZ+UnxFlSQOLh4eHh4UZA7FG4HoUra0BQcckQrONRQH41JtIDlT9ArA+N9aExTUC1tLS0tHRWQLdt27Ztx2dAP4L7CO7jU0Avuuiii65RQD7rBlPk02pA3/SmN715aUA9z/M8zzNXQI+4I+6I+3FA\",\"dtype\":\"float64\",\"order\":\"little\",\"shape\":[60]}},\"selected\":{\"id\":\"1429\"},\"selection_policy\":{\"id\":\"1428\"}},\"id\":\"1349\",\"type\":\"ColumnDataSource\"},{\"attributes\":{\"fill_alpha\":{\"value\":0.1},\"fill_color\":{\"field\":\"color\"},\"hatch_alpha\":{\"value\":0.1},\"hatch_color\":{\"field\":\"color\"},\"line_alpha\":{\"value\":0.1},\"line_color\":{\"field\":\"color\"},\"x\":{\"field\":\"x\"},\"y\":{\"field\":\"y\"}},\"id\":\"1521\",\"type\":\"Circle\"},{\"attributes\":{},\"id\":\"1502\",\"type\":\"BasicTicker\"},{\"attributes\":{},\"id\":\"1509\",\"type\":\"ResetTool\"},{\"attributes\":{\"coordinates\":null,\"group\":null,\"text_color\":\"#5B5B5B\",\"text_font\":\"Calibri Light\",\"text_font_size\":\"1.25em\",\"text_font_style\":\"bold\"},\"id\":\"1569\",\"type\":\"Title\"},{\"attributes\":{\"axis\":{\"id\":\"1497\"},\"coordinates\":null,\"group\":null,\"ticker\":null},\"id\":\"1500\",\"type\":\"Grid\"},{\"attributes\":{\"overlay\":{\"id\":\"1511\"}},\"id\":\"1507\",\"type\":\"BoxZoomTool\"},{\"attributes\":{\"bottom_units\":\"screen\",\"coordinates\":null,\"fill_alpha\":0.5,\"fill_color\":\"lightgrey\",\"group\":null,\"left_units\":\"screen\",\"level\":\"overlay\",\"line_alpha\":1.0,\"line_color\":\"black\",\"line_dash\":[4,4],\"line_width\":2,\"right_units\":\"screen\",\"syncable\":false,\"top_units\":\"screen\"},\"id\":\"1511\",\"type\":\"BoxAnnotation\"},{\"attributes\":{},\"id\":\"1506\",\"type\":\"WheelZoomTool\"},{\"attributes\":{},\"id\":\"1508\",\"type\":\"SaveTool\"},{\"attributes\":{},\"id\":\"1576\",\"type\":\"AllLabels\"},{\"attributes\":{},\"id\":\"1429\",\"type\":\"Selection\"},{\"attributes\":{},\"id\":\"1498\",\"type\":\"BasicTicker\"},{\"attributes\":{\"fill_alpha\":{\"value\":0.2},\"fill_color\":{\"field\":\"color\"},\"hatch_alpha\":{\"value\":0.2},\"hatch_color\":{\"field\":\"color\"},\"line_alpha\":{\"value\":0.2},\"line_color\":{\"field\":\"color\"},\"x\":{\"field\":\"x\"},\"y\":{\"field\":\"y\"}},\"id\":\"1522\",\"type\":\"Circle\"},{\"attributes\":{},\"id\":\"1428\",\"type\":\"UnionRenderers\"},{\"attributes\":{\"tools\":[{\"id\":\"1505\"},{\"id\":\"1506\"},{\"id\":\"1507\"},{\"id\":\"1508\"},{\"id\":\"1509\"},{\"id\":\"1510\"}]},\"id\":\"1512\",\"type\":\"Toolbar\"},{\"attributes\":{},\"id\":\"1493\",\"type\":\"LinearScale\"},{\"attributes\":{\"source\":{\"id\":\"1349\"}},\"id\":\"1524\",\"type\":\"CDSView\"},{\"attributes\":{},\"id\":\"1510\",\"type\":\"HelpTool\"},{\"attributes\":{\"coordinates\":null,\"data_source\":{\"id\":\"1349\"},\"glyph\":{\"id\":\"1520\"},\"group\":null,\"hover_glyph\":null,\"muted_glyph\":{\"id\":\"1522\"},\"nonselection_glyph\":{\"id\":\"1521\"},\"view\":{\"id\":\"1524\"}},\"id\":\"1523\",\"type\":\"GlyphRenderer\"},{\"attributes\":{},\"id\":\"1491\",\"type\":\"DataRange1d\"},{\"attributes\":{\"axis_label\":\"Durations\",\"axis_label_standoff\":10,\"axis_label_text_color\":\"#5B5B5B\",\"axis_label_text_font\":\"Calibri Light\",\"axis_label_text_font_size\":\"1.15em\",\"axis_label_text_font_style\":\"bold\",\"axis_line_alpha\":1,\"axis_line_color\":\"#5B5B5B\",\"coordinates\":null,\"formatter\":{\"id\":\"1572\"},\"group\":null,\"major_label_policy\":{\"id\":\"1573\"},\"major_label_text_color\":\"#5B5B5B\",\"major_label_text_font\":\"Calibri Light\",\"major_label_text_font_size\":\"0.95em\",\"major_label_text_font_style\":\"bold\",\"major_tick_in\":0,\"major_tick_line_alpha\":0.25,\"major_tick_line_color\":\"#5B5B5B\",\"major_tick_out\":3,\"minor_tick_line_alpha\":0.25,\"minor_tick_line_color\":\"#5B5B5B\",\"ticker\":{\"id\":\"1502\"}},\"id\":\"1501\",\"type\":\"LinearAxis\"},{\"attributes\":{},\"id\":\"1572\",\"type\":\"BasicTickFormatter\"},{\"attributes\":{\"axis\":{\"id\":\"1501\"},\"coordinates\":null,\"dimension\":1,\"group\":null,\"ticker\":null},\"id\":\"1504\",\"type\":\"Grid\"},{\"attributes\":{},\"id\":\"1489\",\"type\":\"DataRange1d\"},{\"attributes\":{},\"id\":\"1573\",\"type\":\"AllLabels\"},{\"attributes\":{},\"id\":\"1575\",\"type\":\"BasicTickFormatter\"},{\"attributes\":{},\"id\":\"1495\",\"type\":\"LinearScale\"}],\"root_ids\":[\"1488\"]},\"title\":\"Bokeh Application\",\"version\":\"2.4.3\"}};\n  const render_items = [{\"docid\":\"bce8c922-7f18-433e-9703-2cebf37e2e96\",\"root_ids\":[\"1488\"],\"roots\":{\"1488\":\"1028fe78-7503-4ad2-b01e-4b0e5ba1326d\"}}];\n  root.Bokeh.embed.embed_items_notebook(docs_json, render_items);\n  }\n  if (root.Bokeh !== undefined) {\n    embed_document(root);\n  } else {\n    let attempts = 0;\n    const timer = setInterval(function(root) {\n      if (root.Bokeh !== undefined) {\n        clearInterval(timer);\n        embed_document(root);\n      } else {\n        attempts++;\n        if (attempts > 100) {\n          clearInterval(timer);\n          console.log(\"Bokeh: ERROR: Unable to run BokehJS code because BokehJS library is missing\");\n        }\n      }\n    }, 10, root)\n  }\n})(window);",
      "application/vnd.bokehjs_exec.v0+json": ""
     },
     "metadata": {
      "application/vnd.bokehjs_exec.v0+json": {
       "id": "1488"
      }
     },
     "output_type": "display_data"
    }
   ],
   "source": [
    "p = bokeh.plotting.figure(\n",
    "    frame_height=500,\n",
    "    frame_width=500,\n",
    "    x_axis_label=x_selector.value,\n",
    "    y_axis_label=y_selector.value,\n",
    ")\n",
    "\n",
    "# Populate glyphs\n",
    "circle = p.circle(source=source, x=\"x\", y=\"y\", color=\"color\",\n",
    "                  #legend_group=\"color\",\n",
    "                 )\n",
    "\n",
    "bokeh.io.show(p)"
   ],
   "metadata": {
    "collapsed": false,
    "pycharm": {
     "name": "#%%\n"
    }
   }
  },
  {
   "cell_type": "code",
   "execution_count": 26,
   "outputs": [
    {
     "data": {
      "text/plain": "['#ff7e0e',\n '#ff7e0e',\n '#ff7e0e',\n '#ff7e0e',\n '#ff7e0e',\n '#ff7e0e',\n '#ff7e0e',\n '#ff7e0e',\n '#ff7e0e',\n '#ff7e0e',\n '#ff7e0e',\n '#ff7e0e',\n '#ff7e0e',\n '#ff7e0e',\n '#ff7e0e',\n '#ff7e0e',\n '#ff7e0e',\n '#ff7e0e',\n '#ff7e0e',\n '#ff7e0e',\n '#1f77b3',\n '#1f77b3',\n '#1f77b3',\n '#1f77b3',\n '#1f77b3',\n '#1f77b3',\n '#1f77b3',\n '#1f77b3',\n '#1f77b3',\n '#1f77b3',\n '#1f77b3',\n '#1f77b3',\n '#1f77b3',\n '#1f77b3',\n '#1f77b3',\n '#1f77b3',\n '#1f77b3',\n '#1f77b3',\n '#1f77b3',\n '#1f77b3',\n '#1f77b3',\n '#1f77b3',\n '#1f77b3',\n '#1f77b3',\n '#1f77b3',\n '#1f77b3',\n '#1f77b3',\n '#1f77b3',\n '#1f77b3',\n '#1f77b3',\n '#1f77b3',\n '#1f77b3',\n '#1f77b3',\n '#1f77b3',\n '#1f77b3',\n '#1f77b3',\n '#1f77b3',\n '#1f77b3',\n '#1f77b3',\n '#1f77b3']"
     },
     "execution_count": 26,
     "metadata": {},
     "output_type": "execute_result"
    }
   ],
   "source": [
    "source.data[\"color\"] = [\n",
    "            \"#1f77b3\" if objects == \"Blue\" else \"#ff7e0e\"\n",
    "            for objects in ReinforcedVisit[\"ObjectsReinforced\"]\n",
    "        ]\n",
    "\n",
    "source.data[\"color\"]"
   ],
   "metadata": {
    "collapsed": false,
    "pycharm": {
     "name": "#%%\n"
    }
   }
  },
  {
   "cell_type": "code",
   "execution_count": 33,
   "outputs": [
    {
     "data": {
      "text/html": "\n  <div class=\"bk-root\" id=\"631c1a0c-1138-4153-8e04-6f2abc2ee9e9\" data-root-id=\"1968\"></div>\n"
     },
     "metadata": {},
     "output_type": "display_data"
    },
    {
     "data": {
      "application/javascript": "(function(root) {\n  function embed_document(root) {\n  const docs_json = {\"f50f7e28-d25e-4d82-8b4b-4f69f93f71d5\":{\"defs\":[],\"roots\":{\"references\":[{\"attributes\":{\"below\":[{\"id\":\"1977\"}],\"center\":[{\"id\":\"1980\"},{\"id\":\"1984\"}],\"frame_height\":500,\"frame_width\":500,\"left\":[{\"id\":\"1981\"}],\"renderers\":[{\"id\":\"2005\"}],\"title\":{\"id\":\"2084\"},\"toolbar\":{\"id\":\"1993\"},\"x_range\":{\"id\":\"1969\"},\"x_scale\":{\"id\":\"1973\"},\"y_range\":{\"id\":\"1971\"},\"y_scale\":{\"id\":\"1975\"}},\"id\":\"1968\",\"subtype\":\"Figure\",\"type\":\"Plot\"},{\"attributes\":{\"fill_alpha\":{\"value\":0.1},\"fill_color\":{\"field\":\"color\"},\"hatch_alpha\":{\"value\":0.1},\"hatch_color\":{\"field\":\"color\"},\"line_alpha\":{\"value\":0.1},\"line_color\":{\"field\":\"color\"},\"x\":{\"field\":\"x\"},\"y\":{\"field\":\"y\"}},\"id\":\"2003\",\"type\":\"Circle\"},{\"attributes\":{\"axis\":{\"id\":\"1981\"},\"coordinates\":null,\"dimension\":1,\"group\":null,\"ticker\":null},\"id\":\"1984\",\"type\":\"Grid\"},{\"attributes\":{},\"id\":\"1988\",\"type\":\"SaveTool\"},{\"attributes\":{\"axis_label\":\"Visits\",\"axis_label_standoff\":10,\"axis_label_text_color\":\"#5B5B5B\",\"axis_label_text_font\":\"Calibri Light\",\"axis_label_text_font_size\":\"1.15em\",\"axis_label_text_font_style\":\"bold\",\"axis_line_alpha\":1,\"axis_line_color\":\"#5B5B5B\",\"coordinates\":null,\"formatter\":{\"id\":\"2090\"},\"group\":null,\"major_label_policy\":{\"id\":\"2091\"},\"major_label_text_color\":\"#5B5B5B\",\"major_label_text_font\":\"Calibri Light\",\"major_label_text_font_size\":\"0.95em\",\"major_label_text_font_style\":\"bold\",\"major_tick_in\":0,\"major_tick_line_alpha\":0.25,\"major_tick_line_color\":\"#5B5B5B\",\"major_tick_out\":3,\"minor_tick_line_alpha\":0.25,\"minor_tick_line_color\":\"#5B5B5B\",\"ticker\":{\"id\":\"1978\"}},\"id\":\"1977\",\"type\":\"LinearAxis\"},{\"attributes\":{},\"id\":\"2093\",\"type\":\"Selection\"},{\"attributes\":{},\"id\":\"1989\",\"type\":\"ResetTool\"},{\"attributes\":{\"overlay\":{\"id\":\"1991\"}},\"id\":\"1987\",\"type\":\"BoxZoomTool\"},{\"attributes\":{},\"id\":\"2092\",\"type\":\"UnionRenderers\"},{\"attributes\":{},\"id\":\"2091\",\"type\":\"AllLabels\"},{\"attributes\":{},\"id\":\"1969\",\"type\":\"DataRange1d\"},{\"attributes\":{\"fill_alpha\":{\"value\":0.2},\"fill_color\":{\"field\":\"color\"},\"hatch_alpha\":{\"value\":0.2},\"hatch_color\":{\"field\":\"color\"},\"line_alpha\":{\"value\":0.2},\"line_color\":{\"field\":\"color\"},\"x\":{\"field\":\"x\"},\"y\":{\"field\":\"y\"}},\"id\":\"2004\",\"type\":\"Circle\"},{\"attributes\":{\"coordinates\":null,\"group\":null,\"text_color\":\"#5B5B5B\",\"text_font\":\"Calibri Light\",\"text_font_size\":\"1.25em\",\"text_font_style\":\"bold\"},\"id\":\"2084\",\"type\":\"Title\"},{\"attributes\":{},\"id\":\"1990\",\"type\":\"HelpTool\"},{\"attributes\":{\"source\":{\"id\":\"1967\"}},\"id\":\"2006\",\"type\":\"CDSView\"},{\"attributes\":{\"callback\":null,\"tooltips\":[[\"fly\",\"@{Fly}\"],[\"Training state\",\"@Training\"],[\"Object reinforced\",\"@ObjectsReinforced\"]]},\"id\":\"1992\",\"type\":\"HoverTool\"},{\"attributes\":{\"coordinates\":null,\"data_source\":{\"id\":\"1967\"},\"glyph\":{\"id\":\"2002\"},\"group\":null,\"hover_glyph\":null,\"muted_glyph\":{\"id\":\"2004\"},\"nonselection_glyph\":{\"id\":\"2003\"},\"view\":{\"id\":\"2006\"}},\"id\":\"2005\",\"type\":\"GlyphRenderer\"},{\"attributes\":{},\"id\":\"1971\",\"type\":\"DataRange1d\"},{\"attributes\":{\"tools\":[{\"id\":\"1985\"},{\"id\":\"1986\"},{\"id\":\"1987\"},{\"id\":\"1988\"},{\"id\":\"1989\"},{\"id\":\"1990\"},{\"id\":\"1992\"}]},\"id\":\"1993\",\"type\":\"Toolbar\"},{\"attributes\":{},\"id\":\"1986\",\"type\":\"WheelZoomTool\"},{\"attributes\":{},\"id\":\"1982\",\"type\":\"BasicTicker\"},{\"attributes\":{\"fill_color\":{\"field\":\"color\"},\"hatch_color\":{\"field\":\"color\"},\"line_color\":{\"field\":\"color\"},\"x\":{\"field\":\"x\"},\"y\":{\"field\":\"y\"}},\"id\":\"2002\",\"type\":\"Circle\"},{\"attributes\":{},\"id\":\"2088\",\"type\":\"AllLabels\"},{\"attributes\":{\"axis\":{\"id\":\"1977\"},\"coordinates\":null,\"group\":null,\"ticker\":null},\"id\":\"1980\",\"type\":\"Grid\"},{\"attributes\":{},\"id\":\"1973\",\"type\":\"LinearScale\"},{\"attributes\":{},\"id\":\"1978\",\"type\":\"BasicTicker\"},{\"attributes\":{},\"id\":\"2090\",\"type\":\"BasicTickFormatter\"},{\"attributes\":{},\"id\":\"1985\",\"type\":\"PanTool\"},{\"attributes\":{\"bottom_units\":\"screen\",\"coordinates\":null,\"fill_alpha\":0.5,\"fill_color\":\"lightgrey\",\"group\":null,\"left_units\":\"screen\",\"level\":\"overlay\",\"line_alpha\":1.0,\"line_color\":\"black\",\"line_dash\":[4,4],\"line_width\":2,\"right_units\":\"screen\",\"syncable\":false,\"top_units\":\"screen\"},\"id\":\"1991\",\"type\":\"BoxAnnotation\"},{\"attributes\":{},\"id\":\"2087\",\"type\":\"BasicTickFormatter\"},{\"attributes\":{},\"id\":\"1975\",\"type\":\"LinearScale\"},{\"attributes\":{\"axis_label\":\"Durations\",\"axis_label_standoff\":10,\"axis_label_text_color\":\"#5B5B5B\",\"axis_label_text_font\":\"Calibri Light\",\"axis_label_text_font_size\":\"1.15em\",\"axis_label_text_font_style\":\"bold\",\"axis_line_alpha\":1,\"axis_line_color\":\"#5B5B5B\",\"coordinates\":null,\"formatter\":{\"id\":\"2087\"},\"group\":null,\"major_label_policy\":{\"id\":\"2088\"},\"major_label_text_color\":\"#5B5B5B\",\"major_label_text_font\":\"Calibri Light\",\"major_label_text_font_size\":\"0.95em\",\"major_label_text_font_style\":\"bold\",\"major_tick_in\":0,\"major_tick_line_alpha\":0.25,\"major_tick_line_color\":\"#5B5B5B\",\"major_tick_out\":3,\"minor_tick_line_alpha\":0.25,\"minor_tick_line_color\":\"#5B5B5B\",\"ticker\":{\"id\":\"1982\"}},\"id\":\"1981\",\"type\":\"LinearAxis\"},{\"attributes\":{\"data\":{\"Fly\":[1,2,3,4,5,6,7,8,9,10,11,12,13,14,15,17,18,19,20,21,22,23,24,25,26,27,28,29,30,31,32,33,34,35,36,37,38,39,40,41,42,43,44,45,46,47,48,49,50,51,52,53,54,55,56,57,58,59,60,61],\"ObjectsReinforced\":[\"Orange\",\"Orange\",\"Orange\",\"Orange\",\"Orange\",\"Orange\",\"Orange\",\"Orange\",\"Orange\",\"Orange\",\"Orange\",\"Orange\",\"Orange\",\"Orange\",\"Orange\",\"Orange\",\"Orange\",\"Orange\",\"Orange\",\"Orange\",\"Blue\",\"Blue\",\"Blue\",\"Blue\",\"Blue\",\"Blue\",\"Blue\",\"Blue\",\"Blue\",\"Blue\",\"Blue\",\"Blue\",\"Blue\",\"Blue\",\"Blue\",\"Blue\",\"Blue\",\"Blue\",\"Blue\",\"Blue\",\"Blue\",\"Blue\",\"Blue\",\"Blue\",\"Blue\",\"Blue\",\"Blue\",\"Blue\",\"Blue\",\"Blue\",\"Blue\",\"Blue\",\"Blue\",\"Blue\",\"Blue\",\"Blue\",\"Blue\",\"Blue\",\"Blue\",\"Blue\"],\"Training\":[\"Ctrl\",\"Ctrl\",\"Ctrl\",\"Ctrl\",\"Ctrl\",\"Ctrl\",\"Ctrl\",\"Ctrl\",\"Ctrl\",\"Ctrl\",\"Trained\",\"Trained\",\"Trained\",\"Trained\",\"Trained\",\"Trained\",\"Trained\",\"Trained\",\"Trained\",\"Trained\",\"Ctrl\",\"Ctrl\",\"Ctrl\",\"Ctrl\",\"Ctrl\",\"Ctrl\",\"Trained\",\"Trained\",\"Trained\",\"Trained\",\"Trained\",\"Trained\",\"Ctrl\",\"Ctrl\",\"Ctrl\",\"Ctrl\",\"Ctrl\",\"Ctrl\",\"Ctrl\",\"Ctrl\",\"Trained\",\"Trained\",\"Trained\",\"Trained\",\"Trained\",\"Trained\",\"Trained\",\"Trained\",\"Trained\",\"Trained\",\"Trained\",\"Ctrl\",\"Ctrl\",\"Ctrl\",\"Ctrl\",\"Ctrl\",\"Trained\",\"Trained\",\"Trained\",\"Trained\"],\"color\":[\"#1f77b3\",\"#1f77b3\",\"#1f77b3\",\"#1f77b3\",\"#1f77b3\",\"#1f77b3\",\"#1f77b3\",\"#1f77b3\",\"#1f77b3\",\"#1f77b3\",\"#1f77b3\",\"#1f77b3\",\"#1f77b3\",\"#1f77b3\",\"#1f77b3\",\"#1f77b3\",\"#1f77b3\",\"#1f77b3\",\"#1f77b3\",\"#1f77b3\",\"#1f77b3\",\"#1f77b3\",\"#1f77b3\",\"#1f77b3\",\"#1f77b3\",\"#1f77b3\",\"#1f77b3\",\"#1f77b3\",\"#1f77b3\",\"#1f77b3\",\"#1f77b3\",\"#1f77b3\",\"#1f77b3\",\"#1f77b3\",\"#1f77b3\",\"#1f77b3\",\"#1f77b3\",\"#1f77b3\",\"#1f77b3\",\"#1f77b3\",\"#1f77b3\",\"#1f77b3\",\"#1f77b3\",\"#1f77b3\",\"#1f77b3\",\"#1f77b3\",\"#1f77b3\",\"#1f77b3\",\"#1f77b3\",\"#1f77b3\",\"#1f77b3\",\"#1f77b3\",\"#1f77b3\",\"#1f77b3\",\"#1f77b3\",\"#1f77b3\",\"#1f77b3\",\"#1f77b3\",\"#1f77b3\",\"#1f77b3\"],\"x\":{\"__ndarray__\":\"MzMzM/NI0UBmZmZmblfRQGZmZmaOB9VAq6qqqipkz0BGF110UezQQFVVVVVVDbJAAAAAAIBy00BaN5gi/0LUQB+F61FoSN9AUrgehatU1EAzMzMzM5TJQJeWlpY2lt5AAAAAAKBy20B3d3d3ZzDXQIwuuuiia79APDw8PDxv1kBVVVVV5bXTQIPzMTj/mdZAHDhw4MAP0UAlSZIkCXjaQJ1zzjln0dFACcs9jbC/u0AAAAAAgDfJQKc3venNutJAhSj+Iqct10A60hxpToTXQPGrMZGeytVAb3rTm96x20APuawY6MzUQAAAAADAQNNAzs3NzU1x3EA5juM4jo3NQClcj8J1EtdAHdRBHRS82ECVS7mUy0/YQKalpaVlGt1ANJzUfXlB1UDpJjEI7OfVQEhwH8E9ONNAIxVzq3Pj1UAOdNpAJ2LbQOW8LOLTbtdAIhzCIVyt1UAjlopYKjfaQHqe53neL9VAAAAAABj32kAK16NwDV3UQGvfsPaNSdRAhetRuN4B3UAuW7ZsGT/UQJo6v/awTtdA0UUXXTSJ10BmZmZmZvPbQLETO7GT59VAHh4eHu7B1EDmFLycQq7YQAdpkAZpRdNAv76+vv6x00CU+Bkl/qPYQFLf2aivuthA\",\"dtype\":\"float64\",\"order\":\"little\",\"shape\":[60]},\"y\":{\"__ndarray__\":\"zczMzMxsYUCU11BeQ/lgQOACF7jAhVJAzczMzMykoEA+jbDc00hZQF100UUXHWZAUV5DeQ3leUB3d3d3d3dZQDmO4ziOz2NA5DiO4zi6jkCO4ziO4/hRQM3MzMzMIINAVVVVVVUVa0CQpwR5SjBmQM/zPM/zvHFAqBGWexpRZ0DnnHPOORd6QDmO4ziOd2JA33vvvfe+WECkQRqkQbpRQJIkSZIkWWNAAAAAAABYcEAAAAAAAIqPQDMzMzMz62BAGutDY30oXEBZgTDSjlVTQBKWexphmV9AO7ETO7EzYUDgB37gB55jQEmSJEmSJE1AAAAAAACobUCF61G4HoVdQAjW0eZ9ClNAZZ9DaoJxWEBGF1100YVNQLRR39moL1hAVVVVVVUBUkA6baDTBrpLQIwuuuiiy0JAAAAAAAD0QkDLPY2w3BNHQOdAohU2h0hAzczMzMyMREDtIZcVAyVPQLrooosuClJAWlpaWlpKUkARZ+UnxFlSQOLh4eHh4UZA7FG4HoUra0BQcckQrONRQH41JtIDlT9ArA+N9aExTUC1tLS0tHRWQLdt27Ztx2dAP4L7CO7jU0Avuuiii65RQD7rBlPk02pA3/SmN715aUA9z/M8zzNXQI+4I+6I+3FA\",\"dtype\":\"float64\",\"order\":\"little\",\"shape\":[60]}},\"selected\":{\"id\":\"2093\"},\"selection_policy\":{\"id\":\"2092\"}},\"id\":\"1967\",\"type\":\"ColumnDataSource\"}],\"root_ids\":[\"1968\"]},\"title\":\"Bokeh Application\",\"version\":\"2.4.3\"}};\n  const render_items = [{\"docid\":\"f50f7e28-d25e-4d82-8b4b-4f69f93f71d5\",\"root_ids\":[\"1968\"],\"roots\":{\"1968\":\"631c1a0c-1138-4153-8e04-6f2abc2ee9e9\"}}];\n  root.Bokeh.embed.embed_items_notebook(docs_json, render_items);\n  }\n  if (root.Bokeh !== undefined) {\n    embed_document(root);\n  } else {\n    let attempts = 0;\n    const timer = setInterval(function(root) {\n      if (root.Bokeh !== undefined) {\n        clearInterval(timer);\n        embed_document(root);\n      } else {\n        attempts++;\n        if (attempts > 100) {\n          clearInterval(timer);\n          console.log(\"Bokeh: ERROR: Unable to run BokehJS code because BokehJS library is missing\");\n        }\n      }\n    }, 10, root)\n  }\n})(window);",
      "application/vnd.bokehjs_exec.v0+json": ""
     },
     "metadata": {
      "application/vnd.bokehjs_exec.v0+json": {
       "id": "1968"
      }
     },
     "output_type": "display_data"
    }
   ],
   "source": [
    "p = bokeh.plotting.figure(\n",
    "    frame_height=500,\n",
    "    frame_width=500,\n",
    "    x_axis_label=x_selector.value,\n",
    "    y_axis_label=y_selector.value,\n",
    "    tooltips=[('fly', '@{Fly}'),\n",
    "              ('Training state', '@Training'),\n",
    "              ('Object reinforced', '@ObjectsReinforced')\n",
    "             ],\n",
    ")\n",
    "\n",
    "# Populate glyphs\n",
    "circle = p.circle(source=source, x=\"x\", y=\"y\", color=\"color\",\n",
    "                  #legend_group=\"color\",\n",
    "                 )\n",
    "\n",
    "bokeh.io.show(p)"
   ],
   "metadata": {
    "collapsed": false,
    "pycharm": {
     "name": "#%%\n"
    }
   }
  },
  {
   "cell_type": "code",
   "execution_count": null,
   "outputs": [],
   "source": [],
   "metadata": {
    "collapsed": false,
    "pycharm": {
     "name": "#%%\n"
    }
   }
  }
 ],
 "metadata": {
  "kernelspec": {
   "display_name": "Python 3 (ipykernel)",
   "language": "python",
   "name": "python3"
  },
  "language_info": {
   "codemirror_mode": {
    "name": "ipython",
    "version": 3
   },
   "file_extension": ".py",
   "mimetype": "text/x-python",
   "name": "python",
   "nbconvert_exporter": "python",
   "pygments_lexer": "ipython3",
   "version": "3.10.4"
  }
 },
 "nbformat": 4,
 "nbformat_minor": 4
}