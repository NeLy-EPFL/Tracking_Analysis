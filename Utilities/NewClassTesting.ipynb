{
 "cells": [
  {
   "cell_type": "code",
   "execution_count": null,
   "metadata": {},
   "outputs": [],
   "source": [
    "import Ballpushing_utils\n",
    "import Utils\n",
    "#from Ballpushing_utils import *\n",
    "#from Utils import *\n",
    "import pickle\n",
    "from pathlib import Path\n",
    "import importlib\n",
    "\n",
    "from icecream import ic\n",
    "\n",
    "import holoviews as hv\n",
    "hv.extension('bokeh')"
   ]
  },
  {
   "cell_type": "code",
   "execution_count": null,
   "metadata": {},
   "outputs": [],
   "source": [
    "TestFly = Ballpushing_utils.Fly(\n",
    "    Path(\n",
    "        \"/mnt/labserver/DURRIEU_Matthias/Experimental_data/MultiMazeRecorder/Videos/230721_Feedingstate_4_PM_Videos_Tracked/arena5/corridor3/\"\n",
    "    )\n",
    ")"
   ]
  },
  {
   "cell_type": "code",
   "execution_count": null,
   "metadata": {},
   "outputs": [],
   "source": [
    "TestFly.flyball_positions"
   ]
  },
  {
   "cell_type": "code",
   "execution_count": null,
   "metadata": {},
   "outputs": [],
   "source": [
    "len(TestFly.flyball_positions)/30"
   ]
  },
  {
   "cell_type": "code",
   "execution_count": null,
   "metadata": {},
   "outputs": [],
   "source": [
    "TestFly"
   ]
  },
  {
   "cell_type": "code",
   "execution_count": null,
   "metadata": {},
   "outputs": [],
   "source": [
    "print(TestFly)"
   ]
  },
  {
   "cell_type": "code",
   "execution_count": null,
   "metadata": {},
   "outputs": [],
   "source": [
    "TestFly.display_metadata()"
   ]
  },
  {
   "cell_type": "code",
   "execution_count": null,
   "metadata": {},
   "outputs": [],
   "source": [
    "TestFly.arena_metadata()"
   ]
  },
  {
   "cell_type": "code",
   "execution_count": null,
   "metadata": {},
   "outputs": [],
   "source": [
    "help(Fly.find_interaction_events)"
   ]
  },
  {
   "cell_type": "code",
   "execution_count": null,
   "metadata": {},
   "outputs": [],
   "source": [
    "TestFly.directory"
   ]
  },
  {
   "cell_type": "code",
   "execution_count": null,
   "metadata": {},
   "outputs": [],
   "source": [
    "TestFly.name"
   ]
  },
  {
   "cell_type": "code",
   "execution_count": null,
   "metadata": {},
   "outputs": [],
   "source": [
    "TestFly.arena_metadata"
   ]
  },
  {
   "cell_type": "code",
   "execution_count": null,
   "metadata": {},
   "outputs": [],
   "source": [
    "TestFly.directory"
   ]
  },
  {
   "cell_type": "code",
   "execution_count": null,
   "metadata": {},
   "outputs": [],
   "source": [
    "TestFly.video"
   ]
  },
  {
   "cell_type": "code",
   "execution_count": null,
   "metadata": {},
   "outputs": [],
   "source": [
    "TestFly_Interactions = TestFly.find_interaction_events()"
   ]
  },
  {
   "cell_type": "code",
   "execution_count": null,
   "metadata": {},
   "outputs": [],
   "source": [
    "TestFly_Interactions"
   ]
  },
  {
   "cell_type": "code",
   "execution_count": null,
   "metadata": {},
   "outputs": [],
   "source": [
    "TestFly_Interactions_old = TestFly.find_interaction_events(gap_between_events=1, event_min_length=60, thresh=[0,80])"
   ]
  },
  {
   "cell_type": "code",
   "execution_count": null,
   "metadata": {},
   "outputs": [],
   "source": [
    "len(TestFly_Interactions)"
   ]
  },
  {
   "cell_type": "code",
   "execution_count": null,
   "metadata": {},
   "outputs": [],
   "source": [
    "len(TestFly_Interactions_old)"
   ]
  },
  {
   "cell_type": "code",
   "execution_count": null,
   "metadata": {},
   "outputs": [],
   "source": [
    "TestExp = Experiment(Path(\"/mnt/labserver/DURRIEU_Matthias/Experimental_data/MultiMazeRecorder/Videos/230721_Feedingstate_4_PM_Videos_Tracked/\"))"
   ]
  },
  {
   "cell_type": "code",
   "execution_count": null,
   "metadata": {},
   "outputs": [],
   "source": [
    "TestExp"
   ]
  },
  {
   "cell_type": "code",
   "execution_count": null,
   "metadata": {},
   "outputs": [],
   "source": [
    "print(TestExp)"
   ]
  },
  {
   "cell_type": "code",
   "execution_count": null,
   "metadata": {},
   "outputs": [],
   "source": [
    "TestExp.flies"
   ]
  },
  {
   "cell_type": "code",
   "execution_count": null,
   "metadata": {},
   "outputs": [],
   "source": [
    "Fly1 = TestExp.flies[0]"
   ]
  },
  {
   "cell_type": "code",
   "execution_count": null,
   "metadata": {},
   "outputs": [],
   "source": [
    "Fly1.name"
   ]
  },
  {
   "cell_type": "code",
   "execution_count": null,
   "metadata": {},
   "outputs": [],
   "source": []
  },
  {
   "cell_type": "markdown",
   "metadata": {},
   "source": [
    "# Testing the video preview"
   ]
  },
  {
   "cell_type": "code",
   "execution_count": null,
   "metadata": {},
   "outputs": [],
   "source": [
    "TestFly.video"
   ]
  },
  {
   "cell_type": "code",
   "execution_count": null,
   "metadata": {},
   "outputs": [],
   "source": [
    "# Only use with save=Flase if you're working on your machine and not using ssh\n",
    "\n",
    "TestFly.generate_preview(save=True, preview= True, tracks=True)"
   ]
  },
  {
   "cell_type": "code",
   "execution_count": null,
   "metadata": {},
   "outputs": [],
   "source": [
    "print(TestFly.experiment.fps)"
   ]
  },
  {
   "cell_type": "code",
   "execution_count": null,
   "metadata": {},
   "outputs": [],
   "source": [
    "import moviepy\n",
    "help(moviepy.editor.VideoFileClip.fx)"
   ]
  },
  {
   "cell_type": "code",
   "execution_count": null,
   "metadata": {},
   "outputs": [],
   "source": [
    "NewTest = Fly(get_labserver() / \"Experimental_data/MultiMazeRecorder/Videos\" / \"231121_TNT_Fine_1_Videos_Tracked/arena1/corridor1/\")"
   ]
  },
  {
   "cell_type": "code",
   "execution_count": null,
   "metadata": {},
   "outputs": [],
   "source": [
    "NewTest.display_metadata()"
   ]
  },
  {
   "cell_type": "code",
   "execution_count": null,
   "metadata": {},
   "outputs": [],
   "source": [
    "NewTest.generate_preview(save=True)"
   ]
  },
  {
   "cell_type": "markdown",
   "metadata": {},
   "source": [
    "# Generate interaction events video"
   ]
  },
  {
   "cell_type": "code",
   "execution_count": null,
   "metadata": {},
   "outputs": [],
   "source": [
    "TestFly.generate_interactions_video()"
   ]
  },
  {
   "cell_type": "markdown",
   "metadata": {},
   "source": [
    "# Datasets"
   ]
  },
  {
   "cell_type": "markdown",
   "metadata": {},
   "source": [
    "## Dataset with a list of experiments:"
   ]
  },
  {
   "cell_type": "code",
   "execution_count": null,
   "metadata": {},
   "outputs": [],
   "source": [
    "brain_regions_path"
   ]
  },
  {
   "cell_type": "code",
   "execution_count": null,
   "metadata": {},
   "outputs": [],
   "source": [
    "pd.read_csv(brain_regions_path)\n"
   ]
  },
  {
   "cell_type": "code",
   "execution_count": null,
   "metadata": {},
   "outputs": [],
   "source": [
    "pd.read_csv(\"/mnt/labserver/DURRIEU_Matthias/Experimental_data/Region_map_231215.csv\")"
   ]
  },
  {
   "cell_type": "code",
   "execution_count": null,
   "metadata": {},
   "outputs": [],
   "source": [
    "Exps = [Experiment(Path(\"/mnt/labserver/DURRIEU_Matthias/Experimental_data/MultiMazeRecorder/Videos/230721_Feedingstate_4_PM_Videos_Tracked/\")),\n",
    "        Experiment(Path(\"/mnt/labserver/DURRIEU_Matthias/Experimental_data/MultiMazeRecorder/Videos/231121_TNT_Fine_1_Videos_Tracked/\"))]"
   ]
  },
  {
   "cell_type": "code",
   "execution_count": null,
   "metadata": {},
   "outputs": [],
   "source": [
    "Exps[1].load_metadata()"
   ]
  },
  {
   "cell_type": "code",
   "execution_count": null,
   "metadata": {},
   "outputs": [],
   "source": [
    "filtered = filter_experiments(Exps, Genotype=\"TNTxG78\")\n",
    "\n",
    "len(filtered)"
   ]
  },
  {
   "cell_type": "code",
   "execution_count": null,
   "metadata": {},
   "outputs": [],
   "source": [
    "Data = Ballpushing_utils.Dataset(Exps)"
   ]
  },
  {
   "cell_type": "code",
   "execution_count": null,
   "metadata": {},
   "outputs": [],
   "source": [
    "Data"
   ]
  },
  {
   "cell_type": "code",
   "execution_count": null,
   "metadata": {},
   "outputs": [],
   "source": [
    "print(Data)"
   ]
  },
  {
   "cell_type": "code",
   "execution_count": null,
   "metadata": {},
   "outputs": [],
   "source": [
    "Data.data"
   ]
  },
  {
   "cell_type": "code",
   "execution_count": null,
   "metadata": {},
   "outputs": [],
   "source": [
    "Data.data[\"event\"]"
   ]
  },
  {
   "cell_type": "code",
   "execution_count": null,
   "metadata": {},
   "outputs": [],
   "source": [
    "Data.flies"
   ]
  },
  {
   "cell_type": "code",
   "execution_count": null,
   "metadata": {},
   "outputs": [],
   "source": [
    "importlib.reload(Ballpushing_utils)"
   ]
  },
  {
   "cell_type": "code",
   "execution_count": null,
   "metadata": {},
   "outputs": [],
   "source": [
    "Data.plot_events(show=True, save=True)"
   ]
  },
  {
   "cell_type": "markdown",
   "metadata": {},
   "source": [
    "## Dataset with a list of flies"
   ]
  },
  {
   "cell_type": "code",
   "execution_count": null,
   "metadata": {},
   "outputs": [],
   "source": [
    "FlyList = [Fly(Path(\"/mnt/labserver/DURRIEU_Matthias/Experimental_data/MultiMazeRecorder/Videos/230721_Feedingstate_4_PM_Videos_Tracked/arena5/corridor3/\")),\n",
    "           Fly(Path(\"/mnt/labserver/DURRIEU_Matthias/Experimental_data/MultiMazeRecorder/Videos/231121_TNT_Fine_1_Videos_Tracked/arena1/corridor1/\"))]"
   ]
  },
  {
   "cell_type": "code",
   "execution_count": null,
   "metadata": {},
   "outputs": [],
   "source": [
    "FlyList"
   ]
  },
  {
   "cell_type": "code",
   "execution_count": null,
   "metadata": {},
   "outputs": [],
   "source": [
    "Data = Dataset(FlyList)"
   ]
  },
  {
   "cell_type": "code",
   "execution_count": null,
   "metadata": {},
   "outputs": [],
   "source": [
    "print(Data)"
   ]
  },
  {
   "cell_type": "code",
   "execution_count": null,
   "metadata": {},
   "outputs": [],
   "source": [
    "Data.data"
   ]
  },
  {
   "cell_type": "code",
   "execution_count": null,
   "metadata": {},
   "outputs": [],
   "source": [
    "# Check the unique values of the column fly and experiment\n",
    "Data.data.fly.unique()\n",
    "\n",
    "Data.data.experiment.unique()"
   ]
  },
  {
   "cell_type": "code",
   "execution_count": null,
   "metadata": {},
   "outputs": [],
   "source": [
    "Dpath = get_data_path()"
   ]
  },
  {
   "cell_type": "code",
   "execution_count": null,
   "metadata": {},
   "outputs": [],
   "source": [
    "Dpath = get_data_path()\n",
    "\n",
    "# Get all folders that have TNT and Fine in their name\n",
    "\n",
    "Folders = [f for f in Dpath.iterdir() if \"TNT\" in f.name and \"Fine\" in f.name]\n",
    "\n",
    "Folders\n",
    "\n",
    "# Make them into Experiments\n",
    "\n",
    "Exps = [Experiment(f) for f in Folders]"
   ]
  },
  {
   "cell_type": "code",
   "execution_count": null,
   "metadata": {},
   "outputs": [],
   "source": [
    "Data = Dataset(Exps)\n",
    "\n",
    "print(Data)"
   ]
  },
  {
   "cell_type": "code",
   "execution_count": null,
   "metadata": {},
   "outputs": [],
   "source": [
    "Data.flies"
   ]
  },
  {
   "cell_type": "code",
   "execution_count": null,
   "metadata": {},
   "outputs": [],
   "source": [
    "Data.experiments"
   ]
  },
  {
   "cell_type": "code",
   "execution_count": null,
   "metadata": {},
   "outputs": [],
   "source": [
    "TestFly.annotate_events()"
   ]
  },
  {
   "cell_type": "code",
   "execution_count": null,
   "metadata": {},
   "outputs": [],
   "source": [
    "TestFly.flyball_positions"
   ]
  },
  {
   "cell_type": "markdown",
   "metadata": {},
   "source": [
    "## Dataset with one experiment"
   ]
  },
  {
   "cell_type": "code",
   "execution_count": null,
   "metadata": {},
   "outputs": [],
   "source": [
    "importlib.reload(Ballpushing_utils)"
   ]
  },
  {
   "cell_type": "code",
   "execution_count": null,
   "metadata": {},
   "outputs": [],
   "source": [
    "data = Ballpushing_utils.Dataset(Ballpushing_utils.Experiment(Path(\"/mnt/labserver/DURRIEU_Matthias/Experimental_data/MultiMazeRecorder/Videos/230721_Feedingstate_4_PM_Videos_Tracked/\")))"
   ]
  },
  {
   "cell_type": "code",
   "execution_count": null,
   "metadata": {},
   "outputs": [],
   "source": [
    "TestSummary = data.generate_dataset(\"summary\", success_cutoff=True)"
   ]
  },
  {
   "cell_type": "code",
   "execution_count": null,
   "metadata": {},
   "outputs": [],
   "source": [
    "# Find the type of the values in the column \"AhaMomentIndex\"\n",
    "\n",
    "type(TestSummary[\"AhaMomentIndex\"][3])"
   ]
  },
  {
   "cell_type": "code",
   "execution_count": null,
   "metadata": {},
   "outputs": [],
   "source": [
    "TestSummaryFull = data.generate_dataset(\"summary\", success_cutoff=False)"
   ]
  },
  {
   "cell_type": "code",
   "execution_count": null,
   "metadata": {},
   "outputs": [],
   "source": [
    "data.flies"
   ]
  },
  {
   "cell_type": "code",
   "execution_count": null,
   "metadata": {},
   "outputs": [],
   "source": [
    "data.experiments"
   ]
  },
  {
   "cell_type": "markdown",
   "metadata": {},
   "source": [
    "## Data with one fly"
   ]
  },
  {
   "cell_type": "code",
   "execution_count": null,
   "metadata": {},
   "outputs": [],
   "source": [
    "data = Dataset(Fly(Path(\"/mnt/labserver/DURRIEU_Matthias/Experimental_data/MultiMazeRecorder/Videos/230721_Feedingstate_4_PM_Videos_Tracked/arena5/corridor3/\")))"
   ]
  },
  {
   "cell_type": "code",
   "execution_count": null,
   "metadata": {},
   "outputs": [],
   "source": [
    "data"
   ]
  },
  {
   "cell_type": "code",
   "execution_count": null,
   "metadata": {},
   "outputs": [],
   "source": [
    "print(data)"
   ]
  },
  {
   "cell_type": "code",
   "execution_count": null,
   "metadata": {},
   "outputs": [],
   "source": [
    "data.flies"
   ]
  },
  {
   "cell_type": "code",
   "execution_count": null,
   "metadata": {},
   "outputs": [],
   "source": [
    "data.experiments"
   ]
  },
  {
   "cell_type": "code",
   "execution_count": null,
   "metadata": {},
   "outputs": [],
   "source": [
    "data = Dataset (int(2))"
   ]
  },
  {
   "cell_type": "markdown",
   "metadata": {},
   "source": [
    "# Testing get_folders method"
   ]
  },
  {
   "cell_type": "code",
   "execution_count": null,
   "metadata": {},
   "outputs": [],
   "source": [
    "Exps = get_folders (get_data_path(), [\"TNT\", \"Fine\"])\n",
    "\n",
    "Exps"
   ]
  },
  {
   "cell_type": "markdown",
   "metadata": {},
   "source": [
    "# Testing the filter_experiments"
   ]
  },
  {
   "cell_type": "code",
   "execution_count": null,
   "metadata": {},
   "outputs": [],
   "source": [
    "Filtered_flies = filter_experiments([Path(\"/mnt/labserver/DURRIEU_Matthias/Experimental_data/MultiMazeRecorder/Videos/231121_TNT_Fine_1_Videos_Tracked/\")], {\"Genotype\" : \"PR\"})"
   ]
  },
  {
   "cell_type": "code",
   "execution_count": null,
   "metadata": {},
   "outputs": [],
   "source": [
    "len(Filtered_flies)"
   ]
  },
  {
   "cell_type": "markdown",
   "metadata": {},
   "source": [
    "# Dataset and plotting"
   ]
  },
  {
   "cell_type": "code",
   "execution_count": null,
   "metadata": {},
   "outputs": [],
   "source": [
    "Folders = get_folders(get_data_path(), [\"TNT\", \"Fine\"])\n",
    "\n",
    "Exps = [Experiment(f) for f in Folders]"
   ]
  },
  {
   "cell_type": "code",
   "execution_count": null,
   "metadata": {},
   "outputs": [],
   "source": [
    "# Save the experiments in a pickle file\n",
    "with open (\"/mnt/labserver/DURRIEU_Matthias/Experimental_data/MultiMazeRecorder/Datasets/240122_TNT_Fine_1_Experiments.pkl\", \"wb\") as f:\n",
    "    pickle.dump(Exps, f)"
   ]
  },
  {
   "cell_type": "code",
   "execution_count": null,
   "metadata": {},
   "outputs": [],
   "source": [
    "# Load the experiments from the pickle file\n",
    "Exps = load_object(\"/mnt/labserver/DURRIEU_Matthias/Experimental_data/MultiMazeRecorder/Datasets/240122_TNT_Fine_1_Experiments.pkl\")"
   ]
  },
  {
   "cell_type": "code",
   "execution_count": null,
   "metadata": {},
   "outputs": [],
   "source": [
    "Data = Dataset(Exps)\n",
    "\n",
    "print(Data)"
   ]
  },
  {
   "cell_type": "code",
   "execution_count": null,
   "metadata": {},
   "outputs": [],
   "source": [
    "Data"
   ]
  },
  {
   "cell_type": "markdown",
   "metadata": {},
   "source": [
    "# Testing labelling"
   ]
  },
  {
   "cell_type": "code",
   "execution_count": null,
   "metadata": {},
   "outputs": [],
   "source": [
    "def plot_events(data, plot_options=hv_main, show=True, save=False, outpath=None):\n",
    "    \"\"\"Generate a plot of the number of events per Genotype and Fly, grouped by Simplified region.\n",
    "\n",
    "    Args:\n",
    "        plot_options (dict, optional): A dictionary containing the plot options. Defaults to MD's main holoviews styling options.\n",
    "        show (bool, optional): Whether to display the plot or not. Defaults to True.\n",
    "    \"\"\"\n",
    "    # Check that events have been annotated\n",
    "    if \"event\" not in data.data.columns:\n",
    "        raise ValueError(\n",
    "            \"No events have been annotated. Run the annotate_events method first.\"\n",
    "        )\n",
    "\n",
    "    # Group the data by Fly and Event\n",
    "    GroupedData = (\n",
    "        data.data.groupby([\"fly\", \"Nickname\", \"Simplified region\"])\n",
    "        .nunique([\"event\"])\n",
    "        .reset_index()\n",
    "    )\n",
    "\n",
    "    # Calculate sample size\n",
    "    SampleSize = (\n",
    "        data.data.groupby([\"Nickname\", \"Simplified region\"])\n",
    "        .nunique()[\"fly\"]\n",
    "        .reset_index()\n",
    "        .rename(columns={\"fly\": \"SampleSize\"})\n",
    "    )\n",
    "\n",
    "    # Merge GroupedData and SampleSize\n",
    "    GroupedData = pd.merge(\n",
    "        GroupedData, SampleSize, on=[\"Nickname\", \"Simplified region\"]\n",
    "    )\n",
    "\n",
    "    # Modify Nickname column\n",
    "    GroupedData[\"Nickname\"] = (\n",
    "        GroupedData[\"Nickname\"] + \" (n = \" + GroupedData[\"SampleSize\"].astype(str) + \")\"\n",
    "    )\n",
    "\n",
    "    h_NumbEvents_bp = (\n",
    "        hv.BoxWhisker(\n",
    "            data=GroupedData,\n",
    "            vdims=\"event\",\n",
    "            kdims=[\"Nickname\", \"Simplified region\"],\n",
    "            color=\"Nickname\",\n",
    "        )\n",
    "        .groupby(\"Simplified region\")\n",
    "        .opts(**plot_options[\"boxwhisker\"])\n",
    "    )\n",
    "\n",
    "    h_NumbEvents_sc = (\n",
    "        hv.Scatter(\n",
    "            data=GroupedData,\n",
    "            vdims=\"event\",\n",
    "            kdims=[\"Nickname\", \"Simplified region\"],\n",
    "            color=\"Nickname\",\n",
    "        )\n",
    "        .groupby(\"Simplified region\")\n",
    "        .opts(**plot_options[\"scatter\"])\n",
    "    )\n",
    "\n",
    "    hvplot_NumbEvents = (h_NumbEvents_bp * h_NumbEvents_sc).opts(**plot_options[\"plot\"])\n",
    "\n",
    "    if show:\n",
    "        hv.render(hvplot_NumbEvents)\n",
    "    if save:\n",
    "        if outpath is None:\n",
    "            now = datetime.datetime.now()  # get current date and time\n",
    "            date_time = now.strftime(\"%Y%m%d_%H%M\")  # format as a string\n",
    "\n",
    "            output_path = (\n",
    "                get_labserver()\n",
    "                / \"Experimental_data\"\n",
    "                / \"MultiMazeRecorder\"\n",
    "                / f\"EventsNumber_{date_time}.html\"\n",
    "            )\n",
    "\n",
    "        hv.save(hvplot_NumbEvents, output_path)\n",
    "\n",
    "    return hvplot_NumbEvents\n",
    "\n",
    "\n",
    "plot_events(Data, show=True, save=False)"
   ]
  },
  {
   "cell_type": "markdown",
   "metadata": {},
   "source": [
    "# Testing more generic function with better tooltips"
   ]
  },
  {
   "cell_type": "code",
   "execution_count": null,
   "metadata": {},
   "outputs": [],
   "source": [
    "data = Dataset(\n",
    "    Experiment(\n",
    "        Path(\n",
    "            \"/mnt/labserver/DURRIEU_Matthias/Experimental_data/MultiMazeRecorder/Videos/231121_TNT_Fine_1_Videos_Tracked/\"\n",
    "        )\n",
    "    )\n",
    ")"
   ]
  },
  {
   "cell_type": "code",
   "execution_count": null,
   "metadata": {},
   "outputs": [],
   "source": [
    "print(data)"
   ]
  },
  {
   "cell_type": "code",
   "execution_count": null,
   "metadata": {},
   "outputs": [],
   "source": [
    "data.experiments[0].metadata"
   ]
  },
  {
   "cell_type": "code",
   "execution_count": null,
   "metadata": {},
   "outputs": [],
   "source": [
    "coords = data.generate_dataset()"
   ]
  },
  {
   "cell_type": "code",
   "execution_count": null,
   "metadata": {},
   "outputs": [],
   "source": [
    "coords"
   ]
  },
  {
   "cell_type": "code",
   "execution_count": null,
   "metadata": {},
   "outputs": [],
   "source": [
    "data.generate_dataset(\"summary\")"
   ]
  },
  {
   "cell_type": "code",
   "execution_count": null,
   "metadata": {},
   "outputs": [],
   "source": [
    "summaries"
   ]
  },
  {
   "cell_type": "markdown",
   "metadata": {},
   "source": [
    "# BS CI"
   ]
  },
  {
   "cell_type": "code",
   "execution_count": null,
   "metadata": {},
   "outputs": [],
   "source": [
    "Test_ctrl = ['TNTxG78', 'TNTxG75', 'TNTxG79']"
   ]
  },
  {
   "cell_type": "code",
   "execution_count": null,
   "metadata": {},
   "outputs": [],
   "source": [
    "data.compute_bs_ci(\"SignificantEvents\", Test_ctrl)"
   ]
  },
  {
   "cell_type": "code",
   "execution_count": null,
   "metadata": {},
   "outputs": [],
   "source": [
    "bs = data.compute_bs_ci(\"SignificantEvents\", Test_ctrl)"
   ]
  },
  {
   "cell_type": "code",
   "execution_count": null,
   "metadata": {},
   "outputs": [],
   "source": [
    "bs"
   ]
  },
  {
   "cell_type": "code",
   "execution_count": null,
   "metadata": {},
   "outputs": [],
   "source": [
    "# Get unique 'Brain region' values from your data\n",
    "label = data.data[\"label\"]\n",
    "brain_regions = data.data[\"Brain region\"]\n",
    "\n",
    "# Create a DataFrame from bs_ci that gets the label and brain region from the main dataset and the lower and upper bounds from bs_ci\n",
    "\n",
    "bs_ci_df = pd.DataFrame(\n",
    "    {\n",
    "        \"label\": label,\n",
    "        \"Brain region\": brain_regions,\n",
    "        \"lower\": np.repeat(bs[0], len(label)),\n",
    "        \"upper\": np.repeat(bs[1], len(label)),\n",
    "    }\n",
    ")"
   ]
  },
  {
   "cell_type": "code",
   "execution_count": null,
   "metadata": {},
   "outputs": [],
   "source": [
    "bs_ci_df"
   ]
  },
  {
   "cell_type": "code",
   "execution_count": null,
   "metadata": {},
   "outputs": [],
   "source": [
    "data.jitter_boxplot(data.data, \"SignificantEvents\")"
   ]
  },
  {
   "cell_type": "code",
   "execution_count": null,
   "metadata": {},
   "outputs": [],
   "source": [
    "data"
   ]
  },
  {
   "cell_type": "code",
   "execution_count": null,
   "metadata": {},
   "outputs": [],
   "source": [
    "fly1 = data._prepare_dataset_summary_metrics(data.flies[0])"
   ]
  },
  {
   "cell_type": "code",
   "execution_count": null,
   "metadata": {},
   "outputs": [],
   "source": [
    "fly1.reset_index().head()"
   ]
  },
  {
   "cell_type": "code",
   "execution_count": null,
   "metadata": {},
   "outputs": [],
   "source": [
    "fly1[\"Nickname\"]"
   ]
  },
  {
   "cell_type": "code",
   "execution_count": null,
   "metadata": {},
   "outputs": [],
   "source": [
    "data.flies[0].get_events_number()"
   ]
  },
  {
   "cell_type": "code",
   "execution_count": null,
   "metadata": {},
   "outputs": [],
   "source": [
    "events = data.get_event_numbers()"
   ]
  },
  {
   "cell_type": "code",
   "execution_count": null,
   "metadata": {},
   "outputs": [],
   "source": [
    "data.jitter_boxplot(events, \"event\")"
   ]
  },
  {
   "cell_type": "code",
   "execution_count": null,
   "metadata": {},
   "outputs": [],
   "source": [
    "finalevents = data.get_final_events()"
   ]
  },
  {
   "cell_type": "code",
   "execution_count": null,
   "metadata": {},
   "outputs": [],
   "source": [
    "data.jitter_boxplot(finalevents, \"FinalEvent\")"
   ]
  },
  {
   "cell_type": "markdown",
   "metadata": {},
   "source": [
    "# New Fly centered methods"
   ]
  },
  {
   "cell_type": "markdown",
   "metadata": {},
   "source": [
    "## Final event"
   ]
  },
  {
   "cell_type": "code",
   "execution_count": null,
   "metadata": {},
   "outputs": [],
   "source": [
    "TestFly = Fly(\n",
    "    Path(\n",
    "        \"/mnt/labserver/DURRIEU_Matthias/Experimental_data/MultiMazeRecorder/Videos/230721_Feedingstate_4_PM_Videos_Tracked/arena5/corridor3/\"\n",
    "    )\n",
    ")"
   ]
  },
  {
   "cell_type": "code",
   "execution_count": null,
   "metadata": {},
   "outputs": [],
   "source": [
    "TestFly.dead_or_empty"
   ]
  },
  {
   "cell_type": "code",
   "execution_count": null,
   "metadata": {},
   "outputs": [],
   "source": [
    "TestFly.get_events_number()"
   ]
  },
  {
   "cell_type": "code",
   "execution_count": null,
   "metadata": {},
   "outputs": [],
   "source": [
    "TestFly.interaction_events"
   ]
  },
  {
   "cell_type": "code",
   "execution_count": null,
   "metadata": {},
   "outputs": [],
   "source": [
    "TestFly.get_final_event()"
   ]
  },
  {
   "cell_type": "code",
   "execution_count": null,
   "metadata": {},
   "outputs": [],
   "source": [
    "sig = TestFly.get_significant_events()"
   ]
  },
  {
   "cell_type": "code",
   "execution_count": null,
   "metadata": {},
   "outputs": [],
   "source": [
    "sig"
   ]
  },
  {
   "cell_type": "code",
   "execution_count": null,
   "metadata": {},
   "outputs": [],
   "source": [
    "TestFly.find_breaks()"
   ]
  },
  {
   "cell_type": "code",
   "execution_count": null,
   "metadata": {},
   "outputs": [],
   "source": [
    "len(TestFly.find_breaks())"
   ]
  },
  {
   "cell_type": "code",
   "execution_count": null,
   "metadata": {},
   "outputs": [],
   "source": [
    "TestFly.find_pulling_events()"
   ]
  },
  {
   "cell_type": "code",
   "execution_count": null,
   "metadata": {},
   "outputs": [],
   "source": [
    "len(TestFly.find_pulling_events())"
   ]
  },
  {
   "cell_type": "code",
   "execution_count": null,
   "metadata": {},
   "outputs": [],
   "source": [
    "TestFly.generate_clip(event=1)"
   ]
  },
  {
   "cell_type": "markdown",
   "metadata": {},
   "source": [
    "# Testing the controls CI generation"
   ]
  },
  {
   "cell_type": "code",
   "execution_count": null,
   "metadata": {},
   "outputs": [],
   "source": [
    "# Get a list of experiments that have, TNT, Fine, and 2401 in their name\n",
    "Exps = get_folders(get_data_path(), [\"TNT\", \"Fine\", \"2401\"])\n",
    "\n",
    "Exps"
   ]
  },
  {
   "cell_type": "code",
   "execution_count": null,
   "metadata": {},
   "outputs": [],
   "source": [
    "# Generate a dataset from the experiments\n",
    "Data = Dataset([Experiment(e) for e in Exps])"
   ]
  },
  {
   "cell_type": "code",
   "execution_count": null,
   "metadata": {},
   "outputs": [],
   "source": [
    "summaries = Data.generate_dataset(\"summary\")"
   ]
  },
  {
   "cell_type": "markdown",
   "metadata": {},
   "source": [
    "# JitterBoxplot + CI"
   ]
  },
  {
   "cell_type": "code",
   "execution_count": null,
   "metadata": {},
   "outputs": [],
   "source": [
    "importlib.reload(Ballpushing_utils)"
   ]
  },
  {
   "cell_type": "code",
   "execution_count": null,
   "metadata": {},
   "outputs": [],
   "source": [
    "data = Ballpushing_utils.Dataset(\n",
    "    [\n",
    "        Ballpushing_utils.Experiment(\n",
    "            Path(\n",
    "                \"/mnt/labserver/DURRIEU_Matthias/Experimental_data/MultiMazeRecorder/Videos/231121_TNT_Fine_1_Videos_Tracked/\"\n",
    "            )\n",
    "        ),\n",
    "        Ballpushing_utils.Experiment(\n",
    "            Path(\n",
    "                \"/mnt/labserver/DURRIEU_Matthias/Experimental_data/MultiMazeRecorder/Videos/231121_TNT_Fine_2_Videos_Tracked/\"\n",
    "            )\n",
    "        ),\n",
    "    ]\n",
    ")\n",
    "\n",
    "data.generate_dataset(\"summary\")\n",
    "\n",
    "data.jitter_boxplot(data.data, \"FinalEvent\", save=True)"
   ]
  },
  {
   "cell_type": "code",
   "execution_count": null,
   "metadata": {},
   "outputs": [],
   "source": [
    "mydata = data.data"
   ]
  },
  {
   "cell_type": "code",
   "execution_count": null,
   "metadata": {},
   "outputs": [],
   "source": [
    "data.jitter_boxplot(data.data, \"SignificantEvents\", save=True)"
   ]
  },
  {
   "cell_type": "code",
   "execution_count": null,
   "metadata": {},
   "outputs": [],
   "source": [
    "data.data"
   ]
  },
  {
   "cell_type": "code",
   "execution_count": null,
   "metadata": {},
   "outputs": [],
   "source": [
    "def jitter_boxplot(\n",
    "    dataset, data, vdim, plot_options=hv_main, show=True, save=False, outpath=None\n",
    "):\n",
    "    # Get the metadata for the tooltips\n",
    "    tooltips = [\n",
    "        (\"Fly\", \"@fly\"),\n",
    "        (vdim.capitalize(), f\"@{vdim}\"),\n",
    "    ]\n",
    "\n",
    "    # Add the metadata to the tooltips\n",
    "    for var in dataset.metadata:\n",
    "        tooltips.append((var.capitalize(), f\"@{var}\"))\n",
    "\n",
    "    hover = HoverTool(tooltips=tooltips)\n",
    "\n",
    "    # Compute the bootstrap confidence interval for the metric\n",
    "    bs_ci = dataset.compute_bs_ci(vdim, [\"TNTxG78\", \"TNTxG75\", \"TNTxG79\"])\n",
    "\n",
    "    y_min = data[vdim].min()\n",
    "    y_max = data[vdim].max()\n",
    "\n",
    "    hv_boxplot = (\n",
    "        hv.BoxWhisker(\n",
    "            data=data,\n",
    "            vdims=vdim,\n",
    "            kdims=[\"label\", \"Brain region\"],\n",
    "        )\n",
    "        .groupby([\"Brain region\"])\n",
    "        .opts(\n",
    "            box_fill_color=None,\n",
    "            box_line_color=\"black\",\n",
    "            outlier_fill_color=None,\n",
    "            outlier_line_color=None,\n",
    "            framewise=True,\n",
    "        )\n",
    "    )\n",
    "    hv_boxplot.opts(ylim=(y_min, y_max))\n",
    "\n",
    "    hv_scatterplot = (\n",
    "        hv.Scatter(\n",
    "            data=data,\n",
    "            vdims=[vdim] + dataset.metadata + [\"fly\"],\n",
    "            kdims=[\"label\", \"Brain region\"],\n",
    "        )\n",
    "        .groupby(\"Brain region\")\n",
    "        .opts(jitter=0.3,\n",
    "        color=\"label\",\n",
    "        alpha=0.5,\n",
    "        size=6,\n",
    "        cmap=\"Category10\",\n",
    "        framewise=True, tools=[hover])\n",
    "    )\n",
    "    hv_scatterplot.opts(ylim=(y_min, y_max))\n",
    "\n",
    "    # Create an Area plot for the confidence interval\n",
    "    hv_bs_ci = hv.HSpan(bs_ci[0], bs_ci[1]).opts(fill_alpha=0.2, color=\"red\")\n",
    "\n",
    "    hv_jitter_boxplot = (hv_boxplot * hv_scatterplot * hv_bs_ci).opts(\n",
    "        **plot_options[\"plot\"]\n",
    "    )\n",
    "\n",
    "    if show:\n",
    "        hv.render(hv_jitter_boxplot)\n",
    "    if save:\n",
    "        if outpath is None:\n",
    "            now = datetime.datetime.now()  # get current date and time\n",
    "            date_time = now.strftime(\"%Y%m%d_%H%M\")  # format as a string\n",
    "\n",
    "            output_path = (\n",
    "                get_labserver()\n",
    "                / \"Experimental_data\"\n",
    "                / \"MultiMazeRecorder\"\n",
    "                / \"Plots\"\n",
    "                / f\"{vdim}Number_{date_time}.html\"\n",
    "            )\n",
    "\n",
    "        hv.save(hv_jitter_boxplot, output_path)\n",
    "\n",
    "    return hv_jitter_boxplot"
   ]
  },
  {
   "cell_type": "code",
   "execution_count": null,
   "metadata": {},
   "outputs": [],
   "source": [
    "plot = jitter_boxplot(data, data.data, \"NumberEvents\", show=True, save=True)\n",
    "\n",
    "plot"
   ]
  },
  {
   "cell_type": "code",
   "execution_count": null,
   "metadata": {},
   "outputs": [],
   "source": [
    "# Assuming 'df' is your DataFrame and 'grouped' is the grouped data\n",
    "grouped = data.data.groupby(\"Brain region\")\n",
    "\n",
    "# To inspect a particular group, say 'Group_Name'\n",
    "#specific_group = grouped.get_group(\"Group_Name\")\n",
    "\n",
    "# Now 'specific_group' is a DataFrame that contains only the data for 'Group_Name'\n",
    "#print(specific_group)"
   ]
  },
  {
   "cell_type": "code",
   "execution_count": null,
   "metadata": {},
   "outputs": [],
   "source": [
    "for name, group in grouped:\n",
    "    print(f\"Group: {name}\")\n",
    "    print(group)"
   ]
  },
  {
   "cell_type": "code",
   "execution_count": null,
   "metadata": {},
   "outputs": [],
   "source": [
    "print(grouped.groups)"
   ]
  },
  {
   "cell_type": "code",
   "execution_count": null,
   "metadata": {},
   "outputs": [],
   "source": [
    "grouped.get_group(\"MB\")"
   ]
  },
  {
   "cell_type": "markdown",
   "metadata": {},
   "source": [
    "# Fixing the metrics not plotting correctly"
   ]
  },
  {
   "cell_type": "code",
   "execution_count": null,
   "metadata": {},
   "outputs": [],
   "source": [
    "data.jitter_boxplot(data.data, \"FinalTime\")"
   ]
  },
  {
   "cell_type": "markdown",
   "metadata": {},
   "source": [
    "# Improving experiments loading\n",
    "\n",
    "In particular, I have the 240201_TNT_Fine_2_Videos_Tracked_arena7 that seems to have issues. I guess it does not detect the arena as empty although it is, and then cannot find the fly."
   ]
  },
  {
   "cell_type": "code",
   "execution_count": null,
   "metadata": {},
   "outputs": [],
   "source": [
    "# Reload Ballpushing_utils\n",
    "importlib.reload(Ballpushing_utils)"
   ]
  },
  {
   "cell_type": "code",
   "execution_count": null,
   "metadata": {},
   "outputs": [],
   "source": [
    "# Import the experiment\n",
    "\n",
    "TestExp = Ballpushing_utils.Experiment(\n",
    "    Path(\n",
    "        \"/mnt/labserver/DURRIEU_Matthias/Experimental_data/MultiMazeRecorder/Videos/231128_TNT_Fine_1_Videos_Tracked\"\n",
    "    )\n",
    ")"
   ]
  },
  {
   "cell_type": "code",
   "execution_count": null,
   "metadata": {},
   "outputs": [],
   "source": [
    "ic(TestExp)"
   ]
  },
  {
   "cell_type": "code",
   "execution_count": null,
   "metadata": {},
   "outputs": [],
   "source": [
    "TestExp.flies[1].nickname"
   ]
  },
  {
   "cell_type": "code",
   "execution_count": null,
   "metadata": {},
   "outputs": [],
   "source": []
  },
  {
   "cell_type": "markdown",
   "metadata": {},
   "source": [
    "# "
   ]
  }
 ],
 "metadata": {
  "kernelspec": {
   "display_name": "Main",
   "language": "python",
   "name": "python3"
  },
  "language_info": {
   "codemirror_mode": {
    "name": "ipython",
    "version": 3
   },
   "file_extension": ".py",
   "mimetype": "text/x-python",
   "name": "python",
   "nbconvert_exporter": "python",
   "pygments_lexer": "ipython3",
   "version": "3.10.9"
  }
 },
 "nbformat": 4,
 "nbformat_minor": 2
}
