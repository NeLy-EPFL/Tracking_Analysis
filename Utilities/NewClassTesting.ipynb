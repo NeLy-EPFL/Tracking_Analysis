{
 "cells": [
  {
   "cell_type": "code",
   "execution_count": 1,
   "metadata": {},
   "outputs": [],
   "source": [
    "from Ballpushing_utils import *"
   ]
  },
  {
   "cell_type": "code",
   "execution_count": null,
   "metadata": {},
   "outputs": [],
   "source": []
  },
  {
   "cell_type": "code",
   "execution_count": 2,
   "metadata": {},
   "outputs": [
    {
     "name": "stdout",
     "output_type": "stream",
     "text": [
      "Warning: fps.npy file not found in /mnt/labserver/DURRIEU_Matthias/Experimental_data/MultiMazeRecorder/Videos/230721_Feedingstate_4_PM_Videos_Tracked; Defaulting to 30 fps.\n"
     ]
    }
   ],
   "source": [
    "TestFly = Fly(Path(\"/mnt/labserver/DURRIEU_Matthias/Experimental_data/MultiMazeRecorder/Videos/230721_Feedingstate_4_PM_Videos_Tracked/arena5/corridor3/\"))"
   ]
  },
  {
   "cell_type": "code",
   "execution_count": null,
   "metadata": {},
   "outputs": [],
   "source": [
    "TestFly.flyball_positions"
   ]
  },
  {
   "cell_type": "code",
   "execution_count": null,
   "metadata": {},
   "outputs": [],
   "source": [
    "TestFly"
   ]
  },
  {
   "cell_type": "code",
   "execution_count": null,
   "metadata": {},
   "outputs": [],
   "source": [
    "print(TestFly)"
   ]
  },
  {
   "cell_type": "code",
   "execution_count": null,
   "metadata": {},
   "outputs": [],
   "source": [
    "TestFly.display_metadata()"
   ]
  },
  {
   "cell_type": "code",
   "execution_count": null,
   "metadata": {},
   "outputs": [],
   "source": [
    "TestFly.arena_metadata()"
   ]
  },
  {
   "cell_type": "code",
   "execution_count": null,
   "metadata": {},
   "outputs": [],
   "source": [
    "help(Fly.find_interaction_events)"
   ]
  },
  {
   "cell_type": "code",
   "execution_count": null,
   "metadata": {},
   "outputs": [],
   "source": [
    "TestFly.directory"
   ]
  },
  {
   "cell_type": "code",
   "execution_count": null,
   "metadata": {},
   "outputs": [],
   "source": [
    "TestFly.name"
   ]
  },
  {
   "cell_type": "code",
   "execution_count": null,
   "metadata": {},
   "outputs": [],
   "source": [
    "TestFly.arena_metadata"
   ]
  },
  {
   "cell_type": "code",
   "execution_count": null,
   "metadata": {},
   "outputs": [],
   "source": [
    "TestFly.directory"
   ]
  },
  {
   "cell_type": "code",
   "execution_count": null,
   "metadata": {},
   "outputs": [],
   "source": [
    "TestFly.video"
   ]
  },
  {
   "cell_type": "code",
   "execution_count": null,
   "metadata": {},
   "outputs": [],
   "source": [
    "TestFly_Interactions = TestFly.find_interaction_events()"
   ]
  },
  {
   "cell_type": "code",
   "execution_count": null,
   "metadata": {},
   "outputs": [],
   "source": [
    "TestFly_Interactions"
   ]
  },
  {
   "cell_type": "code",
   "execution_count": null,
   "metadata": {},
   "outputs": [],
   "source": [
    "TestFly_Interactions_old = TestFly.find_interaction_events(gap_between_events=1, event_min_length=60, thresh=[0,80])"
   ]
  },
  {
   "cell_type": "code",
   "execution_count": null,
   "metadata": {},
   "outputs": [],
   "source": [
    "len(TestFly_Interactions)"
   ]
  },
  {
   "cell_type": "code",
   "execution_count": null,
   "metadata": {},
   "outputs": [],
   "source": [
    "len(TestFly_Interactions_old)"
   ]
  },
  {
   "cell_type": "code",
   "execution_count": null,
   "metadata": {},
   "outputs": [],
   "source": [
    "TestExp = Experiment(Path(\"/mnt/labserver/DURRIEU_Matthias/Experimental_data/MultiMazeRecorder/Videos/230721_Feedingstate_4_PM_Videos_Tracked/\"))"
   ]
  },
  {
   "cell_type": "code",
   "execution_count": null,
   "metadata": {},
   "outputs": [],
   "source": [
    "TestExp"
   ]
  },
  {
   "cell_type": "code",
   "execution_count": null,
   "metadata": {},
   "outputs": [],
   "source": [
    "print(TestExp)"
   ]
  },
  {
   "cell_type": "code",
   "execution_count": null,
   "metadata": {},
   "outputs": [],
   "source": []
  },
  {
   "cell_type": "code",
   "execution_count": null,
   "metadata": {},
   "outputs": [],
   "source": [
    "TestExp.flies"
   ]
  },
  {
   "cell_type": "code",
   "execution_count": null,
   "metadata": {},
   "outputs": [],
   "source": [
    "Fly1 = TestExp.flies[0]"
   ]
  },
  {
   "cell_type": "code",
   "execution_count": null,
   "metadata": {},
   "outputs": [],
   "source": [
    "Fly1.name"
   ]
  },
  {
   "cell_type": "markdown",
   "metadata": {},
   "source": [
    "# Testing the video preview"
   ]
  },
  {
   "cell_type": "code",
   "execution_count": null,
   "metadata": {},
   "outputs": [],
   "source": [
    "TestFly.video"
   ]
  },
  {
   "cell_type": "code",
   "execution_count": null,
   "metadata": {},
   "outputs": [],
   "source": [
    "# Only use with save=Flase if you're working on your machine and not using ssh\n",
    "\n",
    "TestFly.generate_preview(save=True, preview= True, tracks=True)"
   ]
  },
  {
   "cell_type": "code",
   "execution_count": null,
   "metadata": {},
   "outputs": [],
   "source": [
    "print(TestFly.experiment.fps)"
   ]
  },
  {
   "cell_type": "code",
   "execution_count": null,
   "metadata": {},
   "outputs": [],
   "source": [
    "import moviepy\n",
    "help(moviepy.editor.VideoFileClip.fx)"
   ]
  },
  {
   "cell_type": "code",
   "execution_count": null,
   "metadata": {},
   "outputs": [],
   "source": [
    "\n"
   ]
  },
  {
   "cell_type": "code",
   "execution_count": null,
   "metadata": {},
   "outputs": [],
   "source": [
    "NewTest = Fly(get_labserver() / \"Experimental_data/MultiMazeRecorder/Videos\" / \"231121_TNT_Fine_1_Videos_Tracked/arena1/corridor1/\")"
   ]
  },
  {
   "cell_type": "code",
   "execution_count": null,
   "metadata": {},
   "outputs": [],
   "source": [
    "NewTest.display_metadata()"
   ]
  },
  {
   "cell_type": "code",
   "execution_count": null,
   "metadata": {},
   "outputs": [],
   "source": [
    "NewTest.generate_preview(save=True)"
   ]
  },
  {
   "cell_type": "markdown",
   "metadata": {},
   "source": [
    "# Generate interaction events video"
   ]
  },
  {
   "cell_type": "code",
   "execution_count": null,
   "metadata": {},
   "outputs": [],
   "source": [
    "TestFly.generate_interactions_video()"
   ]
  },
  {
   "cell_type": "markdown",
   "metadata": {},
   "source": [
    "# Datasets"
   ]
  },
  {
   "cell_type": "markdown",
   "metadata": {},
   "source": [
    "## Dataset with a list of experiments:"
   ]
  },
  {
   "cell_type": "code",
   "execution_count": null,
   "metadata": {},
   "outputs": [],
   "source": [
    "\n"
   ]
  },
  {
   "cell_type": "code",
   "execution_count": 2,
   "metadata": {},
   "outputs": [
    {
     "name": "stdout",
     "output_type": "stream",
     "text": [
      "Warning: fps.npy file not found in /mnt/labserver/DURRIEU_Matthias/Experimental_data/MultiMazeRecorder/Videos/230721_Feedingstate_4_PM_Videos_Tracked; Defaulting to 30 fps.\n"
     ]
    }
   ],
   "source": [
    "Exps = [Experiment(Path(\"/mnt/labserver/DURRIEU_Matthias/Experimental_data/MultiMazeRecorder/Videos/230721_Feedingstate_4_PM_Videos_Tracked/\")),\n",
    "        Experiment(Path(\"/mnt/labserver/DURRIEU_Matthias/Experimental_data/MultiMazeRecorder/Videos/231121_TNT_Fine_1_Videos_Tracked/\"))]"
   ]
  },
  {
   "cell_type": "code",
   "execution_count": 7,
   "metadata": {},
   "outputs": [
    {
     "data": {
      "text/plain": [
       "{'Date': {'arena1': '231121',\n",
       "  'arena2': '231121',\n",
       "  'arena3': '231121',\n",
       "  'arena4': '231121',\n",
       "  'arena5': '231121',\n",
       "  'arena6': '231121',\n",
       "  'arena7': '231121',\n",
       "  'arena8': '231121',\n",
       "  'arena9': '231121'},\n",
       " 'Genotype': {'arena1': 'TNTxG80',\n",
       "  'arena2': 'TNTxG78',\n",
       "  'arena3': 'TNTxG75',\n",
       "  'arena4': 'TNTxG79',\n",
       "  'arena5': 'TNTxG71',\n",
       "  'arena6': 'TNTxG81',\n",
       "  'arena7': 'TNTxG74',\n",
       "  'arena8': 'TNTxG76',\n",
       "  'arena9': 'TNTxG72'},\n",
       " 'Period': {'arena1': 'PM14',\n",
       "  'arena2': 'PM14',\n",
       "  'arena3': 'PM14',\n",
       "  'arena4': 'PM14',\n",
       "  'arena5': 'PM14',\n",
       "  'arena6': 'PM14',\n",
       "  'arena7': 'PM14',\n",
       "  'arena8': 'PM14',\n",
       "  'arena9': 'PM14'},\n",
       " 'FeedingState': {'arena1': 'starved_noWater',\n",
       "  'arena2': 'starved_noWater',\n",
       "  'arena3': 'starved_noWater',\n",
       "  'arena4': 'starved_noWater',\n",
       "  'arena5': 'starved_noWater',\n",
       "  'arena6': 'starved_noWater',\n",
       "  'arena7': 'starved_noWater',\n",
       "  'arena8': 'starved_noWater',\n",
       "  'arena9': 'starved_noWater'},\n",
       " 'Orientation': {'arena1': 'std',\n",
       "  'arena2': 'std',\n",
       "  'arena3': 'std',\n",
       "  'arena4': 'std',\n",
       "  'arena5': 'std',\n",
       "  'arena6': 'std',\n",
       "  'arena7': 'std',\n",
       "  'arena8': 'std',\n",
       "  'arena9': 'std'},\n",
       " 'Light': {'arena1': 'on',\n",
       "  'arena2': 'on',\n",
       "  'arena3': 'on',\n",
       "  'arena4': 'on',\n",
       "  'arena5': 'on',\n",
       "  'arena6': 'on',\n",
       "  'arena7': 'on',\n",
       "  'arena8': 'on',\n",
       "  'arena9': 'on'},\n",
       " 'Crossing': {'arena1': '1',\n",
       "  'arena2': '1',\n",
       "  'arena3': '1',\n",
       "  'arena4': '1',\n",
       "  'arena5': '1',\n",
       "  'arena6': '1',\n",
       "  'arena7': '1',\n",
       "  'arena8': '1',\n",
       "  'arena9': '1'}}"
      ]
     },
     "execution_count": 7,
     "metadata": {},
     "output_type": "execute_result"
    }
   ],
   "source": [
    "Exps[1].load_metadata()"
   ]
  },
  {
   "cell_type": "code",
   "execution_count": 5,
   "metadata": {},
   "outputs": [
    {
     "data": {
      "text/plain": [
       "6"
      ]
     },
     "execution_count": 5,
     "metadata": {},
     "output_type": "execute_result"
    }
   ],
   "source": [
    "filtered = filter_experiments(Exps, Genotype=\"TNTxG78\")\n",
    "\n",
    "len(filtered)"
   ]
  },
  {
   "cell_type": "code",
   "execution_count": null,
   "metadata": {},
   "outputs": [],
   "source": [
    "Data = Dataset(Exps)"
   ]
  },
  {
   "cell_type": "code",
   "execution_count": null,
   "metadata": {},
   "outputs": [],
   "source": [
    "Data"
   ]
  },
  {
   "cell_type": "code",
   "execution_count": null,
   "metadata": {},
   "outputs": [],
   "source": [
    "print(Data)"
   ]
  },
  {
   "cell_type": "code",
   "execution_count": null,
   "metadata": {},
   "outputs": [],
   "source": [
    "Data.flies"
   ]
  },
  {
   "cell_type": "markdown",
   "metadata": {},
   "source": [
    "## Dataset with a list of flies"
   ]
  },
  {
   "cell_type": "code",
   "execution_count": null,
   "metadata": {},
   "outputs": [],
   "source": [
    "FlyList = [Fly(Path(\"/mnt/labserver/DURRIEU_Matthias/Experimental_data/MultiMazeRecorder/Videos/230721_Feedingstate_4_PM_Videos_Tracked/arena5/corridor3/\")),\n",
    "           Fly(Path(\"/mnt/labserver/DURRIEU_Matthias/Experimental_data/MultiMazeRecorder/Videos/231121_TNT_Fine_1_Videos_Tracked/arena1/corridor1/\"))]"
   ]
  },
  {
   "cell_type": "code",
   "execution_count": null,
   "metadata": {},
   "outputs": [],
   "source": [
    "FlyList"
   ]
  },
  {
   "cell_type": "code",
   "execution_count": null,
   "metadata": {},
   "outputs": [],
   "source": [
    "Data = Dataset(FlyList)"
   ]
  },
  {
   "cell_type": "code",
   "execution_count": null,
   "metadata": {},
   "outputs": [],
   "source": [
    "print(Data)"
   ]
  },
  {
   "cell_type": "code",
   "execution_count": null,
   "metadata": {},
   "outputs": [],
   "source": [
    "Data.data"
   ]
  },
  {
   "cell_type": "code",
   "execution_count": null,
   "metadata": {},
   "outputs": [],
   "source": [
    "# Check the unique values of the column fly and experiment\n",
    "Data.data.fly.unique()\n",
    "\n",
    "Data.data.experiment.unique()"
   ]
  },
  {
   "cell_type": "code",
   "execution_count": null,
   "metadata": {},
   "outputs": [],
   "source": [
    "Dpath = get_data_path()"
   ]
  },
  {
   "cell_type": "code",
   "execution_count": null,
   "metadata": {},
   "outputs": [],
   "source": [
    "Dpath = get_data_path()\n",
    "\n",
    "# Get all folders that have TNT and Fine in their name\n",
    "\n",
    "Folders = [f for f in Dpath.iterdir() if \"TNT\" in f.name and \"Fine\" in f.name]\n",
    "\n",
    "Folders\n",
    "\n",
    "# Make them into Experiments\n",
    "\n",
    "Exps = [Experiment(f) for f in Folders]"
   ]
  },
  {
   "cell_type": "code",
   "execution_count": null,
   "metadata": {},
   "outputs": [],
   "source": [
    "Data = Dataset(Exps)\n",
    "\n",
    "print(Data)"
   ]
  },
  {
   "cell_type": "code",
   "execution_count": null,
   "metadata": {},
   "outputs": [],
   "source": [
    "Data.flies"
   ]
  },
  {
   "cell_type": "code",
   "execution_count": null,
   "metadata": {},
   "outputs": [],
   "source": [
    "Data.experiments"
   ]
  },
  {
   "cell_type": "markdown",
   "metadata": {},
   "source": [
    "## Dataset with one experiment"
   ]
  },
  {
   "cell_type": "code",
   "execution_count": null,
   "metadata": {},
   "outputs": [],
   "source": [
    "data = Dataset(Experiment(Path(\"/mnt/labserver/DURRIEU_Matthias/Experimental_data/MultiMazeRecorder/Videos/230721_Feedingstate_4_PM_Videos_Tracked/\")))"
   ]
  },
  {
   "cell_type": "code",
   "execution_count": null,
   "metadata": {},
   "outputs": [],
   "source": [
    "data.flies"
   ]
  },
  {
   "cell_type": "code",
   "execution_count": null,
   "metadata": {},
   "outputs": [],
   "source": [
    "data.experiments"
   ]
  },
  {
   "cell_type": "markdown",
   "metadata": {},
   "source": [
    "## Data with one fly"
   ]
  },
  {
   "cell_type": "code",
   "execution_count": null,
   "metadata": {},
   "outputs": [],
   "source": [
    "data = Dataset(Fly(Path(\"/mnt/labserver/DURRIEU_Matthias/Experimental_data/MultiMazeRecorder/Videos/230721_Feedingstate_4_PM_Videos_Tracked/arena5/corridor3/\")))"
   ]
  },
  {
   "cell_type": "code",
   "execution_count": null,
   "metadata": {},
   "outputs": [],
   "source": [
    "data"
   ]
  },
  {
   "cell_type": "code",
   "execution_count": null,
   "metadata": {},
   "outputs": [],
   "source": [
    "print(data)"
   ]
  },
  {
   "cell_type": "code",
   "execution_count": null,
   "metadata": {},
   "outputs": [],
   "source": [
    "data.flies"
   ]
  },
  {
   "cell_type": "code",
   "execution_count": null,
   "metadata": {},
   "outputs": [],
   "source": [
    "data.experiments"
   ]
  },
  {
   "cell_type": "code",
   "execution_count": null,
   "metadata": {},
   "outputs": [],
   "source": [
    "data = Dataset (int(2))"
   ]
  },
  {
   "cell_type": "markdown",
   "metadata": {},
   "source": []
  },
  {
   "cell_type": "markdown",
   "metadata": {},
   "source": [
    "# Testing get_folders method"
   ]
  },
  {
   "cell_type": "code",
   "execution_count": null,
   "metadata": {},
   "outputs": [],
   "source": [
    "Exps = get_folders (get_data_path(), [\"TNT\", \"Fine\"])\n",
    "\n",
    "Exps"
   ]
  },
  {
   "cell_type": "markdown",
   "metadata": {},
   "source": [
    "# Testing the filter_experiments"
   ]
  },
  {
   "cell_type": "code",
   "execution_count": null,
   "metadata": {},
   "outputs": [],
   "source": [
    "Filtered_flies = filter_experiments([Path(\"/mnt/labserver/DURRIEU_Matthias/Experimental_data/MultiMazeRecorder/Videos/231121_TNT_Fine_1_Videos_Tracked/\")], {\"Genotype\" : \"PR\"})"
   ]
  },
  {
   "cell_type": "code",
   "execution_count": null,
   "metadata": {},
   "outputs": [],
   "source": [
    "len(Filtered_flies)"
   ]
  },
  {
   "cell_type": "markdown",
   "metadata": {},
   "source": [
    "# Dataset and plotting"
   ]
  },
  {
   "cell_type": "code",
   "execution_count": 2,
   "metadata": {},
   "outputs": [
    {
     "name": "stdout",
     "output_type": "stream",
     "text": [
      "No boundaries found. Generating coordinates.npy file for /mnt/labserver/DURRIEU_Matthias/Experimental_data/MultiMazeRecorder/Videos/231222_TNT_Fine_1_Videos_Tracked...\n",
      "No boundaries found. Generating coordinates.npy file for /mnt/labserver/DURRIEU_Matthias/Experimental_data/MultiMazeRecorder/Videos/231222_TNT_Fine_1_Videos_Tracked...\n",
      "No boundaries found. Generating coordinates.npy file for /mnt/labserver/DURRIEU_Matthias/Experimental_data/MultiMazeRecorder/Videos/231222_TNT_Fine_1_Videos_Tracked...\n",
      "No boundaries found. Generating coordinates.npy file for /mnt/labserver/DURRIEU_Matthias/Experimental_data/MultiMazeRecorder/Videos/231222_TNT_Fine_1_Videos_Tracked...\n",
      "No boundaries found. Generating coordinates.npy file for /mnt/labserver/DURRIEU_Matthias/Experimental_data/MultiMazeRecorder/Videos/231222_TNT_Fine_1_Videos_Tracked...\n",
      "No boundaries found. Generating coordinates.npy file for /mnt/labserver/DURRIEU_Matthias/Experimental_data/MultiMazeRecorder/Videos/231222_TNT_Fine_1_Videos_Tracked...\n",
      "No boundaries found. Generating coordinates.npy file for /mnt/labserver/DURRIEU_Matthias/Experimental_data/MultiMazeRecorder/Videos/231222_TNT_Fine_1_Videos_Tracked...\n",
      "No boundaries found. Generating coordinates.npy file for /mnt/labserver/DURRIEU_Matthias/Experimental_data/MultiMazeRecorder/Videos/231222_TNT_Fine_1_Videos_Tracked...\n",
      "No boundaries found. Generating coordinates.npy file for /mnt/labserver/DURRIEU_Matthias/Experimental_data/MultiMazeRecorder/Videos/231222_TNT_Fine_1_Videos_Tracked...\n",
      "No boundaries found. Generating coordinates.npy file for /mnt/labserver/DURRIEU_Matthias/Experimental_data/MultiMazeRecorder/Videos/231222_TNT_Fine_1_Videos_Tracked...\n",
      "No boundaries found. Generating coordinates.npy file for /mnt/labserver/DURRIEU_Matthias/Experimental_data/MultiMazeRecorder/Videos/231222_TNT_Fine_1_Videos_Tracked...\n",
      "No boundaries found. Generating coordinates.npy file for /mnt/labserver/DURRIEU_Matthias/Experimental_data/MultiMazeRecorder/Videos/231222_TNT_Fine_1_Videos_Tracked...\n",
      "No boundaries found. Generating coordinates.npy file for /mnt/labserver/DURRIEU_Matthias/Experimental_data/MultiMazeRecorder/Videos/231222_TNT_Fine_1_Videos_Tracked...\n",
      "No boundaries found. Generating coordinates.npy file for /mnt/labserver/DURRIEU_Matthias/Experimental_data/MultiMazeRecorder/Videos/231222_TNT_Fine_1_Videos_Tracked...\n",
      "No boundaries found. Generating coordinates.npy file for /mnt/labserver/DURRIEU_Matthias/Experimental_data/MultiMazeRecorder/Videos/231222_TNT_Fine_1_Videos_Tracked...\n",
      "No boundaries found. Generating coordinates.npy file for /mnt/labserver/DURRIEU_Matthias/Experimental_data/MultiMazeRecorder/Videos/231222_TNT_Fine_1_Videos_Tracked...\n",
      "No boundaries found. Generating coordinates.npy file for /mnt/labserver/DURRIEU_Matthias/Experimental_data/MultiMazeRecorder/Videos/231222_TNT_Fine_1_Videos_Tracked...\n",
      "No boundaries found. Generating coordinates.npy file for /mnt/labserver/DURRIEU_Matthias/Experimental_data/MultiMazeRecorder/Videos/231222_TNT_Fine_1_Videos_Tracked...\n",
      "No boundaries found. Generating coordinates.npy file for /mnt/labserver/DURRIEU_Matthias/Experimental_data/MultiMazeRecorder/Videos/231222_TNT_Fine_1_Videos_Tracked...\n",
      "No boundaries found. Generating coordinates.npy file for /mnt/labserver/DURRIEU_Matthias/Experimental_data/MultiMazeRecorder/Videos/231222_TNT_Fine_1_Videos_Tracked...\n",
      "No boundaries found. Generating coordinates.npy file for /mnt/labserver/DURRIEU_Matthias/Experimental_data/MultiMazeRecorder/Videos/231222_TNT_Fine_1_Videos_Tracked...\n",
      "No boundaries found. Generating coordinates.npy file for /mnt/labserver/DURRIEU_Matthias/Experimental_data/MultiMazeRecorder/Videos/231222_TNT_Fine_1_Videos_Tracked...\n",
      "No boundaries found. Generating coordinates.npy file for /mnt/labserver/DURRIEU_Matthias/Experimental_data/MultiMazeRecorder/Videos/231222_TNT_Fine_1_Videos_Tracked...\n",
      "No boundaries found. Generating coordinates.npy file for /mnt/labserver/DURRIEU_Matthias/Experimental_data/MultiMazeRecorder/Videos/231222_TNT_Fine_1_Videos_Tracked...\n",
      "No boundaries found. Generating coordinates.npy file for /mnt/labserver/DURRIEU_Matthias/Experimental_data/MultiMazeRecorder/Videos/231222_TNT_Fine_1_Videos_Tracked...\n",
      "No boundaries found. Generating coordinates.npy file for /mnt/labserver/DURRIEU_Matthias/Experimental_data/MultiMazeRecorder/Videos/231222_TNT_Fine_1_Videos_Tracked...\n",
      "No boundaries found. Generating coordinates.npy file for /mnt/labserver/DURRIEU_Matthias/Experimental_data/MultiMazeRecorder/Videos/231222_TNT_Fine_1_Videos_Tracked...\n",
      "No boundaries found. Generating coordinates.npy file for /mnt/labserver/DURRIEU_Matthias/Experimental_data/MultiMazeRecorder/Videos/231222_TNT_Fine_1_Videos_Tracked...\n",
      "No boundaries found. Generating coordinates.npy file for /mnt/labserver/DURRIEU_Matthias/Experimental_data/MultiMazeRecorder/Videos/231222_TNT_Fine_1_Videos_Tracked...\n",
      "No boundaries found. Generating coordinates.npy file for /mnt/labserver/DURRIEU_Matthias/Experimental_data/MultiMazeRecorder/Videos/231222_TNT_Fine_1_Videos_Tracked...\n",
      "No boundaries found. Generating coordinates.npy file for /mnt/labserver/DURRIEU_Matthias/Experimental_data/MultiMazeRecorder/Videos/231222_TNT_Fine_1_Videos_Tracked...\n",
      "No boundaries found. Generating coordinates.npy file for /mnt/labserver/DURRIEU_Matthias/Experimental_data/MultiMazeRecorder/Videos/231222_TNT_Fine_1_Videos_Tracked...\n",
      "No boundaries found. Generating coordinates.npy file for /mnt/labserver/DURRIEU_Matthias/Experimental_data/MultiMazeRecorder/Videos/231222_TNT_Fine_1_Videos_Tracked...\n",
      "No boundaries found. Generating coordinates.npy file for /mnt/labserver/DURRIEU_Matthias/Experimental_data/MultiMazeRecorder/Videos/231222_TNT_Fine_1_Videos_Tracked...\n",
      "No boundaries found. Generating coordinates.npy file for /mnt/labserver/DURRIEU_Matthias/Experimental_data/MultiMazeRecorder/Videos/231222_TNT_Fine_1_Videos_Tracked...\n",
      "No boundaries found. Generating coordinates.npy file for /mnt/labserver/DURRIEU_Matthias/Experimental_data/MultiMazeRecorder/Videos/231222_TNT_Fine_1_Videos_Tracked...\n",
      "No boundaries found. Generating coordinates.npy file for /mnt/labserver/DURRIEU_Matthias/Experimental_data/MultiMazeRecorder/Videos/231222_TNT_Fine_1_Videos_Tracked...\n",
      "No boundaries found. Generating coordinates.npy file for /mnt/labserver/DURRIEU_Matthias/Experimental_data/MultiMazeRecorder/Videos/231222_TNT_Fine_1_Videos_Tracked...\n",
      "No boundaries found. Generating coordinates.npy file for /mnt/labserver/DURRIEU_Matthias/Experimental_data/MultiMazeRecorder/Videos/231222_TNT_Fine_1_Videos_Tracked...\n",
      "No boundaries found. Generating coordinates.npy file for /mnt/labserver/DURRIEU_Matthias/Experimental_data/MultiMazeRecorder/Videos/231222_TNT_Fine_1_Videos_Tracked...\n",
      "No boundaries found. Generating coordinates.npy file for /mnt/labserver/DURRIEU_Matthias/Experimental_data/MultiMazeRecorder/Videos/231222_TNT_Fine_1_Videos_Tracked...\n",
      "No boundaries found. Generating coordinates.npy file for /mnt/labserver/DURRIEU_Matthias/Experimental_data/MultiMazeRecorder/Videos/231222_TNT_Fine_1_Videos_Tracked...\n",
      "No boundaries found. Generating coordinates.npy file for /mnt/labserver/DURRIEU_Matthias/Experimental_data/MultiMazeRecorder/Videos/231222_TNT_Fine_1_Videos_Tracked...\n",
      "No boundaries found. Generating coordinates.npy file for /mnt/labserver/DURRIEU_Matthias/Experimental_data/MultiMazeRecorder/Videos/231222_TNT_Fine_1_Videos_Tracked...\n",
      "No boundaries found. Generating coordinates.npy file for /mnt/labserver/DURRIEU_Matthias/Experimental_data/MultiMazeRecorder/Videos/231222_TNT_Fine_1_Videos_Tracked...\n",
      "No boundaries found. Generating coordinates.npy file for /mnt/labserver/DURRIEU_Matthias/Experimental_data/MultiMazeRecorder/Videos/231222_TNT_Fine_1_Videos_Tracked...\n",
      "No boundaries found. Generating coordinates.npy file for /mnt/labserver/DURRIEU_Matthias/Experimental_data/MultiMazeRecorder/Videos/231222_TNT_Fine_1_Videos_Tracked...\n",
      "No boundaries found. Generating coordinates.npy file for /mnt/labserver/DURRIEU_Matthias/Experimental_data/MultiMazeRecorder/Videos/231222_TNT_Fine_1_Videos_Tracked...\n",
      "No boundaries found. Generating coordinates.npy file for /mnt/labserver/DURRIEU_Matthias/Experimental_data/MultiMazeRecorder/Videos/231222_TNT_Fine_1_Videos_Tracked...\n",
      "No boundaries found. Generating coordinates.npy file for /mnt/labserver/DURRIEU_Matthias/Experimental_data/MultiMazeRecorder/Videos/231222_TNT_Fine_1_Videos_Tracked...\n",
      "No boundaries found. Generating coordinates.npy file for /mnt/labserver/DURRIEU_Matthias/Experimental_data/MultiMazeRecorder/Videos/231222_TNT_Fine_1_Videos_Tracked...\n",
      "No boundaries found. Generating coordinates.npy file for /mnt/labserver/DURRIEU_Matthias/Experimental_data/MultiMazeRecorder/Videos/231222_TNT_Fine_1_Videos_Tracked...\n",
      "No boundaries found. Generating coordinates.npy file for /mnt/labserver/DURRIEU_Matthias/Experimental_data/MultiMazeRecorder/Videos/231222_TNT_Fine_1_Videos_Tracked...\n",
      "No boundaries found. Generating coordinates.npy file for /mnt/labserver/DURRIEU_Matthias/Experimental_data/MultiMazeRecorder/Videos/231222_TNT_Fine_1_Videos_Tracked...\n",
      "No boundaries found. Generating coordinates.npy file for /mnt/labserver/DURRIEU_Matthias/Experimental_data/MultiMazeRecorder/Videos/231205_TNT_Fine_2_Videos_Tracked...\n",
      "No boundaries found. Generating coordinates.npy file for /mnt/labserver/DURRIEU_Matthias/Experimental_data/MultiMazeRecorder/Videos/231205_TNT_Fine_2_Videos_Tracked...\n",
      "No boundaries found. Generating coordinates.npy file for /mnt/labserver/DURRIEU_Matthias/Experimental_data/MultiMazeRecorder/Videos/231205_TNT_Fine_2_Videos_Tracked...\n",
      "No boundaries found. Generating coordinates.npy file for /mnt/labserver/DURRIEU_Matthias/Experimental_data/MultiMazeRecorder/Videos/231205_TNT_Fine_2_Videos_Tracked...\n",
      "No boundaries found. Generating coordinates.npy file for /mnt/labserver/DURRIEU_Matthias/Experimental_data/MultiMazeRecorder/Videos/231205_TNT_Fine_2_Videos_Tracked...\n",
      "No boundaries found. Generating coordinates.npy file for /mnt/labserver/DURRIEU_Matthias/Experimental_data/MultiMazeRecorder/Videos/231205_TNT_Fine_2_Videos_Tracked...\n",
      "No boundaries found. Generating coordinates.npy file for /mnt/labserver/DURRIEU_Matthias/Experimental_data/MultiMazeRecorder/Videos/231205_TNT_Fine_2_Videos_Tracked...\n",
      "No boundaries found. Generating coordinates.npy file for /mnt/labserver/DURRIEU_Matthias/Experimental_data/MultiMazeRecorder/Videos/231205_TNT_Fine_2_Videos_Tracked...\n",
      "No boundaries found. Generating coordinates.npy file for /mnt/labserver/DURRIEU_Matthias/Experimental_data/MultiMazeRecorder/Videos/231205_TNT_Fine_2_Videos_Tracked...\n",
      "No boundaries found. Generating coordinates.npy file for /mnt/labserver/DURRIEU_Matthias/Experimental_data/MultiMazeRecorder/Videos/231205_TNT_Fine_2_Videos_Tracked...\n",
      "No boundaries found. Generating coordinates.npy file for /mnt/labserver/DURRIEU_Matthias/Experimental_data/MultiMazeRecorder/Videos/231205_TNT_Fine_2_Videos_Tracked...\n",
      "No boundaries found. Generating coordinates.npy file for /mnt/labserver/DURRIEU_Matthias/Experimental_data/MultiMazeRecorder/Videos/231205_TNT_Fine_2_Videos_Tracked...\n",
      "No boundaries found. Generating coordinates.npy file for /mnt/labserver/DURRIEU_Matthias/Experimental_data/MultiMazeRecorder/Videos/231205_TNT_Fine_2_Videos_Tracked...\n",
      "No boundaries found. Generating coordinates.npy file for /mnt/labserver/DURRIEU_Matthias/Experimental_data/MultiMazeRecorder/Videos/231205_TNT_Fine_2_Videos_Tracked...\n",
      "No boundaries found. Generating coordinates.npy file for /mnt/labserver/DURRIEU_Matthias/Experimental_data/MultiMazeRecorder/Videos/231205_TNT_Fine_2_Videos_Tracked...\n",
      "No boundaries found. Generating coordinates.npy file for /mnt/labserver/DURRIEU_Matthias/Experimental_data/MultiMazeRecorder/Videos/231205_TNT_Fine_2_Videos_Tracked...\n",
      "No boundaries found. Generating coordinates.npy file for /mnt/labserver/DURRIEU_Matthias/Experimental_data/MultiMazeRecorder/Videos/231205_TNT_Fine_2_Videos_Tracked...\n",
      "No boundaries found. Generating coordinates.npy file for /mnt/labserver/DURRIEU_Matthias/Experimental_data/MultiMazeRecorder/Videos/231205_TNT_Fine_2_Videos_Tracked...\n",
      "No boundaries found. Generating coordinates.npy file for /mnt/labserver/DURRIEU_Matthias/Experimental_data/MultiMazeRecorder/Videos/231205_TNT_Fine_2_Videos_Tracked...\n",
      "No boundaries found. Generating coordinates.npy file for /mnt/labserver/DURRIEU_Matthias/Experimental_data/MultiMazeRecorder/Videos/231205_TNT_Fine_2_Videos_Tracked...\n",
      "No boundaries found. Generating coordinates.npy file for /mnt/labserver/DURRIEU_Matthias/Experimental_data/MultiMazeRecorder/Videos/231205_TNT_Fine_2_Videos_Tracked...\n",
      "No boundaries found. Generating coordinates.npy file for /mnt/labserver/DURRIEU_Matthias/Experimental_data/MultiMazeRecorder/Videos/231205_TNT_Fine_2_Videos_Tracked...\n",
      "No boundaries found. Generating coordinates.npy file for /mnt/labserver/DURRIEU_Matthias/Experimental_data/MultiMazeRecorder/Videos/231205_TNT_Fine_2_Videos_Tracked...\n",
      "No boundaries found. Generating coordinates.npy file for /mnt/labserver/DURRIEU_Matthias/Experimental_data/MultiMazeRecorder/Videos/231205_TNT_Fine_2_Videos_Tracked...\n",
      "No boundaries found. Generating coordinates.npy file for /mnt/labserver/DURRIEU_Matthias/Experimental_data/MultiMazeRecorder/Videos/231205_TNT_Fine_2_Videos_Tracked...\n",
      "No boundaries found. Generating coordinates.npy file for /mnt/labserver/DURRIEU_Matthias/Experimental_data/MultiMazeRecorder/Videos/231205_TNT_Fine_2_Videos_Tracked...\n",
      "No boundaries found. Generating coordinates.npy file for /mnt/labserver/DURRIEU_Matthias/Experimental_data/MultiMazeRecorder/Videos/231205_TNT_Fine_2_Videos_Tracked...\n",
      "No boundaries found. Generating coordinates.npy file for /mnt/labserver/DURRIEU_Matthias/Experimental_data/MultiMazeRecorder/Videos/231205_TNT_Fine_2_Videos_Tracked...\n",
      "No boundaries found. Generating coordinates.npy file for /mnt/labserver/DURRIEU_Matthias/Experimental_data/MultiMazeRecorder/Videos/231205_TNT_Fine_2_Videos_Tracked...\n",
      "No boundaries found. Generating coordinates.npy file for /mnt/labserver/DURRIEU_Matthias/Experimental_data/MultiMazeRecorder/Videos/231205_TNT_Fine_2_Videos_Tracked...\n",
      "No boundaries found. Generating coordinates.npy file for /mnt/labserver/DURRIEU_Matthias/Experimental_data/MultiMazeRecorder/Videos/231205_TNT_Fine_2_Videos_Tracked...\n",
      "No boundaries found. Generating coordinates.npy file for /mnt/labserver/DURRIEU_Matthias/Experimental_data/MultiMazeRecorder/Videos/231205_TNT_Fine_2_Videos_Tracked...\n",
      "No boundaries found. Generating coordinates.npy file for /mnt/labserver/DURRIEU_Matthias/Experimental_data/MultiMazeRecorder/Videos/231205_TNT_Fine_2_Videos_Tracked...\n",
      "No boundaries found. Generating coordinates.npy file for /mnt/labserver/DURRIEU_Matthias/Experimental_data/MultiMazeRecorder/Videos/231205_TNT_Fine_2_Videos_Tracked...\n",
      "No boundaries found. Generating coordinates.npy file for /mnt/labserver/DURRIEU_Matthias/Experimental_data/MultiMazeRecorder/Videos/231205_TNT_Fine_2_Videos_Tracked...\n",
      "No boundaries found. Generating coordinates.npy file for /mnt/labserver/DURRIEU_Matthias/Experimental_data/MultiMazeRecorder/Videos/231205_TNT_Fine_2_Videos_Tracked...\n",
      "No boundaries found. Generating coordinates.npy file for /mnt/labserver/DURRIEU_Matthias/Experimental_data/MultiMazeRecorder/Videos/231205_TNT_Fine_2_Videos_Tracked...\n",
      "No boundaries found. Generating coordinates.npy file for /mnt/labserver/DURRIEU_Matthias/Experimental_data/MultiMazeRecorder/Videos/231205_TNT_Fine_2_Videos_Tracked...\n",
      "No boundaries found. Generating coordinates.npy file for /mnt/labserver/DURRIEU_Matthias/Experimental_data/MultiMazeRecorder/Videos/231205_TNT_Fine_2_Videos_Tracked...\n",
      "No boundaries found. Generating coordinates.npy file for /mnt/labserver/DURRIEU_Matthias/Experimental_data/MultiMazeRecorder/Videos/231205_TNT_Fine_2_Videos_Tracked...\n",
      "No boundaries found. Generating coordinates.npy file for /mnt/labserver/DURRIEU_Matthias/Experimental_data/MultiMazeRecorder/Videos/231205_TNT_Fine_2_Videos_Tracked...\n",
      "No boundaries found. Generating coordinates.npy file for /mnt/labserver/DURRIEU_Matthias/Experimental_data/MultiMazeRecorder/Videos/231205_TNT_Fine_2_Videos_Tracked...\n",
      "No boundaries found. Generating coordinates.npy file for /mnt/labserver/DURRIEU_Matthias/Experimental_data/MultiMazeRecorder/Videos/231205_TNT_Fine_2_Videos_Tracked...\n",
      "No boundaries found. Generating coordinates.npy file for /mnt/labserver/DURRIEU_Matthias/Experimental_data/MultiMazeRecorder/Videos/231205_TNT_Fine_2_Videos_Tracked...\n",
      "No boundaries found. Generating coordinates.npy file for /mnt/labserver/DURRIEU_Matthias/Experimental_data/MultiMazeRecorder/Videos/231205_TNT_Fine_2_Videos_Tracked...\n",
      "No boundaries found. Generating coordinates.npy file for /mnt/labserver/DURRIEU_Matthias/Experimental_data/MultiMazeRecorder/Videos/231205_TNT_Fine_2_Videos_Tracked...\n",
      "No boundaries found. Generating coordinates.npy file for /mnt/labserver/DURRIEU_Matthias/Experimental_data/MultiMazeRecorder/Videos/231205_TNT_Fine_2_Videos_Tracked...\n",
      "No boundaries found. Generating coordinates.npy file for /mnt/labserver/DURRIEU_Matthias/Experimental_data/MultiMazeRecorder/Videos/231205_TNT_Fine_2_Videos_Tracked...\n",
      "No boundaries found. Generating coordinates.npy file for /mnt/labserver/DURRIEU_Matthias/Experimental_data/MultiMazeRecorder/Videos/231205_TNT_Fine_2_Videos_Tracked...\n",
      "No boundaries found. Generating coordinates.npy file for /mnt/labserver/DURRIEU_Matthias/Experimental_data/MultiMazeRecorder/Videos/231205_TNT_Fine_2_Videos_Tracked...\n",
      "No boundaries found. Generating coordinates.npy file for /mnt/labserver/DURRIEU_Matthias/Experimental_data/MultiMazeRecorder/Videos/231205_TNT_Fine_2_Videos_Tracked...\n",
      "No boundaries found. Generating coordinates.npy file for /mnt/labserver/DURRIEU_Matthias/Experimental_data/MultiMazeRecorder/Videos/231205_TNT_Fine_2_Videos_Tracked...\n",
      "No boundaries found. Generating coordinates.npy file for /mnt/labserver/DURRIEU_Matthias/Experimental_data/MultiMazeRecorder/Videos/231205_TNT_Fine_2_Videos_Tracked...\n",
      "No boundaries found. Generating coordinates.npy file for /mnt/labserver/DURRIEU_Matthias/Experimental_data/MultiMazeRecorder/Videos/231205_TNT_Fine_2_Videos_Tracked...\n",
      "No boundaries found. Generating coordinates.npy file for /mnt/labserver/DURRIEU_Matthias/Experimental_data/MultiMazeRecorder/Videos/231212_TNT_Fine_2_Videos_Tracked...\n",
      "No boundaries found. Generating coordinates.npy file for /mnt/labserver/DURRIEU_Matthias/Experimental_data/MultiMazeRecorder/Videos/231212_TNT_Fine_2_Videos_Tracked...\n",
      "No boundaries found. Generating coordinates.npy file for /mnt/labserver/DURRIEU_Matthias/Experimental_data/MultiMazeRecorder/Videos/231212_TNT_Fine_2_Videos_Tracked...\n",
      "No boundaries found. Generating coordinates.npy file for /mnt/labserver/DURRIEU_Matthias/Experimental_data/MultiMazeRecorder/Videos/231212_TNT_Fine_2_Videos_Tracked...\n",
      "No boundaries found. Generating coordinates.npy file for /mnt/labserver/DURRIEU_Matthias/Experimental_data/MultiMazeRecorder/Videos/231212_TNT_Fine_2_Videos_Tracked...\n",
      "No boundaries found. Generating coordinates.npy file for /mnt/labserver/DURRIEU_Matthias/Experimental_data/MultiMazeRecorder/Videos/231212_TNT_Fine_2_Videos_Tracked...\n",
      "No boundaries found. Generating coordinates.npy file for /mnt/labserver/DURRIEU_Matthias/Experimental_data/MultiMazeRecorder/Videos/231212_TNT_Fine_2_Videos_Tracked...\n",
      "No boundaries found. Generating coordinates.npy file for /mnt/labserver/DURRIEU_Matthias/Experimental_data/MultiMazeRecorder/Videos/231212_TNT_Fine_2_Videos_Tracked...\n",
      "No boundaries found. Generating coordinates.npy file for /mnt/labserver/DURRIEU_Matthias/Experimental_data/MultiMazeRecorder/Videos/231212_TNT_Fine_2_Videos_Tracked...\n",
      "No boundaries found. Generating coordinates.npy file for /mnt/labserver/DURRIEU_Matthias/Experimental_data/MultiMazeRecorder/Videos/231212_TNT_Fine_2_Videos_Tracked...\n",
      "No boundaries found. Generating coordinates.npy file for /mnt/labserver/DURRIEU_Matthias/Experimental_data/MultiMazeRecorder/Videos/231212_TNT_Fine_2_Videos_Tracked...\n",
      "No boundaries found. Generating coordinates.npy file for /mnt/labserver/DURRIEU_Matthias/Experimental_data/MultiMazeRecorder/Videos/231212_TNT_Fine_2_Videos_Tracked...\n",
      "No boundaries found. Generating coordinates.npy file for /mnt/labserver/DURRIEU_Matthias/Experimental_data/MultiMazeRecorder/Videos/231212_TNT_Fine_2_Videos_Tracked...\n",
      "No boundaries found. Generating coordinates.npy file for /mnt/labserver/DURRIEU_Matthias/Experimental_data/MultiMazeRecorder/Videos/231212_TNT_Fine_2_Videos_Tracked...\n",
      "No boundaries found. Generating coordinates.npy file for /mnt/labserver/DURRIEU_Matthias/Experimental_data/MultiMazeRecorder/Videos/231212_TNT_Fine_2_Videos_Tracked...\n",
      "No boundaries found. Generating coordinates.npy file for /mnt/labserver/DURRIEU_Matthias/Experimental_data/MultiMazeRecorder/Videos/231212_TNT_Fine_2_Videos_Tracked...\n",
      "No boundaries found. Generating coordinates.npy file for /mnt/labserver/DURRIEU_Matthias/Experimental_data/MultiMazeRecorder/Videos/231212_TNT_Fine_2_Videos_Tracked...\n",
      "No boundaries found. Generating coordinates.npy file for /mnt/labserver/DURRIEU_Matthias/Experimental_data/MultiMazeRecorder/Videos/231212_TNT_Fine_2_Videos_Tracked...\n",
      "No boundaries found. Generating coordinates.npy file for /mnt/labserver/DURRIEU_Matthias/Experimental_data/MultiMazeRecorder/Videos/231212_TNT_Fine_2_Videos_Tracked...\n",
      "No boundaries found. Generating coordinates.npy file for /mnt/labserver/DURRIEU_Matthias/Experimental_data/MultiMazeRecorder/Videos/231212_TNT_Fine_2_Videos_Tracked...\n",
      "No boundaries found. Generating coordinates.npy file for /mnt/labserver/DURRIEU_Matthias/Experimental_data/MultiMazeRecorder/Videos/231212_TNT_Fine_2_Videos_Tracked...\n",
      "No boundaries found. Generating coordinates.npy file for /mnt/labserver/DURRIEU_Matthias/Experimental_data/MultiMazeRecorder/Videos/231212_TNT_Fine_2_Videos_Tracked...\n",
      "No boundaries found. Generating coordinates.npy file for /mnt/labserver/DURRIEU_Matthias/Experimental_data/MultiMazeRecorder/Videos/231212_TNT_Fine_2_Videos_Tracked...\n",
      "No boundaries found. Generating coordinates.npy file for /mnt/labserver/DURRIEU_Matthias/Experimental_data/MultiMazeRecorder/Videos/231212_TNT_Fine_2_Videos_Tracked...\n",
      "No boundaries found. Generating coordinates.npy file for /mnt/labserver/DURRIEU_Matthias/Experimental_data/MultiMazeRecorder/Videos/231212_TNT_Fine_2_Videos_Tracked...\n",
      "No boundaries found. Generating coordinates.npy file for /mnt/labserver/DURRIEU_Matthias/Experimental_data/MultiMazeRecorder/Videos/231212_TNT_Fine_2_Videos_Tracked...\n",
      "No boundaries found. Generating coordinates.npy file for /mnt/labserver/DURRIEU_Matthias/Experimental_data/MultiMazeRecorder/Videos/231212_TNT_Fine_2_Videos_Tracked...\n",
      "No boundaries found. Generating coordinates.npy file for /mnt/labserver/DURRIEU_Matthias/Experimental_data/MultiMazeRecorder/Videos/231212_TNT_Fine_2_Videos_Tracked...\n",
      "No boundaries found. Generating coordinates.npy file for /mnt/labserver/DURRIEU_Matthias/Experimental_data/MultiMazeRecorder/Videos/231212_TNT_Fine_2_Videos_Tracked...\n",
      "No boundaries found. Generating coordinates.npy file for /mnt/labserver/DURRIEU_Matthias/Experimental_data/MultiMazeRecorder/Videos/231212_TNT_Fine_2_Videos_Tracked...\n",
      "No boundaries found. Generating coordinates.npy file for /mnt/labserver/DURRIEU_Matthias/Experimental_data/MultiMazeRecorder/Videos/231212_TNT_Fine_2_Videos_Tracked...\n",
      "No boundaries found. Generating coordinates.npy file for /mnt/labserver/DURRIEU_Matthias/Experimental_data/MultiMazeRecorder/Videos/231212_TNT_Fine_2_Videos_Tracked...\n",
      "No boundaries found. Generating coordinates.npy file for /mnt/labserver/DURRIEU_Matthias/Experimental_data/MultiMazeRecorder/Videos/231212_TNT_Fine_2_Videos_Tracked...\n",
      "No boundaries found. Generating coordinates.npy file for /mnt/labserver/DURRIEU_Matthias/Experimental_data/MultiMazeRecorder/Videos/231212_TNT_Fine_2_Videos_Tracked...\n",
      "No boundaries found. Generating coordinates.npy file for /mnt/labserver/DURRIEU_Matthias/Experimental_data/MultiMazeRecorder/Videos/231212_TNT_Fine_2_Videos_Tracked...\n",
      "No boundaries found. Generating coordinates.npy file for /mnt/labserver/DURRIEU_Matthias/Experimental_data/MultiMazeRecorder/Videos/231212_TNT_Fine_2_Videos_Tracked...\n",
      "No boundaries found. Generating coordinates.npy file for /mnt/labserver/DURRIEU_Matthias/Experimental_data/MultiMazeRecorder/Videos/231212_TNT_Fine_2_Videos_Tracked...\n",
      "No boundaries found. Generating coordinates.npy file for /mnt/labserver/DURRIEU_Matthias/Experimental_data/MultiMazeRecorder/Videos/231212_TNT_Fine_2_Videos_Tracked...\n",
      "No boundaries found. Generating coordinates.npy file for /mnt/labserver/DURRIEU_Matthias/Experimental_data/MultiMazeRecorder/Videos/231212_TNT_Fine_2_Videos_Tracked...\n",
      "No boundaries found. Generating coordinates.npy file for /mnt/labserver/DURRIEU_Matthias/Experimental_data/MultiMazeRecorder/Videos/231212_TNT_Fine_2_Videos_Tracked...\n",
      "No boundaries found. Generating coordinates.npy file for /mnt/labserver/DURRIEU_Matthias/Experimental_data/MultiMazeRecorder/Videos/231212_TNT_Fine_2_Videos_Tracked...\n",
      "No boundaries found. Generating coordinates.npy file for /mnt/labserver/DURRIEU_Matthias/Experimental_data/MultiMazeRecorder/Videos/231212_TNT_Fine_2_Videos_Tracked...\n",
      "No boundaries found. Generating coordinates.npy file for /mnt/labserver/DURRIEU_Matthias/Experimental_data/MultiMazeRecorder/Videos/231212_TNT_Fine_2_Videos_Tracked...\n",
      "No boundaries found. Generating coordinates.npy file for /mnt/labserver/DURRIEU_Matthias/Experimental_data/MultiMazeRecorder/Videos/231212_TNT_Fine_2_Videos_Tracked...\n",
      "No boundaries found. Generating coordinates.npy file for /mnt/labserver/DURRIEU_Matthias/Experimental_data/MultiMazeRecorder/Videos/231212_TNT_Fine_2_Videos_Tracked...\n",
      "No boundaries found. Generating coordinates.npy file for /mnt/labserver/DURRIEU_Matthias/Experimental_data/MultiMazeRecorder/Videos/231212_TNT_Fine_2_Videos_Tracked...\n",
      "No boundaries found. Generating coordinates.npy file for /mnt/labserver/DURRIEU_Matthias/Experimental_data/MultiMazeRecorder/Videos/231212_TNT_Fine_2_Videos_Tracked...\n",
      "No boundaries found. Generating coordinates.npy file for /mnt/labserver/DURRIEU_Matthias/Experimental_data/MultiMazeRecorder/Videos/231212_TNT_Fine_2_Videos_Tracked...\n",
      "No boundaries found. Generating coordinates.npy file for /mnt/labserver/DURRIEU_Matthias/Experimental_data/MultiMazeRecorder/Videos/231212_TNT_Fine_2_Videos_Tracked...\n",
      "No boundaries found. Generating coordinates.npy file for /mnt/labserver/DURRIEU_Matthias/Experimental_data/MultiMazeRecorder/Videos/231212_TNT_Fine_2_Videos_Tracked...\n",
      "No boundaries found. Generating coordinates.npy file for /mnt/labserver/DURRIEU_Matthias/Experimental_data/MultiMazeRecorder/Videos/231212_TNT_Fine_2_Videos_Tracked...\n",
      "No boundaries found. Generating coordinates.npy file for /mnt/labserver/DURRIEU_Matthias/Experimental_data/MultiMazeRecorder/Videos/231212_TNT_Fine_2_Videos_Tracked...\n",
      "No boundaries found. Generating coordinates.npy file for /mnt/labserver/DURRIEU_Matthias/Experimental_data/MultiMazeRecorder/Videos/231212_TNT_Fine_2_Videos_Tracked...\n",
      "No boundaries found. Generating coordinates.npy file for /mnt/labserver/DURRIEU_Matthias/Experimental_data/MultiMazeRecorder/Videos/231212_TNT_Fine_2_Videos_Tracked...\n",
      "No boundaries found. Generating coordinates.npy file for /mnt/labserver/DURRIEU_Matthias/Experimental_data/MultiMazeRecorder/Videos/231208_TNT_Fine_2_Videos_Tracked...\n",
      "No boundaries found. Generating coordinates.npy file for /mnt/labserver/DURRIEU_Matthias/Experimental_data/MultiMazeRecorder/Videos/231208_TNT_Fine_2_Videos_Tracked...\n",
      "No boundaries found. Generating coordinates.npy file for /mnt/labserver/DURRIEU_Matthias/Experimental_data/MultiMazeRecorder/Videos/231208_TNT_Fine_2_Videos_Tracked...\n",
      "No boundaries found. Generating coordinates.npy file for /mnt/labserver/DURRIEU_Matthias/Experimental_data/MultiMazeRecorder/Videos/231208_TNT_Fine_2_Videos_Tracked...\n",
      "No boundaries found. Generating coordinates.npy file for /mnt/labserver/DURRIEU_Matthias/Experimental_data/MultiMazeRecorder/Videos/231208_TNT_Fine_2_Videos_Tracked...\n",
      "No boundaries found. Generating coordinates.npy file for /mnt/labserver/DURRIEU_Matthias/Experimental_data/MultiMazeRecorder/Videos/231208_TNT_Fine_2_Videos_Tracked...\n",
      "No boundaries found. Generating coordinates.npy file for /mnt/labserver/DURRIEU_Matthias/Experimental_data/MultiMazeRecorder/Videos/231208_TNT_Fine_2_Videos_Tracked...\n",
      "No boundaries found. Generating coordinates.npy file for /mnt/labserver/DURRIEU_Matthias/Experimental_data/MultiMazeRecorder/Videos/231208_TNT_Fine_2_Videos_Tracked...\n",
      "No boundaries found. Generating coordinates.npy file for /mnt/labserver/DURRIEU_Matthias/Experimental_data/MultiMazeRecorder/Videos/231208_TNT_Fine_2_Videos_Tracked...\n",
      "No boundaries found. Generating coordinates.npy file for /mnt/labserver/DURRIEU_Matthias/Experimental_data/MultiMazeRecorder/Videos/231208_TNT_Fine_2_Videos_Tracked...\n",
      "No boundaries found. Generating coordinates.npy file for /mnt/labserver/DURRIEU_Matthias/Experimental_data/MultiMazeRecorder/Videos/231208_TNT_Fine_2_Videos_Tracked...\n",
      "No boundaries found. Generating coordinates.npy file for /mnt/labserver/DURRIEU_Matthias/Experimental_data/MultiMazeRecorder/Videos/231208_TNT_Fine_2_Videos_Tracked...\n",
      "No boundaries found. Generating coordinates.npy file for /mnt/labserver/DURRIEU_Matthias/Experimental_data/MultiMazeRecorder/Videos/231208_TNT_Fine_2_Videos_Tracked...\n",
      "No boundaries found. Generating coordinates.npy file for /mnt/labserver/DURRIEU_Matthias/Experimental_data/MultiMazeRecorder/Videos/231208_TNT_Fine_2_Videos_Tracked...\n",
      "No boundaries found. Generating coordinates.npy file for /mnt/labserver/DURRIEU_Matthias/Experimental_data/MultiMazeRecorder/Videos/231208_TNT_Fine_2_Videos_Tracked...\n",
      "No boundaries found. Generating coordinates.npy file for /mnt/labserver/DURRIEU_Matthias/Experimental_data/MultiMazeRecorder/Videos/231208_TNT_Fine_2_Videos_Tracked...\n",
      "No boundaries found. Generating coordinates.npy file for /mnt/labserver/DURRIEU_Matthias/Experimental_data/MultiMazeRecorder/Videos/231208_TNT_Fine_2_Videos_Tracked...\n",
      "No boundaries found. Generating coordinates.npy file for /mnt/labserver/DURRIEU_Matthias/Experimental_data/MultiMazeRecorder/Videos/231208_TNT_Fine_2_Videos_Tracked...\n",
      "No boundaries found. Generating coordinates.npy file for /mnt/labserver/DURRIEU_Matthias/Experimental_data/MultiMazeRecorder/Videos/231208_TNT_Fine_2_Videos_Tracked...\n",
      "No boundaries found. Generating coordinates.npy file for /mnt/labserver/DURRIEU_Matthias/Experimental_data/MultiMazeRecorder/Videos/231208_TNT_Fine_2_Videos_Tracked...\n",
      "No boundaries found. Generating coordinates.npy file for /mnt/labserver/DURRIEU_Matthias/Experimental_data/MultiMazeRecorder/Videos/231208_TNT_Fine_2_Videos_Tracked...\n",
      "No boundaries found. Generating coordinates.npy file for /mnt/labserver/DURRIEU_Matthias/Experimental_data/MultiMazeRecorder/Videos/231208_TNT_Fine_2_Videos_Tracked...\n",
      "No boundaries found. Generating coordinates.npy file for /mnt/labserver/DURRIEU_Matthias/Experimental_data/MultiMazeRecorder/Videos/231208_TNT_Fine_2_Videos_Tracked...\n",
      "No boundaries found. Generating coordinates.npy file for /mnt/labserver/DURRIEU_Matthias/Experimental_data/MultiMazeRecorder/Videos/231208_TNT_Fine_2_Videos_Tracked...\n",
      "No boundaries found. Generating coordinates.npy file for /mnt/labserver/DURRIEU_Matthias/Experimental_data/MultiMazeRecorder/Videos/231208_TNT_Fine_2_Videos_Tracked...\n",
      "No boundaries found. Generating coordinates.npy file for /mnt/labserver/DURRIEU_Matthias/Experimental_data/MultiMazeRecorder/Videos/231208_TNT_Fine_2_Videos_Tracked...\n",
      "No boundaries found. Generating coordinates.npy file for /mnt/labserver/DURRIEU_Matthias/Experimental_data/MultiMazeRecorder/Videos/231208_TNT_Fine_2_Videos_Tracked...\n",
      "No boundaries found. Generating coordinates.npy file for /mnt/labserver/DURRIEU_Matthias/Experimental_data/MultiMazeRecorder/Videos/231208_TNT_Fine_2_Videos_Tracked...\n",
      "No boundaries found. Generating coordinates.npy file for /mnt/labserver/DURRIEU_Matthias/Experimental_data/MultiMazeRecorder/Videos/231208_TNT_Fine_2_Videos_Tracked...\n",
      "No boundaries found. Generating coordinates.npy file for /mnt/labserver/DURRIEU_Matthias/Experimental_data/MultiMazeRecorder/Videos/231208_TNT_Fine_2_Videos_Tracked...\n",
      "No boundaries found. Generating coordinates.npy file for /mnt/labserver/DURRIEU_Matthias/Experimental_data/MultiMazeRecorder/Videos/231208_TNT_Fine_2_Videos_Tracked...\n",
      "No boundaries found. Generating coordinates.npy file for /mnt/labserver/DURRIEU_Matthias/Experimental_data/MultiMazeRecorder/Videos/231208_TNT_Fine_2_Videos_Tracked...\n",
      "No boundaries found. Generating coordinates.npy file for /mnt/labserver/DURRIEU_Matthias/Experimental_data/MultiMazeRecorder/Videos/231208_TNT_Fine_2_Videos_Tracked...\n",
      "No boundaries found. Generating coordinates.npy file for /mnt/labserver/DURRIEU_Matthias/Experimental_data/MultiMazeRecorder/Videos/231208_TNT_Fine_2_Videos_Tracked...\n",
      "No boundaries found. Generating coordinates.npy file for /mnt/labserver/DURRIEU_Matthias/Experimental_data/MultiMazeRecorder/Videos/231208_TNT_Fine_2_Videos_Tracked...\n",
      "No boundaries found. Generating coordinates.npy file for /mnt/labserver/DURRIEU_Matthias/Experimental_data/MultiMazeRecorder/Videos/231208_TNT_Fine_2_Videos_Tracked...\n",
      "No boundaries found. Generating coordinates.npy file for /mnt/labserver/DURRIEU_Matthias/Experimental_data/MultiMazeRecorder/Videos/231208_TNT_Fine_2_Videos_Tracked...\n",
      "No boundaries found. Generating coordinates.npy file for /mnt/labserver/DURRIEU_Matthias/Experimental_data/MultiMazeRecorder/Videos/231208_TNT_Fine_2_Videos_Tracked...\n",
      "No boundaries found. Generating coordinates.npy file for /mnt/labserver/DURRIEU_Matthias/Experimental_data/MultiMazeRecorder/Videos/231208_TNT_Fine_2_Videos_Tracked...\n",
      "No boundaries found. Generating coordinates.npy file for /mnt/labserver/DURRIEU_Matthias/Experimental_data/MultiMazeRecorder/Videos/231208_TNT_Fine_2_Videos_Tracked...\n",
      "No boundaries found. Generating coordinates.npy file for /mnt/labserver/DURRIEU_Matthias/Experimental_data/MultiMazeRecorder/Videos/231208_TNT_Fine_2_Videos_Tracked...\n",
      "No boundaries found. Generating coordinates.npy file for /mnt/labserver/DURRIEU_Matthias/Experimental_data/MultiMazeRecorder/Videos/231208_TNT_Fine_2_Videos_Tracked...\n",
      "No boundaries found. Generating coordinates.npy file for /mnt/labserver/DURRIEU_Matthias/Experimental_data/MultiMazeRecorder/Videos/231208_TNT_Fine_2_Videos_Tracked...\n",
      "No boundaries found. Generating coordinates.npy file for /mnt/labserver/DURRIEU_Matthias/Experimental_data/MultiMazeRecorder/Videos/231208_TNT_Fine_2_Videos_Tracked...\n",
      "No boundaries found. Generating coordinates.npy file for /mnt/labserver/DURRIEU_Matthias/Experimental_data/MultiMazeRecorder/Videos/231208_TNT_Fine_2_Videos_Tracked...\n",
      "No boundaries found. Generating coordinates.npy file for /mnt/labserver/DURRIEU_Matthias/Experimental_data/MultiMazeRecorder/Videos/231208_TNT_Fine_2_Videos_Tracked...\n",
      "No boundaries found. Generating coordinates.npy file for /mnt/labserver/DURRIEU_Matthias/Experimental_data/MultiMazeRecorder/Videos/231208_TNT_Fine_2_Videos_Tracked...\n",
      "No boundaries found. Generating coordinates.npy file for /mnt/labserver/DURRIEU_Matthias/Experimental_data/MultiMazeRecorder/Videos/231208_TNT_Fine_2_Videos_Tracked...\n",
      "No boundaries found. Generating coordinates.npy file for /mnt/labserver/DURRIEU_Matthias/Experimental_data/MultiMazeRecorder/Videos/231208_TNT_Fine_2_Videos_Tracked...\n",
      "No boundaries found. Generating coordinates.npy file for /mnt/labserver/DURRIEU_Matthias/Experimental_data/MultiMazeRecorder/Videos/231208_TNT_Fine_2_Videos_Tracked...\n",
      "No boundaries found. Generating coordinates.npy file for /mnt/labserver/DURRIEU_Matthias/Experimental_data/MultiMazeRecorder/Videos/231208_TNT_Fine_2_Videos_Tracked...\n",
      "No boundaries found. Generating coordinates.npy file for /mnt/labserver/DURRIEU_Matthias/Experimental_data/MultiMazeRecorder/Videos/231208_TNT_Fine_2_Videos_Tracked...\n",
      "No boundaries found. Generating coordinates.npy file for /mnt/labserver/DURRIEU_Matthias/Experimental_data/MultiMazeRecorder/Videos/231208_TNT_Fine_2_Videos_Tracked...\n",
      "No boundaries found. Generating coordinates.npy file for /mnt/labserver/DURRIEU_Matthias/Experimental_data/MultiMazeRecorder/Videos/231208_TNT_Fine_2_Videos_Tracked...\n",
      "No boundaries found. Generating coordinates.npy file for /mnt/labserver/DURRIEU_Matthias/Experimental_data/MultiMazeRecorder/Videos/240110_TNT_Fine_1_Videos_Checked...\n",
      "No boundaries found. Generating coordinates.npy file for /mnt/labserver/DURRIEU_Matthias/Experimental_data/MultiMazeRecorder/Videos/240110_TNT_Fine_1_Videos_Checked...\n",
      "No boundaries found. Generating coordinates.npy file for /mnt/labserver/DURRIEU_Matthias/Experimental_data/MultiMazeRecorder/Videos/240110_TNT_Fine_1_Videos_Checked...\n",
      "No boundaries found. Generating coordinates.npy file for /mnt/labserver/DURRIEU_Matthias/Experimental_data/MultiMazeRecorder/Videos/240110_TNT_Fine_1_Videos_Checked...\n",
      "No boundaries found. Generating coordinates.npy file for /mnt/labserver/DURRIEU_Matthias/Experimental_data/MultiMazeRecorder/Videos/240110_TNT_Fine_1_Videos_Checked...\n",
      "No boundaries found. Generating coordinates.npy file for /mnt/labserver/DURRIEU_Matthias/Experimental_data/MultiMazeRecorder/Videos/240110_TNT_Fine_1_Videos_Checked...\n",
      "No boundaries found. Generating coordinates.npy file for /mnt/labserver/DURRIEU_Matthias/Experimental_data/MultiMazeRecorder/Videos/240110_TNT_Fine_1_Videos_Checked...\n",
      "No boundaries found. Generating coordinates.npy file for /mnt/labserver/DURRIEU_Matthias/Experimental_data/MultiMazeRecorder/Videos/240110_TNT_Fine_1_Videos_Checked...\n",
      "No boundaries found. Generating coordinates.npy file for /mnt/labserver/DURRIEU_Matthias/Experimental_data/MultiMazeRecorder/Videos/240110_TNT_Fine_1_Videos_Checked...\n",
      "No boundaries found. Generating coordinates.npy file for /mnt/labserver/DURRIEU_Matthias/Experimental_data/MultiMazeRecorder/Videos/240110_TNT_Fine_1_Videos_Checked...\n",
      "No boundaries found. Generating coordinates.npy file for /mnt/labserver/DURRIEU_Matthias/Experimental_data/MultiMazeRecorder/Videos/240110_TNT_Fine_1_Videos_Checked...\n",
      "No boundaries found. Generating coordinates.npy file for /mnt/labserver/DURRIEU_Matthias/Experimental_data/MultiMazeRecorder/Videos/240110_TNT_Fine_1_Videos_Checked...\n",
      "No boundaries found. Generating coordinates.npy file for /mnt/labserver/DURRIEU_Matthias/Experimental_data/MultiMazeRecorder/Videos/240110_TNT_Fine_1_Videos_Checked...\n",
      "No boundaries found. Generating coordinates.npy file for /mnt/labserver/DURRIEU_Matthias/Experimental_data/MultiMazeRecorder/Videos/240110_TNT_Fine_1_Videos_Checked...\n",
      "No boundaries found. Generating coordinates.npy file for /mnt/labserver/DURRIEU_Matthias/Experimental_data/MultiMazeRecorder/Videos/240110_TNT_Fine_1_Videos_Checked...\n",
      "No boundaries found. Generating coordinates.npy file for /mnt/labserver/DURRIEU_Matthias/Experimental_data/MultiMazeRecorder/Videos/240110_TNT_Fine_1_Videos_Checked...\n",
      "No boundaries found. Generating coordinates.npy file for /mnt/labserver/DURRIEU_Matthias/Experimental_data/MultiMazeRecorder/Videos/240110_TNT_Fine_1_Videos_Checked...\n",
      "No boundaries found. Generating coordinates.npy file for /mnt/labserver/DURRIEU_Matthias/Experimental_data/MultiMazeRecorder/Videos/240110_TNT_Fine_1_Videos_Checked...\n",
      "No boundaries found. Generating coordinates.npy file for /mnt/labserver/DURRIEU_Matthias/Experimental_data/MultiMazeRecorder/Videos/240110_TNT_Fine_1_Videos_Checked...\n",
      "No boundaries found. Generating coordinates.npy file for /mnt/labserver/DURRIEU_Matthias/Experimental_data/MultiMazeRecorder/Videos/240110_TNT_Fine_1_Videos_Checked...\n",
      "No boundaries found. Generating coordinates.npy file for /mnt/labserver/DURRIEU_Matthias/Experimental_data/MultiMazeRecorder/Videos/240110_TNT_Fine_1_Videos_Checked...\n",
      "No boundaries found. Generating coordinates.npy file for /mnt/labserver/DURRIEU_Matthias/Experimental_data/MultiMazeRecorder/Videos/240110_TNT_Fine_1_Videos_Checked...\n",
      "No boundaries found. Generating coordinates.npy file for /mnt/labserver/DURRIEU_Matthias/Experimental_data/MultiMazeRecorder/Videos/240110_TNT_Fine_1_Videos_Checked...\n",
      "No boundaries found. Generating coordinates.npy file for /mnt/labserver/DURRIEU_Matthias/Experimental_data/MultiMazeRecorder/Videos/240110_TNT_Fine_1_Videos_Checked...\n",
      "No boundaries found. Generating coordinates.npy file for /mnt/labserver/DURRIEU_Matthias/Experimental_data/MultiMazeRecorder/Videos/240110_TNT_Fine_1_Videos_Checked...\n",
      "No boundaries found. Generating coordinates.npy file for /mnt/labserver/DURRIEU_Matthias/Experimental_data/MultiMazeRecorder/Videos/240110_TNT_Fine_1_Videos_Checked...\n",
      "No boundaries found. Generating coordinates.npy file for /mnt/labserver/DURRIEU_Matthias/Experimental_data/MultiMazeRecorder/Videos/240110_TNT_Fine_1_Videos_Checked...\n",
      "No boundaries found. Generating coordinates.npy file for /mnt/labserver/DURRIEU_Matthias/Experimental_data/MultiMazeRecorder/Videos/240110_TNT_Fine_1_Videos_Checked...\n",
      "No boundaries found. Generating coordinates.npy file for /mnt/labserver/DURRIEU_Matthias/Experimental_data/MultiMazeRecorder/Videos/240110_TNT_Fine_1_Videos_Checked...\n",
      "No boundaries found. Generating coordinates.npy file for /mnt/labserver/DURRIEU_Matthias/Experimental_data/MultiMazeRecorder/Videos/240110_TNT_Fine_1_Videos_Checked...\n",
      "No boundaries found. Generating coordinates.npy file for /mnt/labserver/DURRIEU_Matthias/Experimental_data/MultiMazeRecorder/Videos/240110_TNT_Fine_1_Videos_Checked...\n",
      "No boundaries found. Generating coordinates.npy file for /mnt/labserver/DURRIEU_Matthias/Experimental_data/MultiMazeRecorder/Videos/240110_TNT_Fine_1_Videos_Checked...\n",
      "No boundaries found. Generating coordinates.npy file for /mnt/labserver/DURRIEU_Matthias/Experimental_data/MultiMazeRecorder/Videos/240110_TNT_Fine_1_Videos_Checked...\n",
      "No boundaries found. Generating coordinates.npy file for /mnt/labserver/DURRIEU_Matthias/Experimental_data/MultiMazeRecorder/Videos/240110_TNT_Fine_1_Videos_Checked...\n",
      "No boundaries found. Generating coordinates.npy file for /mnt/labserver/DURRIEU_Matthias/Experimental_data/MultiMazeRecorder/Videos/240110_TNT_Fine_1_Videos_Checked...\n",
      "No boundaries found. Generating coordinates.npy file for /mnt/labserver/DURRIEU_Matthias/Experimental_data/MultiMazeRecorder/Videos/240110_TNT_Fine_1_Videos_Checked...\n",
      "No boundaries found. Generating coordinates.npy file for /mnt/labserver/DURRIEU_Matthias/Experimental_data/MultiMazeRecorder/Videos/240110_TNT_Fine_1_Videos_Checked...\n",
      "No boundaries found. Generating coordinates.npy file for /mnt/labserver/DURRIEU_Matthias/Experimental_data/MultiMazeRecorder/Videos/240110_TNT_Fine_1_Videos_Checked...\n",
      "No boundaries found. Generating coordinates.npy file for /mnt/labserver/DURRIEU_Matthias/Experimental_data/MultiMazeRecorder/Videos/240110_TNT_Fine_1_Videos_Checked...\n",
      "No boundaries found. Generating coordinates.npy file for /mnt/labserver/DURRIEU_Matthias/Experimental_data/MultiMazeRecorder/Videos/240110_TNT_Fine_1_Videos_Checked...\n",
      "No boundaries found. Generating coordinates.npy file for /mnt/labserver/DURRIEU_Matthias/Experimental_data/MultiMazeRecorder/Videos/240110_TNT_Fine_1_Videos_Checked...\n",
      "No boundaries found. Generating coordinates.npy file for /mnt/labserver/DURRIEU_Matthias/Experimental_data/MultiMazeRecorder/Videos/240110_TNT_Fine_1_Videos_Checked...\n",
      "No boundaries found. Generating coordinates.npy file for /mnt/labserver/DURRIEU_Matthias/Experimental_data/MultiMazeRecorder/Videos/240110_TNT_Fine_1_Videos_Checked...\n",
      "No boundaries found. Generating coordinates.npy file for /mnt/labserver/DURRIEU_Matthias/Experimental_data/MultiMazeRecorder/Videos/240110_TNT_Fine_1_Videos_Checked...\n",
      "No boundaries found. Generating coordinates.npy file for /mnt/labserver/DURRIEU_Matthias/Experimental_data/MultiMazeRecorder/Videos/240110_TNT_Fine_1_Videos_Checked...\n",
      "No boundaries found. Generating coordinates.npy file for /mnt/labserver/DURRIEU_Matthias/Experimental_data/MultiMazeRecorder/Videos/240110_TNT_Fine_1_Videos_Checked...\n",
      "No boundaries found. Generating coordinates.npy file for /mnt/labserver/DURRIEU_Matthias/Experimental_data/MultiMazeRecorder/Videos/240110_TNT_Fine_1_Videos_Checked...\n",
      "No boundaries found. Generating coordinates.npy file for /mnt/labserver/DURRIEU_Matthias/Experimental_data/MultiMazeRecorder/Videos/240110_TNT_Fine_1_Videos_Checked...\n",
      "No boundaries found. Generating coordinates.npy file for /mnt/labserver/DURRIEU_Matthias/Experimental_data/MultiMazeRecorder/Videos/240110_TNT_Fine_1_Videos_Checked...\n",
      "No boundaries found. Generating coordinates.npy file for /mnt/labserver/DURRIEU_Matthias/Experimental_data/MultiMazeRecorder/Videos/240110_TNT_Fine_1_Videos_Checked...\n",
      "No boundaries found. Generating coordinates.npy file for /mnt/labserver/DURRIEU_Matthias/Experimental_data/MultiMazeRecorder/Videos/240110_TNT_Fine_1_Videos_Checked...\n",
      "No boundaries found. Generating coordinates.npy file for /mnt/labserver/DURRIEU_Matthias/Experimental_data/MultiMazeRecorder/Videos/240110_TNT_Fine_1_Videos_Checked...\n",
      "No boundaries found. Generating coordinates.npy file for /mnt/labserver/DURRIEU_Matthias/Experimental_data/MultiMazeRecorder/Videos/240110_TNT_Fine_1_Videos_Checked...\n",
      "No boundaries found. Generating coordinates.npy file for /mnt/labserver/DURRIEU_Matthias/Experimental_data/MultiMazeRecorder/Videos/240110_TNT_Fine_1_Videos_Checked...\n",
      "No boundaries found. Generating coordinates.npy file for /mnt/labserver/DURRIEU_Matthias/Experimental_data/MultiMazeRecorder/Videos/231208_TNT_Fine_3_Videos_Tracked...\n",
      "No boundaries found. Generating coordinates.npy file for /mnt/labserver/DURRIEU_Matthias/Experimental_data/MultiMazeRecorder/Videos/231208_TNT_Fine_3_Videos_Tracked...\n",
      "No boundaries found. Generating coordinates.npy file for /mnt/labserver/DURRIEU_Matthias/Experimental_data/MultiMazeRecorder/Videos/231208_TNT_Fine_3_Videos_Tracked...\n",
      "No boundaries found. Generating coordinates.npy file for /mnt/labserver/DURRIEU_Matthias/Experimental_data/MultiMazeRecorder/Videos/231208_TNT_Fine_3_Videos_Tracked...\n",
      "No boundaries found. Generating coordinates.npy file for /mnt/labserver/DURRIEU_Matthias/Experimental_data/MultiMazeRecorder/Videos/231208_TNT_Fine_3_Videos_Tracked...\n",
      "No boundaries found. Generating coordinates.npy file for /mnt/labserver/DURRIEU_Matthias/Experimental_data/MultiMazeRecorder/Videos/231208_TNT_Fine_3_Videos_Tracked...\n",
      "No boundaries found. Generating coordinates.npy file for /mnt/labserver/DURRIEU_Matthias/Experimental_data/MultiMazeRecorder/Videos/231208_TNT_Fine_3_Videos_Tracked...\n",
      "No boundaries found. Generating coordinates.npy file for /mnt/labserver/DURRIEU_Matthias/Experimental_data/MultiMazeRecorder/Videos/231208_TNT_Fine_3_Videos_Tracked...\n",
      "No boundaries found. Generating coordinates.npy file for /mnt/labserver/DURRIEU_Matthias/Experimental_data/MultiMazeRecorder/Videos/231208_TNT_Fine_3_Videos_Tracked...\n",
      "No boundaries found. Generating coordinates.npy file for /mnt/labserver/DURRIEU_Matthias/Experimental_data/MultiMazeRecorder/Videos/231208_TNT_Fine_3_Videos_Tracked...\n",
      "No boundaries found. Generating coordinates.npy file for /mnt/labserver/DURRIEU_Matthias/Experimental_data/MultiMazeRecorder/Videos/231208_TNT_Fine_3_Videos_Tracked...\n",
      "No boundaries found. Generating coordinates.npy file for /mnt/labserver/DURRIEU_Matthias/Experimental_data/MultiMazeRecorder/Videos/231208_TNT_Fine_3_Videos_Tracked...\n",
      "No boundaries found. Generating coordinates.npy file for /mnt/labserver/DURRIEU_Matthias/Experimental_data/MultiMazeRecorder/Videos/231208_TNT_Fine_3_Videos_Tracked...\n",
      "No boundaries found. Generating coordinates.npy file for /mnt/labserver/DURRIEU_Matthias/Experimental_data/MultiMazeRecorder/Videos/231208_TNT_Fine_3_Videos_Tracked...\n",
      "No boundaries found. Generating coordinates.npy file for /mnt/labserver/DURRIEU_Matthias/Experimental_data/MultiMazeRecorder/Videos/231208_TNT_Fine_3_Videos_Tracked...\n",
      "No boundaries found. Generating coordinates.npy file for /mnt/labserver/DURRIEU_Matthias/Experimental_data/MultiMazeRecorder/Videos/231208_TNT_Fine_3_Videos_Tracked...\n",
      "No boundaries found. Generating coordinates.npy file for /mnt/labserver/DURRIEU_Matthias/Experimental_data/MultiMazeRecorder/Videos/231208_TNT_Fine_3_Videos_Tracked...\n",
      "No boundaries found. Generating coordinates.npy file for /mnt/labserver/DURRIEU_Matthias/Experimental_data/MultiMazeRecorder/Videos/231208_TNT_Fine_3_Videos_Tracked...\n",
      "No boundaries found. Generating coordinates.npy file for /mnt/labserver/DURRIEU_Matthias/Experimental_data/MultiMazeRecorder/Videos/231208_TNT_Fine_3_Videos_Tracked...\n",
      "No boundaries found. Generating coordinates.npy file for /mnt/labserver/DURRIEU_Matthias/Experimental_data/MultiMazeRecorder/Videos/231208_TNT_Fine_3_Videos_Tracked...\n",
      "No boundaries found. Generating coordinates.npy file for /mnt/labserver/DURRIEU_Matthias/Experimental_data/MultiMazeRecorder/Videos/231208_TNT_Fine_3_Videos_Tracked...\n",
      "No boundaries found. Generating coordinates.npy file for /mnt/labserver/DURRIEU_Matthias/Experimental_data/MultiMazeRecorder/Videos/231208_TNT_Fine_3_Videos_Tracked...\n",
      "No boundaries found. Generating coordinates.npy file for /mnt/labserver/DURRIEU_Matthias/Experimental_data/MultiMazeRecorder/Videos/231208_TNT_Fine_3_Videos_Tracked...\n",
      "No boundaries found. Generating coordinates.npy file for /mnt/labserver/DURRIEU_Matthias/Experimental_data/MultiMazeRecorder/Videos/231208_TNT_Fine_3_Videos_Tracked...\n",
      "No boundaries found. Generating coordinates.npy file for /mnt/labserver/DURRIEU_Matthias/Experimental_data/MultiMazeRecorder/Videos/231208_TNT_Fine_3_Videos_Tracked...\n",
      "No boundaries found. Generating coordinates.npy file for /mnt/labserver/DURRIEU_Matthias/Experimental_data/MultiMazeRecorder/Videos/231208_TNT_Fine_3_Videos_Tracked...\n",
      "No boundaries found. Generating coordinates.npy file for /mnt/labserver/DURRIEU_Matthias/Experimental_data/MultiMazeRecorder/Videos/231208_TNT_Fine_3_Videos_Tracked...\n",
      "No boundaries found. Generating coordinates.npy file for /mnt/labserver/DURRIEU_Matthias/Experimental_data/MultiMazeRecorder/Videos/231208_TNT_Fine_3_Videos_Tracked...\n",
      "No boundaries found. Generating coordinates.npy file for /mnt/labserver/DURRIEU_Matthias/Experimental_data/MultiMazeRecorder/Videos/231208_TNT_Fine_3_Videos_Tracked...\n",
      "No boundaries found. Generating coordinates.npy file for /mnt/labserver/DURRIEU_Matthias/Experimental_data/MultiMazeRecorder/Videos/231208_TNT_Fine_3_Videos_Tracked...\n",
      "No boundaries found. Generating coordinates.npy file for /mnt/labserver/DURRIEU_Matthias/Experimental_data/MultiMazeRecorder/Videos/231208_TNT_Fine_3_Videos_Tracked...\n",
      "No boundaries found. Generating coordinates.npy file for /mnt/labserver/DURRIEU_Matthias/Experimental_data/MultiMazeRecorder/Videos/231208_TNT_Fine_3_Videos_Tracked...\n",
      "No boundaries found. Generating coordinates.npy file for /mnt/labserver/DURRIEU_Matthias/Experimental_data/MultiMazeRecorder/Videos/231208_TNT_Fine_3_Videos_Tracked...\n",
      "No boundaries found. Generating coordinates.npy file for /mnt/labserver/DURRIEU_Matthias/Experimental_data/MultiMazeRecorder/Videos/231208_TNT_Fine_3_Videos_Tracked...\n",
      "No boundaries found. Generating coordinates.npy file for /mnt/labserver/DURRIEU_Matthias/Experimental_data/MultiMazeRecorder/Videos/231208_TNT_Fine_3_Videos_Tracked...\n",
      "No boundaries found. Generating coordinates.npy file for /mnt/labserver/DURRIEU_Matthias/Experimental_data/MultiMazeRecorder/Videos/231208_TNT_Fine_3_Videos_Tracked...\n",
      "No boundaries found. Generating coordinates.npy file for /mnt/labserver/DURRIEU_Matthias/Experimental_data/MultiMazeRecorder/Videos/231208_TNT_Fine_3_Videos_Tracked...\n",
      "No boundaries found. Generating coordinates.npy file for /mnt/labserver/DURRIEU_Matthias/Experimental_data/MultiMazeRecorder/Videos/231208_TNT_Fine_3_Videos_Tracked...\n",
      "No boundaries found. Generating coordinates.npy file for /mnt/labserver/DURRIEU_Matthias/Experimental_data/MultiMazeRecorder/Videos/231208_TNT_Fine_3_Videos_Tracked...\n",
      "No boundaries found. Generating coordinates.npy file for /mnt/labserver/DURRIEU_Matthias/Experimental_data/MultiMazeRecorder/Videos/231208_TNT_Fine_3_Videos_Tracked...\n",
      "No boundaries found. Generating coordinates.npy file for /mnt/labserver/DURRIEU_Matthias/Experimental_data/MultiMazeRecorder/Videos/231208_TNT_Fine_3_Videos_Tracked...\n",
      "No boundaries found. Generating coordinates.npy file for /mnt/labserver/DURRIEU_Matthias/Experimental_data/MultiMazeRecorder/Videos/231208_TNT_Fine_3_Videos_Tracked...\n",
      "No boundaries found. Generating coordinates.npy file for /mnt/labserver/DURRIEU_Matthias/Experimental_data/MultiMazeRecorder/Videos/231208_TNT_Fine_3_Videos_Tracked...\n",
      "No boundaries found. Generating coordinates.npy file for /mnt/labserver/DURRIEU_Matthias/Experimental_data/MultiMazeRecorder/Videos/231208_TNT_Fine_3_Videos_Tracked...\n",
      "No boundaries found. Generating coordinates.npy file for /mnt/labserver/DURRIEU_Matthias/Experimental_data/MultiMazeRecorder/Videos/231208_TNT_Fine_3_Videos_Tracked...\n",
      "No boundaries found. Generating coordinates.npy file for /mnt/labserver/DURRIEU_Matthias/Experimental_data/MultiMazeRecorder/Videos/231208_TNT_Fine_3_Videos_Tracked...\n",
      "No boundaries found. Generating coordinates.npy file for /mnt/labserver/DURRIEU_Matthias/Experimental_data/MultiMazeRecorder/Videos/231208_TNT_Fine_3_Videos_Tracked...\n",
      "No boundaries found. Generating coordinates.npy file for /mnt/labserver/DURRIEU_Matthias/Experimental_data/MultiMazeRecorder/Videos/231208_TNT_Fine_3_Videos_Tracked...\n",
      "No boundaries found. Generating coordinates.npy file for /mnt/labserver/DURRIEU_Matthias/Experimental_data/MultiMazeRecorder/Videos/231208_TNT_Fine_3_Videos_Tracked...\n",
      "No boundaries found. Generating coordinates.npy file for /mnt/labserver/DURRIEU_Matthias/Experimental_data/MultiMazeRecorder/Videos/231208_TNT_Fine_3_Videos_Tracked...\n",
      "No boundaries found. Generating coordinates.npy file for /mnt/labserver/DURRIEU_Matthias/Experimental_data/MultiMazeRecorder/Videos/231208_TNT_Fine_3_Videos_Tracked...\n",
      "No boundaries found. Generating coordinates.npy file for /mnt/labserver/DURRIEU_Matthias/Experimental_data/MultiMazeRecorder/Videos/231208_TNT_Fine_3_Videos_Tracked...\n",
      "No boundaries found. Generating coordinates.npy file for /mnt/labserver/DURRIEU_Matthias/Experimental_data/MultiMazeRecorder/Videos/231208_TNT_Fine_3_Videos_Tracked...\n",
      "No boundaries found. Generating coordinates.npy file for /mnt/labserver/DURRIEU_Matthias/Experimental_data/MultiMazeRecorder/Videos/231208_TNT_Fine_3_Videos_Tracked...\n",
      "No boundaries found. Generating coordinates.npy file for /mnt/labserver/DURRIEU_Matthias/Experimental_data/MultiMazeRecorder/Videos/240104_TNT_Fine_1_Videos_Tracked...\n",
      "No boundaries found. Generating coordinates.npy file for /mnt/labserver/DURRIEU_Matthias/Experimental_data/MultiMazeRecorder/Videos/240104_TNT_Fine_1_Videos_Tracked...\n",
      "No boundaries found. Generating coordinates.npy file for /mnt/labserver/DURRIEU_Matthias/Experimental_data/MultiMazeRecorder/Videos/240104_TNT_Fine_1_Videos_Tracked...\n",
      "No boundaries found. Generating coordinates.npy file for /mnt/labserver/DURRIEU_Matthias/Experimental_data/MultiMazeRecorder/Videos/240104_TNT_Fine_1_Videos_Tracked...\n",
      "No boundaries found. Generating coordinates.npy file for /mnt/labserver/DURRIEU_Matthias/Experimental_data/MultiMazeRecorder/Videos/240104_TNT_Fine_1_Videos_Tracked...\n",
      "No boundaries found. Generating coordinates.npy file for /mnt/labserver/DURRIEU_Matthias/Experimental_data/MultiMazeRecorder/Videos/240104_TNT_Fine_1_Videos_Tracked...\n",
      "No boundaries found. Generating coordinates.npy file for /mnt/labserver/DURRIEU_Matthias/Experimental_data/MultiMazeRecorder/Videos/240104_TNT_Fine_1_Videos_Tracked...\n",
      "No boundaries found. Generating coordinates.npy file for /mnt/labserver/DURRIEU_Matthias/Experimental_data/MultiMazeRecorder/Videos/240104_TNT_Fine_1_Videos_Tracked...\n",
      "No boundaries found. Generating coordinates.npy file for /mnt/labserver/DURRIEU_Matthias/Experimental_data/MultiMazeRecorder/Videos/240104_TNT_Fine_1_Videos_Tracked...\n",
      "No boundaries found. Generating coordinates.npy file for /mnt/labserver/DURRIEU_Matthias/Experimental_data/MultiMazeRecorder/Videos/240104_TNT_Fine_1_Videos_Tracked...\n",
      "No boundaries found. Generating coordinates.npy file for /mnt/labserver/DURRIEU_Matthias/Experimental_data/MultiMazeRecorder/Videos/240104_TNT_Fine_1_Videos_Tracked...\n",
      "No boundaries found. Generating coordinates.npy file for /mnt/labserver/DURRIEU_Matthias/Experimental_data/MultiMazeRecorder/Videos/240104_TNT_Fine_1_Videos_Tracked...\n",
      "No boundaries found. Generating coordinates.npy file for /mnt/labserver/DURRIEU_Matthias/Experimental_data/MultiMazeRecorder/Videos/240104_TNT_Fine_1_Videos_Tracked...\n",
      "No boundaries found. Generating coordinates.npy file for /mnt/labserver/DURRIEU_Matthias/Experimental_data/MultiMazeRecorder/Videos/240104_TNT_Fine_1_Videos_Tracked...\n",
      "No boundaries found. Generating coordinates.npy file for /mnt/labserver/DURRIEU_Matthias/Experimental_data/MultiMazeRecorder/Videos/240104_TNT_Fine_1_Videos_Tracked...\n",
      "No boundaries found. Generating coordinates.npy file for /mnt/labserver/DURRIEU_Matthias/Experimental_data/MultiMazeRecorder/Videos/240104_TNT_Fine_1_Videos_Tracked...\n",
      "No boundaries found. Generating coordinates.npy file for /mnt/labserver/DURRIEU_Matthias/Experimental_data/MultiMazeRecorder/Videos/240104_TNT_Fine_1_Videos_Tracked...\n",
      "No boundaries found. Generating coordinates.npy file for /mnt/labserver/DURRIEU_Matthias/Experimental_data/MultiMazeRecorder/Videos/240104_TNT_Fine_1_Videos_Tracked...\n",
      "No boundaries found. Generating coordinates.npy file for /mnt/labserver/DURRIEU_Matthias/Experimental_data/MultiMazeRecorder/Videos/240104_TNT_Fine_1_Videos_Tracked...\n",
      "No boundaries found. Generating coordinates.npy file for /mnt/labserver/DURRIEU_Matthias/Experimental_data/MultiMazeRecorder/Videos/240104_TNT_Fine_1_Videos_Tracked...\n",
      "No boundaries found. Generating coordinates.npy file for /mnt/labserver/DURRIEU_Matthias/Experimental_data/MultiMazeRecorder/Videos/240104_TNT_Fine_1_Videos_Tracked...\n",
      "No boundaries found. Generating coordinates.npy file for /mnt/labserver/DURRIEU_Matthias/Experimental_data/MultiMazeRecorder/Videos/240104_TNT_Fine_1_Videos_Tracked...\n",
      "No boundaries found. Generating coordinates.npy file for /mnt/labserver/DURRIEU_Matthias/Experimental_data/MultiMazeRecorder/Videos/240104_TNT_Fine_1_Videos_Tracked...\n",
      "No boundaries found. Generating coordinates.npy file for /mnt/labserver/DURRIEU_Matthias/Experimental_data/MultiMazeRecorder/Videos/240104_TNT_Fine_1_Videos_Tracked...\n",
      "No boundaries found. Generating coordinates.npy file for /mnt/labserver/DURRIEU_Matthias/Experimental_data/MultiMazeRecorder/Videos/240104_TNT_Fine_1_Videos_Tracked...\n",
      "No boundaries found. Generating coordinates.npy file for /mnt/labserver/DURRIEU_Matthias/Experimental_data/MultiMazeRecorder/Videos/240104_TNT_Fine_1_Videos_Tracked...\n",
      "No boundaries found. Generating coordinates.npy file for /mnt/labserver/DURRIEU_Matthias/Experimental_data/MultiMazeRecorder/Videos/240104_TNT_Fine_1_Videos_Tracked...\n",
      "No boundaries found. Generating coordinates.npy file for /mnt/labserver/DURRIEU_Matthias/Experimental_data/MultiMazeRecorder/Videos/240104_TNT_Fine_1_Videos_Tracked...\n",
      "No boundaries found. Generating coordinates.npy file for /mnt/labserver/DURRIEU_Matthias/Experimental_data/MultiMazeRecorder/Videos/240104_TNT_Fine_1_Videos_Tracked...\n",
      "No boundaries found. Generating coordinates.npy file for /mnt/labserver/DURRIEU_Matthias/Experimental_data/MultiMazeRecorder/Videos/240104_TNT_Fine_1_Videos_Tracked...\n",
      "No boundaries found. Generating coordinates.npy file for /mnt/labserver/DURRIEU_Matthias/Experimental_data/MultiMazeRecorder/Videos/240104_TNT_Fine_1_Videos_Tracked...\n",
      "No boundaries found. Generating coordinates.npy file for /mnt/labserver/DURRIEU_Matthias/Experimental_data/MultiMazeRecorder/Videos/240104_TNT_Fine_1_Videos_Tracked...\n",
      "No boundaries found. Generating coordinates.npy file for /mnt/labserver/DURRIEU_Matthias/Experimental_data/MultiMazeRecorder/Videos/240104_TNT_Fine_1_Videos_Tracked...\n",
      "No boundaries found. Generating coordinates.npy file for /mnt/labserver/DURRIEU_Matthias/Experimental_data/MultiMazeRecorder/Videos/240104_TNT_Fine_1_Videos_Tracked...\n",
      "No boundaries found. Generating coordinates.npy file for /mnt/labserver/DURRIEU_Matthias/Experimental_data/MultiMazeRecorder/Videos/240104_TNT_Fine_1_Videos_Tracked...\n",
      "No boundaries found. Generating coordinates.npy file for /mnt/labserver/DURRIEU_Matthias/Experimental_data/MultiMazeRecorder/Videos/240104_TNT_Fine_1_Videos_Tracked...\n",
      "No boundaries found. Generating coordinates.npy file for /mnt/labserver/DURRIEU_Matthias/Experimental_data/MultiMazeRecorder/Videos/240104_TNT_Fine_1_Videos_Tracked...\n",
      "No boundaries found. Generating coordinates.npy file for /mnt/labserver/DURRIEU_Matthias/Experimental_data/MultiMazeRecorder/Videos/240104_TNT_Fine_1_Videos_Tracked...\n",
      "No boundaries found. Generating coordinates.npy file for /mnt/labserver/DURRIEU_Matthias/Experimental_data/MultiMazeRecorder/Videos/240104_TNT_Fine_1_Videos_Tracked...\n",
      "No boundaries found. Generating coordinates.npy file for /mnt/labserver/DURRIEU_Matthias/Experimental_data/MultiMazeRecorder/Videos/240104_TNT_Fine_1_Videos_Tracked...\n",
      "No boundaries found. Generating coordinates.npy file for /mnt/labserver/DURRIEU_Matthias/Experimental_data/MultiMazeRecorder/Videos/240104_TNT_Fine_1_Videos_Tracked...\n",
      "No boundaries found. Generating coordinates.npy file for /mnt/labserver/DURRIEU_Matthias/Experimental_data/MultiMazeRecorder/Videos/240104_TNT_Fine_1_Videos_Tracked...\n",
      "No boundaries found. Generating coordinates.npy file for /mnt/labserver/DURRIEU_Matthias/Experimental_data/MultiMazeRecorder/Videos/240104_TNT_Fine_1_Videos_Tracked...\n",
      "No boundaries found. Generating coordinates.npy file for /mnt/labserver/DURRIEU_Matthias/Experimental_data/MultiMazeRecorder/Videos/240104_TNT_Fine_1_Videos_Tracked...\n",
      "No boundaries found. Generating coordinates.npy file for /mnt/labserver/DURRIEU_Matthias/Experimental_data/MultiMazeRecorder/Videos/240104_TNT_Fine_1_Videos_Tracked...\n",
      "No boundaries found. Generating coordinates.npy file for /mnt/labserver/DURRIEU_Matthias/Experimental_data/MultiMazeRecorder/Videos/240104_TNT_Fine_1_Videos_Tracked...\n",
      "No boundaries found. Generating coordinates.npy file for /mnt/labserver/DURRIEU_Matthias/Experimental_data/MultiMazeRecorder/Videos/240104_TNT_Fine_1_Videos_Tracked...\n",
      "No boundaries found. Generating coordinates.npy file for /mnt/labserver/DURRIEU_Matthias/Experimental_data/MultiMazeRecorder/Videos/240104_TNT_Fine_1_Videos_Tracked...\n",
      "No boundaries found. Generating coordinates.npy file for /mnt/labserver/DURRIEU_Matthias/Experimental_data/MultiMazeRecorder/Videos/240104_TNT_Fine_1_Videos_Tracked...\n",
      "No boundaries found. Generating coordinates.npy file for /mnt/labserver/DURRIEU_Matthias/Experimental_data/MultiMazeRecorder/Videos/240104_TNT_Fine_1_Videos_Tracked...\n",
      "No boundaries found. Generating coordinates.npy file for /mnt/labserver/DURRIEU_Matthias/Experimental_data/MultiMazeRecorder/Videos/240104_TNT_Fine_1_Videos_Tracked...\n",
      "No boundaries found. Generating coordinates.npy file for /mnt/labserver/DURRIEU_Matthias/Experimental_data/MultiMazeRecorder/Videos/240104_TNT_Fine_1_Videos_Tracked...\n",
      "No boundaries found. Generating coordinates.npy file for /mnt/labserver/DURRIEU_Matthias/Experimental_data/MultiMazeRecorder/Videos/240104_TNT_Fine_1_Videos_Tracked...\n",
      "No boundaries found. Generating coordinates.npy file for /mnt/labserver/DURRIEU_Matthias/Experimental_data/MultiMazeRecorder/Videos/240104_TNT_Fine_1_Videos_Tracked...\n"
     ]
    }
   ],
   "source": [
    "Folders = get_folders(get_data_path(), [\"TNT\", \"Fine\"])\n",
    "\n",
    "Exps = [Experiment(f) for f in Folders]"
   ]
  },
  {
   "cell_type": "code",
   "execution_count": 8,
   "metadata": {},
   "outputs": [
    {
     "name": "stdout",
     "output_type": "stream",
     "text": [
      "Unexpected exception formatting exception. Falling back to standard exception\n"
     ]
    },
    {
     "name": "stderr",
     "output_type": "stream",
     "text": [
      "Traceback (most recent call last):\n",
      "  File \"/home/durrieu/miniconda3/envs/Main/lib/python3.10/site-packages/IPython/core/interactiveshell.py\", line 3442, in run_code\n",
      "    exec(code_obj, self.user_global_ns, self.user_ns)\n",
      "  File \"/tmp/ipykernel_2878191/3302744634.py\", line 1, in <module>\n",
      "    Data = Dataset(Exps)\n",
      "  File \"/home/durrieu/Tracking_Analysis/Utilities/Ballpushing_utils.py\", line 1292, in __init__\n",
      "TypeError: Invalid source format: source must be a (list of) Experiment objects or a list of Fly objects\n",
      "\n",
      "During handling of the above exception, another exception occurred:\n",
      "\n",
      "Traceback (most recent call last):\n",
      "  File \"/home/durrieu/miniconda3/envs/Main/lib/python3.10/site-packages/IPython/core/interactiveshell.py\", line 2057, in showtraceback\n",
      "    stb = self.InteractiveTB.structured_traceback(\n",
      "  File \"/home/durrieu/miniconda3/envs/Main/lib/python3.10/site-packages/IPython/core/ultratb.py\", line 1118, in structured_traceback\n",
      "    return FormattedTB.structured_traceback(\n",
      "  File \"/home/durrieu/miniconda3/envs/Main/lib/python3.10/site-packages/IPython/core/ultratb.py\", line 1012, in structured_traceback\n",
      "    return VerboseTB.structured_traceback(\n",
      "  File \"/home/durrieu/miniconda3/envs/Main/lib/python3.10/site-packages/IPython/core/ultratb.py\", line 865, in structured_traceback\n",
      "    formatted_exception = self.format_exception_as_a_whole(etype, evalue, etb, number_of_lines_of_context,\n",
      "  File \"/home/durrieu/miniconda3/envs/Main/lib/python3.10/site-packages/IPython/core/ultratb.py\", line 818, in format_exception_as_a_whole\n",
      "    frames.append(self.format_record(r))\n",
      "  File \"/home/durrieu/miniconda3/envs/Main/lib/python3.10/site-packages/IPython/core/ultratb.py\", line 736, in format_record\n",
      "    result += ''.join(_format_traceback_lines(frame_info.lines, Colors, self.has_colors, lvals))\n",
      "  File \"/home/durrieu/miniconda3/envs/Main/lib/python3.10/site-packages/stack_data/utils.py\", line 144, in cached_property_wrapper\n",
      "    value = obj.__dict__[self.func.__name__] = self.func(obj)\n",
      "  File \"/home/durrieu/miniconda3/envs/Main/lib/python3.10/site-packages/stack_data/core.py\", line 734, in lines\n",
      "    pieces = self.included_pieces\n",
      "  File \"/home/durrieu/miniconda3/envs/Main/lib/python3.10/site-packages/stack_data/utils.py\", line 144, in cached_property_wrapper\n",
      "    value = obj.__dict__[self.func.__name__] = self.func(obj)\n",
      "  File \"/home/durrieu/miniconda3/envs/Main/lib/python3.10/site-packages/stack_data/core.py\", line 681, in included_pieces\n",
      "    pos = scope_pieces.index(self.executing_piece)\n",
      "  File \"/home/durrieu/miniconda3/envs/Main/lib/python3.10/site-packages/stack_data/utils.py\", line 144, in cached_property_wrapper\n",
      "    value = obj.__dict__[self.func.__name__] = self.func(obj)\n",
      "  File \"/home/durrieu/miniconda3/envs/Main/lib/python3.10/site-packages/stack_data/core.py\", line 660, in executing_piece\n",
      "    return only(\n",
      "  File \"/home/durrieu/miniconda3/envs/Main/lib/python3.10/site-packages/executing/executing.py\", line 190, in only\n",
      "    raise NotOneValueFound('Expected one value, found 0')\n",
      "executing.executing.NotOneValueFound: Expected one value, found 0\n"
     ]
    }
   ],
   "source": [
    "Data = Dataset(Exps)\n",
    "\n",
    "print(Data)"
   ]
  },
  {
   "cell_type": "code",
   "execution_count": null,
   "metadata": {},
   "outputs": [],
   "source": []
  }
 ],
 "metadata": {
  "kernelspec": {
   "display_name": "Main",
   "language": "python",
   "name": "python3"
  },
  "language_info": {
   "codemirror_mode": {
    "name": "ipython",
    "version": 3
   },
   "file_extension": ".py",
   "mimetype": "text/x-python",
   "name": "python",
   "nbconvert_exporter": "python",
   "pygments_lexer": "ipython3",
   "version": "3.10.9"
  }
 },
 "nbformat": 4,
 "nbformat_minor": 2
}
