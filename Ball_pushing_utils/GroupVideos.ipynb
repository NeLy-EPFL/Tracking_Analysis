{
 "cells": [
  {
   "cell_type": "code",
   "execution_count": null,
   "metadata": {},
   "outputs": [],
   "source": [
    "import sys\n",
    "import os\n",
    "\n",
    "from pathlib import Path\n",
    "\n",
    "import utils_behavior\n",
    "\n",
    "import pandas as pd\n",
    "import hvplot.pandas\n",
    "import numpy as np\n",
    "\n",
    "import shutil\n",
    "\n",
    "from scipy import stats\n",
    "#from statsmodels.stats.multitest import multipletests\n",
    "\n",
    "\n",
    "import importlib\n",
    "\n",
    "import holoviews as hv\n",
    "\n",
    "hv.extension(\"bokeh\")"
   ]
  },
  {
   "cell_type": "code",
   "execution_count": null,
   "metadata": {},
   "outputs": [],
   "source": [
    "Datapath = utils_behavior.Utils.get_data_path()\n",
    "\n",
    "# load experiments\n",
    "\n",
    "Folders = [\n",
    "    f\n",
    "    for f in os.listdir(Datapath)\n",
    "    if \"MagnetBlock\" in f and \"Checked\" in f and os.path.isdir(Datapath / f)\n",
    "]\n",
    "\n",
    "Folders"
   ]
  },
  {
   "cell_type": "code",
   "execution_count": null,
   "metadata": {},
   "outputs": [],
   "source": [
    "Experiments = [utils_behavior.Ballpushing_utils.Experiment(Datapath / f) for f in Folders]"
   ]
  },
  {
   "cell_type": "code",
   "execution_count": null,
   "metadata": {},
   "outputs": [],
   "source": [
    "TestFly = Experiments[0].flies"
   ]
  },
  {
   "cell_type": "code",
   "execution_count": null,
   "metadata": {},
   "outputs": [],
   "source": [
    "TestFly.name"
   ]
  },
  {
   "cell_type": "code",
   "execution_count": null,
   "metadata": {},
   "outputs": [],
   "source": [
    "# For each fly, we want to copy the video file to a new folder based on the fly arena_metadata[Magnet] value\n",
    "\n",
    "VidPath = utils_behavior.Utils.get_labserver() / \"Videos/MagnetBlock\"\n",
    "\n",
    "for Exp in Experiments:\n",
    "\n",
    "    for Fly in Exp.flies:\n",
    "        print(Fly.arena_metadata[\"Magnet\"])\n",
    "        # Create a new folder for the Magnet value if it does not exist using mkdir\n",
    "        if Fly.arena_metadata[\"Magnet\"] == \"y\":\n",
    "            NewFolder = VidPath / \"Magnet\"\n",
    "        else:\n",
    "            NewFolder = VidPath / \"NoMagnet\"\n",
    "\n",
    "        NewFolder.mkdir(exist_ok=True)\n",
    "\n",
    "        # Copy the video file to the new folder\n",
    "        print(f\"copying {Fly.video} to {NewFolder}\")\n",
    "        VidFile = Fly.video\n",
    "        NewFile = NewFolder / Fly.name\n",
    "        shutil.copy(VidFile, NewFile)"
   ]
  },
  {
   "cell_type": "code",
   "execution_count": null,
   "metadata": {},
   "outputs": [],
   "source": [
    "from pathlib import Path\n",
    "\n",
    "# Define the directories where the files are located\n",
    "directories = [\n",
    "    Path(\"/mnt/labserver/DURRIEU_Matthias/Videos/MagnetBlock/NoMagnet\"),\n",
    "    Path(\"/mnt/labserver/DURRIEU_Matthias/Videos/MagnetBlock/Magnet\"),\n",
    "]\n",
    "i=0\n",
    "# For each directory\n",
    "for directory in directories:\n",
    "    # For each file in the directory\n",
    "    for file in directory.iterdir():\n",
    "        # If the file does not have the .mp4 extension\n",
    "        if file.suffix != \".mp4\":\n",
    "            # Rename the file to include the .mp4 extension\n",
    "            file.rename(file.with_suffix(\".mp4\"))\n",
    "        # If the file already has the .mp4 extension\n",
    "        else:\n",
    "            # Split the filename at the extension\n",
    "            name, ext = file.stem, file.suffix\n",
    "            \n",
    "            i += 1\n",
    "            # Append the desired string to the filename\n",
    "            new_name = f\"{name}_fly{i}{ext}\"\n",
    "            # Rename the file\n",
    "            file.rename(directory / new_name)"
   ]
  },
  {
   "cell_type": "code",
   "execution_count": null,
   "metadata": {},
   "outputs": [],
   "source": []
  }
 ],
 "metadata": {
  "kernelspec": {
   "display_name": "Main",
   "language": "python",
   "name": "python3"
  },
  "language_info": {
   "codemirror_mode": {
    "name": "ipython",
    "version": 3
   },
   "file_extension": ".py",
   "mimetype": "text/x-python",
   "name": "python",
   "nbconvert_exporter": "python",
   "pygments_lexer": "ipython3",
   "version": "3.11.5"
  }
 },
 "nbformat": 4,
 "nbformat_minor": 2
}
