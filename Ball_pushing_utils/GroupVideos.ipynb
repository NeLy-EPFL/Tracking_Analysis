{
 "cells": [
  {
   "cell_type": "code",
   "execution_count": null,
   "metadata": {},
   "outputs": [],
   "source": [
    "import sys\n",
    "import os\n",
    "\n",
    "from pathlib import Path\n",
    "\n",
    "import utils_behavior\n",
    "\n",
    "import pandas as pd\n",
    "import hvplot.pandas\n",
    "import numpy as np\n",
    "\n",
    "import shutil\n",
    "\n",
    "from scipy import stats\n",
    "#from statsmodels.stats.multitest import multipletests\n",
    "\n",
    "\n",
    "import importlib\n",
    "\n",
    "import holoviews as hv\n",
    "\n",
    "hv.extension(\"bokeh\")"
   ]
  },
  {
   "cell_type": "code",
   "execution_count": null,
   "metadata": {},
   "outputs": [],
   "source": [
    "Datapath = utils_behavior.Utils.get_data_path()\n",
    "\n",
    "# load experiments\n",
    "\n",
    "Folders = [\n",
    "    f\n",
    "    for f in os.listdir(Datapath)\n",
    "    if \"Demo\" in f and \"Tracked\" in f and os.path.isdir(Datapath / f)\n",
    "]\n",
    "\n",
    "Folders"
   ]
  },
  {
   "cell_type": "code",
   "execution_count": null,
   "metadata": {},
   "outputs": [],
   "source": [
    "Experiments = [utils_behavior.Ballpushing_utils.Experiment(Datapath / f) for f in Folders]"
   ]
  },
  {
   "cell_type": "code",
   "execution_count": null,
   "metadata": {},
   "outputs": [],
   "source": [
    "Exp = Experiments[0]\n",
    "\n",
    "Exp.directory"
   ]
  },
  {
   "cell_type": "code",
   "execution_count": null,
   "metadata": {},
   "outputs": [],
   "source": [
    "Fly = Exp.flies[0]\n",
    "\n",
    "Fly.arena"
   ]
  },
  {
   "cell_type": "code",
   "execution_count": null,
   "metadata": {},
   "outputs": [],
   "source": [
    "# Define the directories where the files are located\n",
    "VidPath = utils_behavior.Utils.get_labserver() / \"Videos/Demo\"\n",
    "i = 0\n",
    "\n",
    "for Exp in Experiments:\n",
    "    for Fly in Exp.flies:\n",
    "        print(Fly.arena_metadata[\"Demo\"])\n",
    "        # Create a new folder for the Magnet value if it does not exist using mkdir\n",
    "        if Fly.arena_metadata[\"Demo\"] == \"y\":\n",
    "            NewFolder = VidPath / \"Demo\"\n",
    "        else:\n",
    "            NewFolder = VidPath / \"NoDemo\"\n",
    "\n",
    "        NewFolder.mkdir(exist_ok=True)\n",
    "\n",
    "        # Copy the video file to the new folder\n",
    "        print(f\"copying {Fly.video} to {NewFolder}\")\n",
    "        VidFile = Path(Fly.video)\n",
    "        NewFile = (\n",
    "            NewFolder\n",
    "            / f\"{Fly.arena_metadata['Date']}_{Fly.arena}_{VidFile.stem}_fly{i+1}{VidFile.suffix if VidFile.suffix else '.mp4'}\"\n",
    "        )\n",
    "        shutil.copy(VidFile, NewFile)\n",
    "        i += 1"
   ]
  },
  {
   "cell_type": "code",
   "execution_count": null,
   "metadata": {},
   "outputs": [],
   "source": []
  }
 ],
 "metadata": {
  "kernelspec": {
   "display_name": "Main",
   "language": "python",
   "name": "python3"
  },
  "language_info": {
   "codemirror_mode": {
    "name": "ipython",
    "version": 3
   },
   "file_extension": ".py",
   "mimetype": "text/x-python",
   "name": "python",
   "nbconvert_exporter": "python",
   "pygments_lexer": "ipython3",
   "version": "3.10.13"
  }
 },
 "nbformat": 4,
 "nbformat_minor": 2
}
