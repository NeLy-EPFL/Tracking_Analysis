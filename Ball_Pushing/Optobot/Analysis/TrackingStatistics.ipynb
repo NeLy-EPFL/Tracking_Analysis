{
 "cells": [
  {
   "attachments": {},
   "cell_type": "markdown",
   "metadata": {},
   "source": [
    "This notebook is meant to explore tracking data statistics across flies. The first element in there is about generating a 'pooled' dataset where all the dataframes are concatenated in one while keeping track of flies identity and conditions."
   ]
  },
  {
   "attachments": {},
   "cell_type": "markdown",
   "metadata": {},
   "source": [
    "# Libraries import"
   ]
  },
  {
   "cell_type": "code",
   "execution_count": null,
   "metadata": {},
   "outputs": [],
   "source": [
    "import sys\n",
    "from pathlib import Path\n",
    "import matplotlib as mpl\n",
    "\n",
    "mpl.rcParams[\"figure.figsize\"] = (\n",
    "    10,\n",
    "    10,\n",
    ")  # Change figure size including in the jupyter outputs.\n",
    "import matplotlib.pyplot as plt\n",
    "import pandas as pd\n",
    "import numpy as np\n",
    "import mpmath\n",
    "import cv2\n",
    "\n",
    "sys.modules[\"sympy.mpmath\"] = mpmath\n",
    "from scipy import signal\n",
    "import datetime\n",
    "import dateutil\n",
    "import bokeh.io\n",
    "import holoviews as hv\n",
    "from holoviews import opts\n",
    "\n",
    "hv.extension(\n",
    "    \"bokeh\",\n",
    "    \"matplotlib\",\n",
    ")\n",
    "bokeh.io.output_notebook()\n",
    "\n",
    "import panel as pn\n",
    "\n",
    "\n",
    "sys.path.insert(0, \"..\")\n",
    "sys.path.insert(0, \"../../..\")\n",
    "\n",
    "\n",
    "from Utilities.Utils import *\n",
    "from Utilities.Processing import *\n",
    "\n",
    "import black\n",
    "import jupyter_black\n",
    "\n",
    "jupyter_black.load()"
   ]
  },
  {
   "attachments": {},
   "cell_type": "markdown",
   "metadata": {},
   "source": [
    "# Path and data import"
   ]
  },
  {
   "attachments": {},
   "cell_type": "markdown",
   "metadata": {},
   "source": [
    "Mac Paths"
   ]
  },
  {
   "cell_type": "code",
   "execution_count": null,
   "metadata": {},
   "outputs": [],
   "source": [
    "DataPath = [\n",
    "    Path(\n",
    "        \"/Volumes/Ramdya-Lab/DURRIEU_Matthias/Experimental_data/Optogenetics/Optobot/MultiMaze_15stepped_gated_bowtie\"\n",
    "    ),\n",
    "    Path(\n",
    "        \"/Volumes/Ramdya-Lab/DURRIEU_Matthias/Experimental_data/Optogenetics/Optobot/MultiMaze_15stepped_gated_bowtie_noFood\"\n",
    "    ),\n",
    "    Path(\n",
    "        \"/Volumes/Ramdya-Lab/DURRIEU_Matthias/Experimental_data/Optogenetics/Optobot/MultiMaze_15stepped_gated_bar_noFood\"\n",
    "    ),\n",
    "    Path(\n",
    "        \"/Volumes/Ramdya-Lab/DURRIEU_Matthias/Experimental_data/Optogenetics/Optobot/MultiMaze_15stepped_gated_bar\"\n",
    "    ),\n",
    "]"
   ]
  },
  {
   "attachments": {},
   "cell_type": "markdown",
   "metadata": {},
   "source": [
    "Workstation paths"
   ]
  },
  {
   "cell_type": "code",
   "execution_count": null,
   "metadata": {},
   "outputs": [],
   "source": [
    "DataPath = [\n",
    "    Path(\n",
    "        \"/mnt/labserver/DURRIEU_Matthias/Experimental_data/Optogenetics/Optobot/MultiMaze_15stepped_gated_bowtie\"\n",
    "    ),\n",
    "    Path(\n",
    "        \"/mnt/labserver/DURRIEU_Matthias/Experimental_data/Optogenetics/Optobot/MultiMaze_15stepped_gated_bowtie_noFood\"\n",
    "    ),\n",
    "    Path(\n",
    "        \"/mnt/labserver/DURRIEU_Matthias/Experimental_data/Optogenetics/Optobot/MultiMaze_15stepped_gated_bar_noFood\"\n",
    "    ),\n",
    "    Path(\n",
    "        \"/mnt/labserver/DURRIEU_Matthias/Experimental_data/Optogenetics/Optobot/MultiMaze_15stepped_gated_bar\"\n",
    "    ),\n",
    "]"
   ]
  },
  {
   "cell_type": "code",
   "execution_count": null,
   "metadata": {},
   "outputs": [],
   "source": [
    "# for each dataset, load the data and append it to the pooled dataframe\n",
    "pooled = pd.DataFrame()\n",
    "count = 0\n",
    "for paths in DataPath:\n",
    "    datasets = list(paths.glob(\"**/BallPositions_processed.feather\"))\n",
    "    for dataset in datasets:\n",
    "        print(dataset)\n",
    "        df = pd.read_feather(dataset)\n",
    "        # add a column with the dataset name\n",
    "        # add lines with NaNs where indices are missing\n",
    "        df = df.set_index(\"index\").reindex(range(1, df[\"index\"].max() + 1))\n",
    "        df.reset_index()\n",
    "        count += 1\n",
    "        df[\"fly\"] = f\"Fly {count}\"\n",
    "        # check if the dataframe path contains \"noFood\"\n",
    "        if \"noFood\" in str(dataset):\n",
    "            df[\"food\"] = \"noFood\"\n",
    "        else:\n",
    "            df[\"food\"] = \"Food\"\n",
    "\n",
    "        # append the dataframe to the pooled dataframe\n",
    "        pooled = pd.concat([pooled, df])"
   ]
  },
  {
   "attachments": {},
   "cell_type": "markdown",
   "metadata": {},
   "source": [
    "# Compute average value for ysmooth grouped by trial and fly"
   ]
  },
  {
   "cell_type": "code",
   "execution_count": null,
   "metadata": {},
   "outputs": [],
   "source": [
    "# Get average ysmooth over time grouped by trial and fly\n",
    "\n",
    "Group = pooled.groupby([\"food\", \"TrialNumber\", \"Time\"])"
   ]
  },
  {
   "cell_type": "code",
   "execution_count": null,
   "metadata": {},
   "outputs": [],
   "source": [
    "Group_avg = Group.mean()\n",
    "Group_med = Group.median()"
   ]
  },
  {
   "cell_type": "code",
   "execution_count": null,
   "metadata": {},
   "outputs": [],
   "source": [
    "Curves = (\n",
    "    hv.Curve(\n",
    "        data=Group_avg,\n",
    "        kdims=[\"Time\"],\n",
    "        vdims=[\n",
    "            \"ysmooth\",\n",
    "            \"TrialNumber\",\n",
    "            \"food\",\n",
    "        ],\n",
    "    )\n",
    "    .groupby([\"food\", \"TrialNumber\"])\n",
    "    .opts(\n",
    "        height=1000,\n",
    "        width=1000,\n",
    "        invert_yaxis=True,\n",
    "        color=hv.Palette(\"Viridis\"),\n",
    "        tools=[\n",
    "            \"hover\",\n",
    "            \"crosshair\",\n",
    "        ],\n",
    "        muted=True,\n",
    "    )\n",
    "    .overlay(\"TrialNumber\")\n",
    ")\n",
    "Curves"
   ]
  },
  {
   "attachments": {},
   "cell_type": "markdown",
   "metadata": {},
   "source": [
    "## Plot average value for ysmooth grouped by trial and fly, with a panel with and without food"
   ]
  },
  {
   "cell_type": "code",
   "execution_count": null,
   "metadata": {},
   "outputs": [],
   "source": [
    "Curves = (\n",
    "    hv.Curve(\n",
    "        data=Group_avg,\n",
    "        kdims=[\"Time\"],\n",
    "        vdims=[\n",
    "            \"ysmooth\",\n",
    "            \"TrialNumber\",\n",
    "            \"food\",\n",
    "        ],\n",
    "    )\n",
    "    .groupby([\"food\", \"TrialNumber\"])\n",
    "    .opts(\n",
    "        height=1000,\n",
    "        width=1000,\n",
    "        invert_yaxis=True,\n",
    "        color=hv.Palette(\"Viridis\"),\n",
    "        tools=[\n",
    "            \"hover\",\n",
    "            \"crosshair\",\n",
    "        ],\n",
    "        muted=True,\n",
    "    )\n",
    "    .overlay(\"TrialNumber\")\n",
    ")\n",
    "Curves"
   ]
  },
  {
   "attachments": {},
   "cell_type": "markdown",
   "metadata": {},
   "source": [
    "## Plot with median instead to get estimates less impacted by outliers"
   ]
  },
  {
   "cell_type": "code",
   "execution_count": null,
   "metadata": {},
   "outputs": [],
   "source": [
    "Curves = (\n",
    "    hv.Curve(\n",
    "        data=Group_med,\n",
    "        kdims=[\"Time\"],\n",
    "        vdims=[\n",
    "            \"ysmooth\",\n",
    "            \"TrialNumber\",\n",
    "            \"food\",\n",
    "        ],\n",
    "    )\n",
    "    .groupby([\"food\", \"TrialNumber\"])\n",
    "    .opts(\n",
    "        height=1000,\n",
    "        width=1000,\n",
    "        invert_yaxis=True,\n",
    "        color=hv.Palette(\"Viridis\"),\n",
    "        tools=[\n",
    "            \"hover\",\n",
    "            \"crosshair\",\n",
    "        ],\n",
    "        muted=True,\n",
    "    )\n",
    "    .overlay(\"TrialNumber\")\n",
    ")\n",
    "Curves"
   ]
  },
  {
   "attachments": {},
   "cell_type": "markdown",
   "metadata": {},
   "source": [
    "## Pooled plots"
   ]
  },
  {
   "cell_type": "code",
   "execution_count": null,
   "metadata": {},
   "outputs": [],
   "source": [
    "Group = pooled.groupby([\"TrialNumber\", \"Time\"])\n",
    "Group_avg = Group.mean()\n",
    "Group_med = Group.median()"
   ]
  },
  {
   "cell_type": "code",
   "execution_count": null,
   "metadata": {},
   "outputs": [],
   "source": [
    "Curves = (\n",
    "    hv.Curve(\n",
    "        data=Group_avg,\n",
    "        kdims=[\"Time\"],\n",
    "        vdims=[\n",
    "            \"ysmooth\",\n",
    "            \"TrialNumber\",\n",
    "        ],\n",
    "    )\n",
    "    .groupby([\"TrialNumber\"])\n",
    "    .opts(\n",
    "        height=1000,\n",
    "        width=1000,\n",
    "        invert_yaxis=True,\n",
    "        color=hv.Palette(\"Viridis\"),\n",
    "        tools=[\n",
    "            \"hover\",\n",
    "            \"crosshair\",\n",
    "        ],\n",
    "        muted=True,\n",
    "    )\n",
    "    .overlay()\n",
    ")\n",
    "Curves"
   ]
  },
  {
   "cell_type": "code",
   "execution_count": null,
   "metadata": {},
   "outputs": [],
   "source": [
    "hv.save(Curves, \"/Users/ulric/Downloads/Average_Pooled.html\")"
   ]
  },
  {
   "attachments": {},
   "cell_type": "markdown",
   "metadata": {},
   "source": [
    "# Plot average trial duration grouped by trial and fly"
   ]
  },
  {
   "cell_type": "code",
   "execution_count": null,
   "metadata": {},
   "outputs": [],
   "source": [
    "Trialdurations = pooled.groupby([\"fly\", \"TrialNumber\"]).apply(lambda x: x[\"Time\"].max())"
   ]
  },
  {
   "cell_type": "code",
   "execution_count": null,
   "metadata": {},
   "outputs": [],
   "source": [
    "# convert Trialdurations to a dataframe and reset index to get fly and TrialNumber as columns\n",
    "Trialdurations = pd.DataFrame(Trialdurations).reset_index()\n",
    "# rename column 0 to \"duration\"\n",
    "Trialdurations.rename(columns={0: \"duration\"}, inplace=True)\n",
    "\n",
    "Trialdurations"
   ]
  },
  {
   "cell_type": "code",
   "execution_count": null,
   "metadata": {},
   "outputs": [],
   "source": [
    "# Add column with converted durations in seconds\n",
    "Trialdurations[\"duration_s\"] = frame2time(\n",
    "    Trialdurations[\"duration\"], reverse=False, fps=80\n",
    ")"
   ]
  },
  {
   "cell_type": "code",
   "execution_count": null,
   "metadata": {},
   "outputs": [],
   "source": [
    "# compute average duration grouped by TrialNumber\n",
    "Grouped_avg = Trialdurations.groupby(\"TrialNumber\").mean()"
   ]
  },
  {
   "cell_type": "code",
   "execution_count": null,
   "metadata": {},
   "outputs": [],
   "source": [
    "box = hv.BoxWhisker(data=Trialdurations, kdims=\"TrialNumber\", vdims=\"duration_s\").opts(\n",
    "    height=500,\n",
    "    width=500,\n",
    "    framewise=True,\n",
    "    cmap=\"Viridis\",\n",
    "    xlabel=\"Trial\",\n",
    "    ylabel=\"Duration (sec)\",\n",
    "    # ylim=(0, 40),\n",
    "    # box_color=\"TrialNumber\",\n",
    "    box_fill_alpha=0,\n",
    "    # invert_axes=True,\n",
    "    # invert_yaxis=True,\n",
    "    # box_line_color=\"gray\",\n",
    ")\n",
    "\n",
    "points = hv.Scatter(data=Trialdurations, kdims=\"TrialNumber\", vdims=\"duration_s\").opts(\n",
    "    framewise=True,\n",
    "    cmap=\"Viridis\",\n",
    "    # invert_axes=True,\n",
    "    # invert_yaxis=True,\n",
    "    # ylim=(0, 40),\n",
    "    color=\"TrialNumber\",\n",
    "    jitter=0.4,\n",
    ")\n",
    "\n",
    "\n",
    "box * points"
   ]
  },
  {
   "attachments": {},
   "cell_type": "markdown",
   "metadata": {},
   "source": [
    "## Grouped by food  condition"
   ]
  },
  {
   "cell_type": "code",
   "execution_count": null,
   "metadata": {},
   "outputs": [],
   "source": [
    "pooled_noFood = pooled.loc[pooled[\"food\"] == \"noFood\"]\n",
    "\n",
    "Trialdurations_food = pooled_noFood.groupby([\"food\", \"fly\", \"TrialNumber\"]).apply(\n",
    "    lambda x: x[\"Time\"].max()\n",
    ")\n",
    "\n",
    "Trialdurations_food"
   ]
  },
  {
   "cell_type": "code",
   "execution_count": null,
   "metadata": {},
   "outputs": [],
   "source": [
    "Trialdurations_food = pd.DataFrame(Trialdurations_food).reset_index()\n",
    "Trialdurations_food.rename(columns={0: \"duration\"}, inplace=True)\n",
    "\n",
    "Trialdurations_food"
   ]
  },
  {
   "cell_type": "code",
   "execution_count": null,
   "metadata": {},
   "outputs": [],
   "source": [
    "Trialdurations_food[\"duration_s\"] = frame2time(\n",
    "    Trialdurations_food[\"duration\"], reverse=False, fps=80\n",
    ")"
   ]
  },
  {
   "attachments": {},
   "cell_type": "markdown",
   "metadata": {},
   "source": [
    "Add replicate number to the plot"
   ]
  },
  {
   "cell_type": "code",
   "execution_count": null,
   "metadata": {},
   "outputs": [],
   "source": [
    "# find how many unique values there are in the fly column\n",
    "nflies = len(pooled[\"fly\"].unique())\n",
    "\n",
    "# same but only for the noFood condition\n",
    "nflies_noFood = len(pooled[pooled[\"food\"] == \"noFood\"][\"fly\"].unique())\n",
    "\n",
    "nflies_food = nflies - nflies_noFood\n",
    "\n",
    "replicates = {\"food\": [\"Food\", \"noFood\"], \"n\": [nflies_food, nflies_noFood]}"
   ]
  },
  {
   "cell_type": "code",
   "execution_count": null,
   "metadata": {},
   "outputs": [],
   "source": [
    "box = (\n",
    "    hv.BoxWhisker(\n",
    "        data=Trialdurations_food, kdims=[\"TrialNumber\", \"food\"], vdims=[\"duration_s\"]\n",
    "    )\n",
    "    .groupby(\"food\")\n",
    "    .opts(\n",
    "        height=1000,\n",
    "        width=1000,\n",
    "        framewise=True,\n",
    "        cmap=\"Viridis\",\n",
    "        xlabel=\"Trial\",\n",
    "        ylabel=\"Duration (sec)\",\n",
    "        # ylim=(0, 40),\n",
    "        # box_color=\"TrialNumber\",\n",
    "        box_fill_alpha=0,\n",
    "        # invert_axes=True,\n",
    "        # invert_yaxis=True,\n",
    "        # box_line_color=\"gray\",\n",
    "    )\n",
    ")\n",
    "\n",
    "points = (\n",
    "    hv.Scatter(\n",
    "        data=Trialdurations_food, kdims=[\"TrialNumber\", \"food\"], vdims=[\"duration_s\"]\n",
    "    )\n",
    "    .groupby(\"food\")\n",
    "    .opts(\n",
    "        framewise=True,\n",
    "        cmap=\"Viridis\",\n",
    "        # invert_axes=True,\n",
    "        # invert_yaxis=True,\n",
    "        # ylim=(0, 40),\n",
    "        color=\"TrialNumber\",\n",
    "        jitter=0.4,\n",
    "    )\n",
    ")\n",
    "\n",
    "# annot = hv.Text()\n",
    "\n",
    "\n",
    "box * points"
   ]
  },
  {
   "attachments": {},
   "cell_type": "markdown",
   "metadata": {},
   "source": [
    "implement fly lines"
   ]
  },
  {
   "cell_type": "code",
   "execution_count": null,
   "metadata": {},
   "outputs": [],
   "source": [
    "lines = (\n",
    "    hv.Curve(\n",
    "        data=Trialdurations_food,\n",
    "        kdims=[\"TrialNumber\"],\n",
    "        vdims=[\"duration_s\", \"food\", \"fly\"],\n",
    "    )\n",
    "    .groupby([\"food\", \"fly\"])\n",
    "    .opts(\n",
    "        framewise=True,\n",
    "        color=hv.Palette(\"Viridis\"),\n",
    "        alpha=0.8,\n",
    "        line_width=2,\n",
    "        # invert_axes=True,\n",
    "        # invert_yaxis=True,\n",
    "        # ylim=(0, 40),\n",
    "        # line_color=\"rank\",\n",
    "        # jitter=0.4,\n",
    "    )\n",
    "    .overlay(\"fly\")\n",
    ")\n",
    "\n",
    "# Curves = (\n",
    "#     hv.Curve(\n",
    "#         data=Group_avg,\n",
    "#         kdims=[\"Time\"],\n",
    "#         vdims=[\n",
    "#             \"ysmooth\",\n",
    "#             \"TrialNumber\",\n",
    "#         ],\n",
    "#     )\n",
    "#     .groupby([\"TrialNumber\"])\n",
    "#     .opts(\n",
    "#         height=1000,\n",
    "#         width=1000,\n",
    "#         invert_yaxis=True,\n",
    "#         color=hv.Palette(\"Viridis\"),\n",
    "#         tools=[\n",
    "#             \"hover\",\n",
    "#             \"crosshair\",\n",
    "#         ],\n",
    "#         muted=True,\n",
    "#     )\n",
    "#     .overlay()\n",
    "# )"
   ]
  },
  {
   "cell_type": "code",
   "execution_count": null,
   "metadata": {},
   "outputs": [],
   "source": [
    "box * lines"
   ]
  },
  {
   "cell_type": "code",
   "execution_count": null,
   "metadata": {},
   "outputs": [],
   "source": [
    "hv.help(hv.Curve)"
   ]
  },
  {
   "attachments": {},
   "cell_type": "markdown",
   "metadata": {},
   "source": [
    "Rank flies by first trial speed"
   ]
  },
  {
   "cell_type": "code",
   "execution_count": null,
   "metadata": {},
   "outputs": [],
   "source": [
    "# rank the flies by their first trial duration\n",
    "# first get the first trial duration for each fly\n",
    "first_trial = Trialdurations_food[Trialdurations_food[\"TrialNumber\"] == 1]\n",
    "\n",
    "# then sort by duration\n",
    "first_trial.sort_values(by=\"duration_s\", inplace=True)"
   ]
  },
  {
   "cell_type": "code",
   "execution_count": null,
   "metadata": {},
   "outputs": [],
   "source": [
    "# add a rank column with the rank of each fly in the first_trial dataframe\n",
    "first_trial[\"rank\"] = first_trial[\"duration_s\"].rank()\n",
    "first_trial"
   ]
  },
  {
   "cell_type": "code",
   "execution_count": null,
   "metadata": {},
   "outputs": [],
   "source": [
    "Trialdurations_food[\"rank\"] = Trialdurations_food[\"fly\"].map(\n",
    "    first_trial.set_index(\"fly\")[\"rank\"]\n",
    ")\n",
    "Trialdurations_food"
   ]
  },
  {
   "cell_type": "code",
   "execution_count": null,
   "metadata": {},
   "outputs": [],
   "source": [
    "Trialdurations_food_sorted = Trialdurations_food.sort_values(by=\"rank\")"
   ]
  },
  {
   "cell_type": "code",
   "execution_count": null,
   "metadata": {},
   "outputs": [],
   "source": [
    "Trialdurations_food_sorted"
   ]
  },
  {
   "attachments": {},
   "cell_type": "markdown",
   "metadata": {},
   "source": [
    "Rename values and labels"
   ]
  },
  {
   "cell_type": "code",
   "execution_count": null,
   "metadata": {},
   "outputs": [],
   "source": [
    "# Rename the food values as follow : \"Food\" -> \"Yes\", \"noFood\" -> \"No\"\n",
    "# Trialdurations_food[\"food\"] = Trialdurations_food[\"food\"].map(\n",
    "#     {\"Food\": \"Yes\", \"noFood\": \"No\"}\n",
    "# )"
   ]
  },
  {
   "cell_type": "code",
   "execution_count": null,
   "metadata": {},
   "outputs": [],
   "source": [
    "box = (\n",
    "    hv.BoxWhisker(\n",
    "        data=Trialdurations_food, kdims=[\"TrialNumber\", \"food\"], vdims=[\"duration_s\"]\n",
    "    )\n",
    "    .groupby(\"food\")\n",
    "    .opts(\n",
    "        # cmap=\"RdYlGn\",\n",
    "        box_fill_color=\"lightgray\",\n",
    "        box_fill_alpha=1,\n",
    "        # box_line_color=\"gray\",\n",
    "        outlier_alpha=0,\n",
    "    )\n",
    ")\n",
    "\n",
    "points = (\n",
    "    hv.Scatter(\n",
    "        data=Trialdurations_food,\n",
    "        kdims=[\"TrialNumber\"],\n",
    "        vdims=[\"duration_s\", \"food\", \"rank\"],\n",
    "    )\n",
    "    .groupby([\"food\", \"rank\"])\n",
    "    .opts(\n",
    "        color=hv.Palette(\"RdYlBu\"),\n",
    "        jitter=0,\n",
    "        marker=\"x\",\n",
    "    )\n",
    ").overlay(\"rank\")\n",
    "\n",
    "points_solo = (\n",
    "    hv.Scatter(\n",
    "        data=Trialdurations_food,\n",
    "        kdims=[\"TrialNumber\"],\n",
    "        vdims=[\n",
    "            \"duration_s\",\n",
    "            \"food\",\n",
    "        ],\n",
    "    )\n",
    "    .groupby(\n",
    "        [\n",
    "            \"food\",\n",
    "        ]\n",
    "    )\n",
    "    .opts(\n",
    "        color=hv.Palette(\"RdYlBu\"),\n",
    "        jitter=0.2,\n",
    "        # marker=\"x\",\n",
    "        size=5,\n",
    "        alpha=0.5,\n",
    "    )\n",
    ")\n",
    "\n",
    "lines2 = (\n",
    "    hv.Curve(\n",
    "        data=Trialdurations_food,\n",
    "        kdims=[\"TrialNumber\"],\n",
    "        vdims=[\"duration_s\", \"food\", \"rank\"],\n",
    "    )\n",
    "    .groupby([\"food\", \"rank\"])\n",
    "    .opts(\n",
    "        color=hv.Palette(\"RdYlBu\"),\n",
    "        alpha=1,\n",
    "        line_width=1.5,\n",
    "        # jitter=0.4,\n",
    "    )\n",
    ").overlay(\"rank\")\n",
    "\n",
    "max_x = Trialdurations_food[\"TrialNumber\"].max()\n",
    "min_y = Trialdurations_food[\"duration_s\"].min()\n",
    "min_x = Trialdurations_food[\"TrialNumber\"].min()\n",
    "max_y = Trialdurations_food[\"duration_s\"].max()\n",
    "\n",
    "Annotation = hv.Text(max_x - 1, min_y - 100, f\" N = {nflies_noFood}\")\n",
    "\n",
    "BoxTrialDuration = (box * lines2 * points * Annotation).opts(\n",
    "    height=750,\n",
    "    width=1000,\n",
    "    framewise=True,\n",
    "    xlabel=\"Trial\",\n",
    "    ylabel=\"Duration (sec)\",\n",
    "    show_grid=True,\n",
    "    fontscale=2,\n",
    ")\n",
    "BoxTrialDuration_Light = (box * points_solo * Annotation).opts(\n",
    "    height=750,\n",
    "    width=1000,\n",
    "    framewise=True,\n",
    "    xlabel=\"Trial\",\n",
    "    ylabel=\"Duration (sec)\",\n",
    "    show_grid=True,\n",
    "    fontscale=1.5,\n",
    ")\n",
    "BoxTrialDuration"
   ]
  },
  {
   "cell_type": "code",
   "execution_count": null,
   "metadata": {},
   "outputs": [],
   "source": [
    "hv.save(\n",
    "    Layout,\n",
    "    \"/mnt/labserver/DURRIEU_Matthias/Pictures/FyssenReport/Boxplots_TrialSuccess.png\",\n",
    "    fmt=\"png\",\n",
    ")"
   ]
  },
  {
   "attachments": {},
   "cell_type": "markdown",
   "metadata": {},
   "source": [
    "Line is doing something weird"
   ]
  },
  {
   "cell_type": "code",
   "execution_count": null,
   "metadata": {},
   "outputs": [],
   "source": [
    "linestest = (\n",
    "    hv.Curve(\n",
    "        data=Trialdurations_food,\n",
    "        kdims=[\"TrialNumber\"],\n",
    "        vdims=[\"duration_s\", \"food\", \"rank\"],\n",
    "    )\n",
    "    .groupby([\"food\", \"rank\"])\n",
    "    .opts(\n",
    "        color=hv.Palette(\"RdYlGn\"),\n",
    "        alpha=0.8,\n",
    "        line_width=1,\n",
    "        # jitter=0.4,\n",
    "    )\n",
    ").overlay()\n",
    "\n",
    "linestest"
   ]
  },
  {
   "cell_type": "code",
   "execution_count": null,
   "metadata": {},
   "outputs": [],
   "source": [
    "hv.help(hv.BoxWhisker)"
   ]
  },
  {
   "attachments": {},
   "cell_type": "markdown",
   "metadata": {},
   "source": [
    "Pooled data"
   ]
  },
  {
   "cell_type": "code",
   "execution_count": null,
   "metadata": {},
   "outputs": [],
   "source": [
    "box_pool = hv.BoxWhisker(\n",
    "    data=Trialdurations_food, kdims=[\"TrialNumber\"], vdims=[\"duration_s\"]\n",
    ").opts(\n",
    "    # cmap=\"RdYlGn\",\n",
    "    box_fill_color=\"lightgray\",\n",
    "    box_fill_alpha=1,\n",
    "    # box_line_color=\"gray\",\n",
    ")\n",
    "\n",
    "points_pool = (\n",
    "    hv.Scatter(\n",
    "        data=Trialdurations_food,\n",
    "        kdims=[\"TrialNumber\"],\n",
    "        vdims=[\"duration_s\", \"rank\"],\n",
    "    )\n",
    "    .groupby([\"rank\"])\n",
    "    .opts(\n",
    "        color=hv.Palette(\"RdYlBu\"),\n",
    "        jitter=0,\n",
    "        marker=\"x\",\n",
    "    )\n",
    ").overlay(\"rank\")\n",
    "\n",
    "\n",
    "lines2_pool = (\n",
    "    hv.Curve(\n",
    "        data=Trialdurations_food,\n",
    "        kdims=[\"TrialNumber\"],\n",
    "        vdims=[\"duration_s\", \"rank\"],\n",
    "    )\n",
    "    .groupby([\"rank\"])\n",
    "    .opts(\n",
    "        color=hv.Palette(\"RdYlBu\"),\n",
    "        alpha=1,\n",
    "        line_width=1.5,\n",
    "        # jitter=0.4,\n",
    "    )\n",
    ").overlay(\"rank\")\n",
    "\n",
    "points_solo = hv.Scatter(\n",
    "    data=Trialdurations_food,\n",
    "    kdims=[\"TrialNumber\"],\n",
    "    vdims=[\n",
    "        \"duration_s\",\n",
    "    ],\n",
    ").opts(\n",
    "    color=hv.Palette(\"RdYlBu\"),\n",
    "    jitter=0.2,\n",
    "    # marker=\"x\",\n",
    "    size=5,\n",
    "    alpha=0.5,\n",
    ")\n",
    "\n",
    "Annotation = hv.Text(0, -30, f\"{nflies_food}\")\n",
    "\n",
    "Layout = (box_pool * lines2_pool * points_pool).opts(\n",
    "    height=750,\n",
    "    width=1000,\n",
    "    framewise=True,\n",
    "    xlabel=\"Trial\",\n",
    "    ylabel=\"Duration (sec)\",\n",
    "    show_grid=True,\n",
    "    fontscale=1.5,\n",
    ")\n",
    "\n",
    "# Layout\n",
    "\n",
    "Layout_Light = (box_pool * points_solo).opts(\n",
    "    height=750,\n",
    "    width=1000,\n",
    "    framewise=True,\n",
    "    xlabel=\"Trial\",\n",
    "    ylabel=\"Duration (sec)\",\n",
    "    show_grid=True,\n",
    "    fontscale=1.5,\n",
    ")\n",
    "\n",
    "Layout_Light"
   ]
  },
  {
   "cell_type": "code",
   "execution_count": null,
   "metadata": {},
   "outputs": [],
   "source": [
    "hv.save(\n",
    "    Layout,\n",
    "    \"/mnt/labserver/DURRIEU_Matthias/Pictures/230221_LabMeeting/pooled.html\",\n",
    "    fmt=\"html\",\n",
    ")"
   ]
  },
  {
   "attachments": {},
   "cell_type": "markdown",
   "metadata": {},
   "source": [
    "# Cumulated plot"
   ]
  },
  {
   "cell_type": "code",
   "execution_count": null,
   "metadata": {},
   "outputs": [],
   "source": [
    "# for each fly and each trial, get the index of the first frame of the trial\n",
    "first_frame = (\n",
    "    pooled.groupby([\"fly\", \"TrialNumber\"])\n",
    "    .first()\n",
    "    .reset_index()\n",
    "    .loc[:, [\"fly\", \"TrialNumber\", \"frame\", \"food\"]]\n",
    ")"
   ]
  },
  {
   "cell_type": "code",
   "execution_count": null,
   "metadata": {},
   "outputs": [],
   "source": [
    "# Remove the first trial of each fly from first_frame\n",
    "first_frame = first_frame[first_frame[\"TrialNumber\"] != 1]"
   ]
  },
  {
   "cell_type": "code",
   "execution_count": null,
   "metadata": {},
   "outputs": [],
   "source": [
    "# Sort first_frame by frame value\n",
    "first_frame = first_frame.sort_values(by=\"frame\")"
   ]
  },
  {
   "cell_type": "code",
   "execution_count": null,
   "metadata": {},
   "outputs": [],
   "source": [
    "# Build a column incrementing by 1 for each value of frame\n",
    "first_frame[\"cumulated_success\"] = range(1, len(first_frame) + 1)\n",
    "first_frame[\"frametime\"] = first_frame[\"frame\"] / 80"
   ]
  },
  {
   "cell_type": "code",
   "execution_count": null,
   "metadata": {},
   "outputs": [],
   "source": [
    "# Plot the cumulative success\n",
    "\n",
    "cumulcurve_first = (\n",
    "    hv.Curve(\n",
    "        data=first_frame,\n",
    "        kdims=[\"frametime\"],\n",
    "        vdims=[\n",
    "            \"cumulated_success\",\n",
    "            \"food\",\n",
    "        ],\n",
    "    )\n",
    "    .groupby(\n",
    "        [\n",
    "            \"food\",\n",
    "        ]\n",
    "    )\n",
    "    .opts(\n",
    "        height=750,\n",
    "        width=1000,\n",
    "        # color=\"black\",\n",
    "        alpha=0.8,\n",
    "        line_width=1,\n",
    "        xlabel=\"Time(s)\",\n",
    "        ylabel=\"Cumulative success\",\n",
    "        show_grid=True,\n",
    "        fontscale=1.5,\n",
    "    )\n",
    ")\n",
    "hv.save(\n",
    "    cumulcurve_first,\n",
    "    \"/Volumes/Ramdya-Lab/DURRIEU_Matthias/Pictures/230316_TeamMeeting/cumulcurve_first.html\",\n",
    "    fmt=\"html\",\n",
    ")\n",
    "# cumulcurve_first"
   ]
  },
  {
   "cell_type": "code",
   "execution_count": null,
   "metadata": {},
   "outputs": [],
   "source": [
    "pooled[\"index\"] = pooled.index\n",
    "# Build a column pooled[\"cumulated_success\"] that is the number of the trial minus 1\n",
    "pooled[\"cumulated_success\"] = pooled[\"TrialNumber\"] - 1\n",
    "# fill pooled[\"cumulated_success\"] NaN values with the value of the next known value of pooled[\"cumulated_success\"]\n",
    "pooled[\"cumulated_success\"] = pooled[\"cumulated_success\"].fillna(method=\"bfill\")\n",
    "\n",
    "pooled[\"Time_reel\"] = pooled[\"index\"] / 80"
   ]
  },
  {
   "cell_type": "code",
   "execution_count": null,
   "metadata": {},
   "outputs": [],
   "source": [
    "cumulcurve = (\n",
    "    hv.Curve(\n",
    "        data=pooled,\n",
    "        kdims=[\"Time_reel\"],\n",
    "        vdims=[\"cumulated_success\", \"food\", \"fly\"],\n",
    "    )\n",
    "    .groupby([\"food\", \"fly\"])\n",
    "    .opts(\n",
    "        height=750,\n",
    "        width=1000,\n",
    "        # color=\"black\",\n",
    "        alpha=0.8,\n",
    "        line_width=1,\n",
    "        xlabel=\"Time(s)\",\n",
    "        ylabel=\"Cumulative success\",\n",
    "        show_grid=True,\n",
    "        fontscale=1.5,\n",
    "    )\n",
    ").overlay(\"fly\")\n",
    "hv.save(\n",
    "    cumulcurve,\n",
    "    \"/Volumes/Ramdya-Lab/DURRIEU_Matthias/Pictures/230316_TeamMeeting/cumulcurve.html\",\n",
    "    fmt=\"html\",\n",
    ")\n",
    "# cumulcurve"
   ]
  },
  {
   "cell_type": "code",
   "execution_count": null,
   "metadata": {},
   "outputs": [],
   "source": [
    "GroupData = (\n",
    "    pooled.groupby(\n",
    "        [\n",
    "            \"Time_reel\",\n",
    "            \"food\",\n",
    "        ]\n",
    "    )\n",
    "    .mean()\n",
    "    .reset_index()\n",
    ")"
   ]
  },
  {
   "cell_type": "code",
   "execution_count": null,
   "metadata": {},
   "outputs": [],
   "source": [
    "GroupOps = pooled.groupby(\n",
    "    [\n",
    "        \"Time_reel\",\n",
    "        \"food\",\n",
    "    ]\n",
    ")"
   ]
  },
  {
   "cell_type": "code",
   "execution_count": null,
   "metadata": {},
   "outputs": [],
   "source": [
    "GroupTest.mean()"
   ]
  },
  {
   "cell_type": "code",
   "execution_count": null,
   "metadata": {},
   "outputs": [],
   "source": [
    "# Build a column for GroupData that by applying the function \"draw_bs_ci\" to the column \"cumulated_success\" of pooled grouped by \"Time_reel\" and \"food\"\n",
    "GroupData[\"ci\"] = draw_bs_ci(\n",
    "    pooled.groupby(\n",
    "        [\n",
    "            \"Time_reel\",\n",
    "            \"food\",\n",
    "        ]\n",
    "    ),\n",
    "    n_reps=300,\n",
    ")"
   ]
  },
  {
   "cell_type": "code",
   "execution_count": null,
   "metadata": {},
   "outputs": [],
   "source": [
    "Confints = GroupOps[\"cumulated_success\"].apply(lambda x: draw_bs_ci(x, n_reps=300))"
   ]
  },
  {
   "cell_type": "code",
   "execution_count": null,
   "metadata": {},
   "outputs": [],
   "source": [
    "Confints_process = Confints.reset_index()"
   ]
  },
  {
   "cell_type": "code",
   "execution_count": null,
   "metadata": {},
   "outputs": [],
   "source": [
    "# Split values of Confints_process[\"cumulated_success\"] into two columns ci_lower and ci_upper\n",
    "Confints_process[[\"ci_lower\", \"ci_upper\"]] = pd.DataFrame(\n",
    "    Confints_process[\"cumulated_success\"].tolist(), index=Confints_process.index\n",
    ")"
   ]
  },
  {
   "cell_type": "code",
   "execution_count": null,
   "metadata": {},
   "outputs": [],
   "source": [
    "# Define GroupData[\"ci_minus\"] and GroupData[\"ci_plus\"] as the columns containing the values of Confints\n",
    "GroupData[\"ci_lower\"] = Confints_process[\"ci_lower\"]\n",
    "GroupData[\"ci_upper\"] = Confints_process[\"ci_upper\"]\n",
    "\n",
    "# Define GroupData[\"ci_minus\"] and GroupData[\"ci_plus\"] as the columns containing the values of Confints"
   ]
  },
  {
   "cell_type": "code",
   "execution_count": null,
   "metadata": {},
   "outputs": [],
   "source": [
    "# Save the confidence intervals in a csv file\n",
    "Confints.to_csv(\n",
    "    \"/mnt/labserver/DURRIEU_Matthias/Code/UsefulComps/230414_Bootstrapped_Confints_OptobotsBallPushing/Confints.csv\"\n",
    ")"
   ]
  },
  {
   "cell_type": "code",
   "execution_count": null,
   "metadata": {},
   "outputs": [],
   "source": [
    "cumulcurve_pool = (\n",
    "    hv.Curve(\n",
    "        data=GroupData,\n",
    "        kdims=[\"Time_reel\"],\n",
    "        vdims=[\n",
    "            \"cumulated_success\",\n",
    "            \"food\",\n",
    "        ],\n",
    "    )\n",
    "    .groupby(\n",
    "        [\n",
    "            \"food\",\n",
    "        ]\n",
    "    )\n",
    "    .opts(\n",
    "        height=750,\n",
    "        width=1000,\n",
    "        # color=\"black\",\n",
    "        alpha=1,\n",
    "        line_width=2,\n",
    "        xlabel=\"Time(s)\",\n",
    "        ylabel=\"Cumulative success\",\n",
    "        show_grid=True,\n",
    "        fontscale=1.5,\n",
    "    )\n",
    ")\n",
    "\n",
    "# cumulcurve_pool"
   ]
  },
  {
   "cell_type": "code",
   "execution_count": null,
   "metadata": {},
   "outputs": [],
   "source": [
    "# add the confidence intervals to the plot using the holoview area function\n",
    "cumulcurve_pool = cumulcurve_pool * hv.Area(\n",
    "    data=GroupData,\n",
    "    kdims=[\"Time_reel\"],\n",
    "    vdims=[\"ci_lower\", \"ci_upper\", \"food\"],\n",
    ").groupby(\n",
    "    [\n",
    "        \"food\",\n",
    "    ]\n",
    ").opts(\n",
    "    height=750,\n",
    "    width=1000,\n",
    "    # color=\"black\",\n",
    "    alpha=0.2,\n",
    "    line_width=1,\n",
    "    xlabel=\"Time(s)\",\n",
    "    ylabel=\"Cumulative success\",\n",
    "    show_grid=True,\n",
    "    fontscale=1.5,\n",
    ")\n",
    "\n",
    "# cumulcurve_pool"
   ]
  },
  {
   "cell_type": "code",
   "execution_count": null,
   "metadata": {},
   "outputs": [],
   "source": [
    "# Hide the Area outer lines\n",
    "cumulcurve_pool.opts(\n",
    "    opts.Area(\n",
    "        show_legend=False,\n",
    "        show_frame=False,\n",
    "        fill_color=\"blue\",\n",
    "        line_color=\"black\",  # color of the outer lines\n",
    "        line_width=0,  # width of the outer lines\n",
    "    )\n",
    ")\n",
    "\n",
    "cumulcurve_pool.layout()"
   ]
  },
  {
   "cell_type": "code",
   "execution_count": null,
   "metadata": {},
   "outputs": [],
   "source": [
    "hv.save(\n",
    "    cumulcurve_pool,\n",
    "    \"/Volumes/Ramdya-Lab/DURRIEU_Matthias/Pictures/230316_TeamMeeting/cumulcurve_pool.html\",\n",
    "    fmt=\"html\",\n",
    ")"
   ]
  },
  {
   "attachments": {},
   "cell_type": "markdown",
   "metadata": {},
   "source": [
    "Add error bars"
   ]
  },
  {
   "attachments": {},
   "cell_type": "markdown",
   "metadata": {},
   "source": [
    "The right function here is hv.spread"
   ]
  },
  {
   "attachments": {},
   "cell_type": "markdown",
   "metadata": {},
   "source": [
    "First compute bootstrapped confidence interval for the points\n",
    "\n",
    "Then plot the points with the confidence interval"
   ]
  },
  {
   "cell_type": "code",
   "execution_count": null,
   "metadata": {},
   "outputs": [],
   "source": [
    "GroupData.head()"
   ]
  },
  {
   "cell_type": "code",
   "execution_count": null,
   "metadata": {},
   "outputs": [],
   "source": [
    "Groups = pooled.groupby(\n",
    "    [\n",
    "        \"Time_reel\",\n",
    "        \"food\",\n",
    "    ]\n",
    ")\n",
    "Groups.mean()"
   ]
  },
  {
   "cell_type": "code",
   "execution_count": null,
   "metadata": {},
   "outputs": [],
   "source": [
    "# Generate SmallSample, a subset of pooled with only 15 lines\n",
    "SmallSample = pooled.sample(n=500, random_state=1)\n",
    "SmallSample"
   ]
  },
  {
   "cell_type": "code",
   "execution_count": null,
   "metadata": {},
   "outputs": [],
   "source": [
    "SmallGroup = SmallSample.groupby(\n",
    "    [\n",
    "        \"Time_reel\",\n",
    "        \"food\",\n",
    "    ]\n",
    ")"
   ]
  },
  {
   "cell_type": "code",
   "execution_count": null,
   "metadata": {},
   "outputs": [],
   "source": [
    "# Apply draw_bs_ci function to the pooled dataframe grouped by time_reel and food\n",
    "bs_ci = SmallGroup[\"cumulated_success\"].apply(draw_bs_ci)"
   ]
  },
  {
   "cell_type": "code",
   "execution_count": null,
   "metadata": {},
   "outputs": [],
   "source": [
    "Groups = pooled.groupby([\"food\"])"
   ]
  },
  {
   "cell_type": "code",
   "execution_count": null,
   "metadata": {},
   "outputs": [],
   "source": [
    "Groups"
   ]
  },
  {
   "cell_type": "code",
   "execution_count": null,
   "metadata": {},
   "outputs": [],
   "source": [
    "# get average cumulated success on Groups data\n",
    "cumul_success = Groups[\"cumulated_success\"].mean().reset_index()\n",
    "\n",
    "cumul_success overtime"
   ]
  },
  {
   "cell_type": "code",
   "execution_count": null,
   "metadata": {},
   "outputs": [],
   "source": [
    "Grp_avg = pooled.groupby([\"food\", \"Time\"]).mean()"
   ]
  },
  {
   "attachments": {},
   "cell_type": "markdown",
   "metadata": {},
   "source": [
    "Not a good approach. Better is just do the same as above but with the pooled data"
   ]
  },
  {
   "cell_type": "code",
   "execution_count": null,
   "metadata": {},
   "outputs": [],
   "source": [
    "timesort = pooled.sort_values(by=\"Time\")\n",
    "timesort"
   ]
  },
  {
   "cell_type": "code",
   "execution_count": null,
   "metadata": {},
   "outputs": [],
   "source": [
    "timesort[pool_success] = "
   ]
  },
  {
   "cell_type": "markdown",
   "metadata": {},
   "source": [
    "# Recover the data to remake the plots"
   ]
  },
  {
   "cell_type": "code",
   "execution_count": null,
   "metadata": {},
   "outputs": [],
   "source": [
    "# for each dataset, load the data and append it to the pooled dataframe\n",
    "pooled = pd.DataFrame()\n",
    "count = 0\n",
    "for paths in DataPath:\n",
    "    datasets = list(paths.glob(\"**/BallPositions_processed.feather\"))\n",
    "    for dataset in datasets:\n",
    "        df = pd.read_feather(dataset)\n",
    "        # add a column with the dataset name\n",
    "        df.set_index(\"index\", inplace=True)\n",
    "        count += 1\n",
    "        df[\"fly\"] = f\"Fly {count}\"\n",
    "        # check if the dataframe path contains \"noFood\"\n",
    "        if \"noFood\" in str(dataset):\n",
    "            df[\"food\"] = \"noFood\"\n",
    "        else:\n",
    "            df[\"food\"] = \"Food\"\n",
    "\n",
    "        # append the dataframe to the pooled dataframe\n",
    "        pooled = pd.concat([pooled, df])"
   ]
  },
  {
   "cell_type": "code",
   "execution_count": null,
   "metadata": {},
   "outputs": [],
   "source": [
    "pooled.head()"
   ]
  },
  {
   "cell_type": "code",
   "execution_count": null,
   "metadata": {},
   "outputs": [],
   "source": [
    "pooled[\"index\"] = pooled.index\n",
    "# Build a column pooled[\"cumulated_success\"] that is the number of the trial minus 1\n",
    "pooled[\"cumulated_success\"] = pooled[\"TrialNumber\"] - 1\n",
    "# fill pooled[\"cumulated_success\"] NaN values with the value of the next known value of pooled[\"cumulated_success\"]\n",
    "pooled[\"cumulated_success\"] = pooled[\"cumulated_success\"].fillna(method=\"bfill\")\n",
    "\n",
    "pooled[\"Time_reel\"] = pooled[\"index\"] / 80\n",
    "\n",
    "pooled.head()"
   ]
  },
  {
   "cell_type": "code",
   "execution_count": null,
   "metadata": {},
   "outputs": [],
   "source": [
    "GroupData = (\n",
    "    pooled.groupby(\n",
    "        [\n",
    "            \"Time_reel\",\n",
    "            \"food\",\n",
    "        ]\n",
    "    )\n",
    "    .mean(numeric_only=True)\n",
    "    .reset_index()\n",
    ")\n",
    "\n",
    "GroupOps = pooled.groupby(\n",
    "    [\n",
    "        \"Time_reel\",\n",
    "        \"food\",\n",
    "    ]\n",
    ")"
   ]
  },
  {
   "cell_type": "code",
   "execution_count": null,
   "metadata": {},
   "outputs": [],
   "source": [
    "# import the data from the csv file\n",
    "Confints = pd.read_csv(\n",
    "    \"/mnt/labserver/DURRIEU_Matthias/Code/UsefulComps/230414_Bootstrapped_Confints_OptobotsBallPushing/Confints.csv\"\n",
    ")\n",
    "\n",
    "Confints.head()"
   ]
  },
  {
   "cell_type": "code",
   "execution_count": null,
   "metadata": {},
   "outputs": [],
   "source": [
    "def convert_string_to_list(s):\n",
    "    # Remove brackets and split string on whitespace\n",
    "    elements = s.strip(\"[]\").split()\n",
    "    # Convert elements to floats and return as list\n",
    "    return [float(e) for e in elements]\n",
    "\n",
    "\n",
    "Confints[\"cumulated_success\"] = Confints[\"cumulated_success\"].apply(\n",
    "    convert_string_to_list\n",
    ")"
   ]
  },
  {
   "cell_type": "markdown",
   "metadata": {},
   "source": [
    "Note : Here the issue I had is that when saving Confints to csv the lists were converted to strings and stripped of their commas. So I had to do a bit of a hack to recover the data. I should have saved the data as a different format like feather or pickle. "
   ]
  },
  {
   "cell_type": "code",
   "execution_count": null,
   "metadata": {},
   "outputs": [],
   "source": [
    "Confints_process = Confints.reset_index()\n",
    "\n",
    "# Split values of Confints_process[\"cumulated_success\"] into two columns ci_lower and ci_upper\n",
    "Confints_process[[\"ci_lower\", \"ci_upper\"]] = pd.DataFrame(\n",
    "    Confints_process[\"cumulated_success\"].tolist(), index=Confints_process.index\n",
    ")"
   ]
  },
  {
   "cell_type": "code",
   "execution_count": null,
   "metadata": {},
   "outputs": [],
   "source": [
    "# Define GroupData[\"ci_minus\"] and GroupData[\"ci_plus\"] as the columns containing the values of Confints\n",
    "GroupData[\"ci_lower\"] = Confints_process[\"ci_lower\"]\n",
    "GroupData[\"ci_upper\"] = Confints_process[\"ci_upper\"]\n",
    "\n",
    "# Define GroupData[\"ci_minus\"] and GroupData[\"ci_plus\"] as the columns containing the values of Confints"
   ]
  },
  {
   "cell_type": "code",
   "execution_count": null,
   "metadata": {},
   "outputs": [],
   "source": [
    "from scipy.optimize import curve_fit\n",
    "from sklearn.metrics import r2_score\n",
    "from bokeh.models import HoverTool\n",
    "from scipy import stats\n",
    "\n",
    "\n",
    "# Define logistic function\n",
    "def logistic(x, L, k, x0):\n",
    "    return L / (1 + np.exp(-k * (x - x0)))\n",
    "\n",
    "\n",
    "# Filter GroupData to only include rows where 'food' is 'noFood'\n",
    "GroupData_noFood = GroupData[GroupData[\"food\"] == \"noFood\"]\n",
    "\n",
    "# Calculate the number of unique 'flies' in the 'pooled' dataset which have the 'noFood' condition\n",
    "num_replicates = pooled[pooled[\"food\"] == \"noFood\"][\"fly\"].nunique()\n",
    "\n",
    "# Initial guesses for L, k, x0\n",
    "p0 = [\n",
    "    max(GroupData_noFood[\"cumulated_success\"]),\n",
    "    1,\n",
    "    np.median(GroupData_noFood[\"Time_reel\"]),\n",
    "]\n",
    "\n",
    "# Fit logistic function to data\n",
    "params, _ = curve_fit(\n",
    "    logistic,\n",
    "    GroupData_noFood[\"Time_reel\"],\n",
    "    GroupData_noFood[\"cumulated_success\"],\n",
    "    p0,\n",
    "    maxfev=5000,\n",
    ")\n",
    "\n",
    "# params contains the fitted values for L, k, x0\n",
    "L, k, x0 = params\n",
    "\n",
    "# Create a new DataFrame for the logistic fit curve\n",
    "logistic_fit = pd.DataFrame(\n",
    "    {\n",
    "        \"Time_reel\": np.linspace(\n",
    "            GroupData_noFood[\"Time_reel\"].min(),\n",
    "            GroupData_noFood[\"Time_reel\"].max(),\n",
    "            100,\n",
    "        ),\n",
    "    }\n",
    ")\n",
    "\n",
    "# Calculate y values for the logistic fit curve\n",
    "logistic_fit[\"cumulated_success\"] = logistic(logistic_fit[\"Time_reel\"], L, k, x0)\n",
    "\n",
    "# Calculate R-squared for logistic fit curve\n",
    "y_pred_logistic = logistic(GroupData_noFood[\"Time_reel\"], L, k, x0)\n",
    "r_squared_logistic = r2_score(GroupData_noFood[\"cumulated_success\"], y_pred_logistic)\n",
    "\n",
    "# Calculate linear fit for the first half of the data\n",
    "first_half = GroupData_noFood.iloc[: len(GroupData_noFood) // 2]\n",
    "slope, intercept, _, _, _ = stats.linregress(\n",
    "    first_half[\"Time_reel\"], first_half[\"cumulated_success\"]\n",
    ")\n",
    "\n",
    "# Create a new DataFrame for the linear fit line\n",
    "linear_fit = pd.DataFrame(\n",
    "    {\n",
    "        \"Time_reel\": np.linspace(\n",
    "            GroupData_noFood[\"Time_reel\"].min(),\n",
    "            GroupData_noFood[\"Time_reel\"].max(),\n",
    "            100,\n",
    "        ),\n",
    "    }\n",
    ")\n",
    "\n",
    "# Calculate y values for the linear fit line\n",
    "linear_fit[\"cumulated_success\"] = slope * linear_fit[\"Time_reel\"] + intercept\n",
    "\n",
    "# Calculate R-squared for linear fit curve\n",
    "y_pred_linear = slope * GroupData_noFood[\"Time_reel\"] + intercept\n",
    "r_squared_linear = r2_score(GroupData_noFood[\"cumulated_success\"], y_pred_linear)\n",
    "\n",
    "# Calculate center x value and min and maximum xy value\n",
    "center_x = (\n",
    "    GroupData_noFood[\"Time_reel\"].max() - GroupData_noFood[\"Time_reel\"].min()\n",
    ") / 2\n",
    "max_y = max(\n",
    "    max(GroupData_noFood[\"cumulated_success\"]), max(logistic_fit[\"cumulated_success\"])\n",
    ")\n",
    "\n",
    "max_x = GroupData_noFood[\"Time_reel\"].max()\n",
    "min_y = GroupData_noFood[\"cumulated_success\"].min()\n",
    "\n",
    "# Create your plot using GroupData_noFood instead of GroupData and add the fits and annotations\n",
    "cumulcurve_pool = (\n",
    "    hv.Curve(\n",
    "        data=GroupData_noFood, kdims=[\"Time_reel\"], vdims=[\"cumulated_success\", \"food\"]\n",
    "    )\n",
    "    .groupby([\"food\"])\n",
    "    .opts(\n",
    "        height=1000,\n",
    "        width=1200,\n",
    "        alpha=1,\n",
    "        line_width=2,\n",
    "        xlabel=\"Time(s)\",\n",
    "        ylabel=\"\",\n",
    "        show_grid=True,\n",
    "        fontscale=3,\n",
    "        title=\"\",\n",
    "    )\n",
    "    * hv.Area(\n",
    "        data=GroupData_noFood,\n",
    "        kdims=[\"Time_reel\"],\n",
    "        vdims=[\"ci_lower\", \"ci_upper\", \"food\"],\n",
    "    )\n",
    "    .groupby([\"food\"])\n",
    "    .opts(height=750, width=1000, alpha=0.2, line_width=1)\n",
    "    * hv.Curve(\n",
    "        data=logistic_fit, kdims=[\"Time_reel\"], vdims=[\"cumulated_success\"]\n",
    "    ).opts(color=\"green\")\n",
    "    # * hv.Text(\n",
    "    #     center_x, max_y - 1, f\"Logistic fit R-squared: {r_squared_logistic:.2f}\"\n",
    "    # ).opts(text_color=\"green\")\n",
    "    * hv.Curve(data=linear_fit, kdims=[\"Time_reel\"], vdims=[\"cumulated_success\"]).opts(\n",
    "        color=\"red\"\n",
    "    )\n",
    "    # * hv.Text(center_x, max_y, f\"Linear fit R-squared: {r_squared_linear:.2f}\").opts(\n",
    "    #     text_color=\"red\"\n",
    "    # )\n",
    "    # * hv.Text(max_x - 100, min_y * num_replicates, f\"N = {num_replicates}\")\n",
    ").opts(\n",
    "    opts.Area(\n",
    "        show_legend=False,\n",
    "        show_frame=False,\n",
    "        fill_color=\"blue\",\n",
    "        line_color=\"black\",\n",
    "        line_width=0,\n",
    "    )\n",
    ")\n",
    "\n",
    "cumulcurve_pool.layout()"
   ]
  },
  {
   "cell_type": "code",
   "execution_count": null,
   "metadata": {},
   "outputs": [],
   "source": [
    "# Save the plot as a png\n",
    "hv.save(\n",
    "    cumulcurve_pool,\n",
    "    \"/mnt/labserver/DURRIEU_Matthias/Pictures/240426_PSRI/cumulcurve_pool_wFits.png\",\n",
    "    fmt=\"png\",\n",
    ")"
   ]
  },
  {
   "cell_type": "markdown",
   "metadata": {},
   "source": [
    "## Boxplots"
   ]
  },
  {
   "cell_type": "code",
   "execution_count": null,
   "metadata": {},
   "outputs": [],
   "source": [
    "pooled_noFood = pooled.loc[pooled[\"food\"] == \"noFood\"]\n",
    "\n",
    "Trialdurations_food = pooled_noFood.groupby([\"food\", \"fly\", \"TrialNumber\"]).apply(\n",
    "    lambda x: x[\"Time\"].max()\n",
    ")\n",
    "\n",
    "Trialdurations_food"
   ]
  },
  {
   "cell_type": "code",
   "execution_count": null,
   "metadata": {},
   "outputs": [],
   "source": [
    "Trialdurations_food = pd.DataFrame(Trialdurations_food).reset_index()\n",
    "Trialdurations_food.rename(columns={0: \"duration\"}, inplace=True)\n",
    "\n",
    "Trialdurations_food"
   ]
  },
  {
   "cell_type": "code",
   "execution_count": null,
   "metadata": {},
   "outputs": [],
   "source": [
    "Trialdurations_food[\"duration_s\"] = frame2time(\n",
    "    Trialdurations_food[\"duration\"], reverse=False, fps=80\n",
    ")"
   ]
  },
  {
   "cell_type": "markdown",
   "metadata": {},
   "source": [
    "Add replicate number to the plot"
   ]
  },
  {
   "cell_type": "code",
   "execution_count": null,
   "metadata": {},
   "outputs": [],
   "source": [
    "# find how many unique values there are in the fly column\n",
    "nflies = len(pooled[\"fly\"].unique())\n",
    "\n",
    "# same but only for the noFood condition\n",
    "nflies_noFood = len(pooled[pooled[\"food\"] == \"noFood\"][\"fly\"].unique())\n",
    "\n",
    "nflies_food = nflies - nflies_noFood\n",
    "\n",
    "replicates = {\"food\": [\"Food\", \"noFood\"], \"n\": [nflies_food, nflies_noFood]}"
   ]
  },
  {
   "cell_type": "code",
   "execution_count": null,
   "metadata": {},
   "outputs": [],
   "source": [
    "box = (\n",
    "    hv.BoxWhisker(\n",
    "        data=Trialdurations_food, kdims=[\"TrialNumber\", \"food\"], vdims=[\"duration_s\"]\n",
    "    )\n",
    "    .groupby(\"food\")\n",
    "    .opts(\n",
    "        height=1000,\n",
    "        width=1000,\n",
    "        framewise=True,\n",
    "        cmap=\"Viridis\",\n",
    "        xlabel=\"Trial\",\n",
    "        ylabel=\"Duration (sec)\",\n",
    "        # ylim=(0, 40),\n",
    "        # box_color=\"TrialNumber\",\n",
    "        box_fill_alpha=0,\n",
    "        # invert_axes=True,\n",
    "        # invert_yaxis=True,\n",
    "        # box_line_color=\"gray\",\n",
    "    )\n",
    ")\n",
    "\n",
    "points = (\n",
    "    hv.Scatter(\n",
    "        data=Trialdurations_food, kdims=[\"TrialNumber\", \"food\"], vdims=[\"duration_s\"]\n",
    "    )\n",
    "    .groupby(\"food\")\n",
    "    .opts(\n",
    "        framewise=True,\n",
    "        cmap=\"Viridis\",\n",
    "        # invert_axes=True,\n",
    "        # invert_yaxis=True,\n",
    "        # ylim=(0, 40),\n",
    "        color=\"TrialNumber\",\n",
    "        jitter=0.4,\n",
    "    )\n",
    ")\n",
    "\n",
    "# annot = hv.Text()\n",
    "\n",
    "\n",
    "box * points"
   ]
  },
  {
   "cell_type": "markdown",
   "metadata": {},
   "source": [
    "implement fly lines"
   ]
  },
  {
   "cell_type": "code",
   "execution_count": null,
   "metadata": {},
   "outputs": [],
   "source": [
    "lines = (\n",
    "    hv.Curve(\n",
    "        data=Trialdurations_food,\n",
    "        kdims=[\"TrialNumber\"],\n",
    "        vdims=[\"duration_s\", \"food\", \"fly\"],\n",
    "    )\n",
    "    .groupby([\"food\", \"fly\"])\n",
    "    .opts(\n",
    "        framewise=True,\n",
    "        color=hv.Palette(\"Viridis\"),\n",
    "        alpha=0.8,\n",
    "        line_width=2,\n",
    "        # invert_axes=True,\n",
    "        # invert_yaxis=True,\n",
    "        # ylim=(0, 40),\n",
    "        # line_color=\"rank\",\n",
    "        # jitter=0.4,\n",
    "    )\n",
    "    .overlay(\"fly\")\n",
    ")\n",
    "\n",
    "# Curves = (\n",
    "#     hv.Curve(\n",
    "#         data=Group_avg,\n",
    "#         kdims=[\"Time\"],\n",
    "#         vdims=[\n",
    "#             \"ysmooth\",\n",
    "#             \"TrialNumber\",\n",
    "#         ],\n",
    "#     )\n",
    "#     .groupby([\"TrialNumber\"])\n",
    "#     .opts(\n",
    "#         height=1000,\n",
    "#         width=1000,\n",
    "#         invert_yaxis=True,\n",
    "#         color=hv.Palette(\"Viridis\"),\n",
    "#         tools=[\n",
    "#             \"hover\",\n",
    "#             \"crosshair\",\n",
    "#         ],\n",
    "#         muted=True,\n",
    "#     )\n",
    "#     .overlay()\n",
    "# )"
   ]
  },
  {
   "cell_type": "code",
   "execution_count": null,
   "metadata": {},
   "outputs": [],
   "source": [
    "box * lines"
   ]
  },
  {
   "cell_type": "code",
   "execution_count": null,
   "metadata": {},
   "outputs": [],
   "source": [
    "hv.help(hv.Curve)"
   ]
  },
  {
   "cell_type": "markdown",
   "metadata": {},
   "source": [
    "Rank flies by first trial speed"
   ]
  },
  {
   "cell_type": "code",
   "execution_count": null,
   "metadata": {},
   "outputs": [],
   "source": [
    "# rank the flies by their first trial duration\n",
    "# first get the first trial duration for each fly\n",
    "first_trial = Trialdurations_food[Trialdurations_food[\"TrialNumber\"] == 1]\n",
    "\n",
    "# then sort by duration\n",
    "first_trial.sort_values(by=\"duration_s\", inplace=True)"
   ]
  },
  {
   "cell_type": "code",
   "execution_count": null,
   "metadata": {},
   "outputs": [],
   "source": [
    "# add a rank column with the rank of each fly in the first_trial dataframe\n",
    "first_trial[\"rank\"] = first_trial[\"duration_s\"].rank()\n",
    "first_trial"
   ]
  },
  {
   "cell_type": "code",
   "execution_count": null,
   "metadata": {},
   "outputs": [],
   "source": [
    "Trialdurations_food[\"rank\"] = Trialdurations_food[\"fly\"].map(\n",
    "    first_trial.set_index(\"fly\")[\"rank\"]\n",
    ")\n",
    "Trialdurations_food"
   ]
  },
  {
   "cell_type": "code",
   "execution_count": null,
   "metadata": {},
   "outputs": [],
   "source": [
    "Trialdurations_food_sorted = Trialdurations_food.sort_values(by=\"rank\")"
   ]
  },
  {
   "cell_type": "code",
   "execution_count": null,
   "metadata": {},
   "outputs": [],
   "source": [
    "Trialdurations_food_sorted"
   ]
  },
  {
   "cell_type": "markdown",
   "metadata": {},
   "source": [
    "Rename values and labels"
   ]
  },
  {
   "cell_type": "code",
   "execution_count": null,
   "metadata": {},
   "outputs": [],
   "source": [
    "# Rename the food values as follow : \"Food\" -> \"Yes\", \"noFood\" -> \"No\"\n",
    "# Trialdurations_food[\"food\"] = Trialdurations_food[\"food\"].map(\n",
    "#     {\"Food\": \"Yes\", \"noFood\": \"No\"}\n",
    "# )"
   ]
  },
  {
   "cell_type": "code",
   "execution_count": null,
   "metadata": {},
   "outputs": [],
   "source": [
    "box = (\n",
    "    hv.BoxWhisker(\n",
    "        data=Trialdurations_food, kdims=[\"TrialNumber\", \"food\"], vdims=[\"duration_s\"]\n",
    "    )\n",
    "    .groupby(\"food\")\n",
    "    .opts(\n",
    "        # cmap=\"RdYlGn\",\n",
    "        box_fill_color=\"lightgray\",\n",
    "        box_fill_alpha=1,\n",
    "        # box_line_color=\"gray\",\n",
    "        outlier_alpha=0,\n",
    "    )\n",
    ")\n",
    "\n",
    "points = (\n",
    "    hv.Scatter(\n",
    "        data=Trialdurations_food,\n",
    "        kdims=[\"TrialNumber\"],\n",
    "        vdims=[\"duration_s\", \"food\", \"rank\"],\n",
    "    )\n",
    "    .groupby([\"food\", \"rank\"])\n",
    "    .opts(\n",
    "        color=hv.Palette(\"RdYlBu\"),\n",
    "        jitter=0,\n",
    "        marker=\"x\",\n",
    "    )\n",
    ").overlay(\"rank\")\n",
    "\n",
    "points_solo = (\n",
    "    hv.Scatter(\n",
    "        data=Trialdurations_food,\n",
    "        kdims=[\"TrialNumber\"],\n",
    "        vdims=[\n",
    "            \"duration_s\",\n",
    "            \"food\",\n",
    "        ],\n",
    "    )\n",
    "    .groupby(\n",
    "        [\n",
    "            \"food\",\n",
    "        ]\n",
    "    )\n",
    "    .opts(\n",
    "        color=hv.Palette(\"RdYlBu\"),\n",
    "        jitter=0.2,\n",
    "        # marker=\"x\",\n",
    "        size=5,\n",
    "        alpha=0.5,\n",
    "    )\n",
    ")\n",
    "\n",
    "lines2 = (\n",
    "    hv.Curve(\n",
    "        data=Trialdurations_food,\n",
    "        kdims=[\"TrialNumber\"],\n",
    "        vdims=[\"duration_s\", \"food\", \"rank\"],\n",
    "    )\n",
    "    .groupby([\"food\", \"rank\"])\n",
    "    .opts(\n",
    "        color=hv.Palette(\"RdYlBu\"),\n",
    "        alpha=1,\n",
    "        line_width=1.5,\n",
    "        # jitter=0.4,\n",
    "    )\n",
    ").overlay(\"rank\")\n",
    "\n",
    "max_x = Trialdurations_food[\"TrialNumber\"].max()\n",
    "min_y = Trialdurations_food[\"duration_s\"].min()\n",
    "min_x = Trialdurations_food[\"TrialNumber\"].min()\n",
    "max_y = Trialdurations_food[\"duration_s\"].max()\n",
    "\n",
    "Annotation = hv.Text(max_x - 1, min_y - 100, f\" N = {nflies_noFood}\")\n",
    "\n",
    "BoxTrialDuration = (box * lines2 * points).opts(  # * Annotation\n",
    "    height=1000,\n",
    "    width=1200,\n",
    "    framewise=True,\n",
    "    xlabel=\"Trial\",\n",
    "    ylabel=\"Duration (sec)\",\n",
    "    show_grid=True,\n",
    "    fontscale=3,\n",
    ")\n",
    "BoxTrialDuration_Light = (box * points_solo).opts(  # * Annotation\n",
    "    height=750,\n",
    "    width=1000,\n",
    "    framewise=True,\n",
    "    xlabel=\"Trial\",\n",
    "    ylabel=\"Duration (sec)\",\n",
    "    show_grid=True,\n",
    "    fontscale=1.5,\n",
    ")\n",
    "BoxTrialDuration"
   ]
  },
  {
   "cell_type": "code",
   "execution_count": null,
   "metadata": {},
   "outputs": [],
   "source": [
    "# Save the plot as a png\n",
    "hv.save(\n",
    "    BoxTrialDuration,\n",
    "    \"/mnt/labserver/DURRIEU_Matthias/Pictures/240426_PSRI/TimeBoxplots.png\",\n",
    "    fmt=\"png\",\n",
    ")"
   ]
  },
  {
   "cell_type": "markdown",
   "metadata": {},
   "source": [
    "## Fyssen figure panel\n",
    "\n",
    "In this part I make the learning figure for the fyssen report."
   ]
  },
  {
   "cell_type": "code",
   "execution_count": null,
   "metadata": {},
   "outputs": [],
   "source": [
    "# Make a panel with a) being the plot with the boxplots (called Layout) and b) is the curve with fitted logistic and linear functions, which is called cumulcurve_pool\n",
    "\n",
    "# Define the panel\n",
    "Fig = pn.Row(\n",
    "    pn.Column(\n",
    "        pn.pane.HTML(\n",
    "            \"<div style='font-size:25px; position:relative; top:10px; left:10px;'><b>A)</b></div>\"\n",
    "        ),\n",
    "        pn.panel(BoxTrialDuration),\n",
    "    ),\n",
    "    pn.Column(\n",
    "        pn.pane.HTML(\n",
    "            \"<div style='font-size:25px; position:relative; top:10px; left:10px;'><b>B)</b></div>\"\n",
    "        ),\n",
    "        pn.panel(cumulcurve_pool),\n",
    "    ),\n",
    ")\n",
    "\n",
    "Fig"
   ]
  },
  {
   "cell_type": "code",
   "execution_count": null,
   "metadata": {},
   "outputs": [],
   "source": [
    "# Define the panel\n",
    "Fig_png = pn.Row(\n",
    "    pn.Column(\n",
    "        pn.pane.HTML(\n",
    "            \"<div style='font-size:25px; position:relative; top:10px; left:10px;'><b>A)</b></div>\"\n",
    "        ),\n",
    "        pn.panel(BoxTrialDuration.opts(toolbar=None)),\n",
    "    ),\n",
    "    pn.Column(\n",
    "        pn.pane.HTML(\n",
    "            \"<div style='font-size:25px; position:relative; top:10px; left:10px;'><b>B)</b></div>\"\n",
    "        ),\n",
    "        pn.panel(cumulcurve_pool.opts(toolbar=None)),\n",
    "    ),\n",
    ")\n",
    "\n",
    "Fig_png.save(\"/mnt/labserver/DURRIEU_Matthias/Pictures/FyssenReport/Fig3.png\")"
   ]
  }
 ],
 "metadata": {
  "kernelspec": {
   "display_name": "Main",
   "language": "python",
   "name": "python3"
  },
  "language_info": {
   "codemirror_mode": {
    "name": "ipython",
    "version": 3
   },
   "file_extension": ".py",
   "mimetype": "text/x-python",
   "name": "python",
   "nbconvert_exporter": "python",
   "pygments_lexer": "ipython3",
   "version": "3.10.13"
  },
  "vscode": {
   "interpreter": {
    "hash": "ea0496e7bdb7df2fec0585b1e78371aa45021b70d7521719559543ff2bbe48cd"
   }
  }
 },
 "nbformat": 4,
 "nbformat_minor": 2
}
