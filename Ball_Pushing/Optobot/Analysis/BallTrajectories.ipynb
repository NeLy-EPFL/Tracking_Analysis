{
 "cells": [
  {
   "cell_type": "markdown",
   "metadata": {},
   "source": [
    "This notebook is meant to develop tools and plotting routines to analyse ball trajectories in fly pushing experiments"
   ]
  },
  {
   "cell_type": "markdown",
   "metadata": {},
   "source": [
    "# Libraries"
   ]
  },
  {
   "cell_type": "code",
   "execution_count": null,
   "metadata": {},
   "outputs": [],
   "source": [
    "import sys\n",
    "from pathlib import Path\n",
    "import matplotlib as mpl\n",
    "\n",
    "mpl.rcParams[\"figure.figsize\"] = (\n",
    "    10,\n",
    "    10,\n",
    ")  # Change figure size including in the jupyter outputs.\n",
    "import matplotlib.pyplot as plt\n",
    "import pandas as pd\n",
    "import numpy as np\n",
    "import mpmath\n",
    "import cv2\n",
    "\n",
    "sys.modules[\"sympy.mpmath\"] = mpmath\n",
    "from scipy import signal\n",
    "import datetime\n",
    "import dateutil\n",
    "import bokeh.io\n",
    "import holoviews as hv\n",
    "from holoviews import opts\n",
    "\n",
    "hv.extension(\n",
    "    \"bokeh\",\n",
    "    \"matplotlib\",\n",
    ")\n",
    "bokeh.io.output_notebook()\n",
    "\n",
    "import panel as pn\n",
    "\n",
    "sys.path.insert(0, \"../../..\")\n",
    "sys.path.insert(0, \"..\")\n",
    "\n",
    "from Utilities.Utils import *\n",
    "from Utilities.Processing import *\n",
    "\n",
    "import black\n",
    "import jupyter_black\n",
    "\n",
    "jupyter_black.load()"
   ]
  },
  {
   "cell_type": "markdown",
   "metadata": {},
   "source": [
    "# Load dataframe"
   ]
  },
  {
   "cell_type": "code",
   "execution_count": null,
   "metadata": {},
   "outputs": [],
   "source": [
    "VideoPath = Path(\n",
    "    \"/home/durrieu/mnt/labserver/labserver/DURRIEU_Matthias/Experimental_data/Optogenetics/Optobot/MultiMazeBiS_15_Steel_Wax/Female_Starved_noWater/221116/102044_s0a0_p6-0/Arena4/Arena4.mp4\"\n",
    ")\n",
    "\n",
    "data = pd.read_csv(\n",
    "    VideoPath.parent.joinpath(\"BallPositions.csv\").as_posix(),\n",
    ")"
   ]
  },
  {
   "cell_type": "code",
   "execution_count": null,
   "metadata": {},
   "outputs": [],
   "source": [
    "# Mac path\n",
    "\n",
    "VideoPath = Path(\n",
    "    \"/Volumes/Ramdya-Lab/DURRIEU_Matthias/Experimental_data/Optogenetics/Optobot/MultiMazeBiS_15_Steel_Wax/Female_Starved_noWater/221116/102044_s0a0_p6-0/Arena4/Arena4.mp4\"\n",
    ")\n",
    "\n",
    "data = pd.read_csv(\n",
    "    VideoPath.parent.joinpath(\"BallPositions.csv\").as_posix(),\n",
    ")"
   ]
  },
  {
   "cell_type": "markdown",
   "metadata": {},
   "source": [
    "# Magnet events detection"
   ]
  },
  {
   "cell_type": "markdown",
   "metadata": {},
   "source": [
    "## Manual detection\n",
    "\n",
    "looking at the video, events can be annotated manually.\n",
    "\n",
    "### Example of manual annotation\n",
    "\n",
    "Gathered for arena 4 of very first example vid : '/home/durrieu/mnt/labserver/labserver/DURRIEU_Matthias/Experimental_data/Optogenetics/Optobot/MultiMazeBiS_15_Steel_Wax/Female_Starved_noWater/221116/102044_s0a0_p6-0/Arena4/Arena4.mp4'"
   ]
  },
  {
   "cell_type": "code",
   "execution_count": null,
   "metadata": {},
   "outputs": [],
   "source": [
    "Events = [\n",
    "    [6, (4 * 60 + 25)],\n",
    "    [(4 * 60 + 37), (4 * 60 + 59)],\n",
    "    [(5 * 60 + 9), (5 * 60 + 28)],\n",
    "    [(6 * 60), (7 * 60 + 5)],\n",
    "    [(7 * 60 + 30), (9 * 60 + 14)],\n",
    "    [(9 * 60 + 27), (12 * 60 + 8)],\n",
    "    [(12 * 60 + 29), (14 * 60 + 8)],\n",
    "    [(14 * 60 + 45), (16 * 60 + 32)],\n",
    "    [(17 * 60 + 5), (18 * 60 + 30)],\n",
    "    [(19 * 60 + 19), (20 * 60 + 46)],\n",
    "    [(22 * 60 + 5), (23 * 60 + 5)],\n",
    "    [(24 * 60 + 18), (25 * 60 + 17)],\n",
    "    [(25 * 60 + 59), (26 * 60 + 29)],\n",
    "    [(27 * 60 + 57), (29 * 60 + 23)],\n",
    "    [(30 * 60 + 10), (31 * 60 + 42)],\n",
    "    [(32 * 60 + 42), (34 * 60 + 41)],\n",
    "    [(35 * 60 + 20), (36 * 60 + 53)],\n",
    "    [(38 * 60), (40 * 60 + 11)],\n",
    "    [(41 * 60 + 5), (42 * 60 + 17)],\n",
    "    [(43 * 60 + 28), (45 * 60 + 34)],\n",
    "    [(46 * 60 + 38), (49 * 60 + 21)],\n",
    "    [(51 * 60 + 10), (53 * 60 + 7)],\n",
    "    [(54 * 60 + 31), (58 * 60 + 51)],\n",
    "]"
   ]
  },
  {
   "cell_type": "markdown",
   "metadata": {},
   "source": [
    "Note that in this case values were already converted into seconds, but with frame2time function, they could have been entered as h:m:s too.\n",
    "\n",
    "### Saving the time for further use"
   ]
  },
  {
   "cell_type": "code",
   "execution_count": null,
   "metadata": {},
   "outputs": [],
   "source": [
    "# Convert all seconds in date format, easier to read for humans, and accepted by frame2time function.\n",
    "Converted = [\n",
    "    [str(datetime.timedelta(seconds=elements)) for elements in subs] for subs in Events\n",
    "]"
   ]
  },
  {
   "cell_type": "code",
   "execution_count": null,
   "metadata": {},
   "outputs": [],
   "source": [
    "MagnetEvents = np.array(Converted)"
   ]
  },
  {
   "cell_type": "code",
   "execution_count": null,
   "metadata": {},
   "outputs": [],
   "source": [
    "## Save cropping parameters in a file for further use\n",
    "if VideoPath.parent.joinpath(\"Magnet_Events.npy\").exists() is True:\n",
    "    choice = input(\"File already exists! Overwrite? [y/n]\")\n",
    "\n",
    "    if choice == \"n\":\n",
    "        print(\"File unchanged.\")\n",
    "\n",
    "    elif choice == \"y\":\n",
    "        np.save(VideoPath.parent.joinpath(\"Magnet_Events.npy\").as_posix(), MagnetEvents)\n",
    "        print(\"File updated.\")\n",
    "\n",
    "    else:\n",
    "        print(\"invalid input\")\n",
    "\n",
    "else:\n",
    "    np.save(VideoPath.parent.joinpath(\"Magnet_Events.npy\").as_posix(), MagnetEvents)"
   ]
  },
  {
   "cell_type": "markdown",
   "metadata": {},
   "source": [
    "## Automatic detection of magnet events"
   ]
  },
  {
   "cell_type": "markdown",
   "metadata": {},
   "source": [
    "### Extract x and y from the dataframe"
   ]
  },
  {
   "cell_type": "code",
   "execution_count": null,
   "metadata": {},
   "outputs": [],
   "source": [
    "RawTraj = data.loc[:, \"ypos\"]\n",
    "frames = data.loc[:, \"frame\"]"
   ]
  },
  {
   "cell_type": "markdown",
   "metadata": {},
   "source": [
    "### Apply smoothing"
   ]
  },
  {
   "cell_type": "code",
   "execution_count": null,
   "metadata": {},
   "outputs": [],
   "source": [
    "x = frames.values\n",
    "y = RawTraj.values"
   ]
  },
  {
   "cell_type": "markdown",
   "metadata": {},
   "source": [
    "#### Savitzky–Golay filter\n",
    "\n",
    "Worked well but I don't understand it so well so it required a lot of empirical tuning."
   ]
  },
  {
   "cell_type": "code",
   "execution_count": null,
   "metadata": {},
   "outputs": [],
   "source": [
    "# found around 20 events so also 20 pushes. according to https://www.sciencedirect.com/science/article/pii/S2211379718314761#f0005 , window length can be empircally tested or chosen as number of significant lobes / Datapoints\n",
    "\n",
    "WinLen = round(len(y) / 500)  # 75 not bad, 100 even better\n",
    "polyorder = 4\n",
    "\n",
    "ysmooth = signal.savgol_filter(y, window_length=WinLen, polyorder=polyorder)\n",
    "\n",
    "SavGo_Plot = hv.Curve(y) * hv.Curve(ysmooth).opts(tools=[\"hover\"])"
   ]
  },
  {
   "cell_type": "code",
   "execution_count": null,
   "metadata": {},
   "outputs": [],
   "source": [
    "#### Fourier transform"
   ]
  },
  {
   "cell_type": "code",
   "execution_count": null,
   "metadata": {},
   "outputs": [],
   "source": [
    "ftrans = np.fft.rfft(y)\n",
    "ysmooth = np.fft.irfft(ftrans)\n",
    "\n",
    "TransfCurves = hv.Curve(y) * hv.Curve(ysmooth)\n",
    "# TransfCurves"
   ]
  },
  {
   "attachments": {},
   "cell_type": "markdown",
   "metadata": {},
   "source": [
    "Note : Fourier's transform doesn't yield good results when there's not obvious frequency that can be discriminated from noise.\n",
    "\n",
    "*Correction* : In my first implementation I tried to identify a frequently reoccuring frequency, which doesn't happen. Instead, I should use Fourier transform as a low pass filter to only keep biologically plausible frequencies."
   ]
  },
  {
   "cell_type": "code",
   "execution_count": null,
   "metadata": {},
   "outputs": [],
   "source": []
  },
  {
   "cell_type": "markdown",
   "metadata": {},
   "source": [
    "#### Low pass filter"
   ]
  },
  {
   "cell_type": "code",
   "execution_count": null,
   "metadata": {},
   "outputs": [],
   "source": [
    "# Filter requirements.\n",
    "# fs = 80.0  # sample rate, Hz\n",
    "# T = 1  # Sample Period\n",
    "cutoff = 0.01  # desired cutoff frequency of the filter, Hz ,      slightly higher than actual 1.2 Hz\n",
    "# nyq = 0.5 * fs  # Nyquist Fre#quency\n",
    "order = 2  # sin wave can be approx represented as quadratic\n",
    "# n = int(T * fs)  # total number of samples"
   ]
  },
  {
   "cell_type": "code",
   "execution_count": null,
   "metadata": {},
   "outputs": [],
   "source": [
    "def butter_lowpass_filter(\n",
    "    data,\n",
    "    cutoff,\n",
    "    order,\n",
    "    fs=None,\n",
    "):\n",
    "    # normal_cutoff = cutoff / nyq\n",
    "    # Get the filter coefficients\n",
    "    b, a = signal.butter(order, cutoff, btype=\"low\", analog=False)\n",
    "    y = signal.filtfilt(b, a, data)\n",
    "    return y"
   ]
  },
  {
   "cell_type": "code",
   "execution_count": null,
   "metadata": {},
   "outputs": [],
   "source": [
    "# Filter parameters\n",
    "cutoff = 0.01  # desired cutoff frequency of the filter, Hz ,      slightly higher than actual 1.2 Hz\n",
    "order = 1  # sin wave can be approx represented as quadratic\n",
    "\n",
    "ysmooth = butter_lowpass_filter(y, cutoff, order)\n",
    "TransfCurves = (\n",
    "    hv.Curve(y).opts(\n",
    "        height=1000,\n",
    "        width=1000,\n",
    "    )\n",
    "    * hv.Curve(ysmooth)\n",
    ")\n",
    "TransfCurves"
   ]
  },
  {
   "attachments": {},
   "cell_type": "markdown",
   "metadata": {},
   "source": [
    "Note : Worked very well, did not see much impact of frequency and time period on the smoothing quality. Cutoff was the most critical.\n",
    "\n",
    "> Also, scipy butter doesnt require all the frequency, time period stuff, it just requires a cutoff frequency + order, which makes it simpler to test empirically."
   ]
  },
  {
   "cell_type": "markdown",
   "metadata": {},
   "source": [
    "### Detect peaks on smoothed data"
   ]
  },
  {
   "cell_type": "markdown",
   "metadata": {},
   "source": [
    "For now, low pass butter filter used."
   ]
  },
  {
   "cell_type": "code",
   "execution_count": null,
   "metadata": {},
   "outputs": [],
   "source": []
  },
  {
   "cell_type": "code",
   "execution_count": null,
   "metadata": {},
   "outputs": [],
   "source": [
    "%matplotlib inline\n",
    "DerY = np.diff(ysmooth)\n",
    "plt.plot(DerY)"
   ]
  },
  {
   "cell_type": "code",
   "execution_count": null,
   "metadata": {},
   "outputs": [],
   "source": [
    "Magnetpeaks = signal.find_peaks(\n",
    "    DerY,\n",
    "    distance=1000,\n",
    "    height=1,\n",
    "    # prominence=140,\n",
    "    # width=2000,\n",
    "    # threshold=-140,\n",
    "    # plateau_size=np.arange(1,3000,1, dtype=int)\n",
    ")\n",
    "\n",
    "plt.plot(DerY)\n",
    "plt.scatter(frames[Magnetpeaks[0]], DerY[Magnetpeaks[0]], color=\"orange\")\n",
    "plt.vlines(261428, ymin=-1, ymax=1, color=\"green\", linestyles=\"dashed\")"
   ]
  },
  {
   "attachments": {},
   "cell_type": "markdown",
   "metadata": {},
   "source": [
    ">Note: had to adapt peak detecion parameters to account for the change in filtering method."
   ]
  },
  {
   "cell_type": "markdown",
   "metadata": {},
   "source": []
  },
  {
   "cell_type": "code",
   "execution_count": null,
   "metadata": {},
   "outputs": [],
   "source": [
    "ManualStarts = [\n",
    "    frame2time(events, fps=80, reverse=True, clockformat=True)\n",
    "    for events in MagnetEvents[:, 0]\n",
    "]\n",
    "print(ManualStarts)\n",
    "print(Magnetpeaks[0])"
   ]
  },
  {
   "cell_type": "code",
   "execution_count": null,
   "metadata": {},
   "outputs": [],
   "source": [
    "# Adding manual events definition in order to draw them on the plots along with detections\n",
    "\n",
    "ManualEnds = [\n",
    "    frame2time(events, fps=80, reverse=True, clockformat=True)\n",
    "    for events in MagnetEvents[:, 1]\n",
    "]\n",
    "ManualStarts = [\n",
    "    frame2time(events, fps=80, reverse=True, clockformat=True)\n",
    "    for events in MagnetEvents[:, 0]\n",
    "]"
   ]
  },
  {
   "cell_type": "code",
   "execution_count": null,
   "metadata": {},
   "outputs": [],
   "source": [
    "RevY = DerY * -1\n",
    "FliesPeaks = signal.find_peaks(\n",
    "    RevY,\n",
    "    distance=2000,\n",
    "    height=0.2,\n",
    "    # prominence=140,\n",
    "    # width=2000,\n",
    "    # threshold=-140,\n",
    "    # plateau_size=np.arange(1,3000,1, dtype=int)\n",
    ")\n",
    "\n",
    "# Old plotting routine using matplotlib\n",
    "# plt.plot(RevY)\n",
    "# plt.scatter(frames[FliesPeaks[0]], RevY[FliesPeaks[0]], color='orange')\n",
    "# plt.vlines(frames[ManualEnds], ymin=-1, ymax=1, color='green', linestyles='dashed')\n",
    "\n",
    "# Better plotting routine using holoviews\n",
    "FlyPeaks_Plot = (\n",
    "    hv.Curve(RevY).opts(\n",
    "        height=1000,\n",
    "        width=1000,\n",
    "    )\n",
    "    * hv.Points((frames[FliesPeaks[0]], RevY[FliesPeaks[0]])).opts(\n",
    "        size=15,\n",
    "        marker=\"x\",\n",
    "        color=\"red\",\n",
    "    )\n",
    "    * hv.Spikes(ManualEnds)\n",
    ")\n",
    "\n",
    "# FlyPeaks_Plot"
   ]
  },
  {
   "cell_type": "code",
   "execution_count": null,
   "metadata": {},
   "outputs": [],
   "source": [
    "print(f\"manual recording: {frame2time(21200, fps=80, clockformat=True)}\")\n",
    "print(f\"auto detected: {frame2time(19656, fps=80, clockformat=True)}\")\n",
    "frame2time((21200 - 19656), fps=80)"
   ]
  },
  {
   "cell_type": "markdown",
   "metadata": {},
   "source": [
    "## Methods Comparison"
   ]
  },
  {
   "cell_type": "code",
   "execution_count": null,
   "metadata": {},
   "outputs": [],
   "source": [
    "%matplotlib inline\n",
    "\n",
    "ManualEnds = [\n",
    "    frame2time(events, fps=80, reverse=True, clockformat=True)\n",
    "    for events in MagnetEvents[:, 1]\n",
    "]\n",
    "ManualStarts = [\n",
    "    frame2time(events, fps=80, reverse=True, clockformat=True)\n",
    "    for events in MagnetEvents[:, 0]\n",
    "]\n",
    "\n",
    "AutoMag = Magnetpeaks[0]\n",
    "AutoFly = FliesPeaks[0]\n",
    "\n",
    "\n",
    "AccuracyCheck_Plot = plt.plot(DerY)\n",
    "plt.scatter(frames[AutoMag], DerY[AutoMag], color=\"green\", s=25, marker=\"x\")\n",
    "plt.scatter(frames[AutoFly], DerY[AutoFly], color=\"red\", s=25, marker=\"x\")\n",
    "plt.vlines(frames[ManualEnds], ymin=-1, ymax=1, color=\"red\", linestyles=\"dashed\")\n",
    "plt.vlines(frames[ManualStarts], ymin=-1, ymax=1, color=\"green\", linestyles=\"dashed\")\n",
    "plt.figure(dpi=300)\n",
    "\n",
    "print(\n",
    "    f\"Manually labeled values: {([frame2time(event, fps=80, clockformat=True) for event in ManualEnds])}\"\n",
    ")\n",
    "\n",
    "print(\n",
    "    f\"Automatically labeled vvalues: {([frame2time(event, fps=80, clockformat=True) for event in AutoMag])}\"\n",
    ")"
   ]
  },
  {
   "cell_type": "markdown",
   "metadata": {},
   "source": [
    "Note: up peaks are actually starts, which makes sense, as y is reverted. ends seem also detectable from the same method, because flies final pushes are usually quick enough for the derivative to be significantly different from the rest\n",
    "\n",
    "Note also that another strategy would be only to detect magnet events and work from there (magnet events are new starts, e.g. previous trial should have ended shortly before)."
   ]
  },
  {
   "cell_type": "markdown",
   "metadata": {},
   "source": [
    "## Test on using only magnet events for trial splitting\n",
    "\n",
    "### Plot time between end of previous trial and magnet even distribution"
   ]
  },
  {
   "cell_type": "code",
   "execution_count": null,
   "metadata": {},
   "outputs": [],
   "source": [
    "Starts = [\n",
    "    frame2time(events, fps=80, reverse=True, clockformat=True)\n",
    "    for events in MagnetEvents[:, 0]\n",
    "]\n",
    "\n",
    "Ends = [\n",
    "    frame2time(events, fps=80, reverse=True, clockformat=True)\n",
    "    for events in MagnetEvents[:, 1]\n",
    "]"
   ]
  },
  {
   "cell_type": "code",
   "execution_count": null,
   "metadata": {},
   "outputs": [],
   "source": [
    "latency = [(start - end) for start, end in zip(Starts[1:], Ends[:-1])]\n",
    "\n",
    "Latency_Hist = plt.hist(latency)"
   ]
  },
  {
   "cell_type": "code",
   "execution_count": null,
   "metadata": {},
   "outputs": [],
   "source": [
    "max(latency) / 80"
   ]
  },
  {
   "cell_type": "markdown",
   "metadata": {},
   "source": [
    "Note: Might be too spread. At max, there is still almost 2 minutes latency."
   ]
  },
  {
   "cell_type": "code",
   "execution_count": null,
   "metadata": {},
   "outputs": [],
   "source": [
    "average_latency = np.average(latency)\n",
    "\n",
    "EstimatedEnds = [(i - average_latency) for i in AutoMag[1:]]\n",
    "\n",
    "AvgLat_Plot = (\n",
    "    hv.Curve(DerY).opts(\n",
    "        height=1000,\n",
    "        width=1000,\n",
    "    )\n",
    "    * hv.Points((frames[AutoMag], DerY[AutoMag])).opts(\n",
    "        size=15,\n",
    "        marker=\"x\",\n",
    "        color=\"red\",\n",
    "    )\n",
    "    * hv.Spikes(ManualEnds)\n",
    "    * hv.Spikes(EstimatedEnds).opts(\n",
    "        color=\"red\",\n",
    "        spike_length=1,\n",
    "        position=-0.5,\n",
    "    )\n",
    ")\n",
    "\n",
    "# AvgLat_Plot"
   ]
  },
  {
   "cell_type": "code",
   "execution_count": null,
   "metadata": {},
   "outputs": [],
   "source": [
    "# Biggest discrepancy:\n",
    "frame2time(241461 - 236880, fps=80, clockformat=True)\n",
    "\n",
    "# Timestamps:\n",
    "print(f\"manual recording: {frame2time(236880, fps=80, clockformat=True)}\")\n",
    "print(f\"auto detected: {frame2time(241461, fps=80, clockformat=True)}\")"
   ]
  },
  {
   "cell_type": "markdown",
   "metadata": {},
   "source": [
    "### Test timestamps accuracy"
   ]
  },
  {
   "cell_type": "code",
   "execution_count": null,
   "metadata": {},
   "outputs": [],
   "source": [
    "# Don't know what I was trying to do here\n",
    "# cap = cv2.VideoCapture(VideoPath.as_posix())\n",
    "# cap.set(cv2.CAP_PROP_FRAMES, AutoMag[0] - 1)\n",
    "# res, frame = cap.read()"
   ]
  },
  {
   "cell_type": "code",
   "execution_count": null,
   "metadata": {},
   "outputs": [],
   "source": [
    "frame2time(AutoMag[0], fps=80, clockformat=True)"
   ]
  },
  {
   "cell_type": "markdown",
   "metadata": {
    "tags": [
     "Current trial split method"
    ]
   },
   "source": [
    "## 2-steps trials splits\n",
    "\n",
    "Here the idea is to use magnet events as a first splitting method as these are super accurate. Then, remove some initial value to avoid early weirdness due to magnet still being around. Finally, within each detected trial, set a threshold and stop the trial as soon a the threshold had been reached for the first time."
   ]
  },
  {
   "cell_type": "code",
   "execution_count": null,
   "metadata": {
    "tags": []
   },
   "outputs": [],
   "source": [
    "# Add a last value used as token to implement last trial\n",
    "data = pd.read_csv(\n",
    "    VideoPath.parent.joinpath(\"BallPositions.csv\").as_posix(),\n",
    ")\n",
    "\n",
    "# Add smoothed values to the dataframe\n",
    "\n",
    "data[\"ysmooth\"] = ysmooth\n",
    "# MagnetEvents = np.append(AutoMag, max(data.frame))\n",
    "\n",
    "data"
   ]
  },
  {
   "cell_type": "code",
   "execution_count": null,
   "metadata": {},
   "outputs": [],
   "source": [
    "len(MagnetEvents)"
   ]
  },
  {
   "cell_type": "code",
   "execution_count": null,
   "metadata": {},
   "outputs": [],
   "source": [
    "Magnetpeaks"
   ]
  },
  {
   "cell_type": "code",
   "execution_count": null,
   "metadata": {},
   "outputs": [],
   "source": [
    "MagnetEvents = np.append(0, Magnetpeaks[0])"
   ]
  },
  {
   "cell_type": "code",
   "execution_count": null,
   "metadata": {},
   "outputs": [],
   "source": [
    "data = pd.read_csv(\n",
    "    VideoPath.parent.joinpath(\"BallPositions.csv\").as_posix(),\n",
    ")\n",
    "data[\"ysmooth\"] = ysmooth\n",
    "data[\"TrialNumber_init\"] = None\n",
    "\n",
    "for t in range(len(MagnetEvents) - 1):\n",
    "\n",
    "    data.loc[MagnetEvents[t] : MagnetEvents[t + 1], \"TrialNumber_init\"] = t + 1\n",
    "\n",
    "data.loc[MagnetEvents[-1] :, \"TrialNumber_init\"] = len(MagnetEvents)\n",
    "\n",
    "\n",
    "data"
   ]
  },
  {
   "cell_type": "code",
   "execution_count": null,
   "metadata": {},
   "outputs": [],
   "source": [
    "data = data.dropna(subset=\"TrialNumber_init\")\n",
    "\n",
    "data.head()"
   ]
  },
  {
   "cell_type": "code",
   "execution_count": null,
   "metadata": {},
   "outputs": [],
   "source": [
    "GroupDf = data.groupby(\"TrialNumber_init\", as_index=False)\n",
    "\n",
    "data = GroupDf.apply(lambda x: x.reset_index(drop=True)).reset_index()\n",
    "\n",
    "data.rename(columns={\"level_1\": \"Time\"}, inplace=True)\n",
    "data = data.sort_values(by=[\"TrialNumber_init\", \"Time\"])"
   ]
  },
  {
   "cell_type": "code",
   "execution_count": null,
   "metadata": {},
   "outputs": [],
   "source": [
    "Curves = (\n",
    "    hv.Curve(\n",
    "        data=data,\n",
    "        kdims=[\"Time\"],\n",
    "        vdims=[\n",
    "            \"ysmooth\",\n",
    "            \"TrialNumber_init\",\n",
    "        ],\n",
    "    )\n",
    "    .groupby(\"TrialNumber_init\")\n",
    "    .opts(\n",
    "        height=1000,\n",
    "        width=1000,\n",
    "        invert_yaxis=True,\n",
    "        color=hv.Palette(\"Viridis\"),\n",
    "        tools=[\n",
    "            \"hover\",\n",
    "            \"crosshair\",\n",
    "        ],\n",
    "        muted=True,\n",
    "    )\n",
    "    .overlay()\n",
    ")\n",
    "Curves"
   ]
  },
  {
   "attachments": {},
   "cell_type": "markdown",
   "metadata": {},
   "source": [
    "Trial 14 is a false positive. Upon checking the video it appears the magnet has been accidentally moved and replaced. "
   ]
  },
  {
   "cell_type": "code",
   "execution_count": null,
   "metadata": {},
   "outputs": [],
   "source": [
    "# Drop the values associated with Trial 14\n",
    "data = data[data[\"TrialNumber_init\"] != 14]\n",
    "# Also drop the associated Magnet Event, which is the 13th one\n",
    "MagnetEvents = np.delete(MagnetEvents, 13)"
   ]
  },
  {
   "attachments": {},
   "cell_type": "markdown",
   "metadata": {},
   "source": [
    "> I keep alternatineg between detecting an outlier and not detecting it. Weird."
   ]
  },
  {
   "attachments": {},
   "cell_type": "markdown",
   "metadata": {},
   "source": [
    "This is just an example of pandas dataframe browsing. It's not used in the code."
   ]
  },
  {
   "cell_type": "code",
   "execution_count": null,
   "metadata": {},
   "outputs": [],
   "source": [
    "data.loc[(data[\"TrialNumber_init\"] == 23) & (data[\"Time\"] == 15937)]"
   ]
  },
  {
   "cell_type": "code",
   "execution_count": null,
   "metadata": {},
   "outputs": [],
   "source": [
    "frame2time(261428, fps=80, clockformat=True)"
   ]
  },
  {
   "cell_type": "markdown",
   "metadata": {},
   "source": [
    "After a first glance at the data, two things need to be done.\n",
    "\n",
    "### Find 'success' threshold"
   ]
  },
  {
   "cell_type": "code",
   "execution_count": null,
   "metadata": {},
   "outputs": [],
   "source": [
    "# First looking for smallest max value : (using min because reverted axis)\n",
    "data.groupby(\"TrialNumber_init\").min()"
   ]
  },
  {
   "cell_type": "markdown",
   "metadata": {},
   "source": [
    "smallest max ypos is 38. Round it to 40 and keep only values that are above this."
   ]
  },
  {
   "cell_type": "code",
   "execution_count": null,
   "metadata": {},
   "outputs": [],
   "source": [
    "data.loc[data[\"ypos\"] <= 40].groupby(\"TrialNumber_init\").first()"
   ]
  },
  {
   "cell_type": "code",
   "execution_count": null,
   "metadata": {},
   "outputs": [],
   "source": [
    "Thresh_Ends = data.loc[data[\"ypos\"] <= 40].groupby(\"TrialNumber_init\").first()[\"frame\"]\n",
    "Thresh_Ends"
   ]
  },
  {
   "cell_type": "code",
   "execution_count": null,
   "metadata": {},
   "outputs": [],
   "source": [
    "data[\"TrialNumber\"] = None  # Need reset otherwise no NA drops\n",
    "\n",
    "for t in range(len(MagnetEvents)):\n",
    "\n",
    "    data.loc[MagnetEvents[t] : Thresh_Ends.values[t], \"TrialNumber\"] = t + 1"
   ]
  },
  {
   "cell_type": "code",
   "execution_count": null,
   "metadata": {},
   "outputs": [],
   "source": [
    "data = data.dropna(subset=\"TrialNumber\")\n",
    "\n",
    "data = data.drop([\"level_0\", \"Unnamed: 0\"], axis=1)\n",
    "\n",
    "data"
   ]
  },
  {
   "cell_type": "markdown",
   "metadata": {},
   "source": [
    "### Remove first 500 frames"
   ]
  },
  {
   "cell_type": "code",
   "execution_count": null,
   "metadata": {},
   "outputs": [],
   "source": [
    "# Drop positions before 500 frames\n",
    "data.drop(data.loc[data[\"Time\"] <= 500].index, inplace=True)\n",
    "\n",
    "# Reset Time\n",
    "# data = GroupDf.apply(lambda x: x.reset_index(drop=True)).reset_index()\n",
    "# data.rename(columns={'level_1': 'CorrTime'}, inplace=True)\n",
    "# data = data.sort_values(by=['TrialNumber', 'CorrTime'])"
   ]
  },
  {
   "cell_type": "code",
   "execution_count": null,
   "metadata": {},
   "outputs": [],
   "source": [
    "# Replot to check data quality\n",
    "Curves = (\n",
    "    hv.Curve(\n",
    "        data=data,\n",
    "        kdims=[\"Time\"],\n",
    "        vdims=[\n",
    "            \"ysmooth\",\n",
    "            \"TrialNumber\",\n",
    "        ],\n",
    "    )\n",
    "    .groupby(\"TrialNumber\")\n",
    "    .opts(\n",
    "        height=1000,\n",
    "        width=1000,\n",
    "        invert_yaxis=True,\n",
    "        color=hv.Palette(\"Plasma\"),\n",
    "        tools=[\n",
    "            \"hover\",\n",
    "        ],\n",
    "        muted=True,\n",
    "    )\n",
    "    .overlay()\n",
    ")\n",
    "\n",
    "Curves"
   ]
  },
  {
   "attachments": {},
   "cell_type": "markdown",
   "metadata": {},
   "source": [
    "## Save HTML plot"
   ]
  },
  {
   "cell_type": "code",
   "execution_count": null,
   "metadata": {},
   "outputs": [],
   "source": [
    "hv.save(Curves, \"/mnt/labserver/DURRIEU_Matthias/Pictures/Arena4.html\", backend=\"bokeh\")"
   ]
  },
  {
   "cell_type": "markdown",
   "metadata": {},
   "source": [
    "# Plotting ball position per trials\n",
    "\n",
    "## Load Magnet events"
   ]
  },
  {
   "cell_type": "code",
   "execution_count": null,
   "metadata": {},
   "outputs": [],
   "source": [
    "MagnetEvents = np.load(VideoPath.parent.joinpath('Magnet_Events.npy').as_posix(),\n",
    "                 allow_pickle = True)\n",
    "MagnetEvents"
   ]
  },
  {
   "cell_type": "code",
   "execution_count": null,
   "metadata": {},
   "outputs": [],
   "source": [
    "Starts = [frame2time(events, fps=80, reverse=True, clockformat=True) for events in MagnetEvents[:, 0]]\n",
    "\n",
    "Ends = [frame2time(events, fps=80, reverse=True, clockformat=True) for events in MagnetEvents[:, 1]]"
   ]
  },
  {
   "cell_type": "markdown",
   "metadata": {},
   "source": [
    "## Map Trials to Dataframe"
   ]
  },
  {
   "cell_type": "code",
   "execution_count": null,
   "metadata": {},
   "outputs": [],
   "source": [
    "data = pd.read_csv(VideoPath.parent.joinpath('BallPositions.csv').as_posix(),)\n",
    "\n",
    "data['TrialNumber'] = None\n",
    "\n",
    "for t in range(len(Events)):\n",
    "    data.loc[Starts[t]:Ends[t], 'TrialNumber'] = t+1\n",
    "\n",
    "data = data.dropna(subset='TrialNumber')"
   ]
  },
  {
   "cell_type": "markdown",
   "metadata": {},
   "source": [
    "## Add timer for each trial"
   ]
  },
  {
   "cell_type": "code",
   "execution_count": null,
   "metadata": {},
   "outputs": [],
   "source": [
    "GroupDf = data.groupby('TrialNumber', as_index=False)\n",
    "\n",
    "data = GroupDf.apply(lambda x: x.reset_index(drop=True)).reset_index()\n",
    "\n",
    "data.rename(columns = {'level_1':'Time'}, inplace = True)\n",
    "data = data.sort_values(by = ['TrialNumber', 'Time'])"
   ]
  },
  {
   "cell_type": "markdown",
   "metadata": {},
   "source": [
    "## Plot all trials ball positions over time"
   ]
  },
  {
   "cell_type": "code",
   "execution_count": null,
   "metadata": {},
   "outputs": [],
   "source": [
    "Curves = hv.Curve(data= data,\n",
    "                  kdims=['Time'],\n",
    "                  vdims=['ypos',\n",
    "                         'TrialNumber',\n",
    "                         ],\n",
    "                  ).groupby('TrialNumber'\n",
    "                            ).opts(\n",
    "    height = 1000,\n",
    "    width = 1000,\n",
    "    invert_yaxis = True,\n",
    "    color = hv.Palette('Viridis'),\n",
    "    tools = ['hover',\n",
    "             'crosshair',\n",
    "             ],\n",
    ").overlay()\n",
    "Curves"
   ]
  },
  {
   "cell_type": "markdown",
   "metadata": {},
   "source": [
    "## Compute and plot trial durations as function of trialNumber"
   ]
  },
  {
   "cell_type": "code",
   "execution_count": null,
   "metadata": {},
   "outputs": [],
   "source": [
    "Trialduration = GroupDf.size()"
   ]
  },
  {
   "cell_type": "code",
   "execution_count": null,
   "metadata": {},
   "outputs": [],
   "source": [
    "vals = Trialduration.values\n",
    "\n",
    "Trials = vals[:, 0]\n",
    "Durations = vals[:, 1]"
   ]
  },
  {
   "cell_type": "code",
   "execution_count": null,
   "metadata": {},
   "outputs": [],
   "source": [
    "DurationPlot = hv.Points((Trials, Durations)).opts(\n",
    "    size = 15,\n",
    "    marker = '+',\n",
    "    color = 'red',\n",
    ")\n",
    "\n",
    "DurationPlot"
   ]
  },
  {
   "cell_type": "markdown",
   "metadata": {},
   "source": [
    "## Test with auto magnets"
   ]
  },
  {
   "cell_type": "code",
   "execution_count": null,
   "metadata": {},
   "outputs": [],
   "source": [
    "data = pd.read_csv(VideoPath.parent.joinpath('BallPositions.csv').as_posix(),)\n",
    "\n",
    "data['TrialNumber'] = None\n",
    "\n",
    "for t in range(len(AutoMag)):\n",
    "    if t == 0:\n",
    "        data.loc[0:AutoMag[t], 'TrialNumber'] = t+1\n",
    "    else:\n",
    "        data.loc[AutoMag[t-1]+1:AutoMag[t], 'TrialNumber'] = t+1\n",
    "\n",
    "data = data.dropna(subset='TrialNumber')"
   ]
  },
  {
   "cell_type": "code",
   "execution_count": null,
   "metadata": {},
   "outputs": [],
   "source": [
    "GroupDf = data.groupby('TrialNumber', as_index=False)\n",
    "\n",
    "data = GroupDf.apply(lambda x: x.reset_index(drop=True)).reset_index()\n",
    "\n",
    "data.rename(columns = {'level_1':'Time'}, inplace = True)\n",
    "data = data.sort_values(by = ['TrialNumber', 'Time'])"
   ]
  },
  {
   "cell_type": "code",
   "execution_count": null,
   "metadata": {},
   "outputs": [],
   "source": [
    "Curves = hv.Curve(data= data,\n",
    "                  kdims=['Time'],\n",
    "                  vdims=['ypos',\n",
    "                         'TrialNumber',\n",
    "                         ],\n",
    "                  ).groupby('TrialNumber'\n",
    "                            ).opts(\n",
    "    height = 1000,\n",
    "    width = 1000,\n",
    "    invert_yaxis = True,\n",
    "    color = hv.Palette('Viridis'),\n",
    "    tools = ['hover',\n",
    "             'crosshair',\n",
    "             ],\n",
    ").overlay()\n",
    "Curves"
   ]
  },
  {
   "cell_type": "markdown",
   "metadata": {},
   "source": [
    "Note:"
   ]
  },
  {
   "cell_type": "markdown",
   "metadata": {},
   "source": [
    "## Add estimated ends to avoid drop at the end of trials"
   ]
  },
  {
   "cell_type": "code",
   "execution_count": null,
   "metadata": {},
   "outputs": [],
   "source": [
    "data = pd.read_csv(VideoPath.parent.joinpath('BallPositions.csv').as_posix(),)\n",
    "\n",
    "data['TrialNumber'] = None\n",
    "\n",
    "for t in range(len(AutoMag)-1):\n",
    "    if t == 0:\n",
    "        data.loc[0:EstimatedEnds[t], 'TrialNumber'] = t+1\n",
    "    else:\n",
    "        data.loc[AutoMag[t-1]+1:EstimatedEnds[t], 'TrialNumber'] = t+1\n",
    "\n",
    "data = data.dropna(subset='TrialNumber')"
   ]
  },
  {
   "cell_type": "code",
   "execution_count": null,
   "metadata": {},
   "outputs": [],
   "source": [
    "GroupDf = data.groupby('TrialNumber', as_index=False)\n",
    "\n",
    "data = GroupDf.apply(lambda x: x.reset_index(drop=True)).reset_index()\n",
    "\n",
    "data.rename(columns = {'level_1':'Time'}, inplace = True)\n",
    "data = data.sort_values(by = ['TrialNumber', 'Time'])"
   ]
  },
  {
   "cell_type": "code",
   "execution_count": null,
   "metadata": {},
   "outputs": [],
   "source": [
    "Curves = hv.Curve(data= data,\n",
    "                  kdims=['Time'],\n",
    "                  vdims=['ypos',\n",
    "                         'TrialNumber',\n",
    "                         ],\n",
    "                  ).groupby('TrialNumber'\n",
    "                            ).opts(\n",
    "    height = 1000,\n",
    "    width = 1000,\n",
    "    invert_yaxis = True,\n",
    "    color = hv.Palette('Viridis'),\n",
    "    tools = ['hover',\n",
    "             'crosshair',\n",
    "             ],\n",
    ").overlay()\n",
    "Curves"
   ]
  },
  {
   "cell_type": "markdown",
   "metadata": {},
   "source": [
    "Not accurate at all."
   ]
  },
  {
   "attachments": {},
   "cell_type": "markdown",
   "metadata": {},
   "source": [
    "# Test pipeline with another arena"
   ]
  },
  {
   "cell_type": "code",
   "execution_count": null,
   "metadata": {},
   "outputs": [],
   "source": [
    "# Linux path\n",
    "VideoPath = Path(\n",
    "    \"/home/durrieu/mnt/labserver/labserver/DURRIEU_Matthias/Experimental_data/Optogenetics/Optobot/MultiMazeBiS_15_Steel_Wax/Female_Starved_noWater/221116/102044_s0a0_p6-0/Arena5/Arena5.mp4\"\n",
    ")"
   ]
  },
  {
   "cell_type": "code",
   "execution_count": null,
   "metadata": {},
   "outputs": [],
   "source": [
    "# Mac path for alternative data\n",
    "\n",
    "VideoPath = Path(\n",
    "    \"/Volumes/Ramdya-Lab/DURRIEU_Matthias/Experimental_data/Optogenetics/Optobot/MultiMazeBiS_15_Steel_Wax/Female_Starved_noWater/221116/102044_s0a0_p6-0/Arena5/Arena5.mp4\"\n",
    ")\n"
   ]
  },
  {
   "cell_type": "code",
   "execution_count": null,
   "metadata": {},
   "outputs": [],
   "source": [
    "data = pd.read_csv(\n",
    "    VideoPath.parent.joinpath(\"BallPositions.csv\").as_posix(),\n",
    ")\n",
    "\n",
    "data.head()"
   ]
  },
  {
   "cell_type": "code",
   "execution_count": null,
   "metadata": {},
   "outputs": [],
   "source": [
    "x = data.loc[:, \"frame\"].values\n",
    "y = data.loc[:, \"ypos\"].values"
   ]
  },
  {
   "cell_type": "code",
   "execution_count": null,
   "metadata": {},
   "outputs": [],
   "source": []
  },
  {
   "cell_type": "code",
   "execution_count": null,
   "metadata": {},
   "outputs": [],
   "source": [
    "# Filter parameters\n",
    "cutoff = 0.01  # desired cutoff frequency of the filter, Hz ,      slightly higher than actual 1.2 Hz\n",
    "order = 1  # sin wave can be approx represented as quadratic\n",
    "\n",
    "ysmooth = butter_lowpass_filter(y, cutoff, order)\n",
    "TransfCurves = (\n",
    "    hv.Curve(y).opts(\n",
    "        height=1000,\n",
    "        width=1000,\n",
    "    )\n",
    "    * hv.Curve(ysmooth)\n",
    ")\n",
    "TransfCurves"
   ]
  },
  {
   "cell_type": "code",
   "execution_count": null,
   "metadata": {},
   "outputs": [],
   "source": [
    "%matplotlib inline\n",
    "DerY = np.diff(ysmooth)\n",
    "plt.plot(DerY)"
   ]
  },
  {
   "cell_type": "code",
   "execution_count": null,
   "metadata": {},
   "outputs": [],
   "source": [
    "Magnetpeaks = signal.find_peaks(\n",
    "    DerY,\n",
    "    distance=1000,\n",
    "    height=1,\n",
    "    # prominence=140,\n",
    "    # width=2000,\n",
    "    # threshold=-140,\n",
    "    # plateau_size=np.arange(1,3000,1, dtype=int)\n",
    ")\n",
    "\n",
    "plt.plot(DerY)\n",
    "plt.scatter(x[Magnetpeaks[0]], DerY[Magnetpeaks[0]], color=\"orange\")"
   ]
  },
  {
   "attachments": {},
   "cell_type": "markdown",
   "metadata": {},
   "source": [
    "Here the very begining of the experiment seems to be a magnet event, so no need to add 0 to the list of magnet events. However, I see another magnet event at the very end of the video, which is not relevant as the experiment is over."
   ]
  },
  {
   "cell_type": "code",
   "execution_count": null,
   "metadata": {},
   "outputs": [],
   "source": [
    "data[\"ysmooth\"] = ysmooth\n",
    "MagnetEvents = Magnetpeaks[0][:-1]"
   ]
  },
  {
   "cell_type": "code",
   "execution_count": null,
   "metadata": {},
   "outputs": [],
   "source": [
    "print(MagnetEvents[-1])\n",
    "print(Magnetpeaks[0][-1])"
   ]
  },
  {
   "cell_type": "code",
   "execution_count": null,
   "metadata": {},
   "outputs": [],
   "source": [
    "data[\"TrialNumber_init\"] = None\n",
    "\n",
    "for t in range(len(MagnetEvents) - 1):\n",
    "\n",
    "    data.loc[MagnetEvents[t] : MagnetEvents[t + 1], \"TrialNumber_init\"] = t + 1\n",
    "\n",
    "data.loc[MagnetEvents[-1] :, \"TrialNumber_init\"] = len(MagnetEvents)\n",
    "\n",
    "\n",
    "data"
   ]
  },
  {
   "cell_type": "code",
   "execution_count": null,
   "metadata": {},
   "outputs": [],
   "source": [
    "data = data.dropna(subset=\"TrialNumber_init\")\n",
    "\n",
    "data.head()"
   ]
  },
  {
   "cell_type": "code",
   "execution_count": null,
   "metadata": {},
   "outputs": [],
   "source": [
    "GroupDf = data.groupby(\"TrialNumber_init\", as_index=False)\n",
    "\n",
    "data = GroupDf.apply(lambda x: x.reset_index(drop=True)).reset_index()\n",
    "\n",
    "data.rename(columns={\"level_1\": \"Time\"}, inplace=True)\n",
    "data = data.sort_values(by=[\"TrialNumber_init\", \"Time\"])"
   ]
  },
  {
   "cell_type": "code",
   "execution_count": null,
   "metadata": {},
   "outputs": [],
   "source": [
    "Curves = (\n",
    "    hv.Curve(\n",
    "        data=data,\n",
    "        kdims=[\"Time\"],\n",
    "        vdims=[\n",
    "            \"ysmooth\",\n",
    "            \"TrialNumber_init\",\n",
    "        ],\n",
    "    )\n",
    "    .groupby(\"TrialNumber_init\")\n",
    "    .opts(\n",
    "        height=1000,\n",
    "        width=1000,\n",
    "        invert_yaxis=True,\n",
    "        color=hv.Palette(\"Plasma\"),\n",
    "        tools=[\n",
    "            \"hover\",\n",
    "            \"crosshair\",\n",
    "        ],\n",
    "        muted=True,\n",
    "    )\n",
    "    .overlay()\n",
    ")\n",
    "Curves"
   ]
  },
  {
   "attachments": {},
   "cell_type": "markdown",
   "metadata": {},
   "source": [
    "> Trial 2 is incomplete, along with 10 and 11. I should remove them from the analysis."
   ]
  },
  {
   "cell_type": "code",
   "execution_count": null,
   "metadata": {},
   "outputs": [],
   "source": []
  },
  {
   "attachments": {},
   "cell_type": "markdown",
   "metadata": {},
   "source": [
    "## Incomplete trials removal\n",
    "\n",
    "In some trials, flies don't push the ball all the way before it is replaced, let's implement a way to detect and remove these trials."
   ]
  },
  {
   "attachments": {},
   "cell_type": "markdown",
   "metadata": {},
   "source": [
    "### Find minimum y position for each trial\n",
    "\n",
    "Here I use the same method as for the success threshold, but I also set a cutoff value to identify any trial that has a minimum y position below this value."
   ]
  },
  {
   "cell_type": "code",
   "execution_count": null,
   "metadata": {},
   "outputs": [],
   "source": [
    "ymins = data.groupby(\"TrialNumber_init\").min()[\"ypos\"]\n",
    "\n",
    "ymins"
   ]
  },
  {
   "cell_type": "code",
   "execution_count": null,
   "metadata": {},
   "outputs": [],
   "source": [
    "print(f\"mean: {round(np.average(ymins))}\")\n",
    "print(f\"mean rounded to the nearest 10: {int(round(np.average(ymins),-1))}\")\n",
    "print(f\"median: {np.median(ymins)}\")"
   ]
  },
  {
   "attachments": {},
   "cell_type": "markdown",
   "metadata": {},
   "source": [
    ">Mean rounded to the nearest 10 seems to work well to identify threshold value. Could also go for the mean without rounding (or rounding to the nearest 5?)."
   ]
  },
  {
   "cell_type": "code",
   "execution_count": null,
   "metadata": {},
   "outputs": [],
   "source": [
    "BadTrials = ymins.loc[ymins > 53].index.to_list()"
   ]
  },
  {
   "cell_type": "code",
   "execution_count": null,
   "metadata": {},
   "outputs": [],
   "source": [
    "# Drop the values associated with detected bad trials\n",
    "trimmed_data = data.loc[~data[\"TrialNumber_init\"].isin(BadTrials)]"
   ]
  },
  {
   "cell_type": "code",
   "execution_count": null,
   "metadata": {},
   "outputs": [],
   "source": [
    "# Also drop the associated Magnet Events\n",
    "Mag_ymins = [v - 1 for v in BadTrials]\n",
    "MagnetEvents = np.delete(MagnetEvents, Mag_ymins)"
   ]
  },
  {
   "attachments": {},
   "cell_type": "markdown",
   "metadata": {},
   "source": [
    "Then I can reuse the same threshold defined earlier as success threshold."
   ]
  },
  {
   "cell_type": "code",
   "execution_count": null,
   "metadata": {},
   "outputs": [],
   "source": [
    "trimmed_data.loc[trimmed_data[\"ypos\"] <= 53].groupby(\"TrialNumber_init\").first()"
   ]
  },
  {
   "cell_type": "code",
   "execution_count": null,
   "metadata": {},
   "outputs": [],
   "source": [
    "Thresh_Ends = (\n",
    "    trimmed_data.loc[trimmed_data[\"ypos\"] <= 53]\n",
    "    .groupby(\"TrialNumber_init\")\n",
    "    .first()[\"frame\"]\n",
    ")\n",
    "Thresh_Ends"
   ]
  },
  {
   "cell_type": "code",
   "execution_count": null,
   "metadata": {},
   "outputs": [],
   "source": [
    "trimmed_data[\"TrialNumber\"] = None  # Need reset otherwise no NA drops\n",
    "\n",
    "for t in range(len(MagnetEvents)):\n",
    "\n",
    "    trimmed_data.loc[MagnetEvents[t] : Thresh_Ends.values[t], \"TrialNumber\"] = t + 1"
   ]
  },
  {
   "cell_type": "code",
   "execution_count": null,
   "metadata": {},
   "outputs": [],
   "source": [
    "trimmed_data = trimmed_data.dropna(subset=\"TrialNumber\")\n",
    "\n",
    "trimmed_data"
   ]
  },
  {
   "cell_type": "code",
   "execution_count": null,
   "metadata": {},
   "outputs": [],
   "source": [
    "# Drop positions before 500 frames\n",
    "trimmed_data.drop(trimmed_data.loc[trimmed_data[\"Time\"] <= 500].index, inplace=True)"
   ]
  },
  {
   "cell_type": "code",
   "execution_count": null,
   "metadata": {},
   "outputs": [],
   "source": [
    "Curves = (\n",
    "    hv.Curve(\n",
    "        data=trimmed_data,\n",
    "        kdims=[\"Time\"],\n",
    "        vdims=[\n",
    "            \"ysmooth\",\n",
    "            \"TrialNumber\",\n",
    "        ],\n",
    "    )\n",
    "    .groupby(\"TrialNumber\")\n",
    "    .opts(\n",
    "        height=1000,\n",
    "        width=1000,\n",
    "        invert_yaxis=True,\n",
    "        color=hv.Palette(\"Plasma\"),\n",
    "        tools=[\n",
    "            \"hover\",\n",
    "        ],\n",
    "        muted=True,\n",
    "    )\n",
    "    .overlay()\n",
    ")\n",
    "\n",
    "Curves"
   ]
  },
  {
   "cell_type": "code",
   "execution_count": null,
   "metadata": {},
   "outputs": [],
   "source": [
    "hv.save(Curves, \"/mnt/labserver/DURRIEU_Matthias/Pictures/Arena5.html\", backend=\"bokeh\")"
   ]
  },
  {
   "attachments": {},
   "cell_type": "markdown",
   "metadata": {},
   "source": [
    "> This worked pretty well. Now we might want to save 1) The processed dataset 2) The plots"
   ]
  },
  {
   "attachments": {},
   "cell_type": "markdown",
   "metadata": {},
   "source": [
    "## Saving useful data"
   ]
  },
  {
   "attachments": {},
   "cell_type": "markdown",
   "metadata": {},
   "source": [
    "### Saving processed data"
   ]
  },
  {
   "attachments": {},
   "cell_type": "markdown",
   "metadata": {},
   "source": [
    "> To do : drop useless columns and try saving as feather file."
   ]
  },
  {
   "cell_type": "code",
   "execution_count": null,
   "metadata": {},
   "outputs": [],
   "source": [
    "# drop level_0, index and TrialNumber_init columns from the trimmed_data dataframe\n",
    "trimmed_data = trimmed_data.drop(columns=[\"level_0\", \"TrialNumber_init\"]).reset_index()"
   ]
  },
  {
   "cell_type": "code",
   "execution_count": null,
   "metadata": {},
   "outputs": [],
   "source": [
    "trimmed_data.to_feather(VideoPath.parent.joinpath(\"BallPositions_Processed.feather\"))"
   ]
  },
  {
   "cell_type": "code",
   "execution_count": null,
   "metadata": {},
   "outputs": [],
   "source": [
    "# save the processed dataset as npy file in same folder as video\n",
    "\n",
    "checksave(\n",
    "    path=VideoPath.parent.joinpath(\"BallPositions_Processed.feather\"),\n",
    "    object=\"dataframe\",\n",
    "    file=trimmed_data,\n",
    ")"
   ]
  },
  {
   "attachments": {},
   "cell_type": "markdown",
   "metadata": {},
   "source": [
    "Just as test, see if I can recover the feather file properly"
   ]
  },
  {
   "cell_type": "code",
   "execution_count": null,
   "metadata": {},
   "outputs": [],
   "source": [
    "imp_data = pd.read_feather(VideoPath.parent.joinpath(\"BallPositions_Processed.feather\"))"
   ]
  },
  {
   "cell_type": "code",
   "execution_count": null,
   "metadata": {},
   "outputs": [],
   "source": [
    "GroupDf = trimmed_data.groupby(\"TrialNumber\", as_index=False)\n",
    "\n",
    "Trialduration = GroupDf.size()\n",
    "\n",
    "vals = Trialduration.values\n",
    "\n",
    "Trials = vals[:, 0]\n",
    "Durations = vals[:, 1]\n",
    "\n",
    "DurationPlot = hv.Points((Trials, Durations)).opts(\n",
    "    size=15,\n",
    "    marker=\"+\",\n",
    "    color=\"red\",\n",
    ")\n",
    "\n",
    "DurationPlot"
   ]
  },
  {
   "attachments": {},
   "cell_type": "markdown",
   "metadata": {},
   "source": [
    "# Apply the pipeline to the third arena with new methods"
   ]
  },
  {
   "cell_type": "code",
   "execution_count": null,
   "metadata": {},
   "outputs": [],
   "source": [
    "# Linux path\n",
    "VideoPath = Path(\n",
    "    \"/mnt/labserver/DURRIEU_Matthias/Experimental_data/Optogenetics/Optobot/MultiMazeBiS_15_Steel_Wax/Female_Starved_noWater/221116/102044_s0a0_p6-0/Arena6/Arena6.mp4\"\n",
    ")"
   ]
  },
  {
   "cell_type": "code",
   "execution_count": null,
   "metadata": {},
   "outputs": [],
   "source": [
    "# Mac path for alternative data\n",
    "\n",
    "VideoPath = Path(\n",
    "    \"/Volumes/Ramdya-Lab/DURRIEU_Matthias/Experimental_data/Optogenetics/Optobot/MultiMazeBiS_15_Steel_Wax/Female_Starved_noWater/221116/102044_s0a0_p6-0/Arena6/Arena6.mp4\"\n",
    ")"
   ]
  },
  {
   "cell_type": "code",
   "execution_count": null,
   "metadata": {},
   "outputs": [],
   "source": [
    "data = pd.read_csv(\n",
    "    VideoPath.parent.joinpath(\"BallPositions.csv\").as_posix(),\n",
    ")\n",
    "\n",
    "x = data.loc[:, \"frame\"].values\n",
    "y = data.loc[:, \"ypos\"].values\n",
    "\n",
    "cutoff = 0.01  # desired cutoff frequency of the filter, Hz ,      slightly higher than actual 1.2 Hz\n",
    "order = 1  # sin wave can be approx represented as quadratic\n",
    "\n",
    "ysmooth = butter_lowpass_filter(y, cutoff, order)\n",
    "TransfCurves = hv.Curve(y).opts(\n",
    "    height=1000,\n",
    "    width=1000,\n",
    ") * hv.Curve(ysmooth)\n",
    "\n",
    "DerY = np.diff(ysmooth)\n",
    "\n",
    "Magnetpeaks = signal.find_peaks(\n",
    "    DerY,\n",
    "    distance=1000,\n",
    "    height=1,\n",
    "    # prominence=140,\n",
    "    # width=2000,\n",
    "    # threshold=-140,\n",
    "    # plateau_size=np.arange(1,3000,1, dtype=int)\n",
    ")\n",
    "\n",
    "plt.plot(DerY)\n",
    "plt.scatter(x[Magnetpeaks[0]], DerY[Magnetpeaks[0]], color=\"orange\")\n",
    "\n",
    "data[\"ysmooth\"] = ysmooth\n",
    "MagnetEvents = Magnetpeaks[0][:-1]"
   ]
  },
  {
   "attachments": {},
   "cell_type": "markdown",
   "metadata": {},
   "source": [
    "> In this example, I see that there are small events that could be magnet, but the first one is quite late. Let's check this out."
   ]
  },
  {
   "cell_type": "code",
   "execution_count": null,
   "metadata": {},
   "outputs": [],
   "source": [
    "frame2time(MagnetEvents[0], fps=80, clockformat=True)"
   ]
  },
  {
   "attachments": {},
   "cell_type": "markdown",
   "metadata": {},
   "source": [
    "Definitely a magnet event. What about the the smaller ones?"
   ]
  },
  {
   "cell_type": "code",
   "execution_count": null,
   "metadata": {},
   "outputs": [],
   "source": [
    "# find the indices of DerY where DerY value is above 0.5\n",
    "Magnetpeaks_Alt = signal.find_peaks(\n",
    "    DerY,\n",
    "    distance=1000,\n",
    "    height=0.5,\n",
    "    # prominence=140,\n",
    "    # width=2000,\n",
    "    # threshold=-140,\n",
    "    # plateau_size=np.arange(1,3000,1, dtype=int)\n",
    ")\n",
    "\n",
    "plt.plot(DerY)\n",
    "plt.scatter(x[Magnetpeaks_Alt[0]], DerY[Magnetpeaks_Alt[0]], color=\"orange\")"
   ]
  },
  {
   "cell_type": "code",
   "execution_count": null,
   "metadata": {},
   "outputs": [],
   "source": [
    "frame2time(Magnetpeaks_Alt[0][1], fps=80, clockformat=True)"
   ]
  },
  {
   "attachments": {},
   "cell_type": "markdown",
   "metadata": {},
   "source": [
    "After checking, I find that these smaller peaks are magnet events that occur before the fly can manage to push the ball. These are thus called 'partial magnet events'."
   ]
  },
  {
   "attachments": {},
   "cell_type": "markdown",
   "metadata": {},
   "source": [
    "There are to ways to look at this :\n",
    "1. Replacing the magnet reset de facto the experiment. Thus, the trial is not valid and should be removed.\n",
    "2. Flies are still experiencing the ball and potentially learning something. Therefore, removing these pseudo-trials might create a bias, especially since the first trial is the most important one."
   ]
  },
  {
   "attachments": {},
   "cell_type": "markdown",
   "metadata": {},
   "source": [
    "## Detect and remove incomplete trials"
   ]
  },
  {
   "attachments": {},
   "cell_type": "markdown",
   "metadata": {},
   "source": [
    "Strategy: there seems to be a clear cutoff between complete and incomplete trials. Might need to adjust the threshold value from one experiment to the other but within one experiment, if settings are stable, peak detection should remain the same."
   ]
  },
  {
   "cell_type": "code",
   "execution_count": null,
   "metadata": {},
   "outputs": [],
   "source": [
    "# Find elements that are in Magnetpeaks_Alt[0] but not in Magnetpeaks[0]\n",
    "np.setdiff1d(Magnetpeaks_Alt[0], Magnetpeaks[0])"
   ]
  },
  {
   "attachments": {},
   "cell_type": "markdown",
   "metadata": {},
   "source": [
    "> Note: Here from trial to trial what can change is whether there is a magnet event at the very begining, the very end or neither. If there is no trial at the begining, I need to add a 0 to the list of magnet events. If there is no trial at the end, I need to remove the last magnet event from the list. "
   ]
  },
  {
   "attachments": {},
   "cell_type": "markdown",
   "metadata": {},
   "source": [
    "In this dataset, there is a magnet event close to the end. How to handle that? Perhaps no need to, as either it will be a valid trial and taken into consideration, or it won't and be automatically removed following method developped on the previous dataset. Why not try the same for early magnet events and systematically add a 0 value to all Magnet events arrays?"
   ]
  },
  {
   "cell_type": "code",
   "execution_count": null,
   "metadata": {},
   "outputs": [],
   "source": [
    "print(Magnetpeaks[0])\n",
    "print(len(DerY))"
   ]
  },
  {
   "cell_type": "code",
   "execution_count": null,
   "metadata": {},
   "outputs": [],
   "source": [
    "data[\"ysmooth\"] = ysmooth\n",
    "MagnetEvents = np.append(0, Magnetpeaks_Alt[0])\n",
    "\n",
    "data[\"TrialNumber_init\"] = None\n",
    "\n",
    "for t in range(len(MagnetEvents) - 1):\n",
    "    data.loc[MagnetEvents[t] : MagnetEvents[t + 1], \"TrialNumber_init\"] = t + 1\n",
    "\n",
    "data.loc[MagnetEvents[-1] :, \"TrialNumber_init\"] = len(MagnetEvents)\n",
    "\n",
    "GroupDf = data.groupby(\"TrialNumber_init\", as_index=False)\n",
    "\n",
    "data = GroupDf.apply(lambda x: x.reset_index(drop=True)).reset_index()\n",
    "\n",
    "data.rename(columns={\"level_1\": \"Time\"}, inplace=True)\n",
    "data = data.sort_values(by=[\"TrialNumber_init\", \"Time\"])\n",
    "\n",
    "Curves = (\n",
    "    hv.Curve(\n",
    "        data=data,\n",
    "        kdims=[\"Time\"],\n",
    "        vdims=[\n",
    "            \"ysmooth\",\n",
    "            \"TrialNumber_init\",\n",
    "        ],\n",
    "    )\n",
    "    .groupby(\"TrialNumber_init\")\n",
    "    .opts(\n",
    "        height=1000,\n",
    "        width=1000,\n",
    "        invert_yaxis=True,\n",
    "        color=hv.Palette(\"Plasma\"),\n",
    "        tools=[\n",
    "            \"hover\",\n",
    "            \"crosshair\",\n",
    "        ],\n",
    "        muted=True,\n",
    "    )\n",
    "    .overlay()\n",
    ")\n",
    "Curves"
   ]
  },
  {
   "cell_type": "code",
   "execution_count": null,
   "metadata": {},
   "outputs": [],
   "source": [
    "Curves = (\n",
    "    hv.Curve(\n",
    "        data=data,\n",
    "        kdims=[\"Time\"],\n",
    "        vdims=[\n",
    "            \"ysmooth\",\n",
    "            \"TrialNumber_init\",\n",
    "        ],\n",
    "    )\n",
    "    .groupby(\"TrialNumber_init\")\n",
    "    .opts(\n",
    "        height=1000,\n",
    "        width=1000,\n",
    "        invert_yaxis=True,\n",
    "        color=hv.Palette(\"Plasma\"),\n",
    "        tools=[\n",
    "            \"hover\",\n",
    "            \"crosshair\",\n",
    "        ],\n",
    "        muted=True,\n",
    "    )\n",
    "    .overlay()\n",
    ")\n",
    "\n",
    "Curves"
   ]
  },
  {
   "attachments": {},
   "cell_type": "markdown",
   "metadata": {},
   "source": [
    "This is a very good example to test trial selection based on success threshold"
   ]
  },
  {
   "cell_type": "code",
   "execution_count": null,
   "metadata": {},
   "outputs": [],
   "source": []
  },
  {
   "cell_type": "code",
   "execution_count": null,
   "metadata": {},
   "outputs": [],
   "source": [
    "ymins = data.groupby(\"TrialNumber_init\").min()[\"ypos\"]\n",
    "\n",
    "ymins"
   ]
  },
  {
   "cell_type": "code",
   "execution_count": null,
   "metadata": {},
   "outputs": [],
   "source": [
    "print(f\"mean: {round(np.average(ymins))}\")\n",
    "print(f\"mean rounded to the nearest 10: {int(round(np.average(ymins),-1))}\")\n",
    "print(f\"median: {np.median(ymins)}\")"
   ]
  },
  {
   "attachments": {},
   "cell_type": "markdown",
   "metadata": {},
   "source": [
    "> Here getting the average correctly detects outliers, which are two first trials (partial magnet events) and the last one (incomplete trial at the end of the recording). However, the threshold is quite high and would remove a lot of data if applied to the whole dataset. Instead I should just take the highest value of the non-outliers and use it as a threshold."
   ]
  },
  {
   "cell_type": "code",
   "execution_count": null,
   "metadata": {},
   "outputs": [],
   "source": [
    "# Find the maximum value of ymins among values that are lower than the mean\n",
    "succ_thresh = ymins[ymins < np.average(ymins)].max()"
   ]
  },
  {
   "cell_type": "code",
   "execution_count": null,
   "metadata": {},
   "outputs": [],
   "source": [
    "BadTrials = ymins.loc[ymins > succ_thresh].index.to_list()"
   ]
  },
  {
   "cell_type": "code",
   "execution_count": null,
   "metadata": {},
   "outputs": [],
   "source": [
    "trimmed_data = data.loc[~data[\"TrialNumber_init\"].isin(BadTrials)]\n",
    "Mag_ymins = [v - 1 for v in BadTrials]\n",
    "MagnetEvents = np.delete(MagnetEvents, Mag_ymins)\n",
    "\n",
    "\n",
    "Thresh_Ends = (\n",
    "    trimmed_data.loc[trimmed_data[\"ypos\"] <= 53]\n",
    "    .groupby(\"TrialNumber_init\")\n",
    "    .first()[\"frame\"]\n",
    ")\n",
    "\n",
    "trimmed_data[\"TrialNumber\"] = None  # Need reset otherwise no NA drops\n",
    "\n",
    "for t in range(len(MagnetEvents)):\n",
    "    trimmed_data.loc[MagnetEvents[t] : Thresh_Ends.values[t], \"TrialNumber\"] = t + 1\n",
    "\n",
    "trimmed_data = trimmed_data.dropna(subset=\"TrialNumber\")\n",
    "\n",
    "trimmed_data"
   ]
  },
  {
   "attachments": {},
   "cell_type": "markdown",
   "metadata": {},
   "source": [
    "### Convert Time in frames in time in seconds"
   ]
  },
  {
   "cell_type": "code",
   "execution_count": null,
   "metadata": {},
   "outputs": [],
   "source": [
    "trimmed_data[\"Time_sec\"] = trimmed_data[\"Time\"] / 80"
   ]
  },
  {
   "cell_type": "code",
   "execution_count": null,
   "metadata": {},
   "outputs": [],
   "source": [
    "# Drop positions before 500 frames\n",
    "trimmed_data.drop(trimmed_data.loc[trimmed_data[\"Time\"] <= 500].index, inplace=True)\n",
    "\n",
    "Curves = (\n",
    "    hv.Curve(\n",
    "        data=trimmed_data,\n",
    "        kdims=[\"Time_sec\"],\n",
    "        vdims=[\n",
    "            \"ysmooth\",\n",
    "            \"TrialNumber\",\n",
    "        ],\n",
    "    )\n",
    "    .groupby(\"TrialNumber\")\n",
    "    .opts(\n",
    "        height=1000,\n",
    "        width=1000,\n",
    "        invert_yaxis=True,\n",
    "        color=hv.Palette(\"Viridis\"),\n",
    "        tools=[\n",
    "            \"hover\",\n",
    "        ],\n",
    "        xlabel=\"Time (sec)\",\n",
    "        ylabel=\"Ball position (y coordinates)\",\n",
    "        fontscale=2,\n",
    "        # muted=True,\n",
    "    )\n",
    "    .overlay()\n",
    ")\n",
    "\n",
    "Curves"
   ]
  },
  {
   "cell_type": "code",
   "execution_count": null,
   "metadata": {},
   "outputs": [],
   "source": [
    "hv.save(\n",
    "    Curves, \"/mnt/labserver/DURRIEU_Matthias/Pictures/FyssenReport/SignatureCurve.png\"\n",
    ")\n",
    "hv.save(\n",
    "    Curves, \"/mnt/labserver/DURRIEU_Matthias/Pictures/FyssenReport/SignatureCurve.html\"\n",
    ")"
   ]
  },
  {
   "cell_type": "code",
   "execution_count": null,
   "metadata": {},
   "outputs": [],
   "source": [
    "import holoviews as hv\n",
    "from bokeh.io import export_svgs\n",
    "\n",
    "p = hv.render(Curves, backend=\"bokeh\")\n",
    "p.output_backend = \"svg\"\n",
    "export_svgs(\n",
    "    p,\n",
    "    filename=\"/mnt/labserver/DURRIEU_Matthias/Pictures/FlyTrajectories3_betterlabels.svg\",\n",
    ")"
   ]
  },
  {
   "attachments": {},
   "cell_type": "markdown",
   "metadata": {},
   "source": [
    "What I note here is that removing the partial magnet events removed a lot of information from the first trial and I end up with a very short first trialn which is not what actually happens. I should thus keep the partial magnet events and just remove the incomplete trials at the end."
   ]
  },
  {
   "attachments": {},
   "cell_type": "markdown",
   "metadata": {},
   "source": [
    "## Same procedure but keeping partial magnet events"
   ]
  },
  {
   "cell_type": "code",
   "execution_count": null,
   "metadata": {},
   "outputs": [],
   "source": [
    "data = pd.read_csv(\n",
    "    VideoPath.parent.joinpath(\"BallPositions.csv\").as_posix(),\n",
    ")\n",
    "\n",
    "data[\"ysmooth\"] = ysmooth\n",
    "MagnetEvents = np.append(0, Magnetpeaks[0])\n",
    "\n",
    "data[\"TrialNumber_init\"] = None\n",
    "\n",
    "for t in range(len(MagnetEvents) - 1):\n",
    "\n",
    "    data.loc[MagnetEvents[t] : MagnetEvents[t + 1], \"TrialNumber_init\"] = t + 1\n",
    "\n",
    "data.loc[MagnetEvents[-1] :, \"TrialNumber_init\"] = len(MagnetEvents)\n",
    "\n",
    "GroupDf = data.groupby(\"TrialNumber_init\", as_index=False)\n",
    "\n",
    "data = GroupDf.apply(lambda x: x.reset_index(drop=True)).reset_index()\n",
    "\n",
    "data.rename(columns={\"level_1\": \"Time\"}, inplace=True)\n",
    "data = data.sort_values(by=[\"TrialNumber_init\", \"Time\"])\n",
    "\n",
    "ymins = data.groupby(\"TrialNumber_init\").min()[\"ypos\"]\n",
    "\n",
    "ymins"
   ]
  },
  {
   "cell_type": "code",
   "execution_count": null,
   "metadata": {},
   "outputs": [],
   "source": [
    "print(f\"mean: {round(np.average(ymins))}\")"
   ]
  },
  {
   "attachments": {},
   "cell_type": "markdown",
   "metadata": {},
   "source": [
    "Now my outlier detection method is too coarse. Not enough outliers so the average value is lower and detects trial 1 as outlier which it's not. Let's use a more precise method."
   ]
  },
  {
   "attachments": {},
   "cell_type": "markdown",
   "metadata": {},
   "source": [
    "### Find outliers in ymins"
   ]
  },
  {
   "attachments": {},
   "cell_type": "markdown",
   "metadata": {},
   "source": [
    "#### Method 1: Z-score"
   ]
  },
  {
   "cell_type": "code",
   "execution_count": null,
   "metadata": {},
   "outputs": [],
   "source": [
    "# find outliers in ymins\n",
    "from scipy import stats\n",
    "\n",
    "np.abs(stats.zscore(ymins))"
   ]
  },
  {
   "attachments": {},
   "cell_type": "markdown",
   "metadata": {},
   "source": [
    "Here I can clearly see where the outlier is but I need to manually set a threshold, which is no ideal."
   ]
  },
  {
   "cell_type": "code",
   "execution_count": null,
   "metadata": {},
   "outputs": [],
   "source": [
    "interquart = np.percentile(ymins, 75) - np.percentile(ymins, 25)\n",
    "\n",
    "upper = ymins >= (np.percentile(ymins, 75) + 1.5 * interquart)\n",
    "\n",
    "upper"
   ]
  },
  {
   "cell_type": "code",
   "execution_count": null,
   "metadata": {},
   "outputs": [],
   "source": [
    "hv.BoxWhisker(ymins)"
   ]
  },
  {
   "attachments": {},
   "cell_type": "markdown",
   "metadata": {},
   "source": [
    "Here I also set 1st trial as outlier."
   ]
  },
  {
   "cell_type": "code",
   "execution_count": null,
   "metadata": {},
   "outputs": [],
   "source": [
    "rg = np.random.default_rng()\n",
    "\n",
    "\n",
    "def draw_bs_rep(data, func, rg):\n",
    "    \"\"\"Compute a bootstrap replicate from data.\"\"\"\n",
    "    bs_sample = rg.choice(data, size=len(data))\n",
    "    return func(bs_sample)\n",
    "\n",
    "\n",
    "def draw_bs_ci(data, func=np.mean, rg=rg, n_reps=2000):\n",
    "    \"\"\"Sample bootstrap multiple times and compute confidence interval\"\"\"\n",
    "    bs_reps = np.array([draw_bs_rep(data, func, rg) for _ in range(n_reps)])\n",
    "    conf_int = np.percentile(bs_reps, [2.5, 97.5])\n",
    "    return conf_int"
   ]
  },
  {
   "cell_type": "code",
   "execution_count": null,
   "metadata": {},
   "outputs": [],
   "source": [
    "ymins_CI = draw_bs_ci(ymins)"
   ]
  },
  {
   "attachments": {},
   "cell_type": "markdown",
   "metadata": {},
   "source": [
    "Looks good!"
   ]
  },
  {
   "cell_type": "code",
   "execution_count": null,
   "metadata": {},
   "outputs": [],
   "source": [
    "succ_thresh = ymins[ymins < ymins_CI[1]].max()\n",
    "\n",
    "BadTrials = ymins.loc[ymins > succ_thresh].index.to_list()"
   ]
  },
  {
   "cell_type": "code",
   "execution_count": null,
   "metadata": {},
   "outputs": [],
   "source": [
    "trimmed_data = data.loc[~data[\"TrialNumber_init\"].isin(BadTrials)]\n",
    "Mag_ymins = [v - 1 for v in BadTrials]\n",
    "MagnetEvents = np.delete(MagnetEvents, Mag_ymins)\n",
    "\n",
    "\n",
    "Thresh_Ends = (\n",
    "    trimmed_data.loc[trimmed_data[\"ypos\"] <= 53]\n",
    "    .groupby(\"TrialNumber_init\")\n",
    "    .first()[\"frame\"]\n",
    ")\n",
    "\n",
    "trimmed_data[\"TrialNumber\"] = None  # Need reset otherwise no NA drops\n",
    "\n",
    "for t in range(len(MagnetEvents)):\n",
    "\n",
    "    trimmed_data.loc[MagnetEvents[t] : Thresh_Ends.values[t], \"TrialNumber\"] = t + 1\n",
    "\n",
    "trimmed_data = trimmed_data.dropna(subset=\"TrialNumber\")\n",
    "\n",
    "trimmed_data"
   ]
  },
  {
   "cell_type": "code",
   "execution_count": null,
   "metadata": {},
   "outputs": [],
   "source": [
    "# Drop positions before 500 frames\n",
    "trimmed_data.drop(trimmed_data.loc[trimmed_data[\"Time\"] <= 500].index, inplace=True)\n",
    "\n",
    "Curves = (\n",
    "    hv.Curve(\n",
    "        data=trimmed_data,\n",
    "        kdims=[\"Time\"],\n",
    "        vdims=[\n",
    "            \"ysmooth\",\n",
    "            \"TrialNumber\",\n",
    "        ],\n",
    "    )\n",
    "    .groupby(\"TrialNumber\")\n",
    "    .opts(\n",
    "        height=1000,\n",
    "        width=1000,\n",
    "        invert_yaxis=True,\n",
    "        color=hv.Palette(\"Plasma\"),\n",
    "        tools=[\n",
    "            \"hover\",\n",
    "        ],\n",
    "        muted=True,\n",
    "    )\n",
    "    .overlay()\n",
    ")\n",
    "\n",
    "Curves"
   ]
  },
  {
   "attachments": {},
   "cell_type": "markdown",
   "metadata": {},
   "source": [
    "# Apply pipeline to an arena from a different video\n",
    "\n",
    "Here we test the generalisability of the pipeline to a different arena coming from a different video. We expect potential parameter tuning to be required (e.g. for peak detection)."
   ]
  },
  {
   "cell_type": "code",
   "execution_count": null,
   "metadata": {},
   "outputs": [],
   "source": [
    "# Load the data\n",
    "DataPath = Path(\n",
    "    \"/mnt/labserver/DURRIEU_Matthias/Experimental_data/Optogenetics/Optobot/MultiMaze_15stepped_gated_bowtie/Starved_noWater/230209/111026_s0a0_p0-0/Arena6/BallPositions.csv\"\n",
    ")\n",
    "\n",
    "data = pd.read_csv(DataPath.as_posix())"
   ]
  },
  {
   "cell_type": "code",
   "execution_count": null,
   "metadata": {},
   "outputs": [],
   "source": [
    "%matplotlib inline\n",
    "\n",
    "x = data.loc[:, \"frame\"].values\n",
    "y = data.loc[:, \"ypos\"].values\n",
    "\n",
    "cutoff = 0.01  # desired cutoff frequency of the filter, Hz ,      slightly higher than actual 1.2 Hz\n",
    "order = 1  # sin wave can be approx represented as quadratic\n",
    "\n",
    "ysmooth = butter_lowpass_filter(y, cutoff, order)\n",
    "TransfCurves = (\n",
    "    hv.Curve(y).opts(\n",
    "        height=1000,\n",
    "        width=1000,\n",
    "    )\n",
    "    * hv.Curve(ysmooth)\n",
    ")\n",
    "\n",
    "DerY = np.diff(ysmooth)\n",
    "\n",
    "Magnetpeaks = signal.find_peaks(\n",
    "    DerY,\n",
    "    distance=1000,\n",
    "    height=0.7,\n",
    "    # prominence=140,\n",
    "    # width=2000,\n",
    "    # threshold=-140,\n",
    "    # plateau_size=np.arange(1,3000,1, dtype=int)\n",
    ")\n",
    "\n",
    "data[\"ysmooth\"] = ysmooth\n",
    "\n",
    "plt.plot(DerY)\n",
    "plt.scatter(x[Magnetpeaks[0]], DerY[Magnetpeaks[0]], color=\"orange\")\n",
    "plt.gca().invert_yaxis()\n",
    "# plt.show()"
   ]
  },
  {
   "attachments": {},
   "cell_type": "markdown",
   "metadata": {},
   "source": [
    "plot smooth trajectories"
   ]
  },
  {
   "cell_type": "code",
   "execution_count": null,
   "metadata": {},
   "outputs": [],
   "source": [
    "%matplotlib inline\n",
    "\n",
    "x = data.loc[:, \"frame\"].values\n",
    "y = data.loc[:, \"ypos\"].values\n",
    "\n",
    "cutoff = 0.01  # desired cutoff frequency of the filter, Hz ,      slightly higher than actual 1.2 Hz\n",
    "order = 1  # sin wave can be approx represented as quadratic\n",
    "\n",
    "ysmooth = butter_lowpass_filter(y, cutoff, order)\n",
    "TransfCurves = hv.Curve(y) * hv.Curve(ysmooth).opts(\n",
    "    height=1000,\n",
    "    width=1000,\n",
    "    line_width=2,\n",
    ")\n",
    "TransfCurves"
   ]
  },
  {
   "attachments": {},
   "cell_type": "markdown",
   "metadata": {},
   "source": [
    "In new video settings, peak detection threshold from older videos is too low."
   ]
  },
  {
   "cell_type": "code",
   "execution_count": null,
   "metadata": {},
   "outputs": [],
   "source": [
    "idx = 0\n",
    "for i in Magnetpeaks[0]:\n",
    "    print(idx)\n",
    "    frame2time(i, 80, clockformat=True)\n",
    "    idx += 1"
   ]
  },
  {
   "cell_type": "code",
   "execution_count": null,
   "metadata": {},
   "outputs": [],
   "source": [
    "# with open(DataPath.parent.joinpath(\"note.txt\").as_posix(), \"w\") as f:\n",
    "#     f.write(\"Bad tracking around 40 min. Redo tracking with better parameters.\")"
   ]
  },
  {
   "cell_type": "code",
   "execution_count": null,
   "metadata": {},
   "outputs": [],
   "source": [
    "# Select only the values actually corresponding to magnet events"
   ]
  },
  {
   "cell_type": "code",
   "execution_count": null,
   "metadata": {},
   "outputs": [],
   "source": [
    "MagnetEvs_chk = [Magnetpeaks[0][i] for i in [17, ]]\n",
    "idx = 0\n",
    "for i in MagnetEvs_chk:\n",
    "    print(idx)\n",
    "    frame2time(i, 80, clockformat=True)\n",
    "    idx += 1"
   ]
  },
  {
   "attachments": {},
   "cell_type": "markdown",
   "metadata": {},
   "source": [
    "In some cases, very rare, a magnet event is not detected on derivative, because the magnet was not replaced fast enough. In this case we can add a value to the list of magnet events."
   ]
  },
  {
   "cell_type": "code",
   "execution_count": null,
   "metadata": {},
   "outputs": [],
   "source": [
    "# Compute frame number for the manually selected magnet event\n",
    "# 00:00:31\n",
    "# 00:20:43\n",
    "frame2time((20 * 60 + 43), 80, reverse=True)"
   ]
  },
  {
   "cell_type": "code",
   "execution_count": null,
   "metadata": {},
   "outputs": [],
   "source": [
    "# Add this index to the list of magnet events\n",
    "# add 139040 at the 3 position in MagnetEvs_chk\n",
    "MagnetEvs_chk.insert(1, 99440)\n",
    "\n",
    "for i in MagnetEvs_chk:\n",
    "    frame2time(i, 80, clockformat=True)"
   ]
  },
  {
   "cell_type": "code",
   "execution_count": null,
   "metadata": {},
   "outputs": [],
   "source": [
    "MagnetEvents = np.append(0, MagnetEvs_chk)\n",
    "\n",
    "data[\"TrialNumber_init\"] = None\n",
    "\n",
    "for t in range(len(MagnetEvents) - 1):\n",
    "\n",
    "    data.loc[MagnetEvents[t] : MagnetEvents[t + 1], \"TrialNumber_init\"] = t + 1\n",
    "\n",
    "data.loc[MagnetEvents[-1] :, \"TrialNumber_init\"] = len(MagnetEvents)\n",
    "\n",
    "GroupDf = data.groupby(\"TrialNumber_init\", as_index=False)\n",
    "\n",
    "data = GroupDf.apply(lambda x: x.reset_index(drop=True)).reset_index()\n",
    "\n",
    "data.rename(columns={\"level_1\": \"Time\"}, inplace=True)\n",
    "data = data.sort_values(by=[\"TrialNumber_init\", \"Time\"])"
   ]
  },
  {
   "cell_type": "code",
   "execution_count": null,
   "metadata": {},
   "outputs": [],
   "source": [
    "Curves = (\n",
    "    hv.Curve(\n",
    "        data=data,\n",
    "        kdims=[\"Time\"],\n",
    "        vdims=[\n",
    "            \"ysmooth\",\n",
    "            \"TrialNumber_init\",\n",
    "        ],\n",
    "    )\n",
    "    .groupby(\"TrialNumber_init\")\n",
    "    .opts(\n",
    "        height=1000,\n",
    "        width=1000,\n",
    "        invert_yaxis=True,\n",
    "        color=hv.Palette(\"Viridis\"),\n",
    "        tools=[\n",
    "            \"hover\",\n",
    "            \"crosshair\",\n",
    "        ],\n",
    "        muted=True,\n",
    "    )\n",
    "    .overlay()\n",
    ")\n",
    "Curves"
   ]
  },
  {
   "attachments": {},
   "cell_type": "markdown",
   "metadata": {},
   "source": [
    "Here Trial 8 should be discarded as it is simply the end of the video."
   ]
  },
  {
   "cell_type": "code",
   "execution_count": null,
   "metadata": {},
   "outputs": [],
   "source": [
    "# drop trials 14 and 15 and 16 + last.\n",
    "# data.drop(data.loc[data[\"TrialNumber_init\"] == 14].index, inplace=True)\n",
    "# data.drop(data.loc[data[\"TrialNumber_init\"] == 15].index, inplace=True)\n",
    "# data.drop(data.loc[data[\"TrialNumber_init\"] == 16].index, inplace=True)\n",
    "\n",
    "\n",
    "# MagnetEvents = np.delete(MagnetEvents, 16 - 1)\n",
    "# MagnetEvents = np.delete(MagnetEvents, 15 - 1)\n",
    "# MagnetEvents = np.delete(MagnetEvents, 14 - 1)"
   ]
  },
  {
   "cell_type": "code",
   "execution_count": null,
   "metadata": {},
   "outputs": [],
   "source": [
    "# Find highest value of TrialNumber_init\n",
    "#data[\"TrialNumber_init\"].max()"
   ]
  },
  {
   "cell_type": "code",
   "execution_count": null,
   "metadata": {},
   "outputs": [],
   "source": [
    "# Remove data from last trial when too short\n",
    "data.drop(\n",
    "    data.loc[data[\"TrialNumber_init\"] == data[\"TrialNumber_init\"].max()].index,\n",
    "    inplace=True,\n",
    ")\n",
    "\n",
    "# Also remove last magnet event\n",
    "MagnetEvents = np.delete(MagnetEvents, -1)"
   ]
  },
  {
   "cell_type": "code",
   "execution_count": null,
   "metadata": {},
   "outputs": [],
   "source": [
    "idx = 0\n",
    "for i in MagnetEvents:\n",
    "    print(idx)\n",
    "    frame2time(i, 80, clockformat=True)\n",
    "    idx += 1"
   ]
  },
  {
   "cell_type": "code",
   "execution_count": null,
   "metadata": {},
   "outputs": [],
   "source": [
    "#MagnetEvents = np.delete(MagnetEvents, 17)"
   ]
  },
  {
   "cell_type": "code",
   "execution_count": null,
   "metadata": {},
   "outputs": [],
   "source": [
    "# Also drop the last element of MagnetEvents\n",
    "#MagnetEvents = np.delete(MagnetEvents, data[\"TrialNumber_init\"].max() - 1)"
   ]
  },
  {
   "attachments": {},
   "cell_type": "markdown",
   "metadata": {},
   "source": [
    "> This is a special case where the ball was initially not found in the video, resulting in NaNs that have to be removed."
   ]
  },
  {
   "cell_type": "code",
   "execution_count": null,
   "metadata": {},
   "outputs": [],
   "source": [
    "ymins = data.groupby(\"TrialNumber_init\").min()[\"ysmooth\"]"
   ]
  },
  {
   "cell_type": "code",
   "execution_count": null,
   "metadata": {},
   "outputs": [],
   "source": [
    "succ_thresh = ymins.max()"
   ]
  },
  {
   "cell_type": "code",
   "execution_count": null,
   "metadata": {},
   "outputs": [],
   "source": [
    "trimmed_data = data\n",
    "# Mag_ymins = [v - 1 for v in BadTrials]\n",
    "# MagnetEvents = np.delete(MagnetEvents, Mag_ymins)\n",
    "trimmed_data.drop(trimmed_data.loc[trimmed_data[\"Time\"] <= 500].index, inplace=True)\n",
    "\n",
    "Thresh_Ends = (\n",
    "    trimmed_data.loc[trimmed_data[\"ysmooth\"] <= succ_thresh]\n",
    "    .groupby(\"TrialNumber_init\")\n",
    "    .first()[\"frame\"]\n",
    ")"
   ]
  },
  {
   "cell_type": "code",
   "execution_count": null,
   "metadata": {},
   "outputs": [],
   "source": [
    "trimmed_data[\"TrialNumber\"] = None  # Need reset otherwise no NA drops\n",
    "\n",
    "for t in range(len(MagnetEvents)):\n",
    "\n",
    "    trimmed_data.loc[MagnetEvents[t] : Thresh_Ends.values[t], \"TrialNumber\"] = t + 1"
   ]
  },
  {
   "cell_type": "code",
   "execution_count": null,
   "metadata": {},
   "outputs": [],
   "source": [
    "trimmed_data = trimmed_data.dropna(subset=\"TrialNumber\")\n",
    "\n",
    "\n",
    "Curves = (\n",
    "    hv.Curve(\n",
    "        data=trimmed_data,\n",
    "        kdims=[\"Time\"],\n",
    "        vdims=[\n",
    "            \"ysmooth\",\n",
    "            \"TrialNumber\",\n",
    "        ],\n",
    "    )\n",
    "    .groupby(\"TrialNumber\")\n",
    "    .opts(\n",
    "        height=1000,\n",
    "        width=1000,\n",
    "        invert_yaxis=True,\n",
    "        color=hv.Palette(\"Viridis\"),\n",
    "        tools=[\n",
    "            \"hover\",\n",
    "        ],\n",
    "        muted=True,\n",
    "    )\n",
    "    .overlay()\n",
    ")\n",
    "\n",
    "Curves"
   ]
  },
  {
   "attachments": {},
   "cell_type": "markdown",
   "metadata": {},
   "source": [
    "Save data and plot"
   ]
  },
  {
   "cell_type": "code",
   "execution_count": null,
   "metadata": {},
   "outputs": [],
   "source": [
    "# drop level_0, index and TrialNumber_init columns from the trimmed_data dataframe\n",
    "trimmed_data = trimmed_data.drop(columns=[\"level_0\", \"TrialNumber_init\"]).reset_index()\n",
    "\n",
    "# save the processed dataset as feather file in same folder as video\n",
    "\n",
    "checksave(\n",
    "    path=DataPath.parent.joinpath(\"BallPositions_Processed.feather\"),\n",
    "    object=\"dataframe\",\n",
    "    file=trimmed_data,\n",
    ")"
   ]
  },
  {
   "cell_type": "code",
   "execution_count": null,
   "metadata": {},
   "outputs": [],
   "source": [
    "hv.save(Curves, DataPath.parent.joinpath(\"BallPositions_Processed.html\"), fmt=\"html\")"
   ]
  },
  {
   "cell_type": "code",
   "execution_count": null,
   "metadata": {},
   "outputs": [],
   "source": [
    "add_note(\n",
    "    DataPath,\n",
    "    \"Only one trial. Discarded as it would bias the analysis.\",\n",
    ")"
   ]
  },
  {
   "attachments": {},
   "cell_type": "markdown",
   "metadata": {},
   "source": [
    "Replot with different colors"
   ]
  },
  {
   "cell_type": "code",
   "execution_count": null,
   "metadata": {},
   "outputs": [],
   "source": [
    "reload = pd.read_feather(\n",
    "    \"/Volumes/Transfert_H/Feb2023/MultiMaze_15stepped_gated_bar_noFood/Starved_noWater/230209/095735_s0a0_p0-0/Arena2/BallPositions_Processed.feather\"\n",
    ")"
   ]
  },
  {
   "cell_type": "code",
   "execution_count": null,
   "metadata": {},
   "outputs": [],
   "source": [
    "reload[\"Time_sec\"] = reload[\"Time\"] / 80"
   ]
  },
  {
   "cell_type": "code",
   "execution_count": null,
   "metadata": {},
   "outputs": [],
   "source": [
    "Curves = (\n",
    "    hv.Curve(\n",
    "        data=reload,\n",
    "        kdims=[\"Time_sec\"],\n",
    "        vdims=[\n",
    "            \"ysmooth\",\n",
    "            \"TrialNumber\",\n",
    "        ],\n",
    "    )\n",
    "    .groupby(\"TrialNumber\")\n",
    "    .opts(\n",
    "        height=1000,\n",
    "        width=1000,\n",
    "        invert_yaxis=True,\n",
    "        color=hv.Palette(\"Viridis\"),\n",
    "        tools=[\n",
    "            \"hover\",\n",
    "        ],\n",
    "        muted=True,\n",
    "        xlabel=\"Time (s)\",\n",
    "        ylabel=\"Smoothed Y position (px)\",\n",
    "        fontscale=2,\n",
    "    )\n",
    "    .overlay()\n",
    ")\n",
    "\n",
    "Curves"
   ]
  },
  {
   "cell_type": "code",
   "execution_count": null,
   "metadata": {},
   "outputs": [],
   "source": []
  }
 ],
 "metadata": {
  "kernelspec": {
   "display_name": "trackinganalysis",
   "language": "python",
   "name": "python3"
  },
  "language_info": {
   "codemirror_mode": {
    "name": "ipython",
    "version": 3
   },
   "file_extension": ".py",
   "mimetype": "text/x-python",
   "name": "python",
   "nbconvert_exporter": "python",
   "pygments_lexer": "ipython3",
   "version": "3.11.5"
  }
 },
 "nbformat": 4,
 "nbformat_minor": 0
}
