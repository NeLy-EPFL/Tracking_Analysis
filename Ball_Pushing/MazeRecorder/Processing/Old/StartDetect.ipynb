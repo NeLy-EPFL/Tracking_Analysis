{
 "cells": [
  {
   "cell_type": "code",
   "execution_count": null,
   "metadata": {},
   "outputs": [],
   "source": [
    "import cv2\n",
    "import matplotlib.pyplot as plt\n",
    "import numpy as np\n",
    "\n",
    "#Set video path\n",
    "video_path = \"/Users/ulric/Movies/Videos_NumOrdered/\"\n",
    "# Select and open a video\n",
    "video_file = \"arena1_corridor_1.mp4\"\n",
    "video = cv2.VideoCapture(video_path + video_file)\n",
    "# Get the video first frame as grayscale and display it\n",
    "ret, frame = video.read()\n",
    "gray = cv2.cvtColor(frame, cv2.COLOR_BGR2GRAY)\n",
    "plt.imshow(gray, cmap=\"gray\")\n",
    "plt.show()"
   ]
  },
  {
   "cell_type": "code",
   "execution_count": null,
   "metadata": {},
   "outputs": [],
   "source": [
    "# Binaries the image\n",
    "ret, thresh = cv2.threshold(gray, 0, 255, cv2.THRESH_BINARY + cv2.THRESH_OTSU)\n",
    "plt.imshow(thresh, cmap=\"gray\")"
   ]
  },
  {
   "cell_type": "code",
   "execution_count": null,
   "metadata": {},
   "outputs": [],
   "source": [
    "# Generate the rows histogram\n",
    "histogram = np.sum(thresh[thresh.shape[0] // 2:, :], axis=0)\n",
    "plt.plot(histogram)"
   ]
  },
  {
   "cell_type": "code",
   "execution_count": null,
   "metadata": {},
   "outputs": [],
   "source": [
    "# same with columns\n",
    "histogram = np.sum(thresh[:, thresh.shape[1] // 2:], axis=1)\n",
    "plt.plot(histogram)"
   ]
  },
  {
   "cell_type": "code",
   "execution_count": null,
   "metadata": {},
   "outputs": [],
   "source": [
    "# Find the x coordinates where the histogram is first greater than 0 and last greater than 0\n",
    "x = np.where(histogram > 0)[0]\n",
    "x1 = x[0]\n",
    "x2 = x[-1]\n",
    "\n",
    "# Crop the initial image using x1 and x2 coordinates\n",
    "crop = frame[x1:x2, :]\n",
    "plt.imshow(crop, cmap=\"gray\")"
   ]
  },
  {
   "cell_type": "code",
   "execution_count": null,
   "metadata": {},
   "outputs": [],
   "source": [
    "# Add an horizontal red line at the 90 and final - 90 pixels\n",
    "crop = cv2.line(crop, (0, 90), (crop.shape[1], 90), (0, 0, 255), 2)\n",
    "crop = cv2.line(crop, (0, crop.shape[0] - 90), (crop.shape[1], crop.shape[0] - 90),\n",
    "                (0, 0, 255), 2)\n",
    "\n",
    "# Display the cropped image\n",
    "plt.imshow(crop, cmap=\"gray\")\n"
   ]
  },
  {
   "cell_type": "code",
   "execution_count": null,
   "metadata": {},
   "outputs": [],
   "source": []
  },
  {
   "cell_type": "code",
   "execution_count": null,
   "metadata": {},
   "outputs": [],
   "source": [
    "# If the right en values are higher than the left ones, the fly is flipped and image should be flipped\n",
    "# Check if the fly is flipped\n",
    "if np.sum(histogram[:histogram.shape[0] // 2]) < np.sum(\n",
    "    histogram[histogram.shape[0] // 2:]\n",
    "):\n",
    "    flipped = True\n",
    "else:\n",
    "    flipped = False\n",
    "\n",
    "# If the image is flipped, flip it back along thehorizontal axis\n",
    "if flipped:\n",
    "    frame = cv2.flip(frame, 0)\n",
    "\n",
    "# Display the flipped image\n",
    "plt.imshow(frame)"
   ]
  },
  {
   "cell_type": "code",
   "execution_count": null,
   "metadata": {},
   "outputs": [],
   "source": [
    "# Update the binary image\n",
    "gray = cv2.cvtColor(frame, cv2.COLOR_BGR2GRAY)\n",
    "# Binaries the image\n",
    "ret, thresh = cv2.threshold(gray, 0, 255, cv2.THRESH_BINARY + cv2.THRESH_OTSU)\n",
    "plt.imshow(thresh, cmap=\"gray\")\n",
    "\n",
    "# Do the col histogram again\n",
    "histogram = np.sum(thresh[:, thresh.shape[1] // 2:], axis=1)\n",
    "plt.plot(histogram)"
   ]
  },
  {
   "cell_type": "code",
   "execution_count": null,
   "metadata": {},
   "outputs": [],
   "source": []
  },
  {
   "cell_type": "code",
   "execution_count": null,
   "metadata": {},
   "outputs": [],
   "source": []
  },
  {
   "cell_type": "code",
   "execution_count": null,
   "metadata": {},
   "outputs": [],
   "source": [
    "# crop the image according to the positive and negative peaks of the histogram\n",
    "# Get the positive and negative peaks with scipy find_peaks\n",
    "from scipy.signal import find_peaks\n",
    "\n",
    "pos_peak, _ = find_peaks(histogram[:histogram.shape[0] // 2], height=100)\n",
    "neg_peak, _ = find_peaks(-histogram[histogram.shape[0] // 2:], height=-100)\n"
   ]
  },
  {
   "cell_type": "code",
   "execution_count": null,
   "metadata": {},
   "outputs": [],
   "source": [
    "\n",
    "# Display the peaks\n",
    "plt.plot(histogram)\n",
    "plt.plot(pos_peak, histogram[pos_peak], \"x\")\n",
    "plt.plot(neg_peak + histogram.shape[0] // 2, histogram[neg_peak], \"x\")\n"
   ]
  },
  {
   "cell_type": "code",
   "execution_count": null,
   "metadata": {},
   "outputs": [],
   "source": [
    "\n",
    "# Crop the image\n",
    "frame = frame[neg_peak:pos_peak, :]\n",
    "plt.imshow(frame)"
   ]
  },
  {
   "cell_type": "code",
   "execution_count": null,
   "metadata": {},
   "outputs": [],
   "source": []
  }
 ],
 "metadata": {
  "kernelspec": {
   "display_name": "TrackingAnalysis",
   "language": "python",
   "name": "python3"
  },
  "language_info": {
   "codemirror_mode": {
    "name": "ipython",
    "version": 3
   },
   "file_extension": ".py",
   "mimetype": "text/x-python",
   "name": "python",
   "nbconvert_exporter": "python",
   "pygments_lexer": "ipython3",
   "version": "3.10.4"
  }
 },
 "nbformat": 4,
 "nbformat_minor": 2
}
