{
 "cells": [
  {
   "cell_type": "markdown",
   "metadata": {},
   "source": [
    "This notebook is to explore methods to compute flies velocity during ball pushing experiments using sleap based fly's tracking data. This is also the first notebook in which I experiment datasets handling with polars."
   ]
  },
  {
   "cell_type": "markdown",
   "metadata": {},
   "source": [
    "# Imports"
   ]
  },
  {
   "cell_type": "code",
   "execution_count": 8,
   "metadata": {},
   "outputs": [],
   "source": [
    "from pathlib import Path\n",
    "import json\n",
    "\n",
    "import numpy as np\n",
    "\n",
    "import h5py\n",
    "\n",
    "import polars\n",
    "import platform"
   ]
  },
  {
   "cell_type": "markdown",
   "metadata": {},
   "source": [
    "# Get a list of the directories containing the tracking data"
   ]
  },
  {
   "cell_type": "code",
   "execution_count": 4,
   "metadata": {},
   "outputs": [
    {
     "name": "stdout",
     "output_type": "stream",
     "text": [
      "/mnt/labserver/DURRIEU_Matthias/Experimental_data/MultiMazeRecorder/Videos\n"
     ]
    }
   ],
   "source": [
    "# Get the DataFolder\n",
    "\n",
    "if platform.system() == \"Darwin\":\n",
    "    DataPath = Path(\"/Volumes/Ramdya-Lab/DURRIEU_Matthias/Experimental_data/MultiMazeRecorder/Videos\")\n",
    "# Linux Datapath\n",
    "if platform.system() == \"Linux\":\n",
    "    DataPath = Path(\"/mnt/labserver/DURRIEU_Matthias/Experimental_data/MultiMazeRecorder/Videos\")\n",
    "\n",
    "print(DataPath)"
   ]
  },
  {
   "cell_type": "markdown",
   "metadata": {},
   "source": [
    "Make a list of the folders I want to use. For instance, I want to use the folders that have the \"tnt\" in the name as I will explore velocities for different crossings with UAS-TNT. I'm also only getting flies tested in the afternoon."
   ]
  },
  {
   "cell_type": "code",
   "execution_count": 5,
   "metadata": {},
   "outputs": [
    {
     "data": {
      "text/plain": [
       "[PosixPath('/mnt/labserver/DURRIEU_Matthias/Experimental_data/MultiMazeRecorder/Videos/230804_TNTscreen_PM_2_Videos_Tracked'),\n",
       " PosixPath('/mnt/labserver/DURRIEU_Matthias/Experimental_data/MultiMazeRecorder/Videos/230808_TNTscreen_PM_3_Videos_Tracked'),\n",
       " PosixPath('/mnt/labserver/DURRIEU_Matthias/Experimental_data/MultiMazeRecorder/Videos/230809_TNTscreen_PM_4_Videos_Tracked'),\n",
       " PosixPath('/mnt/labserver/DURRIEU_Matthias/Experimental_data/MultiMazeRecorder/Videos/230803_TNTscreen_PM_1_Videos_Tracked')]"
      ]
     },
     "execution_count": 5,
     "metadata": {},
     "output_type": "execute_result"
    }
   ],
   "source": [
    "Folders = []\n",
    "for folder in DataPath.iterdir():\n",
    "    minfolder = str(folder).lower()\n",
    "    if \"tnt\" in minfolder and \"tracked\" in minfolder and \"pm\" in minfolder:\n",
    "        Folders.append(folder)\n",
    "\n",
    "Folders"
   ]
  },
  {
   "cell_type": "code",
   "execution_count": null,
   "metadata": {},
   "outputs": [],
   "source": []
  },
  {
   "cell_type": "code",
   "execution_count": 16,
   "metadata": {},
   "outputs": [
    {
     "name": "stdout",
     "output_type": "stream",
     "text": [
      "Adding experiment /mnt/labserver/DURRIEU_Matthias/Experimental_data/MultiMazeRecorder/Videos/230804_TNTscreen_PM_2_Videos_Tracked to the dataset...\n",
      "{'Date': {'Arena1': '230804', 'Arena2': '230804', 'Arena3': '230804', 'Arena4': '230804', 'Arena5': '230804', 'Arena6': '230804', 'Arena7': '230804', 'Arena8': '230804', 'Arena9': '230804'}, 'Genotype': {'Arena1': 'TNTxTH', 'Arena2': 'TNTxE-PG', 'Arena3': 'TNTxMB247', 'Arena4': 'TNTxLAL1', 'Arena5': 'TNTxDDC', 'Arena6': 'PR', 'Arena7': 'Dnc', 'Arena8': 'rut', 'Arena9': 'TNTxLAL2'}, 'Period': {'Arena1': 'PM', 'Arena2': 'PM', 'Arena3': 'PM', 'Arena4': 'PM', 'Arena5': 'PM', 'Arena6': 'PM', 'Arena7': 'PM', 'Arena8': 'PM', 'Arena9': 'PM'}, 'FeedingState': {'Arena1': 'starved_noWater', 'Arena2': 'starved_noWater', 'Arena3': 'starved_noWater', 'Arena4': 'starved_noWater', 'Arena5': 'starved_noWater', 'Arena6': 'starved_noWater', 'Arena7': 'starved_noWater', 'Arena8': 'starved_noWater', 'Arena9': 'starved_noWater'}, 'Orientation': {'Arena1': 'std', 'Arena2': 'std', 'Arena3': 'std', 'Arena4': 'std', 'Arena5': 'std', 'Arena6': 'std', 'Arena7': 'std', 'Arena8': 'std', 'Arena9': 'std'}, 'Light': {'Arena1': 'on', 'Arena2': 'on', 'Arena3': 'on', 'Arena4': 'on', 'Arena5': 'on', 'Arena6': 'on', 'Arena7': 'on', 'Arena8': 'on', 'Arena9': 'on'}}\n",
      "Adding experiment /mnt/labserver/DURRIEU_Matthias/Experimental_data/MultiMazeRecorder/Videos/230808_TNTscreen_PM_3_Videos_Tracked to the dataset...\n",
      "{'Date': {'Arena1': '230808', 'Arena2': '230808', 'Arena3': '230808', 'Arena4': '230808', 'Arena5': '230808', 'Arena6': '230808', 'Arena7': '230808', 'Arena8': '230808', 'Arena9': '230808'}, 'Genotype': {'Arena1': 'PR', 'Arena2': 'TNTxMB247', 'Arena3': 'TNTxLAL1', 'Arena4': 'TNTxTH', 'Arena5': 'PR', 'Arena6': 'TNTxE-PG', 'Arena7': 'TNTxLAL2', 'Arena8': 'TNTxDDC', 'Arena9': 'PR'}, 'Period': {'Arena1': 'PM', 'Arena2': 'PM', 'Arena3': 'PM', 'Arena4': 'PM', 'Arena5': 'PM', 'Arena6': 'PM', 'Arena7': 'PM', 'Arena8': 'PM', 'Arena9': 'PM'}, 'FeedingState': {'Arena1': 'starved_noWater', 'Arena2': 'starved_noWater', 'Arena3': 'starved_noWater', 'Arena4': 'starved_noWater', 'Arena5': 'starved_noWater', 'Arena6': 'starved_noWater', 'Arena7': 'starved_noWater', 'Arena8': 'starved_noWater', 'Arena9': 'starved_noWater'}, 'Orientation': {'Arena1': 'std', 'Arena2': 'std', 'Arena3': 'std', 'Arena4': 'std', 'Arena5': 'std', 'Arena6': 'std', 'Arena7': 'std', 'Arena8': 'std', 'Arena9': 'std'}, 'Light': {'Arena1': 'on', 'Arena2': 'on', 'Arena3': 'on', 'Arena4': 'on', 'Arena5': 'on', 'Arena6': 'on', 'Arena7': 'on', 'Arena8': 'on', 'Arena9': 'on'}}\n",
      "Adding experiment /mnt/labserver/DURRIEU_Matthias/Experimental_data/MultiMazeRecorder/Videos/230809_TNTscreen_PM_4_Videos_Tracked to the dataset...\n",
      "{'Date': {'Arena1': '230809', 'Arena2': '230809', 'Arena3': '230809', 'Arena4': '230809', 'Arena5': '230809', 'Arena6': '230809', 'Arena7': '230809', 'Arena8': '230809', 'Arena9': '230809'}, 'Genotype': {'Arena1': 'TNTxDDC', 'Arena2': 'TNTxLAL1', 'Arena3': 'PR', 'Arena4': 'PR', 'Arena5': 'TNTxTH', 'Arena6': 'TNTxTH', 'Arena7': 'TNTxMB247', 'Arena8': 'TNTxLAL2', 'Arena9': 'PR'}, 'Period': {'Arena1': 'PM', 'Arena2': 'PM', 'Arena3': 'PM', 'Arena4': 'PM', 'Arena5': 'PM', 'Arena6': 'PM', 'Arena7': 'PM', 'Arena8': 'PM', 'Arena9': 'PM'}, 'FeedingState': {'Arena1': 'starved_noWater', 'Arena2': 'starved_noWater', 'Arena3': 'starved_noWater', 'Arena4': 'starved_noWater', 'Arena5': 'starved_noWater', 'Arena6': 'starved_noWater', 'Arena7': 'starved_noWater', 'Arena8': 'starved_noWater', 'Arena9': 'starved_noWater'}, 'Orientation': {'Arena1': 'std', 'Arena2': 'std', 'Arena3': 'std', 'Arena4': 'std', 'Arena5': 'std', 'Arena6': 'std', 'Arena7': 'std', 'Arena8': 'std', 'Arena9': 'std'}, 'Light': {'Arena1': 'on', 'Arena2': 'on', 'Arena3': 'on', 'Arena4': 'on', 'Arena5': 'on', 'Arena6': 'on', 'Arena7': 'on', 'Arena8': 'on', 'Arena9': 'on'}}\n",
      "Adding experiment /mnt/labserver/DURRIEU_Matthias/Experimental_data/MultiMazeRecorder/Videos/230803_TNTscreen_PM_1_Videos_Tracked to the dataset...\n",
      "{'Date': {'Arena1': '230803', 'Arena2': '230803', 'Arena3': '230803', 'Arena4': '230803', 'Arena5': '230803', 'Arena6': '230803', 'Arena7': '230803', 'Arena8': '230803', 'Arena9': '230803'}, 'Genotype': {'Arena1': 'rut', 'Arena2': 'TNTxLAL2', 'Arena3': 'TNTxDDC', 'Arena4': 'TNTxE-PG', 'Arena5': 'PR', 'Arena6': 'Dnc', 'Arena7': 'TNTxMB247', 'Arena8': 'TNTxTH', 'Arena9': 'TNTxLAL1'}, 'Period': {'Arena1': 'PM', 'Arena2': 'PM', 'Arena3': 'PM', 'Arena4': 'PM', 'Arena5': 'PM', 'Arena6': 'PM', 'Arena7': 'PM', 'Arena8': 'PM', 'Arena9': 'PM'}, 'FeedingState': {'Arena1': 'starved_noWater', 'Arena2': 'starved_noWater', 'Arena3': 'starved_noWater', 'Arena4': 'starved_noWater', 'Arena5': 'starved_noWater', 'Arena6': 'starved_noWater', 'Arena7': 'starved_noWater', 'Arena8': 'starved_noWater', 'Arena9': 'starved_noWater'}, 'Orientation': {'Arena1': 'std', 'Arena2': 'std', 'Arena3': 'std', 'Arena4': 'std', 'Arena5': 'std', 'Arena6': 'std', 'Arena7': 'std', 'Arena8': 'std', 'Arena9': 'std'}, 'Light': {'Arena1': 'on', 'Arena2': 'on', 'Arena3': 'on', 'Arena4': 'on', 'Arena5': 'on', 'Arena6': 'on', 'Arena7': 'on', 'Arena8': 'on', 'Arena9': 'on'}}\n"
     ]
    }
   ],
   "source": [
    "# Build a dataframe that will store the ball y positions and the arena and corridor numbers as metadata\n",
    "Dataset = polars.DataFrame()\n",
    "\n",
    "# Loop over all the .analysis.h5 files in the folder and store the ball y positions and the arena and corridor numbers as metadata\n",
    "Flynum = 0\n",
    "# Loop over all the folders that don't have \"Dark\" in the name\n",
    "for folder in Folders:\n",
    "    print(f\"Adding experiment {folder} to the dataset...\")\n",
    "    # Read the metadata.json file\n",
    "    with open(folder / \"Metadata.json\", \"r\") as f:\n",
    "        metadata = json.load(f)\n",
    "        variables = metadata[\"Variable\"]\n",
    "        metadata_dict = {}\n",
    "        for var in variables:\n",
    "            metadata_dict[var] = {}\n",
    "            for arena in range(1, 10):\n",
    "                arena_key = f\"Arena{arena}\"\n",
    "                var_index = variables.index(var)\n",
    "                metadata_dict[var][arena_key] = metadata[arena_key][var_index]\n",
    "        \n",
    "        print (metadata_dict)\n",
    "        \n",
    "    for file in folder.glob(\"**/*flytrack*.analysis.h5\"):\n",
    "        \n",
    "        flypath = file\n",
    "        with h5py.File(flypath.as_posix(), \"r\") as f:\n",
    "            dset_names = list(f.keys())\n",
    "            fly_locs = f[\"tracks\"][:].T\n",
    "            node_names = [n.decode() for n in f[\"node_names\"][:]]\n",
    "            \n",
    "        \n",
    "        yball = fly_locs[:, :, 1, :]\n",
    "        \n",
    "        # Get the filename from the path\n",
    "        foldername = folder.name\n",
    "\n",
    "        # Get the arena and corridor numbers from the parent (corridor) and grandparent (arena) folder names\n",
    "        arena = file.parent.parent.name\n",
    "        corridor = file.parent.name\n",
    "        \n",
    "        # Get the metadata for this arena\n",
    "        arena_key = arena.capitalize()\n",
    "        arena_metadata = {var: [metadata_dict[var][arena_key]] for var in metadata_dict}\n",
    "        \n",
    "        Flynum += 1\n",
    "        \n",
    "        # Load the start and end coordinates from coordinates.npy\n",
    "        start, end = np.load(file.parent / 'coordinates.npy')\n",
    "        \n",
    "        # Store the ball y positions, start and end coordinates, and the arena and corridor numbers as metadata\n",
    "        data = {\"Fly\": [\"Fly\" + str(Flynum)],\n",
    "                \"yball\": [list(yball[:, 0, 0])], \n",
    "                \"experiment\": [foldername],\n",
    "                \"arena\": [arena], \n",
    "                \"corridor\": [corridor],\n",
    "                \"start\": [start],\n",
    "                \"end\": [end]}\n",
    "        data.update(arena_metadata)\n",
    "\n",
    "        # Use pandas.concat instead of DataFrame.append\n",
    "        Dataset = polars.concat([Dataset, polars.DataFrame(data)]) \n",
    "\n",
    "# Explode yball column to have one row per timepoint\n",
    "\n",
    "#Dataset.drop(columns=[\"Genotye\", \"Date\",], inplace=True)\n",
    "\n",
    "Dataset = Dataset.explode('yball')\n",
    "\n"
   ]
  },
  {
   "cell_type": "code",
   "execution_count": 17,
   "metadata": {},
   "outputs": [
    {
     "data": {
      "text/html": [
       "<div><style>\n",
       ".dataframe > thead > tr > th,\n",
       ".dataframe > tbody > tr > td {\n",
       "  text-align: right;\n",
       "  white-space: pre-wrap;\n",
       "}\n",
       "</style>\n",
       "<small>shape: (5, 13)</small><table border=\"1\" class=\"dataframe\"><thead><tr><th>Fly</th><th>yball</th><th>experiment</th><th>arena</th><th>corridor</th><th>start</th><th>end</th><th>Date</th><th>Genotype</th><th>Period</th><th>FeedingState</th><th>Orientation</th><th>Light</th></tr><tr><td>str</td><td>f64</td><td>str</td><td>str</td><td>str</td><td>i64</td><td>i64</td><td>str</td><td>str</td><td>str</td><td>str</td><td>str</td><td>str</td></tr></thead><tbody><tr><td>&quot;Fly1&quot;</td><td>454.646393</td><td>&quot;230804_TNTscre…</td><td>&quot;arena2&quot;</td><td>&quot;corridor5&quot;</td><td>386</td><td>96</td><td>&quot;230804&quot;</td><td>&quot;TNTxE-PG&quot;</td><td>&quot;PM&quot;</td><td>&quot;starved_noWate…</td><td>&quot;std&quot;</td><td>&quot;on&quot;</td></tr><tr><td>&quot;Fly1&quot;</td><td>454.683746</td><td>&quot;230804_TNTscre…</td><td>&quot;arena2&quot;</td><td>&quot;corridor5&quot;</td><td>386</td><td>96</td><td>&quot;230804&quot;</td><td>&quot;TNTxE-PG&quot;</td><td>&quot;PM&quot;</td><td>&quot;starved_noWate…</td><td>&quot;std&quot;</td><td>&quot;on&quot;</td></tr><tr><td>&quot;Fly1&quot;</td><td>454.58078</td><td>&quot;230804_TNTscre…</td><td>&quot;arena2&quot;</td><td>&quot;corridor5&quot;</td><td>386</td><td>96</td><td>&quot;230804&quot;</td><td>&quot;TNTxE-PG&quot;</td><td>&quot;PM&quot;</td><td>&quot;starved_noWate…</td><td>&quot;std&quot;</td><td>&quot;on&quot;</td></tr><tr><td>&quot;Fly1&quot;</td><td>454.42749</td><td>&quot;230804_TNTscre…</td><td>&quot;arena2&quot;</td><td>&quot;corridor5&quot;</td><td>386</td><td>96</td><td>&quot;230804&quot;</td><td>&quot;TNTxE-PG&quot;</td><td>&quot;PM&quot;</td><td>&quot;starved_noWate…</td><td>&quot;std&quot;</td><td>&quot;on&quot;</td></tr><tr><td>&quot;Fly1&quot;</td><td>454.704865</td><td>&quot;230804_TNTscre…</td><td>&quot;arena2&quot;</td><td>&quot;corridor5&quot;</td><td>386</td><td>96</td><td>&quot;230804&quot;</td><td>&quot;TNTxE-PG&quot;</td><td>&quot;PM&quot;</td><td>&quot;starved_noWate…</td><td>&quot;std&quot;</td><td>&quot;on&quot;</td></tr></tbody></table></div>"
      ],
      "text/plain": [
       "shape: (5, 13)\n",
       "┌──────┬────────────┬─────────────────┬────────┬───┬────────┬────────────────┬─────────────┬───────┐\n",
       "│ Fly  ┆ yball      ┆ experiment      ┆ arena  ┆ … ┆ Period ┆ FeedingState   ┆ Orientation ┆ Light │\n",
       "│ ---  ┆ ---        ┆ ---             ┆ ---    ┆   ┆ ---    ┆ ---            ┆ ---         ┆ ---   │\n",
       "│ str  ┆ f64        ┆ str             ┆ str    ┆   ┆ str    ┆ str            ┆ str         ┆ str   │\n",
       "╞══════╪════════════╪═════════════════╪════════╪═══╪════════╪════════════════╪═════════════╪═══════╡\n",
       "│ Fly1 ┆ 454.646393 ┆ 230804_TNTscree ┆ arena2 ┆ … ┆ PM     ┆ starved_noWate ┆ std         ┆ on    │\n",
       "│      ┆            ┆ n_PM_2_Videos_T ┆        ┆   ┆        ┆ r              ┆             ┆       │\n",
       "│      ┆            ┆ ra…             ┆        ┆   ┆        ┆                ┆             ┆       │\n",
       "│ Fly1 ┆ 454.683746 ┆ 230804_TNTscree ┆ arena2 ┆ … ┆ PM     ┆ starved_noWate ┆ std         ┆ on    │\n",
       "│      ┆            ┆ n_PM_2_Videos_T ┆        ┆   ┆        ┆ r              ┆             ┆       │\n",
       "│      ┆            ┆ ra…             ┆        ┆   ┆        ┆                ┆             ┆       │\n",
       "│ Fly1 ┆ 454.58078  ┆ 230804_TNTscree ┆ arena2 ┆ … ┆ PM     ┆ starved_noWate ┆ std         ┆ on    │\n",
       "│      ┆            ┆ n_PM_2_Videos_T ┆        ┆   ┆        ┆ r              ┆             ┆       │\n",
       "│      ┆            ┆ ra…             ┆        ┆   ┆        ┆                ┆             ┆       │\n",
       "│ Fly1 ┆ 454.42749  ┆ 230804_TNTscree ┆ arena2 ┆ … ┆ PM     ┆ starved_noWate ┆ std         ┆ on    │\n",
       "│      ┆            ┆ n_PM_2_Videos_T ┆        ┆   ┆        ┆ r              ┆             ┆       │\n",
       "│      ┆            ┆ ra…             ┆        ┆   ┆        ┆                ┆             ┆       │\n",
       "│ Fly1 ┆ 454.704865 ┆ 230804_TNTscree ┆ arena2 ┆ … ┆ PM     ┆ starved_noWate ┆ std         ┆ on    │\n",
       "│      ┆            ┆ n_PM_2_Videos_T ┆        ┆   ┆        ┆ r              ┆             ┆       │\n",
       "│      ┆            ┆ ra…             ┆        ┆   ┆        ┆                ┆             ┆       │\n",
       "└──────┴────────────┴─────────────────┴────────┴───┴────────┴────────────────┴─────────────┴───────┘"
      ]
     },
     "execution_count": 17,
     "metadata": {},
     "output_type": "execute_result"
    }
   ],
   "source": [
    "Dataset.head()"
   ]
  },
  {
   "cell_type": "code",
   "execution_count": 18,
   "metadata": {},
   "outputs": [
    {
     "data": {
      "text/html": [
       "<div><style>\n",
       ".dataframe > thead > tr > th,\n",
       ".dataframe > tbody > tr > td {\n",
       "  text-align: right;\n",
       "  white-space: pre-wrap;\n",
       "}\n",
       "</style>\n",
       "<small>shape: (46_656_000,)</small><table border=\"1\" class=\"dataframe\"><thead><tr><th>Genotype</th></tr><tr><td>str</td></tr></thead><tbody><tr><td>&quot;TNTxE-PG&quot;</td></tr><tr><td>&quot;TNTxE-PG&quot;</td></tr><tr><td>&quot;TNTxE-PG&quot;</td></tr><tr><td>&quot;TNTxE-PG&quot;</td></tr><tr><td>&quot;TNTxE-PG&quot;</td></tr><tr><td>&quot;TNTxE-PG&quot;</td></tr><tr><td>&quot;TNTxE-PG&quot;</td></tr><tr><td>&quot;TNTxE-PG&quot;</td></tr><tr><td>&quot;TNTxE-PG&quot;</td></tr><tr><td>&quot;TNTxE-PG&quot;</td></tr><tr><td>&quot;TNTxE-PG&quot;</td></tr><tr><td>&quot;TNTxE-PG&quot;</td></tr><tr><td>&hellip;</td></tr><tr><td>&quot;TNTxLAL1&quot;</td></tr><tr><td>&quot;TNTxLAL1&quot;</td></tr><tr><td>&quot;TNTxLAL1&quot;</td></tr><tr><td>&quot;TNTxLAL1&quot;</td></tr><tr><td>&quot;TNTxLAL1&quot;</td></tr><tr><td>&quot;TNTxLAL1&quot;</td></tr><tr><td>&quot;TNTxLAL1&quot;</td></tr><tr><td>&quot;TNTxLAL1&quot;</td></tr><tr><td>&quot;TNTxLAL1&quot;</td></tr><tr><td>&quot;TNTxLAL1&quot;</td></tr><tr><td>&quot;TNTxLAL1&quot;</td></tr><tr><td>&quot;TNTxLAL1&quot;</td></tr></tbody></table></div>"
      ],
      "text/plain": [
       "shape: (46_656_000,)\n",
       "Series: 'Genotype' [str]\n",
       "[\n",
       "\t\"TNTxE-PG\"\n",
       "\t\"TNTxE-PG\"\n",
       "\t\"TNTxE-PG\"\n",
       "\t\"TNTxE-PG\"\n",
       "\t\"TNTxE-PG\"\n",
       "\t\"TNTxE-PG\"\n",
       "\t\"TNTxE-PG\"\n",
       "\t\"TNTxE-PG\"\n",
       "\t\"TNTxE-PG\"\n",
       "\t\"TNTxE-PG\"\n",
       "\t\"TNTxE-PG\"\n",
       "\t\"TNTxE-PG\"\n",
       "\t…\n",
       "\t\"TNTxLAL1\"\n",
       "\t\"TNTxLAL1\"\n",
       "\t\"TNTxLAL1\"\n",
       "\t\"TNTxLAL1\"\n",
       "\t\"TNTxLAL1\"\n",
       "\t\"TNTxLAL1\"\n",
       "\t\"TNTxLAL1\"\n",
       "\t\"TNTxLAL1\"\n",
       "\t\"TNTxLAL1\"\n",
       "\t\"TNTxLAL1\"\n",
       "\t\"TNTxLAL1\"\n",
       "\t\"TNTxLAL1\"\n",
       "\t\"TNTxLAL1\"\n",
       "]"
      ]
     },
     "execution_count": 18,
     "metadata": {},
     "output_type": "execute_result"
    }
   ],
   "source": [
    "Dataset['Genotype']"
   ]
  },
  {
   "cell_type": "code",
   "execution_count": 19,
   "metadata": {},
   "outputs": [
    {
     "name": "stdout",
     "output_type": "stream",
     "text": [
      "Computing yball relative to start...\n"
     ]
    },
    {
     "ename": "TypeError",
     "evalue": "DataFrame object does not support `Series` assignment by index.\n\nUse `DataFrame.with_columns`.",
     "output_type": "error",
     "traceback": [
      "\u001b[0;31m---------------------------------------------------------------------------\u001b[0m",
      "\u001b[0;31mTypeError\u001b[0m                                 Traceback (most recent call last)",
      "Cell \u001b[0;32mIn[19], line 5\u001b[0m\n\u001b[1;32m      3\u001b[0m \u001b[39mprint\u001b[39m(\u001b[39m'\u001b[39m\u001b[39mComputing yball relative to start...\u001b[39m\u001b[39m'\u001b[39m)\n\u001b[1;32m      4\u001b[0m \u001b[39m# Compute yball_relative relative to start\u001b[39;00m\n\u001b[0;32m----> 5\u001b[0m Dataset[\u001b[39m'\u001b[39;49m\u001b[39myball_relative\u001b[39;49m\u001b[39m'\u001b[39;49m] \u001b[39m=\u001b[39m \u001b[39mabs\u001b[39m(Dataset[\u001b[39m'\u001b[39m\u001b[39myball\u001b[39m\u001b[39m'\u001b[39m] \u001b[39m-\u001b[39m Dataset[\u001b[39m'\u001b[39m\u001b[39mstart\u001b[39m\u001b[39m'\u001b[39m])\n\u001b[1;32m      7\u001b[0m \u001b[39m# Fill missing values using linear interpolation\u001b[39;00m\n\u001b[1;32m      8\u001b[0m Dataset[\u001b[39m'\u001b[39m\u001b[39myball_relative\u001b[39m\u001b[39m'\u001b[39m] \u001b[39m=\u001b[39m Dataset[\u001b[39m'\u001b[39m\u001b[39myball_relative\u001b[39m\u001b[39m'\u001b[39m]\u001b[39m.\u001b[39minterpolate(method\u001b[39m=\u001b[39m\u001b[39m'\u001b[39m\u001b[39mlinear\u001b[39m\u001b[39m'\u001b[39m)\n",
      "File \u001b[0;32m~/miniconda3/envs/Main/lib/python3.10/site-packages/polars/dataframe/frame.py:1721\u001b[0m, in \u001b[0;36mDataFrame.__setitem__\u001b[0;34m(self, key, value)\u001b[0m\n\u001b[1;32m   1714\u001b[0m \u001b[39mdef\u001b[39;00m \u001b[39m__setitem__\u001b[39m(\n\u001b[1;32m   1715\u001b[0m     \u001b[39mself\u001b[39m,\n\u001b[1;32m   1716\u001b[0m     key: \u001b[39mstr\u001b[39m \u001b[39m|\u001b[39m Sequence[\u001b[39mint\u001b[39m] \u001b[39m|\u001b[39m Sequence[\u001b[39mstr\u001b[39m] \u001b[39m|\u001b[39m \u001b[39mtuple\u001b[39m[Any, \u001b[39mstr\u001b[39m \u001b[39m|\u001b[39m \u001b[39mint\u001b[39m],\n\u001b[1;32m   1717\u001b[0m     value: Any,\n\u001b[1;32m   1718\u001b[0m ) \u001b[39m-\u001b[39m\u001b[39m>\u001b[39m \u001b[39mNone\u001b[39;00m:  \u001b[39m# pragma: no cover\u001b[39;00m\n\u001b[1;32m   1719\u001b[0m     \u001b[39m# df[\"foo\"] = series\u001b[39;00m\n\u001b[1;32m   1720\u001b[0m     \u001b[39mif\u001b[39;00m \u001b[39misinstance\u001b[39m(key, \u001b[39mstr\u001b[39m):\n\u001b[0;32m-> 1721\u001b[0m         \u001b[39mraise\u001b[39;00m \u001b[39mTypeError\u001b[39;00m(\n\u001b[1;32m   1722\u001b[0m             \u001b[39m\"\u001b[39m\u001b[39mDataFrame object does not support `Series` assignment by index.\u001b[39m\u001b[39m\"\u001b[39m\n\u001b[1;32m   1723\u001b[0m             \u001b[39m\"\u001b[39m\u001b[39m\\n\u001b[39;00m\u001b[39m\\n\u001b[39;00m\u001b[39mUse `DataFrame.with_columns`.\u001b[39m\u001b[39m\"\u001b[39m\n\u001b[1;32m   1724\u001b[0m         )\n\u001b[1;32m   1726\u001b[0m     \u001b[39m# df[[\"C\", \"D\"]]\u001b[39;00m\n\u001b[1;32m   1727\u001b[0m     \u001b[39melif\u001b[39;00m \u001b[39misinstance\u001b[39m(key, \u001b[39mlist\u001b[39m):\n\u001b[1;32m   1728\u001b[0m         \u001b[39m# TODO: Use python sequence constructors\u001b[39;00m\n",
      "\u001b[0;31mTypeError\u001b[0m: DataFrame object does not support `Series` assignment by index.\n\nUse `DataFrame.with_columns`."
     ]
    }
   ],
   "source": [
    "\n",
    "#Dataset['yball'] = Dataset['yball'].astype(float)\n",
    "\n",
    "print('Computing yball relative to start...')\n",
    "# Compute yball_relative relative to start\n",
    "Dataset['yball_relative'] = abs(Dataset['yball'] - Dataset['start'])\n",
    "\n",
    "# Fill missing values using linear interpolation\n",
    "Dataset['yball_relative'] = Dataset['yball_relative'].interpolate(method='linear')\n",
    "\n",
    "Dataset.drop(columns=[\"yball\",], inplace=True)\n",
    "\n",
    "\n",
    "# Filter parameters\n",
    "cutoff = 0.0015  # desired cutoff frequency of the filter, Hz ,      slightly higher than actual 1.2 Hz\n",
    "order = 1  # sin wave can be approx represented as quadratic\n",
    "\n",
    "#Dataset['yball_smooth'] = butter_lowpass_filter(Dataset['yball_relative'], cutoff, order)\n",
    "print('Filtering yball relative to start...')\n",
    "Dataset['yball_SG'] = savgol_lowpass_filter(Dataset['yball_relative'], 221, 1)\n",
    "\n",
    "print('Removing yball relative to start...')\n",
    "Dataset.drop(columns=[\"yball_relative\",], inplace=True)\n",
    "\n",
    "print('Defining frame and time columns...')\n",
    "Dataset[\"Frame\"] = Dataset.groupby(\"Fly\").cumcount()\n",
    "\n",
    "Dataset[\"time\"] = Dataset[\"Frame\"] / 30\n",
    "\n",
    "# Remove the original yball column\n",
    "\n",
    "print('Removing Frame column...')\n",
    "Dataset.drop(columns=[\"Frame\",], inplace=True)\n",
    "\n",
    "print('Resetting index...')\n",
    "Dataset.reset_index(drop=True, inplace=True)\n",
    "\n",
    "Dataset.head()"
   ]
  },
  {
   "cell_type": "code",
   "execution_count": null,
   "metadata": {},
   "outputs": [],
   "source": []
  }
 ],
 "metadata": {
  "kernelspec": {
   "display_name": "Main",
   "language": "python",
   "name": "python3"
  },
  "language_info": {
   "codemirror_mode": {
    "name": "ipython",
    "version": 3
   },
   "file_extension": ".py",
   "mimetype": "text/x-python",
   "name": "python",
   "nbconvert_exporter": "python",
   "pygments_lexer": "ipython3",
   "version": "3.10.9"
  },
  "orig_nbformat": 4
 },
 "nbformat": 4,
 "nbformat_minor": 2
}
