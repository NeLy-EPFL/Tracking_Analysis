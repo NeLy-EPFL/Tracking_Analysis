{
 "cells": [
  {
   "cell_type": "markdown",
   "metadata": {},
   "source": [
    "Here i'm gonna compare the difference between this each image and the last one to detect if there is a pause in the video.\n",
    "\n",
    "First i'm gonna select a test video that has an easy to spot pause"
   ]
  },
  {
   "cell_type": "code",
   "execution_count": null,
   "metadata": {},
   "outputs": [],
   "source": [
    "import matplotlib.pyplot as plt\n",
    "import cv2\n",
    "\n",
    "\n",
    "import scipy\n",
    "\n",
    "from pathlib import Path\n",
    "\n",
    "import numpy as np\n",
    "\n",
    "import h5py\n",
    "import math\n",
    "\n",
    "\n",
    "import pandas as pd\n",
    "\n",
    "import seaborn as sns\n",
    "import matplotlib.pyplot as plt\n",
    "\n",
    "#import datashader as ds\n",
    "\n",
    "\n",
    "import holoviews as hv\n",
    "from holoviews import opts\n",
    "from holoviews.plotting.util import process_cmap\n",
    "from bokeh.palettes import Viridis256\n",
    "from holoviews.operation.datashader import datashade, shade, dynspread\n",
    "hv.extension('bokeh')\n",
    "\n",
    "\n",
    "import platform\n",
    "\n",
    "import sys\n",
    "sys.path.insert(0, \"..\")\n",
    "sys.path.insert(0, \"../../..\")\n",
    "\n",
    "\n",
    "from pathlib import Path\n",
    "\n",
    "import cv2\n",
    "\n",
    "import json\n",
    "\n",
    "from bokeh.models import ColumnDataSource\n",
    "from bokeh.plotting import figure, show\n",
    "from bokeh.palettes import Spectral11\n",
    "from bokeh.io import output_notebook\n",
    "import iqplot\n",
    "import bokeh.io\n",
    "bokeh.io.output_notebook()\n",
    "from bokeh.plotting import figure, show\n",
    "from bokeh.models import LinearColorMapper, ColorBar\n",
    "\n",
    "from Utilities.Utils import *\n",
    "from Utilities.Processing import *\n",
    "from Utilities.Ballpushing_utils import *\n"
   ]
  },
  {
   "cell_type": "code",
   "execution_count": null,
   "metadata": {},
   "outputs": [],
   "source": [
    "\n",
    "# Data loading\n",
    "# Get the DataFolder\n",
    "\n",
    "if platform.system() == \"Darwin\":\n",
    "    DataPath = Path(\"/Volumes/Ramdya-Lab/DURRIEU_Matthias/Experimental_data/MultiMazeRecorder/Videos\")\n",
    "# Linux Datapath\n",
    "if platform.system() == \"Linux\":\n",
    "    DataPath = Path(\"/mnt/labserver/DURRIEU_Matthias/Experimental_data/MultiMazeRecorder/Videos\")\n",
    "\n",
    "print(DataPath)\n",
    "Folders = []\n",
    "for folder in DataPath.iterdir():\n",
    "    minfolder = str(folder).lower()\n",
    "    if \"tnt\" in minfolder and \"tracked\" in minfolder and \"pm\" in minfolder:\n",
    "        Folders.append(folder)\n",
    "\n",
    "Folders\n",
    "SavePath = Path(\"/mnt/labserver/DURRIEU_Matthias/Pictures/RasterPlots/\")\n",
    "\n"
   ]
  },
  {
   "cell_type": "code",
   "execution_count": null,
   "metadata": {},
   "outputs": [],
   "source": [
    "Dataset = generate_dataset(Folders, xvals=True)\n",
    "Dataset.head()"
   ]
  },
  {
   "cell_type": "code",
   "execution_count": null,
   "metadata": {},
   "outputs": [],
   "source": [
    "# Get a particular fly video from the dataset\n",
    "\n",
    "TestFly = DataPath/'230803_TNTscreen_PM_1_Videos_Tracked/arena2/corridor3/corridor3.mp4'\n"
   ]
  },
  {
   "cell_type": "code",
   "execution_count": null,
   "metadata": {},
   "outputs": [],
   "source": [
    "\n",
    "DataFly = Dataset[(Dataset['Date'] == '230803') & (Dataset['arena'] == 'arena2') & (Dataset['corridor'] == 'corridor3')]"
   ]
  },
  {
   "cell_type": "code",
   "execution_count": null,
   "metadata": {},
   "outputs": [],
   "source": [
    "import cv2\n",
    "import numpy as np\n",
    "\n",
    "# Open the video file\n",
    "cap = cv2.VideoCapture(TestFly.as_posix())\n",
    "\n",
    "# Initialize a variable to store the previous frame\n",
    "prev_frame = None\n",
    "\n",
    "# Initialize a list to store the sum of pixel differences for each frame\n",
    "pixel_diffs = []\n",
    "\n",
    "while True:\n",
    "    # Read the next frame from the video\n",
    "    ret, frame = cap.read()\n",
    "\n",
    "    # If the frame was read successfully\n",
    "    if ret == True:\n",
    "        # Convert the frame to grayscale\n",
    "        gray = cv2.cvtColor(frame, cv2.COLOR_BGR2GRAY)\n",
    "\n",
    "        # If this is not the first frame\n",
    "        if prev_frame is not None:\n",
    "            # Compute the absolute difference between the current and previous frame\n",
    "            diff = cv2.absdiff(gray, prev_frame)\n",
    "\n",
    "            # Sum up all pixel differences and append to the list\n",
    "            pixel_diffs.append(np.sum(diff))\n",
    "\n",
    "        # Save the current frame for use in the next iteration\n",
    "        prev_frame = gray\n",
    "\n",
    "    else:\n",
    "        # If there was an error reading the frame, we break the loop\n",
    "        break\n",
    "\n",
    "# Release the video file\n",
    "cap.release()\n",
    "\n"
   ]
  },
  {
   "cell_type": "code",
   "execution_count": null,
   "metadata": {},
   "outputs": [],
   "source": [
    "# plot the pixel differences\n",
    "\n",
    "curve_diff = hv.Curve(pixel_diffs, 'Frame', 'Sum of pixel differences')\n",
    "\n",
    "curve_fly = hv.Curve(DataFly, 'Frame', 'yfly_smooth')\n",
    "\n",
    "curve_diff.opts(width=600, height=400, tools=['hover'], show_grid=True)\n",
    "curve_fly.opts(width=600, height=400, tools=['hover'], show_grid=True)\n",
    "\n",
    "curve_diff + curve_fly"
   ]
  },
  {
   "cell_type": "code",
   "execution_count": null,
   "metadata": {},
   "outputs": [],
   "source": [
    "147*30"
   ]
  },
  {
   "cell_type": "code",
   "execution_count": null,
   "metadata": {},
   "outputs": [],
   "source": [
    "# Add a column to the dataframe to store where the fly is pausing\n",
    "\n",
    "# Calculate the difference between consecutive frames\n",
    "Dataset['yfly_diff'] = Dataset['yfly_smooth'].diff().abs()\n",
    "\n",
    "# Identify periods where the difference is less than 5 for at least 200 frames\n",
    "Dataset['Pausing'] = (Dataset['yfly_diff'] < 0.05).rolling(200).sum() == 200\n",
    "\n",
    "# Replace NaN values with False\n",
    "Dataset['Pausing'].fillna(False, inplace=True)"
   ]
  },
  {
   "cell_type": "code",
   "execution_count": null,
   "metadata": {},
   "outputs": [],
   "source": [
    "Dataset.head()"
   ]
  },
  {
   "cell_type": "code",
   "execution_count": null,
   "metadata": {},
   "outputs": [],
   "source": [
    "DataFly = Dataset[(Dataset['Date'] == '230803') & (Dataset['arena'] == 'arena2') & (Dataset['corridor'] == 'corridor3')]"
   ]
  },
  {
   "cell_type": "code",
   "execution_count": null,
   "metadata": {},
   "outputs": [],
   "source": [
    "# Create a new column 'PauseGroup' where change in 'Pausing' is detected\n",
    "DataFly['PauseGroup'] = (DataFly['Pausing'] != DataFly['Pausing'].shift()).cumsum()\n",
    "\n",
    "# Filter rows where 'Pausing' is True\n",
    "pauses = DataFly[DataFly['Pausing'] == True]\n",
    "\n",
    "# Group by 'PauseGroup' and get the first and last frame of each pause event\n",
    "pause_events = pauses.groupby('PauseGroup')['time'].agg(['first', 'last'])\n",
    "\n",
    "# Reset the index of the DataFrame\n",
    "pause_events.reset_index(drop=True, inplace=True)\n",
    "\n",
    "# Print the pause events\n",
    "print(pause_events)\n",
    "\n",
    "# Convert them to \n"
   ]
  },
  {
   "cell_type": "code",
   "execution_count": null,
   "metadata": {},
   "outputs": [],
   "source": [
    "# Convert 'first' and 'last' columns to datetime format\n",
    "pause_events['first'] = pd.to_datetime(pause_events['first'], unit='s').dt.time\n",
    "pause_events['last'] = pd.to_datetime(pause_events['last'], unit='s').dt.time\n",
    "\n",
    "# Print the pause events\n",
    "print(pause_events)"
   ]
  },
  {
   "cell_type": "code",
   "execution_count": null,
   "metadata": {},
   "outputs": [],
   "source": [
    "pauses"
   ]
  },
  {
   "cell_type": "code",
   "execution_count": null,
   "metadata": {},
   "outputs": [],
   "source": [
    "pause_events"
   ]
  },
  {
   "cell_type": "code",
   "execution_count": null,
   "metadata": {},
   "outputs": [],
   "source": [
    "yflydiff = hv.Curve(DataFly, 'Frame', 'yfly_diff')\n",
    "\n",
    "yflydiff.opts(width=600, height=400, tools=['hover'], show_grid=True)"
   ]
  },
  {
   "cell_type": "code",
   "execution_count": null,
   "metadata": {},
   "outputs": [],
   "source": [
    "8700/30"
   ]
  },
  {
   "cell_type": "code",
   "execution_count": null,
   "metadata": {},
   "outputs": [],
   "source": [
    "10800/30"
   ]
  },
  {
   "cell_type": "code",
   "execution_count": null,
   "metadata": {},
   "outputs": [],
   "source": [
    " 200/30"
   ]
  },
  {
   "cell_type": "code",
   "execution_count": null,
   "metadata": {},
   "outputs": [],
   "source": [
    "def process_videos(Dataset, vidpath, OutFolder, vidname):\n",
    "    \n",
    "    # Add a column to the dataframe to store where the fly is pausing\n",
    "\n",
    "    # Calculate the difference between consecutive frames\n",
    "    Dataset['yfly_diff'] = Dataset['yfly_smooth'].diff().abs()\n",
    "\n",
    "    # Identify periods where the difference is less than 5 for at least 200 frames\n",
    "    Dataset['Pausing'] = (Dataset['yfly_diff'] < 0.05).rolling(200).sum() == 200\n",
    "\n",
    "    # Replace NaN values with False\n",
    "    Dataset['Pausing'].fillna(False, inplace=True)\n",
    "    # Create a new column 'PauseGroup' where change in 'Pausing' is detected\n",
    "    Dataset['PauseGroup'] = (Dataset['Pausing'] != Dataset['Pausing'].shift()).cumsum()\n",
    "\n",
    "    # Filter rows where 'Pausing' is True\n",
    "    pauses = Dataset[Dataset['Pausing'] == True]\n",
    "\n",
    "    # Group by 'PauseGroup' and get the first and last frame of each pause event\n",
    "    pause_events = pauses.groupby('PauseGroup')['Frame'].agg(['first', 'last'])\n",
    "\n",
    "    # Reset the index of the DataFrame\n",
    "    pause_events.reset_index(drop=True, inplace=True)\n",
    "\n",
    "    # Print the pause events\n",
    "    print(pause_events)\n",
    "\n",
    "    clips = []\n",
    "    for i, (start_frame, end_frame) in enumerate(pause_events.itertuples(index=False)):\n",
    "        # Load the video\n",
    "        cap = cv2.VideoCapture(str(vidpath))\n",
    "\n",
    "        # Get the video's width, height, and frames per second (fps)\n",
    "        width = int(cap.get(cv2.CAP_PROP_FRAME_WIDTH))\n",
    "        height = int(cap.get(cv2.CAP_PROP_FRAME_HEIGHT))\n",
    "        fps = cap.get(cv2.CAP_PROP_FPS)\n",
    "        \n",
    "        # Rotate frame 90 degrees clockwise\n",
    "        frame = cv2.rotate(frame, cv2.ROTATE_90_CLOCKWISE)\n",
    "\n",
    "        # Write some Text\n",
    "        font = cv2.FONT_HERSHEY_SIMPLEX\n",
    "        text = f\"pause:{i+1} - start:{start_time_str}\"\n",
    "        font_scale = width / 150\n",
    "        thickness = int(4 * font_scale)\n",
    "        text_size, _ = cv2.getTextSize(text, font, font_scale, thickness)\n",
    "\n",
    "        # Position the text at the top center of the frame\n",
    "        text_x = (frame.shape[1] - text_size[0]) // 2\n",
    "        text_y = 25\n",
    "        cv2.putText(\n",
    "            frame,\n",
    "            text,\n",
    "            (text_x, text_y),\n",
    "            font,\n",
    "            font_scale,\n",
    "            (255, 255, 255),\n",
    "            thickness,\n",
    "            cv2.LINE_AA,\n",
    "        )\n",
    "\n",
    "        # Define the codec and create a VideoWriter object\n",
    "        fourcc = cv2.VideoWriter_fourcc(*\"mp4v\")  # Be sure to use lower case\n",
    "\n",
    "        clip_path = OutFolder.joinpath(f\"output_{i}.mp4\").as_posix()\n",
    "\n",
    "        out = cv2.VideoWriter(\n",
    "            clip_path, fourcc, fps, (height, width)\n",
    "        )  # Note that width and height are swapped\n",
    "\n",
    "        cap.set(cv2.CAP_PROP_POS_FRAMES, start_frame)\n",
    "\n",
    "        for _ in range(start_frame, end_frame):\n",
    "            ret, frame = cap.read()\n",
    "            if not ret:\n",
    "                break\n",
    "\n",
    "            # Write the frame into the output file\n",
    "            out.write(frame)\n",
    "\n",
    "        # Release everything when done\n",
    "        cap.release()\n",
    "        out.release()\n",
    "\n",
    "        clips.append(clip_path)\n",
    "\n",
    "    cv2.destroyAllWindows()\n",
    "\n",
    "    # Define the codec and create a VideoWriter object for the final video\n",
    "    out = cv2.VideoWriter(\n",
    "        OutFolder.joinpath(f\"{vidname}.mp4\").as_posix(), fourcc, fps, (height, width)\n",
    "    )  # Note that width and height are swapped because the clips were rotated\n",
    "\n",
    "    # Assuming 'clips' is a list of paths to the clip files\n",
    "    for clip_path in clips:\n",
    "        cap = cv2.VideoCapture(clip_path)\n",
    "\n",
    "        while True:\n",
    "            ret, frame = cap.read()\n",
    "            if not ret:\n",
    "                break\n",
    "\n",
    "            # Write the frame into the final output file\n",
    "            out.write(frame)\n",
    "\n",
    "        cap.release()\n",
    "\n",
    "    # Release the final output file when done\n",
    "    out.release()\n",
    "\n",
    "    # Delete the clips\n",
    "    for clip_path in clips:\n",
    "        os.remove(clip_path)\n",
    "\n",
    "    print(f\"Finished processing {vidname}!\")\n"
   ]
  },
  {
   "cell_type": "code",
   "execution_count": null,
   "metadata": {},
   "outputs": [],
   "source": [
    "SaveVideo = Path(\"/mnt/labserver/DURRIEU_Matthias/Videos/TestPauses/\")\n",
    "\n",
    "process_videos(DataFly, TestFly, SaveVideo, 'TestFly')"
   ]
  },
  {
   "cell_type": "markdown",
   "metadata": {},
   "source": [
    "# Using my function"
   ]
  },
  {
   "cell_type": "code",
   "execution_count": null,
   "metadata": {},
   "outputs": [],
   "source": [
    "TestFly"
   ]
  },
  {
   "cell_type": "code",
   "execution_count": null,
   "metadata": {},
   "outputs": [],
   "source": [
    "flypath = next(TestFly.parent.glob(\"*flytrack*.analysis.h5\"))"
   ]
  },
  {
   "cell_type": "code",
   "execution_count": null,
   "metadata": {},
   "outputs": [],
   "source": [
    "flypath"
   ]
  },
  {
   "cell_type": "code",
   "execution_count": null,
   "metadata": {},
   "outputs": [],
   "source": [
    "pause_events = extract_pauses(flypath)"
   ]
  },
  {
   "cell_type": "code",
   "execution_count": null,
   "metadata": {},
   "outputs": [],
   "source": [
    "pause_events"
   ]
  },
  {
   "cell_type": "markdown",
   "metadata": {},
   "source": [
    "# Adding x fly position"
   ]
  },
  {
   "cell_type": "code",
   "execution_count": null,
   "metadata": {},
   "outputs": [],
   "source": [
    "DataFly['yfly_diff'] = Dataset['yfly_smooth'].diff().abs()\n",
    "DataFly['xfly_diff'] = Dataset['xfly_smooth'].diff().abs()"
   ]
  },
  {
   "cell_type": "code",
   "execution_count": null,
   "metadata": {},
   "outputs": [],
   "source": [
    "# plot the test fly x diff position to check pauses\n",
    "\n",
    "xflydiff = hv.Curve(DataFly, 'Frame', 'xfly_diff')\n",
    "\n",
    "xflydiff.opts(width=600, height=400, tools=['hover'], show_grid=True)"
   ]
  },
  {
   "cell_type": "code",
   "execution_count": null,
   "metadata": {},
   "outputs": [],
   "source": [
    "flypath"
   ]
  },
  {
   "cell_type": "code",
   "execution_count": null,
   "metadata": {},
   "outputs": [],
   "source": [
    "flypath = next(TestFly.parent.glob(\"*flytrack*.analysis.h5\"))\n",
    "\n",
    "#flypath = str(flypath)\n",
    "\n",
    "pause_events = extract_pauses(flypath, min_time = 200, threshold_x=1, threshold_y=0.05)\n",
    "\n",
    "pause_events\n"
   ]
  },
  {
   "cell_type": "code",
   "execution_count": null,
   "metadata": {},
   "outputs": [],
   "source": [
    "pause_events[0]['time']"
   ]
  },
  {
   "cell_type": "code",
   "execution_count": null,
   "metadata": {},
   "outputs": [],
   "source": [
    "import datetime\n",
    "\n",
    "# Initialize an empty list to store the first and last times\n",
    "first_last_times = []\n",
    "\n",
    "# Iterate over the list of DataFrames\n",
    "for df in pause_events:\n",
    "    # Check if the DataFrame is not empty\n",
    "    if not df.empty:\n",
    "        # Get the first and last 'time' values\n",
    "        first_time = df['time'].iloc[0]\n",
    "        last_time = df['time'].iloc[-1]\n",
    "        \n",
    "        # Convert the times from seconds to 'h:m:s' format\n",
    "        first_time_str = str(datetime.timedelta(seconds=int(first_time)))\n",
    "        last_time_str = str(datetime.timedelta(seconds=int(last_time)))\n",
    "        \n",
    "        # Append the times to the list\n",
    "        first_last_times.append((first_time_str, last_time_str))\n",
    "\n",
    "# Print the first and last times\n",
    "for i, (first, last) in enumerate(first_last_times):\n",
    "    print(f\"Pause event {i+1}: First time = {first}, Last time = {last}\")\n"
   ]
  },
  {
   "cell_type": "code",
   "execution_count": null,
   "metadata": {},
   "outputs": [],
   "source": [
    "pause_events_bounds = []\n",
    "for df in pause_events:\n",
    "    first_time = df['time'].iloc[0]\n",
    "    last_time = df['time'].iloc[-1]\n",
    "    pause_events_bounds.append((first_time, last_time))\n",
    "\n",
    "from datetime import timedelta\n",
    "\n",
    "pause_events_hms = []\n",
    "for first_time, last_time in pause_events_bounds:\n",
    "    first_time_hms = str(timedelta(seconds=int(first_time)))\n",
    "    last_time_hms = str(timedelta(seconds=int(last_time)))\n",
    "    pause_events_hms.append((first_time_hms, last_time_hms))\n",
    "\n"
   ]
  },
  {
   "cell_type": "code",
   "execution_count": null,
   "metadata": {},
   "outputs": [],
   "source": [
    "pause_events_hms"
   ]
  },
  {
   "cell_type": "code",
   "execution_count": null,
   "metadata": {},
   "outputs": [],
   "source": []
  }
 ],
 "metadata": {
  "kernelspec": {
   "display_name": "trackinganalysis",
   "language": "python",
   "name": "python3"
  },
  "language_info": {
   "codemirror_mode": {
    "name": "ipython",
    "version": 3
   },
   "file_extension": ".py",
   "mimetype": "text/x-python",
   "name": "python",
   "nbconvert_exporter": "python",
   "pygments_lexer": "ipython3",
   "version": "3.11.4"
  },
  "orig_nbformat": 4
 },
 "nbformat": 4,
 "nbformat_minor": 2
}
