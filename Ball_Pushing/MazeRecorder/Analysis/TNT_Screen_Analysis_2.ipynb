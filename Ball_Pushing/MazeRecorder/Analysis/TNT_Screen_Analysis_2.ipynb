{
 "cells": [
  {
   "cell_type": "code",
   "execution_count": null,
   "metadata": {},
   "outputs": [],
   "source": [
    "import sys\n",
    "import os\n",
    "from icecream import ic\n",
    "\n",
    "from pathlib import Path\n",
    "\n",
    "sys.path.insert(0, \"..\")\n",
    "sys.path.insert(0, \"../../../Utilities\")\n",
    "\n",
    "sys.path.insert(0, \"../../..\")\n",
    "\n",
    "import Ballpushing_utils\n",
    "import Utils\n",
    "import Processing\n",
    "import HoloviewsTemplates\n",
    "\n",
    "import importlib\n",
    "\n",
    "import holoviews as hv\n",
    "\n",
    "hv.extension(\"bokeh\")"
   ]
  },
  {
   "cell_type": "markdown",
   "metadata": {},
   "source": [
    "# Get the list of experiments"
   ]
  },
  {
   "cell_type": "code",
   "execution_count": null,
   "metadata": {},
   "outputs": [],
   "source": [
    "# Get the data path\n",
    "Datapath = Utils.get_data_path()\n",
    "\n",
    "# Get all folders with \"TNT_Fine\" in the name\n",
    "\n",
    "Folders = [\n",
    "    f for f in os.listdir(Datapath) if \"TNT_Fine\" in f and \"Tracked\" in f and os.path.isdir(Datapath / f)\n",
    "]\n",
    "\n",
    "Folders"
   ]
  },
  {
   "cell_type": "code",
   "execution_count": null,
   "metadata": {},
   "outputs": [],
   "source": [
    "importlib.reload(Ballpushing_utils)"
   ]
  },
  {
   "cell_type": "code",
   "execution_count": null,
   "metadata": {},
   "outputs": [],
   "source": [
    "# Generate Experiment objects from each folder\n",
    "\n",
    "Experiments = [Ballpushing_utils.Experiment(Datapath / f) for f in Folders]"
   ]
  },
  {
   "cell_type": "code",
   "execution_count": null,
   "metadata": {},
   "outputs": [],
   "source": [
    "# Check some flies nicknames\n",
    "\n",
    "TestFly = Experiments[15].flies[3].nickname"
   ]
  },
  {
   "cell_type": "code",
   "execution_count": null,
   "metadata": {},
   "outputs": [],
   "source": [
    "TestFly"
   ]
  },
  {
   "cell_type": "code",
   "execution_count": null,
   "metadata": {},
   "outputs": [],
   "source": [
    "savepath = Utils.get_labserver() / \"Experimental_data/MultiMazeRecorder/Datasets/240227_TNT_Fine_Experiments.pkl\"\n"
   ]
  },
  {
   "cell_type": "code",
   "execution_count": null,
   "metadata": {},
   "outputs": [],
   "source": [
    "Ballpushing_utils.save_object(Experiments, savepath.as_posix())"
   ]
  },
  {
   "cell_type": "code",
   "execution_count": null,
   "metadata": {},
   "outputs": [],
   "source": [
    "# Load the experiments from the saved file\n",
    "Experiments = Ballpushing_utils.load_object(savepath.as_posix())"
   ]
  },
  {
   "cell_type": "code",
   "execution_count": null,
   "metadata": {},
   "outputs": [],
   "source": [
    "type(Experiments)"
   ]
  },
  {
   "cell_type": "code",
   "execution_count": null,
   "metadata": {},
   "outputs": [],
   "source": [
    "type(Experiments[0])"
   ]
  },
  {
   "cell_type": "code",
   "execution_count": null,
   "metadata": {},
   "outputs": [],
   "source": [
    "importlib.reload(Ballpushing_utils)"
   ]
  },
  {
   "cell_type": "code",
   "execution_count": null,
   "metadata": {},
   "outputs": [],
   "source": [
    "data = Ballpushing_utils.Dataset(Experiments)"
   ]
  },
  {
   "cell_type": "code",
   "execution_count": null,
   "metadata": {},
   "outputs": [],
   "source": [
    "print(data)"
   ]
  },
  {
   "cell_type": "code",
   "execution_count": null,
   "metadata": {},
   "outputs": [],
   "source": [
    "# For each fly in the dataset, if they have 2 nicknames, just keep the first one\n",
    "# for fly in data.flies:\n",
    "#     if len(fly.nickname) > 1:\n",
    "#         fly.nickname = fly.nickname[0]"
   ]
  },
  {
   "cell_type": "markdown",
   "metadata": {},
   "source": [
    "I used the above method as a hack to get rid of a supplementary nickname in PR flies. It is fixed directly in the brain region registry now and doesn't need to be used anymore."
   ]
  },
  {
   "cell_type": "code",
   "execution_count": null,
   "metadata": {},
   "outputs": [],
   "source": [
    "data.generate_dataset(\"summary\")"
   ]
  },
  {
   "cell_type": "code",
   "execution_count": null,
   "metadata": {},
   "outputs": [],
   "source": [
    "data.jitter_boxplot(data.data, \"FinalEvent\", show=True, save=False)"
   ]
  },
  {
   "cell_type": "code",
   "execution_count": null,
   "metadata": {},
   "outputs": [],
   "source": [
    "data.data"
   ]
  },
  {
   "cell_type": "code",
   "execution_count": null,
   "metadata": {},
   "outputs": [],
   "source": [
    "# Make a subset of the data that removes None rows from \"FinalEvent\"\n",
    "\n",
    "subsetfinal = data.data.dropna(subset=[\"FinalEvent\"])"
   ]
  },
  {
   "cell_type": "code",
   "execution_count": null,
   "metadata": {},
   "outputs": [],
   "source": [
    "data.jitter_boxplot(subsetfinal, \"FinalEvent\", show=False, save=True)"
   ]
  },
  {
   "cell_type": "markdown",
   "metadata": {},
   "source": [
    "# New plotting method"
   ]
  },
  {
   "cell_type": "code",
   "execution_count": null,
   "metadata": {},
   "outputs": [],
   "source": [
    "importlib.reload(HoloviewsTemplates)"
   ]
  },
  {
   "cell_type": "code",
   "execution_count": null,
   "metadata": {},
   "outputs": [],
   "source": [
    "HoloviewsTemplates.jitter_boxplot(data.data, \"FinalEvent\", show=True, save=False, metadata=data.metadata, bs_controls=True)"
   ]
  },
  {
   "cell_type": "code",
   "execution_count": null,
   "metadata": {},
   "outputs": [],
   "source": [
    "Clean = data.data.groupby(\"Brain region\").filter(\n",
    "    lambda x: x[\"FinalEvent\"].notna().any()\n",
    ")\n",
    "\n",
    "# Clean the data by removing NaN values for this metric\n",
    "Clean = Clean.dropna(subset=[\"FinalEvent\"])\n",
    "\n",
    "Clean[\"FinalEvent\"] = pd.to_numeric(Clean[\"FinalEvent\"], errors=\"coerce\")\n",
    "\n",
    "hv.BoxWhisker(\n",
    "            data=Clean,\n",
    "            vdims=\"FinalEvent\",\n",
    "            kdims=[\"label\", \"Brain region\"],\n",
    "        ).groupby(\"Brain region\")"
   ]
  },
  {
   "cell_type": "code",
   "execution_count": null,
   "metadata": {},
   "outputs": [],
   "source": [
    "Clean = data.data.groupby(\"Brain region\").filter(\n",
    "    lambda x: x[\"FinalEvent\"].notna().any()\n",
    ")\n",
    "\n",
    "# Clean the data by removing NaN values for this metric\n",
    "Clean = Clean.dropna(subset=[\"FinalEvent\"])\n"
   ]
  },
  {
   "cell_type": "code",
   "execution_count": null,
   "metadata": {},
   "outputs": [],
   "source": [
    "print(Clean[\"FinalEvent\"].dtype)"
   ]
  },
  {
   "cell_type": "code",
   "execution_count": null,
   "metadata": {},
   "outputs": [],
   "source": [
    "import pandas as pd\n",
    "\n",
    "Clean[\"FinalEvent\"] = pd.to_numeric(Clean[\"FinalEvent\"], errors=\"coerce\")\n",
    "boxplot = hv.BoxWhisker(\n",
    "    data=Clean,\n",
    "    vdims=\"FinalEvent\",\n",
    "    kdims=[\"label\", \"Brain region\"],\n",
    ")\n",
    "\n",
    "boxplot"
   ]
  },
  {
   "cell_type": "code",
   "execution_count": null,
   "metadata": {},
   "outputs": [],
   "source": [
    "hv.ipython.show_traceback()"
   ]
  },
  {
   "cell_type": "code",
   "execution_count": null,
   "metadata": {},
   "outputs": [],
   "source": [
    "print(data.data.groupby(\"Brain region\").filter(lambda x: x[\"FinalEvent\"].notna().any()))"
   ]
  },
  {
   "cell_type": "markdown",
   "metadata": {},
   "source": [
    "# Troubleshooting the data error\n",
    "\n",
    "In my dataset I get this: \n",
    "AbbreviatedException: ValueError: List parameter 'PipelineMeta.vdims' length must be between 1 and 1 (inclusive), not 0.\n",
    "\n",
    "\n",
    "only with some metrics. In order to troubleshoot this, let's generate dataset objects with incrementally more experiments to see where the error comes from."
   ]
  },
  {
   "cell_type": "code",
   "execution_count": null,
   "metadata": {},
   "outputs": [],
   "source": [
    "# Using the list of experiments, in a loop generate a dataset including one more experiment each time and try to plot the jitter boxplot. If that works, proceed to the next step. If that doesn't work, print the name of the last experiment that was added to the dataset.\n",
    "\n",
    "for exp in Experiments:\n",
    "    try:\n",
    "        data = Ballpushing_utils.Dataset(Experiments[: Experiments.index(exp) + 1])\n",
    "        subsetfinal = data.data.dropna(subset=[\"FinalEvent\"])\n",
    "        data.jitter_boxplot(subsetfinal, \"FinalEvent\", show=False, save=True)\n",
    "    \n",
    "    except:\n",
    "        print(f\"Error with {exp.directory}\")\n",
    "    "
   ]
  },
  {
   "cell_type": "markdown",
   "metadata": {},
   "source": [
    "Seems its a problem with all of the experiments, however if I import them differently, with their paths, it works. Let's double check that"
   ]
  },
  {
   "cell_type": "code",
   "execution_count": null,
   "metadata": {},
   "outputs": [],
   "source": [
    "testdata = Ballpushing_utils.Dataset(\n",
    "    [\n",
    "        Ballpushing_utils.Experiment(\n",
    "            Path(\n",
    "                \"/mnt/labserver/DURRIEU_Matthias/Experimental_data/MultiMazeRecorder/Videos/231121_TNT_Fine_1_Videos_Tracked/\"\n",
    "            )\n",
    "        ),\n",
    "        Ballpushing_utils.Experiment(\n",
    "            Path(\n",
    "                \"/mnt/labserver/DURRIEU_Matthias/Experimental_data/MultiMazeRecorder/Videos/231121_TNT_Fine_2_Videos_Tracked/\"\n",
    "            )\n",
    "        ),\n",
    "    ]\n",
    ")\n",
    "\n",
    "testdata.generate_dataset(\"summary\")\n",
    "\n",
    "testdata.jitter_boxplot(testdata.data, \"FinalEvent\", save=True)"
   ]
  },
  {
   "cell_type": "markdown",
   "metadata": {},
   "source": [
    "Maybe the issue is specific to the control thing? I see it's not in my working example. Let's extract the function and remove the control thing and see if it works."
   ]
  },
  {
   "cell_type": "code",
   "execution_count": null,
   "metadata": {},
   "outputs": [],
   "source": [
    "importlib.reload(Ballpushing_utils)"
   ]
  },
  {
   "cell_type": "code",
   "execution_count": null,
   "metadata": {},
   "outputs": [],
   "source": [
    "data.jitter_boxplot(data.data, \"FinalEvent\", save=False, show=True)"
   ]
  },
  {
   "cell_type": "markdown",
   "metadata": {},
   "source": [
    "# PCA on the data\n",
    "\n",
    "Here I'll try to do PCA on the data to see if I can get something interesting by reducing the dimensionality of the data, including all the summary metrics."
   ]
  },
  {
   "cell_type": "code",
   "execution_count": null,
   "metadata": {},
   "outputs": [],
   "source": [
    "# Subset the data to only include the label and metrics of interest\n",
    "subset = data.data[\n",
    "    [\n",
    "        \"NumberEvents\",\n",
    "        \"FinalEvent\",\n",
    "        \"FinalTime\",\n",
    "        \"SignificantEvents\",\n",
    "        \"SignificantFirst\",\n",
    "        \"SignificantFirstTime\",\n",
    "        \"CumulatedBreaks\",\n",
    "        \"Pushes\",\n",
    "        \"Pulls\",\n",
    "        \"Genotype\",\n",
    "        \"Brain region\",\n",
    "    ]\n",
    "]"
   ]
  },
  {
   "cell_type": "code",
   "execution_count": null,
   "metadata": {},
   "outputs": [],
   "source": [
    "from sklearn.decomposition import PCA\n",
    "from sklearn.preprocessing import StandardScaler\n",
    "\n",
    "import matplotlib.pyplot as plt\n",
    "import seaborn as sns"
   ]
  },
  {
   "cell_type": "code",
   "execution_count": null,
   "metadata": {},
   "outputs": [],
   "source": [
    "import hvplot.pandas\n",
    "\n",
    "# Separate the \"TNTxZ2018\" data from the rest of the data\n",
    "TNTxZ2018_data = PCA_components[PCA_components[\"Genotype\"] == \"TNTxZ2018\"]\n",
    "other_data = PCA_components[PCA_components[\"Genotype\"] != \"TNTxZ2018\"]\n",
    "\n",
    "# Generate one plot per Brain region\n",
    "for brain_region in PCA_components[\"Brain region\"].unique():\n",
    "    df_brain_region = other_data[other_data[\"Brain region\"] == brain_region]\n",
    "\n",
    "    # Create separate scatter plots for the \"TNTxZ2018\" genotype and the other genotypes\n",
    "    plot1 = df_brain_region.hvplot.scatter(\n",
    "        x=\"PC1\", y=\"PC2\", by=\"Genotype\", hover_cols=[\"Genotype\"], cmap=\"nipy_spectral\"\n",
    "    )\n",
    "    plot2 = TNTxZ2018_data.hvplot.scatter(\n",
    "        x=\"PC1\",\n",
    "        y=\"PC2\",\n",
    "        by=\"Genotype\",\n",
    "        hover_cols=[\"Genotype\"],\n",
    "        color=\"black\",\n",
    "        marker=\"x\",\n",
    "        size=100,\n",
    "    )\n",
    "\n",
    "    # Combine the plots\n",
    "    final_plot = plot1 * plot2\n",
    "\n",
    "    # Display the plot\n",
    "    hvplot.show(final_plot)"
   ]
  },
  {
   "cell_type": "code",
   "execution_count": null,
   "metadata": {},
   "outputs": [],
   "source": [
    "subset"
   ]
  },
  {
   "cell_type": "code",
   "execution_count": null,
   "metadata": {},
   "outputs": [],
   "source": [
    "import hvplot.pandas\n",
    "\n",
    "# Create a scatter plot for each brain region and genotype\n",
    "plot = PCA_components.hvplot.scatter(\n",
    "    x=\"PC1\",\n",
    "    y=\"PC2\",\n",
    "    by=\"Genotype\",\n",
    "    groupby=\"Brain region\",\n",
    "    hover_cols=[\"Genotype\"],\n",
    "    cmap=\"nipy_spectral\",\n",
    "    dynamic=False,\n",
    ")\n",
    "\n",
    "# Adjust the appearance of the \"TNTxZ2018\" points\n",
    "plot.opts(hv.opts.Scatter(\"TNTxZ2018\", size=100, marker=\"x\", color=\"black\"))\n",
    "\n",
    "# Display the plot\n",
    "hvplot.show(plot)"
   ]
  },
  {
   "cell_type": "markdown",
   "metadata": {},
   "source": []
  },
  {
   "cell_type": "code",
   "execution_count": null,
   "metadata": {},
   "outputs": [],
   "source": [
    "import hvplot.pandas\n",
    "import holoviews as hv\n",
    "\n",
    "# Separate the \"TNTxZ2018\" data from the rest of the data\n",
    "TNTxZ2018_data = PCA_components[PCA_components[\"Genotype\"] == \"TNTxZ2018\"]\n",
    "other_data = PCA_components[PCA_components[\"Genotype\"] != \"TNTxZ2018\"]\n",
    "\n",
    "# Initialize an empty Layout\n",
    "plots = hv.Layout()\n",
    "\n",
    "# Generate one plot per Brain region\n",
    "for brain_region in PCA_components[\"Brain region\"].unique():\n",
    "    df_brain_region = other_data[other_data[\"Brain region\"] == brain_region]\n",
    "\n",
    "    # Create separate scatter plots for the \"TNTxZ2018\" genotype and the other genotypes\n",
    "    plot1 = df_brain_region.hvplot.scatter(\n",
    "        x=\"PC1\", y=\"PC2\", by=\"Genotype\", hover_cols=[\"Genotype\"], cmap=\"nipy_spectral\"\n",
    "    )\n",
    "    plot2 = TNTxZ2018_data.hvplot.scatter(\n",
    "        x=\"PC1\",\n",
    "        y=\"PC2\",\n",
    "        by=\"Genotype\",\n",
    "        hover_cols=[\"Genotype\"],\n",
    "        color=\"black\",\n",
    "        marker=\"x\",\n",
    "        size=100,\n",
    "    )\n",
    "\n",
    "    # Combine the plots\n",
    "    final_plot = plot1 * plot2\n",
    "\n",
    "    # Add the plot to the Layout\n",
    "    plots += final_plot.relabel(f\"PCA - Brain Region: {brain_region}\")\n",
    "\n",
    "# Save the Layout\n",
    "hvplot.save(plots.cols(1), \"/mnt/labserver/DURRIEU_Matthias/Experimental_data/MultiMazeRecorder/Plots/240222_PCA_plots.html\")\n",
    "# Display the Layout\n",
    "hvplot.show(plots.cols(1))"
   ]
  },
  {
   "cell_type": "code",
   "execution_count": null,
   "metadata": {},
   "outputs": [],
   "source": []
  }
 ],
 "metadata": {
  "kernelspec": {
   "display_name": "Main",
   "language": "python",
   "name": "python3"
  },
  "language_info": {
   "codemirror_mode": {
    "name": "ipython",
    "version": 3
   },
   "file_extension": ".py",
   "mimetype": "text/x-python",
   "name": "python",
   "nbconvert_exporter": "python",
   "pygments_lexer": "ipython3",
   "version": "3.10.9"
  }
 },
 "nbformat": 4,
 "nbformat_minor": 2
}
