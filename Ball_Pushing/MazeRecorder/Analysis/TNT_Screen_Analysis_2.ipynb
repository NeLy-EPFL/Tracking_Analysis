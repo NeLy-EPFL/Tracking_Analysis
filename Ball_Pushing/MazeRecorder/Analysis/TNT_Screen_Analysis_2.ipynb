{
 "cells": [
  {
   "cell_type": "code",
   "execution_count": null,
   "metadata": {},
   "outputs": [],
   "source": [
    "import sys\n",
    "import os\n",
    "from icecream import ic\n",
    "\n",
    "from pathlib import Path\n",
    "\n",
    "sys.path.insert(0, \"..\")\n",
    "sys.path.insert(0, \"../../../Utilities\")\n",
    "\n",
    "sys.path.insert(0, \"../../..\")\n",
    "\n",
    "import Ballpushing_utils\n",
    "import Utils\n",
    "import Processing\n",
    "import HoloviewsTemplates\n",
    "\n",
    "import pandas as pd\n",
    "import hvplot.pandas\n",
    "\n",
    "import importlib\n",
    "\n",
    "import holoviews as hv\n",
    "\n",
    "hv.extension(\"bokeh\")"
   ]
  },
  {
   "cell_type": "markdown",
   "metadata": {},
   "source": [
    "# Get the list of experiments"
   ]
  },
  {
   "cell_type": "code",
   "execution_count": null,
   "metadata": {},
   "outputs": [],
   "source": [
    "# Get the data path\n",
    "Datapath = Utils.get_data_path()\n",
    "\n",
    "# Get all folders with \"TNT_Fine\" in the name\n",
    "\n",
    "Folders = [\n",
    "    f for f in os.listdir(Datapath) if \"TNT_Fine\" in f and \"Tracked\" in f and os.path.isdir(Datapath / f)\n",
    "]\n",
    "\n",
    "Folders"
   ]
  },
  {
   "cell_type": "code",
   "execution_count": null,
   "metadata": {},
   "outputs": [],
   "source": [
    "importlib.reload(Ballpushing_utils)"
   ]
  },
  {
   "cell_type": "code",
   "execution_count": null,
   "metadata": {},
   "outputs": [],
   "source": [
    "# Generate Experiment objects from each folder\n",
    "\n",
    "Experiments = [Ballpushing_utils.Experiment(Datapath / f) for f in Folders]"
   ]
  },
  {
   "cell_type": "code",
   "execution_count": null,
   "metadata": {},
   "outputs": [],
   "source": [
    "# Check some flies nicknames\n",
    "\n",
    "TestFly = Experiments[15].flies[3].nickname"
   ]
  },
  {
   "cell_type": "code",
   "execution_count": null,
   "metadata": {},
   "outputs": [],
   "source": [
    "TestFly"
   ]
  },
  {
   "cell_type": "code",
   "execution_count": null,
   "metadata": {},
   "outputs": [],
   "source": [
    "savepath = Utils.get_labserver() / \"Experimental_data/MultiMazeRecorder/Datasets/240306_TNT_Fine_Experiments.pkl\"\n"
   ]
  },
  {
   "cell_type": "code",
   "execution_count": null,
   "metadata": {},
   "outputs": [],
   "source": [
    "Ballpushing_utils.save_object(Experiments, savepath.as_posix())"
   ]
  },
  {
   "cell_type": "code",
   "execution_count": null,
   "metadata": {},
   "outputs": [],
   "source": [
    "# Load the experiments from the saved file\n",
    "Experiments = Ballpushing_utils.load_object(savepath.as_posix())"
   ]
  },
  {
   "cell_type": "code",
   "execution_count": null,
   "metadata": {},
   "outputs": [],
   "source": [
    "type(Experiments)"
   ]
  },
  {
   "cell_type": "code",
   "execution_count": null,
   "metadata": {},
   "outputs": [],
   "source": [
    "type(Experiments[0])"
   ]
  },
  {
   "cell_type": "code",
   "execution_count": null,
   "metadata": {},
   "outputs": [],
   "source": [
    "importlib.reload(Ballpushing_utils)"
   ]
  },
  {
   "cell_type": "code",
   "execution_count": null,
   "metadata": {},
   "outputs": [],
   "source": [
    "data = Ballpushing_utils.Dataset(Experiments)"
   ]
  },
  {
   "cell_type": "code",
   "execution_count": null,
   "metadata": {},
   "outputs": [],
   "source": [
    "print(data)"
   ]
  },
  {
   "cell_type": "code",
   "execution_count": null,
   "metadata": {},
   "outputs": [],
   "source": [
    "# For each fly in the dataset, if they have 2 nicknames, just keep the first one\n",
    "# for fly in data.flies:\n",
    "#     if len(fly.nickname) > 1:\n",
    "#         fly.nickname = fly.nickname[0]"
   ]
  },
  {
   "cell_type": "markdown",
   "metadata": {},
   "source": [
    "I used the above method as a hack to get rid of a supplementary nickname in PR flies. It is fixed directly in the brain region registry now and doesn't need to be used anymore."
   ]
  },
  {
   "cell_type": "code",
   "execution_count": null,
   "metadata": {},
   "outputs": [],
   "source": [
    "data.generate_dataset(\"summary\")\n",
    "\n",
    "# Drop the flies whose genotype is either \"M6\", M7, PR or CS\n",
    "data.data=data.data[~data.data[\"Genotype\"].isin([\"M6\", \"M7\", \"PR\", \"CS\"])]"
   ]
  },
  {
   "cell_type": "code",
   "execution_count": null,
   "metadata": {},
   "outputs": [],
   "source": []
  },
  {
   "cell_type": "code",
   "execution_count": null,
   "metadata": {},
   "outputs": [],
   "source": [
    "mydata = data.data"
   ]
  },
  {
   "cell_type": "markdown",
   "metadata": {},
   "source": [
    "# Plotting methods"
   ]
  },
  {
   "cell_type": "code",
   "execution_count": null,
   "metadata": {},
   "outputs": [],
   "source": [
    "# Get the type of the label column\n",
    "mydata[\"label\"].dtype"
   ]
  },
  {
   "cell_type": "code",
   "execution_count": null,
   "metadata": {},
   "outputs": [],
   "source": [
    "savepath = Utils.get_labserver() / \"Experimental_data/MultiMazeRecorder/Plots/240306_summaries\""
   ]
  },
  {
   "cell_type": "code",
   "execution_count": null,
   "metadata": {},
   "outputs": [],
   "source": [
    "importlib.reload(HoloviewsTemplates)"
   ]
  },
  {
   "cell_type": "code",
   "execution_count": null,
   "metadata": {},
   "outputs": [],
   "source": [
    "HoloviewsTemplates.jitter_boxplot(\n",
    "    data.data,\n",
    "    \"NumberEvents\",\n",
    "    show=True,\n",
    "    save=True,\n",
    "    metadata=data.metadata,\n",
    "    bs_controls=True,\n",
    "    sort_by=\"median\",\n",
    "    hline_method=\"boxplot\",\n",
    "    readme=None,\n",
    ")"
   ]
  },
  {
   "cell_type": "code",
   "execution_count": null,
   "metadata": {},
   "outputs": [],
   "source": [
    "metrics = [\n",
    "    \"NumberEvents\",\n",
    "    \"FinalEvent\",\n",
    "    \"FinalTime\",\n",
    "    \"SignificantEvents\",\n",
    "    \"SignificantFirst\",\n",
    "    \"SignificantFirstTime\",\n",
    "    \"Pushes\",\n",
    "    \"Pulls\",\n",
    "    \"PullingRatio\",\n",
    "    \"InteractionProportion\",\n",
    "    \"AhaMoment\",\n",
    "    \"AhaMomentIndex\",\n",
    "    \"InsightEffect\",\n",
    "    \"TimeToFinish\",\n",
    "    \"SignificantRatio\",\n",
    "]\n",
    "\n",
    "# Loop over the metrics\n",
    "for metric in metrics:\n",
    "    # Generate the jitter boxplot for the current metric\n",
    "    HoloviewsTemplates.jitter_boxplot(\n",
    "        data.data,\n",
    "        metric,\n",
    "        show=True,\n",
    "        save=True,\n",
    "        metadata=data.metadata,\n",
    "        bs_controls=True,\n",
    "        sort_by=\"median\",\n",
    "        hline_method=\"boxplot\",\n",
    "        readme=None,\n",
    "    )"
   ]
  },
  {
   "cell_type": "code",
   "execution_count": null,
   "metadata": {},
   "outputs": [],
   "source": [
    "# Resave one of the metrics\n",
    "HoloviewsTemplates.jitter_boxplot(\n",
    "    data.data,\n",
    "    \"PullingRatio\",\n",
    "    show=False,\n",
    "    save=True,\n",
    "    metadata=data.metadata,\n",
    "    bs_controls=True,\n",
    "    sort_by=\"median\",\n",
    "    hline_method=\"boxplot\",\n",
    ")"
   ]
  },
  {
   "cell_type": "markdown",
   "metadata": {},
   "source": [
    "# PCA on the data\n",
    "\n",
    "Here I'll try to do PCA on the data to see if I can get something interesting by reducing the dimensionality of the data, including all the summary metrics."
   ]
  },
  {
   "cell_type": "code",
   "execution_count": null,
   "metadata": {},
   "outputs": [],
   "source": [
    "mydata = data.data"
   ]
  },
  {
   "cell_type": "code",
   "execution_count": null,
   "metadata": {},
   "outputs": [],
   "source": [
    "# Load the brain region table\n",
    "\n",
    "brain_regions_path = Utils.get_labserver() / \"Experimental_data/Region_map_240312.csv\"\n",
    "\n",
    "registry = pd.read_csv(brain_regions_path)\n",
    "\n",
    "registry"
   ]
  },
  {
   "cell_type": "code",
   "execution_count": null,
   "metadata": {},
   "outputs": [],
   "source": [
    "# Get the row 38 of the registry\n",
    "registry.iloc[38]"
   ]
  },
  {
   "cell_type": "code",
   "execution_count": null,
   "metadata": {},
   "outputs": [],
   "source": [
    "# Create a Simplified Nickname column in mydata using the registry table to match Nickname and Simplified Nickname\n",
    "mydata = data.data\n",
    "\n",
    "mydata = mydata.merge(registry, left_on=\"Genotype\", right_on=\"Genotype\", how=\"left\")\n",
    "\n",
    "mydata.head()"
   ]
  },
  {
   "cell_type": "code",
   "execution_count": null,
   "metadata": {},
   "outputs": [],
   "source": [
    "# Rename the \"Genotype_y\" column to \"Genotype\"\n",
    "mydata.rename(columns={\"Nickname_y\": \"Nickname\"}, inplace=True)"
   ]
  },
  {
   "cell_type": "code",
   "execution_count": null,
   "metadata": {},
   "outputs": [],
   "source": []
  },
  {
   "cell_type": "code",
   "execution_count": null,
   "metadata": {},
   "outputs": [],
   "source": [
    "# Subset the data to remove some of the genotypes. Let's start with the M6 and M7 and PR genotypes, remove these.\n",
    "\n",
    "subset = mydata[~mydata[\"Genotype\"].isin([\"M6\", \"M7\", \"PR\", \"TNTxG74\", \"TNTxG75\", \"TNTxZ1633\"])]"
   ]
  },
  {
   "cell_type": "code",
   "execution_count": null,
   "metadata": {},
   "outputs": [],
   "source": [
    "# Subset the data to only include the label and metrics of interest\n",
    "subset = subset[\n",
    "    [\n",
    "        \"NumberEvents\",\n",
    "        \"FinalEvent\",\n",
    "        \"FinalTime\",\n",
    "        \"SignificantEvents\",\n",
    "        \"SignificantFirst\",\n",
    "        \"SignificantFirstTime\",\n",
    "        \"PullingRatio\",\n",
    "        \"InteractionProportion\",\n",
    "        \"AhaMoment\",\n",
    "        \"AhaMomentIndex\",\n",
    "        \"InsightEffect\",\n",
    "        \"TimeToFinish\",\n",
    "        \"SignificantRatio\",\n",
    "        \"label\",\n",
    "        \"Brain region\",\n",
    "        \"fly\",\n",
    "        \"Genotype\",\n",
    "        \"Nickname\",\n",
    "        \"Simplified Nickname\",\n",
    "    ]\n",
    "]"
   ]
  },
  {
   "cell_type": "code",
   "execution_count": null,
   "metadata": {},
   "outputs": [],
   "source": [
    "from sklearn.decomposition import PCA\n",
    "from sklearn.preprocessing import StandardScaler\n",
    "import pandas as pd\n",
    "\n",
    "import matplotlib.pyplot as plt\n",
    "import seaborn as sns"
   ]
  },
  {
   "cell_type": "code",
   "execution_count": null,
   "metadata": {},
   "outputs": [],
   "source": [
    "# Separate out the features from the labels and brain region\n",
    "features = subset.drop(\n",
    "    [\"label\", \"Brain region\", \"fly\", \"Genotype\", \"Nickname\", \"Simplified Nickname\"],\n",
    "    axis=1,\n",
    ")\n",
    "\n",
    "# Normalize the features\n",
    "scaler = StandardScaler()\n",
    "\n",
    "# Remove NaNs\n",
    "nan_indices = features.dropna().index\n",
    "features = features.loc[nan_indices].reset_index(drop=True)\n",
    "\n",
    "features_normalized = scaler.fit_transform(features)\n",
    "\n",
    "# Perform PCA\n",
    "pca = PCA(n_components=2)  # Adjust n_components as needed\n",
    "principalComponents = pca.fit_transform(features_normalized)\n",
    "\n",
    "# Convert the principal components for each sample to a DataFrame\n",
    "PCA_components = pd.DataFrame(principalComponents, columns=[\"PC1\", \"PC2\"])\n",
    "\n",
    "# Add your labels and brain region to this DataFrame\n",
    "PCA_components[\"label\"] = subset.loc[nan_indices, \"label\"].values\n",
    "PCA_components[\"Brain region\"] = subset.loc[nan_indices, \"Brain region\"].values\n",
    "PCA_components[\"fly\"] = subset.loc[nan_indices, \"fly\"].values\n",
    "PCA_components[\"Genotype\"] = subset.loc[nan_indices, \"Genotype\"].values\n",
    "PCA_components[\"Nickname\"] = subset.loc[nan_indices, \"Nickname\"].values\n",
    "PCA_components[\"Simplified Nickname\"] = subset.loc[nan_indices, \"Simplified Nickname\"].values"
   ]
  },
  {
   "cell_type": "markdown",
   "metadata": {},
   "source": [
    "# PCA summaries"
   ]
  },
  {
   "cell_type": "code",
   "execution_count": null,
   "metadata": {},
   "outputs": [],
   "source": [
    "# Print the composition of the principal components\n",
    "PCs_compo = pd.DataFrame(pca.components_, columns=features.columns, index=[\"PC1\", \"PC2\"])\n",
    "\n",
    "# Print the explained variance ratio\n",
    "print(f\"Explained variance of PC1 and PC2 : {pca.explained_variance_ratio_}\")\n",
    "\n",
    "PCs_compo"
   ]
  },
  {
   "cell_type": "code",
   "execution_count": null,
   "metadata": {},
   "outputs": [],
   "source": [
    "# Save the composition of the principal components and the explained variance ratio\n",
    "PCs_compo.to_csv(savepath/\"PCs_composition.csv\")\n",
    "pd.DataFrame(pca.explained_variance_ratio_, index=[\"PC1\", \"PC2\"], columns=[\"Explained variance\"]).to_csv(savepath/\"PCA_Explained_variance.csv\")"
   ]
  },
  {
   "cell_type": "code",
   "execution_count": null,
   "metadata": {},
   "outputs": [],
   "source": []
  },
  {
   "cell_type": "code",
   "execution_count": null,
   "metadata": {},
   "outputs": [],
   "source": [
    "# get all data unique Genotype values\n",
    "\n",
    "unique_genotypes = subset[\"Genotype\"].unique()\n",
    "\n",
    "# Check if there is one called \"TNTxZ2018\"\n",
    "\n",
    "\"TNTxZ2018\" in unique_genotypes"
   ]
  },
  {
   "cell_type": "code",
   "execution_count": null,
   "metadata": {},
   "outputs": [],
   "source": [
    "# Find the label associated with Genotype \"TNTxZ2018\"\n",
    "TNTxZ2018_label = mydata[mydata[\"Genotype\"] == \"TNTxZ2018\"][\"label\"].values[0]\n",
    "\n",
    "TNTxZ2018_label"
   ]
  },
  {
   "cell_type": "code",
   "execution_count": null,
   "metadata": {},
   "outputs": [],
   "source": [
    "import holoviews as hv\n",
    "\n",
    "# Separate the \"TNTxZ2018\" data from the rest of the data\n",
    "TNTxZ2018_data = PCA_components[PCA_components[\"label\"] == TNTxZ2018_label]\n",
    "other_data = PCA_components[PCA_components[\"label\"] != TNTxZ2018_label]\n",
    "\n",
    "# Initialize an empty Layout\n",
    "plots = hv.Layout()\n",
    "\n",
    "# Generate one plot per Brain region\n",
    "for brain_region in PCA_components[\"Brain region\"].unique():\n",
    "    df_brain_region = other_data[other_data[\"Brain region\"] == brain_region]\n",
    "\n",
    "    # Create separate scatter plots for the \"TNTxZ2018\" genotype and the other genotypes\n",
    "    plot1 = df_brain_region.hvplot.scatter(\n",
    "        x=\"PC1\", y=\"PC2\", by=\"label\", hover_cols=[\"fly\"], cmap=\"nipy_spectral\"\n",
    "    )\n",
    "    plot2 = TNTxZ2018_data.hvplot.scatter(\n",
    "        x=\"PC1\",\n",
    "        y=\"PC2\",\n",
    "        by=\"label\",\n",
    "        hover_cols=[\"fly\"],\n",
    "        color=\"black\",\n",
    "        marker=\"x\",\n",
    "        size=100,\n",
    "    )\n",
    "\n",
    "    # Combine the plots\n",
    "    final_plot = (plot1 * plot2).opts(width=1000, height = 750)\n",
    "\n",
    "    # Add the plot to the Layout\n",
    "    plots += final_plot.relabel(f\"PCA - Brain Region: {brain_region}\")\n",
    "\n",
    "# Save the Layout\n",
    "hvplot.save(plots.cols(1), savepath/\"240306_PCA_plots.html\")\n",
    "# Display the Layout\n",
    "#hvplot.show(plots.cols(1))"
   ]
  },
  {
   "cell_type": "markdown",
   "metadata": {},
   "source": [
    "# Plotting the PCs separately"
   ]
  },
  {
   "cell_type": "code",
   "execution_count": null,
   "metadata": {},
   "outputs": [],
   "source": [
    "PCA_components"
   ]
  },
  {
   "cell_type": "code",
   "execution_count": null,
   "metadata": {},
   "outputs": [],
   "source": [
    "importlib.reload(HoloviewsTemplates)"
   ]
  },
  {
   "cell_type": "code",
   "execution_count": null,
   "metadata": {},
   "outputs": [],
   "source": [
    "# Plot PC1 and PC2 as jitterboxplots\n",
    "HoloviewsTemplates.jitter_boxplot(\n",
    "    PCA_components,\n",
    "    \"PC1\",\n",
    "    show=True,\n",
    "    save=True,\n",
    "    metadata=[],\n",
    "    bs_controls=True,\n",
    "    sort_by=\"median\",\n",
    "    hline_method=\"boxplot\",\n",
    "    readme=None,\n",
    ")"
   ]
  },
  {
   "cell_type": "code",
   "execution_count": null,
   "metadata": {},
   "outputs": [],
   "source": [
    "# Same with PC2\n",
    "HoloviewsTemplates.jitter_boxplot(\n",
    "    PCA_components,\n",
    "    \"PC2\",\n",
    "    show=True,\n",
    "    save=True,\n",
    "    metadata=[],\n",
    "    bs_controls=True,\n",
    "    sort_by=\"median\",\n",
    "    hline_method=\"boxplot\",\n",
    "    readme=None,\n",
    ")"
   ]
  },
  {
   "cell_type": "code",
   "execution_count": null,
   "metadata": {},
   "outputs": [],
   "source": [
    "# TODO : Find flies with particular pulling"
   ]
  },
  {
   "cell_type": "markdown",
   "metadata": {},
   "source": [
    "# Full plot from data"
   ]
  },
  {
   "cell_type": "code",
   "execution_count": null,
   "metadata": {},
   "outputs": [],
   "source": [
    "pooled = PCA_components\n",
    "\n",
    "pooled.head()"
   ]
  },
  {
   "cell_type": "code",
   "execution_count": null,
   "metadata": {},
   "outputs": [],
   "source": [
    "# Find the \"Simplified Nickname\" that have the word \"MBON\" two times in the same string\n",
    "MBONs = pooled[pooled[\"Simplified Nickname\"].str.contains(\"MBON\")][\"Simplified Nickname\"].unique()\n",
    "\n",
    "MBONs[10]\n"
   ]
  },
  {
   "cell_type": "code",
   "execution_count": null,
   "metadata": {},
   "outputs": [],
   "source": [
    "from bokeh.models import FuncTickFormatter\n",
    "\n",
    "# Define the long labels\n",
    "long_labels = [\"MBON-16-GaL4   MBON-17-Gal4 \", \"MBON-08-GaL4  MBON-09-GaL4 \"]\n",
    "\n",
    "# Replace the second space in each label with a newline character\n",
    "new_labels = [label.replace(\" \", \" \\n\", 1) for label in long_labels]\n",
    "\n",
    "# In pooled, replace the long labels with the new labels\n",
    "pooled[\"Simplified Nickname\"].replace(long_labels, new_labels, inplace=True)"
   ]
  },
  {
   "cell_type": "code",
   "execution_count": null,
   "metadata": {},
   "outputs": [],
   "source": [
    "# Reverse the value to the old long labels\n",
    "pooled[\"Simplified Nickname\"].replace(new_labels, long_labels, inplace=True)"
   ]
  },
  {
   "cell_type": "code",
   "execution_count": null,
   "metadata": {},
   "outputs": [],
   "source": [
    "# Check if the new labels are in the \"Simplified Nickname\" column\n",
    "pooled[pooled[\"Simplified Nickname\"].isin(new_labels)]"
   ]
  },
  {
   "cell_type": "markdown",
   "metadata": {},
   "source": [
    "# Sorting data by brain region and Nickname"
   ]
  },
  {
   "cell_type": "code",
   "execution_count": null,
   "metadata": {},
   "outputs": [],
   "source": [
    "# Calculate the median for each 'Brain region' and 'Nickname'\n",
    "median_values = pooled.groupby([\"Brain region\", \"Simplified Nickname\"])[\"PC2\"].median()\n",
    "\n",
    "# Sort 'Brain region' by its median\n",
    "region_order = median_values.groupby(\"Brain region\").median().sort_values().index\n",
    "\n",
    "# Within each 'Brain region', sort 'Nickname' by its median\n",
    "nickname_order_within_region = median_values.groupby(\"Brain region\").apply(\n",
    "    lambda x: x.sort_values().index.get_level_values(\"Simplified Nickname\")\n",
    ")\n",
    "\n",
    "# Create a new category type for 'Brain region' with the calculated order\n",
    "pooled[\"Brain region\"] = pd.Categorical(\n",
    "    pooled[\"Brain region\"], categories=region_order, ordered=True\n",
    ")\n",
    "\n",
    "# Create a list to hold the correct order of 'Nickname' across all 'Brain regions'\n",
    "correct_order_global = []\n",
    "\n",
    "# For each 'Brain region', add the 'Nickname' order to the global list\n",
    "for region in region_order:\n",
    "    correct_order_global.extend(nickname_order_within_region[region])\n",
    "\n",
    "# Convert 'Nickname' to a categorical type with the global order\n",
    "pooled[\"Simplified Nickname\"] = pd.Categorical(\n",
    "    pooled[\"Simplified Nickname\"], categories=correct_order_global, ordered=True\n",
    ")\n",
    "\n",
    "# Now you can sort\n",
    "pooled.sort_values(by=[\"Brain region\", \"Simplified Nickname\"], inplace=True)"
   ]
  },
  {
   "cell_type": "markdown",
   "metadata": {},
   "source": [
    "# Compute and represent the control area"
   ]
  },
  {
   "cell_type": "code",
   "execution_count": null,
   "metadata": {},
   "outputs": [],
   "source": [
    "# Calculate 25% and 75% quantiles for the control group\n",
    "control_data = pooled[pooled[\"Genotype\"] == \"TNTxZ2018\"]\n",
    "hline_values = (\n",
    "    control_data[\"PC2\"].quantile(0.25),\n",
    "    control_data[\"PC2\"].quantile(0.75),\n",
    ")"
   ]
  },
  {
   "cell_type": "code",
   "execution_count": null,
   "metadata": {},
   "outputs": [],
   "source": [
    "# Get the limits for the y axis\n",
    "y_min = pooled[\"PC2\"].min()\n",
    "# For y_max, use the 95th percentile of the data\n",
    "y_max = pooled[\"PC2\"].max()"
   ]
  },
  {
   "cell_type": "code",
   "execution_count": null,
   "metadata": {},
   "outputs": [],
   "source": [
    "from bokeh.models import HoverTool\n",
    "\n",
    "# Get the metadata for the tooltips\n",
    "tooltips = [\n",
    "    (\"Fly\", \"@fly\"),\n",
    "    (\"PC2\".capitalize(), \"@PC2\"),\n",
    "]\n",
    "\n",
    "\n",
    "hover = HoverTool(tooltips=tooltips)"
   ]
  },
  {
   "cell_type": "markdown",
   "metadata": {},
   "source": [
    "# Create the boxplot"
   ]
  },
  {
   "cell_type": "code",
   "execution_count": null,
   "metadata": {},
   "outputs": [],
   "source": [
    "hv.extension(\"bokeh\")\n",
    "pooled_opts = {\n",
    "    \"boxwhisker\": {\n",
    "        #\"box_fill_color\": None,\n",
    "        # \"box_line_color\": \"black\",\n",
    "        \"outlier_fill_color\": None,\n",
    "        \"outlier_line_color\": None,\n",
    "        \"framewise\": True,\n",
    "    },\n",
    "    \"scatter\": {\n",
    "        \"jitter\": 0.15,\n",
    "        \"color\": \"black\",\n",
    "        \"alpha\": 0.8,\n",
    "        \"size\": 2,\n",
    "        #\"cmap\": \"Category10\",\n",
    "        \"framewise\": True,\n",
    "    },\n",
    "    \"plot\": {\n",
    "        \"width\": 1100,\n",
    "        \"height\": 1423,\n",
    "        \"show_legend\": False,\n",
    "        \"xlabel\": \"\",\n",
    "        \"invert_axes\": True,\n",
    "        \"show_grid\": True,\n",
    "        \"fontscale\": 1,\n",
    "        \"title\": \"\",\n",
    "    },\n",
    "}"
   ]
  },
  {
   "cell_type": "code",
   "execution_count": null,
   "metadata": {},
   "outputs": [],
   "source": [
    "# Aspect ratio computation\n",
    "\n",
    "# For 1100 width I have 1423 height. What about if I have 1500 width?\n",
    "# 1500 * 1423 / 1100 = 1935\n",
    "\n",
    "# For 1800 width?\n",
    "# 1800 * 1423 / 1100 = 2323"
   ]
  },
  {
   "cell_type": "code",
   "execution_count": null,
   "metadata": {},
   "outputs": [],
   "source": [
    "from bokeh.themes import Theme\n",
    "\n",
    "# Create a custom theme\n",
    "theme = Theme(\n",
    "    json={\n",
    "        \"attrs\": {\n",
    "            \"Title\": {\"text_font\": \"Arial\"},\n",
    "            \"AxisLabel\": {\"text_font\": \"Arial\"},\n",
    "            \"Legend\": {\"text_font\": \"Arial\"},\n",
    "            \"TickLabel\": {\"text_font\": \"Arial\"},\n",
    "        }\n",
    "    }\n",
    ")\n",
    "\n",
    "# Apply the theme\n",
    "hv.renderer(\"bokeh\").theme = theme"
   ]
  },
  {
   "cell_type": "code",
   "execution_count": null,
   "metadata": {},
   "outputs": [],
   "source": [
    "brain_regions = pooled[\"Brain region\"].unique()\n",
    "\n",
    "plot_options = pooled_opts\n"
   ]
  },
  {
   "cell_type": "code",
   "execution_count": null,
   "metadata": {},
   "outputs": [],
   "source": [
    "boxplot = hv.Overlay(\n",
    "    [\n",
    "        hv.BoxWhisker(\n",
    "            pooled[pooled[\"Brain region\"] == region],\n",
    "            kdims=\"Simplified Nickname\",\n",
    "            vdims=\"PC2\",\n",
    "        ).opts(**plot_options[\"boxwhisker\"], box_color=color)\n",
    "        for region, color in zip(brain_regions, hv.Cycle(\"Category10\"))\n",
    "    ]\n",
    ")\n",
    "\n",
    "# Display the overlaid boxplots\n",
    "# boxplot.opts(show_legend=False)"
   ]
  },
  {
   "cell_type": "code",
   "execution_count": null,
   "metadata": {},
   "outputs": [],
   "source": [
    "#boxplot"
   ]
  },
  {
   "cell_type": "markdown",
   "metadata": {},
   "source": [
    "# Create the scatterplot"
   ]
  },
  {
   "cell_type": "code",
   "execution_count": null,
   "metadata": {},
   "outputs": [],
   "source": [
    "scatterplot = hv.Scatter(\n",
    "    data=pooled,\n",
    "    vdims=[\"PC2\"]\n",
    "    + [\"fly\"]\n",
    "    + [\"Brain region\"]\n",
    "    + [\"Simplified Nickname\"]\n",
    "    + [\"Genotype\"]\n",
    "    + [\"label\"]\n",
    "    + [\"PC2\"],\n",
    "    kdims=[\"Simplified Nickname\"],\n",
    ").opts(**plot_options[\"scatter\"], tools=[hover], ylim=(y_min, y_max))"
   ]
  },
  {
   "cell_type": "markdown",
   "metadata": {},
   "source": [
    "# Create the control area"
   ]
  },
  {
   "cell_type": "code",
   "execution_count": null,
   "metadata": {},
   "outputs": [],
   "source": [
    "hv_hline = hv.HSpan(hline_values[0], hline_values[1]).opts(fill_alpha=0.2, color=\"red\")"
   ]
  },
  {
   "cell_type": "markdown",
   "metadata": {},
   "source": [
    "# Combine the plots"
   ]
  },
  {
   "cell_type": "code",
   "execution_count": null,
   "metadata": {},
   "outputs": [],
   "source": [
    "# Get unique values of simplified labels\n",
    "unique_labels = pooled[\"Simplified Nickname\"].unique()\n",
    "unique_labels\n",
    "\n",
    "# Find the \"Simplified Nickname\" that is nan and find the associated \"Nickname\"\n",
    "nan_simplified_nickname = pooled[pooled[\"Simplified Nickname\"].isna()][\"Nickname\"].unique()\n",
    "\n",
    "nan_simplified_nickname"
   ]
  },
  {
   "cell_type": "code",
   "execution_count": null,
   "metadata": {},
   "outputs": [],
   "source": []
  },
  {
   "cell_type": "code",
   "execution_count": null,
   "metadata": {},
   "outputs": [],
   "source": [
    "jitterboxplot = (\n",
    "    (hv_hline * boxplot * scatterplot)\n",
    "    .opts(ylabel=\"PC2\", **plot_options[\"plot\"])\n",
    "    .opts(show_grid=False, fontsize={\"yticks\": 10})\n",
    ")"
   ]
  },
  {
   "cell_type": "code",
   "execution_count": null,
   "metadata": {},
   "outputs": [],
   "source": [
    "jitterboxplot"
   ]
  },
  {
   "cell_type": "code",
   "execution_count": null,
   "metadata": {},
   "outputs": [],
   "source": [
    "# Save the plot\n",
    "hv.save(jitterboxplot, savepath/\"240315_PCA2_jitterboxplot.html\")"
   ]
  },
  {
   "cell_type": "code",
   "execution_count": null,
   "metadata": {},
   "outputs": [],
   "source": [
    "hv.extension(\"bokeh\")\n",
    "\n",
    "from bokeh.io import export_svgs\n",
    "\n",
    "# Create a custom theme\n",
    "theme = Theme(\n",
    "    json={\n",
    "        \"attrs\": {\n",
    "            \"Title\": {\"text_font\": \"Arial\"},\n",
    "            \"AxisLabel\": {\"text_font\": \"Arial\"},\n",
    "            \"Legend\": {\"text_font\": \"Arial\"},\n",
    "            \"TickLabel\": {\"text_font\": \"Arial\"},\n",
    "        }\n",
    "    }\n",
    ")\n",
    "\n",
    "# Apply the theme\n",
    "hv.renderer(\"bokeh\").theme = theme\n",
    "\n",
    "\n",
    "def export_svg(obj, filename):\n",
    "    plot_state = hv.renderer(\"bokeh\").get_plot(obj).state\n",
    "    plot_state.output_backend = \"svg\"\n",
    "    export_svgs(plot_state, filename=filename)\n",
    "\n",
    "\n",
    "export_svg(jitterboxplot, savepath / \"240306_PCA_jitterboxplot.svg\")"
   ]
  },
  {
   "cell_type": "code",
   "execution_count": null,
   "metadata": {},
   "outputs": [],
   "source": [
    "dpi = 96  # adjust this to match your intended DPI\n",
    "width_in = 1100 / dpi\n",
    "height_in = 1423 / dpi"
   ]
  },
  {
   "cell_type": "code",
   "execution_count": null,
   "metadata": {},
   "outputs": [],
   "source": [
    "# Redo the same plotting with matplotlib backend\n",
    "\n",
    "pooled_opts_matplotlib = {\n",
    "    \"boxwhisker\": {\n",
    "        \"showfliers\": False,  # equivalent to setting outlier fill and line color to None\n",
    "        \"notch\": False,  # equivalent to framewise\n",
    "        # \"patch_artist\":True,\n",
    "    },\n",
    "    \"scatter\": {\n",
    "        # \"jitter\": 0.15,\n",
    "        \"color\": \"black\",\n",
    "        \"alpha\": 0.8,\n",
    "        \"s\": 4,  # equivalent to size\n",
    "    },\n",
    "    \"plot\": {\n",
    "        \"fig_size\": 2000,  # equivalent to width and height (note: this is in inches)\n",
    "        \"show_legend\": False,\n",
    "        \"xlabel\": \"\",\n",
    "        \"invert_axes\": True,\n",
    "        \"show_grid\": True,\n",
    "        \"fontsize\": {\n",
    "            \"title\": 16,\n",
    "            \"labels\": 14,\n",
    "            \"xticks\": 12,\n",
    "            \"yticks\": 12,\n",
    "        },  # equivalent to fontscale\n",
    "        \"title\": \"\",\n",
    "    },\n",
    "}"
   ]
  },
  {
   "cell_type": "code",
   "execution_count": null,
   "metadata": {},
   "outputs": [],
   "source": [
    "# Remake the jitterboxplot with the matplotlib backend\n",
    "\n",
    "hv.extension(\"matplotlib\")"
   ]
  },
  {
   "cell_type": "code",
   "execution_count": null,
   "metadata": {},
   "outputs": [],
   "source": []
  },
  {
   "cell_type": "code",
   "execution_count": null,
   "metadata": {},
   "outputs": [],
   "source": [
    "from cycler import cycler\n",
    "import matplotlib.pyplot as plt\n",
    "\n",
    "# Create a color cycle\n",
    "color_cycler = cycler(color=plt.cm.tab10.colors)\n",
    "\n",
    "# Convert the color cycle to a list of colors\n",
    "color_list = [c[\"color\"] for c in color_cycler]\n",
    "\n",
    "# Now you can use color_list in your plot\n",
    "boxplot = hv.Overlay(\n",
    "    [\n",
    "        hv.BoxWhisker(\n",
    "            pooled[pooled[\"Brain region\"] == region], kdims=\"Nickname\", vdims=\"PC1\"\n",
    "        ).opts(**pooled_opts_matplotlib[\"boxwhisker\"], boxprops=dict(color=\"black\", facecolor = color))\n",
    "        for region, color in zip(brain_regions, color_list)\n",
    "    ]\n",
    ")"
   ]
  },
  {
   "cell_type": "code",
   "execution_count": null,
   "metadata": {},
   "outputs": [],
   "source": [
    "boxplot = hv.BoxWhisker(pooled, kdims=\"Nickname\", vdims=\"PC1\", by=\"Brain region\").opts(\n",
    "    **pooled_opts_matplotlib[\"boxwhisker\"], cmap=\"category10\")"
   ]
  },
  {
   "cell_type": "code",
   "execution_count": null,
   "metadata": {},
   "outputs": [],
   "source": [
    "boxplot"
   ]
  },
  {
   "cell_type": "markdown",
   "metadata": {},
   "source": [
    "# Create the scatterplot"
   ]
  },
  {
   "cell_type": "code",
   "execution_count": null,
   "metadata": {},
   "outputs": [],
   "source": [
    "scatterplot = hv.Scatter(\n",
    "    data=pooled,\n",
    "    vdims=[\"PC1\"],\n",
    "    kdims=[\"Nickname\"],\n",
    ").opts(**pooled_opts_matplotlib[\"scatter\"], ylim=(y_min, y_max))"
   ]
  },
  {
   "cell_type": "code",
   "execution_count": null,
   "metadata": {},
   "outputs": [],
   "source": [
    "#scatterplot"
   ]
  },
  {
   "cell_type": "markdown",
   "metadata": {},
   "source": [
    "# Create the control area"
   ]
  },
  {
   "cell_type": "code",
   "execution_count": null,
   "metadata": {},
   "outputs": [],
   "source": [
    "hv_hline = hv.HSpan(hline_values[0], hline_values[1]).opts(alpha=0.2, color=\"red\")"
   ]
  },
  {
   "cell_type": "markdown",
   "metadata": {},
   "source": [
    "# Combine the plots"
   ]
  },
  {
   "cell_type": "code",
   "execution_count": null,
   "metadata": {},
   "outputs": [],
   "source": [
    "jitterboxplot = (hv_hline * boxplot * scatterplot).opts(\n",
    "    ylabel=\"PC1\", **pooled_opts_matplotlib[\"plot\"]\n",
    ")"
   ]
  },
  {
   "cell_type": "code",
   "execution_count": null,
   "metadata": {},
   "outputs": [],
   "source": [
    "jitterboxplot"
   ]
  },
  {
   "cell_type": "code",
   "execution_count": null,
   "metadata": {},
   "outputs": [],
   "source": [
    "# Save the plot as a matplotlib png\n",
    "hv.save(jitterboxplot, savepath/\"240306_PCA_jitterboxplot_matplotlib.png\", fmt=\"png\")"
   ]
  },
  {
   "cell_type": "code",
   "execution_count": null,
   "metadata": {},
   "outputs": [],
   "source": []
  }
 ],
 "metadata": {
  "kernelspec": {
   "display_name": "Main",
   "language": "python",
   "name": "python3"
  },
  "language_info": {
   "codemirror_mode": {
    "name": "ipython",
    "version": 3
   },
   "file_extension": ".py",
   "mimetype": "text/x-python",
   "name": "python",
   "nbconvert_exporter": "python",
   "pygments_lexer": "ipython3",
   "version": "3.10.13"
  }
 },
 "nbformat": 4,
 "nbformat_minor": 2
}
