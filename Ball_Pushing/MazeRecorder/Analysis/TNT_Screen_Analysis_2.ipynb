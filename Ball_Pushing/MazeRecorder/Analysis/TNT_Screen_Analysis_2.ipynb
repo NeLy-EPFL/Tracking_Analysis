{
 "cells": [
  {
   "cell_type": "code",
   "execution_count": null,
   "metadata": {},
   "outputs": [],
   "source": [
    "import sys\n",
    "import os\n",
    "from icecream import ic\n",
    "\n",
    "from pathlib import Path\n",
    "\n",
    "sys.path.insert(0, \"..\")\n",
    "sys.path.insert(0, \"../../../Utilities\")\n",
    "\n",
    "sys.path.insert(0, \"../../..\")\n",
    "\n",
    "import Ballpushing_utils\n",
    "import Utils\n",
    "import Processing\n",
    "import HoloviewsTemplates\n",
    "\n",
    "import importlib\n",
    "\n",
    "import holoviews as hv\n",
    "\n",
    "hv.extension(\"bokeh\")"
   ]
  },
  {
   "cell_type": "markdown",
   "metadata": {},
   "source": [
    "# Get the list of experiments"
   ]
  },
  {
   "cell_type": "code",
   "execution_count": null,
   "metadata": {},
   "outputs": [],
   "source": [
    "# Get the data path\n",
    "Datapath = Utils.get_data_path()\n",
    "\n",
    "# Get all folders with \"TNT_Fine\" in the name\n",
    "\n",
    "Folders = [\n",
    "    f for f in os.listdir(Datapath) if \"TNT_Fine\" in f and \"Tracked\" in f and os.path.isdir(Datapath / f)\n",
    "]\n",
    "\n",
    "Folders"
   ]
  },
  {
   "cell_type": "code",
   "execution_count": null,
   "metadata": {},
   "outputs": [],
   "source": [
    "importlib.reload(Ballpushing_utils)"
   ]
  },
  {
   "cell_type": "code",
   "execution_count": null,
   "metadata": {},
   "outputs": [],
   "source": [
    "# Generate Experiment objects from each folder\n",
    "\n",
    "Experiments = [Ballpushing_utils.Experiment(Datapath / f) for f in Folders]"
   ]
  },
  {
   "cell_type": "code",
   "execution_count": null,
   "metadata": {},
   "outputs": [],
   "source": [
    "# Check some flies nicknames\n",
    "\n",
    "TestFly = Experiments[15].flies[3].nickname"
   ]
  },
  {
   "cell_type": "code",
   "execution_count": null,
   "metadata": {},
   "outputs": [],
   "source": [
    "TestFly"
   ]
  },
  {
   "cell_type": "code",
   "execution_count": null,
   "metadata": {},
   "outputs": [],
   "source": [
    "savepath = Utils.get_labserver() / \"Experimental_data/MultiMazeRecorder/Datasets/240306_TNT_Fine_Experiments.pkl\"\n"
   ]
  },
  {
   "cell_type": "code",
   "execution_count": null,
   "metadata": {},
   "outputs": [],
   "source": [
    "Ballpushing_utils.save_object(Experiments, savepath.as_posix())"
   ]
  },
  {
   "cell_type": "code",
   "execution_count": null,
   "metadata": {},
   "outputs": [],
   "source": [
    "# Load the experiments from the saved file\n",
    "Experiments = Ballpushing_utils.load_object(savepath.as_posix())"
   ]
  },
  {
   "cell_type": "code",
   "execution_count": null,
   "metadata": {},
   "outputs": [],
   "source": [
    "type(Experiments)"
   ]
  },
  {
   "cell_type": "code",
   "execution_count": null,
   "metadata": {},
   "outputs": [],
   "source": [
    "type(Experiments[0])"
   ]
  },
  {
   "cell_type": "code",
   "execution_count": null,
   "metadata": {},
   "outputs": [],
   "source": [
    "importlib.reload(Ballpushing_utils)"
   ]
  },
  {
   "cell_type": "code",
   "execution_count": null,
   "metadata": {},
   "outputs": [],
   "source": [
    "data = Ballpushing_utils.Dataset(Experiments)"
   ]
  },
  {
   "cell_type": "code",
   "execution_count": null,
   "metadata": {},
   "outputs": [],
   "source": [
    "print(data)"
   ]
  },
  {
   "cell_type": "code",
   "execution_count": null,
   "metadata": {},
   "outputs": [],
   "source": [
    "# For each fly in the dataset, if they have 2 nicknames, just keep the first one\n",
    "# for fly in data.flies:\n",
    "#     if len(fly.nickname) > 1:\n",
    "#         fly.nickname = fly.nickname[0]"
   ]
  },
  {
   "cell_type": "markdown",
   "metadata": {},
   "source": [
    "I used the above method as a hack to get rid of a supplementary nickname in PR flies. It is fixed directly in the brain region registry now and doesn't need to be used anymore."
   ]
  },
  {
   "cell_type": "code",
   "execution_count": null,
   "metadata": {},
   "outputs": [],
   "source": [
    "data.generate_dataset(\"summary\")"
   ]
  },
  {
   "cell_type": "code",
   "execution_count": null,
   "metadata": {},
   "outputs": [],
   "source": [
    "mydata = data.data"
   ]
  },
  {
   "cell_type": "markdown",
   "metadata": {},
   "source": [
    "# Plotting methods"
   ]
  },
  {
   "cell_type": "code",
   "execution_count": null,
   "metadata": {},
   "outputs": [],
   "source": [
    "savepath = Utils.get_labserver() / \"Experimental_data/MultiMazeRecorder/Plots/240306_summaries\""
   ]
  },
  {
   "cell_type": "code",
   "execution_count": null,
   "metadata": {},
   "outputs": [],
   "source": [
    "importlib.reload(HoloviewsTemplates)"
   ]
  },
  {
   "cell_type": "code",
   "execution_count": null,
   "metadata": {},
   "outputs": [],
   "source": [
    "HoloviewsTemplates.jitter_boxplot(data.data, \"InsightEffect\", show=True, save=False, metadata=data.metadata, bs_controls=True, sort_by=\"median\", hline_method=\"boxplot\", readme=None)"
   ]
  },
  {
   "cell_type": "code",
   "execution_count": null,
   "metadata": {},
   "outputs": [],
   "source": [
    "metrics = [\n",
    "    \"NumberEvents\",\n",
    "    \"FinalEvent\",\n",
    "    \"FinalTime\",\n",
    "    \"SignificantEvents\",\n",
    "    \"SignificantFirst\",\n",
    "    \"SignificantFirstTime\",\n",
    "    \"Pushes\",\n",
    "    \"Pulls\",\n",
    "    \"PushPullRatio\",\n",
    "    \"InteractionProportion\",\n",
    "    \"AhaMoment\",\n",
    "    \"AhaMomentIndex\",\n",
    "    \"InsightEffect\",\n",
    "    \"TimeToFinish\",\n",
    "    \"SignificantRatio\",\n",
    "]\n",
    "\n",
    "# Loop over the metrics\n",
    "for metric in metrics:\n",
    "    # Generate the jitter boxplot for the current metric\n",
    "    HoloviewsTemplates.jitter_boxplot(\n",
    "        data.data,\n",
    "        vdim=metric,\n",
    "        show=False,\n",
    "        save=True,\n",
    "        metadata=data.metadata,\n",
    "        bs_controls=True,\n",
    "        sort_by=\"median\",\n",
    "        hline_method=\"boxplot\",\n",
    "    )"
   ]
  },
  {
   "cell_type": "markdown",
   "metadata": {},
   "source": [
    "# PCA on the data\n",
    "\n",
    "Here I'll try to do PCA on the data to see if I can get something interesting by reducing the dimensionality of the data, including all the summary metrics."
   ]
  },
  {
   "cell_type": "code",
   "execution_count": null,
   "metadata": {},
   "outputs": [],
   "source": [
    "data.data"
   ]
  },
  {
   "cell_type": "code",
   "execution_count": null,
   "metadata": {},
   "outputs": [],
   "source": [
    "# Subset the data to remove some of the genotypes. Let's start with the M6 and M7 and PR genotypes, remove these.\n",
    "\n",
    "subset = data.data[\n",
    "    ~data.data[\"Genotype\"].isin([\"M6\", \"M7\", \"PR\"])\n",
    "]"
   ]
  },
  {
   "cell_type": "code",
   "execution_count": null,
   "metadata": {},
   "outputs": [],
   "source": [
    "# Subset the data to only include the label and metrics of interest\n",
    "subset = subset[\n",
    "    [\n",
    "        \"NumberEvents\",\n",
    "        \"FinalEvent\",\n",
    "        \"FinalTime\",\n",
    "        \"SignificantEvents\",\n",
    "        \"SignificantFirst\",\n",
    "        \"SignificantFirstTime\",\n",
    "        \"PushPullRatio\",\n",
    "        \"InteractionProportion\",\n",
    "        \"AhaMoment\",\n",
    "        \"AhaMomentIndex\",\n",
    "        \"InsightEffect\",\n",
    "        \"TimeToFinish\",\n",
    "        \"SignificantRatio\",\n",
    "        \"label\",\n",
    "        \"Brain region\",\n",
    "        \"fly\",\n",
    "        \"Genotype\",\n",
    "    ]\n",
    "]"
   ]
  },
  {
   "cell_type": "code",
   "execution_count": null,
   "metadata": {},
   "outputs": [],
   "source": [
    "from sklearn.decomposition import PCA\n",
    "from sklearn.preprocessing import StandardScaler\n",
    "import pandas as pd\n",
    "\n",
    "import matplotlib.pyplot as plt\n",
    "import seaborn as sns"
   ]
  },
  {
   "cell_type": "code",
   "execution_count": null,
   "metadata": {},
   "outputs": [],
   "source": [
    "# Separate out the features from the labels and brain region\n",
    "features = subset.drop([\"label\", \"Brain region\", \"fly\", \"Genotype\"], axis=1)\n",
    "\n",
    "# Normalize the features\n",
    "scaler = StandardScaler()\n",
    "\n",
    "# Remove NaNs\n",
    "nan_indices = features.dropna().index\n",
    "features = features.loc[nan_indices].reset_index(drop=True)\n",
    "\n",
    "features_normalized = scaler.fit_transform(features)\n",
    "\n",
    "# Perform PCA\n",
    "pca = PCA(n_components=2)  # Adjust n_components as needed\n",
    "principalComponents = pca.fit_transform(features_normalized)\n",
    "\n",
    "# Convert the principal components for each sample to a DataFrame\n",
    "PCA_components = pd.DataFrame(principalComponents, columns=[\"PC1\", \"PC2\"])\n",
    "\n",
    "# Add your labels and brain region to this DataFrame\n",
    "PCA_components[\"label\"] = subset.loc[nan_indices, \"label\"].values\n",
    "PCA_components[\"Brain region\"] = subset.loc[nan_indices, \"Brain region\"].values\n",
    "PCA_components[\"fly\"] = subset.loc[nan_indices, \"fly\"].values\n",
    "PCA_components[\"Genotype\"] = subset.loc[nan_indices, \"Genotype\"].values"
   ]
  },
  {
   "cell_type": "markdown",
   "metadata": {},
   "source": [
    "# PCA summaries"
   ]
  },
  {
   "cell_type": "code",
   "execution_count": null,
   "metadata": {},
   "outputs": [],
   "source": [
    "# Print the composition of the principal components\n",
    "PCs_compo = pd.DataFrame(pca.components_, columns=features.columns, index=[\"PC1\", \"PC2\"])\n",
    "\n",
    "# Print the explained variance ratio\n",
    "print(f\"Explained variance of PC1 and PC2 : {pca.explained_variance_ratio_}\")\n",
    "\n",
    "PCs_compo"
   ]
  },
  {
   "cell_type": "code",
   "execution_count": null,
   "metadata": {},
   "outputs": [],
   "source": [
    "# Save the composition of the principal components and the explained variance ratio\n",
    "PCs_compo.to_csv(savepath/\"PCs_composition.csv\")\n",
    "pd.DataFrame(pca.explained_variance_ratio_, index=[\"PC1\", \"PC2\"], columns=[\"Explained variance\"]).to_csv(savepath/\"PCA_Explained_variance.csv\")"
   ]
  },
  {
   "cell_type": "code",
   "execution_count": null,
   "metadata": {},
   "outputs": [],
   "source": []
  },
  {
   "cell_type": "code",
   "execution_count": null,
   "metadata": {},
   "outputs": [],
   "source": [
    "# get all data unique Genotype values\n",
    "\n",
    "unique_genotypes = subset[\"Genotype\"].unique()\n",
    "\n",
    "# Check if there is one called \"TNTxZ2018\"\n",
    "\n",
    "\"TNTxZ2018\" in unique_genotypes"
   ]
  },
  {
   "cell_type": "code",
   "execution_count": null,
   "metadata": {},
   "outputs": [],
   "source": [
    "num_rows = len(PCA_components[subset[\"Genotype\"] == \"TNTxZ2018\"])\n",
    "print(num_rows)"
   ]
  },
  {
   "cell_type": "code",
   "execution_count": null,
   "metadata": {},
   "outputs": [],
   "source": [
    "# Find the label associated with Genotype \"TNTxZ2018\"\n",
    "TNTxZ2018_label = mydata[mydata[\"Genotype\"] == \"TNTxZ2018\"][\"label\"].values[0]\n",
    "\n",
    "TNTxZ2018_label"
   ]
  },
  {
   "cell_type": "code",
   "execution_count": null,
   "metadata": {},
   "outputs": [],
   "source": [
    "import hvplot.pandas\n",
    "import holoviews as hv\n",
    "\n",
    "# Separate the \"TNTxZ2018\" data from the rest of the data\n",
    "TNTxZ2018_data = PCA_components[PCA_components[\"label\"] == TNTxZ2018_label]\n",
    "other_data = PCA_components[PCA_components[\"label\"] != TNTxZ2018_label]\n",
    "\n",
    "# Initialize an empty Layout\n",
    "plots = hv.Layout()\n",
    "\n",
    "# Generate one plot per Brain region\n",
    "for brain_region in PCA_components[\"Brain region\"].unique():\n",
    "    df_brain_region = other_data[other_data[\"Brain region\"] == brain_region]\n",
    "\n",
    "    # Create separate scatter plots for the \"TNTxZ2018\" genotype and the other genotypes\n",
    "    plot1 = df_brain_region.hvplot.scatter(\n",
    "        x=\"PC1\", y=\"PC2\", by=\"label\", hover_cols=[\"fly\"], cmap=\"nipy_spectral\"\n",
    "    )\n",
    "    plot2 = TNTxZ2018_data.hvplot.scatter(\n",
    "        x=\"PC1\",\n",
    "        y=\"PC2\",\n",
    "        by=\"label\",\n",
    "        hover_cols=[\"fly\"],\n",
    "        color=\"black\",\n",
    "        marker=\"x\",\n",
    "        size=100,\n",
    "    )\n",
    "\n",
    "    # Combine the plots\n",
    "    final_plot = (plot1 * plot2).opts(width=1000, height = 750)\n",
    "\n",
    "    # Add the plot to the Layout\n",
    "    plots += final_plot.relabel(f\"PCA - Brain Region: {brain_region}\")\n",
    "\n",
    "# Save the Layout\n",
    "hvplot.save(plots.cols(1), savepath/\"240306_PCA_plots.html\")\n",
    "# Display the Layout\n",
    "hvplot.show(plots.cols(1))"
   ]
  },
  {
   "cell_type": "markdown",
   "metadata": {},
   "source": [
    "# Plotting the PCs separately"
   ]
  },
  {
   "cell_type": "code",
   "execution_count": null,
   "metadata": {},
   "outputs": [],
   "source": [
    "PCA_components"
   ]
  },
  {
   "cell_type": "code",
   "execution_count": null,
   "metadata": {},
   "outputs": [],
   "source": [
    "importlib.reload(HoloviewsTemplates)"
   ]
  },
  {
   "cell_type": "code",
   "execution_count": null,
   "metadata": {},
   "outputs": [],
   "source": [
    "# Plot PC1 and PC2 as jitterboxplots\n",
    "HoloviewsTemplates.jitter_boxplot(\n",
    "    PCA_components,\n",
    "    \"PC1\",\n",
    "    show=True,\n",
    "    save=True,\n",
    "    metadata=[],\n",
    "    bs_controls=True,\n",
    "    sort_by=\"median\",\n",
    "    hline_method=\"boxplot\",\n",
    "    readme=None,\n",
    ")"
   ]
  },
  {
   "cell_type": "code",
   "execution_count": null,
   "metadata": {},
   "outputs": [],
   "source": [
    "# Same with PC2\n",
    "HoloviewsTemplates.jitter_boxplot(\n",
    "    PCA_components,\n",
    "    \"PC2\",\n",
    "    show=True,\n",
    "    save=True,\n",
    "    metadata=[],\n",
    "    bs_controls=True,\n",
    "    sort_by=\"median\",\n",
    "    hline_method=\"boxplot\",\n",
    "    readme=None,\n",
    ")"
   ]
  },
  {
   "cell_type": "code",
   "execution_count": null,
   "metadata": {},
   "outputs": [],
   "source": [
    "# TODO : Find flies with particular pulling"
   ]
  }
 ],
 "metadata": {
  "kernelspec": {
   "display_name": "Main",
   "language": "python",
   "name": "python3"
  },
  "language_info": {
   "codemirror_mode": {
    "name": "ipython",
    "version": 3
   },
   "file_extension": ".py",
   "mimetype": "text/x-python",
   "name": "python",
   "nbconvert_exporter": "python",
   "pygments_lexer": "ipython3",
   "version": "3.10.9"
  }
 },
 "nbformat": 4,
 "nbformat_minor": 2
}
