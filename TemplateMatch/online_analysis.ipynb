{\rtf1\ansi\ansicpg1252\cocoartf2639
\cocoatextscaling0\cocoaplatform0{\fonttbl\f0\fnil\fcharset0 .AppleSystemUIFontMonospaced-Regular;}
{\colortbl;\red255\green255\blue255;\red27\green31\blue35;\red255\green255\blue255;\red109\green109\blue109;
}
{\*\expandedcolortbl;;\cssrgb\c14118\c16078\c18431;\cssrgb\c100000\c100000\c100000;\cssrgb\c50196\c50196\c50196;
}
\paperw11900\paperh16840\margl1440\margr1440\vieww11520\viewh8400\viewkind0
\deftab720

\itap1\trowd \taflags1 \trgaph108\trleft-108 \trcbpat3 \trbrdrt\brdrnil \trbrdrl\brdrnil \trbrdrr\brdrnil 
\clvertalt \clshdrawnil \clwWidth1000\clftsWidth3 \clbrdrt\brdrnil \clbrdrl\brdrnil \clbrdrb\brdrnil \clbrdrr\brdrnil \clpadl200 \clpadr200 \gaph\cellx4320
\clmrg \clvertalt \clshdrawnil \clwWidth1000\clftsWidth3 \clbrdrt\brdrnil \clbrdrl\brdrnil \clbrdrb\brdrnil \clbrdrr\brdrnil \clpadl200 \clpadr200 \gaph\cellx8640
\pard\intbl\itap1\pardeftab720\partightenfactor0

\f0\fs24 \cf2 \expnd0\expndtw0\kerning0
\outl0\strokewidth0 \strokec2 \{\cell 
\pard\intbl\itap1\cell \row

\itap1\trowd \taflags1 \trgaph108\trleft-108 \trcbpat3 \trbrdrl\brdrnil \trbrdrr\brdrnil 
\clvertalt \clshdrawnil \clwWidth1000\clftsWidth3 \clminw1000 \clbrdrt\brdrnil \clbrdrl\brdrnil \clbrdrb\brdrnil \clbrdrr\brdrnil \clpadl200 \clpadr200 \gaph\cellx4320
\clvertalt \clshdrawnil \clwWidth9921822\clftsWidth3 \clbrdrt\brdrnil \clbrdrl\brdrnil \clbrdrb\brdrnil \clbrdrr\brdrnil \clpadl200 \clpadr200 \gaph\cellx8640
\pard\intbl\itap1\pardeftab720\qr\partightenfactor0
\cf2 \cell 
\pard\intbl\itap1\pardeftab720\partightenfactor0
\cf2  "cells": [\cell \row

\itap1\trowd \taflags1 \trgaph108\trleft-108 \trcbpat3 \trbrdrl\brdrnil \trbrdrr\brdrnil 
\clvertalt \clshdrawnil \clwWidth1000\clftsWidth3 \clminw1000 \clbrdrt\brdrnil \clbrdrl\brdrnil \clbrdrb\brdrnil \clbrdrr\brdrnil \clpadl200 \clpadr200 \gaph\cellx4320
\clvertalt \clshdrawnil \clwWidth9921822\clftsWidth3 \clbrdrt\brdrnil \clbrdrl\brdrnil \clbrdrb\brdrnil \clbrdrr\brdrnil \clpadl200 \clpadr200 \gaph\cellx8640
\pard\intbl\itap1\pardeftab720\qr\partightenfactor0
\cf2 \cell 
\pard\intbl\itap1\pardeftab720\partightenfactor0
\cf2   \{\cell \row

\itap1\trowd \taflags1 \trgaph108\trleft-108 \trcbpat3 \trbrdrl\brdrnil \trbrdrr\brdrnil 
\clvertalt \clshdrawnil \clwWidth1000\clftsWidth3 \clminw1000 \clbrdrt\brdrnil \clbrdrl\brdrnil \clbrdrb\brdrnil \clbrdrr\brdrnil \clpadl200 \clpadr200 \gaph\cellx4320
\clvertalt \clshdrawnil \clwWidth9921822\clftsWidth3 \clbrdrt\brdrnil \clbrdrl\brdrnil \clbrdrb\brdrnil \clbrdrr\brdrnil \clpadl200 \clpadr200 \gaph\cellx8640
\pard\intbl\itap1\pardeftab720\qr\partightenfactor0
\cf2 \cell 
\pard\intbl\itap1\pardeftab720\partightenfactor0
\cf2    "cell_type": "markdown",\cell \row

\itap1\trowd \taflags1 \trgaph108\trleft-108 \trcbpat3 \trbrdrl\brdrnil \trbrdrr\brdrnil 
\clvertalt \clshdrawnil \clwWidth1000\clftsWidth3 \clminw1000 \clbrdrt\brdrnil \clbrdrl\brdrnil \clbrdrb\brdrnil \clbrdrr\brdrnil \clpadl200 \clpadr200 \gaph\cellx4320
\clvertalt \clshdrawnil \clwWidth9921822\clftsWidth3 \clbrdrt\brdrnil \clbrdrl\brdrnil \clbrdrb\brdrnil \clbrdrr\brdrnil \clpadl200 \clpadr200 \gaph\cellx8640
\pard\intbl\itap1\pardeftab720\qr\partightenfactor0
\cf2 \cell 
\pard\intbl\itap1\pardeftab720\partightenfactor0
\cf2    "metadata": \{\},\cell \row

\itap1\trowd \taflags1 \trgaph108\trleft-108 \trcbpat3 \trbrdrl\brdrnil \trbrdrr\brdrnil 
\clvertalt \clshdrawnil \clwWidth1000\clftsWidth3 \clminw1000 \clbrdrt\brdrnil \clbrdrl\brdrnil \clbrdrb\brdrnil \clbrdrr\brdrnil \clpadl200 \clpadr200 \gaph\cellx4320
\clvertalt \clshdrawnil \clwWidth9921822\clftsWidth3 \clbrdrt\brdrnil \clbrdrl\brdrnil \clbrdrb\brdrnil \clbrdrr\brdrnil \clpadl200 \clpadr200 \gaph\cellx8640
\pard\intbl\itap1\pardeftab720\qr\partightenfactor0
\cf2 \cell 
\pard\intbl\itap1\pardeftab720\partightenfactor0
\cf2    "source": [\cell \row

\itap1\trowd \taflags1 \trgaph108\trleft-108 \trcbpat3 \trbrdrl\brdrnil \trbrdrr\brdrnil 
\clvertalt \clshdrawnil \clwWidth1000\clftsWidth3 \clminw1000 \clbrdrt\brdrnil \clbrdrl\brdrnil \clbrdrb\brdrnil \clbrdrr\brdrnil \clpadl200 \clpadr200 \gaph\cellx4320
\clvertalt \clshdrawnil \clwWidth9921822\clftsWidth3 \clbrdrt\brdrnil \clbrdrl\brdrnil \clbrdrb\brdrnil \clbrdrr\brdrnil \clpadl200 \clpadr200 \gaph\cellx8640
\pard\intbl\itap1\pardeftab720\qr\partightenfactor0
\cf2 \cell 
\pard\intbl\itap1\pardeftab720\partightenfactor0
\cf2     "# Online algorithm"\cell \row

\itap1\trowd \taflags1 \trgaph108\trleft-108 \trcbpat3 \trbrdrl\brdrnil \trbrdrr\brdrnil 
\clvertalt \clshdrawnil \clwWidth1000\clftsWidth3 \clminw1000 \clbrdrt\brdrnil \clbrdrl\brdrnil \clbrdrb\brdrnil \clbrdrr\brdrnil \clpadl200 \clpadr200 \gaph\cellx4320
\clvertalt \clshdrawnil \clwWidth9921822\clftsWidth3 \clbrdrt\brdrnil \clbrdrl\brdrnil \clbrdrb\brdrnil \clbrdrr\brdrnil \clpadl200 \clpadr200 \gaph\cellx8640
\pard\intbl\itap1\pardeftab720\qr\partightenfactor0
\cf2 \cell 
\pard\intbl\itap1\pardeftab720\partightenfactor0
\cf2    ]\cell \row

\itap1\trowd \taflags1 \trgaph108\trleft-108 \trcbpat3 \trbrdrl\brdrnil \trbrdrr\brdrnil 
\clvertalt \clshdrawnil \clwWidth1000\clftsWidth3 \clminw1000 \clbrdrt\brdrnil \clbrdrl\brdrnil \clbrdrb\brdrnil \clbrdrr\brdrnil \clpadl200 \clpadr200 \gaph\cellx4320
\clvertalt \clshdrawnil \clwWidth9921822\clftsWidth3 \clbrdrt\brdrnil \clbrdrl\brdrnil \clbrdrb\brdrnil \clbrdrr\brdrnil \clpadl200 \clpadr200 \gaph\cellx8640
\pard\intbl\itap1\pardeftab720\qr\partightenfactor0
\cf2 \cell 
\pard\intbl\itap1\pardeftab720\partightenfactor0
\cf2   \},\cell \row

\itap1\trowd \taflags1 \trgaph108\trleft-108 \trcbpat3 \trbrdrl\brdrnil \trbrdrr\brdrnil 
\clvertalt \clshdrawnil \clwWidth1000\clftsWidth3 \clminw1000 \clbrdrt\brdrnil \clbrdrl\brdrnil \clbrdrb\brdrnil \clbrdrr\brdrnil \clpadl200 \clpadr200 \gaph\cellx4320
\clvertalt \clshdrawnil \clwWidth9921822\clftsWidth3 \clbrdrt\brdrnil \clbrdrl\brdrnil \clbrdrb\brdrnil \clbrdrr\brdrnil \clpadl200 \clpadr200 \gaph\cellx8640
\pard\intbl\itap1\pardeftab720\qr\partightenfactor0
\cf2 \cell 
\pard\intbl\itap1\pardeftab720\partightenfactor0
\cf2   \{\cell \row

\itap1\trowd \taflags1 \trgaph108\trleft-108 \trcbpat3 \trbrdrl\brdrnil \trbrdrr\brdrnil 
\clvertalt \clshdrawnil \clwWidth1000\clftsWidth3 \clminw1000 \clbrdrt\brdrnil \clbrdrl\brdrnil \clbrdrb\brdrnil \clbrdrr\brdrnil \clpadl200 \clpadr200 \gaph\cellx4320
\clvertalt \clshdrawnil \clwWidth9921822\clftsWidth3 \clbrdrt\brdrnil \clbrdrl\brdrnil \clbrdrb\brdrnil \clbrdrr\brdrnil \clpadl200 \clpadr200 \gaph\cellx8640
\pard\intbl\itap1\pardeftab720\qr\partightenfactor0
\cf2 \cell 
\pard\intbl\itap1\pardeftab720\partightenfactor0
\cf2    "cell_type": "markdown",\cell \row

\itap1\trowd \taflags1 \trgaph108\trleft-108 \trcbpat3 \trbrdrl\brdrnil \trbrdrr\brdrnil 
\clvertalt \clshdrawnil \clwWidth1000\clftsWidth3 \clminw1000 \clbrdrt\brdrnil \clbrdrl\brdrnil \clbrdrb\brdrnil \clbrdrr\brdrnil \clpadl200 \clpadr200 \gaph\cellx4320
\clvertalt \clshdrawnil \clwWidth9921822\clftsWidth3 \clbrdrt\brdrnil \clbrdrl\brdrnil \clbrdrb\brdrnil \clbrdrr\brdrnil \clpadl200 \clpadr200 \gaph\cellx8640
\pard\intbl\itap1\pardeftab720\qr\partightenfactor0
\cf2 \cell 
\pard\intbl\itap1\pardeftab720\partightenfactor0
\cf2    "metadata": \{\},\cell \row

\itap1\trowd \taflags1 \trgaph108\trleft-108 \trcbpat3 \trbrdrl\brdrnil \trbrdrr\brdrnil 
\clvertalt \clshdrawnil \clwWidth1000\clftsWidth3 \clminw1000 \clbrdrt\brdrnil \clbrdrl\brdrnil \clbrdrb\brdrnil \clbrdrr\brdrnil \clpadl200 \clpadr200 \gaph\cellx4320
\clvertalt \clshdrawnil \clwWidth9921822\clftsWidth3 \clbrdrt\brdrnil \clbrdrl\brdrnil \clbrdrb\brdrnil \clbrdrr\brdrnil \clpadl200 \clpadr200 \gaph\cellx8640
\pard\intbl\itap1\pardeftab720\qr\partightenfactor0
\cf2 \cell 
\pard\intbl\itap1\pardeftab720\partightenfactor0
\cf2    "source": [\cell \row

\itap1\trowd \taflags1 \trgaph108\trleft-108 \trcbpat3 \trbrdrl\brdrnil \trbrdrr\brdrnil 
\clvertalt \clshdrawnil \clwWidth1000\clftsWidth3 \clminw1000 \clbrdrt\brdrnil \clbrdrl\brdrnil \clbrdrb\brdrnil \clbrdrr\brdrnil \clpadl200 \clpadr200 \gaph\cellx4320
\clvertalt \clshdrawnil \clwWidth9921822\clftsWidth3 \clbrdrt\brdrnil \clbrdrl\brdrnil \clbrdrb\brdrnil \clbrdrr\brdrnil \clpadl200 \clpadr200 \gaph\cellx8640
\pard\intbl\itap1\pardeftab720\qr\partightenfactor0
\cf2 \cell 
\pard\intbl\itap1\pardeftab720\partightenfactor0
\cf2     "## 1 Defining lib, path, param"\cell \row

\itap1\trowd \taflags1 \trgaph108\trleft-108 \trcbpat3 \trbrdrl\brdrnil \trbrdrr\brdrnil 
\clvertalt \clshdrawnil \clwWidth1000\clftsWidth3 \clminw1000 \clbrdrt\brdrnil \clbrdrl\brdrnil \clbrdrb\brdrnil \clbrdrr\brdrnil \clpadl200 \clpadr200 \gaph\cellx4320
\clvertalt \clshdrawnil \clwWidth9921822\clftsWidth3 \clbrdrt\brdrnil \clbrdrl\brdrnil \clbrdrb\brdrnil \clbrdrr\brdrnil \clpadl200 \clpadr200 \gaph\cellx8640
\pard\intbl\itap1\pardeftab720\qr\partightenfactor0
\cf2 \cell 
\pard\intbl\itap1\pardeftab720\partightenfactor0
\cf2    ]\cell \row

\itap1\trowd \taflags1 \trgaph108\trleft-108 \trcbpat3 \trbrdrl\brdrnil \trbrdrr\brdrnil 
\clvertalt \clshdrawnil \clwWidth1000\clftsWidth3 \clminw1000 \clbrdrt\brdrnil \clbrdrl\brdrnil \clbrdrb\brdrnil \clbrdrr\brdrnil \clpadl200 \clpadr200 \gaph\cellx4320
\clvertalt \clshdrawnil \clwWidth9921822\clftsWidth3 \clbrdrt\brdrnil \clbrdrl\brdrnil \clbrdrb\brdrnil \clbrdrr\brdrnil \clpadl200 \clpadr200 \gaph\cellx8640
\pard\intbl\itap1\pardeftab720\qr\partightenfactor0
\cf2 \cell 
\pard\intbl\itap1\pardeftab720\partightenfactor0
\cf2   \},\cell \row

\itap1\trowd \taflags1 \trgaph108\trleft-108 \trcbpat3 \trbrdrl\brdrnil \trbrdrr\brdrnil 
\clvertalt \clshdrawnil \clwWidth1000\clftsWidth3 \clminw1000 \clbrdrt\brdrnil \clbrdrl\brdrnil \clbrdrb\brdrnil \clbrdrr\brdrnil \clpadl200 \clpadr200 \gaph\cellx4320
\clvertalt \clshdrawnil \clwWidth9921822\clftsWidth3 \clbrdrt\brdrnil \clbrdrl\brdrnil \clbrdrb\brdrnil \clbrdrr\brdrnil \clpadl200 \clpadr200 \gaph\cellx8640
\pard\intbl\itap1\pardeftab720\qr\partightenfactor0
\cf2 \cell 
\pard\intbl\itap1\pardeftab720\partightenfactor0
\cf2   \{\cell \row

\itap1\trowd \taflags1 \trgaph108\trleft-108 \trcbpat3 \trbrdrl\brdrnil \trbrdrr\brdrnil 
\clvertalt \clshdrawnil \clwWidth1000\clftsWidth3 \clminw1000 \clbrdrt\brdrnil \clbrdrl\brdrnil \clbrdrb\brdrnil \clbrdrr\brdrnil \clpadl200 \clpadr200 \gaph\cellx4320
\clvertalt \clshdrawnil \clwWidth9921822\clftsWidth3 \clbrdrt\brdrnil \clbrdrl\brdrnil \clbrdrb\brdrnil \clbrdrr\brdrnil \clpadl200 \clpadr200 \gaph\cellx8640
\pard\intbl\itap1\pardeftab720\qr\partightenfactor0
\cf2 \cell 
\pard\intbl\itap1\pardeftab720\partightenfactor0
\cf2    "cell_type": "code",\cell \row

\itap1\trowd \taflags1 \trgaph108\trleft-108 \trcbpat3 \trbrdrl\brdrnil \trbrdrr\brdrnil 
\clvertalt \clshdrawnil \clwWidth1000\clftsWidth3 \clminw1000 \clbrdrt\brdrnil \clbrdrl\brdrnil \clbrdrb\brdrnil \clbrdrr\brdrnil \clpadl200 \clpadr200 \gaph\cellx4320
\clvertalt \clshdrawnil \clwWidth9921822\clftsWidth3 \clbrdrt\brdrnil \clbrdrl\brdrnil \clbrdrb\brdrnil \clbrdrr\brdrnil \clpadl200 \clpadr200 \gaph\cellx8640
\pard\intbl\itap1\pardeftab720\qr\partightenfactor0
\cf2 \cell 
\pard\intbl\itap1\pardeftab720\partightenfactor0
\cf2    "execution_count": 1,\cell \row

\itap1\trowd \taflags1 \trgaph108\trleft-108 \trcbpat3 \trbrdrl\brdrnil \trbrdrr\brdrnil 
\clvertalt \clshdrawnil \clwWidth1000\clftsWidth3 \clminw1000 \clbrdrt\brdrnil \clbrdrl\brdrnil \clbrdrb\brdrnil \clbrdrr\brdrnil \clpadl200 \clpadr200 \gaph\cellx4320
\clvertalt \clshdrawnil \clwWidth9921822\clftsWidth3 \clbrdrt\brdrnil \clbrdrl\brdrnil \clbrdrb\brdrnil \clbrdrr\brdrnil \clpadl200 \clpadr200 \gaph\cellx8640
\pard\intbl\itap1\pardeftab720\qr\partightenfactor0
\cf2 \cell 
\pard\intbl\itap1\pardeftab720\partightenfactor0
\cf2    "metadata": \{\},\cell \row

\itap1\trowd \taflags1 \trgaph108\trleft-108 \trcbpat3 \trbrdrl\brdrnil \trbrdrr\brdrnil 
\clvertalt \clshdrawnil \clwWidth1000\clftsWidth3 \clminw1000 \clbrdrt\brdrnil \clbrdrl\brdrnil \clbrdrb\brdrnil \clbrdrr\brdrnil \clpadl200 \clpadr200 \gaph\cellx4320
\clvertalt \clshdrawnil \clwWidth9921822\clftsWidth3 \clbrdrt\brdrnil \clbrdrl\brdrnil \clbrdrb\brdrnil \clbrdrr\brdrnil \clpadl200 \clpadr200 \gaph\cellx8640
\pard\intbl\itap1\pardeftab720\qr\partightenfactor0
\cf2 \cell 
\pard\intbl\itap1\pardeftab720\partightenfactor0
\cf2    "outputs": [],\cell \row

\itap1\trowd \taflags1 \trgaph108\trleft-108 \trcbpat3 \trbrdrl\brdrnil \trbrdrr\brdrnil 
\clvertalt \clshdrawnil \clwWidth1000\clftsWidth3 \clminw1000 \clbrdrt\brdrnil \clbrdrl\brdrnil \clbrdrb\brdrnil \clbrdrr\brdrnil \clpadl200 \clpadr200 \gaph\cellx4320
\clvertalt \clshdrawnil \clwWidth9921822\clftsWidth3 \clbrdrt\brdrnil \clbrdrl\brdrnil \clbrdrb\brdrnil \clbrdrr\brdrnil \clpadl200 \clpadr200 \gaph\cellx8640
\pard\intbl\itap1\pardeftab720\qr\partightenfactor0
\cf2 \cell 
\pard\intbl\itap1\pardeftab720\partightenfactor0
\cf2    "source": [\cell \row

\itap1\trowd \taflags1 \trgaph108\trleft-108 \trcbpat3 \trbrdrl\brdrnil \trbrdrr\brdrnil 
\clvertalt \clshdrawnil \clwWidth1000\clftsWidth3 \clminw1000 \clbrdrt\brdrnil \clbrdrl\brdrnil \clbrdrb\brdrnil \clbrdrr\brdrnil \clpadl200 \clpadr200 \gaph\cellx4320
\clvertalt \clshdrawnil \clwWidth9921822\clftsWidth3 \clbrdrt\brdrnil \clbrdrl\brdrnil \clbrdrb\brdrnil \clbrdrr\brdrnil \clpadl200 \clpadr200 \gaph\cellx8640
\pard\intbl\itap1\pardeftab720\qr\partightenfactor0
\cf2 \cell 
\pard\intbl\itap1\pardeftab720\partightenfactor0
\cf2     "import sys\\n",\cell \row

\itap1\trowd \taflags1 \trgaph108\trleft-108 \trcbpat3 \trbrdrl\brdrnil \trbrdrr\brdrnil 
\clvertalt \clshdrawnil \clwWidth1000\clftsWidth3 \clminw1000 \clbrdrt\brdrnil \clbrdrl\brdrnil \clbrdrb\brdrnil \clbrdrr\brdrnil \clpadl200 \clpadr200 \gaph\cellx4320
\clvertalt \clshdrawnil \clwWidth9921822\clftsWidth3 \clbrdrt\brdrnil \clbrdrl\brdrnil \clbrdrb\brdrnil \clbrdrr\brdrnil \clpadl200 \clpadr200 \gaph\cellx8640
\pard\intbl\itap1\pardeftab720\qr\partightenfactor0
\cf2 \cell 
\pard\intbl\itap1\pardeftab720\partightenfactor0
\cf2     "sys.path.insert(0, \\"..\\")\\n",\cell \row

\itap1\trowd \taflags1 \trgaph108\trleft-108 \trcbpat3 \trbrdrl\brdrnil \trbrdrr\brdrnil 
\clvertalt \clshdrawnil \clwWidth1000\clftsWidth3 \clminw1000 \clbrdrt\brdrnil \clbrdrl\brdrnil \clbrdrb\brdrnil \clbrdrr\brdrnil \clpadl200 \clpadr200 \gaph\cellx4320
\clvertalt \clshdrawnil \clwWidth9921822\clftsWidth3 \clbrdrt\brdrnil \clbrdrl\brdrnil \clbrdrb\brdrnil \clbrdrr\brdrnil \clpadl200 \clpadr200 \gaph\cellx8640
\pard\intbl\itap1\pardeftab720\qr\partightenfactor0
\cf2 \cell 
\pard\intbl\itap1\pardeftab720\partightenfactor0
\cf2     "\\n",\cell \row

\itap1\trowd \taflags1 \trgaph108\trleft-108 \trcbpat3 \trbrdrl\brdrnil \trbrdrr\brdrnil 
\clvertalt \clshdrawnil \clwWidth1000\clftsWidth3 \clminw1000 \clbrdrt\brdrnil \clbrdrl\brdrnil \clbrdrb\brdrnil \clbrdrr\brdrnil \clpadl200 \clpadr200 \gaph\cellx4320
\clvertalt \clshdrawnil \clwWidth9921822\clftsWidth3 \clbrdrt\brdrnil \clbrdrl\brdrnil \clbrdrb\brdrnil \clbrdrr\brdrnil \clpadl200 \clpadr200 \gaph\cellx8640
\pard\intbl\itap1\pardeftab720\qr\partightenfactor0
\cf2 \cell 
\pard\intbl\itap1\pardeftab720\partightenfactor0
\cf2     "import scipy.signal\\n",\cell \row

\itap1\trowd \taflags1 \trgaph108\trleft-108 \trcbpat3 \trbrdrl\brdrnil \trbrdrr\brdrnil 
\clvertalt \clshdrawnil \clwWidth1000\clftsWidth3 \clminw1000 \clbrdrt\brdrnil \clbrdrl\brdrnil \clbrdrb\brdrnil \clbrdrr\brdrnil \clpadl200 \clpadr200 \gaph\cellx4320
\clvertalt \clshdrawnil \clwWidth9921822\clftsWidth3 \clbrdrt\brdrnil \clbrdrl\brdrnil \clbrdrb\brdrnil \clbrdrr\brdrnil \clpadl200 \clpadr200 \gaph\cellx8640
\pard\intbl\itap1\pardeftab720\qr\partightenfactor0
\cf2 \cell 
\pard\intbl\itap1\pardeftab720\partightenfactor0
\cf2     "\\n",\cell \row

\itap1\trowd \taflags1 \trgaph108\trleft-108 \trcbpat3 \trbrdrl\brdrnil \trbrdrr\brdrnil 
\clvertalt \clshdrawnil \clwWidth1000\clftsWidth3 \clminw1000 \clbrdrt\brdrnil \clbrdrl\brdrnil \clbrdrb\brdrnil \clbrdrr\brdrnil \clpadl200 \clpadr200 \gaph\cellx4320
\clvertalt \clshdrawnil \clwWidth9921822\clftsWidth3 \clbrdrt\brdrnil \clbrdrl\brdrnil \clbrdrb\brdrnil \clbrdrr\brdrnil \clpadl200 \clpadr200 \gaph\cellx8640
\pard\intbl\itap1\pardeftab720\qr\partightenfactor0
\cf2 \cell 
\pard\intbl\itap1\pardeftab720\partightenfactor0
\cf2     "from im_processing_fct.functions import *"\cell \row

\itap1\trowd \taflags1 \trgaph108\trleft-108 \trcbpat3 \trbrdrl\brdrnil \trbrdrr\brdrnil 
\clvertalt \clshdrawnil \clwWidth1000\clftsWidth3 \clminw1000 \clbrdrt\brdrnil \clbrdrl\brdrnil \clbrdrb\brdrnil \clbrdrr\brdrnil \clpadl200 \clpadr200 \gaph\cellx4320
\clvertalt \clshdrawnil \clwWidth9921822\clftsWidth3 \clbrdrt\brdrnil \clbrdrl\brdrnil \clbrdrb\brdrnil \clbrdrr\brdrnil \clpadl200 \clpadr200 \gaph\cellx8640
\pard\intbl\itap1\pardeftab720\qr\partightenfactor0
\cf2 \cell 
\pard\intbl\itap1\pardeftab720\partightenfactor0
\cf2    ]\cell \row

\itap1\trowd \taflags1 \trgaph108\trleft-108 \trcbpat3 \trbrdrl\brdrnil \trbrdrr\brdrnil 
\clvertalt \clshdrawnil \clwWidth1000\clftsWidth3 \clminw1000 \clbrdrt\brdrnil \clbrdrl\brdrnil \clbrdrb\brdrnil \clbrdrr\brdrnil \clpadl200 \clpadr200 \gaph\cellx4320
\clvertalt \clshdrawnil \clwWidth9921822\clftsWidth3 \clbrdrt\brdrnil \clbrdrl\brdrnil \clbrdrb\brdrnil \clbrdrr\brdrnil \clpadl200 \clpadr200 \gaph\cellx8640
\pard\intbl\itap1\pardeftab720\qr\partightenfactor0
\cf2 \cell 
\pard\intbl\itap1\pardeftab720\partightenfactor0
\cf2   \},\cell \row

\itap1\trowd \taflags1 \trgaph108\trleft-108 \trcbpat3 \trbrdrl\brdrnil \trbrdrr\brdrnil 
\clvertalt \clshdrawnil \clwWidth1000\clftsWidth3 \clminw1000 \clbrdrt\brdrnil \clbrdrl\brdrnil \clbrdrb\brdrnil \clbrdrr\brdrnil \clpadl200 \clpadr200 \gaph\cellx4320
\clvertalt \clshdrawnil \clwWidth9921822\clftsWidth3 \clbrdrt\brdrnil \clbrdrl\brdrnil \clbrdrb\brdrnil \clbrdrr\brdrnil \clpadl200 \clpadr200 \gaph\cellx8640
\pard\intbl\itap1\pardeftab720\qr\partightenfactor0
\cf2 \cell 
\pard\intbl\itap1\pardeftab720\partightenfactor0
\cf2   \{\cell \row

\itap1\trowd \taflags1 \trgaph108\trleft-108 \trcbpat3 \trbrdrl\brdrnil \trbrdrr\brdrnil 
\clvertalt \clshdrawnil \clwWidth1000\clftsWidth3 \clminw1000 \clbrdrt\brdrnil \clbrdrl\brdrnil \clbrdrb\brdrnil \clbrdrr\brdrnil \clpadl200 \clpadr200 \gaph\cellx4320
\clvertalt \clshdrawnil \clwWidth9921822\clftsWidth3 \clbrdrt\brdrnil \clbrdrl\brdrnil \clbrdrb\brdrnil \clbrdrr\brdrnil \clpadl200 \clpadr200 \gaph\cellx8640
\pard\intbl\itap1\pardeftab720\qr\partightenfactor0
\cf2 \cell 
\pard\intbl\itap1\pardeftab720\partightenfactor0
\cf2    "cell_type": "markdown",\cell \row

\itap1\trowd \taflags1 \trgaph108\trleft-108 \trcbpat3 \trbrdrl\brdrnil \trbrdrr\brdrnil 
\clvertalt \clshdrawnil \clwWidth1000\clftsWidth3 \clminw1000 \clbrdrt\brdrnil \clbrdrl\brdrnil \clbrdrb\brdrnil \clbrdrr\brdrnil \clpadl200 \clpadr200 \gaph\cellx4320
\clvertalt \clshdrawnil \clwWidth9921822\clftsWidth3 \clbrdrt\brdrnil \clbrdrl\brdrnil \clbrdrb\brdrnil \clbrdrr\brdrnil \clpadl200 \clpadr200 \gaph\cellx8640
\pard\intbl\itap1\pardeftab720\qr\partightenfactor0
\cf2 \cell 
\pard\intbl\itap1\pardeftab720\partightenfactor0
\cf2    "metadata": \{\},\cell \row

\itap1\trowd \taflags1 \trgaph108\trleft-108 \trcbpat3 \trbrdrl\brdrnil \trbrdrr\brdrnil 
\clvertalt \clshdrawnil \clwWidth1000\clftsWidth3 \clminw1000 \clbrdrt\brdrnil \clbrdrl\brdrnil \clbrdrb\brdrnil \clbrdrr\brdrnil \clpadl200 \clpadr200 \gaph\cellx4320
\clvertalt \clshdrawnil \clwWidth9921822\clftsWidth3 \clbrdrt\brdrnil \clbrdrl\brdrnil \clbrdrb\brdrnil \clbrdrr\brdrnil \clpadl200 \clpadr200 \gaph\cellx8640
\pard\intbl\itap1\pardeftab720\qr\partightenfactor0
\cf2 \cell 
\pard\intbl\itap1\pardeftab720\partightenfactor0
\cf2    "source": [\cell \row

\itap1\trowd \taflags1 \trgaph108\trleft-108 \trcbpat3 \trbrdrl\brdrnil \trbrdrr\brdrnil 
\clvertalt \clshdrawnil \clwWidth1000\clftsWidth3 \clminw1000 \clbrdrt\brdrnil \clbrdrl\brdrnil \clbrdrb\brdrnil \clbrdrr\brdrnil \clpadl200 \clpadr200 \gaph\cellx4320
\clvertalt \clshdrawnil \clwWidth9921822\clftsWidth3 \clbrdrt\brdrnil \clbrdrl\brdrnil \clbrdrb\brdrnil \clbrdrr\brdrnil \clpadl200 \clpadr200 \gaph\cellx8640
\pard\intbl\itap1\pardeftab720\qr\partightenfactor0
\cf2 \cell 
\pard\intbl\itap1\pardeftab720\partightenfactor0
\cf2     "## 2 Matching elements generation"\cell \row

\itap1\trowd \taflags1 \trgaph108\trleft-108 \trcbpat3 \trbrdrl\brdrnil \trbrdrr\brdrnil 
\clvertalt \clshdrawnil \clwWidth1000\clftsWidth3 \clminw1000 \clbrdrt\brdrnil \clbrdrl\brdrnil \clbrdrb\brdrnil \clbrdrr\brdrnil \clpadl200 \clpadr200 \gaph\cellx4320
\clvertalt \clshdrawnil \clwWidth9921822\clftsWidth3 \clbrdrt\brdrnil \clbrdrl\brdrnil \clbrdrb\brdrnil \clbrdrr\brdrnil \clpadl200 \clpadr200 \gaph\cellx8640
\pard\intbl\itap1\pardeftab720\qr\partightenfactor0
\cf2 \cell 
\pard\intbl\itap1\pardeftab720\partightenfactor0
\cf2    ]\cell \row

\itap1\trowd \taflags1 \trgaph108\trleft-108 \trcbpat3 \trbrdrl\brdrnil \trbrdrr\brdrnil 
\clvertalt \clshdrawnil \clwWidth1000\clftsWidth3 \clminw1000 \clbrdrt\brdrnil \clbrdrl\brdrnil \clbrdrb\brdrnil \clbrdrr\brdrnil \clpadl200 \clpadr200 \gaph\cellx4320
\clvertalt \clshdrawnil \clwWidth9921822\clftsWidth3 \clbrdrt\brdrnil \clbrdrl\brdrnil \clbrdrb\brdrnil \clbrdrr\brdrnil \clpadl200 \clpadr200 \gaph\cellx8640
\pard\intbl\itap1\pardeftab720\qr\partightenfactor0
\cf2 \cell 
\pard\intbl\itap1\pardeftab720\partightenfactor0
\cf2   \},\cell \row

\itap1\trowd \taflags1 \trgaph108\trleft-108 \trcbpat3 \trbrdrl\brdrnil \trbrdrr\brdrnil 
\clvertalt \clshdrawnil \clwWidth1000\clftsWidth3 \clminw1000 \clbrdrt\brdrnil \clbrdrl\brdrnil \clbrdrb\brdrnil \clbrdrr\brdrnil \clpadl200 \clpadr200 \gaph\cellx4320
\clvertalt \clshdrawnil \clwWidth9921822\clftsWidth3 \clbrdrt\brdrnil \clbrdrl\brdrnil \clbrdrb\brdrnil \clbrdrr\brdrnil \clpadl200 \clpadr200 \gaph\cellx8640
\pard\intbl\itap1\pardeftab720\qr\partightenfactor0
\cf2 \cell 
\pard\intbl\itap1\pardeftab720\partightenfactor0
\cf2   \{\cell \row

\itap1\trowd \taflags1 \trgaph108\trleft-108 \trcbpat3 \trbrdrl\brdrnil \trbrdrr\brdrnil 
\clvertalt \clshdrawnil \clwWidth1000\clftsWidth3 \clminw1000 \clbrdrt\brdrnil \clbrdrl\brdrnil \clbrdrb\brdrnil \clbrdrr\brdrnil \clpadl200 \clpadr200 \gaph\cellx4320
\clvertalt \clshdrawnil \clwWidth9921822\clftsWidth3 \clbrdrt\brdrnil \clbrdrl\brdrnil \clbrdrb\brdrnil \clbrdrr\brdrnil \clpadl200 \clpadr200 \gaph\cellx8640
\pard\intbl\itap1\pardeftab720\qr\partightenfactor0
\cf2 \cell 
\pard\intbl\itap1\pardeftab720\partightenfactor0
\cf2    "cell_type": "markdown",\cell \row

\itap1\trowd \taflags1 \trgaph108\trleft-108 \trcbpat3 \trbrdrl\brdrnil \trbrdrr\brdrnil 
\clvertalt \clshdrawnil \clwWidth1000\clftsWidth3 \clminw1000 \clbrdrt\brdrnil \clbrdrl\brdrnil \clbrdrb\brdrnil \clbrdrr\brdrnil \clpadl200 \clpadr200 \gaph\cellx4320
\clvertalt \clshdrawnil \clwWidth9921822\clftsWidth3 \clbrdrt\brdrnil \clbrdrl\brdrnil \clbrdrb\brdrnil \clbrdrr\brdrnil \clpadl200 \clpadr200 \gaph\cellx8640
\pard\intbl\itap1\pardeftab720\qr\partightenfactor0
\cf2 \cell 
\pard\intbl\itap1\pardeftab720\partightenfactor0
\cf2    "metadata": \{\},\cell \row

\itap1\trowd \taflags1 \trgaph108\trleft-108 \trcbpat3 \trbrdrl\brdrnil \trbrdrr\brdrnil 
\clvertalt \clshdrawnil \clwWidth1000\clftsWidth3 \clminw1000 \clbrdrt\brdrnil \clbrdrl\brdrnil \clbrdrb\brdrnil \clbrdrr\brdrnil \clpadl200 \clpadr200 \gaph\cellx4320
\clvertalt \clshdrawnil \clwWidth9921822\clftsWidth3 \clbrdrt\brdrnil \clbrdrl\brdrnil \clbrdrb\brdrnil \clbrdrr\brdrnil \clpadl200 \clpadr200 \gaph\cellx8640
\pard\intbl\itap1\pardeftab720\qr\partightenfactor0
\cf2 \cell 
\pard\intbl\itap1\pardeftab720\partightenfactor0
\cf2    "source": [\cell \row

\itap1\trowd \taflags1 \trgaph108\trleft-108 \trcbpat3 \trbrdrl\brdrnil \trbrdrr\brdrnil 
\clvertalt \clshdrawnil \clwWidth1000\clftsWidth3 \clminw1000 \clbrdrt\brdrnil \clbrdrl\brdrnil \clbrdrb\brdrnil \clbrdrr\brdrnil \clpadl200 \clpadr200 \gaph\cellx4320
\clvertalt \clshdrawnil \clwWidth9921822\clftsWidth3 \clbrdrt\brdrnil \clbrdrl\brdrnil \clbrdrb\brdrnil \clbrdrr\brdrnil \clpadl200 \clpadr200 \gaph\cellx8640
\pard\intbl\itap1\pardeftab720\qr\partightenfactor0
\cf2 \cell 
\pard\intbl\itap1\pardeftab720\partightenfactor0
\cf2     "### 2.1 Background"\cell \row

\itap1\trowd \taflags1 \trgaph108\trleft-108 \trcbpat3 \trbrdrl\brdrnil \trbrdrr\brdrnil 
\clvertalt \clshdrawnil \clwWidth1000\clftsWidth3 \clminw1000 \clbrdrt\brdrnil \clbrdrl\brdrnil \clbrdrb\brdrnil \clbrdrr\brdrnil \clpadl200 \clpadr200 \gaph\cellx4320
\clvertalt \clshdrawnil \clwWidth9921822\clftsWidth3 \clbrdrt\brdrnil \clbrdrl\brdrnil \clbrdrb\brdrnil \clbrdrr\brdrnil \clpadl200 \clpadr200 \gaph\cellx8640
\pard\intbl\itap1\pardeftab720\qr\partightenfactor0
\cf2 \cell 
\pard\intbl\itap1\pardeftab720\partightenfactor0
\cf2    ]\cell \row

\itap1\trowd \taflags1 \trgaph108\trleft-108 \trcbpat3 \trbrdrl\brdrnil \trbrdrr\brdrnil 
\clvertalt \clshdrawnil \clwWidth1000\clftsWidth3 \clminw1000 \clbrdrt\brdrnil \clbrdrl\brdrnil \clbrdrb\brdrnil \clbrdrr\brdrnil \clpadl200 \clpadr200 \gaph\cellx4320
\clvertalt \clshdrawnil \clwWidth9921822\clftsWidth3 \clbrdrt\brdrnil \clbrdrl\brdrnil \clbrdrb\brdrnil \clbrdrr\brdrnil \clpadl200 \clpadr200 \gaph\cellx8640
\pard\intbl\itap1\pardeftab720\qr\partightenfactor0
\cf2 \cell 
\pard\intbl\itap1\pardeftab720\partightenfactor0
\cf2   \},\cell \row

\itap1\trowd \taflags1 \trgaph108\trleft-108 \trcbpat3 \trbrdrl\brdrnil \trbrdrr\brdrnil 
\clvertalt \clshdrawnil \clwWidth1000\clftsWidth3 \clminw1000 \clbrdrt\brdrnil \clbrdrl\brdrnil \clbrdrb\brdrnil \clbrdrr\brdrnil \clpadl200 \clpadr200 \gaph\cellx4320
\clvertalt \clshdrawnil \clwWidth9921822\clftsWidth3 \clbrdrt\brdrnil \clbrdrl\brdrnil \clbrdrb\brdrnil \clbrdrr\brdrnil \clpadl200 \clpadr200 \gaph\cellx8640
\pard\intbl\itap1\pardeftab720\qr\partightenfactor0
\cf2 \cell 
\pard\intbl\itap1\pardeftab720\partightenfactor0
\cf2   \{\cell \row

\itap1\trowd \taflags1 \trgaph108\trleft-108 \trcbpat3 \trbrdrl\brdrnil \trbrdrr\brdrnil 
\clvertalt \clshdrawnil \clwWidth1000\clftsWidth3 \clminw1000 \clbrdrt\brdrnil \clbrdrl\brdrnil \clbrdrb\brdrnil \clbrdrr\brdrnil \clpadl200 \clpadr200 \gaph\cellx4320
\clvertalt \clshdrawnil \clwWidth9921822\clftsWidth3 \clbrdrt\brdrnil \clbrdrl\brdrnil \clbrdrb\brdrnil \clbrdrr\brdrnil \clpadl200 \clpadr200 \gaph\cellx8640
\pard\intbl\itap1\pardeftab720\qr\partightenfactor0
\cf2 \cell 
\pard\intbl\itap1\pardeftab720\partightenfactor0
\cf2    "cell_type": "markdown",\cell \row

\itap1\trowd \taflags1 \trgaph108\trleft-108 \trcbpat3 \trbrdrl\brdrnil \trbrdrr\brdrnil 
\clvertalt \clshdrawnil \clwWidth1000\clftsWidth3 \clminw1000 \clbrdrt\brdrnil \clbrdrl\brdrnil \clbrdrb\brdrnil \clbrdrr\brdrnil \clpadl200 \clpadr200 \gaph\cellx4320
\clvertalt \clshdrawnil \clwWidth9921822\clftsWidth3 \clbrdrt\brdrnil \clbrdrl\brdrnil \clbrdrb\brdrnil \clbrdrr\brdrnil \clpadl200 \clpadr200 \gaph\cellx8640
\pard\intbl\itap1\pardeftab720\qr\partightenfactor0
\cf2 \cell 
\pard\intbl\itap1\pardeftab720\partightenfactor0
\cf2    "metadata": \{\},\cell \row

\itap1\trowd \taflags1 \trgaph108\trleft-108 \trcbpat3 \trbrdrl\brdrnil \trbrdrr\brdrnil 
\clvertalt \clshdrawnil \clwWidth1000\clftsWidth3 \clminw1000 \clbrdrt\brdrnil \clbrdrl\brdrnil \clbrdrb\brdrnil \clbrdrr\brdrnil \clpadl200 \clpadr200 \gaph\cellx4320
\clvertalt \clshdrawnil \clwWidth9921822\clftsWidth3 \clbrdrt\brdrnil \clbrdrl\brdrnil \clbrdrb\brdrnil \clbrdrr\brdrnil \clpadl200 \clpadr200 \gaph\cellx8640
\pard\intbl\itap1\pardeftab720\qr\partightenfactor0
\cf2 \cell 
\pard\intbl\itap1\pardeftab720\partightenfactor0
\cf2    "source": [\cell \row

\itap1\trowd \taflags1 \trgaph108\trleft-108 \trcbpat3 \trbrdrl\brdrnil \trbrdrr\brdrnil 
\clvertalt \clshdrawnil \clwWidth1000\clftsWidth3 \clminw1000 \clbrdrt\brdrnil \clbrdrl\brdrnil \clbrdrb\brdrnil \clbrdrr\brdrnil \clpadl200 \clpadr200 \gaph\cellx4320
\clvertalt \clshdrawnil \clwWidth9921822\clftsWidth3 \clbrdrt\brdrnil \clbrdrl\brdrnil \clbrdrb\brdrnil \clbrdrr\brdrnil \clpadl200 \clpadr200 \gaph\cellx8640
\pard\intbl\itap1\pardeftab720\qr\partightenfactor0
\cf2 \cell 
\pard\intbl\itap1\pardeftab720\partightenfactor0
\cf2     "#### 2.1.1 Read first frame"\cell \row

\itap1\trowd \taflags1 \trgaph108\trleft-108 \trcbpat3 \trbrdrl\brdrnil \trbrdrr\brdrnil 
\clvertalt \clshdrawnil \clwWidth1000\clftsWidth3 \clminw1000 \clbrdrt\brdrnil \clbrdrl\brdrnil \clbrdrb\brdrnil \clbrdrr\brdrnil \clpadl200 \clpadr200 \gaph\cellx4320
\clvertalt \clshdrawnil \clwWidth9921822\clftsWidth3 \clbrdrt\brdrnil \clbrdrl\brdrnil \clbrdrb\brdrnil \clbrdrr\brdrnil \clpadl200 \clpadr200 \gaph\cellx8640
\pard\intbl\itap1\pardeftab720\qr\partightenfactor0
\cf2 \cell 
\pard\intbl\itap1\pardeftab720\partightenfactor0
\cf2    ]\cell \row

\itap1\trowd \taflags1 \trgaph108\trleft-108 \trcbpat3 \trbrdrl\brdrnil \trbrdrr\brdrnil 
\clvertalt \clshdrawnil \clwWidth1000\clftsWidth3 \clminw1000 \clbrdrt\brdrnil \clbrdrl\brdrnil \clbrdrb\brdrnil \clbrdrr\brdrnil \clpadl200 \clpadr200 \gaph\cellx4320
\clvertalt \clshdrawnil \clwWidth9921822\clftsWidth3 \clbrdrt\brdrnil \clbrdrl\brdrnil \clbrdrb\brdrnil \clbrdrr\brdrnil \clpadl200 \clpadr200 \gaph\cellx8640
\pard\intbl\itap1\pardeftab720\qr\partightenfactor0
\cf2 \cell 
\pard\intbl\itap1\pardeftab720\partightenfactor0
\cf2   \},\cell \row

\itap1\trowd \taflags1 \trgaph108\trleft-108 \trcbpat3 \trbrdrl\brdrnil \trbrdrr\brdrnil 
\clvertalt \clshdrawnil \clwWidth1000\clftsWidth3 \clminw1000 \clbrdrt\brdrnil \clbrdrl\brdrnil \clbrdrb\brdrnil \clbrdrr\brdrnil \clpadl200 \clpadr200 \gaph\cellx4320
\clvertalt \clshdrawnil \clwWidth9921822\clftsWidth3 \clbrdrt\brdrnil \clbrdrl\brdrnil \clbrdrb\brdrnil \clbrdrr\brdrnil \clpadl200 \clpadr200 \gaph\cellx8640
\pard\intbl\itap1\pardeftab720\qr\partightenfactor0
\cf2 \cell 
\pard\intbl\itap1\pardeftab720\partightenfactor0
\cf2   \{\cell \row

\itap1\trowd \taflags1 \trgaph108\trleft-108 \trcbpat3 \trbrdrl\brdrnil \trbrdrr\brdrnil 
\clvertalt \clshdrawnil \clwWidth1000\clftsWidth3 \clminw1000 \clbrdrt\brdrnil \clbrdrl\brdrnil \clbrdrb\brdrnil \clbrdrr\brdrnil \clpadl200 \clpadr200 \gaph\cellx4320
\clvertalt \clshdrawnil \clwWidth9921822\clftsWidth3 \clbrdrt\brdrnil \clbrdrl\brdrnil \clbrdrb\brdrnil \clbrdrr\brdrnil \clpadl200 \clpadr200 \gaph\cellx8640
\pard\intbl\itap1\pardeftab720\qr\partightenfactor0
\cf2 \cell 
\pard\intbl\itap1\pardeftab720\partightenfactor0
\cf2    "cell_type": "code",\cell \row

\itap1\trowd \taflags1 \trgaph108\trleft-108 \trcbpat3 \trbrdrl\brdrnil \trbrdrr\brdrnil 
\clvertalt \clshdrawnil \clwWidth1000\clftsWidth3 \clminw1000 \clbrdrt\brdrnil \clbrdrl\brdrnil \clbrdrb\brdrnil \clbrdrr\brdrnil \clpadl200 \clpadr200 \gaph\cellx4320
\clvertalt \clshdrawnil \clwWidth9921822\clftsWidth3 \clbrdrt\brdrnil \clbrdrl\brdrnil \clbrdrb\brdrnil \clbrdrr\brdrnil \clpadl200 \clpadr200 \gaph\cellx8640
\pard\intbl\itap1\pardeftab720\qr\partightenfactor0
\cf2 \cell 
\pard\intbl\itap1\pardeftab720\partightenfactor0
\cf2    "execution_count": 2,\cell \row

\itap1\trowd \taflags1 \trgaph108\trleft-108 \trcbpat3 \trbrdrl\brdrnil \trbrdrr\brdrnil 
\clvertalt \clshdrawnil \clwWidth1000\clftsWidth3 \clminw1000 \clbrdrt\brdrnil \clbrdrl\brdrnil \clbrdrb\brdrnil \clbrdrr\brdrnil \clpadl200 \clpadr200 \gaph\cellx4320
\clvertalt \clshdrawnil \clwWidth9921822\clftsWidth3 \clbrdrt\brdrnil \clbrdrl\brdrnil \clbrdrb\brdrnil \clbrdrr\brdrnil \clpadl200 \clpadr200 \gaph\cellx8640
\pard\intbl\itap1\pardeftab720\qr\partightenfactor0
\cf2 \cell 
\pard\intbl\itap1\pardeftab720\partightenfactor0
\cf2    "metadata": \{\},\cell \row

\itap1\trowd \taflags1 \trgaph108\trleft-108 \trcbpat3 \trbrdrl\brdrnil \trbrdrr\brdrnil 
\clvertalt \clshdrawnil \clwWidth1000\clftsWidth3 \clminw1000 \clbrdrt\brdrnil \clbrdrl\brdrnil \clbrdrb\brdrnil \clbrdrr\brdrnil \clpadl200 \clpadr200 \gaph\cellx4320
\clvertalt \clshdrawnil \clwWidth9921822\clftsWidth3 \clbrdrt\brdrnil \clbrdrl\brdrnil \clbrdrb\brdrnil \clbrdrr\brdrnil \clpadl200 \clpadr200 \gaph\cellx8640
\pard\intbl\itap1\pardeftab720\qr\partightenfactor0
\cf2 \cell 
\pard\intbl\itap1\pardeftab720\partightenfactor0
\cf2    "outputs": [\cell \row

\itap1\trowd \taflags1 \trgaph108\trleft-108 \trcbpat3 \trbrdrl\brdrnil \trbrdrr\brdrnil 
\clvertalt \clshdrawnil \clwWidth1000\clftsWidth3 \clminw1000 \clbrdrt\brdrnil \clbrdrl\brdrnil \clbrdrb\brdrnil \clbrdrr\brdrnil \clpadl200 \clpadr200 \gaph\cellx4320
\clvertalt \clshdrawnil \clwWidth9921822\clftsWidth3 \clbrdrt\brdrnil \clbrdrl\brdrnil \clbrdrb\brdrnil \clbrdrr\brdrnil \clpadl200 \clpadr200 \gaph\cellx8640
\pard\intbl\itap1\pardeftab720\qr\partightenfactor0
\cf2 \cell 
\pard\intbl\itap1\pardeftab720\partightenfactor0
\cf2     \{\cell \row

\itap1\trowd \taflags1 \trgaph108\trleft-108 \trcbpat3 \trbrdrl\brdrnil \trbrdrr\brdrnil 
\clvertalt \clshdrawnil \clwWidth1000\clftsWidth3 \clminw1000 \clbrdrt\brdrnil \clbrdrl\brdrnil \clbrdrb\brdrnil \clbrdrr\brdrnil \clpadl200 \clpadr200 \gaph\cellx4320
\clvertalt \clshdrawnil \clwWidth9921822\clftsWidth3 \clbrdrt\brdrnil \clbrdrl\brdrnil \clbrdrb\brdrnil \clbrdrr\brdrnil \clpadl200 \clpadr200 \gaph\cellx8640
\pard\intbl\itap1\pardeftab720\qr\partightenfactor0
\cf2 \cell 
\pard\intbl\itap1\pardeftab720\partightenfactor0
\cf2      "data": \{\cell \row

\itap1\trowd \taflags1 \trgaph108\trleft-108 \trcbpat3 \trbrdrl\brdrnil \trbrdrr\brdrnil 
\clvertalt \clshdrawnil \clwWidth1000\clftsWidth3 \clminw1000 \clbrdrt\brdrnil \clbrdrl\brdrnil \clbrdrb\brdrnil \clbrdrr\brdrnil \clpadl200 \clpadr200 \gaph\cellx4320
\clvertalt \clshdrawnil \clwWidth9921822\clftsWidth3 \clbrdrt\brdrnil \clbrdrl\brdrnil \clbrdrb\brdrnil \clbrdrr\brdrnil \clpadl200 \clpadr200 \gaph\cellx8640
\pard\intbl\itap1\pardeftab720\qr\partightenfactor0
\cf2 \cell 
\pard\intbl\itap1\pardeftab720\partightenfactor0
\cf2       "text/plain": [\cell \row

\itap1\trowd \taflags1 \trgaph108\trleft-108 \trcbpat3 \trbrdrl\brdrnil \trbrdrr\brdrnil 
\clvertalt \clshdrawnil \clwWidth1000\clftsWidth3 \clminw1000 \clbrdrt\brdrnil \clbrdrl\brdrnil \clbrdrb\brdrnil \clbrdrr\brdrnil \clpadl200 \clpadr200 \gaph\cellx4320
\clvertalt \clshdrawnil \clwWidth9921822\clftsWidth3 \clbrdrt\brdrnil \clbrdrl\brdrnil \clbrdrb\brdrnil \clbrdrr\brdrnil \clpadl200 \clpadr200 \gaph\cellx8640
\pard\intbl\itap1\pardeftab720\qr\partightenfactor0
\cf2 \cell 
\pard\intbl\itap1\pardeftab720\partightenfactor0
\cf2        "<matplotlib.image.AxesImage at 0x1baa806ea88>"\cell \row

\itap1\trowd \taflags1 \trgaph108\trleft-108 \trcbpat3 \trbrdrl\brdrnil \trbrdrr\brdrnil 
\clvertalt \clshdrawnil \clwWidth1000\clftsWidth3 \clminw1000 \clbrdrt\brdrnil \clbrdrl\brdrnil \clbrdrb\brdrnil \clbrdrr\brdrnil \clpadl200 \clpadr200 \gaph\cellx4320
\clvertalt \clshdrawnil \clwWidth9921822\clftsWidth3 \clbrdrt\brdrnil \clbrdrl\brdrnil \clbrdrb\brdrnil \clbrdrr\brdrnil \clpadl200 \clpadr200 \gaph\cellx8640
\pard\intbl\itap1\pardeftab720\qr\partightenfactor0
\cf2 \cell 
\pard\intbl\itap1\pardeftab720\partightenfactor0
\cf2       ]\cell \row

\itap1\trowd \taflags1 \trgaph108\trleft-108 \trcbpat3 \trbrdrl\brdrnil \trbrdrr\brdrnil 
\clvertalt \clshdrawnil \clwWidth1000\clftsWidth3 \clminw1000 \clbrdrt\brdrnil \clbrdrl\brdrnil \clbrdrb\brdrnil \clbrdrr\brdrnil \clpadl200 \clpadr200 \gaph\cellx4320
\clvertalt \clshdrawnil \clwWidth9921822\clftsWidth3 \clbrdrt\brdrnil \clbrdrl\brdrnil \clbrdrb\brdrnil \clbrdrr\brdrnil \clpadl200 \clpadr200 \gaph\cellx8640
\pard\intbl\itap1\pardeftab720\qr\partightenfactor0
\cf2 \cell 
\pard\intbl\itap1\pardeftab720\partightenfactor0
\cf2      \},\cell \row

\itap1\trowd \taflags1 \trgaph108\trleft-108 \trcbpat3 \trbrdrl\brdrnil \trbrdrr\brdrnil 
\clvertalt \clshdrawnil \clwWidth1000\clftsWidth3 \clminw1000 \clbrdrt\brdrnil \clbrdrl\brdrnil \clbrdrb\brdrnil \clbrdrr\brdrnil \clpadl200 \clpadr200 \gaph\cellx4320
\clvertalt \clshdrawnil \clwWidth9921822\clftsWidth3 \clbrdrt\brdrnil \clbrdrl\brdrnil \clbrdrb\brdrnil \clbrdrr\brdrnil \clpadl200 \clpadr200 \gaph\cellx8640
\pard\intbl\itap1\pardeftab720\qr\partightenfactor0
\cf2 \cell 
\pard\intbl\itap1\pardeftab720\partightenfactor0
\cf2      "execution_count": 2,\cell \row

\itap1\trowd \taflags1 \trgaph108\trleft-108 \trcbpat3 \trbrdrl\brdrnil \trbrdrr\brdrnil 
\clvertalt \clshdrawnil \clwWidth1000\clftsWidth3 \clminw1000 \clbrdrt\brdrnil \clbrdrl\brdrnil \clbrdrb\brdrnil \clbrdrr\brdrnil \clpadl200 \clpadr200 \gaph\cellx4320
\clvertalt \clshdrawnil \clwWidth9921822\clftsWidth3 \clbrdrt\brdrnil \clbrdrl\brdrnil \clbrdrb\brdrnil \clbrdrr\brdrnil \clpadl200 \clpadr200 \gaph\cellx8640
\pard\intbl\itap1\pardeftab720\qr\partightenfactor0
\cf2 \cell 
\pard\intbl\itap1\pardeftab720\partightenfactor0
\cf2      "metadata": \{\},\cell \row

\itap1\trowd \taflags1 \trgaph108\trleft-108 \trcbpat3 \trbrdrl\brdrnil \trbrdrr\brdrnil 
\clvertalt \clshdrawnil \clwWidth1000\clftsWidth3 \clminw1000 \clbrdrt\brdrnil \clbrdrl\brdrnil \clbrdrb\brdrnil \clbrdrr\brdrnil \clpadl200 \clpadr200 \gaph\cellx4320
\clvertalt \clshdrawnil \clwWidth9921822\clftsWidth3 \clbrdrt\brdrnil \clbrdrl\brdrnil \clbrdrb\brdrnil \clbrdrr\brdrnil \clpadl200 \clpadr200 \gaph\cellx8640
\pard\intbl\itap1\pardeftab720\qr\partightenfactor0
\cf2 \cell 
\pard\intbl\itap1\pardeftab720\partightenfactor0
\cf2      "output_type": "execute_result"\cell \row

\itap1\trowd \taflags1 \trgaph108\trleft-108 \trcbpat3 \trbrdrl\brdrnil \trbrdrr\brdrnil 
\clvertalt \clshdrawnil \clwWidth1000\clftsWidth3 \clminw1000 \clbrdrt\brdrnil \clbrdrl\brdrnil \clbrdrb\brdrnil \clbrdrr\brdrnil \clpadl200 \clpadr200 \gaph\cellx4320
\clvertalt \clshdrawnil \clwWidth9921822\clftsWidth3 \clbrdrt\brdrnil \clbrdrl\brdrnil \clbrdrb\brdrnil \clbrdrr\brdrnil \clpadl200 \clpadr200 \gaph\cellx8640
\pard\intbl\itap1\pardeftab720\qr\partightenfactor0
\cf2 \cell 
\pard\intbl\itap1\pardeftab720\partightenfactor0
\cf2     \},\cell \row

\itap1\trowd \taflags1 \trgaph108\trleft-108 \trcbpat3 \trbrdrl\brdrnil \trbrdrr\brdrnil 
\clvertalt \clshdrawnil \clwWidth1000\clftsWidth3 \clminw1000 \clbrdrt\brdrnil \clbrdrl\brdrnil \clbrdrb\brdrnil \clbrdrr\brdrnil \clpadl200 \clpadr200 \gaph\cellx4320
\clvertalt \clshdrawnil \clwWidth9921822\clftsWidth3 \clbrdrt\brdrnil \clbrdrl\brdrnil \clbrdrb\brdrnil \clbrdrr\brdrnil \clpadl200 \clpadr200 \gaph\cellx8640
\pard\intbl\itap1\pardeftab720\qr\partightenfactor0
\cf2 \cell 
\pard\intbl\itap1\pardeftab720\partightenfactor0
\cf2     \{\cell \row

\itap1\trowd \taflags1 \trgaph108\trleft-108 \trcbpat3 \trbrdrl\brdrnil \trbrdrr\brdrnil 
\clvertalt \clshdrawnil \clwWidth1000\clftsWidth3 \clminw1000 \clbrdrt\brdrnil \clbrdrl\brdrnil \clbrdrb\brdrnil \clbrdrr\brdrnil \clpadl200 \clpadr200 \gaph\cellx4320
\clvertalt \clshdrawnil \clwWidth9921822\clftsWidth3 \clbrdrt\brdrnil \clbrdrl\brdrnil \clbrdrb\brdrnil \clbrdrr\brdrnil \clpadl200 \clpadr200 \gaph\cellx8640
\pard\intbl\itap1\pardeftab720\qr\partightenfactor0
\cf2 \cell 
\pard\intbl\itap1\pardeftab720\partightenfactor0
\cf2      "data": \{\cell \row

\itap1\trowd \taflags1 \trgaph108\trleft-108 \trcbpat3 \trbrdrl\brdrnil \trbrdrr\brdrnil 
\clvertalt \clshdrawnil \clwWidth1000\clftsWidth3 \clminw1000 \clbrdrt\brdrnil \clbrdrl\brdrnil \clbrdrb\brdrnil \clbrdrr\brdrnil \clpadl200 \clpadr200 \gaph\cellx4320
\clvertalt \clshdrawnil \clwWidth9921822\clftsWidth3 \clbrdrt\brdrnil \clbrdrl\brdrnil \clbrdrb\brdrnil \clbrdrr\brdrnil \clpadl200 \clpadr200 \gaph\cellx8640
\pard\intbl\itap1\pardeftab720\qr\partightenfactor0
\cf2 \cell 
\pard\intbl\itap1\pardeftab720\partightenfactor0
\cf2       "image/png": "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\\n",\cell \row

\itap1\trowd \taflags1 \trgaph108\trleft-108 \trcbpat3 \trbrdrl\brdrnil \trbrdrr\brdrnil 
\clvertalt \clshdrawnil \clwWidth1000\clftsWidth3 \clminw1000 \clbrdrt\brdrnil \clbrdrl\brdrnil \clbrdrb\brdrnil \clbrdrr\brdrnil \clpadl200 \clpadr200 \gaph\cellx4320
\clvertalt \clshdrawnil \clwWidth9921822\clftsWidth3 \clbrdrt\brdrnil \clbrdrl\brdrnil \clbrdrb\brdrnil \clbrdrr\brdrnil \clpadl200 \clpadr200 \gaph\cellx8640
\pard\intbl\itap1\pardeftab720\qr\partightenfactor0
\cf2 \cell 
\pard\intbl\itap1\pardeftab720\partightenfactor0
\cf2       "text/plain": [\cell \row

\itap1\trowd \taflags1 \trgaph108\trleft-108 \trcbpat3 \trbrdrl\brdrnil \trbrdrr\brdrnil 
\clvertalt \clshdrawnil \clwWidth1000\clftsWidth3 \clminw1000 \clbrdrt\brdrnil \clbrdrl\brdrnil \clbrdrb\brdrnil \clbrdrr\brdrnil \clpadl200 \clpadr200 \gaph\cellx4320
\clvertalt \clshdrawnil \clwWidth9921822\clftsWidth3 \clbrdrt\brdrnil \clbrdrl\brdrnil \clbrdrb\brdrnil \clbrdrr\brdrnil \clpadl200 \clpadr200 \gaph\cellx8640
\pard\intbl\itap1\pardeftab720\qr\partightenfactor0
\cf2 \cell 
\pard\intbl\itap1\pardeftab720\partightenfactor0
\cf2        "<Figure size 432x288 with 1 Axes>"\cell \row

\itap1\trowd \taflags1 \trgaph108\trleft-108 \trcbpat3 \trbrdrl\brdrnil \trbrdrr\brdrnil 
\clvertalt \clshdrawnil \clwWidth1000\clftsWidth3 \clminw1000 \clbrdrt\brdrnil \clbrdrl\brdrnil \clbrdrb\brdrnil \clbrdrr\brdrnil \clpadl200 \clpadr200 \gaph\cellx4320
\clvertalt \clshdrawnil \clwWidth9921822\clftsWidth3 \clbrdrt\brdrnil \clbrdrl\brdrnil \clbrdrb\brdrnil \clbrdrr\brdrnil \clpadl200 \clpadr200 \gaph\cellx8640
\pard\intbl\itap1\pardeftab720\qr\partightenfactor0
\cf2 \cell 
\pard\intbl\itap1\pardeftab720\partightenfactor0
\cf2       ]\cell \row

\itap1\trowd \taflags1 \trgaph108\trleft-108 \trcbpat3 \trbrdrl\brdrnil \trbrdrr\brdrnil 
\clvertalt \clshdrawnil \clwWidth1000\clftsWidth3 \clminw1000 \clbrdrt\brdrnil \clbrdrl\brdrnil \clbrdrb\brdrnil \clbrdrr\brdrnil \clpadl200 \clpadr200 \gaph\cellx4320
\clvertalt \clshdrawnil \clwWidth9921822\clftsWidth3 \clbrdrt\brdrnil \clbrdrl\brdrnil \clbrdrb\brdrnil \clbrdrr\brdrnil \clpadl200 \clpadr200 \gaph\cellx8640
\pard\intbl\itap1\pardeftab720\qr\partightenfactor0
\cf2 \cell 
\pard\intbl\itap1\pardeftab720\partightenfactor0
\cf2      \},\cell \row

\itap1\trowd \taflags1 \trgaph108\trleft-108 \trcbpat3 \trbrdrl\brdrnil \trbrdrr\brdrnil 
\clvertalt \clshdrawnil \clwWidth1000\clftsWidth3 \clminw1000 \clbrdrt\brdrnil \clbrdrl\brdrnil \clbrdrb\brdrnil \clbrdrr\brdrnil \clpadl200 \clpadr200 \gaph\cellx4320
\clvertalt \clshdrawnil \clwWidth9921822\clftsWidth3 \clbrdrt\brdrnil \clbrdrl\brdrnil \clbrdrb\brdrnil \clbrdrr\brdrnil \clpadl200 \clpadr200 \gaph\cellx8640
\pard\intbl\itap1\pardeftab720\qr\partightenfactor0
\cf2 \cell 
\pard\intbl\itap1\pardeftab720\partightenfactor0
\cf2      "metadata": \{\cell \row

\itap1\trowd \taflags1 \trgaph108\trleft-108 \trcbpat3 \trbrdrl\brdrnil \trbrdrr\brdrnil 
\clvertalt \clshdrawnil \clwWidth1000\clftsWidth3 \clminw1000 \clbrdrt\brdrnil \clbrdrl\brdrnil \clbrdrb\brdrnil \clbrdrr\brdrnil \clpadl200 \clpadr200 \gaph\cellx4320
\clvertalt \clshdrawnil \clwWidth9921822\clftsWidth3 \clbrdrt\brdrnil \clbrdrl\brdrnil \clbrdrb\brdrnil \clbrdrr\brdrnil \clpadl200 \clpadr200 \gaph\cellx8640
\pard\intbl\itap1\pardeftab720\qr\partightenfactor0
\cf2 \cell 
\pard\intbl\itap1\pardeftab720\partightenfactor0
\cf2       "needs_background": "light"\cell \row

\itap1\trowd \taflags1 \trgaph108\trleft-108 \trcbpat3 \trbrdrl\brdrnil \trbrdrr\brdrnil 
\clvertalt \clshdrawnil \clwWidth1000\clftsWidth3 \clminw1000 \clbrdrt\brdrnil \clbrdrl\brdrnil \clbrdrb\brdrnil \clbrdrr\brdrnil \clpadl200 \clpadr200 \gaph\cellx4320
\clvertalt \clshdrawnil \clwWidth9921822\clftsWidth3 \clbrdrt\brdrnil \clbrdrl\brdrnil \clbrdrb\brdrnil \clbrdrr\brdrnil \clpadl200 \clpadr200 \gaph\cellx8640
\pard\intbl\itap1\pardeftab720\qr\partightenfactor0
\cf2 \cell 
\pard\intbl\itap1\pardeftab720\partightenfactor0
\cf2      \},\cell \row

\itap1\trowd \taflags1 \trgaph108\trleft-108 \trcbpat3 \trbrdrl\brdrnil \trbrdrr\brdrnil 
\clvertalt \clshdrawnil \clwWidth1000\clftsWidth3 \clminw1000 \clbrdrt\brdrnil \clbrdrl\brdrnil \clbrdrb\brdrnil \clbrdrr\brdrnil \clpadl200 \clpadr200 \gaph\cellx4320
\clvertalt \clshdrawnil \clwWidth9921822\clftsWidth3 \clbrdrt\brdrnil \clbrdrl\brdrnil \clbrdrb\brdrnil \clbrdrr\brdrnil \clpadl200 \clpadr200 \gaph\cellx8640
\pard\intbl\itap1\pardeftab720\qr\partightenfactor0
\cf2 \cell 
\pard\intbl\itap1\pardeftab720\partightenfactor0
\cf2      "output_type": "display_data"\cell \row

\itap1\trowd \taflags1 \trgaph108\trleft-108 \trcbpat3 \trbrdrl\brdrnil \trbrdrr\brdrnil 
\clvertalt \clshdrawnil \clwWidth1000\clftsWidth3 \clminw1000 \clbrdrt\brdrnil \clbrdrl\brdrnil \clbrdrb\brdrnil \clbrdrr\brdrnil \clpadl200 \clpadr200 \gaph\cellx4320
\clvertalt \clshdrawnil \clwWidth9921822\clftsWidth3 \clbrdrt\brdrnil \clbrdrl\brdrnil \clbrdrb\brdrnil \clbrdrr\brdrnil \clpadl200 \clpadr200 \gaph\cellx8640
\pard\intbl\itap1\pardeftab720\qr\partightenfactor0
\cf2 \cell 
\pard\intbl\itap1\pardeftab720\partightenfactor0
\cf2     \},\cell \row

\itap1\trowd \taflags1 \trgaph108\trleft-108 \trcbpat3 \trbrdrl\brdrnil \trbrdrr\brdrnil 
\clvertalt \clshdrawnil \clwWidth1000\clftsWidth3 \clminw1000 \clbrdrt\brdrnil \clbrdrl\brdrnil \clbrdrb\brdrnil \clbrdrr\brdrnil \clpadl200 \clpadr200 \gaph\cellx4320
\clvertalt \clshdrawnil \clwWidth9921822\clftsWidth3 \clbrdrt\brdrnil \clbrdrl\brdrnil \clbrdrb\brdrnil \clbrdrr\brdrnil \clpadl200 \clpadr200 \gaph\cellx8640
\pard\intbl\itap1\pardeftab720\qr\partightenfactor0
\cf2 \cell 
\pard\intbl\itap1\pardeftab720\partightenfactor0
\cf2     \{\cell \row

\itap1\trowd \taflags1 \trgaph108\trleft-108 \trcbpat3 \trbrdrl\brdrnil \trbrdrr\brdrnil 
\clvertalt \clshdrawnil \clwWidth1000\clftsWidth3 \clminw1000 \clbrdrt\brdrnil \clbrdrl\brdrnil \clbrdrb\brdrnil \clbrdrr\brdrnil \clpadl200 \clpadr200 \gaph\cellx4320
\clvertalt \clshdrawnil \clwWidth9921822\clftsWidth3 \clbrdrt\brdrnil \clbrdrl\brdrnil \clbrdrb\brdrnil \clbrdrr\brdrnil \clpadl200 \clpadr200 \gaph\cellx8640
\pard\intbl\itap1\pardeftab720\qr\partightenfactor0
\cf2 \cell 
\pard\intbl\itap1\pardeftab720\partightenfactor0
\cf2      "data": \{\cell \row

\itap1\trowd \taflags1 \trgaph108\trleft-108 \trcbpat3 \trbrdrl\brdrnil \trbrdrr\brdrnil 
\clvertalt \clshdrawnil \clwWidth1000\clftsWidth3 \clminw1000 \clbrdrt\brdrnil \clbrdrl\brdrnil \clbrdrb\brdrnil \clbrdrr\brdrnil \clpadl200 \clpadr200 \gaph\cellx4320
\clvertalt \clshdrawnil \clwWidth9921822\clftsWidth3 \clbrdrt\brdrnil \clbrdrl\brdrnil \clbrdrb\brdrnil \clbrdrr\brdrnil \clpadl200 \clpadr200 \gaph\cellx8640
\pard\intbl\itap1\pardeftab720\qr\partightenfactor0
\cf2 \cell 
\pard\intbl\itap1\pardeftab720\partightenfactor0
\cf2       "image/png": "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\\n",\cell \row

\itap1\trowd \taflags1 \trgaph108\trleft-108 \trcbpat3 \trbrdrl\brdrnil \trbrdrr\brdrnil 
\clvertalt \clshdrawnil \clwWidth1000\clftsWidth3 \clminw1000 \clbrdrt\brdrnil \clbrdrl\brdrnil \clbrdrb\brdrnil \clbrdrr\brdrnil \clpadl200 \clpadr200 \gaph\cellx4320
\clvertalt \clshdrawnil \clwWidth9921822\clftsWidth3 \clbrdrt\brdrnil \clbrdrl\brdrnil \clbrdrb\brdrnil \clbrdrr\brdrnil \clpadl200 \clpadr200 \gaph\cellx8640
\pard\intbl\itap1\pardeftab720\qr\partightenfactor0
\cf2 \cell 
\pard\intbl\itap1\pardeftab720\partightenfactor0
\cf2       "text/plain": [\cell \row

\itap1\trowd \taflags1 \trgaph108\trleft-108 \trcbpat3 \trbrdrl\brdrnil \trbrdrr\brdrnil 
\clvertalt \clshdrawnil \clwWidth1000\clftsWidth3 \clminw1000 \clbrdrt\brdrnil \clbrdrl\brdrnil \clbrdrb\brdrnil \clbrdrr\brdrnil \clpadl200 \clpadr200 \gaph\cellx4320
\clvertalt \clshdrawnil \clwWidth9921822\clftsWidth3 \clbrdrt\brdrnil \clbrdrl\brdrnil \clbrdrb\brdrnil \clbrdrr\brdrnil \clpadl200 \clpadr200 \gaph\cellx8640
\pard\intbl\itap1\pardeftab720\qr\partightenfactor0
\cf2 \cell 
\pard\intbl\itap1\pardeftab720\partightenfactor0
\cf2        "<Figure size 432x288 with 1 Axes>"\cell \row

\itap1\trowd \taflags1 \trgaph108\trleft-108 \trcbpat3 \trbrdrl\brdrnil \trbrdrr\brdrnil 
\clvertalt \clshdrawnil \clwWidth1000\clftsWidth3 \clminw1000 \clbrdrt\brdrnil \clbrdrl\brdrnil \clbrdrb\brdrnil \clbrdrr\brdrnil \clpadl200 \clpadr200 \gaph\cellx4320
\clvertalt \clshdrawnil \clwWidth9921822\clftsWidth3 \clbrdrt\brdrnil \clbrdrl\brdrnil \clbrdrb\brdrnil \clbrdrr\brdrnil \clpadl200 \clpadr200 \gaph\cellx8640
\pard\intbl\itap1\pardeftab720\qr\partightenfactor0
\cf2 \cell 
\pard\intbl\itap1\pardeftab720\partightenfactor0
\cf2       ]\cell \row

\itap1\trowd \taflags1 \trgaph108\trleft-108 \trcbpat3 \trbrdrl\brdrnil \trbrdrr\brdrnil 
\clvertalt \clshdrawnil \clwWidth1000\clftsWidth3 \clminw1000 \clbrdrt\brdrnil \clbrdrl\brdrnil \clbrdrb\brdrnil \clbrdrr\brdrnil \clpadl200 \clpadr200 \gaph\cellx4320
\clvertalt \clshdrawnil \clwWidth9921822\clftsWidth3 \clbrdrt\brdrnil \clbrdrl\brdrnil \clbrdrb\brdrnil \clbrdrr\brdrnil \clpadl200 \clpadr200 \gaph\cellx8640
\pard\intbl\itap1\pardeftab720\qr\partightenfactor0
\cf2 \cell 
\pard\intbl\itap1\pardeftab720\partightenfactor0
\cf2      \},\cell \row

\itap1\trowd \taflags1 \trgaph108\trleft-108 \trcbpat3 \trbrdrl\brdrnil \trbrdrr\brdrnil 
\clvertalt \clshdrawnil \clwWidth1000\clftsWidth3 \clminw1000 \clbrdrt\brdrnil \clbrdrl\brdrnil \clbrdrb\brdrnil \clbrdrr\brdrnil \clpadl200 \clpadr200 \gaph\cellx4320
\clvertalt \clshdrawnil \clwWidth9921822\clftsWidth3 \clbrdrt\brdrnil \clbrdrl\brdrnil \clbrdrb\brdrnil \clbrdrr\brdrnil \clpadl200 \clpadr200 \gaph\cellx8640
\pard\intbl\itap1\pardeftab720\qr\partightenfactor0
\cf2 \cell 
\pard\intbl\itap1\pardeftab720\partightenfactor0
\cf2      "metadata": \{\cell \row

\itap1\trowd \taflags1 \trgaph108\trleft-108 \trcbpat3 \trbrdrl\brdrnil \trbrdrr\brdrnil 
\clvertalt \clshdrawnil \clwWidth1000\clftsWidth3 \clminw1000 \clbrdrt\brdrnil \clbrdrl\brdrnil \clbrdrb\brdrnil \clbrdrr\brdrnil \clpadl200 \clpadr200 \gaph\cellx4320
\clvertalt \clshdrawnil \clwWidth9921822\clftsWidth3 \clbrdrt\brdrnil \clbrdrl\brdrnil \clbrdrb\brdrnil \clbrdrr\brdrnil \clpadl200 \clpadr200 \gaph\cellx8640
\pard\intbl\itap1\pardeftab720\qr\partightenfactor0
\cf2 \cell 
\pard\intbl\itap1\pardeftab720\partightenfactor0
\cf2       "needs_background": "light"\cell \row

\itap1\trowd \taflags1 \trgaph108\trleft-108 \trcbpat3 \trbrdrl\brdrnil \trbrdrr\brdrnil 
\clvertalt \clshdrawnil \clwWidth1000\clftsWidth3 \clminw1000 \clbrdrt\brdrnil \clbrdrl\brdrnil \clbrdrb\brdrnil \clbrdrr\brdrnil \clpadl200 \clpadr200 \gaph\cellx4320
\clvertalt \clshdrawnil \clwWidth9921822\clftsWidth3 \clbrdrt\brdrnil \clbrdrl\brdrnil \clbrdrb\brdrnil \clbrdrr\brdrnil \clpadl200 \clpadr200 \gaph\cellx8640
\pard\intbl\itap1\pardeftab720\qr\partightenfactor0
\cf2 \cell 
\pard\intbl\itap1\pardeftab720\partightenfactor0
\cf2      \},\cell \row

\itap1\trowd \taflags1 \trgaph108\trleft-108 \trcbpat3 \trbrdrl\brdrnil \trbrdrr\brdrnil 
\clvertalt \clshdrawnil \clwWidth1000\clftsWidth3 \clminw1000 \clbrdrt\brdrnil \clbrdrl\brdrnil \clbrdrb\brdrnil \clbrdrr\brdrnil \clpadl200 \clpadr200 \gaph\cellx4320
\clvertalt \clshdrawnil \clwWidth9921822\clftsWidth3 \clbrdrt\brdrnil \clbrdrl\brdrnil \clbrdrb\brdrnil \clbrdrr\brdrnil \clpadl200 \clpadr200 \gaph\cellx8640
\pard\intbl\itap1\pardeftab720\qr\partightenfactor0
\cf2 \cell 
\pard\intbl\itap1\pardeftab720\partightenfactor0
\cf2      "output_type": "display_data"\cell \row

\itap1\trowd \taflags1 \trgaph108\trleft-108 \trcbpat3 \trbrdrl\brdrnil \trbrdrr\brdrnil 
\clvertalt \clshdrawnil \clwWidth1000\clftsWidth3 \clminw1000 \clbrdrt\brdrnil \clbrdrl\brdrnil \clbrdrb\brdrnil \clbrdrr\brdrnil \clpadl200 \clpadr200 \gaph\cellx4320
\clvertalt \clshdrawnil \clwWidth9921822\clftsWidth3 \clbrdrt\brdrnil \clbrdrl\brdrnil \clbrdrb\brdrnil \clbrdrr\brdrnil \clpadl200 \clpadr200 \gaph\cellx8640
\pard\intbl\itap1\pardeftab720\qr\partightenfactor0
\cf2 \cell 
\pard\intbl\itap1\pardeftab720\partightenfactor0
\cf2     \}\cell \row

\itap1\trowd \taflags1 \trgaph108\trleft-108 \trcbpat3 \trbrdrl\brdrnil \trbrdrr\brdrnil 
\clvertalt \clshdrawnil \clwWidth1000\clftsWidth3 \clminw1000 \clbrdrt\brdrnil \clbrdrl\brdrnil \clbrdrb\brdrnil \clbrdrr\brdrnil \clpadl200 \clpadr200 \gaph\cellx4320
\clvertalt \clshdrawnil \clwWidth9921822\clftsWidth3 \clbrdrt\brdrnil \clbrdrl\brdrnil \clbrdrb\brdrnil \clbrdrr\brdrnil \clpadl200 \clpadr200 \gaph\cellx8640
\pard\intbl\itap1\pardeftab720\qr\partightenfactor0
\cf2 \cell 
\pard\intbl\itap1\pardeftab720\partightenfactor0
\cf2    ],\cell \row

\itap1\trowd \taflags1 \trgaph108\trleft-108 \trcbpat3 \trbrdrl\brdrnil \trbrdrr\brdrnil 
\clvertalt \clshdrawnil \clwWidth1000\clftsWidth3 \clminw1000 \clbrdrt\brdrnil \clbrdrl\brdrnil \clbrdrb\brdrnil \clbrdrr\brdrnil \clpadl200 \clpadr200 \gaph\cellx4320
\clvertalt \clshdrawnil \clwWidth9921822\clftsWidth3 \clbrdrt\brdrnil \clbrdrl\brdrnil \clbrdrb\brdrnil \clbrdrr\brdrnil \clpadl200 \clpadr200 \gaph\cellx8640
\pard\intbl\itap1\pardeftab720\qr\partightenfactor0
\cf2 \cell 
\pard\intbl\itap1\pardeftab720\partightenfactor0
\cf2    "source": [\cell \row

\itap1\trowd \taflags1 \trgaph108\trleft-108 \trcbpat3 \trbrdrl\brdrnil \trbrdrr\brdrnil 
\clvertalt \clshdrawnil \clwWidth1000\clftsWidth3 \clminw1000 \clbrdrt\brdrnil \clbrdrl\brdrnil \clbrdrb\brdrnil \clbrdrr\brdrnil \clpadl200 \clpadr200 \gaph\cellx4320
\clvertalt \clshdrawnil \clwWidth9921822\clftsWidth3 \clbrdrt\brdrnil \clbrdrl\brdrnil \clbrdrb\brdrnil \clbrdrr\brdrnil \clpadl200 \clpadr200 \gaph\cellx8640
\pard\intbl\itap1\pardeftab720\qr\partightenfactor0
\cf2 \cell 
\pard\intbl\itap1\pardeftab720\partightenfactor0
\cf2     "vidcap = cv2.VideoCapture(vid_dir_path + \\"vid0_vid0_p0-0_40fps.mp4\\")\\n",\cell \row

\itap1\trowd \taflags1 \trgaph108\trleft-108 \trcbpat3 \trbrdrl\brdrnil \trbrdrr\brdrnil 
\clvertalt \clshdrawnil \clwWidth1000\clftsWidth3 \clminw1000 \clbrdrt\brdrnil \clbrdrl\brdrnil \clbrdrb\brdrnil \clbrdrr\brdrnil \clpadl200 \clpadr200 \gaph\cellx4320
\clvertalt \clshdrawnil \clwWidth9921822\clftsWidth3 \clbrdrt\brdrnil \clbrdrl\brdrnil \clbrdrb\brdrnil \clbrdrr\brdrnil \clpadl200 \clpadr200 \gaph\cellx8640
\pard\intbl\itap1\pardeftab720\qr\partightenfactor0
\cf2 \cell 
\pard\intbl\itap1\pardeftab720\partightenfactor0
\cf2     "for i in range(1):\\n",\cell \row

\itap1\trowd \taflags1 \trgaph108\trleft-108 \trcbpat3 \trbrdrl\brdrnil \trbrdrr\brdrnil 
\clvertalt \clshdrawnil \clwWidth1000\clftsWidth3 \clminw1000 \clbrdrt\brdrnil \clbrdrl\brdrnil \clbrdrb\brdrnil \clbrdrr\brdrnil \clpadl200 \clpadr200 \gaph\cellx4320
\clvertalt \clshdrawnil \clwWidth9921822\clftsWidth3 \clbrdrt\brdrnil \clbrdrl\brdrnil \clbrdrb\brdrnil \clbrdrr\brdrnil \clpadl200 \clpadr200 \gaph\cellx8640
\pard\intbl\itap1\pardeftab720\qr\partightenfactor0
\cf2 \cell 
\pard\intbl\itap1\pardeftab720\partightenfactor0
\cf2     "    success,im_full = vidcap.read()\\n",\cell \row

\itap1\trowd \taflags1 \trgaph108\trleft-108 \trcbpat3 \trbrdrl\brdrnil \trbrdrr\brdrnil 
\clvertalt \clshdrawnil \clwWidth1000\clftsWidth3 \clminw1000 \clbrdrt\brdrnil \clbrdrl\brdrnil \clbrdrb\brdrnil \clbrdrr\brdrnil \clpadl200 \clpadr200 \gaph\cellx4320
\clvertalt \clshdrawnil \clwWidth9921822\clftsWidth3 \clbrdrt\brdrnil \clbrdrl\brdrnil \clbrdrb\brdrnil \clbrdrr\brdrnil \clpadl200 \clpadr200 \gaph\cellx8640
\pard\intbl\itap1\pardeftab720\qr\partightenfactor0
\cf2 \cell 
\pard\intbl\itap1\pardeftab720\partightenfactor0
\cf2     "\\n",\cell \row

\itap1\trowd \taflags1 \trgaph108\trleft-108 \trcbpat3 \trbrdrl\brdrnil \trbrdrr\brdrnil 
\clvertalt \clshdrawnil \clwWidth1000\clftsWidth3 \clminw1000 \clbrdrt\brdrnil \clbrdrl\brdrnil \clbrdrb\brdrnil \clbrdrr\brdrnil \clpadl200 \clpadr200 \gaph\cellx4320
\clvertalt \clshdrawnil \clwWidth9921822\clftsWidth3 \clbrdrt\brdrnil \clbrdrl\brdrnil \clbrdrb\brdrnil \clbrdrr\brdrnil \clpadl200 \clpadr200 \gaph\cellx8640
\pard\intbl\itap1\pardeftab720\qr\partightenfactor0
\cf2 \cell 
\pard\intbl\itap1\pardeftab720\partightenfactor0
\cf2     "im_full_gray = cv2.cvtColor(im_full, cv2.COLOR_BGR2GRAY)\\n",\cell \row

\itap1\trowd \taflags1 \trgaph108\trleft-108 \trcbpat3 \trbrdrl\brdrnil \trbrdrr\brdrnil 
\clvertalt \clshdrawnil \clwWidth1000\clftsWidth3 \clminw1000 \clbrdrt\brdrnil \clbrdrl\brdrnil \clbrdrb\brdrnil \clbrdrr\brdrnil \clpadl200 \clpadr200 \gaph\cellx4320
\clvertalt \clshdrawnil \clwWidth9921822\clftsWidth3 \clbrdrt\brdrnil \clbrdrl\brdrnil \clbrdrb\brdrnil \clbrdrr\brdrnil \clpadl200 \clpadr200 \gaph\cellx8640
\pard\intbl\itap1\pardeftab720\qr\partightenfactor0
\cf2 \cell 
\pard\intbl\itap1\pardeftab720\partightenfactor0
\cf2     "\\n",\cell \row

\itap1\trowd \taflags1 \trgaph108\trleft-108 \trcbpat3 \trbrdrl\brdrnil \trbrdrr\brdrnil 
\clvertalt \clshdrawnil \clwWidth1000\clftsWidth3 \clminw1000 \clbrdrt\brdrnil \clbrdrl\brdrnil \clbrdrb\brdrnil \clbrdrr\brdrnil \clpadl200 \clpadr200 \gaph\cellx4320
\clvertalt \clshdrawnil \clwWidth9921822\clftsWidth3 \clbrdrt\brdrnil \clbrdrl\brdrnil \clbrdrb\brdrnil \clbrdrr\brdrnil \clpadl200 \clpadr200 \gaph\cellx8640
\pard\intbl\itap1\pardeftab720\qr\partightenfactor0
\cf2 \cell 
\pard\intbl\itap1\pardeftab720\partightenfactor0
\cf2     "plt.figure()\\n",\cell \row

\itap1\trowd \taflags1 \trgaph108\trleft-108 \trcbpat3 \trbrdrl\brdrnil \trbrdrr\brdrnil 
\clvertalt \clshdrawnil \clwWidth1000\clftsWidth3 \clminw1000 \clbrdrt\brdrnil \clbrdrl\brdrnil \clbrdrb\brdrnil \clbrdrr\brdrnil \clpadl200 \clpadr200 \gaph\cellx4320
\clvertalt \clshdrawnil \clwWidth9921822\clftsWidth3 \clbrdrt\brdrnil \clbrdrl\brdrnil \clbrdrb\brdrnil \clbrdrr\brdrnil \clpadl200 \clpadr200 \gaph\cellx8640
\pard\intbl\itap1\pardeftab720\qr\partightenfactor0
\cf2 \cell 
\pard\intbl\itap1\pardeftab720\partightenfactor0
\cf2     "plt.imshow(im_full_gray, cmap='gray', vmin=0, vmax=255)\\n",\cell \row

\itap1\trowd \taflags1 \trgaph108\trleft-108 \trcbpat3 \trbrdrl\brdrnil \trbrdrr\brdrnil 
\clvertalt \clshdrawnil \clwWidth1000\clftsWidth3 \clminw1000 \clbrdrt\brdrnil \clbrdrl\brdrnil \clbrdrb\brdrnil \clbrdrr\brdrnil \clpadl200 \clpadr200 \gaph\cellx4320
\clvertalt \clshdrawnil \clwWidth9921822\clftsWidth3 \clbrdrt\brdrnil \clbrdrl\brdrnil \clbrdrb\brdrnil \clbrdrr\brdrnil \clpadl200 \clpadr200 \gaph\cellx8640
\pard\intbl\itap1\pardeftab720\qr\partightenfactor0
\cf2 \cell 
\pard\intbl\itap1\pardeftab720\partightenfactor0
\cf2     "\\n",\cell \row

\itap1\trowd \taflags1 \trgaph108\trleft-108 \trcbpat3 \trbrdrl\brdrnil \trbrdrr\brdrnil 
\clvertalt \clshdrawnil \clwWidth1000\clftsWidth3 \clminw1000 \clbrdrt\brdrnil \clbrdrl\brdrnil \clbrdrb\brdrnil \clbrdrr\brdrnil \clpadl200 \clpadr200 \gaph\cellx4320
\clvertalt \clshdrawnil \clwWidth9921822\clftsWidth3 \clbrdrt\brdrnil \clbrdrl\brdrnil \clbrdrb\brdrnil \clbrdrr\brdrnil \clpadl200 \clpadr200 \gaph\cellx8640
\pard\intbl\itap1\pardeftab720\qr\partightenfactor0
\cf2 \cell 
\pard\intbl\itap1\pardeftab720\partightenfactor0
\cf2     "im_full_gray_resized = cv2.resize(im_full_gray, (int(im_full_gray.shape[1]/rescaling_factor), \\n",\cell \row

\itap1\trowd \taflags1 \trgaph108\trleft-108 \trcbpat3 \trbrdrl\brdrnil \trbrdrr\brdrnil 
\clvertalt \clshdrawnil \clwWidth1000\clftsWidth3 \clminw1000 \clbrdrt\brdrnil \clbrdrl\brdrnil \clbrdrb\brdrnil \clbrdrr\brdrnil \clpadl200 \clpadr200 \gaph\cellx4320
\clvertalt \clshdrawnil \clwWidth9921822\clftsWidth3 \clbrdrt\brdrnil \clbrdrl\brdrnil \clbrdrb\brdrnil \clbrdrr\brdrnil \clpadl200 \clpadr200 \gaph\cellx8640
\pard\intbl\itap1\pardeftab720\qr\partightenfactor0
\cf2 \cell 
\pard\intbl\itap1\pardeftab720\partightenfactor0
\cf2     "                                       int(im_full_gray.shape[0]/rescaling_factor)), \\n",\cell \row

\itap1\trowd \taflags1 \trgaph108\trleft-108 \trcbpat3 \trbrdrl\brdrnil \trbrdrr\brdrnil 
\clvertalt \clshdrawnil \clwWidth1000\clftsWidth3 \clminw1000 \clbrdrt\brdrnil \clbrdrl\brdrnil \clbrdrb\brdrnil \clbrdrr\brdrnil \clpadl200 \clpadr200 \gaph\cellx4320
\clvertalt \clshdrawnil \clwWidth9921822\clftsWidth3 \clbrdrt\brdrnil \clbrdrl\brdrnil \clbrdrb\brdrnil \clbrdrr\brdrnil \clpadl200 \clpadr200 \gaph\cellx8640
\pard\intbl\itap1\pardeftab720\qr\partightenfactor0
\cf2 \cell 
\pard\intbl\itap1\pardeftab720\partightenfactor0
\cf2     "                            interpolation = cv2.INTER_AREA)\\n",\cell \row

\itap1\trowd \taflags1 \trgaph108\trleft-108 \trcbpat3 \trbrdrl\brdrnil \trbrdrr\brdrnil 
\clvertalt \clshdrawnil \clwWidth1000\clftsWidth3 \clminw1000 \clbrdrt\brdrnil \clbrdrl\brdrnil \clbrdrb\brdrnil \clbrdrr\brdrnil \clpadl200 \clpadr200 \gaph\cellx4320
\clvertalt \clshdrawnil \clwWidth9921822\clftsWidth3 \clbrdrt\brdrnil \clbrdrl\brdrnil \clbrdrb\brdrnil \clbrdrr\brdrnil \clpadl200 \clpadr200 \gaph\cellx8640
\pard\intbl\itap1\pardeftab720\qr\partightenfactor0
\cf2 \cell 
\pard\intbl\itap1\pardeftab720\partightenfactor0
\cf2     "\\n",\cell \row

\itap1\trowd \taflags1 \trgaph108\trleft-108 \trcbpat3 \trbrdrl\brdrnil \trbrdrr\brdrnil 
\clvertalt \clshdrawnil \clwWidth1000\clftsWidth3 \clminw1000 \clbrdrt\brdrnil \clbrdrl\brdrnil \clbrdrb\brdrnil \clbrdrr\brdrnil \clpadl200 \clpadr200 \gaph\cellx4320
\clvertalt \clshdrawnil \clwWidth9921822\clftsWidth3 \clbrdrt\brdrnil \clbrdrl\brdrnil \clbrdrb\brdrnil \clbrdrr\brdrnil \clpadl200 \clpadr200 \gaph\cellx8640
\pard\intbl\itap1\pardeftab720\qr\partightenfactor0
\cf2 \cell 
\pard\intbl\itap1\pardeftab720\partightenfactor0
\cf2     "plt.figure()\\n",\cell \row

\itap1\trowd \taflags1 \trgaph108\trleft-108 \trcbpat3 \trbrdrl\brdrnil \trbrdrr\brdrnil 
\clvertalt \clshdrawnil \clwWidth1000\clftsWidth3 \clminw1000 \clbrdrt\brdrnil \clbrdrl\brdrnil \clbrdrb\brdrnil \clbrdrr\brdrnil \clpadl200 \clpadr200 \gaph\cellx4320
\clvertalt \clshdrawnil \clwWidth9921822\clftsWidth3 \clbrdrt\brdrnil \clbrdrl\brdrnil \clbrdrb\brdrnil \clbrdrr\brdrnil \clpadl200 \clpadr200 \gaph\cellx8640
\pard\intbl\itap1\pardeftab720\qr\partightenfactor0
\cf2 \cell 
\pard\intbl\itap1\pardeftab720\partightenfactor0
\cf2     "plt.imshow(im_full_gray_resized, cmap='gray', vmin=0, vmax=255)"\cell \row

\itap1\trowd \taflags1 \trgaph108\trleft-108 \trcbpat3 \trbrdrl\brdrnil \trbrdrr\brdrnil 
\clvertalt \clshdrawnil \clwWidth1000\clftsWidth3 \clminw1000 \clbrdrt\brdrnil \clbrdrl\brdrnil \clbrdrb\brdrnil \clbrdrr\brdrnil \clpadl200 \clpadr200 \gaph\cellx4320
\clvertalt \clshdrawnil \clwWidth9921822\clftsWidth3 \clbrdrt\brdrnil \clbrdrl\brdrnil \clbrdrb\brdrnil \clbrdrr\brdrnil \clpadl200 \clpadr200 \gaph\cellx8640
\pard\intbl\itap1\pardeftab720\qr\partightenfactor0
\cf2 \cell 
\pard\intbl\itap1\pardeftab720\partightenfactor0
\cf2    ]\cell \row

\itap1\trowd \taflags1 \trgaph108\trleft-108 \trcbpat3 \trbrdrl\brdrnil \trbrdrr\brdrnil 
\clvertalt \clshdrawnil \clwWidth1000\clftsWidth3 \clminw1000 \clbrdrt\brdrnil \clbrdrl\brdrnil \clbrdrb\brdrnil \clbrdrr\brdrnil \clpadl200 \clpadr200 \gaph\cellx4320
\clvertalt \clshdrawnil \clwWidth9921822\clftsWidth3 \clbrdrt\brdrnil \clbrdrl\brdrnil \clbrdrb\brdrnil \clbrdrr\brdrnil \clpadl200 \clpadr200 \gaph\cellx8640
\pard\intbl\itap1\pardeftab720\qr\partightenfactor0
\cf2 \cell 
\pard\intbl\itap1\pardeftab720\partightenfactor0
\cf2   \},\cell \row

\itap1\trowd \taflags1 \trgaph108\trleft-108 \trcbpat3 \trbrdrl\brdrnil \trbrdrr\brdrnil 
\clvertalt \clshdrawnil \clwWidth1000\clftsWidth3 \clminw1000 \clbrdrt\brdrnil \clbrdrl\brdrnil \clbrdrb\brdrnil \clbrdrr\brdrnil \clpadl200 \clpadr200 \gaph\cellx4320
\clvertalt \clshdrawnil \clwWidth9921822\clftsWidth3 \clbrdrt\brdrnil \clbrdrl\brdrnil \clbrdrb\brdrnil \clbrdrr\brdrnil \clpadl200 \clpadr200 \gaph\cellx8640
\pard\intbl\itap1\pardeftab720\qr\partightenfactor0
\cf2 \cell 
\pard\intbl\itap1\pardeftab720\partightenfactor0
\cf2   \{\cell \row

\itap1\trowd \taflags1 \trgaph108\trleft-108 \trcbpat3 \trbrdrl\brdrnil \trbrdrr\brdrnil 
\clvertalt \clshdrawnil \clwWidth1000\clftsWidth3 \clminw1000 \clbrdrt\brdrnil \clbrdrl\brdrnil \clbrdrb\brdrnil \clbrdrr\brdrnil \clpadl200 \clpadr200 \gaph\cellx4320
\clvertalt \clshdrawnil \clwWidth9921822\clftsWidth3 \clbrdrt\brdrnil \clbrdrl\brdrnil \clbrdrb\brdrnil \clbrdrr\brdrnil \clpadl200 \clpadr200 \gaph\cellx8640
\pard\intbl\itap1\pardeftab720\qr\partightenfactor0
\cf2 \cell 
\pard\intbl\itap1\pardeftab720\partightenfactor0
\cf2    "cell_type": "markdown",\cell \row

\itap1\trowd \taflags1 \trgaph108\trleft-108 \trcbpat3 \trbrdrl\brdrnil \trbrdrr\brdrnil 
\clvertalt \clshdrawnil \clwWidth1000\clftsWidth3 \clminw1000 \clbrdrt\brdrnil \clbrdrl\brdrnil \clbrdrb\brdrnil \clbrdrr\brdrnil \clpadl200 \clpadr200 \gaph\cellx4320
\clvertalt \clshdrawnil \clwWidth9921822\clftsWidth3 \clbrdrt\brdrnil \clbrdrl\brdrnil \clbrdrb\brdrnil \clbrdrr\brdrnil \clpadl200 \clpadr200 \gaph\cellx8640
\pard\intbl\itap1\pardeftab720\qr\partightenfactor0
\cf2 \cell 
\pard\intbl\itap1\pardeftab720\partightenfactor0
\cf2    "metadata": \{\},\cell \row

\itap1\trowd \taflags1 \trgaph108\trleft-108 \trcbpat3 \trbrdrl\brdrnil \trbrdrr\brdrnil 
\clvertalt \clshdrawnil \clwWidth1000\clftsWidth3 \clminw1000 \clbrdrt\brdrnil \clbrdrl\brdrnil \clbrdrb\brdrnil \clbrdrr\brdrnil \clpadl200 \clpadr200 \gaph\cellx4320
\clvertalt \clshdrawnil \clwWidth9921822\clftsWidth3 \clbrdrt\brdrnil \clbrdrl\brdrnil \clbrdrb\brdrnil \clbrdrr\brdrnil \clpadl200 \clpadr200 \gaph\cellx8640
\pard\intbl\itap1\pardeftab720\qr\partightenfactor0
\cf2 \cell 
\pard\intbl\itap1\pardeftab720\partightenfactor0
\cf2    "source": [\cell \row

\itap1\trowd \taflags1 \trgaph108\trleft-108 \trcbpat3 \trbrdrl\brdrnil \trbrdrr\brdrnil 
\clvertalt \clshdrawnil \clwWidth1000\clftsWidth3 \clminw1000 \clbrdrt\brdrnil \clbrdrl\brdrnil \clbrdrb\brdrnil \clbrdrr\brdrnil \clpadl200 \clpadr200 \gaph\cellx4320
\clvertalt \clshdrawnil \clwWidth9921822\clftsWidth3 \clbrdrt\brdrnil \clbrdrl\brdrnil \clbrdrb\brdrnil \clbrdrr\brdrnil \clpadl200 \clpadr200 \gaph\cellx8640
\pard\intbl\itap1\pardeftab720\qr\partightenfactor0
\cf2 \cell 
\pard\intbl\itap1\pardeftab720\partightenfactor0
\cf2     "### 2.1.2 Generating background"\cell \row

\itap1\trowd \taflags1 \trgaph108\trleft-108 \trcbpat3 \trbrdrl\brdrnil \trbrdrr\brdrnil 
\clvertalt \clshdrawnil \clwWidth1000\clftsWidth3 \clminw1000 \clbrdrt\brdrnil \clbrdrl\brdrnil \clbrdrb\brdrnil \clbrdrr\brdrnil \clpadl200 \clpadr200 \gaph\cellx4320
\clvertalt \clshdrawnil \clwWidth9921822\clftsWidth3 \clbrdrt\brdrnil \clbrdrl\brdrnil \clbrdrb\brdrnil \clbrdrr\brdrnil \clpadl200 \clpadr200 \gaph\cellx8640
\pard\intbl\itap1\pardeftab720\qr\partightenfactor0
\cf2 \cell 
\pard\intbl\itap1\pardeftab720\partightenfactor0
\cf2    ]\cell \row

\itap1\trowd \taflags1 \trgaph108\trleft-108 \trcbpat3 \trbrdrl\brdrnil \trbrdrr\brdrnil 
\clvertalt \clshdrawnil \clwWidth1000\clftsWidth3 \clminw1000 \clbrdrt\brdrnil \clbrdrl\brdrnil \clbrdrb\brdrnil \clbrdrr\brdrnil \clpadl200 \clpadr200 \gaph\cellx4320
\clvertalt \clshdrawnil \clwWidth9921822\clftsWidth3 \clbrdrt\brdrnil \clbrdrl\brdrnil \clbrdrb\brdrnil \clbrdrr\brdrnil \clpadl200 \clpadr200 \gaph\cellx8640
\pard\intbl\itap1\pardeftab720\qr\partightenfactor0
\cf2 \cell 
\pard\intbl\itap1\pardeftab720\partightenfactor0
\cf2   \},\cell \row

\itap1\trowd \taflags1 \trgaph108\trleft-108 \trcbpat3 \trbrdrl\brdrnil \trbrdrr\brdrnil 
\clvertalt \clshdrawnil \clwWidth1000\clftsWidth3 \clminw1000 \clbrdrt\brdrnil \clbrdrl\brdrnil \clbrdrb\brdrnil \clbrdrr\brdrnil \clpadl200 \clpadr200 \gaph\cellx4320
\clvertalt \clshdrawnil \clwWidth9921822\clftsWidth3 \clbrdrt\brdrnil \clbrdrl\brdrnil \clbrdrb\brdrnil \clbrdrr\brdrnil \clpadl200 \clpadr200 \gaph\cellx8640
\pard\intbl\itap1\pardeftab720\qr\partightenfactor0
\cf2 \cell 
\pard\intbl\itap1\pardeftab720\partightenfactor0
\cf2   \{\cell \row

\itap1\trowd \taflags1 \trgaph108\trleft-108 \trcbpat3 \trbrdrl\brdrnil \trbrdrr\brdrnil 
\clvertalt \clshdrawnil \clwWidth1000\clftsWidth3 \clminw1000 \clbrdrt\brdrnil \clbrdrl\brdrnil \clbrdrb\brdrnil \clbrdrr\brdrnil \clpadl200 \clpadr200 \gaph\cellx4320
\clvertalt \clshdrawnil \clwWidth9921822\clftsWidth3 \clbrdrt\brdrnil \clbrdrl\brdrnil \clbrdrb\brdrnil \clbrdrr\brdrnil \clpadl200 \clpadr200 \gaph\cellx8640
\pard\intbl\itap1\pardeftab720\qr\partightenfactor0
\cf2 \cell 
\pard\intbl\itap1\pardeftab720\partightenfactor0
\cf2    "cell_type": "code",\cell \row

\itap1\trowd \taflags1 \trgaph108\trleft-108 \trcbpat3 \trbrdrl\brdrnil \trbrdrr\brdrnil 
\clvertalt \clshdrawnil \clwWidth1000\clftsWidth3 \clminw1000 \clbrdrt\brdrnil \clbrdrl\brdrnil \clbrdrb\brdrnil \clbrdrr\brdrnil \clpadl200 \clpadr200 \gaph\cellx4320
\clvertalt \clshdrawnil \clwWidth9921822\clftsWidth3 \clbrdrt\brdrnil \clbrdrl\brdrnil \clbrdrb\brdrnil \clbrdrr\brdrnil \clpadl200 \clpadr200 \gaph\cellx8640
\pard\intbl\itap1\pardeftab720\qr\partightenfactor0
\cf2 \cell 
\pard\intbl\itap1\pardeftab720\partightenfactor0
\cf2    "execution_count": 3,\cell \row

\itap1\trowd \taflags1 \trgaph108\trleft-108 \trcbpat3 \trbrdrl\brdrnil \trbrdrr\brdrnil 
\clvertalt \clshdrawnil \clwWidth1000\clftsWidth3 \clminw1000 \clbrdrt\brdrnil \clbrdrl\brdrnil \clbrdrb\brdrnil \clbrdrr\brdrnil \clpadl200 \clpadr200 \gaph\cellx4320
\clvertalt \clshdrawnil \clwWidth9921822\clftsWidth3 \clbrdrt\brdrnil \clbrdrl\brdrnil \clbrdrb\brdrnil \clbrdrr\brdrnil \clpadl200 \clpadr200 \gaph\cellx8640
\pard\intbl\itap1\pardeftab720\qr\partightenfactor0
\cf2 \cell 
\pard\intbl\itap1\pardeftab720\partightenfactor0
\cf2    "metadata": \{\},\cell \row

\itap1\trowd \taflags1 \trgaph108\trleft-108 \trcbpat3 \trbrdrl\brdrnil \trbrdrr\brdrnil 
\clvertalt \clshdrawnil \clwWidth1000\clftsWidth3 \clminw1000 \clbrdrt\brdrnil \clbrdrl\brdrnil \clbrdrb\brdrnil \clbrdrr\brdrnil \clpadl200 \clpadr200 \gaph\cellx4320
\clvertalt \clshdrawnil \clwWidth9921822\clftsWidth3 \clbrdrt\brdrnil \clbrdrl\brdrnil \clbrdrb\brdrnil \clbrdrr\brdrnil \clpadl200 \clpadr200 \gaph\cellx8640
\pard\intbl\itap1\pardeftab720\qr\partightenfactor0
\cf2 \cell 
\pard\intbl\itap1\pardeftab720\partightenfactor0
\cf2    "outputs": [\cell \row

\itap1\trowd \taflags1 \trgaph108\trleft-108 \trcbpat3 \trbrdrl\brdrnil \trbrdrr\brdrnil 
\clvertalt \clshdrawnil \clwWidth1000\clftsWidth3 \clminw1000 \clbrdrt\brdrnil \clbrdrl\brdrnil \clbrdrb\brdrnil \clbrdrr\brdrnil \clpadl200 \clpadr200 \gaph\cellx4320
\clvertalt \clshdrawnil \clwWidth9921822\clftsWidth3 \clbrdrt\brdrnil \clbrdrl\brdrnil \clbrdrb\brdrnil \clbrdrr\brdrnil \clpadl200 \clpadr200 \gaph\cellx8640
\pard\intbl\itap1\pardeftab720\qr\partightenfactor0
\cf2 \cell 
\pard\intbl\itap1\pardeftab720\partightenfactor0
\cf2     \{\cell \row

\itap1\trowd \taflags1 \trgaph108\trleft-108 \trcbpat3 \trbrdrl\brdrnil \trbrdrr\brdrnil 
\clvertalt \clshdrawnil \clwWidth1000\clftsWidth3 \clminw1000 \clbrdrt\brdrnil \clbrdrl\brdrnil \clbrdrb\brdrnil \clbrdrr\brdrnil \clpadl200 \clpadr200 \gaph\cellx4320
\clvertalt \clshdrawnil \clwWidth9921822\clftsWidth3 \clbrdrt\brdrnil \clbrdrl\brdrnil \clbrdrb\brdrnil \clbrdrr\brdrnil \clpadl200 \clpadr200 \gaph\cellx8640
\pard\intbl\itap1\pardeftab720\qr\partightenfactor0
\cf2 \cell 
\pard\intbl\itap1\pardeftab720\partightenfactor0
\cf2      "name": "stdout",\cell \row

\itap1\trowd \taflags1 \trgaph108\trleft-108 \trcbpat3 \trbrdrl\brdrnil \trbrdrr\brdrnil 
\clvertalt \clshdrawnil \clwWidth1000\clftsWidth3 \clminw1000 \clbrdrt\brdrnil \clbrdrl\brdrnil \clbrdrb\brdrnil \clbrdrr\brdrnil \clpadl200 \clpadr200 \gaph\cellx4320
\clvertalt \clshdrawnil \clwWidth9921822\clftsWidth3 \clbrdrt\brdrnil \clbrdrl\brdrnil \clbrdrb\brdrnil \clbrdrr\brdrnil \clpadl200 \clpadr200 \gaph\cellx8640
\pard\intbl\itap1\pardeftab720\qr\partightenfactor0
\cf2 \cell 
\pard\intbl\itap1\pardeftab720\partightenfactor0
\cf2      "output_type": "stream",\cell \row

\itap1\trowd \taflags1 \trgaph108\trleft-108 \trcbpat3 \trbrdrl\brdrnil \trbrdrr\brdrnil 
\clvertalt \clshdrawnil \clwWidth1000\clftsWidth3 \clminw1000 \clbrdrt\brdrnil \clbrdrl\brdrnil \clbrdrb\brdrnil \clbrdrr\brdrnil \clpadl200 \clpadr200 \gaph\cellx4320
\clvertalt \clshdrawnil \clwWidth9921822\clftsWidth3 \clbrdrt\brdrnil \clbrdrl\brdrnil \clbrdrb\brdrnil \clbrdrr\brdrnil \clpadl200 \clpadr200 \gaph\cellx8640
\pard\intbl\itap1\pardeftab720\qr\partightenfactor0
\cf2 \cell 
\pard\intbl\itap1\pardeftab720\partightenfactor0
\cf2      "text": [\cell \row

\itap1\trowd \taflags1 \trgaph108\trleft-108 \trcbpat3 \trbrdrl\brdrnil \trbrdrr\brdrnil 
\clvertalt \clshdrawnil \clwWidth1000\clftsWidth3 \clminw1000 \clbrdrt\brdrnil \clbrdrl\brdrnil \clbrdrb\brdrnil \clbrdrr\brdrnil \clpadl200 \clpadr200 \gaph\cellx4320
\clvertalt \clshdrawnil \clwWidth9921822\clftsWidth3 \clbrdrt\brdrnil \clbrdrl\brdrnil \clbrdrb\brdrnil \clbrdrr\brdrnil \clpadl200 \clpadr200 \gaph\cellx8640
\pard\intbl\itap1\pardeftab720\qr\partightenfactor0
\cf2 \cell 
\pard\intbl\itap1\pardeftab720\partightenfactor0
\cf2       "934456.0\\n",\cell \row

\itap1\trowd \taflags1 \trgaph108\trleft-108 \trcbpat3 \trbrdrl\brdrnil \trbrdrr\brdrnil 
\clvertalt \clshdrawnil \clwWidth1000\clftsWidth3 \clminw1000 \clbrdrt\brdrnil \clbrdrl\brdrnil \clbrdrb\brdrnil \clbrdrr\brdrnil \clpadl200 \clpadr200 \gaph\cellx4320
\clvertalt \clshdrawnil \clwWidth9921822\clftsWidth3 \clbrdrt\brdrnil \clbrdrl\brdrnil \clbrdrb\brdrnil \clbrdrr\brdrnil \clpadl200 \clpadr200 \gaph\cellx8640
\pard\intbl\itap1\pardeftab720\qr\partightenfactor0
\cf2 \cell 
\pard\intbl\itap1\pardeftab720\partightenfactor0
\cf2       "758656.0\\n",\cell \row

\itap1\trowd \taflags1 \trgaph108\trleft-108 \trcbpat3 \trbrdrl\brdrnil \trbrdrr\brdrnil 
\clvertalt \clshdrawnil \clwWidth1000\clftsWidth3 \clminw1000 \clbrdrt\brdrnil \clbrdrl\brdrnil \clbrdrb\brdrnil \clbrdrr\brdrnil \clpadl200 \clpadr200 \gaph\cellx4320
\clvertalt \clshdrawnil \clwWidth9921822\clftsWidth3 \clbrdrt\brdrnil \clbrdrl\brdrnil \clbrdrb\brdrnil \clbrdrr\brdrnil \clpadl200 \clpadr200 \gaph\cellx8640
\pard\intbl\itap1\pardeftab720\qr\partightenfactor0
\cf2 \cell 
\pard\intbl\itap1\pardeftab720\partightenfactor0
\cf2       "746749.0\\n",\cell \row

\itap1\trowd \taflags1 \trgaph108\trleft-108 \trcbpat3 \trbrdrl\brdrnil \trbrdrr\brdrnil 
\clvertalt \clshdrawnil \clwWidth1000\clftsWidth3 \clminw1000 \clbrdrt\brdrnil \clbrdrl\brdrnil \clbrdrb\brdrnil \clbrdrr\brdrnil \clpadl200 \clpadr200 \gaph\cellx4320
\clvertalt \clshdrawnil \clwWidth9921822\clftsWidth3 \clbrdrt\brdrnil \clbrdrl\brdrnil \clbrdrb\brdrnil \clbrdrr\brdrnil \clpadl200 \clpadr200 \gaph\cellx8640
\pard\intbl\itap1\pardeftab720\qr\partightenfactor0
\cf2 \cell 
\pard\intbl\itap1\pardeftab720\partightenfactor0
\cf2       "745255.0\\n",\cell \row

\itap1\trowd \taflags1 \trgaph108\trleft-108 \trcbpat3 \trbrdrl\brdrnil \trbrdrr\brdrnil 
\clvertalt \clshdrawnil \clwWidth1000\clftsWidth3 \clminw1000 \clbrdrt\brdrnil \clbrdrl\brdrnil \clbrdrb\brdrnil \clbrdrr\brdrnil \clpadl200 \clpadr200 \gaph\cellx4320
\clvertalt \clshdrawnil \clwWidth9921822\clftsWidth3 \clbrdrt\brdrnil \clbrdrl\brdrnil \clbrdrb\brdrnil \clbrdrr\brdrnil \clpadl200 \clpadr200 \gaph\cellx8640
\pard\intbl\itap1\pardeftab720\qr\partightenfactor0
\cf2 \cell 
\pard\intbl\itap1\pardeftab720\partightenfactor0
\cf2       "740253.0\\n"\cell \row

\itap1\trowd \taflags1 \trgaph108\trleft-108 \trcbpat3 \trbrdrl\brdrnil \trbrdrr\brdrnil 
\clvertalt \clshdrawnil \clwWidth1000\clftsWidth3 \clminw1000 \clbrdrt\brdrnil \clbrdrl\brdrnil \clbrdrb\brdrnil \clbrdrr\brdrnil \clpadl200 \clpadr200 \gaph\cellx4320
\clvertalt \clshdrawnil \clwWidth9921822\clftsWidth3 \clbrdrt\brdrnil \clbrdrl\brdrnil \clbrdrb\brdrnil \clbrdrr\brdrnil \clpadl200 \clpadr200 \gaph\cellx8640
\pard\intbl\itap1\pardeftab720\qr\partightenfactor0
\cf2 \cell 
\pard\intbl\itap1\pardeftab720\partightenfactor0
\cf2      ]\cell \row

\itap1\trowd \taflags1 \trgaph108\trleft-108 \trcbpat3 \trbrdrl\brdrnil \trbrdrr\brdrnil 
\clvertalt \clshdrawnil \clwWidth1000\clftsWidth3 \clminw1000 \clbrdrt\brdrnil \clbrdrl\brdrnil \clbrdrb\brdrnil \clbrdrr\brdrnil \clpadl200 \clpadr200 \gaph\cellx4320
\clvertalt \clshdrawnil \clwWidth9921822\clftsWidth3 \clbrdrt\brdrnil \clbrdrl\brdrnil \clbrdrb\brdrnil \clbrdrr\brdrnil \clpadl200 \clpadr200 \gaph\cellx8640
\pard\intbl\itap1\pardeftab720\qr\partightenfactor0
\cf2 \cell 
\pard\intbl\itap1\pardeftab720\partightenfactor0
\cf2     \},\cell \row

\itap1\trowd \taflags1 \trgaph108\trleft-108 \trcbpat3 \trbrdrl\brdrnil \trbrdrr\brdrnil 
\clvertalt \clshdrawnil \clwWidth1000\clftsWidth3 \clminw1000 \clbrdrt\brdrnil \clbrdrl\brdrnil \clbrdrb\brdrnil \clbrdrr\brdrnil \clpadl200 \clpadr200 \gaph\cellx4320
\clvertalt \clshdrawnil \clwWidth9921822\clftsWidth3 \clbrdrt\brdrnil \clbrdrl\brdrnil \clbrdrb\brdrnil \clbrdrr\brdrnil \clpadl200 \clpadr200 \gaph\cellx8640
\pard\intbl\itap1\pardeftab720\qr\partightenfactor0
\cf2 \cell 
\pard\intbl\itap1\pardeftab720\partightenfactor0
\cf2     \{\cell \row

\itap1\trowd \taflags1 \trgaph108\trleft-108 \trcbpat3 \trbrdrl\brdrnil \trbrdrr\brdrnil 
\clvertalt \clshdrawnil \clwWidth1000\clftsWidth3 \clminw1000 \clbrdrt\brdrnil \clbrdrl\brdrnil \clbrdrb\brdrnil \clbrdrr\brdrnil \clpadl200 \clpadr200 \gaph\cellx4320
\clvertalt \clshdrawnil \clwWidth9921822\clftsWidth3 \clbrdrt\brdrnil \clbrdrl\brdrnil \clbrdrb\brdrnil \clbrdrr\brdrnil \clpadl200 \clpadr200 \gaph\cellx8640
\pard\intbl\itap1\pardeftab720\qr\partightenfactor0
\cf2 \cell 
\pard\intbl\itap1\pardeftab720\partightenfactor0
\cf2      "data": \{\cell \row

\itap1\trowd \taflags1 \trgaph108\trleft-108 \trcbpat3 \trbrdrl\brdrnil \trbrdrr\brdrnil 
\clvertalt \clshdrawnil \clwWidth1000\clftsWidth3 \clminw1000 \clbrdrt\brdrnil \clbrdrl\brdrnil \clbrdrb\brdrnil \clbrdrr\brdrnil \clpadl200 \clpadr200 \gaph\cellx4320
\clvertalt \clshdrawnil \clwWidth9921822\clftsWidth3 \clbrdrt\brdrnil \clbrdrl\brdrnil \clbrdrb\brdrnil \clbrdrr\brdrnil \clpadl200 \clpadr200 \gaph\cellx8640
\pard\intbl\itap1\pardeftab720\qr\partightenfactor0
\cf2 \cell 
\pard\intbl\itap1\pardeftab720\partightenfactor0
\cf2       "text/plain": [\cell \row

\itap1\trowd \taflags1 \trgaph108\trleft-108 \trcbpat3 \trbrdrl\brdrnil \trbrdrr\brdrnil 
\clvertalt \clshdrawnil \clwWidth1000\clftsWidth3 \clminw1000 \clbrdrt\brdrnil \clbrdrl\brdrnil \clbrdrb\brdrnil \clbrdrr\brdrnil \clpadl200 \clpadr200 \gaph\cellx4320
\clvertalt \clshdrawnil \clwWidth9921822\clftsWidth3 \clbrdrt\brdrnil \clbrdrl\brdrnil \clbrdrb\brdrnil \clbrdrr\brdrnil \clpadl200 \clpadr200 \gaph\cellx8640
\pard\intbl\itap1\pardeftab720\qr\partightenfactor0
\cf2 \cell 
\pard\intbl\itap1\pardeftab720\partightenfactor0
\cf2        "<matplotlib.image.AxesImage at 0x1baab5dfb88>"\cell \row

\itap1\trowd \taflags1 \trgaph108\trleft-108 \trcbpat3 \trbrdrl\brdrnil \trbrdrr\brdrnil 
\clvertalt \clshdrawnil \clwWidth1000\clftsWidth3 \clminw1000 \clbrdrt\brdrnil \clbrdrl\brdrnil \clbrdrb\brdrnil \clbrdrr\brdrnil \clpadl200 \clpadr200 \gaph\cellx4320
\clvertalt \clshdrawnil \clwWidth9921822\clftsWidth3 \clbrdrt\brdrnil \clbrdrl\brdrnil \clbrdrb\brdrnil \clbrdrr\brdrnil \clpadl200 \clpadr200 \gaph\cellx8640
\pard\intbl\itap1\pardeftab720\qr\partightenfactor0
\cf2 \cell 
\pard\intbl\itap1\pardeftab720\partightenfactor0
\cf2       ]\cell \row

\itap1\trowd \taflags1 \trgaph108\trleft-108 \trcbpat3 \trbrdrl\brdrnil \trbrdrr\brdrnil 
\clvertalt \clshdrawnil \clwWidth1000\clftsWidth3 \clminw1000 \clbrdrt\brdrnil \clbrdrl\brdrnil \clbrdrb\brdrnil \clbrdrr\brdrnil \clpadl200 \clpadr200 \gaph\cellx4320
\clvertalt \clshdrawnil \clwWidth9921822\clftsWidth3 \clbrdrt\brdrnil \clbrdrl\brdrnil \clbrdrb\brdrnil \clbrdrr\brdrnil \clpadl200 \clpadr200 \gaph\cellx8640
\pard\intbl\itap1\pardeftab720\qr\partightenfactor0
\cf2 \cell 
\pard\intbl\itap1\pardeftab720\partightenfactor0
\cf2      \},\cell \row

\itap1\trowd \taflags1 \trgaph108\trleft-108 \trcbpat3 \trbrdrl\brdrnil \trbrdrr\brdrnil 
\clvertalt \clshdrawnil \clwWidth1000\clftsWidth3 \clminw1000 \clbrdrt\brdrnil \clbrdrl\brdrnil \clbrdrb\brdrnil \clbrdrr\brdrnil \clpadl200 \clpadr200 \gaph\cellx4320
\clvertalt \clshdrawnil \clwWidth9921822\clftsWidth3 \clbrdrt\brdrnil \clbrdrl\brdrnil \clbrdrb\brdrnil \clbrdrr\brdrnil \clpadl200 \clpadr200 \gaph\cellx8640
\pard\intbl\itap1\pardeftab720\qr\partightenfactor0
\cf2 \cell 
\pard\intbl\itap1\pardeftab720\partightenfactor0
\cf2      "execution_count": 3,\cell \row

\itap1\trowd \taflags1 \trgaph108\trleft-108 \trcbpat3 \trbrdrl\brdrnil \trbrdrr\brdrnil 
\clvertalt \clshdrawnil \clwWidth1000\clftsWidth3 \clminw1000 \clbrdrt\brdrnil \clbrdrl\brdrnil \clbrdrb\brdrnil \clbrdrr\brdrnil \clpadl200 \clpadr200 \gaph\cellx4320
\clvertalt \clshdrawnil \clwWidth9921822\clftsWidth3 \clbrdrt\brdrnil \clbrdrl\brdrnil \clbrdrb\brdrnil \clbrdrr\brdrnil \clpadl200 \clpadr200 \gaph\cellx8640
\pard\intbl\itap1\pardeftab720\qr\partightenfactor0
\cf2 \cell 
\pard\intbl\itap1\pardeftab720\partightenfactor0
\cf2      "metadata": \{\},\cell \row

\itap1\trowd \taflags1 \trgaph108\trleft-108 \trcbpat3 \trbrdrl\brdrnil \trbrdrr\brdrnil 
\clvertalt \clshdrawnil \clwWidth1000\clftsWidth3 \clminw1000 \clbrdrt\brdrnil \clbrdrl\brdrnil \clbrdrb\brdrnil \clbrdrr\brdrnil \clpadl200 \clpadr200 \gaph\cellx4320
\clvertalt \clshdrawnil \clwWidth9921822\clftsWidth3 \clbrdrt\brdrnil \clbrdrl\brdrnil \clbrdrb\brdrnil \clbrdrr\brdrnil \clpadl200 \clpadr200 \gaph\cellx8640
\pard\intbl\itap1\pardeftab720\qr\partightenfactor0
\cf2 \cell 
\pard\intbl\itap1\pardeftab720\partightenfactor0
\cf2      "output_type": "execute_result"\cell \row

\itap1\trowd \taflags1 \trgaph108\trleft-108 \trcbpat3 \trbrdrl\brdrnil \trbrdrr\brdrnil 
\clvertalt \clshdrawnil \clwWidth1000\clftsWidth3 \clminw1000 \clbrdrt\brdrnil \clbrdrl\brdrnil \clbrdrb\brdrnil \clbrdrr\brdrnil \clpadl200 \clpadr200 \gaph\cellx4320
\clvertalt \clshdrawnil \clwWidth9921822\clftsWidth3 \clbrdrt\brdrnil \clbrdrl\brdrnil \clbrdrb\brdrnil \clbrdrr\brdrnil \clpadl200 \clpadr200 \gaph\cellx8640
\pard\intbl\itap1\pardeftab720\qr\partightenfactor0
\cf2 \cell 
\pard\intbl\itap1\pardeftab720\partightenfactor0
\cf2     \},\cell \row

\itap1\trowd \taflags1 \trgaph108\trleft-108 \trcbpat3 \trbrdrl\brdrnil \trbrdrr\brdrnil 
\clvertalt \clshdrawnil \clwWidth1000\clftsWidth3 \clminw1000 \clbrdrt\brdrnil \clbrdrl\brdrnil \clbrdrb\brdrnil \clbrdrr\brdrnil \clpadl200 \clpadr200 \gaph\cellx4320
\clvertalt \clshdrawnil \clwWidth9921822\clftsWidth3 \clbrdrt\brdrnil \clbrdrl\brdrnil \clbrdrb\brdrnil \clbrdrr\brdrnil \clpadl200 \clpadr200 \gaph\cellx8640
\pard\intbl\itap1\pardeftab720\qr\partightenfactor0
\cf2 \cell 
\pard\intbl\itap1\pardeftab720\partightenfactor0
\cf2     \{\cell \row

\itap1\trowd \taflags1 \trgaph108\trleft-108 \trcbpat3 \trbrdrl\brdrnil \trbrdrr\brdrnil 
\clvertalt \clshdrawnil \clwWidth1000\clftsWidth3 \clminw1000 \clbrdrt\brdrnil \clbrdrl\brdrnil \clbrdrb\brdrnil \clbrdrr\brdrnil \clpadl200 \clpadr200 \gaph\cellx4320
\clvertalt \clshdrawnil \clwWidth9921822\clftsWidth3 \clbrdrt\brdrnil \clbrdrl\brdrnil \clbrdrb\brdrnil \clbrdrr\brdrnil \clpadl200 \clpadr200 \gaph\cellx8640
\pard\intbl\itap1\pardeftab720\qr\partightenfactor0
\cf2 \cell 
\pard\intbl\itap1\pardeftab720\partightenfactor0
\cf2      "data": \{\cell \row

\itap1\trowd \taflags1 \trgaph108\trleft-108 \trcbpat3 \trbrdrl\brdrnil \trbrdrr\brdrnil 
\clvertalt \clshdrawnil \clwWidth1000\clftsWidth3 \clminw1000 \clbrdrt\brdrnil \clbrdrl\brdrnil \clbrdrb\brdrnil \clbrdrr\brdrnil \clpadl200 \clpadr200 \gaph\cellx4320
\clvertalt \clshdrawnil \clwWidth9921822\clftsWidth3 \clbrdrt\brdrnil \clbrdrl\brdrnil \clbrdrb\brdrnil \clbrdrr\brdrnil \clpadl200 \clpadr200 \gaph\cellx8640
\pard\intbl\itap1\pardeftab720\qr\partightenfactor0
\cf2 \cell 
\pard\intbl\itap1\pardeftab720\partightenfactor0
\cf2       "image/png": "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\\n",\cell \row

\itap1\trowd \taflags1 \trgaph108\trleft-108 \trcbpat3 \trbrdrl\brdrnil \trbrdrr\brdrnil 
\clvertalt \clshdrawnil \clwWidth1000\clftsWidth3 \clminw1000 \clbrdrt\brdrnil \clbrdrl\brdrnil \clbrdrb\brdrnil \clbrdrr\brdrnil \clpadl200 \clpadr200 \gaph\cellx4320
\clvertalt \clshdrawnil \clwWidth9921822\clftsWidth3 \clbrdrt\brdrnil \clbrdrl\brdrnil \clbrdrb\brdrnil \clbrdrr\brdrnil \clpadl200 \clpadr200 \gaph\cellx8640
\pard\intbl\itap1\pardeftab720\qr\partightenfactor0
\cf2 \cell 
\pard\intbl\itap1\pardeftab720\partightenfactor0
\cf2       "text/plain": [\cell \row

\itap1\trowd \taflags1 \trgaph108\trleft-108 \trcbpat3 \trbrdrl\brdrnil \trbrdrr\brdrnil 
\clvertalt \clshdrawnil \clwWidth1000\clftsWidth3 \clminw1000 \clbrdrt\brdrnil \clbrdrl\brdrnil \clbrdrb\brdrnil \clbrdrr\brdrnil \clpadl200 \clpadr200 \gaph\cellx4320
\clvertalt \clshdrawnil \clwWidth9921822\clftsWidth3 \clbrdrt\brdrnil \clbrdrl\brdrnil \clbrdrb\brdrnil \clbrdrr\brdrnil \clpadl200 \clpadr200 \gaph\cellx8640
\pard\intbl\itap1\pardeftab720\qr\partightenfactor0
\cf2 \cell 
\pard\intbl\itap1\pardeftab720\partightenfactor0
\cf2        "<Figure size 432x288 with 1 Axes>"\cell \row

\itap1\trowd \taflags1 \trgaph108\trleft-108 \trcbpat3 \trbrdrl\brdrnil \trbrdrr\brdrnil 
\clvertalt \clshdrawnil \clwWidth1000\clftsWidth3 \clminw1000 \clbrdrt\brdrnil \clbrdrl\brdrnil \clbrdrb\brdrnil \clbrdrr\brdrnil \clpadl200 \clpadr200 \gaph\cellx4320
\clvertalt \clshdrawnil \clwWidth9921822\clftsWidth3 \clbrdrt\brdrnil \clbrdrl\brdrnil \clbrdrb\brdrnil \clbrdrr\brdrnil \clpadl200 \clpadr200 \gaph\cellx8640
\pard\intbl\itap1\pardeftab720\qr\partightenfactor0
\cf2 \cell 
\pard\intbl\itap1\pardeftab720\partightenfactor0
\cf2       ]\cell \row

\itap1\trowd \taflags1 \trgaph108\trleft-108 \trcbpat3 \trbrdrl\brdrnil \trbrdrr\brdrnil 
\clvertalt \clshdrawnil \clwWidth1000\clftsWidth3 \clminw1000 \clbrdrt\brdrnil \clbrdrl\brdrnil \clbrdrb\brdrnil \clbrdrr\brdrnil \clpadl200 \clpadr200 \gaph\cellx4320
\clvertalt \clshdrawnil \clwWidth9921822\clftsWidth3 \clbrdrt\brdrnil \clbrdrl\brdrnil \clbrdrb\brdrnil \clbrdrr\brdrnil \clpadl200 \clpadr200 \gaph\cellx8640
\pard\intbl\itap1\pardeftab720\qr\partightenfactor0
\cf2 \cell 
\pard\intbl\itap1\pardeftab720\partightenfactor0
\cf2      \},\cell \row

\itap1\trowd \taflags1 \trgaph108\trleft-108 \trcbpat3 \trbrdrl\brdrnil \trbrdrr\brdrnil 
\clvertalt \clshdrawnil \clwWidth1000\clftsWidth3 \clminw1000 \clbrdrt\brdrnil \clbrdrl\brdrnil \clbrdrb\brdrnil \clbrdrr\brdrnil \clpadl200 \clpadr200 \gaph\cellx4320
\clvertalt \clshdrawnil \clwWidth9921822\clftsWidth3 \clbrdrt\brdrnil \clbrdrl\brdrnil \clbrdrb\brdrnil \clbrdrr\brdrnil \clpadl200 \clpadr200 \gaph\cellx8640
\pard\intbl\itap1\pardeftab720\qr\partightenfactor0
\cf2 \cell 
\pard\intbl\itap1\pardeftab720\partightenfactor0
\cf2      "metadata": \{\cell \row

\itap1\trowd \taflags1 \trgaph108\trleft-108 \trcbpat3 \trbrdrl\brdrnil \trbrdrr\brdrnil 
\clvertalt \clshdrawnil \clwWidth1000\clftsWidth3 \clminw1000 \clbrdrt\brdrnil \clbrdrl\brdrnil \clbrdrb\brdrnil \clbrdrr\brdrnil \clpadl200 \clpadr200 \gaph\cellx4320
\clvertalt \clshdrawnil \clwWidth9921822\clftsWidth3 \clbrdrt\brdrnil \clbrdrl\brdrnil \clbrdrb\brdrnil \clbrdrr\brdrnil \clpadl200 \clpadr200 \gaph\cellx8640
\pard\intbl\itap1\pardeftab720\qr\partightenfactor0
\cf2 \cell 
\pard\intbl\itap1\pardeftab720\partightenfactor0
\cf2       "needs_background": "light"\cell \row

\itap1\trowd \taflags1 \trgaph108\trleft-108 \trcbpat3 \trbrdrl\brdrnil \trbrdrr\brdrnil 
\clvertalt \clshdrawnil \clwWidth1000\clftsWidth3 \clminw1000 \clbrdrt\brdrnil \clbrdrl\brdrnil \clbrdrb\brdrnil \clbrdrr\brdrnil \clpadl200 \clpadr200 \gaph\cellx4320
\clvertalt \clshdrawnil \clwWidth9921822\clftsWidth3 \clbrdrt\brdrnil \clbrdrl\brdrnil \clbrdrb\brdrnil \clbrdrr\brdrnil \clpadl200 \clpadr200 \gaph\cellx8640
\pard\intbl\itap1\pardeftab720\qr\partightenfactor0
\cf2 \cell 
\pard\intbl\itap1\pardeftab720\partightenfactor0
\cf2      \},\cell \row

\itap1\trowd \taflags1 \trgaph108\trleft-108 \trcbpat3 \trbrdrl\brdrnil \trbrdrr\brdrnil 
\clvertalt \clshdrawnil \clwWidth1000\clftsWidth3 \clminw1000 \clbrdrt\brdrnil \clbrdrl\brdrnil \clbrdrb\brdrnil \clbrdrr\brdrnil \clpadl200 \clpadr200 \gaph\cellx4320
\clvertalt \clshdrawnil \clwWidth9921822\clftsWidth3 \clbrdrt\brdrnil \clbrdrl\brdrnil \clbrdrb\brdrnil \clbrdrr\brdrnil \clpadl200 \clpadr200 \gaph\cellx8640
\pard\intbl\itap1\pardeftab720\qr\partightenfactor0
\cf2 \cell 
\pard\intbl\itap1\pardeftab720\partightenfactor0
\cf2      "output_type": "display_data"\cell \row

\itap1\trowd \taflags1 \trgaph108\trleft-108 \trcbpat3 \trbrdrl\brdrnil \trbrdrr\brdrnil 
\clvertalt \clshdrawnil \clwWidth1000\clftsWidth3 \clminw1000 \clbrdrt\brdrnil \clbrdrl\brdrnil \clbrdrb\brdrnil \clbrdrr\brdrnil \clpadl200 \clpadr200 \gaph\cellx4320
\clvertalt \clshdrawnil \clwWidth9921822\clftsWidth3 \clbrdrt\brdrnil \clbrdrl\brdrnil \clbrdrb\brdrnil \clbrdrr\brdrnil \clpadl200 \clpadr200 \gaph\cellx8640
\pard\intbl\itap1\pardeftab720\qr\partightenfactor0
\cf2 \cell 
\pard\intbl\itap1\pardeftab720\partightenfactor0
\cf2     \},\cell \row

\itap1\trowd \taflags1 \trgaph108\trleft-108 \trcbpat3 \trbrdrl\brdrnil \trbrdrr\brdrnil 
\clvertalt \clshdrawnil \clwWidth1000\clftsWidth3 \clminw1000 \clbrdrt\brdrnil \clbrdrl\brdrnil \clbrdrb\brdrnil \clbrdrr\brdrnil \clpadl200 \clpadr200 \gaph\cellx4320
\clvertalt \clshdrawnil \clwWidth9921822\clftsWidth3 \clbrdrt\brdrnil \clbrdrl\brdrnil \clbrdrb\brdrnil \clbrdrr\brdrnil \clpadl200 \clpadr200 \gaph\cellx8640
\pard\intbl\itap1\pardeftab720\qr\partightenfactor0
\cf2 \cell 
\pard\intbl\itap1\pardeftab720\partightenfactor0
\cf2     \{\cell \row

\itap1\trowd \taflags1 \trgaph108\trleft-108 \trcbpat3 \trbrdrl\brdrnil \trbrdrr\brdrnil 
\clvertalt \clshdrawnil \clwWidth1000\clftsWidth3 \clminw1000 \clbrdrt\brdrnil \clbrdrl\brdrnil \clbrdrb\brdrnil \clbrdrr\brdrnil \clpadl200 \clpadr200 \gaph\cellx4320
\clvertalt \clshdrawnil \clwWidth9921822\clftsWidth3 \clbrdrt\brdrnil \clbrdrl\brdrnil \clbrdrb\brdrnil \clbrdrr\brdrnil \clpadl200 \clpadr200 \gaph\cellx8640
\pard\intbl\itap1\pardeftab720\qr\partightenfactor0
\cf2 \cell 
\pard\intbl\itap1\pardeftab720\partightenfactor0
\cf2      "data": \{\cell \row

\itap1\trowd \taflags1 \trgaph108\trleft-108 \trcbpat3 \trbrdrl\brdrnil \trbrdrr\brdrnil 
\clvertalt \clshdrawnil \clwWidth1000\clftsWidth3 \clminw1000 \clbrdrt\brdrnil \clbrdrl\brdrnil \clbrdrb\brdrnil \clbrdrr\brdrnil \clpadl200 \clpadr200 \gaph\cellx4320
\clvertalt \clshdrawnil \clwWidth9921822\clftsWidth3 \clbrdrt\brdrnil \clbrdrl\brdrnil \clbrdrb\brdrnil \clbrdrr\brdrnil \clpadl200 \clpadr200 \gaph\cellx8640
\pard\intbl\itap1\pardeftab720\qr\partightenfactor0
\cf2 \cell 
\pard\intbl\itap1\pardeftab720\partightenfactor0
\cf2       "image/png": "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\\n",\cell \row

\itap1\trowd \taflags1 \trgaph108\trleft-108 \trcbpat3 \trbrdrl\brdrnil \trbrdrr\brdrnil 
\clvertalt \clshdrawnil \clwWidth1000\clftsWidth3 \clminw1000 \clbrdrt\brdrnil \clbrdrl\brdrnil \clbrdrb\brdrnil \clbrdrr\brdrnil \clpadl200 \clpadr200 \gaph\cellx4320
\clvertalt \clshdrawnil \clwWidth9921822\clftsWidth3 \clbrdrt\brdrnil \clbrdrl\brdrnil \clbrdrb\brdrnil \clbrdrr\brdrnil \clpadl200 \clpadr200 \gaph\cellx8640
\pard\intbl\itap1\pardeftab720\qr\partightenfactor0
\cf2 \cell 
\pard\intbl\itap1\pardeftab720\partightenfactor0
\cf2       "text/plain": [\cell \row

\itap1\trowd \taflags1 \trgaph108\trleft-108 \trcbpat3 \trbrdrl\brdrnil \trbrdrr\brdrnil 
\clvertalt \clshdrawnil \clwWidth1000\clftsWidth3 \clminw1000 \clbrdrt\brdrnil \clbrdrl\brdrnil \clbrdrb\brdrnil \clbrdrr\brdrnil \clpadl200 \clpadr200 \gaph\cellx4320
\clvertalt \clshdrawnil \clwWidth9921822\clftsWidth3 \clbrdrt\brdrnil \clbrdrl\brdrnil \clbrdrb\brdrnil \clbrdrr\brdrnil \clpadl200 \clpadr200 \gaph\cellx8640
\pard\intbl\itap1\pardeftab720\qr\partightenfactor0
\cf2 \cell 
\pard\intbl\itap1\pardeftab720\partightenfactor0
\cf2        "<Figure size 432x288 with 1 Axes>"\cell \row

\itap1\trowd \taflags1 \trgaph108\trleft-108 \trcbpat3 \trbrdrl\brdrnil \trbrdrr\brdrnil 
\clvertalt \clshdrawnil \clwWidth1000\clftsWidth3 \clminw1000 \clbrdrt\brdrnil \clbrdrl\brdrnil \clbrdrb\brdrnil \clbrdrr\brdrnil \clpadl200 \clpadr200 \gaph\cellx4320
\clvertalt \clshdrawnil \clwWidth9921822\clftsWidth3 \clbrdrt\brdrnil \clbrdrl\brdrnil \clbrdrb\brdrnil \clbrdrr\brdrnil \clpadl200 \clpadr200 \gaph\cellx8640
\pard\intbl\itap1\pardeftab720\qr\partightenfactor0
\cf2 \cell 
\pard\intbl\itap1\pardeftab720\partightenfactor0
\cf2       ]\cell \row

\itap1\trowd \taflags1 \trgaph108\trleft-108 \trcbpat3 \trbrdrl\brdrnil \trbrdrr\brdrnil 
\clvertalt \clshdrawnil \clwWidth1000\clftsWidth3 \clminw1000 \clbrdrt\brdrnil \clbrdrl\brdrnil \clbrdrb\brdrnil \clbrdrr\brdrnil \clpadl200 \clpadr200 \gaph\cellx4320
\clvertalt \clshdrawnil \clwWidth9921822\clftsWidth3 \clbrdrt\brdrnil \clbrdrl\brdrnil \clbrdrb\brdrnil \clbrdrr\brdrnil \clpadl200 \clpadr200 \gaph\cellx8640
\pard\intbl\itap1\pardeftab720\qr\partightenfactor0
\cf2 \cell 
\pard\intbl\itap1\pardeftab720\partightenfactor0
\cf2      \},\cell \row

\itap1\trowd \taflags1 \trgaph108\trleft-108 \trcbpat3 \trbrdrl\brdrnil \trbrdrr\brdrnil 
\clvertalt \clshdrawnil \clwWidth1000\clftsWidth3 \clminw1000 \clbrdrt\brdrnil \clbrdrl\brdrnil \clbrdrb\brdrnil \clbrdrr\brdrnil \clpadl200 \clpadr200 \gaph\cellx4320
\clvertalt \clshdrawnil \clwWidth9921822\clftsWidth3 \clbrdrt\brdrnil \clbrdrl\brdrnil \clbrdrb\brdrnil \clbrdrr\brdrnil \clpadl200 \clpadr200 \gaph\cellx8640
\pard\intbl\itap1\pardeftab720\qr\partightenfactor0
\cf2 \cell 
\pard\intbl\itap1\pardeftab720\partightenfactor0
\cf2      "metadata": \{\cell \row

\itap1\trowd \taflags1 \trgaph108\trleft-108 \trcbpat3 \trbrdrl\brdrnil \trbrdrr\brdrnil 
\clvertalt \clshdrawnil \clwWidth1000\clftsWidth3 \clminw1000 \clbrdrt\brdrnil \clbrdrl\brdrnil \clbrdrb\brdrnil \clbrdrr\brdrnil \clpadl200 \clpadr200 \gaph\cellx4320
\clvertalt \clshdrawnil \clwWidth9921822\clftsWidth3 \clbrdrt\brdrnil \clbrdrl\brdrnil \clbrdrb\brdrnil \clbrdrr\brdrnil \clpadl200 \clpadr200 \gaph\cellx8640
\pard\intbl\itap1\pardeftab720\qr\partightenfactor0
\cf2 \cell 
\pard\intbl\itap1\pardeftab720\partightenfactor0
\cf2       "needs_background": "light"\cell \row

\itap1\trowd \taflags1 \trgaph108\trleft-108 \trcbpat3 \trbrdrl\brdrnil \trbrdrr\brdrnil 
\clvertalt \clshdrawnil \clwWidth1000\clftsWidth3 \clminw1000 \clbrdrt\brdrnil \clbrdrl\brdrnil \clbrdrb\brdrnil \clbrdrr\brdrnil \clpadl200 \clpadr200 \gaph\cellx4320
\clvertalt \clshdrawnil \clwWidth9921822\clftsWidth3 \clbrdrt\brdrnil \clbrdrl\brdrnil \clbrdrb\brdrnil \clbrdrr\brdrnil \clpadl200 \clpadr200 \gaph\cellx8640
\pard\intbl\itap1\pardeftab720\qr\partightenfactor0
\cf2 \cell 
\pard\intbl\itap1\pardeftab720\partightenfactor0
\cf2      \},\cell \row

\itap1\trowd \taflags1 \trgaph108\trleft-108 \trcbpat3 \trbrdrl\brdrnil \trbrdrr\brdrnil 
\clvertalt \clshdrawnil \clwWidth1000\clftsWidth3 \clminw1000 \clbrdrt\brdrnil \clbrdrl\brdrnil \clbrdrb\brdrnil \clbrdrr\brdrnil \clpadl200 \clpadr200 \gaph\cellx4320
\clvertalt \clshdrawnil \clwWidth9921822\clftsWidth3 \clbrdrt\brdrnil \clbrdrl\brdrnil \clbrdrb\brdrnil \clbrdrr\brdrnil \clpadl200 \clpadr200 \gaph\cellx8640
\pard\intbl\itap1\pardeftab720\qr\partightenfactor0
\cf2 \cell 
\pard\intbl\itap1\pardeftab720\partightenfactor0
\cf2      "output_type": "display_data"\cell \row

\itap1\trowd \taflags1 \trgaph108\trleft-108 \trcbpat3 \trbrdrl\brdrnil \trbrdrr\brdrnil 
\clvertalt \clshdrawnil \clwWidth1000\clftsWidth3 \clminw1000 \clbrdrt\brdrnil \clbrdrl\brdrnil \clbrdrb\brdrnil \clbrdrr\brdrnil \clpadl200 \clpadr200 \gaph\cellx4320
\clvertalt \clshdrawnil \clwWidth9921822\clftsWidth3 \clbrdrt\brdrnil \clbrdrl\brdrnil \clbrdrb\brdrnil \clbrdrr\brdrnil \clpadl200 \clpadr200 \gaph\cellx8640
\pard\intbl\itap1\pardeftab720\qr\partightenfactor0
\cf2 \cell 
\pard\intbl\itap1\pardeftab720\partightenfactor0
\cf2     \},\cell \row

\itap1\trowd \taflags1 \trgaph108\trleft-108 \trcbpat3 \trbrdrl\brdrnil \trbrdrr\brdrnil 
\clvertalt \clshdrawnil \clwWidth1000\clftsWidth3 \clminw1000 \clbrdrt\brdrnil \clbrdrl\brdrnil \clbrdrb\brdrnil \clbrdrr\brdrnil \clpadl200 \clpadr200 \gaph\cellx4320
\clvertalt \clshdrawnil \clwWidth9921822\clftsWidth3 \clbrdrt\brdrnil \clbrdrl\brdrnil \clbrdrb\brdrnil \clbrdrr\brdrnil \clpadl200 \clpadr200 \gaph\cellx8640
\pard\intbl\itap1\pardeftab720\qr\partightenfactor0
\cf2 \cell 
\pard\intbl\itap1\pardeftab720\partightenfactor0
\cf2     \{\cell \row

\itap1\trowd \taflags1 \trgaph108\trleft-108 \trcbpat3 \trbrdrl\brdrnil \trbrdrr\brdrnil 
\clvertalt \clshdrawnil \clwWidth1000\clftsWidth3 \clminw1000 \clbrdrt\brdrnil \clbrdrl\brdrnil \clbrdrb\brdrnil \clbrdrr\brdrnil \clpadl200 \clpadr200 \gaph\cellx4320
\clvertalt \clshdrawnil \clwWidth9921822\clftsWidth3 \clbrdrt\brdrnil \clbrdrl\brdrnil \clbrdrb\brdrnil \clbrdrr\brdrnil \clpadl200 \clpadr200 \gaph\cellx8640
\pard\intbl\itap1\pardeftab720\qr\partightenfactor0
\cf2 \cell 
\pard\intbl\itap1\pardeftab720\partightenfactor0
\cf2      "data": \{\cell \row

\itap1\trowd \taflags1 \trgaph108\trleft-108 \trcbpat3 \trbrdrl\brdrnil \trbrdrr\brdrnil 
\clvertalt \clshdrawnil \clwWidth1000\clftsWidth3 \clminw1000 \clbrdrt\brdrnil \clbrdrl\brdrnil \clbrdrb\brdrnil \clbrdrr\brdrnil \clpadl200 \clpadr200 \gaph\cellx4320
\clvertalt \clshdrawnil \clwWidth9921822\clftsWidth3 \clbrdrt\brdrnil \clbrdrl\brdrnil \clbrdrb\brdrnil \clbrdrr\brdrnil \clpadl200 \clpadr200 \gaph\cellx8640
\pard\intbl\itap1\pardeftab720\qr\partightenfactor0
\cf2 \cell 
\pard\intbl\itap1\pardeftab720\partightenfactor0
\cf2       "image/png": "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\\n",\cell \row

\itap1\trowd \taflags1 \trgaph108\trleft-108 \trcbpat3 \trbrdrl\brdrnil \trbrdrr\brdrnil 
\clvertalt \clshdrawnil \clwWidth1000\clftsWidth3 \clminw1000 \clbrdrt\brdrnil \clbrdrl\brdrnil \clbrdrb\brdrnil \clbrdrr\brdrnil \clpadl200 \clpadr200 \gaph\cellx4320
\clvertalt \clshdrawnil \clwWidth9921822\clftsWidth3 \clbrdrt\brdrnil \clbrdrl\brdrnil \clbrdrb\brdrnil \clbrdrr\brdrnil \clpadl200 \clpadr200 \gaph\cellx8640
\pard\intbl\itap1\pardeftab720\qr\partightenfactor0
\cf2 \cell 
\pard\intbl\itap1\pardeftab720\partightenfactor0
\cf2       "text/plain": [\cell \row

\itap1\trowd \taflags1 \trgaph108\trleft-108 \trcbpat3 \trbrdrl\brdrnil \trbrdrr\brdrnil 
\clvertalt \clshdrawnil \clwWidth1000\clftsWidth3 \clminw1000 \clbrdrt\brdrnil \clbrdrl\brdrnil \clbrdrb\brdrnil \clbrdrr\brdrnil \clpadl200 \clpadr200 \gaph\cellx4320
\clvertalt \clshdrawnil \clwWidth9921822\clftsWidth3 \clbrdrt\brdrnil \clbrdrl\brdrnil \clbrdrb\brdrnil \clbrdrr\brdrnil \clpadl200 \clpadr200 \gaph\cellx8640
\pard\intbl\itap1\pardeftab720\qr\partightenfactor0
\cf2 \cell 
\pard\intbl\itap1\pardeftab720\partightenfactor0
\cf2        "<Figure size 432x288 with 1 Axes>"\cell \row

\itap1\trowd \taflags1 \trgaph108\trleft-108 \trcbpat3 \trbrdrl\brdrnil \trbrdrr\brdrnil 
\clvertalt \clshdrawnil \clwWidth1000\clftsWidth3 \clminw1000 \clbrdrt\brdrnil \clbrdrl\brdrnil \clbrdrb\brdrnil \clbrdrr\brdrnil \clpadl200 \clpadr200 \gaph\cellx4320
\clvertalt \clshdrawnil \clwWidth9921822\clftsWidth3 \clbrdrt\brdrnil \clbrdrl\brdrnil \clbrdrb\brdrnil \clbrdrr\brdrnil \clpadl200 \clpadr200 \gaph\cellx8640
\pard\intbl\itap1\pardeftab720\qr\partightenfactor0
\cf2 \cell 
\pard\intbl\itap1\pardeftab720\partightenfactor0
\cf2       ]\cell \row

\itap1\trowd \taflags1 \trgaph108\trleft-108 \trcbpat3 \trbrdrl\brdrnil \trbrdrr\brdrnil 
\clvertalt \clshdrawnil \clwWidth1000\clftsWidth3 \clminw1000 \clbrdrt\brdrnil \clbrdrl\brdrnil \clbrdrb\brdrnil \clbrdrr\brdrnil \clpadl200 \clpadr200 \gaph\cellx4320
\clvertalt \clshdrawnil \clwWidth9921822\clftsWidth3 \clbrdrt\brdrnil \clbrdrl\brdrnil \clbrdrb\brdrnil \clbrdrr\brdrnil \clpadl200 \clpadr200 \gaph\cellx8640
\pard\intbl\itap1\pardeftab720\qr\partightenfactor0
\cf2 \cell 
\pard\intbl\itap1\pardeftab720\partightenfactor0
\cf2      \},\cell \row

\itap1\trowd \taflags1 \trgaph108\trleft-108 \trcbpat3 \trbrdrl\brdrnil \trbrdrr\brdrnil 
\clvertalt \clshdrawnil \clwWidth1000\clftsWidth3 \clminw1000 \clbrdrt\brdrnil \clbrdrl\brdrnil \clbrdrb\brdrnil \clbrdrr\brdrnil \clpadl200 \clpadr200 \gaph\cellx4320
\clvertalt \clshdrawnil \clwWidth9921822\clftsWidth3 \clbrdrt\brdrnil \clbrdrl\brdrnil \clbrdrb\brdrnil \clbrdrr\brdrnil \clpadl200 \clpadr200 \gaph\cellx8640
\pard\intbl\itap1\pardeftab720\qr\partightenfactor0
\cf2 \cell 
\pard\intbl\itap1\pardeftab720\partightenfactor0
\cf2      "metadata": \{\cell \row

\itap1\trowd \taflags1 \trgaph108\trleft-108 \trcbpat3 \trbrdrl\brdrnil \trbrdrr\brdrnil 
\clvertalt \clshdrawnil \clwWidth1000\clftsWidth3 \clminw1000 \clbrdrt\brdrnil \clbrdrl\brdrnil \clbrdrb\brdrnil \clbrdrr\brdrnil \clpadl200 \clpadr200 \gaph\cellx4320
\clvertalt \clshdrawnil \clwWidth9921822\clftsWidth3 \clbrdrt\brdrnil \clbrdrl\brdrnil \clbrdrb\brdrnil \clbrdrr\brdrnil \clpadl200 \clpadr200 \gaph\cellx8640
\pard\intbl\itap1\pardeftab720\qr\partightenfactor0
\cf2 \cell 
\pard\intbl\itap1\pardeftab720\partightenfactor0
\cf2       "needs_background": "light"\cell \row

\itap1\trowd \taflags1 \trgaph108\trleft-108 \trcbpat3 \trbrdrl\brdrnil \trbrdrr\brdrnil 
\clvertalt \clshdrawnil \clwWidth1000\clftsWidth3 \clminw1000 \clbrdrt\brdrnil \clbrdrl\brdrnil \clbrdrb\brdrnil \clbrdrr\brdrnil \clpadl200 \clpadr200 \gaph\cellx4320
\clvertalt \clshdrawnil \clwWidth9921822\clftsWidth3 \clbrdrt\brdrnil \clbrdrl\brdrnil \clbrdrb\brdrnil \clbrdrr\brdrnil \clpadl200 \clpadr200 \gaph\cellx8640
\pard\intbl\itap1\pardeftab720\qr\partightenfactor0
\cf2 \cell 
\pard\intbl\itap1\pardeftab720\partightenfactor0
\cf2      \},\cell \row

\itap1\trowd \taflags1 \trgaph108\trleft-108 \trcbpat3 \trbrdrl\brdrnil \trbrdrr\brdrnil 
\clvertalt \clshdrawnil \clwWidth1000\clftsWidth3 \clminw1000 \clbrdrt\brdrnil \clbrdrl\brdrnil \clbrdrb\brdrnil \clbrdrr\brdrnil \clpadl200 \clpadr200 \gaph\cellx4320
\clvertalt \clshdrawnil \clwWidth9921822\clftsWidth3 \clbrdrt\brdrnil \clbrdrl\brdrnil \clbrdrb\brdrnil \clbrdrr\brdrnil \clpadl200 \clpadr200 \gaph\cellx8640
\pard\intbl\itap1\pardeftab720\qr\partightenfactor0
\cf2 \cell 
\pard\intbl\itap1\pardeftab720\partightenfactor0
\cf2      "output_type": "display_data"\cell \row

\itap1\trowd \taflags1 \trgaph108\trleft-108 \trcbpat3 \trbrdrl\brdrnil \trbrdrr\brdrnil 
\clvertalt \clshdrawnil \clwWidth1000\clftsWidth3 \clminw1000 \clbrdrt\brdrnil \clbrdrl\brdrnil \clbrdrb\brdrnil \clbrdrr\brdrnil \clpadl200 \clpadr200 \gaph\cellx4320
\clvertalt \clshdrawnil \clwWidth9921822\clftsWidth3 \clbrdrt\brdrnil \clbrdrl\brdrnil \clbrdrb\brdrnil \clbrdrr\brdrnil \clpadl200 \clpadr200 \gaph\cellx8640
\pard\intbl\itap1\pardeftab720\qr\partightenfactor0
\cf2 \cell 
\pard\intbl\itap1\pardeftab720\partightenfactor0
\cf2     \}\cell \row

\itap1\trowd \taflags1 \trgaph108\trleft-108 \trcbpat3 \trbrdrl\brdrnil \trbrdrr\brdrnil 
\clvertalt \clshdrawnil \clwWidth1000\clftsWidth3 \clminw1000 \clbrdrt\brdrnil \clbrdrl\brdrnil \clbrdrb\brdrnil \clbrdrr\brdrnil \clpadl200 \clpadr200 \gaph\cellx4320
\clvertalt \clshdrawnil \clwWidth9921822\clftsWidth3 \clbrdrt\brdrnil \clbrdrl\brdrnil \clbrdrb\brdrnil \clbrdrr\brdrnil \clpadl200 \clpadr200 \gaph\cellx8640
\pard\intbl\itap1\pardeftab720\qr\partightenfactor0
\cf2 \cell 
\pard\intbl\itap1\pardeftab720\partightenfactor0
\cf2    ],\cell \row

\itap1\trowd \taflags1 \trgaph108\trleft-108 \trcbpat3 \trbrdrl\brdrnil \trbrdrr\brdrnil 
\clvertalt \clshdrawnil \clwWidth1000\clftsWidth3 \clminw1000 \clbrdrt\brdrnil \clbrdrl\brdrnil \clbrdrb\brdrnil \clbrdrr\brdrnil \clpadl200 \clpadr200 \gaph\cellx4320
\clvertalt \clshdrawnil \clwWidth9921822\clftsWidth3 \clbrdrt\brdrnil \clbrdrl\brdrnil \clbrdrb\brdrnil \clbrdrr\brdrnil \clpadl200 \clpadr200 \gaph\cellx8640
\pard\intbl\itap1\pardeftab720\qr\partightenfactor0
\cf2 \cell 
\pard\intbl\itap1\pardeftab720\partightenfactor0
\cf2    "source": [\cell \row

\itap1\trowd \taflags1 \trgaph108\trleft-108 \trcbpat3 \trbrdrl\brdrnil \trbrdrr\brdrnil 
\clvertalt \clshdrawnil \clwWidth1000\clftsWidth3 \clminw1000 \clbrdrt\brdrnil \clbrdrl\brdrnil \clbrdrb\brdrnil \clbrdrr\brdrnil \clpadl200 \clpadr200 \gaph\cellx4320
\clvertalt \clshdrawnil \clwWidth9921822\clftsWidth3 \clbrdrt\brdrnil \clbrdrl\brdrnil \clbrdrb\brdrnil \clbrdrr\brdrnil \clpadl200 \clpadr200 \gaph\cellx8640
\pard\intbl\itap1\pardeftab720\qr\partightenfactor0
\cf2 \cell 
\pard\intbl\itap1\pardeftab720\partightenfactor0
\cf2     "res_val = math.inf\\n",\cell \row

\itap1\trowd \taflags1 \trgaph108\trleft-108 \trcbpat3 \trbrdrl\brdrnil \trbrdrr\brdrnil 
\clvertalt \clshdrawnil \clwWidth1000\clftsWidth3 \clminw1000 \clbrdrt\brdrnil \clbrdrl\brdrnil \clbrdrb\brdrnil \clbrdrr\brdrnil \clpadl200 \clpadr200 \gaph\cellx4320
\clvertalt \clshdrawnil \clwWidth9921822\clftsWidth3 \clbrdrt\brdrnil \clbrdrl\brdrnil \clbrdrb\brdrnil \clbrdrr\brdrnil \clpadl200 \clpadr200 \gaph\cellx8640
\pard\intbl\itap1\pardeftab720\qr\partightenfactor0
\cf2 \cell 
\pard\intbl\itap1\pardeftab720\partightenfactor0
\cf2     "for i in range(10):\\n",\cell \row

\itap1\trowd \taflags1 \trgaph108\trleft-108 \trcbpat3 \trbrdrl\brdrnil \trbrdrr\brdrnil 
\clvertalt \clshdrawnil \clwWidth1000\clftsWidth3 \clminw1000 \clbrdrt\brdrnil \clbrdrl\brdrnil \clbrdrb\brdrnil \clbrdrr\brdrnil \clpadl200 \clpadr200 \gaph\cellx4320
\clvertalt \clshdrawnil \clwWidth9921822\clftsWidth3 \clbrdrt\brdrnil \clbrdrl\brdrnil \clbrdrb\brdrnil \clbrdrr\brdrnil \clpadl200 \clpadr200 \gaph\cellx8640
\pard\intbl\itap1\pardeftab720\qr\partightenfactor0
\cf2 \cell 
\pard\intbl\itap1\pardeftab720\partightenfactor0
\cf2     "    background_arena_door_temp, background_rails_temp, background_full_temp = gen_background(im_full_gray_resized)\\n",\cell \row

\itap1\trowd \taflags1 \trgaph108\trleft-108 \trcbpat3 \trbrdrl\brdrnil \trbrdrr\brdrnil 
\clvertalt \clshdrawnil \clwWidth1000\clftsWidth3 \clminw1000 \clbrdrt\brdrnil \clbrdrl\brdrnil \clbrdrb\brdrnil \clbrdrr\brdrnil \clpadl200 \clpadr200 \gaph\cellx4320
\clvertalt \clshdrawnil \clwWidth9921822\clftsWidth3 \clbrdrt\brdrnil \clbrdrl\brdrnil \clbrdrb\brdrnil \clbrdrr\brdrnil \clpadl200 \clpadr200 \gaph\cellx8640
\pard\intbl\itap1\pardeftab720\qr\partightenfactor0
\cf2 \cell 
\pard\intbl\itap1\pardeftab720\partightenfactor0
\cf2     "    \\n",\cell \row

\itap1\trowd \taflags1 \trgaph108\trleft-108 \trcbpat3 \trbrdrl\brdrnil \trbrdrr\brdrnil 
\clvertalt \clshdrawnil \clwWidth1000\clftsWidth3 \clminw1000 \clbrdrt\brdrnil \clbrdrl\brdrnil \clbrdrb\brdrnil \clbrdrr\brdrnil \clpadl200 \clpadr200 \gaph\cellx4320
\clvertalt \clshdrawnil \clwWidth9921822\clftsWidth3 \clbrdrt\brdrnil \clbrdrl\brdrnil \clbrdrb\brdrnil \clbrdrr\brdrnil \clpadl200 \clpadr200 \gaph\cellx8640
\pard\intbl\itap1\pardeftab720\qr\partightenfactor0
\cf2 \cell 
\pard\intbl\itap1\pardeftab720\partightenfactor0
\cf2     "    im_gray_resized_bg_full_sub = cv2.subtract(im_full_gray_resized, background_full_temp)\\n",\cell \row

\itap1\trowd \taflags1 \trgaph108\trleft-108 \trcbpat3 \trbrdrl\brdrnil \trbrdrr\brdrnil 
\clvertalt \clshdrawnil \clwWidth1000\clftsWidth3 \clminw1000 \clbrdrt\brdrnil \clbrdrl\brdrnil \clbrdrb\brdrnil \clbrdrr\brdrnil \clpadl200 \clpadr200 \gaph\cellx4320
\clvertalt \clshdrawnil \clwWidth9921822\clftsWidth3 \clbrdrt\brdrnil \clbrdrl\brdrnil \clbrdrb\brdrnil \clbrdrr\brdrnil \clpadl200 \clpadr200 \gaph\cellx8640
\pard\intbl\itap1\pardeftab720\qr\partightenfactor0
\cf2 \cell 
\pard\intbl\itap1\pardeftab720\partightenfactor0
\cf2     "    if (res_val > cv2.sumElems(im_gray_resized_bg_full_sub)[0]):\\n",\cell \row

\itap1\trowd \taflags1 \trgaph108\trleft-108 \trcbpat3 \trbrdrl\brdrnil \trbrdrr\brdrnil 
\clvertalt \clshdrawnil \clwWidth1000\clftsWidth3 \clminw1000 \clbrdrt\brdrnil \clbrdrl\brdrnil \clbrdrb\brdrnil \clbrdrr\brdrnil \clpadl200 \clpadr200 \gaph\cellx4320
\clvertalt \clshdrawnil \clwWidth9921822\clftsWidth3 \clbrdrt\brdrnil \clbrdrl\brdrnil \clbrdrb\brdrnil \clbrdrr\brdrnil \clpadl200 \clpadr200 \gaph\cellx8640
\pard\intbl\itap1\pardeftab720\qr\partightenfactor0
\cf2 \cell 
\pard\intbl\itap1\pardeftab720\partightenfactor0
\cf2     "        res_val = cv2.sumElems(im_gray_resized_bg_full_sub)[0]\\n",\cell \row

\itap1\trowd \taflags1 \trgaph108\trleft-108 \trcbpat3 \trbrdrl\brdrnil \trbrdrr\brdrnil 
\clvertalt \clshdrawnil \clwWidth1000\clftsWidth3 \clminw1000 \clbrdrt\brdrnil \clbrdrl\brdrnil \clbrdrb\brdrnil \clbrdrr\brdrnil \clpadl200 \clpadr200 \gaph\cellx4320
\clvertalt \clshdrawnil \clwWidth9921822\clftsWidth3 \clbrdrt\brdrnil \clbrdrl\brdrnil \clbrdrb\brdrnil \clbrdrr\brdrnil \clpadl200 \clpadr200 \gaph\cellx8640
\pard\intbl\itap1\pardeftab720\qr\partightenfactor0
\cf2 \cell 
\pard\intbl\itap1\pardeftab720\partightenfactor0
\cf2     "        print(res_val)\\n",\cell \row

\itap1\trowd \taflags1 \trgaph108\trleft-108 \trcbpat3 \trbrdrl\brdrnil \trbrdrr\brdrnil 
\clvertalt \clshdrawnil \clwWidth1000\clftsWidth3 \clminw1000 \clbrdrt\brdrnil \clbrdrl\brdrnil \clbrdrb\brdrnil \clbrdrr\brdrnil \clpadl200 \clpadr200 \gaph\cellx4320
\clvertalt \clshdrawnil \clwWidth9921822\clftsWidth3 \clbrdrt\brdrnil \clbrdrl\brdrnil \clbrdrb\brdrnil \clbrdrr\brdrnil \clpadl200 \clpadr200 \gaph\cellx8640
\pard\intbl\itap1\pardeftab720\qr\partightenfactor0
\cf2 \cell 
\pard\intbl\itap1\pardeftab720\partightenfactor0
\cf2     "        background_full = background_full_temp.copy()\\n",\cell \row

\itap1\trowd \taflags1 \trgaph108\trleft-108 \trcbpat3 \trbrdrl\brdrnil \trbrdrr\brdrnil 
\clvertalt \clshdrawnil \clwWidth1000\clftsWidth3 \clminw1000 \clbrdrt\brdrnil \clbrdrl\brdrnil \clbrdrb\brdrnil \clbrdrr\brdrnil \clpadl200 \clpadr200 \gaph\cellx4320
\clvertalt \clshdrawnil \clwWidth9921822\clftsWidth3 \clbrdrt\brdrnil \clbrdrl\brdrnil \clbrdrb\brdrnil \clbrdrr\brdrnil \clpadl200 \clpadr200 \gaph\cellx8640
\pard\intbl\itap1\pardeftab720\qr\partightenfactor0
\cf2 \cell 
\pard\intbl\itap1\pardeftab720\partightenfactor0
\cf2     "        background_arena_door = background_arena_door_temp.copy()\\n",\cell \row

\itap1\trowd \taflags1 \trgaph108\trleft-108 \trcbpat3 \trbrdrl\brdrnil \trbrdrr\brdrnil 
\clvertalt \clshdrawnil \clwWidth1000\clftsWidth3 \clminw1000 \clbrdrt\brdrnil \clbrdrl\brdrnil \clbrdrb\brdrnil \clbrdrr\brdrnil \clpadl200 \clpadr200 \gaph\cellx4320
\clvertalt \clshdrawnil \clwWidth9921822\clftsWidth3 \clbrdrt\brdrnil \clbrdrl\brdrnil \clbrdrb\brdrnil \clbrdrr\brdrnil \clpadl200 \clpadr200 \gaph\cellx8640
\pard\intbl\itap1\pardeftab720\qr\partightenfactor0
\cf2 \cell 
\pard\intbl\itap1\pardeftab720\partightenfactor0
\cf2     "        background_rails = background_rails_temp.copy()\\n",\cell \row

\itap1\trowd \taflags1 \trgaph108\trleft-108 \trcbpat3 \trbrdrl\brdrnil \trbrdrr\brdrnil 
\clvertalt \clshdrawnil \clwWidth1000\clftsWidth3 \clminw1000 \clbrdrt\brdrnil \clbrdrl\brdrnil \clbrdrb\brdrnil \clbrdrr\brdrnil \clpadl200 \clpadr200 \gaph\cellx4320
\clvertalt \clshdrawnil \clwWidth9921822\clftsWidth3 \clbrdrt\brdrnil \clbrdrl\brdrnil \clbrdrb\brdrnil \clbrdrr\brdrnil \clpadl200 \clpadr200 \gaph\cellx8640
\pard\intbl\itap1\pardeftab720\qr\partightenfactor0
\cf2 \cell 
\pard\intbl\itap1\pardeftab720\partightenfactor0
\cf2     "    \\n",\cell \row

\itap1\trowd \taflags1 \trgaph108\trleft-108 \trcbpat3 \trbrdrl\brdrnil \trbrdrr\brdrnil 
\clvertalt \clshdrawnil \clwWidth1000\clftsWidth3 \clminw1000 \clbrdrt\brdrnil \clbrdrl\brdrnil \clbrdrb\brdrnil \clbrdrr\brdrnil \clpadl200 \clpadr200 \gaph\cellx4320
\clvertalt \clshdrawnil \clwWidth9921822\clftsWidth3 \clbrdrt\brdrnil \clbrdrl\brdrnil \clbrdrb\brdrnil \clbrdrr\brdrnil \clpadl200 \clpadr200 \gaph\cellx8640
\pard\intbl\itap1\pardeftab720\qr\partightenfactor0
\cf2 \cell 
\pard\intbl\itap1\pardeftab720\partightenfactor0
\cf2     "    success,im_full = vidcap.read()\\n",\cell \row

\itap1\trowd \taflags1 \trgaph108\trleft-108 \trcbpat3 \trbrdrl\brdrnil \trbrdrr\brdrnil 
\clvertalt \clshdrawnil \clwWidth1000\clftsWidth3 \clminw1000 \clbrdrt\brdrnil \clbrdrl\brdrnil \clbrdrb\brdrnil \clbrdrr\brdrnil \clpadl200 \clpadr200 \gaph\cellx4320
\clvertalt \clshdrawnil \clwWidth9921822\clftsWidth3 \clbrdrt\brdrnil \clbrdrl\brdrnil \clbrdrb\brdrnil \clbrdrr\brdrnil \clpadl200 \clpadr200 \gaph\cellx8640
\pard\intbl\itap1\pardeftab720\qr\partightenfactor0
\cf2 \cell 
\pard\intbl\itap1\pardeftab720\partightenfactor0
\cf2     "    im_full_gray = cv2.cvtColor(im_full, cv2.COLOR_BGR2GRAY)\\n",\cell \row

\itap1\trowd \taflags1 \trgaph108\trleft-108 \trcbpat3 \trbrdrl\brdrnil \trbrdrr\brdrnil 
\clvertalt \clshdrawnil \clwWidth1000\clftsWidth3 \clminw1000 \clbrdrt\brdrnil \clbrdrl\brdrnil \clbrdrb\brdrnil \clbrdrr\brdrnil \clpadl200 \clpadr200 \gaph\cellx4320
\clvertalt \clshdrawnil \clwWidth9921822\clftsWidth3 \clbrdrt\brdrnil \clbrdrl\brdrnil \clbrdrb\brdrnil \clbrdrr\brdrnil \clpadl200 \clpadr200 \gaph\cellx8640
\pard\intbl\itap1\pardeftab720\qr\partightenfactor0
\cf2 \cell 
\pard\intbl\itap1\pardeftab720\partightenfactor0
\cf2     "    im_full_gray_resized = cv2.resize(im_full_gray, (int(im_full_gray.shape[1]/rescaling_factor), \\n",\cell \row

\itap1\trowd \taflags1 \trgaph108\trleft-108 \trcbpat3 \trbrdrl\brdrnil \trbrdrr\brdrnil 
\clvertalt \clshdrawnil \clwWidth1000\clftsWidth3 \clminw1000 \clbrdrt\brdrnil \clbrdrl\brdrnil \clbrdrb\brdrnil \clbrdrr\brdrnil \clpadl200 \clpadr200 \gaph\cellx4320
\clvertalt \clshdrawnil \clwWidth9921822\clftsWidth3 \clbrdrt\brdrnil \clbrdrl\brdrnil \clbrdrb\brdrnil \clbrdrr\brdrnil \clpadl200 \clpadr200 \gaph\cellx8640
\pard\intbl\itap1\pardeftab720\qr\partightenfactor0
\cf2 \cell 
\pard\intbl\itap1\pardeftab720\partightenfactor0
\cf2     "                                      int(im_full_gray.shape[0]/rescaling_factor)), \\n",\cell \row

\itap1\trowd \taflags1 \trgaph108\trleft-108 \trcbpat3 \trbrdrl\brdrnil \trbrdrr\brdrnil 
\clvertalt \clshdrawnil \clwWidth1000\clftsWidth3 \clminw1000 \clbrdrt\brdrnil \clbrdrl\brdrnil \clbrdrb\brdrnil \clbrdrr\brdrnil \clpadl200 \clpadr200 \gaph\cellx4320
\clvertalt \clshdrawnil \clwWidth9921822\clftsWidth3 \clbrdrt\brdrnil \clbrdrl\brdrnil \clbrdrb\brdrnil \clbrdrr\brdrnil \clpadl200 \clpadr200 \gaph\cellx8640
\pard\intbl\itap1\pardeftab720\qr\partightenfactor0
\cf2 \cell 
\pard\intbl\itap1\pardeftab720\partightenfactor0
\cf2     "                                      interpolation = cv2.INTER_AREA)\\n",\cell \row

\itap1\trowd \taflags1 \trgaph108\trleft-108 \trcbpat3 \trbrdrl\brdrnil \trbrdrr\brdrnil 
\clvertalt \clshdrawnil \clwWidth1000\clftsWidth3 \clminw1000 \clbrdrt\brdrnil \clbrdrl\brdrnil \clbrdrb\brdrnil \clbrdrr\brdrnil \clpadl200 \clpadr200 \gaph\cellx4320
\clvertalt \clshdrawnil \clwWidth9921822\clftsWidth3 \clbrdrt\brdrnil \clbrdrl\brdrnil \clbrdrb\brdrnil \clbrdrr\brdrnil \clpadl200 \clpadr200 \gaph\cellx8640
\pard\intbl\itap1\pardeftab720\qr\partightenfactor0
\cf2 \cell 
\pard\intbl\itap1\pardeftab720\partightenfactor0
\cf2     "\\n",\cell \row

\itap1\trowd \taflags1 \trgaph108\trleft-108 \trcbpat3 \trbrdrl\brdrnil \trbrdrr\brdrnil 
\clvertalt \clshdrawnil \clwWidth1000\clftsWidth3 \clminw1000 \clbrdrt\brdrnil \clbrdrl\brdrnil \clbrdrb\brdrnil \clbrdrr\brdrnil \clpadl200 \clpadr200 \gaph\cellx4320
\clvertalt \clshdrawnil \clwWidth9921822\clftsWidth3 \clbrdrt\brdrnil \clbrdrl\brdrnil \clbrdrb\brdrnil \clbrdrr\brdrnil \clpadl200 \clpadr200 \gaph\cellx8640
\pard\intbl\itap1\pardeftab720\qr\partightenfactor0
\cf2 \cell 
\pard\intbl\itap1\pardeftab720\partightenfactor0
\cf2     "\\n",\cell \row

\itap1\trowd \taflags1 \trgaph108\trleft-108 \trcbpat3 \trbrdrl\brdrnil \trbrdrr\brdrnil 
\clvertalt \clshdrawnil \clwWidth1000\clftsWidth3 \clminw1000 \clbrdrt\brdrnil \clbrdrl\brdrnil \clbrdrb\brdrnil \clbrdrr\brdrnil \clpadl200 \clpadr200 \gaph\cellx4320
\clvertalt \clshdrawnil \clwWidth9921822\clftsWidth3 \clbrdrt\brdrnil \clbrdrl\brdrnil \clbrdrb\brdrnil \clbrdrr\brdrnil \clpadl200 \clpadr200 \gaph\cellx8640
\pard\intbl\itap1\pardeftab720\qr\partightenfactor0
\cf2 \cell 
\pard\intbl\itap1\pardeftab720\partightenfactor0
\cf2     "\\n",\cell \row

\itap1\trowd \taflags1 \trgaph108\trleft-108 \trcbpat3 \trbrdrl\brdrnil \trbrdrr\brdrnil 
\clvertalt \clshdrawnil \clwWidth1000\clftsWidth3 \clminw1000 \clbrdrt\brdrnil \clbrdrl\brdrnil \clbrdrb\brdrnil \clbrdrr\brdrnil \clpadl200 \clpadr200 \gaph\cellx4320
\clvertalt \clshdrawnil \clwWidth9921822\clftsWidth3 \clbrdrt\brdrnil \clbrdrl\brdrnil \clbrdrb\brdrnil \clbrdrr\brdrnil \clpadl200 \clpadr200 \gaph\cellx8640
\pard\intbl\itap1\pardeftab720\qr\partightenfactor0
\cf2 \cell 
\pard\intbl\itap1\pardeftab720\partightenfactor0
\cf2     "plt.figure()\\n",\cell \row

\itap1\trowd \taflags1 \trgaph108\trleft-108 \trcbpat3 \trbrdrl\brdrnil \trbrdrr\brdrnil 
\clvertalt \clshdrawnil \clwWidth1000\clftsWidth3 \clminw1000 \clbrdrt\brdrnil \clbrdrl\brdrnil \clbrdrb\brdrnil \clbrdrr\brdrnil \clpadl200 \clpadr200 \gaph\cellx4320
\clvertalt \clshdrawnil \clwWidth9921822\clftsWidth3 \clbrdrt\brdrnil \clbrdrl\brdrnil \clbrdrb\brdrnil \clbrdrr\brdrnil \clpadl200 \clpadr200 \gaph\cellx8640
\pard\intbl\itap1\pardeftab720\qr\partightenfactor0
\cf2 \cell 
\pard\intbl\itap1\pardeftab720\partightenfactor0
\cf2     "plt.imshow(background_arena_door, cmap='gray', vmin=0, vmax=255)\\n",\cell \row

\itap1\trowd \taflags1 \trgaph108\trleft-108 \trcbpat3 \trbrdrl\brdrnil \trbrdrr\brdrnil 
\clvertalt \clshdrawnil \clwWidth1000\clftsWidth3 \clminw1000 \clbrdrt\brdrnil \clbrdrl\brdrnil \clbrdrb\brdrnil \clbrdrr\brdrnil \clpadl200 \clpadr200 \gaph\cellx4320
\clvertalt \clshdrawnil \clwWidth9921822\clftsWidth3 \clbrdrt\brdrnil \clbrdrl\brdrnil \clbrdrb\brdrnil \clbrdrr\brdrnil \clpadl200 \clpadr200 \gaph\cellx8640
\pard\intbl\itap1\pardeftab720\qr\partightenfactor0
\cf2 \cell 
\pard\intbl\itap1\pardeftab720\partightenfactor0
\cf2     "plt.figure()\\n",\cell \row

\itap1\trowd \taflags1 \trgaph108\trleft-108 \trcbpat3 \trbrdrl\brdrnil \trbrdrr\brdrnil 
\clvertalt \clshdrawnil \clwWidth1000\clftsWidth3 \clminw1000 \clbrdrt\brdrnil \clbrdrl\brdrnil \clbrdrb\brdrnil \clbrdrr\brdrnil \clpadl200 \clpadr200 \gaph\cellx4320
\clvertalt \clshdrawnil \clwWidth9921822\clftsWidth3 \clbrdrt\brdrnil \clbrdrl\brdrnil \clbrdrb\brdrnil \clbrdrr\brdrnil \clpadl200 \clpadr200 \gaph\cellx8640
\pard\intbl\itap1\pardeftab720\qr\partightenfactor0
\cf2 \cell 
\pard\intbl\itap1\pardeftab720\partightenfactor0
\cf2     "plt.imshow(background_rails, cmap='gray', vmin=0, vmax=255)\\n",\cell \row

\itap1\trowd \taflags1 \trgaph108\trleft-108 \trcbpat3 \trbrdrl\brdrnil \trbrdrr\brdrnil 
\clvertalt \clshdrawnil \clwWidth1000\clftsWidth3 \clminw1000 \clbrdrt\brdrnil \clbrdrl\brdrnil \clbrdrb\brdrnil \clbrdrr\brdrnil \clpadl200 \clpadr200 \gaph\cellx4320
\clvertalt \clshdrawnil \clwWidth9921822\clftsWidth3 \clbrdrt\brdrnil \clbrdrl\brdrnil \clbrdrb\brdrnil \clbrdrr\brdrnil \clpadl200 \clpadr200 \gaph\cellx8640
\pard\intbl\itap1\pardeftab720\qr\partightenfactor0
\cf2 \cell 
\pard\intbl\itap1\pardeftab720\partightenfactor0
\cf2     "plt.figure()\\n",\cell \row

\itap1\trowd \taflags1 \trgaph108\trleft-108 \trcbpat3 \trbrdrl\brdrnil \trbrdrr\brdrnil 
\clvertalt \clshdrawnil \clwWidth1000\clftsWidth3 \clminw1000 \clbrdrt\brdrnil \clbrdrl\brdrnil \clbrdrb\brdrnil \clbrdrr\brdrnil \clpadl200 \clpadr200 \gaph\cellx4320
\clvertalt \clshdrawnil \clwWidth9921822\clftsWidth3 \clbrdrt\brdrnil \clbrdrl\brdrnil \clbrdrb\brdrnil \clbrdrr\brdrnil \clpadl200 \clpadr200 \gaph\cellx8640
\pard\intbl\itap1\pardeftab720\qr\partightenfactor0
\cf2 \cell 
\pard\intbl\itap1\pardeftab720\partightenfactor0
\cf2     "plt.imshow(background_full, cmap='gray', vmin=0, vmax=255)"\cell \row

\itap1\trowd \taflags1 \trgaph108\trleft-108 \trcbpat3 \trbrdrl\brdrnil \trbrdrr\brdrnil 
\clvertalt \clshdrawnil \clwWidth1000\clftsWidth3 \clminw1000 \clbrdrt\brdrnil \clbrdrl\brdrnil \clbrdrb\brdrnil \clbrdrr\brdrnil \clpadl200 \clpadr200 \gaph\cellx4320
\clvertalt \clshdrawnil \clwWidth9921822\clftsWidth3 \clbrdrt\brdrnil \clbrdrl\brdrnil \clbrdrb\brdrnil \clbrdrr\brdrnil \clpadl200 \clpadr200 \gaph\cellx8640
\pard\intbl\itap1\pardeftab720\qr\partightenfactor0
\cf2 \cell 
\pard\intbl\itap1\pardeftab720\partightenfactor0
\cf2    ]\cell \row

\itap1\trowd \taflags1 \trgaph108\trleft-108 \trcbpat3 \trbrdrl\brdrnil \trbrdrr\brdrnil 
\clvertalt \clshdrawnil \clwWidth1000\clftsWidth3 \clminw1000 \clbrdrt\brdrnil \clbrdrl\brdrnil \clbrdrb\brdrnil \clbrdrr\brdrnil \clpadl200 \clpadr200 \gaph\cellx4320
\clvertalt \clshdrawnil \clwWidth9921822\clftsWidth3 \clbrdrt\brdrnil \clbrdrl\brdrnil \clbrdrb\brdrnil \clbrdrr\brdrnil \clpadl200 \clpadr200 \gaph\cellx8640
\pard\intbl\itap1\pardeftab720\qr\partightenfactor0
\cf2 \cell 
\pard\intbl\itap1\pardeftab720\partightenfactor0
\cf2   \},\cell \row

\itap1\trowd \taflags1 \trgaph108\trleft-108 \trcbpat3 \trbrdrl\brdrnil \trbrdrr\brdrnil 
\clvertalt \clshdrawnil \clwWidth1000\clftsWidth3 \clminw1000 \clbrdrt\brdrnil \clbrdrl\brdrnil \clbrdrb\brdrnil \clbrdrr\brdrnil \clpadl200 \clpadr200 \gaph\cellx4320
\clvertalt \clshdrawnil \clwWidth9921822\clftsWidth3 \clbrdrt\brdrnil \clbrdrl\brdrnil \clbrdrb\brdrnil \clbrdrr\brdrnil \clpadl200 \clpadr200 \gaph\cellx8640
\pard\intbl\itap1\pardeftab720\qr\partightenfactor0
\cf2 \cell 
\pard\intbl\itap1\pardeftab720\partightenfactor0
\cf2   \{\cell \row

\itap1\trowd \taflags1 \trgaph108\trleft-108 \trcbpat3 \trbrdrl\brdrnil \trbrdrr\brdrnil 
\clvertalt \clshdrawnil \clwWidth1000\clftsWidth3 \clminw1000 \clbrdrt\brdrnil \clbrdrl\brdrnil \clbrdrb\brdrnil \clbrdrr\brdrnil \clpadl200 \clpadr200 \gaph\cellx4320
\clvertalt \clshdrawnil \clwWidth9921822\clftsWidth3 \clbrdrt\brdrnil \clbrdrl\brdrnil \clbrdrb\brdrnil \clbrdrr\brdrnil \clpadl200 \clpadr200 \gaph\cellx8640
\pard\intbl\itap1\pardeftab720\qr\partightenfactor0
\cf2 \cell 
\pard\intbl\itap1\pardeftab720\partightenfactor0
\cf2    "cell_type": "markdown",\cell \row

\itap1\trowd \taflags1 \trgaph108\trleft-108 \trcbpat3 \trbrdrl\brdrnil \trbrdrr\brdrnil 
\clvertalt \clshdrawnil \clwWidth1000\clftsWidth3 \clminw1000 \clbrdrt\brdrnil \clbrdrl\brdrnil \clbrdrb\brdrnil \clbrdrr\brdrnil \clpadl200 \clpadr200 \gaph\cellx4320
\clvertalt \clshdrawnil \clwWidth9921822\clftsWidth3 \clbrdrt\brdrnil \clbrdrl\brdrnil \clbrdrb\brdrnil \clbrdrr\brdrnil \clpadl200 \clpadr200 \gaph\cellx8640
\pard\intbl\itap1\pardeftab720\qr\partightenfactor0
\cf2 \cell 
\pard\intbl\itap1\pardeftab720\partightenfactor0
\cf2    "metadata": \{\},\cell \row

\itap1\trowd \taflags1 \trgaph108\trleft-108 \trcbpat3 \trbrdrl\brdrnil \trbrdrr\brdrnil 
\clvertalt \clshdrawnil \clwWidth1000\clftsWidth3 \clminw1000 \clbrdrt\brdrnil \clbrdrl\brdrnil \clbrdrb\brdrnil \clbrdrr\brdrnil \clpadl200 \clpadr200 \gaph\cellx4320
\clvertalt \clshdrawnil \clwWidth9921822\clftsWidth3 \clbrdrt\brdrnil \clbrdrl\brdrnil \clbrdrb\brdrnil \clbrdrr\brdrnil \clpadl200 \clpadr200 \gaph\cellx8640
\pard\intbl\itap1\pardeftab720\qr\partightenfactor0
\cf2 \cell 
\pard\intbl\itap1\pardeftab720\partightenfactor0
\cf2    "source": [\cell \row

\itap1\trowd \taflags1 \trgaph108\trleft-108 \trcbpat3 \trbrdrl\brdrnil \trbrdrr\brdrnil 
\clvertalt \clshdrawnil \clwWidth1000\clftsWidth3 \clminw1000 \clbrdrt\brdrnil \clbrdrl\brdrnil \clbrdrb\brdrnil \clbrdrr\brdrnil \clpadl200 \clpadr200 \gaph\cellx4320
\clvertalt \clshdrawnil \clwWidth9921822\clftsWidth3 \clbrdrt\brdrnil \clbrdrl\brdrnil \clbrdrb\brdrnil \clbrdrr\brdrnil \clpadl200 \clpadr200 \gaph\cellx8640
\pard\intbl\itap1\pardeftab720\qr\partightenfactor0
\cf2 \cell 
\pard\intbl\itap1\pardeftab720\partightenfactor0
\cf2     "### 2.2 Balls"\cell \row

\itap1\trowd \taflags1 \trgaph108\trleft-108 \trcbpat3 \trbrdrl\brdrnil \trbrdrr\brdrnil 
\clvertalt \clshdrawnil \clwWidth1000\clftsWidth3 \clminw1000 \clbrdrt\brdrnil \clbrdrl\brdrnil \clbrdrb\brdrnil \clbrdrr\brdrnil \clpadl200 \clpadr200 \gaph\cellx4320
\clvertalt \clshdrawnil \clwWidth9921822\clftsWidth3 \clbrdrt\brdrnil \clbrdrl\brdrnil \clbrdrb\brdrnil \clbrdrr\brdrnil \clpadl200 \clpadr200 \gaph\cellx8640
\pard\intbl\itap1\pardeftab720\qr\partightenfactor0
\cf2 \cell 
\pard\intbl\itap1\pardeftab720\partightenfactor0
\cf2    ]\cell \row

\itap1\trowd \taflags1 \trgaph108\trleft-108 \trcbpat3 \trbrdrl\brdrnil \trbrdrr\brdrnil 
\clvertalt \clshdrawnil \clwWidth1000\clftsWidth3 \clminw1000 \clbrdrt\brdrnil \clbrdrl\brdrnil \clbrdrb\brdrnil \clbrdrr\brdrnil \clpadl200 \clpadr200 \gaph\cellx4320
\clvertalt \clshdrawnil \clwWidth9921822\clftsWidth3 \clbrdrt\brdrnil \clbrdrl\brdrnil \clbrdrb\brdrnil \clbrdrr\brdrnil \clpadl200 \clpadr200 \gaph\cellx8640
\pard\intbl\itap1\pardeftab720\qr\partightenfactor0
\cf2 \cell 
\pard\intbl\itap1\pardeftab720\partightenfactor0
\cf2   \},\cell \row

\itap1\trowd \taflags1 \trgaph108\trleft-108 \trcbpat3 \trbrdrl\brdrnil \trbrdrr\brdrnil 
\clvertalt \clshdrawnil \clwWidth1000\clftsWidth3 \clminw1000 \clbrdrt\brdrnil \clbrdrl\brdrnil \clbrdrb\brdrnil \clbrdrr\brdrnil \clpadl200 \clpadr200 \gaph\cellx4320
\clvertalt \clshdrawnil \clwWidth9921822\clftsWidth3 \clbrdrt\brdrnil \clbrdrl\brdrnil \clbrdrb\brdrnil \clbrdrr\brdrnil \clpadl200 \clpadr200 \gaph\cellx8640
\pard\intbl\itap1\pardeftab720\qr\partightenfactor0
\cf2 \cell 
\pard\intbl\itap1\pardeftab720\partightenfactor0
\cf2   \{\cell \row

\itap1\trowd \taflags1 \trgaph108\trleft-108 \trcbpat3 \trbrdrl\brdrnil \trbrdrr\brdrnil 
\clvertalt \clshdrawnil \clwWidth1000\clftsWidth3 \clminw1000 \clbrdrt\brdrnil \clbrdrl\brdrnil \clbrdrb\brdrnil \clbrdrr\brdrnil \clpadl200 \clpadr200 \gaph\cellx4320
\clvertalt \clshdrawnil \clwWidth9921822\clftsWidth3 \clbrdrt\brdrnil \clbrdrl\brdrnil \clbrdrb\brdrnil \clbrdrr\brdrnil \clpadl200 \clpadr200 \gaph\cellx8640
\pard\intbl\itap1\pardeftab720\qr\partightenfactor0
\cf2 \cell 
\pard\intbl\itap1\pardeftab720\partightenfactor0
\cf2    "cell_type": "markdown",\cell \row

\itap1\trowd \taflags1 \trgaph108\trleft-108 \trcbpat3 \trbrdrl\brdrnil \trbrdrr\brdrnil 
\clvertalt \clshdrawnil \clwWidth1000\clftsWidth3 \clminw1000 \clbrdrt\brdrnil \clbrdrl\brdrnil \clbrdrb\brdrnil \clbrdrr\brdrnil \clpadl200 \clpadr200 \gaph\cellx4320
\clvertalt \clshdrawnil \clwWidth9921822\clftsWidth3 \clbrdrt\brdrnil \clbrdrl\brdrnil \clbrdrb\brdrnil \clbrdrr\brdrnil \clpadl200 \clpadr200 \gaph\cellx8640
\pard\intbl\itap1\pardeftab720\qr\partightenfactor0
\cf2 \cell 
\pard\intbl\itap1\pardeftab720\partightenfactor0
\cf2    "metadata": \{\},\cell \row

\itap1\trowd \taflags1 \trgaph108\trleft-108 \trcbpat3 \trbrdrl\brdrnil \trbrdrr\brdrnil 
\clvertalt \clshdrawnil \clwWidth1000\clftsWidth3 \clminw1000 \clbrdrt\brdrnil \clbrdrl\brdrnil \clbrdrb\brdrnil \clbrdrr\brdrnil \clpadl200 \clpadr200 \gaph\cellx4320
\clvertalt \clshdrawnil \clwWidth9921822\clftsWidth3 \clbrdrt\brdrnil \clbrdrl\brdrnil \clbrdrb\brdrnil \clbrdrr\brdrnil \clpadl200 \clpadr200 \gaph\cellx8640
\pard\intbl\itap1\pardeftab720\qr\partightenfactor0
\cf2 \cell 
\pard\intbl\itap1\pardeftab720\partightenfactor0
\cf2    "source": [\cell \row

\itap1\trowd \taflags1 \trgaph108\trleft-108 \trcbpat3 \trbrdrl\brdrnil \trbrdrr\brdrnil 
\clvertalt \clshdrawnil \clwWidth1000\clftsWidth3 \clminw1000 \clbrdrt\brdrnil \clbrdrl\brdrnil \clbrdrb\brdrnil \clbrdrr\brdrnil \clpadl200 \clpadr200 \gaph\cellx4320
\clvertalt \clshdrawnil \clwWidth9921822\clftsWidth3 \clbrdrt\brdrnil \clbrdrl\brdrnil \clbrdrb\brdrnil \clbrdrr\brdrnil \clpadl200 \clpadr200 \gaph\cellx8640
\pard\intbl\itap1\pardeftab720\qr\partightenfactor0
\cf2 \cell 
\pard\intbl\itap1\pardeftab720\partightenfactor0
\cf2     "#### 2.2.1 Read image"\cell \row

\itap1\trowd \taflags1 \trgaph108\trleft-108 \trcbpat3 \trbrdrl\brdrnil \trbrdrr\brdrnil 
\clvertalt \clshdrawnil \clwWidth1000\clftsWidth3 \clminw1000 \clbrdrt\brdrnil \clbrdrl\brdrnil \clbrdrb\brdrnil \clbrdrr\brdrnil \clpadl200 \clpadr200 \gaph\cellx4320
\clvertalt \clshdrawnil \clwWidth9921822\clftsWidth3 \clbrdrt\brdrnil \clbrdrl\brdrnil \clbrdrb\brdrnil \clbrdrr\brdrnil \clpadl200 \clpadr200 \gaph\cellx8640
\pard\intbl\itap1\pardeftab720\qr\partightenfactor0
\cf2 \cell 
\pard\intbl\itap1\pardeftab720\partightenfactor0
\cf2    ]\cell \row

\itap1\trowd \taflags1 \trgaph108\trleft-108 \trcbpat3 \trbrdrl\brdrnil \trbrdrr\brdrnil 
\clvertalt \clshdrawnil \clwWidth1000\clftsWidth3 \clminw1000 \clbrdrt\brdrnil \clbrdrl\brdrnil \clbrdrb\brdrnil \clbrdrr\brdrnil \clpadl200 \clpadr200 \gaph\cellx4320
\clvertalt \clshdrawnil \clwWidth9921822\clftsWidth3 \clbrdrt\brdrnil \clbrdrl\brdrnil \clbrdrb\brdrnil \clbrdrr\brdrnil \clpadl200 \clpadr200 \gaph\cellx8640
\pard\intbl\itap1\pardeftab720\qr\partightenfactor0
\cf2 \cell 
\pard\intbl\itap1\pardeftab720\partightenfactor0
\cf2   \},\cell \row

\itap1\trowd \taflags1 \trgaph108\trleft-108 \trcbpat3 \trbrdrl\brdrnil \trbrdrr\brdrnil 
\clvertalt \clshdrawnil \clwWidth1000\clftsWidth3 \clminw1000 \clbrdrt\brdrnil \clbrdrl\brdrnil \clbrdrb\brdrnil \clbrdrr\brdrnil \clpadl200 \clpadr200 \gaph\cellx4320
\clvertalt \clshdrawnil \clwWidth9921822\clftsWidth3 \clbrdrt\brdrnil \clbrdrl\brdrnil \clbrdrb\brdrnil \clbrdrr\brdrnil \clpadl200 \clpadr200 \gaph\cellx8640
\pard\intbl\itap1\pardeftab720\qr\partightenfactor0
\cf2 \cell 
\pard\intbl\itap1\pardeftab720\partightenfactor0
\cf2   \{\cell \row

\itap1\trowd \taflags1 \trgaph108\trleft-108 \trcbpat3 \trbrdrl\brdrnil \trbrdrr\brdrnil 
\clvertalt \clshdrawnil \clwWidth1000\clftsWidth3 \clminw1000 \clbrdrt\brdrnil \clbrdrl\brdrnil \clbrdrb\brdrnil \clbrdrr\brdrnil \clpadl200 \clpadr200 \gaph\cellx4320
\clvertalt \clshdrawnil \clwWidth9921822\clftsWidth3 \clbrdrt\brdrnil \clbrdrl\brdrnil \clbrdrb\brdrnil \clbrdrr\brdrnil \clpadl200 \clpadr200 \gaph\cellx8640
\pard\intbl\itap1\pardeftab720\qr\partightenfactor0
\cf2 \cell 
\pard\intbl\itap1\pardeftab720\partightenfactor0
\cf2    "cell_type": "code",\cell \row

\itap1\trowd \taflags1 \trgaph108\trleft-108 \trcbpat3 \trbrdrl\brdrnil \trbrdrr\brdrnil 
\clvertalt \clshdrawnil \clwWidth1000\clftsWidth3 \clminw1000 \clbrdrt\brdrnil \clbrdrl\brdrnil \clbrdrb\brdrnil \clbrdrr\brdrnil \clpadl200 \clpadr200 \gaph\cellx4320
\clvertalt \clshdrawnil \clwWidth9921822\clftsWidth3 \clbrdrt\brdrnil \clbrdrl\brdrnil \clbrdrb\brdrnil \clbrdrr\brdrnil \clpadl200 \clpadr200 \gaph\cellx8640
\pard\intbl\itap1\pardeftab720\qr\partightenfactor0
\cf2 \cell 
\pard\intbl\itap1\pardeftab720\partightenfactor0
\cf2    "execution_count": 4,\cell \row

\itap1\trowd \taflags1 \trgaph108\trleft-108 \trcbpat3 \trbrdrl\brdrnil \trbrdrr\brdrnil 
\clvertalt \clshdrawnil \clwWidth1000\clftsWidth3 \clminw1000 \clbrdrt\brdrnil \clbrdrl\brdrnil \clbrdrb\brdrnil \clbrdrr\brdrnil \clpadl200 \clpadr200 \gaph\cellx4320
\clvertalt \clshdrawnil \clwWidth9921822\clftsWidth3 \clbrdrt\brdrnil \clbrdrl\brdrnil \clbrdrb\brdrnil \clbrdrr\brdrnil \clpadl200 \clpadr200 \gaph\cellx8640
\pard\intbl\itap1\pardeftab720\qr\partightenfactor0
\cf2 \cell 
\pard\intbl\itap1\pardeftab720\partightenfactor0
\cf2    "metadata": \{\},\cell \row

\itap1\trowd \taflags1 \trgaph108\trleft-108 \trcbpat3 \trbrdrl\brdrnil \trbrdrr\brdrnil 
\clvertalt \clshdrawnil \clwWidth1000\clftsWidth3 \clminw1000 \clbrdrt\brdrnil \clbrdrl\brdrnil \clbrdrb\brdrnil \clbrdrr\brdrnil \clpadl200 \clpadr200 \gaph\cellx4320
\clvertalt \clshdrawnil \clwWidth9921822\clftsWidth3 \clbrdrt\brdrnil \clbrdrl\brdrnil \clbrdrb\brdrnil \clbrdrr\brdrnil \clpadl200 \clpadr200 \gaph\cellx8640
\pard\intbl\itap1\pardeftab720\qr\partightenfactor0
\cf2 \cell 
\pard\intbl\itap1\pardeftab720\partightenfactor0
\cf2    "outputs": [\cell \row

\itap1\trowd \taflags1 \trgaph108\trleft-108 \trcbpat3 \trbrdrl\brdrnil \trbrdrr\brdrnil 
\clvertalt \clshdrawnil \clwWidth1000\clftsWidth3 \clminw1000 \clbrdrt\brdrnil \clbrdrl\brdrnil \clbrdrb\brdrnil \clbrdrr\brdrnil \clpadl200 \clpadr200 \gaph\cellx4320
\clvertalt \clshdrawnil \clwWidth9921822\clftsWidth3 \clbrdrt\brdrnil \clbrdrl\brdrnil \clbrdrb\brdrnil \clbrdrr\brdrnil \clpadl200 \clpadr200 \gaph\cellx8640
\pard\intbl\itap1\pardeftab720\qr\partightenfactor0
\cf2 \cell 
\pard\intbl\itap1\pardeftab720\partightenfactor0
\cf2     \{\cell \row

\itap1\trowd \taflags1 \trgaph108\trleft-108 \trcbpat3 \trbrdrl\brdrnil \trbrdrr\brdrnil 
\clvertalt \clshdrawnil \clwWidth1000\clftsWidth3 \clminw1000 \clbrdrt\brdrnil \clbrdrl\brdrnil \clbrdrb\brdrnil \clbrdrr\brdrnil \clpadl200 \clpadr200 \gaph\cellx4320
\clvertalt \clshdrawnil \clwWidth9921822\clftsWidth3 \clbrdrt\brdrnil \clbrdrl\brdrnil \clbrdrb\brdrnil \clbrdrr\brdrnil \clpadl200 \clpadr200 \gaph\cellx8640
\pard\intbl\itap1\pardeftab720\qr\partightenfactor0
\cf2 \cell 
\pard\intbl\itap1\pardeftab720\partightenfactor0
\cf2      "data": \{\cell \row

\itap1\trowd \taflags1 \trgaph108\trleft-108 \trcbpat3 \trbrdrl\brdrnil \trbrdrr\brdrnil 
\clvertalt \clshdrawnil \clwWidth1000\clftsWidth3 \clminw1000 \clbrdrt\brdrnil \clbrdrl\brdrnil \clbrdrb\brdrnil \clbrdrr\brdrnil \clpadl200 \clpadr200 \gaph\cellx4320
\clvertalt \clshdrawnil \clwWidth9921822\clftsWidth3 \clbrdrt\brdrnil \clbrdrl\brdrnil \clbrdrb\brdrnil \clbrdrr\brdrnil \clpadl200 \clpadr200 \gaph\cellx8640
\pard\intbl\itap1\pardeftab720\qr\partightenfactor0
\cf2 \cell 
\pard\intbl\itap1\pardeftab720\partightenfactor0
\cf2       "text/plain": [\cell \row

\itap1\trowd \taflags1 \trgaph108\trleft-108 \trcbpat3 \trbrdrl\brdrnil \trbrdrr\brdrnil 
\clvertalt \clshdrawnil \clwWidth1000\clftsWidth3 \clminw1000 \clbrdrt\brdrnil \clbrdrl\brdrnil \clbrdrb\brdrnil \clbrdrr\brdrnil \clpadl200 \clpadr200 \gaph\cellx4320
\clvertalt \clshdrawnil \clwWidth9921822\clftsWidth3 \clbrdrt\brdrnil \clbrdrl\brdrnil \clbrdrb\brdrnil \clbrdrr\brdrnil \clpadl200 \clpadr200 \gaph\cellx8640
\pard\intbl\itap1\pardeftab720\qr\partightenfactor0
\cf2 \cell 
\pard\intbl\itap1\pardeftab720\partightenfactor0
\cf2        "<matplotlib.image.AxesImage at 0x1babb83aa88>"\cell \row

\itap1\trowd \taflags1 \trgaph108\trleft-108 \trcbpat3 \trbrdrl\brdrnil \trbrdrr\brdrnil 
\clvertalt \clshdrawnil \clwWidth1000\clftsWidth3 \clminw1000 \clbrdrt\brdrnil \clbrdrl\brdrnil \clbrdrb\brdrnil \clbrdrr\brdrnil \clpadl200 \clpadr200 \gaph\cellx4320
\clvertalt \clshdrawnil \clwWidth9921822\clftsWidth3 \clbrdrt\brdrnil \clbrdrl\brdrnil \clbrdrb\brdrnil \clbrdrr\brdrnil \clpadl200 \clpadr200 \gaph\cellx8640
\pard\intbl\itap1\pardeftab720\qr\partightenfactor0
\cf2 \cell 
\pard\intbl\itap1\pardeftab720\partightenfactor0
\cf2       ]\cell \row

\itap1\trowd \taflags1 \trgaph108\trleft-108 \trcbpat3 \trbrdrl\brdrnil \trbrdrr\brdrnil 
\clvertalt \clshdrawnil \clwWidth1000\clftsWidth3 \clminw1000 \clbrdrt\brdrnil \clbrdrl\brdrnil \clbrdrb\brdrnil \clbrdrr\brdrnil \clpadl200 \clpadr200 \gaph\cellx4320
\clvertalt \clshdrawnil \clwWidth9921822\clftsWidth3 \clbrdrt\brdrnil \clbrdrl\brdrnil \clbrdrb\brdrnil \clbrdrr\brdrnil \clpadl200 \clpadr200 \gaph\cellx8640
\pard\intbl\itap1\pardeftab720\qr\partightenfactor0
\cf2 \cell 
\pard\intbl\itap1\pardeftab720\partightenfactor0
\cf2      \},\cell \row

\itap1\trowd \taflags1 \trgaph108\trleft-108 \trcbpat3 \trbrdrl\brdrnil \trbrdrr\brdrnil 
\clvertalt \clshdrawnil \clwWidth1000\clftsWidth3 \clminw1000 \clbrdrt\brdrnil \clbrdrl\brdrnil \clbrdrb\brdrnil \clbrdrr\brdrnil \clpadl200 \clpadr200 \gaph\cellx4320
\clvertalt \clshdrawnil \clwWidth9921822\clftsWidth3 \clbrdrt\brdrnil \clbrdrl\brdrnil \clbrdrb\brdrnil \clbrdrr\brdrnil \clpadl200 \clpadr200 \gaph\cellx8640
\pard\intbl\itap1\pardeftab720\qr\partightenfactor0
\cf2 \cell 
\pard\intbl\itap1\pardeftab720\partightenfactor0
\cf2      "execution_count": 4,\cell \row

\itap1\trowd \taflags1 \trgaph108\trleft-108 \trcbpat3 \trbrdrl\brdrnil \trbrdrr\brdrnil 
\clvertalt \clshdrawnil \clwWidth1000\clftsWidth3 \clminw1000 \clbrdrt\brdrnil \clbrdrl\brdrnil \clbrdrb\brdrnil \clbrdrr\brdrnil \clpadl200 \clpadr200 \gaph\cellx4320
\clvertalt \clshdrawnil \clwWidth9921822\clftsWidth3 \clbrdrt\brdrnil \clbrdrl\brdrnil \clbrdrb\brdrnil \clbrdrr\brdrnil \clpadl200 \clpadr200 \gaph\cellx8640
\pard\intbl\itap1\pardeftab720\qr\partightenfactor0
\cf2 \cell 
\pard\intbl\itap1\pardeftab720\partightenfactor0
\cf2      "metadata": \{\},\cell \row

\itap1\trowd \taflags1 \trgaph108\trleft-108 \trcbpat3 \trbrdrl\brdrnil \trbrdrr\brdrnil 
\clvertalt \clshdrawnil \clwWidth1000\clftsWidth3 \clminw1000 \clbrdrt\brdrnil \clbrdrl\brdrnil \clbrdrb\brdrnil \clbrdrr\brdrnil \clpadl200 \clpadr200 \gaph\cellx4320
\clvertalt \clshdrawnil \clwWidth9921822\clftsWidth3 \clbrdrt\brdrnil \clbrdrl\brdrnil \clbrdrb\brdrnil \clbrdrr\brdrnil \clpadl200 \clpadr200 \gaph\cellx8640
\pard\intbl\itap1\pardeftab720\qr\partightenfactor0
\cf2 \cell 
\pard\intbl\itap1\pardeftab720\partightenfactor0
\cf2      "output_type": "execute_result"\cell \row

\itap1\trowd \taflags1 \trgaph108\trleft-108 \trcbpat3 \trbrdrl\brdrnil \trbrdrr\brdrnil 
\clvertalt \clshdrawnil \clwWidth1000\clftsWidth3 \clminw1000 \clbrdrt\brdrnil \clbrdrl\brdrnil \clbrdrb\brdrnil \clbrdrr\brdrnil \clpadl200 \clpadr200 \gaph\cellx4320
\clvertalt \clshdrawnil \clwWidth9921822\clftsWidth3 \clbrdrt\brdrnil \clbrdrl\brdrnil \clbrdrb\brdrnil \clbrdrr\brdrnil \clpadl200 \clpadr200 \gaph\cellx8640
\pard\intbl\itap1\pardeftab720\qr\partightenfactor0
\cf2 \cell 
\pard\intbl\itap1\pardeftab720\partightenfactor0
\cf2     \},\cell \row

\itap1\trowd \taflags1 \trgaph108\trleft-108 \trcbpat3 \trbrdrl\brdrnil \trbrdrr\brdrnil 
\clvertalt \clshdrawnil \clwWidth1000\clftsWidth3 \clminw1000 \clbrdrt\brdrnil \clbrdrl\brdrnil \clbrdrb\brdrnil \clbrdrr\brdrnil \clpadl200 \clpadr200 \gaph\cellx4320
\clvertalt \clshdrawnil \clwWidth9921822\clftsWidth3 \clbrdrt\brdrnil \clbrdrl\brdrnil \clbrdrb\brdrnil \clbrdrr\brdrnil \clpadl200 \clpadr200 \gaph\cellx8640
\pard\intbl\itap1\pardeftab720\qr\partightenfactor0
\cf2 \cell 
\pard\intbl\itap1\pardeftab720\partightenfactor0
\cf2     \{\cell \row

\itap1\trowd \taflags1 \trgaph108\trleft-108 \trcbpat3 \trbrdrl\brdrnil \trbrdrr\brdrnil 
\clvertalt \clshdrawnil \clwWidth1000\clftsWidth3 \clminw1000 \clbrdrt\brdrnil \clbrdrl\brdrnil \clbrdrb\brdrnil \clbrdrr\brdrnil \clpadl200 \clpadr200 \gaph\cellx4320
\clvertalt \clshdrawnil \clwWidth9921822\clftsWidth3 \clbrdrt\brdrnil \clbrdrl\brdrnil \clbrdrb\brdrnil \clbrdrr\brdrnil \clpadl200 \clpadr200 \gaph\cellx8640
\pard\intbl\itap1\pardeftab720\qr\partightenfactor0
\cf2 \cell 
\pard\intbl\itap1\pardeftab720\partightenfactor0
\cf2      "data": \{\cell \row

\itap1\trowd \taflags1 \trgaph108\trleft-108 \trcbpat3 \trbrdrl\brdrnil \trbrdrr\brdrnil 
\clvertalt \clshdrawnil \clwWidth1000\clftsWidth3 \clminw1000 \clbrdrt\brdrnil \clbrdrl\brdrnil \clbrdrb\brdrnil \clbrdrr\brdrnil \clpadl200 \clpadr200 \gaph\cellx4320
\clvertalt \clshdrawnil \clwWidth9921822\clftsWidth3 \clbrdrt\brdrnil \clbrdrl\brdrnil \clbrdrb\brdrnil \clbrdrr\brdrnil \clpadl200 \clpadr200 \gaph\cellx8640
\pard\intbl\itap1\pardeftab720\qr\partightenfactor0
\cf2 \cell 
\pard\intbl\itap1\pardeftab720\partightenfactor0
\cf2       "image/png": "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\\n",\cell \row

\itap1\trowd \taflags1 \trgaph108\trleft-108 \trcbpat3 \trbrdrl\brdrnil \trbrdrr\brdrnil 
\clvertalt \clshdrawnil \clwWidth1000\clftsWidth3 \clminw1000 \clbrdrt\brdrnil \clbrdrl\brdrnil \clbrdrb\brdrnil \clbrdrr\brdrnil \clpadl200 \clpadr200 \gaph\cellx4320
\clvertalt \clshdrawnil \clwWidth9921822\clftsWidth3 \clbrdrt\brdrnil \clbrdrl\brdrnil \clbrdrb\brdrnil \clbrdrr\brdrnil \clpadl200 \clpadr200 \gaph\cellx8640
\pard\intbl\itap1\pardeftab720\qr\partightenfactor0
\cf2 \cell 
\pard\intbl\itap1\pardeftab720\partightenfactor0
\cf2       "text/plain": [\cell \row

\itap1\trowd \taflags1 \trgaph108\trleft-108 \trcbpat3 \trbrdrl\brdrnil \trbrdrr\brdrnil 
\clvertalt \clshdrawnil \clwWidth1000\clftsWidth3 \clminw1000 \clbrdrt\brdrnil \clbrdrl\brdrnil \clbrdrb\brdrnil \clbrdrr\brdrnil \clpadl200 \clpadr200 \gaph\cellx4320
\clvertalt \clshdrawnil \clwWidth9921822\clftsWidth3 \clbrdrt\brdrnil \clbrdrl\brdrnil \clbrdrb\brdrnil \clbrdrr\brdrnil \clpadl200 \clpadr200 \gaph\cellx8640
\pard\intbl\itap1\pardeftab720\qr\partightenfactor0
\cf2 \cell 
\pard\intbl\itap1\pardeftab720\partightenfactor0
\cf2        "<Figure size 432x288 with 1 Axes>"\cell \row

\itap1\trowd \taflags1 \trgaph108\trleft-108 \trcbpat3 \trbrdrl\brdrnil \trbrdrr\brdrnil 
\clvertalt \clshdrawnil \clwWidth1000\clftsWidth3 \clminw1000 \clbrdrt\brdrnil \clbrdrl\brdrnil \clbrdrb\brdrnil \clbrdrr\brdrnil \clpadl200 \clpadr200 \gaph\cellx4320
\clvertalt \clshdrawnil \clwWidth9921822\clftsWidth3 \clbrdrt\brdrnil \clbrdrl\brdrnil \clbrdrb\brdrnil \clbrdrr\brdrnil \clpadl200 \clpadr200 \gaph\cellx8640
\pard\intbl\itap1\pardeftab720\qr\partightenfactor0
\cf2 \cell 
\pard\intbl\itap1\pardeftab720\partightenfactor0
\cf2       ]\cell \row

\itap1\trowd \taflags1 \trgaph108\trleft-108 \trcbpat3 \trbrdrl\brdrnil \trbrdrr\brdrnil 
\clvertalt \clshdrawnil \clwWidth1000\clftsWidth3 \clminw1000 \clbrdrt\brdrnil \clbrdrl\brdrnil \clbrdrb\brdrnil \clbrdrr\brdrnil \clpadl200 \clpadr200 \gaph\cellx4320
\clvertalt \clshdrawnil \clwWidth9921822\clftsWidth3 \clbrdrt\brdrnil \clbrdrl\brdrnil \clbrdrb\brdrnil \clbrdrr\brdrnil \clpadl200 \clpadr200 \gaph\cellx8640
\pard\intbl\itap1\pardeftab720\qr\partightenfactor0
\cf2 \cell 
\pard\intbl\itap1\pardeftab720\partightenfactor0
\cf2      \},\cell \row

\itap1\trowd \taflags1 \trgaph108\trleft-108 \trcbpat3 \trbrdrl\brdrnil \trbrdrr\brdrnil 
\clvertalt \clshdrawnil \clwWidth1000\clftsWidth3 \clminw1000 \clbrdrt\brdrnil \clbrdrl\brdrnil \clbrdrb\brdrnil \clbrdrr\brdrnil \clpadl200 \clpadr200 \gaph\cellx4320
\clvertalt \clshdrawnil \clwWidth9921822\clftsWidth3 \clbrdrt\brdrnil \clbrdrl\brdrnil \clbrdrb\brdrnil \clbrdrr\brdrnil \clpadl200 \clpadr200 \gaph\cellx8640
\pard\intbl\itap1\pardeftab720\qr\partightenfactor0
\cf2 \cell 
\pard\intbl\itap1\pardeftab720\partightenfactor0
\cf2      "metadata": \{\cell \row

\itap1\trowd \taflags1 \trgaph108\trleft-108 \trcbpat3 \trbrdrl\brdrnil \trbrdrr\brdrnil 
\clvertalt \clshdrawnil \clwWidth1000\clftsWidth3 \clminw1000 \clbrdrt\brdrnil \clbrdrl\brdrnil \clbrdrb\brdrnil \clbrdrr\brdrnil \clpadl200 \clpadr200 \gaph\cellx4320
\clvertalt \clshdrawnil \clwWidth9921822\clftsWidth3 \clbrdrt\brdrnil \clbrdrl\brdrnil \clbrdrb\brdrnil \clbrdrr\brdrnil \clpadl200 \clpadr200 \gaph\cellx8640
\pard\intbl\itap1\pardeftab720\qr\partightenfactor0
\cf2 \cell 
\pard\intbl\itap1\pardeftab720\partightenfactor0
\cf2       "needs_background": "light"\cell \row

\itap1\trowd \taflags1 \trgaph108\trleft-108 \trcbpat3 \trbrdrl\brdrnil \trbrdrr\brdrnil 
\clvertalt \clshdrawnil \clwWidth1000\clftsWidth3 \clminw1000 \clbrdrt\brdrnil \clbrdrl\brdrnil \clbrdrb\brdrnil \clbrdrr\brdrnil \clpadl200 \clpadr200 \gaph\cellx4320
\clvertalt \clshdrawnil \clwWidth9921822\clftsWidth3 \clbrdrt\brdrnil \clbrdrl\brdrnil \clbrdrb\brdrnil \clbrdrr\brdrnil \clpadl200 \clpadr200 \gaph\cellx8640
\pard\intbl\itap1\pardeftab720\qr\partightenfactor0
\cf2 \cell 
\pard\intbl\itap1\pardeftab720\partightenfactor0
\cf2      \},\cell \row

\itap1\trowd \taflags1 \trgaph108\trleft-108 \trcbpat3 \trbrdrl\brdrnil \trbrdrr\brdrnil 
\clvertalt \clshdrawnil \clwWidth1000\clftsWidth3 \clminw1000 \clbrdrt\brdrnil \clbrdrl\brdrnil \clbrdrb\brdrnil \clbrdrr\brdrnil \clpadl200 \clpadr200 \gaph\cellx4320
\clvertalt \clshdrawnil \clwWidth9921822\clftsWidth3 \clbrdrt\brdrnil \clbrdrl\brdrnil \clbrdrb\brdrnil \clbrdrr\brdrnil \clpadl200 \clpadr200 \gaph\cellx8640
\pard\intbl\itap1\pardeftab720\qr\partightenfactor0
\cf2 \cell 
\pard\intbl\itap1\pardeftab720\partightenfactor0
\cf2      "output_type": "display_data"\cell \row

\itap1\trowd \taflags1 \trgaph108\trleft-108 \trcbpat3 \trbrdrl\brdrnil \trbrdrr\brdrnil 
\clvertalt \clshdrawnil \clwWidth1000\clftsWidth3 \clminw1000 \clbrdrt\brdrnil \clbrdrl\brdrnil \clbrdrb\brdrnil \clbrdrr\brdrnil \clpadl200 \clpadr200 \gaph\cellx4320
\clvertalt \clshdrawnil \clwWidth9921822\clftsWidth3 \clbrdrt\brdrnil \clbrdrl\brdrnil \clbrdrb\brdrnil \clbrdrr\brdrnil \clpadl200 \clpadr200 \gaph\cellx8640
\pard\intbl\itap1\pardeftab720\qr\partightenfactor0
\cf2 \cell 
\pard\intbl\itap1\pardeftab720\partightenfactor0
\cf2     \}\cell \row

\itap1\trowd \taflags1 \trgaph108\trleft-108 \trcbpat3 \trbrdrl\brdrnil \trbrdrr\brdrnil 
\clvertalt \clshdrawnil \clwWidth1000\clftsWidth3 \clminw1000 \clbrdrt\brdrnil \clbrdrl\brdrnil \clbrdrb\brdrnil \clbrdrr\brdrnil \clpadl200 \clpadr200 \gaph\cellx4320
\clvertalt \clshdrawnil \clwWidth9921822\clftsWidth3 \clbrdrt\brdrnil \clbrdrl\brdrnil \clbrdrb\brdrnil \clbrdrr\brdrnil \clpadl200 \clpadr200 \gaph\cellx8640
\pard\intbl\itap1\pardeftab720\qr\partightenfactor0
\cf2 \cell 
\pard\intbl\itap1\pardeftab720\partightenfactor0
\cf2    ],\cell \row

\itap1\trowd \taflags1 \trgaph108\trleft-108 \trcbpat3 \trbrdrl\brdrnil \trbrdrr\brdrnil 
\clvertalt \clshdrawnil \clwWidth1000\clftsWidth3 \clminw1000 \clbrdrt\brdrnil \clbrdrl\brdrnil \clbrdrb\brdrnil \clbrdrr\brdrnil \clpadl200 \clpadr200 \gaph\cellx4320
\clvertalt \clshdrawnil \clwWidth9921822\clftsWidth3 \clbrdrt\brdrnil \clbrdrl\brdrnil \clbrdrb\brdrnil \clbrdrr\brdrnil \clpadl200 \clpadr200 \gaph\cellx8640
\pard\intbl\itap1\pardeftab720\qr\partightenfactor0
\cf2 \cell 
\pard\intbl\itap1\pardeftab720\partightenfactor0
\cf2    "source": [\cell \row

\itap1\trowd \taflags1 \trgaph108\trleft-108 \trcbpat3 \trbrdrl\brdrnil \trbrdrr\brdrnil 
\clvertalt \clshdrawnil \clwWidth1000\clftsWidth3 \clminw1000 \clbrdrt\brdrnil \clbrdrl\brdrnil \clbrdrb\brdrnil \clbrdrr\brdrnil \clpadl200 \clpadr200 \gaph\cellx4320
\clvertalt \clshdrawnil \clwWidth9921822\clftsWidth3 \clbrdrt\brdrnil \clbrdrl\brdrnil \clbrdrb\brdrnil \clbrdrr\brdrnil \clpadl200 \clpadr200 \gaph\cellx8640
\pard\intbl\itap1\pardeftab720\qr\partightenfactor0
\cf2 \cell 
\pard\intbl\itap1\pardeftab720\partightenfactor0
\cf2     "im_ball = cv2.imread(im_fg_dir_path + \\"im_ball.jpg\\")\\n",\cell \row

\itap1\trowd \taflags1 \trgaph108\trleft-108 \trcbpat3 \trbrdrl\brdrnil \trbrdrr\brdrnil 
\clvertalt \clshdrawnil \clwWidth1000\clftsWidth3 \clminw1000 \clbrdrt\brdrnil \clbrdrl\brdrnil \clbrdrb\brdrnil \clbrdrr\brdrnil \clpadl200 \clpadr200 \gaph\cellx4320
\clvertalt \clshdrawnil \clwWidth9921822\clftsWidth3 \clbrdrt\brdrnil \clbrdrl\brdrnil \clbrdrb\brdrnil \clbrdrr\brdrnil \clpadl200 \clpadr200 \gaph\cellx8640
\pard\intbl\itap1\pardeftab720\qr\partightenfactor0
\cf2 \cell 
\pard\intbl\itap1\pardeftab720\partightenfactor0
\cf2     "im_ball_gray = cv2.cvtColor(im_ball, cv2.COLOR_BGR2GRAY)\\n",\cell \row

\itap1\trowd \taflags1 \trgaph108\trleft-108 \trcbpat3 \trbrdrl\brdrnil \trbrdrr\brdrnil 
\clvertalt \clshdrawnil \clwWidth1000\clftsWidth3 \clminw1000 \clbrdrt\brdrnil \clbrdrl\brdrnil \clbrdrb\brdrnil \clbrdrr\brdrnil \clpadl200 \clpadr200 \gaph\cellx4320
\clvertalt \clshdrawnil \clwWidth9921822\clftsWidth3 \clbrdrt\brdrnil \clbrdrl\brdrnil \clbrdrb\brdrnil \clbrdrr\brdrnil \clpadl200 \clpadr200 \gaph\cellx8640
\pard\intbl\itap1\pardeftab720\qr\partightenfactor0
\cf2 \cell 
\pard\intbl\itap1\pardeftab720\partightenfactor0
\cf2     "\\n",\cell \row

\itap1\trowd \taflags1 \trgaph108\trleft-108 \trcbpat3 \trbrdrl\brdrnil \trbrdrr\brdrnil 
\clvertalt \clshdrawnil \clwWidth1000\clftsWidth3 \clminw1000 \clbrdrt\brdrnil \clbrdrl\brdrnil \clbrdrb\brdrnil \clbrdrr\brdrnil \clpadl200 \clpadr200 \gaph\cellx4320
\clvertalt \clshdrawnil \clwWidth9921822\clftsWidth3 \clbrdrt\brdrnil \clbrdrl\brdrnil \clbrdrb\brdrnil \clbrdrr\brdrnil \clpadl200 \clpadr200 \gaph\cellx8640
\pard\intbl\itap1\pardeftab720\qr\partightenfactor0
\cf2 \cell 
\pard\intbl\itap1\pardeftab720\partightenfactor0
\cf2     "plt.figure()\\n",\cell \row

\itap1\trowd \taflags1 \trgaph108\trleft-108 \trcbpat3 \trbrdrl\brdrnil \trbrdrr\brdrnil 
\clvertalt \clshdrawnil \clwWidth1000\clftsWidth3 \clminw1000 \clbrdrt\brdrnil \clbrdrl\brdrnil \clbrdrb\brdrnil \clbrdrr\brdrnil \clpadl200 \clpadr200 \gaph\cellx4320
\clvertalt \clshdrawnil \clwWidth9921822\clftsWidth3 \clbrdrt\brdrnil \clbrdrl\brdrnil \clbrdrb\brdrnil \clbrdrr\brdrnil \clpadl200 \clpadr200 \gaph\cellx8640
\pard\intbl\itap1\pardeftab720\qr\partightenfactor0
\cf2 \cell 
\pard\intbl\itap1\pardeftab720\partightenfactor0
\cf2     "plt.imshow(im_ball_gray, cmap='gray', vmin=0, vmax=255)"\cell \row

\itap1\trowd \taflags1 \trgaph108\trleft-108 \trcbpat3 \trbrdrl\brdrnil \trbrdrr\brdrnil 
\clvertalt \clshdrawnil \clwWidth1000\clftsWidth3 \clminw1000 \clbrdrt\brdrnil \clbrdrl\brdrnil \clbrdrb\brdrnil \clbrdrr\brdrnil \clpadl200 \clpadr200 \gaph\cellx4320
\clvertalt \clshdrawnil \clwWidth9921822\clftsWidth3 \clbrdrt\brdrnil \clbrdrl\brdrnil \clbrdrb\brdrnil \clbrdrr\brdrnil \clpadl200 \clpadr200 \gaph\cellx8640
\pard\intbl\itap1\pardeftab720\qr\partightenfactor0
\cf2 \cell 
\pard\intbl\itap1\pardeftab720\partightenfactor0
\cf2    ]\cell \row

\itap1\trowd \taflags1 \trgaph108\trleft-108 \trcbpat3 \trbrdrl\brdrnil \trbrdrr\brdrnil 
\clvertalt \clshdrawnil \clwWidth1000\clftsWidth3 \clminw1000 \clbrdrt\brdrnil \clbrdrl\brdrnil \clbrdrb\brdrnil \clbrdrr\brdrnil \clpadl200 \clpadr200 \gaph\cellx4320
\clvertalt \clshdrawnil \clwWidth9921822\clftsWidth3 \clbrdrt\brdrnil \clbrdrl\brdrnil \clbrdrb\brdrnil \clbrdrr\brdrnil \clpadl200 \clpadr200 \gaph\cellx8640
\pard\intbl\itap1\pardeftab720\qr\partightenfactor0
\cf2 \cell 
\pard\intbl\itap1\pardeftab720\partightenfactor0
\cf2   \},\cell \row

\itap1\trowd \taflags1 \trgaph108\trleft-108 \trcbpat3 \trbrdrl\brdrnil \trbrdrr\brdrnil 
\clvertalt \clshdrawnil \clwWidth1000\clftsWidth3 \clminw1000 \clbrdrt\brdrnil \clbrdrl\brdrnil \clbrdrb\brdrnil \clbrdrr\brdrnil \clpadl200 \clpadr200 \gaph\cellx4320
\clvertalt \clshdrawnil \clwWidth9921822\clftsWidth3 \clbrdrt\brdrnil \clbrdrl\brdrnil \clbrdrb\brdrnil \clbrdrr\brdrnil \clpadl200 \clpadr200 \gaph\cellx8640
\pard\intbl\itap1\pardeftab720\qr\partightenfactor0
\cf2 \cell 
\pard\intbl\itap1\pardeftab720\partightenfactor0
\cf2   \{\cell \row

\itap1\trowd \taflags1 \trgaph108\trleft-108 \trcbpat3 \trbrdrl\brdrnil \trbrdrr\brdrnil 
\clvertalt \clshdrawnil \clwWidth1000\clftsWidth3 \clminw1000 \clbrdrt\brdrnil \clbrdrl\brdrnil \clbrdrb\brdrnil \clbrdrr\brdrnil \clpadl200 \clpadr200 \gaph\cellx4320
\clvertalt \clshdrawnil \clwWidth9921822\clftsWidth3 \clbrdrt\brdrnil \clbrdrl\brdrnil \clbrdrb\brdrnil \clbrdrr\brdrnil \clpadl200 \clpadr200 \gaph\cellx8640
\pard\intbl\itap1\pardeftab720\qr\partightenfactor0
\cf2 \cell 
\pard\intbl\itap1\pardeftab720\partightenfactor0
\cf2    "cell_type": "markdown",\cell \row

\itap1\trowd \taflags1 \trgaph108\trleft-108 \trcbpat3 \trbrdrl\brdrnil \trbrdrr\brdrnil 
\clvertalt \clshdrawnil \clwWidth1000\clftsWidth3 \clminw1000 \clbrdrt\brdrnil \clbrdrl\brdrnil \clbrdrb\brdrnil \clbrdrr\brdrnil \clpadl200 \clpadr200 \gaph\cellx4320
\clvertalt \clshdrawnil \clwWidth9921822\clftsWidth3 \clbrdrt\brdrnil \clbrdrl\brdrnil \clbrdrb\brdrnil \clbrdrr\brdrnil \clpadl200 \clpadr200 \gaph\cellx8640
\pard\intbl\itap1\pardeftab720\qr\partightenfactor0
\cf2 \cell 
\pard\intbl\itap1\pardeftab720\partightenfactor0
\cf2    "metadata": \{\},\cell \row

\itap1\trowd \taflags1 \trgaph108\trleft-108 \trcbpat3 \trbrdrl\brdrnil \trbrdrr\brdrnil 
\clvertalt \clshdrawnil \clwWidth1000\clftsWidth3 \clminw1000 \clbrdrt\brdrnil \clbrdrl\brdrnil \clbrdrb\brdrnil \clbrdrr\brdrnil \clpadl200 \clpadr200 \gaph\cellx4320
\clvertalt \clshdrawnil \clwWidth9921822\clftsWidth3 \clbrdrt\brdrnil \clbrdrl\brdrnil \clbrdrb\brdrnil \clbrdrr\brdrnil \clpadl200 \clpadr200 \gaph\cellx8640
\pard\intbl\itap1\pardeftab720\qr\partightenfactor0
\cf2 \cell 
\pard\intbl\itap1\pardeftab720\partightenfactor0
\cf2    "source": [\cell \row

\itap1\trowd \taflags1 \trgaph108\trleft-108 \trcbpat3 \trbrdrl\brdrnil \trbrdrr\brdrnil 
\clvertalt \clshdrawnil \clwWidth1000\clftsWidth3 \clminw1000 \clbrdrt\brdrnil \clbrdrl\brdrnil \clbrdrb\brdrnil \clbrdrr\brdrnil \clpadl200 \clpadr200 \gaph\cellx4320
\clvertalt \clshdrawnil \clwWidth9921822\clftsWidth3 \clbrdrt\brdrnil \clbrdrl\brdrnil \clbrdrb\brdrnil \clbrdrr\brdrnil \clpadl200 \clpadr200 \gaph\cellx8640
\pard\intbl\itap1\pardeftab720\qr\partightenfactor0
\cf2 \cell 
\pard\intbl\itap1\pardeftab720\partightenfactor0
\cf2     "#### 2.2.2 Rescale and binary"\cell \row

\itap1\trowd \taflags1 \trgaph108\trleft-108 \trcbpat3 \trbrdrl\brdrnil \trbrdrr\brdrnil 
\clvertalt \clshdrawnil \clwWidth1000\clftsWidth3 \clminw1000 \clbrdrt\brdrnil \clbrdrl\brdrnil \clbrdrb\brdrnil \clbrdrr\brdrnil \clpadl200 \clpadr200 \gaph\cellx4320
\clvertalt \clshdrawnil \clwWidth9921822\clftsWidth3 \clbrdrt\brdrnil \clbrdrl\brdrnil \clbrdrb\brdrnil \clbrdrr\brdrnil \clpadl200 \clpadr200 \gaph\cellx8640
\pard\intbl\itap1\pardeftab720\qr\partightenfactor0
\cf2 \cell 
\pard\intbl\itap1\pardeftab720\partightenfactor0
\cf2    ]\cell \row

\itap1\trowd \taflags1 \trgaph108\trleft-108 \trcbpat3 \trbrdrl\brdrnil \trbrdrr\brdrnil 
\clvertalt \clshdrawnil \clwWidth1000\clftsWidth3 \clminw1000 \clbrdrt\brdrnil \clbrdrl\brdrnil \clbrdrb\brdrnil \clbrdrr\brdrnil \clpadl200 \clpadr200 \gaph\cellx4320
\clvertalt \clshdrawnil \clwWidth9921822\clftsWidth3 \clbrdrt\brdrnil \clbrdrl\brdrnil \clbrdrb\brdrnil \clbrdrr\brdrnil \clpadl200 \clpadr200 \gaph\cellx8640
\pard\intbl\itap1\pardeftab720\qr\partightenfactor0
\cf2 \cell 
\pard\intbl\itap1\pardeftab720\partightenfactor0
\cf2   \},\cell \row

\itap1\trowd \taflags1 \trgaph108\trleft-108 \trcbpat3 \trbrdrl\brdrnil \trbrdrr\brdrnil 
\clvertalt \clshdrawnil \clwWidth1000\clftsWidth3 \clminw1000 \clbrdrt\brdrnil \clbrdrl\brdrnil \clbrdrb\brdrnil \clbrdrr\brdrnil \clpadl200 \clpadr200 \gaph\cellx4320
\clvertalt \clshdrawnil \clwWidth9921822\clftsWidth3 \clbrdrt\brdrnil \clbrdrl\brdrnil \clbrdrb\brdrnil \clbrdrr\brdrnil \clpadl200 \clpadr200 \gaph\cellx8640
\pard\intbl\itap1\pardeftab720\qr\partightenfactor0
\cf2 \cell 
\pard\intbl\itap1\pardeftab720\partightenfactor0
\cf2   \{\cell \row

\itap1\trowd \taflags1 \trgaph108\trleft-108 \trcbpat3 \trbrdrl\brdrnil \trbrdrr\brdrnil 
\clvertalt \clshdrawnil \clwWidth1000\clftsWidth3 \clminw1000 \clbrdrt\brdrnil \clbrdrl\brdrnil \clbrdrb\brdrnil \clbrdrr\brdrnil \clpadl200 \clpadr200 \gaph\cellx4320
\clvertalt \clshdrawnil \clwWidth9921822\clftsWidth3 \clbrdrt\brdrnil \clbrdrl\brdrnil \clbrdrb\brdrnil \clbrdrr\brdrnil \clpadl200 \clpadr200 \gaph\cellx8640
\pard\intbl\itap1\pardeftab720\qr\partightenfactor0
\cf2 \cell 
\pard\intbl\itap1\pardeftab720\partightenfactor0
\cf2    "cell_type": "code",\cell \row

\itap1\trowd \taflags1 \trgaph108\trleft-108 \trcbpat3 \trbrdrl\brdrnil \trbrdrr\brdrnil 
\clvertalt \clshdrawnil \clwWidth1000\clftsWidth3 \clminw1000 \clbrdrt\brdrnil \clbrdrl\brdrnil \clbrdrb\brdrnil \clbrdrr\brdrnil \clpadl200 \clpadr200 \gaph\cellx4320
\clvertalt \clshdrawnil \clwWidth9921822\clftsWidth3 \clbrdrt\brdrnil \clbrdrl\brdrnil \clbrdrb\brdrnil \clbrdrr\brdrnil \clpadl200 \clpadr200 \gaph\cellx8640
\pard\intbl\itap1\pardeftab720\qr\partightenfactor0
\cf2 \cell 
\pard\intbl\itap1\pardeftab720\partightenfactor0
\cf2    "execution_count": 5,\cell \row

\itap1\trowd \taflags1 \trgaph108\trleft-108 \trcbpat3 \trbrdrl\brdrnil \trbrdrr\brdrnil 
\clvertalt \clshdrawnil \clwWidth1000\clftsWidth3 \clminw1000 \clbrdrt\brdrnil \clbrdrl\brdrnil \clbrdrb\brdrnil \clbrdrr\brdrnil \clpadl200 \clpadr200 \gaph\cellx4320
\clvertalt \clshdrawnil \clwWidth9921822\clftsWidth3 \clbrdrt\brdrnil \clbrdrl\brdrnil \clbrdrb\brdrnil \clbrdrr\brdrnil \clpadl200 \clpadr200 \gaph\cellx8640
\pard\intbl\itap1\pardeftab720\qr\partightenfactor0
\cf2 \cell 
\pard\intbl\itap1\pardeftab720\partightenfactor0
\cf2    "metadata": \{\},\cell \row

\itap1\trowd \taflags1 \trgaph108\trleft-108 \trcbpat3 \trbrdrl\brdrnil \trbrdrr\brdrnil 
\clvertalt \clshdrawnil \clwWidth1000\clftsWidth3 \clminw1000 \clbrdrt\brdrnil \clbrdrl\brdrnil \clbrdrb\brdrnil \clbrdrr\brdrnil \clpadl200 \clpadr200 \gaph\cellx4320
\clvertalt \clshdrawnil \clwWidth9921822\clftsWidth3 \clbrdrt\brdrnil \clbrdrl\brdrnil \clbrdrb\brdrnil \clbrdrr\brdrnil \clpadl200 \clpadr200 \gaph\cellx8640
\pard\intbl\itap1\pardeftab720\qr\partightenfactor0
\cf2 \cell 
\pard\intbl\itap1\pardeftab720\partightenfactor0
\cf2    "outputs": [\cell \row

\itap1\trowd \taflags1 \trgaph108\trleft-108 \trcbpat3 \trbrdrl\brdrnil \trbrdrr\brdrnil 
\clvertalt \clshdrawnil \clwWidth1000\clftsWidth3 \clminw1000 \clbrdrt\brdrnil \clbrdrl\brdrnil \clbrdrb\brdrnil \clbrdrr\brdrnil \clpadl200 \clpadr200 \gaph\cellx4320
\clvertalt \clshdrawnil \clwWidth9921822\clftsWidth3 \clbrdrt\brdrnil \clbrdrl\brdrnil \clbrdrb\brdrnil \clbrdrr\brdrnil \clpadl200 \clpadr200 \gaph\cellx8640
\pard\intbl\itap1\pardeftab720\qr\partightenfactor0
\cf2 \cell 
\pard\intbl\itap1\pardeftab720\partightenfactor0
\cf2     \{\cell \row

\itap1\trowd \taflags1 \trgaph108\trleft-108 \trcbpat3 \trbrdrl\brdrnil \trbrdrr\brdrnil 
\clvertalt \clshdrawnil \clwWidth1000\clftsWidth3 \clminw1000 \clbrdrt\brdrnil \clbrdrl\brdrnil \clbrdrb\brdrnil \clbrdrr\brdrnil \clpadl200 \clpadr200 \gaph\cellx4320
\clvertalt \clshdrawnil \clwWidth9921822\clftsWidth3 \clbrdrt\brdrnil \clbrdrl\brdrnil \clbrdrb\brdrnil \clbrdrr\brdrnil \clpadl200 \clpadr200 \gaph\cellx8640
\pard\intbl\itap1\pardeftab720\qr\partightenfactor0
\cf2 \cell 
\pard\intbl\itap1\pardeftab720\partightenfactor0
\cf2      "name": "stdout",\cell \row

\itap1\trowd \taflags1 \trgaph108\trleft-108 \trcbpat3 \trbrdrl\brdrnil \trbrdrr\brdrnil 
\clvertalt \clshdrawnil \clwWidth1000\clftsWidth3 \clminw1000 \clbrdrt\brdrnil \clbrdrl\brdrnil \clbrdrb\brdrnil \clbrdrr\brdrnil \clpadl200 \clpadr200 \gaph\cellx4320
\clvertalt \clshdrawnil \clwWidth9921822\clftsWidth3 \clbrdrt\brdrnil \clbrdrl\brdrnil \clbrdrb\brdrnil \clbrdrr\brdrnil \clpadl200 \clpadr200 \gaph\cellx8640
\pard\intbl\itap1\pardeftab720\qr\partightenfactor0
\cf2 \cell 
\pard\intbl\itap1\pardeftab720\partightenfactor0
\cf2      "output_type": "stream",\cell \row

\itap1\trowd \taflags1 \trgaph108\trleft-108 \trcbpat3 \trbrdrl\brdrnil \trbrdrr\brdrnil 
\clvertalt \clshdrawnil \clwWidth1000\clftsWidth3 \clminw1000 \clbrdrt\brdrnil \clbrdrl\brdrnil \clbrdrb\brdrnil \clbrdrr\brdrnil \clpadl200 \clpadr200 \gaph\cellx4320
\clvertalt \clshdrawnil \clwWidth9921822\clftsWidth3 \clbrdrt\brdrnil \clbrdrl\brdrnil \clbrdrb\brdrnil \clbrdrr\brdrnil \clpadl200 \clpadr200 \gaph\cellx8640
\pard\intbl\itap1\pardeftab720\qr\partightenfactor0
\cf2 \cell 
\pard\intbl\itap1\pardeftab720\partightenfactor0
\cf2      "text": [\cell \row

\itap1\trowd \taflags1 \trgaph108\trleft-108 \trcbpat3 \trbrdrl\brdrnil \trbrdrr\brdrnil 
\clvertalt \clshdrawnil \clwWidth1000\clftsWidth3 \clminw1000 \clbrdrt\brdrnil \clbrdrl\brdrnil \clbrdrb\brdrnil \clbrdrr\brdrnil \clpadl200 \clpadr200 \gaph\cellx4320
\clvertalt \clshdrawnil \clwWidth9921822\clftsWidth3 \clbrdrt\brdrnil \clbrdrl\brdrnil \clbrdrb\brdrnil \clbrdrr\brdrnil \clpadl200 \clpadr200 \gaph\cellx8640
\pard\intbl\itap1\pardeftab720\qr\partightenfactor0
\cf2 \cell 
\pard\intbl\itap1\pardeftab720\partightenfactor0
\cf2       "-10.0\\n"\cell \row

\itap1\trowd \taflags1 \trgaph108\trleft-108 \trcbpat3 \trbrdrl\brdrnil \trbrdrr\brdrnil 
\clvertalt \clshdrawnil \clwWidth1000\clftsWidth3 \clminw1000 \clbrdrt\brdrnil \clbrdrl\brdrnil \clbrdrb\brdrnil \clbrdrr\brdrnil \clpadl200 \clpadr200 \gaph\cellx4320
\clvertalt \clshdrawnil \clwWidth9921822\clftsWidth3 \clbrdrt\brdrnil \clbrdrl\brdrnil \clbrdrb\brdrnil \clbrdrr\brdrnil \clpadl200 \clpadr200 \gaph\cellx8640
\pard\intbl\itap1\pardeftab720\qr\partightenfactor0
\cf2 \cell 
\pard\intbl\itap1\pardeftab720\partightenfactor0
\cf2      ]\cell \row

\itap1\trowd \taflags1 \trgaph108\trleft-108 \trcbpat3 \trbrdrl\brdrnil \trbrdrr\brdrnil 
\clvertalt \clshdrawnil \clwWidth1000\clftsWidth3 \clminw1000 \clbrdrt\brdrnil \clbrdrl\brdrnil \clbrdrb\brdrnil \clbrdrr\brdrnil \clpadl200 \clpadr200 \gaph\cellx4320
\clvertalt \clshdrawnil \clwWidth9921822\clftsWidth3 \clbrdrt\brdrnil \clbrdrl\brdrnil \clbrdrb\brdrnil \clbrdrr\brdrnil \clpadl200 \clpadr200 \gaph\cellx8640
\pard\intbl\itap1\pardeftab720\qr\partightenfactor0
\cf2 \cell 
\pard\intbl\itap1\pardeftab720\partightenfactor0
\cf2     \},\cell \row

\itap1\trowd \taflags1 \trgaph108\trleft-108 \trcbpat3 \trbrdrl\brdrnil \trbrdrr\brdrnil 
\clvertalt \clshdrawnil \clwWidth1000\clftsWidth3 \clminw1000 \clbrdrt\brdrnil \clbrdrl\brdrnil \clbrdrb\brdrnil \clbrdrr\brdrnil \clpadl200 \clpadr200 \gaph\cellx4320
\clvertalt \clshdrawnil \clwWidth9921822\clftsWidth3 \clbrdrt\brdrnil \clbrdrl\brdrnil \clbrdrb\brdrnil \clbrdrr\brdrnil \clpadl200 \clpadr200 \gaph\cellx8640
\pard\intbl\itap1\pardeftab720\qr\partightenfactor0
\cf2 \cell 
\pard\intbl\itap1\pardeftab720\partightenfactor0
\cf2     \{\cell \row

\itap1\trowd \taflags1 \trgaph108\trleft-108 \trcbpat3 \trbrdrl\brdrnil \trbrdrr\brdrnil 
\clvertalt \clshdrawnil \clwWidth1000\clftsWidth3 \clminw1000 \clbrdrt\brdrnil \clbrdrl\brdrnil \clbrdrb\brdrnil \clbrdrr\brdrnil \clpadl200 \clpadr200 \gaph\cellx4320
\clvertalt \clshdrawnil \clwWidth9921822\clftsWidth3 \clbrdrt\brdrnil \clbrdrl\brdrnil \clbrdrb\brdrnil \clbrdrr\brdrnil \clpadl200 \clpadr200 \gaph\cellx8640
\pard\intbl\itap1\pardeftab720\qr\partightenfactor0
\cf2 \cell 
\pard\intbl\itap1\pardeftab720\partightenfactor0
\cf2      "data": \{\cell \row

\itap1\trowd \taflags1 \trgaph108\trleft-108 \trcbpat3 \trbrdrl\brdrnil \trbrdrr\brdrnil 
\clvertalt \clshdrawnil \clwWidth1000\clftsWidth3 \clminw1000 \clbrdrt\brdrnil \clbrdrl\brdrnil \clbrdrb\brdrnil \clbrdrr\brdrnil \clpadl200 \clpadr200 \gaph\cellx4320
\clvertalt \clshdrawnil \clwWidth9921822\clftsWidth3 \clbrdrt\brdrnil \clbrdrl\brdrnil \clbrdrb\brdrnil \clbrdrr\brdrnil \clpadl200 \clpadr200 \gaph\cellx8640
\pard\intbl\itap1\pardeftab720\qr\partightenfactor0
\cf2 \cell 
\pard\intbl\itap1\pardeftab720\partightenfactor0
\cf2       "image/png": "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\\n",\cell \row

\itap1\trowd \taflags1 \trgaph108\trleft-108 \trcbpat3 \trbrdrl\brdrnil \trbrdrr\brdrnil 
\clvertalt \clshdrawnil \clwWidth1000\clftsWidth3 \clminw1000 \clbrdrt\brdrnil \clbrdrl\brdrnil \clbrdrb\brdrnil \clbrdrr\brdrnil \clpadl200 \clpadr200 \gaph\cellx4320
\clvertalt \clshdrawnil \clwWidth9921822\clftsWidth3 \clbrdrt\brdrnil \clbrdrl\brdrnil \clbrdrb\brdrnil \clbrdrr\brdrnil \clpadl200 \clpadr200 \gaph\cellx8640
\pard\intbl\itap1\pardeftab720\qr\partightenfactor0
\cf2 \cell 
\pard\intbl\itap1\pardeftab720\partightenfactor0
\cf2       "text/plain": [\cell \row

\itap1\trowd \taflags1 \trgaph108\trleft-108 \trcbpat3 \trbrdrl\brdrnil \trbrdrr\brdrnil 
\clvertalt \clshdrawnil \clwWidth1000\clftsWidth3 \clminw1000 \clbrdrt\brdrnil \clbrdrl\brdrnil \clbrdrb\brdrnil \clbrdrr\brdrnil \clpadl200 \clpadr200 \gaph\cellx4320
\clvertalt \clshdrawnil \clwWidth9921822\clftsWidth3 \clbrdrt\brdrnil \clbrdrl\brdrnil \clbrdrb\brdrnil \clbrdrr\brdrnil \clpadl200 \clpadr200 \gaph\cellx8640
\pard\intbl\itap1\pardeftab720\qr\partightenfactor0
\cf2 \cell 
\pard\intbl\itap1\pardeftab720\partightenfactor0
\cf2        "<Figure size 432x288 with 1 Axes>"\cell \row

\itap1\trowd \taflags1 \trgaph108\trleft-108 \trcbpat3 \trbrdrl\brdrnil \trbrdrr\brdrnil 
\clvertalt \clshdrawnil \clwWidth1000\clftsWidth3 \clminw1000 \clbrdrt\brdrnil \clbrdrl\brdrnil \clbrdrb\brdrnil \clbrdrr\brdrnil \clpadl200 \clpadr200 \gaph\cellx4320
\clvertalt \clshdrawnil \clwWidth9921822\clftsWidth3 \clbrdrt\brdrnil \clbrdrl\brdrnil \clbrdrb\brdrnil \clbrdrr\brdrnil \clpadl200 \clpadr200 \gaph\cellx8640
\pard\intbl\itap1\pardeftab720\qr\partightenfactor0
\cf2 \cell 
\pard\intbl\itap1\pardeftab720\partightenfactor0
\cf2       ]\cell \row

\itap1\trowd \taflags1 \trgaph108\trleft-108 \trcbpat3 \trbrdrl\brdrnil \trbrdrr\brdrnil 
\clvertalt \clshdrawnil \clwWidth1000\clftsWidth3 \clminw1000 \clbrdrt\brdrnil \clbrdrl\brdrnil \clbrdrb\brdrnil \clbrdrr\brdrnil \clpadl200 \clpadr200 \gaph\cellx4320
\clvertalt \clshdrawnil \clwWidth9921822\clftsWidth3 \clbrdrt\brdrnil \clbrdrl\brdrnil \clbrdrb\brdrnil \clbrdrr\brdrnil \clpadl200 \clpadr200 \gaph\cellx8640
\pard\intbl\itap1\pardeftab720\qr\partightenfactor0
\cf2 \cell 
\pard\intbl\itap1\pardeftab720\partightenfactor0
\cf2      \},\cell \row

\itap1\trowd \taflags1 \trgaph108\trleft-108 \trcbpat3 \trbrdrl\brdrnil \trbrdrr\brdrnil 
\clvertalt \clshdrawnil \clwWidth1000\clftsWidth3 \clminw1000 \clbrdrt\brdrnil \clbrdrl\brdrnil \clbrdrb\brdrnil \clbrdrr\brdrnil \clpadl200 \clpadr200 \gaph\cellx4320
\clvertalt \clshdrawnil \clwWidth9921822\clftsWidth3 \clbrdrt\brdrnil \clbrdrl\brdrnil \clbrdrb\brdrnil \clbrdrr\brdrnil \clpadl200 \clpadr200 \gaph\cellx8640
\pard\intbl\itap1\pardeftab720\qr\partightenfactor0
\cf2 \cell 
\pard\intbl\itap1\pardeftab720\partightenfactor0
\cf2      "metadata": \{\cell \row

\itap1\trowd \taflags1 \trgaph108\trleft-108 \trcbpat3 \trbrdrl\brdrnil \trbrdrr\brdrnil 
\clvertalt \clshdrawnil \clwWidth1000\clftsWidth3 \clminw1000 \clbrdrt\brdrnil \clbrdrl\brdrnil \clbrdrb\brdrnil \clbrdrr\brdrnil \clpadl200 \clpadr200 \gaph\cellx4320
\clvertalt \clshdrawnil \clwWidth9921822\clftsWidth3 \clbrdrt\brdrnil \clbrdrl\brdrnil \clbrdrb\brdrnil \clbrdrr\brdrnil \clpadl200 \clpadr200 \gaph\cellx8640
\pard\intbl\itap1\pardeftab720\qr\partightenfactor0
\cf2 \cell 
\pard\intbl\itap1\pardeftab720\partightenfactor0
\cf2       "needs_background": "light"\cell \row

\itap1\trowd \taflags1 \trgaph108\trleft-108 \trcbpat3 \trbrdrl\brdrnil \trbrdrr\brdrnil 
\clvertalt \clshdrawnil \clwWidth1000\clftsWidth3 \clminw1000 \clbrdrt\brdrnil \clbrdrl\brdrnil \clbrdrb\brdrnil \clbrdrr\brdrnil \clpadl200 \clpadr200 \gaph\cellx4320
\clvertalt \clshdrawnil \clwWidth9921822\clftsWidth3 \clbrdrt\brdrnil \clbrdrl\brdrnil \clbrdrb\brdrnil \clbrdrr\brdrnil \clpadl200 \clpadr200 \gaph\cellx8640
\pard\intbl\itap1\pardeftab720\qr\partightenfactor0
\cf2 \cell 
\pard\intbl\itap1\pardeftab720\partightenfactor0
\cf2      \},\cell \row

\itap1\trowd \taflags1 \trgaph108\trleft-108 \trcbpat3 \trbrdrl\brdrnil \trbrdrr\brdrnil 
\clvertalt \clshdrawnil \clwWidth1000\clftsWidth3 \clminw1000 \clbrdrt\brdrnil \clbrdrl\brdrnil \clbrdrb\brdrnil \clbrdrr\brdrnil \clpadl200 \clpadr200 \gaph\cellx4320
\clvertalt \clshdrawnil \clwWidth9921822\clftsWidth3 \clbrdrt\brdrnil \clbrdrl\brdrnil \clbrdrb\brdrnil \clbrdrr\brdrnil \clpadl200 \clpadr200 \gaph\cellx8640
\pard\intbl\itap1\pardeftab720\qr\partightenfactor0
\cf2 \cell 
\pard\intbl\itap1\pardeftab720\partightenfactor0
\cf2      "output_type": "display_data"\cell \row

\itap1\trowd \taflags1 \trgaph108\trleft-108 \trcbpat3 \trbrdrl\brdrnil \trbrdrr\brdrnil 
\clvertalt \clshdrawnil \clwWidth1000\clftsWidth3 \clminw1000 \clbrdrt\brdrnil \clbrdrl\brdrnil \clbrdrb\brdrnil \clbrdrr\brdrnil \clpadl200 \clpadr200 \gaph\cellx4320
\clvertalt \clshdrawnil \clwWidth9921822\clftsWidth3 \clbrdrt\brdrnil \clbrdrl\brdrnil \clbrdrb\brdrnil \clbrdrr\brdrnil \clpadl200 \clpadr200 \gaph\cellx8640
\pard\intbl\itap1\pardeftab720\qr\partightenfactor0
\cf2 \cell 
\pard\intbl\itap1\pardeftab720\partightenfactor0
\cf2     \},\cell \row

\itap1\trowd \taflags1 \trgaph108\trleft-108 \trcbpat3 \trbrdrl\brdrnil \trbrdrr\brdrnil 
\clvertalt \clshdrawnil \clwWidth1000\clftsWidth3 \clminw1000 \clbrdrt\brdrnil \clbrdrl\brdrnil \clbrdrb\brdrnil \clbrdrr\brdrnil \clpadl200 \clpadr200 \gaph\cellx4320
\clvertalt \clshdrawnil \clwWidth9921822\clftsWidth3 \clbrdrt\brdrnil \clbrdrl\brdrnil \clbrdrb\brdrnil \clbrdrr\brdrnil \clpadl200 \clpadr200 \gaph\cellx8640
\pard\intbl\itap1\pardeftab720\qr\partightenfactor0
\cf2 \cell 
\pard\intbl\itap1\pardeftab720\partightenfactor0
\cf2     \{\cell \row

\itap1\trowd \taflags1 \trgaph108\trleft-108 \trcbpat3 \trbrdrl\brdrnil \trbrdrr\brdrnil 
\clvertalt \clshdrawnil \clwWidth1000\clftsWidth3 \clminw1000 \clbrdrt\brdrnil \clbrdrl\brdrnil \clbrdrb\brdrnil \clbrdrr\brdrnil \clpadl200 \clpadr200 \gaph\cellx4320
\clvertalt \clshdrawnil \clwWidth9921822\clftsWidth3 \clbrdrt\brdrnil \clbrdrl\brdrnil \clbrdrb\brdrnil \clbrdrr\brdrnil \clpadl200 \clpadr200 \gaph\cellx8640
\pard\intbl\itap1\pardeftab720\qr\partightenfactor0
\cf2 \cell 
\pard\intbl\itap1\pardeftab720\partightenfactor0
\cf2      "data": \{\cell \row

\itap1\trowd \taflags1 \trgaph108\trleft-108 \trcbpat3 \trbrdrl\brdrnil \trbrdrr\brdrnil 
\clvertalt \clshdrawnil \clwWidth1000\clftsWidth3 \clminw1000 \clbrdrt\brdrnil \clbrdrl\brdrnil \clbrdrb\brdrnil \clbrdrr\brdrnil \clpadl200 \clpadr200 \gaph\cellx4320
\clvertalt \clshdrawnil \clwWidth9921822\clftsWidth3 \clbrdrt\brdrnil \clbrdrl\brdrnil \clbrdrb\brdrnil \clbrdrr\brdrnil \clpadl200 \clpadr200 \gaph\cellx8640
\pard\intbl\itap1\pardeftab720\qr\partightenfactor0
\cf2 \cell 
\pard\intbl\itap1\pardeftab720\partightenfactor0
\cf2       "image/png": "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\\n",\cell \row

\itap1\trowd \taflags1 \trgaph108\trleft-108 \trcbpat3 \trbrdrl\brdrnil \trbrdrr\brdrnil 
\clvertalt \clshdrawnil \clwWidth1000\clftsWidth3 \clminw1000 \clbrdrt\brdrnil \clbrdrl\brdrnil \clbrdrb\brdrnil \clbrdrr\brdrnil \clpadl200 \clpadr200 \gaph\cellx4320
\clvertalt \clshdrawnil \clwWidth9921822\clftsWidth3 \clbrdrt\brdrnil \clbrdrl\brdrnil \clbrdrb\brdrnil \clbrdrr\brdrnil \clpadl200 \clpadr200 \gaph\cellx8640
\pard\intbl\itap1\pardeftab720\qr\partightenfactor0
\cf2 \cell 
\pard\intbl\itap1\pardeftab720\partightenfactor0
\cf2       "text/plain": [\cell \row

\itap1\trowd \taflags1 \trgaph108\trleft-108 \trcbpat3 \trbrdrl\brdrnil \trbrdrr\brdrnil 
\clvertalt \clshdrawnil \clwWidth1000\clftsWidth3 \clminw1000 \clbrdrt\brdrnil \clbrdrl\brdrnil \clbrdrb\brdrnil \clbrdrr\brdrnil \clpadl200 \clpadr200 \gaph\cellx4320
\clvertalt \clshdrawnil \clwWidth9921822\clftsWidth3 \clbrdrt\brdrnil \clbrdrl\brdrnil \clbrdrb\brdrnil \clbrdrr\brdrnil \clpadl200 \clpadr200 \gaph\cellx8640
\pard\intbl\itap1\pardeftab720\qr\partightenfactor0
\cf2 \cell 
\pard\intbl\itap1\pardeftab720\partightenfactor0
\cf2        "<Figure size 432x288 with 1 Axes>"\cell \row

\itap1\trowd \taflags1 \trgaph108\trleft-108 \trcbpat3 \trbrdrl\brdrnil \trbrdrr\brdrnil 
\clvertalt \clshdrawnil \clwWidth1000\clftsWidth3 \clminw1000 \clbrdrt\brdrnil \clbrdrl\brdrnil \clbrdrb\brdrnil \clbrdrr\brdrnil \clpadl200 \clpadr200 \gaph\cellx4320
\clvertalt \clshdrawnil \clwWidth9921822\clftsWidth3 \clbrdrt\brdrnil \clbrdrl\brdrnil \clbrdrb\brdrnil \clbrdrr\brdrnil \clpadl200 \clpadr200 \gaph\cellx8640
\pard\intbl\itap1\pardeftab720\qr\partightenfactor0
\cf2 \cell 
\pard\intbl\itap1\pardeftab720\partightenfactor0
\cf2       ]\cell \row

\itap1\trowd \taflags1 \trgaph108\trleft-108 \trcbpat3 \trbrdrl\brdrnil \trbrdrr\brdrnil 
\clvertalt \clshdrawnil \clwWidth1000\clftsWidth3 \clminw1000 \clbrdrt\brdrnil \clbrdrl\brdrnil \clbrdrb\brdrnil \clbrdrr\brdrnil \clpadl200 \clpadr200 \gaph\cellx4320
\clvertalt \clshdrawnil \clwWidth9921822\clftsWidth3 \clbrdrt\brdrnil \clbrdrl\brdrnil \clbrdrb\brdrnil \clbrdrr\brdrnil \clpadl200 \clpadr200 \gaph\cellx8640
\pard\intbl\itap1\pardeftab720\qr\partightenfactor0
\cf2 \cell 
\pard\intbl\itap1\pardeftab720\partightenfactor0
\cf2      \},\cell \row

\itap1\trowd \taflags1 \trgaph108\trleft-108 \trcbpat3 \trbrdrl\brdrnil \trbrdrr\brdrnil 
\clvertalt \clshdrawnil \clwWidth1000\clftsWidth3 \clminw1000 \clbrdrt\brdrnil \clbrdrl\brdrnil \clbrdrb\brdrnil \clbrdrr\brdrnil \clpadl200 \clpadr200 \gaph\cellx4320
\clvertalt \clshdrawnil \clwWidth9921822\clftsWidth3 \clbrdrt\brdrnil \clbrdrl\brdrnil \clbrdrb\brdrnil \clbrdrr\brdrnil \clpadl200 \clpadr200 \gaph\cellx8640
\pard\intbl\itap1\pardeftab720\qr\partightenfactor0
\cf2 \cell 
\pard\intbl\itap1\pardeftab720\partightenfactor0
\cf2      "metadata": \{\cell \row

\itap1\trowd \taflags1 \trgaph108\trleft-108 \trcbpat3 \trbrdrl\brdrnil \trbrdrr\brdrnil 
\clvertalt \clshdrawnil \clwWidth1000\clftsWidth3 \clminw1000 \clbrdrt\brdrnil \clbrdrl\brdrnil \clbrdrb\brdrnil \clbrdrr\brdrnil \clpadl200 \clpadr200 \gaph\cellx4320
\clvertalt \clshdrawnil \clwWidth9921822\clftsWidth3 \clbrdrt\brdrnil \clbrdrl\brdrnil \clbrdrb\brdrnil \clbrdrr\brdrnil \clpadl200 \clpadr200 \gaph\cellx8640
\pard\intbl\itap1\pardeftab720\qr\partightenfactor0
\cf2 \cell 
\pard\intbl\itap1\pardeftab720\partightenfactor0
\cf2       "needs_background": "light"\cell \row

\itap1\trowd \taflags1 \trgaph108\trleft-108 \trcbpat3 \trbrdrl\brdrnil \trbrdrr\brdrnil 
\clvertalt \clshdrawnil \clwWidth1000\clftsWidth3 \clminw1000 \clbrdrt\brdrnil \clbrdrl\brdrnil \clbrdrb\brdrnil \clbrdrr\brdrnil \clpadl200 \clpadr200 \gaph\cellx4320
\clvertalt \clshdrawnil \clwWidth9921822\clftsWidth3 \clbrdrt\brdrnil \clbrdrl\brdrnil \clbrdrb\brdrnil \clbrdrr\brdrnil \clpadl200 \clpadr200 \gaph\cellx8640
\pard\intbl\itap1\pardeftab720\qr\partightenfactor0
\cf2 \cell 
\pard\intbl\itap1\pardeftab720\partightenfactor0
\cf2      \},\cell \row

\itap1\trowd \taflags1 \trgaph108\trleft-108 \trcbpat3 \trbrdrl\brdrnil \trbrdrr\brdrnil 
\clvertalt \clshdrawnil \clwWidth1000\clftsWidth3 \clminw1000 \clbrdrt\brdrnil \clbrdrl\brdrnil \clbrdrb\brdrnil \clbrdrr\brdrnil \clpadl200 \clpadr200 \gaph\cellx4320
\clvertalt \clshdrawnil \clwWidth9921822\clftsWidth3 \clbrdrt\brdrnil \clbrdrl\brdrnil \clbrdrb\brdrnil \clbrdrr\brdrnil \clpadl200 \clpadr200 \gaph\cellx8640
\pard\intbl\itap1\pardeftab720\qr\partightenfactor0
\cf2 \cell 
\pard\intbl\itap1\pardeftab720\partightenfactor0
\cf2      "output_type": "display_data"\cell \row

\itap1\trowd \taflags1 \trgaph108\trleft-108 \trcbpat3 \trbrdrl\brdrnil \trbrdrr\brdrnil 
\clvertalt \clshdrawnil \clwWidth1000\clftsWidth3 \clminw1000 \clbrdrt\brdrnil \clbrdrl\brdrnil \clbrdrb\brdrnil \clbrdrr\brdrnil \clpadl200 \clpadr200 \gaph\cellx4320
\clvertalt \clshdrawnil \clwWidth9921822\clftsWidth3 \clbrdrt\brdrnil \clbrdrl\brdrnil \clbrdrb\brdrnil \clbrdrr\brdrnil \clpadl200 \clpadr200 \gaph\cellx8640
\pard\intbl\itap1\pardeftab720\qr\partightenfactor0
\cf2 \cell 
\pard\intbl\itap1\pardeftab720\partightenfactor0
\cf2     \},\cell \row

\itap1\trowd \taflags1 \trgaph108\trleft-108 \trcbpat3 \trbrdrl\brdrnil \trbrdrr\brdrnil 
\clvertalt \clshdrawnil \clwWidth1000\clftsWidth3 \clminw1000 \clbrdrt\brdrnil \clbrdrl\brdrnil \clbrdrb\brdrnil \clbrdrr\brdrnil \clpadl200 \clpadr200 \gaph\cellx4320
\clvertalt \clshdrawnil \clwWidth9921822\clftsWidth3 \clbrdrt\brdrnil \clbrdrl\brdrnil \clbrdrb\brdrnil \clbrdrr\brdrnil \clpadl200 \clpadr200 \gaph\cellx8640
\pard\intbl\itap1\pardeftab720\qr\partightenfactor0
\cf2 \cell 
\pard\intbl\itap1\pardeftab720\partightenfactor0
\cf2     \{\cell \row

\itap1\trowd \taflags1 \trgaph108\trleft-108 \trcbpat3 \trbrdrl\brdrnil \trbrdrr\brdrnil 
\clvertalt \clshdrawnil \clwWidth1000\clftsWidth3 \clminw1000 \clbrdrt\brdrnil \clbrdrl\brdrnil \clbrdrb\brdrnil \clbrdrr\brdrnil \clpadl200 \clpadr200 \gaph\cellx4320
\clvertalt \clshdrawnil \clwWidth9921822\clftsWidth3 \clbrdrt\brdrnil \clbrdrl\brdrnil \clbrdrb\brdrnil \clbrdrr\brdrnil \clpadl200 \clpadr200 \gaph\cellx8640
\pard\intbl\itap1\pardeftab720\qr\partightenfactor0
\cf2 \cell 
\pard\intbl\itap1\pardeftab720\partightenfactor0
\cf2      "data": \{\cell \row

\itap1\trowd \taflags1 \trgaph108\trleft-108 \trcbpat3 \trbrdrl\brdrnil \trbrdrr\brdrnil 
\clvertalt \clshdrawnil \clwWidth1000\clftsWidth3 \clminw1000 \clbrdrt\brdrnil \clbrdrl\brdrnil \clbrdrb\brdrnil \clbrdrr\brdrnil \clpadl200 \clpadr200 \gaph\cellx4320
\clvertalt \clshdrawnil \clwWidth9921822\clftsWidth3 \clbrdrt\brdrnil \clbrdrl\brdrnil \clbrdrb\brdrnil \clbrdrr\brdrnil \clpadl200 \clpadr200 \gaph\cellx8640
\pard\intbl\itap1\pardeftab720\qr\partightenfactor0
\cf2 \cell 
\pard\intbl\itap1\pardeftab720\partightenfactor0
\cf2       "image/png": "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\\n",\cell \row

\itap1\trowd \taflags1 \trgaph108\trleft-108 \trcbpat3 \trbrdrl\brdrnil \trbrdrr\brdrnil 
\clvertalt \clshdrawnil \clwWidth1000\clftsWidth3 \clminw1000 \clbrdrt\brdrnil \clbrdrl\brdrnil \clbrdrb\brdrnil \clbrdrr\brdrnil \clpadl200 \clpadr200 \gaph\cellx4320
\clvertalt \clshdrawnil \clwWidth9921822\clftsWidth3 \clbrdrt\brdrnil \clbrdrl\brdrnil \clbrdrb\brdrnil \clbrdrr\brdrnil \clpadl200 \clpadr200 \gaph\cellx8640
\pard\intbl\itap1\pardeftab720\qr\partightenfactor0
\cf2 \cell 
\pard\intbl\itap1\pardeftab720\partightenfactor0
\cf2       "text/plain": [\cell \row

\itap1\trowd \taflags1 \trgaph108\trleft-108 \trcbpat3 \trbrdrl\brdrnil \trbrdrr\brdrnil 
\clvertalt \clshdrawnil \clwWidth1000\clftsWidth3 \clminw1000 \clbrdrt\brdrnil \clbrdrl\brdrnil \clbrdrb\brdrnil \clbrdrr\brdrnil \clpadl200 \clpadr200 \gaph\cellx4320
\clvertalt \clshdrawnil \clwWidth9921822\clftsWidth3 \clbrdrt\brdrnil \clbrdrl\brdrnil \clbrdrb\brdrnil \clbrdrr\brdrnil \clpadl200 \clpadr200 \gaph\cellx8640
\pard\intbl\itap1\pardeftab720\qr\partightenfactor0
\cf2 \cell 
\pard\intbl\itap1\pardeftab720\partightenfactor0
\cf2        "<Figure size 432x288 with 1 Axes>"\cell \row

\itap1\trowd \taflags1 \trgaph108\trleft-108 \trcbpat3 \trbrdrl\brdrnil \trbrdrr\brdrnil 
\clvertalt \clshdrawnil \clwWidth1000\clftsWidth3 \clminw1000 \clbrdrt\brdrnil \clbrdrl\brdrnil \clbrdrb\brdrnil \clbrdrr\brdrnil \clpadl200 \clpadr200 \gaph\cellx4320
\clvertalt \clshdrawnil \clwWidth9921822\clftsWidth3 \clbrdrt\brdrnil \clbrdrl\brdrnil \clbrdrb\brdrnil \clbrdrr\brdrnil \clpadl200 \clpadr200 \gaph\cellx8640
\pard\intbl\itap1\pardeftab720\qr\partightenfactor0
\cf2 \cell 
\pard\intbl\itap1\pardeftab720\partightenfactor0
\cf2       ]\cell \row

\itap1\trowd \taflags1 \trgaph108\trleft-108 \trcbpat3 \trbrdrl\brdrnil \trbrdrr\brdrnil 
\clvertalt \clshdrawnil \clwWidth1000\clftsWidth3 \clminw1000 \clbrdrt\brdrnil \clbrdrl\brdrnil \clbrdrb\brdrnil \clbrdrr\brdrnil \clpadl200 \clpadr200 \gaph\cellx4320
\clvertalt \clshdrawnil \clwWidth9921822\clftsWidth3 \clbrdrt\brdrnil \clbrdrl\brdrnil \clbrdrb\brdrnil \clbrdrr\brdrnil \clpadl200 \clpadr200 \gaph\cellx8640
\pard\intbl\itap1\pardeftab720\qr\partightenfactor0
\cf2 \cell 
\pard\intbl\itap1\pardeftab720\partightenfactor0
\cf2      \},\cell \row

\itap1\trowd \taflags1 \trgaph108\trleft-108 \trcbpat3 \trbrdrl\brdrnil \trbrdrr\brdrnil 
\clvertalt \clshdrawnil \clwWidth1000\clftsWidth3 \clminw1000 \clbrdrt\brdrnil \clbrdrl\brdrnil \clbrdrb\brdrnil \clbrdrr\brdrnil \clpadl200 \clpadr200 \gaph\cellx4320
\clvertalt \clshdrawnil \clwWidth9921822\clftsWidth3 \clbrdrt\brdrnil \clbrdrl\brdrnil \clbrdrb\brdrnil \clbrdrr\brdrnil \clpadl200 \clpadr200 \gaph\cellx8640
\pard\intbl\itap1\pardeftab720\qr\partightenfactor0
\cf2 \cell 
\pard\intbl\itap1\pardeftab720\partightenfactor0
\cf2      "metadata": \{\cell \row

\itap1\trowd \taflags1 \trgaph108\trleft-108 \trcbpat3 \trbrdrl\brdrnil \trbrdrr\brdrnil 
\clvertalt \clshdrawnil \clwWidth1000\clftsWidth3 \clminw1000 \clbrdrt\brdrnil \clbrdrl\brdrnil \clbrdrb\brdrnil \clbrdrr\brdrnil \clpadl200 \clpadr200 \gaph\cellx4320
\clvertalt \clshdrawnil \clwWidth9921822\clftsWidth3 \clbrdrt\brdrnil \clbrdrl\brdrnil \clbrdrb\brdrnil \clbrdrr\brdrnil \clpadl200 \clpadr200 \gaph\cellx8640
\pard\intbl\itap1\pardeftab720\qr\partightenfactor0
\cf2 \cell 
\pard\intbl\itap1\pardeftab720\partightenfactor0
\cf2       "needs_background": "light"\cell \row

\itap1\trowd \taflags1 \trgaph108\trleft-108 \trcbpat3 \trbrdrl\brdrnil \trbrdrr\brdrnil 
\clvertalt \clshdrawnil \clwWidth1000\clftsWidth3 \clminw1000 \clbrdrt\brdrnil \clbrdrl\brdrnil \clbrdrb\brdrnil \clbrdrr\brdrnil \clpadl200 \clpadr200 \gaph\cellx4320
\clvertalt \clshdrawnil \clwWidth9921822\clftsWidth3 \clbrdrt\brdrnil \clbrdrl\brdrnil \clbrdrb\brdrnil \clbrdrr\brdrnil \clpadl200 \clpadr200 \gaph\cellx8640
\pard\intbl\itap1\pardeftab720\qr\partightenfactor0
\cf2 \cell 
\pard\intbl\itap1\pardeftab720\partightenfactor0
\cf2      \},\cell \row

\itap1\trowd \taflags1 \trgaph108\trleft-108 \trcbpat3 \trbrdrl\brdrnil \trbrdrr\brdrnil 
\clvertalt \clshdrawnil \clwWidth1000\clftsWidth3 \clminw1000 \clbrdrt\brdrnil \clbrdrl\brdrnil \clbrdrb\brdrnil \clbrdrr\brdrnil \clpadl200 \clpadr200 \gaph\cellx4320
\clvertalt \clshdrawnil \clwWidth9921822\clftsWidth3 \clbrdrt\brdrnil \clbrdrl\brdrnil \clbrdrb\brdrnil \clbrdrr\brdrnil \clpadl200 \clpadr200 \gaph\cellx8640
\pard\intbl\itap1\pardeftab720\qr\partightenfactor0
\cf2 \cell 
\pard\intbl\itap1\pardeftab720\partightenfactor0
\cf2      "output_type": "display_data"\cell \row

\itap1\trowd \taflags1 \trgaph108\trleft-108 \trcbpat3 \trbrdrl\brdrnil \trbrdrr\brdrnil 
\clvertalt \clshdrawnil \clwWidth1000\clftsWidth3 \clminw1000 \clbrdrt\brdrnil \clbrdrl\brdrnil \clbrdrb\brdrnil \clbrdrr\brdrnil \clpadl200 \clpadr200 \gaph\cellx4320
\clvertalt \clshdrawnil \clwWidth9921822\clftsWidth3 \clbrdrt\brdrnil \clbrdrl\brdrnil \clbrdrb\brdrnil \clbrdrr\brdrnil \clpadl200 \clpadr200 \gaph\cellx8640
\pard\intbl\itap1\pardeftab720\qr\partightenfactor0
\cf2 \cell 
\pard\intbl\itap1\pardeftab720\partightenfactor0
\cf2     \}\cell \row

\itap1\trowd \taflags1 \trgaph108\trleft-108 \trcbpat3 \trbrdrl\brdrnil \trbrdrr\brdrnil 
\clvertalt \clshdrawnil \clwWidth1000\clftsWidth3 \clminw1000 \clbrdrt\brdrnil \clbrdrl\brdrnil \clbrdrb\brdrnil \clbrdrr\brdrnil \clpadl200 \clpadr200 \gaph\cellx4320
\clvertalt \clshdrawnil \clwWidth9921822\clftsWidth3 \clbrdrt\brdrnil \clbrdrl\brdrnil \clbrdrb\brdrnil \clbrdrr\brdrnil \clpadl200 \clpadr200 \gaph\cellx8640
\pard\intbl\itap1\pardeftab720\qr\partightenfactor0
\cf2 \cell 
\pard\intbl\itap1\pardeftab720\partightenfactor0
\cf2    ],\cell \row

\itap1\trowd \taflags1 \trgaph108\trleft-108 \trcbpat3 \trbrdrl\brdrnil \trbrdrr\brdrnil 
\clvertalt \clshdrawnil \clwWidth1000\clftsWidth3 \clminw1000 \clbrdrt\brdrnil \clbrdrl\brdrnil \clbrdrb\brdrnil \clbrdrr\brdrnil \clpadl200 \clpadr200 \gaph\cellx4320
\clvertalt \clshdrawnil \clwWidth9921822\clftsWidth3 \clbrdrt\brdrnil \clbrdrl\brdrnil \clbrdrb\brdrnil \clbrdrr\brdrnil \clpadl200 \clpadr200 \gaph\cellx8640
\pard\intbl\itap1\pardeftab720\qr\partightenfactor0
\cf2 \cell 
\pard\intbl\itap1\pardeftab720\partightenfactor0
\cf2    "source": [\cell \row

\itap1\trowd \taflags1 \trgaph108\trleft-108 \trcbpat3 \trbrdrl\brdrnil \trbrdrr\brdrnil 
\clvertalt \clshdrawnil \clwWidth1000\clftsWidth3 \clminw1000 \clbrdrt\brdrnil \clbrdrl\brdrnil \clbrdrb\brdrnil \clbrdrr\brdrnil \clpadl200 \clpadr200 \gaph\cellx4320
\clvertalt \clshdrawnil \clwWidth9921822\clftsWidth3 \clbrdrt\brdrnil \clbrdrl\brdrnil \clbrdrb\brdrnil \clbrdrr\brdrnil \clpadl200 \clpadr200 \gaph\cellx8640
\pard\intbl\itap1\pardeftab720\qr\partightenfactor0
\cf2 \cell 
\pard\intbl\itap1\pardeftab720\partightenfactor0
\cf2     "im_ball_gray_resized = cv2.resize(im_ball_gray, (int(im_ball_gray.shape[1]/rescaling_factor), \\n",\cell \row

\itap1\trowd \taflags1 \trgaph108\trleft-108 \trcbpat3 \trbrdrl\brdrnil \trbrdrr\brdrnil 
\clvertalt \clshdrawnil \clwWidth1000\clftsWidth3 \clminw1000 \clbrdrt\brdrnil \clbrdrl\brdrnil \clbrdrb\brdrnil \clbrdrr\brdrnil \clpadl200 \clpadr200 \gaph\cellx4320
\clvertalt \clshdrawnil \clwWidth9921822\clftsWidth3 \clbrdrt\brdrnil \clbrdrl\brdrnil \clbrdrb\brdrnil \clbrdrr\brdrnil \clpadl200 \clpadr200 \gaph\cellx8640
\pard\intbl\itap1\pardeftab720\qr\partightenfactor0
\cf2 \cell 
\pard\intbl\itap1\pardeftab720\partightenfactor0
\cf2     "                                                 int(im_ball_gray.shape[0]/rescaling_factor)), \\n",\cell \row

\itap1\trowd \taflags1 \trgaph108\trleft-108 \trcbpat3 \trbrdrl\brdrnil \trbrdrr\brdrnil 
\clvertalt \clshdrawnil \clwWidth1000\clftsWidth3 \clminw1000 \clbrdrt\brdrnil \clbrdrl\brdrnil \clbrdrb\brdrnil \clbrdrr\brdrnil \clpadl200 \clpadr200 \gaph\cellx4320
\clvertalt \clshdrawnil \clwWidth9921822\clftsWidth3 \clbrdrt\brdrnil \clbrdrl\brdrnil \clbrdrb\brdrnil \clbrdrr\brdrnil \clpadl200 \clpadr200 \gaph\cellx8640
\pard\intbl\itap1\pardeftab720\qr\partightenfactor0
\cf2 \cell 
\pard\intbl\itap1\pardeftab720\partightenfactor0
\cf2     "                                                 interpolation = cv2.INTER_AREA)\\n",\cell \row

\itap1\trowd \taflags1 \trgaph108\trleft-108 \trcbpat3 \trbrdrl\brdrnil \trbrdrr\brdrnil 
\clvertalt \clshdrawnil \clwWidth1000\clftsWidth3 \clminw1000 \clbrdrt\brdrnil \clbrdrl\brdrnil \clbrdrb\brdrnil \clbrdrr\brdrnil \clpadl200 \clpadr200 \gaph\cellx4320
\clvertalt \clshdrawnil \clwWidth9921822\clftsWidth3 \clbrdrt\brdrnil \clbrdrl\brdrnil \clbrdrb\brdrnil \clbrdrr\brdrnil \clpadl200 \clpadr200 \gaph\cellx8640
\pard\intbl\itap1\pardeftab720\qr\partightenfactor0
\cf2 \cell 
\pard\intbl\itap1\pardeftab720\partightenfactor0
\cf2     "\\n",\cell \row

\itap1\trowd \taflags1 \trgaph108\trleft-108 \trcbpat3 \trbrdrl\brdrnil \trbrdrr\brdrnil 
\clvertalt \clshdrawnil \clwWidth1000\clftsWidth3 \clminw1000 \clbrdrt\brdrnil \clbrdrl\brdrnil \clbrdrb\brdrnil \clbrdrr\brdrnil \clpadl200 \clpadr200 \gaph\cellx4320
\clvertalt \clshdrawnil \clwWidth9921822\clftsWidth3 \clbrdrt\brdrnil \clbrdrl\brdrnil \clbrdrb\brdrnil \clbrdrr\brdrnil \clpadl200 \clpadr200 \gaph\cellx8640
\pard\intbl\itap1\pardeftab720\qr\partightenfactor0
\cf2 \cell 
\pard\intbl\itap1\pardeftab720\partightenfactor0
\cf2     "plt.figure()\\n",\cell \row

\itap1\trowd \taflags1 \trgaph108\trleft-108 \trcbpat3 \trbrdrl\brdrnil \trbrdrr\brdrnil 
\clvertalt \clshdrawnil \clwWidth1000\clftsWidth3 \clminw1000 \clbrdrt\brdrnil \clbrdrl\brdrnil \clbrdrb\brdrnil \clbrdrr\brdrnil \clpadl200 \clpadr200 \gaph\cellx4320
\clvertalt \clshdrawnil \clwWidth9921822\clftsWidth3 \clbrdrt\brdrnil \clbrdrl\brdrnil \clbrdrb\brdrnil \clbrdrr\brdrnil \clpadl200 \clpadr200 \gaph\cellx8640
\pard\intbl\itap1\pardeftab720\qr\partightenfactor0
\cf2 \cell 
\pard\intbl\itap1\pardeftab720\partightenfactor0
\cf2     "plt.imshow(im_ball_gray_resized, cmap='gray', vmin=0, vmax=255)\\n",\cell \row

\itap1\trowd \taflags1 \trgaph108\trleft-108 \trcbpat3 \trbrdrl\brdrnil \trbrdrr\brdrnil 
\clvertalt \clshdrawnil \clwWidth1000\clftsWidth3 \clminw1000 \clbrdrt\brdrnil \clbrdrl\brdrnil \clbrdrb\brdrnil \clbrdrr\brdrnil \clpadl200 \clpadr200 \gaph\cellx4320
\clvertalt \clshdrawnil \clwWidth9921822\clftsWidth3 \clbrdrt\brdrnil \clbrdrl\brdrnil \clbrdrb\brdrnil \clbrdrr\brdrnil \clpadl200 \clpadr200 \gaph\cellx8640
\pard\intbl\itap1\pardeftab720\qr\partightenfactor0
\cf2 \cell 
\pard\intbl\itap1\pardeftab720\partightenfactor0
\cf2     "\\n",\cell \row

\itap1\trowd \taflags1 \trgaph108\trleft-108 \trcbpat3 \trbrdrl\brdrnil \trbrdrr\brdrnil 
\clvertalt \clshdrawnil \clwWidth1000\clftsWidth3 \clminw1000 \clbrdrt\brdrnil \clbrdrl\brdrnil \clbrdrb\brdrnil \clbrdrr\brdrnil \clpadl200 \clpadr200 \gaph\cellx4320
\clvertalt \clshdrawnil \clwWidth9921822\clftsWidth3 \clbrdrt\brdrnil \clbrdrl\brdrnil \clbrdrb\brdrnil \clbrdrr\brdrnil \clpadl200 \clpadr200 \gaph\cellx8640
\pard\intbl\itap1\pardeftab720\qr\partightenfactor0
\cf2 \cell 
\pard\intbl\itap1\pardeftab720\partightenfactor0
\cf2     "_, im_ball_gray_resized_bin = cv2.threshold(im_ball_gray_resized,10,255,cv2.THRESH_BINARY)\\n",\cell \row

\itap1\trowd \taflags1 \trgaph108\trleft-108 \trcbpat3 \trbrdrl\brdrnil \trbrdrr\brdrnil 
\clvertalt \clshdrawnil \clwWidth1000\clftsWidth3 \clminw1000 \clbrdrt\brdrnil \clbrdrl\brdrnil \clbrdrb\brdrnil \clbrdrr\brdrnil \clpadl200 \clpadr200 \gaph\cellx4320
\clvertalt \clshdrawnil \clwWidth9921822\clftsWidth3 \clbrdrt\brdrnil \clbrdrl\brdrnil \clbrdrb\brdrnil \clbrdrr\brdrnil \clpadl200 \clpadr200 \gaph\cellx8640
\pard\intbl\itap1\pardeftab720\qr\partightenfactor0
\cf2 \cell 
\pard\intbl\itap1\pardeftab720\partightenfactor0
\cf2     "plt.figure()\\n",\cell \row

\itap1\trowd \taflags1 \trgaph108\trleft-108 \trcbpat3 \trbrdrl\brdrnil \trbrdrr\brdrnil 
\clvertalt \clshdrawnil \clwWidth1000\clftsWidth3 \clminw1000 \clbrdrt\brdrnil \clbrdrl\brdrnil \clbrdrb\brdrnil \clbrdrr\brdrnil \clpadl200 \clpadr200 \gaph\cellx4320
\clvertalt \clshdrawnil \clwWidth9921822\clftsWidth3 \clbrdrt\brdrnil \clbrdrl\brdrnil \clbrdrb\brdrnil \clbrdrr\brdrnil \clpadl200 \clpadr200 \gaph\cellx8640
\pard\intbl\itap1\pardeftab720\qr\partightenfactor0
\cf2 \cell 
\pard\intbl\itap1\pardeftab720\partightenfactor0
\cf2     "plt.imshow(im_ball_gray_resized_bin, cmap='gray', vmin=0, vmax=255)\\n",\cell \row

\itap1\trowd \taflags1 \trgaph108\trleft-108 \trcbpat3 \trbrdrl\brdrnil \trbrdrr\brdrnil 
\clvertalt \clshdrawnil \clwWidth1000\clftsWidth3 \clminw1000 \clbrdrt\brdrnil \clbrdrl\brdrnil \clbrdrb\brdrnil \clbrdrr\brdrnil \clpadl200 \clpadr200 \gaph\cellx4320
\clvertalt \clshdrawnil \clwWidth9921822\clftsWidth3 \clbrdrt\brdrnil \clbrdrl\brdrnil \clbrdrb\brdrnil \clbrdrr\brdrnil \clpadl200 \clpadr200 \gaph\cellx8640
\pard\intbl\itap1\pardeftab720\qr\partightenfactor0
\cf2 \cell 
\pard\intbl\itap1\pardeftab720\partightenfactor0
\cf2     "\\n",\cell \row

\itap1\trowd \taflags1 \trgaph108\trleft-108 \trcbpat3 \trbrdrl\brdrnil \trbrdrr\brdrnil 
\clvertalt \clshdrawnil \clwWidth1000\clftsWidth3 \clminw1000 \clbrdrt\brdrnil \clbrdrl\brdrnil \clbrdrb\brdrnil \clbrdrr\brdrnil \clpadl200 \clpadr200 \gaph\cellx4320
\clvertalt \clshdrawnil \clwWidth9921822\clftsWidth3 \clbrdrt\brdrnil \clbrdrl\brdrnil \clbrdrb\brdrnil \clbrdrr\brdrnil \clpadl200 \clpadr200 \gaph\cellx8640
\pard\intbl\itap1\pardeftab720\qr\partightenfactor0
\cf2 \cell 
\pard\intbl\itap1\pardeftab720\partightenfactor0
\cf2     "im_ball_filter = np.array(im_ball_gray_resized_bin.copy(), float)\\n",\cell \row

\itap1\trowd \taflags1 \trgaph108\trleft-108 \trcbpat3 \trbrdrl\brdrnil \trbrdrr\brdrnil 
\clvertalt \clshdrawnil \clwWidth1000\clftsWidth3 \clminw1000 \clbrdrt\brdrnil \clbrdrl\brdrnil \clbrdrb\brdrnil \clbrdrr\brdrnil \clpadl200 \clpadr200 \gaph\cellx4320
\clvertalt \clshdrawnil \clwWidth9921822\clftsWidth3 \clbrdrt\brdrnil \clbrdrl\brdrnil \clbrdrb\brdrnil \clbrdrr\brdrnil \clpadl200 \clpadr200 \gaph\cellx8640
\pard\intbl\itap1\pardeftab720\qr\partightenfactor0
\cf2 \cell 
\pard\intbl\itap1\pardeftab720\partightenfactor0
\cf2     "\\n",\cell \row

\itap1\trowd \taflags1 \trgaph108\trleft-108 \trcbpat3 \trbrdrl\brdrnil \trbrdrr\brdrnil 
\clvertalt \clshdrawnil \clwWidth1000\clftsWidth3 \clminw1000 \clbrdrt\brdrnil \clbrdrl\brdrnil \clbrdrb\brdrnil \clbrdrr\brdrnil \clpadl200 \clpadr200 \gaph\cellx4320
\clvertalt \clshdrawnil \clwWidth9921822\clftsWidth3 \clbrdrt\brdrnil \clbrdrl\brdrnil \clbrdrb\brdrnil \clbrdrr\brdrnil \clpadl200 \clpadr200 \gaph\cellx8640
\pard\intbl\itap1\pardeftab720\qr\partightenfactor0
\cf2 \cell 
\pard\intbl\itap1\pardeftab720\partightenfactor0
\cf2     "#im_ball_filter = np.zeros(im_ball_gray_resized_bin.shape)\\n",\cell \row

\itap1\trowd \taflags1 \trgaph108\trleft-108 \trcbpat3 \trbrdrl\brdrnil \trbrdrr\brdrnil 
\clvertalt \clshdrawnil \clwWidth1000\clftsWidth3 \clminw1000 \clbrdrt\brdrnil \clbrdrl\brdrnil \clbrdrb\brdrnil \clbrdrr\brdrnil \clpadl200 \clpadr200 \gaph\cellx4320
\clvertalt \clshdrawnil \clwWidth9921822\clftsWidth3 \clbrdrt\brdrnil \clbrdrl\brdrnil \clbrdrb\brdrnil \clbrdrr\brdrnil \clpadl200 \clpadr200 \gaph\cellx8640
\pard\intbl\itap1\pardeftab720\qr\partightenfactor0
\cf2 \cell 
\pard\intbl\itap1\pardeftab720\partightenfactor0
\cf2     "\\n",\cell \row

\itap1\trowd \taflags1 \trgaph108\trleft-108 \trcbpat3 \trbrdrl\brdrnil \trbrdrr\brdrnil 
\clvertalt \clshdrawnil \clwWidth1000\clftsWidth3 \clminw1000 \clbrdrt\brdrnil \clbrdrl\brdrnil \clbrdrb\brdrnil \clbrdrr\brdrnil \clpadl200 \clpadr200 \gaph\cellx4320
\clvertalt \clshdrawnil \clwWidth9921822\clftsWidth3 \clbrdrt\brdrnil \clbrdrl\brdrnil \clbrdrb\brdrnil \clbrdrr\brdrnil \clpadl200 \clpadr200 \gaph\cellx8640
\pard\intbl\itap1\pardeftab720\qr\partightenfactor0
\cf2 \cell 
\pard\intbl\itap1\pardeftab720\partightenfactor0
\cf2     "#im_ball_filter = cv2.circle(im_ball_filter, (7, 7), 5, 255, 1)\\n",\cell \row

\itap1\trowd \taflags1 \trgaph108\trleft-108 \trcbpat3 \trbrdrl\brdrnil \trbrdrr\brdrnil 
\clvertalt \clshdrawnil \clwWidth1000\clftsWidth3 \clminw1000 \clbrdrt\brdrnil \clbrdrl\brdrnil \clbrdrb\brdrnil \clbrdrr\brdrnil \clpadl200 \clpadr200 \gaph\cellx4320
\clvertalt \clshdrawnil \clwWidth9921822\clftsWidth3 \clbrdrt\brdrnil \clbrdrl\brdrnil \clbrdrb\brdrnil \clbrdrr\brdrnil \clpadl200 \clpadr200 \gaph\cellx8640
\pard\intbl\itap1\pardeftab720\qr\partightenfactor0
\cf2 \cell 
\pard\intbl\itap1\pardeftab720\partightenfactor0
\cf2     "\\n",\cell \row

\itap1\trowd \taflags1 \trgaph108\trleft-108 \trcbpat3 \trbrdrl\brdrnil \trbrdrr\brdrnil 
\clvertalt \clshdrawnil \clwWidth1000\clftsWidth3 \clminw1000 \clbrdrt\brdrnil \clbrdrl\brdrnil \clbrdrb\brdrnil \clbrdrr\brdrnil \clpadl200 \clpadr200 \gaph\cellx4320
\clvertalt \clshdrawnil \clwWidth9921822\clftsWidth3 \clbrdrt\brdrnil \clbrdrl\brdrnil \clbrdrb\brdrnil \clbrdrr\brdrnil \clpadl200 \clpadr200 \gaph\cellx8640
\pard\intbl\itap1\pardeftab720\qr\partightenfactor0
\cf2 \cell 
\pard\intbl\itap1\pardeftab720\partightenfactor0
\cf2     "plt.figure()\\n",\cell \row

\itap1\trowd \taflags1 \trgaph108\trleft-108 \trcbpat3 \trbrdrl\brdrnil \trbrdrr\brdrnil 
\clvertalt \clshdrawnil \clwWidth1000\clftsWidth3 \clminw1000 \clbrdrt\brdrnil \clbrdrl\brdrnil \clbrdrb\brdrnil \clbrdrr\brdrnil \clpadl200 \clpadr200 \gaph\cellx4320
\clvertalt \clshdrawnil \clwWidth9921822\clftsWidth3 \clbrdrt\brdrnil \clbrdrl\brdrnil \clbrdrb\brdrnil \clbrdrr\brdrnil \clpadl200 \clpadr200 \gaph\cellx8640
\pard\intbl\itap1\pardeftab720\qr\partightenfactor0
\cf2 \cell 
\pard\intbl\itap1\pardeftab720\partightenfactor0
\cf2     "plt.imshow(im_ball_filter, cmap='gray', vmin=0, vmax=255)\\n",\cell \row

\itap1\trowd \taflags1 \trgaph108\trleft-108 \trcbpat3 \trbrdrl\brdrnil \trbrdrr\brdrnil 
\clvertalt \clshdrawnil \clwWidth1000\clftsWidth3 \clminw1000 \clbrdrt\brdrnil \clbrdrl\brdrnil \clbrdrb\brdrnil \clbrdrr\brdrnil \clpadl200 \clpadr200 \gaph\cellx4320
\clvertalt \clshdrawnil \clwWidth9921822\clftsWidth3 \clbrdrt\brdrnil \clbrdrl\brdrnil \clbrdrb\brdrnil \clbrdrr\brdrnil \clpadl200 \clpadr200 \gaph\cellx8640
\pard\intbl\itap1\pardeftab720\qr\partightenfactor0
\cf2 \cell 
\pard\intbl\itap1\pardeftab720\partightenfactor0
\cf2     "\\n",\cell \row

\itap1\trowd \taflags1 \trgaph108\trleft-108 \trcbpat3 \trbrdrl\brdrnil \trbrdrr\brdrnil 
\clvertalt \clshdrawnil \clwWidth1000\clftsWidth3 \clminw1000 \clbrdrt\brdrnil \clbrdrl\brdrnil \clbrdrb\brdrnil \clbrdrr\brdrnil \clpadl200 \clpadr200 \gaph\cellx4320
\clvertalt \clshdrawnil \clwWidth9921822\clftsWidth3 \clbrdrt\brdrnil \clbrdrl\brdrnil \clbrdrb\brdrnil \clbrdrr\brdrnil \clpadl200 \clpadr200 \gaph\cellx8640
\pard\intbl\itap1\pardeftab720\qr\partightenfactor0
\cf2 \cell 
\pard\intbl\itap1\pardeftab720\partightenfactor0
\cf2     "im_ball_filter[im_ball_filter==0]= -10\\n",\cell \row

\itap1\trowd \taflags1 \trgaph108\trleft-108 \trcbpat3 \trbrdrl\brdrnil \trbrdrr\brdrnil 
\clvertalt \clshdrawnil \clwWidth1000\clftsWidth3 \clminw1000 \clbrdrt\brdrnil \clbrdrl\brdrnil \clbrdrb\brdrnil \clbrdrr\brdrnil \clpadl200 \clpadr200 \gaph\cellx4320
\clvertalt \clshdrawnil \clwWidth9921822\clftsWidth3 \clbrdrt\brdrnil \clbrdrl\brdrnil \clbrdrb\brdrnil \clbrdrr\brdrnil \clpadl200 \clpadr200 \gaph\cellx8640
\pard\intbl\itap1\pardeftab720\qr\partightenfactor0
\cf2 \cell 
\pard\intbl\itap1\pardeftab720\partightenfactor0
\cf2     "print(im_ball_filter.min())\\n",\cell \row

\itap1\trowd \taflags1 \trgaph108\trleft-108 \trcbpat3 \trbrdrl\brdrnil \trbrdrr\brdrnil 
\clvertalt \clshdrawnil \clwWidth1000\clftsWidth3 \clminw1000 \clbrdrt\brdrnil \clbrdrl\brdrnil \clbrdrb\brdrnil \clbrdrr\brdrnil \clpadl200 \clpadr200 \gaph\cellx4320
\clvertalt \clshdrawnil \clwWidth9921822\clftsWidth3 \clbrdrt\brdrnil \clbrdrl\brdrnil \clbrdrb\brdrnil \clbrdrr\brdrnil \clpadl200 \clpadr200 \gaph\cellx8640
\pard\intbl\itap1\pardeftab720\qr\partightenfactor0
\cf2 \cell 
\pard\intbl\itap1\pardeftab720\partightenfactor0
\cf2     "\\n",\cell \row

\itap1\trowd \taflags1 \trgaph108\trleft-108 \trcbpat3 \trbrdrl\brdrnil \trbrdrr\brdrnil 
\clvertalt \clshdrawnil \clwWidth1000\clftsWidth3 \clminw1000 \clbrdrt\brdrnil \clbrdrl\brdrnil \clbrdrb\brdrnil \clbrdrr\brdrnil \clpadl200 \clpadr200 \gaph\cellx4320
\clvertalt \clshdrawnil \clwWidth9921822\clftsWidth3 \clbrdrt\brdrnil \clbrdrl\brdrnil \clbrdrb\brdrnil \clbrdrr\brdrnil \clpadl200 \clpadr200 \gaph\cellx8640
\pard\intbl\itap1\pardeftab720\qr\partightenfactor0
\cf2 \cell 
\pard\intbl\itap1\pardeftab720\partightenfactor0
\cf2     "im_ball_filter = im_ball_filter/(15**2)/255"\cell \row

\itap1\trowd \taflags1 \trgaph108\trleft-108 \trcbpat3 \trbrdrl\brdrnil \trbrdrr\brdrnil 
\clvertalt \clshdrawnil \clwWidth1000\clftsWidth3 \clminw1000 \clbrdrt\brdrnil \clbrdrl\brdrnil \clbrdrb\brdrnil \clbrdrr\brdrnil \clpadl200 \clpadr200 \gaph\cellx4320
\clvertalt \clshdrawnil \clwWidth9921822\clftsWidth3 \clbrdrt\brdrnil \clbrdrl\brdrnil \clbrdrb\brdrnil \clbrdrr\brdrnil \clpadl200 \clpadr200 \gaph\cellx8640
\pard\intbl\itap1\pardeftab720\qr\partightenfactor0
\cf2 \cell 
\pard\intbl\itap1\pardeftab720\partightenfactor0
\cf2    ]\cell \row

\itap1\trowd \taflags1 \trgaph108\trleft-108 \trcbpat3 \trbrdrl\brdrnil \trbrdrr\brdrnil 
\clvertalt \clshdrawnil \clwWidth1000\clftsWidth3 \clminw1000 \clbrdrt\brdrnil \clbrdrl\brdrnil \clbrdrb\brdrnil \clbrdrr\brdrnil \clpadl200 \clpadr200 \gaph\cellx4320
\clvertalt \clshdrawnil \clwWidth9921822\clftsWidth3 \clbrdrt\brdrnil \clbrdrl\brdrnil \clbrdrb\brdrnil \clbrdrr\brdrnil \clpadl200 \clpadr200 \gaph\cellx8640
\pard\intbl\itap1\pardeftab720\qr\partightenfactor0
\cf2 \cell 
\pard\intbl\itap1\pardeftab720\partightenfactor0
\cf2   \},\cell \row

\itap1\trowd \taflags1 \trgaph108\trleft-108 \trcbpat3 \trbrdrl\brdrnil \trbrdrr\brdrnil 
\clvertalt \clshdrawnil \clwWidth1000\clftsWidth3 \clminw1000 \clbrdrt\brdrnil \clbrdrl\brdrnil \clbrdrb\brdrnil \clbrdrr\brdrnil \clpadl200 \clpadr200 \gaph\cellx4320
\clvertalt \clshdrawnil \clwWidth9921822\clftsWidth3 \clbrdrt\brdrnil \clbrdrl\brdrnil \clbrdrb\brdrnil \clbrdrr\brdrnil \clpadl200 \clpadr200 \gaph\cellx8640
\pard\intbl\itap1\pardeftab720\qr\partightenfactor0
\cf2 \cell 
\pard\intbl\itap1\pardeftab720\partightenfactor0
\cf2   \{\cell \row

\itap1\trowd \taflags1 \trgaph108\trleft-108 \trcbpat3 \trbrdrl\brdrnil \trbrdrr\brdrnil 
\clvertalt \clshdrawnil \clwWidth1000\clftsWidth3 \clminw1000 \clbrdrt\brdrnil \clbrdrl\brdrnil \clbrdrb\brdrnil \clbrdrr\brdrnil \clpadl200 \clpadr200 \gaph\cellx4320
\clvertalt \clshdrawnil \clwWidth9921822\clftsWidth3 \clbrdrt\brdrnil \clbrdrl\brdrnil \clbrdrb\brdrnil \clbrdrr\brdrnil \clpadl200 \clpadr200 \gaph\cellx8640
\pard\intbl\itap1\pardeftab720\qr\partightenfactor0
\cf2 \cell 
\pard\intbl\itap1\pardeftab720\partightenfactor0
\cf2    "cell_type": "markdown",\cell \row

\itap1\trowd \taflags1 \trgaph108\trleft-108 \trcbpat3 \trbrdrl\brdrnil \trbrdrr\brdrnil 
\clvertalt \clshdrawnil \clwWidth1000\clftsWidth3 \clminw1000 \clbrdrt\brdrnil \clbrdrl\brdrnil \clbrdrb\brdrnil \clbrdrr\brdrnil \clpadl200 \clpadr200 \gaph\cellx4320
\clvertalt \clshdrawnil \clwWidth9921822\clftsWidth3 \clbrdrt\brdrnil \clbrdrl\brdrnil \clbrdrb\brdrnil \clbrdrr\brdrnil \clpadl200 \clpadr200 \gaph\cellx8640
\pard\intbl\itap1\pardeftab720\qr\partightenfactor0
\cf2 \cell 
\pard\intbl\itap1\pardeftab720\partightenfactor0
\cf2    "metadata": \{\},\cell \row

\itap1\trowd \taflags1 \trgaph108\trleft-108 \trcbpat3 \trbrdrl\brdrnil \trbrdrr\brdrnil 
\clvertalt \clshdrawnil \clwWidth1000\clftsWidth3 \clminw1000 \clbrdrt\brdrnil \clbrdrl\brdrnil \clbrdrb\brdrnil \clbrdrr\brdrnil \clpadl200 \clpadr200 \gaph\cellx4320
\clvertalt \clshdrawnil \clwWidth9921822\clftsWidth3 \clbrdrt\brdrnil \clbrdrl\brdrnil \clbrdrb\brdrnil \clbrdrr\brdrnil \clpadl200 \clpadr200 \gaph\cellx8640
\pard\intbl\itap1\pardeftab720\qr\partightenfactor0
\cf2 \cell 
\pard\intbl\itap1\pardeftab720\partightenfactor0
\cf2    "source": [\cell \row

\itap1\trowd \taflags1 \trgaph108\trleft-108 \trcbpat3 \trbrdrl\brdrnil \trbrdrr\brdrnil 
\clvertalt \clshdrawnil \clwWidth1000\clftsWidth3 \clminw1000 \clbrdrt\brdrnil \clbrdrl\brdrnil \clbrdrb\brdrnil \clbrdrr\brdrnil \clpadl200 \clpadr200 \gaph\cellx4320
\clvertalt \clshdrawnil \clwWidth9921822\clftsWidth3 \clbrdrt\brdrnil \clbrdrl\brdrnil \clbrdrb\brdrnil \clbrdrr\brdrnil \clpadl200 \clpadr200 \gaph\cellx8640
\pard\intbl\itap1\pardeftab720\qr\partightenfactor0
\cf2 \cell 
\pard\intbl\itap1\pardeftab720\partightenfactor0
\cf2     "## 3 Online "\cell \row

\itap1\trowd \taflags1 \trgaph108\trleft-108 \trcbpat3 \trbrdrl\brdrnil \trbrdrr\brdrnil 
\clvertalt \clshdrawnil \clwWidth1000\clftsWidth3 \clminw1000 \clbrdrt\brdrnil \clbrdrl\brdrnil \clbrdrb\brdrnil \clbrdrr\brdrnil \clpadl200 \clpadr200 \gaph\cellx4320
\clvertalt \clshdrawnil \clwWidth9921822\clftsWidth3 \clbrdrt\brdrnil \clbrdrl\brdrnil \clbrdrb\brdrnil \clbrdrr\brdrnil \clpadl200 \clpadr200 \gaph\cellx8640
\pard\intbl\itap1\pardeftab720\qr\partightenfactor0
\cf2 \cell 
\pard\intbl\itap1\pardeftab720\partightenfactor0
\cf2    ]\cell \row

\itap1\trowd \taflags1 \trgaph108\trleft-108 \trcbpat3 \trbrdrl\brdrnil \trbrdrr\brdrnil 
\clvertalt \clshdrawnil \clwWidth1000\clftsWidth3 \clminw1000 \clbrdrt\brdrnil \clbrdrl\brdrnil \clbrdrb\brdrnil \clbrdrr\brdrnil \clpadl200 \clpadr200 \gaph\cellx4320
\clvertalt \clshdrawnil \clwWidth9921822\clftsWidth3 \clbrdrt\brdrnil \clbrdrl\brdrnil \clbrdrb\brdrnil \clbrdrr\brdrnil \clpadl200 \clpadr200 \gaph\cellx8640
\pard\intbl\itap1\pardeftab720\qr\partightenfactor0
\cf2 \cell 
\pard\intbl\itap1\pardeftab720\partightenfactor0
\cf2   \},\cell \row

\itap1\trowd \taflags1 \trgaph108\trleft-108 \trcbpat3 \trbrdrl\brdrnil \trbrdrr\brdrnil 
\clvertalt \clshdrawnil \clwWidth1000\clftsWidth3 \clminw1000 \clbrdrt\brdrnil \clbrdrl\brdrnil \clbrdrb\brdrnil \clbrdrr\brdrnil \clpadl200 \clpadr200 \gaph\cellx4320
\clvertalt \clshdrawnil \clwWidth9921822\clftsWidth3 \clbrdrt\brdrnil \clbrdrl\brdrnil \clbrdrb\brdrnil \clbrdrr\brdrnil \clpadl200 \clpadr200 \gaph\cellx8640
\pard\intbl\itap1\pardeftab720\qr\partightenfactor0
\cf2 \cell 
\pard\intbl\itap1\pardeftab720\partightenfactor0
\cf2   \{\cell \row

\itap1\trowd \taflags1 \trgaph108\trleft-108 \trcbpat3 \trbrdrl\brdrnil \trbrdrr\brdrnil 
\clvertalt \clshdrawnil \clwWidth1000\clftsWidth3 \clminw1000 \clbrdrt\brdrnil \clbrdrl\brdrnil \clbrdrb\brdrnil \clbrdrr\brdrnil \clpadl200 \clpadr200 \gaph\cellx4320
\clvertalt \clshdrawnil \clwWidth9921822\clftsWidth3 \clbrdrt\brdrnil \clbrdrl\brdrnil \clbrdrb\brdrnil \clbrdrr\brdrnil \clpadl200 \clpadr200 \gaph\cellx8640
\pard\intbl\itap1\pardeftab720\qr\partightenfactor0
\cf2 \cell 
\pard\intbl\itap1\pardeftab720\partightenfactor0
\cf2    "cell_type": "markdown",\cell \row

\itap1\trowd \taflags1 \trgaph108\trleft-108 \trcbpat3 \trbrdrl\brdrnil \trbrdrr\brdrnil 
\clvertalt \clshdrawnil \clwWidth1000\clftsWidth3 \clminw1000 \clbrdrt\brdrnil \clbrdrl\brdrnil \clbrdrb\brdrnil \clbrdrr\brdrnil \clpadl200 \clpadr200 \gaph\cellx4320
\clvertalt \clshdrawnil \clwWidth9921822\clftsWidth3 \clbrdrt\brdrnil \clbrdrl\brdrnil \clbrdrb\brdrnil \clbrdrr\brdrnil \clpadl200 \clpadr200 \gaph\cellx8640
\pard\intbl\itap1\pardeftab720\qr\partightenfactor0
\cf2 \cell 
\pard\intbl\itap1\pardeftab720\partightenfactor0
\cf2    "metadata": \{\},\cell \row

\itap1\trowd \taflags1 \trgaph108\trleft-108 \trcbpat3 \trbrdrl\brdrnil \trbrdrr\brdrnil 
\clvertalt \clshdrawnil \clwWidth1000\clftsWidth3 \clminw1000 \clbrdrt\brdrnil \clbrdrl\brdrnil \clbrdrb\brdrnil \clbrdrr\brdrnil \clpadl200 \clpadr200 \gaph\cellx4320
\clvertalt \clshdrawnil \clwWidth9921822\clftsWidth3 \clbrdrt\brdrnil \clbrdrl\brdrnil \clbrdrb\brdrnil \clbrdrr\brdrnil \clpadl200 \clpadr200 \gaph\cellx8640
\pard\intbl\itap1\pardeftab720\qr\partightenfactor0
\cf2 \cell 
\pard\intbl\itap1\pardeftab720\partightenfactor0
\cf2    "source": [\cell \row

\itap1\trowd \taflags1 \trgaph108\trleft-108 \trcbpat3 \trbrdrl\brdrnil \trbrdrr\brdrnil 
\clvertalt \clshdrawnil \clwWidth1000\clftsWidth3 \clminw1000 \clbrdrt\brdrnil \clbrdrl\brdrnil \clbrdrb\brdrnil \clbrdrr\brdrnil \clpadl200 \clpadr200 \gaph\cellx4320
\clvertalt \clshdrawnil \clwWidth9921822\clftsWidth3 \clbrdrt\brdrnil \clbrdrl\brdrnil \clbrdrb\brdrnil \clbrdrr\brdrnil \clpadl200 \clpadr200 \gaph\cellx8640
\pard\intbl\itap1\pardeftab720\qr\partightenfactor0
\cf2 \cell 
\pard\intbl\itap1\pardeftab720\partightenfactor0
\cf2     "### 3.1 Ouput videos"\cell \row

\itap1\trowd \taflags1 \trgaph108\trleft-108 \trcbpat3 \trbrdrl\brdrnil \trbrdrr\brdrnil 
\clvertalt \clshdrawnil \clwWidth1000\clftsWidth3 \clminw1000 \clbrdrt\brdrnil \clbrdrl\brdrnil \clbrdrb\brdrnil \clbrdrr\brdrnil \clpadl200 \clpadr200 \gaph\cellx4320
\clvertalt \clshdrawnil \clwWidth9921822\clftsWidth3 \clbrdrt\brdrnil \clbrdrl\brdrnil \clbrdrb\brdrnil \clbrdrr\brdrnil \clpadl200 \clpadr200 \gaph\cellx8640
\pard\intbl\itap1\pardeftab720\qr\partightenfactor0
\cf2 \cell 
\pard\intbl\itap1\pardeftab720\partightenfactor0
\cf2    ]\cell \row

\itap1\trowd \taflags1 \trgaph108\trleft-108 \trcbpat3 \trbrdrl\brdrnil \trbrdrr\brdrnil 
\clvertalt \clshdrawnil \clwWidth1000\clftsWidth3 \clminw1000 \clbrdrt\brdrnil \clbrdrl\brdrnil \clbrdrb\brdrnil \clbrdrr\brdrnil \clpadl200 \clpadr200 \gaph\cellx4320
\clvertalt \clshdrawnil \clwWidth9921822\clftsWidth3 \clbrdrt\brdrnil \clbrdrl\brdrnil \clbrdrb\brdrnil \clbrdrr\brdrnil \clpadl200 \clpadr200 \gaph\cellx8640
\pard\intbl\itap1\pardeftab720\qr\partightenfactor0
\cf2 \cell 
\pard\intbl\itap1\pardeftab720\partightenfactor0
\cf2   \},\cell \row

\itap1\trowd \taflags1 \trgaph108\trleft-108 \trcbpat3 \trbrdrl\brdrnil \trbrdrr\brdrnil 
\clvertalt \clshdrawnil \clwWidth1000\clftsWidth3 \clminw1000 \clbrdrt\brdrnil \clbrdrl\brdrnil \clbrdrb\brdrnil \clbrdrr\brdrnil \clpadl200 \clpadr200 \gaph\cellx4320
\clvertalt \clshdrawnil \clwWidth9921822\clftsWidth3 \clbrdrt\brdrnil \clbrdrl\brdrnil \clbrdrb\brdrnil \clbrdrr\brdrnil \clpadl200 \clpadr200 \gaph\cellx8640
\pard\intbl\itap1\pardeftab720\qr\partightenfactor0
\cf2 \cell 
\pard\intbl\itap1\pardeftab720\partightenfactor0
\cf2   \{\cell \row

\itap1\trowd \taflags1 \trgaph108\trleft-108 \trcbpat3 \trbrdrl\brdrnil \trbrdrr\brdrnil 
\clvertalt \clshdrawnil \clwWidth1000\clftsWidth3 \clminw1000 \clbrdrt\brdrnil \clbrdrl\brdrnil \clbrdrb\brdrnil \clbrdrr\brdrnil \clpadl200 \clpadr200 \gaph\cellx4320
\clvertalt \clshdrawnil \clwWidth9921822\clftsWidth3 \clbrdrt\brdrnil \clbrdrl\brdrnil \clbrdrb\brdrnil \clbrdrr\brdrnil \clpadl200 \clpadr200 \gaph\cellx8640
\pard\intbl\itap1\pardeftab720\qr\partightenfactor0
\cf2 \cell 
\pard\intbl\itap1\pardeftab720\partightenfactor0
\cf2    "cell_type": "code",\cell \row

\itap1\trowd \taflags1 \trgaph108\trleft-108 \trcbpat3 \trbrdrl\brdrnil \trbrdrr\brdrnil 
\clvertalt \clshdrawnil \clwWidth1000\clftsWidth3 \clminw1000 \clbrdrt\brdrnil \clbrdrl\brdrnil \clbrdrb\brdrnil \clbrdrr\brdrnil \clpadl200 \clpadr200 \gaph\cellx4320
\clvertalt \clshdrawnil \clwWidth9921822\clftsWidth3 \clbrdrt\brdrnil \clbrdrl\brdrnil \clbrdrb\brdrnil \clbrdrr\brdrnil \clpadl200 \clpadr200 \gaph\cellx8640
\pard\intbl\itap1\pardeftab720\qr\partightenfactor0
\cf2 \cell 
\pard\intbl\itap1\pardeftab720\partightenfactor0
\cf2    "execution_count": 6,\cell \row

\itap1\trowd \taflags1 \trgaph108\trleft-108 \trcbpat3 \trbrdrl\brdrnil \trbrdrr\brdrnil 
\clvertalt \clshdrawnil \clwWidth1000\clftsWidth3 \clminw1000 \clbrdrt\brdrnil \clbrdrl\brdrnil \clbrdrb\brdrnil \clbrdrr\brdrnil \clpadl200 \clpadr200 \gaph\cellx4320
\clvertalt \clshdrawnil \clwWidth9921822\clftsWidth3 \clbrdrt\brdrnil \clbrdrl\brdrnil \clbrdrb\brdrnil \clbrdrr\brdrnil \clpadl200 \clpadr200 \gaph\cellx8640
\pard\intbl\itap1\pardeftab720\qr\partightenfactor0
\cf2 \cell 
\pard\intbl\itap1\pardeftab720\partightenfactor0
\cf2    "metadata": \{\},\cell \row

\itap1\trowd \taflags1 \trgaph108\trleft-108 \trcbpat3 \trbrdrl\brdrnil \trbrdrr\brdrnil 
\clvertalt \clshdrawnil \clwWidth1000\clftsWidth3 \clminw1000 \clbrdrt\brdrnil \clbrdrl\brdrnil \clbrdrb\brdrnil \clbrdrr\brdrnil \clpadl200 \clpadr200 \gaph\cellx4320
\clvertalt \clshdrawnil \clwWidth9921822\clftsWidth3 \clbrdrt\brdrnil \clbrdrl\brdrnil \clbrdrb\brdrnil \clbrdrr\brdrnil \clpadl200 \clpadr200 \gaph\cellx8640
\pard\intbl\itap1\pardeftab720\qr\partightenfactor0
\cf2 \cell 
\pard\intbl\itap1\pardeftab720\partightenfactor0
\cf2    "outputs": [],\cell \row

\itap1\trowd \taflags1 \trgaph108\trleft-108 \trcbpat3 \trbrdrl\brdrnil \trbrdrr\brdrnil 
\clvertalt \clshdrawnil \clwWidth1000\clftsWidth3 \clminw1000 \clbrdrt\brdrnil \clbrdrl\brdrnil \clbrdrb\brdrnil \clbrdrr\brdrnil \clpadl200 \clpadr200 \gaph\cellx4320
\clvertalt \clshdrawnil \clwWidth9921822\clftsWidth3 \clbrdrt\brdrnil \clbrdrl\brdrnil \clbrdrb\brdrnil \clbrdrr\brdrnil \clpadl200 \clpadr200 \gaph\cellx8640
\pard\intbl\itap1\pardeftab720\qr\partightenfactor0
\cf2 \cell 
\pard\intbl\itap1\pardeftab720\partightenfactor0
\cf2    "source": [\cell \row

\itap1\trowd \taflags1 \trgaph108\trleft-108 \trcbpat3 \trbrdrl\brdrnil \trbrdrr\brdrnil 
\clvertalt \clshdrawnil \clwWidth1000\clftsWidth3 \clminw1000 \clbrdrt\brdrnil \clbrdrl\brdrnil \clbrdrb\brdrnil \clbrdrr\brdrnil \clpadl200 \clpadr200 \gaph\cellx4320
\clvertalt \clshdrawnil \clwWidth9921822\clftsWidth3 \clbrdrt\brdrnil \clbrdrl\brdrnil \clbrdrb\brdrnil \clbrdrr\brdrnil \clpadl200 \clpadr200 \gaph\cellx8640
\pard\intbl\itap1\pardeftab720\qr\partightenfactor0
\cf2 \cell 
\pard\intbl\itap1\pardeftab720\partightenfactor0
\cf2     "fps = 40\\n",\cell \row

\itap1\trowd \taflags1 \trgaph108\trleft-108 \trcbpat3 \trbrdrl\brdrnil \trbrdrr\brdrnil 
\clvertalt \clshdrawnil \clwWidth1000\clftsWidth3 \clminw1000 \clbrdrt\brdrnil \clbrdrl\brdrnil \clbrdrb\brdrnil \clbrdrr\brdrnil \clpadl200 \clpadr200 \gaph\cellx4320
\clvertalt \clshdrawnil \clwWidth9921822\clftsWidth3 \clbrdrt\brdrnil \clbrdrl\brdrnil \clbrdrb\brdrnil \clbrdrr\brdrnil \clpadl200 \clpadr200 \gaph\cellx8640
\pard\intbl\itap1\pardeftab720\qr\partightenfactor0
\cf2 \cell 
\pard\intbl\itap1\pardeftab720\partightenfactor0
\cf2     "out_bg_sub = cv2.VideoWriter(save_data_path + 'bg_sub.mp4', cv2.VideoWriter_fourcc(*'DIVX'), fps, (im_full_gray_resized.shape[0], im_full_gray_resized.shape[1]), 0)\\n",\cell \row

\itap1\trowd \taflags1 \trgaph108\trleft-108 \trcbpat3 \trbrdrl\brdrnil \trbrdrr\brdrnil 
\clvertalt \clshdrawnil \clwWidth1000\clftsWidth3 \clminw1000 \clbrdrt\brdrnil \clbrdrl\brdrnil \clbrdrb\brdrnil \clbrdrr\brdrnil \clpadl200 \clpadr200 \gaph\cellx4320
\clvertalt \clshdrawnil \clwWidth9921822\clftsWidth3 \clbrdrt\brdrnil \clbrdrl\brdrnil \clbrdrb\brdrnil \clbrdrr\brdrnil \clpadl200 \clpadr200 \gaph\cellx8640
\pard\intbl\itap1\pardeftab720\qr\partightenfactor0
\cf2 \cell 
\pard\intbl\itap1\pardeftab720\partightenfactor0
\cf2     "out_otsu = cv2.VideoWriter(save_data_path + 'otsu.mp4', cv2.VideoWriter_fourcc(*'DIVX'), fps, (im_full_gray_resized.shape[0], im_full_gray_resized.shape[1]), 0)\\n",\cell \row

\itap1\trowd \taflags1 \trgaph108\trleft-108 \trcbpat3 \trbrdrl\brdrnil \trbrdrr\brdrnil 
\clvertalt \clshdrawnil \clwWidth1000\clftsWidth3 \clminw1000 \clbrdrt\brdrnil \clbrdrl\brdrnil \clbrdrb\brdrnil \clbrdrr\brdrnil \clpadl200 \clpadr200 \gaph\cellx4320
\clvertalt \clshdrawnil \clwWidth9921822\clftsWidth3 \clbrdrt\brdrnil \clbrdrl\brdrnil \clbrdrb\brdrnil \clbrdrr\brdrnil \clpadl200 \clpadr200 \gaph\cellx8640
\pard\intbl\itap1\pardeftab720\qr\partightenfactor0
\cf2 \cell 
\pard\intbl\itap1\pardeftab720\partightenfactor0
\cf2     "out_otsu_ero = cv2.VideoWriter(save_data_path + 'otsu_ero.mp4', cv2.VideoWriter_fourcc(*'DIVX'), fps, (im_full_gray_resized.shape[0], im_full_gray_resized.shape[1]), 0)\\n",\cell \row

\itap1\trowd \taflags1 \trgaph108\trleft-108 \trcbpat3 \trbrdrl\brdrnil \trbrdrr\brdrnil 
\clvertalt \clshdrawnil \clwWidth1000\clftsWidth3 \clminw1000 \clbrdrt\brdrnil \clbrdrl\brdrnil \clbrdrb\brdrnil \clbrdrr\brdrnil \clpadl200 \clpadr200 \gaph\cellx4320
\clvertalt \clshdrawnil \clwWidth9921822\clftsWidth3 \clbrdrt\brdrnil \clbrdrl\brdrnil \clbrdrb\brdrnil \clbrdrr\brdrnil \clpadl200 \clpadr200 \gaph\cellx8640
\pard\intbl\itap1\pardeftab720\qr\partightenfactor0
\cf2 \cell 
\pard\intbl\itap1\pardeftab720\partightenfactor0
\cf2     "out_otsu_ball = cv2.VideoWriter(save_data_path + 'otsu_ball.mp4', cv2.VideoWriter_fourcc(*'DIVX'), fps, (im_full_gray_resized.shape[0], im_full_gray_resized.shape[1]), 0)\\n",\cell \row

\itap1\trowd \taflags1 \trgaph108\trleft-108 \trcbpat3 \trbrdrl\brdrnil \trbrdrr\brdrnil 
\clvertalt \clshdrawnil \clwWidth1000\clftsWidth3 \clminw1000 \clbrdrt\brdrnil \clbrdrl\brdrnil \clbrdrb\brdrnil \clbrdrr\brdrnil \clpadl200 \clpadr200 \gaph\cellx4320
\clvertalt \clshdrawnil \clwWidth9921822\clftsWidth3 \clbrdrt\brdrnil \clbrdrl\brdrnil \clbrdrb\brdrnil \clbrdrr\brdrnil \clpadl200 \clpadr200 \gaph\cellx8640
\pard\intbl\itap1\pardeftab720\qr\partightenfactor0
\cf2 \cell 
\pard\intbl\itap1\pardeftab720\partightenfactor0
\cf2     "out_val_cont = cv2.VideoWriter(save_data_path + 'val_cont.mp4', cv2.VideoWriter_fourcc(*'DIVX'), fps, (im_full_gray_resized.shape[0], im_full_gray_resized.shape[1]), 0)\\n",\cell \row

\itap1\trowd \taflags1 \trgaph108\trleft-108 \trcbpat3 \trbrdrl\brdrnil \trbrdrr\brdrnil 
\clvertalt \clshdrawnil \clwWidth1000\clftsWidth3 \clminw1000 \clbrdrt\brdrnil \clbrdrl\brdrnil \clbrdrb\brdrnil \clbrdrr\brdrnil \clpadl200 \clpadr200 \gaph\cellx4320
\clvertalt \clshdrawnil \clwWidth9921822\clftsWidth3 \clbrdrt\brdrnil \clbrdrl\brdrnil \clbrdrb\brdrnil \clbrdrr\brdrnil \clpadl200 \clpadr200 \gaph\cellx8640
\pard\intbl\itap1\pardeftab720\qr\partightenfactor0
\cf2 \cell 
\pard\intbl\itap1\pardeftab720\partightenfactor0
\cf2     "out_ero = cv2.VideoWriter(save_data_path + 'ero.mp4', cv2.VideoWriter_fourcc(*'DIVX'), fps, (im_full_gray_resized.shape[0], im_full_gray_resized.shape[1]), 0)\\n",\cell \row

\itap1\trowd \taflags1 \trgaph108\trleft-108 \trcbpat3 \trbrdrl\brdrnil \trbrdrr\brdrnil 
\clvertalt \clshdrawnil \clwWidth1000\clftsWidth3 \clminw1000 \clbrdrt\brdrnil \clbrdrl\brdrnil \clbrdrb\brdrnil \clbrdrr\brdrnil \clpadl200 \clpadr200 \gaph\cellx4320
\clvertalt \clshdrawnil \clwWidth9921822\clftsWidth3 \clbrdrt\brdrnil \clbrdrl\brdrnil \clbrdrb\brdrnil \clbrdrr\brdrnil \clpadl200 \clpadr200 \gaph\cellx8640
\pard\intbl\itap1\pardeftab720\qr\partightenfactor0
\cf2 \cell 
\pard\intbl\itap1\pardeftab720\partightenfactor0
\cf2     "out_dil = cv2.VideoWriter(save_data_path + 'dil.mp4', cv2.VideoWriter_fourcc(*'DIVX'), fps, (im_full_gray_resized.shape[0], im_full_gray_resized.shape[1]), 0)\\n",\cell \row

\itap1\trowd \taflags1 \trgaph108\trleft-108 \trcbpat3 \trbrdrl\brdrnil \trbrdrr\brdrnil 
\clvertalt \clshdrawnil \clwWidth1000\clftsWidth3 \clminw1000 \clbrdrt\brdrnil \clbrdrl\brdrnil \clbrdrb\brdrnil \clbrdrr\brdrnil \clpadl200 \clpadr200 \gaph\cellx4320
\clvertalt \clshdrawnil \clwWidth9921822\clftsWidth3 \clbrdrt\brdrnil \clbrdrl\brdrnil \clbrdrb\brdrnil \clbrdrr\brdrnil \clpadl200 \clpadr200 \gaph\cellx8640
\pard\intbl\itap1\pardeftab720\qr\partightenfactor0
\cf2 \cell 
\pard\intbl\itap1\pardeftab720\partightenfactor0
\cf2     "out_anot = cv2.VideoWriter(save_data_path + 'anot.mp4', cv2.VideoWriter_fourcc(*'DIVX'), fps, (im_full_gray_resized.shape[0], im_full_gray_resized.shape[1]))\\n",\cell \row

\itap1\trowd \taflags1 \trgaph108\trleft-108 \trcbpat3 \trbrdrl\brdrnil \trbrdrr\brdrnil 
\clvertalt \clshdrawnil \clwWidth1000\clftsWidth3 \clminw1000 \clbrdrt\brdrnil \clbrdrl\brdrnil \clbrdrb\brdrnil \clbrdrr\brdrnil \clpadl200 \clpadr200 \gaph\cellx4320
\clvertalt \clshdrawnil \clwWidth9921822\clftsWidth3 \clbrdrt\brdrnil \clbrdrl\brdrnil \clbrdrb\brdrnil \clbrdrr\brdrnil \clpadl200 \clpadr200 \gaph\cellx8640
\pard\intbl\itap1\pardeftab720\qr\partightenfactor0
\cf2 \cell 
\pard\intbl\itap1\pardeftab720\partightenfactor0
\cf2     "out_fly = cv2.VideoWriter(save_data_path + 'fly.mp4', cv2.VideoWriter_fourcc(*'DIVX'), fps, (im_full_gray_resized.shape[0], im_full_gray_resized.shape[1]), 0)"\cell \row

\itap1\trowd \taflags1 \trgaph108\trleft-108 \trcbpat3 \trbrdrl\brdrnil \trbrdrr\brdrnil 
\clvertalt \clshdrawnil \clwWidth1000\clftsWidth3 \clminw1000 \clbrdrt\brdrnil \clbrdrl\brdrnil \clbrdrb\brdrnil \clbrdrr\brdrnil \clpadl200 \clpadr200 \gaph\cellx4320
\clvertalt \clshdrawnil \clwWidth9921822\clftsWidth3 \clbrdrt\brdrnil \clbrdrl\brdrnil \clbrdrb\brdrnil \clbrdrr\brdrnil \clpadl200 \clpadr200 \gaph\cellx8640
\pard\intbl\itap1\pardeftab720\qr\partightenfactor0
\cf2 \cell 
\pard\intbl\itap1\pardeftab720\partightenfactor0
\cf2    ]\cell \row

\itap1\trowd \taflags1 \trgaph108\trleft-108 \trcbpat3 \trbrdrl\brdrnil \trbrdrr\brdrnil 
\clvertalt \clshdrawnil \clwWidth1000\clftsWidth3 \clminw1000 \clbrdrt\brdrnil \clbrdrl\brdrnil \clbrdrb\brdrnil \clbrdrr\brdrnil \clpadl200 \clpadr200 \gaph\cellx4320
\clvertalt \clshdrawnil \clwWidth9921822\clftsWidth3 \clbrdrt\brdrnil \clbrdrl\brdrnil \clbrdrb\brdrnil \clbrdrr\brdrnil \clpadl200 \clpadr200 \gaph\cellx8640
\pard\intbl\itap1\pardeftab720\qr\partightenfactor0
\cf2 \cell 
\pard\intbl\itap1\pardeftab720\partightenfactor0
\cf2   \},\cell \row

\itap1\trowd \taflags1 \trgaph108\trleft-108 \trcbpat3 \trbrdrl\brdrnil \trbrdrr\brdrnil 
\clvertalt \clshdrawnil \clwWidth1000\clftsWidth3 \clminw1000 \clbrdrt\brdrnil \clbrdrl\brdrnil \clbrdrb\brdrnil \clbrdrr\brdrnil \clpadl200 \clpadr200 \gaph\cellx4320
\clvertalt \clshdrawnil \clwWidth9921822\clftsWidth3 \clbrdrt\brdrnil \clbrdrl\brdrnil \clbrdrb\brdrnil \clbrdrr\brdrnil \clpadl200 \clpadr200 \gaph\cellx8640
\pard\intbl\itap1\pardeftab720\qr\partightenfactor0
\cf2 \cell 
\pard\intbl\itap1\pardeftab720\partightenfactor0
\cf2   \{\cell \row

\itap1\trowd \taflags1 \trgaph108\trleft-108 \trcbpat3 \trbrdrl\brdrnil \trbrdrr\brdrnil 
\clvertalt \clshdrawnil \clwWidth1000\clftsWidth3 \clminw1000 \clbrdrt\brdrnil \clbrdrl\brdrnil \clbrdrb\brdrnil \clbrdrr\brdrnil \clpadl200 \clpadr200 \gaph\cellx4320
\clvertalt \clshdrawnil \clwWidth9921822\clftsWidth3 \clbrdrt\brdrnil \clbrdrl\brdrnil \clbrdrb\brdrnil \clbrdrr\brdrnil \clpadl200 \clpadr200 \gaph\cellx8640
\pard\intbl\itap1\pardeftab720\qr\partightenfactor0
\cf2 \cell 
\pard\intbl\itap1\pardeftab720\partightenfactor0
\cf2    "cell_type": "markdown",\cell \row

\itap1\trowd \taflags1 \trgaph108\trleft-108 \trcbpat3 \trbrdrl\brdrnil \trbrdrr\brdrnil 
\clvertalt \clshdrawnil \clwWidth1000\clftsWidth3 \clminw1000 \clbrdrt\brdrnil \clbrdrl\brdrnil \clbrdrb\brdrnil \clbrdrr\brdrnil \clpadl200 \clpadr200 \gaph\cellx4320
\clvertalt \clshdrawnil \clwWidth9921822\clftsWidth3 \clbrdrt\brdrnil \clbrdrl\brdrnil \clbrdrb\brdrnil \clbrdrr\brdrnil \clpadl200 \clpadr200 \gaph\cellx8640
\pard\intbl\itap1\pardeftab720\qr\partightenfactor0
\cf2 \cell 
\pard\intbl\itap1\pardeftab720\partightenfactor0
\cf2    "metadata": \{\},\cell \row

\itap1\trowd \taflags1 \trgaph108\trleft-108 \trcbpat3 \trbrdrl\brdrnil \trbrdrr\brdrnil 
\clvertalt \clshdrawnil \clwWidth1000\clftsWidth3 \clminw1000 \clbrdrt\brdrnil \clbrdrl\brdrnil \clbrdrb\brdrnil \clbrdrr\brdrnil \clpadl200 \clpadr200 \gaph\cellx4320
\clvertalt \clshdrawnil \clwWidth9921822\clftsWidth3 \clbrdrt\brdrnil \clbrdrl\brdrnil \clbrdrb\brdrnil \clbrdrr\brdrnil \clpadl200 \clpadr200 \gaph\cellx8640
\pard\intbl\itap1\pardeftab720\qr\partightenfactor0
\cf2 \cell 
\pard\intbl\itap1\pardeftab720\partightenfactor0
\cf2    "source": [\cell \row

\itap1\trowd \taflags1 \trgaph108\trleft-108 \trcbpat3 \trbrdrl\brdrnil \trbrdrr\brdrnil 
\clvertalt \clshdrawnil \clwWidth1000\clftsWidth3 \clminw1000 \clbrdrt\brdrnil \clbrdrl\brdrnil \clbrdrb\brdrnil \clbrdrr\brdrnil \clpadl200 \clpadr200 \gaph\cellx4320
\clvertalt \clshdrawnil \clwWidth9921822\clftsWidth3 \clbrdrt\brdrnil \clbrdrl\brdrnil \clbrdrb\brdrnil \clbrdrr\brdrnil \clpadl200 \clpadr200 \gaph\cellx8640
\pard\intbl\itap1\pardeftab720\qr\partightenfactor0
\cf2 \cell 
\pard\intbl\itap1\pardeftab720\partightenfactor0
\cf2     "### 3.2 Image processing"\cell \row

\itap1\trowd \taflags1 \trgaph108\trleft-108 \trcbpat3 \trbrdrl\brdrnil \trbrdrr\brdrnil 
\clvertalt \clshdrawnil \clwWidth1000\clftsWidth3 \clminw1000 \clbrdrt\brdrnil \clbrdrl\brdrnil \clbrdrb\brdrnil \clbrdrr\brdrnil \clpadl200 \clpadr200 \gaph\cellx4320
\clvertalt \clshdrawnil \clwWidth9921822\clftsWidth3 \clbrdrt\brdrnil \clbrdrl\brdrnil \clbrdrb\brdrnil \clbrdrr\brdrnil \clpadl200 \clpadr200 \gaph\cellx8640
\pard\intbl\itap1\pardeftab720\qr\partightenfactor0
\cf2 \cell 
\pard\intbl\itap1\pardeftab720\partightenfactor0
\cf2    ]\cell \row

\itap1\trowd \taflags1 \trgaph108\trleft-108 \trcbpat3 \trbrdrl\brdrnil \trbrdrr\brdrnil 
\clvertalt \clshdrawnil \clwWidth1000\clftsWidth3 \clminw1000 \clbrdrt\brdrnil \clbrdrl\brdrnil \clbrdrb\brdrnil \clbrdrr\brdrnil \clpadl200 \clpadr200 \gaph\cellx4320
\clvertalt \clshdrawnil \clwWidth9921822\clftsWidth3 \clbrdrt\brdrnil \clbrdrl\brdrnil \clbrdrb\brdrnil \clbrdrr\brdrnil \clpadl200 \clpadr200 \gaph\cellx8640
\pard\intbl\itap1\pardeftab720\qr\partightenfactor0
\cf2 \cell 
\pard\intbl\itap1\pardeftab720\partightenfactor0
\cf2   \},\cell \row

\itap1\trowd \taflags1 \trgaph108\trleft-108 \trcbpat3 \trbrdrl\brdrnil \trbrdrr\brdrnil 
\clvertalt \clshdrawnil \clwWidth1000\clftsWidth3 \clminw1000 \clbrdrt\brdrnil \clbrdrl\brdrnil \clbrdrb\brdrnil \clbrdrr\brdrnil \clpadl200 \clpadr200 \gaph\cellx4320
\clvertalt \clshdrawnil \clwWidth9921822\clftsWidth3 \clbrdrt\brdrnil \clbrdrl\brdrnil \clbrdrb\brdrnil \clbrdrr\brdrnil \clpadl200 \clpadr200 \gaph\cellx8640
\pard\intbl\itap1\pardeftab720\qr\partightenfactor0
\cf2 \cell 
\pard\intbl\itap1\pardeftab720\partightenfactor0
\cf2   \{\cell \row

\itap1\trowd \taflags1 \trgaph108\trleft-108 \trcbpat3 \trbrdrl\brdrnil \trbrdrr\brdrnil 
\clvertalt \clshdrawnil \clwWidth1000\clftsWidth3 \clminw1000 \clbrdrt\brdrnil \clbrdrl\brdrnil \clbrdrb\brdrnil \clbrdrr\brdrnil \clpadl200 \clpadr200 \gaph\cellx4320
\clvertalt \clshdrawnil \clwWidth9921822\clftsWidth3 \clbrdrt\brdrnil \clbrdrl\brdrnil \clbrdrb\brdrnil \clbrdrr\brdrnil \clpadl200 \clpadr200 \gaph\cellx8640
\pard\intbl\itap1\pardeftab720\qr\partightenfactor0
\cf2 \cell 
\pard\intbl\itap1\pardeftab720\partightenfactor0
\cf2    "cell_type": "code",\cell \row

\itap1\trowd \taflags1 \trgaph108\trleft-108 \trcbpat3 \trbrdrl\brdrnil \trbrdrr\brdrnil 
\clvertalt \clshdrawnil \clwWidth1000\clftsWidth3 \clminw1000 \clbrdrt\brdrnil \clbrdrl\brdrnil \clbrdrb\brdrnil \clbrdrr\brdrnil \clpadl200 \clpadr200 \gaph\cellx4320
\clvertalt \clshdrawnil \clwWidth9921822\clftsWidth3 \clbrdrt\brdrnil \clbrdrl\brdrnil \clbrdrb\brdrnil \clbrdrr\brdrnil \clpadl200 \clpadr200 \gaph\cellx8640
\pard\intbl\itap1\pardeftab720\qr\partightenfactor0
\cf2 \cell 
\pard\intbl\itap1\pardeftab720\partightenfactor0
\cf2    "execution_count": 7,\cell \row

\itap1\trowd \taflags1 \trgaph108\trleft-108 \trcbpat3 \trbrdrl\brdrnil \trbrdrr\brdrnil 
\clvertalt \clshdrawnil \clwWidth1000\clftsWidth3 \clminw1000 \clbrdrt\brdrnil \clbrdrl\brdrnil \clbrdrb\brdrnil \clbrdrr\brdrnil \clpadl200 \clpadr200 \gaph\cellx4320
\clvertalt \clshdrawnil \clwWidth9921822\clftsWidth3 \clbrdrt\brdrnil \clbrdrl\brdrnil \clbrdrb\brdrnil \clbrdrr\brdrnil \clpadl200 \clpadr200 \gaph\cellx8640
\pard\intbl\itap1\pardeftab720\qr\partightenfactor0
\cf2 \cell 
\pard\intbl\itap1\pardeftab720\partightenfactor0
\cf2    "metadata": \{\},\cell \row

\itap1\trowd \taflags1 \trgaph108\trleft-108 \trcbpat3 \trbrdrl\brdrnil \trbrdrr\brdrnil 
\clvertalt \clshdrawnil \clwWidth1000\clftsWidth3 \clminw1000 \clbrdrt\brdrnil \clbrdrl\brdrnil \clbrdrb\brdrnil \clbrdrr\brdrnil \clpadl200 \clpadr200 \gaph\cellx4320
\clvertalt \clshdrawnil \clwWidth9921822\clftsWidth3 \clbrdrt\brdrnil \clbrdrl\brdrnil \clbrdrb\brdrnil \clbrdrr\brdrnil \clpadl200 \clpadr200 \gaph\cellx8640
\pard\intbl\itap1\pardeftab720\qr\partightenfactor0
\cf2 \cell 
\pard\intbl\itap1\pardeftab720\partightenfactor0
\cf2    "outputs": [\cell \row

\itap1\trowd \taflags1 \trgaph108\trleft-108 \trcbpat3 \trbrdrl\brdrnil \trbrdrr\brdrnil 
\clvertalt \clshdrawnil \clwWidth1000\clftsWidth3 \clminw1000 \clbrdrt\brdrnil \clbrdrl\brdrnil \clbrdrb\brdrnil \clbrdrr\brdrnil \clpadl200 \clpadr200 \gaph\cellx4320
\clvertalt \clshdrawnil \clwWidth9921822\clftsWidth3 \clbrdrt\brdrnil \clbrdrl\brdrnil \clbrdrb\brdrnil \clbrdrr\brdrnil \clpadl200 \clpadr200 \gaph\cellx8640
\pard\intbl\itap1\pardeftab720\qr\partightenfactor0
\cf2 \cell 
\pard\intbl\itap1\pardeftab720\partightenfactor0
\cf2     \{\cell \row

\itap1\trowd \taflags1 \trgaph108\trleft-108 \trcbpat3 \trbrdrl\brdrnil \trbrdrr\brdrnil 
\clvertalt \clshdrawnil \clwWidth1000\clftsWidth3 \clminw1000 \clbrdrt\brdrnil \clbrdrl\brdrnil \clbrdrb\brdrnil \clbrdrr\brdrnil \clpadl200 \clpadr200 \gaph\cellx4320
\clvertalt \clshdrawnil \clwWidth9921822\clftsWidth3 \clbrdrt\brdrnil \clbrdrl\brdrnil \clbrdrb\brdrnil \clbrdrr\brdrnil \clpadl200 \clpadr200 \gaph\cellx8640
\pard\intbl\itap1\pardeftab720\qr\partightenfactor0
\cf2 \cell 
\pard\intbl\itap1\pardeftab720\partightenfactor0
\cf2      "name": "stdout",\cell \row

\itap1\trowd \taflags1 \trgaph108\trleft-108 \trcbpat3 \trbrdrl\brdrnil \trbrdrr\brdrnil 
\clvertalt \clshdrawnil \clwWidth1000\clftsWidth3 \clminw1000 \clbrdrt\brdrnil \clbrdrl\brdrnil \clbrdrb\brdrnil \clbrdrr\brdrnil \clpadl200 \clpadr200 \gaph\cellx4320
\clvertalt \clshdrawnil \clwWidth9921822\clftsWidth3 \clbrdrt\brdrnil \clbrdrl\brdrnil \clbrdrb\brdrnil \clbrdrr\brdrnil \clpadl200 \clpadr200 \gaph\cellx8640
\pard\intbl\itap1\pardeftab720\qr\partightenfactor0
\cf2 \cell 
\pard\intbl\itap1\pardeftab720\partightenfactor0
\cf2      "output_type": "stream",\cell \row

\itap1\trowd \taflags1 \trgaph108\trleft-108 \trcbpat3 \trbrdrl\brdrnil \trbrdrr\brdrnil 
\clvertalt \clshdrawnil \clwWidth1000\clftsWidth3 \clminw1000 \clbrdrt\brdrnil \clbrdrl\brdrnil \clbrdrb\brdrnil \clbrdrr\brdrnil \clpadl200 \clpadr200 \gaph\cellx4320
\clvertalt \clshdrawnil \clwWidth9921822\clftsWidth3 \clbrdrt\brdrnil \clbrdrl\brdrnil \clbrdrb\brdrnil \clbrdrr\brdrnil \clpadl200 \clpadr200 \gaph\cellx8640
\pard\intbl\itap1\pardeftab720\qr\partightenfactor0
\cf2 \cell 
\pard\intbl\itap1\pardeftab720\partightenfactor0
\cf2      "text": [\cell \row

\itap1\trowd \taflags1 \trgaph108\trleft-108 \trcbpat3 \trbrdrl\brdrnil \trbrdrr\brdrnil 
\clvertalt \clshdrawnil \clwWidth1000\clftsWidth3 \clminw1000 \clbrdrt\brdrnil \clbrdrl\brdrnil \clbrdrb\brdrnil \clbrdrr\brdrnil \clpadl200 \clpadr200 \gaph\cellx4320
\clvertalt \clshdrawnil \clwWidth9921822\clftsWidth3 \clbrdrt\brdrnil \clbrdrl\brdrnil \clbrdrb\brdrnil \clbrdrr\brdrnil \clpadl200 \clpadr200 \gaph\cellx8640
\pard\intbl\itap1\pardeftab720\qr\partightenfactor0
\cf2 \cell 
\pard\intbl\itap1\pardeftab720\partightenfactor0
\cf2       "0.0038907194137573244\\n",\cell \row

\itap1\trowd \taflags1 \trgaph108\trleft-108 \trcbpat3 \trbrdrl\brdrnil \trbrdrr\brdrnil 
\clvertalt \clshdrawnil \clwWidth1000\clftsWidth3 \clminw1000 \clbrdrt\brdrnil \clbrdrl\brdrnil \clbrdrb\brdrnil \clbrdrr\brdrnil \clpadl200 \clpadr200 \gaph\cellx4320
\clvertalt \clshdrawnil \clwWidth9921822\clftsWidth3 \clbrdrt\brdrnil \clbrdrl\brdrnil \clbrdrb\brdrnil \clbrdrr\brdrnil \clpadl200 \clpadr200 \gaph\cellx8640
\pard\intbl\itap1\pardeftab720\qr\partightenfactor0
\cf2 \cell 
\pard\intbl\itap1\pardeftab720\partightenfactor0
\cf2       "257.021875302564\\n",\cell \row

\itap1\trowd \taflags1 \trgaph108\trleft-108 \trcbpat3 \trbrdrl\brdrnil \trbrdrr\brdrnil 
\clvertalt \clshdrawnil \clwWidth1000\clftsWidth3 \clminw1000 \clbrdrt\brdrnil \clbrdrl\brdrnil \clbrdrb\brdrnil \clbrdrr\brdrnil \clpadl200 \clpadr200 \gaph\cellx4320
\clvertalt \clshdrawnil \clwWidth9921822\clftsWidth3 \clbrdrt\brdrnil \clbrdrl\brdrnil \clbrdrb\brdrnil \clbrdrr\brdrnil \clpadl200 \clpadr200 \gaph\cellx8640
\pard\intbl\itap1\pardeftab720\qr\partightenfactor0
\cf2 \cell 
\pard\intbl\itap1\pardeftab720\partightenfactor0
\cf2       "500\\n"\cell \row

\itap1\trowd \taflags1 \trgaph108\trleft-108 \trcbpat3 \trbrdrl\brdrnil \trbrdrr\brdrnil 
\clvertalt \clshdrawnil \clwWidth1000\clftsWidth3 \clminw1000 \clbrdrt\brdrnil \clbrdrl\brdrnil \clbrdrb\brdrnil \clbrdrr\brdrnil \clpadl200 \clpadr200 \gaph\cellx4320
\clvertalt \clshdrawnil \clwWidth9921822\clftsWidth3 \clbrdrt\brdrnil \clbrdrl\brdrnil \clbrdrb\brdrnil \clbrdrr\brdrnil \clpadl200 \clpadr200 \gaph\cellx8640
\pard\intbl\itap1\pardeftab720\qr\partightenfactor0
\cf2 \cell 
\pard\intbl\itap1\pardeftab720\partightenfactor0
\cf2      ]\cell \row

\itap1\trowd \taflags1 \trgaph108\trleft-108 \trcbpat3 \trbrdrl\brdrnil \trbrdrr\brdrnil 
\clvertalt \clshdrawnil \clwWidth1000\clftsWidth3 \clminw1000 \clbrdrt\brdrnil \clbrdrl\brdrnil \clbrdrb\brdrnil \clbrdrr\brdrnil \clpadl200 \clpadr200 \gaph\cellx4320
\clvertalt \clshdrawnil \clwWidth9921822\clftsWidth3 \clbrdrt\brdrnil \clbrdrl\brdrnil \clbrdrb\brdrnil \clbrdrr\brdrnil \clpadl200 \clpadr200 \gaph\cellx8640
\pard\intbl\itap1\pardeftab720\qr\partightenfactor0
\cf2 \cell 
\pard\intbl\itap1\pardeftab720\partightenfactor0
\cf2     \}\cell \row

\itap1\trowd \taflags1 \trgaph108\trleft-108 \trcbpat3 \trbrdrl\brdrnil \trbrdrr\brdrnil 
\clvertalt \clshdrawnil \clwWidth1000\clftsWidth3 \clminw1000 \clbrdrt\brdrnil \clbrdrl\brdrnil \clbrdrb\brdrnil \clbrdrr\brdrnil \clpadl200 \clpadr200 \gaph\cellx4320
\clvertalt \clshdrawnil \clwWidth9921822\clftsWidth3 \clbrdrt\brdrnil \clbrdrl\brdrnil \clbrdrb\brdrnil \clbrdrr\brdrnil \clpadl200 \clpadr200 \gaph\cellx8640
\pard\intbl\itap1\pardeftab720\qr\partightenfactor0
\cf2 \cell 
\pard\intbl\itap1\pardeftab720\partightenfactor0
\cf2    ],\cell \row

\itap1\trowd \taflags1 \trgaph108\trleft-108 \trcbpat3 \trbrdrl\brdrnil \trbrdrr\brdrnil 
\clvertalt \clshdrawnil \clwWidth1000\clftsWidth3 \clminw1000 \clbrdrt\brdrnil \clbrdrl\brdrnil \clbrdrb\brdrnil \clbrdrr\brdrnil \clpadl200 \clpadr200 \gaph\cellx4320
\clvertalt \clshdrawnil \clwWidth9921822\clftsWidth3 \clbrdrt\brdrnil \clbrdrl\brdrnil \clbrdrb\brdrnil \clbrdrr\brdrnil \clpadl200 \clpadr200 \gaph\cellx8640
\pard\intbl\itap1\pardeftab720\qr\partightenfactor0
\cf2 \cell 
\pard\intbl\itap1\pardeftab720\partightenfactor0
\cf2    "source": [\cell \row

\itap1\trowd \taflags1 \trgaph108\trleft-108 \trcbpat3 \trbrdrl\brdrnil \trbrdrr\brdrnil 
\clvertalt \clshdrawnil \clwWidth1000\clftsWidth3 \clminw1000 \clbrdrt\brdrnil \clbrdrl\brdrnil \clbrdrb\brdrnil \clbrdrr\brdrnil \clpadl200 \clpadr200 \gaph\cellx4320
\clvertalt \clshdrawnil \clwWidth9921822\clftsWidth3 \clbrdrt\brdrnil \clbrdrl\brdrnil \clbrdrb\brdrnil \clbrdrr\brdrnil \clpadl200 \clpadr200 \gaph\cellx8640
\pard\intbl\itap1\pardeftab720\qr\partightenfactor0
\cf2 \cell 
\pard\intbl\itap1\pardeftab720\partightenfactor0
\cf2     "comput_time = []\\n",\cell \row

\itap1\trowd \taflags1 \trgaph108\trleft-108 \trcbpat3 \trbrdrl\brdrnil \trbrdrr\brdrnil 
\clvertalt \clshdrawnil \clwWidth1000\clftsWidth3 \clminw1000 \clbrdrt\brdrnil \clbrdrl\brdrnil \clbrdrb\brdrnil \clbrdrr\brdrnil \clpadl200 \clpadr200 \gaph\cellx4320
\clvertalt \clshdrawnil \clwWidth9921822\clftsWidth3 \clbrdrt\brdrnil \clbrdrl\brdrnil \clbrdrb\brdrnil \clbrdrr\brdrnil \clpadl200 \clpadr200 \gaph\cellx8640
\pard\intbl\itap1\pardeftab720\qr\partightenfactor0
\cf2 \cell 
\pard\intbl\itap1\pardeftab720\partightenfactor0
\cf2     "count = 0\\n",\cell \row

\itap1\trowd \taflags1 \trgaph108\trleft-108 \trcbpat3 \trbrdrl\brdrnil \trbrdrr\brdrnil 
\clvertalt \clshdrawnil \clwWidth1000\clftsWidth3 \clminw1000 \clbrdrt\brdrnil \clbrdrl\brdrnil \clbrdrb\brdrnil \clbrdrr\brdrnil \clpadl200 \clpadr200 \gaph\cellx4320
\clvertalt \clshdrawnil \clwWidth9921822\clftsWidth3 \clbrdrt\brdrnil \clbrdrl\brdrnil \clbrdrb\brdrnil \clbrdrr\brdrnil \clpadl200 \clpadr200 \gaph\cellx8640
\pard\intbl\itap1\pardeftab720\qr\partightenfactor0
\cf2 \cell 
\pard\intbl\itap1\pardeftab720\partightenfactor0
\cf2     "while count < 500:\\n",\cell \row

\itap1\trowd \taflags1 \trgaph108\trleft-108 \trcbpat3 \trbrdrl\brdrnil \trbrdrr\brdrnil 
\clvertalt \clshdrawnil \clwWidth1000\clftsWidth3 \clminw1000 \clbrdrt\brdrnil \clbrdrl\brdrnil \clbrdrb\brdrnil \clbrdrr\brdrnil \clpadl200 \clpadr200 \gaph\cellx4320
\clvertalt \clshdrawnil \clwWidth9921822\clftsWidth3 \clbrdrt\brdrnil \clbrdrl\brdrnil \clbrdrb\brdrnil \clbrdrr\brdrnil \clpadl200 \clpadr200 \gaph\cellx8640
\pard\intbl\itap1\pardeftab720\qr\partightenfactor0
\cf2 \cell 
\pard\intbl\itap1\pardeftab720\partightenfactor0
\cf2     "    success,im = vidcap.read()\\n",\cell \row

\itap1\trowd \taflags1 \trgaph108\trleft-108 \trcbpat3 \trbrdrl\brdrnil \trbrdrr\brdrnil 
\clvertalt \clshdrawnil \clwWidth1000\clftsWidth3 \clminw1000 \clbrdrt\brdrnil \clbrdrl\brdrnil \clbrdrb\brdrnil \clbrdrr\brdrnil \clpadl200 \clpadr200 \gaph\cellx4320
\clvertalt \clshdrawnil \clwWidth9921822\clftsWidth3 \clbrdrt\brdrnil \clbrdrl\brdrnil \clbrdrb\brdrnil \clbrdrr\brdrnil \clpadl200 \clpadr200 \gaph\cellx8640
\pard\intbl\itap1\pardeftab720\qr\partightenfactor0
\cf2 \cell 
\pard\intbl\itap1\pardeftab720\partightenfactor0
\cf2     "    count += 1\\n",\cell \row

\itap1\trowd \taflags1 \trgaph108\trleft-108 \trcbpat3 \trbrdrl\brdrnil \trbrdrr\brdrnil 
\clvertalt \clshdrawnil \clwWidth1000\clftsWidth3 \clminw1000 \clbrdrt\brdrnil \clbrdrl\brdrnil \clbrdrb\brdrnil \clbrdrr\brdrnil \clpadl200 \clpadr200 \gaph\cellx4320
\clvertalt \clshdrawnil \clwWidth9921822\clftsWidth3 \clbrdrt\brdrnil \clbrdrl\brdrnil \clbrdrb\brdrnil \clbrdrr\brdrnil \clpadl200 \clpadr200 \gaph\cellx8640
\pard\intbl\itap1\pardeftab720\qr\partightenfactor0
\cf2 \cell 
\pard\intbl\itap1\pardeftab720\partightenfactor0
\cf2     "    if success:\\n",\cell \row

\itap1\trowd \taflags1 \trgaph108\trleft-108 \trcbpat3 \trbrdrl\brdrnil \trbrdrr\brdrnil 
\clvertalt \clshdrawnil \clwWidth1000\clftsWidth3 \clminw1000 \clbrdrt\brdrnil \clbrdrl\brdrnil \clbrdrb\brdrnil \clbrdrr\brdrnil \clpadl200 \clpadr200 \gaph\cellx4320
\clvertalt \clshdrawnil \clwWidth9921822\clftsWidth3 \clbrdrt\brdrnil \clbrdrl\brdrnil \clbrdrb\brdrnil \clbrdrr\brdrnil \clpadl200 \clpadr200 \gaph\cellx8640
\pard\intbl\itap1\pardeftab720\qr\partightenfactor0
\cf2 \cell 
\pard\intbl\itap1\pardeftab720\partightenfactor0
\cf2     "        start_time = time.time()\\n",\cell \row

\itap1\trowd \taflags1 \trgaph108\trleft-108 \trcbpat3 \trbrdrl\brdrnil \trbrdrr\brdrnil 
\clvertalt \clshdrawnil \clwWidth1000\clftsWidth3 \clminw1000 \clbrdrt\brdrnil \clbrdrl\brdrnil \clbrdrb\brdrnil \clbrdrr\brdrnil \clpadl200 \clpadr200 \gaph\cellx4320
\clvertalt \clshdrawnil \clwWidth9921822\clftsWidth3 \clbrdrt\brdrnil \clbrdrl\brdrnil \clbrdrb\brdrnil \clbrdrr\brdrnil \clpadl200 \clpadr200 \gaph\cellx8640
\pard\intbl\itap1\pardeftab720\qr\partightenfactor0
\cf2 \cell 
\pard\intbl\itap1\pardeftab720\partightenfactor0
\cf2     "        im_resized = cv2.resize(im, (int(im_full_gray.shape[1]/rescaling_factor), \\n",\cell \row

\itap1\trowd \taflags1 \trgaph108\trleft-108 \trcbpat3 \trbrdrl\brdrnil \trbrdrr\brdrnil 
\clvertalt \clshdrawnil \clwWidth1000\clftsWidth3 \clminw1000 \clbrdrt\brdrnil \clbrdrl\brdrnil \clbrdrb\brdrnil \clbrdrr\brdrnil \clpadl200 \clpadr200 \gaph\cellx4320
\clvertalt \clshdrawnil \clwWidth9921822\clftsWidth3 \clbrdrt\brdrnil \clbrdrl\brdrnil \clbrdrb\brdrnil \clbrdrr\brdrnil \clpadl200 \clpadr200 \gaph\cellx8640
\pard\intbl\itap1\pardeftab720\qr\partightenfactor0
\cf2 \cell 
\pard\intbl\itap1\pardeftab720\partightenfactor0
\cf2     "                                          int(im_full_gray.shape[0]/rescaling_factor)), \\n",\cell \row

\itap1\trowd \taflags1 \trgaph108\trleft-108 \trcbpat3 \trbrdrl\brdrnil \trbrdrr\brdrnil 
\clvertalt \clshdrawnil \clwWidth1000\clftsWidth3 \clminw1000 \clbrdrt\brdrnil \clbrdrl\brdrnil \clbrdrb\brdrnil \clbrdrr\brdrnil \clpadl200 \clpadr200 \gaph\cellx4320
\clvertalt \clshdrawnil \clwWidth9921822\clftsWidth3 \clbrdrt\brdrnil \clbrdrl\brdrnil \clbrdrb\brdrnil \clbrdrr\brdrnil \clpadl200 \clpadr200 \gaph\cellx8640
\pard\intbl\itap1\pardeftab720\qr\partightenfactor0
\cf2 \cell 
\pard\intbl\itap1\pardeftab720\partightenfactor0
\cf2     "                                          interpolation = cv2.INTER_AREA)\\n",\cell \row

\itap1\trowd \taflags1 \trgaph108\trleft-108 \trcbpat3 \trbrdrl\brdrnil \trbrdrr\brdrnil 
\clvertalt \clshdrawnil \clwWidth1000\clftsWidth3 \clminw1000 \clbrdrt\brdrnil \clbrdrl\brdrnil \clbrdrb\brdrnil \clbrdrr\brdrnil \clpadl200 \clpadr200 \gaph\cellx4320
\clvertalt \clshdrawnil \clwWidth9921822\clftsWidth3 \clbrdrt\brdrnil \clbrdrl\brdrnil \clbrdrb\brdrnil \clbrdrr\brdrnil \clpadl200 \clpadr200 \gaph\cellx8640
\pard\intbl\itap1\pardeftab720\qr\partightenfactor0
\cf2 \cell 
\pard\intbl\itap1\pardeftab720\partightenfactor0
\cf2     "        \\n",\cell \row

\itap1\trowd \taflags1 \trgaph108\trleft-108 \trcbpat3 \trbrdrl\brdrnil \trbrdrr\brdrnil 
\clvertalt \clshdrawnil \clwWidth1000\clftsWidth3 \clminw1000 \clbrdrt\brdrnil \clbrdrl\brdrnil \clbrdrb\brdrnil \clbrdrr\brdrnil \clpadl200 \clpadr200 \gaph\cellx4320
\clvertalt \clshdrawnil \clwWidth9921822\clftsWidth3 \clbrdrt\brdrnil \clbrdrl\brdrnil \clbrdrb\brdrnil \clbrdrr\brdrnil \clpadl200 \clpadr200 \gaph\cellx8640
\pard\intbl\itap1\pardeftab720\qr\partightenfactor0
\cf2 \cell 
\pard\intbl\itap1\pardeftab720\partightenfactor0
\cf2     "        #background substraction\\n",\cell \row

\itap1\trowd \taflags1 \trgaph108\trleft-108 \trcbpat3 \trbrdrl\brdrnil \trbrdrr\brdrnil 
\clvertalt \clshdrawnil \clwWidth1000\clftsWidth3 \clminw1000 \clbrdrt\brdrnil \clbrdrl\brdrnil \clbrdrb\brdrnil \clbrdrr\brdrnil \clpadl200 \clpadr200 \gaph\cellx4320
\clvertalt \clshdrawnil \clwWidth9921822\clftsWidth3 \clbrdrt\brdrnil \clbrdrl\brdrnil \clbrdrb\brdrnil \clbrdrr\brdrnil \clpadl200 \clpadr200 \gaph\cellx8640
\pard\intbl\itap1\pardeftab720\qr\partightenfactor0
\cf2 \cell 
\pard\intbl\itap1\pardeftab720\partightenfactor0
\cf2     "        im_full_gray = cv2.cvtColor(im, cv2.COLOR_BGR2GRAY)\\n",\cell \row

\itap1\trowd \taflags1 \trgaph108\trleft-108 \trcbpat3 \trbrdrl\brdrnil \trbrdrr\brdrnil 
\clvertalt \clshdrawnil \clwWidth1000\clftsWidth3 \clminw1000 \clbrdrt\brdrnil \clbrdrl\brdrnil \clbrdrb\brdrnil \clbrdrr\brdrnil \clpadl200 \clpadr200 \gaph\cellx4320
\clvertalt \clshdrawnil \clwWidth9921822\clftsWidth3 \clbrdrt\brdrnil \clbrdrl\brdrnil \clbrdrb\brdrnil \clbrdrr\brdrnil \clpadl200 \clpadr200 \gaph\cellx8640
\pard\intbl\itap1\pardeftab720\qr\partightenfactor0
\cf2 \cell 
\pard\intbl\itap1\pardeftab720\partightenfactor0
\cf2     "        im_full_gray_resized = cv2.resize(im_full_gray, (int(im_full_gray.shape[1]/rescaling_factor), \\n",\cell \row

\itap1\trowd \taflags1 \trgaph108\trleft-108 \trcbpat3 \trbrdrl\brdrnil \trbrdrr\brdrnil 
\clvertalt \clshdrawnil \clwWidth1000\clftsWidth3 \clminw1000 \clbrdrt\brdrnil \clbrdrl\brdrnil \clbrdrb\brdrnil \clbrdrr\brdrnil \clpadl200 \clpadr200 \gaph\cellx4320
\clvertalt \clshdrawnil \clwWidth9921822\clftsWidth3 \clbrdrt\brdrnil \clbrdrl\brdrnil \clbrdrb\brdrnil \clbrdrr\brdrnil \clpadl200 \clpadr200 \gaph\cellx8640
\pard\intbl\itap1\pardeftab720\qr\partightenfactor0
\cf2 \cell 
\pard\intbl\itap1\pardeftab720\partightenfactor0
\cf2     "                                          int(im_full_gray.shape[0]/rescaling_factor)), \\n",\cell \row

\itap1\trowd \taflags1 \trgaph108\trleft-108 \trcbpat3 \trbrdrl\brdrnil \trbrdrr\brdrnil 
\clvertalt \clshdrawnil \clwWidth1000\clftsWidth3 \clminw1000 \clbrdrt\brdrnil \clbrdrl\brdrnil \clbrdrb\brdrnil \clbrdrr\brdrnil \clpadl200 \clpadr200 \gaph\cellx4320
\clvertalt \clshdrawnil \clwWidth9921822\clftsWidth3 \clbrdrt\brdrnil \clbrdrl\brdrnil \clbrdrb\brdrnil \clbrdrr\brdrnil \clpadl200 \clpadr200 \gaph\cellx8640
\pard\intbl\itap1\pardeftab720\qr\partightenfactor0
\cf2 \cell 
\pard\intbl\itap1\pardeftab720\partightenfactor0
\cf2     "                                          interpolation = cv2.INTER_AREA)\\n",\cell \row

\itap1\trowd \taflags1 \trgaph108\trleft-108 \trcbpat3 \trbrdrl\brdrnil \trbrdrr\brdrnil 
\clvertalt \clshdrawnil \clwWidth1000\clftsWidth3 \clminw1000 \clbrdrt\brdrnil \clbrdrl\brdrnil \clbrdrb\brdrnil \clbrdrr\brdrnil \clpadl200 \clpadr200 \gaph\cellx4320
\clvertalt \clshdrawnil \clwWidth9921822\clftsWidth3 \clbrdrt\brdrnil \clbrdrl\brdrnil \clbrdrb\brdrnil \clbrdrr\brdrnil \clpadl200 \clpadr200 \gaph\cellx8640
\pard\intbl\itap1\pardeftab720\qr\partightenfactor0
\cf2 \cell 
\pard\intbl\itap1\pardeftab720\partightenfactor0
\cf2     "        \\n",\cell \row

\itap1\trowd \taflags1 \trgaph108\trleft-108 \trcbpat3 \trbrdrl\brdrnil \trbrdrr\brdrnil 
\clvertalt \clshdrawnil \clwWidth1000\clftsWidth3 \clminw1000 \clbrdrt\brdrnil \clbrdrl\brdrnil \clbrdrb\brdrnil \clbrdrr\brdrnil \clpadl200 \clpadr200 \gaph\cellx4320
\clvertalt \clshdrawnil \clwWidth9921822\clftsWidth3 \clbrdrt\brdrnil \clbrdrl\brdrnil \clbrdrb\brdrnil \clbrdrr\brdrnil \clpadl200 \clpadr200 \gaph\cellx8640
\pard\intbl\itap1\pardeftab720\qr\partightenfactor0
\cf2 \cell 
\pard\intbl\itap1\pardeftab720\partightenfactor0
\cf2     "        im_full_gray_resized_bg_ad_rm = cv2.subtract(im_full_gray_resized, background_arena_door)\\n",\cell \row

\itap1\trowd \taflags1 \trgaph108\trleft-108 \trcbpat3 \trbrdrl\brdrnil \trbrdrr\brdrnil 
\clvertalt \clshdrawnil \clwWidth1000\clftsWidth3 \clminw1000 \clbrdrt\brdrnil \clbrdrl\brdrnil \clbrdrb\brdrnil \clbrdrr\brdrnil \clpadl200 \clpadr200 \gaph\cellx4320
\clvertalt \clshdrawnil \clwWidth9921822\clftsWidth3 \clbrdrt\brdrnil \clbrdrl\brdrnil \clbrdrb\brdrnil \clbrdrr\brdrnil \clpadl200 \clpadr200 \gaph\cellx8640
\pard\intbl\itap1\pardeftab720\qr\partightenfactor0
\cf2 \cell 
\pard\intbl\itap1\pardeftab720\partightenfactor0
\cf2     "        im_full_gray_resized_bg_full_rm = cv2.subtract(im_full_gray_resized, background_full)\\n",\cell \row

\itap1\trowd \taflags1 \trgaph108\trleft-108 \trcbpat3 \trbrdrl\brdrnil \trbrdrr\brdrnil 
\clvertalt \clshdrawnil \clwWidth1000\clftsWidth3 \clminw1000 \clbrdrt\brdrnil \clbrdrl\brdrnil \clbrdrb\brdrnil \clbrdrr\brdrnil \clpadl200 \clpadr200 \gaph\cellx4320
\clvertalt \clshdrawnil \clwWidth9921822\clftsWidth3 \clbrdrt\brdrnil \clbrdrl\brdrnil \clbrdrb\brdrnil \clbrdrr\brdrnil \clpadl200 \clpadr200 \gaph\cellx8640
\pard\intbl\itap1\pardeftab720\qr\partightenfactor0
\cf2 \cell 
\pard\intbl\itap1\pardeftab720\partightenfactor0
\cf2     "        \\n",\cell \row

\itap1\trowd \taflags1 \trgaph108\trleft-108 \trcbpat3 \trbrdrl\brdrnil \trbrdrr\brdrnil 
\clvertalt \clshdrawnil \clwWidth1000\clftsWidth3 \clminw1000 \clbrdrt\brdrnil \clbrdrl\brdrnil \clbrdrb\brdrnil \clbrdrr\brdrnil \clpadl200 \clpadr200 \gaph\cellx4320
\clvertalt \clshdrawnil \clwWidth9921822\clftsWidth3 \clbrdrt\brdrnil \clbrdrl\brdrnil \clbrdrb\brdrnil \clbrdrr\brdrnil \clpadl200 \clpadr200 \gaph\cellx8640
\pard\intbl\itap1\pardeftab720\qr\partightenfactor0
\cf2 \cell 
\pard\intbl\itap1\pardeftab720\partightenfactor0
\cf2     "        #suppress numbers at the top\\n",\cell \row

\itap1\trowd \taflags1 \trgaph108\trleft-108 \trcbpat3 \trbrdrl\brdrnil \trbrdrr\brdrnil 
\clvertalt \clshdrawnil \clwWidth1000\clftsWidth3 \clminw1000 \clbrdrt\brdrnil \clbrdrl\brdrnil \clbrdrb\brdrnil \clbrdrr\brdrnil \clpadl200 \clpadr200 \gaph\cellx4320
\clvertalt \clshdrawnil \clwWidth9921822\clftsWidth3 \clbrdrt\brdrnil \clbrdrl\brdrnil \clbrdrb\brdrnil \clbrdrr\brdrnil \clpadl200 \clpadr200 \gaph\cellx8640
\pard\intbl\itap1\pardeftab720\qr\partightenfactor0
\cf2 \cell 
\pard\intbl\itap1\pardeftab720\partightenfactor0
\cf2     "        im_full_gray_resized_bg_ad_rm [0:10][:]=0\\n",\cell \row

\itap1\trowd \taflags1 \trgaph108\trleft-108 \trcbpat3 \trbrdrl\brdrnil \trbrdrr\brdrnil 
\clvertalt \clshdrawnil \clwWidth1000\clftsWidth3 \clminw1000 \clbrdrt\brdrnil \clbrdrl\brdrnil \clbrdrb\brdrnil \clbrdrr\brdrnil \clpadl200 \clpadr200 \gaph\cellx4320
\clvertalt \clshdrawnil \clwWidth9921822\clftsWidth3 \clbrdrt\brdrnil \clbrdrl\brdrnil \clbrdrb\brdrnil \clbrdrr\brdrnil \clpadl200 \clpadr200 \gaph\cellx8640
\pard\intbl\itap1\pardeftab720\qr\partightenfactor0
\cf2 \cell 
\pard\intbl\itap1\pardeftab720\partightenfactor0
\cf2     "        im_full_gray_resized_bg_full_rm [0:10][:]=0\\n",\cell \row

\itap1\trowd \taflags1 \trgaph108\trleft-108 \trcbpat3 \trbrdrl\brdrnil \trbrdrr\brdrnil 
\clvertalt \clshdrawnil \clwWidth1000\clftsWidth3 \clminw1000 \clbrdrt\brdrnil \clbrdrl\brdrnil \clbrdrb\brdrnil \clbrdrr\brdrnil \clpadl200 \clpadr200 \gaph\cellx4320
\clvertalt \clshdrawnil \clwWidth9921822\clftsWidth3 \clbrdrt\brdrnil \clbrdrl\brdrnil \clbrdrb\brdrnil \clbrdrr\brdrnil \clpadl200 \clpadr200 \gaph\cellx8640
\pard\intbl\itap1\pardeftab720\qr\partightenfactor0
\cf2 \cell 
\pard\intbl\itap1\pardeftab720\partightenfactor0
\cf2     "        out_bg_sub.write(im_full_gray_resized_bg_full_rm)\\n",\cell \row

\itap1\trowd \taflags1 \trgaph108\trleft-108 \trcbpat3 \trbrdrl\brdrnil \trbrdrr\brdrnil 
\clvertalt \clshdrawnil \clwWidth1000\clftsWidth3 \clminw1000 \clbrdrt\brdrnil \clbrdrl\brdrnil \clbrdrb\brdrnil \clbrdrr\brdrnil \clpadl200 \clpadr200 \gaph\cellx4320
\clvertalt \clshdrawnil \clwWidth9921822\clftsWidth3 \clbrdrt\brdrnil \clbrdrl\brdrnil \clbrdrb\brdrnil \clbrdrr\brdrnil \clpadl200 \clpadr200 \gaph\cellx8640
\pard\intbl\itap1\pardeftab720\qr\partightenfactor0
\cf2 \cell 
\pard\intbl\itap1\pardeftab720\partightenfactor0
\cf2     "\\n",\cell \row

\itap1\trowd \taflags1 \trgaph108\trleft-108 \trcbpat3 \trbrdrl\brdrnil \trbrdrr\brdrnil 
\clvertalt \clshdrawnil \clwWidth1000\clftsWidth3 \clminw1000 \clbrdrt\brdrnil \clbrdrl\brdrnil \clbrdrb\brdrnil \clbrdrr\brdrnil \clpadl200 \clpadr200 \gaph\cellx4320
\clvertalt \clshdrawnil \clwWidth9921822\clftsWidth3 \clbrdrt\brdrnil \clbrdrl\brdrnil \clbrdrb\brdrnil \clbrdrr\brdrnil \clpadl200 \clpadr200 \gaph\cellx8640
\pard\intbl\itap1\pardeftab720\qr\partightenfactor0
\cf2 \cell 
\pard\intbl\itap1\pardeftab720\partightenfactor0
\cf2     "        #otsu thresholding\\n",\cell \row

\itap1\trowd \taflags1 \trgaph108\trleft-108 \trcbpat3 \trbrdrl\brdrnil \trbrdrr\brdrnil 
\clvertalt \clshdrawnil \clwWidth1000\clftsWidth3 \clminw1000 \clbrdrt\brdrnil \clbrdrl\brdrnil \clbrdrb\brdrnil \clbrdrr\brdrnil \clpadl200 \clpadr200 \gaph\cellx4320
\clvertalt \clshdrawnil \clwWidth9921822\clftsWidth3 \clbrdrt\brdrnil \clbrdrl\brdrnil \clbrdrb\brdrnil \clbrdrr\brdrnil \clpadl200 \clpadr200 \gaph\cellx8640
\pard\intbl\itap1\pardeftab720\qr\partightenfactor0
\cf2 \cell 
\pard\intbl\itap1\pardeftab720\partightenfactor0
\cf2     "        _, im_full_gray_resized_bg_ad_rm_otsu = cv2.threshold(im_full_gray_resized_bg_ad_rm,0,255,\\n",\cell \row

\itap1\trowd \taflags1 \trgaph108\trleft-108 \trcbpat3 \trbrdrl\brdrnil \trbrdrr\brdrnil 
\clvertalt \clshdrawnil \clwWidth1000\clftsWidth3 \clminw1000 \clbrdrt\brdrnil \clbrdrl\brdrnil \clbrdrb\brdrnil \clbrdrr\brdrnil \clpadl200 \clpadr200 \gaph\cellx4320
\clvertalt \clshdrawnil \clwWidth9921822\clftsWidth3 \clbrdrt\brdrnil \clbrdrl\brdrnil \clbrdrb\brdrnil \clbrdrr\brdrnil \clpadl200 \clpadr200 \gaph\cellx8640
\pard\intbl\itap1\pardeftab720\qr\partightenfactor0
\cf2 \cell 
\pard\intbl\itap1\pardeftab720\partightenfactor0
\cf2     "                                                              cv2.THRESH_BINARY+cv2.THRESH_OTSU)\\n",\cell \row

\itap1\trowd \taflags1 \trgaph108\trleft-108 \trcbpat3 \trbrdrl\brdrnil \trbrdrr\brdrnil 
\clvertalt \clshdrawnil \clwWidth1000\clftsWidth3 \clminw1000 \clbrdrt\brdrnil \clbrdrl\brdrnil \clbrdrb\brdrnil \clbrdrr\brdrnil \clpadl200 \clpadr200 \gaph\cellx4320
\clvertalt \clshdrawnil \clwWidth9921822\clftsWidth3 \clbrdrt\brdrnil \clbrdrl\brdrnil \clbrdrb\brdrnil \clbrdrr\brdrnil \clpadl200 \clpadr200 \gaph\cellx8640
\pard\intbl\itap1\pardeftab720\qr\partightenfactor0
\cf2 \cell 
\pard\intbl\itap1\pardeftab720\partightenfactor0
\cf2     "        _, im_full_gray_resized_bg_full_rm_otsu = cv2.threshold(im_full_gray_resized_bg_full_rm,0,255,\\n",\cell \row

\itap1\trowd \taflags1 \trgaph108\trleft-108 \trcbpat3 \trbrdrl\brdrnil \trbrdrr\brdrnil 
\clvertalt \clshdrawnil \clwWidth1000\clftsWidth3 \clminw1000 \clbrdrt\brdrnil \clbrdrl\brdrnil \clbrdrb\brdrnil \clbrdrr\brdrnil \clpadl200 \clpadr200 \gaph\cellx4320
\clvertalt \clshdrawnil \clwWidth9921822\clftsWidth3 \clbrdrt\brdrnil \clbrdrl\brdrnil \clbrdrb\brdrnil \clbrdrr\brdrnil \clpadl200 \clpadr200 \gaph\cellx8640
\pard\intbl\itap1\pardeftab720\qr\partightenfactor0
\cf2 \cell 
\pard\intbl\itap1\pardeftab720\partightenfactor0
\cf2     "                                                                cv2.THRESH_BINARY+cv2.THRESH_OTSU)\\n",\cell \row

\itap1\trowd \taflags1 \trgaph108\trleft-108 \trcbpat3 \trbrdrl\brdrnil \trbrdrr\brdrnil 
\clvertalt \clshdrawnil \clwWidth1000\clftsWidth3 \clminw1000 \clbrdrt\brdrnil \clbrdrl\brdrnil \clbrdrb\brdrnil \clbrdrr\brdrnil \clpadl200 \clpadr200 \gaph\cellx4320
\clvertalt \clshdrawnil \clwWidth9921822\clftsWidth3 \clbrdrt\brdrnil \clbrdrl\brdrnil \clbrdrb\brdrnil \clbrdrr\brdrnil \clpadl200 \clpadr200 \gaph\cellx8640
\pard\intbl\itap1\pardeftab720\qr\partightenfactor0
\cf2 \cell 
\pard\intbl\itap1\pardeftab720\partightenfactor0
\cf2     "        out_otsu.write(im_full_gray_resized_bg_full_rm_otsu)\\n",\cell \row

\itap1\trowd \taflags1 \trgaph108\trleft-108 \trcbpat3 \trbrdrl\brdrnil \trbrdrr\brdrnil 
\clvertalt \clshdrawnil \clwWidth1000\clftsWidth3 \clminw1000 \clbrdrt\brdrnil \clbrdrl\brdrnil \clbrdrb\brdrnil \clbrdrr\brdrnil \clpadl200 \clpadr200 \gaph\cellx4320
\clvertalt \clshdrawnil \clwWidth9921822\clftsWidth3 \clbrdrt\brdrnil \clbrdrl\brdrnil \clbrdrb\brdrnil \clbrdrr\brdrnil \clpadl200 \clpadr200 \gaph\cellx8640
\pard\intbl\itap1\pardeftab720\qr\partightenfactor0
\cf2 \cell 
\pard\intbl\itap1\pardeftab720\partightenfactor0
\cf2     "        \\n",\cell \row

\itap1\trowd \taflags1 \trgaph108\trleft-108 \trcbpat3 \trbrdrl\brdrnil \trbrdrr\brdrnil 
\clvertalt \clshdrawnil \clwWidth1000\clftsWidth3 \clminw1000 \clbrdrt\brdrnil \clbrdrl\brdrnil \clbrdrb\brdrnil \clbrdrr\brdrnil \clpadl200 \clpadr200 \gaph\cellx4320
\clvertalt \clshdrawnil \clwWidth9921822\clftsWidth3 \clbrdrt\brdrnil \clbrdrl\brdrnil \clbrdrb\brdrnil \clbrdrr\brdrnil \clpadl200 \clpadr200 \gaph\cellx8640
\pard\intbl\itap1\pardeftab720\qr\partightenfactor0
\cf2 \cell 
\pard\intbl\itap1\pardeftab720\partightenfactor0
\cf2     "        #finding balls\\n",\cell \row

\itap1\trowd \taflags1 \trgaph108\trleft-108 \trcbpat3 \trbrdrl\brdrnil \trbrdrr\brdrnil 
\clvertalt \clshdrawnil \clwWidth1000\clftsWidth3 \clminw1000 \clbrdrt\brdrnil \clbrdrl\brdrnil \clbrdrb\brdrnil \clbrdrr\brdrnil \clpadl200 \clpadr200 \gaph\cellx4320
\clvertalt \clshdrawnil \clwWidth9921822\clftsWidth3 \clbrdrt\brdrnil \clbrdrl\brdrnil \clbrdrb\brdrnil \clbrdrr\brdrnil \clpadl200 \clpadr200 \gaph\cellx8640
\pard\intbl\itap1\pardeftab720\qr\partightenfactor0
\cf2 \cell 
\pard\intbl\itap1\pardeftab720\partightenfactor0
\cf2     "        balls_center = []\\n",\cell \row

\itap1\trowd \taflags1 \trgaph108\trleft-108 \trcbpat3 \trbrdrl\brdrnil \trbrdrr\brdrnil 
\clvertalt \clshdrawnil \clwWidth1000\clftsWidth3 \clminw1000 \clbrdrt\brdrnil \clbrdrl\brdrnil \clbrdrb\brdrnil \clbrdrr\brdrnil \clpadl200 \clpadr200 \gaph\cellx4320
\clvertalt \clshdrawnil \clwWidth9921822\clftsWidth3 \clbrdrt\brdrnil \clbrdrl\brdrnil \clbrdrb\brdrnil \clbrdrr\brdrnil \clpadl200 \clpadr200 \gaph\cellx8640
\pard\intbl\itap1\pardeftab720\qr\partightenfactor0
\cf2 \cell 
\pard\intbl\itap1\pardeftab720\partightenfactor0
\cf2     "        dst = cv2.filter2D(im_full_gray_resized_bg_ad_rm_otsu, -1, im_ball_filter) \\n",\cell \row

\itap1\trowd \taflags1 \trgaph108\trleft-108 \trcbpat3 \trbrdrl\brdrnil \trbrdrr\brdrnil 
\clvertalt \clshdrawnil \clwWidth1000\clftsWidth3 \clminw1000 \clbrdrt\brdrnil \clbrdrl\brdrnil \clbrdrb\brdrnil \clbrdrr\brdrnil \clpadl200 \clpadr200 \gaph\cellx4320
\clvertalt \clshdrawnil \clwWidth9921822\clftsWidth3 \clbrdrt\brdrnil \clbrdrl\brdrnil \clbrdrb\brdrnil \clbrdrr\brdrnil \clpadl200 \clpadr200 \gaph\cellx8640
\pard\intbl\itap1\pardeftab720\qr\partightenfactor0
\cf2 \cell 
\pard\intbl\itap1\pardeftab720\partightenfactor0
\cf2     "        \\n",\cell \row

\itap1\trowd \taflags1 \trgaph108\trleft-108 \trcbpat3 \trbrdrl\brdrnil \trbrdrr\brdrnil 
\clvertalt \clshdrawnil \clwWidth1000\clftsWidth3 \clminw1000 \clbrdrt\brdrnil \clbrdrl\brdrnil \clbrdrb\brdrnil \clbrdrr\brdrnil \clpadl200 \clpadr200 \gaph\cellx4320
\clvertalt \clshdrawnil \clwWidth9921822\clftsWidth3 \clbrdrt\brdrnil \clbrdrl\brdrnil \clbrdrb\brdrnil \clbrdrr\brdrnil \clpadl200 \clpadr200 \gaph\cellx8640
\pard\intbl\itap1\pardeftab720\qr\partightenfactor0
\cf2 \cell 
\pard\intbl\itap1\pardeftab720\partightenfactor0
\cf2     "        max_idx = np.unravel_index(np.argmax(dst), dst.shape)\\n",\cell \row

\itap1\trowd \taflags1 \trgaph108\trleft-108 \trcbpat3 \trbrdrl\brdrnil \trbrdrr\brdrnil 
\clvertalt \clshdrawnil \clwWidth1000\clftsWidth3 \clminw1000 \clbrdrt\brdrnil \clbrdrl\brdrnil \clbrdrb\brdrnil \clbrdrr\brdrnil \clpadl200 \clpadr200 \gaph\cellx4320
\clvertalt \clshdrawnil \clwWidth9921822\clftsWidth3 \clbrdrt\brdrnil \clbrdrl\brdrnil \clbrdrb\brdrnil \clbrdrr\brdrnil \clpadl200 \clpadr200 \gaph\cellx8640
\pard\intbl\itap1\pardeftab720\qr\partightenfactor0
\cf2 \cell 
\pard\intbl\itap1\pardeftab720\partightenfactor0
\cf2     "        balls_center.append(max_idx)\\n",\cell \row

\itap1\trowd \taflags1 \trgaph108\trleft-108 \trcbpat3 \trbrdrl\brdrnil \trbrdrr\brdrnil 
\clvertalt \clshdrawnil \clwWidth1000\clftsWidth3 \clminw1000 \clbrdrt\brdrnil \clbrdrl\brdrnil \clbrdrb\brdrnil \clbrdrr\brdrnil \clpadl200 \clpadr200 \gaph\cellx4320
\clvertalt \clshdrawnil \clwWidth9921822\clftsWidth3 \clbrdrt\brdrnil \clbrdrl\brdrnil \clbrdrb\brdrnil \clbrdrr\brdrnil \clpadl200 \clpadr200 \gaph\cellx8640
\pard\intbl\itap1\pardeftab720\qr\partightenfactor0
\cf2 \cell 
\pard\intbl\itap1\pardeftab720\partightenfactor0
\cf2     "\\n",\cell \row

\itap1\trowd \taflags1 \trgaph108\trleft-108 \trcbpat3 \trbrdrl\brdrnil \trbrdrr\brdrnil 
\clvertalt \clshdrawnil \clwWidth1000\clftsWidth3 \clminw1000 \clbrdrt\brdrnil \clbrdrl\brdrnil \clbrdrb\brdrnil \clbrdrr\brdrnil \clpadl200 \clpadr200 \gaph\cellx4320
\clvertalt \clshdrawnil \clwWidth9921822\clftsWidth3 \clbrdrt\brdrnil \clbrdrl\brdrnil \clbrdrb\brdrnil \clbrdrr\brdrnil \clpadl200 \clpadr200 \gaph\cellx8640
\pard\intbl\itap1\pardeftab720\qr\partightenfactor0
\cf2 \cell 
\pard\intbl\itap1\pardeftab720\partightenfactor0
\cf2     "        for i in range(nb_balls-1):\\n",\cell \row

\itap1\trowd \taflags1 \trgaph108\trleft-108 \trcbpat3 \trbrdrl\brdrnil \trbrdrr\brdrnil 
\clvertalt \clshdrawnil \clwWidth1000\clftsWidth3 \clminw1000 \clbrdrt\brdrnil \clbrdrl\brdrnil \clbrdrb\brdrnil \clbrdrr\brdrnil \clpadl200 \clpadr200 \gaph\cellx4320
\clvertalt \clshdrawnil \clwWidth9921822\clftsWidth3 \clbrdrt\brdrnil \clbrdrl\brdrnil \clbrdrb\brdrnil \clbrdrr\brdrnil \clpadl200 \clpadr200 \gaph\cellx8640
\pard\intbl\itap1\pardeftab720\qr\partightenfactor0
\cf2 \cell 
\pard\intbl\itap1\pardeftab720\partightenfactor0
\cf2     "            dst[max_idx[0]-20:max_idx[0]+20, max_idx[1]-20:max_idx[1]+20] = 0\\n",\cell \row

\itap1\trowd \taflags1 \trgaph108\trleft-108 \trcbpat3 \trbrdrl\brdrnil \trbrdrr\brdrnil 
\clvertalt \clshdrawnil \clwWidth1000\clftsWidth3 \clminw1000 \clbrdrt\brdrnil \clbrdrl\brdrnil \clbrdrb\brdrnil \clbrdrr\brdrnil \clpadl200 \clpadr200 \gaph\cellx4320
\clvertalt \clshdrawnil \clwWidth9921822\clftsWidth3 \clbrdrt\brdrnil \clbrdrl\brdrnil \clbrdrb\brdrnil \clbrdrr\brdrnil \clpadl200 \clpadr200 \gaph\cellx8640
\pard\intbl\itap1\pardeftab720\qr\partightenfactor0
\cf2 \cell 
\pard\intbl\itap1\pardeftab720\partightenfactor0
\cf2     "            #plt.figure()\\n",\cell \row

\itap1\trowd \taflags1 \trgaph108\trleft-108 \trcbpat3 \trbrdrl\brdrnil \trbrdrr\brdrnil 
\clvertalt \clshdrawnil \clwWidth1000\clftsWidth3 \clminw1000 \clbrdrt\brdrnil \clbrdrl\brdrnil \clbrdrb\brdrnil \clbrdrr\brdrnil \clpadl200 \clpadr200 \gaph\cellx4320
\clvertalt \clshdrawnil \clwWidth9921822\clftsWidth3 \clbrdrt\brdrnil \clbrdrl\brdrnil \clbrdrb\brdrnil \clbrdrr\brdrnil \clpadl200 \clpadr200 \gaph\cellx8640
\pard\intbl\itap1\pardeftab720\qr\partightenfactor0
\cf2 \cell 
\pard\intbl\itap1\pardeftab720\partightenfactor0
\cf2     "            #plt.imshow(dst)\\n",\cell \row

\itap1\trowd \taflags1 \trgaph108\trleft-108 \trcbpat3 \trbrdrl\brdrnil \trbrdrr\brdrnil 
\clvertalt \clshdrawnil \clwWidth1000\clftsWidth3 \clminw1000 \clbrdrt\brdrnil \clbrdrl\brdrnil \clbrdrb\brdrnil \clbrdrr\brdrnil \clpadl200 \clpadr200 \gaph\cellx4320
\clvertalt \clshdrawnil \clwWidth9921822\clftsWidth3 \clbrdrt\brdrnil \clbrdrl\brdrnil \clbrdrb\brdrnil \clbrdrr\brdrnil \clpadl200 \clpadr200 \gaph\cellx8640
\pard\intbl\itap1\pardeftab720\qr\partightenfactor0
\cf2 \cell 
\pard\intbl\itap1\pardeftab720\partightenfactor0
\cf2     "            max_idx = np.unravel_index(np.argmax(dst), dst.shape)\\n",\cell \row

\itap1\trowd \taflags1 \trgaph108\trleft-108 \trcbpat3 \trbrdrl\brdrnil \trbrdrr\brdrnil 
\clvertalt \clshdrawnil \clwWidth1000\clftsWidth3 \clminw1000 \clbrdrt\brdrnil \clbrdrl\brdrnil \clbrdrb\brdrnil \clbrdrr\brdrnil \clpadl200 \clpadr200 \gaph\cellx4320
\clvertalt \clshdrawnil \clwWidth9921822\clftsWidth3 \clbrdrt\brdrnil \clbrdrl\brdrnil \clbrdrb\brdrnil \clbrdrr\brdrnil \clpadl200 \clpadr200 \gaph\cellx8640
\pard\intbl\itap1\pardeftab720\qr\partightenfactor0
\cf2 \cell 
\pard\intbl\itap1\pardeftab720\partightenfactor0
\cf2     "            balls_center.append(max_idx)\\n",\cell \row

\itap1\trowd \taflags1 \trgaph108\trleft-108 \trcbpat3 \trbrdrl\brdrnil \trbrdrr\brdrnil 
\clvertalt \clshdrawnil \clwWidth1000\clftsWidth3 \clminw1000 \clbrdrt\brdrnil \clbrdrl\brdrnil \clbrdrb\brdrnil \clbrdrr\brdrnil \clpadl200 \clpadr200 \gaph\cellx4320
\clvertalt \clshdrawnil \clwWidth9921822\clftsWidth3 \clbrdrt\brdrnil \clbrdrl\brdrnil \clbrdrb\brdrnil \clbrdrr\brdrnil \clpadl200 \clpadr200 \gaph\cellx8640
\pard\intbl\itap1\pardeftab720\qr\partightenfactor0
\cf2 \cell 
\pard\intbl\itap1\pardeftab720\partightenfactor0
\cf2     "            #print(max_idx)\\n",\cell \row

\itap1\trowd \taflags1 \trgaph108\trleft-108 \trcbpat3 \trbrdrl\brdrnil \trbrdrr\brdrnil 
\clvertalt \clshdrawnil \clwWidth1000\clftsWidth3 \clminw1000 \clbrdrt\brdrnil \clbrdrl\brdrnil \clbrdrb\brdrnil \clbrdrr\brdrnil \clpadl200 \clpadr200 \gaph\cellx4320
\clvertalt \clshdrawnil \clwWidth9921822\clftsWidth3 \clbrdrt\brdrnil \clbrdrl\brdrnil \clbrdrb\brdrnil \clbrdrr\brdrnil \clpadl200 \clpadr200 \gaph\cellx8640
\pard\intbl\itap1\pardeftab720\qr\partightenfactor0
\cf2 \cell 
\pard\intbl\itap1\pardeftab720\partightenfactor0
\cf2     "            \\n",\cell \row

\itap1\trowd \taflags1 \trgaph108\trleft-108 \trcbpat3 \trbrdrl\brdrnil \trbrdrr\brdrnil 
\clvertalt \clshdrawnil \clwWidth1000\clftsWidth3 \clminw1000 \clbrdrt\brdrnil \clbrdrl\brdrnil \clbrdrb\brdrnil \clbrdrr\brdrnil \clpadl200 \clpadr200 \gaph\cellx4320
\clvertalt \clshdrawnil \clwWidth9921822\clftsWidth3 \clbrdrt\brdrnil \clbrdrl\brdrnil \clbrdrb\brdrnil \clbrdrr\brdrnil \clpadl200 \clpadr200 \gaph\cellx8640
\pard\intbl\itap1\pardeftab720\qr\partightenfactor0
\cf2 \cell 
\pard\intbl\itap1\pardeftab720\partightenfactor0
\cf2     "        im_full_gray_resized_balls = im_resized.copy()\\n",\cell \row

\itap1\trowd \taflags1 \trgaph108\trleft-108 \trcbpat3 \trbrdrl\brdrnil \trbrdrr\brdrnil 
\clvertalt \clshdrawnil \clwWidth1000\clftsWidth3 \clminw1000 \clbrdrt\brdrnil \clbrdrl\brdrnil \clbrdrb\brdrnil \clbrdrr\brdrnil \clpadl200 \clpadr200 \gaph\cellx4320
\clvertalt \clshdrawnil \clwWidth9921822\clftsWidth3 \clbrdrt\brdrnil \clbrdrl\brdrnil \clbrdrb\brdrnil \clbrdrr\brdrnil \clpadl200 \clpadr200 \gaph\cellx8640
\pard\intbl\itap1\pardeftab720\qr\partightenfactor0
\cf2 \cell 
\pard\intbl\itap1\pardeftab720\partightenfactor0
\cf2     "        for center in balls_center:\\n",\cell \row

\itap1\trowd \taflags1 \trgaph108\trleft-108 \trcbpat3 \trbrdrl\brdrnil \trbrdrr\brdrnil 
\clvertalt \clshdrawnil \clwWidth1000\clftsWidth3 \clminw1000 \clbrdrt\brdrnil \clbrdrl\brdrnil \clbrdrb\brdrnil \clbrdrr\brdrnil \clpadl200 \clpadr200 \gaph\cellx4320
\clvertalt \clshdrawnil \clwWidth9921822\clftsWidth3 \clbrdrt\brdrnil \clbrdrl\brdrnil \clbrdrb\brdrnil \clbrdrr\brdrnil \clpadl200 \clpadr200 \gaph\cellx8640
\pard\intbl\itap1\pardeftab720\qr\partightenfactor0
\cf2 \cell 
\pard\intbl\itap1\pardeftab720\partightenfactor0
\cf2     "            im_full_gray_resized_balls = cv2.circle(im_full_gray_resized_balls, (center[1], center[0]), 5, \\n",\cell \row

\itap1\trowd \taflags1 \trgaph108\trleft-108 \trcbpat3 \trbrdrl\brdrnil \trbrdrr\brdrnil 
\clvertalt \clshdrawnil \clwWidth1000\clftsWidth3 \clminw1000 \clbrdrt\brdrnil \clbrdrl\brdrnil \clbrdrb\brdrnil \clbrdrr\brdrnil \clpadl200 \clpadr200 \gaph\cellx4320
\clvertalt \clshdrawnil \clwWidth9921822\clftsWidth3 \clbrdrt\brdrnil \clbrdrl\brdrnil \clbrdrb\brdrnil \clbrdrr\brdrnil \clpadl200 \clpadr200 \gaph\cellx8640
\pard\intbl\itap1\pardeftab720\qr\partightenfactor0
\cf2 \cell 
\pard\intbl\itap1\pardeftab720\partightenfactor0
\cf2     "                                                    (255,0,0), cv2.FILLED)\\n",\cell \row

\itap1\trowd \taflags1 \trgaph108\trleft-108 \trcbpat3 \trbrdrl\brdrnil \trbrdrr\brdrnil 
\clvertalt \clshdrawnil \clwWidth1000\clftsWidth3 \clminw1000 \clbrdrt\brdrnil \clbrdrl\brdrnil \clbrdrb\brdrnil \clbrdrr\brdrnil \clpadl200 \clpadr200 \gaph\cellx4320
\clvertalt \clshdrawnil \clwWidth9921822\clftsWidth3 \clbrdrt\brdrnil \clbrdrl\brdrnil \clbrdrb\brdrnil \clbrdrr\brdrnil \clpadl200 \clpadr200 \gaph\cellx8640
\pard\intbl\itap1\pardeftab720\qr\partightenfactor0
\cf2 \cell 
\pard\intbl\itap1\pardeftab720\partightenfactor0
\cf2     "            \\n",\cell \row

\itap1\trowd \taflags1 \trgaph108\trleft-108 \trcbpat3 \trbrdrl\brdrnil \trbrdrr\brdrnil 
\clvertalt \clshdrawnil \clwWidth1000\clftsWidth3 \clminw1000 \clbrdrt\brdrnil \clbrdrl\brdrnil \clbrdrb\brdrnil \clbrdrr\brdrnil \clpadl200 \clpadr200 \gaph\cellx4320
\clvertalt \clshdrawnil \clwWidth9921822\clftsWidth3 \clbrdrt\brdrnil \clbrdrl\brdrnil \clbrdrb\brdrnil \clbrdrr\brdrnil \clpadl200 \clpadr200 \gaph\cellx8640
\pard\intbl\itap1\pardeftab720\qr\partightenfactor0
\cf2 \cell 
\pard\intbl\itap1\pardeftab720\partightenfactor0
\cf2     "        #subtracting balls\\n",\cell \row

\itap1\trowd \taflags1 \trgaph108\trleft-108 \trcbpat3 \trbrdrl\brdrnil \trbrdrr\brdrnil 
\clvertalt \clshdrawnil \clwWidth1000\clftsWidth3 \clminw1000 \clbrdrt\brdrnil \clbrdrl\brdrnil \clbrdrb\brdrnil \clbrdrr\brdrnil \clpadl200 \clpadr200 \gaph\cellx4320
\clvertalt \clshdrawnil \clwWidth9921822\clftsWidth3 \clbrdrt\brdrnil \clbrdrl\brdrnil \clbrdrb\brdrnil \clbrdrr\brdrnil \clpadl200 \clpadr200 \gaph\cellx8640
\pard\intbl\itap1\pardeftab720\qr\partightenfactor0
\cf2 \cell 
\pard\intbl\itap1\pardeftab720\partightenfactor0
\cf2     "        ball_radius = 8\\n",\cell \row

\itap1\trowd \taflags1 \trgaph108\trleft-108 \trcbpat3 \trbrdrl\brdrnil \trbrdrr\brdrnil 
\clvertalt \clshdrawnil \clwWidth1000\clftsWidth3 \clminw1000 \clbrdrt\brdrnil \clbrdrl\brdrnil \clbrdrb\brdrnil \clbrdrr\brdrnil \clpadl200 \clpadr200 \gaph\cellx4320
\clvertalt \clshdrawnil \clwWidth9921822\clftsWidth3 \clbrdrt\brdrnil \clbrdrl\brdrnil \clbrdrb\brdrnil \clbrdrr\brdrnil \clpadl200 \clpadr200 \gaph\cellx8640
\pard\intbl\itap1\pardeftab720\qr\partightenfactor0
\cf2 \cell 
\pard\intbl\itap1\pardeftab720\partightenfactor0
\cf2     "        for center in balls_center:\\n",\cell \row

\itap1\trowd \taflags1 \trgaph108\trleft-108 \trcbpat3 \trbrdrl\brdrnil \trbrdrr\brdrnil 
\clvertalt \clshdrawnil \clwWidth1000\clftsWidth3 \clminw1000 \clbrdrt\brdrnil \clbrdrl\brdrnil \clbrdrb\brdrnil \clbrdrr\brdrnil \clpadl200 \clpadr200 \gaph\cellx4320
\clvertalt \clshdrawnil \clwWidth9921822\clftsWidth3 \clbrdrt\brdrnil \clbrdrl\brdrnil \clbrdrb\brdrnil \clbrdrr\brdrnil \clpadl200 \clpadr200 \gaph\cellx8640
\pard\intbl\itap1\pardeftab720\qr\partightenfactor0
\cf2 \cell 
\pard\intbl\itap1\pardeftab720\partightenfactor0
\cf2     "            #print(center[1], center[0])\\n",\cell \row

\itap1\trowd \taflags1 \trgaph108\trleft-108 \trcbpat3 \trbrdrl\brdrnil \trbrdrr\brdrnil 
\clvertalt \clshdrawnil \clwWidth1000\clftsWidth3 \clminw1000 \clbrdrt\brdrnil \clbrdrl\brdrnil \clbrdrb\brdrnil \clbrdrr\brdrnil \clpadl200 \clpadr200 \gaph\cellx4320
\clvertalt \clshdrawnil \clwWidth9921822\clftsWidth3 \clbrdrt\brdrnil \clbrdrl\brdrnil \clbrdrb\brdrnil \clbrdrr\brdrnil \clpadl200 \clpadr200 \gaph\cellx8640
\pard\intbl\itap1\pardeftab720\qr\partightenfactor0
\cf2 \cell 
\pard\intbl\itap1\pardeftab720\partightenfactor0
\cf2     "            im_full_gray_resized_bg_full_rm_otsu[center[0]-ball_radius:center[0]+ball_radius, \\n",\cell \row

\itap1\trowd \taflags1 \trgaph108\trleft-108 \trcbpat3 \trbrdrl\brdrnil \trbrdrr\brdrnil 
\clvertalt \clshdrawnil \clwWidth1000\clftsWidth3 \clminw1000 \clbrdrt\brdrnil \clbrdrl\brdrnil \clbrdrb\brdrnil \clbrdrr\brdrnil \clpadl200 \clpadr200 \gaph\cellx4320
\clvertalt \clshdrawnil \clwWidth9921822\clftsWidth3 \clbrdrt\brdrnil \clbrdrl\brdrnil \clbrdrb\brdrnil \clbrdrr\brdrnil \clpadl200 \clpadr200 \gaph\cellx8640
\pard\intbl\itap1\pardeftab720\qr\partightenfactor0
\cf2 \cell 
\pard\intbl\itap1\pardeftab720\partightenfactor0
\cf2     "                                                 center[1]-ball_radius:center[1]+ball_radius] = 0\\n",\cell \row

\itap1\trowd \taflags1 \trgaph108\trleft-108 \trcbpat3 \trbrdrl\brdrnil \trbrdrr\brdrnil 
\clvertalt \clshdrawnil \clwWidth1000\clftsWidth3 \clminw1000 \clbrdrt\brdrnil \clbrdrl\brdrnil \clbrdrb\brdrnil \clbrdrr\brdrnil \clpadl200 \clpadr200 \gaph\cellx4320
\clvertalt \clshdrawnil \clwWidth9921822\clftsWidth3 \clbrdrt\brdrnil \clbrdrl\brdrnil \clbrdrb\brdrnil \clbrdrr\brdrnil \clpadl200 \clpadr200 \gaph\cellx8640
\pard\intbl\itap1\pardeftab720\qr\partightenfactor0
\cf2 \cell 
\pard\intbl\itap1\pardeftab720\partightenfactor0
\cf2     "            \\n",\cell \row

\itap1\trowd \taflags1 \trgaph108\trleft-108 \trcbpat3 \trbrdrl\brdrnil \trbrdrr\brdrnil 
\clvertalt \clshdrawnil \clwWidth1000\clftsWidth3 \clminw1000 \clbrdrt\brdrnil \clbrdrl\brdrnil \clbrdrb\brdrnil \clbrdrr\brdrnil \clpadl200 \clpadr200 \gaph\cellx4320
\clvertalt \clshdrawnil \clwWidth9921822\clftsWidth3 \clbrdrt\brdrnil \clbrdrl\brdrnil \clbrdrb\brdrnil \clbrdrr\brdrnil \clpadl200 \clpadr200 \gaph\cellx8640
\pard\intbl\itap1\pardeftab720\qr\partightenfactor0
\cf2 \cell 
\pard\intbl\itap1\pardeftab720\partightenfactor0
\cf2     "        #closing image once background removed (closes fly across rails)\\n",\cell \row

\itap1\trowd \taflags1 \trgaph108\trleft-108 \trcbpat3 \trbrdrl\brdrnil \trbrdrr\brdrnil 
\clvertalt \clshdrawnil \clwWidth1000\clftsWidth3 \clminw1000 \clbrdrt\brdrnil \clbrdrl\brdrnil \clbrdrb\brdrnil \clbrdrr\brdrnil \clpadl200 \clpadr200 \gaph\cellx4320
\clvertalt \clshdrawnil \clwWidth9921822\clftsWidth3 \clbrdrt\brdrnil \clbrdrl\brdrnil \clbrdrb\brdrnil \clbrdrr\brdrnil \clpadl200 \clpadr200 \gaph\cellx8640
\pard\intbl\itap1\pardeftab720\qr\partightenfactor0
\cf2 \cell 
\pard\intbl\itap1\pardeftab720\partightenfactor0
\cf2     "        kernel_closing = np.ones((4,4), np.uint8)\\n",\cell \row

\itap1\trowd \taflags1 \trgaph108\trleft-108 \trcbpat3 \trbrdrl\brdrnil \trbrdrr\brdrnil 
\clvertalt \clshdrawnil \clwWidth1000\clftsWidth3 \clminw1000 \clbrdrt\brdrnil \clbrdrl\brdrnil \clbrdrb\brdrnil \clbrdrr\brdrnil \clpadl200 \clpadr200 \gaph\cellx4320
\clvertalt \clshdrawnil \clwWidth9921822\clftsWidth3 \clbrdrt\brdrnil \clbrdrl\brdrnil \clbrdrb\brdrnil \clbrdrr\brdrnil \clpadl200 \clpadr200 \gaph\cellx8640
\pard\intbl\itap1\pardeftab720\qr\partightenfactor0
\cf2 \cell 
\pard\intbl\itap1\pardeftab720\partightenfactor0
\cf2     "        im_full_gray_resized_bg_full_rm_otsu_dil = cv2.dilate(im_full_gray_resized_bg_full_rm_otsu, kernel_closing, iterations = 1)\\n",\cell \row

\itap1\trowd \taflags1 \trgaph108\trleft-108 \trcbpat3 \trbrdrl\brdrnil \trbrdrr\brdrnil 
\clvertalt \clshdrawnil \clwWidth1000\clftsWidth3 \clminw1000 \clbrdrt\brdrnil \clbrdrl\brdrnil \clbrdrb\brdrnil \clbrdrr\brdrnil \clpadl200 \clpadr200 \gaph\cellx4320
\clvertalt \clshdrawnil \clwWidth9921822\clftsWidth3 \clbrdrt\brdrnil \clbrdrl\brdrnil \clbrdrb\brdrnil \clbrdrr\brdrnil \clpadl200 \clpadr200 \gaph\cellx8640
\pard\intbl\itap1\pardeftab720\qr\partightenfactor0
\cf2 \cell 
\pard\intbl\itap1\pardeftab720\partightenfactor0
\cf2     "        im_full_gray_resized_bg_full_rm_otsu_closed = cv2.erode(im_full_gray_resized_bg_full_rm_otsu_dil, kernel_closing, iterations = 1)\\n",\cell \row

\itap1\trowd \taflags1 \trgaph108\trleft-108 \trcbpat3 \trbrdrl\brdrnil \trbrdrr\brdrnil 
\clvertalt \clshdrawnil \clwWidth1000\clftsWidth3 \clminw1000 \clbrdrt\brdrnil \clbrdrl\brdrnil \clbrdrb\brdrnil \clbrdrr\brdrnil \clpadl200 \clpadr200 \gaph\cellx4320
\clvertalt \clshdrawnil \clwWidth9921822\clftsWidth3 \clbrdrt\brdrnil \clbrdrl\brdrnil \clbrdrb\brdrnil \clbrdrr\brdrnil \clpadl200 \clpadr200 \gaph\cellx8640
\pard\intbl\itap1\pardeftab720\qr\partightenfactor0
\cf2 \cell 
\pard\intbl\itap1\pardeftab720\partightenfactor0
\cf2     "        out_otsu_ball.write(im_full_gray_resized_bg_full_rm_otsu_closed)\\n",\cell \row

\itap1\trowd \taflags1 \trgaph108\trleft-108 \trcbpat3 \trbrdrl\brdrnil \trbrdrr\brdrnil 
\clvertalt \clshdrawnil \clwWidth1000\clftsWidth3 \clminw1000 \clbrdrt\brdrnil \clbrdrl\brdrnil \clbrdrb\brdrnil \clbrdrr\brdrnil \clpadl200 \clpadr200 \gaph\cellx4320
\clvertalt \clshdrawnil \clwWidth9921822\clftsWidth3 \clbrdrt\brdrnil \clbrdrl\brdrnil \clbrdrb\brdrnil \clbrdrr\brdrnil \clpadl200 \clpadr200 \gaph\cellx8640
\pard\intbl\itap1\pardeftab720\qr\partightenfactor0
\cf2 \cell 
\pard\intbl\itap1\pardeftab720\partightenfactor0
\cf2     "       \\n",\cell \row

\itap1\trowd \taflags1 \trgaph108\trleft-108 \trcbpat3 \trbrdrl\brdrnil \trbrdrr\brdrnil 
\clvertalt \clshdrawnil \clwWidth1000\clftsWidth3 \clminw1000 \clbrdrt\brdrnil \clbrdrl\brdrnil \clbrdrb\brdrnil \clbrdrr\brdrnil \clpadl200 \clpadr200 \gaph\cellx4320
\clvertalt \clshdrawnil \clwWidth9921822\clftsWidth3 \clbrdrt\brdrnil \clbrdrl\brdrnil \clbrdrb\brdrnil \clbrdrr\brdrnil \clpadl200 \clpadr200 \gaph\cellx8640
\pard\intbl\itap1\pardeftab720\qr\partightenfactor0
\cf2 \cell 
\pard\intbl\itap1\pardeftab720\partightenfactor0
\cf2     "        #eroding with kernels to remove non compact struct. (edges of the plate to which the magnet is glued)\\n",\cell \row

\itap1\trowd \taflags1 \trgaph108\trleft-108 \trcbpat3 \trbrdrl\brdrnil \trbrdrr\brdrnil 
\clvertalt \clshdrawnil \clwWidth1000\clftsWidth3 \clminw1000 \clbrdrt\brdrnil \clbrdrl\brdrnil \clbrdrb\brdrnil \clbrdrr\brdrnil \clpadl200 \clpadr200 \gaph\cellx4320
\clvertalt \clshdrawnil \clwWidth9921822\clftsWidth3 \clbrdrt\brdrnil \clbrdrl\brdrnil \clbrdrb\brdrnil \clbrdrr\brdrnil \clpadl200 \clpadr200 \gaph\cellx8640
\pard\intbl\itap1\pardeftab720\qr\partightenfactor0
\cf2 \cell 
\pard\intbl\itap1\pardeftab720\partightenfactor0
\cf2     "        kernel_ero = np.array([[0,0,1,0,0],\\n",\cell \row

\itap1\trowd \taflags1 \trgaph108\trleft-108 \trcbpat3 \trbrdrl\brdrnil \trbrdrr\brdrnil 
\clvertalt \clshdrawnil \clwWidth1000\clftsWidth3 \clminw1000 \clbrdrt\brdrnil \clbrdrl\brdrnil \clbrdrb\brdrnil \clbrdrr\brdrnil \clpadl200 \clpadr200 \gaph\cellx4320
\clvertalt \clshdrawnil \clwWidth9921822\clftsWidth3 \clbrdrt\brdrnil \clbrdrl\brdrnil \clbrdrb\brdrnil \clbrdrr\brdrnil \clpadl200 \clpadr200 \gaph\cellx8640
\pard\intbl\itap1\pardeftab720\qr\partightenfactor0
\cf2 \cell 
\pard\intbl\itap1\pardeftab720\partightenfactor0
\cf2     "                           [0,0,1,0,0],\\n",\cell \row

\itap1\trowd \taflags1 \trgaph108\trleft-108 \trcbpat3 \trbrdrl\brdrnil \trbrdrr\brdrnil 
\clvertalt \clshdrawnil \clwWidth1000\clftsWidth3 \clminw1000 \clbrdrt\brdrnil \clbrdrl\brdrnil \clbrdrb\brdrnil \clbrdrr\brdrnil \clpadl200 \clpadr200 \gaph\cellx4320
\clvertalt \clshdrawnil \clwWidth9921822\clftsWidth3 \clbrdrt\brdrnil \clbrdrl\brdrnil \clbrdrb\brdrnil \clbrdrr\brdrnil \clpadl200 \clpadr200 \gaph\cellx8640
\pard\intbl\itap1\pardeftab720\qr\partightenfactor0
\cf2 \cell 
\pard\intbl\itap1\pardeftab720\partightenfactor0
\cf2     "                           [1,1,1,1,1],\\n",\cell \row

\itap1\trowd \taflags1 \trgaph108\trleft-108 \trcbpat3 \trbrdrl\brdrnil \trbrdrr\brdrnil 
\clvertalt \clshdrawnil \clwWidth1000\clftsWidth3 \clminw1000 \clbrdrt\brdrnil \clbrdrl\brdrnil \clbrdrb\brdrnil \clbrdrr\brdrnil \clpadl200 \clpadr200 \gaph\cellx4320
\clvertalt \clshdrawnil \clwWidth9921822\clftsWidth3 \clbrdrt\brdrnil \clbrdrl\brdrnil \clbrdrb\brdrnil \clbrdrr\brdrnil \clpadl200 \clpadr200 \gaph\cellx8640
\pard\intbl\itap1\pardeftab720\qr\partightenfactor0
\cf2 \cell 
\pard\intbl\itap1\pardeftab720\partightenfactor0
\cf2     "                           [0,0,1,0,0],\\n",\cell \row

\itap1\trowd \taflags1 \trgaph108\trleft-108 \trcbpat3 \trbrdrl\brdrnil \trbrdrr\brdrnil 
\clvertalt \clshdrawnil \clwWidth1000\clftsWidth3 \clminw1000 \clbrdrt\brdrnil \clbrdrl\brdrnil \clbrdrb\brdrnil \clbrdrr\brdrnil \clpadl200 \clpadr200 \gaph\cellx4320
\clvertalt \clshdrawnil \clwWidth9921822\clftsWidth3 \clbrdrt\brdrnil \clbrdrl\brdrnil \clbrdrb\brdrnil \clbrdrr\brdrnil \clpadl200 \clpadr200 \gaph\cellx8640
\pard\intbl\itap1\pardeftab720\qr\partightenfactor0
\cf2 \cell 
\pard\intbl\itap1\pardeftab720\partightenfactor0
\cf2     "                           [0,0,1,0,0]], np.uint8)\\n",\cell \row

\itap1\trowd \taflags1 \trgaph108\trleft-108 \trcbpat3 \trbrdrl\brdrnil \trbrdrr\brdrnil 
\clvertalt \clshdrawnil \clwWidth1000\clftsWidth3 \clminw1000 \clbrdrt\brdrnil \clbrdrl\brdrnil \clbrdrb\brdrnil \clbrdrr\brdrnil \clpadl200 \clpadr200 \gaph\cellx4320
\clvertalt \clshdrawnil \clwWidth9921822\clftsWidth3 \clbrdrt\brdrnil \clbrdrl\brdrnil \clbrdrb\brdrnil \clbrdrr\brdrnil \clpadl200 \clpadr200 \gaph\cellx8640
\pard\intbl\itap1\pardeftab720\qr\partightenfactor0
\cf2 \cell 
\pard\intbl\itap1\pardeftab720\partightenfactor0
\cf2     "        im_full_gray_resized_bg_full_rm_otsu_ero = cv2.erode(im_full_gray_resized_bg_full_rm_otsu_closed, kernel_ero, iterations = 1)\\n",\cell \row

\itap1\trowd \taflags1 \trgaph108\trleft-108 \trcbpat3 \trbrdrl\brdrnil \trbrdrr\brdrnil 
\clvertalt \clshdrawnil \clwWidth1000\clftsWidth3 \clminw1000 \clbrdrt\brdrnil \clbrdrl\brdrnil \clbrdrb\brdrnil \clbrdrr\brdrnil \clpadl200 \clpadr200 \gaph\cellx4320
\clvertalt \clshdrawnil \clwWidth9921822\clftsWidth3 \clbrdrt\brdrnil \clbrdrl\brdrnil \clbrdrb\brdrnil \clbrdrr\brdrnil \clpadl200 \clpadr200 \gaph\cellx8640
\pard\intbl\itap1\pardeftab720\qr\partightenfactor0
\cf2 \cell 
\pard\intbl\itap1\pardeftab720\partightenfactor0
\cf2     "        \\n",\cell \row

\itap1\trowd \taflags1 \trgaph108\trleft-108 \trcbpat3 \trbrdrl\brdrnil \trbrdrr\brdrnil 
\clvertalt \clshdrawnil \clwWidth1000\clftsWidth3 \clminw1000 \clbrdrt\brdrnil \clbrdrl\brdrnil \clbrdrb\brdrnil \clbrdrr\brdrnil \clpadl200 \clpadr200 \gaph\cellx4320
\clvertalt \clshdrawnil \clwWidth9921822\clftsWidth3 \clbrdrt\brdrnil \clbrdrl\brdrnil \clbrdrb\brdrnil \clbrdrr\brdrnil \clpadl200 \clpadr200 \gaph\cellx8640
\pard\intbl\itap1\pardeftab720\qr\partightenfactor0
\cf2 \cell 
\pard\intbl\itap1\pardeftab720\partightenfactor0
\cf2     "        #same principle for remaining struct.\\n",\cell \row

\itap1\trowd \taflags1 \trgaph108\trleft-108 \trcbpat3 \trbrdrl\brdrnil \trbrdrr\brdrnil 
\clvertalt \clshdrawnil \clwWidth1000\clftsWidth3 \clminw1000 \clbrdrt\brdrnil \clbrdrl\brdrnil \clbrdrb\brdrnil \clbrdrr\brdrnil \clpadl200 \clpadr200 \gaph\cellx4320
\clvertalt \clshdrawnil \clwWidth9921822\clftsWidth3 \clbrdrt\brdrnil \clbrdrl\brdrnil \clbrdrb\brdrnil \clbrdrr\brdrnil \clpadl200 \clpadr200 \gaph\cellx8640
\pard\intbl\itap1\pardeftab720\qr\partightenfactor0
\cf2 \cell 
\pard\intbl\itap1\pardeftab720\partightenfactor0
\cf2     "        kernel_ero_small = np.array([[0,1,0],\\n",\cell \row

\itap1\trowd \taflags1 \trgaph108\trleft-108 \trcbpat3 \trbrdrl\brdrnil \trbrdrr\brdrnil 
\clvertalt \clshdrawnil \clwWidth1000\clftsWidth3 \clminw1000 \clbrdrt\brdrnil \clbrdrl\brdrnil \clbrdrb\brdrnil \clbrdrr\brdrnil \clpadl200 \clpadr200 \gaph\cellx4320
\clvertalt \clshdrawnil \clwWidth9921822\clftsWidth3 \clbrdrt\brdrnil \clbrdrl\brdrnil \clbrdrb\brdrnil \clbrdrr\brdrnil \clpadl200 \clpadr200 \gaph\cellx8640
\pard\intbl\itap1\pardeftab720\qr\partightenfactor0
\cf2 \cell 
\pard\intbl\itap1\pardeftab720\partightenfactor0
\cf2     "                           [1,1,1],\\n",\cell \row

\itap1\trowd \taflags1 \trgaph108\trleft-108 \trcbpat3 \trbrdrl\brdrnil \trbrdrr\brdrnil 
\clvertalt \clshdrawnil \clwWidth1000\clftsWidth3 \clminw1000 \clbrdrt\brdrnil \clbrdrl\brdrnil \clbrdrb\brdrnil \clbrdrr\brdrnil \clpadl200 \clpadr200 \gaph\cellx4320
\clvertalt \clshdrawnil \clwWidth9921822\clftsWidth3 \clbrdrt\brdrnil \clbrdrl\brdrnil \clbrdrb\brdrnil \clbrdrr\brdrnil \clpadl200 \clpadr200 \gaph\cellx8640
\pard\intbl\itap1\pardeftab720\qr\partightenfactor0
\cf2 \cell 
\pard\intbl\itap1\pardeftab720\partightenfactor0
\cf2     "                           [0,1,0]], np.uint8)\\n",\cell \row

\itap1\trowd \taflags1 \trgaph108\trleft-108 \trcbpat3 \trbrdrl\brdrnil \trbrdrr\brdrnil 
\clvertalt \clshdrawnil \clwWidth1000\clftsWidth3 \clminw1000 \clbrdrt\brdrnil \clbrdrl\brdrnil \clbrdrb\brdrnil \clbrdrr\brdrnil \clpadl200 \clpadr200 \gaph\cellx4320
\clvertalt \clshdrawnil \clwWidth9921822\clftsWidth3 \clbrdrt\brdrnil \clbrdrl\brdrnil \clbrdrb\brdrnil \clbrdrr\brdrnil \clpadl200 \clpadr200 \gaph\cellx8640
\pard\intbl\itap1\pardeftab720\qr\partightenfactor0
\cf2 \cell 
\pard\intbl\itap1\pardeftab720\partightenfactor0
\cf2     "        im_full_gray_resized_bg_full_rm_otsu_ero = cv2.erode(im_full_gray_resized_bg_full_rm_otsu_ero, kernel_ero_small, iterations = 1)\\n",\cell \row

\itap1\trowd \taflags1 \trgaph108\trleft-108 \trcbpat3 \trbrdrl\brdrnil \trbrdrr\brdrnil 
\clvertalt \clshdrawnil \clwWidth1000\clftsWidth3 \clminw1000 \clbrdrt\brdrnil \clbrdrl\brdrnil \clbrdrb\brdrnil \clbrdrr\brdrnil \clpadl200 \clpadr200 \gaph\cellx4320
\clvertalt \clshdrawnil \clwWidth9921822\clftsWidth3 \clbrdrt\brdrnil \clbrdrl\brdrnil \clbrdrb\brdrnil \clbrdrr\brdrnil \clpadl200 \clpadr200 \gaph\cellx8640
\pard\intbl\itap1\pardeftab720\qr\partightenfactor0
\cf2 \cell 
\pard\intbl\itap1\pardeftab720\partightenfactor0
\cf2     "    \\n",\cell \row

\itap1\trowd \taflags1 \trgaph108\trleft-108 \trcbpat3 \trbrdrl\brdrnil \trbrdrr\brdrnil 
\clvertalt \clshdrawnil \clwWidth1000\clftsWidth3 \clminw1000 \clbrdrt\brdrnil \clbrdrl\brdrnil \clbrdrb\brdrnil \clbrdrr\brdrnil \clpadl200 \clpadr200 \gaph\cellx4320
\clvertalt \clshdrawnil \clwWidth9921822\clftsWidth3 \clbrdrt\brdrnil \clbrdrl\brdrnil \clbrdrb\brdrnil \clbrdrr\brdrnil \clpadl200 \clpadr200 \gaph\cellx8640
\pard\intbl\itap1\pardeftab720\qr\partightenfactor0
\cf2 \cell 
\pard\intbl\itap1\pardeftab720\partightenfactor0
\cf2     "        out_otsu_ero.write(im_full_gray_resized_bg_full_rm_otsu_ero)\\n",\cell \row

\itap1\trowd \taflags1 \trgaph108\trleft-108 \trcbpat3 \trbrdrl\brdrnil \trbrdrr\brdrnil 
\clvertalt \clshdrawnil \clwWidth1000\clftsWidth3 \clminw1000 \clbrdrt\brdrnil \clbrdrl\brdrnil \clbrdrb\brdrnil \clbrdrr\brdrnil \clpadl200 \clpadr200 \gaph\cellx4320
\clvertalt \clshdrawnil \clwWidth9921822\clftsWidth3 \clbrdrt\brdrnil \clbrdrl\brdrnil \clbrdrb\brdrnil \clbrdrr\brdrnil \clpadl200 \clpadr200 \gaph\cellx8640
\pard\intbl\itap1\pardeftab720\qr\partightenfactor0
\cf2 \cell 
\pard\intbl\itap1\pardeftab720\partightenfactor0
\cf2     "        \\n",\cell \row

\itap1\trowd \taflags1 \trgaph108\trleft-108 \trcbpat3 \trbrdrl\brdrnil \trbrdrr\brdrnil 
\clvertalt \clshdrawnil \clwWidth1000\clftsWidth3 \clminw1000 \clbrdrt\brdrnil \clbrdrl\brdrnil \clbrdrb\brdrnil \clbrdrr\brdrnil \clpadl200 \clpadr200 \gaph\cellx4320
\clvertalt \clshdrawnil \clwWidth9921822\clftsWidth3 \clbrdrt\brdrnil \clbrdrl\brdrnil \clbrdrb\brdrnil \clbrdrr\brdrnil \clpadl200 \clpadr200 \gaph\cellx8640
\pard\intbl\itap1\pardeftab720\qr\partightenfactor0
\cf2 \cell 
\pard\intbl\itap1\pardeftab720\partightenfactor0
\cf2     "        #finding contours\\n",\cell \row

\itap1\trowd \taflags1 \trgaph108\trleft-108 \trcbpat3 \trbrdrl\brdrnil \trbrdrr\brdrnil 
\clvertalt \clshdrawnil \clwWidth1000\clftsWidth3 \clminw1000 \clbrdrt\brdrnil \clbrdrl\brdrnil \clbrdrb\brdrnil \clbrdrr\brdrnil \clpadl200 \clpadr200 \gaph\cellx4320
\clvertalt \clshdrawnil \clwWidth9921822\clftsWidth3 \clbrdrt\brdrnil \clbrdrl\brdrnil \clbrdrb\brdrnil \clbrdrr\brdrnil \clpadl200 \clpadr200 \gaph\cellx8640
\pard\intbl\itap1\pardeftab720\qr\partightenfactor0
\cf2 \cell 
\pard\intbl\itap1\pardeftab720\partightenfactor0
\cf2     "        mask_all_contours_full = np.zeros(im_full_gray_resized_bg_full_rm_otsu_closed.shape)\\n",\cell \row

\itap1\trowd \taflags1 \trgaph108\trleft-108 \trcbpat3 \trbrdrl\brdrnil \trbrdrr\brdrnil 
\clvertalt \clshdrawnil \clwWidth1000\clftsWidth3 \clminw1000 \clbrdrt\brdrnil \clbrdrl\brdrnil \clbrdrb\brdrnil \clbrdrr\brdrnil \clpadl200 \clpadr200 \gaph\cellx4320
\clvertalt \clshdrawnil \clwWidth9921822\clftsWidth3 \clbrdrt\brdrnil \clbrdrl\brdrnil \clbrdrb\brdrnil \clbrdrr\brdrnil \clpadl200 \clpadr200 \gaph\cellx8640
\pard\intbl\itap1\pardeftab720\qr\partightenfactor0
\cf2 \cell 
\pard\intbl\itap1\pardeftab720\partightenfactor0
\cf2     "        im_otsu_contours_full, hierarchy = cv2.findContours(image= im_full_gray_resized_bg_full_rm_otsu_ero, \\n",\cell \row

\itap1\trowd \taflags1 \trgaph108\trleft-108 \trcbpat3 \trbrdrl\brdrnil \trbrdrr\brdrnil 
\clvertalt \clshdrawnil \clwWidth1000\clftsWidth3 \clminw1000 \clbrdrt\brdrnil \clbrdrl\brdrnil \clbrdrb\brdrnil \clbrdrr\brdrnil \clpadl200 \clpadr200 \gaph\cellx4320
\clvertalt \clshdrawnil \clwWidth9921822\clftsWidth3 \clbrdrt\brdrnil \clbrdrl\brdrnil \clbrdrb\brdrnil \clbrdrr\brdrnil \clpadl200 \clpadr200 \gaph\cellx8640
\pard\intbl\itap1\pardeftab720\qr\partightenfactor0
\cf2 \cell 
\pard\intbl\itap1\pardeftab720\partightenfactor0
\cf2     "                                                          mode=cv2.RETR_TREE, method=cv2.CHAIN_APPROX_NONE)[-2:]\\n",\cell \row

\itap1\trowd \taflags1 \trgaph108\trleft-108 \trcbpat3 \trbrdrl\brdrnil \trbrdrr\brdrnil 
\clvertalt \clshdrawnil \clwWidth1000\clftsWidth3 \clminw1000 \clbrdrt\brdrnil \clbrdrl\brdrnil \clbrdrb\brdrnil \clbrdrr\brdrnil \clpadl200 \clpadr200 \gaph\cellx4320
\clvertalt \clshdrawnil \clwWidth9921822\clftsWidth3 \clbrdrt\brdrnil \clbrdrl\brdrnil \clbrdrb\brdrnil \clbrdrr\brdrnil \clpadl200 \clpadr200 \gaph\cellx8640
\pard\intbl\itap1\pardeftab720\qr\partightenfactor0
\cf2 \cell 
\pard\intbl\itap1\pardeftab720\partightenfactor0
\cf2     "        mask_all_contours_full = cv2.drawContours(image=mask_all_contours_full, contours=im_otsu_contours_full, contourIdx=-1, \\n",\cell \row

\itap1\trowd \taflags1 \trgaph108\trleft-108 \trcbpat3 \trbrdrl\brdrnil \trbrdrr\brdrnil 
\clvertalt \clshdrawnil \clwWidth1000\clftsWidth3 \clminw1000 \clbrdrt\brdrnil \clbrdrl\brdrnil \clbrdrb\brdrnil \clbrdrr\brdrnil \clpadl200 \clpadr200 \gaph\cellx4320
\clvertalt \clshdrawnil \clwWidth9921822\clftsWidth3 \clbrdrt\brdrnil \clbrdrl\brdrnil \clbrdrb\brdrnil \clbrdrr\brdrnil \clpadl200 \clpadr200 \gaph\cellx8640
\pard\intbl\itap1\pardeftab720\qr\partightenfactor0
\cf2 \cell 
\pard\intbl\itap1\pardeftab720\partightenfactor0
\cf2     "                                             color=1, thickness=cv2.FILLED, lineType=cv2.LINE_AA)\\n",\cell \row

\itap1\trowd \taflags1 \trgaph108\trleft-108 \trcbpat3 \trbrdrl\brdrnil \trbrdrr\brdrnil 
\clvertalt \clshdrawnil \clwWidth1000\clftsWidth3 \clminw1000 \clbrdrt\brdrnil \clbrdrl\brdrnil \clbrdrb\brdrnil \clbrdrr\brdrnil \clpadl200 \clpadr200 \gaph\cellx4320
\clvertalt \clshdrawnil \clwWidth9921822\clftsWidth3 \clbrdrt\brdrnil \clbrdrl\brdrnil \clbrdrb\brdrnil \clbrdrr\brdrnil \clpadl200 \clpadr200 \gaph\cellx8640
\pard\intbl\itap1\pardeftab720\qr\partightenfactor0
\cf2 \cell 
\pard\intbl\itap1\pardeftab720\partightenfactor0
\cf2     "        \\n",\cell \row

\itap1\trowd \taflags1 \trgaph108\trleft-108 \trcbpat3 \trbrdrl\brdrnil \trbrdrr\brdrnil 
\clvertalt \clshdrawnil \clwWidth1000\clftsWidth3 \clminw1000 \clbrdrt\brdrnil \clbrdrl\brdrnil \clbrdrb\brdrnil \clbrdrr\brdrnil \clpadl200 \clpadr200 \gaph\cellx4320
\clvertalt \clshdrawnil \clwWidth9921822\clftsWidth3 \clbrdrt\brdrnil \clbrdrl\brdrnil \clbrdrb\brdrnil \clbrdrr\brdrnil \clpadl200 \clpadr200 \gaph\cellx8640
\pard\intbl\itap1\pardeftab720\qr\partightenfactor0
\cf2 \cell 
\pard\intbl\itap1\pardeftab720\partightenfactor0
\cf2     "        valid_contours_full = [] #just for debugging (chacking video)\\n",\cell \row

\itap1\trowd \taflags1 \trgaph108\trleft-108 \trcbpat3 \trbrdrl\brdrnil \trbrdrr\brdrnil 
\clvertalt \clshdrawnil \clwWidth1000\clftsWidth3 \clminw1000 \clbrdrt\brdrnil \clbrdrl\brdrnil \clbrdrb\brdrnil \clbrdrr\brdrnil \clpadl200 \clpadr200 \gaph\cellx4320
\clvertalt \clshdrawnil \clwWidth9921822\clftsWidth3 \clbrdrt\brdrnil \clbrdrl\brdrnil \clbrdrb\brdrnil \clbrdrr\brdrnil \clpadl200 \clpadr200 \gaph\cellx8640
\pard\intbl\itap1\pardeftab720\qr\partightenfactor0
\cf2 \cell 
\pard\intbl\itap1\pardeftab720\partightenfactor0
\cf2     "        fly_contour = []\\n",\cell \row

\itap1\trowd \taflags1 \trgaph108\trleft-108 \trcbpat3 \trbrdrl\brdrnil \trbrdrr\brdrnil 
\clvertalt \clshdrawnil \clwWidth1000\clftsWidth3 \clminw1000 \clbrdrt\brdrnil \clbrdrl\brdrnil \clbrdrb\brdrnil \clbrdrr\brdrnil \clpadl200 \clpadr200 \gaph\cellx4320
\clvertalt \clshdrawnil \clwWidth9921822\clftsWidth3 \clbrdrt\brdrnil \clbrdrl\brdrnil \clbrdrb\brdrnil \clbrdrr\brdrnil \clpadl200 \clpadr200 \gaph\cellx8640
\pard\intbl\itap1\pardeftab720\qr\partightenfactor0
\cf2 \cell 
\pard\intbl\itap1\pardeftab720\partightenfactor0
\cf2     "        fly_contour_length = 0\\n",\cell \row

\itap1\trowd \taflags1 \trgaph108\trleft-108 \trcbpat3 \trbrdrl\brdrnil \trbrdrr\brdrnil 
\clvertalt \clshdrawnil \clwWidth1000\clftsWidth3 \clminw1000 \clbrdrt\brdrnil \clbrdrl\brdrnil \clbrdrb\brdrnil \clbrdrr\brdrnil \clpadl200 \clpadr200 \gaph\cellx4320
\clvertalt \clshdrawnil \clwWidth9921822\clftsWidth3 \clbrdrt\brdrnil \clbrdrl\brdrnil \clbrdrb\brdrnil \clbrdrr\brdrnil \clpadl200 \clpadr200 \gaph\cellx8640
\pard\intbl\itap1\pardeftab720\qr\partightenfactor0
\cf2 \cell 
\pard\intbl\itap1\pardeftab720\partightenfactor0
\cf2     "        \\n",\cell \row

\itap1\trowd \taflags1 \trgaph108\trleft-108 \trcbpat3 \trbrdrl\brdrnil \trbrdrr\brdrnil 
\clvertalt \clshdrawnil \clwWidth1000\clftsWidth3 \clminw1000 \clbrdrt\brdrnil \clbrdrl\brdrnil \clbrdrb\brdrnil \clbrdrr\brdrnil \clpadl200 \clpadr200 \gaph\cellx4320
\clvertalt \clshdrawnil \clwWidth9921822\clftsWidth3 \clbrdrt\brdrnil \clbrdrl\brdrnil \clbrdrb\brdrnil \clbrdrr\brdrnil \clpadl200 \clpadr200 \gaph\cellx8640
\pard\intbl\itap1\pardeftab720\qr\partightenfactor0
\cf2 \cell 
\pard\intbl\itap1\pardeftab720\partightenfactor0
\cf2     "        #only length criteria for now (could add area, convexity, ...)\\n",\cell \row

\itap1\trowd \taflags1 \trgaph108\trleft-108 \trcbpat3 \trbrdrl\brdrnil \trbrdrr\brdrnil 
\clvertalt \clshdrawnil \clwWidth1000\clftsWidth3 \clminw1000 \clbrdrt\brdrnil \clbrdrl\brdrnil \clbrdrb\brdrnil \clbrdrr\brdrnil \clpadl200 \clpadr200 \gaph\cellx4320
\clvertalt \clshdrawnil \clwWidth9921822\clftsWidth3 \clbrdrt\brdrnil \clbrdrl\brdrnil \clbrdrb\brdrnil \clbrdrr\brdrnil \clpadl200 \clpadr200 \gaph\cellx8640
\pard\intbl\itap1\pardeftab720\qr\partightenfactor0
\cf2 \cell 
\pard\intbl\itap1\pardeftab720\partightenfactor0
\cf2     "        for contour in im_otsu_contours_full:\\n",\cell \row

\itap1\trowd \taflags1 \trgaph108\trleft-108 \trcbpat3 \trbrdrl\brdrnil \trbrdrr\brdrnil 
\clvertalt \clshdrawnil \clwWidth1000\clftsWidth3 \clminw1000 \clbrdrt\brdrnil \clbrdrl\brdrnil \clbrdrb\brdrnil \clbrdrr\brdrnil \clpadl200 \clpadr200 \gaph\cellx4320
\clvertalt \clshdrawnil \clwWidth9921822\clftsWidth3 \clbrdrt\brdrnil \clbrdrl\brdrnil \clbrdrb\brdrnil \clbrdrr\brdrnil \clpadl200 \clpadr200 \gaph\cellx8640
\pard\intbl\itap1\pardeftab720\qr\partightenfactor0
\cf2 \cell 
\pard\intbl\itap1\pardeftab720\partightenfactor0
\cf2     "            valid_contours_full.append(contour)\\n",\cell \row

\itap1\trowd \taflags1 \trgaph108\trleft-108 \trcbpat3 \trbrdrl\brdrnil \trbrdrr\brdrnil 
\clvertalt \clshdrawnil \clwWidth1000\clftsWidth3 \clminw1000 \clbrdrt\brdrnil \clbrdrl\brdrnil \clbrdrb\brdrnil \clbrdrr\brdrnil \clpadl200 \clpadr200 \gaph\cellx4320
\clvertalt \clshdrawnil \clwWidth9921822\clftsWidth3 \clbrdrt\brdrnil \clbrdrl\brdrnil \clbrdrb\brdrnil \clbrdrr\brdrnil \clpadl200 \clpadr200 \gaph\cellx8640
\pard\intbl\itap1\pardeftab720\qr\partightenfactor0
\cf2 \cell 
\pard\intbl\itap1\pardeftab720\partightenfactor0
\cf2     "            if len(contour) > 15 and len(contour) > fly_contour_length: \\n",\cell \row

\itap1\trowd \taflags1 \trgaph108\trleft-108 \trcbpat3 \trbrdrl\brdrnil \trbrdrr\brdrnil 
\clvertalt \clshdrawnil \clwWidth1000\clftsWidth3 \clminw1000 \clbrdrt\brdrnil \clbrdrl\brdrnil \clbrdrb\brdrnil \clbrdrr\brdrnil \clpadl200 \clpadr200 \gaph\cellx4320
\clvertalt \clshdrawnil \clwWidth9921822\clftsWidth3 \clbrdrt\brdrnil \clbrdrl\brdrnil \clbrdrb\brdrnil \clbrdrr\brdrnil \clpadl200 \clpadr200 \gaph\cellx8640
\pard\intbl\itap1\pardeftab720\qr\partightenfactor0
\cf2 \cell 
\pard\intbl\itap1\pardeftab720\partightenfactor0
\cf2     "                fly_contour = contour\\n",\cell \row

\itap1\trowd \taflags1 \trgaph108\trleft-108 \trcbpat3 \trbrdrl\brdrnil \trbrdrr\brdrnil 
\clvertalt \clshdrawnil \clwWidth1000\clftsWidth3 \clminw1000 \clbrdrt\brdrnil \clbrdrl\brdrnil \clbrdrb\brdrnil \clbrdrr\brdrnil \clpadl200 \clpadr200 \gaph\cellx4320
\clvertalt \clshdrawnil \clwWidth9921822\clftsWidth3 \clbrdrt\brdrnil \clbrdrl\brdrnil \clbrdrb\brdrnil \clbrdrr\brdrnil \clpadl200 \clpadr200 \gaph\cellx8640
\pard\intbl\itap1\pardeftab720\qr\partightenfactor0
\cf2 \cell 
\pard\intbl\itap1\pardeftab720\partightenfactor0
\cf2     "                fly_contour_length = len(contour)\\n",\cell \row

\itap1\trowd \taflags1 \trgaph108\trleft-108 \trcbpat3 \trbrdrl\brdrnil \trbrdrr\brdrnil 
\clvertalt \clshdrawnil \clwWidth1000\clftsWidth3 \clminw1000 \clbrdrt\brdrnil \clbrdrl\brdrnil \clbrdrb\brdrnil \clbrdrr\brdrnil \clpadl200 \clpadr200 \gaph\cellx4320
\clvertalt \clshdrawnil \clwWidth9921822\clftsWidth3 \clbrdrt\brdrnil \clbrdrl\brdrnil \clbrdrb\brdrnil \clbrdrr\brdrnil \clpadl200 \clpadr200 \gaph\cellx8640
\pard\intbl\itap1\pardeftab720\qr\partightenfactor0
\cf2 \cell 
\pard\intbl\itap1\pardeftab720\partightenfactor0
\cf2     "                \\n",\cell \row

\itap1\trowd \taflags1 \trgaph108\trleft-108 \trcbpat3 \trbrdrl\brdrnil \trbrdrr\brdrnil 
\clvertalt \clshdrawnil \clwWidth1000\clftsWidth3 \clminw1000 \clbrdrt\brdrnil \clbrdrl\brdrnil \clbrdrb\brdrnil \clbrdrr\brdrnil \clpadl200 \clpadr200 \gaph\cellx4320
\clvertalt \clshdrawnil \clwWidth9921822\clftsWidth3 \clbrdrt\brdrnil \clbrdrl\brdrnil \clbrdrb\brdrnil \clbrdrr\brdrnil \clpadl200 \clpadr200 \gaph\cellx8640
\pard\intbl\itap1\pardeftab720\qr\partightenfactor0
\cf2 \cell 
\pard\intbl\itap1\pardeftab720\partightenfactor0
\cf2     "                    \\n",\cell \row

\itap1\trowd \taflags1 \trgaph108\trleft-108 \trcbpat3 \trbrdrl\brdrnil \trbrdrr\brdrnil 
\clvertalt \clshdrawnil \clwWidth1000\clftsWidth3 \clminw1000 \clbrdrt\brdrnil \clbrdrl\brdrnil \clbrdrb\brdrnil \clbrdrr\brdrnil \clpadl200 \clpadr200 \gaph\cellx4320
\clvertalt \clshdrawnil \clwWidth9921822\clftsWidth3 \clbrdrt\brdrnil \clbrdrl\brdrnil \clbrdrb\brdrnil \clbrdrr\brdrnil \clpadl200 \clpadr200 \gaph\cellx8640
\pard\intbl\itap1\pardeftab720\qr\partightenfactor0
\cf2 \cell 
\pard\intbl\itap1\pardeftab720\partightenfactor0
\cf2     "        \\n",\cell \row

\itap1\trowd \taflags1 \trgaph108\trleft-108 \trcbpat3 \trbrdrl\brdrnil \trbrdrr\brdrnil 
\clvertalt \clshdrawnil \clwWidth1000\clftsWidth3 \clminw1000 \clbrdrt\brdrnil \clbrdrl\brdrnil \clbrdrb\brdrnil \clbrdrr\brdrnil \clpadl200 \clpadr200 \gaph\cellx4320
\clvertalt \clshdrawnil \clwWidth9921822\clftsWidth3 \clbrdrt\brdrnil \clbrdrl\brdrnil \clbrdrb\brdrnil \clbrdrr\brdrnil \clpadl200 \clpadr200 \gaph\cellx8640
\pard\intbl\itap1\pardeftab720\qr\partightenfactor0
\cf2 \cell 
\pard\intbl\itap1\pardeftab720\partightenfactor0
\cf2     "        mask_valid_contours_full = np.zeros(im_full_gray_resized_bg_full_rm_otsu.shape)\\n",\cell \row

\itap1\trowd \taflags1 \trgaph108\trleft-108 \trcbpat3 \trbrdrl\brdrnil \trbrdrr\brdrnil 
\clvertalt \clshdrawnil \clwWidth1000\clftsWidth3 \clminw1000 \clbrdrt\brdrnil \clbrdrl\brdrnil \clbrdrb\brdrnil \clbrdrr\brdrnil \clpadl200 \clpadr200 \gaph\cellx4320
\clvertalt \clshdrawnil \clwWidth9921822\clftsWidth3 \clbrdrt\brdrnil \clbrdrl\brdrnil \clbrdrb\brdrnil \clbrdrr\brdrnil \clpadl200 \clpadr200 \gaph\cellx8640
\pard\intbl\itap1\pardeftab720\qr\partightenfactor0
\cf2 \cell 
\pard\intbl\itap1\pardeftab720\partightenfactor0
\cf2     "        mask_valid_contours_full = cv2.drawContours(image=mask_valid_contours_full, contours=valid_contours_full, contourIdx=-1, \\n",\cell \row

\itap1\trowd \taflags1 \trgaph108\trleft-108 \trcbpat3 \trbrdrl\brdrnil \trbrdrr\brdrnil 
\clvertalt \clshdrawnil \clwWidth1000\clftsWidth3 \clminw1000 \clbrdrt\brdrnil \clbrdrl\brdrnil \clbrdrb\brdrnil \clbrdrr\brdrnil \clpadl200 \clpadr200 \gaph\cellx4320
\clvertalt \clshdrawnil \clwWidth9921822\clftsWidth3 \clbrdrt\brdrnil \clbrdrl\brdrnil \clbrdrb\brdrnil \clbrdrr\brdrnil \clpadl200 \clpadr200 \gaph\cellx8640
\pard\intbl\itap1\pardeftab720\qr\partightenfactor0
\cf2 \cell 
\pard\intbl\itap1\pardeftab720\partightenfactor0
\cf2     "                                                  color=255, thickness=cv2.FILLED, lineType=cv2.LINE_AA)\\n",\cell \row

\itap1\trowd \taflags1 \trgaph108\trleft-108 \trcbpat3 \trbrdrl\brdrnil \trbrdrr\brdrnil 
\clvertalt \clshdrawnil \clwWidth1000\clftsWidth3 \clminw1000 \clbrdrt\brdrnil \clbrdrl\brdrnil \clbrdrb\brdrnil \clbrdrr\brdrnil \clpadl200 \clpadr200 \gaph\cellx4320
\clvertalt \clshdrawnil \clwWidth9921822\clftsWidth3 \clbrdrt\brdrnil \clbrdrl\brdrnil \clbrdrb\brdrnil \clbrdrr\brdrnil \clpadl200 \clpadr200 \gaph\cellx8640
\pard\intbl\itap1\pardeftab720\qr\partightenfactor0
\cf2 \cell 
\pard\intbl\itap1\pardeftab720\partightenfactor0
\cf2     "        mask_valid_contours_full = np.array(mask_valid_contours_full, np.uint8)\\n",\cell \row

\itap1\trowd \taflags1 \trgaph108\trleft-108 \trcbpat3 \trbrdrl\brdrnil \trbrdrr\brdrnil 
\clvertalt \clshdrawnil \clwWidth1000\clftsWidth3 \clminw1000 \clbrdrt\brdrnil \clbrdrl\brdrnil \clbrdrb\brdrnil \clbrdrr\brdrnil \clpadl200 \clpadr200 \gaph\cellx4320
\clvertalt \clshdrawnil \clwWidth9921822\clftsWidth3 \clbrdrt\brdrnil \clbrdrl\brdrnil \clbrdrb\brdrnil \clbrdrr\brdrnil \clpadl200 \clpadr200 \gaph\cellx8640
\pard\intbl\itap1\pardeftab720\qr\partightenfactor0
\cf2 \cell 
\pard\intbl\itap1\pardeftab720\partightenfactor0
\cf2     "        out_val_cont.write(mask_valid_contours_full)\\n",\cell \row

\itap1\trowd \taflags1 \trgaph108\trleft-108 \trcbpat3 \trbrdrl\brdrnil \trbrdrr\brdrnil 
\clvertalt \clshdrawnil \clwWidth1000\clftsWidth3 \clminw1000 \clbrdrt\brdrnil \clbrdrl\brdrnil \clbrdrb\brdrnil \clbrdrr\brdrnil \clpadl200 \clpadr200 \gaph\cellx4320
\clvertalt \clshdrawnil \clwWidth9921822\clftsWidth3 \clbrdrt\brdrnil \clbrdrl\brdrnil \clbrdrb\brdrnil \clbrdrr\brdrnil \clpadl200 \clpadr200 \gaph\cellx8640
\pard\intbl\itap1\pardeftab720\qr\partightenfactor0
\cf2 \cell 
\pard\intbl\itap1\pardeftab720\partightenfactor0
\cf2     "        \\n",\cell \row

\itap1\trowd \taflags1 \trgaph108\trleft-108 \trcbpat3 \trbrdrl\brdrnil \trbrdrr\brdrnil 
\clvertalt \clshdrawnil \clwWidth1000\clftsWidth3 \clminw1000 \clbrdrt\brdrnil \clbrdrl\brdrnil \clbrdrb\brdrnil \clbrdrr\brdrnil \clpadl200 \clpadr200 \gaph\cellx4320
\clvertalt \clshdrawnil \clwWidth9921822\clftsWidth3 \clbrdrt\brdrnil \clbrdrl\brdrnil \clbrdrb\brdrnil \clbrdrr\brdrnil \clpadl200 \clpadr200 \gaph\cellx8640
\pard\intbl\itap1\pardeftab720\qr\partightenfactor0
\cf2 \cell 
\pard\intbl\itap1\pardeftab720\partightenfactor0
\cf2     "        #finding and annotating fly's centroid\\n",\cell \row

\itap1\trowd \taflags1 \trgaph108\trleft-108 \trcbpat3 \trbrdrl\brdrnil \trbrdrr\brdrnil 
\clvertalt \clshdrawnil \clwWidth1000\clftsWidth3 \clminw1000 \clbrdrt\brdrnil \clbrdrl\brdrnil \clbrdrb\brdrnil \clbrdrr\brdrnil \clpadl200 \clpadr200 \gaph\cellx4320
\clvertalt \clshdrawnil \clwWidth9921822\clftsWidth3 \clbrdrt\brdrnil \clbrdrl\brdrnil \clbrdrb\brdrnil \clbrdrr\brdrnil \clpadl200 \clpadr200 \gaph\cellx8640
\pard\intbl\itap1\pardeftab720\qr\partightenfactor0
\cf2 \cell 
\pard\intbl\itap1\pardeftab720\partightenfactor0
\cf2     "        im_full_gray_resized_anot = im_full_gray_resized_balls.copy()\\n",\cell \row

\itap1\trowd \taflags1 \trgaph108\trleft-108 \trcbpat3 \trbrdrl\brdrnil \trbrdrr\brdrnil 
\clvertalt \clshdrawnil \clwWidth1000\clftsWidth3 \clminw1000 \clbrdrt\brdrnil \clbrdrl\brdrnil \clbrdrb\brdrnil \clbrdrr\brdrnil \clpadl200 \clpadr200 \gaph\cellx4320
\clvertalt \clshdrawnil \clwWidth9921822\clftsWidth3 \clbrdrt\brdrnil \clbrdrl\brdrnil \clbrdrb\brdrnil \clbrdrr\brdrnil \clpadl200 \clpadr200 \gaph\cellx8640
\pard\intbl\itap1\pardeftab720\qr\partightenfactor0
\cf2 \cell 
\pard\intbl\itap1\pardeftab720\partightenfactor0
\cf2     "        mask_fly = np.zeros(im_full_gray_resized_bg_full_rm_otsu.shape, np.uint8)\\n",\cell \row

\itap1\trowd \taflags1 \trgaph108\trleft-108 \trcbpat3 \trbrdrl\brdrnil \trbrdrr\brdrnil 
\clvertalt \clshdrawnil \clwWidth1000\clftsWidth3 \clminw1000 \clbrdrt\brdrnil \clbrdrl\brdrnil \clbrdrb\brdrnil \clbrdrr\brdrnil \clpadl200 \clpadr200 \gaph\cellx4320
\clvertalt \clshdrawnil \clwWidth9921822\clftsWidth3 \clbrdrt\brdrnil \clbrdrl\brdrnil \clbrdrb\brdrnil \clbrdrr\brdrnil \clpadl200 \clpadr200 \gaph\cellx8640
\pard\intbl\itap1\pardeftab720\qr\partightenfactor0
\cf2 \cell 
\pard\intbl\itap1\pardeftab720\partightenfactor0
\cf2     "        if (len(fly_contour)):\\n",\cell \row

\itap1\trowd \taflags1 \trgaph108\trleft-108 \trcbpat3 \trbrdrl\brdrnil \trbrdrr\brdrnil 
\clvertalt \clshdrawnil \clwWidth1000\clftsWidth3 \clminw1000 \clbrdrt\brdrnil \clbrdrl\brdrnil \clbrdrb\brdrnil \clbrdrr\brdrnil \clpadl200 \clpadr200 \gaph\cellx4320
\clvertalt \clshdrawnil \clwWidth9921822\clftsWidth3 \clbrdrt\brdrnil \clbrdrl\brdrnil \clbrdrb\brdrnil \clbrdrr\brdrnil \clpadl200 \clpadr200 \gaph\cellx8640
\pard\intbl\itap1\pardeftab720\qr\partightenfactor0
\cf2 \cell 
\pard\intbl\itap1\pardeftab720\partightenfactor0
\cf2     "            mask_fly = cv2.drawContours(image=mask_fly, contours=[fly_contour], contourIdx=-1, \\n",\cell \row

\itap1\trowd \taflags1 \trgaph108\trleft-108 \trcbpat3 \trbrdrl\brdrnil \trbrdrr\brdrnil 
\clvertalt \clshdrawnil \clwWidth1000\clftsWidth3 \clminw1000 \clbrdrt\brdrnil \clbrdrl\brdrnil \clbrdrb\brdrnil \clbrdrr\brdrnil \clpadl200 \clpadr200 \gaph\cellx4320
\clvertalt \clshdrawnil \clwWidth9921822\clftsWidth3 \clbrdrt\brdrnil \clbrdrl\brdrnil \clbrdrb\brdrnil \clbrdrr\brdrnil \clpadl200 \clpadr200 \gaph\cellx8640
\pard\intbl\itap1\pardeftab720\qr\partightenfactor0
\cf2 \cell 
\pard\intbl\itap1\pardeftab720\partightenfactor0
\cf2     "                                                  color=255, thickness=cv2.FILLED, lineType=cv2.LINE_AA)\\n",\cell \row

\itap1\trowd \taflags1 \trgaph108\trleft-108 \trcbpat3 \trbrdrl\brdrnil \trbrdrr\brdrnil 
\clvertalt \clshdrawnil \clwWidth1000\clftsWidth3 \clminw1000 \clbrdrt\brdrnil \clbrdrl\brdrnil \clbrdrb\brdrnil \clbrdrr\brdrnil \clpadl200 \clpadr200 \gaph\cellx4320
\clvertalt \clshdrawnil \clwWidth9921822\clftsWidth3 \clbrdrt\brdrnil \clbrdrl\brdrnil \clbrdrb\brdrnil \clbrdrr\brdrnil \clpadl200 \clpadr200 \gaph\cellx8640
\pard\intbl\itap1\pardeftab720\qr\partightenfactor0
\cf2 \cell 
\pard\intbl\itap1\pardeftab720\partightenfactor0
\cf2     "            cx,cy,alpha = compute_centroid_angle(mask_fly)\\n",\cell \row

\itap1\trowd \taflags1 \trgaph108\trleft-108 \trcbpat3 \trbrdrl\brdrnil \trbrdrr\brdrnil 
\clvertalt \clshdrawnil \clwWidth1000\clftsWidth3 \clminw1000 \clbrdrt\brdrnil \clbrdrl\brdrnil \clbrdrb\brdrnil \clbrdrr\brdrnil \clpadl200 \clpadr200 \gaph\cellx4320
\clvertalt \clshdrawnil \clwWidth9921822\clftsWidth3 \clbrdrt\brdrnil \clbrdrl\brdrnil \clbrdrb\brdrnil \clbrdrr\brdrnil \clpadl200 \clpadr200 \gaph\cellx8640
\pard\intbl\itap1\pardeftab720\qr\partightenfactor0
\cf2 \cell 
\pard\intbl\itap1\pardeftab720\partightenfactor0
\cf2     "            im_full_gray_resized_anot = cv2.circle(im_full_gray_resized_balls, (cx, cy), 3, \\n",\cell \row

\itap1\trowd \taflags1 \trgaph108\trleft-108 \trcbpat3 \trbrdrl\brdrnil \trbrdrr\brdrnil 
\clvertalt \clshdrawnil \clwWidth1000\clftsWidth3 \clminw1000 \clbrdrt\brdrnil \clbrdrl\brdrnil \clbrdrb\brdrnil \clbrdrr\brdrnil \clpadl200 \clpadr200 \gaph\cellx4320
\clvertalt \clshdrawnil \clwWidth9921822\clftsWidth3 \clbrdrt\brdrnil \clbrdrl\brdrnil \clbrdrb\brdrnil \clbrdrr\brdrnil \clpadl200 \clpadr200 \gaph\cellx8640
\pard\intbl\itap1\pardeftab720\qr\partightenfactor0
\cf2 \cell 
\pard\intbl\itap1\pardeftab720\partightenfactor0
\cf2     "                                                    (0,0,255), cv2.FILLED)\\n",\cell \row

\itap1\trowd \taflags1 \trgaph108\trleft-108 \trcbpat3 \trbrdrl\brdrnil \trbrdrr\brdrnil 
\clvertalt \clshdrawnil \clwWidth1000\clftsWidth3 \clminw1000 \clbrdrt\brdrnil \clbrdrl\brdrnil \clbrdrb\brdrnil \clbrdrr\brdrnil \clpadl200 \clpadr200 \gaph\cellx4320
\clvertalt \clshdrawnil \clwWidth9921822\clftsWidth3 \clbrdrt\brdrnil \clbrdrl\brdrnil \clbrdrb\brdrnil \clbrdrr\brdrnil \clpadl200 \clpadr200 \gaph\cellx8640
\pard\intbl\itap1\pardeftab720\qr\partightenfactor0
\cf2 \cell 
\pard\intbl\itap1\pardeftab720\partightenfactor0
\cf2     "        \\n",\cell \row

\itap1\trowd \taflags1 \trgaph108\trleft-108 \trcbpat3 \trbrdrl\brdrnil \trbrdrr\brdrnil 
\clvertalt \clshdrawnil \clwWidth1000\clftsWidth3 \clminw1000 \clbrdrt\brdrnil \clbrdrl\brdrnil \clbrdrb\brdrnil \clbrdrr\brdrnil \clpadl200 \clpadr200 \gaph\cellx4320
\clvertalt \clshdrawnil \clwWidth9921822\clftsWidth3 \clbrdrt\brdrnil \clbrdrl\brdrnil \clbrdrb\brdrnil \clbrdrr\brdrnil \clpadl200 \clpadr200 \gaph\cellx8640
\pard\intbl\itap1\pardeftab720\qr\partightenfactor0
\cf2 \cell 
\pard\intbl\itap1\pardeftab720\partightenfactor0
\cf2     "        out_fly.write(mask_fly) \\n",\cell \row

\itap1\trowd \taflags1 \trgaph108\trleft-108 \trcbpat3 \trbrdrl\brdrnil \trbrdrr\brdrnil 
\clvertalt \clshdrawnil \clwWidth1000\clftsWidth3 \clminw1000 \clbrdrt\brdrnil \clbrdrl\brdrnil \clbrdrb\brdrnil \clbrdrr\brdrnil \clpadl200 \clpadr200 \gaph\cellx4320
\clvertalt \clshdrawnil \clwWidth9921822\clftsWidth3 \clbrdrt\brdrnil \clbrdrl\brdrnil \clbrdrb\brdrnil \clbrdrr\brdrnil \clpadl200 \clpadr200 \gaph\cellx8640
\pard\intbl\itap1\pardeftab720\qr\partightenfactor0
\cf2 \cell 
\pard\intbl\itap1\pardeftab720\partightenfactor0
\cf2     "        \\n",\cell \row

\itap1\trowd \taflags1 \trgaph108\trleft-108 \trcbpat3 \trbrdrl\brdrnil \trbrdrr\brdrnil 
\clvertalt \clshdrawnil \clwWidth1000\clftsWidth3 \clminw1000 \clbrdrt\brdrnil \clbrdrl\brdrnil \clbrdrb\brdrnil \clbrdrr\brdrnil \clpadl200 \clpadr200 \gaph\cellx4320
\clvertalt \clshdrawnil \clwWidth9921822\clftsWidth3 \clbrdrt\brdrnil \clbrdrl\brdrnil \clbrdrb\brdrnil \clbrdrr\brdrnil \clpadl200 \clpadr200 \gaph\cellx8640
\pard\intbl\itap1\pardeftab720\qr\partightenfactor0
\cf2 \cell 
\pard\intbl\itap1\pardeftab720\partightenfactor0
\cf2     "        out_anot.write(im_full_gray_resized_anot)\\n",\cell \row

\itap1\trowd \taflags1 \trgaph108\trleft-108 \trcbpat3 \trbrdrl\brdrnil \trbrdrr\brdrnil 
\clvertalt \clshdrawnil \clwWidth1000\clftsWidth3 \clminw1000 \clbrdrt\brdrnil \clbrdrl\brdrnil \clbrdrb\brdrnil \clbrdrr\brdrnil \clpadl200 \clpadr200 \gaph\cellx4320
\clvertalt \clshdrawnil \clwWidth9921822\clftsWidth3 \clbrdrt\brdrnil \clbrdrl\brdrnil \clbrdrb\brdrnil \clbrdrr\brdrnil \clpadl200 \clpadr200 \gaph\cellx8640
\pard\intbl\itap1\pardeftab720\qr\partightenfactor0
\cf2 \cell 
\pard\intbl\itap1\pardeftab720\partightenfactor0
\cf2     "        \\n",\cell \row

\itap1\trowd \taflags1 \trgaph108\trleft-108 \trcbpat3 \trbrdrl\brdrnil \trbrdrr\brdrnil 
\clvertalt \clshdrawnil \clwWidth1000\clftsWidth3 \clminw1000 \clbrdrt\brdrnil \clbrdrl\brdrnil \clbrdrb\brdrnil \clbrdrr\brdrnil \clpadl200 \clpadr200 \gaph\cellx4320
\clvertalt \clshdrawnil \clwWidth9921822\clftsWidth3 \clbrdrt\brdrnil \clbrdrl\brdrnil \clbrdrb\brdrnil \clbrdrr\brdrnil \clpadl200 \clpadr200 \gaph\cellx8640
\pard\intbl\itap1\pardeftab720\qr\partightenfactor0
\cf2 \cell 
\pard\intbl\itap1\pardeftab720\partightenfactor0
\cf2     "        comput_time.append(time.time()-start_time)\\n",\cell \row

\itap1\trowd \taflags1 \trgaph108\trleft-108 \trcbpat3 \trbrdrl\brdrnil \trbrdrr\brdrnil 
\clvertalt \clshdrawnil \clwWidth1000\clftsWidth3 \clminw1000 \clbrdrt\brdrnil \clbrdrl\brdrnil \clbrdrb\brdrnil \clbrdrr\brdrnil \clpadl200 \clpadr200 \gaph\cellx4320
\clvertalt \clshdrawnil \clwWidth9921822\clftsWidth3 \clbrdrt\brdrnil \clbrdrl\brdrnil \clbrdrb\brdrnil \clbrdrr\brdrnil \clpadl200 \clpadr200 \gaph\cellx8640
\pard\intbl\itap1\pardeftab720\qr\partightenfactor0
\cf2 \cell 
\pard\intbl\itap1\pardeftab720\partightenfactor0
\cf2     "\\n",\cell \row

\itap1\trowd \taflags1 \trgaph108\trleft-108 \trcbpat3 \trbrdrl\brdrnil \trbrdrr\brdrnil 
\clvertalt \clshdrawnil \clwWidth1000\clftsWidth3 \clminw1000 \clbrdrt\brdrnil \clbrdrl\brdrnil \clbrdrb\brdrnil \clbrdrr\brdrnil \clpadl200 \clpadr200 \gaph\cellx4320
\clvertalt \clshdrawnil \clwWidth9921822\clftsWidth3 \clbrdrt\brdrnil \clbrdrl\brdrnil \clbrdrb\brdrnil \clbrdrr\brdrnil \clpadl200 \clpadr200 \gaph\cellx8640
\pard\intbl\itap1\pardeftab720\qr\partightenfactor0
\cf2 \cell 
\pard\intbl\itap1\pardeftab720\partightenfactor0
\cf2     "print(np.mean(comput_time))\\n",\cell \row

\itap1\trowd \taflags1 \trgaph108\trleft-108 \trcbpat3 \trbrdrl\brdrnil \trbrdrr\brdrnil 
\clvertalt \clshdrawnil \clwWidth1000\clftsWidth3 \clminw1000 \clbrdrt\brdrnil \clbrdrl\brdrnil \clbrdrb\brdrnil \clbrdrr\brdrnil \clpadl200 \clpadr200 \gaph\cellx4320
\clvertalt \clshdrawnil \clwWidth9921822\clftsWidth3 \clbrdrt\brdrnil \clbrdrl\brdrnil \clbrdrb\brdrnil \clbrdrr\brdrnil \clpadl200 \clpadr200 \gaph\cellx8640
\pard\intbl\itap1\pardeftab720\qr\partightenfactor0
\cf2 \cell 
\pard\intbl\itap1\pardeftab720\partightenfactor0
\cf2     "print(1/np.mean(comput_time))\\n",\cell \row

\itap1\trowd \taflags1 \trgaph108\trleft-108 \trcbpat3 \trbrdrl\brdrnil \trbrdrr\brdrnil 
\clvertalt \clshdrawnil \clwWidth1000\clftsWidth3 \clminw1000 \clbrdrt\brdrnil \clbrdrl\brdrnil \clbrdrb\brdrnil \clbrdrr\brdrnil \clpadl200 \clpadr200 \gaph\cellx4320
\clvertalt \clshdrawnil \clwWidth9921822\clftsWidth3 \clbrdrt\brdrnil \clbrdrl\brdrnil \clbrdrb\brdrnil \clbrdrr\brdrnil \clpadl200 \clpadr200 \gaph\cellx8640
\pard\intbl\itap1\pardeftab720\qr\partightenfactor0
\cf2 \cell 
\pard\intbl\itap1\pardeftab720\partightenfactor0
\cf2     "out_bg_sub.release()      \\n",\cell \row

\itap1\trowd \taflags1 \trgaph108\trleft-108 \trcbpat3 \trbrdrl\brdrnil \trbrdrr\brdrnil 
\clvertalt \clshdrawnil \clwWidth1000\clftsWidth3 \clminw1000 \clbrdrt\brdrnil \clbrdrl\brdrnil \clbrdrb\brdrnil \clbrdrr\brdrnil \clpadl200 \clpadr200 \gaph\cellx4320
\clvertalt \clshdrawnil \clwWidth9921822\clftsWidth3 \clbrdrt\brdrnil \clbrdrl\brdrnil \clbrdrb\brdrnil \clbrdrr\brdrnil \clpadl200 \clpadr200 \gaph\cellx8640
\pard\intbl\itap1\pardeftab720\qr\partightenfactor0
\cf2 \cell 
\pard\intbl\itap1\pardeftab720\partightenfactor0
\cf2     "out_otsu.release()  \\n",\cell \row

\itap1\trowd \taflags1 \trgaph108\trleft-108 \trcbpat3 \trbrdrl\brdrnil \trbrdrr\brdrnil 
\clvertalt \clshdrawnil \clwWidth1000\clftsWidth3 \clminw1000 \clbrdrt\brdrnil \clbrdrl\brdrnil \clbrdrb\brdrnil \clbrdrr\brdrnil \clpadl200 \clpadr200 \gaph\cellx4320
\clvertalt \clshdrawnil \clwWidth9921822\clftsWidth3 \clbrdrt\brdrnil \clbrdrl\brdrnil \clbrdrb\brdrnil \clbrdrr\brdrnil \clpadl200 \clpadr200 \gaph\cellx8640
\pard\intbl\itap1\pardeftab720\qr\partightenfactor0
\cf2 \cell 
\pard\intbl\itap1\pardeftab720\partightenfactor0
\cf2     "out_otsu_ero.release()\\n",\cell \row

\itap1\trowd \taflags1 \trgaph108\trleft-108 \trcbpat3 \trbrdrl\brdrnil \trbrdrr\brdrnil 
\clvertalt \clshdrawnil \clwWidth1000\clftsWidth3 \clminw1000 \clbrdrt\brdrnil \clbrdrl\brdrnil \clbrdrb\brdrnil \clbrdrr\brdrnil \clpadl200 \clpadr200 \gaph\cellx4320
\clvertalt \clshdrawnil \clwWidth9921822\clftsWidth3 \clbrdrt\brdrnil \clbrdrl\brdrnil \clbrdrb\brdrnil \clbrdrr\brdrnil \clpadl200 \clpadr200 \gaph\cellx8640
\pard\intbl\itap1\pardeftab720\qr\partightenfactor0
\cf2 \cell 
\pard\intbl\itap1\pardeftab720\partightenfactor0
\cf2     "out_otsu_ball.release()  \\n",\cell \row

\itap1\trowd \taflags1 \trgaph108\trleft-108 \trcbpat3 \trbrdrl\brdrnil \trbrdrr\brdrnil 
\clvertalt \clshdrawnil \clwWidth1000\clftsWidth3 \clminw1000 \clbrdrt\brdrnil \clbrdrl\brdrnil \clbrdrb\brdrnil \clbrdrr\brdrnil \clpadl200 \clpadr200 \gaph\cellx4320
\clvertalt \clshdrawnil \clwWidth9921822\clftsWidth3 \clbrdrt\brdrnil \clbrdrl\brdrnil \clbrdrb\brdrnil \clbrdrr\brdrnil \clpadl200 \clpadr200 \gaph\cellx8640
\pard\intbl\itap1\pardeftab720\qr\partightenfactor0
\cf2 \cell 
\pard\intbl\itap1\pardeftab720\partightenfactor0
\cf2     "out_val_cont.release()\\n",\cell \row

\itap1\trowd \taflags1 \trgaph108\trleft-108 \trcbpat3 \trbrdrl\brdrnil \trbrdrr\brdrnil 
\clvertalt \clshdrawnil \clwWidth1000\clftsWidth3 \clminw1000 \clbrdrt\brdrnil \clbrdrl\brdrnil \clbrdrb\brdrnil \clbrdrr\brdrnil \clpadl200 \clpadr200 \gaph\cellx4320
\clvertalt \clshdrawnil \clwWidth9921822\clftsWidth3 \clbrdrt\brdrnil \clbrdrl\brdrnil \clbrdrb\brdrnil \clbrdrr\brdrnil \clpadl200 \clpadr200 \gaph\cellx8640
\pard\intbl\itap1\pardeftab720\qr\partightenfactor0
\cf2 \cell 
\pard\intbl\itap1\pardeftab720\partightenfactor0
\cf2     "out_ero.release()        \\n",\cell \row

\itap1\trowd \taflags1 \trgaph108\trleft-108 \trcbpat3 \trbrdrl\brdrnil \trbrdrr\brdrnil 
\clvertalt \clshdrawnil \clwWidth1000\clftsWidth3 \clminw1000 \clbrdrt\brdrnil \clbrdrl\brdrnil \clbrdrb\brdrnil \clbrdrr\brdrnil \clpadl200 \clpadr200 \gaph\cellx4320
\clvertalt \clshdrawnil \clwWidth9921822\clftsWidth3 \clbrdrt\brdrnil \clbrdrl\brdrnil \clbrdrb\brdrnil \clbrdrr\brdrnil \clpadl200 \clpadr200 \gaph\cellx8640
\pard\intbl\itap1\pardeftab720\qr\partightenfactor0
\cf2 \cell 
\pard\intbl\itap1\pardeftab720\partightenfactor0
\cf2     "out_dil.release()\\n",\cell \row

\itap1\trowd \taflags1 \trgaph108\trleft-108 \trcbpat3 \trbrdrl\brdrnil \trbrdrr\brdrnil 
\clvertalt \clshdrawnil \clwWidth1000\clftsWidth3 \clminw1000 \clbrdrt\brdrnil \clbrdrl\brdrnil \clbrdrb\brdrnil \clbrdrr\brdrnil \clpadl200 \clpadr200 \gaph\cellx4320
\clvertalt \clshdrawnil \clwWidth9921822\clftsWidth3 \clbrdrt\brdrnil \clbrdrl\brdrnil \clbrdrb\brdrnil \clbrdrr\brdrnil \clpadl200 \clpadr200 \gaph\cellx8640
\pard\intbl\itap1\pardeftab720\qr\partightenfactor0
\cf2 \cell 
\pard\intbl\itap1\pardeftab720\partightenfactor0
\cf2     "out_anot.release()\\n",\cell \row

\itap1\trowd \taflags1 \trgaph108\trleft-108 \trcbpat3 \trbrdrl\brdrnil \trbrdrr\brdrnil 
\clvertalt \clshdrawnil \clwWidth1000\clftsWidth3 \clminw1000 \clbrdrt\brdrnil \clbrdrl\brdrnil \clbrdrb\brdrnil \clbrdrr\brdrnil \clpadl200 \clpadr200 \gaph\cellx4320
\clvertalt \clshdrawnil \clwWidth9921822\clftsWidth3 \clbrdrt\brdrnil \clbrdrl\brdrnil \clbrdrb\brdrnil \clbrdrr\brdrnil \clpadl200 \clpadr200 \gaph\cellx8640
\pard\intbl\itap1\pardeftab720\qr\partightenfactor0
\cf2 \cell 
\pard\intbl\itap1\pardeftab720\partightenfactor0
\cf2     "out_fly.release()\\n",\cell \row

\itap1\trowd \taflags1 \trgaph108\trleft-108 \trcbpat3 \trbrdrl\brdrnil \trbrdrr\brdrnil 
\clvertalt \clshdrawnil \clwWidth1000\clftsWidth3 \clminw1000 \clbrdrt\brdrnil \clbrdrl\brdrnil \clbrdrb\brdrnil \clbrdrr\brdrnil \clpadl200 \clpadr200 \gaph\cellx4320
\clvertalt \clshdrawnil \clwWidth9921822\clftsWidth3 \clbrdrt\brdrnil \clbrdrl\brdrnil \clbrdrb\brdrnil \clbrdrr\brdrnil \clpadl200 \clpadr200 \gaph\cellx8640
\pard\intbl\itap1\pardeftab720\qr\partightenfactor0
\cf2 \cell 
\pard\intbl\itap1\pardeftab720\partightenfactor0
\cf2     "\\n",\cell \row

\itap1\trowd \taflags1 \trgaph108\trleft-108 \trcbpat3 \trbrdrl\brdrnil \trbrdrr\brdrnil 
\clvertalt \clshdrawnil \clwWidth1000\clftsWidth3 \clminw1000 \clbrdrt\brdrnil \clbrdrl\brdrnil \clbrdrb\brdrnil \clbrdrr\brdrnil \clpadl200 \clpadr200 \gaph\cellx4320
\clvertalt \clshdrawnil \clwWidth9921822\clftsWidth3 \clbrdrt\brdrnil \clbrdrl\brdrnil \clbrdrb\brdrnil \clbrdrr\brdrnil \clpadl200 \clpadr200 \gaph\cellx8640
\pard\intbl\itap1\pardeftab720\qr\partightenfactor0
\cf2 \cell 
\pard\intbl\itap1\pardeftab720\partightenfactor0
\cf2     "print(count)"\cell \row

\itap1\trowd \taflags1 \trgaph108\trleft-108 \trcbpat3 \trbrdrl\brdrnil \trbrdrr\brdrnil 
\clvertalt \clshdrawnil \clwWidth1000\clftsWidth3 \clminw1000 \clbrdrt\brdrnil \clbrdrl\brdrnil \clbrdrb\brdrnil \clbrdrr\brdrnil \clpadl200 \clpadr200 \gaph\cellx4320
\clvertalt \clshdrawnil \clwWidth9921822\clftsWidth3 \clbrdrt\brdrnil \clbrdrl\brdrnil \clbrdrb\brdrnil \clbrdrr\brdrnil \clpadl200 \clpadr200 \gaph\cellx8640
\pard\intbl\itap1\pardeftab720\qr\partightenfactor0
\cf2 \cell 
\pard\intbl\itap1\pardeftab720\partightenfactor0
\cf2    ]\cell \row

\itap1\trowd \taflags1 \trgaph108\trleft-108 \trcbpat3 \trbrdrl\brdrnil \trbrdrr\brdrnil 
\clvertalt \clshdrawnil \clwWidth1000\clftsWidth3 \clminw1000 \clbrdrt\brdrnil \clbrdrl\brdrnil \clbrdrb\brdrnil \clbrdrr\brdrnil \clpadl200 \clpadr200 \gaph\cellx4320
\clvertalt \clshdrawnil \clwWidth9921822\clftsWidth3 \clbrdrt\brdrnil \clbrdrl\brdrnil \clbrdrb\brdrnil \clbrdrr\brdrnil \clpadl200 \clpadr200 \gaph\cellx8640
\pard\intbl\itap1\pardeftab720\qr\partightenfactor0
\cf2 \cell 
\pard\intbl\itap1\pardeftab720\partightenfactor0
\cf2   \},\cell \row

\itap1\trowd \taflags1 \trgaph108\trleft-108 \trcbpat3 \trbrdrl\brdrnil \trbrdrr\brdrnil 
\clvertalt \clshdrawnil \clwWidth1000\clftsWidth3 \clminw1000 \clbrdrt\brdrnil \clbrdrl\brdrnil \clbrdrb\brdrnil \clbrdrr\brdrnil \clpadl200 \clpadr200 \gaph\cellx4320
\clvertalt \clshdrawnil \clwWidth9921822\clftsWidth3 \clbrdrt\brdrnil \clbrdrl\brdrnil \clbrdrb\brdrnil \clbrdrr\brdrnil \clpadl200 \clpadr200 \gaph\cellx8640
\pard\intbl\itap1\pardeftab720\qr\partightenfactor0
\cf2 \cell 
\pard\intbl\itap1\pardeftab720\partightenfactor0
\cf2   \{\cell \row

\itap1\trowd \taflags1 \trgaph108\trleft-108 \trcbpat3 \trbrdrl\brdrnil \trbrdrr\brdrnil 
\clvertalt \clshdrawnil \clwWidth1000\clftsWidth3 \clminw1000 \clbrdrt\brdrnil \clbrdrl\brdrnil \clbrdrb\brdrnil \clbrdrr\brdrnil \clpadl200 \clpadr200 \gaph\cellx4320
\clvertalt \clshdrawnil \clwWidth9921822\clftsWidth3 \clbrdrt\brdrnil \clbrdrl\brdrnil \clbrdrb\brdrnil \clbrdrr\brdrnil \clpadl200 \clpadr200 \gaph\cellx8640
\pard\intbl\itap1\pardeftab720\qr\partightenfactor0
\cf2 \cell 
\pard\intbl\itap1\pardeftab720\partightenfactor0
\cf2    "cell_type": "code",\cell \row

\itap1\trowd \taflags1 \trgaph108\trleft-108 \trcbpat3 \trbrdrl\brdrnil \trbrdrr\brdrnil 
\clvertalt \clshdrawnil \clwWidth1000\clftsWidth3 \clminw1000 \clbrdrt\brdrnil \clbrdrl\brdrnil \clbrdrb\brdrnil \clbrdrr\brdrnil \clpadl200 \clpadr200 \gaph\cellx4320
\clvertalt \clshdrawnil \clwWidth9921822\clftsWidth3 \clbrdrt\brdrnil \clbrdrl\brdrnil \clbrdrb\brdrnil \clbrdrr\brdrnil \clpadl200 \clpadr200 \gaph\cellx8640
\pard\intbl\itap1\pardeftab720\qr\partightenfactor0
\cf2 \cell 
\pard\intbl\itap1\pardeftab720\partightenfactor0
\cf2    "execution_count": null,\cell \row

\itap1\trowd \taflags1 \trgaph108\trleft-108 \trcbpat3 \trbrdrl\brdrnil \trbrdrr\brdrnil 
\clvertalt \clshdrawnil \clwWidth1000\clftsWidth3 \clminw1000 \clbrdrt\brdrnil \clbrdrl\brdrnil \clbrdrb\brdrnil \clbrdrr\brdrnil \clpadl200 \clpadr200 \gaph\cellx4320
\clvertalt \clshdrawnil \clwWidth9921822\clftsWidth3 \clbrdrt\brdrnil \clbrdrl\brdrnil \clbrdrb\brdrnil \clbrdrr\brdrnil \clpadl200 \clpadr200 \gaph\cellx8640
\pard\intbl\itap1\pardeftab720\qr\partightenfactor0
\cf2 \cell 
\pard\intbl\itap1\pardeftab720\partightenfactor0
\cf2    "metadata": \{\},\cell \row

\itap1\trowd \taflags1 \trgaph108\trleft-108 \trcbpat3 \trbrdrl\brdrnil \trbrdrr\brdrnil 
\clvertalt \clshdrawnil \clwWidth1000\clftsWidth3 \clminw1000 \clbrdrt\brdrnil \clbrdrl\brdrnil \clbrdrb\brdrnil \clbrdrr\brdrnil \clpadl200 \clpadr200 \gaph\cellx4320
\clvertalt \clshdrawnil \clwWidth9921822\clftsWidth3 \clbrdrt\brdrnil \clbrdrl\brdrnil \clbrdrb\brdrnil \clbrdrr\brdrnil \clpadl200 \clpadr200 \gaph\cellx8640
\pard\intbl\itap1\pardeftab720\qr\partightenfactor0
\cf2 \cell 
\pard\intbl\itap1\pardeftab720\partightenfactor0
\cf2    "outputs": [],\cell \row

\itap1\trowd \taflags1 \trgaph108\trleft-108 \trcbpat3 \trbrdrl\brdrnil \trbrdrr\brdrnil 
\clvertalt \clshdrawnil \clwWidth1000\clftsWidth3 \clminw1000 \clbrdrt\brdrnil \clbrdrl\brdrnil \clbrdrb\brdrnil \clbrdrr\brdrnil \clpadl200 \clpadr200 \gaph\cellx4320
\clvertalt \clshdrawnil \clwWidth9921822\clftsWidth3 \clbrdrt\brdrnil \clbrdrl\brdrnil \clbrdrb\brdrnil \clbrdrr\brdrnil \clpadl200 \clpadr200 \gaph\cellx8640
\pard\intbl\itap1\pardeftab720\qr\partightenfactor0
\cf2 \cell 
\pard\intbl\itap1\pardeftab720\partightenfactor0
\cf2    "source": []\cell \row

\itap1\trowd \taflags1 \trgaph108\trleft-108 \trcbpat3 \trbrdrl\brdrnil \trbrdrr\brdrnil 
\clvertalt \clshdrawnil \clwWidth1000\clftsWidth3 \clminw1000 \clbrdrt\brdrnil \clbrdrl\brdrnil \clbrdrb\brdrnil \clbrdrr\brdrnil \clpadl200 \clpadr200 \gaph\cellx4320
\clvertalt \clshdrawnil \clwWidth9921822\clftsWidth3 \clbrdrt\brdrnil \clbrdrl\brdrnil \clbrdrb\brdrnil \clbrdrr\brdrnil \clpadl200 \clpadr200 \gaph\cellx8640
\pard\intbl\itap1\pardeftab720\qr\partightenfactor0
\cf2 \cell 
\pard\intbl\itap1\pardeftab720\partightenfactor0
\cf2   \}\cell \row

\itap1\trowd \taflags1 \trgaph108\trleft-108 \trcbpat3 \trbrdrl\brdrnil \trbrdrr\brdrnil 
\clvertalt \clshdrawnil \clwWidth1000\clftsWidth3 \clminw1000 \clbrdrt\brdrnil \clbrdrl\brdrnil \clbrdrb\brdrnil \clbrdrr\brdrnil \clpadl200 \clpadr200 \gaph\cellx4320
\clvertalt \clshdrawnil \clwWidth9921822\clftsWidth3 \clbrdrt\brdrnil \clbrdrl\brdrnil \clbrdrb\brdrnil \clbrdrr\brdrnil \clpadl200 \clpadr200 \gaph\cellx8640
\pard\intbl\itap1\pardeftab720\qr\partightenfactor0
\cf2 \cell 
\pard\intbl\itap1\pardeftab720\partightenfactor0
\cf2  ],\cell \row

\itap1\trowd \taflags1 \trgaph108\trleft-108 \trcbpat3 \trbrdrl\brdrnil \trbrdrr\brdrnil 
\clvertalt \clshdrawnil \clwWidth1000\clftsWidth3 \clminw1000 \clbrdrt\brdrnil \clbrdrl\brdrnil \clbrdrb\brdrnil \clbrdrr\brdrnil \clpadl200 \clpadr200 \gaph\cellx4320
\clvertalt \clshdrawnil \clwWidth9921822\clftsWidth3 \clbrdrt\brdrnil \clbrdrl\brdrnil \clbrdrb\brdrnil \clbrdrr\brdrnil \clpadl200 \clpadr200 \gaph\cellx8640
\pard\intbl\itap1\pardeftab720\qr\partightenfactor0
\cf2 \cell 
\pard\intbl\itap1\pardeftab720\partightenfactor0
\cf2  "metadata": \{\cell \row

\itap1\trowd \taflags1 \trgaph108\trleft-108 \trcbpat3 \trbrdrl\brdrnil \trbrdrr\brdrnil 
\clvertalt \clshdrawnil \clwWidth1000\clftsWidth3 \clminw1000 \clbrdrt\brdrnil \clbrdrl\brdrnil \clbrdrb\brdrnil \clbrdrr\brdrnil \clpadl200 \clpadr200 \gaph\cellx4320
\clvertalt \clshdrawnil \clwWidth9921822\clftsWidth3 \clbrdrt\brdrnil \clbrdrl\brdrnil \clbrdrb\brdrnil \clbrdrr\brdrnil \clpadl200 \clpadr200 \gaph\cellx8640
\pard\intbl\itap1\pardeftab720\qr\partightenfactor0
\cf2 \cell 
\pard\intbl\itap1\pardeftab720\partightenfactor0
\cf2   "kernelspec": \{\cell \row

\itap1\trowd \taflags1 \trgaph108\trleft-108 \trcbpat3 \trbrdrl\brdrnil \trbrdrr\brdrnil 
\clvertalt \clshdrawnil \clwWidth1000\clftsWidth3 \clminw1000 \clbrdrt\brdrnil \clbrdrl\brdrnil \clbrdrb\brdrnil \clbrdrr\brdrnil \clpadl200 \clpadr200 \gaph\cellx4320
\clvertalt \clshdrawnil \clwWidth9921822\clftsWidth3 \clbrdrt\brdrnil \clbrdrl\brdrnil \clbrdrb\brdrnil \clbrdrr\brdrnil \clpadl200 \clpadr200 \gaph\cellx8640
\pard\intbl\itap1\pardeftab720\qr\partightenfactor0
\cf2 \cell 
\pard\intbl\itap1\pardeftab720\partightenfactor0
\cf2    "display_name": "Python 3",\cell \row

\itap1\trowd \taflags1 \trgaph108\trleft-108 \trcbpat3 \trbrdrl\brdrnil \trbrdrr\brdrnil 
\clvertalt \clshdrawnil \clwWidth1000\clftsWidth3 \clminw1000 \clbrdrt\brdrnil \clbrdrl\brdrnil \clbrdrb\brdrnil \clbrdrr\brdrnil \clpadl200 \clpadr200 \gaph\cellx4320
\clvertalt \clshdrawnil \clwWidth9921822\clftsWidth3 \clbrdrt\brdrnil \clbrdrl\brdrnil \clbrdrb\brdrnil \clbrdrr\brdrnil \clpadl200 \clpadr200 \gaph\cellx8640
\pard\intbl\itap1\pardeftab720\qr\partightenfactor0
\cf2 \cell 
\pard\intbl\itap1\pardeftab720\partightenfactor0
\cf2    "language": "python",\cell \row

\itap1\trowd \taflags1 \trgaph108\trleft-108 \trcbpat3 \trbrdrl\brdrnil \trbrdrr\brdrnil 
\clvertalt \clshdrawnil \clwWidth1000\clftsWidth3 \clminw1000 \clbrdrt\brdrnil \clbrdrl\brdrnil \clbrdrb\brdrnil \clbrdrr\brdrnil \clpadl200 \clpadr200 \gaph\cellx4320
\clvertalt \clshdrawnil \clwWidth9921822\clftsWidth3 \clbrdrt\brdrnil \clbrdrl\brdrnil \clbrdrb\brdrnil \clbrdrr\brdrnil \clpadl200 \clpadr200 \gaph\cellx8640
\pard\intbl\itap1\pardeftab720\qr\partightenfactor0
\cf2 \cell 
\pard\intbl\itap1\pardeftab720\partightenfactor0
\cf2    "name": "python3"\cell \row

\itap1\trowd \taflags1 \trgaph108\trleft-108 \trcbpat3 \trbrdrl\brdrnil \trbrdrr\brdrnil 
\clvertalt \clshdrawnil \clwWidth1000\clftsWidth3 \clminw1000 \clbrdrt\brdrnil \clbrdrl\brdrnil \clbrdrb\brdrnil \clbrdrr\brdrnil \clpadl200 \clpadr200 \gaph\cellx4320
\clvertalt \clshdrawnil \clwWidth9921822\clftsWidth3 \clbrdrt\brdrnil \clbrdrl\brdrnil \clbrdrb\brdrnil \clbrdrr\brdrnil \clpadl200 \clpadr200 \gaph\cellx8640
\pard\intbl\itap1\pardeftab720\qr\partightenfactor0
\cf2 \cell 
\pard\intbl\itap1\pardeftab720\partightenfactor0
\cf2   \},\cell \row

\itap1\trowd \taflags1 \trgaph108\trleft-108 \trcbpat3 \trbrdrl\brdrnil \trbrdrr\brdrnil 
\clvertalt \clshdrawnil \clwWidth1000\clftsWidth3 \clminw1000 \clbrdrt\brdrnil \clbrdrl\brdrnil \clbrdrb\brdrnil \clbrdrr\brdrnil \clpadl200 \clpadr200 \gaph\cellx4320
\clvertalt \clshdrawnil \clwWidth9921822\clftsWidth3 \clbrdrt\brdrnil \clbrdrl\brdrnil \clbrdrb\brdrnil \clbrdrr\brdrnil \clpadl200 \clpadr200 \gaph\cellx8640
\pard\intbl\itap1\pardeftab720\qr\partightenfactor0
\cf2 \cell 
\pard\intbl\itap1\pardeftab720\partightenfactor0
\cf2   "language_info": \{\cell \row

\itap1\trowd \taflags1 \trgaph108\trleft-108 \trcbpat3 \trbrdrl\brdrnil \trbrdrr\brdrnil 
\clvertalt \clshdrawnil \clwWidth1000\clftsWidth3 \clminw1000 \clbrdrt\brdrnil \clbrdrl\brdrnil \clbrdrb\brdrnil \clbrdrr\brdrnil \clpadl200 \clpadr200 \gaph\cellx4320
\clvertalt \clshdrawnil \clwWidth9921822\clftsWidth3 \clbrdrt\brdrnil \clbrdrl\brdrnil \clbrdrb\brdrnil \clbrdrr\brdrnil \clpadl200 \clpadr200 \gaph\cellx8640
\pard\intbl\itap1\pardeftab720\qr\partightenfactor0
\cf2 \cell 
\pard\intbl\itap1\pardeftab720\partightenfactor0
\cf2    "codemirror_mode": \{\cell \row

\itap1\trowd \taflags1 \trgaph108\trleft-108 \trcbpat3 \trbrdrl\brdrnil \trbrdrr\brdrnil 
\clvertalt \clshdrawnil \clwWidth1000\clftsWidth3 \clminw1000 \clbrdrt\brdrnil \clbrdrl\brdrnil \clbrdrb\brdrnil \clbrdrr\brdrnil \clpadl200 \clpadr200 \gaph\cellx4320
\clvertalt \clshdrawnil \clwWidth9921822\clftsWidth3 \clbrdrt\brdrnil \clbrdrl\brdrnil \clbrdrb\brdrnil \clbrdrr\brdrnil \clpadl200 \clpadr200 \gaph\cellx8640
\pard\intbl\itap1\pardeftab720\qr\partightenfactor0
\cf2 \cell 
\pard\intbl\itap1\pardeftab720\partightenfactor0
\cf2     "name": "ipython",\cell \row

\itap1\trowd \taflags1 \trgaph108\trleft-108 \trcbpat3 \trbrdrl\brdrnil \trbrdrr\brdrnil 
\clvertalt \clshdrawnil \clwWidth1000\clftsWidth3 \clminw1000 \clbrdrt\brdrnil \clbrdrl\brdrnil \clbrdrb\brdrnil \clbrdrr\brdrnil \clpadl200 \clpadr200 \gaph\cellx4320
\clvertalt \clshdrawnil \clwWidth9921822\clftsWidth3 \clbrdrt\brdrnil \clbrdrl\brdrnil \clbrdrb\brdrnil \clbrdrr\brdrnil \clpadl200 \clpadr200 \gaph\cellx8640
\pard\intbl\itap1\pardeftab720\qr\partightenfactor0
\cf2 \cell 
\pard\intbl\itap1\pardeftab720\partightenfactor0
\cf2     "version": 3\cell \row

\itap1\trowd \taflags1 \trgaph108\trleft-108 \trcbpat3 \trbrdrl\brdrnil \trbrdrr\brdrnil 
\clvertalt \clshdrawnil \clwWidth1000\clftsWidth3 \clminw1000 \clbrdrt\brdrnil \clbrdrl\brdrnil \clbrdrb\brdrnil \clbrdrr\brdrnil \clpadl200 \clpadr200 \gaph\cellx4320
\clvertalt \clshdrawnil \clwWidth9921822\clftsWidth3 \clbrdrt\brdrnil \clbrdrl\brdrnil \clbrdrb\brdrnil \clbrdrr\brdrnil \clpadl200 \clpadr200 \gaph\cellx8640
\pard\intbl\itap1\pardeftab720\qr\partightenfactor0
\cf2 \cell 
\pard\intbl\itap1\pardeftab720\partightenfactor0
\cf2    \},\cell \row

\itap1\trowd \taflags1 \trgaph108\trleft-108 \trcbpat3 \trbrdrl\brdrnil \trbrdrr\brdrnil 
\clvertalt \clshdrawnil \clwWidth1000\clftsWidth3 \clminw1000 \clbrdrt\brdrnil \clbrdrl\brdrnil \clbrdrb\brdrnil \clbrdrr\brdrnil \clpadl200 \clpadr200 \gaph\cellx4320
\clvertalt \clshdrawnil \clwWidth9921822\clftsWidth3 \clbrdrt\brdrnil \clbrdrl\brdrnil \clbrdrb\brdrnil \clbrdrr\brdrnil \clpadl200 \clpadr200 \gaph\cellx8640
\pard\intbl\itap1\pardeftab720\qr\partightenfactor0
\cf2 \cell 
\pard\intbl\itap1\pardeftab720\partightenfactor0
\cf2    "file_extension": ".py",\cell \row

\itap1\trowd \taflags1 \trgaph108\trleft-108 \trcbpat3 \trbrdrl\brdrnil \trbrdrr\brdrnil 
\clvertalt \clshdrawnil \clwWidth1000\clftsWidth3 \clminw1000 \clbrdrt\brdrnil \clbrdrl\brdrnil \clbrdrb\brdrnil \clbrdrr\brdrnil \clpadl200 \clpadr200 \gaph\cellx4320
\clvertalt \clshdrawnil \clwWidth9921822\clftsWidth3 \clbrdrt\brdrnil \clbrdrl\brdrnil \clbrdrb\brdrnil \clbrdrr\brdrnil \clpadl200 \clpadr200 \gaph\cellx8640
\pard\intbl\itap1\pardeftab720\qr\partightenfactor0
\cf2 \cell 
\pard\intbl\itap1\pardeftab720\partightenfactor0
\cf2    "mimetype": "text/x-python",\cell \row

\itap1\trowd \taflags1 \trgaph108\trleft-108 \trcbpat3 \trbrdrl\brdrnil \trbrdrr\brdrnil 
\clvertalt \clshdrawnil \clwWidth1000\clftsWidth3 \clminw1000 \clbrdrt\brdrnil \clbrdrl\brdrnil \clbrdrb\brdrnil \clbrdrr\brdrnil \clpadl200 \clpadr200 \gaph\cellx4320
\clvertalt \clshdrawnil \clwWidth9921822\clftsWidth3 \clbrdrt\brdrnil \clbrdrl\brdrnil \clbrdrb\brdrnil \clbrdrr\brdrnil \clpadl200 \clpadr200 \gaph\cellx8640
\pard\intbl\itap1\pardeftab720\qr\partightenfactor0
\cf2 \cell 
\pard\intbl\itap1\pardeftab720\partightenfactor0
\cf2    "name": "python",\cell \row

\itap1\trowd \taflags1 \trgaph108\trleft-108 \trcbpat3 \trbrdrl\brdrnil \trbrdrr\brdrnil 
\clvertalt \clshdrawnil \clwWidth1000\clftsWidth3 \clminw1000 \clbrdrt\brdrnil \clbrdrl\brdrnil \clbrdrb\brdrnil \clbrdrr\brdrnil \clpadl200 \clpadr200 \gaph\cellx4320
\clvertalt \clshdrawnil \clwWidth9921822\clftsWidth3 \clbrdrt\brdrnil \clbrdrl\brdrnil \clbrdrb\brdrnil \clbrdrr\brdrnil \clpadl200 \clpadr200 \gaph\cellx8640
\pard\intbl\itap1\pardeftab720\qr\partightenfactor0
\cf2 \cell 
\pard\intbl\itap1\pardeftab720\partightenfactor0
\cf2    "nbconvert_exporter": "python",\cell \row

\itap1\trowd \taflags1 \trgaph108\trleft-108 \trcbpat3 \trbrdrl\brdrnil \trbrdrr\brdrnil 
\clvertalt \clshdrawnil \clwWidth1000\clftsWidth3 \clminw1000 \clbrdrt\brdrnil \clbrdrl\brdrnil \clbrdrb\brdrnil \clbrdrr\brdrnil \clpadl200 \clpadr200 \gaph\cellx4320
\clvertalt \clshdrawnil \clwWidth9921822\clftsWidth3 \clbrdrt\brdrnil \clbrdrl\brdrnil \clbrdrb\brdrnil \clbrdrr\brdrnil \clpadl200 \clpadr200 \gaph\cellx8640
\pard\intbl\itap1\pardeftab720\qr\partightenfactor0
\cf2 \cell 
\pard\intbl\itap1\pardeftab720\partightenfactor0
\cf2    "pygments_lexer": "ipython3",\cell \row

\itap1\trowd \taflags1 \trgaph108\trleft-108 \trcbpat3 \trbrdrl\brdrnil \trbrdrr\brdrnil 
\clvertalt \clshdrawnil \clwWidth1000\clftsWidth3 \clminw1000 \clbrdrt\brdrnil \clbrdrl\brdrnil \clbrdrb\brdrnil \clbrdrr\brdrnil \clpadl200 \clpadr200 \gaph\cellx4320
\clvertalt \clshdrawnil \clwWidth9921822\clftsWidth3 \clbrdrt\brdrnil \clbrdrl\brdrnil \clbrdrb\brdrnil \clbrdrr\brdrnil \clpadl200 \clpadr200 \gaph\cellx8640
\pard\intbl\itap1\pardeftab720\qr\partightenfactor0
\cf2 \cell 
\pard\intbl\itap1\pardeftab720\partightenfactor0
\cf2    "version": "3.8.10"\cell \row

\itap1\trowd \taflags1 \trgaph108\trleft-108 \trcbpat3 \trbrdrl\brdrnil \trbrdrr\brdrnil 
\clvertalt \clshdrawnil \clwWidth1000\clftsWidth3 \clminw1000 \clbrdrt\brdrnil \clbrdrl\brdrnil \clbrdrb\brdrnil \clbrdrr\brdrnil \clpadl200 \clpadr200 \gaph\cellx4320
\clvertalt \clshdrawnil \clwWidth9921822\clftsWidth3 \clbrdrt\brdrnil \clbrdrl\brdrnil \clbrdrb\brdrnil \clbrdrr\brdrnil \clpadl200 \clpadr200 \gaph\cellx8640
\pard\intbl\itap1\pardeftab720\qr\partightenfactor0
\cf2 \cell 
\pard\intbl\itap1\pardeftab720\partightenfactor0
\cf2   \}\cell \row

\itap1\trowd \taflags1 \trgaph108\trleft-108 \trcbpat3 \trbrdrl\brdrnil \trbrdrr\brdrnil 
\clvertalt \clshdrawnil \clwWidth1000\clftsWidth3 \clminw1000 \clbrdrt\brdrnil \clbrdrl\brdrnil \clbrdrb\brdrnil \clbrdrr\brdrnil \clpadl200 \clpadr200 \gaph\cellx4320
\clvertalt \clshdrawnil \clwWidth9921822\clftsWidth3 \clbrdrt\brdrnil \clbrdrl\brdrnil \clbrdrb\brdrnil \clbrdrr\brdrnil \clpadl200 \clpadr200 \gaph\cellx8640
\pard\intbl\itap1\pardeftab720\qr\partightenfactor0
\cf2 \cell 
\pard\intbl\itap1\pardeftab720\partightenfactor0
\cf2  \},\cell \row

\itap1\trowd \taflags1 \trgaph108\trleft-108 \trcbpat3 \trbrdrl\brdrnil \trbrdrr\brdrnil 
\clvertalt \clshdrawnil \clwWidth1000\clftsWidth3 \clminw1000 \clbrdrt\brdrnil \clbrdrl\brdrnil \clbrdrb\brdrnil \clbrdrr\brdrnil \clpadl200 \clpadr200 \gaph\cellx4320
\clvertalt \clshdrawnil \clwWidth9921822\clftsWidth3 \clbrdrt\brdrnil \clbrdrl\brdrnil \clbrdrb\brdrnil \clbrdrr\brdrnil \clpadl200 \clpadr200 \gaph\cellx8640
\pard\intbl\itap1\pardeftab720\qr\partightenfactor0
\cf2 \cell 
\pard\intbl\itap1\pardeftab720\partightenfactor0
\cf2  "nbformat": 4,\cell \row

\itap1\trowd \taflags1 \trgaph108\trleft-108 \trcbpat3 \trbrdrl\brdrnil \trbrdrr\brdrnil 
\clvertalt \clshdrawnil \clwWidth1000\clftsWidth3 \clminw1000 \clbrdrt\brdrnil \clbrdrl\brdrnil \clbrdrb\brdrnil \clbrdrr\brdrnil \clpadl200 \clpadr200 \gaph\cellx4320
\clvertalt \clshdrawnil \clwWidth9921822\clftsWidth3 \clbrdrt\brdrnil \clbrdrl\brdrnil \clbrdrb\brdrnil \clbrdrr\brdrnil \clpadl200 \clpadr200 \gaph\cellx8640
\pard\intbl\itap1\pardeftab720\qr\partightenfactor0
\cf2 \cell 
\pard\intbl\itap1\pardeftab720\partightenfactor0
\cf2  "nbformat_minor": 5\cell \row

\itap1\trowd \taflags1 \trgaph108\trleft-108 \trcbpat3 \trbrdrl\brdrnil \trbrdrt\brdrnil \trbrdrr\brdrnil 
\clvertalt \clshdrawnil \clwWidth1000\clftsWidth3 \clminw1000 \clbrdrt\brdrnil \clbrdrl\brdrnil \clbrdrb\brdrnil \clbrdrr\brdrnil \clpadl200 \clpadr200 \gaph\cellx4320
\clvertalt \clshdrawnil \clwWidth9921822\clftsWidth3 \clbrdrt\brdrnil \clbrdrl\brdrnil \clbrdrb\brdrnil \clbrdrr\brdrnil \clpadl200 \clpadr200 \gaph\cellx8640
\pard\intbl\itap1\pardeftab720\qr\partightenfactor0
\cf2 \cell 
\pard\intbl\itap1\pardeftab720\partightenfactor0
\cf2 \}\cell \lastrow\row
}