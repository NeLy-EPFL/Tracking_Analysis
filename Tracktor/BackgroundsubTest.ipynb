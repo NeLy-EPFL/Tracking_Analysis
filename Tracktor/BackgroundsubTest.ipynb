{
 "cells": [
  {
   "cell_type": "code",
   "execution_count": 5,
   "metadata": {
    "collapsed": true
   },
   "outputs": [
    {
     "name": "stdout",
     "output_type": "stream",
     "text": [
      "/mnt/labserver/DURRIEU_Matthias/Experimental_data/Optogenetics/Optobot/MultiMazeBiS_15_Steel_Wax/Female_Starved_noWater/221116/102044_s0a0_p6-0/Arena1/Arena1.mp4\n",
      "/mnt/labserver/DURRIEU_Matthias/Experimental_data/Optogenetics/Optobot/MultiMazeBiS_15_Steel_Wax/Female_Starved_noWater/221116/102044_s0a0_p6-0/Arena2/Arena2.mp4\n"
     ]
    },
    {
     "name": "stderr",
     "output_type": "stream",
     "text": [
      "[mpeg4 @ 0x48b3f40] header damaged\n",
      "[mpeg4 @ 0x4456540] header damaged\n",
      "[mpeg4 @ 0x4495400] Context scratch buffers could not be allocated due to unknown size.\n",
      "[mpeg4 @ 0x4495400] warning: first frame is no keyframe\n"
     ]
    },
    {
     "ename": "AttributeError",
     "evalue": "'NoneType' object has no attribute 'shape'",
     "output_type": "error",
     "traceback": [
      "\u001B[0;31m---------------------------------------------------------------------------\u001B[0m",
      "\u001B[0;31mAttributeError\u001B[0m                            Traceback (most recent call last)",
      "Cell \u001B[0;32mIn [5], line 27\u001B[0m\n\u001B[1;32m     23\u001B[0m scaling \u001B[38;5;241m=\u001B[39m \u001B[38;5;241m1.0\u001B[39m\n\u001B[1;32m     25\u001B[0m \u001B[38;5;66;03m# Set framesize as the same one as the images read from input video\u001B[39;00m\n\u001B[1;32m     26\u001B[0m BG_framesize \u001B[38;5;241m=\u001B[39m (\n\u001B[0;32m---> 27\u001B[0m     \u001B[38;5;28mint\u001B[39m(\u001B[43mcap\u001B[49m\u001B[38;5;241;43m.\u001B[39;49m\u001B[43mread\u001B[49m\u001B[43m(\u001B[49m\u001B[43m)\u001B[49m\u001B[43m[\u001B[49m\u001B[38;5;241;43m1\u001B[39;49m\u001B[43m]\u001B[49m\u001B[38;5;241;43m.\u001B[39;49m\u001B[43mshape\u001B[49m[\u001B[38;5;241m1\u001B[39m] \u001B[38;5;241m*\u001B[39m scaling),\n\u001B[1;32m     28\u001B[0m     \u001B[38;5;28mint\u001B[39m(cap\u001B[38;5;241m.\u001B[39mread()[\u001B[38;5;241m1\u001B[39m]\u001B[38;5;241m.\u001B[39mshape[\u001B[38;5;241m0\u001B[39m] \u001B[38;5;241m*\u001B[39m scaling),\n\u001B[1;32m     29\u001B[0m )\n\u001B[1;32m     31\u001B[0m fourcc \u001B[38;5;241m=\u001B[39m cv2\u001B[38;5;241m.\u001B[39mVideoWriter_fourcc(\u001B[38;5;241m*\u001B[39mcodec)\n\u001B[1;32m     32\u001B[0m \u001B[38;5;66;03m# Create a Video writer with the desired parameters\u001B[39;00m\n",
      "\u001B[0;31mAttributeError\u001B[0m: 'NoneType' object has no attribute 'shape'"
     ]
    }
   ],
   "source": [
    "import cv2\n",
    "import random\n",
    "from pathlib import Path\n",
    "\n",
    "\n",
    "DataPath = Path (\"/mnt/labserver/DURRIEU_Matthias/Experimental_data/Optogenetics/Optobot/MultiMazeBiS_15_Steel_Wax/Female_Starved_noWater/221116\")\n",
    "Filters = ['Results', 'BadExp', 'Trimmed', 'p6-0_80fps.mp4']\n",
    "\n",
    "Files = [path for path in DataPath.rglob('*.mp4') if any(match in path.as_posix() for match in Filters) is False]\n",
    "\n",
    "for file in Files:\n",
    "        print (file.as_posix())\n",
    "\n",
    "        input_vidpath = file.as_posix()\n",
    "        output_vidpath = str(file).replace(file.stem, file.stem + \"_tracked\")\n",
    "        codec = \"mp4v\"\n",
    "\n",
    "        fgbg5 = cv2.bgsegm.createBackgroundSubtractorGSOC(\n",
    "        )\n",
    "\n",
    "        cap = cv2.VideoCapture(input_vidpath)\n",
    "\n",
    "        scaling = 1.0\n",
    "\n",
    "        # Set framesize as the same one as the images read from input video\n",
    "        BG_framesize = (\n",
    "            int(cap.read()[1].shape[1] * scaling),\n",
    "            int(cap.read()[1].shape[0] * scaling),\n",
    "        )\n",
    "\n",
    "        fourcc = cv2.VideoWriter_fourcc(*codec)\n",
    "        # Create a Video writer with the desired parameters\n",
    "        Background_Generator = cv2.VideoWriter(\n",
    "            filename=file.parent.joinpath(\"Background_Generator.mp4\").as_posix(),\n",
    "            fourcc=fourcc,\n",
    "            fps=80,\n",
    "            frameSize=BG_framesize,\n",
    "            # isColor=True,\n",
    "        )\n",
    "\n",
    "        # Write a video with random frames taken in the input video\n",
    "        f = 0\n",
    "        while f <= 300:\n",
    "            # get total number of frames\n",
    "            totalFrames = cap.get(cv2.CAP_PROP_FRAME_COUNT)\n",
    "            randomFrameNumber = random.randint(0, totalFrames)\n",
    "            # set frame position\n",
    "            cap.set(cv2.CAP_PROP_POS_FRAMES, randomFrameNumber)\n",
    "            success, image = cap.read()\n",
    "\n",
    "            if success:\n",
    "\n",
    "                Background_Generator.write(image)\n",
    "\n",
    "            f += 1\n",
    "\n",
    "        cap.release()\n",
    "        Background_Generator.release()\n",
    "        cv2.destroyAllWindows()\n",
    "\n",
    "        # Adjust using live rendering to get a clean background image. Default : 500\n",
    "\n",
    "        cap = cv2.VideoCapture(file.parent.joinpath( \"Background_Generator.mp4\").as_posix())\n",
    "\n",
    "        target = 0\n",
    "        cap.set(\n",
    "            1, target\n",
    "        )  # Set the starting point, try to find a section where the fly moves a lot.\n",
    "\n",
    "        Frame = target + 300\n",
    "\n",
    "        while 1:\n",
    "            # read frames\n",
    "            ret, img = cap.read()\n",
    "            this = cap.get(1)\n",
    "\n",
    "            # apply mask for background subtraction\n",
    "            # fgbg5 is a GSOC background subtraction algorithm\n",
    "            fgmask5 = fgbg5.apply(img)\n",
    "\n",
    "            bg = fgbg5.getBackgroundImage()\n",
    "\n",
    "            #cv2.imshow(\"Original\", img)\n",
    "            #cv2.imshow(\"GSOC\", fgmask5)\n",
    "            #cv2.imshow(\"background\", bg)\n",
    "            subtracted = cv2.absdiff(img, bg)\n",
    "\n",
    "            if this == Frame:\n",
    "\n",
    "                cv2.imwrite(file.parent.joinpath(file.stem+\"_Background.jpg\").as_posix(), bg)\n",
    "                break\n",
    "\n",
    "            k = cv2.waitKey(30) & 0xFF\n",
    "            if k == 27:\n",
    "                break\n",
    "\n",
    "        cap.release()\n",
    "        cv2.destroyAllWindows()\n",
    "        cv2.waitKey(1)\n",
    "\n",
    "        file.parent.joinpath(\"Background_Generator.mp4\").unlink()"
   ]
  },
  {
   "cell_type": "code",
   "execution_count": 38,
   "outputs": [],
   "source": [
    "VidPath = Path('/mnt/labserver/DURRIEU_Matthias/Experimental_data/Optogenetics/Optobot/MultiMazeBiS_15_Steel_Wax/Female_Starved_noWater/221116/102044_s0a0_p6-0/Small_Arena4/Arena4.mp4')"
   ],
   "metadata": {
    "collapsed": false
   }
  },
  {
   "cell_type": "code",
   "execution_count": 39,
   "outputs": [
    {
     "name": "stdout",
     "output_type": "stream",
     "text": [
      "/mnt/labserver/DURRIEU_Matthias/Experimental_data/Optogenetics/Optobot/MultiMazeBiS_15_Steel_Wax/Female_Starved_noWater/221116/102044_s0a0_p6-0/Small_Arena4/Arena4.mp4\n"
     ]
    }
   ],
   "source": [
    "print (VidPath.as_posix())\n",
    "\n",
    "input_vidpath = VidPath.as_posix()\n",
    "output_vidpath = str(VidPath).replace(VidPath.stem, VidPath.stem + \"_tracked\")\n",
    "codec = \"mp4v\"\n",
    "\n",
    "fgbg5 = cv2.bgsegm.createBackgroundSubtractorGSOC(\n",
    ")"
   ],
   "metadata": {
    "collapsed": false
   }
  },
  {
   "cell_type": "code",
   "execution_count": 40,
   "outputs": [],
   "source": [
    "\n",
    "cap = cv2.VideoCapture(input_vidpath)\n",
    "\n",
    "scaling = 1.0"
   ],
   "metadata": {
    "collapsed": false
   }
  },
  {
   "cell_type": "code",
   "execution_count": 41,
   "outputs": [],
   "source": [
    "\n",
    "# Set framesize as the same one as the images read from input video\n",
    "BG_framesize = (\n",
    "    int(cap.read()[1].shape[1] * scaling),\n",
    "    int(cap.read()[1].shape[0] * scaling),\n",
    ")"
   ],
   "metadata": {
    "collapsed": false
   }
  },
  {
   "cell_type": "code",
   "execution_count": 42,
   "outputs": [],
   "source": [
    "\n",
    "fourcc = cv2.VideoWriter_fourcc(*codec)\n",
    "# Create a Video writer with the desired parameters\n",
    "Background_Generator = cv2.VideoWriter(\n",
    "    filename=file.parent.joinpath(\"Background_Generator.mp4\").as_posix(),\n",
    "    fourcc=fourcc,\n",
    "    fps=80,\n",
    "    frameSize=BG_framesize,\n",
    "    # isColor=True,\n",
    ")"
   ],
   "metadata": {
    "collapsed": false
   }
  },
  {
   "cell_type": "code",
   "execution_count": 43,
   "outputs": [],
   "source": [
    "\n",
    "# Write a video with random frames taken in the input video\n",
    "f = 0\n",
    "while f <= 300:\n",
    "    # get total number of frames\n",
    "    totalFrames = cap.get(cv2.CAP_PROP_FRAME_COUNT)\n",
    "    randomFrameNumber = random.randint(0, totalFrames)\n",
    "    # set frame position\n",
    "    cap.set(cv2.CAP_PROP_POS_FRAMES, randomFrameNumber)\n",
    "    success, image = cap.read()\n",
    "\n",
    "    if success:\n",
    "\n",
    "        Background_Generator.write(image)\n",
    "\n",
    "    f += 1\n",
    "\n",
    "cap.release()\n",
    "Background_Generator.release()\n",
    "cv2.destroyAllWindows()"
   ],
   "metadata": {
    "collapsed": false
   }
  },
  {
   "cell_type": "code",
   "execution_count": null,
   "outputs": [],
   "source": [],
   "metadata": {
    "collapsed": false
   }
  }
 ],
 "metadata": {
  "kernelspec": {
   "display_name": "Python 3",
   "language": "python",
   "name": "python3"
  },
  "language_info": {
   "codemirror_mode": {
    "name": "ipython",
    "version": 2
   },
   "file_extension": ".py",
   "mimetype": "text/x-python",
   "name": "python",
   "nbconvert_exporter": "python",
   "pygments_lexer": "ipython2",
   "version": "2.7.6"
  }
 },
 "nbformat": 4,
 "nbformat_minor": 0
}
