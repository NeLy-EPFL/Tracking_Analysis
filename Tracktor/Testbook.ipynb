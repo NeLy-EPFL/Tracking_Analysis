{
 "cells": [
  {
   "cell_type": "code",
   "execution_count": 1,
   "metadata": {
    "collapsed": true
   },
   "outputs": [],
   "source": [
    "import numpy as np\n",
    "import pandas as pd\n",
    "import tracktor as tr\n",
    "import cv2\n",
    "import sys\n",
    "import scipy.signal\n",
    "from scipy.optimize import linear_sum_assignment\n",
    "from scipy.spatial.distance import cdist\n",
    "\n"
   ]
  },
  {
   "cell_type": "code",
   "execution_count": 2,
   "outputs": [],
   "source": [
    "# colours is a vector of BGR values which are used to identify individuals in the video\n",
    "# s_id is spider id and is also used for individual identification\n",
    "# since we only have two individuals, the program will only use the first two elements from these arrays (s_id and colours)\n",
    "# number of elements in colours should be greater than n_inds (THIS IS NECESSARY FOR VISUALISATION ONLY)\n",
    "# number of elements in s_id should be greater than n_inds (THIS IS NECESSARY TO GET INDIVIDUAL-SPECIFIC DATA)\n",
    "n_inds = 1\n",
    "s_id = ['A', 'B', 'C', 'D', 'E', 'F', 'G', 'H']\n",
    "colours = [(0,0,255),(0,255,255),(255,0,255),(0,0,0),(255,255,0),(255,0,0),(0,255,0),(255,255,255)]\n",
    "\n",
    "# this is the block_size and offset used for adaptive thresholding (block_size should always be odd)\n",
    "# these values are critical for tracking performance\n",
    "block_size = 53\n",
    "offset = 6 # 3 regularly comes up as a good value\n",
    "\n",
    "threshold = 55 # for binary thresholding\n",
    "\n",
    "# minimum area and maximum area occupied by the animal in number of pixels\n",
    "# this parameter is used to get rid of other objects in view that might be hard to threshold out but are differently sized\n",
    "# in this case, the range is wide because males vastly smaller than females\n",
    "min_area = 1 # target 1500\n",
    "max_area = 5000 # target 3500\n",
    "\n",
    "# the scaling parameter can be used to speed up tracking if video resolution is too high (use value 0-1)\n",
    "scaling = 1.0\n",
    "\n",
    "# kernel for erosion and dilation\n",
    "# useful since thin spider limbs are sometimes detected as separate objects\n",
    "kernel = np.ones((2,2),np.uint8)\n",
    "\n",
    "# mot determines whether the tracker is being used in noisy conditions to track a single object or for multi-object\n",
    "# using this will enable k-means clustering to force n_inds number of animals\n",
    "mot = False\n",
    "#/Users/ulric/Desktop/TestVids/FullVideoTest/Source.mp4\n",
    "# name of source video and paths\n",
    "video = 'Tile1_Merged'\n",
    "input_vidpath = '/Users/ulric/Desktop/' + video + '.mp4'\n",
    "output_vidpath = '/Users/ulric/Desktop/' + video + '_tracked.mp4'\n",
    "output_filepath = '/Users/ulric/Desktop/' + video + '_tracked.csv'\n",
    "codec = 'mp4v' # try other codecs if the default doesn't work ('DIVX', 'avc1', 'XVID') note: this list is non-exhaustive\n",
    "\n",
    "cap = cv2.VideoCapture(input_vidpath)\n",
    "if cap.isOpened() == False:\n",
    "    sys.exit('Video file cannot be read! Please check input_vidpath to ensure it is correctly pointing to the video file')"
   ],
   "metadata": {
    "collapsed": false,
    "pycharm": {
     "name": "#%%\n"
    }
   }
  },
  {
   "cell_type": "code",
   "execution_count": 2,
   "outputs": [],
   "source": [
    "#Produce a background frame\n",
    "\n",
    "FOI = cap.get(cv2.CAP_PROP_FRAME_COUNT) * np.random.uniform(size=30)\n",
    "frames = []\n",
    "for frameOI in FOI:\n",
    "    cap.set(cv2.CAP_PROP_POS_FRAMES, frameOI)\n",
    "    ret, frame = cap.read()\n",
    "    frames.append(frame)\n",
    "result2 = np.median(frames, axis=0).astype(dtype=np.uint8)\n",
    "\n",
    "#cv2.imshow(\"Median filtering result\", result2)\n",
    "#cv2.waitKey(0)"
   ],
   "metadata": {
    "collapsed": false,
    "pycharm": {
     "name": "#%%\n"
    }
   }
  },
  {
   "cell_type": "code",
   "execution_count": 3,
   "outputs": [
    {
     "ename": "KeyboardInterrupt",
     "evalue": "",
     "output_type": "error",
     "traceback": [
      "\u001B[0;31m---------------------------------------------------------------------------\u001B[0m",
      "\u001B[0;31mKeyboardInterrupt\u001B[0m                         Traceback (most recent call last)",
      "Input \u001B[0;32mIn [3]\u001B[0m, in \u001B[0;36m<module>\u001B[0;34m\u001B[0m\n\u001B[1;32m     29\u001B[0m     fgmask \u001B[38;5;241m=\u001B[39m fgbg\u001B[38;5;241m.\u001B[39mapply(frame)\n\u001B[1;32m     30\u001B[0m     \u001B[38;5;66;03m#mask = frame - result2\u001B[39;00m\n\u001B[1;32m     31\u001B[0m     \u001B[38;5;66;03m#thresh = tr.colour_to_thresh(mask, block_size, offset)\u001B[39;00m\n\u001B[1;32m     32\u001B[0m \n\u001B[0;32m   (...)\u001B[0m\n\u001B[1;32m     47\u001B[0m     \u001B[38;5;66;03m#out.write(final)\u001B[39;00m\n\u001B[1;32m     48\u001B[0m     \u001B[38;5;66;03m#cv2.imshow('frame', final)\u001B[39;00m\n\u001B[0;32m---> 49\u001B[0m     \u001B[43mcv2\u001B[49m\u001B[38;5;241;43m.\u001B[39;49m\u001B[43mimshow\u001B[49m\u001B[43m(\u001B[49m\u001B[38;5;124;43m'\u001B[39;49m\u001B[38;5;124;43mframe\u001B[39;49m\u001B[38;5;124;43m'\u001B[39;49m\u001B[43m,\u001B[49m\u001B[43m \u001B[49m\u001B[43mfgmask\u001B[49m\u001B[43m)\u001B[49m\n\u001B[1;32m     50\u001B[0m     \u001B[38;5;66;03m#if cv2.waitKey(1) == 27 or meas_now[0][0] < 20 or meas_now[0][0] > cap.get(3) - 20 or meas_now[0][1] < 20 or meas_now[0][1] > cap.get(4) - 20:\u001B[39;00m\n\u001B[1;32m     51\u001B[0m         \u001B[38;5;66;03m#break\u001B[39;00m\n\u001B[1;32m     53\u001B[0m \u001B[38;5;28;01mif\u001B[39;00m last \u001B[38;5;241m>\u001B[39m\u001B[38;5;241m=\u001B[39m this:\n",
      "\u001B[0;31mKeyboardInterrupt\u001B[0m: "
     ]
    }
   ],
   "source": [
    "## Video writer class to output video with contour and centroid of tracked object(s)\n",
    "# make sure the frame size matches size of array 'final'\n",
    "fourcc = cv2.VideoWriter_fourcc(*codec)\n",
    "output_framesize = (int(cap.read()[1].shape[1]*scaling),int(cap.read()[1].shape[0]*scaling))\n",
    "out = cv2.VideoWriter(filename = output_vidpath, fourcc = fourcc, fps = 30.0, frameSize = output_framesize, isColor = True)\n",
    "\n",
    "## Individual location(s) measured in the last and current step\n",
    "meas_last = list(np.zeros((n_inds,2)))\n",
    "meas_now = list(np.zeros((n_inds,2)))\n",
    "\n",
    "last = 0\n",
    "df = []\n",
    "fgbg = cv2.createBackgroundSubtractorMOG2()\n",
    "#cv2.createBackgroundSubtractorMOG2()\n",
    "#fgbg2 = bg.createBackgroundSubtractorMOG()\n",
    "#fgbg2 = cv2.createBackgroundSubtractorMOG2()\n",
    "\n",
    "#fgbg3 = cv2.createBackgroundSubtractorKNN()\n",
    "#fgbg = cv2.bgsegm.createBackgroundSubtractorGMG()\n",
    "\n",
    "\n",
    "while(True):\n",
    "    # Capture frame-by-frame\n",
    "    ret, frame = cap.read()\n",
    "\n",
    "    this = cap.get(1)\n",
    "    if ret == True:\n",
    "        frame = cv2.resize(frame, None, fx = scaling, fy = scaling, interpolation = cv2.INTER_LINEAR)\n",
    "        fgmask = fgbg.apply(frame)\n",
    "        #mask = frame - result2\n",
    "        #thresh = tr.colour_to_thresh(mask, block_size, offset)\n",
    "\n",
    "        #thresh = tr.colour_to_thresh_binary(fgmask, threshold)\n",
    "\n",
    "        #thresh = cv2.erode(thresh, kernel, iterations = 3)\n",
    "        #thresh = cv2.dilate(thresh, kernel, iterations = 2)\n",
    "\n",
    "        #final, contours, meas_last, meas_now = tr.detect_and_draw_contours(frame, fgmask, meas_last, meas_now, min_area, max_area)\n",
    "        #row_ind, col_ind = tr.hungarian_algorithm(meas_last, meas_now)\n",
    "        #final, meas_now, df = tr.reorder_and_draw(final, colours, n_inds, col_ind, meas_now, df, mot, this)\n",
    "\n",
    "        # Create output dataframe\n",
    "        #for i in range(n_inds):\n",
    "          #  df.append([this, meas_now[i][0], meas_now[i][1]])\n",
    "\n",
    "        # Display the resulting frame\n",
    "        #out.write(final)\n",
    "        #cv2.imshow('frame', final)\n",
    "        #cv2.imshow('frame', fgmask)\n",
    "        #if cv2.waitKey(1) == 27 or meas_now[0][0] < 20 or meas_now[0][0] > cap.get(3) - 20 or meas_now[0][1] < 20 or meas_now[0][1] > cap.get(4) - 20:\n",
    "            #break\n",
    "\n",
    "    if last >= this:\n",
    "        break\n",
    "\n",
    "    last = this\n",
    "\n",
    "## Write positions to file\n",
    "#df = pd.DataFrame(np.matrix(df), columns = ['frame','pos_x','pos_y'])\n",
    "#df.to_csv(output_filepath, sep=',')\n",
    "\n",
    "## When everything done, release the capture\n",
    "cap.release()\n",
    "out.release()\n",
    "cv2.destroyAllWindows()\n",
    "cv2.waitKey(1)\n"
   ],
   "metadata": {
    "collapsed": false,
    "pycharm": {
     "name": "#%%\n"
    }
   }
  },
  {
   "cell_type": "markdown",
   "source": [
    "## Plot tracks\n",
    "The code below allows you to see individual tracks. By counting the number of jumps in the tracks, one can identify number of false detections."
   ],
   "metadata": {
    "collapsed": false,
    "pycharm": {
     "name": "#%% md\n"
    }
   }
  },
  {
   "cell_type": "code",
   "execution_count": 4,
   "outputs": [],
   "source": [
    "df = pd.read_csv(output_filepath)\n",
    "df.head()"
   ],
   "metadata": {
    "collapsed": false,
    "pycharm": {
     "name": "#%%\n"
    }
   }
  },
  {
   "cell_type": "code",
   "execution_count": 5,
   "outputs": [
    {
     "data": {
      "text/plain": "-1"
     },
     "execution_count": 5,
     "metadata": {},
     "output_type": "execute_result"
    }
   ],
   "source": [
    "for num,val in enumerate(np.unique(df['id'])):\n",
    "    df.loc[df['id'] == val, 'id'] = num\n",
    "\n",
    "df.head()"
   ],
   "metadata": {
    "collapsed": false,
    "pycharm": {
     "name": "#%%\n"
    }
   }
  },
  {
   "cell_type": "code",
   "source": [
    "import matplotlib.pyplot as plt\n",
    "\n",
    "plt.figure(figsize=(10,10))\n",
    "plt.scatter(df['pos_x'], df['pos_y'], c=df['id'])\n",
    "plt.xlabel('pos_x')\n",
    "plt.ylabel('pos_y')\n",
    "plt.show()"
   ],
   "metadata": {
    "collapsed": false,
    "pycharm": {
     "name": "#%%\n"
    }
   },
   "execution_count": null,
   "outputs": []
  },
  {
   "cell_type": "markdown",
   "source": [
    "## Identifying true/false detections\n",
    "Here, we use individual movement speeds to identify false detections. All frames where individuals move faster than their body length are considered false detections.\n",
    "\n",
    "NOTE: The methode used here underestimates false detections."
   ],
   "metadata": {
    "collapsed": false,
    "pycharm": {
     "name": "#%% md\n"
    }
   }
  },
  {
   "cell_type": "code",
   "execution_count": 7,
   "outputs": [
    {
     "name": "stderr",
     "output_type": "stream",
     "text": [
      "The PostScript backend does not support transparency; partially transparent artists will be rendered opaque.\n"
     ]
    },
    {
     "data": {
      "text/plain": "<Figure size 360x360 with 1 Axes>",
      "image/png": "[encoded data removed]"
     },
     "metadata": {
      "needs_background": "light"
     },
     "output_type": "display_data"
    },
    {
     "data": {
      "text/plain": "<Figure size 360x360 with 1 Axes>",
      "image/png": "[encoded data removed]"
     },
     "metadata": {
      "needs_background": "light"
     },
     "output_type": "display_data"
    }
   ],
   "source": [
    "dx = df['pos_x'] - df['pos_x'].shift(n_inds)\n",
    "dy = df['pos_y'] - df['pos_y'].shift(n_inds)\n",
    "df['speed'] = np.sqrt(dx**2 + dy**2)\n",
    "df.head()"
   ],
   "metadata": {
    "collapsed": false,
    "pycharm": {
     "name": "#%%\n"
    }
   }
  },
  {
   "cell_type": "code",
   "execution_count": 8,
   "outputs": [],
   "source": [
    "thresh = np.array([34.5, 31.8, 33.3, 31.8])"
   ],
   "metadata": {
    "collapsed": false,
    "pycharm": {
     "name": "#%%\n"
    }
   }
  },
  {
   "cell_type": "markdown",
   "source": [
    "True detection rate / individual"
   ],
   "metadata": {
    "collapsed": false,
    "pycharm": {
     "name": "#%% md\n"
    }
   }
  },
  {
   "cell_type": "code",
   "execution_count": 10,
   "outputs": [],
   "source": [
    "for i in np.unique(df['id']):\n",
    "    print(1-len(np.where(df[df['id'] == i]['speed'] > thresh[i])[0]) / max(df['frame']))"
   ],
   "metadata": {
    "collapsed": false,
    "pycharm": {
     "name": "#%%\n"
    }
   }
  },
  {
   "cell_type": "code",
   "execution_count": null,
   "outputs": [],
   "source": [],
   "metadata": {
    "collapsed": false,
    "pycharm": {
     "name": "#%%\n"
    }
   }
  }
 ],
 "metadata": {
  "kernelspec": {
   "name": "flytrack",
   "language": "python",
   "display_name": "python(flytrack)"
  },
  "language_info": {
   "codemirror_mode": {
    "name": "ipython",
    "version": 2
   },
   "file_extension": ".py",
   "mimetype": "text/x-python",
   "name": "python",
   "nbconvert_exporter": "python",
   "pygments_lexer": "ipython2",
   "version": "2.7.6"
  }
 },
 "nbformat": 4,
 "nbformat_minor": 0
}