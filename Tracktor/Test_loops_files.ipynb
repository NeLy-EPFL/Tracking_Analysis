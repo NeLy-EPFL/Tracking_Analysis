{
 "cells": [
  {
   "cell_type": "code",
   "execution_count": 9,
   "outputs": [],
   "source": [
    "import matplotlib.pyplot as plt\n",
    "import numpy as np\n",
    "import pandas as pd\n",
    "import os\n",
    "from os import listdir\n",
    "from os.path import isfile, join\n",
    "import os.path\n",
    "import numpy as np\n",
    "import matplotlib as mpl\n",
    "from os import walk\n",
    "import cv2\n",
    "import random"
   ],
   "metadata": {
    "collapsed": false,
    "pycharm": {
     "name": "#%%\n"
    }
   }
  },
  {
   "cell_type": "code",
   "execution_count": 3,
   "outputs": [],
   "source": [
    "DataPath = \"/Volumes/Universal_HD/VideoAnalysis/SingleObject\"\n",
    "\n",
    "for dirpath, dirnames, filenames in os.walk(DataPath):\n",
    "    if 'Results' in dirnames:\n",
    "        dirnames.remove('Results')\n",
    "    for filename in [f for f in filenames if f.endswith(\".csv\")]:\n",
    "        print (os.path.join(dirpath, filename))"
   ],
   "metadata": {
    "collapsed": false,
    "pycharm": {
     "name": "#%%\n"
    }
   }
  },
  {
   "cell_type": "code",
   "execution_count": null,
   "outputs": [],
   "source": [
    "for dirpath, dirnames, filenames in os.walk(DataPath):\n",
    "    if 'Results' in dirnames:\n",
    "        dirnames.remove('Results')\n",
    "    for filename in [f for f in filenames if f.endswith(\".csv\")]:\n",
    "        print (dirpath)"
   ],
   "metadata": {
    "collapsed": false,
    "pycharm": {
     "name": "#%%\n"
    }
   }
  },
  {
   "cell_type": "code",
   "execution_count": 10,
   "outputs": [
    {
     "name": "stdout",
     "output_type": "stream",
     "text": [
      "/Users/ulric/Desktop/Starved_Water_Agar/220406/120424_s0a0_p6-0/Trained_Starved_Water_Agar_p6-0_80fps.mp4\n",
      "/Users/ulric/Desktop/Starved_Water_Agar/220406/110940_s0a0_p6-0/Trained_Starved_Water_Agar_p6-0_80fps.mp4\n"
     ]
    }
   ],
   "source": [
    "DataPath = \"/Users/ulric/Desktop/Starved_Water_Agar/\"\n",
    "\n",
    "for dirpath, dirnames, filenames in os.walk(DataPath):\n",
    "    #if 'Results' in dirnames:\n",
    "    #    dirnames.remove('Results')\n",
    "    for filename in [f for f in filenames if f.endswith(\".mp4\")]:\n",
    "        print (os.path.join(dirpath, filename))\n",
    "\n",
    "        path = dirpath\n",
    "        source = os.path.splitext(filename)[0]\n",
    "        #path = \"/mnt/lab_server/DURRIEU_Matthias/Experimental_data/Optogenetics/Optobot/Ctrl_Agar/Starved_noWater_BlOrOr/220506/105843_s0a0_p6-0/\"\n",
    "        #source = \"Ctrl_Agar_Starved_noWater_BlOrOr_p6-0_80fps\"\n",
    "\n",
    "        # Here are the arguments to set in order to trim out the part where the arena is opened initially.\n",
    "\n",
    "        startpoint = \"00:00:01\"  # Start point is the timepoint where the arena is fully opened and static\n",
    "        finishpoint = \"00:10:00\"  # Finish point is the last timepoint of the video\n",
    "\n",
    "        os.system(  # Ffmpeg +\n",
    "            \"ffmpeg -hide_banner -loglevel error -i \"\n",
    "            + os.path.join(path, source)\n",
    "            + \".mp4 -ss \"\n",
    "            + startpoint\n",
    "            + \" -to \"\n",
    "            + finishpoint\n",
    "            + \" -c copy \"\n",
    "            + os.path.join(path, source)\n",
    "            + \"_Trimmed.mp4\"\n",
    "        )\n",
    "\n",
    "        video = source + \"_Trimmed\"\n",
    "\n",
    "        input_vidpath = os.path.join(path, video) + \".mp4\"\n",
    "        output_vidpath = os.path.join(path, video) + \"_tracked.mp4\"\n",
    "        output_filepath = os.path.join(path, video) + \"_tracked.csv\"\n",
    "        codec = \"mp4v\"\n",
    "        # try other codecs if the default doesn't work ('DIVX', 'avc1', 'XVID') note: this list is non-exhaustive\n",
    "\n",
    "        # colours is a vector of BGR values which are used to identify individuals in the video\n",
    "        # since we only have one individual, the program will only use the first element from this array i.e. (0,0,255) - red\n",
    "        # number of elements in colours should be greater than n_inds (THIS IS NECESSARY FOR VISUALISATION ONLY)\n",
    "        n_inds = 1\n",
    "        colours = [\n",
    "            (0, 0, 255),\n",
    "            (0, 255, 255),\n",
    "            (255, 0, 255),\n",
    "            (255, 255, 255),\n",
    "            (255, 255, 0),\n",
    "            (255, 0, 0),\n",
    "            (0, 255, 0),\n",
    "            (0, 0, 0),\n",
    "        ]\n",
    "\n",
    "        # this is the block_size and offset used for adaptive thresholding (block_size should always be odd)\n",
    "        # these values are critical for tracking performance\n",
    "        # block_size = 35 # These should be only set if using adaptive thresholding\n",
    "        # offset = 10\n",
    "\n",
    "        # the scaling parameter can be used to speed up tracking if video resolution is too high (use value 0-1)\n",
    "        scaling = 1.0\n",
    "\n",
    "        # minimum area and maximum area occupied by the animal in number of pixels\n",
    "        # this is used to get rid of other objects in view that might be hard to threshold out but are differently sized\n",
    "        min_area = 470\n",
    "        max_area = 8000\n",
    "\n",
    "        # mot determines whether the tracker is being used in noisy conditions to track a single object or for multi-object\n",
    "        # using this will enable k-means clustering to force n_inds number of animals\n",
    "        mot = False\n",
    "\n",
    "        # kernel for erosion and dilation\n",
    "        # useful since thin spider limbs are sometimes detected as separate objects\n",
    "        kernel = np.ones((5, 5), np.uint8)\n",
    "\n",
    "        fgbg5 = cv2.bgsegm.createBackgroundSubtractorGSOC(\n",
    "            # nSamples=2,\n",
    "            # replaceRate=0.900,\n",
    "            # propagationRate=0.003 ,\n",
    "            # noiseRemovalThresholdFacFG = 0.45,\n",
    "            # noiseRemovalThresholdFacBG= 0.45,\n",
    "            # hitsThreshold=5\n",
    "        )  # default : 0.003\n",
    "\n",
    "        cap = cv2.VideoCapture(input_vidpath)\n",
    "\n",
    "        # Set framesize as the same one as the images read from input video\n",
    "        BG_framesize = (\n",
    "            int(cap.read()[1].shape[1] * scaling),\n",
    "            int(cap.read()[1].shape[0] * scaling),\n",
    "        )\n",
    "\n",
    "        fourcc = cv2.VideoWriter_fourcc(*codec)\n",
    "        # Create a Video writer with the desired parameters\n",
    "        Background_Generator = cv2.VideoWriter(\n",
    "            filename=path + \"/Background_Generator.mp4\",\n",
    "            fourcc=fourcc,\n",
    "            fps=80,\n",
    "            frameSize=BG_framesize,\n",
    "            # isColor=True,\n",
    "        )\n",
    "\n",
    "        # Write a video with random frames taken in the input video\n",
    "        f = 0\n",
    "        while f <= 300:\n",
    "            # get total number of frames\n",
    "            totalFrames = cap.get(cv2.CAP_PROP_FRAME_COUNT)\n",
    "            randomFrameNumber = random.randint(0, totalFrames)\n",
    "            # set frame position\n",
    "            cap.set(cv2.CAP_PROP_POS_FRAMES, randomFrameNumber)\n",
    "            success, image = cap.read()\n",
    "\n",
    "            if success:\n",
    "\n",
    "                Background_Generator.write(image)\n",
    "\n",
    "            f += 1\n",
    "\n",
    "        cap.release()\n",
    "        Background_Generator.release()\n",
    "        cv2.destroyAllWindows()"
   ],
   "metadata": {
    "collapsed": false,
    "pycharm": {
     "name": "#%%\n"
    }
   }
  },
  {
   "cell_type": "code",
   "execution_count": 7,
   "outputs": [
    {
     "data": {
      "text/plain": "'/Users/ulric/Desktop/Starved_Water_Agar/220406/120424_s0a0_p6-0/Trained_Starved_Water_Agar_p6-0_80fps'"
     },
     "execution_count": 7,
     "metadata": {},
     "output_type": "execute_result"
    }
   ],
   "source": [
    "os.path.join(path, source)"
   ],
   "metadata": {
    "collapsed": false,
    "pycharm": {
     "name": "#%%\n"
    }
   }
  },
  {
   "cell_type": "code",
   "execution_count": 20,
   "outputs": [
    {
     "name": "stdout",
     "output_type": "stream",
     "text": [
      "/Users/ulric/Desktop/Starved_Water_Agar/220406/120424_s0a0_p6-0/Background_Generator.mp4\n",
      "/Users/ulric/Desktop/Starved_Water_Agar/220406/120424_s0a0_p6-0/Trained_Starved_Water_Agar_p6-0_80fps_Trimmed.mp4\n",
      "/Users/ulric/Desktop/Starved_Water_Agar/220406/120424_s0a0_p6-0/Trained_Starved_Water_Agar_p6-0_80fps.mp4\n",
      "/Users/ulric/Desktop/Starved_Water_Agar/220406/110940_s0a0_p6-0/Background_Generator.mp4\n",
      "/Users/ulric/Desktop/Starved_Water_Agar/220406/110940_s0a0_p6-0/Trained_Starved_Water_Agar_p6-0_80fps_Trimmed.mp4\n",
      "/Users/ulric/Desktop/Starved_Water_Agar/220406/110940_s0a0_p6-0/Trained_Starved_Water_Agar_p6-0_80fps.mp4\n"
     ]
    }
   ],
   "source": [
    "DataPath = \"/Users/ulric/Desktop/Starved_Water_Agar/\"\n",
    "\n",
    "for dirpath, dirnames, filenames in os.walk(DataPath):\n",
    "    #if 'Results' in dirnames:\n",
    "    #    dirnames.remove('Results')\n",
    "    for filename in [f for f in filenames if f.endswith(\".mp4\")]:\n",
    "    #for filename in [f for f in filenames if f.endswith(\".mp4\") and \"Trimmed\" not in f]:\n",
    "        print (os.path.join(dirpath, filename))\n"
   ],
   "metadata": {
    "collapsed": false,
    "pycharm": {
     "name": "#%%\n"
    }
   }
  },
  {
   "cell_type": "code",
   "execution_count": null,
   "outputs": [],
   "source": [],
   "metadata": {
    "collapsed": false,
    "pycharm": {
     "name": "#%%\n"
    }
   }
  }
 ],
 "metadata": {
  "kernelspec": {
   "display_name": "Python 3",
   "language": "python",
   "name": "python3"
  },
  "language_info": {
   "codemirror_mode": {
    "name": "ipython",
    "version": 2
   },
   "file_extension": ".py",
   "mimetype": "text/x-python",
   "name": "python",
   "nbconvert_exporter": "python",
   "pygments_lexer": "ipython2",
   "version": "2.7.6"
  }
 },
 "nbformat": 4,
 "nbformat_minor": 0
}