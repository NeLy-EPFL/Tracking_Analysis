{
 "cells": [
  {
   "cell_type": "code",
   "execution_count": 2,
   "outputs": [],
   "source": [
    "import matplotlib.pyplot as plt\n",
    "import numpy as np\n",
    "import pandas as pd\n",
    "import os\n",
    "from os import listdir\n",
    "from os.path import isfile, join\n",
    "import os.path\n",
    "import numpy as np\n",
    "import matplotlib as mpl\n",
    "from os import walk\n",
    "import cv2"
   ],
   "metadata": {
    "collapsed": false,
    "pycharm": {
     "name": "#%%\n"
    }
   }
  },
  {
   "cell_type": "code",
   "execution_count": 3,
   "outputs": [],
   "source": [
    "DataPath = \"/Volumes/Universal_HD/VideoAnalysis/SingleObject\"\n",
    "\n",
    "for dirpath, dirnames, filenames in os.walk(DataPath):\n",
    "    if 'Results' in dirnames:\n",
    "        dirnames.remove('Results')\n",
    "    for filename in [f for f in filenames if f.endswith(\".csv\")]:\n",
    "        print (os.path.join(dirpath, filename))"
   ],
   "metadata": {
    "collapsed": false,
    "pycharm": {
     "name": "#%%\n"
    }
   }
  },
  {
   "cell_type": "code",
   "execution_count": null,
   "outputs": [],
   "source": [
    "for dirpath, dirnames, filenames in os.walk(DataPath):\n",
    "    if 'Results' in dirnames:\n",
    "        dirnames.remove('Results')\n",
    "    for filename in [f for f in filenames if f.endswith(\".csv\")]:\n",
    "        print (dirpath)"
   ],
   "metadata": {
    "collapsed": false,
    "pycharm": {
     "name": "#%%\n"
    }
   }
  },
  {
   "cell_type": "code",
   "execution_count": 4,
   "outputs": [
    {
     "name": "stdout",
     "output_type": "stream",
     "text": [
      "/Users/ulric/Desktop/Starved_Water_Agar/220406/120424_s0a0_p6-0/Trained_Starved_Water_Agar_p6-0_80fps.mp4\n",
      "/Users/ulric/Desktop/Starved_Water_Agar/220406/110940_s0a0_p6-0/Trained_Starved_Water_Agar_p6-0_80fps.mp4\n"
     ]
    }
   ],
   "source": [
    "DataPath = \"/Users/ulric/Desktop/Starved_Water_Agar/\"\n",
    "\n",
    "for dirpath, dirnames, filenames in os.walk(DataPath):\n",
    "    #if 'Results' in dirnames:\n",
    "    #    dirnames.remove('Results')\n",
    "    for filename in [f for f in filenames if f.endswith(\".mp4\")]:\n",
    "        print (os.path.join(dirpath, filename))\n",
    "\n",
    "        path = dirpath\n",
    "        source = os.path.splitext(filename)[0]\n",
    "        #path = \"/mnt/lab_server/DURRIEU_Matthias/Experimental_data/Optogenetics/Optobot/Ctrl_Agar/Starved_noWater_BlOrOr/220506/105843_s0a0_p6-0/\"\n",
    "        #source = \"Ctrl_Agar_Starved_noWater_BlOrOr_p6-0_80fps\"\n",
    "\n",
    "        # Here are the arguments to set in order to trim out the part where the arena is opened initially.\n",
    "\n",
    "        startpoint = \"00:00:01\"  # Start point is the timepoint where the arena is fully opened and static\n",
    "        finishpoint = \"00:10:00\"  # Finish point is the last timepoint of the video\n",
    "\n",
    "        os.system(  # Ffmpeg +\n",
    "            \"ffmpeg -hide_banner -loglevel error -i \"\n",
    "            + path\n",
    "            + \"/\"\n",
    "            + source\n",
    "            + \".mp4 -ss \"\n",
    "            + startpoint\n",
    "            + \" -to \"\n",
    "            + finishpoint\n",
    "            + \" -c copy \"\n",
    "            + path\n",
    "            + \"/\"\n",
    "            + source\n",
    "            + \"_Trimmed.mp4\"\n",
    "        )\n",
    "\n",
    "        video = source + \"_Trimmed\""
   ],
   "metadata": {
    "collapsed": false,
    "pycharm": {
     "name": "#%%\n"
    }
   }
  },
  {
   "cell_type": "code",
   "execution_count": null,
   "outputs": [],
   "source": [],
   "metadata": {
    "collapsed": false,
    "pycharm": {
     "name": "#%%\n"
    }
   }
  }
 ],
 "metadata": {
  "kernelspec": {
   "display_name": "Python 3",
   "language": "python",
   "name": "python3"
  },
  "language_info": {
   "codemirror_mode": {
    "name": "ipython",
    "version": 2
   },
   "file_extension": ".py",
   "mimetype": "text/x-python",
   "name": "python",
   "nbconvert_exporter": "python",
   "pygments_lexer": "ipython2",
   "version": "2.7.6"
  }
 },
 "nbformat": 4,
 "nbformat_minor": 0
}