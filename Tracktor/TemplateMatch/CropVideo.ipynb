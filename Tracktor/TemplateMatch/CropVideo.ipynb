{
 "cells": [
  {
   "cell_type": "code",
   "execution_count": 31,
   "metadata": {
    "collapsed": true
   },
   "outputs": [],
   "source": [
    "import cv2\n",
    "import pathlib\n",
    "import numpy as np\n",
    "import matplotlib.pyplot as plt"
   ]
  },
  {
   "cell_type": "markdown",
   "source": [],
   "metadata": {
    "collapsed": false
   }
  },
  {
   "cell_type": "code",
   "execution_count": 3,
   "outputs": [],
   "source": [
    "VideoPath = pathlib.Path('H:\\MultiMazeBiS_15_Steel_Wax_Female_Starved_noWater_p6-0_80fps.mp4')\n",
    "FPath = pathlib.Path('H:\\Frames')"
   ],
   "metadata": {
    "collapsed": false
   }
  },
  {
   "cell_type": "markdown",
   "source": [
    "Working example from stack overflow for cropping video live (as opposed as brute force numpy reshape like before)"
   ],
   "metadata": {
    "collapsed": false
   }
  },
  {
   "cell_type": "code",
   "execution_count": 4,
   "outputs": [
    {
     "ename": "KeyboardInterrupt",
     "evalue": "",
     "output_type": "error",
     "traceback": [
      "\u001B[1;31m---------------------------------------------------------------------------\u001B[0m",
      "\u001B[1;31mKeyboardInterrupt\u001B[0m                         Traceback (most recent call last)",
      "Input \u001B[1;32mIn [4]\u001B[0m, in \u001B[0;36m<cell line: 10>\u001B[1;34m()\u001B[0m\n\u001B[0;32m     13\u001B[0m sky \u001B[38;5;241m=\u001B[39m frame[\u001B[38;5;241m0\u001B[39m:\u001B[38;5;241m100\u001B[39m, \u001B[38;5;241m0\u001B[39m:\u001B[38;5;241m200\u001B[39m]\n\u001B[0;32m     14\u001B[0m cv2\u001B[38;5;241m.\u001B[39mimshow(\u001B[38;5;124m'\u001B[39m\u001B[38;5;124mVideo\u001B[39m\u001B[38;5;124m'\u001B[39m, sky)\n\u001B[1;32m---> 16\u001B[0m \u001B[38;5;28;01mif\u001B[39;00m \u001B[43mcv2\u001B[49m\u001B[38;5;241;43m.\u001B[39;49m\u001B[43mwaitKey\u001B[49m\u001B[43m(\u001B[49m\u001B[38;5;241;43m1\u001B[39;49m\u001B[43m)\u001B[49m \u001B[38;5;241m==\u001B[39m \u001B[38;5;241m27\u001B[39m:\n\u001B[0;32m     17\u001B[0m     exit(\u001B[38;5;241m0\u001B[39m)\n",
      "\u001B[1;31mKeyboardInterrupt\u001B[0m: "
     ]
    }
   ],
   "source": [
    "import cv2\n",
    "\n",
    "\n",
    "cap = cv2.VideoCapture(VideoPath.as_posix())\n",
    "\n",
    "# (x, y, w, h) = cv2.boundingRect(c)\n",
    "# cv2.rectangle(frame, (x,y), (x+w, y+h), (0, 255, 0), 20)\n",
    "# roi = frame[y:y+h, x:x+w]\n",
    "\n",
    "while True:\n",
    "    ret, frame = cap.read()\n",
    "    # (height, width) = frame.shape[:2]\n",
    "    sky = frame[0:100, 0:200]\n",
    "    cv2.imshow('Video', sky)\n",
    "\n",
    "    if cv2.waitKey(1) == 27:\n",
    "        exit(0)"
   ],
   "metadata": {
    "collapsed": false
   }
  },
  {
   "cell_type": "code",
   "execution_count": 27,
   "outputs": [
    {
     "ename": "KeyboardInterrupt",
     "evalue": "",
     "output_type": "error",
     "traceback": [
      "\u001B[1;31m---------------------------------------------------------------------------\u001B[0m",
      "\u001B[1;31mKeyboardInterrupt\u001B[0m                         Traceback (most recent call last)",
      "Input \u001B[1;32mIn [27]\u001B[0m, in \u001B[0;36m<cell line: 8>\u001B[1;34m()\u001B[0m\n\u001B[0;32m     11\u001B[0m randomFrameNumber \u001B[38;5;241m=\u001B[39m random\u001B[38;5;241m.\u001B[39mrandint(\u001B[38;5;241m0\u001B[39m, totalFrames)\n\u001B[0;32m     12\u001B[0m \u001B[38;5;66;03m# set frame position\u001B[39;00m\n\u001B[1;32m---> 13\u001B[0m \u001B[43mcap\u001B[49m\u001B[38;5;241;43m.\u001B[39;49m\u001B[43mset\u001B[49m\u001B[43m(\u001B[49m\u001B[43mcv2\u001B[49m\u001B[38;5;241;43m.\u001B[39;49m\u001B[43mCAP_PROP_POS_FRAMES\u001B[49m\u001B[43m,\u001B[49m\u001B[43m \u001B[49m\u001B[43mrandomFrameNumber\u001B[49m\u001B[43m)\u001B[49m\n\u001B[0;32m     14\u001B[0m success, image \u001B[38;5;241m=\u001B[39m cap\u001B[38;5;241m.\u001B[39mread()\n\u001B[0;32m     16\u001B[0m \u001B[38;5;28;01mif\u001B[39;00m success:\n",
      "\u001B[1;31mKeyboardInterrupt\u001B[0m: "
     ]
    }
   ],
   "source": [
    "import random\n",
    "\n",
    "# Opens the Video file\n",
    "cap= cv2.VideoCapture(VideoPath.as_posix())\n",
    "\n",
    "i=1\n",
    "f = 0\n",
    "while f <= 300:\n",
    "    # get total number of frames\n",
    "    totalFrames = cap.get(cv2.CAP_PROP_FRAME_COUNT)\n",
    "    randomFrameNumber = random.randint(0, totalFrames)\n",
    "    # set frame position\n",
    "    cap.set(cv2.CAP_PROP_POS_FRAMES, randomFrameNumber)\n",
    "    success, image = cap.read()\n",
    "\n",
    "    if success:\n",
    "\n",
    "        cv2.imwrite('frame'+str(i)+'.jpg',image)\n",
    "\n",
    "    f += 1\n",
    "    i += 1\n",
    "\n",
    "\n",
    "\n",
    "cap.release()\n",
    "cv2.destroyAllWindows()\n",
    "\n"
   ],
   "metadata": {
    "collapsed": false
   }
  },
  {
   "cell_type": "code",
   "execution_count": 14,
   "outputs": [
    {
     "name": "stdout",
     "output_type": "stream",
     "text": [
      "<bound method PurePath.as_posix of WindowsPath('H:/Frames/test45')>\n"
     ]
    }
   ],
   "source": [
    "print(FPath.joinpath('test'+str(45)).as_posix)"
   ],
   "metadata": {
    "collapsed": false
   }
  },
  {
   "cell_type": "code",
   "execution_count": 33,
   "outputs": [],
   "source": [
    "Imtest = cv2.imread('frame1.jpg')"
   ],
   "metadata": {
    "collapsed": false
   }
  },
  {
   "cell_type": "code",
   "execution_count": 38,
   "outputs": [],
   "source": [
    "ImGr = cv2.cvtColor(Imtest, cv2.COLOR_BGR2GRAY)"
   ],
   "metadata": {
    "collapsed": false
   }
  },
  {
   "cell_type": "code",
   "execution_count": 39,
   "outputs": [],
   "source": [
    "cols = ImGr.sum(axis=0)"
   ],
   "metadata": {
    "collapsed": false
   }
  },
  {
   "cell_type": "code",
   "execution_count": 42,
   "outputs": [
    {
     "ename": "TypeError",
     "evalue": "'module' object is not callable",
     "output_type": "error",
     "traceback": [
      "\u001B[1;31m---------------------------------------------------------------------------\u001B[0m",
      "\u001B[1;31mTypeError\u001B[0m                                 Traceback (most recent call last)",
      "Input \u001B[1;32mIn [42]\u001B[0m, in \u001B[0;36m<cell line: 1>\u001B[1;34m()\u001B[0m\n\u001B[1;32m----> 1\u001B[0m \u001B[43mplt\u001B[49m\u001B[43m(\u001B[49m\u001B[43mcols\u001B[49m\u001B[43m)\u001B[49m\n",
      "\u001B[1;31mTypeError\u001B[0m: 'module' object is not callable"
     ]
    }
   ],
   "source": [
    "plt(cols)"
   ],
   "metadata": {
    "collapsed": false
   }
  },
  {
   "cell_type": "code",
   "execution_count": null,
   "outputs": [],
   "source": [],
   "metadata": {
    "collapsed": false
   }
  }
 ],
 "metadata": {
  "kernelspec": {
   "display_name": "Python 3",
   "language": "python",
   "name": "python3"
  },
  "language_info": {
   "codemirror_mode": {
    "name": "ipython",
    "version": 2
   },
   "file_extension": ".py",
   "mimetype": "text/x-python",
   "name": "python",
   "nbconvert_exporter": "python",
   "pygments_lexer": "ipython2",
   "version": "2.7.6"
  }
 },
 "nbformat": 4,
 "nbformat_minor": 0
}
