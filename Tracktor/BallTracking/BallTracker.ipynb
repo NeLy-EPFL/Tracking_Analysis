{
 "cells": [
  {
   "cell_type": "markdown",
   "metadata": {
    "collapsed": false
   },
   "source": [
    "This code allows balls tracking in fly pushing experiments.\n",
    "\n",
    "For now, proved successful in single corridor arenas with 1 fly and 1 ball, with different arena materials."
   ]
  },
  {
   "cell_type": "markdown",
   "metadata": {
    "collapsed": false
   },
   "source": [
    "# Libraries"
   ]
  },
  {
   "cell_type": "code",
   "execution_count": 2,
   "metadata": {
    "collapsed": false
   },
   "outputs": [],
   "source": [
    "import cv2\n",
    "import numpy as np\n",
    "import pandas as pd\n",
    "from pathlib import Path\n",
    "import os\n",
    "import matplotlib.pyplot as plt"
   ]
  },
  {
   "cell_type": "markdown",
   "metadata": {
    "collapsed": false
   },
   "source": [
    "# Path definition"
   ]
  },
  {
   "cell_type": "code",
   "execution_count": 38,
   "metadata": {
    "collapsed": false
   },
   "outputs": [],
   "source": [
    "VideoPath = Path(\n",
    "    '/mnt/labserver/DURRIEU_Matthias/Experimental_data/Optogenetics/Optobot/MultiMazeBiS_Steel15_Wax/Starved_noWater_MagnetBlock/221130/093728_s0a0_p0-0/Arena6/Arena6.mp4')"
   ]
  },
  {
   "cell_type": "code",
   "execution_count": 3,
   "metadata": {
    "collapsed": false
   },
   "outputs": [],
   "source": [
    "#Mac path\n",
    "VideoPath = Path(\n",
    "    '/Volumes/Ramdya-Lab/DURRIEU_Matthias/Experimental_data/Optogenetics/Optobot/MultiMazeBiS_15_Steel_Wax/Female_Starved_noWater/221116/102044_s0a0_p6-0/Arena4/Arena4.mp4'\n",
    ")"
   ]
  },
  {
   "cell_type": "markdown",
   "metadata": {
    "collapsed": false
   },
   "source": [
    "## Quickly check first frame"
   ]
  },
  {
   "cell_type": "code",
   "execution_count": 4,
   "metadata": {
    "collapsed": false
   },
   "outputs": [
    {
     "data": {
      "image/png": "[encoded data removed]",
      "text/plain": [
       "<Figure size 432x288 with 1 Axes>"
      ]
     },
     "metadata": {
      "needs_background": "light"
     },
     "output_type": "display_data"
    }
   ],
   "source": [
    "%matplotlib inline\n",
    "\n",
    "vidcap = cv2.VideoCapture(VideoPath.as_posix())\n",
    "for i in range(1):\n",
    "    success, im_full = vidcap.read()\n",
    "\n",
    "im_full_gray = cv2.cvtColor(im_full, cv2.COLOR_BGR2GRAY)\n",
    "\n",
    "#hv.Image(im_full_gray)\n",
    "\n",
    "plt.figure()\n",
    "plt.axis('off')\n",
    "plt.tight_layout()\n",
    "plt.imshow(im_full_gray, cmap='gray', vmin=0, vmax=255); # semicolon removes print of matplotlib object"
   ]
  },
  {
   "cell_type": "markdown",
   "metadata": {
    "collapsed": false
   },
   "source": [
    "# Optional : Fine tune tracking parameters for new videos"
   ]
  },
  {
   "cell_type": "markdown",
   "metadata": {
    "collapsed": false
   },
   "source": [
    "## Generate trimmed version of the video"
   ]
  },
  {
   "cell_type": "code",
   "execution_count": 5,
   "metadata": {
    "collapsed": false
   },
   "outputs": [
    {
     "data": {
      "text/plain": [
       "0"
      ]
     },
     "execution_count": 5,
     "metadata": {},
     "output_type": "execute_result"
    }
   ],
   "source": [
    "#Choose the start and finish timestamps\n",
    "startpoint = \"00:00:00\"\n",
    "\n",
    "finishpoint = \"00:02:00\"\n",
    "TrimmedPath = VideoPath.with_stem(VideoPath.stem + \"_Trimmed\")\n",
    "\n",
    "os.system(  # Ffmpeg +\n",
    "        \"ffmpeg -hide_banner -loglevel error -i \"\n",
    "        + VideoPath.as_posix()\n",
    "        + \" -ss \"\n",
    "        + startpoint\n",
    "        + \" -to \"\n",
    "        + finishpoint\n",
    "        + \" -c copy \"\n",
    "        + TrimmedPath.as_posix()\n",
    "    )"
   ]
  },
  {
   "cell_type": "markdown",
   "metadata": {
    "collapsed": false
   },
   "source": [
    "## Play with y cropping parameters to center ROI on corridor without chambers"
   ]
  },
  {
   "cell_type": "code",
   "execution_count": 6,
   "metadata": {
    "collapsed": false
   },
   "outputs": [
    {
     "data": {
      "image/png": "[encoded data removed]",
      "text/plain": [
       "<Figure size 432x288 with 1 Axes>"
      ]
     },
     "metadata": {
      "needs_background": "light"
     },
     "output_type": "display_data"
    }
   ],
   "source": [
    "%matplotlib inline\n",
    "\n",
    "cropping_parameters = (120,650)\n",
    "cropped = im_full_gray[cropping_parameters[0]:cropping_parameters[1],:]\n",
    "# Note that this is arbitrary but shouldn't move from one arena to the other.\n",
    "# 120:650 was chosen for previous videos, here 155:685 is better aligned with arenas\n",
    "plt.axis('off')\n",
    "plt.tight_layout()\n",
    "plt.imshow(cropped, cmap='gray', vmin=0, vmax=255);"
   ]
  },
  {
   "cell_type": "code",
   "execution_count": 8,
   "metadata": {
    "collapsed": false
   },
   "outputs": [],
   "source": [
    "## Save cropping parameters in a file for further use\n",
    "if VideoPath.parent.joinpath('Cropping_params.npy').exists() is True:\n",
    "    choice = input(\"File already exists! Overwrite? [y/n]\")\n",
    "\n",
    "    if choice =='n':\n",
    "        print('File unchanged.')\n",
    "\n",
    "    elif choice =='y':\n",
    "        np.save(VideoPath.parent.joinpath('Cropping_params.npy').as_posix(), cropping_parameters)\n",
    "        print('File updated.')\n",
    "\n",
    "    else: print('invalid input')\n",
    "\n",
    "else:\n",
    "    np.save(VideoPath.parent.joinpath('Cropping_params.npy').as_posix(), cropping_parameters)"
   ]
  },
  {
   "cell_type": "markdown",
   "metadata": {
    "collapsed": false
   },
   "source": [
    "## Load cropping parameters"
   ]
  },
  {
   "cell_type": "code",
   "execution_count": 9,
   "metadata": {
    "collapsed": false
   },
   "outputs": [],
   "source": [
    "if cropping_parameters in locals():\n",
    "    pass\n",
    "else: cropping_parameters = np.load(VideoPath.parent.joinpath('Cropping_params.npy').as_posix())"
   ]
  },
  {
   "cell_type": "markdown",
   "metadata": {
    "collapsed": false
   },
   "source": [
    "## Check ball tracking on video sample"
   ]
  },
  {
   "cell_type": "code",
   "execution_count": 10,
   "metadata": {
    "collapsed": false
   },
   "outputs": [
    {
     "name": "stdout",
     "output_type": "stream",
     "text": [
      "Parameters test finished. Detection success: 100.0%.\n"
     ]
    }
   ],
   "source": [
    "Vidcap = cv2.VideoCapture(TrimmedPath.as_posix())\n",
    "TotFrame = int(Vidcap.get(cv2.CAP_PROP_FRAME_COUNT))\n",
    "last = 0\n",
    "\n",
    "# Hough circles parameters to tune\n",
    "param1=255\n",
    "param2=23\n",
    "minrad=5\n",
    "maxrad=20\n",
    "\n",
    "# Counter for failed detections\n",
    "fails = 0\n",
    "\n",
    "while True:\n",
    "    ret, frame = Vidcap.read() # Grab frame\n",
    "    this = Vidcap.get(1)\n",
    "    if ret:\n",
    "\n",
    "        im_full_gray = cv2.cvtColor(frame, cv2.COLOR_BGR2GRAY) # convert to grayscale\n",
    "        cropped = im_full_gray[cropping_parameters[0]:cropping_parameters[1],:]\n",
    "\n",
    "        filtered = cv2.medianBlur(cropped,5)\n",
    "\n",
    "        #rows = filt.shape[0]\n",
    "        circles = cv2.HoughCircles(filtered, cv2.HOUGH_GRADIENT, 1, 125,\n",
    "                                   param1=param1, param2=param2,\n",
    "                                   minRadius=minrad, maxRadius=maxrad)\n",
    "\n",
    "        if circles is not None:\n",
    "            circles = np.uint16(np.around(circles))\n",
    "            for i in circles[0, :]:\n",
    "                center = (i[0], i[1])\n",
    "                # circle center\n",
    "                cv2.circle(cropped, center, 1, (255, 0, 255), 3)\n",
    "                # circle outline\n",
    "                radius = i[2]\n",
    "                #cv2.circle(cropped, center, radius, (255, 0, 255), 3)\n",
    "        else: fails += 1\n",
    "\n",
    "        i = int(this)\n",
    "\n",
    "        cv2.putText(img=cropped, text=str(i)+'/'+str(TotFrame), color=(255,0,0), org=(0,30), fontFace=cv2.FONT_HERSHEY_SIMPLEX, fontScale=0.3, thickness=1, lineType=cv2.LINE_AA,)\n",
    "        cv2.imshow(\"detected circles\", cropped)\n",
    "\n",
    "        if cv2.waitKey(1) == 27:\n",
    "            exit(0)\n",
    "    if last >= this:\n",
    "        break\n",
    "    last = this\n",
    "Vidcap.release()\n",
    "cv2.destroyAllWindows()\n",
    "cv2.waitKey(1)\n",
    "\n",
    "print('Parameters test finished. Detection success: ' + str(((TotFrame-fails)/TotFrame)*100) + '%.')"
   ]
  },
  {
   "cell_type": "markdown",
   "metadata": {
    "collapsed": false
   },
   "source": [
    "## Save fine tuned Hough circles parameters"
   ]
  },
  {
   "cell_type": "code",
   "execution_count": 46,
   "metadata": {
    "collapsed": false
   },
   "outputs": [
    {
     "name": "stdout",
     "output_type": "stream",
     "text": [
      "File unchanged.\n"
     ]
    }
   ],
   "source": [
    "params = {\n",
    "    'param1' : param1,\n",
    "    'param2' : param2,\n",
    "    'minrad' : minrad,\n",
    "    'maxrad' : maxrad,\n",
    "}\n",
    "\n",
    "if VideoPath.parent.joinpath('Tracking_params.npy').exists() is True:\n",
    "    choice = input(\"File already exists! Overwrite? [y/n]\")\n",
    "\n",
    "    if choice =='n':\n",
    "        print('File unchanged.')\n",
    "\n",
    "    elif choice =='y':\n",
    "        np.save(VideoPath.parent.joinpath('Tracking_params.npy').as_posix(), params)\n",
    "        print('File updated.')\n",
    "\n",
    "    else: print('invalid input')\n",
    "\n",
    "else:\n",
    "    np.save(VideoPath.parent.joinpath('Tracking_params.npy').as_posix(), params)"
   ]
  },
  {
   "cell_type": "markdown",
   "metadata": {
    "collapsed": false
   },
   "source": [
    "# Track the ball in entire video"
   ]
  },
  {
   "cell_type": "code",
   "execution_count": 53,
   "metadata": {
    "collapsed": false
   },
   "outputs": [],
   "source": [
    "params = np.load(VideoPath.parent.joinpath('Tracking_params.npy').as_posix(),\n",
    "                 allow_pickle = True)\n",
    "\n",
    "param1 = params.item().get('param1')\n",
    "param2 = params.item().get('param2')\n",
    "minrad = params.item().get('minrad')\n",
    "maxrad = params.item().get('maxrad')"
   ]
  },
  {
   "cell_type": "code",
   "execution_count": 60,
   "metadata": {
    "collapsed": false
   },
   "outputs": [
    {
     "name": "stderr",
     "output_type": "stream",
     "text": [
      "QObject::moveToThread: Current thread (0x4efc8a0) is not the object's thread (0x4ceaac0).\n",
      "Cannot move to target thread (0x4efc8a0)\n",
      "\n",
      "QObject::moveToThread: Current thread (0x4efc8a0) is not the object's thread (0x4ceaac0).\n",
      "Cannot move to target thread (0x4efc8a0)\n",
      "\n",
      "QObject::moveToThread: Current thread (0x4efc8a0) is not the object's thread (0x4ceaac0).\n",
      "Cannot move to target thread (0x4efc8a0)\n",
      "\n",
      "QObject::moveToThread: Current thread (0x4efc8a0) is not the object's thread (0x4ceaac0).\n",
      "Cannot move to target thread (0x4efc8a0)\n",
      "\n",
      "QObject::moveToThread: Current thread (0x4efc8a0) is not the object's thread (0x4ceaac0).\n",
      "Cannot move to target thread (0x4efc8a0)\n",
      "\n",
      "QObject::moveToThread: Current thread (0x4efc8a0) is not the object's thread (0x4ceaac0).\n",
      "Cannot move to target thread (0x4efc8a0)\n",
      "\n",
      "QObject::moveToThread: Current thread (0x4efc8a0) is not the object's thread (0x4ceaac0).\n",
      "Cannot move to target thread (0x4efc8a0)\n",
      "\n",
      "QObject::moveToThread: Current thread (0x4efc8a0) is not the object's thread (0x4ceaac0).\n",
      "Cannot move to target thread (0x4efc8a0)\n",
      "\n",
      "QObject::moveToThread: Current thread (0x4efc8a0) is not the object's thread (0x4ceaac0).\n",
      "Cannot move to target thread (0x4efc8a0)\n",
      "\n",
      "QObject::moveToThread: Current thread (0x4efc8a0) is not the object's thread (0x4ceaac0).\n",
      "Cannot move to target thread (0x4efc8a0)\n",
      "\n",
      "QObject::moveToThread: Current thread (0x4efc8a0) is not the object's thread (0x4ceaac0).\n",
      "Cannot move to target thread (0x4efc8a0)\n",
      "\n",
      "QObject::moveToThread: Current thread (0x4efc8a0) is not the object's thread (0x4ceaac0).\n",
      "Cannot move to target thread (0x4efc8a0)\n",
      "\n",
      "QObject::moveToThread: Current thread (0x4efc8a0) is not the object's thread (0x4ceaac0).\n",
      "Cannot move to target thread (0x4efc8a0)\n",
      "\n",
      "QObject::moveToThread: Current thread (0x4efc8a0) is not the object's thread (0x4ceaac0).\n",
      "Cannot move to target thread (0x4efc8a0)\n",
      "\n",
      "QObject::moveToThread: Current thread (0x4efc8a0) is not the object's thread (0x4ceaac0).\n",
      "Cannot move to target thread (0x4efc8a0)\n",
      "\n",
      "QObject::moveToThread: Current thread (0x4efc8a0) is not the object's thread (0x4ceaac0).\n",
      "Cannot move to target thread (0x4efc8a0)\n",
      "\n",
      "QObject::moveToThread: Current thread (0x4efc8a0) is not the object's thread (0x4ceaac0).\n",
      "Cannot move to target thread (0x4efc8a0)\n",
      "\n",
      "QObject::moveToThread: Current thread (0x4efc8a0) is not the object's thread (0x4ceaac0).\n",
      "Cannot move to target thread (0x4efc8a0)\n",
      "\n",
      "QObject::moveToThread: Current thread (0x4efc8a0) is not the object's thread (0x4ceaac0).\n",
      "Cannot move to target thread (0x4efc8a0)\n",
      "\n",
      "QObject::moveToThread: Current thread (0x4efc8a0) is not the object's thread (0x4ceaac0).\n",
      "Cannot move to target thread (0x4efc8a0)\n",
      "\n",
      "QObject::moveToThread: Current thread (0x4efc8a0) is not the object's thread (0x4ceaac0).\n",
      "Cannot move to target thread (0x4efc8a0)\n",
      "\n",
      "QObject::moveToThread: Current thread (0x4efc8a0) is not the object's thread (0x4ceaac0).\n",
      "Cannot move to target thread (0x4efc8a0)\n",
      "\n",
      "QObject::moveToThread: Current thread (0x4efc8a0) is not the object's thread (0x4ceaac0).\n",
      "Cannot move to target thread (0x4efc8a0)\n",
      "\n",
      "QObject::moveToThread: Current thread (0x4efc8a0) is not the object's thread (0x4ceaac0).\n",
      "Cannot move to target thread (0x4efc8a0)\n",
      "\n",
      "QObject::moveToThread: Current thread (0x4efc8a0) is not the object's thread (0x4ceaac0).\n",
      "Cannot move to target thread (0x4efc8a0)\n",
      "\n",
      "QObject::moveToThread: Current thread (0x4efc8a0) is not the object's thread (0x4ceaac0).\n",
      "Cannot move to target thread (0x4efc8a0)\n",
      "\n",
      "QObject::moveToThread: Current thread (0x4efc8a0) is not the object's thread (0x4ceaac0).\n",
      "Cannot move to target thread (0x4efc8a0)\n",
      "\n",
      "QObject::moveToThread: Current thread (0x4efc8a0) is not the object's thread (0x4ceaac0).\n",
      "Cannot move to target thread (0x4efc8a0)\n",
      "\n",
      "QObject::moveToThread: Current thread (0x4efc8a0) is not the object's thread (0x4ceaac0).\n",
      "Cannot move to target thread (0x4efc8a0)\n",
      "\n",
      "QObject::moveToThread: Current thread (0x4efc8a0) is not the object's thread (0x4ceaac0).\n",
      "Cannot move to target thread (0x4efc8a0)\n",
      "\n",
      "QObject::moveToThread: Current thread (0x4efc8a0) is not the object's thread (0x4ceaac0).\n",
      "Cannot move to target thread (0x4efc8a0)\n",
      "\n",
      "QObject::moveToThread: Current thread (0x4efc8a0) is not the object's thread (0x4ceaac0).\n",
      "Cannot move to target thread (0x4efc8a0)\n",
      "\n",
      "QObject::moveToThread: Current thread (0x4efc8a0) is not the object's thread (0x4ceaac0).\n",
      "Cannot move to target thread (0x4efc8a0)\n",
      "\n",
      "QObject::moveToThread: Current thread (0x4efc8a0) is not the object's thread (0x4ceaac0).\n",
      "Cannot move to target thread (0x4efc8a0)\n",
      "\n",
      "QObject::moveToThread: Current thread (0x4efc8a0) is not the object's thread (0x4ceaac0).\n",
      "Cannot move to target thread (0x4efc8a0)\n",
      "\n",
      "QObject::moveToThread: Current thread (0x4efc8a0) is not the object's thread (0x4ceaac0).\n",
      "Cannot move to target thread (0x4efc8a0)\n",
      "\n",
      "QObject::moveToThread: Current thread (0x4efc8a0) is not the object's thread (0x4ceaac0).\n",
      "Cannot move to target thread (0x4efc8a0)\n",
      "\n",
      "QObject::moveToThread: Current thread (0x4efc8a0) is not the object's thread (0x4ceaac0).\n",
      "Cannot move to target thread (0x4efc8a0)\n",
      "\n",
      "QObject::moveToThread: Current thread (0x4efc8a0) is not the object's thread (0x4ceaac0).\n",
      "Cannot move to target thread (0x4efc8a0)\n",
      "\n",
      "QObject::moveToThread: Current thread (0x4efc8a0) is not the object's thread (0x4ceaac0).\n",
      "Cannot move to target thread (0x4efc8a0)\n",
      "\n",
      "QObject::moveToThread: Current thread (0x4efc8a0) is not the object's thread (0x4ceaac0).\n",
      "Cannot move to target thread (0x4efc8a0)\n",
      "\n",
      "QObject::moveToThread: Current thread (0x4efc8a0) is not the object's thread (0x4ceaac0).\n",
      "Cannot move to target thread (0x4efc8a0)\n",
      "\n",
      "QObject::moveToThread: Current thread (0x4efc8a0) is not the object's thread (0x4ceaac0).\n",
      "Cannot move to target thread (0x4efc8a0)\n",
      "\n",
      "QObject::moveToThread: Current thread (0x4efc8a0) is not the object's thread (0x4ceaac0).\n",
      "Cannot move to target thread (0x4efc8a0)\n",
      "\n",
      "QObject::moveToThread: Current thread (0x4efc8a0) is not the object's thread (0x4ceaac0).\n",
      "Cannot move to target thread (0x4efc8a0)\n",
      "\n",
      "QObject::moveToThread: Current thread (0x4efc8a0) is not the object's thread (0x4ceaac0).\n",
      "Cannot move to target thread (0x4efc8a0)\n",
      "\n",
      "QObject::moveToThread: Current thread (0x4efc8a0) is not the object's thread (0x4ceaac0).\n",
      "Cannot move to target thread (0x4efc8a0)\n",
      "\n",
      "QObject::moveToThread: Current thread (0x4efc8a0) is not the object's thread (0x4ceaac0).\n",
      "Cannot move to target thread (0x4efc8a0)\n",
      "\n",
      "QObject::moveToThread: Current thread (0x4efc8a0) is not the object's thread (0x4ceaac0).\n",
      "Cannot move to target thread (0x4efc8a0)\n",
      "\n",
      "QObject::moveToThread: Current thread (0x4efc8a0) is not the object's thread (0x4ceaac0).\n",
      "Cannot move to target thread (0x4efc8a0)\n",
      "\n",
      "QObject::moveToThread: Current thread (0x4efc8a0) is not the object's thread (0x4ceaac0).\n",
      "Cannot move to target thread (0x4efc8a0)\n",
      "\n",
      "QObject::moveToThread: Current thread (0x4efc8a0) is not the object's thread (0x4ceaac0).\n",
      "Cannot move to target thread (0x4efc8a0)\n",
      "\n",
      "QObject::moveToThread: Current thread (0x4efc8a0) is not the object's thread (0x4ceaac0).\n",
      "Cannot move to target thread (0x4efc8a0)\n",
      "\n",
      "QObject::moveToThread: Current thread (0x4efc8a0) is not the object's thread (0x4ceaac0).\n",
      "Cannot move to target thread (0x4efc8a0)\n",
      "\n",
      "QObject::moveToThread: Current thread (0x4efc8a0) is not the object's thread (0x4ceaac0).\n",
      "Cannot move to target thread (0x4efc8a0)\n",
      "\n",
      "QObject::moveToThread: Current thread (0x4efc8a0) is not the object's thread (0x4ceaac0).\n",
      "Cannot move to target thread (0x4efc8a0)\n",
      "\n",
      "QObject::moveToThread: Current thread (0x4efc8a0) is not the object's thread (0x4ceaac0).\n",
      "Cannot move to target thread (0x4efc8a0)\n",
      "\n",
      "QObject::moveToThread: Current thread (0x4efc8a0) is not the object's thread (0x4ceaac0).\n",
      "Cannot move to target thread (0x4efc8a0)\n",
      "\n",
      "QObject::moveToThread: Current thread (0x4efc8a0) is not the object's thread (0x4ceaac0).\n",
      "Cannot move to target thread (0x4efc8a0)\n",
      "\n",
      "QObject::moveToThread: Current thread (0x4efc8a0) is not the object's thread (0x4ceaac0).\n",
      "Cannot move to target thread (0x4efc8a0)\n",
      "\n",
      "QObject::moveToThread: Current thread (0x4efc8a0) is not the object's thread (0x4ceaac0).\n",
      "Cannot move to target thread (0x4efc8a0)\n",
      "\n",
      "QObject::moveToThread: Current thread (0x4efc8a0) is not the object's thread (0x4ceaac0).\n",
      "Cannot move to target thread (0x4efc8a0)\n",
      "\n",
      "QObject::moveToThread: Current thread (0x4efc8a0) is not the object's thread (0x4ceaac0).\n",
      "Cannot move to target thread (0x4efc8a0)\n",
      "\n",
      "QObject::moveToThread: Current thread (0x4efc8a0) is not the object's thread (0x4ceaac0).\n",
      "Cannot move to target thread (0x4efc8a0)\n",
      "\n",
      "QObject::moveToThread: Current thread (0x4efc8a0) is not the object's thread (0x4ceaac0).\n",
      "Cannot move to target thread (0x4efc8a0)\n",
      "\n",
      "QObject::moveToThread: Current thread (0x4efc8a0) is not the object's thread (0x4ceaac0).\n",
      "Cannot move to target thread (0x4efc8a0)\n",
      "\n",
      "QObject::moveToThread: Current thread (0x4efc8a0) is not the object's thread (0x4ceaac0).\n",
      "Cannot move to target thread (0x4efc8a0)\n",
      "\n",
      "QObject::moveToThread: Current thread (0x4efc8a0) is not the object's thread (0x4ceaac0).\n",
      "Cannot move to target thread (0x4efc8a0)\n",
      "\n",
      "QObject::moveToThread: Current thread (0x4efc8a0) is not the object's thread (0x4ceaac0).\n",
      "Cannot move to target thread (0x4efc8a0)\n",
      "\n",
      "QObject::moveToThread: Current thread (0x4efc8a0) is not the object's thread (0x4ceaac0).\n",
      "Cannot move to target thread (0x4efc8a0)\n",
      "\n",
      "QObject::moveToThread: Current thread (0x4efc8a0) is not the object's thread (0x4ceaac0).\n",
      "Cannot move to target thread (0x4efc8a0)\n",
      "\n",
      "QObject::moveToThread: Current thread (0x4efc8a0) is not the object's thread (0x4ceaac0).\n",
      "Cannot move to target thread (0x4efc8a0)\n",
      "\n",
      "QObject::moveToThread: Current thread (0x4efc8a0) is not the object's thread (0x4ceaac0).\n",
      "Cannot move to target thread (0x4efc8a0)\n",
      "\n",
      "QObject::moveToThread: Current thread (0x4efc8a0) is not the object's thread (0x4ceaac0).\n",
      "Cannot move to target thread (0x4efc8a0)\n",
      "\n",
      "QObject::moveToThread: Current thread (0x4efc8a0) is not the object's thread (0x4ceaac0).\n",
      "Cannot move to target thread (0x4efc8a0)\n",
      "\n",
      "QObject::moveToThread: Current thread (0x4efc8a0) is not the object's thread (0x4ceaac0).\n",
      "Cannot move to target thread (0x4efc8a0)\n",
      "\n",
      "QObject::moveToThread: Current thread (0x4efc8a0) is not the object's thread (0x4ceaac0).\n",
      "Cannot move to target thread (0x4efc8a0)\n",
      "\n",
      "QObject::moveToThread: Current thread (0x4efc8a0) is not the object's thread (0x4ceaac0).\n",
      "Cannot move to target thread (0x4efc8a0)\n",
      "\n",
      "QObject::moveToThread: Current thread (0x4efc8a0) is not the object's thread (0x4ceaac0).\n",
      "Cannot move to target thread (0x4efc8a0)\n",
      "\n",
      "QObject::moveToThread: Current thread (0x4efc8a0) is not the object's thread (0x4ceaac0).\n",
      "Cannot move to target thread (0x4efc8a0)\n",
      "\n",
      "QObject::moveToThread: Current thread (0x4efc8a0) is not the object's thread (0x4ceaac0).\n",
      "Cannot move to target thread (0x4efc8a0)\n",
      "\n",
      "QObject::moveToThread: Current thread (0x4efc8a0) is not the object's thread (0x4ceaac0).\n",
      "Cannot move to target thread (0x4efc8a0)\n",
      "\n",
      "QObject::moveToThread: Current thread (0x4efc8a0) is not the object's thread (0x4ceaac0).\n",
      "Cannot move to target thread (0x4efc8a0)\n",
      "\n",
      "QObject::moveToThread: Current thread (0x4efc8a0) is not the object's thread (0x4ceaac0).\n",
      "Cannot move to target thread (0x4efc8a0)\n",
      "\n",
      "QObject::moveToThread: Current thread (0x4efc8a0) is not the object's thread (0x4ceaac0).\n",
      "Cannot move to target thread (0x4efc8a0)\n",
      "\n",
      "QObject::moveToThread: Current thread (0x4efc8a0) is not the object's thread (0x4ceaac0).\n",
      "Cannot move to target thread (0x4efc8a0)\n",
      "\n",
      "QObject::moveToThread: Current thread (0x4efc8a0) is not the object's thread (0x4ceaac0).\n",
      "Cannot move to target thread (0x4efc8a0)\n",
      "\n",
      "QObject::moveToThread: Current thread (0x4efc8a0) is not the object's thread (0x4ceaac0).\n",
      "Cannot move to target thread (0x4efc8a0)\n",
      "\n",
      "QObject::moveToThread: Current thread (0x4efc8a0) is not the object's thread (0x4ceaac0).\n",
      "Cannot move to target thread (0x4efc8a0)\n",
      "\n",
      "QObject::moveToThread: Current thread (0x4efc8a0) is not the object's thread (0x4ceaac0).\n",
      "Cannot move to target thread (0x4efc8a0)\n",
      "\n",
      "QObject::moveToThread: Current thread (0x4efc8a0) is not the object's thread (0x4ceaac0).\n",
      "Cannot move to target thread (0x4efc8a0)\n",
      "\n",
      "QObject::moveToThread: Current thread (0x4efc8a0) is not the object's thread (0x4ceaac0).\n",
      "Cannot move to target thread (0x4efc8a0)\n",
      "\n",
      "QObject::moveToThread: Current thread (0x4efc8a0) is not the object's thread (0x4ceaac0).\n",
      "Cannot move to target thread (0x4efc8a0)\n",
      "\n",
      "QObject::moveToThread: Current thread (0x4efc8a0) is not the object's thread (0x4ceaac0).\n",
      "Cannot move to target thread (0x4efc8a0)\n",
      "\n",
      "QObject::moveToThread: Current thread (0x4efc8a0) is not the object's thread (0x4ceaac0).\n",
      "Cannot move to target thread (0x4efc8a0)\n",
      "\n",
      "QObject::moveToThread: Current thread (0x4efc8a0) is not the object's thread (0x4ceaac0).\n",
      "Cannot move to target thread (0x4efc8a0)\n",
      "\n",
      "QObject::moveToThread: Current thread (0x4efc8a0) is not the object's thread (0x4ceaac0).\n",
      "Cannot move to target thread (0x4efc8a0)\n",
      "\n",
      "QObject::moveToThread: Current thread (0x4efc8a0) is not the object's thread (0x4ceaac0).\n",
      "Cannot move to target thread (0x4efc8a0)\n",
      "\n",
      "QObject::moveToThread: Current thread (0x4efc8a0) is not the object's thread (0x4ceaac0).\n",
      "Cannot move to target thread (0x4efc8a0)\n",
      "\n",
      "QObject::moveToThread: Current thread (0x4efc8a0) is not the object's thread (0x4ceaac0).\n",
      "Cannot move to target thread (0x4efc8a0)\n",
      "\n",
      "QObject::moveToThread: Current thread (0x4efc8a0) is not the object's thread (0x4ceaac0).\n",
      "Cannot move to target thread (0x4efc8a0)\n",
      "\n",
      "QObject::moveToThread: Current thread (0x4efc8a0) is not the object's thread (0x4ceaac0).\n",
      "Cannot move to target thread (0x4efc8a0)\n",
      "\n",
      "QObject::moveToThread: Current thread (0x4efc8a0) is not the object's thread (0x4ceaac0).\n",
      "Cannot move to target thread (0x4efc8a0)\n",
      "\n",
      "QObject::moveToThread: Current thread (0x4efc8a0) is not the object's thread (0x4ceaac0).\n",
      "Cannot move to target thread (0x4efc8a0)\n",
      "\n",
      "QObject::moveToThread: Current thread (0x4efc8a0) is not the object's thread (0x4ceaac0).\n",
      "Cannot move to target thread (0x4efc8a0)\n",
      "\n",
      "QObject::moveToThread: Current thread (0x4efc8a0) is not the object's thread (0x4ceaac0).\n",
      "Cannot move to target thread (0x4efc8a0)\n",
      "\n",
      "QObject::moveToThread: Current thread (0x4efc8a0) is not the object's thread (0x4ceaac0).\n",
      "Cannot move to target thread (0x4efc8a0)\n",
      "\n",
      "QObject::moveToThread: Current thread (0x4efc8a0) is not the object's thread (0x4ceaac0).\n",
      "Cannot move to target thread (0x4efc8a0)\n",
      "\n",
      "QObject::moveToThread: Current thread (0x4efc8a0) is not the object's thread (0x4ceaac0).\n",
      "Cannot move to target thread (0x4efc8a0)\n",
      "\n",
      "QObject::moveToThread: Current thread (0x4efc8a0) is not the object's thread (0x4ceaac0).\n",
      "Cannot move to target thread (0x4efc8a0)\n",
      "\n",
      "QObject::moveToThread: Current thread (0x4efc8a0) is not the object's thread (0x4ceaac0).\n",
      "Cannot move to target thread (0x4efc8a0)\n",
      "\n",
      "QObject::moveToThread: Current thread (0x4efc8a0) is not the object's thread (0x4ceaac0).\n",
      "Cannot move to target thread (0x4efc8a0)\n",
      "\n",
      "QObject::moveToThread: Current thread (0x4efc8a0) is not the object's thread (0x4ceaac0).\n",
      "Cannot move to target thread (0x4efc8a0)\n",
      "\n",
      "QObject::moveToThread: Current thread (0x4efc8a0) is not the object's thread (0x4ceaac0).\n",
      "Cannot move to target thread (0x4efc8a0)\n",
      "\n",
      "QObject::moveToThread: Current thread (0x4efc8a0) is not the object's thread (0x4ceaac0).\n",
      "Cannot move to target thread (0x4efc8a0)\n",
      "\n",
      "QObject::moveToThread: Current thread (0x4efc8a0) is not the object's thread (0x4ceaac0).\n",
      "Cannot move to target thread (0x4efc8a0)\n",
      "\n",
      "QObject::moveToThread: Current thread (0x4efc8a0) is not the object's thread (0x4ceaac0).\n",
      "Cannot move to target thread (0x4efc8a0)\n",
      "\n",
      "QObject::moveToThread: Current thread (0x4efc8a0) is not the object's thread (0x4ceaac0).\n",
      "Cannot move to target thread (0x4efc8a0)\n",
      "\n",
      "QObject::moveToThread: Current thread (0x4efc8a0) is not the object's thread (0x4ceaac0).\n",
      "Cannot move to target thread (0x4efc8a0)\n",
      "\n",
      "QObject::moveToThread: Current thread (0x4efc8a0) is not the object's thread (0x4ceaac0).\n",
      "Cannot move to target thread (0x4efc8a0)\n",
      "\n",
      "QObject::moveToThread: Current thread (0x4efc8a0) is not the object's thread (0x4ceaac0).\n",
      "Cannot move to target thread (0x4efc8a0)\n",
      "\n",
      "QObject::moveToThread: Current thread (0x4efc8a0) is not the object's thread (0x4ceaac0).\n",
      "Cannot move to target thread (0x4efc8a0)\n",
      "\n",
      "QObject::moveToThread: Current thread (0x4efc8a0) is not the object's thread (0x4ceaac0).\n",
      "Cannot move to target thread (0x4efc8a0)\n",
      "\n",
      "QObject::moveToThread: Current thread (0x4efc8a0) is not the object's thread (0x4ceaac0).\n",
      "Cannot move to target thread (0x4efc8a0)\n",
      "\n",
      "QObject::moveToThread: Current thread (0x4efc8a0) is not the object's thread (0x4ceaac0).\n",
      "Cannot move to target thread (0x4efc8a0)\n",
      "\n",
      "QObject::moveToThread: Current thread (0x4efc8a0) is not the object's thread (0x4ceaac0).\n",
      "Cannot move to target thread (0x4efc8a0)\n",
      "\n",
      "QObject::moveToThread: Current thread (0x4efc8a0) is not the object's thread (0x4ceaac0).\n",
      "Cannot move to target thread (0x4efc8a0)\n",
      "\n",
      "QObject::moveToThread: Current thread (0x4efc8a0) is not the object's thread (0x4ceaac0).\n",
      "Cannot move to target thread (0x4efc8a0)\n",
      "\n",
      "QObject::moveToThread: Current thread (0x4efc8a0) is not the object's thread (0x4ceaac0).\n",
      "Cannot move to target thread (0x4efc8a0)\n",
      "\n",
      "QObject::moveToThread: Current thread (0x4efc8a0) is not the object's thread (0x4ceaac0).\n",
      "Cannot move to target thread (0x4efc8a0)\n",
      "\n",
      "QObject::moveToThread: Current thread (0x4efc8a0) is not the object's thread (0x4ceaac0).\n",
      "Cannot move to target thread (0x4efc8a0)\n",
      "\n",
      "QObject::moveToThread: Current thread (0x4efc8a0) is not the object's thread (0x4ceaac0).\n",
      "Cannot move to target thread (0x4efc8a0)\n",
      "\n",
      "QObject::moveToThread: Current thread (0x4efc8a0) is not the object's thread (0x4ceaac0).\n",
      "Cannot move to target thread (0x4efc8a0)\n",
      "\n",
      "QObject::moveToThread: Current thread (0x4efc8a0) is not the object's thread (0x4ceaac0).\n",
      "Cannot move to target thread (0x4efc8a0)\n",
      "\n",
      "QObject::moveToThread: Current thread (0x4efc8a0) is not the object's thread (0x4ceaac0).\n",
      "Cannot move to target thread (0x4efc8a0)\n",
      "\n",
      "QObject::moveToThread: Current thread (0x4efc8a0) is not the object's thread (0x4ceaac0).\n",
      "Cannot move to target thread (0x4efc8a0)\n",
      "\n",
      "QObject::moveToThread: Current thread (0x4efc8a0) is not the object's thread (0x4ceaac0).\n",
      "Cannot move to target thread (0x4efc8a0)\n",
      "\n",
      "QObject::moveToThread: Current thread (0x4efc8a0) is not the object's thread (0x4ceaac0).\n",
      "Cannot move to target thread (0x4efc8a0)\n",
      "\n",
      "QObject::moveToThread: Current thread (0x4efc8a0) is not the object's thread (0x4ceaac0).\n",
      "Cannot move to target thread (0x4efc8a0)\n",
      "\n",
      "QObject::moveToThread: Current thread (0x4efc8a0) is not the object's thread (0x4ceaac0).\n",
      "Cannot move to target thread (0x4efc8a0)\n",
      "\n"
     ]
    },
    {
     "name": "stdout",
     "output_type": "stream",
     "text": [
      "Tracking finished. Detection success: 80.88637176500002%.\n"
     ]
    }
   ],
   "source": [
    "ballpos = []\n",
    "fails = 0\n",
    "\n",
    "Vidcap = cv2.VideoCapture(VideoPath.as_posix())\n",
    "TotFrame = int(Vidcap.get(cv2.CAP_PROP_FRAME_COUNT))\n",
    "last = 0\n",
    "\n",
    "while True:\n",
    "    ret, frame = Vidcap.read() # Grab frame\n",
    "    this = Vidcap.get(1)\n",
    "    if ret:\n",
    "\n",
    "        im_full_gray = cv2.cvtColor(frame, cv2.COLOR_BGR2GRAY) # convert to grayscale\n",
    "        cropped = im_full_gray[cropping_parameters[0]:cropping_parameters[1],:]\n",
    "\n",
    "        filtered = cv2.medianBlur(cropped,5)\n",
    "\n",
    "        circles = cv2.HoughCircles(filtered, cv2.HOUGH_GRADIENT, 1, 125,\n",
    "                                   param1=param1, param2=param2,\n",
    "                                   minRadius=minrad, maxRadius=maxrad)\n",
    "\n",
    "        if circles is not None:\n",
    "            circles = np.uint16(np.around(circles))\n",
    "            for i in circles[0, :]:\n",
    "                center = (i[0], i[1])\n",
    "                ballpos.append(center)\n",
    "                # circle center\n",
    "                cv2.circle(cropped, center, 1, (255, 0, 255), 3)\n",
    "                # circle outline\n",
    "                radius = i[2]\n",
    "                #cv2.circle(cropped, center, radius, (255, 0, 255), 3)\n",
    "        elif len(ballpos) > 0:\n",
    "            fails += 1\n",
    "            ballpos.append(ballpos[-1])\n",
    "        else:\n",
    "            fails += 1\n",
    "            ballpos.append((None, None))\n",
    "\n",
    "        i = int(this)\n",
    "\n",
    "        cv2.putText(img=cropped, text=str(i)+'/'+str(TotFrame), color=(255,0,0), org=(0,30), fontFace=cv2.FONT_HERSHEY_SIMPLEX, fontScale=0.3, thickness=1, lineType=cv2.LINE_AA,)\n",
    "        cv2.imshow(\"detected circles\", cropped)\n",
    "\n",
    "\n",
    "\n",
    "        if cv2.waitKey(1) == 27:\n",
    "            exit(0)\n",
    "    if last >= this:\n",
    "        break\n",
    "    last = this\n",
    "Vidcap.release()\n",
    "cv2.destroyAllWindows()\n",
    "cv2.waitKey(1)\n",
    "\n",
    "print('Tracking finished. Detection success: ' + str(((TotFrame-fails)/TotFrame)*100) + '%.')"
   ]
  },
  {
   "cell_type": "markdown",
   "metadata": {
    "collapsed": false
   },
   "source": [
    "# Check tracking quality"
   ]
  },
  {
   "cell_type": "markdown",
   "metadata": {
    "collapsed": false
   },
   "source": [
    "In this part, ball position over time is checked for any aberration."
   ]
  },
  {
   "cell_type": "code",
   "execution_count": 64,
   "metadata": {
    "collapsed": false
   },
   "outputs": [
    {
     "data": {
      "text/plain": [
       "[<matplotlib.lines.Line2D at 0x7f08e9bef2e0>,\n",
       " <matplotlib.lines.Line2D at 0x7f08e9bef340>]"
      ]
     },
     "execution_count": 64,
     "metadata": {},
     "output_type": "execute_result"
    },
    {
     "data": {
      "image/png": "[encoded data removed]",
      "text/plain": [
       "<Figure size 640x480 with 1 Axes>"
      ]
     },
     "metadata": {},
     "output_type": "display_data"
    }
   ],
   "source": [
    "%matplotlib inline\n",
    "plt.plot(ballpos)\n",
    "#plt.plot(list(filter(lambda item: item is not None, ballpos[1]))"
   ]
  },
  {
   "cell_type": "markdown",
   "metadata": {
    "collapsed": false
   },
   "source": [
    "\n",
    "# Save Ball positions in a dataframe for analysis"
   ]
  },
  {
   "cell_type": "code",
   "execution_count": 68,
   "metadata": {
    "collapsed": false
   },
   "outputs": [],
   "source": [
    "trackresults = {\n",
    "    'frame': list(range(1,len(ballpos)+1)),\n",
    "    'xpos': list(map(lambda x: x[0], ballpos)),\n",
    "    'ypos': list(map(lambda x: x[1], ballpos)),\n",
    "}\n",
    "\n",
    "df = pd.DataFrame(trackresults)\n",
    "\n",
    "df.to_csv(VideoPath.parent.joinpath('BallPositions.csv').as_posix(), index=False)"
   ]
  },
  {
   "cell_type": "code",
   "execution_count": 1,
   "metadata": {},
   "outputs": [],
   "source": [
    "# TODO : add adaptive equalization to the pipeline to account for edges videos that are not well lit."
   ]
  },
  {
   "attachments": {},
   "cell_type": "markdown",
   "metadata": {},
   "source": []
  },
  {
   "cell_type": "markdown",
   "metadata": {
    "collapsed": false
   },
   "source": [
    "# Supplementary 1: Understand how Hough circles parameters 1 and 2 work\n",
    "\n",
    "Before performing the Hough transform, opencv's Hough circles function performs a canny edge detection. This algorithm uses the same parameters 1 and 2 and can be performed independently to see how frames would look like during processing."
   ]
  },
  {
   "cell_type": "markdown",
   "metadata": {
    "collapsed": false
   },
   "source": [
    "![parameters 1 and 2 explanation](/home/durrieu/Tracking_Analysis/Tracktor/BallTracking/hysteresis.jpg)\n",
    "\n",
    "In this image parameter 1 is maxVal, it is the threshold of gray values above which any pixel should be considered an edge. Conversely, parameter 2 is minVal. Any value below parameter 2 should be considered as not edge.\n",
    "\n",
    "Once these values are set, edges are detected according to their connectivity. In this example, A is considered sure edge. B and C are both within the right threshold values but while C is connected to a sure edge, B isn't. B will not be considered as edge while C will."
   ]
  },
  {
   "cell_type": "code",
   "execution_count": 82,
   "metadata": {
    "collapsed": false
   },
   "outputs": [
    {
     "data": {
      "image/png": "[encoded data removed]",
      "text/plain": [
       "<Figure size 640x480 with 2 Axes>"
      ]
     },
     "metadata": {},
     "output_type": "display_data"
    }
   ],
   "source": [
    "MinVal=100\n",
    "MaxVal=200\n",
    "\n",
    "cannyedge = cv2.Canny(im_full_gray, MinVal, MaxVal)\n",
    "\n",
    "plt.subplot(1,2,1)\n",
    "plt.imshow(im_full_gray, cmap='gray', vmin=0, vmax=255)\n",
    "plt.title('Original')\n",
    "plt.axis('off')\n",
    "\n",
    "plt.subplot(1,2,2)\n",
    "plt.imshow(cannyedge, cmap='gray', vmin=0, vmax=255)\n",
    "plt.title('Canny edge detection')\n",
    "plt.axis('off')\n",
    "\n",
    "plt.tight_layout()\n",
    "plt.show()"
   ]
  },
  {
   "cell_type": "markdown",
   "metadata": {
    "collapsed": false
   },
   "source": [
    "Note that in Canny syntax, parameter 1 and 2 are in the 'minval to maxval' order, while in the HoughCircles syntax it's the opposite."
   ]
  }
 ],
 "metadata": {
  "kernelspec": {
   "display_name": "python (TrackingAnalysis)",
   "language": "python",
   "name": "trackinganalysis"
  },
  "language_info": {
   "codemirror_mode": {
    "name": "ipython",
    "version": 3
   },
   "file_extension": ".py",
   "mimetype": "text/x-python",
   "name": "python",
   "nbconvert_exporter": "python",
   "pygments_lexer": "ipython3",
   "version": "3.10.4 (main, Mar 31 2022, 03:38:35) [Clang 12.0.0 ]"
  },
  "vscode": {
   "interpreter": {
    "hash": "916dbcbb3f70747c44a77c7bcd40155683ae19c65e1c03b4aa3499c5328201f1"
   }
  }
 },
 "nbformat": 4,
 "nbformat_minor": 0
}
