{
 "cells": [
  {
   "cell_type": "markdown",
   "metadata": {},
   "source": [
    "# Cropping arenas using OpenCV\n",
    "\n",
    "in this notebook we demonstrate how arenas can be cropped out of an image using OpenCV tools.\n",
    "\n",
    "# Packages import"
   ]
  },
  {
   "cell_type": "code",
   "execution_count": null,
   "metadata": {},
   "outputs": [],
   "source": [
    "import cv2\n",
    "import matplotlib.pyplot as plt"
   ]
  },
  {
   "cell_type": "markdown",
   "metadata": {},
   "source": [
    "# Loading the image and displaying it\n",
    "\n",
    "The first step is to load the images to be processed. A good practice when working with images where color doesn't matter is to convert the image in grayscale if they're not already."
   ]
  },
  {
   "cell_type": "code",
   "execution_count": null,
   "metadata": {},
   "outputs": [],
   "source": [
    "# Load the image\n",
    "img = cv2.imread(\"image35682.jpg\")\n",
    "\n",
    "# Convert to grayscale if not already\n",
    "if len(img.shape) > 2:\n",
    "    img = cv2.cvtColor(img, cv2.COLOR_BGR2GRAY)\n",
    "\n",
    "# Display the image\n",
    "fig, ax = plt.subplots()\n",
    "plt.axis(\"off\")\n",
    "im = ax.imshow(img, cmap=\"gray\", vmin=0, vmax = 255)\n",
    "\n",
    "plt.show()"
   ]
  },
  {
   "cell_type": "markdown",
   "metadata": {},
   "source": [
    "# Cropping the arenas\n",
    "\n",
    "The arena cropping itself doesn't require precision and arenas are always distributed the same way in the images; therefore a quick and easy way to crop them is to find the coordinates of interest in the image and use them to crop the arenas.\n",
    "\n",
    "> Note that the y axis is inverted in the image, which is standard with this kind of object"
   ]
  },
  {
   "cell_type": "code",
   "execution_count": null,
   "metadata": {},
   "outputs": [],
   "source": [
    "# Enter the arenas coordinates\n",
    "\n",
    "X1 = 0\n",
    "X2 = 620\n",
    "X3 = 1450\n",
    "X4 = 2130\n",
    "X5 = 2980\n",
    "X6 = 3590\n",
    "\n",
    "Y1 = 0\n",
    "Y2 = 725\n",
    "Y3 = 1140\n",
    "Y4 = 1860\n",
    "Y5 = 2350\n",
    "Y6 = 2995\n",
    "\n",
    "# Make tuples containing the 9 combinations of coordinates required to get the arenas\n",
    "\n",
    "regions_of_interest = [\n",
    "    (X1, Y1, X2, Y2),\n",
    "    (X3, Y1, X4, Y2),\n",
    "    (X5, Y1, X6, Y2),\n",
    "    (X1, Y3, X2, Y4),\n",
    "    (X3, Y3, X4, Y4),\n",
    "    (X5, Y3, X6, Y4),\n",
    "    (X1, Y5, X2, Y6),\n",
    "    (X3, Y5, X4, Y6),\n",
    "    (X5, Y5, X6, Y6),\n",
    "]\n",
    "\n",
    "# Create a 3x3 grid of subplots to display each crop\n",
    "\n",
    "fig, axs = plt.subplots(3, 3, figsize=(20, 20))\n",
    "for i in range(9):\n",
    "    axs[i // 3, i % 3].axis(\"off\")\n",
    "    axs[i // 3, i % 3].imshow(\n",
    "        img[\n",
    "            regions_of_interest[i][1] : regions_of_interest[i][3],\n",
    "            regions_of_interest[i][0] : regions_of_interest[i][2],\n",
    "        ],\n",
    "        cmap=\"gray\",\n",
    "        vmin=0,\n",
    "        vmax=255,\n",
    "    )\n",
    "\n",
    "# Remove the axis of each subplot and draw them closer together\n",
    "for ax in axs.flat:\n",
    "    ax.axis(\"off\")\n",
    "plt.subplots_adjust(wspace=0, hspace=0)"
   ]
  },
  {
   "cell_type": "code",
   "execution_count": null,
   "metadata": {},
   "outputs": [],
   "source": [
    "# Select the first arena\n",
    "\n",
    "Arena1 = img[\n",
    "    regions_of_interest[0][1] : regions_of_interest[0][3],\n",
    "    regions_of_interest[0][0] : regions_of_interest[0][2],\n",
    "]"
   ]
  }
 ],
 "metadata": {
  "kernelspec": {
   "display_name": "Main",
   "language": "python",
   "name": "python3"
  },
  "language_info": {
   "codemirror_mode": {
    "name": "ipython",
    "version": 3
   },
   "file_extension": ".py",
   "mimetype": "text/x-python",
   "name": "python",
   "nbconvert_exporter": "python",
   "pygments_lexer": "ipython3",
   "version": "3.10.13"
  }
 },
 "nbformat": 4,
 "nbformat_minor": 2
}
