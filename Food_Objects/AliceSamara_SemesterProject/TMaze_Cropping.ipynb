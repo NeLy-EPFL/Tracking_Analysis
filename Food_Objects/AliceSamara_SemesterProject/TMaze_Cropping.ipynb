{
 "cells": [
  {
   "cell_type": "markdown",
   "metadata": {},
   "source": [
    "This notebook shows a method to crop the T-Maze arenas from Alice and Samara's semester project experiments"
   ]
  },
  {
   "cell_type": "markdown",
   "metadata": {},
   "source": [
    "# Packages imports"
   ]
  },
  {
   "cell_type": "code",
   "execution_count": null,
   "metadata": {},
   "outputs": [],
   "source": [
    "from concurrent.futures import ProcessPoolExecutor\n",
    "from pathlib import Path\n",
    "import re\n",
    "from tqdm import tqdm\n",
    "import cv2\n",
    "import numpy as np\n",
    "from pathlib import Path\n",
    "from scipy import signal\n",
    "import re\n",
    "from tqdm import tqdm\n",
    "import matplotlib.pyplot as plt\n",
    "import mpldatacursor\n",
    "import shutil\n",
    "from itertools import repeat\n",
    "import subprocess\n",
    "import sys\n",
    "import os\n",
    "from joblib import Parallel, delayed"
   ]
  },
  {
   "cell_type": "markdown",
   "metadata": {},
   "source": [
    "# Opening and visualizing the sample image"
   ]
  },
  {
   "cell_type": "code",
   "execution_count": null,
   "metadata": {},
   "outputs": [],
   "source": [
    "img = cv2.imread(\"image35682.jpg\")\n",
    "\n",
    "if len(img.shape) > 2:\n",
    "    img = cv2.cvtColor(img, cv2.COLOR_BGR2GRAY)\n",
    "    \n",
    "fig, ax = plt.subplots()\n",
    "plt.axis(\"off\")\n",
    "im = ax.imshow(img, cmap=\"gray\", vmin=0, vmax = 255)\n",
    "\n",
    "mpldatacursor.datacursor()\n",
    "\n",
    "plt.show()\n",
    "\n"
   ]
  },
  {
   "cell_type": "markdown",
   "metadata": {},
   "source": [
    "# Cropping the arenas"
   ]
  },
  {
   "cell_type": "code",
   "execution_count": null,
   "metadata": {},
   "outputs": [],
   "source": [
    "import cv2\n",
    "import matplotlib.pyplot as plt\n",
    "\n",
    "X1 = 0\n",
    "X2 = 620\n",
    "X3 = 1450\n",
    "X4 = 2130\n",
    "X5 = 2980\n",
    "X6 = 3590\n",
    "\n",
    "Y1 = 0\n",
    "Y2 = 725\n",
    "Y3 = 1140\n",
    "Y4 = 1860\n",
    "Y5 = 2350\n",
    "Y6 = 2995\n",
    "\n",
    "regions_of_interest = [\n",
    "    (X1, Y1, X2, Y2),\n",
    "    (X3, Y1, X4, Y2),\n",
    "    (X5, Y1, X6, Y2),\n",
    "    (X1, Y3, X2, Y4),\n",
    "    (X3, Y3, X4, Y4),\n",
    "    (X5, Y3, X6, Y4),\n",
    "    (X1, Y5, X2, Y6),\n",
    "    (X3, Y5, X4, Y6),\n",
    "    (X5, Y5, X6, Y6),\n",
    "]\n",
    "\n",
    "fig, axs = plt.subplots(3, 3, figsize=(20, 20))\n",
    "for i in range(9):\n",
    "    axs[i // 3, i % 3].axis(\"off\")\n",
    "    axs[i // 3, i % 3].imshow(\n",
    "        img[\n",
    "            regions_of_interest[i][1] : regions_of_interest[i][3],\n",
    "            regions_of_interest[i][0] : regions_of_interest[i][2],\n",
    "        ],\n",
    "        cmap=\"gray\",\n",
    "        vmin=0,\n",
    "        vmax=255,\n",
    "    )\n",
    "\n",
    "# Remove the axis of each subplot and draw them closer together\n",
    "for ax in axs.flat:\n",
    "    ax.axis(\"off\")\n",
    "plt.subplots_adjust(wspace=0, hspace=0)"
   ]
  },
  {
   "cell_type": "code",
   "execution_count": null,
   "metadata": {},
   "outputs": [],
   "source": [
    "Arena1 = img[\n",
    "    regions_of_interest[0][1] : regions_of_interest[0][3],\n",
    "    regions_of_interest[0][0] : regions_of_interest[0][2],\n",
    "]"
   ]
  },
  {
   "cell_type": "markdown",
   "metadata": {},
   "source": [
    "# Find contours in the arena"
   ]
  },
  {
   "cell_type": "code",
   "execution_count": null,
   "metadata": {},
   "outputs": [],
   "source": [
    "# Apply histogram equalization to mitigate brightness variations\n",
    "\n",
    "frame = cv2.equalizeHist(Arena1)\n",
    "# Apply a binary threshold to the image\n",
    "_, threshold = cv2.threshold(Arena1, 80, 255, cv2.THRESH_BINARY)\n",
    "\n",
    "# Do some erode and dilate to remove noise\n",
    "kernel = np.ones((5, 5), np.uint8)\n",
    "\n",
    "#threshold = cv2.erode(threshold, kernel, iterations=1)\n",
    "\n",
    "threshold = cv2.dilate(threshold, kernel, iterations=1)\n",
    "\n",
    "# Display the image\n",
    "\n",
    "fig, ax = plt.subplots()\n",
    "plt.axis(\"off\")\n",
    "im = ax.imshow(threshold, cmap=\"gray\", vmin=0, vmax=255)\n",
    "\n",
    "plt.show()"
   ]
  },
  {
   "cell_type": "code",
   "execution_count": null,
   "metadata": {},
   "outputs": [],
   "source": [
    "\n",
    "# Find contours in the thresholded image\n",
    "contours, _ = cv2.findContours(threshold, cv2.RETR_EXTERNAL, cv2.CHAIN_APPROX_SIMPLE)\n",
    "\n",
    "# Plot the contours on the original image\n",
    "fig, ax = plt.subplots()\n",
    "plt.axis(\"off\")\n",
    "im = ax.imshow(Arena1, cmap=\"gray\", vmin=0, vmax=255)\n",
    "for contour in contours:\n",
    "    ax.plot(contour[:, 0, 0], contour[:, 0, 1], color=\"red\")\n",
    "    \n",
    "plt.show()"
   ]
  },
  {
   "cell_type": "code",
   "execution_count": null,
   "metadata": {},
   "outputs": [],
   "source": [
    "# Find most outer contours\n",
    "\n",
    "# Find the 3 contours with the largest area\n",
    "\n",
    "contours = sorted(contours, key=cv2.contourArea, reverse=True)[:3]\n",
    "\n",
    "# Plot the contours on the original image\n",
    "\n",
    "fig, ax = plt.subplots()\n",
    "plt.axis(\"off\")\n",
    "im = ax.imshow(Arena1, cmap=\"gray\", vmin=0, vmax=255)\n",
    "\n",
    "for contour in contours:\n",
    "    ax.plot(contour[:, 0, 0], contour[:, 0, 1], color=\"red\")\n",
    "\n",
    "plt.show()"
   ]
  },
  {
   "cell_type": "code",
   "execution_count": null,
   "metadata": {},
   "outputs": [],
   "source": [
    "# Crop the image to the bounding box of the three contours to generate 3 T mazes\n",
    "\n",
    "# Get the bounding box of the 3 contours\n",
    "\n",
    "bounding_boxes = [cv2.boundingRect(contour) for contour in contours]\n",
    "\n",
    "# Crop the image to the bounding box of the 3 contours\n",
    "\n",
    "T_mazes = [\n",
    "    Arena1[y : y + h, x : x + w] for x, y, w, h in bounding_boxes\n",
    "]\n",
    "\n",
    "# Display the 3 T mazes\n",
    "\n",
    "fig, axs = plt.subplots(1, 3, figsize=(20, 20))\n",
    "for i in range(3):\n",
    "    axs[i].axis(\"off\")\n",
    "    axs[i].imshow(T_mazes[i], cmap=\"gray\", vmin=0, vmax=255)\n",
    "    \n",
    "plt.show()"
   ]
  },
  {
   "cell_type": "code",
   "execution_count": null,
   "metadata": {},
   "outputs": [],
   "source": [
    "# Get the bounding box of the 3 contours\n",
    "bounding_boxes = [cv2.boundingRect(contour) for contour in contours]\n",
    "\n",
    "T_mazes = []\n",
    "\n",
    "for contour, (x, y, w, h) in zip(contours, bounding_boxes):\n",
    "    # Create a black image with the same dimensions as the original\n",
    "    mask = np.zeros_like(Arena1)\n",
    "\n",
    "    # Draw the contour on the mask in white\n",
    "    cv2.drawContours(mask, [contour], -1, (255), thickness=cv2.FILLED)\n",
    "\n",
    "    # Apply the mask to the image\n",
    "    masked_image = cv2.bitwise_and(Arena1, mask)\n",
    "\n",
    "    # Crop the image to the bounding box of the contour\n",
    "    T_mazes.append(masked_image[y : y + h, x : x + w])\n",
    "\n",
    "# Display the 3 T mazes\n",
    "fig, axs = plt.subplots(1, 3, figsize=(20, 20))\n",
    "for i in range(3):\n",
    "    axs[i].axis(\"off\")\n",
    "    axs[i].imshow(T_mazes[i], cmap=\"gray\", vmin=0, vmax=255)\n",
    "\n",
    "plt.show()"
   ]
  },
  {
   "cell_type": "code",
   "execution_count": null,
   "metadata": {},
   "outputs": [],
   "source": []
  }
 ],
 "metadata": {
  "kernelspec": {
   "display_name": "TrackingAnalysis",
   "language": "python",
   "name": "python3"
  },
  "language_info": {
   "codemirror_mode": {
    "name": "ipython",
    "version": 3
   },
   "file_extension": ".py",
   "mimetype": "text/x-python",
   "name": "python",
   "nbconvert_exporter": "python",
   "pygments_lexer": "ipython3",
   "version": "3.10.13"
  }
 },
 "nbformat": 4,
 "nbformat_minor": 2
}
