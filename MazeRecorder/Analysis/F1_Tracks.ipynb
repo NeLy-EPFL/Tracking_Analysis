{
 "cells": [
  {
   "cell_type": "code",
   "execution_count": null,
   "metadata": {},
   "outputs": [],
   "source": [
    "import sys\n",
    "import os\n",
    "from icecream import ic\n",
    "\n",
    "from pathlib import Path\n",
    "\n",
    "import utils_behavior\n",
    "\n",
    "from utils_behavior import Ballpushing_utils\n",
    "from utils_behavior import Utils\n",
    "from utils_behavior import Processing\n",
    "from utils_behavior import HoloviewsTemplates\n",
    "\n",
    "import pandas as pd\n",
    "import hvplot.pandas\n",
    "import numpy as np\n",
    "\n",
    "from scipy import stats\n",
    "from statsmodels.stats.multitest import multipletests\n",
    "\n",
    "from sklearn.decomposition import PCA\n",
    "from sklearn.preprocessing import StandardScaler\n",
    "import pandas as pd\n",
    "\n",
    "import matplotlib.pyplot as plt\n",
    "import seaborn as sns\n",
    "\n",
    "import iqplot\n",
    "\n",
    "import importlib\n",
    "\n",
    "import holoviews as hv\n",
    "import bokeh.io\n",
    "import colorcet\n",
    "\n",
    "bokeh.io.output_notebook()\n",
    "\n",
    "hv.extension(\"bokeh\")"
   ]
  },
  {
   "cell_type": "markdown",
   "metadata": {},
   "source": [
    "# plot with manual annotations"
   ]
  },
  {
   "cell_type": "code",
   "execution_count": null,
   "metadata": {},
   "outputs": [],
   "source": [
    "# Load csv dataset\n",
    "\n",
    "dataset = pd.read_csv(\"/mnt/upramdya_data/MD/F1_Tracks/Datasets/240819_F1Analysis.csv\")"
   ]
  },
  {
   "cell_type": "code",
   "execution_count": null,
   "metadata": {},
   "outputs": [],
   "source": [
    "dataset.columns"
   ]
  },
  {
   "cell_type": "code",
   "execution_count": null,
   "metadata": {},
   "outputs": [],
   "source": [
    "dataset.rename(columns={\"Fly\": \"fly\"}, inplace=True)"
   ]
  },
  {
   "cell_type": "code",
   "execution_count": null,
   "metadata": {},
   "outputs": [],
   "source": [
    "plot = HoloviewsTemplates.jitter_boxplot(\n",
    "    data=dataset,\n",
    "    metric=\"Adjusted_TimetoFinish\",\n",
    "    kdims=\"Condition\",\n",
    "    plot_options=HoloviewsTemplates.hv_slides,\n",
    ")"
   ]
  },
  {
   "cell_type": "code",
   "execution_count": null,
   "metadata": {},
   "outputs": [],
   "source": [
    "plot"
   ]
  },
  {
   "cell_type": "code",
   "execution_count": null,
   "metadata": {},
   "outputs": [],
   "source": [
    "# Rename y-axis\n",
    "\n",
    "plot = plot.opts(\n",
    "    ylabel=\"Adjusted Time to Finish (s)\",\n",
    "\n",
    ")"
   ]
  },
  {
   "cell_type": "code",
   "execution_count": null,
   "metadata": {},
   "outputs": [],
   "source": [
    "hv.save(plot, \"/mnt/upramdya_data/MD/F1_Tracks/Plots/240819_F1Analysis.html\")\n",
    "hv.save(plot, \"/mnt/upramdya_data/MD/F1_Tracks/Plots/240819_F1Analysis.png\")"
   ]
  },
  {
   "cell_type": "code",
   "execution_count": null,
   "metadata": {},
   "outputs": [],
   "source": [
    "plot2 = HoloviewsTemplates.jitter_boxplot(\n",
    "    data=dataset,\n",
    "    metric=\"TimetoFinish\",\n",
    "    kdims=\"Condition\",\n",
    "    plot_options=HoloviewsTemplates.hv_slides,\n",
    ").opts(ylabel=\"Time to Finish (s)\")\n",
    "\n",
    "hv.save(plot2, \"/mnt/upramdya_data/MD/F1_Tracks/Plots/240819_F1_TimetoFinish_Raw.html\")\n",
    "hv.save(plot2, \"/mnt/upramdya_data/MD/F1_Tracks/Plots/240819_F1_TimetoFinish_Raw.png\")"
   ]
  },
  {
   "cell_type": "code",
   "execution_count": null,
   "metadata": {},
   "outputs": [],
   "source": [
    "plot3 = HoloviewsTemplates.jitter_boxplot(\n",
    "    data=dataset,\n",
    "    metric=\"FirstMovetoFinish\",\n",
    "    kdims=\"Condition\",\n",
    "    plot_options=HoloviewsTemplates.hv_slides,\n",
    ").opts(ylabel=\"First move to finish (s)\")\n",
    "\n",
    "plot3"
   ]
  },
  {
   "cell_type": "code",
   "execution_count": null,
   "metadata": {},
   "outputs": [],
   "source": []
  }
 ],
 "metadata": {
  "kernelspec": {
   "display_name": "Main",
   "language": "python",
   "name": "python3"
  },
  "language_info": {
   "codemirror_mode": {
    "name": "ipython",
    "version": 3
   },
   "file_extension": ".py",
   "mimetype": "text/x-python",
   "name": "python",
   "nbconvert_exporter": "python",
   "pygments_lexer": "ipython3",
   "version": "3.10.13"
  }
 },
 "nbformat": 4,
 "nbformat_minor": 2
}
