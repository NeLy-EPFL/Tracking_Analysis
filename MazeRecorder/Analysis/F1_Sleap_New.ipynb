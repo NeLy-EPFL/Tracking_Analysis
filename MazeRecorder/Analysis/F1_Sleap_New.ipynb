{
 "cells": [
  {
   "cell_type": "code",
   "execution_count": null,
   "metadata": {},
   "outputs": [],
   "source": [
    "from utils_behavior import Sleap_utils\n",
    "from utils_behavior import HoloviewsTemplates\n",
    "from utils_behavior import HoloviewsPlots\n",
    "from utils_behavior import Utils\n",
    "from utils_behavior import Processing\n",
    "\n",
    "from utils_behavior import Ballpushing_utils\n",
    "\n",
    "\n",
    "import importlib\n",
    "\n",
    "from pathlib import Path\n",
    "\n",
    "import json\n",
    "\n",
    "from matplotlib import pyplot as plt\n",
    "import pandas as pd\n",
    "import holoviews as hv\n",
    "from holoviews import opts\n",
    "hv.extension('bokeh')\n",
    "import seaborn as sns\n",
    "from shiny import App, Inputs, Outputs, Session, reactive, render, req, ui\n",
    "\n",
    "\n",
    "\n",
    "#import lux\n",
    "\n",
    "import pandas as pd\n",
    "\n",
    "#lux.config.set_executor_type(\"Pandas\")\n",
    "\n",
    "import numpy as np\n",
    "import h5py\n",
    "import re"
   ]
  },
  {
   "cell_type": "code",
   "execution_count": null,
   "metadata": {},
   "outputs": [],
   "source": [
    "importlib.reload(Ballpushing_utils)"
   ]
  },
  {
   "cell_type": "code",
   "execution_count": null,
   "metadata": {},
   "outputs": [],
   "source": [
    "Datapath = Path(\"/mnt/upramdya_data/MD/F1_Tracks/Videos\")\n",
    "\n",
    "# Look for video folders and load Fly objects\n",
    "\n",
    "# videos = list(Datapath.rglob(\"*.mp4\"))\n",
    "\n",
    "# Flies = []\n",
    "\n",
    "# for video in videos:\n",
    "#     fly = Ballpushing_utils.Fly(video.parent)\n",
    "    \n",
    "#     Flies.append(fly)\n",
    "\n",
    "# For each directory in the datapath, load the Experiment object\n",
    "Experiments = []\n",
    "\n",
    "for exp in Datapath.iterdir():\n",
    "    if exp.is_dir():\n",
    "        experiment = Ballpushing_utils.Experiment(exp, experiment_type=\"F1\")\n",
    "        Experiments.append(experiment)"
   ]
  },
  {
   "cell_type": "code",
   "execution_count": null,
   "metadata": {},
   "outputs": [],
   "source": [
    "importlib.reload(Ballpushing_utils)"
   ]
  },
  {
   "cell_type": "code",
   "execution_count": null,
   "metadata": {},
   "outputs": [],
   "source": [
    "Data_F1 = Ballpushing_utils.Dataset(Experiments, dataset_type=\"F1_coordinates\" )\n",
    "\n",
    "str(Data_F1)"
   ]
  },
  {
   "cell_type": "code",
   "execution_count": null,
   "metadata": {},
   "outputs": [],
   "source": [
    "Data_F1_coordinates = Data_F1.data"
   ]
  },
  {
   "cell_type": "code",
   "execution_count": null,
   "metadata": {},
   "outputs": [],
   "source": [
    "# Save dataset as feather\n",
    "\n",
    "Data_F1_coordinates.to_feather(\"/mnt/upramdya_data/MD/F1_Tracks/Datasets/F1_coordinates.feather\")"
   ]
  },
  {
   "cell_type": "code",
   "execution_count": null,
   "metadata": {},
   "outputs": [],
   "source": [
    "Data_F1_coordinates[\"fly\"].nunique()"
   ]
  },
  {
   "cell_type": "code",
   "execution_count": null,
   "metadata": {},
   "outputs": [],
   "source": [
    "Data_F1_coordinates.head()"
   ]
  },
  {
   "cell_type": "code",
   "execution_count": null,
   "metadata": {},
   "outputs": [],
   "source": [
    "# Keep only data where adjusted time is >= 0\n",
    "\n",
    "Data_F1_coordinates = Data_F1_coordinates[Data_F1_coordinates[\"adjusted_time\"] >= 0]\n",
    "\n",
    "Data_F1_coordinates = Data_F1_coordinates[Data_F1_coordinates[\"adjusted_time\"] <= 2700]"
   ]
  },
  {
   "cell_type": "markdown",
   "metadata": {},
   "source": [
    "Permutation Test"
   ]
  },
  {
   "cell_type": "code",
   "execution_count": null,
   "metadata": {},
   "outputs": [],
   "source": [
    "Data_F1_coordinates['F1_condition'].unique()"
   ]
  },
  {
   "cell_type": "code",
   "execution_count": null,
   "metadata": {},
   "outputs": [],
   "source": [
    "Subset = Data_F1_coordinates[Data_F1_coordinates[\"F1_condition\"]!= \"pretrained_unlocked\"]"
   ]
  },
  {
   "cell_type": "code",
   "execution_count": null,
   "metadata": {},
   "outputs": [],
   "source": [
    "bins = 10\n",
    "\n",
    "Subset_binned = Processing.preprocess_data(Subset, time_col = \"adjusted_time\", value_col=\"test_ball\", group_col=\"F1_condition\", bins = bins) "
   ]
  },
  {
   "cell_type": "code",
   "execution_count": null,
   "metadata": {},
   "outputs": [],
   "source": [
    "permutation_test = Processing.compute_permutation_test(Subset_binned, metric = \"avg_test_ball\",group_col=\"F1_condition\", control_group=\"control\")\n",
    "\n",
    "permutation_test"
   ]
  },
  {
   "cell_type": "code",
   "execution_count": null,
   "metadata": {},
   "outputs": [],
   "source": [
    "Data_F1_coordinates.head()"
   ]
  },
  {
   "cell_type": "code",
   "execution_count": null,
   "metadata": {},
   "outputs": [],
   "source": [
    "# Smooth high frequency noise in the data\n",
    "\n",
    "Data_F1_coordinates[\"test_ball_smooth\"] = Data_F1_coordinates[\"test_ball\"].rolling(window=10, min_periods=1).mean()"
   ]
  },
  {
   "cell_type": "code",
   "execution_count": null,
   "metadata": {},
   "outputs": [],
   "source": [
    "# Save the dataset to a csv file\n",
    "\n",
    "Data_F1_coordinates.to_csv(\"/mnt/upramdya_data/MD/F1_Tracks/Datasets/241128_F1_Dataset.csv\")"
   ]
  },
  {
   "cell_type": "code",
   "execution_count": null,
   "metadata": {},
   "outputs": [],
   "source": [
    "Data_Avg = Data_F1_coordinates.groupby([\"F1_condition\", \"time\"]).mean(\"test_ball\").reset_index()\n",
    "\n",
    "# Data_Avg[\"test_ball_smooth\"] = Processing.savgol_lowpass_filter(\n",
    "#     Data_Avg[\"test_ball\"], window_length=221, polyorder=1\n",
    "# )\n",
    "\n",
    "Data_Avg\n"
   ]
  },
  {
   "cell_type": "code",
   "execution_count": null,
   "metadata": {},
   "outputs": [],
   "source": [
    "# Identify the time at which adjusted time is 0 for each fly\n",
    "zero_adjusted_time = Data_F1_coordinates.groupby('fly').apply(lambda df: df.loc[df['adjusted_time'].abs().idxmin(), 'time']).reset_index()\n",
    "zero_adjusted_time.columns = ['fly', 'zero_time']\n",
    "\n",
    "# Merge the zero_adjusted_time with the original DataFrame\n",
    "Data_F1_coordinates = Data_F1_coordinates.merge(zero_adjusted_time, on='fly')\n",
    "\n",
    "# Shift the time values\n",
    "Data_F1_coordinates['shifted_time'] = Data_F1_coordinates['time'] - Data_F1_coordinates['zero_time']"
   ]
  },
  {
   "cell_type": "code",
   "execution_count": null,
   "metadata": {},
   "outputs": [],
   "source": [
    "# make a rounded adjusted time column where the time is rounded to the nearest 10 seconds\n",
    "\n",
    "#Data_F1_coordinates[\"rounded_adjusted_time\"] = Data_F1_coordinates[\"adjusted_time\"].round(-1)\n",
    "\n",
    "# Round adjusted time values to the nearest 10 seconds\n",
    "Data_F1_coordinates['rounded_adjusted_time'] = (Data_F1_coordinates['adjusted_time'] / 10).round() * 10"
   ]
  },
  {
   "cell_type": "code",
   "execution_count": null,
   "metadata": {},
   "outputs": [],
   "source": [
    "Lineplot = sns.lineplot(data=Data_F1_coordinates, x=\"rounded_adjusted_time\", y=\"test_ball\", hue=\"F1_condition\")\n",
    "\n",
    "plt.savefig(f\"{plot_savepath}/241128_F1_Lineplot.png\")\n",
    "\n",
    "plt.show()"
   ]
  },
  {
   "cell_type": "code",
   "execution_count": null,
   "metadata": {},
   "outputs": [],
   "source": [
    "# Plot the average test ball distance grouped by condition over adjusted time with adjusted time starting at 0\n",
    "\n",
    "sns.lineplot(data=Data_Avg, x=\"adjusted_time\", y=\"test_ball_smooth\", hue=\"F1_condition\", ci=\"sd\")\n",
    "\n",
    "# Add the 95% confidence interval\n",
    "\n",
    "#plt.fill_between(Data_Avg[\"adjusted_time\"], Data_Avg[\"smoothed_test_ball_upper\"], Data_Avg[\"smoothed_test_ball_lower\"], alpha=0.3)\n",
    "\n",
    "plt.show()"
   ]
  },
  {
   "cell_type": "markdown",
   "metadata": {},
   "source": [
    "# Exploring the metrics"
   ]
  },
  {
   "cell_type": "code",
   "execution_count": null,
   "metadata": {},
   "outputs": [],
   "source": [
    "importlib.reload(Ballpushing_utils)"
   ]
  },
  {
   "cell_type": "code",
   "execution_count": null,
   "metadata": {},
   "outputs": [],
   "source": [
    "Data_F1_metrics = Ballpushing_utils.Dataset(Experiments, dataset_type=\"summary\" )\n",
    "\n",
    "str(Data_F1_metrics)"
   ]
  },
  {
   "cell_type": "code",
   "execution_count": null,
   "metadata": {},
   "outputs": [],
   "source": [
    "Data_metrics  = Data_F1_metrics.data"
   ]
  },
  {
   "cell_type": "code",
   "execution_count": null,
   "metadata": {},
   "outputs": [],
   "source": [
    "Data_metrics.head()"
   ]
  },
  {
   "cell_type": "code",
   "execution_count": null,
   "metadata": {},
   "outputs": [],
   "source": [
    "# Save the dataset to a csv file\n",
    "\n",
    "Data_metrics.to_csv(\"/mnt/upramdya_data/MD/F1_Tracks/Datasets/241128_F1_Summary.csv\")"
   ]
  },
  {
   "cell_type": "code",
   "execution_count": null,
   "metadata": {},
   "outputs": [],
   "source": [
    "# Load the dataset from the csv file\n",
    "\n",
    "Data_metrics = pd.read_csv(\"/mnt/upramdya_data/MD/F1_Tracks/Datasets/241115_F1_Summary.csv\")"
   ]
  },
  {
   "cell_type": "code",
   "execution_count": null,
   "metadata": {},
   "outputs": [],
   "source": [
    "Data_metrics"
   ]
  },
  {
   "cell_type": "code",
   "execution_count": null,
   "metadata": {},
   "outputs": [],
   "source": [
    "Data_metrics.columns"
   ]
  },
  {
   "cell_type": "code",
   "execution_count": null,
   "metadata": {},
   "outputs": [],
   "source": [
    "# Plot the pulling ratio for training as x and for test as y, colored by F1 condition\n",
    "\n",
    "# Data_Training = Data_metrics[(Data_metrics[\"F1_condition\"] != \"control\") & (Data_metrics[\"ball_condition\"] == \"training\")]\n",
    "# Data_Test = Data_metrics[(Data_metrics[\"F1_condition\"] != \"control\") & (Data_metrics[\"ball_condition\"] == \"test\")]\n",
    "\n",
    "Data_Training = Data_metrics[(Data_metrics[\"ball_condition\"] == \"training\")]\n",
    "Data_Test = Data_metrics[(Data_metrics[\"ball_condition\"] == \"test\")]\n",
    "\n",
    "merged = Data_Training.merge(Data_Test, on=\"fly\")"
   ]
  },
  {
   "cell_type": "code",
   "execution_count": null,
   "metadata": {},
   "outputs": [],
   "source": [
    "merged"
   ]
  },
  {
   "cell_type": "code",
   "execution_count": null,
   "metadata": {},
   "outputs": [],
   "source": [
    "plot_savepath = \"/mnt/upramdya_data/MD/F1_Tracks/Plots/250203_NewPlots\""
   ]
  },
  {
   "cell_type": "code",
   "execution_count": null,
   "metadata": {},
   "outputs": [],
   "source": [
    "# Seaborn styling\n",
    "\n",
    "sns.set_theme(style=\"whitegrid\")"
   ]
  },
  {
   "cell_type": "code",
   "execution_count": null,
   "metadata": {},
   "outputs": [],
   "source": [
    "plt.figure(figsize=(20, 20))\n",
    "# Create the jointplot\n",
    "g = sns.jointplot(data=merged, x='pulling_ratio_x', y='pulling_ratio_y', hue='F1_condition_x')\n",
    "\n",
    "# Set the title and labels using the JointGrid object\n",
    "g.fig.suptitle('Pulling Ratio: Training vs Test', y=1.03)\n",
    "g.set_axis_labels('Pulling Ratio (Training)', 'Pulling Ratio (Test)')\n",
    "\n",
    "# Save the plot before showing it\n",
    "plt.savefig(f\"{plot_savepath}/Pulling_Ratio_Training_vs_Test.png\", bbox_inches='tight')\n",
    "\n",
    "# Show the plot\n",
    "plt.show()"
   ]
  },
  {
   "cell_type": "code",
   "execution_count": null,
   "metadata": {},
   "outputs": [],
   "source": [
    "# Save the plot\n",
    "plt.savefig(f\"{plot_savepath}/Pulling_Ratio_Training_vs_Test.png\")\n"
   ]
  },
  {
   "cell_type": "code",
   "execution_count": null,
   "metadata": {},
   "outputs": [],
   "source": [
    "Data_Test = Data_metrics[(Data_metrics[\"ball_condition\"] == \"test\")]"
   ]
  },
  {
   "cell_type": "code",
   "execution_count": null,
   "metadata": {},
   "outputs": [],
   "source": [
    "# Save the dataset to a csv file\n",
    "\n",
    "Data_Test.to_csv(\"/mnt/upramdya_data/MD/F1_Tracks/Datasets/241128_F1_Summary_Test.csv\")"
   ]
  },
  {
   "cell_type": "code",
   "execution_count": null,
   "metadata": {},
   "outputs": [],
   "source": [
    "# Let's get rid of the flies that never exit the corridor, so for which exit_time is None\n",
    "\n",
    "Data_metrics = Data_metrics[Data_metrics[\"exit_time\"].notnull()]"
   ]
  },
  {
   "cell_type": "code",
   "execution_count": null,
   "metadata": {},
   "outputs": [],
   "source": [
    "# Make a jitter boxplot of first significant time as function of F1 condition\n",
    "\n",
    "# Create the figure and axes\n",
    "plt.figure(figsize=(10, 6))\n",
    "\n",
    "# Create the boxplot\n",
    "bp = sns.boxplot(data=Data_Test, x='F1_condition', y='final_event_time', hue='F1_condition')\n",
    "\n",
    "# Overlay the strip plot\n",
    "sns.stripplot(data=Data_Test, x='F1_condition', y='final_event_time', color=\"black\", dodge=False, jitter=True, ax=bp)\n",
    "\n",
    "# Set the title\n",
    "plt.title('Final Event Time: Test Ball')\n",
    "\n",
    "# Save the plot with bbox_inches='tight' to avoid cropping\n",
    "#plt.savefig(f\"{plot_savepath}/Final_Event_Time_Test_Ball.png\", bbox_inches='tight')\n",
    "\n",
    "# Show the plot\n",
    "plt.show()"
   ]
  },
  {
   "cell_type": "code",
   "execution_count": null,
   "metadata": {},
   "outputs": [],
   "source": [
    "# Make a jitter boxplot of first significant time as function of F1 condition\n",
    "\n",
    "# Create the figure and axes\n",
    "plt.figure(figsize=(10, 6))\n",
    "\n",
    "# Create the boxplot\n",
    "bp = sns.boxplot(data=Data_Test, y='F1_condition', x='max_event_time', color='black', fill=False)\n",
    "\n",
    "# Overlay the strip plot\n",
    "sns.stripplot(data=Data_Test, y='F1_condition', x='max_event_time', hue=\"F1_condition\", dodge=False, jitter=True, ax=bp, alpha=0.75)\n",
    "\n",
    "# Set the title\n",
    "plt.title('Final Event Time: Test Ball')\n",
    "\n",
    "# Save the plot with bbox_inches='tight' to avoid cropping\n",
    "plt.savefig(f\"{plot_savepath}/max_event_time_Test_Ball.png\", bbox_inches='tight')\n",
    "\n",
    "# Show the plot\n",
    "plt.show()"
   ]
  },
  {
   "cell_type": "code",
   "execution_count": null,
   "metadata": {},
   "outputs": [],
   "source": [
    "importlib.reload(HoloviewsTemplates)"
   ]
  },
  {
   "cell_type": "code",
   "execution_count": null,
   "metadata": {},
   "outputs": [],
   "source": [
    "# HV version\n",
    "\n",
    "hv_bp = HoloviewsTemplates.jitter_boxplot(Data_Test, sort_by=\"F1_condition\", metric= 'final_event_time', kdims= 'F1_condition')\n",
    "\n",
    "\n",
    "\n",
    "\n",
    "hv_bp"
   ]
  },
  {
   "cell_type": "code",
   "execution_count": null,
   "metadata": {},
   "outputs": [],
   "source": [
    "# Here let's compute bootstrap confidence intervals for the mean of the max event time grouped by F1 condition\n",
    "\n",
    "intervals = {}\n",
    "\n",
    "for condition in Data_Test[\"F1_condition\"].unique():\n",
    "    condition_data = Data_Test[Data_Test[\"F1_condition\"] == condition]\n",
    "    \n",
    "    BS = Processing.draw_bs_ci(data=condition_data[\"final_event_time\"].dropna(), func=np.mean, n_reps=1000)\n",
    "    \n",
    "    intervals[condition] = BS\n",
    "    \n",
    "\n",
    "# Compute effect size between pretrained and control BS\n",
    "\n",
    "effect_size = Processing.compute_effect_size(intervals[\"control\"], intervals[\"pretrained\"])\n",
    "\n",
    "effect_size\n"
   ]
  },
  {
   "cell_type": "code",
   "execution_count": null,
   "metadata": {},
   "outputs": [],
   "source": [
    "# Plot the confidence intervals\n",
    "\n",
    "fig = plt.figure(figsize=(10, 6))\n",
    "\n",
    "for condition in intervals.keys():\n",
    "    \n",
    "    plt.errorbar(x=condition, y=np.mean(intervals[condition]), yerr=np.std(intervals[condition]), fmt='o', label=condition)\n",
    "    \n",
    "plt.title('Final event time: Test Ball')\n",
    "\n",
    "#plt.savefig(f\"{plot_savepath}/Final_Event_Time_Test_Ball_CI.png\", bbox_inches='tight')\n",
    "\n",
    "plt.show()"
   ]
  },
  {
   "cell_type": "code",
   "execution_count": null,
   "metadata": {},
   "outputs": [],
   "source": [
    "# Let's now transform these value in h:m:s format\n",
    "\n",
    "import datetime\n",
    "\n",
    "average_time = effect_size[0]\n",
    "\n",
    "print(f\"Average time difference between control and pretrained is: {datetime.timedelta(seconds=average_time)}\")\n",
    "\n",
    "interval_times = effect_size[1]\n",
    "\n",
    "print(f\"bootstrapped 95% confidence interval for the difference is: {datetime.timedelta(seconds=interval_times[1])} - {datetime.timedelta(seconds=interval_times[0])}\")"
   ]
  },
  {
   "cell_type": "code",
   "execution_count": null,
   "metadata": {},
   "outputs": [],
   "source": [
    "# Make a jitter boxplot of first significant time as function of F1 condition\n",
    "\n",
    "plt.figure(figsize=(10, 6))\n",
    "bp = sns.boxplot(data=Data_Test, x='F1_condition', y='max_event_time', hue='F1_condition')\n",
    "sns.stripplot(data=Data_Test, x='F1_condition', y='max_event_time', color = \"black\", dodge=False, jitter=True)\n",
    "\n",
    "plt.title('Max event time: Test Ball')\n",
    "\n",
    "plt.savefig(f\"{plot_savepath}/Max_Event_Time_Test_Ball.png\", bbox_inches='tight')\n",
    "\n",
    "plt.show()"
   ]
  },
  {
   "cell_type": "code",
   "execution_count": null,
   "metadata": {},
   "outputs": [],
   "source": []
  },
  {
   "cell_type": "code",
   "execution_count": null,
   "metadata": {},
   "outputs": [],
   "source": [
    "# Here let's compute bootstrap confidence intervals for the mean of the max event time grouped by F1 condition\n",
    "\n",
    "intervals = {}\n",
    "\n",
    "for condition in Data_Test[\"F1_condition\"].unique():\n",
    "    condition_data = Data_Test[Data_Test[\"F1_condition\"] == condition]\n",
    "    \n",
    "    BS = Processing.draw_bs_ci(data=condition_data[\"max_event_time\"].dropna(), func=np.mean, n_reps=1000)\n",
    "    \n",
    "    intervals[condition] = BS\n",
    "    \n",
    "    \n"
   ]
  },
  {
   "cell_type": "code",
   "execution_count": null,
   "metadata": {},
   "outputs": [],
   "source": [
    "intervals"
   ]
  },
  {
   "cell_type": "code",
   "execution_count": null,
   "metadata": {},
   "outputs": [],
   "source": [
    "# Plot the confidence intervals\n",
    "\n",
    "fig = plt.figure(figsize=(10, 6))\n",
    "\n",
    "for condition in intervals.keys():\n",
    "    \n",
    "    plt.errorbar(x=condition, y=np.mean(intervals[condition]), yerr=np.std(intervals[condition]), fmt='o', label=condition)\n",
    "    \n",
    "plt.title('Max event time: Test Ball')\n",
    "\n",
    "plt.savefig(f\"{plot_savepath}/Max_Event_Time_Test_Ball_CI.png\", bbox_inches='tight')\n",
    "\n",
    "plt.show()"
   ]
  },
  {
   "cell_type": "code",
   "execution_count": null,
   "metadata": {},
   "outputs": [],
   "source": [
    "importlib.reload(Processing)"
   ]
  },
  {
   "cell_type": "code",
   "execution_count": null,
   "metadata": {},
   "outputs": [],
   "source": [
    "# Compute effect size between pretrained and control BS\n",
    "\n",
    "effect_size = Processing.compute_effect_size(intervals[\"control\"], intervals[\"pretrained\"])\n",
    "\n",
    "effect_size"
   ]
  },
  {
   "cell_type": "code",
   "execution_count": null,
   "metadata": {},
   "outputs": [],
   "source": [
    "# Let's now transform these value in h:m:s format\n",
    "\n",
    "import datetime\n",
    "\n",
    "average_time = effect_size[0]\n",
    "\n",
    "print(f\"Average time difference between control and pretrained is: {datetime.timedelta(seconds=average_time)}\")\n",
    "\n",
    "interval_times = effect_size[1]\n",
    "\n",
    "print(f\"bootstrapped 95% confidence interval for the difference is: {datetime.timedelta(seconds=interval_times[1])} - {datetime.timedelta(seconds=interval_times[0])}\")\n",
    "\n"
   ]
  },
  {
   "cell_type": "code",
   "execution_count": null,
   "metadata": {},
   "outputs": [],
   "source": [
    "Data_Test.columns"
   ]
  },
  {
   "cell_type": "code",
   "execution_count": null,
   "metadata": {},
   "outputs": [],
   "source": [
    "# Make a jitter boxplot of first significant time as function of F1 condition\n",
    "\n",
    "plt.figure(figsize=(10, 6))\n",
    "bp = sns.boxplot(data=Data_Test, x='F1_condition', y='aha_moment', hue='F1_condition')\n",
    "sns.stripplot(data=Data_Test, x='F1_condition', y='aha_moment', color = \"black\", dodge=False, jitter=True)\n",
    "\n",
    "plt.title('Pulling ratio: Aha moment')\n",
    "\n",
    "#plt.savefig(f\"{plot_savepath}/Aha_Test_Ball.png\", bbox_inches='tight')\n",
    "\n",
    "plt.show()"
   ]
  },
  {
   "cell_type": "code",
   "execution_count": null,
   "metadata": {},
   "outputs": [],
   "source": [
    "# Make a jitter boxplot of first significant time as function of F1 condition\n",
    "\n",
    "plt.figure(figsize=(10, 6))\n",
    "bp = sns.boxplot(data=Data_Test, x='F1_condition', y='aha_moment_time', hue='F1_condition')\n",
    "sns.stripplot(data=Data_Test, x='F1_condition', y='aha_moment_time', color = \"black\", dodge=False, jitter=True)\n",
    "\n",
    "plt.title('Pulling ratio: Aha moment')\n",
    "\n",
    "#plt.savefig(f\"{plot_savepath}/Aha_Test_Ball_time.png\", bbox_inches='tight')\n",
    "\n",
    "plt.show()"
   ]
  },
  {
   "cell_type": "code",
   "execution_count": null,
   "metadata": {},
   "outputs": [],
   "source": [
    "# Make a jitter boxplot of first significant time as function of F1 condition\n",
    "\n",
    "plt.figure(figsize=(10, 6))\n",
    "bp = sns.boxplot(data=Data_Test, y='F1_condition', x='aha_moment_time', color='black', fill=False)\n",
    "sns.stripplot(data=Data_Test, y='F1_condition', x='aha_moment_time', hue = \"F1_condition\", dodge=False, jitter=True, alpha=0.75)\n",
    "\n",
    "plt.title('Pulling ratio: Aha moment')\n",
    "\n",
    "plt.savefig(f\"{plot_savepath}/Aha_Test_Ball_time.png\", bbox_inches='tight')\n",
    "\n",
    "plt.show()"
   ]
  },
  {
   "cell_type": "code",
   "execution_count": null,
   "metadata": {},
   "outputs": [],
   "source": [
    "# Make a jitter boxplot of first significant time as function of F1 condition\n",
    "\n",
    "plt.figure(figsize=(10, 6))\n",
    "bp = sns.boxplot(data=Data_Test, x='F1_condition', y='cumulated_breaks_duration', hue='F1_condition')\n",
    "sns.stripplot(data=Data_Test, x='F1_condition', y='cumulated_breaks_duration', color = \"black\", dodge=False, jitter=True)\n",
    "\n",
    "#plt.title('Pulling ratio: Aha moment')\n",
    "\n",
    "#plt.savefig(f\"{plot_savepath}/Adjusted_NbEvents.png\", bbox_inches='tight')\n",
    "\n",
    "plt.show()"
   ]
  },
  {
   "cell_type": "code",
   "execution_count": null,
   "metadata": {},
   "outputs": [],
   "source": [
    "# Make a jitter boxplot of first significant time as function of F1 condition\n",
    "\n",
    "plt.figure(figsize=(10, 6))\n",
    "bp = sns.boxplot(data=Data_Test, x='F1_condition', y='pulling_ratio', hue='F1_condition')\n",
    "sns.stripplot(data=Data_Test, x='F1_condition', y='pulling_ratio', color = \"black\", dodge=False, jitter=True)\n",
    "\n",
    "plt.title('Pulling ratio: Test Ball')\n",
    "\n",
    "plt.savefig(f\"{plot_savepath}/Pulling_Ratio_Test_Ball.png\", bbox_inches='tight')\n",
    "\n",
    "plt.show()"
   ]
  },
  {
   "cell_type": "code",
   "execution_count": null,
   "metadata": {},
   "outputs": [],
   "source": [
    "# Let's make histograms of the pulling ratio for each F1 condition\n",
    "\n",
    "plt.figure(figsize=(10, 6))\n",
    "\n",
    "for condition in Data_Test[\"F1_condition\"].unique():\n",
    "    \n",
    "    condition_data = Data_Test[Data_Test[\"F1_condition\"] == condition]\n",
    "    \n",
    "    sns.histplot(data=condition_data, x='pulling_ratio', kde=True, label=condition)\n",
    "    \n",
    "plt.title('Pulling ratio: Test Ball')\n",
    "\n",
    "plt.show()"
   ]
  },
  {
   "cell_type": "code",
   "execution_count": null,
   "metadata": {},
   "outputs": [],
   "source": [
    "# Now let's make them in 3 different subplots\n",
    "\n",
    "fig, axs = plt.subplots(1, 3, figsize=(20, 6))\n",
    "\n",
    "for i, condition in enumerate(Data_Test[\"F1_condition\"].unique()):\n",
    "    \n",
    "    condition_data = Data_Test[Data_Test[\"F1_condition\"] == condition]\n",
    "    \n",
    "    sns.histplot(data=condition_data, x='pulling_ratio', kde=True, label=condition, ax=axs[i])\n",
    "    \n",
    "    axs[i].set_title(condition)\n",
    "    \n",
    "plt.suptitle('Pulling ratio: Test Ball')\n",
    "\n",
    "plt.show()"
   ]
  },
  {
   "cell_type": "code",
   "execution_count": null,
   "metadata": {},
   "outputs": [],
   "source": [
    "# Make a jitter boxplot of first significant time as function of F1 condition\n",
    "\n",
    "plt.figure(figsize=(10, 6))\n",
    "sns.boxplot(data=Data_Test, x='F1_condition', y='pulled', hue='F1_condition')\n",
    "sns.stripplot(data=Data_Test, x='F1_condition', y='pulled', color = \"black\", dodge=False, jitter=True)\n",
    "\n",
    "plt.title('Pulling events: Test Ball')\n",
    "\n",
    "plt.show()"
   ]
  },
  {
   "cell_type": "code",
   "execution_count": null,
   "metadata": {},
   "outputs": [],
   "source": [
    "plt.figure(figsize=(10, 6))\n",
    "sns.boxplot(data=Data_Test, x='F1_condition', y='pushed', hue='F1_condition')\n",
    "sns.stripplot(data=Data_Test, x='F1_condition', y='pushed', color = \"black\", dodge=False, jitter=True)\n",
    "\n",
    "plt.title('Pushing events: Test Ball')\n"
   ]
  },
  {
   "cell_type": "code",
   "execution_count": null,
   "metadata": {},
   "outputs": [],
   "source": [
    "plt.figure(figsize=(10, 6))\n",
    "sns.boxplot(data=Data_Test, x='F1_condition', y='max_distance', hue='F1_condition')\n",
    "sns.stripplot(data=Data_Test, x='F1_condition', y='max_distance', color = \"black\", dodge=False, jitter=True)\n",
    "\n",
    "plt.title('max_distance: Test Ball')"
   ]
  },
  {
   "cell_type": "markdown",
   "metadata": {},
   "source": [
    "Counter intuitively, the max distance the ball was moved for pretrained is lower"
   ]
  },
  {
   "cell_type": "code",
   "execution_count": null,
   "metadata": {},
   "outputs": [],
   "source": [
    "# Get bootstrap confidence intervals for the mean of the max distance\n",
    "\n",
    "intervals = {}\n",
    "\n",
    "for condition in Data_Test[\"F1_condition\"].unique():\n",
    "    condition_data = Data_Test[Data_Test[\"F1_condition\"] == condition]\n",
    "    \n",
    "    BS = Processing.draw_bs_ci(data=condition_data[\"max_distance\"].dropna(), func=np.mean, n_reps=1000)\n",
    "    \n",
    "    intervals[condition] = BS"
   ]
  },
  {
   "cell_type": "code",
   "execution_count": null,
   "metadata": {},
   "outputs": [],
   "source": [
    "# Plot the confidence intervals\n",
    "\n",
    "plt.figure(figsize=(10, 6))\n",
    "\n",
    "for condition in intervals.keys():\n",
    "        \n",
    "        plt.errorbar(x=condition, y=np.mean(intervals[condition]), yerr=np.std(intervals[condition]), fmt='o', label=condition)\n",
    "        \n",
    "plt.title('Max distance: Test Ball')\n",
    "\n",
    "plt.show()"
   ]
  },
  {
   "cell_type": "code",
   "execution_count": null,
   "metadata": {},
   "outputs": [],
   "source": [
    "# Compute effect size between pretrained and control BS\n",
    "\n",
    "effect_size = Processing.compute_effect_size(intervals[\"control\"], intervals[\"pretrained\"])\n",
    "\n",
    "effect_size"
   ]
  },
  {
   "cell_type": "code",
   "execution_count": null,
   "metadata": {},
   "outputs": [],
   "source": [
    "# Get how many flies are in each success_direction category, grouped by F1 condition\n",
    "\n",
    "Data_Test.groupby([\"F1_condition\", \"success_direction\"]).size()"
   ]
  },
  {
   "cell_type": "markdown",
   "metadata": {},
   "source": [
    "Interestingly, there are very little groups that both push and pull the ball significantly. Seems to be one way or the other. \n",
    "\n",
    "There could be atleast 2 reasons for that: \n",
    "\n",
    "1) The flies have different strategies and stick to them\n",
    "\n",
    "2) The way the ball looks when it has already been pushed or pulled once is leading to more of the same behavior (some kind of stigmery)\n",
    "\n",
    "One way to check this is to verify what are the prefered behaviors for the first ball for pretrained"
   ]
  },
  {
   "cell_type": "code",
   "execution_count": null,
   "metadata": {},
   "outputs": [],
   "source": [
    "# For each fly, make a new column that is \"match\" if the success_direction is the same according for both ball conditions or \"different\" if it is different\n",
    "\n",
    "Data_Test.groupby([\"F1_condition\", \"direction_match\"]).size()"
   ]
  },
  {
   "cell_type": "markdown",
   "metadata": {},
   "source": [
    "When only considering strictly different condiditions (ignoring \"both\" as being push AND pull), I get: \n",
    "F1_condition         direction_match\n",
    "pretrained           different          85\n",
    "                     match              13\n",
    "pretrained_unlocked  different          59\n",
    "                     match               8\n",
    "\n",
    "\n",
    "If I consider both as partial match, I get: \n",
    "F1_condition         direction_match\n",
    "pretrained           different          44\n",
    "                     match              13\n",
    "                     partial_match      41\n",
    "pretrained_unlocked  different           6\n",
    "                     match               8\n",
    "                     partial_match      53\n",
    "\n",
    "\n",
    "so pretrained have 13 / 98 matches, if counting partial matches as well we get : 54 / 98 (half)\n",
    "pretrained_unlocked have 8 / 67 match, if counting the partial matches: 61/67\n",
    "\n",
    "Conclusion: for pretrained_unlocked they probably have much more \"both\" in the beginning, so that bumps up the partial matches"
   ]
  },
  {
   "cell_type": "code",
   "execution_count": null,
   "metadata": {},
   "outputs": [],
   "source": [
    "# Let's compare success_direction for training and test ball\n",
    "\n",
    "Data_Training.groupby([\"F1_condition\", \"success_direction\"]).size()"
   ]
  },
  {
   "cell_type": "markdown",
   "metadata": {},
   "source": [
    "Here we have 34 / 96 push, goes up to 76 / 96 if we include both. There's quite a lot of pull as well"
   ]
  },
  {
   "cell_type": "code",
   "execution_count": null,
   "metadata": {},
   "outputs": [],
   "source": [
    "# For pretrained flies, compare fly exit time according to success_direction\n",
    "\n",
    "plt.figure(figsize=(10, 6))\n",
    "\n",
    "sns.boxplot(data=Data_Training, x='F1_condition', y='exit_time', hue='success_direction')"
   ]
  },
  {
   "cell_type": "markdown",
   "metadata": {},
   "source": [
    "As expected, the 20 pull I see for pretrained are the flies that didn't exit (None time) and flies that didn't show pulling (push condition) exited earlier compared to the ones that pulled atleast once. \n",
    "\n",
    "> What if we remove the fail flies from the dataset? What will be the consequence?"
   ]
  },
  {
   "cell_type": "code",
   "execution_count": null,
   "metadata": {},
   "outputs": [],
   "source": [
    "Clean_Test = Data_Test.dropna(subset=[\"exit_time\"])\n",
    "\n",
    "Clean_Test.groupby([\"F1_condition\", \"success_direction\"]).size()"
   ]
  },
  {
   "cell_type": "code",
   "execution_count": null,
   "metadata": {},
   "outputs": [],
   "source": [
    "29/51"
   ]
  },
  {
   "cell_type": "markdown",
   "metadata": {},
   "source": [
    "Now we have for pretrained a majority of pushers, 21 / 36 : 0.58\n",
    "\n",
    "for pretrained unlocked, same as before as they all exited: 29 /51 : 0.57\n",
    "\n",
    "Comparable."
   ]
  },
  {
   "cell_type": "code",
   "execution_count": null,
   "metadata": {},
   "outputs": [],
   "source": [
    "Clean_Test.groupby([\"F1_condition\", \"direction_match\"]).size()"
   ]
  },
  {
   "cell_type": "markdown",
   "metadata": {},
   "source": [
    "Now we get 11/46, with partial match : 34 / 46 : majority are matching.\n",
    "\n",
    "pretrained unlocked have almost only partial match, didn't change."
   ]
  },
  {
   "cell_type": "code",
   "execution_count": null,
   "metadata": {},
   "outputs": [],
   "source": [
    "importlib.reload(Ballpushing_utils)"
   ]
  },
  {
   "cell_type": "code",
   "execution_count": null,
   "metadata": {},
   "outputs": [],
   "source": [
    "Data_F1 = Ballpushing_utils.Dataset(Experiments)"
   ]
  },
  {
   "cell_type": "code",
   "execution_count": null,
   "metadata": {},
   "outputs": [],
   "source": [
    "# Generate the checkpoints dataset\n",
    "\n",
    "Data_Checkpoints = Data_F1.generate_dataset(\"F1_checkpoints\")"
   ]
  },
  {
   "cell_type": "code",
   "execution_count": null,
   "metadata": {},
   "outputs": [],
   "source": [
    "# Get number of unique flies\n",
    "\n",
    "Data_Checkpoints[\"fly\"].nunique()"
   ]
  },
  {
   "cell_type": "code",
   "execution_count": null,
   "metadata": {},
   "outputs": [],
   "source": [
    "Data_Checkpoints"
   ]
  },
  {
   "cell_type": "code",
   "execution_count": null,
   "metadata": {},
   "outputs": [],
   "source": [
    "# Order the F1_conditions to be pretrained, control, pretrained_unlocked\n",
    "\n",
    "Data_Checkpoints[\"F1_condition\"] = pd.Categorical(\n",
    "    Data_Checkpoints[\"F1_condition\"],\n",
    "    categories=[\"pretrained\", \"control\", \"pretrained_unlocked\"],\n",
    "    ordered=True,\n",
    ")"
   ]
  },
  {
   "cell_type": "code",
   "execution_count": null,
   "metadata": {},
   "outputs": [],
   "source": [
    "# Save as csv\n",
    "\n",
    "Data_Checkpoints.to_csv(\"/mnt/upramdya_data/MD/F1_Tracks/Datasets/241128_F1_Checkpoints.csv\")"
   ]
  },
  {
   "cell_type": "code",
   "execution_count": null,
   "metadata": {},
   "outputs": [],
   "source": [
    "#Data_Checkpoints[\"adjusted_time\"] = Data_Checkpoints[\"adjusted_time\"] - Data_Checkpoints[\"fly_exit_time\"]"
   ]
  },
  {
   "cell_type": "code",
   "execution_count": null,
   "metadata": {},
   "outputs": [],
   "source": [
    "# Set the theme and style\n",
    "sns.set_theme(rc={'figure.figsize':(20,12)})\n",
    "sns.set_style(\"whitegrid\")\n",
    "\n",
    "# Create the boxplot with larger boxes\n",
    "jitterbox = sns.boxplot(x=\"distance\", y=\"adjusted_time\", hue=\"F1_condition\", data=Data_Checkpoints, gap = 0.1, fliersize=0) \n",
    "\n",
    "# Overlay the strip plot with jittered points\n",
    "jitterbox = sns.stripplot(x=\"distance\", y=\"adjusted_time\", hue=\"F1_condition\", color=\"black\", data=Data_Checkpoints, dodge=True, jitter=0.1, size=3)\n",
    "\n",
    "# Adjust the legend to avoid duplication\n",
    "handles, labels = plt.gca().get_legend_handles_labels()\n",
    "plt.legend(handles[0:len(handles)//2], labels[0:len(labels)//2], title=\"Condition\")\n",
    "\n",
    "# Set the title\n",
    "jitterbox.set_title(\"Distance to Checkpoints over Time\")\n",
    "\n",
    "plt.savefig(f\"{plot_savepath}/Distance_to_Checkpoints.png\", bbox_inches='tight')\n",
    "\n",
    "plt.show()"
   ]
  },
  {
   "cell_type": "code",
   "execution_count": null,
   "metadata": {},
   "outputs": [],
   "source": [
    "# Create the boxplot with larger boxes\n",
    "jitterbox = sns.boxplot(x=\"distance\", y=\"adjusted_time\", hue=\"F1_condition\", data=Data_Checkpoints, fliersize=0)\n",
    "\n",
    "# Add light gray lines for each individual\n",
    "for name, group in Data_Checkpoints.groupby(\"fly\"):\n",
    "    plt.plot(group[\"distance\"], group[\"adjusted_time\"], color=\"lightgray\", linewidth=0.5, zorder=0)\n",
    "\n",
    "\n",
    "# Overlay the strip plot with jittered points\n",
    "sns.stripplot(x=\"distance\", y=\"adjusted_time\", hue=\"F1_condition\", color=\"black\", data=Data_Checkpoints, dodge=True, jitter=0.1, size=3, ax=jitterbox)\n",
    "\n",
    "# Adjust the legend to avoid duplication\n",
    "handles, labels = plt.gca().get_legend_handles_labels()\n",
    "plt.legend(handles[0:len(handles)//2], labels[0:len(labels)//2], title=\"Condition\")\n",
    "\n",
    "# Set the title\n",
    "plt.title(\"Distance to Checkpoints over Time\")\n",
    "\n",
    "# Save the plot with bbox_inches='tight' to avoid cropping\n",
    "#plt.savefig(f\"{plot_savepath}/Distance_to_Checkpoints.png\", bbox_inches='tight')\n",
    "\n",
    "# Show the plot\n",
    "plt.show()"
   ]
  },
  {
   "cell_type": "code",
   "execution_count": null,
   "metadata": {},
   "outputs": [],
   "source": [
    "# Now do the same but split it between flies for which Data_Checkpoints[\"success_direction\"] == \"push\" and Data_Checkpoints[\"success_direction\"] == \"pull\"\n",
    "\n",
    "Data_Checkpoints_push = Data_Checkpoints[Data_Checkpoints[\"success_direction\"] == \"push\"]\n",
    "\n",
    "Data_Checkpoints_pull = Data_Checkpoints[Data_Checkpoints[\"success_direction\"] == \"pull\"]\n",
    "\n",
    "Data_Checkpoints_both = Data_Checkpoints[Data_Checkpoints[\"success_direction\"] == \"both\"]\n",
    "\n",
    "# Set the theme and style\n",
    "sns.set_theme(rc={'figure.figsize':(20,12)})\n",
    "sns.set_style(\"whitegrid\")\n",
    "\n",
    "# Create the boxplot with larger boxes\n",
    "\n",
    "jitterbox = sns.boxplot(x=\"distance\", y=\"adjusted_time\", hue=\"F1_condition\", data=Data_Checkpoints_push, gap = 0.1, fliersize=0)\n",
    "\n",
    "# Overlay the strip plot with jittered points\n",
    "\n",
    "jitterbox = sns.stripplot(x=\"distance\", y=\"adjusted_time\", hue=\"F1_condition\", color=\"black\", data=Data_Checkpoints_push, dodge=True, jitter=0.1, size=3)\n",
    "\n",
    "# Adjust the legend to avoid duplication\n",
    "\n",
    "handles, labels = plt.gca().get_legend_handles_labels()\n",
    "\n",
    "plt.legend(handles[0:len(handles)//2], labels[0:len(labels)//2], title=\"Condition\")\n",
    "\n",
    "# Set the title\n",
    "\n",
    "jitterbox.set_title(\"Distance to Checkpoints over Time: Push\")\n",
    "\n",
    "plt.savefig(f\"{plot_savepath}/Distance_to_Checkpoints_Push.png\", bbox_inches='tight')\n",
    "\n",
    "plt.show()"
   ]
  },
  {
   "cell_type": "code",
   "execution_count": null,
   "metadata": {},
   "outputs": [],
   "source": [
    "\n",
    "\n",
    "\n",
    "# Set the theme and style\n",
    "sns.set_theme(rc={'figure.figsize':(20,12)})\n",
    "sns.set_style(\"whitegrid\")\n",
    "\n",
    "# Create the boxplot with larger boxes\n",
    "\n",
    "jitterbox = sns.boxplot(x=\"distance\", y=\"adjusted_time\", hue=\"F1_condition\", data=Data_Checkpoints_pull, gap = 0.1, fliersize=0)\n",
    "\n",
    "# Overlay the strip plot with jittered points\n",
    "\n",
    "jitterbox = sns.stripplot(x=\"distance\", y=\"adjusted_time\", hue=\"F1_condition\", color=\"black\", data=Data_Checkpoints_pull, dodge=True, jitter=0.1, size=3)\n",
    "\n",
    "# Adjust the legend to avoid duplication\n",
    "\n",
    "handles, labels = plt.gca().get_legend_handles_labels()\n",
    "\n",
    "plt.legend(handles[0:len(handles)//2], labels[0:len(labels)//2], title=\"Condition\")\n",
    "\n",
    "# Set the title\n",
    "\n",
    "jitterbox.set_title(\"Distance to Checkpoints over Time: Push\")\n",
    "\n",
    "plt.savefig(f\"{plot_savepath}/Distance_to_Checkpoints_Pull.png\", bbox_inches='tight')\n",
    "\n",
    "plt.show()"
   ]
  },
  {
   "cell_type": "code",
   "execution_count": null,
   "metadata": {},
   "outputs": [],
   "source": [
    "# Now redo the initial plot but color the points by success direction\n",
    "\n",
    "# Set the theme and style\n",
    "sns.set_theme(rc={'figure.figsize':(20,12)})\n",
    "sns.set_style(\"whitegrid\")\n",
    "\n",
    "# Define color palettes\n",
    "boxplot_palette = \"Set2\"\n",
    "stripplot_palette = {\"push\": \"blue\", \"pull\": \"red\", \"both\": \"green\", \"none\": \"gray\"}\n",
    "\n",
    "# Create the boxplot with larger boxes\n",
    "jitterbox = sns.boxplot(x=\"distance\", y=\"adjusted_time\", hue=\"F1_condition\", data=Data_Checkpoints, palette=boxplot_palette, fliersize=0,)\n",
    "\n",
    "# Overlay the strip plot with jittered points\n",
    "jitterbox = sns.stripplot(x=\"distance\", y=\"adjusted_time\", hue=\"F1_condition\", color = \"red\", data=Data_Checkpoints_pull, dodge=True, jitter=0.1, size=3,)\n",
    "\n",
    "jitterbox = sns.stripplot(x=\"distance\", y=\"adjusted_time\", hue=\"F1_condition\", color = \"blue\", data=Data_Checkpoints_push, dodge=True, jitter=0.1, size=3,)\n",
    "\n",
    "jitterbox = sns.stripplot(x=\"distance\", y=\"adjusted_time\", hue=\"F1_condition\", color = \"yellow\", data=Data_Checkpoints_both, dodge=True, jitter=0.1, size=3,)\n",
    "\n",
    "# Adjust the legend to avoid duplication\n",
    "handles, labels = plt.gca().get_legend_handles_labels()\n",
    "plt.legend(handles[0:len(handles)//2], labels[0:len(labels)//2], title=\"Success Direction\")\n",
    "\n",
    "# Set the title\n",
    "jitterbox.set_title(\"Distance to Checkpoints over Time\")\n",
    "\n",
    "plt.show()"
   ]
  },
  {
   "cell_type": "code",
   "execution_count": null,
   "metadata": {},
   "outputs": [],
   "source": [
    "# Update the 'pretraining' column based on 'F1_condition'\n",
    "Data_Checkpoints.loc[Data_Checkpoints[\"F1_condition\"] == \"pretrained\", \"pretraining\"] = \"y\"\n",
    "Data_Checkpoints.loc[Data_Checkpoints[\"F1_condition\"] == \"pretrained_unlocked\", \"pretraining\"] = \"y\"\n",
    "Data_Checkpoints.loc[Data_Checkpoints[\"F1_condition\"] == \"control\", \"pretraining\"] = \"n\"\n",
    "\n",
    "# Update the 'unlocked' column based on 'F1_condition'\n",
    "Data_Checkpoints.loc[Data_Checkpoints[\"F1_condition\"] == \"pretrained\", \"unlocked\"] = \"n\"\n",
    "Data_Checkpoints.loc[Data_Checkpoints[\"F1_condition\"] == \"pretrained_unlocked\", \"unlocked\"] = \"y\"\n",
    "Data_Checkpoints.loc[Data_Checkpoints[\"F1_condition\"] == \"control\", \"unlocked\"] = \"n\"\n",
    "\n",
    "# Display the first few rows of the DataFrame\n",
    "Data_Checkpoints.head()\n",
    "\n",
    "\n"
   ]
  },
  {
   "cell_type": "code",
   "execution_count": null,
   "metadata": {},
   "outputs": [],
   "source": [
    "# Save again\n",
    "\n",
    "Data_Checkpoints.to_csv(\"/mnt/upramdya_data/MD/F1_Tracks/Datasets/241114_F1_Checkpoints.csv\")"
   ]
  },
  {
   "cell_type": "code",
   "execution_count": null,
   "metadata": {},
   "outputs": [],
   "source": []
  }
 ],
 "metadata": {
  "kernelspec": {
   "display_name": "trackinganalysis",
   "language": "python",
   "name": "python3"
  },
  "language_info": {
   "codemirror_mode": {
    "name": "ipython",
    "version": 3
   },
   "file_extension": ".py",
   "mimetype": "text/x-python",
   "name": "python",
   "nbconvert_exporter": "python",
   "pygments_lexer": "ipython3",
   "version": "3.11.5"
  }
 },
 "nbformat": 4,
 "nbformat_minor": 2
}
