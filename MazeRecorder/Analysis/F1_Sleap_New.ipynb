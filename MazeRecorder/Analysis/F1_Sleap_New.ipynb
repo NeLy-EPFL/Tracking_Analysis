{
 "cells": [
  {
   "cell_type": "code",
   "execution_count": 1,
   "metadata": {},
   "outputs": [
    {
     "data": {
      "text/html": [
       "<script type=\"esms-options\">{\"shimMode\": true}</script><style>*[data-root-id],\n",
       "*[data-root-id] > * {\n",
       "  box-sizing: border-box;\n",
       "  font-family: var(--jp-ui-font-family);\n",
       "  font-size: var(--jp-ui-font-size1);\n",
       "  color: var(--vscode-editor-foreground, var(--jp-ui-font-color1));\n",
       "}\n",
       "\n",
       "/* Override VSCode background color */\n",
       ".cell-output-ipywidget-background:has(\n",
       "    > .cell-output-ipywidget-background > .lm-Widget > *[data-root-id]\n",
       "  ),\n",
       ".cell-output-ipywidget-background:has(> .lm-Widget > *[data-root-id]) {\n",
       "  background-color: transparent !important;\n",
       "}\n",
       "</style>"
      ]
     },
     "metadata": {},
     "output_type": "display_data"
    },
    {
     "data": {
      "application/javascript": "(function(root) {\n  function now() {\n    return new Date();\n  }\n\n  const force = true;\n  const py_version = '3.5.2'.replace('rc', '-rc.').replace('.dev', '-dev.');\n  const reloading = false;\n  const Bokeh = root.Bokeh;\n\n  // Set a timeout for this load but only if we are not already initializing\n  if (typeof (root._bokeh_timeout) === \"undefined\" || (force || !root._bokeh_is_initializing)) {\n    root._bokeh_timeout = Date.now() + 5000;\n    root._bokeh_failed_load = false;\n  }\n\n  function run_callbacks() {\n    try {\n      root._bokeh_onload_callbacks.forEach(function(callback) {\n        if (callback != null)\n          callback();\n      });\n    } finally {\n      delete root._bokeh_onload_callbacks;\n    }\n    console.debug(\"Bokeh: all callbacks have finished\");\n  }\n\n  function load_libs(css_urls, js_urls, js_modules, js_exports, callback) {\n    if (css_urls == null) css_urls = [];\n    if (js_urls == null) js_urls = [];\n    if (js_modules == null) js_modules = [];\n    if (js_exports == null) js_exports = {};\n\n    root._bokeh_onload_callbacks.push(callback);\n\n    if (root._bokeh_is_loading > 0) {\n      // Don't load bokeh if it is still initializing\n      console.debug(\"Bokeh: BokehJS is being loaded, scheduling callback at\", now());\n      return null;\n    } else if (js_urls.length === 0 && js_modules.length === 0 && Object.keys(js_exports).length === 0) {\n      // There is nothing to load\n      run_callbacks();\n      return null;\n    }\n\n    function on_load() {\n      root._bokeh_is_loading--;\n      if (root._bokeh_is_loading === 0) {\n        console.debug(\"Bokeh: all BokehJS libraries/stylesheets loaded\");\n        run_callbacks()\n      }\n    }\n    window._bokeh_on_load = on_load\n\n    function on_error(e) {\n      const src_el = e.srcElement\n      console.error(\"failed to load \" + (src_el.href || src_el.src));\n    }\n\n    const skip = [];\n    if (window.requirejs) {\n      window.requirejs.config({'packages': {}, 'paths': {}, 'shim': {}});\n      root._bokeh_is_loading = css_urls.length + 0;\n    } else {\n      root._bokeh_is_loading = css_urls.length + js_urls.length + js_modules.length + Object.keys(js_exports).length;\n    }\n\n    const existing_stylesheets = []\n    const links = document.getElementsByTagName('link')\n    for (let i = 0; i < links.length; i++) {\n      const link = links[i]\n      if (link.href != null) {\n        existing_stylesheets.push(link.href)\n      }\n    }\n    for (let i = 0; i < css_urls.length; i++) {\n      const url = css_urls[i];\n      const escaped = encodeURI(url)\n      if (existing_stylesheets.indexOf(escaped) !== -1) {\n        on_load()\n        continue;\n      }\n      const element = document.createElement(\"link\");\n      element.onload = on_load;\n      element.onerror = on_error;\n      element.rel = \"stylesheet\";\n      element.type = \"text/css\";\n      element.href = url;\n      console.debug(\"Bokeh: injecting link tag for BokehJS stylesheet: \", url);\n      document.body.appendChild(element);\n    }    var existing_scripts = []\n    const scripts = document.getElementsByTagName('script')\n    for (let i = 0; i < scripts.length; i++) {\n      var script = scripts[i]\n      if (script.src != null) {\n        existing_scripts.push(script.src)\n      }\n    }\n    for (let i = 0; i < js_urls.length; i++) {\n      const url = js_urls[i];\n      const escaped = encodeURI(url)\n      if (skip.indexOf(escaped) !== -1 || existing_scripts.indexOf(escaped) !== -1) {\n        if (!window.requirejs) {\n          on_load();\n        }\n        continue;\n      }\n      const element = document.createElement('script');\n      element.onload = on_load;\n      element.onerror = on_error;\n      element.async = false;\n      element.src = url;\n      console.debug(\"Bokeh: injecting script tag for BokehJS library: \", url);\n      document.head.appendChild(element);\n    }\n    for (let i = 0; i < js_modules.length; i++) {\n      const url = js_modules[i];\n      const escaped = encodeURI(url)\n      if (skip.indexOf(escaped) !== -1 || existing_scripts.indexOf(escaped) !== -1) {\n        if (!window.requirejs) {\n          on_load();\n        }\n        continue;\n      }\n      var element = document.createElement('script');\n      element.onload = on_load;\n      element.onerror = on_error;\n      element.async = false;\n      element.src = url;\n      element.type = \"module\";\n      console.debug(\"Bokeh: injecting script tag for BokehJS library: \", url);\n      document.head.appendChild(element);\n    }\n    for (const name in js_exports) {\n      const url = js_exports[name];\n      const escaped = encodeURI(url)\n      if (skip.indexOf(escaped) >= 0 || root[name] != null) {\n        if (!window.requirejs) {\n          on_load();\n        }\n        continue;\n      }\n      var element = document.createElement('script');\n      element.onerror = on_error;\n      element.async = false;\n      element.type = \"module\";\n      console.debug(\"Bokeh: injecting script tag for BokehJS library: \", url);\n      element.textContent = `\n      import ${name} from \"${url}\"\n      window.${name} = ${name}\n      window._bokeh_on_load()\n      `\n      document.head.appendChild(element);\n    }\n    if (!js_urls.length && !js_modules.length) {\n      on_load()\n    }\n  };\n\n  function inject_raw_css(css) {\n    const element = document.createElement(\"style\");\n    element.appendChild(document.createTextNode(css));\n    document.body.appendChild(element);\n  }\n\n  const js_urls = [\"https://cdn.holoviz.org/panel/1.5.0/dist/bundled/reactiveesm/es-module-shims@^1.10.0/dist/es-module-shims.min.js\", \"https://cdn.bokeh.org/bokeh/release/bokeh-3.5.2.min.js\", \"https://cdn.bokeh.org/bokeh/release/bokeh-gl-3.5.2.min.js\", \"https://cdn.bokeh.org/bokeh/release/bokeh-widgets-3.5.2.min.js\", \"https://cdn.bokeh.org/bokeh/release/bokeh-tables-3.5.2.min.js\", \"https://cdn.holoviz.org/panel/1.5.0/dist/panel.min.js\"];\n  const js_modules = [];\n  const js_exports = {};\n  const css_urls = [];\n  const inline_js = [    function(Bokeh) {\n      Bokeh.set_log_level(\"info\");\n    },\nfunction(Bokeh) {} // ensure no trailing comma for IE\n  ];\n\n  function run_inline_js() {\n    if ((root.Bokeh !== undefined) || (force === true)) {\n      for (let i = 0; i < inline_js.length; i++) {\n        try {\n          inline_js[i].call(root, root.Bokeh);\n        } catch(e) {\n          if (!reloading) {\n            throw e;\n          }\n        }\n      }\n      // Cache old bokeh versions\n      if (Bokeh != undefined && !reloading) {\n        var NewBokeh = root.Bokeh;\n        if (Bokeh.versions === undefined) {\n          Bokeh.versions = new Map();\n        }\n        if (NewBokeh.version !== Bokeh.version) {\n          Bokeh.versions.set(NewBokeh.version, NewBokeh)\n        }\n        root.Bokeh = Bokeh;\n      }\n    } else if (Date.now() < root._bokeh_timeout) {\n      setTimeout(run_inline_js, 100);\n    } else if (!root._bokeh_failed_load) {\n      console.log(\"Bokeh: BokehJS failed to load within specified timeout.\");\n      root._bokeh_failed_load = true;\n    }\n    root._bokeh_is_initializing = false\n  }\n\n  function load_or_wait() {\n    // Implement a backoff loop that tries to ensure we do not load multiple\n    // versions of Bokeh and its dependencies at the same time.\n    // In recent versions we use the root._bokeh_is_initializing flag\n    // to determine whether there is an ongoing attempt to initialize\n    // bokeh, however for backward compatibility we also try to ensure\n    // that we do not start loading a newer (Panel>=1.0 and Bokeh>3) version\n    // before older versions are fully initialized.\n    if (root._bokeh_is_initializing && Date.now() > root._bokeh_timeout) {\n      // If the timeout and bokeh was not successfully loaded we reset\n      // everything and try loading again\n      root._bokeh_timeout = Date.now() + 5000;\n      root._bokeh_is_initializing = false;\n      root._bokeh_onload_callbacks = undefined;\n      root._bokeh_is_loading = 0\n      console.log(\"Bokeh: BokehJS was loaded multiple times but one version failed to initialize.\");\n      load_or_wait();\n    } else if (root._bokeh_is_initializing || (typeof root._bokeh_is_initializing === \"undefined\" && root._bokeh_onload_callbacks !== undefined)) {\n      setTimeout(load_or_wait, 100);\n    } else {\n      root._bokeh_is_initializing = true\n      root._bokeh_onload_callbacks = []\n      const bokeh_loaded = root.Bokeh != null && (root.Bokeh.version === py_version || (root.Bokeh.versions !== undefined && root.Bokeh.versions.has(py_version)));\n      if (!reloading && !bokeh_loaded) {\n        if (root.Bokeh) {\n          root.Bokeh = undefined;\n        }\n        console.debug(\"Bokeh: BokehJS not loaded, scheduling load and callback at\", now());\n      }\n      load_libs(css_urls, js_urls, js_modules, js_exports, function() {\n        console.debug(\"Bokeh: BokehJS plotting callback run at\", now());\n        run_inline_js();\n      });\n    }\n  }\n  // Give older versions of the autoload script a head-start to ensure\n  // they initialize before we start loading newer version.\n  setTimeout(load_or_wait, 100)\n}(window));",
      "application/vnd.holoviews_load.v0+json": ""
     },
     "metadata": {},
     "output_type": "display_data"
    },
    {
     "data": {
      "application/javascript": "\nif ((window.PyViz === undefined) || (window.PyViz instanceof HTMLElement)) {\n  window.PyViz = {comms: {}, comm_status:{}, kernels:{}, receivers: {}, plot_index: []}\n}\n\n\n    function JupyterCommManager() {\n    }\n\n    JupyterCommManager.prototype.register_target = function(plot_id, comm_id, msg_handler) {\n      if (window.comm_manager || ((window.Jupyter !== undefined) && (Jupyter.notebook.kernel != null))) {\n        var comm_manager = window.comm_manager || Jupyter.notebook.kernel.comm_manager;\n        comm_manager.register_target(comm_id, function(comm) {\n          comm.on_msg(msg_handler);\n        });\n      } else if ((plot_id in window.PyViz.kernels) && (window.PyViz.kernels[plot_id])) {\n        window.PyViz.kernels[plot_id].registerCommTarget(comm_id, function(comm) {\n          comm.onMsg = msg_handler;\n        });\n      } else if (typeof google != 'undefined' && google.colab.kernel != null) {\n        google.colab.kernel.comms.registerTarget(comm_id, (comm) => {\n          var messages = comm.messages[Symbol.asyncIterator]();\n          function processIteratorResult(result) {\n            var message = result.value;\n            console.log(message)\n            var content = {data: message.data, comm_id};\n            var buffers = []\n            for (var buffer of message.buffers || []) {\n              buffers.push(new DataView(buffer))\n            }\n            var metadata = message.metadata || {};\n            var msg = {content, buffers, metadata}\n            msg_handler(msg);\n            return messages.next().then(processIteratorResult);\n          }\n          return messages.next().then(processIteratorResult);\n        })\n      }\n    }\n\n    JupyterCommManager.prototype.get_client_comm = function(plot_id, comm_id, msg_handler) {\n      if (comm_id in window.PyViz.comms) {\n        return window.PyViz.comms[comm_id];\n      } else if (window.comm_manager || ((window.Jupyter !== undefined) && (Jupyter.notebook.kernel != null))) {\n        var comm_manager = window.comm_manager || Jupyter.notebook.kernel.comm_manager;\n        var comm = comm_manager.new_comm(comm_id, {}, {}, {}, comm_id);\n        if (msg_handler) {\n          comm.on_msg(msg_handler);\n        }\n      } else if ((plot_id in window.PyViz.kernels) && (window.PyViz.kernels[plot_id])) {\n        var comm = window.PyViz.kernels[plot_id].connectToComm(comm_id);\n        comm.open();\n        if (msg_handler) {\n          comm.onMsg = msg_handler;\n        }\n      } else if (typeof google != 'undefined' && google.colab.kernel != null) {\n        var comm_promise = google.colab.kernel.comms.open(comm_id)\n        comm_promise.then((comm) => {\n          window.PyViz.comms[comm_id] = comm;\n          if (msg_handler) {\n            var messages = comm.messages[Symbol.asyncIterator]();\n            function processIteratorResult(result) {\n              var message = result.value;\n              var content = {data: message.data};\n              var metadata = message.metadata || {comm_id};\n              var msg = {content, metadata}\n              msg_handler(msg);\n              return messages.next().then(processIteratorResult);\n            }\n            return messages.next().then(processIteratorResult);\n          }\n        }) \n        var sendClosure = (data, metadata, buffers, disposeOnDone) => {\n          return comm_promise.then((comm) => {\n            comm.send(data, metadata, buffers, disposeOnDone);\n          });\n        };\n        var comm = {\n          send: sendClosure\n        };\n      }\n      window.PyViz.comms[comm_id] = comm;\n      return comm;\n    }\n    window.PyViz.comm_manager = new JupyterCommManager();\n    \n\n\nvar JS_MIME_TYPE = 'application/javascript';\nvar HTML_MIME_TYPE = 'text/html';\nvar EXEC_MIME_TYPE = 'application/vnd.holoviews_exec.v0+json';\nvar CLASS_NAME = 'output';\n\n/**\n * Render data to the DOM node\n */\nfunction render(props, node) {\n  var div = document.createElement(\"div\");\n  var script = document.createElement(\"script\");\n  node.appendChild(div);\n  node.appendChild(script);\n}\n\n/**\n * Handle when a new output is added\n */\nfunction handle_add_output(event, handle) {\n  var output_area = handle.output_area;\n  var output = handle.output;\n  if ((output.data == undefined) || (!output.data.hasOwnProperty(EXEC_MIME_TYPE))) {\n    return\n  }\n  var id = output.metadata[EXEC_MIME_TYPE][\"id\"];\n  var toinsert = output_area.element.find(\".\" + CLASS_NAME.split(' ')[0]);\n  if (id !== undefined) {\n    var nchildren = toinsert.length;\n    var html_node = toinsert[nchildren-1].children[0];\n    html_node.innerHTML = output.data[HTML_MIME_TYPE];\n    var scripts = [];\n    var nodelist = html_node.querySelectorAll(\"script\");\n    for (var i in nodelist) {\n      if (nodelist.hasOwnProperty(i)) {\n        scripts.push(nodelist[i])\n      }\n    }\n\n    scripts.forEach( function (oldScript) {\n      var newScript = document.createElement(\"script\");\n      var attrs = [];\n      var nodemap = oldScript.attributes;\n      for (var j in nodemap) {\n        if (nodemap.hasOwnProperty(j)) {\n          attrs.push(nodemap[j])\n        }\n      }\n      attrs.forEach(function(attr) { newScript.setAttribute(attr.name, attr.value) });\n      newScript.appendChild(document.createTextNode(oldScript.innerHTML));\n      oldScript.parentNode.replaceChild(newScript, oldScript);\n    });\n    if (JS_MIME_TYPE in output.data) {\n      toinsert[nchildren-1].children[1].textContent = output.data[JS_MIME_TYPE];\n    }\n    output_area._hv_plot_id = id;\n    if ((window.Bokeh !== undefined) && (id in Bokeh.index)) {\n      window.PyViz.plot_index[id] = Bokeh.index[id];\n    } else {\n      window.PyViz.plot_index[id] = null;\n    }\n  } else if (output.metadata[EXEC_MIME_TYPE][\"server_id\"] !== undefined) {\n    var bk_div = document.createElement(\"div\");\n    bk_div.innerHTML = output.data[HTML_MIME_TYPE];\n    var script_attrs = bk_div.children[0].attributes;\n    for (var i = 0; i < script_attrs.length; i++) {\n      toinsert[toinsert.length - 1].childNodes[1].setAttribute(script_attrs[i].name, script_attrs[i].value);\n    }\n    // store reference to server id on output_area\n    output_area._bokeh_server_id = output.metadata[EXEC_MIME_TYPE][\"server_id\"];\n  }\n}\n\n/**\n * Handle when an output is cleared or removed\n */\nfunction handle_clear_output(event, handle) {\n  var id = handle.cell.output_area._hv_plot_id;\n  var server_id = handle.cell.output_area._bokeh_server_id;\n  if (((id === undefined) || !(id in PyViz.plot_index)) && (server_id !== undefined)) { return; }\n  var comm = window.PyViz.comm_manager.get_client_comm(\"hv-extension-comm\", \"hv-extension-comm\", function () {});\n  if (server_id !== null) {\n    comm.send({event_type: 'server_delete', 'id': server_id});\n    return;\n  } else if (comm !== null) {\n    comm.send({event_type: 'delete', 'id': id});\n  }\n  delete PyViz.plot_index[id];\n  if ((window.Bokeh !== undefined) & (id in window.Bokeh.index)) {\n    var doc = window.Bokeh.index[id].model.document\n    doc.clear();\n    const i = window.Bokeh.documents.indexOf(doc);\n    if (i > -1) {\n      window.Bokeh.documents.splice(i, 1);\n    }\n  }\n}\n\n/**\n * Handle kernel restart event\n */\nfunction handle_kernel_cleanup(event, handle) {\n  delete PyViz.comms[\"hv-extension-comm\"];\n  window.PyViz.plot_index = {}\n}\n\n/**\n * Handle update_display_data messages\n */\nfunction handle_update_output(event, handle) {\n  handle_clear_output(event, {cell: {output_area: handle.output_area}})\n  handle_add_output(event, handle)\n}\n\nfunction register_renderer(events, OutputArea) {\n  function append_mime(data, metadata, element) {\n    // create a DOM node to render to\n    var toinsert = this.create_output_subarea(\n    metadata,\n    CLASS_NAME,\n    EXEC_MIME_TYPE\n    );\n    this.keyboard_manager.register_events(toinsert);\n    // Render to node\n    var props = {data: data, metadata: metadata[EXEC_MIME_TYPE]};\n    render(props, toinsert[0]);\n    element.append(toinsert);\n    return toinsert\n  }\n\n  events.on('output_added.OutputArea', handle_add_output);\n  events.on('output_updated.OutputArea', handle_update_output);\n  events.on('clear_output.CodeCell', handle_clear_output);\n  events.on('delete.Cell', handle_clear_output);\n  events.on('kernel_ready.Kernel', handle_kernel_cleanup);\n\n  OutputArea.prototype.register_mime_type(EXEC_MIME_TYPE, append_mime, {\n    safe: true,\n    index: 0\n  });\n}\n\nif (window.Jupyter !== undefined) {\n  try {\n    var events = require('base/js/events');\n    var OutputArea = require('notebook/js/outputarea').OutputArea;\n    if (OutputArea.prototype.mime_types().indexOf(EXEC_MIME_TYPE) == -1) {\n      register_renderer(events, OutputArea);\n    }\n  } catch(err) {\n  }\n}\n",
      "application/vnd.holoviews_load.v0+json": ""
     },
     "metadata": {},
     "output_type": "display_data"
    },
    {
     "data": {
      "application/vnd.holoviews_exec.v0+json": "",
      "text/html": [
       "<div id='40b40b35-918b-4f95-bc1b-778007c04dbc'>\n",
       "  <div id=\"e1cfa902-19d1-417a-beeb-03d0432825f3\" data-root-id=\"40b40b35-918b-4f95-bc1b-778007c04dbc\" style=\"display: contents;\"></div>\n",
       "</div>\n",
       "<script type=\"application/javascript\">(function(root) {\n",
       "  var docs_json = {\"1ba13007-6051-4636-9757-9e712d93919d\":{\"version\":\"3.5.2\",\"title\":\"Bokeh Application\",\"roots\":[{\"type\":\"object\",\"name\":\"panel.models.browser.BrowserInfo\",\"id\":\"40b40b35-918b-4f95-bc1b-778007c04dbc\"},{\"type\":\"object\",\"name\":\"panel.models.comm_manager.CommManager\",\"id\":\"e6e8ba56-67a2-4e63-b072-04accb9f89ac\",\"attributes\":{\"plot_id\":\"40b40b35-918b-4f95-bc1b-778007c04dbc\",\"comm_id\":\"5ca88d87cbb342738ba46a15661bcd49\",\"client_comm_id\":\"c1953d8823124adfbd54c0d6ac29c74d\"}}],\"defs\":[{\"type\":\"model\",\"name\":\"ReactiveHTML1\"},{\"type\":\"model\",\"name\":\"FlexBox1\",\"properties\":[{\"name\":\"align_content\",\"kind\":\"Any\",\"default\":\"flex-start\"},{\"name\":\"align_items\",\"kind\":\"Any\",\"default\":\"flex-start\"},{\"name\":\"flex_direction\",\"kind\":\"Any\",\"default\":\"row\"},{\"name\":\"flex_wrap\",\"kind\":\"Any\",\"default\":\"wrap\"},{\"name\":\"gap\",\"kind\":\"Any\",\"default\":\"\"},{\"name\":\"justify_content\",\"kind\":\"Any\",\"default\":\"flex-start\"}]},{\"type\":\"model\",\"name\":\"FloatPanel1\",\"properties\":[{\"name\":\"config\",\"kind\":\"Any\",\"default\":{\"type\":\"map\"}},{\"name\":\"contained\",\"kind\":\"Any\",\"default\":true},{\"name\":\"position\",\"kind\":\"Any\",\"default\":\"right-top\"},{\"name\":\"offsetx\",\"kind\":\"Any\",\"default\":null},{\"name\":\"offsety\",\"kind\":\"Any\",\"default\":null},{\"name\":\"theme\",\"kind\":\"Any\",\"default\":\"primary\"},{\"name\":\"status\",\"kind\":\"Any\",\"default\":\"normalized\"}]},{\"type\":\"model\",\"name\":\"GridStack1\",\"properties\":[{\"name\":\"mode\",\"kind\":\"Any\",\"default\":\"warn\"},{\"name\":\"ncols\",\"kind\":\"Any\",\"default\":null},{\"name\":\"nrows\",\"kind\":\"Any\",\"default\":null},{\"name\":\"allow_resize\",\"kind\":\"Any\",\"default\":true},{\"name\":\"allow_drag\",\"kind\":\"Any\",\"default\":true},{\"name\":\"state\",\"kind\":\"Any\",\"default\":[]}]},{\"type\":\"model\",\"name\":\"drag1\",\"properties\":[{\"name\":\"slider_width\",\"kind\":\"Any\",\"default\":5},{\"name\":\"slider_color\",\"kind\":\"Any\",\"default\":\"black\"},{\"name\":\"value\",\"kind\":\"Any\",\"default\":50}]},{\"type\":\"model\",\"name\":\"click1\",\"properties\":[{\"name\":\"terminal_output\",\"kind\":\"Any\",\"default\":\"\"},{\"name\":\"debug_name\",\"kind\":\"Any\",\"default\":\"\"},{\"name\":\"clears\",\"kind\":\"Any\",\"default\":0}]},{\"type\":\"model\",\"name\":\"FastWrapper1\",\"properties\":[{\"name\":\"object\",\"kind\":\"Any\",\"default\":null},{\"name\":\"style\",\"kind\":\"Any\",\"default\":null}]},{\"type\":\"model\",\"name\":\"NotificationAreaBase1\",\"properties\":[{\"name\":\"js_events\",\"kind\":\"Any\",\"default\":{\"type\":\"map\"}},{\"name\":\"position\",\"kind\":\"Any\",\"default\":\"bottom-right\"},{\"name\":\"_clear\",\"kind\":\"Any\",\"default\":0}]},{\"type\":\"model\",\"name\":\"NotificationArea1\",\"properties\":[{\"name\":\"js_events\",\"kind\":\"Any\",\"default\":{\"type\":\"map\"}},{\"name\":\"notifications\",\"kind\":\"Any\",\"default\":[]},{\"name\":\"position\",\"kind\":\"Any\",\"default\":\"bottom-right\"},{\"name\":\"_clear\",\"kind\":\"Any\",\"default\":0},{\"name\":\"types\",\"kind\":\"Any\",\"default\":[{\"type\":\"map\",\"entries\":[[\"type\",\"warning\"],[\"background\",\"#ffc107\"],[\"icon\",{\"type\":\"map\",\"entries\":[[\"className\",\"fas fa-exclamation-triangle\"],[\"tagName\",\"i\"],[\"color\",\"white\"]]}]]},{\"type\":\"map\",\"entries\":[[\"type\",\"info\"],[\"background\",\"#007bff\"],[\"icon\",{\"type\":\"map\",\"entries\":[[\"className\",\"fas fa-info-circle\"],[\"tagName\",\"i\"],[\"color\",\"white\"]]}]]}]}]},{\"type\":\"model\",\"name\":\"Notification\",\"properties\":[{\"name\":\"background\",\"kind\":\"Any\",\"default\":null},{\"name\":\"duration\",\"kind\":\"Any\",\"default\":3000},{\"name\":\"icon\",\"kind\":\"Any\",\"default\":null},{\"name\":\"message\",\"kind\":\"Any\",\"default\":\"\"},{\"name\":\"notification_type\",\"kind\":\"Any\",\"default\":null},{\"name\":\"_destroyed\",\"kind\":\"Any\",\"default\":false}]},{\"type\":\"model\",\"name\":\"TemplateActions1\",\"properties\":[{\"name\":\"open_modal\",\"kind\":\"Any\",\"default\":0},{\"name\":\"close_modal\",\"kind\":\"Any\",\"default\":0}]},{\"type\":\"model\",\"name\":\"BootstrapTemplateActions1\",\"properties\":[{\"name\":\"open_modal\",\"kind\":\"Any\",\"default\":0},{\"name\":\"close_modal\",\"kind\":\"Any\",\"default\":0}]},{\"type\":\"model\",\"name\":\"TemplateEditor1\",\"properties\":[{\"name\":\"layout\",\"kind\":\"Any\",\"default\":[]}]},{\"type\":\"model\",\"name\":\"MaterialTemplateActions1\",\"properties\":[{\"name\":\"open_modal\",\"kind\":\"Any\",\"default\":0},{\"name\":\"close_modal\",\"kind\":\"Any\",\"default\":0}]},{\"type\":\"model\",\"name\":\"ReactiveESM1\"},{\"type\":\"model\",\"name\":\"JSComponent1\"},{\"type\":\"model\",\"name\":\"ReactComponent1\"},{\"type\":\"model\",\"name\":\"AnyWidgetComponent1\"},{\"type\":\"model\",\"name\":\"request_value1\",\"properties\":[{\"name\":\"fill\",\"kind\":\"Any\",\"default\":\"none\"},{\"name\":\"_synced\",\"kind\":\"Any\",\"default\":null},{\"name\":\"_request_sync\",\"kind\":\"Any\",\"default\":0}]}]}};\n",
       "  var render_items = [{\"docid\":\"1ba13007-6051-4636-9757-9e712d93919d\",\"roots\":{\"40b40b35-918b-4f95-bc1b-778007c04dbc\":\"e1cfa902-19d1-417a-beeb-03d0432825f3\"},\"root_ids\":[\"40b40b35-918b-4f95-bc1b-778007c04dbc\"]}];\n",
       "  var docs = Object.values(docs_json)\n",
       "  if (!docs) {\n",
       "    return\n",
       "  }\n",
       "  const py_version = docs[0].version.replace('rc', '-rc.').replace('.dev', '-dev.')\n",
       "  async function embed_document(root) {\n",
       "    var Bokeh = get_bokeh(root)\n",
       "    await Bokeh.embed.embed_items_notebook(docs_json, render_items);\n",
       "    for (const render_item of render_items) {\n",
       "      for (const root_id of render_item.root_ids) {\n",
       "\tconst id_el = document.getElementById(root_id)\n",
       "\tif (id_el.children.length && id_el.children[0].hasAttribute('data-root-id')) {\n",
       "\t  const root_el = id_el.children[0]\n",
       "\t  root_el.id = root_el.id + '-rendered'\n",
       "\t  for (const child of root_el.children) {\n",
       "            // Ensure JupyterLab does not capture keyboard shortcuts\n",
       "            // see: https://jupyterlab.readthedocs.io/en/4.1.x/extension/notebook.html#keyboard-interaction-model\n",
       "\t    child.setAttribute('data-lm-suppress-shortcuts', 'true')\n",
       "\t  }\n",
       "\t}\n",
       "      }\n",
       "    }\n",
       "  }\n",
       "  function get_bokeh(root) {\n",
       "    if (root.Bokeh === undefined) {\n",
       "      return null\n",
       "    } else if (root.Bokeh.version !== py_version) {\n",
       "      if (root.Bokeh.versions === undefined || !root.Bokeh.versions.has(py_version)) {\n",
       "\treturn null\n",
       "      }\n",
       "      return root.Bokeh.versions.get(py_version);\n",
       "    } else if (root.Bokeh.version === py_version) {\n",
       "      return root.Bokeh\n",
       "    }\n",
       "    return null\n",
       "  }\n",
       "  function is_loaded(root) {\n",
       "    var Bokeh = get_bokeh(root)\n",
       "    return (Bokeh != null && Bokeh.Panel !== undefined)\n",
       "  }\n",
       "  if (is_loaded(root)) {\n",
       "    embed_document(root);\n",
       "  } else {\n",
       "    var attempts = 0;\n",
       "    var timer = setInterval(function(root) {\n",
       "      if (is_loaded(root)) {\n",
       "        clearInterval(timer);\n",
       "        embed_document(root);\n",
       "      } else if (document.readyState == \"complete\") {\n",
       "        attempts++;\n",
       "        if (attempts > 200) {\n",
       "          clearInterval(timer);\n",
       "\t  var Bokeh = get_bokeh(root)\n",
       "\t  if (Bokeh == null || Bokeh.Panel == null) {\n",
       "            console.warn(\"Panel: ERROR: Unable to run Panel code because Bokeh or Panel library is missing\");\n",
       "\t  } else {\n",
       "\t    console.warn(\"Panel: WARNING: Attempting to render but not all required libraries could be resolved.\")\n",
       "\t    embed_document(root)\n",
       "\t  }\n",
       "        }\n",
       "      }\n",
       "    }, 25, root)\n",
       "  }\n",
       "})(window);</script>"
      ]
     },
     "metadata": {
      "application/vnd.holoviews_exec.v0+json": {
       "id": "40b40b35-918b-4f95-bc1b-778007c04dbc"
      }
     },
     "output_type": "display_data"
    },
    {
     "data": {
      "text/html": [
       "\n",
       "<div class=\"logo-block\">\n",
       "<img src='data:image/png;base64,iVBORw0KGgoAAAANSUhEUgAAAEAAAABACAYAAACqaXHeAAAABHNCSVQICAgIfAhkiAAAAAlwSFlz\n",
       "AAAB+wAAAfsBxc2miwAAABl0RVh0U29mdHdhcmUAd3d3Lmlua3NjYXBlLm9yZ5vuPBoAAA6zSURB\n",
       "VHic7ZtpeFRVmsf/5966taWqUlUJ2UioBBJiIBAwCZtog9IOgjqACsogKtqirT2ttt069nQ/zDzt\n",
       "tI4+CrJIREFaFgWhBXpUNhHZQoKBkIUASchWla1S+3ar7r1nPkDaCAnZKoQP/D7mnPOe9/xy76n3\n",
       "nFSAW9ziFoPFNED2LLK5wcyBDObkb8ZkxuaoSYlI6ZcOKq1eWFdedqNzGHQBk9RMEwFAASkk0Xw3\n",
       "ETacDNi2vtvc7L0ROdw0AjoSotQVkKSvHQz/wRO1lScGModBFbDMaNRN1A4tUBCS3lk7BWhQkgpD\n",
       "lG4852/+7DWr1R3uHAZVQDsbh6ZPN7CyxUrCzJMRouusj0ipRwD2uKm0Zn5d2dFwzX1TCGhnmdGo\n",
       "G62Nna+isiUqhkzuKrkQaJlPEv5mFl2fvGg2t/VnzkEV8F5ioioOEWkLG86fvbpthynjdhXYZziQ\n",
       "x1hC9J2NFyi8vCTt91Fh04KGip0AaG9zuCk2wQCVyoNU3Hjezee9bq92duzzTmxsRJoy+jEZZZYo\n",
       "GTKJ6SJngdJqAfRzpze0+jHreUtPc7gpBLQnIYK6BYp/uGhw9YK688eu7v95ysgshcg9qSLMo3JC\n",
       "4jqLKQFBgdKDPoQ+Pltb8dUyQLpeDjeVgI6EgLIQFT5tEl3rn2losHVsexbZ3EyT9wE1uGdkIPcy\n",
       "BGxn8QUq1QrA5nqW5i2tLqvrrM9NK6AdkVIvL9E9bZL/oyfMVd/jqvc8LylzRBKDJSzIExwhQzuL\n",
       "QYGQj4rHfFTc8mUdu3E7yoLtbTe9gI4EqVgVkug2i5+uXGo919ixbRog+3fTbQ8qJe4ZOYNfMoTI\n",
       "OoshUNosgO60AisX15aeI2PSIp5KiFLI9ubb1vV3Qb2ltwLakUCDAkWX7/nHKRmmGIl9VgYsUhJm\n",
       "2NXjKYADtM1ygne9QQDIXlk49FBstMKx66D1v4+XuQr7vqTe0VcBHQlRWiOCbmmSYe2SqtL6q5rJ\n",
       "zsTb7lKx3FKOYC4DoqyS/B5bvLPxvD9Qtf6saxYLQGJErmDOdOMr/zo96km1nElr8bmPOBwI9COv\n",
       "HnFPRIwmkSOv9kcAS4heRsidOkpeWBgZM+UBrTFAXNYL5Vf2ii9c1trNzpYdaoVil3WIc+wdk+gQ\n",
       "noie3ecCcxt9ITcLAPWt/laGEO/9U6PmzZkenTtsSMQ8uYywJVW+grCstAvCIaAdArAsIWkRDDs/\n",
       "KzLm2YcjY1Lv0UdW73HabE9n6V66cxSzfEmuJssTpKGVp+0vHq73FwL46eOjpMpbRAnNmJFrGJNu\n",
       "Ukf9Yrz+3rghiumCKNXXWPhLYcjxGsIpoCMsIRoFITkW8AuyM8jC1+/QLx4bozCEJIq38+1rtpR6\n",
       "V/yzb8eBlRb3fo5l783N0CWolAzJHaVNzkrTzlEp2bQ2q3TC5gn6wpnoQAmwSiGh2GitnTmVMc5O\n",
       "UyfKWUKCIsU7+fZDKwqdT6DDpvkzAX4/+AMFjk0tDp5GRXLpQ2MUmhgDp5gxQT8+Y7hyPsMi8uxF\n",
       "71H0oebujHALECjFKaW9Lm68n18wXp2kVzIcABytD5iXFzg+WVXkegpAsOOYziqo0OkK76GyquC3\n",
       "ltZAzMhhqlSNmmWTE5T6e3IN05ITFLM4GdN0vtZ3ob8Jh1NAKXFbm5PtLU/eqTSlGjkNAJjdgn/N\n",
       "aedXa0tdi7+t9G0FIF49rtMSEgAs1kDLkTPO7ebm4IUWeyh1bKomXqlgMG6kJmHcSM0clYLJ8XtR\n",
       "1GTnbV3F6I5wCGikAb402npp1h1s7LQUZZSMIfALFOuL3UUrfnS8+rez7v9qcold5tilgHbO1fjK\n",
       "9ubb17u9oshxzMiUBKXWqJNxd+fqb0tLVs4lILFnK71H0Ind7uiPgACVcFJlrb0tV6DzxqqTIhUM\n",
       "CwDf1/rrVhTa33/3pGPxJYdQ2l2cbgVcQSosdx8uqnDtbGjh9SlDVSMNWhlnilfqZk42Th2ZpLpf\n",
       "xrHec5e815zrr0dfBZSwzkZfqsv+1FS1KUknUwPARVvItfKUY+cn57yP7qv07UE3p8B2uhUwLk09\n",
       "e0SCOrK+hbdYHYLjRIl71wWzv9jpEoeOHhGRrJAzyEyNiJuUqX0g2sBN5kGK6y2Blp5M3lsB9Qh4\n",
       "y2Ja6x6+i0ucmKgwMATwhSjdUu49tKrQ/pvN5d53ml2CGwCmJipmKjgmyuaXzNeL2a0AkQ01Th5j\n",
       "2DktO3Jyk8f9vcOBQHV94OK+fPumJmvQHxJoWkaKWq9Vs+yUsbq0zGT1I4RgeH2b5wef7+c7bl8F\n",
       "eKgoHVVZa8ZPEORzR6sT1BzDUAD/d9F78e2Tzv99v8D+fLVTqAKAsbGamKey1Mt9Ann4eH3gTXTz\n",
       "idWtAJ8PQWOk7NzSeQn/OTHDuEikVF1R4z8BQCy+6D1aWRfY0tTGG2OM8rRoPaeIj5ZHzJxszElN\n",
       "VM8K8JS5WOfv8mzRnQAKoEhmt8gyPM4lU9SmBK1MCQBnW4KONT86v1hZ1PbwSXPw4JWussVjtH9Y\n",
       "NCoiL9UoH/6PSu8jFrfY2t36erQHXLIEakMi1SydmzB31h3GGXFDFNPaK8Rme9B79Ixrd0WN+1ij\n",
       "NRQ/doRmuFLBkHSTOm5GruG+pFjFdAmorG4IXH1Qua6ASniclfFtDYt+oUjKipPrCQB7QBQ2lrgP\n",
       "fFzm+9XWUtcqJ3/5vDLDpJ79XHZk3u8nGZ42qlj1+ydtbxysCezrydp6ugmipNJ7WBPB5tydY0jP\n",
       "HaVNzs3QzeE4ZpTbI+ZbnSFPbVOw9vsfnVvqWnirPyCNGD08IlqtYkh2hjZ5dErEQzoNm+6ykyOt\n",
       "Lt5/PQEuSRRKo22VkydK+vvS1XEKlhCJAnsqvcVvH7f/ZU2R67eXbMEGAMiIV5oWZWiWvz5Fv2xG\n",
       "sjqNJQRvn3Rs2lji/lNP19VjAQDgD7FHhujZB9OGqYxRkZxixgRDVlqS6uEOFaJUVu0rPFzctrnF\n",
       "JqijImVp8dEKVWyUXDk92zAuMZ6bFwpBU1HrOw6AdhQgUooChb0+ItMbWJitSo5Ws3IAOGEOtL53\n",
       "0vHZih9sC4vtofZ7Qu6523V/fmGcds1TY3V36pUsBwAbSlxnVh2xLfAD/IAIMDf7XYIkNmXfpp2l\n",
       "18rkAJAy9HKFaIr/qULkeQQKy9zf1JgDB2uaeFNGijo5QsUyacNUUTOnGO42xSnv4oOwpDi1zYkc\n",
       "efUc3I5Gk6PhyTuVKaOGyLUAYPGIoY9Pu/atL/L92+4q9wbflRJ2Trpm/jPjdBtfnqB/dIThcl8A\n",
       "KG7hbRuKnb8qsQsVvVlTrwQAQMUlf3kwJI24Z4JhPMtcfng5GcH49GsrxJpGvvHIaeem2ma+KSjQ\n",
       "lIwUdYyCY8j4dE1KzijNnIP2llF2wcXNnsoapw9XxsgYAl6k+KzUXbi2yP3KR2ecf6z3BFsBICdW\n",
       "nvnIaG3eHybqX7vbpEqUMT+9OL4Qpe8VON7dXuFd39v19FoAABRVePbGGuXTszO0P7tu6lghUonE\n",
       "llRdrhArLvmKdh9u29jcFiRRkfLUxBiFNiqSU9icoZQHo5mYBI1MBgBH6wMNb+U7Pnw337H4gi1Y\n",
       "ciWs+uks3Z9fztUvfzxTm9Ne8XXkvQLHNytOOZeiD4e0PgkAIAYCYknKUNUDSXEKzdWNpnil7r4p\n",
       "xqkjTarZMtk/K8TQ6Qve78qqvXurGwIJqcOUKfUWHsm8KGvxSP68YudXq4pcj39X49uOK2X142O0\n",
       "Tz5/u/7TVybqH0rSya6ZBwD21/gubbrgWdDgEOx9WUhfBaC2ibcEBYm7a7x+ukrBMNcEZggyR0TE\n",
       "T8zUPjikQ4VosQZbTpS4vqizBKvqmvjsqnpfzaZyx9JPiz1/bfGKdgD45XB1zoIMzYbfTdS/NClB\n",
       "Gct0USiY3YL/g0LHy/uq/Ef6uo5+n0R/vyhp17Klpge763f8rMu6YU/zrn2nml+2WtH+Z+5IAAFc\n",
       "2bUTdTDOSNa9+cQY7YLsOIXhevEkCvzph7a8laecz/Un/z4/Ae04XeL3UQb57IwU9ZDr9UuKVajv\n",
       "nxp1+1UVIo/LjztZkKH59fO3G/JemqCfmaCRqbqbd90ZZ8FfjtkfAyD0J/9+C2h1hDwsSxvGjNDc\n",
       "b4zk5NfrSwiQblLHzZhg+Jf4aPlUwpDqkQqa9nimbt1/TDH8OitGMaQnj+RJS6B1fbF7SY1TqO5v\n",
       "/v0WAADl1f7zokgS7s7VT2DZ7pegUjBM7mjtiDZbcN4j0YrHH0rXpCtY0qPX0cVL0rv5jv/ZXend\n",
       "0u/EESYBAFBU4T4Qa5TflZOhTe7pmKpaP8kCVUVw1+yhXfJWvn1P3hnXi33JsTN6PnP3hHZ8Z3/h\n",
       "aLHzmkNPuPj7Bc/F/Q38CwjTpSwQXgE4Vmwry9tpfq/ZFgqFMy4AVDtCvi8rvMvOmv0N4YwbVgEA\n",
       "sPM72/KVnzfspmH7HQGCRLG2yL1+z8XwvPcdCbsAANh+xPzstgMtxeGKt+6MK3/tacfvwhWvIwMi\n",
       "oKEBtm0H7W+UVfkc/Y1V0BhoPlDr/w1w/eu1vjIgAgDg22OtX6/eYfnEz/focrZTHAFR+PSs56/7\n",
       "q32nwpjazxgwAQCwcU/T62t3WL7r6/jVRa6/byp1rei+Z98ZUAEAhEPHPc8fKnTU9nbgtnOe8h0l\n",
       "9hcGIqmODLQAHCy2Xti6v/XNRivf43f4fFvIteu854+VHnR7q9tfBlwAAGz+pnndB9vM26UebAe8\n",
       "SLHujPOTPVW+rwY+sxskAAC2HrA8t2Vvc7ffP1r9o+vwR2dcr92InIAbKKC1FZ5tB1tf+/G8p8sv\n",
       "N/9Q5zd/XR34LYCwV5JdccMEAMDBk45DH243r/X4xGvqxFa/GNpS7n6rwOwNWwHVE26oAADYurf1\n",
       "zx/utOzt+DMKYM0p17YtZZ5VNzqfsB2HewG1WXE8PoZ7gOclbTIvynZf9JV+fqZtfgs/8F/Nu5rB\n",
       "EIBmJ+8QRMmpU7EzGRsf2FzuePqYRbzh/zE26EwdrT10f6r6o8HOYzCJB9Dpff8tbnGLG8L/A/WE\n",
       "roTBs2RqAAAAAElFTkSuQmCC'\n",
       "     style='height:25px; border-radius:12px; display: inline-block; float: left; vertical-align: middle'></img>\n",
       "\n",
       "\n",
       "  <img src='data:image/png;base64,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'\n",
       "       style='height:15px; border-radius:12px; display: inline-block; float: left'></img>\n",
       "  \n",
       "\n",
       "\n",
       "\n",
       "\n",
       "</div>\n"
      ]
     },
     "metadata": {},
     "output_type": "display_data"
    },
    {
     "name": "stderr",
     "output_type": "stream",
     "text": [
      "/home/durrieu/miniforge3/envs/tracking_analysis/lib/python3.12/site-packages/starlette/formparsers.py:12: FutureWarning: Please use `import python_multipart` instead.\n",
      "  import multipart\n"
     ]
    }
   ],
   "source": [
    "# from utils_behavior import Sleap_utils\n",
    "# from utils_behavior import HoloviewsTemplates\n",
    "# from utils_behavior import HoloviewsPlots\n",
    "# from utils_behavior import Utils\n",
    "from utils_behavior import Processing\n",
    "\n",
    "# from utils_behavior import Ballpushing_utils\n",
    "\n",
    "\n",
    "import importlib\n",
    "\n",
    "from pathlib import Path\n",
    "\n",
    "import json\n",
    "\n",
    "from matplotlib import pyplot as plt\n",
    "import pandas as pd\n",
    "import holoviews as hv\n",
    "from holoviews import opts\n",
    "hv.extension('bokeh')\n",
    "import seaborn as sns\n",
    "from shiny import App, Inputs, Outputs, Session, reactive, render, req, ui\n",
    "\n",
    "\n",
    "\n",
    "#import lux\n",
    "\n",
    "import pandas as pd\n",
    "\n",
    "#lux.config.set_executor_type(\"Pandas\")\n",
    "\n",
    "import numpy as np\n",
    "import h5py\n",
    "import re"
   ]
  },
  {
   "cell_type": "code",
   "execution_count": null,
   "metadata": {},
   "outputs": [],
   "source": [
    "importlib.reload(Ballpushing_utils)"
   ]
  },
  {
   "cell_type": "code",
   "execution_count": null,
   "metadata": {},
   "outputs": [],
   "source": [
    "Datapath = Path(\"/mnt/upramdya_data/MD/F1_Tracks/Videos\")\n",
    "\n",
    "# Look for video folders and load Fly objects\n",
    "\n",
    "# videos = list(Datapath.rglob(\"*.mp4\"))\n",
    "\n",
    "# Flies = []\n",
    "\n",
    "# for video in videos:\n",
    "#     fly = Ballpushing_utils.Fly(video.parent)\n",
    "    \n",
    "#     Flies.append(fly)\n",
    "\n",
    "# For each directory in the datapath, load the Experiment object\n",
    "Experiments = []\n",
    "\n",
    "for exp in Datapath.iterdir():\n",
    "    if exp.is_dir():\n",
    "        experiment = Ballpushing_utils.Experiment(exp, experiment_type=\"F1\")\n",
    "        Experiments.append(experiment)"
   ]
  },
  {
   "cell_type": "code",
   "execution_count": null,
   "metadata": {},
   "outputs": [],
   "source": [
    "importlib.reload(Ballpushing_utils)"
   ]
  },
  {
   "cell_type": "code",
   "execution_count": null,
   "metadata": {},
   "outputs": [],
   "source": [
    "Data_F1 = Ballpushing_utils.Dataset(Experiments, dataset_type=\"F1_coordinates\" )\n",
    "\n",
    "str(Data_F1)"
   ]
  },
  {
   "cell_type": "code",
   "execution_count": null,
   "metadata": {},
   "outputs": [],
   "source": [
    "Data_F1_coordinates = Data_F1.data"
   ]
  },
  {
   "cell_type": "code",
   "execution_count": null,
   "metadata": {},
   "outputs": [],
   "source": [
    "# Save dataset as feather\n",
    "\n",
    "Data_F1_coordinates.to_feather(\"/mnt/upramdya_data/MD/F1_Tracks/Datasets/F1_coordinates.feather\")"
   ]
  },
  {
   "cell_type": "code",
   "execution_count": 2,
   "metadata": {},
   "outputs": [],
   "source": [
    "# Load dataset from feather\n",
    "Data_F1_coordinates = pd.read_feather(\"/mnt/upramdya_data/MD/F1_Tracks/Datasets/F1_coordinates.feather\")"
   ]
  },
  {
   "cell_type": "code",
   "execution_count": 3,
   "metadata": {},
   "outputs": [
    {
     "data": {
      "text/plain": [
       "191"
      ]
     },
     "execution_count": 3,
     "metadata": {},
     "output_type": "execute_result"
    }
   ],
   "source": [
    "Data_F1_coordinates[\"fly\"].nunique()"
   ]
  },
  {
   "cell_type": "code",
   "execution_count": 4,
   "metadata": {},
   "outputs": [
    {
     "data": {
      "application/vnd.microsoft.datawrangler.viewer.v0+json": {
       "columns": [
        {
         "name": "index",
         "rawType": "int64",
         "type": "integer"
        },
        {
         "name": "index",
         "rawType": "int64",
         "type": "integer"
        },
        {
         "name": "time",
         "rawType": "float64",
         "type": "float"
        },
        {
         "name": "frame",
         "rawType": "int64",
         "type": "integer"
        },
        {
         "name": "adjusted_time",
         "rawType": "float64",
         "type": "float"
        },
        {
         "name": "training_ball",
         "rawType": "float64",
         "type": "float"
        },
        {
         "name": "test_ball",
         "rawType": "float64",
         "type": "float"
        },
        {
         "name": "fly",
         "rawType": "object",
         "type": "string"
        },
        {
         "name": "flypath",
         "rawType": "object",
         "type": "string"
        },
        {
         "name": "experiment",
         "rawType": "object",
         "type": "string"
        },
        {
         "name": "Nickname",
         "rawType": "object",
         "type": "string"
        },
        {
         "name": "Brain region",
         "rawType": "object",
         "type": "string"
        },
        {
         "name": "Simplified Nickname",
         "rawType": "object",
         "type": "string"
        },
        {
         "name": "Split",
         "rawType": "object",
         "type": "string"
        },
        {
         "name": "Date",
         "rawType": "object",
         "type": "string"
        },
        {
         "name": "Genotype",
         "rawType": "category",
         "type": "unknown"
        },
        {
         "name": "Period",
         "rawType": "object",
         "type": "string"
        },
        {
         "name": "Peak",
         "rawType": "object",
         "type": "string"
        },
        {
         "name": "Orientation",
         "rawType": "object",
         "type": "string"
        },
        {
         "name": "Pretraining",
         "rawType": "object",
         "type": "string"
        },
        {
         "name": "Unlocked",
         "rawType": "object",
         "type": "string"
        },
        {
         "name": "",
         "rawType": "category",
         "type": "unknown"
        },
        {
         "name": "F1_condition",
         "rawType": "object",
         "type": "string"
        },
        {
         "name": "FeedingState",
         "rawType": "object",
         "type": "unknown"
        },
        {
         "name": "Light",
         "rawType": "category",
         "type": "unknown"
        },
        {
         "name": "Crossing",
         "rawType": "category",
         "type": "unknown"
        },
        {
         "name": "Balltype",
         "rawType": "category",
         "type": "unknown"
        },
        {
         "name": "EndChamber",
         "rawType": "category",
         "type": "unknown"
        }
       ],
       "conversionMethod": "pd.DataFrame",
       "ref": "6b35e7be-aaf7-46eb-9115-8431f95fba24",
       "rows": [
        [
         "0",
         "0",
         "0.034482758620689655",
         "1",
         "-6929.310344827586",
         "0.0",
         "0.0",
         "240924_F1_3mm_ends_Videos_Checked_arena2_Right",
         "/mnt/upramdya_data/MD/F1_Tracks/Videos/240924_F1_3mm_ends_Videos_Checked/arena2/Right",
         "240924_F1_3mm_ends_Videos_Checked",
         "PR",
         "Control",
         "PR",
         "m",
         "240924",
         "PR",
         "AM10",
         "morning",
         "std",
         "y",
         "nn",
         "",
         "pretrained",
         null,
         null,
         null,
         null,
         null
        ],
        [
         "1",
         "1",
         "0.06896551724137931",
         "2",
         "-6929.275862068966",
         "0.0006215316683186495",
         "0.004269189769767456",
         "240924_F1_3mm_ends_Videos_Checked_arena2_Right",
         "/mnt/upramdya_data/MD/F1_Tracks/Videos/240924_F1_3mm_ends_Videos_Checked/arena2/Right",
         "240924_F1_3mm_ends_Videos_Checked",
         "PR",
         "Control",
         "PR",
         "m",
         "240924",
         "PR",
         "AM10",
         "morning",
         "std",
         "y",
         "nn",
         "",
         "pretrained",
         null,
         null,
         null,
         null,
         null
        ],
        [
         "2",
         "2",
         "0.10344827586206896",
         "3",
         "-6929.241379310344",
         "0.0012430633366304147",
         "0.008538379539552256",
         "240924_F1_3mm_ends_Videos_Checked_arena2_Right",
         "/mnt/upramdya_data/MD/F1_Tracks/Videos/240924_F1_3mm_ends_Videos_Checked/arena2/Right",
         "240924_F1_3mm_ends_Videos_Checked",
         "PR",
         "Control",
         "PR",
         "m",
         "240924",
         "PR",
         "AM10",
         "morning",
         "std",
         "y",
         "nn",
         "",
         "pretrained",
         null,
         null,
         null,
         null,
         null
        ],
        [
         "3",
         "3",
         "0.13793103448275862",
         "4",
         "-6929.206896551724",
         "0.0018645950049490643",
         "0.012807569309319712",
         "240924_F1_3mm_ends_Videos_Checked_arena2_Right",
         "/mnt/upramdya_data/MD/F1_Tracks/Videos/240924_F1_3mm_ends_Videos_Checked/arena2/Right",
         "240924_F1_3mm_ends_Videos_Checked",
         "PR",
         "Control",
         "PR",
         "m",
         "240924",
         "PR",
         "AM10",
         "morning",
         "std",
         "y",
         "nn",
         "",
         "pretrained",
         null,
         null,
         null,
         null,
         null
        ],
        [
         "4",
         "4",
         "0.1724137931034483",
         "5",
         "-6929.172413793103",
         "0.0024861266732608294",
         "0.01707675907910451",
         "240924_F1_3mm_ends_Videos_Checked_arena2_Right",
         "/mnt/upramdya_data/MD/F1_Tracks/Videos/240924_F1_3mm_ends_Videos_Checked/arena2/Right",
         "240924_F1_3mm_ends_Videos_Checked",
         "PR",
         "Control",
         "PR",
         "m",
         "240924",
         "PR",
         "AM10",
         "morning",
         "std",
         "y",
         "nn",
         "",
         "pretrained",
         null,
         null,
         null,
         null,
         null
        ]
       ],
       "shape": {
        "columns": 27,
        "rows": 5
       }
      },
      "text/html": [
       "<div>\n",
       "<style scoped>\n",
       "    .dataframe tbody tr th:only-of-type {\n",
       "        vertical-align: middle;\n",
       "    }\n",
       "\n",
       "    .dataframe tbody tr th {\n",
       "        vertical-align: top;\n",
       "    }\n",
       "\n",
       "    .dataframe thead th {\n",
       "        text-align: right;\n",
       "    }\n",
       "</style>\n",
       "<table border=\"1\" class=\"dataframe\">\n",
       "  <thead>\n",
       "    <tr style=\"text-align: right;\">\n",
       "      <th></th>\n",
       "      <th>index</th>\n",
       "      <th>time</th>\n",
       "      <th>frame</th>\n",
       "      <th>adjusted_time</th>\n",
       "      <th>training_ball</th>\n",
       "      <th>test_ball</th>\n",
       "      <th>fly</th>\n",
       "      <th>flypath</th>\n",
       "      <th>experiment</th>\n",
       "      <th>Nickname</th>\n",
       "      <th>...</th>\n",
       "      <th>Orientation</th>\n",
       "      <th>Pretraining</th>\n",
       "      <th>Unlocked</th>\n",
       "      <th></th>\n",
       "      <th>F1_condition</th>\n",
       "      <th>FeedingState</th>\n",
       "      <th>Light</th>\n",
       "      <th>Crossing</th>\n",
       "      <th>Balltype</th>\n",
       "      <th>EndChamber</th>\n",
       "    </tr>\n",
       "  </thead>\n",
       "  <tbody>\n",
       "    <tr>\n",
       "      <th>0</th>\n",
       "      <td>0</td>\n",
       "      <td>0.034483</td>\n",
       "      <td>1</td>\n",
       "      <td>-6929.310345</td>\n",
       "      <td>0.000000</td>\n",
       "      <td>0.000000</td>\n",
       "      <td>240924_F1_3mm_ends_Videos_Checked_arena2_Right</td>\n",
       "      <td>/mnt/upramdya_data/MD/F1_Tracks/Videos/240924_...</td>\n",
       "      <td>240924_F1_3mm_ends_Videos_Checked</td>\n",
       "      <td>PR</td>\n",
       "      <td>...</td>\n",
       "      <td>std</td>\n",
       "      <td>y</td>\n",
       "      <td>nn</td>\n",
       "      <td></td>\n",
       "      <td>pretrained</td>\n",
       "      <td>None</td>\n",
       "      <td>NaN</td>\n",
       "      <td>NaN</td>\n",
       "      <td>NaN</td>\n",
       "      <td>NaN</td>\n",
       "    </tr>\n",
       "    <tr>\n",
       "      <th>1</th>\n",
       "      <td>1</td>\n",
       "      <td>0.068966</td>\n",
       "      <td>2</td>\n",
       "      <td>-6929.275862</td>\n",
       "      <td>0.000622</td>\n",
       "      <td>0.004269</td>\n",
       "      <td>240924_F1_3mm_ends_Videos_Checked_arena2_Right</td>\n",
       "      <td>/mnt/upramdya_data/MD/F1_Tracks/Videos/240924_...</td>\n",
       "      <td>240924_F1_3mm_ends_Videos_Checked</td>\n",
       "      <td>PR</td>\n",
       "      <td>...</td>\n",
       "      <td>std</td>\n",
       "      <td>y</td>\n",
       "      <td>nn</td>\n",
       "      <td></td>\n",
       "      <td>pretrained</td>\n",
       "      <td>None</td>\n",
       "      <td>NaN</td>\n",
       "      <td>NaN</td>\n",
       "      <td>NaN</td>\n",
       "      <td>NaN</td>\n",
       "    </tr>\n",
       "    <tr>\n",
       "      <th>2</th>\n",
       "      <td>2</td>\n",
       "      <td>0.103448</td>\n",
       "      <td>3</td>\n",
       "      <td>-6929.241379</td>\n",
       "      <td>0.001243</td>\n",
       "      <td>0.008538</td>\n",
       "      <td>240924_F1_3mm_ends_Videos_Checked_arena2_Right</td>\n",
       "      <td>/mnt/upramdya_data/MD/F1_Tracks/Videos/240924_...</td>\n",
       "      <td>240924_F1_3mm_ends_Videos_Checked</td>\n",
       "      <td>PR</td>\n",
       "      <td>...</td>\n",
       "      <td>std</td>\n",
       "      <td>y</td>\n",
       "      <td>nn</td>\n",
       "      <td></td>\n",
       "      <td>pretrained</td>\n",
       "      <td>None</td>\n",
       "      <td>NaN</td>\n",
       "      <td>NaN</td>\n",
       "      <td>NaN</td>\n",
       "      <td>NaN</td>\n",
       "    </tr>\n",
       "    <tr>\n",
       "      <th>3</th>\n",
       "      <td>3</td>\n",
       "      <td>0.137931</td>\n",
       "      <td>4</td>\n",
       "      <td>-6929.206897</td>\n",
       "      <td>0.001865</td>\n",
       "      <td>0.012808</td>\n",
       "      <td>240924_F1_3mm_ends_Videos_Checked_arena2_Right</td>\n",
       "      <td>/mnt/upramdya_data/MD/F1_Tracks/Videos/240924_...</td>\n",
       "      <td>240924_F1_3mm_ends_Videos_Checked</td>\n",
       "      <td>PR</td>\n",
       "      <td>...</td>\n",
       "      <td>std</td>\n",
       "      <td>y</td>\n",
       "      <td>nn</td>\n",
       "      <td></td>\n",
       "      <td>pretrained</td>\n",
       "      <td>None</td>\n",
       "      <td>NaN</td>\n",
       "      <td>NaN</td>\n",
       "      <td>NaN</td>\n",
       "      <td>NaN</td>\n",
       "    </tr>\n",
       "    <tr>\n",
       "      <th>4</th>\n",
       "      <td>4</td>\n",
       "      <td>0.172414</td>\n",
       "      <td>5</td>\n",
       "      <td>-6929.172414</td>\n",
       "      <td>0.002486</td>\n",
       "      <td>0.017077</td>\n",
       "      <td>240924_F1_3mm_ends_Videos_Checked_arena2_Right</td>\n",
       "      <td>/mnt/upramdya_data/MD/F1_Tracks/Videos/240924_...</td>\n",
       "      <td>240924_F1_3mm_ends_Videos_Checked</td>\n",
       "      <td>PR</td>\n",
       "      <td>...</td>\n",
       "      <td>std</td>\n",
       "      <td>y</td>\n",
       "      <td>nn</td>\n",
       "      <td></td>\n",
       "      <td>pretrained</td>\n",
       "      <td>None</td>\n",
       "      <td>NaN</td>\n",
       "      <td>NaN</td>\n",
       "      <td>NaN</td>\n",
       "      <td>NaN</td>\n",
       "    </tr>\n",
       "  </tbody>\n",
       "</table>\n",
       "<p>5 rows × 27 columns</p>\n",
       "</div>"
      ],
      "text/plain": [
       "   index      time  frame  adjusted_time  training_ball  test_ball  \\\n",
       "0      0  0.034483      1   -6929.310345       0.000000   0.000000   \n",
       "1      1  0.068966      2   -6929.275862       0.000622   0.004269   \n",
       "2      2  0.103448      3   -6929.241379       0.001243   0.008538   \n",
       "3      3  0.137931      4   -6929.206897       0.001865   0.012808   \n",
       "4      4  0.172414      5   -6929.172414       0.002486   0.017077   \n",
       "\n",
       "                                              fly  \\\n",
       "0  240924_F1_3mm_ends_Videos_Checked_arena2_Right   \n",
       "1  240924_F1_3mm_ends_Videos_Checked_arena2_Right   \n",
       "2  240924_F1_3mm_ends_Videos_Checked_arena2_Right   \n",
       "3  240924_F1_3mm_ends_Videos_Checked_arena2_Right   \n",
       "4  240924_F1_3mm_ends_Videos_Checked_arena2_Right   \n",
       "\n",
       "                                             flypath  \\\n",
       "0  /mnt/upramdya_data/MD/F1_Tracks/Videos/240924_...   \n",
       "1  /mnt/upramdya_data/MD/F1_Tracks/Videos/240924_...   \n",
       "2  /mnt/upramdya_data/MD/F1_Tracks/Videos/240924_...   \n",
       "3  /mnt/upramdya_data/MD/F1_Tracks/Videos/240924_...   \n",
       "4  /mnt/upramdya_data/MD/F1_Tracks/Videos/240924_...   \n",
       "\n",
       "                          experiment Nickname  ... Orientation Pretraining  \\\n",
       "0  240924_F1_3mm_ends_Videos_Checked       PR  ...         std           y   \n",
       "1  240924_F1_3mm_ends_Videos_Checked       PR  ...         std           y   \n",
       "2  240924_F1_3mm_ends_Videos_Checked       PR  ...         std           y   \n",
       "3  240924_F1_3mm_ends_Videos_Checked       PR  ...         std           y   \n",
       "4  240924_F1_3mm_ends_Videos_Checked       PR  ...         std           y   \n",
       "\n",
       "  Unlocked   F1_condition FeedingState Light Crossing Balltype EndChamber  \n",
       "0       nn     pretrained         None   NaN      NaN      NaN        NaN  \n",
       "1       nn     pretrained         None   NaN      NaN      NaN        NaN  \n",
       "2       nn     pretrained         None   NaN      NaN      NaN        NaN  \n",
       "3       nn     pretrained         None   NaN      NaN      NaN        NaN  \n",
       "4       nn     pretrained         None   NaN      NaN      NaN        NaN  \n",
       "\n",
       "[5 rows x 27 columns]"
      ]
     },
     "execution_count": 4,
     "metadata": {},
     "output_type": "execute_result"
    }
   ],
   "source": [
    "Data_F1_coordinates.head()"
   ]
  },
  {
   "cell_type": "code",
   "execution_count": 5,
   "metadata": {},
   "outputs": [],
   "source": [
    "# Keep only data where adjusted time is >= 0\n",
    "\n",
    "Data_F1_coordinates = Data_F1_coordinates[Data_F1_coordinates[\"adjusted_time\"] >= 0]\n",
    "\n",
    "Data_F1_coordinates = Data_F1_coordinates[Data_F1_coordinates[\"adjusted_time\"] <= 2700]"
   ]
  },
  {
   "cell_type": "markdown",
   "metadata": {},
   "source": [
    "Permutation Test"
   ]
  },
  {
   "cell_type": "code",
   "execution_count": 6,
   "metadata": {},
   "outputs": [
    {
     "data": {
      "text/plain": [
       "array(['pretrained', 'control', 'pretrained_unlocked'], dtype=object)"
      ]
     },
     "execution_count": 6,
     "metadata": {},
     "output_type": "execute_result"
    }
   ],
   "source": [
    "Data_F1_coordinates['F1_condition'].unique()"
   ]
  },
  {
   "cell_type": "code",
   "execution_count": null,
   "metadata": {},
   "outputs": [],
   "source": [
    "Subset = Data_F1_coordinates[Data_F1_coordinates[\"F1_condition\"]!= \"pretrained_unlocked\"]"
   ]
  },
  {
   "cell_type": "code",
   "execution_count": null,
   "metadata": {},
   "outputs": [],
   "source": [
    "bins = 10\n",
    "\n",
    "Subset_binned = Processing.preprocess_data(Subset, time_col = \"adjusted_time\", value_col=\"test_ball\", group_col=\"F1_condition\", bins = bins) "
   ]
  },
  {
   "cell_type": "code",
   "execution_count": null,
   "metadata": {},
   "outputs": [],
   "source": [
    "permutation_test = Processing.compute_permutation_test(Subset_binned, metric = \"avg_test_ball\",group_col=\"F1_condition\", control_group=\"control\")\n",
    "\n",
    "permutation_test"
   ]
  },
  {
   "cell_type": "code",
   "execution_count": 7,
   "metadata": {},
   "outputs": [
    {
     "data": {
      "application/vnd.microsoft.datawrangler.viewer.v0+json": {
       "columns": [
        {
         "name": "index",
         "rawType": "int64",
         "type": "integer"
        },
        {
         "name": "index",
         "rawType": "int64",
         "type": "integer"
        },
        {
         "name": "time",
         "rawType": "float64",
         "type": "float"
        },
        {
         "name": "frame",
         "rawType": "int64",
         "type": "integer"
        },
        {
         "name": "adjusted_time",
         "rawType": "float64",
         "type": "float"
        },
        {
         "name": "training_ball",
         "rawType": "float64",
         "type": "float"
        },
        {
         "name": "test_ball",
         "rawType": "float64",
         "type": "float"
        },
        {
         "name": "fly",
         "rawType": "object",
         "type": "string"
        },
        {
         "name": "flypath",
         "rawType": "object",
         "type": "string"
        },
        {
         "name": "experiment",
         "rawType": "object",
         "type": "string"
        },
        {
         "name": "Nickname",
         "rawType": "object",
         "type": "string"
        },
        {
         "name": "Brain region",
         "rawType": "object",
         "type": "string"
        },
        {
         "name": "Simplified Nickname",
         "rawType": "object",
         "type": "string"
        },
        {
         "name": "Split",
         "rawType": "object",
         "type": "string"
        },
        {
         "name": "Date",
         "rawType": "object",
         "type": "string"
        },
        {
         "name": "Genotype",
         "rawType": "category",
         "type": "unknown"
        },
        {
         "name": "Period",
         "rawType": "object",
         "type": "string"
        },
        {
         "name": "Peak",
         "rawType": "object",
         "type": "string"
        },
        {
         "name": "Orientation",
         "rawType": "object",
         "type": "string"
        },
        {
         "name": "Pretraining",
         "rawType": "object",
         "type": "string"
        },
        {
         "name": "Unlocked",
         "rawType": "object",
         "type": "string"
        },
        {
         "name": "",
         "rawType": "category",
         "type": "unknown"
        },
        {
         "name": "F1_condition",
         "rawType": "object",
         "type": "string"
        },
        {
         "name": "FeedingState",
         "rawType": "object",
         "type": "unknown"
        },
        {
         "name": "Light",
         "rawType": "category",
         "type": "unknown"
        },
        {
         "name": "Crossing",
         "rawType": "category",
         "type": "unknown"
        },
        {
         "name": "Balltype",
         "rawType": "category",
         "type": "unknown"
        },
        {
         "name": "EndChamber",
         "rawType": "category",
         "type": "unknown"
        }
       ],
       "conversionMethod": "pd.DataFrame",
       "ref": "4c84e326-fa6f-4f59-85ea-75a0eae07472",
       "rows": [
        [
         "200950",
         "200950",
         "6929.3448275862065",
         "200951",
         "0.0",
         "157.42523988271864",
         "1.373145324165391",
         "240924_F1_3mm_ends_Videos_Checked_arena2_Right",
         "/mnt/upramdya_data/MD/F1_Tracks/Videos/240924_F1_3mm_ends_Videos_Checked/arena2/Right",
         "240924_F1_3mm_ends_Videos_Checked",
         "PR",
         "Control",
         "PR",
         "m",
         "240924",
         "PR",
         "AM10",
         "morning",
         "std",
         "y",
         "nn",
         "",
         "pretrained",
         null,
         null,
         null,
         null,
         null
        ],
        [
         "200951",
         "200951",
         "6929.379310344828",
         "200952",
         "0.03448275862137962",
         "157.48266030908746",
         "1.3733904245046296",
         "240924_F1_3mm_ends_Videos_Checked_arena2_Right",
         "/mnt/upramdya_data/MD/F1_Tracks/Videos/240924_F1_3mm_ends_Videos_Checked/arena2/Right",
         "240924_F1_3mm_ends_Videos_Checked",
         "PR",
         "Control",
         "PR",
         "m",
         "240924",
         "PR",
         "AM10",
         "morning",
         "std",
         "y",
         "nn",
         "",
         "pretrained",
         null,
         null,
         null,
         null,
         null
        ],
        [
         "200952",
         "200952",
         "6929.413793103448",
         "200953",
         "0.06896551724184974",
         "157.54010121651356",
         "1.3736582527030607",
         "240924_F1_3mm_ends_Videos_Checked_arena2_Right",
         "/mnt/upramdya_data/MD/F1_Tracks/Videos/240924_F1_3mm_ends_Videos_Checked/arena2/Right",
         "240924_F1_3mm_ends_Videos_Checked",
         "PR",
         "Control",
         "PR",
         "m",
         "240924",
         "PR",
         "AM10",
         "morning",
         "std",
         "y",
         "nn",
         "",
         "pretrained",
         null,
         null,
         null,
         null,
         null
        ],
        [
         "200953",
         "200953",
         "6929.448275862069",
         "200954",
         "0.10344827586231986",
         "157.59764005452874",
         "1.3740320277103393",
         "240924_F1_3mm_ends_Videos_Checked_arena2_Right",
         "/mnt/upramdya_data/MD/F1_Tracks/Videos/240924_F1_3mm_ends_Videos_Checked/arena2/Right",
         "240924_F1_3mm_ends_Videos_Checked",
         "PR",
         "Control",
         "PR",
         "m",
         "240924",
         "PR",
         "AM10",
         "morning",
         "std",
         "y",
         "nn",
         "",
         "pretrained",
         null,
         null,
         null,
         null,
         null
        ],
        [
         "200954",
         "200954",
         "6929.482758620689",
         "200955",
         "0.13793103448278998",
         "157.65505348068498",
         "1.3743018755237515",
         "240924_F1_3mm_ends_Videos_Checked_arena2_Right",
         "/mnt/upramdya_data/MD/F1_Tracks/Videos/240924_F1_3mm_ends_Videos_Checked/arena2/Right",
         "240924_F1_3mm_ends_Videos_Checked",
         "PR",
         "Control",
         "PR",
         "m",
         "240924",
         "PR",
         "AM10",
         "morning",
         "std",
         "y",
         "nn",
         "",
         "pretrained",
         null,
         null,
         null,
         null,
         null
        ]
       ],
       "shape": {
        "columns": 27,
        "rows": 5
       }
      },
      "text/html": [
       "<div>\n",
       "<style scoped>\n",
       "    .dataframe tbody tr th:only-of-type {\n",
       "        vertical-align: middle;\n",
       "    }\n",
       "\n",
       "    .dataframe tbody tr th {\n",
       "        vertical-align: top;\n",
       "    }\n",
       "\n",
       "    .dataframe thead th {\n",
       "        text-align: right;\n",
       "    }\n",
       "</style>\n",
       "<table border=\"1\" class=\"dataframe\">\n",
       "  <thead>\n",
       "    <tr style=\"text-align: right;\">\n",
       "      <th></th>\n",
       "      <th>index</th>\n",
       "      <th>time</th>\n",
       "      <th>frame</th>\n",
       "      <th>adjusted_time</th>\n",
       "      <th>training_ball</th>\n",
       "      <th>test_ball</th>\n",
       "      <th>fly</th>\n",
       "      <th>flypath</th>\n",
       "      <th>experiment</th>\n",
       "      <th>Nickname</th>\n",
       "      <th>...</th>\n",
       "      <th>Orientation</th>\n",
       "      <th>Pretraining</th>\n",
       "      <th>Unlocked</th>\n",
       "      <th></th>\n",
       "      <th>F1_condition</th>\n",
       "      <th>FeedingState</th>\n",
       "      <th>Light</th>\n",
       "      <th>Crossing</th>\n",
       "      <th>Balltype</th>\n",
       "      <th>EndChamber</th>\n",
       "    </tr>\n",
       "  </thead>\n",
       "  <tbody>\n",
       "    <tr>\n",
       "      <th>200950</th>\n",
       "      <td>200950</td>\n",
       "      <td>6929.344828</td>\n",
       "      <td>200951</td>\n",
       "      <td>0.000000</td>\n",
       "      <td>157.425240</td>\n",
       "      <td>1.373145</td>\n",
       "      <td>240924_F1_3mm_ends_Videos_Checked_arena2_Right</td>\n",
       "      <td>/mnt/upramdya_data/MD/F1_Tracks/Videos/240924_...</td>\n",
       "      <td>240924_F1_3mm_ends_Videos_Checked</td>\n",
       "      <td>PR</td>\n",
       "      <td>...</td>\n",
       "      <td>std</td>\n",
       "      <td>y</td>\n",
       "      <td>nn</td>\n",
       "      <td></td>\n",
       "      <td>pretrained</td>\n",
       "      <td>None</td>\n",
       "      <td>NaN</td>\n",
       "      <td>NaN</td>\n",
       "      <td>NaN</td>\n",
       "      <td>NaN</td>\n",
       "    </tr>\n",
       "    <tr>\n",
       "      <th>200951</th>\n",
       "      <td>200951</td>\n",
       "      <td>6929.379310</td>\n",
       "      <td>200952</td>\n",
       "      <td>0.034483</td>\n",
       "      <td>157.482660</td>\n",
       "      <td>1.373390</td>\n",
       "      <td>240924_F1_3mm_ends_Videos_Checked_arena2_Right</td>\n",
       "      <td>/mnt/upramdya_data/MD/F1_Tracks/Videos/240924_...</td>\n",
       "      <td>240924_F1_3mm_ends_Videos_Checked</td>\n",
       "      <td>PR</td>\n",
       "      <td>...</td>\n",
       "      <td>std</td>\n",
       "      <td>y</td>\n",
       "      <td>nn</td>\n",
       "      <td></td>\n",
       "      <td>pretrained</td>\n",
       "      <td>None</td>\n",
       "      <td>NaN</td>\n",
       "      <td>NaN</td>\n",
       "      <td>NaN</td>\n",
       "      <td>NaN</td>\n",
       "    </tr>\n",
       "    <tr>\n",
       "      <th>200952</th>\n",
       "      <td>200952</td>\n",
       "      <td>6929.413793</td>\n",
       "      <td>200953</td>\n",
       "      <td>0.068966</td>\n",
       "      <td>157.540101</td>\n",
       "      <td>1.373658</td>\n",
       "      <td>240924_F1_3mm_ends_Videos_Checked_arena2_Right</td>\n",
       "      <td>/mnt/upramdya_data/MD/F1_Tracks/Videos/240924_...</td>\n",
       "      <td>240924_F1_3mm_ends_Videos_Checked</td>\n",
       "      <td>PR</td>\n",
       "      <td>...</td>\n",
       "      <td>std</td>\n",
       "      <td>y</td>\n",
       "      <td>nn</td>\n",
       "      <td></td>\n",
       "      <td>pretrained</td>\n",
       "      <td>None</td>\n",
       "      <td>NaN</td>\n",
       "      <td>NaN</td>\n",
       "      <td>NaN</td>\n",
       "      <td>NaN</td>\n",
       "    </tr>\n",
       "    <tr>\n",
       "      <th>200953</th>\n",
       "      <td>200953</td>\n",
       "      <td>6929.448276</td>\n",
       "      <td>200954</td>\n",
       "      <td>0.103448</td>\n",
       "      <td>157.597640</td>\n",
       "      <td>1.374032</td>\n",
       "      <td>240924_F1_3mm_ends_Videos_Checked_arena2_Right</td>\n",
       "      <td>/mnt/upramdya_data/MD/F1_Tracks/Videos/240924_...</td>\n",
       "      <td>240924_F1_3mm_ends_Videos_Checked</td>\n",
       "      <td>PR</td>\n",
       "      <td>...</td>\n",
       "      <td>std</td>\n",
       "      <td>y</td>\n",
       "      <td>nn</td>\n",
       "      <td></td>\n",
       "      <td>pretrained</td>\n",
       "      <td>None</td>\n",
       "      <td>NaN</td>\n",
       "      <td>NaN</td>\n",
       "      <td>NaN</td>\n",
       "      <td>NaN</td>\n",
       "    </tr>\n",
       "    <tr>\n",
       "      <th>200954</th>\n",
       "      <td>200954</td>\n",
       "      <td>6929.482759</td>\n",
       "      <td>200955</td>\n",
       "      <td>0.137931</td>\n",
       "      <td>157.655053</td>\n",
       "      <td>1.374302</td>\n",
       "      <td>240924_F1_3mm_ends_Videos_Checked_arena2_Right</td>\n",
       "      <td>/mnt/upramdya_data/MD/F1_Tracks/Videos/240924_...</td>\n",
       "      <td>240924_F1_3mm_ends_Videos_Checked</td>\n",
       "      <td>PR</td>\n",
       "      <td>...</td>\n",
       "      <td>std</td>\n",
       "      <td>y</td>\n",
       "      <td>nn</td>\n",
       "      <td></td>\n",
       "      <td>pretrained</td>\n",
       "      <td>None</td>\n",
       "      <td>NaN</td>\n",
       "      <td>NaN</td>\n",
       "      <td>NaN</td>\n",
       "      <td>NaN</td>\n",
       "    </tr>\n",
       "  </tbody>\n",
       "</table>\n",
       "<p>5 rows × 27 columns</p>\n",
       "</div>"
      ],
      "text/plain": [
       "         index         time   frame  adjusted_time  training_ball  test_ball  \\\n",
       "200950  200950  6929.344828  200951       0.000000     157.425240   1.373145   \n",
       "200951  200951  6929.379310  200952       0.034483     157.482660   1.373390   \n",
       "200952  200952  6929.413793  200953       0.068966     157.540101   1.373658   \n",
       "200953  200953  6929.448276  200954       0.103448     157.597640   1.374032   \n",
       "200954  200954  6929.482759  200955       0.137931     157.655053   1.374302   \n",
       "\n",
       "                                                   fly  \\\n",
       "200950  240924_F1_3mm_ends_Videos_Checked_arena2_Right   \n",
       "200951  240924_F1_3mm_ends_Videos_Checked_arena2_Right   \n",
       "200952  240924_F1_3mm_ends_Videos_Checked_arena2_Right   \n",
       "200953  240924_F1_3mm_ends_Videos_Checked_arena2_Right   \n",
       "200954  240924_F1_3mm_ends_Videos_Checked_arena2_Right   \n",
       "\n",
       "                                                  flypath  \\\n",
       "200950  /mnt/upramdya_data/MD/F1_Tracks/Videos/240924_...   \n",
       "200951  /mnt/upramdya_data/MD/F1_Tracks/Videos/240924_...   \n",
       "200952  /mnt/upramdya_data/MD/F1_Tracks/Videos/240924_...   \n",
       "200953  /mnt/upramdya_data/MD/F1_Tracks/Videos/240924_...   \n",
       "200954  /mnt/upramdya_data/MD/F1_Tracks/Videos/240924_...   \n",
       "\n",
       "                               experiment Nickname  ... Orientation  \\\n",
       "200950  240924_F1_3mm_ends_Videos_Checked       PR  ...         std   \n",
       "200951  240924_F1_3mm_ends_Videos_Checked       PR  ...         std   \n",
       "200952  240924_F1_3mm_ends_Videos_Checked       PR  ...         std   \n",
       "200953  240924_F1_3mm_ends_Videos_Checked       PR  ...         std   \n",
       "200954  240924_F1_3mm_ends_Videos_Checked       PR  ...         std   \n",
       "\n",
       "       Pretraining Unlocked   F1_condition FeedingState Light Crossing  \\\n",
       "200950           y       nn     pretrained         None   NaN      NaN   \n",
       "200951           y       nn     pretrained         None   NaN      NaN   \n",
       "200952           y       nn     pretrained         None   NaN      NaN   \n",
       "200953           y       nn     pretrained         None   NaN      NaN   \n",
       "200954           y       nn     pretrained         None   NaN      NaN   \n",
       "\n",
       "       Balltype EndChamber  \n",
       "200950      NaN        NaN  \n",
       "200951      NaN        NaN  \n",
       "200952      NaN        NaN  \n",
       "200953      NaN        NaN  \n",
       "200954      NaN        NaN  \n",
       "\n",
       "[5 rows x 27 columns]"
      ]
     },
     "execution_count": 7,
     "metadata": {},
     "output_type": "execute_result"
    }
   ],
   "source": [
    "Data_F1_coordinates.head()"
   ]
  },
  {
   "cell_type": "code",
   "execution_count": 8,
   "metadata": {},
   "outputs": [],
   "source": [
    "# Smooth high frequency noise in the data\n",
    "\n",
    "Data_F1_coordinates[\"test_ball_smooth\"] = Data_F1_coordinates[\"test_ball\"].rolling(window=10, min_periods=1).mean()"
   ]
  },
  {
   "cell_type": "code",
   "execution_count": null,
   "metadata": {},
   "outputs": [],
   "source": [
    "# Save the dataset to a csv file\n",
    "\n",
    "Data_F1_coordinates.to_csv(\"/mnt/upramdya_data/MD/F1_Tracks/Datasets/241128_F1_Dataset.csv\")"
   ]
  },
  {
   "cell_type": "code",
   "execution_count": 9,
   "metadata": {},
   "outputs": [
    {
     "name": "stderr",
     "output_type": "stream",
     "text": [
      "/tmp/ipykernel_387065/721950674.py:2: DtypeWarning: Columns (24,25) have mixed types. Specify dtype option on import or set low_memory=False.\n",
      "  Data_F1_coordinates_csv = pd.read_csv(\"/mnt/upramdya_data/MD/F1_Tracks/Datasets/241128_F1_Dataset.csv\")\n"
     ]
    }
   ],
   "source": [
    "# Load the dataset from a csv file\n",
    "Data_F1_coordinates_csv = pd.read_csv(\"/mnt/upramdya_data/MD/F1_Tracks/Datasets/241128_F1_Dataset.csv\")"
   ]
  },
  {
   "cell_type": "code",
   "execution_count": null,
   "metadata": {},
   "outputs": [],
   "source": [
    "Data_Avg = Data_F1_coordinates.groupby([\"F1_condition\", \"time\"]).mean(\"test_ball\").reset_index()\n",
    "\n",
    "# Data_Avg[\"test_ball_smooth\"] = Processing.savgol_lowpass_filter(\n",
    "#     Data_Avg[\"test_ball\"], window_length=221, polyorder=1\n",
    "# )\n",
    "\n",
    "Data_Avg\n"
   ]
  },
  {
   "cell_type": "code",
   "execution_count": 10,
   "metadata": {},
   "outputs": [
    {
     "name": "stderr",
     "output_type": "stream",
     "text": [
      "/tmp/ipykernel_387065/4110805593.py:2: DeprecationWarning: DataFrameGroupBy.apply operated on the grouping columns. This behavior is deprecated, and in a future version of pandas the grouping columns will be excluded from the operation. Either pass `include_groups=False` to exclude the groupings or explicitly select the grouping columns after groupby to silence this warning.\n",
      "  zero_adjusted_time = Data_F1_coordinates.groupby('fly').apply(lambda df: df.loc[df['adjusted_time'].abs().idxmin(), 'time']).reset_index()\n"
     ]
    }
   ],
   "source": [
    "# Identify the time at which adjusted time is 0 for each fly\n",
    "zero_adjusted_time = Data_F1_coordinates.groupby('fly').apply(lambda df: df.loc[df['adjusted_time'].abs().idxmin(), 'time']).reset_index()\n",
    "zero_adjusted_time.columns = ['fly', 'zero_time']\n",
    "\n",
    "# Merge the zero_adjusted_time with the original DataFrame\n",
    "Data_F1_coordinates = Data_F1_coordinates.merge(zero_adjusted_time, on='fly')\n",
    "\n",
    "# Shift the time values\n",
    "Data_F1_coordinates['shifted_time'] = Data_F1_coordinates['time'] - Data_F1_coordinates['zero_time']"
   ]
  },
  {
   "cell_type": "code",
   "execution_count": 11,
   "metadata": {},
   "outputs": [],
   "source": [
    "# make a rounded adjusted time column where the time is rounded to the nearest 10 seconds\n",
    "\n",
    "#Data_F1_coordinates[\"rounded_adjusted_time\"] = Data_F1_coordinates[\"adjusted_time\"].round(-1)\n",
    "\n",
    "# Round adjusted time values to the nearest 10 seconds\n",
    "Data_F1_coordinates['rounded_adjusted_time'] = (Data_F1_coordinates['adjusted_time'] / 10).round() * 10"
   ]
  },
  {
   "cell_type": "code",
   "execution_count": null,
   "metadata": {},
   "outputs": [],
   "source": [
    "plot_savepath = \"\""
   ]
  },
  {
   "cell_type": "code",
   "execution_count": 12,
   "metadata": {},
   "outputs": [
    {
     "data": {
      "image/png": "[encoded data removed]",
      "text/plain": [
       "<Figure size 640x480 with 1 Axes>"
      ]
     },
     "metadata": {},
     "output_type": "display_data"
    }
   ],
   "source": [
    "Lineplot = sns.lineplot(data=Data_F1_coordinates, x=\"rounded_adjusted_time\", y=\"test_ball\", hue=\"F1_condition\")\n",
    "\n",
    "plt.savefig(f\"241128_F1_Lineplot.png\")\n",
    "\n",
    "plt.show()"
   ]
  },
  {
   "cell_type": "code",
   "execution_count": null,
   "metadata": {},
   "outputs": [],
   "source": []
  },
  {
   "cell_type": "code",
   "execution_count": null,
   "metadata": {},
   "outputs": [],
   "source": [
    "# Plot the average test ball distance grouped by condition over adjusted time with adjusted time starting at 0\n",
    "\n",
    "sns.lineplot(data=Data_Avg, x=\"adjusted_time\", y=\"test_ball_smooth\", hue=\"F1_condition\", ci=\"sd\")\n",
    "\n",
    "# Add the 95% confidence interval\n",
    "\n",
    "#plt.fill_between(Data_Avg[\"adjusted_time\"], Data_Avg[\"smoothed_test_ball_upper\"], Data_Avg[\"smoothed_test_ball_lower\"], alpha=0.3)\n",
    "\n",
    "#plt.show()"
   ]
  },
  {
   "cell_type": "code",
   "execution_count": null,
   "metadata": {},
   "outputs": [],
   "source": [
    "# Plot 1: Ball coordinates grouped by Pretraining\n",
    "\n",
    "Lines_pretraining = sns.lineplot(data=Data_F1_coordinates, x=\"rounded_adjusted_time\", y=\"test_ball\", hue=\"Pretraining\")\n",
    "plt.title(\"Ball Coordinates by Pretraining\")\n",
    "plt.xlabel(\"adjusted time (s)\")\n",
    "plt.ylabel(\"ball position\")\n",
    "plt.legend(title=\"Pretraining\")\n",
    "plt.savefig(f\"Ball_Coordinates_by_Pretraining.png\", bbox_inches=\"tight\")\n",
    "plt.show()\n"
   ]
  },
  {
   "cell_type": "code",
   "execution_count": null,
   "metadata": {},
   "outputs": [],
   "source": [
    "\n",
    "# Subset the data to keep only rows where pretraining == \"y\"\n",
    "Data_pretrained = Data_F1_coordinates[Data_F1_coordinates[\"Pretraining\"] == \"y\"]\n",
    "\n",
    "# Plot 2: Ball coordinates for pretraining == \"y\", grouped by F1_condition\n",
    "Lines_unlocking = sns.lineplot(data=Data_pretrained, x=\"rounded_adjusted_time\", y=\"test_ball\", hue=\"F1_condition\",)\n",
    "plt.title(\"Ball Coordinates by F1_condition (Pretraining = 'y')\")\n",
    "plt.xlabel(\"adjusted time (s)\")\n",
    "plt.ylabel(\"ball position\")\n",
    "plt.legend(title=\"F1_condition\")\n",
    "plt.savefig(f\"Ball_Coordinates_by_F1_condition_Pretraining_Y.png\", bbox_inches=\"tight\")\n",
    "plt.show()"
   ]
  },
  {
   "cell_type": "markdown",
   "metadata": {},
   "source": [
    "# Exploring the metrics"
   ]
  },
  {
   "cell_type": "code",
   "execution_count": null,
   "metadata": {},
   "outputs": [],
   "source": [
    "importlib.reload(Ballpushing_utils)"
   ]
  },
  {
   "cell_type": "code",
   "execution_count": null,
   "metadata": {},
   "outputs": [],
   "source": [
    "Data_F1_metrics = Ballpushing_utils.Dataset(Experiments, dataset_type=\"summary\" )\n",
    "\n",
    "str(Data_F1_metrics)"
   ]
  },
  {
   "cell_type": "code",
   "execution_count": null,
   "metadata": {},
   "outputs": [],
   "source": [
    "Data_metrics  = Data_F1_metrics.data"
   ]
  },
  {
   "cell_type": "code",
   "execution_count": null,
   "metadata": {},
   "outputs": [],
   "source": [
    "Data_metrics.head()"
   ]
  },
  {
   "cell_type": "code",
   "execution_count": null,
   "metadata": {},
   "outputs": [],
   "source": [
    "# Save the dataset to a csv file\n",
    "\n",
    "Data_metrics.to_csv(\"/mnt/upramdya_data/MD/F1_Tracks/Datasets/241128_F1_Summary.csv\")"
   ]
  },
  {
   "cell_type": "code",
   "execution_count": 2,
   "metadata": {},
   "outputs": [],
   "source": [
    "# Load the dataset from the csv file\n",
    "\n",
    "Data_metrics = pd.read_csv(\"/mnt/upramdya_data/MD/F1_Tracks/Datasets/241115_F1_Summary.csv\")"
   ]
  },
  {
   "cell_type": "code",
   "execution_count": 3,
   "metadata": {},
   "outputs": [
    {
     "data": {
      "text/html": [
       "<div>\n",
       "<style scoped>\n",
       "    .dataframe tbody tr th:only-of-type {\n",
       "        vertical-align: middle;\n",
       "    }\n",
       "\n",
       "    .dataframe tbody tr th {\n",
       "        vertical-align: top;\n",
       "    }\n",
       "\n",
       "    .dataframe thead th {\n",
       "        text-align: right;\n",
       "    }\n",
       "</style>\n",
       "<table border=\"1\" class=\"dataframe\">\n",
       "  <thead>\n",
       "    <tr style=\"text-align: right;\">\n",
       "      <th></th>\n",
       "      <th>Unnamed: 0</th>\n",
       "      <th>index</th>\n",
       "      <th>nb_events</th>\n",
       "      <th>max_event</th>\n",
       "      <th>max_event_time</th>\n",
       "      <th>max_distance</th>\n",
       "      <th>final_event</th>\n",
       "      <th>final_event_time</th>\n",
       "      <th>nb_significant_events</th>\n",
       "      <th>significant_ratio</th>\n",
       "      <th>...</th>\n",
       "      <th>Pretraining</th>\n",
       "      <th>Unlocked</th>\n",
       "      <th>Unnamed: 36</th>\n",
       "      <th>F1_condition</th>\n",
       "      <th>ball_condition</th>\n",
       "      <th>FeedingState</th>\n",
       "      <th>Light</th>\n",
       "      <th>Crossing</th>\n",
       "      <th>Balltype</th>\n",
       "      <th>EndChamber</th>\n",
       "    </tr>\n",
       "  </thead>\n",
       "  <tbody>\n",
       "    <tr>\n",
       "      <th>0</th>\n",
       "      <td>0</td>\n",
       "      <td>fly_0_ball_0</td>\n",
       "      <td>3.174903</td>\n",
       "      <td>18.0</td>\n",
       "      <td>7969.586207</td>\n",
       "      <td>189.631525</td>\n",
       "      <td>17.0</td>\n",
       "      <td>7799.965517</td>\n",
       "      <td>0.288628</td>\n",
       "      <td>0.090909</td>\n",
       "      <td>...</td>\n",
       "      <td>y</td>\n",
       "      <td>nn</td>\n",
       "      <td>NaN</td>\n",
       "      <td>pretrained</td>\n",
       "      <td>training</td>\n",
       "      <td>NaN</td>\n",
       "      <td>NaN</td>\n",
       "      <td>NaN</td>\n",
       "      <td>NaN</td>\n",
       "      <td>NaN</td>\n",
       "    </tr>\n",
       "    <tr>\n",
       "      <th>1</th>\n",
       "      <td>1</td>\n",
       "      <td>fly_0_ball_1</td>\n",
       "      <td>9.174923</td>\n",
       "      <td>8.0</td>\n",
       "      <td>922.551724</td>\n",
       "      <td>22.370083</td>\n",
       "      <td>NaN</td>\n",
       "      <td>NaN</td>\n",
       "      <td>0.482891</td>\n",
       "      <td>0.052632</td>\n",
       "      <td>...</td>\n",
       "      <td>y</td>\n",
       "      <td>nn</td>\n",
       "      <td>NaN</td>\n",
       "      <td>pretrained</td>\n",
       "      <td>test</td>\n",
       "      <td>NaN</td>\n",
       "      <td>NaN</td>\n",
       "      <td>NaN</td>\n",
       "      <td>NaN</td>\n",
       "      <td>NaN</td>\n",
       "    </tr>\n",
       "    <tr>\n",
       "      <th>2</th>\n",
       "      <td>2</td>\n",
       "      <td>fly_0_ball_0</td>\n",
       "      <td>5.777645</td>\n",
       "      <td>49.0</td>\n",
       "      <td>8558.931034</td>\n",
       "      <td>73.194067</td>\n",
       "      <td>NaN</td>\n",
       "      <td>NaN</td>\n",
       "      <td>0.222217</td>\n",
       "      <td>0.038462</td>\n",
       "      <td>...</td>\n",
       "      <td>y</td>\n",
       "      <td>nn</td>\n",
       "      <td>NaN</td>\n",
       "      <td>pretrained</td>\n",
       "      <td>training</td>\n",
       "      <td>NaN</td>\n",
       "      <td>NaN</td>\n",
       "      <td>NaN</td>\n",
       "      <td>NaN</td>\n",
       "      <td>NaN</td>\n",
       "    </tr>\n",
       "    <tr>\n",
       "      <th>3</th>\n",
       "      <td>3</td>\n",
       "      <td>fly_0_ball_1</td>\n",
       "      <td>0.000000</td>\n",
       "      <td>NaN</td>\n",
       "      <td>NaN</td>\n",
       "      <td>1.872002</td>\n",
       "      <td>NaN</td>\n",
       "      <td>NaN</td>\n",
       "      <td>0.000000</td>\n",
       "      <td>NaN</td>\n",
       "      <td>...</td>\n",
       "      <td>y</td>\n",
       "      <td>nn</td>\n",
       "      <td>NaN</td>\n",
       "      <td>pretrained</td>\n",
       "      <td>test</td>\n",
       "      <td>NaN</td>\n",
       "      <td>NaN</td>\n",
       "      <td>NaN</td>\n",
       "      <td>NaN</td>\n",
       "      <td>NaN</td>\n",
       "    </tr>\n",
       "    <tr>\n",
       "      <th>4</th>\n",
       "      <td>4</td>\n",
       "      <td>fly_0_ball_0</td>\n",
       "      <td>11.666398</td>\n",
       "      <td>34.0</td>\n",
       "      <td>2427.862069</td>\n",
       "      <td>44.008828</td>\n",
       "      <td>NaN</td>\n",
       "      <td>NaN</td>\n",
       "      <td>0.111109</td>\n",
       "      <td>0.009524</td>\n",
       "      <td>...</td>\n",
       "      <td>y</td>\n",
       "      <td>nn</td>\n",
       "      <td>NaN</td>\n",
       "      <td>pretrained</td>\n",
       "      <td>training</td>\n",
       "      <td>NaN</td>\n",
       "      <td>NaN</td>\n",
       "      <td>NaN</td>\n",
       "      <td>NaN</td>\n",
       "      <td>NaN</td>\n",
       "    </tr>\n",
       "    <tr>\n",
       "      <th>...</th>\n",
       "      <td>...</td>\n",
       "      <td>...</td>\n",
       "      <td>...</td>\n",
       "      <td>...</td>\n",
       "      <td>...</td>\n",
       "      <td>...</td>\n",
       "      <td>...</td>\n",
       "      <td>...</td>\n",
       "      <td>...</td>\n",
       "      <td>...</td>\n",
       "      <td>...</td>\n",
       "      <td>...</td>\n",
       "      <td>...</td>\n",
       "      <td>...</td>\n",
       "      <td>...</td>\n",
       "      <td>...</td>\n",
       "      <td>...</td>\n",
       "      <td>...</td>\n",
       "      <td>...</td>\n",
       "      <td>...</td>\n",
       "      <td>...</td>\n",
       "    </tr>\n",
       "    <tr>\n",
       "      <th>443</th>\n",
       "      <td>443</td>\n",
       "      <td>fly_0_ball_0</td>\n",
       "      <td>12.221930</td>\n",
       "      <td>75.0</td>\n",
       "      <td>5200.379310</td>\n",
       "      <td>50.729923</td>\n",
       "      <td>NaN</td>\n",
       "      <td>NaN</td>\n",
       "      <td>0.000000</td>\n",
       "      <td>0.000000</td>\n",
       "      <td>...</td>\n",
       "      <td>y</td>\n",
       "      <td>nn</td>\n",
       "      <td>NaN</td>\n",
       "      <td>pretrained</td>\n",
       "      <td>training</td>\n",
       "      <td>starved</td>\n",
       "      <td>on</td>\n",
       "      <td>NaN</td>\n",
       "      <td>NaN</td>\n",
       "      <td>3mm</td>\n",
       "    </tr>\n",
       "    <tr>\n",
       "      <th>444</th>\n",
       "      <td>444</td>\n",
       "      <td>fly_0_ball_1</td>\n",
       "      <td>0.000000</td>\n",
       "      <td>NaN</td>\n",
       "      <td>NaN</td>\n",
       "      <td>1.037281</td>\n",
       "      <td>NaN</td>\n",
       "      <td>NaN</td>\n",
       "      <td>0.000000</td>\n",
       "      <td>NaN</td>\n",
       "      <td>...</td>\n",
       "      <td>y</td>\n",
       "      <td>nn</td>\n",
       "      <td>NaN</td>\n",
       "      <td>pretrained</td>\n",
       "      <td>test</td>\n",
       "      <td>starved</td>\n",
       "      <td>on</td>\n",
       "      <td>NaN</td>\n",
       "      <td>NaN</td>\n",
       "      <td>3mm</td>\n",
       "    </tr>\n",
       "    <tr>\n",
       "      <th>445</th>\n",
       "      <td>445</td>\n",
       "      <td>fly_0_ball_0</td>\n",
       "      <td>7.233048</td>\n",
       "      <td>40.0</td>\n",
       "      <td>4789.000000</td>\n",
       "      <td>57.139092</td>\n",
       "      <td>NaN</td>\n",
       "      <td>NaN</td>\n",
       "      <td>0.301377</td>\n",
       "      <td>0.041667</td>\n",
       "      <td>...</td>\n",
       "      <td>n</td>\n",
       "      <td>nn</td>\n",
       "      <td>NaN</td>\n",
       "      <td>control</td>\n",
       "      <td>test</td>\n",
       "      <td>starved_noWater</td>\n",
       "      <td>on</td>\n",
       "      <td>NaN</td>\n",
       "      <td>NaN</td>\n",
       "      <td>3mm</td>\n",
       "    </tr>\n",
       "    <tr>\n",
       "      <th>446</th>\n",
       "      <td>446</td>\n",
       "      <td>fly_0_ball_1</td>\n",
       "      <td>0.000000</td>\n",
       "      <td>NaN</td>\n",
       "      <td>NaN</td>\n",
       "      <td>NaN</td>\n",
       "      <td>NaN</td>\n",
       "      <td>NaN</td>\n",
       "      <td>0.000000</td>\n",
       "      <td>NaN</td>\n",
       "      <td>...</td>\n",
       "      <td>n</td>\n",
       "      <td>nn</td>\n",
       "      <td>NaN</td>\n",
       "      <td>control</td>\n",
       "      <td>NaN</td>\n",
       "      <td>starved_noWater</td>\n",
       "      <td>on</td>\n",
       "      <td>NaN</td>\n",
       "      <td>NaN</td>\n",
       "      <td>3mm</td>\n",
       "    </tr>\n",
       "    <tr>\n",
       "      <th>447</th>\n",
       "      <td>447</td>\n",
       "      <td>fly_0_ball_0</td>\n",
       "      <td>17.963137</td>\n",
       "      <td>104.0</td>\n",
       "      <td>5855.344828</td>\n",
       "      <td>261.956579</td>\n",
       "      <td>82.0</td>\n",
       "      <td>5176.241379</td>\n",
       "      <td>0.468604</td>\n",
       "      <td>0.026087</td>\n",
       "      <td>...</td>\n",
       "      <td>n</td>\n",
       "      <td>nn</td>\n",
       "      <td>NaN</td>\n",
       "      <td>control</td>\n",
       "      <td>test</td>\n",
       "      <td>starved_noWater</td>\n",
       "      <td>on</td>\n",
       "      <td>NaN</td>\n",
       "      <td>NaN</td>\n",
       "      <td>3mm</td>\n",
       "    </tr>\n",
       "  </tbody>\n",
       "</table>\n",
       "<p>448 rows × 44 columns</p>\n",
       "</div>"
      ],
      "text/plain": [
       "     Unnamed: 0         index  nb_events  max_event  max_event_time  \\\n",
       "0             0  fly_0_ball_0   3.174903       18.0     7969.586207   \n",
       "1             1  fly_0_ball_1   9.174923        8.0      922.551724   \n",
       "2             2  fly_0_ball_0   5.777645       49.0     8558.931034   \n",
       "3             3  fly_0_ball_1   0.000000        NaN             NaN   \n",
       "4             4  fly_0_ball_0  11.666398       34.0     2427.862069   \n",
       "..          ...           ...        ...        ...             ...   \n",
       "443         443  fly_0_ball_0  12.221930       75.0     5200.379310   \n",
       "444         444  fly_0_ball_1   0.000000        NaN             NaN   \n",
       "445         445  fly_0_ball_0   7.233048       40.0     4789.000000   \n",
       "446         446  fly_0_ball_1   0.000000        NaN             NaN   \n",
       "447         447  fly_0_ball_0  17.963137      104.0     5855.344828   \n",
       "\n",
       "     max_distance  final_event  final_event_time  nb_significant_events  \\\n",
       "0      189.631525         17.0       7799.965517               0.288628   \n",
       "1       22.370083          NaN               NaN               0.482891   \n",
       "2       73.194067          NaN               NaN               0.222217   \n",
       "3        1.872002          NaN               NaN               0.000000   \n",
       "4       44.008828          NaN               NaN               0.111109   \n",
       "..            ...          ...               ...                    ...   \n",
       "443     50.729923          NaN               NaN               0.000000   \n",
       "444      1.037281          NaN               NaN               0.000000   \n",
       "445     57.139092          NaN               NaN               0.301377   \n",
       "446           NaN          NaN               NaN               0.000000   \n",
       "447    261.956579         82.0       5176.241379               0.468604   \n",
       "\n",
       "     significant_ratio  ...  Pretraining  Unlocked  Unnamed: 36  F1_condition  \\\n",
       "0             0.090909  ...            y        nn          NaN    pretrained   \n",
       "1             0.052632  ...            y        nn          NaN    pretrained   \n",
       "2             0.038462  ...            y        nn          NaN    pretrained   \n",
       "3                  NaN  ...            y        nn          NaN    pretrained   \n",
       "4             0.009524  ...            y        nn          NaN    pretrained   \n",
       "..                 ...  ...          ...       ...          ...           ...   \n",
       "443           0.000000  ...            y        nn          NaN    pretrained   \n",
       "444                NaN  ...            y        nn          NaN    pretrained   \n",
       "445           0.041667  ...            n        nn          NaN       control   \n",
       "446                NaN  ...            n        nn          NaN       control   \n",
       "447           0.026087  ...            n        nn          NaN       control   \n",
       "\n",
       "     ball_condition     FeedingState  Light  Crossing  Balltype EndChamber  \n",
       "0          training              NaN    NaN       NaN       NaN        NaN  \n",
       "1              test              NaN    NaN       NaN       NaN        NaN  \n",
       "2          training              NaN    NaN       NaN       NaN        NaN  \n",
       "3              test              NaN    NaN       NaN       NaN        NaN  \n",
       "4          training              NaN    NaN       NaN       NaN        NaN  \n",
       "..              ...              ...    ...       ...       ...        ...  \n",
       "443        training          starved     on       NaN       NaN        3mm  \n",
       "444            test          starved     on       NaN       NaN        3mm  \n",
       "445            test  starved_noWater     on       NaN       NaN        3mm  \n",
       "446             NaN  starved_noWater     on       NaN       NaN        3mm  \n",
       "447            test  starved_noWater     on       NaN       NaN        3mm  \n",
       "\n",
       "[448 rows x 44 columns]"
      ]
     },
     "execution_count": 3,
     "metadata": {},
     "output_type": "execute_result"
    }
   ],
   "source": [
    "Data_metrics"
   ]
  },
  {
   "cell_type": "code",
   "execution_count": null,
   "metadata": {},
   "outputs": [],
   "source": [
    "Data_metrics.columns"
   ]
  },
  {
   "cell_type": "code",
   "execution_count": 4,
   "metadata": {},
   "outputs": [],
   "source": [
    "# Plot the pulling ratio for training as x and for test as y, colored by F1 condition\n",
    "\n",
    "# Data_Training = Data_metrics[(Data_metrics[\"F1_condition\"] != \"control\") & (Data_metrics[\"ball_condition\"] == \"training\")]\n",
    "# Data_Test = Data_metrics[(Data_metrics[\"F1_condition\"] != \"control\") & (Data_metrics[\"ball_condition\"] == \"test\")]\n",
    "\n",
    "Data_Training = Data_metrics[(Data_metrics[\"ball_condition\"] == \"training\")]\n",
    "Data_Test = Data_metrics[(Data_metrics[\"ball_condition\"] == \"test\")]\n"
   ]
  },
  {
   "cell_type": "code",
   "execution_count": null,
   "metadata": {},
   "outputs": [],
   "source": [
    "Data_Test.columns"
   ]
  },
  {
   "cell_type": "code",
   "execution_count": 19,
   "metadata": {},
   "outputs": [
    {
     "name": "stderr",
     "output_type": "stream",
     "text": [
      "The PostScript backend does not support transparency; partially transparent artists will be rendered opaque.\n",
      "/tmp/ipykernel_546316/1085567553.py:83: FutureWarning: The default of observed=False is deprecated and will be changed to True in a future version of pandas. Pass observed=False to retain current behavior or observed=True to adopt the future default and silence this warning.\n",
      "  sample_sizes = Data_Test.groupby('F1_condition')[metric].count()\n"
     ]
    },
    {
     "name": "stdout",
     "output_type": "stream",
     "text": [
      "Sample sizes for nb_events:\n",
      "control: 84\n",
      "pretrained_unlocked: 67\n",
      "pretrained: 98\n"
     ]
    },
    {
     "name": "stderr",
     "output_type": "stream",
     "text": [
      "The PostScript backend does not support transparency; partially transparent artists will be rendered opaque.\n",
      "/tmp/ipykernel_546316/1085567553.py:83: FutureWarning: The default of observed=False is deprecated and will be changed to True in a future version of pandas. Pass observed=False to retain current behavior or observed=True to adopt the future default and silence this warning.\n",
      "  sample_sizes = Data_Test.groupby('F1_condition')[metric].count()\n"
     ]
    },
    {
     "name": "stdout",
     "output_type": "stream",
     "text": [
      "Sample sizes for max_event:\n",
      "control: 76\n",
      "pretrained_unlocked: 64\n",
      "pretrained: 45\n"
     ]
    },
    {
     "name": "stderr",
     "output_type": "stream",
     "text": [
      "The PostScript backend does not support transparency; partially transparent artists will be rendered opaque.\n",
      "/tmp/ipykernel_546316/1085567553.py:83: FutureWarning: The default of observed=False is deprecated and will be changed to True in a future version of pandas. Pass observed=False to retain current behavior or observed=True to adopt the future default and silence this warning.\n",
      "  sample_sizes = Data_Test.groupby('F1_condition')[metric].count()\n"
     ]
    },
    {
     "name": "stdout",
     "output_type": "stream",
     "text": [
      "Sample sizes for max_event_time:\n",
      "control: 76\n",
      "pretrained_unlocked: 64\n",
      "pretrained: 45\n"
     ]
    },
    {
     "name": "stderr",
     "output_type": "stream",
     "text": [
      "The PostScript backend does not support transparency; partially transparent artists will be rendered opaque.\n",
      "/tmp/ipykernel_546316/1085567553.py:83: FutureWarning: The default of observed=False is deprecated and will be changed to True in a future version of pandas. Pass observed=False to retain current behavior or observed=True to adopt the future default and silence this warning.\n",
      "  sample_sizes = Data_Test.groupby('F1_condition')[metric].count()\n"
     ]
    },
    {
     "name": "stdout",
     "output_type": "stream",
     "text": [
      "Sample sizes for max_distance:\n",
      "control: 84\n",
      "pretrained_unlocked: 67\n",
      "pretrained: 98\n"
     ]
    },
    {
     "name": "stderr",
     "output_type": "stream",
     "text": [
      "The PostScript backend does not support transparency; partially transparent artists will be rendered opaque.\n",
      "/tmp/ipykernel_546316/1085567553.py:83: FutureWarning: The default of observed=False is deprecated and will be changed to True in a future version of pandas. Pass observed=False to retain current behavior or observed=True to adopt the future default and silence this warning.\n",
      "  sample_sizes = Data_Test.groupby('F1_condition')[metric].count()\n",
      "The PostScript backend does not support transparency; partially transparent artists will be rendered opaque.\n"
     ]
    },
    {
     "name": "stdout",
     "output_type": "stream",
     "text": [
      "Sample sizes for final_event:\n",
      "control: 15\n",
      "pretrained_unlocked: 10\n",
      "pretrained: 12\n"
     ]
    },
    {
     "name": "stderr",
     "output_type": "stream",
     "text": [
      "/tmp/ipykernel_546316/1085567553.py:83: FutureWarning: The default of observed=False is deprecated and will be changed to True in a future version of pandas. Pass observed=False to retain current behavior or observed=True to adopt the future default and silence this warning.\n",
      "  sample_sizes = Data_Test.groupby('F1_condition')[metric].count()\n"
     ]
    },
    {
     "name": "stdout",
     "output_type": "stream",
     "text": [
      "Sample sizes for final_event_time:\n",
      "control: 15\n",
      "pretrained_unlocked: 10\n",
      "pretrained: 12\n"
     ]
    },
    {
     "name": "stderr",
     "output_type": "stream",
     "text": [
      "The PostScript backend does not support transparency; partially transparent artists will be rendered opaque.\n",
      "/tmp/ipykernel_546316/1085567553.py:83: FutureWarning: The default of observed=False is deprecated and will be changed to True in a future version of pandas. Pass observed=False to retain current behavior or observed=True to adopt the future default and silence this warning.\n",
      "  sample_sizes = Data_Test.groupby('F1_condition')[metric].count()\n",
      "The PostScript backend does not support transparency; partially transparent artists will be rendered opaque.\n"
     ]
    },
    {
     "name": "stdout",
     "output_type": "stream",
     "text": [
      "Sample sizes for nb_significant_events:\n",
      "control: 84\n",
      "pretrained_unlocked: 67\n",
      "pretrained: 98\n"
     ]
    },
    {
     "name": "stderr",
     "output_type": "stream",
     "text": [
      "/tmp/ipykernel_546316/1085567553.py:83: FutureWarning: The default of observed=False is deprecated and will be changed to True in a future version of pandas. Pass observed=False to retain current behavior or observed=True to adopt the future default and silence this warning.\n",
      "  sample_sizes = Data_Test.groupby('F1_condition')[metric].count()\n",
      "The PostScript backend does not support transparency; partially transparent artists will be rendered opaque.\n"
     ]
    },
    {
     "name": "stdout",
     "output_type": "stream",
     "text": [
      "Sample sizes for significant_ratio:\n",
      "control: 80\n",
      "pretrained_unlocked: 66\n",
      "pretrained: 46\n"
     ]
    },
    {
     "name": "stderr",
     "output_type": "stream",
     "text": [
      "/tmp/ipykernel_546316/1085567553.py:83: FutureWarning: The default of observed=False is deprecated and will be changed to True in a future version of pandas. Pass observed=False to retain current behavior or observed=True to adopt the future default and silence this warning.\n",
      "  sample_sizes = Data_Test.groupby('F1_condition')[metric].count()\n",
      "The PostScript backend does not support transparency; partially transparent artists will be rendered opaque.\n"
     ]
    },
    {
     "name": "stdout",
     "output_type": "stream",
     "text": [
      "Sample sizes for first_significant_event:\n",
      "control: 74\n",
      "pretrained_unlocked: 55\n",
      "pretrained: 37\n"
     ]
    },
    {
     "name": "stderr",
     "output_type": "stream",
     "text": [
      "/tmp/ipykernel_546316/1085567553.py:83: FutureWarning: The default of observed=False is deprecated and will be changed to True in a future version of pandas. Pass observed=False to retain current behavior or observed=True to adopt the future default and silence this warning.\n",
      "  sample_sizes = Data_Test.groupby('F1_condition')[metric].count()\n",
      "The PostScript backend does not support transparency; partially transparent artists will be rendered opaque.\n"
     ]
    },
    {
     "name": "stdout",
     "output_type": "stream",
     "text": [
      "Sample sizes for first_significant_event_time:\n",
      "control: 74\n",
      "pretrained_unlocked: 55\n",
      "pretrained: 37\n",
      "Error plotting aha_moment: Could not interpret value `aha_moment` for `y`. An entry with this name does not appear in `data`.\n"
     ]
    },
    {
     "name": "stderr",
     "output_type": "stream",
     "text": [
      "/tmp/ipykernel_546316/1085567553.py:83: FutureWarning: The default of observed=False is deprecated and will be changed to True in a future version of pandas. Pass observed=False to retain current behavior or observed=True to adopt the future default and silence this warning.\n",
      "  sample_sizes = Data_Test.groupby('F1_condition')[metric].count()\n",
      "The PostScript backend does not support transparency; partially transparent artists will be rendered opaque.\n"
     ]
    },
    {
     "name": "stdout",
     "output_type": "stream",
     "text": [
      "Sample sizes for major_event:\n",
      "control: 40\n",
      "pretrained_unlocked: 27\n",
      "pretrained: 20\n",
      "Error plotting aha_moment_time: Could not interpret value `aha_moment_time` for `y`. An entry with this name does not appear in `data`.\n"
     ]
    },
    {
     "name": "stderr",
     "output_type": "stream",
     "text": [
      "/tmp/ipykernel_546316/1085567553.py:83: FutureWarning: The default of observed=False is deprecated and will be changed to True in a future version of pandas. Pass observed=False to retain current behavior or observed=True to adopt the future default and silence this warning.\n",
      "  sample_sizes = Data_Test.groupby('F1_condition')[metric].count()\n",
      "The PostScript backend does not support transparency; partially transparent artists will be rendered opaque.\n"
     ]
    },
    {
     "name": "stdout",
     "output_type": "stream",
     "text": [
      "Sample sizes for major_event_time:\n",
      "control: 40\n",
      "pretrained_unlocked: 27\n",
      "pretrained: 20\n"
     ]
    },
    {
     "name": "stderr",
     "output_type": "stream",
     "text": [
      "/tmp/ipykernel_546316/1085567553.py:83: FutureWarning: The default of observed=False is deprecated and will be changed to True in a future version of pandas. Pass observed=False to retain current behavior or observed=True to adopt the future default and silence this warning.\n",
      "  sample_sizes = Data_Test.groupby('F1_condition')[metric].count()\n",
      "The PostScript backend does not support transparency; partially transparent artists will be rendered opaque.\n"
     ]
    },
    {
     "name": "stdout",
     "output_type": "stream",
     "text": [
      "Sample sizes for insight_effect:\n",
      "control: 74\n",
      "pretrained_unlocked: 55\n",
      "pretrained: 37\n"
     ]
    },
    {
     "name": "stderr",
     "output_type": "stream",
     "text": [
      "/tmp/ipykernel_546316/1085567553.py:83: FutureWarning: The default of observed=False is deprecated and will be changed to True in a future version of pandas. Pass observed=False to retain current behavior or observed=True to adopt the future default and silence this warning.\n",
      "  sample_sizes = Data_Test.groupby('F1_condition')[metric].count()\n"
     ]
    },
    {
     "name": "stdout",
     "output_type": "stream",
     "text": [
      "Sample sizes for cumulated_breaks_duration:\n",
      "control: 84\n",
      "pretrained_unlocked: 67\n",
      "pretrained: 98\n"
     ]
    },
    {
     "name": "stderr",
     "output_type": "stream",
     "text": [
      "The PostScript backend does not support transparency; partially transparent artists will be rendered opaque.\n",
      "/tmp/ipykernel_546316/1085567553.py:83: FutureWarning: The default of observed=False is deprecated and will be changed to True in a future version of pandas. Pass observed=False to retain current behavior or observed=True to adopt the future default and silence this warning.\n",
      "  sample_sizes = Data_Test.groupby('F1_condition')[metric].count()\n",
      "The PostScript backend does not support transparency; partially transparent artists will be rendered opaque.\n"
     ]
    },
    {
     "name": "stdout",
     "output_type": "stream",
     "text": [
      "Sample sizes for pushed:\n",
      "control: 84\n",
      "pretrained_unlocked: 67\n",
      "pretrained: 98\n"
     ]
    },
    {
     "name": "stderr",
     "output_type": "stream",
     "text": [
      "/tmp/ipykernel_546316/1085567553.py:83: FutureWarning: The default of observed=False is deprecated and will be changed to True in a future version of pandas. Pass observed=False to retain current behavior or observed=True to adopt the future default and silence this warning.\n",
      "  sample_sizes = Data_Test.groupby('F1_condition')[metric].count()\n",
      "The PostScript backend does not support transparency; partially transparent artists will be rendered opaque.\n"
     ]
    },
    {
     "name": "stdout",
     "output_type": "stream",
     "text": [
      "Sample sizes for pulled:\n",
      "control: 84\n",
      "pretrained_unlocked: 67\n",
      "pretrained: 98\n"
     ]
    },
    {
     "name": "stderr",
     "output_type": "stream",
     "text": [
      "/tmp/ipykernel_546316/1085567553.py:83: FutureWarning: The default of observed=False is deprecated and will be changed to True in a future version of pandas. Pass observed=False to retain current behavior or observed=True to adopt the future default and silence this warning.\n",
      "  sample_sizes = Data_Test.groupby('F1_condition')[metric].count()\n",
      "The PostScript backend does not support transparency; partially transparent artists will be rendered opaque.\n"
     ]
    },
    {
     "name": "stdout",
     "output_type": "stream",
     "text": [
      "Sample sizes for pulling_ratio:\n",
      "control: 74\n",
      "pretrained_unlocked: 55\n",
      "pretrained: 37\n"
     ]
    },
    {
     "name": "stderr",
     "output_type": "stream",
     "text": [
      "/tmp/ipykernel_546316/1085567553.py:83: FutureWarning: The default of observed=False is deprecated and will be changed to True in a future version of pandas. Pass observed=False to retain current behavior or observed=True to adopt the future default and silence this warning.\n",
      "  sample_sizes = Data_Test.groupby('F1_condition')[metric].count()\n",
      "The PostScript backend does not support transparency; partially transparent artists will be rendered opaque.\n"
     ]
    },
    {
     "name": "stdout",
     "output_type": "stream",
     "text": [
      "Sample sizes for success_direction:\n",
      "control: 70\n",
      "pretrained_unlocked: 52\n",
      "pretrained: 36\n"
     ]
    },
    {
     "name": "stderr",
     "output_type": "stream",
     "text": [
      "/tmp/ipykernel_546316/1085567553.py:83: FutureWarning: The default of observed=False is deprecated and will be changed to True in a future version of pandas. Pass observed=False to retain current behavior or observed=True to adopt the future default and silence this warning.\n",
      "  sample_sizes = Data_Test.groupby('F1_condition')[metric].count()\n",
      "The PostScript backend does not support transparency; partially transparent artists will be rendered opaque.\n"
     ]
    },
    {
     "name": "stdout",
     "output_type": "stream",
     "text": [
      "Sample sizes for interaction_proportion:\n",
      "control: 84\n",
      "pretrained_unlocked: 67\n",
      "pretrained: 98\n",
      "Sample sizes for distance_moved:\n",
      "control: 84\n",
      "pretrained_unlocked: 67\n",
      "pretrained: 98\n"
     ]
    },
    {
     "name": "stderr",
     "output_type": "stream",
     "text": [
      "/tmp/ipykernel_546316/1085567553.py:83: FutureWarning: The default of observed=False is deprecated and will be changed to True in a future version of pandas. Pass observed=False to retain current behavior or observed=True to adopt the future default and silence this warning.\n",
      "  sample_sizes = Data_Test.groupby('F1_condition')[metric].count()\n"
     ]
    },
    {
     "data": {
      "text/plain": [
       "<Figure size 1000x600 with 0 Axes>"
      ]
     },
     "metadata": {},
     "output_type": "display_data"
    },
    {
     "data": {
      "text/plain": [
       "<Figure size 1000x600 with 0 Axes>"
      ]
     },
     "metadata": {},
     "output_type": "display_data"
    }
   ],
   "source": [
    "# Define the metrics to plot\n",
    "metrics = [\n",
    "    'nb_events', 'max_event', 'max_event_time', 'max_distance', 'final_event', \n",
    "    'final_event_time', 'nb_significant_events', 'significant_ratio', \n",
    "    'first_significant_event', 'first_significant_event_time', 'aha_moment', \n",
    "    'major_event',\n",
    "    'aha_moment_time', \n",
    "    'major_event_time','insight_effect', 'cumulated_breaks_duration', \n",
    "    'pushed', 'pulled', 'pulling_ratio', 'success_direction', \n",
    "    'interaction_proportion', 'distance_moved'\n",
    "]\n",
    "\n",
    "# rename \"aha_moment\" to \"major_event\" in the Data_Test DataFrame\n",
    "\n",
    "Data_Test = Data_Test.rename(columns={\"aha_moment\": \"major_event\"})\n",
    "Data_Test = Data_Test.rename(columns={\"aha_moment_time\": \"major_event_time\"})\n",
    "\n",
    "# Set the desired order and update the DataFrame\n",
    "category_order = [\"control\",  \"pretrained_unlocked\",\n",
    "\"pretrained\",]\n",
    "Data_Test[\"F1_condition\"] = pd.Categorical(Data_Test[\"F1_condition\"], categories=category_order, ordered=True)\n",
    "\n",
    "# Define custom colors\n",
    "strip_palette = {\n",
    "    \"control\": \"orange\",\n",
    "    \"pretrained\": \"blue\",\n",
    "    \"pretrained_unlocked\": \"green\"\n",
    "}\n",
    "\n",
    "# Define a custom color palette for F1_condition\n",
    "custom_palette = {\n",
    "    \"pretrained\": \"blue\",\n",
    "    \"control\": \"red\",\n",
    "    \"pretrained_unlocked\": \"green\"\n",
    "}\n",
    "\n",
    "# Loop through each metric and create the plots\n",
    "for metric in metrics:\n",
    "    try:\n",
    "        plt.figure(figsize=(10, 6))\n",
    "\n",
    "        # Boxplot: black outline, no fill\n",
    "        sns.boxplot(\n",
    "            data=Data_Test,\n",
    "            x='F1_condition',\n",
    "            y=metric,\n",
    "            hue='F1_condition',\n",
    "            order=category_order,\n",
    "            hue_order=category_order,\n",
    "            fliersize=0,\n",
    "            boxprops=dict(facecolor='none', edgecolor='black'),\n",
    "            linewidth=2\n",
    "        )\n",
    "\n",
    "        # Overlay the stripplot with custom colors\n",
    "        for i, cond in enumerate(category_order):\n",
    "            sns.stripplot(\n",
    "                data=Data_Test[Data_Test[\"F1_condition\"] == cond],\n",
    "                x='F1_condition',\n",
    "                y=metric,\n",
    "                color=strip_palette[cond],\n",
    "                order=category_order,\n",
    "                jitter=True,\n",
    "                size=5,\n",
    "                alpha=0.7,\n",
    "                dodge=False\n",
    "            )\n",
    "\n",
    "        # Adjust the legend to avoid duplication\n",
    "        # handles, labels = plt.gca().get_legend_handles_labels()\n",
    "        # plt.legend(handles[:len(handles)//2], labels[:len(labels)//2], title=\"F1_condition\")\n",
    "        \n",
    "        # Remove the legend\n",
    "        plt.legend([], [], frameon=False)\n",
    "        plt.xlabel(\"training condition\")\n",
    "\n",
    "        plt.title(f'{metric.replace(\"_\", \" \").capitalize()}')\n",
    "        plt.savefig(f\"F1_plots/{metric}_Test_Ball.eps\", bbox_inches=\"tight\")\n",
    "        plt.savefig(f\"F1_plots/{metric}_Test_Ball.png\", bbox_inches=\"tight\")\n",
    "        plt.close()\n",
    "        \n",
    "        # Get sample size for each condition for the metric\n",
    "        sample_sizes = Data_Test.groupby('F1_condition')[metric].count()\n",
    "        print(f\"Sample sizes for {metric}:\")\n",
    "        for cond in category_order:\n",
    "            print(f\"{cond}: {sample_sizes.get(cond, 0)}\")\n",
    "        \n",
    "    except Exception as e:\n",
    "        print(f\"Error plotting {metric}: {e}\")\n",
    "        continue"
   ]
  },
  {
   "cell_type": "code",
   "execution_count": 13,
   "metadata": {},
   "outputs": [
    {
     "name": "stderr",
     "output_type": "stream",
     "text": [
      "/tmp/ipykernel_546316/1452435682.py:4: FutureWarning: The default of observed=False is deprecated and will be changed to True in a future version of pandas. Pass observed=False to retain current behavior or observed=True to adopt the future default and silence this warning.\n",
      "  Data_Test.groupby(\"F1_condition\")[\"final_event\"].nunique()\n"
     ]
    },
    {
     "data": {
      "text/plain": [
       "F1_condition\n",
       "control                14\n",
       "pretrained_unlocked     9\n",
       "pretrained             11\n",
       "Name: final_event, dtype: int64"
      ]
     },
     "execution_count": 13,
     "metadata": {},
     "output_type": "execute_result"
    }
   ],
   "source": [
    "# Find out how many unique values I have for final_event that are not \"Nan\", grouped by F1_condition\n",
    "\n",
    "Data_Test[\"final_event\"].nunique()\n",
    "Data_Test.groupby(\"F1_condition\")[\"final_event\"].nunique()"
   ]
  },
  {
   "cell_type": "code",
   "execution_count": 18,
   "metadata": {},
   "outputs": [
    {
     "name": "stderr",
     "output_type": "stream",
     "text": [
      "/tmp/ipykernel_546316/3039207874.py:4: FutureWarning: The default of observed=False is deprecated and will be changed to True in a future version of pandas. Pass observed=False to retain current behavior or observed=True to adopt the future default and silence this warning.\n",
      "  Data_Test.groupby(\"F1_condition\")[\"major_event\"].nunique()\n"
     ]
    },
    {
     "data": {
      "text/plain": [
       "F1_condition\n",
       "control                30\n",
       "pretrained_unlocked    21\n",
       "pretrained             15\n",
       "Name: major_event, dtype: int64"
      ]
     },
     "execution_count": 18,
     "metadata": {},
     "output_type": "execute_result"
    }
   ],
   "source": [
    "# Find out how many unique values I have for final_event that are not \"Nan\", grouped by F1_condition\n",
    "\n",
    "#Data_Test[\"major_event_time\"].nunique()\n",
    "Data_Test.groupby(\"F1_condition\")[\"major_event\"].nunique()"
   ]
  },
  {
   "cell_type": "code",
   "execution_count": null,
   "metadata": {},
   "outputs": [],
   "source": []
  },
  {
   "cell_type": "code",
   "execution_count": 44,
   "metadata": {},
   "outputs": [
    {
     "name": "stderr",
     "output_type": "stream",
     "text": [
      "/tmp/ipykernel_135662/3262393721.py:88: UserWarning: No artists with labels found to put in legend.  Note that artists whose label start with an underscore are ignored when legend() is called with no argument.\n",
      "  plt.legend(title=\"Pretraining\")\n",
      "/tmp/ipykernel_135662/3262393721.py:88: UserWarning: No artists with labels found to put in legend.  Note that artists whose label start with an underscore are ignored when legend() is called with no argument.\n",
      "  plt.legend(title=\"Pretraining\")\n",
      "/tmp/ipykernel_135662/3262393721.py:88: UserWarning: No artists with labels found to put in legend.  Note that artists whose label start with an underscore are ignored when legend() is called with no argument.\n",
      "  plt.legend(title=\"Pretraining\")\n",
      "/tmp/ipykernel_135662/3262393721.py:88: UserWarning: No artists with labels found to put in legend.  Note that artists whose label start with an underscore are ignored when legend() is called with no argument.\n",
      "  plt.legend(title=\"Pretraining\")\n",
      "/tmp/ipykernel_135662/3262393721.py:88: UserWarning: No artists with labels found to put in legend.  Note that artists whose label start with an underscore are ignored when legend() is called with no argument.\n",
      "  plt.legend(title=\"Pretraining\")\n",
      "/tmp/ipykernel_135662/3262393721.py:88: UserWarning: No artists with labels found to put in legend.  Note that artists whose label start with an underscore are ignored when legend() is called with no argument.\n",
      "  plt.legend(title=\"Pretraining\")\n",
      "/tmp/ipykernel_135662/3262393721.py:88: UserWarning: No artists with labels found to put in legend.  Note that artists whose label start with an underscore are ignored when legend() is called with no argument.\n",
      "  plt.legend(title=\"Pretraining\")\n",
      "/tmp/ipykernel_135662/3262393721.py:88: UserWarning: No artists with labels found to put in legend.  Note that artists whose label start with an underscore are ignored when legend() is called with no argument.\n",
      "  plt.legend(title=\"Pretraining\")\n",
      "/tmp/ipykernel_135662/3262393721.py:88: UserWarning: No artists with labels found to put in legend.  Note that artists whose label start with an underscore are ignored when legend() is called with no argument.\n",
      "  plt.legend(title=\"Pretraining\")\n",
      "/tmp/ipykernel_135662/3262393721.py:88: UserWarning: No artists with labels found to put in legend.  Note that artists whose label start with an underscore are ignored when legend() is called with no argument.\n",
      "  plt.legend(title=\"Pretraining\")\n",
      "/tmp/ipykernel_135662/3262393721.py:88: UserWarning: No artists with labels found to put in legend.  Note that artists whose label start with an underscore are ignored when legend() is called with no argument.\n",
      "  plt.legend(title=\"Pretraining\")\n",
      "/tmp/ipykernel_135662/3262393721.py:88: UserWarning: No artists with labels found to put in legend.  Note that artists whose label start with an underscore are ignored when legend() is called with no argument.\n",
      "  plt.legend(title=\"Pretraining\")\n",
      "/home/durrieu/miniforge3/envs/tracking_analysis/lib/python3.12/site-packages/numpy/lib/_function_base_impl.py:4779: RuntimeWarning: invalid value encountered in subtract\n",
      "  diff_b_a = subtract(b, a)\n",
      "/tmp/ipykernel_135662/3262393721.py:88: UserWarning: No artists with labels found to put in legend.  Note that artists whose label start with an underscore are ignored when legend() is called with no argument.\n",
      "  plt.legend(title=\"Pretraining\")\n",
      "/tmp/ipykernel_135662/3262393721.py:88: UserWarning: No artists with labels found to put in legend.  Note that artists whose label start with an underscore are ignored when legend() is called with no argument.\n",
      "  plt.legend(title=\"Pretraining\")\n",
      "/tmp/ipykernel_135662/3262393721.py:88: UserWarning: No artists with labels found to put in legend.  Note that artists whose label start with an underscore are ignored when legend() is called with no argument.\n",
      "  plt.legend(title=\"Pretraining\")\n",
      "/tmp/ipykernel_135662/3262393721.py:88: UserWarning: No artists with labels found to put in legend.  Note that artists whose label start with an underscore are ignored when legend() is called with no argument.\n",
      "  plt.legend(title=\"Pretraining\")\n",
      "/tmp/ipykernel_135662/3262393721.py:88: UserWarning: No artists with labels found to put in legend.  Note that artists whose label start with an underscore are ignored when legend() is called with no argument.\n",
      "  plt.legend(title=\"Pretraining\")\n"
     ]
    },
    {
     "name": "stdout",
     "output_type": "stream",
     "text": [
      "Error processing metric success_direction: ufunc 'divide' not supported for the input types, and the inputs could not be safely coerced to any supported types according to the casting rule ''safe''\n"
     ]
    },
    {
     "name": "stderr",
     "output_type": "stream",
     "text": [
      "/tmp/ipykernel_135662/3262393721.py:88: UserWarning: No artists with labels found to put in legend.  Note that artists whose label start with an underscore are ignored when legend() is called with no argument.\n",
      "  plt.legend(title=\"Pretraining\")\n",
      "/tmp/ipykernel_135662/3262393721.py:88: UserWarning: No artists with labels found to put in legend.  Note that artists whose label start with an underscore are ignored when legend() is called with no argument.\n",
      "  plt.legend(title=\"Pretraining\")\n"
     ]
    },
    {
     "data": {
      "text/plain": [
       "<Figure size 1000x600 with 0 Axes>"
      ]
     },
     "metadata": {},
     "output_type": "display_data"
    }
   ],
   "source": [
    "# Define the metrics to process\n",
    "metrics = [\n",
    "    'nb_events', 'max_event', 'max_event_time', 'max_distance', 'final_event', \n",
    "    'final_event_time', 'nb_significant_events', 'significant_ratio', \n",
    "    'first_significant_event', 'first_significant_event_time', 'aha_moment', \n",
    "    'aha_moment_time', 'insight_effect', 'cumulated_breaks_duration', \n",
    "    'pushed', 'pulled', 'pulling_ratio', 'success_direction', \n",
    "    'interaction_proportion', 'distance_moved'\n",
    "]\n",
    "\n",
    "# Define a custom color palette for Pretraining\n",
    "custom_palette = {\n",
    "    \"y\": \"blue\",  # Test\n",
    "    \"n\": \"red\"    # Control\n",
    "}\n",
    "\n",
    "# Loop through each metric and create the plots\n",
    "for metric in metrics:\n",
    "    try:\n",
    "        plt.figure(figsize=(10, 6))\n",
    "        \n",
    "        # Compute bootstrapped confidence intervals for each Pretraining group\n",
    "        intervals = {}\n",
    "        for condition in Data_Test[\"Pretraining\"].unique():\n",
    "            condition_data = Data_Test[Data_Test[\"Pretraining\"] == condition][metric].dropna()\n",
    "            if not condition_data.empty:\n",
    "                intervals[condition] = Processing.draw_bs_ci(\n",
    "                    data=condition_data.values, func=np.mean, n_reps=300\n",
    "                )\n",
    "        \n",
    "        # Compute effect sizes between conditions (e.g., \"y\" vs \"n\")\n",
    "        if \"y\" in intervals and \"n\" in intervals:\n",
    "            effect_size, effect_size_interval = Processing.compute_effect_size(\n",
    "                intervals[\"n\"], intervals[\"y\"]\n",
    "            )\n",
    "        else:\n",
    "            effect_size, effect_size_interval = None, None\n",
    "        \n",
    "        # Create the stripplot\n",
    "        sns.stripplot(\n",
    "            data=Data_Test,\n",
    "            y='Pretraining',\n",
    "            x=metric,\n",
    "            hue='Pretraining',\n",
    "            #palette=custom_palette,\n",
    "            dodge=False,\n",
    "            jitter=True,\n",
    "            alpha=0.6,\n",
    "            size=5\n",
    "        )\n",
    "        \n",
    "        # Add bootstrapped confidence intervals as error bars\n",
    "        for i, condition in enumerate(Data_Test[\"Pretraining\"].unique()):\n",
    "            if condition in intervals:\n",
    "                ci = intervals[condition]\n",
    "                mean_value = Data_Test[Data_Test[\"Pretraining\"] == condition][metric].mean()\n",
    "                plt.errorbar(\n",
    "                    y=i, x=mean_value, \n",
    "                    xerr=[[mean_value - ci[0]], [ci[1] - mean_value]], \n",
    "                    fmt='o', color='black', capsize=5\n",
    "                )\n",
    "        \n",
    "        # Add effect size as text on the plot\n",
    "        if effect_size is not None:\n",
    "            plt.text(\n",
    "                0.8, 0.5, \n",
    "                f\"Effect Size: {effect_size:.2f}\\n95% CI: [{effect_size_interval[0]:.2f}, {effect_size_interval[1]:.2f}]\",\n",
    "                transform=plt.gca().transAxes,\n",
    "                fontsize=10,\n",
    "                verticalalignment=\"center\",\n",
    "                horizontalalignment=\"center\"\n",
    "            )\n",
    "        \n",
    "        # Highlight significant effect sizes\n",
    "        if effect_size_interval and (effect_size_interval[0] > 0 and effect_size_interval[1] > 0 or\n",
    "                                    effect_size_interval[0] < 0 and effect_size_interval[1] < 0):\n",
    "            plt.text(\n",
    "                0.8, 0.6, \"*\", \n",
    "                transform=plt.gca().transAxes, \n",
    "                fontsize=20, color=\"red\", \n",
    "                horizontalalignment=\"center\", verticalalignment=\"center\"\n",
    "            )\n",
    "        \n",
    "        # Finalize plot\n",
    "        plt.title(f\"{metric.replace('_', ' ').capitalize()}: Test Ball\")\n",
    "        plt.ylabel(\"Pretraining\")\n",
    "        plt.xlabel(metric.replace('_', ' ').capitalize())\n",
    "        plt.legend(title=\"Pretraining\")\n",
    "        \n",
    "        # Save the plot\n",
    "        plt.savefig(f\"F1_plots/{metric}_Test_Ball_CI_Pooled_prtr.png\", bbox_inches='tight')\n",
    "        #plt.show()\n",
    "        plt.close()\n",
    "        \n",
    "    except Exception as e:\n",
    "        print(f\"Error processing metric {metric}: {e}\")\n",
    "        continue\n",
    "    "
   ]
  },
  {
   "cell_type": "code",
   "execution_count": 45,
   "metadata": {},
   "outputs": [
    {
     "name": "stderr",
     "output_type": "stream",
     "text": [
      "/tmp/ipykernel_135662/1674875369.py:90: UserWarning: No artists with labels found to put in legend.  Note that artists whose label start with an underscore are ignored when legend() is called with no argument.\n",
      "  plt.legend(title=\"F1_condition\")\n",
      "/tmp/ipykernel_135662/1674875369.py:90: UserWarning: No artists with labels found to put in legend.  Note that artists whose label start with an underscore are ignored when legend() is called with no argument.\n",
      "  plt.legend(title=\"F1_condition\")\n",
      "/tmp/ipykernel_135662/1674875369.py:90: UserWarning: No artists with labels found to put in legend.  Note that artists whose label start with an underscore are ignored when legend() is called with no argument.\n",
      "  plt.legend(title=\"F1_condition\")\n",
      "/tmp/ipykernel_135662/1674875369.py:90: UserWarning: No artists with labels found to put in legend.  Note that artists whose label start with an underscore are ignored when legend() is called with no argument.\n",
      "  plt.legend(title=\"F1_condition\")\n",
      "/tmp/ipykernel_135662/1674875369.py:90: UserWarning: No artists with labels found to put in legend.  Note that artists whose label start with an underscore are ignored when legend() is called with no argument.\n",
      "  plt.legend(title=\"F1_condition\")\n",
      "/tmp/ipykernel_135662/1674875369.py:90: UserWarning: No artists with labels found to put in legend.  Note that artists whose label start with an underscore are ignored when legend() is called with no argument.\n",
      "  plt.legend(title=\"F1_condition\")\n",
      "/tmp/ipykernel_135662/1674875369.py:90: UserWarning: No artists with labels found to put in legend.  Note that artists whose label start with an underscore are ignored when legend() is called with no argument.\n",
      "  plt.legend(title=\"F1_condition\")\n",
      "/tmp/ipykernel_135662/1674875369.py:90: UserWarning: No artists with labels found to put in legend.  Note that artists whose label start with an underscore are ignored when legend() is called with no argument.\n",
      "  plt.legend(title=\"F1_condition\")\n",
      "/tmp/ipykernel_135662/1674875369.py:90: UserWarning: No artists with labels found to put in legend.  Note that artists whose label start with an underscore are ignored when legend() is called with no argument.\n",
      "  plt.legend(title=\"F1_condition\")\n",
      "/tmp/ipykernel_135662/1674875369.py:90: UserWarning: No artists with labels found to put in legend.  Note that artists whose label start with an underscore are ignored when legend() is called with no argument.\n",
      "  plt.legend(title=\"F1_condition\")\n",
      "/tmp/ipykernel_135662/1674875369.py:90: UserWarning: No artists with labels found to put in legend.  Note that artists whose label start with an underscore are ignored when legend() is called with no argument.\n",
      "  plt.legend(title=\"F1_condition\")\n",
      "/tmp/ipykernel_135662/1674875369.py:90: UserWarning: No artists with labels found to put in legend.  Note that artists whose label start with an underscore are ignored when legend() is called with no argument.\n",
      "  plt.legend(title=\"F1_condition\")\n",
      "/home/durrieu/miniforge3/envs/tracking_analysis/lib/python3.12/site-packages/numpy/lib/_function_base_impl.py:4779: RuntimeWarning: invalid value encountered in subtract\n",
      "  diff_b_a = subtract(b, a)\n",
      "/tmp/ipykernel_135662/1674875369.py:90: UserWarning: No artists with labels found to put in legend.  Note that artists whose label start with an underscore are ignored when legend() is called with no argument.\n",
      "  plt.legend(title=\"F1_condition\")\n",
      "/tmp/ipykernel_135662/1674875369.py:90: UserWarning: No artists with labels found to put in legend.  Note that artists whose label start with an underscore are ignored when legend() is called with no argument.\n",
      "  plt.legend(title=\"F1_condition\")\n",
      "/tmp/ipykernel_135662/1674875369.py:90: UserWarning: No artists with labels found to put in legend.  Note that artists whose label start with an underscore are ignored when legend() is called with no argument.\n",
      "  plt.legend(title=\"F1_condition\")\n",
      "/tmp/ipykernel_135662/1674875369.py:90: UserWarning: No artists with labels found to put in legend.  Note that artists whose label start with an underscore are ignored when legend() is called with no argument.\n",
      "  plt.legend(title=\"F1_condition\")\n",
      "/tmp/ipykernel_135662/1674875369.py:90: UserWarning: No artists with labels found to put in legend.  Note that artists whose label start with an underscore are ignored when legend() is called with no argument.\n",
      "  plt.legend(title=\"F1_condition\")\n"
     ]
    },
    {
     "name": "stdout",
     "output_type": "stream",
     "text": [
      "Error processing metric success_direction: ufunc 'divide' not supported for the input types, and the inputs could not be safely coerced to any supported types according to the casting rule ''safe''\n"
     ]
    },
    {
     "name": "stderr",
     "output_type": "stream",
     "text": [
      "/tmp/ipykernel_135662/1674875369.py:90: UserWarning: No artists with labels found to put in legend.  Note that artists whose label start with an underscore are ignored when legend() is called with no argument.\n",
      "  plt.legend(title=\"F1_condition\")\n",
      "/tmp/ipykernel_135662/1674875369.py:90: UserWarning: No artists with labels found to put in legend.  Note that artists whose label start with an underscore are ignored when legend() is called with no argument.\n",
      "  plt.legend(title=\"F1_condition\")\n"
     ]
    },
    {
     "data": {
      "text/plain": [
       "<Figure size 1000x600 with 0 Axes>"
      ]
     },
     "metadata": {},
     "output_type": "display_data"
    }
   ],
   "source": [
    "# Define the metrics to process\n",
    "metrics = [\n",
    "    'nb_events', 'max_event', 'max_event_time', 'max_distance', 'final_event', \n",
    "    'final_event_time', 'nb_significant_events', 'significant_ratio', \n",
    "    'first_significant_event', 'first_significant_event_time', 'aha_moment', \n",
    "    'aha_moment_time', 'insight_effect', 'cumulated_breaks_duration', \n",
    "    'pushed', 'pulled', 'pulling_ratio', 'success_direction', \n",
    "    'interaction_proportion', 'distance_moved'\n",
    "]\n",
    "\n",
    "# Define a custom color palette for F1_condition\n",
    "custom_palette = {\n",
    "    \"pretrained\": \"blue\",\n",
    "    \"control\": \"red\",\n",
    "    \"pretrained_unlocked\": \"green\"\n",
    "}\n",
    "\n",
    "# Loop through each metric and create the plots\n",
    "for metric in metrics:\n",
    "    \n",
    "    try:\n",
    "        plt.figure(figsize=(10, 6))\n",
    "        \n",
    "        # Compute bootstrapped confidence intervals for each F1_condition\n",
    "        intervals = {}\n",
    "        for condition in Data_Test[\"F1_condition\"].unique():\n",
    "            condition_data = Data_Test[Data_Test[\"F1_condition\"] == condition][metric].dropna()\n",
    "            if not condition_data.empty:\n",
    "                intervals[condition] = Processing.draw_bs_ci(\n",
    "                    data=condition_data.values, func=np.mean, n_reps=300\n",
    "                )\n",
    "        \n",
    "        # Compute effect sizes between conditions (e.g., pretrained vs control)\n",
    "        if \"pretrained\" in intervals and \"control\" in intervals:\n",
    "            effect_size, effect_size_interval = Processing.compute_effect_size(\n",
    "                intervals[\"control\"], intervals[\"pretrained\"]\n",
    "            )\n",
    "        else:\n",
    "            effect_size, effect_size_interval = None, None\n",
    "        \n",
    "        # Create the stripplot\n",
    "        sns.stripplot(\n",
    "            data=Data_Test,\n",
    "            y='F1_condition',\n",
    "            x=metric,\n",
    "            hue='F1_condition',\n",
    "            #palette=custom_palette,\n",
    "            dodge=False,\n",
    "            jitter=True,\n",
    "            alpha=0.6,\n",
    "            size=5\n",
    "        )\n",
    "        \n",
    "        # Add bootstrapped confidence intervals as error bars\n",
    "        for i, condition in enumerate(Data_Test[\"F1_condition\"].unique()):\n",
    "            if condition in intervals:\n",
    "                ci = intervals[condition]\n",
    "                mean_value = Data_Test[Data_Test[\"F1_condition\"] == condition][metric].mean()\n",
    "                plt.errorbar(\n",
    "                    y=i, x=mean_value, \n",
    "                    xerr=[[mean_value - ci[0]], [ci[1] - mean_value]], \n",
    "                    fmt='o', color='black', capsize=5\n",
    "                )\n",
    "        \n",
    "        # Add effect size as text on the plot\n",
    "        if effect_size is not None:\n",
    "            plt.text(\n",
    "                0.8, 0.3, \n",
    "                f\"Effect Size: {effect_size:.2f}\\n95% CI: [{effect_size_interval[0]:.2f}, {effect_size_interval[1]:.2f}]\",\n",
    "                transform=plt.gca().transAxes,\n",
    "                fontsize=10,\n",
    "                verticalalignment=\"center\",\n",
    "                horizontalalignment=\"center\"\n",
    "            )\n",
    "        \n",
    "        # Highlight significant effect sizes\n",
    "        if effect_size_interval[0] > 0 and effect_size_interval[1] > 0 or \\\n",
    "        effect_size_interval[0] < 0 and effect_size_interval[1] < 0:\n",
    "            plt.text(\n",
    "                0.8, 0.5, \"*\", \n",
    "                transform=plt.gca().transAxes, \n",
    "                fontsize=20, color=\"red\", \n",
    "                horizontalalignment=\"center\", verticalalignment=\"center\"\n",
    "            )\n",
    "        \n",
    "        # Finalize plot\n",
    "        plt.title(f\"{metric.replace('_', ' ').capitalize()}: Test Ball\")\n",
    "        plt.ylabel(\"F1_condition\")\n",
    "        plt.xlabel(metric.replace('_', ' ').capitalize())\n",
    "        plt.legend(title=\"F1_condition\")\n",
    "        \n",
    "        # Save the plot\n",
    "        plt.savefig(f\"F1_plots/{metric}_Test_Ball_CI.png\", bbox_inches='tight')\n",
    "        plt.close()\n",
    "    \n",
    "    except Exception as e:\n",
    "        print(f\"Error processing metric {metric}: {e}\")\n",
    "        continue"
   ]
  },
  {
   "cell_type": "code",
   "execution_count": null,
   "metadata": {},
   "outputs": [],
   "source": []
  },
  {
   "cell_type": "code",
   "execution_count": null,
   "metadata": {},
   "outputs": [],
   "source": [
    "\n",
    "merged = Data_Training.merge(Data_Test, on=\"fly\")"
   ]
  },
  {
   "cell_type": "code",
   "execution_count": null,
   "metadata": {},
   "outputs": [],
   "source": [
    "merged"
   ]
  },
  {
   "cell_type": "code",
   "execution_count": null,
   "metadata": {},
   "outputs": [],
   "source": [
    "plot_savepath = \"/mnt/upramdya_data/MD/F1_Tracks/Plots/250203_NewPlots\""
   ]
  },
  {
   "cell_type": "code",
   "execution_count": null,
   "metadata": {},
   "outputs": [],
   "source": [
    "# Seaborn styling\n",
    "\n",
    "sns.set_theme(style=\"whitegrid\")"
   ]
  },
  {
   "cell_type": "code",
   "execution_count": null,
   "metadata": {},
   "outputs": [],
   "source": [
    "plt.figure(figsize=(20, 20))\n",
    "# Create the jointplot\n",
    "g = sns.jointplot(data=merged, x='pulling_ratio_x', y='pulling_ratio_y', hue='F1_condition_x')\n",
    "\n",
    "# Set the title and labels using the JointGrid object\n",
    "g.fig.suptitle('Pulling Ratio: Training vs Test', y=1.03)\n",
    "g.set_axis_labels('Pulling Ratio (Training)', 'Pulling Ratio (Test)')\n",
    "\n",
    "# Save the plot before showing it\n",
    "plt.savefig(f\"{plot_savepath}/Pulling_Ratio_Training_vs_Test.png\", bbox_inches='tight')\n",
    "\n",
    "# Show the plot\n",
    "plt.show()"
   ]
  },
  {
   "cell_type": "code",
   "execution_count": null,
   "metadata": {},
   "outputs": [],
   "source": [
    "# Save the plot\n",
    "plt.savefig(f\"{plot_savepath}/Pulling_Ratio_Training_vs_Test.png\")\n"
   ]
  },
  {
   "cell_type": "code",
   "execution_count": null,
   "metadata": {},
   "outputs": [],
   "source": [
    "Data_Test = Data_metrics[(Data_metrics[\"ball_condition\"] == \"test\")]"
   ]
  },
  {
   "cell_type": "code",
   "execution_count": null,
   "metadata": {},
   "outputs": [],
   "source": [
    "# Save the dataset to a csv file\n",
    "\n",
    "Data_Test.to_csv(\"/mnt/upramdya_data/MD/F1_Tracks/Datasets/241128_F1_Summary_Test.csv\")"
   ]
  },
  {
   "cell_type": "code",
   "execution_count": null,
   "metadata": {},
   "outputs": [],
   "source": [
    "# Let's get rid of the flies that never exit the corridor, so for which exit_time is None\n",
    "\n",
    "Data_metrics = Data_metrics[Data_metrics[\"exit_time\"].notnull()]"
   ]
  },
  {
   "cell_type": "code",
   "execution_count": null,
   "metadata": {},
   "outputs": [],
   "source": [
    "# Make a jitter boxplot of first significant time as function of F1 condition\n",
    "\n",
    "# Create the figure and axes\n",
    "plt.figure(figsize=(10, 6))\n",
    "\n",
    "# Create the boxplot\n",
    "bp = sns.boxplot(data=Data_Test, x='F1_condition', y='final_event_time', hue='F1_condition')\n",
    "\n",
    "# Overlay the strip plot\n",
    "sns.stripplot(data=Data_Test, x='F1_condition', y='final_event_time', color=\"black\", dodge=False, jitter=True, ax=bp)\n",
    "\n",
    "# Set the title\n",
    "plt.title('Final Event Time: Test Ball')\n",
    "\n",
    "# Save the plot with bbox_inches='tight' to avoid cropping\n",
    "#plt.savefig(f\"{plot_savepath}/Final_Event_Time_Test_Ball.png\", bbox_inches='tight')\n",
    "\n",
    "# Show the plot\n",
    "plt.show()"
   ]
  },
  {
   "cell_type": "code",
   "execution_count": null,
   "metadata": {},
   "outputs": [],
   "source": [
    "# Make a jitter boxplot of first significant time as function of F1 condition\n",
    "\n",
    "# Create the figure and axes\n",
    "plt.figure(figsize=(10, 6))\n",
    "\n",
    "# Create the boxplot\n",
    "bp = sns.boxplot(data=Data_Test, y='F1_condition', x='max_event_time', color='black', fill=False)\n",
    "\n",
    "# Overlay the strip plot\n",
    "sns.stripplot(data=Data_Test, y='F1_condition', x='max_event_time', hue=\"F1_condition\", dodge=False, jitter=True, ax=bp, alpha=0.75)\n",
    "\n",
    "# Set the title\n",
    "plt.title('Final Event Time: Test Ball')\n",
    "\n",
    "# Save the plot with bbox_inches='tight' to avoid cropping\n",
    "plt.savefig(f\"{plot_savepath}/max_event_time_Test_Ball.png\", bbox_inches='tight')\n",
    "\n",
    "# Show the plot\n",
    "plt.show()"
   ]
  },
  {
   "cell_type": "code",
   "execution_count": null,
   "metadata": {},
   "outputs": [],
   "source": [
    "importlib.reload(HoloviewsTemplates)"
   ]
  },
  {
   "cell_type": "code",
   "execution_count": null,
   "metadata": {},
   "outputs": [],
   "source": [
    "# HV version\n",
    "\n",
    "hv_bp = HoloviewsTemplates.jitter_boxplot(Data_Test, sort_by=\"F1_condition\", metric= 'final_event_time', kdims= 'F1_condition')\n",
    "\n",
    "\n",
    "\n",
    "\n",
    "hv_bp"
   ]
  },
  {
   "cell_type": "code",
   "execution_count": null,
   "metadata": {},
   "outputs": [],
   "source": [
    "# Here let's compute bootstrap confidence intervals for the mean of the max event time grouped by F1 condition\n",
    "\n",
    "intervals = {}\n",
    "\n",
    "for condition in Data_Test[\"F1_condition\"].unique():\n",
    "    condition_data = Data_Test[Data_Test[\"F1_condition\"] == condition]\n",
    "    \n",
    "    BS = Processing.draw_bs_ci(data=condition_data[\"final_event_time\"].dropna(), func=np.mean, n_reps=1000)\n",
    "    \n",
    "    intervals[condition] = BS\n",
    "    \n",
    "\n",
    "# Compute effect size between pretrained and control BS\n",
    "\n",
    "effect_size = Processing.compute_effect_size(intervals[\"control\"], intervals[\"pretrained\"])\n",
    "\n",
    "effect_size\n"
   ]
  },
  {
   "cell_type": "code",
   "execution_count": null,
   "metadata": {},
   "outputs": [],
   "source": [
    "# Plot the confidence intervals\n",
    "\n",
    "fig = plt.figure(figsize=(10, 6))\n",
    "\n",
    "for condition in intervals.keys():\n",
    "    \n",
    "    plt.errorbar(x=condition, y=np.mean(intervals[condition]), yerr=np.std(intervals[condition]), fmt='o', label=condition)\n",
    "    \n",
    "plt.title('Final event time: Test Ball')\n",
    "\n",
    "#plt.savefig(f\"{plot_savepath}/Final_Event_Time_Test_Ball_CI.png\", bbox_inches='tight')\n",
    "\n",
    "plt.show()"
   ]
  },
  {
   "cell_type": "code",
   "execution_count": null,
   "metadata": {},
   "outputs": [],
   "source": [
    "# Let's now transform these value in h:m:s format\n",
    "\n",
    "import datetime\n",
    "\n",
    "average_time = effect_size[0]\n",
    "\n",
    "print(f\"Average time difference between control and pretrained is: {datetime.timedelta(seconds=average_time)}\")\n",
    "\n",
    "interval_times = effect_size[1]\n",
    "\n",
    "print(f\"bootstrapped 95% confidence interval for the difference is: {datetime.timedelta(seconds=interval_times[1])} - {datetime.timedelta(seconds=interval_times[0])}\")"
   ]
  },
  {
   "cell_type": "code",
   "execution_count": null,
   "metadata": {},
   "outputs": [],
   "source": [
    "# Make a jitter boxplot of first significant time as function of F1 condition\n",
    "\n",
    "plt.figure(figsize=(10, 6))\n",
    "bp = sns.boxplot(data=Data_Test, x='F1_condition', y='max_event_time', hue='F1_condition')\n",
    "sns.stripplot(data=Data_Test, x='F1_condition', y='max_event_time', color = \"black\", dodge=False, jitter=True)\n",
    "\n",
    "plt.title('Max event time: Test Ball')\n",
    "\n",
    "plt.savefig(f\"{plot_savepath}/Max_Event_Time_Test_Ball.png\", bbox_inches='tight')\n",
    "\n",
    "plt.show()"
   ]
  },
  {
   "cell_type": "code",
   "execution_count": null,
   "metadata": {},
   "outputs": [],
   "source": []
  },
  {
   "cell_type": "code",
   "execution_count": null,
   "metadata": {},
   "outputs": [],
   "source": [
    "# Here let's compute bootstrap confidence intervals for the mean of the max event time grouped by F1 condition\n",
    "\n",
    "intervals = {}\n",
    "\n",
    "for condition in Data_Test[\"F1_condition\"].unique():\n",
    "    condition_data = Data_Test[Data_Test[\"F1_condition\"] == condition]\n",
    "    \n",
    "    BS = Processing.draw_bs_ci(data=condition_data[\"max_event_time\"].dropna(), func=np.mean, n_reps=1000)\n",
    "    \n",
    "    intervals[condition] = BS\n",
    "    \n",
    "    \n"
   ]
  },
  {
   "cell_type": "code",
   "execution_count": null,
   "metadata": {},
   "outputs": [],
   "source": [
    "intervals"
   ]
  },
  {
   "cell_type": "code",
   "execution_count": null,
   "metadata": {},
   "outputs": [],
   "source": [
    "# Plot the confidence intervals\n",
    "\n",
    "fig = plt.figure(figsize=(10, 6))\n",
    "\n",
    "for condition in intervals.keys():\n",
    "    \n",
    "    plt.errorbar(x=condition, y=np.mean(intervals[condition]), yerr=np.std(intervals[condition]), fmt='o', label=condition)\n",
    "    \n",
    "plt.title('Max event time: Test Ball')\n",
    "\n",
    "plt.savefig(f\"{plot_savepath}/Max_Event_Time_Test_Ball_CI.png\", bbox_inches='tight')\n",
    "\n",
    "plt.show()"
   ]
  },
  {
   "cell_type": "code",
   "execution_count": null,
   "metadata": {},
   "outputs": [],
   "source": [
    "importlib.reload(Processing)"
   ]
  },
  {
   "cell_type": "code",
   "execution_count": null,
   "metadata": {},
   "outputs": [],
   "source": [
    "# Compute effect size between pretrained and control BS\n",
    "\n",
    "effect_size = Processing.compute_effect_size(intervals[\"control\"], intervals[\"pretrained\"])\n",
    "\n",
    "effect_size"
   ]
  },
  {
   "cell_type": "code",
   "execution_count": null,
   "metadata": {},
   "outputs": [],
   "source": [
    "# Let's now transform these value in h:m:s format\n",
    "\n",
    "import datetime\n",
    "\n",
    "average_time = effect_size[0]\n",
    "\n",
    "print(f\"Average time difference between control and pretrained is: {datetime.timedelta(seconds=average_time)}\")\n",
    "\n",
    "interval_times = effect_size[1]\n",
    "\n",
    "print(f\"bootstrapped 95% confidence interval for the difference is: {datetime.timedelta(seconds=interval_times[1])} - {datetime.timedelta(seconds=interval_times[0])}\")\n",
    "\n"
   ]
  },
  {
   "cell_type": "code",
   "execution_count": null,
   "metadata": {},
   "outputs": [],
   "source": [
    "Data_Test.columns"
   ]
  },
  {
   "cell_type": "code",
   "execution_count": null,
   "metadata": {},
   "outputs": [],
   "source": [
    "# Make a jitter boxplot of first significant time as function of F1 condition\n",
    "\n",
    "plt.figure(figsize=(10, 6))\n",
    "bp = sns.boxplot(data=Data_Test, x='F1_condition', y='aha_moment', hue='F1_condition')\n",
    "sns.stripplot(data=Data_Test, x='F1_condition', y='aha_moment', color = \"black\", dodge=False, jitter=True)\n",
    "\n",
    "plt.title('Pulling ratio: Aha moment')\n",
    "\n",
    "#plt.savefig(f\"{plot_savepath}/Aha_Test_Ball.png\", bbox_inches='tight')\n",
    "\n",
    "plt.show()"
   ]
  },
  {
   "cell_type": "code",
   "execution_count": null,
   "metadata": {},
   "outputs": [],
   "source": [
    "# Make a jitter boxplot of first significant time as function of F1 condition\n",
    "\n",
    "plt.figure(figsize=(10, 6))\n",
    "bp = sns.boxplot(data=Data_Test, x='F1_condition', y='aha_moment_time', hue='F1_condition')\n",
    "sns.stripplot(data=Data_Test, x='F1_condition', y='aha_moment_time', color = \"black\", dodge=False, jitter=True)\n",
    "\n",
    "plt.title('Pulling ratio: Aha moment')\n",
    "\n",
    "#plt.savefig(f\"{plot_savepath}/Aha_Test_Ball_time.png\", bbox_inches='tight')\n",
    "\n",
    "plt.show()"
   ]
  },
  {
   "cell_type": "code",
   "execution_count": null,
   "metadata": {},
   "outputs": [],
   "source": [
    "# Make a jitter boxplot of first significant time as function of F1 condition\n",
    "\n",
    "plt.figure(figsize=(10, 6))\n",
    "bp = sns.boxplot(data=Data_Test, y='F1_condition', x='aha_moment_time', color='black', fill=False)\n",
    "sns.stripplot(data=Data_Test, y='F1_condition', x='aha_moment_time', hue = \"F1_condition\", dodge=False, jitter=True, alpha=0.75)\n",
    "\n",
    "plt.title('Pulling ratio: Aha moment')\n",
    "\n",
    "plt.savefig(f\"{plot_savepath}/Aha_Test_Ball_time.png\", bbox_inches='tight')\n",
    "\n",
    "plt.show()"
   ]
  },
  {
   "cell_type": "code",
   "execution_count": null,
   "metadata": {},
   "outputs": [],
   "source": [
    "# Make a jitter boxplot of first significant time as function of F1 condition\n",
    "\n",
    "plt.figure(figsize=(10, 6))\n",
    "bp = sns.boxplot(data=Data_Test, x='F1_condition', y='cumulated_breaks_duration', hue='F1_condition')\n",
    "sns.stripplot(data=Data_Test, x='F1_condition', y='cumulated_breaks_duration', color = \"black\", dodge=False, jitter=True)\n",
    "\n",
    "#plt.title('Pulling ratio: Aha moment')\n",
    "\n",
    "#plt.savefig(f\"{plot_savepath}/Adjusted_NbEvents.png\", bbox_inches='tight')\n",
    "\n",
    "plt.show()"
   ]
  },
  {
   "cell_type": "code",
   "execution_count": null,
   "metadata": {},
   "outputs": [],
   "source": [
    "# Make a jitter boxplot of first significant time as function of F1 condition\n",
    "\n",
    "plt.figure(figsize=(10, 6))\n",
    "bp = sns.boxplot(data=Data_Test, x='F1_condition', y='pulling_ratio', hue='F1_condition')\n",
    "sns.stripplot(data=Data_Test, x='F1_condition', y='pulling_ratio', color = \"black\", dodge=False, jitter=True)\n",
    "\n",
    "plt.title('Pulling ratio: Test Ball')\n",
    "\n",
    "plt.savefig(f\"{plot_savepath}/Pulling_Ratio_Test_Ball.png\", bbox_inches='tight')\n",
    "\n",
    "plt.show()"
   ]
  },
  {
   "cell_type": "code",
   "execution_count": null,
   "metadata": {},
   "outputs": [],
   "source": [
    "# Let's make histograms of the pulling ratio for each F1 condition\n",
    "\n",
    "plt.figure(figsize=(10, 6))\n",
    "\n",
    "for condition in Data_Test[\"F1_condition\"].unique():\n",
    "    \n",
    "    condition_data = Data_Test[Data_Test[\"F1_condition\"] == condition]\n",
    "    \n",
    "    sns.histplot(data=condition_data, x='pulling_ratio', kde=True, label=condition)\n",
    "    \n",
    "plt.title('Pulling ratio: Test Ball')\n",
    "\n",
    "plt.show()"
   ]
  },
  {
   "cell_type": "code",
   "execution_count": null,
   "metadata": {},
   "outputs": [],
   "source": [
    "# Now let's make them in 3 different subplots\n",
    "\n",
    "fig, axs = plt.subplots(1, 3, figsize=(20, 6))\n",
    "\n",
    "for i, condition in enumerate(Data_Test[\"F1_condition\"].unique()):\n",
    "    \n",
    "    condition_data = Data_Test[Data_Test[\"F1_condition\"] == condition]\n",
    "    \n",
    "    sns.histplot(data=condition_data, x='pulling_ratio', kde=True, label=condition, ax=axs[i])\n",
    "    \n",
    "    axs[i].set_title(condition)\n",
    "    \n",
    "plt.suptitle('Pulling ratio: Test Ball')\n",
    "\n",
    "plt.show()"
   ]
  },
  {
   "cell_type": "code",
   "execution_count": null,
   "metadata": {},
   "outputs": [],
   "source": [
    "# Make a jitter boxplot of first significant time as function of F1 condition\n",
    "\n",
    "plt.figure(figsize=(10, 6))\n",
    "sns.boxplot(data=Data_Test, x='F1_condition', y='pulled', hue='F1_condition')\n",
    "sns.stripplot(data=Data_Test, x='F1_condition', y='pulled', color = \"black\", dodge=False, jitter=True)\n",
    "\n",
    "plt.title('Pulling events: Test Ball')\n",
    "\n",
    "plt.show()"
   ]
  },
  {
   "cell_type": "code",
   "execution_count": null,
   "metadata": {},
   "outputs": [],
   "source": [
    "plt.figure(figsize=(10, 6))\n",
    "sns.boxplot(data=Data_Test, x='F1_condition', y='pushed', hue='F1_condition')\n",
    "sns.stripplot(data=Data_Test, x='F1_condition', y='pushed', color = \"black\", dodge=False, jitter=True)\n",
    "\n",
    "plt.title('Pushing events: Test Ball')\n"
   ]
  },
  {
   "cell_type": "code",
   "execution_count": null,
   "metadata": {},
   "outputs": [],
   "source": [
    "plt.figure(figsize=(10, 6))\n",
    "sns.boxplot(data=Data_Test, x='F1_condition', y='max_distance', hue='F1_condition')\n",
    "sns.stripplot(data=Data_Test, x='F1_condition', y='max_distance', color = \"black\", dodge=False, jitter=True)\n",
    "\n",
    "plt.title('max_distance: Test Ball')"
   ]
  },
  {
   "cell_type": "markdown",
   "metadata": {},
   "source": [
    "Counter intuitively, the max distance the ball was moved for pretrained is lower"
   ]
  },
  {
   "cell_type": "code",
   "execution_count": null,
   "metadata": {},
   "outputs": [],
   "source": [
    "# Get bootstrap confidence intervals for the mean of the max distance\n",
    "\n",
    "intervals = {}\n",
    "\n",
    "for condition in Data_Test[\"F1_condition\"].unique():\n",
    "    condition_data = Data_Test[Data_Test[\"F1_condition\"] == condition]\n",
    "    \n",
    "    BS = Processing.draw_bs_ci(data=condition_data[\"max_distance\"].dropna(), func=np.mean, n_reps=1000)\n",
    "    \n",
    "    intervals[condition] = BS"
   ]
  },
  {
   "cell_type": "code",
   "execution_count": null,
   "metadata": {},
   "outputs": [],
   "source": [
    "# Plot the confidence intervals\n",
    "\n",
    "plt.figure(figsize=(10, 6))\n",
    "\n",
    "for condition in intervals.keys():\n",
    "        \n",
    "        plt.errorbar(x=condition, y=np.mean(intervals[condition]), yerr=np.std(intervals[condition]), fmt='o', label=condition)\n",
    "        \n",
    "plt.title('Max distance: Test Ball')\n",
    "\n",
    "plt.show()"
   ]
  },
  {
   "cell_type": "code",
   "execution_count": null,
   "metadata": {},
   "outputs": [],
   "source": [
    "# Compute effect size between pretrained and control BS\n",
    "\n",
    "effect_size = Processing.compute_effect_size(intervals[\"control\"], intervals[\"pretrained\"])\n",
    "\n",
    "effect_size"
   ]
  },
  {
   "cell_type": "code",
   "execution_count": null,
   "metadata": {},
   "outputs": [],
   "source": [
    "# Get how many flies are in each success_direction category, grouped by F1 condition\n",
    "\n",
    "Data_Test.groupby([\"F1_condition\", \"success_direction\"]).size()"
   ]
  },
  {
   "cell_type": "markdown",
   "metadata": {},
   "source": [
    "Interestingly, there are very little groups that both push and pull the ball significantly. Seems to be one way or the other. \n",
    "\n",
    "There could be atleast 2 reasons for that: \n",
    "\n",
    "1) The flies have different strategies and stick to them\n",
    "\n",
    "2) The way the ball looks when it has already been pushed or pulled once is leading to more of the same behavior (some kind of stigmery)\n",
    "\n",
    "One way to check this is to verify what are the prefered behaviors for the first ball for pretrained"
   ]
  },
  {
   "cell_type": "code",
   "execution_count": null,
   "metadata": {},
   "outputs": [],
   "source": [
    "# For each fly, make a new column that is \"match\" if the success_direction is the same according for both ball conditions or \"different\" if it is different\n",
    "\n",
    "Data_Test.groupby([\"F1_condition\", \"direction_match\"]).size()"
   ]
  },
  {
   "cell_type": "markdown",
   "metadata": {},
   "source": [
    "When only considering strictly different condiditions (ignoring \"both\" as being push AND pull), I get: \n",
    "F1_condition         direction_match\n",
    "pretrained           different          85\n",
    "                     match              13\n",
    "pretrained_unlocked  different          59\n",
    "                     match               8\n",
    "\n",
    "\n",
    "If I consider both as partial match, I get: \n",
    "F1_condition         direction_match\n",
    "pretrained           different          44\n",
    "                     match              13\n",
    "                     partial_match      41\n",
    "pretrained_unlocked  different           6\n",
    "                     match               8\n",
    "                     partial_match      53\n",
    "\n",
    "\n",
    "so pretrained have 13 / 98 matches, if counting partial matches as well we get : 54 / 98 (half)\n",
    "pretrained_unlocked have 8 / 67 match, if counting the partial matches: 61/67\n",
    "\n",
    "Conclusion: for pretrained_unlocked they probably have much more \"both\" in the beginning, so that bumps up the partial matches"
   ]
  },
  {
   "cell_type": "code",
   "execution_count": null,
   "metadata": {},
   "outputs": [],
   "source": [
    "# Let's compare success_direction for training and test ball\n",
    "\n",
    "Data_Training.groupby([\"F1_condition\", \"success_direction\"]).size()"
   ]
  },
  {
   "cell_type": "markdown",
   "metadata": {},
   "source": [
    "Here we have 34 / 96 push, goes up to 76 / 96 if we include both. There's quite a lot of pull as well"
   ]
  },
  {
   "cell_type": "code",
   "execution_count": null,
   "metadata": {},
   "outputs": [],
   "source": [
    "# For pretrained flies, compare fly exit time according to success_direction\n",
    "\n",
    "plt.figure(figsize=(10, 6))\n",
    "\n",
    "sns.boxplot(data=Data_Training, x='F1_condition', y='exit_time', hue='success_direction')"
   ]
  },
  {
   "cell_type": "markdown",
   "metadata": {},
   "source": [
    "As expected, the 20 pull I see for pretrained are the flies that didn't exit (None time) and flies that didn't show pulling (push condition) exited earlier compared to the ones that pulled atleast once. \n",
    "\n",
    "> What if we remove the fail flies from the dataset? What will be the consequence?"
   ]
  },
  {
   "cell_type": "code",
   "execution_count": null,
   "metadata": {},
   "outputs": [],
   "source": [
    "Clean_Test = Data_Test.dropna(subset=[\"exit_time\"])\n",
    "\n",
    "Clean_Test.groupby([\"F1_condition\", \"success_direction\"]).size()"
   ]
  },
  {
   "cell_type": "code",
   "execution_count": null,
   "metadata": {},
   "outputs": [],
   "source": [
    "29/51"
   ]
  },
  {
   "cell_type": "markdown",
   "metadata": {},
   "source": [
    "Now we have for pretrained a majority of pushers, 21 / 36 : 0.58\n",
    "\n",
    "for pretrained unlocked, same as before as they all exited: 29 /51 : 0.57\n",
    "\n",
    "Comparable."
   ]
  },
  {
   "cell_type": "code",
   "execution_count": null,
   "metadata": {},
   "outputs": [],
   "source": [
    "Clean_Test.groupby([\"F1_condition\", \"direction_match\"]).size()"
   ]
  },
  {
   "cell_type": "markdown",
   "metadata": {},
   "source": [
    "Now we get 11/46, with partial match : 34 / 46 : majority are matching.\n",
    "\n",
    "pretrained unlocked have almost only partial match, didn't change."
   ]
  },
  {
   "cell_type": "code",
   "execution_count": null,
   "metadata": {},
   "outputs": [],
   "source": [
    "importlib.reload(Ballpushing_utils)"
   ]
  },
  {
   "cell_type": "code",
   "execution_count": null,
   "metadata": {},
   "outputs": [],
   "source": [
    "Data_F1 = Ballpushing_utils.Dataset(Experiments)"
   ]
  },
  {
   "cell_type": "code",
   "execution_count": null,
   "metadata": {},
   "outputs": [],
   "source": [
    "# Generate the checkpoints dataset\n",
    "\n",
    "Data_Checkpoints = Data_F1.generate_dataset(\"F1_checkpoints\")"
   ]
  },
  {
   "cell_type": "code",
   "execution_count": null,
   "metadata": {},
   "outputs": [],
   "source": [
    "# Get number of unique flies\n",
    "\n",
    "Data_Checkpoints[\"fly\"].nunique()"
   ]
  },
  {
   "cell_type": "code",
   "execution_count": null,
   "metadata": {},
   "outputs": [],
   "source": [
    "Data_Checkpoints"
   ]
  },
  {
   "cell_type": "code",
   "execution_count": null,
   "metadata": {},
   "outputs": [],
   "source": [
    "# Order the F1_conditions to be pretrained, control, pretrained_unlocked\n",
    "\n",
    "Data_Checkpoints[\"F1_condition\"] = pd.Categorical(\n",
    "    Data_Checkpoints[\"F1_condition\"],\n",
    "    categories=[\"pretrained\", \"control\", \"pretrained_unlocked\"],\n",
    "    ordered=True,\n",
    ")"
   ]
  },
  {
   "cell_type": "code",
   "execution_count": null,
   "metadata": {},
   "outputs": [],
   "source": [
    "# Save as csv\n",
    "\n",
    "Data_Checkpoints.to_csv(\"/mnt/upramdya_data/MD/F1_Tracks/Datasets/241128_F1_Checkpoints.csv\")"
   ]
  },
  {
   "cell_type": "code",
   "execution_count": null,
   "metadata": {},
   "outputs": [],
   "source": [
    "#Data_Checkpoints[\"adjusted_time\"] = Data_Checkpoints[\"adjusted_time\"] - Data_Checkpoints[\"fly_exit_time\"]"
   ]
  },
  {
   "cell_type": "code",
   "execution_count": null,
   "metadata": {},
   "outputs": [],
   "source": [
    "# Set the theme and style\n",
    "sns.set_theme(rc={'figure.figsize':(20,12)})\n",
    "sns.set_style(\"whitegrid\")\n",
    "\n",
    "# Create the boxplot with larger boxes\n",
    "jitterbox = sns.boxplot(x=\"distance\", y=\"adjusted_time\", hue=\"F1_condition\", data=Data_Checkpoints, gap = 0.1, fliersize=0) \n",
    "\n",
    "# Overlay the strip plot with jittered points\n",
    "jitterbox = sns.stripplot(x=\"distance\", y=\"adjusted_time\", hue=\"F1_condition\", color=\"black\", data=Data_Checkpoints, dodge=True, jitter=0.1, size=3)\n",
    "\n",
    "# Adjust the legend to avoid duplication\n",
    "handles, labels = plt.gca().get_legend_handles_labels()\n",
    "plt.legend(handles[0:len(handles)//2], labels[0:len(labels)//2], title=\"Condition\")\n",
    "\n",
    "# Set the title\n",
    "jitterbox.set_title(\"Distance to Checkpoints over Time\")\n",
    "\n",
    "plt.savefig(f\"{plot_savepath}/Distance_to_Checkpoints.png\", bbox_inches='tight')\n",
    "\n",
    "plt.show()"
   ]
  },
  {
   "cell_type": "code",
   "execution_count": null,
   "metadata": {},
   "outputs": [],
   "source": [
    "# Create the boxplot with larger boxes\n",
    "jitterbox = sns.boxplot(x=\"distance\", y=\"adjusted_time\", hue=\"F1_condition\", data=Data_Checkpoints, fliersize=0)\n",
    "\n",
    "# Add light gray lines for each individual\n",
    "for name, group in Data_Checkpoints.groupby(\"fly\"):\n",
    "    plt.plot(group[\"distance\"], group[\"adjusted_time\"], color=\"lightgray\", linewidth=0.5, zorder=0)\n",
    "\n",
    "\n",
    "# Overlay the strip plot with jittered points\n",
    "sns.stripplot(x=\"distance\", y=\"adjusted_time\", hue=\"F1_condition\", color=\"black\", data=Data_Checkpoints, dodge=True, jitter=0.1, size=3, ax=jitterbox)\n",
    "\n",
    "# Adjust the legend to avoid duplication\n",
    "handles, labels = plt.gca().get_legend_handles_labels()\n",
    "plt.legend(handles[0:len(handles)//2], labels[0:len(labels)//2], title=\"Condition\")\n",
    "\n",
    "# Set the title\n",
    "plt.title(\"Distance to Checkpoints over Time\")\n",
    "\n",
    "# Save the plot with bbox_inches='tight' to avoid cropping\n",
    "#plt.savefig(f\"{plot_savepath}/Distance_to_Checkpoints.png\", bbox_inches='tight')\n",
    "\n",
    "# Show the plot\n",
    "plt.show()"
   ]
  },
  {
   "cell_type": "code",
   "execution_count": null,
   "metadata": {},
   "outputs": [],
   "source": [
    "# Now do the same but split it between flies for which Data_Checkpoints[\"success_direction\"] == \"push\" and Data_Checkpoints[\"success_direction\"] == \"pull\"\n",
    "\n",
    "Data_Checkpoints_push = Data_Checkpoints[Data_Checkpoints[\"success_direction\"] == \"push\"]\n",
    "\n",
    "Data_Checkpoints_pull = Data_Checkpoints[Data_Checkpoints[\"success_direction\"] == \"pull\"]\n",
    "\n",
    "Data_Checkpoints_both = Data_Checkpoints[Data_Checkpoints[\"success_direction\"] == \"both\"]\n",
    "\n",
    "# Set the theme and style\n",
    "sns.set_theme(rc={'figure.figsize':(20,12)})\n",
    "sns.set_style(\"whitegrid\")\n",
    "\n",
    "# Create the boxplot with larger boxes\n",
    "\n",
    "jitterbox = sns.boxplot(x=\"distance\", y=\"adjusted_time\", hue=\"F1_condition\", data=Data_Checkpoints_push, gap = 0.1, fliersize=0)\n",
    "\n",
    "# Overlay the strip plot with jittered points\n",
    "\n",
    "jitterbox = sns.stripplot(x=\"distance\", y=\"adjusted_time\", hue=\"F1_condition\", color=\"black\", data=Data_Checkpoints_push, dodge=True, jitter=0.1, size=3)\n",
    "\n",
    "# Adjust the legend to avoid duplication\n",
    "\n",
    "handles, labels = plt.gca().get_legend_handles_labels()\n",
    "\n",
    "plt.legend(handles[0:len(handles)//2], labels[0:len(labels)//2], title=\"Condition\")\n",
    "\n",
    "# Set the title\n",
    "\n",
    "jitterbox.set_title(\"Distance to Checkpoints over Time: Push\")\n",
    "\n",
    "plt.savefig(f\"{plot_savepath}/Distance_to_Checkpoints_Push.png\", bbox_inches='tight')\n",
    "\n",
    "plt.show()"
   ]
  },
  {
   "cell_type": "code",
   "execution_count": null,
   "metadata": {},
   "outputs": [],
   "source": [
    "\n",
    "\n",
    "\n",
    "# Set the theme and style\n",
    "sns.set_theme(rc={'figure.figsize':(20,12)})\n",
    "sns.set_style(\"whitegrid\")\n",
    "\n",
    "# Create the boxplot with larger boxes\n",
    "\n",
    "jitterbox = sns.boxplot(x=\"distance\", y=\"adjusted_time\", hue=\"F1_condition\", data=Data_Checkpoints_pull, gap = 0.1, fliersize=0)\n",
    "\n",
    "# Overlay the strip plot with jittered points\n",
    "\n",
    "jitterbox = sns.stripplot(x=\"distance\", y=\"adjusted_time\", hue=\"F1_condition\", color=\"black\", data=Data_Checkpoints_pull, dodge=True, jitter=0.1, size=3)\n",
    "\n",
    "# Adjust the legend to avoid duplication\n",
    "\n",
    "handles, labels = plt.gca().get_legend_handles_labels()\n",
    "\n",
    "plt.legend(handles[0:len(handles)//2], labels[0:len(labels)//2], title=\"Condition\")\n",
    "\n",
    "# Set the title\n",
    "\n",
    "jitterbox.set_title(\"Distance to Checkpoints over Time: Push\")\n",
    "\n",
    "plt.savefig(f\"{plot_savepath}/Distance_to_Checkpoints_Pull.png\", bbox_inches='tight')\n",
    "\n",
    "plt.show()"
   ]
  },
  {
   "cell_type": "code",
   "execution_count": null,
   "metadata": {},
   "outputs": [],
   "source": [
    "# Now redo the initial plot but color the points by success direction\n",
    "\n",
    "# Set the theme and style\n",
    "sns.set_theme(rc={'figure.figsize':(20,12)})\n",
    "sns.set_style(\"whitegrid\")\n",
    "\n",
    "# Define color palettes\n",
    "boxplot_palette = \"Set2\"\n",
    "stripplot_palette = {\"push\": \"blue\", \"pull\": \"red\", \"both\": \"green\", \"none\": \"gray\"}\n",
    "\n",
    "# Create the boxplot with larger boxes\n",
    "jitterbox = sns.boxplot(x=\"distance\", y=\"adjusted_time\", hue=\"F1_condition\", data=Data_Checkpoints, palette=boxplot_palette, fliersize=0,)\n",
    "\n",
    "# Overlay the strip plot with jittered points\n",
    "jitterbox = sns.stripplot(x=\"distance\", y=\"adjusted_time\", hue=\"F1_condition\", color = \"red\", data=Data_Checkpoints_pull, dodge=True, jitter=0.1, size=3,)\n",
    "\n",
    "jitterbox = sns.stripplot(x=\"distance\", y=\"adjusted_time\", hue=\"F1_condition\", color = \"blue\", data=Data_Checkpoints_push, dodge=True, jitter=0.1, size=3,)\n",
    "\n",
    "jitterbox = sns.stripplot(x=\"distance\", y=\"adjusted_time\", hue=\"F1_condition\", color = \"yellow\", data=Data_Checkpoints_both, dodge=True, jitter=0.1, size=3,)\n",
    "\n",
    "# Adjust the legend to avoid duplication\n",
    "handles, labels = plt.gca().get_legend_handles_labels()\n",
    "plt.legend(handles[0:len(handles)//2], labels[0:len(labels)//2], title=\"Success Direction\")\n",
    "\n",
    "# Set the title\n",
    "jitterbox.set_title(\"Distance to Checkpoints over Time\")\n",
    "\n",
    "plt.show()"
   ]
  },
  {
   "cell_type": "code",
   "execution_count": null,
   "metadata": {},
   "outputs": [],
   "source": [
    "# Update the 'pretraining' column based on 'F1_condition'\n",
    "Data_Checkpoints.loc[Data_Checkpoints[\"F1_condition\"] == \"pretrained\", \"pretraining\"] = \"y\"\n",
    "Data_Checkpoints.loc[Data_Checkpoints[\"F1_condition\"] == \"pretrained_unlocked\", \"pretraining\"] = \"y\"\n",
    "Data_Checkpoints.loc[Data_Checkpoints[\"F1_condition\"] == \"control\", \"pretraining\"] = \"n\"\n",
    "\n",
    "# Update the 'unlocked' column based on 'F1_condition'\n",
    "Data_Checkpoints.loc[Data_Checkpoints[\"F1_condition\"] == \"pretrained\", \"unlocked\"] = \"n\"\n",
    "Data_Checkpoints.loc[Data_Checkpoints[\"F1_condition\"] == \"pretrained_unlocked\", \"unlocked\"] = \"y\"\n",
    "Data_Checkpoints.loc[Data_Checkpoints[\"F1_condition\"] == \"control\", \"unlocked\"] = \"n\"\n",
    "\n",
    "# Display the first few rows of the DataFrame\n",
    "Data_Checkpoints.head()\n",
    "\n",
    "\n"
   ]
  },
  {
   "cell_type": "code",
   "execution_count": null,
   "metadata": {},
   "outputs": [],
   "source": [
    "# Save again\n",
    "\n",
    "Data_Checkpoints.to_csv(\"/mnt/upramdya_data/MD/F1_Tracks/Datasets/241114_F1_Checkpoints.csv\")"
   ]
  },
  {
   "cell_type": "code",
   "execution_count": null,
   "metadata": {},
   "outputs": [],
   "source": []
  }
 ],
 "metadata": {
  "kernelspec": {
   "display_name": "tracking_analysis",
   "language": "python",
   "name": "python3"
  },
  "language_info": {
   "codemirror_mode": {
    "name": "ipython",
    "version": 3
   },
   "file_extension": ".py",
   "mimetype": "text/x-python",
   "name": "python",
   "nbconvert_exporter": "python",
   "pygments_lexer": "ipython3",
   "version": "3.12.6"
  }
 },
 "nbformat": 4,
 "nbformat_minor": 2
}
