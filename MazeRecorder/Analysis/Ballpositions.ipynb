{
 "cells": [
  {
   "cell_type": "code",
   "execution_count": null,
   "metadata": {},
   "outputs": [],
   "source": [
    "import sys\n",
    "import os\n",
    "from icecream import ic\n",
    "\n",
    "from pathlib import Path\n",
    "\n",
    "import utils_behavior\n",
    "\n",
    "from utils_behavior import Ballpushing_utils\n",
    "from utils_behavior import Utils\n",
    "from utils_behavior import Processing\n",
    "from utils_behavior import HoloviewsTemplates\n",
    "\n",
    "import pandas as pd\n",
    "import hvplot.pandas\n",
    "import numpy as np\n",
    "\n",
    "\n",
    "# from sklearn.decomposition import PCA\n",
    "# from sklearn.preprocessing import StandardScaler\n",
    "import pandas as pd\n",
    "#import pyarrow.feather as feather\n",
    "\n",
    "import pandas as pd\n",
    "import numpy as np\n",
    "import holoviews as hv\n",
    "import hvplot.pandas\n",
    "\n",
    "\n",
    "\n",
    "import matplotlib.pyplot as plt\n",
    "import seaborn as sns\n",
    "\n",
    "import importlib\n",
    "\n",
    "\n",
    "\n",
    "import holoviews as hv\n",
    "\n",
    "\n",
    "hv.extension(\"bokeh\")"
   ]
  },
  {
   "cell_type": "code",
   "execution_count": null,
   "metadata": {},
   "outputs": [],
   "source": [
    "# Get the path to the data\n",
    "\n",
    "Datapath = Utils.get_data_path()"
   ]
  },
  {
   "cell_type": "code",
   "execution_count": null,
   "metadata": {},
   "outputs": [],
   "source": [
    "# Find folders with \"Learning or learning\" in the name as a list\n",
    "\n",
    "folders = [f for f in Datapath.glob(\"*FeedingState*\")]\n",
    "\n",
    "folders"
   ]
  },
  {
   "cell_type": "code",
   "execution_count": null,
   "metadata": {},
   "outputs": [],
   "source": [
    "# Take the first \n",
    "\n",
    "exp = Ballpushing_utils.Experiment(folders[0])"
   ]
  },
  {
   "cell_type": "code",
   "execution_count": null,
   "metadata": {},
   "outputs": [],
   "source": [
    "exp"
   ]
  },
  {
   "cell_type": "code",
   "execution_count": null,
   "metadata": {},
   "outputs": [],
   "source": []
  },
  {
   "cell_type": "code",
   "execution_count": null,
   "metadata": {},
   "outputs": [],
   "source": [
    "# For each fly, get the ball positions\n",
    "\n",
    "ball_positions = []\n",
    "\n",
    "for fly in exp.flies:\n",
    "    data = fly.tracking_data.balltrack.objects[0].dataset\n",
    "    \n",
    "    data[\"y_relative\"] = abs(data[\"y_centre\"] - data[\"y_centre\"].iloc[0])\n",
    "    data['fly'] = fly.metadata.name\n",
    "    \n",
    "    ball_positions.append(data)\n",
    "    \n",
    "ball_positions = pd.concat(ball_positions)\n",
    "\n",
    "ball_positions.head()\n",
    "\n",
    "#ball_positions['fly'].unique()\n",
    "    \n",
    "    "
   ]
  },
  {
   "cell_type": "code",
   "execution_count": null,
   "metadata": {},
   "outputs": [],
   "source": [
    "# Now get the average ball positions grouped by time\n",
    "\n",
    "grouped = ball_positions.groupby('time')[\"y_relative\"].mean()\n",
    "\n",
    "# Make it a dataframe\n",
    "\n",
    "grouped = grouped.reset_index()\n",
    "\n",
    "# Add co\n",
    "grouped[\"ci\"] = (ball_positions.groupby('time')[\"y_relative\"].sem()) * 1.96\n",
    "\n",
    "\n",
    "grouped"
   ]
  },
  {
   "cell_type": "code",
   "execution_count": null,
   "metadata": {},
   "outputs": [],
   "source": [
    "import seaborn as sns\n",
    "import matplotlib.pyplot as plt\n",
    "import pandas as pd\n",
    "from scipy.stats import linregress\n",
    "\n",
    "sns.set_style(\"white\")\n",
    "sns.set_style(\"ticks\")\n",
    "\n",
    "plt.rcParams.update({'font.size': 11})\n",
    "\n",
    "# For each fly, get the ball positions\n",
    "ball_positions = []\n",
    "\n",
    "for fly in exp.flies:\n",
    "    data = fly.tracking_data.balltrack.objects[0].dataset\n",
    "    \n",
    "    data[\"y_relative\"] = abs(data[\"y_centre\"] - data[\"y_centre\"].iloc[0])\n",
    "    data['fly'] = fly.metadata.name\n",
    "    \n",
    "    ball_positions.append(data)\n",
    "    \n",
    "ball_positions = pd.concat(ball_positions)\n",
    "\n",
    "# Sample 20 flies from the pool of exp.flies\n",
    "sampled_flies = np.random.choice(ball_positions['fly'].unique(), 20, replace=False)\n",
    "\n",
    "# Now get the average ball positions grouped by time\n",
    "grouped = ball_positions.groupby('time')[\"y_relative\"].mean().reset_index()\n",
    "\n",
    "# Plot the individual ball relative positions over time in thin gray lines for the sampled flies\n",
    "plt.figure(figsize=(10, 6))\n",
    "for fly in sampled_flies:\n",
    "    sns.lineplot(x='time', y='y_relative', data=ball_positions[ball_positions['fly'] == fly], color='gray', alpha=0.3, linewidth=0.5)\n",
    "\n",
    "# Plot the average ball positions over time in a thicker line\n",
    "sns.lineplot(x='time', y='y_relative', data=grouped, label='Average ball position', color='blue', linewidth=2)\n",
    "\n",
    "# Add a linear regression line to the plot and annotate the R2\n",
    "# slope, intercept, r_value, p_value, std_err = linregress(grouped['time'], grouped['y_relative'])\n",
    "# plt.plot(grouped['time'], slope * grouped['time'] + intercept, color='red', linestyle='--', alpha=0.5, label='Linear regression', linewidth=1)\n",
    "\n",
    "# # Add the R2 to the plot\n",
    "# plt.text(6500, 110, f\"R2 = {r_value**2:.2f}\", fontsize=12, color='red')\n",
    "\n",
    "# Add title and labels\n",
    "plt.title('Average ball position over time')\n",
    "plt.xlabel('Time (s)')\n",
    "plt.ylabel('Position relative to starting position (px)')\n",
    "#plt.legend()\n",
    "# Remove legend\n",
    "\n",
    "plt.legend().remove()\n",
    "\n",
    "plt.savefig(\"/mnt/upramdya_data/MD/MultiMazeRecorder/Plots/Article_Affordance/average_ball_position_over_time_Simple.png\")\n",
    "plt.savefig(\"/mnt/upramdya_data/MD/MultiMazeRecorder/Plots/Article_Affordance/average_ball_position_over_time_Simple.svg\")\n",
    "# Show the plot\n",
    "plt.show()"
   ]
  },
  {
   "cell_type": "code",
   "execution_count": null,
   "metadata": {},
   "outputs": [],
   "source": [
    "\n"
   ]
  },
  {
   "cell_type": "code",
   "execution_count": null,
   "metadata": {},
   "outputs": [],
   "source": [
    "Dataset = Ballpushing_utils.Dataset(exp)"
   ]
  },
  {
   "cell_type": "code",
   "execution_count": null,
   "metadata": {},
   "outputs": [],
   "source": [
    "Dataset.generate_dataset(success_cutoff=False)"
   ]
  },
  {
   "cell_type": "code",
   "execution_count": null,
   "metadata": {},
   "outputs": [],
   "source": [
    "Dataset.data.columns"
   ]
  },
  {
   "cell_type": "code",
   "execution_count": null,
   "metadata": {},
   "outputs": [],
   "source": [
    "# Plot the yball_relative as a function of time grouped by individual flies\n",
    "\n",
    "# curves = hv.Curve(Dataset.data, kdims=[\"time\"], vdims=[\"yball_relative\",\"fly\"]).groupby(\"fly\").overlay()\n",
    "\n",
    "# curves.opts(width=800, height=400)"
   ]
  },
  {
   "cell_type": "code",
   "execution_count": null,
   "metadata": {},
   "outputs": [],
   "source": [
    "from holoviews import opts\n",
    "from bokeh.palettes import viridis\n",
    "\n",
    "Tries = 30\n",
    "\n",
    "NbFlies = 7\n",
    "\n",
    "for i in range(Tries):\n",
    "\n",
    "    # Pick random flies and plot their yball_relative as a function of time\n",
    "    flies = np.random.choice(Dataset.data.fly.unique(), NbFlies)\n",
    "\n",
    "    # Generate a Viridis palette with adapted number of colors colors\n",
    "    viridis_palette = viridis(NbFlies)\n",
    "\n",
    "    # Create the curves and overlay them\n",
    "    curves = (\n",
    "        hv.Curve(\n",
    "            Dataset.data[Dataset.data.fly.isin(flies)],\n",
    "            kdims=[\"time\"],\n",
    "            vdims=[\"yball_relative\", \"fly\"],\n",
    "        )\n",
    "        .groupby(\"fly\")\n",
    "        .overlay()\n",
    "    )\n",
    "\n",
    "    curves = curves.opts(\n",
    "        opts.Curve(\n",
    "            width=800,\n",
    "            height=400,\n",
    "            show_grid=True,\n",
    "            show_legend=False,\n",
    "            ylabel=\"ball position relative to start (px)\",\n",
    "            xlabel=\"time (s)\",\n",
    "            \n",
    "        )\n",
    "    )\n",
    "\n",
    "    # Apply the viridis colormap\n",
    "    curves = curves.opts(opts.Curve(color=hv.Cycle(values=list(viridis_palette))))\n",
    "\n",
    "    hv.save(curves, f\"/mnt/upramdya_files/DURRIEU_Matthias/DlsImgs/testcurves{i}.png\")"
   ]
  },
  {
   "cell_type": "markdown",
   "metadata": {},
   "source": [
    "# Plotting curve with event start positions"
   ]
  },
  {
   "cell_type": "code",
   "execution_count": null,
   "metadata": {},
   "outputs": [],
   "source": [
    "exp = Ballpushing_utils.Experiment(folders[0])"
   ]
  },
  {
   "cell_type": "code",
   "execution_count": null,
   "metadata": {},
   "outputs": [],
   "source": [
    "importlib.reload(Ballpushing_utils)"
   ]
  },
  {
   "cell_type": "code",
   "execution_count": null,
   "metadata": {},
   "outputs": [],
   "source": [
    "Dataset = Ballpushing_utils.Dataset(exp)"
   ]
  },
  {
   "cell_type": "code",
   "execution_count": null,
   "metadata": {},
   "outputs": [],
   "source": [
    "Dataset.data.head()"
   ]
  },
  {
   "cell_type": "code",
   "execution_count": null,
   "metadata": {},
   "outputs": [],
   "source": [
    "SubsetFly = Dataset.data[Dataset.data[\"fly\"] == Dataset.data[\"fly\"].unique()[0]]\n",
    "\n",
    "SubsetFly[\"interaction_event_onset\"].unique()"
   ]
  },
  {
   "cell_type": "code",
   "execution_count": null,
   "metadata": {},
   "outputs": [],
   "source": [
    "SubsetFly[SubsetFly[\"interaction_event_onset\"].notna()]"
   ]
  },
  {
   "cell_type": "code",
   "execution_count": null,
   "metadata": {},
   "outputs": [],
   "source": [
    "#Show rows where interaction_event_onset is not NaN\n",
    "\n",
    "Dataset.data[Dataset.data[\"interaction_event_onset\"].notna()]"
   ]
  },
  {
   "cell_type": "code",
   "execution_count": null,
   "metadata": {},
   "outputs": [],
   "source": [
    "# Let's try to get the events for one fly\n",
    "\n",
    "ex_fly = Dataset.data[Dataset.data['fly'] == Dataset.data['fly'].unique()[1]]"
   ]
  },
  {
   "cell_type": "code",
   "execution_count": null,
   "metadata": {},
   "outputs": [],
   "source": [
    "ex_fly[\"interaction_event\"]"
   ]
  },
  {
   "cell_type": "code",
   "execution_count": null,
   "metadata": {},
   "outputs": [],
   "source": [
    "# Check non null values\n",
    "\n",
    "ex_fly[\"interaction_event\"].notnull().sum()"
   ]
  },
  {
   "cell_type": "code",
   "execution_count": null,
   "metadata": {},
   "outputs": [],
   "source": [
    "events"
   ]
  },
  {
   "cell_type": "code",
   "execution_count": null,
   "metadata": {},
   "outputs": [],
   "source": [
    "# Plot y fly\n",
    "\n",
    "plt.plot(ex_fly[\"time\"], ex_fly[\"y_fly_0\"])"
   ]
  },
  {
   "cell_type": "code",
   "execution_count": null,
   "metadata": {},
   "outputs": [],
   "source": [
    "# Create a figure and axis\n",
    "fig, ax = plt.subplots()\n",
    "\n",
    "# Plot yball_relative over time\n",
    "ax.plot(ex_fly[\"time\"], ex_fly[\"distance_ball_0\"], label=\"distance_ball_0\", color=\"black\")\n",
    "\n",
    "# Find the beginning of each event\n",
    "event_starts = (\n",
    "    ex_fly.dropna(subset=[\"interaction_event\"])\n",
    "    .groupby(\"interaction_event\")\n",
    "    .first()\n",
    "    .reset_index()\n",
    ")\n",
    "\n",
    "# Mark the beginning of each event with a red 'X'\n",
    "ax.scatter(\n",
    "    event_starts[\"time\"],\n",
    "    event_starts[\"distance_ball_0\"],\n",
    "    color=\"red\",\n",
    "    marker=\"x\",\n",
    "    s=100,\n",
    "    label=\"Event Start\",\n",
    ")\n",
    "\n",
    "# Add labels and legend\n",
    "ax.set_xlabel(\"Time\")\n",
    "ax.set_ylabel(\"distance_ball_0\")\n",
    "ax.legend()\n",
    "\n",
    "# Show the plot\n",
    "plt.show()"
   ]
  },
  {
   "cell_type": "code",
   "execution_count": null,
   "metadata": {},
   "outputs": [],
   "source": [
    "# Select the fly to highlight\n",
    "highlight_fly_id = Dataset.data['fly'].unique()[1]  # Replace with the actual ID of the fly to highlight\n",
    "\n",
    "plt.rcParams.update({'font.size': 22})\n",
    "\n",
    "# Create a figure and axis with specific size\n",
    "\n",
    "fig, ax = plt.subplots(figsize=(30, 20))\n",
    "\n",
    "# Plot all other animals in shades of gray\n",
    "other_flies = Dataset.data[Dataset.data[\"fly\"] != highlight_fly_id]\n",
    "sns.lineplot(\n",
    "    data=other_flies,\n",
    "    x=\"time\",\n",
    "    y=\"distance_ball_0\",\n",
    "    hue=\"fly\",\n",
    "    palette=sns.color_palette(\"husl\", len(other_flies[\"fly\"].unique())),\n",
    "    # palette=\"gray\",\n",
    "    alpha=0.3,\n",
    "    legend=False,\n",
    "    ax=ax,\n",
    ")\n",
    "\n",
    "# Plot the highlighted animal in black\n",
    "highlight_fly = Dataset.data[Dataset.data[\"fly\"] == highlight_fly_id]\n",
    "sns.lineplot(\n",
    "    data=highlight_fly,\n",
    "    x=\"time\",\n",
    "    y=\"distance_ball_0\",\n",
    "    color=\"black\",\n",
    "    label=\"distance_ball_0\",\n",
    "    ax=ax,\n",
    ")\n",
    "\n",
    "# Find the beginning of each event for the highlighted animal\n",
    "event_starts = (\n",
    "    highlight_fly.dropna(subset=[\"interaction_event_onset\"])\n",
    "    .groupby(\"interaction_event_onset\")\n",
    "    .first()\n",
    "    .reset_index()\n",
    ")\n",
    "\n",
    "# Mark the beginning of each event with a red 'X'\n",
    "ax.scatter(\n",
    "    event_starts[\"time\"],\n",
    "    event_starts[\"distance_ball_0\"],\n",
    "    color=\"red\",\n",
    "    marker=\"x\",\n",
    "    s=100,\n",
    "    label=\"Event Start\",\n",
    ")\n",
    "\n",
    "# Add labels and remove legend\n",
    "ax.set_xlabel(\"time (s)\")\n",
    "ax.set_ylabel(\"ball distance to start (px)\")\n",
    "ax.legend().remove()\n",
    "\n",
    "plt.savefig(\n",
    "    \"/mnt/upramdya_files/DURRIEU_Matthias/Pictures/Affordance_paper/BallTrajectories_2.svg\",\n",
    "    format=\"svg\",\n",
    ")\n",
    "\n",
    "plt.savefig(\n",
    "    \"/mnt/upramdya_files/DURRIEU_Matthias/Pictures/Affordance_paper/BallTrajectories_2.pdf\",\n",
    "    format=\"pdf\",\n",
    ")\n",
    "\n",
    "\n",
    "# Show the plot\n",
    "plt.show()"
   ]
  },
  {
   "cell_type": "code",
   "execution_count": null,
   "metadata": {},
   "outputs": [],
   "source": [
    "# Select the fly to highlight\n",
    "highlight_fly_id = Dataset.data['fly'].unique()[1]  # Replace with the actual ID of the fly to highlight\n",
    "\n",
    "plt.rcParams.update({'font.size': 22})\n",
    "\n",
    "# Create a figure and axis with specific size\n",
    "fig, ax = plt.subplots(figsize=(30, 20))\n",
    "\n",
    "# Plot all other animals in shades of gray\n",
    "other_flies = Dataset.data[Dataset.data[\"fly\"] != highlight_fly_id]\n",
    "sns.lineplot(\n",
    "    data=other_flies,\n",
    "    x=\"time\",\n",
    "    y=\"distance_ball_0\",\n",
    "    hue=\"fly\",\n",
    "    palette=sns.color_palette(\"husl\", len(other_flies[\"fly\"].unique())),\n",
    "    # palette=\"gray\",\n",
    "    alpha=0.3,\n",
    "    legend=False,\n",
    "    ax=ax,\n",
    ")\n",
    "\n",
    "# Get the highlighted fly data and sort by time\n",
    "highlight_fly = Dataset.data[Dataset.data[\"fly\"] == highlight_fly_id].sort_values(\"time\")\n",
    "\n",
    "# Create new columns to identify interaction segments\n",
    "highlight_fly['is_interaction'] = ~highlight_fly[\"interaction_event\"].isna()\n",
    "highlight_fly['segment'] = (highlight_fly['is_interaction'] != highlight_fly['is_interaction'].shift()).cumsum()\n",
    "\n",
    "# Plot each segment with appropriate color\n",
    "legend_added = {'red': False, 'black': False}\n",
    "for segment_id, segment in highlight_fly.groupby('segment'):\n",
    "    color = 'red' if segment['is_interaction'].iloc[0] else 'black'\n",
    "    \n",
    "    # Only add label for the first occurrence of each color\n",
    "    if not legend_added[color]:\n",
    "        label = 'Interaction' if color == 'red' else 'No Interaction'\n",
    "        legend_added[color] = True\n",
    "    else:\n",
    "        label = None\n",
    "        \n",
    "    ax.plot(segment[\"time\"], segment[\"distance_ball_0\"], color=color, label=label, linewidth=2)\n",
    "\n",
    "# Find the beginning of each event for the highlighted animal\n",
    "event_starts = (\n",
    "    highlight_fly.dropna(subset=[\"interaction_event_onset\"])\n",
    "    .groupby(\"interaction_event_onset\")\n",
    "    .first()\n",
    "    .reset_index()\n",
    ")\n",
    "\n",
    "# Mark the beginning of each event with a red 'X'\n",
    "ax.scatter(\n",
    "    event_starts[\"time\"],\n",
    "    event_starts[\"distance_ball_0\"],\n",
    "    color=\"red\",\n",
    "    marker=\"x\",\n",
    "    s=100,\n",
    "    label=\"Contact onset\",\n",
    ")\n",
    "\n",
    "# Add labels and legend\n",
    "ax.set_xlabel(\"time (s)\")\n",
    "ax.set_ylabel(\"ball distance to start (px)\")\n",
    "ax.legend()\n",
    "\n",
    "# Place legend top left\n",
    "\n",
    "plt.legend(loc='upper left')\n",
    "\n",
    "plt.savefig(\n",
    "    \"/mnt/upramdya_files/DURRIEU_Matthias/Pictures/Affordance_paper/BallTrajectories_2_Withinteractions.svg\",\n",
    "    format=\"svg\",\n",
    ")\n",
    "\n",
    "plt.savefig(\n",
    "    \"/mnt/upramdya_files/DURRIEU_Matthias/Pictures/Affordance_paper/BallTrajectories_2_Withinteractions.pdf\",\n",
    "    format=\"pdf\",\n",
    ")\n",
    "\n",
    "# Show the plot\n",
    "plt.show()"
   ]
  },
  {
   "cell_type": "code",
   "execution_count": null,
   "metadata": {},
   "outputs": [],
   "source": []
  }
 ],
 "metadata": {
  "kernelspec": {
   "display_name": "trackinganalysis",
   "language": "python",
   "name": "python3"
  },
  "language_info": {
   "codemirror_mode": {
    "name": "ipython",
    "version": 3
   },
   "file_extension": ".py",
   "mimetype": "text/x-python",
   "name": "python",
   "nbconvert_exporter": "python",
   "pygments_lexer": "ipython3",
   "version": "3.11.5"
  }
 },
 "nbformat": 4,
 "nbformat_minor": 2
}
