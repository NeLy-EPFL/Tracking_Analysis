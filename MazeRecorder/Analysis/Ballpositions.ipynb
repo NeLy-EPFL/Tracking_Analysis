{
 "cells": [
  {
   "cell_type": "code",
   "execution_count": null,
   "metadata": {},
   "outputs": [],
   "source": [
    "import sys\n",
    "import os\n",
    "from icecream import ic\n",
    "\n",
    "from pathlib import Path\n",
    "\n",
    "import utils_behavior\n",
    "\n",
    "from utils_behavior import Ballpushing_utils\n",
    "from utils_behavior import Utils\n",
    "from utils_behavior import Processing\n",
    "from utils_behavior import HoloviewsTemplates\n",
    "\n",
    "import pandas as pd\n",
    "import hvplot.pandas\n",
    "import numpy as np\n",
    "\n",
    "\n",
    "from sklearn.decomposition import PCA\n",
    "from sklearn.preprocessing import StandardScaler\n",
    "import pandas as pd\n",
    "import pyarrow.feather as feather\n",
    "\n",
    "import pandas as pd\n",
    "import numpy as np\n",
    "import holoviews as hv\n",
    "import hvplot.pandas\n",
    "\n",
    "\n",
    "\n",
    "import matplotlib.pyplot as plt\n",
    "import seaborn as sns\n",
    "\n",
    "\n",
    "\n",
    "import holoviews as hv\n",
    "\n",
    "\n",
    "hv.extension(\"bokeh\")"
   ]
  },
  {
   "cell_type": "code",
   "execution_count": null,
   "metadata": {},
   "outputs": [],
   "source": [
    "# Get the path to the data\n",
    "\n",
    "Datapath = Utils.get_data_path()"
   ]
  },
  {
   "cell_type": "code",
   "execution_count": null,
   "metadata": {},
   "outputs": [],
   "source": [
    "# Find folders with \"Learning or learning\" in the name as a list\n",
    "\n",
    "folders = [f for f in Datapath.glob(\"*FeedingState*\")]\n",
    "\n",
    "folders"
   ]
  },
  {
   "cell_type": "code",
   "execution_count": null,
   "metadata": {},
   "outputs": [],
   "source": [
    "# Take the first \n",
    "\n",
    "exp = Ballpushing_utils.Experiment(folders[0])"
   ]
  },
  {
   "cell_type": "code",
   "execution_count": null,
   "metadata": {},
   "outputs": [],
   "source": [
    "Dataset = Ballpushing_utils.Dataset(exp)"
   ]
  },
  {
   "cell_type": "code",
   "execution_count": null,
   "metadata": {},
   "outputs": [],
   "source": [
    "Dataset.generate_dataset(success_cutoff=False)"
   ]
  },
  {
   "cell_type": "code",
   "execution_count": null,
   "metadata": {},
   "outputs": [],
   "source": [
    "Dataset.data.columns"
   ]
  },
  {
   "cell_type": "code",
   "execution_count": null,
   "metadata": {},
   "outputs": [],
   "source": [
    "# Plot the yball_relative as a function of time grouped by individual flies\n",
    "\n",
    "# curves = hv.Curve(Dataset.data, kdims=[\"time\"], vdims=[\"yball_relative\",\"fly\"]).groupby(\"fly\").overlay()\n",
    "\n",
    "# curves.opts(width=800, height=400)"
   ]
  },
  {
   "cell_type": "code",
   "execution_count": null,
   "metadata": {},
   "outputs": [],
   "source": [
    "from holoviews import opts\n",
    "from bokeh.palettes import viridis\n",
    "\n",
    "Tries = 30\n",
    "\n",
    "NbFlies = 7\n",
    "\n",
    "for i in range(Tries):\n",
    "\n",
    "    # Pick random flies and plot their yball_relative as a function of time\n",
    "    flies = np.random.choice(Dataset.data.fly.unique(), NbFlies)\n",
    "\n",
    "    # Generate a Viridis palette with adapted number of colors colors\n",
    "    viridis_palette = viridis(NbFlies)\n",
    "\n",
    "    # Create the curves and overlay them\n",
    "    curves = (\n",
    "        hv.Curve(\n",
    "            Dataset.data[Dataset.data.fly.isin(flies)],\n",
    "            kdims=[\"time\"],\n",
    "            vdims=[\"yball_relative\", \"fly\"],\n",
    "        )\n",
    "        .groupby(\"fly\")\n",
    "        .overlay()\n",
    "    )\n",
    "\n",
    "    curves = curves.opts(\n",
    "        opts.Curve(\n",
    "            width=800,\n",
    "            height=400,\n",
    "            show_grid=True,\n",
    "            show_legend=False,\n",
    "            ylabel=\"ball position relative to start (px)\",\n",
    "            xlabel=\"time (s)\",\n",
    "            \n",
    "        )\n",
    "    )\n",
    "\n",
    "    # Apply the viridis colormap\n",
    "    curves = curves.opts(opts.Curve(color=hv.Cycle(values=list(viridis_palette))))\n",
    "\n",
    "    hv.save(curves, f\"/mnt/upramdya_files/DURRIEU_Matthias/DlsImgs/testcurves{i}.png\")"
   ]
  },
  {
   "cell_type": "code",
   "execution_count": null,
   "metadata": {},
   "outputs": [],
   "source": []
  }
 ],
 "metadata": {
  "kernelspec": {
   "display_name": "Main",
   "language": "python",
   "name": "python3"
  },
  "language_info": {
   "codemirror_mode": {
    "name": "ipython",
    "version": 3
   },
   "file_extension": ".py",
   "mimetype": "text/x-python",
   "name": "python",
   "nbconvert_exporter": "python",
   "pygments_lexer": "ipython3",
   "version": "3.10.13"
  }
 },
 "nbformat": 4,
 "nbformat_minor": 2
}
