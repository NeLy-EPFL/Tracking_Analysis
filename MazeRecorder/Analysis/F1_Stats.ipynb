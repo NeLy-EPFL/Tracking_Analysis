{
 "cells": [
  {
   "cell_type": "code",
   "execution_count": 7,
   "metadata": {
    "vscode": {
     "languageId": "r"
    }
   },
   "outputs": [],
   "source": [
    "# import the packages\n",
    "\n",
    "library(lme4)\n",
    "library(MuMIn)"
   ]
  },
  {
   "cell_type": "markdown",
   "metadata": {},
   "source": [
    "# Analysis on the Checkpoint data"
   ]
  },
  {
   "cell_type": "code",
   "execution_count": 8,
   "metadata": {
    "vscode": {
     "languageId": "r"
    }
   },
   "outputs": [
    {
     "data": {
      "text/html": [
       "<table class=\"dataframe\">\n",
       "<caption>A data.frame: 6 × 27</caption>\n",
       "<thead>\n",
       "\t<tr><th></th><th scope=col>X</th><th scope=col>index</th><th scope=col>fly_exit_time</th><th scope=col>distance</th><th scope=col>adjusted_time</th><th scope=col>fly</th><th scope=col>flypath</th><th scope=col>experiment</th><th scope=col>Nickname</th><th scope=col>Brain.region</th><th scope=col>⋯</th><th scope=col>X.1</th><th scope=col>F1_condition</th><th scope=col>success_direction</th><th scope=col>FeedingState</th><th scope=col>Light</th><th scope=col>Crossing</th><th scope=col>Balltype</th><th scope=col>EndChamber</th><th scope=col>pretraining</th><th scope=col>unlocked</th></tr>\n",
       "\t<tr><th></th><th scope=col>&lt;int&gt;</th><th scope=col>&lt;int&gt;</th><th scope=col>&lt;dbl&gt;</th><th scope=col>&lt;int&gt;</th><th scope=col>&lt;dbl&gt;</th><th scope=col>&lt;chr&gt;</th><th scope=col>&lt;chr&gt;</th><th scope=col>&lt;chr&gt;</th><th scope=col>&lt;chr&gt;</th><th scope=col>&lt;chr&gt;</th><th scope=col>⋯</th><th scope=col>&lt;lgl&gt;</th><th scope=col>&lt;chr&gt;</th><th scope=col>&lt;chr&gt;</th><th scope=col>&lt;chr&gt;</th><th scope=col>&lt;chr&gt;</th><th scope=col>&lt;int&gt;</th><th scope=col>&lt;chr&gt;</th><th scope=col>&lt;chr&gt;</th><th scope=col>&lt;chr&gt;</th><th scope=col>&lt;chr&gt;</th></tr>\n",
       "</thead>\n",
       "<tbody>\n",
       "\t<tr><th scope=row>1</th><td>0</td><td>0</td><td>6929.345</td><td>10</td><td>11.7931</td><td>240924_F1_3mm_ends_Videos_Checked_arena2_Right</td><td>/mnt/upramdya_data/MD/F1_Tracks/Videos/240924_F1_3mm_ends_Videos_Checked/arena2/Right</td><td>240924_F1_3mm_ends_Videos_Checked</td><td>PR</td><td>Control</td><td>⋯</td><td>NA</td><td>pretrained</td><td></td><td></td><td></td><td>NA</td><td></td><td></td><td>y</td><td>n</td></tr>\n",
       "\t<tr><th scope=row>2</th><td>1</td><td>1</td><td>6929.345</td><td>25</td><td>     NA</td><td>240924_F1_3mm_ends_Videos_Checked_arena2_Right</td><td>/mnt/upramdya_data/MD/F1_Tracks/Videos/240924_F1_3mm_ends_Videos_Checked/arena2/Right</td><td>240924_F1_3mm_ends_Videos_Checked</td><td>PR</td><td>Control</td><td>⋯</td><td>NA</td><td>pretrained</td><td></td><td></td><td></td><td>NA</td><td></td><td></td><td>y</td><td>n</td></tr>\n",
       "\t<tr><th scope=row>3</th><td>2</td><td>2</td><td>6929.345</td><td>35</td><td>     NA</td><td>240924_F1_3mm_ends_Videos_Checked_arena2_Right</td><td>/mnt/upramdya_data/MD/F1_Tracks/Videos/240924_F1_3mm_ends_Videos_Checked/arena2/Right</td><td>240924_F1_3mm_ends_Videos_Checked</td><td>PR</td><td>Control</td><td>⋯</td><td>NA</td><td>pretrained</td><td></td><td></td><td></td><td>NA</td><td></td><td></td><td>y</td><td>n</td></tr>\n",
       "\t<tr><th scope=row>4</th><td>3</td><td>3</td><td>6929.345</td><td>50</td><td>     NA</td><td>240924_F1_3mm_ends_Videos_Checked_arena2_Right</td><td>/mnt/upramdya_data/MD/F1_Tracks/Videos/240924_F1_3mm_ends_Videos_Checked/arena2/Right</td><td>240924_F1_3mm_ends_Videos_Checked</td><td>PR</td><td>Control</td><td>⋯</td><td>NA</td><td>pretrained</td><td></td><td></td><td></td><td>NA</td><td></td><td></td><td>y</td><td>n</td></tr>\n",
       "\t<tr><th scope=row>5</th><td>4</td><td>4</td><td>6929.345</td><td>60</td><td>     NA</td><td>240924_F1_3mm_ends_Videos_Checked_arena2_Right</td><td>/mnt/upramdya_data/MD/F1_Tracks/Videos/240924_F1_3mm_ends_Videos_Checked/arena2/Right</td><td>240924_F1_3mm_ends_Videos_Checked</td><td>PR</td><td>Control</td><td>⋯</td><td>NA</td><td>pretrained</td><td></td><td></td><td></td><td>NA</td><td></td><td></td><td>y</td><td>n</td></tr>\n",
       "\t<tr><th scope=row>6</th><td>5</td><td>5</td><td>6929.345</td><td>75</td><td>     NA</td><td>240924_F1_3mm_ends_Videos_Checked_arena2_Right</td><td>/mnt/upramdya_data/MD/F1_Tracks/Videos/240924_F1_3mm_ends_Videos_Checked/arena2/Right</td><td>240924_F1_3mm_ends_Videos_Checked</td><td>PR</td><td>Control</td><td>⋯</td><td>NA</td><td>pretrained</td><td></td><td></td><td></td><td>NA</td><td></td><td></td><td>y</td><td>n</td></tr>\n",
       "</tbody>\n",
       "</table>\n"
      ],
      "text/latex": [
       "A data.frame: 6 × 27\n",
       "\\begin{tabular}{r|lllllllllllllllllllll}\n",
       "  & X & index & fly\\_exit\\_time & distance & adjusted\\_time & fly & flypath & experiment & Nickname & Brain.region & ⋯ & X.1 & F1\\_condition & success\\_direction & FeedingState & Light & Crossing & Balltype & EndChamber & pretraining & unlocked\\\\\n",
       "  & <int> & <int> & <dbl> & <int> & <dbl> & <chr> & <chr> & <chr> & <chr> & <chr> & ⋯ & <lgl> & <chr> & <chr> & <chr> & <chr> & <int> & <chr> & <chr> & <chr> & <chr>\\\\\n",
       "\\hline\n",
       "\t1 & 0 & 0 & 6929.345 & 10 & 11.7931 & 240924\\_F1\\_3mm\\_ends\\_Videos\\_Checked\\_arena2\\_Right & /mnt/upramdya\\_data/MD/F1\\_Tracks/Videos/240924\\_F1\\_3mm\\_ends\\_Videos\\_Checked/arena2/Right & 240924\\_F1\\_3mm\\_ends\\_Videos\\_Checked & PR & Control & ⋯ & NA & pretrained &  &  &  & NA &  &  & y & n\\\\\n",
       "\t2 & 1 & 1 & 6929.345 & 25 &      NA & 240924\\_F1\\_3mm\\_ends\\_Videos\\_Checked\\_arena2\\_Right & /mnt/upramdya\\_data/MD/F1\\_Tracks/Videos/240924\\_F1\\_3mm\\_ends\\_Videos\\_Checked/arena2/Right & 240924\\_F1\\_3mm\\_ends\\_Videos\\_Checked & PR & Control & ⋯ & NA & pretrained &  &  &  & NA &  &  & y & n\\\\\n",
       "\t3 & 2 & 2 & 6929.345 & 35 &      NA & 240924\\_F1\\_3mm\\_ends\\_Videos\\_Checked\\_arena2\\_Right & /mnt/upramdya\\_data/MD/F1\\_Tracks/Videos/240924\\_F1\\_3mm\\_ends\\_Videos\\_Checked/arena2/Right & 240924\\_F1\\_3mm\\_ends\\_Videos\\_Checked & PR & Control & ⋯ & NA & pretrained &  &  &  & NA &  &  & y & n\\\\\n",
       "\t4 & 3 & 3 & 6929.345 & 50 &      NA & 240924\\_F1\\_3mm\\_ends\\_Videos\\_Checked\\_arena2\\_Right & /mnt/upramdya\\_data/MD/F1\\_Tracks/Videos/240924\\_F1\\_3mm\\_ends\\_Videos\\_Checked/arena2/Right & 240924\\_F1\\_3mm\\_ends\\_Videos\\_Checked & PR & Control & ⋯ & NA & pretrained &  &  &  & NA &  &  & y & n\\\\\n",
       "\t5 & 4 & 4 & 6929.345 & 60 &      NA & 240924\\_F1\\_3mm\\_ends\\_Videos\\_Checked\\_arena2\\_Right & /mnt/upramdya\\_data/MD/F1\\_Tracks/Videos/240924\\_F1\\_3mm\\_ends\\_Videos\\_Checked/arena2/Right & 240924\\_F1\\_3mm\\_ends\\_Videos\\_Checked & PR & Control & ⋯ & NA & pretrained &  &  &  & NA &  &  & y & n\\\\\n",
       "\t6 & 5 & 5 & 6929.345 & 75 &      NA & 240924\\_F1\\_3mm\\_ends\\_Videos\\_Checked\\_arena2\\_Right & /mnt/upramdya\\_data/MD/F1\\_Tracks/Videos/240924\\_F1\\_3mm\\_ends\\_Videos\\_Checked/arena2/Right & 240924\\_F1\\_3mm\\_ends\\_Videos\\_Checked & PR & Control & ⋯ & NA & pretrained &  &  &  & NA &  &  & y & n\\\\\n",
       "\\end{tabular}\n"
      ],
      "text/markdown": [
       "\n",
       "A data.frame: 6 × 27\n",
       "\n",
       "| <!--/--> | X &lt;int&gt; | index &lt;int&gt; | fly_exit_time &lt;dbl&gt; | distance &lt;int&gt; | adjusted_time &lt;dbl&gt; | fly &lt;chr&gt; | flypath &lt;chr&gt; | experiment &lt;chr&gt; | Nickname &lt;chr&gt; | Brain.region &lt;chr&gt; | ⋯ ⋯ | X.1 &lt;lgl&gt; | F1_condition &lt;chr&gt; | success_direction &lt;chr&gt; | FeedingState &lt;chr&gt; | Light &lt;chr&gt; | Crossing &lt;int&gt; | Balltype &lt;chr&gt; | EndChamber &lt;chr&gt; | pretraining &lt;chr&gt; | unlocked &lt;chr&gt; |\n",
       "|---|---|---|---|---|---|---|---|---|---|---|---|---|---|---|---|---|---|---|---|---|---|\n",
       "| 1 | 0 | 0 | 6929.345 | 10 | 11.7931 | 240924_F1_3mm_ends_Videos_Checked_arena2_Right | /mnt/upramdya_data/MD/F1_Tracks/Videos/240924_F1_3mm_ends_Videos_Checked/arena2/Right | 240924_F1_3mm_ends_Videos_Checked | PR | Control | ⋯ | NA | pretrained | <!----> | <!----> | <!----> | NA | <!----> | <!----> | y | n |\n",
       "| 2 | 1 | 1 | 6929.345 | 25 |      NA | 240924_F1_3mm_ends_Videos_Checked_arena2_Right | /mnt/upramdya_data/MD/F1_Tracks/Videos/240924_F1_3mm_ends_Videos_Checked/arena2/Right | 240924_F1_3mm_ends_Videos_Checked | PR | Control | ⋯ | NA | pretrained | <!----> | <!----> | <!----> | NA | <!----> | <!----> | y | n |\n",
       "| 3 | 2 | 2 | 6929.345 | 35 |      NA | 240924_F1_3mm_ends_Videos_Checked_arena2_Right | /mnt/upramdya_data/MD/F1_Tracks/Videos/240924_F1_3mm_ends_Videos_Checked/arena2/Right | 240924_F1_3mm_ends_Videos_Checked | PR | Control | ⋯ | NA | pretrained | <!----> | <!----> | <!----> | NA | <!----> | <!----> | y | n |\n",
       "| 4 | 3 | 3 | 6929.345 | 50 |      NA | 240924_F1_3mm_ends_Videos_Checked_arena2_Right | /mnt/upramdya_data/MD/F1_Tracks/Videos/240924_F1_3mm_ends_Videos_Checked/arena2/Right | 240924_F1_3mm_ends_Videos_Checked | PR | Control | ⋯ | NA | pretrained | <!----> | <!----> | <!----> | NA | <!----> | <!----> | y | n |\n",
       "| 5 | 4 | 4 | 6929.345 | 60 |      NA | 240924_F1_3mm_ends_Videos_Checked_arena2_Right | /mnt/upramdya_data/MD/F1_Tracks/Videos/240924_F1_3mm_ends_Videos_Checked/arena2/Right | 240924_F1_3mm_ends_Videos_Checked | PR | Control | ⋯ | NA | pretrained | <!----> | <!----> | <!----> | NA | <!----> | <!----> | y | n |\n",
       "| 6 | 5 | 5 | 6929.345 | 75 |      NA | 240924_F1_3mm_ends_Videos_Checked_arena2_Right | /mnt/upramdya_data/MD/F1_Tracks/Videos/240924_F1_3mm_ends_Videos_Checked/arena2/Right | 240924_F1_3mm_ends_Videos_Checked | PR | Control | ⋯ | NA | pretrained | <!----> | <!----> | <!----> | NA | <!----> | <!----> | y | n |\n",
       "\n"
      ],
      "text/plain": [
       "  X index fly_exit_time distance adjusted_time\n",
       "1 0 0     6929.345      10       11.7931      \n",
       "2 1 1     6929.345      25            NA      \n",
       "3 2 2     6929.345      35            NA      \n",
       "4 3 3     6929.345      50            NA      \n",
       "5 4 4     6929.345      60            NA      \n",
       "6 5 5     6929.345      75            NA      \n",
       "  fly                                           \n",
       "1 240924_F1_3mm_ends_Videos_Checked_arena2_Right\n",
       "2 240924_F1_3mm_ends_Videos_Checked_arena2_Right\n",
       "3 240924_F1_3mm_ends_Videos_Checked_arena2_Right\n",
       "4 240924_F1_3mm_ends_Videos_Checked_arena2_Right\n",
       "5 240924_F1_3mm_ends_Videos_Checked_arena2_Right\n",
       "6 240924_F1_3mm_ends_Videos_Checked_arena2_Right\n",
       "  flypath                                                                              \n",
       "1 /mnt/upramdya_data/MD/F1_Tracks/Videos/240924_F1_3mm_ends_Videos_Checked/arena2/Right\n",
       "2 /mnt/upramdya_data/MD/F1_Tracks/Videos/240924_F1_3mm_ends_Videos_Checked/arena2/Right\n",
       "3 /mnt/upramdya_data/MD/F1_Tracks/Videos/240924_F1_3mm_ends_Videos_Checked/arena2/Right\n",
       "4 /mnt/upramdya_data/MD/F1_Tracks/Videos/240924_F1_3mm_ends_Videos_Checked/arena2/Right\n",
       "5 /mnt/upramdya_data/MD/F1_Tracks/Videos/240924_F1_3mm_ends_Videos_Checked/arena2/Right\n",
       "6 /mnt/upramdya_data/MD/F1_Tracks/Videos/240924_F1_3mm_ends_Videos_Checked/arena2/Right\n",
       "  experiment                        Nickname Brain.region ⋯ X.1 F1_condition\n",
       "1 240924_F1_3mm_ends_Videos_Checked PR       Control      ⋯ NA  pretrained  \n",
       "2 240924_F1_3mm_ends_Videos_Checked PR       Control      ⋯ NA  pretrained  \n",
       "3 240924_F1_3mm_ends_Videos_Checked PR       Control      ⋯ NA  pretrained  \n",
       "4 240924_F1_3mm_ends_Videos_Checked PR       Control      ⋯ NA  pretrained  \n",
       "5 240924_F1_3mm_ends_Videos_Checked PR       Control      ⋯ NA  pretrained  \n",
       "6 240924_F1_3mm_ends_Videos_Checked PR       Control      ⋯ NA  pretrained  \n",
       "  success_direction FeedingState Light Crossing Balltype EndChamber pretraining\n",
       "1                                      NA                           y          \n",
       "2                                      NA                           y          \n",
       "3                                      NA                           y          \n",
       "4                                      NA                           y          \n",
       "5                                      NA                           y          \n",
       "6                                      NA                           y          \n",
       "  unlocked\n",
       "1 n       \n",
       "2 n       \n",
       "3 n       \n",
       "4 n       \n",
       "5 n       \n",
       "6 n       "
      ]
     },
     "metadata": {},
     "output_type": "display_data"
    }
   ],
   "source": [
    "# Import the data\n",
    "data <- read.csv(\"/mnt/upramdya_data/MD/F1_Tracks/Datasets/241114_F1_Checkpoints.csv\")\n",
    "\n",
    "# Show the data\n",
    "head(data)"
   ]
  },
  {
   "cell_type": "code",
   "execution_count": 9,
   "metadata": {
    "vscode": {
     "languageId": "r"
    }
   },
   "outputs": [
    {
     "data": {
      "text/html": [
       "<style>\n",
       ".list-inline {list-style: none; margin:0; padding: 0}\n",
       ".list-inline>li {display: inline-block}\n",
       ".list-inline>li:not(:last-child)::after {content: \"\\00b7\"; padding: 0 .5ex}\n",
       "</style>\n",
       "<ol class=list-inline><li>'X'</li><li>'index'</li><li>'fly_exit_time'</li><li>'distance'</li><li>'adjusted_time'</li><li>'fly'</li><li>'flypath'</li><li>'experiment'</li><li>'Nickname'</li><li>'Brain.region'</li><li>'Date'</li><li>'Genotype'</li><li>'Period'</li><li>'Peak'</li><li>'Orientation'</li><li>'Pretraining'</li><li>'Unlocked'</li><li>'X.1'</li><li>'F1_condition'</li><li>'success_direction'</li><li>'FeedingState'</li><li>'Light'</li><li>'Crossing'</li><li>'Balltype'</li><li>'EndChamber'</li><li>'pretraining'</li><li>'unlocked'</li></ol>\n"
      ],
      "text/latex": [
       "\\begin{enumerate*}\n",
       "\\item 'X'\n",
       "\\item 'index'\n",
       "\\item 'fly\\_exit\\_time'\n",
       "\\item 'distance'\n",
       "\\item 'adjusted\\_time'\n",
       "\\item 'fly'\n",
       "\\item 'flypath'\n",
       "\\item 'experiment'\n",
       "\\item 'Nickname'\n",
       "\\item 'Brain.region'\n",
       "\\item 'Date'\n",
       "\\item 'Genotype'\n",
       "\\item 'Period'\n",
       "\\item 'Peak'\n",
       "\\item 'Orientation'\n",
       "\\item 'Pretraining'\n",
       "\\item 'Unlocked'\n",
       "\\item 'X.1'\n",
       "\\item 'F1\\_condition'\n",
       "\\item 'success\\_direction'\n",
       "\\item 'FeedingState'\n",
       "\\item 'Light'\n",
       "\\item 'Crossing'\n",
       "\\item 'Balltype'\n",
       "\\item 'EndChamber'\n",
       "\\item 'pretraining'\n",
       "\\item 'unlocked'\n",
       "\\end{enumerate*}\n"
      ],
      "text/markdown": [
       "1. 'X'\n",
       "2. 'index'\n",
       "3. 'fly_exit_time'\n",
       "4. 'distance'\n",
       "5. 'adjusted_time'\n",
       "6. 'fly'\n",
       "7. 'flypath'\n",
       "8. 'experiment'\n",
       "9. 'Nickname'\n",
       "10. 'Brain.region'\n",
       "11. 'Date'\n",
       "12. 'Genotype'\n",
       "13. 'Period'\n",
       "14. 'Peak'\n",
       "15. 'Orientation'\n",
       "16. 'Pretraining'\n",
       "17. 'Unlocked'\n",
       "18. 'X.1'\n",
       "19. 'F1_condition'\n",
       "20. 'success_direction'\n",
       "21. 'FeedingState'\n",
       "22. 'Light'\n",
       "23. 'Crossing'\n",
       "24. 'Balltype'\n",
       "25. 'EndChamber'\n",
       "26. 'pretraining'\n",
       "27. 'unlocked'\n",
       "\n",
       "\n"
      ],
      "text/plain": [
       " [1] \"X\"                 \"index\"             \"fly_exit_time\"    \n",
       " [4] \"distance\"          \"adjusted_time\"     \"fly\"              \n",
       " [7] \"flypath\"           \"experiment\"        \"Nickname\"         \n",
       "[10] \"Brain.region\"      \"Date\"              \"Genotype\"         \n",
       "[13] \"Period\"            \"Peak\"              \"Orientation\"      \n",
       "[16] \"Pretraining\"       \"Unlocked\"          \"X.1\"              \n",
       "[19] \"F1_condition\"      \"success_direction\" \"FeedingState\"     \n",
       "[22] \"Light\"             \"Crossing\"          \"Balltype\"         \n",
       "[25] \"EndChamber\"        \"pretraining\"       \"unlocked\"         "
      ]
     },
     "metadata": {},
     "output_type": "display_data"
    }
   ],
   "source": [
    "# Get all columns\n",
    "colnames(data)"
   ]
  },
  {
   "cell_type": "code",
   "execution_count": 27,
   "metadata": {
    "vscode": {
     "languageId": "r"
    }
   },
   "outputs": [
    {
     "name": "stdout",
     "output_type": "stream",
     "text": [
      "[1] 1544   27\n",
      "[1] 733  27\n",
      "'data.frame':\t733 obs. of  6 variables:\n",
      " $ adjusted_time: num  11.8 1210.4 1967.3 378.5 519 ...\n",
      " $ pretraining  : chr  \"y\" \"y\" \"y\" \"y\" ...\n",
      " $ unlocked     : chr  \"n\" \"n\" \"n\" \"n\" ...\n",
      " $ distance     : int  10 10 25 10 25 35 50 60 10 25 ...\n",
      " $ fly          : chr  \"240924_F1_3mm_ends_Videos_Checked_arena2_Right\" \"240924_F1_3mm_ends_Videos_Checked_arena8_Right\" \"240924_F1_3mm_ends_Videos_Checked_arena8_Right\" \"240924_F1_3mm_ends_Videos_Checked_arena3_Right\" ...\n",
      " $ Date         : int  240924 240924 240924 240924 240924 240924 240924 240924 240924 240924 ...\n"
     ]
    }
   ],
   "source": [
    "# List variables to be used in the model\n",
    "vars <- c(\"adjusted_time\", \"pretraining\", \"unlocked\", \"distance\", \"fly\", \"Date\")\n",
    "\n",
    "# Remove the rows with missing values in the variables of interest\n",
    "data_clean <- data[complete.cases(data[vars]), ]\n",
    "\n",
    "# Check what was removed\n",
    "print(dim(data))\n",
    "print(dim(data_clean))\n",
    "\n",
    "# Remove all columns that are not in the vars list\n",
    "data_clean <- data_clean[vars]\n",
    "\n",
    "# Check the structure of the cleaned data\n",
    "str(data_clean)\n"
   ]
  },
  {
   "cell_type": "code",
   "execution_count": 29,
   "metadata": {
    "vscode": {
     "languageId": "r"
    }
   },
   "outputs": [
    {
     "data": {
      "text/html": [
       "<style>\n",
       ".dl-inline {width: auto; margin:0; padding: 0}\n",
       ".dl-inline>dt, .dl-inline>dd {float: none; width: auto; display: inline-block}\n",
       ".dl-inline>dt::after {content: \":\\0020\"; padding-right: .5ex}\n",
       ".dl-inline>dt:not(:first-of-type) {padding-left: .5ex}\n",
       "</style><dl class=dl-inline><dt>adjusted_time</dt><dd>0</dd><dt>pretraining</dt><dd>0</dd><dt>unlocked</dt><dd>0</dd><dt>distance</dt><dd>0</dd><dt>fly</dt><dd>0</dd><dt>Date</dt><dd>0</dd></dl>\n"
      ],
      "text/latex": [
       "\\begin{description*}\n",
       "\\item[adjusted\\textbackslash{}\\_time] 0\n",
       "\\item[pretraining] 0\n",
       "\\item[unlocked] 0\n",
       "\\item[distance] 0\n",
       "\\item[fly] 0\n",
       "\\item[Date] 0\n",
       "\\end{description*}\n"
      ],
      "text/markdown": [
       "adjusted_time\n",
       ":   0pretraining\n",
       ":   0unlocked\n",
       ":   0distance\n",
       ":   0fly\n",
       ":   0Date\n",
       ":   0\n",
       "\n"
      ],
      "text/plain": [
       "adjusted_time   pretraining      unlocked      distance           fly \n",
       "            0             0             0             0             0 \n",
       "         Date \n",
       "            0 "
      ]
     },
     "metadata": {},
     "output_type": "display_data"
    }
   ],
   "source": [
    "sapply(data_clean, function(x) sum(is.na(x)))"
   ]
  },
  {
   "cell_type": "code",
   "execution_count": 30,
   "metadata": {
    "vscode": {
     "languageId": "r"
    }
   },
   "outputs": [
    {
     "name": "stderr",
     "output_type": "stream",
     "text": [
      "fixed-effect model matrix is rank deficient so dropping 2 columns / coefficients\n",
      "\n"
     ]
    },
    {
     "data": {
      "text/plain": [
       "Linear mixed model fit by REML ['lmerMod']\n",
       "Formula: adjusted_time ~ pretraining * unlocked * distance + (1 | fly) +  \n",
       "    (1 | Date)\n",
       "   Data: data_clean\n",
       "\n",
       "REML criterion at convergence: 12520\n",
       "\n",
       "Scaled residuals: \n",
       "    Min      1Q  Median      3Q     Max \n",
       "-2.9675 -0.4848 -0.0290  0.4729  4.1826 \n",
       "\n",
       "Random effects:\n",
       " Groups   Name        Variance Std.Dev.\n",
       " fly      (Intercept) 2236313  1495.4  \n",
       " Date     (Intercept)   93525   305.8  \n",
       " Residual             1031233  1015.5  \n",
       "Number of obs: 733, groups:  fly, 147; Date, 14\n",
       "\n",
       "Fixed effects:\n",
       "                      Estimate Std. Error t value\n",
       "(Intercept)           1327.894    277.419   4.787\n",
       "pretrainingy          -395.013    387.482  -1.019\n",
       "unlockedy             -241.974    366.413  -0.660\n",
       "distance                42.318      2.818  15.019\n",
       "pretrainingy:distance  -21.341      3.981  -5.361\n",
       "unlockedy:distance       6.259      3.740   1.673\n",
       "\n",
       "Correlation of Fixed Effects:\n",
       "            (Intr) prtrnn unlckd distnc prtrn:\n",
       "pretrainngy -0.667                            \n",
       "unlockedy    0.005 -0.553                     \n",
       "distance    -0.389  0.278  0.002              \n",
       "prtrnngy:ds  0.276 -0.395  0.210 -0.708       \n",
       "unlckdy:dst  0.001  0.210 -0.384  0.000 -0.531\n",
       "fit warnings:\n",
       "fixed-effect model matrix is rank deficient so dropping 2 columns / coefficients"
      ]
     },
     "metadata": {},
     "output_type": "display_data"
    }
   ],
   "source": [
    "# Now run a linear mixed effects model to see if the adjusted time to reach each checkpoint is significantly different between the conditions, with important variables being: pretraining, unlocked, distance, success_direction and random effects being fly\n",
    "\n",
    "\n",
    "model <- lmer(adjusted_time ~ pretraining * unlocked * distance + (1|fly) + (1|Date), \n",
    "              data = data_clean, \n",
    "              na.action = na.fail)\n",
    "\n",
    "summary(model)"
   ]
  },
  {
   "cell_type": "markdown",
   "metadata": {},
   "source": []
  },
  {
   "cell_type": "code",
   "execution_count": 31,
   "metadata": {
    "vscode": {
     "languageId": "r"
    }
   },
   "outputs": [
    {
     "name": "stderr",
     "output_type": "stream",
     "text": [
      "Warning message in dredge(model):\n",
      "“comparing models fitted by REML”\n",
      "Fixed term is \"(Intercept)\"\n",
      "\n"
     ]
    },
    {
     "name": "stderr",
     "output_type": "stream",
     "text": [
      "fixed-effect model matrix is rank deficient so dropping 1 column / coefficient\n",
      "\n",
      "fixed-effect model matrix is rank deficient so dropping 1 column / coefficient\n",
      "\n",
      "fixed-effect model matrix is rank deficient so dropping 1 column / coefficient\n",
      "\n",
      "fixed-effect model matrix is rank deficient so dropping 1 column / coefficient\n",
      "\n",
      "fixed-effect model matrix is rank deficient so dropping 1 column / coefficient\n",
      "\n",
      "fixed-effect model matrix is rank deficient so dropping 2 columns / coefficients\n",
      "\n"
     ]
    },
    {
     "data": {
      "text/plain": [
       "  (Intercept)        distance     pretraining unlocked  distance:pretraining\n",
       " Min.   : 986.7   Min.   :29.82   +   :14     +   :14   +   : 6             \n",
       " 1st Qu.:1327.4   1st Qu.:29.92   NA's: 5     NA's: 5   NA's:13             \n",
       " Median :1737.1   Median :31.61                                             \n",
       " Mean   :1763.5   Mean   :35.57                                             \n",
       " 3rd Qu.:1955.0   3rd Qu.:42.32                                             \n",
       " Max.   :2932.7   Max.   :42.32                                             \n",
       "                  NA's   :5                                                 \n",
       " distance:unlocked pretraining:unlocked distance:pretraining:unlocked\n",
       " +   : 6           +   : 6              +   : 1                      \n",
       " NA's:13           NA's:13              NA's:18                      \n",
       "                                                                     \n",
       "                                                                     \n",
       "                                                                     \n",
       "                                                                     \n",
       "                                                                     \n",
       "       df            logLik           AICc           delta       \n",
       " Min.   :4.000   Min.   :-6437   Min.   :12538   Min.   :  0.00  \n",
       " 1st Qu.:6.000   1st Qu.:-6358   1st Qu.:12549   1st Qu.: 10.94  \n",
       " Median :7.000   Median :-6279   Median :12573   Median : 34.61  \n",
       " Mean   :6.842   Mean   :-6314   Mean   :12642   Mean   :104.18  \n",
       " 3rd Qu.:8.000   3rd Qu.:-6267   3rd Qu.:12726   3rd Qu.:188.05  \n",
       " Max.   :9.000   Max.   :-6260   Max.   :12883   Max.   :344.65  \n",
       "                                                                 \n",
       "     weight       \n",
       " Min.   :0.00000  \n",
       " 1st Qu.:0.00000  \n",
       " Median :0.00000  \n",
       " Mean   :0.05263  \n",
       " 3rd Qu.:0.01170  \n",
       " Max.   :0.31776  \n",
       "                  "
      ]
     },
     "metadata": {},
     "output_type": "display_data"
    }
   ],
   "source": [
    "model_selection <- dredge(model)\n",
    "\n",
    "summary(model_selection)"
   ]
  },
  {
   "cell_type": "code",
   "execution_count": 32,
   "metadata": {
    "vscode": {
     "languageId": "r"
    }
   },
   "outputs": [
    {
     "name": "stderr",
     "output_type": "stream",
     "text": [
      "fixed-effect model matrix is rank deficient so dropping 1 column / coefficient\n",
      "\n",
      "fixed-effect model matrix is rank deficient so dropping 2 columns / coefficients\n",
      "\n"
     ]
    },
    {
     "data": {
      "text/plain": [
       "\n",
       "Call:\n",
       "model.avg(object = top_models)\n",
       "\n",
       "Component models: \n",
       "‘12345’   ‘123456’  ‘1234567’\n",
       "\n",
       "Coefficients: \n",
       "       (Intercept) distance pretrainingy unlockedy distance:pretrainingy\n",
       "full      1327.894 42.31775    -395.0133  -241.974             -21.34063\n",
       "subset    1327.894 42.31775    -395.0133  -241.974             -21.34063\n",
       "       distance:unlockedy\n",
       "full             6.258761\n",
       "subset           6.258761\n",
       "\n",
       "Call:\n",
       "model.avg(object = top_models)\n",
       "\n",
       "Component models: \n",
       "‘12345’   ‘123456’  ‘1234567’\n",
       "\n",
       "Coefficients: \n",
       "       (Intercept) distance pretrainingy unlockedy distance:pretrainingy\n",
       "full      1327.894 42.31775    -395.0133  -241.974             -21.34063\n",
       "subset    1327.894 42.31775    -395.0133  -241.974             -21.34063\n",
       "       distance:unlockedy\n",
       "full             6.258761\n",
       "subset           6.258761"
      ]
     },
     "metadata": {},
     "output_type": "display_data"
    }
   ],
   "source": [
    "top_models <- get.models(model_selection, subset = delta < 2)\n",
    "model.avg(top_models)\n"
   ]
  },
  {
   "cell_type": "code",
   "execution_count": 34,
   "metadata": {
    "vscode": {
     "languageId": "r"
    }
   },
   "outputs": [
    {
     "data": {
      "text/html": [
       "<style>\n",
       ".dl-inline {width: auto; margin:0; padding: 0}\n",
       ".dl-inline>dt, .dl-inline>dd {float: none; width: auto; display: inline-block}\n",
       ".dl-inline>dt::after {content: \":\\0020\"; padding-right: .5ex}\n",
       ".dl-inline>dt:not(:first-of-type) {padding-left: .5ex}\n",
       "</style><dl class=dl-inline><dt>distance</dt><dd>1</dd><dt>pretraining</dt><dd>0.999999999999092</dd><dt>distance:pretraining</dt><dd>0.999999840554521</dd><dt>unlocked</dt><dd>0.999923478982005</dd><dt>distance:unlocked</dt><dd>0.953270639009954</dd><dt>pretraining:unlocked</dt><dd>0.658840155987675</dd><dt>distance:pretraining:unlocked</dt><dd>0.317756832994253</dd></dl>\n"
      ],
      "text/latex": [
       "\\begin{description*}\n",
       "\\item[distance] 1\n",
       "\\item[pretraining] 0.999999999999092\n",
       "\\item[distance:pretraining] 0.999999840554521\n",
       "\\item[unlocked] 0.999923478982005\n",
       "\\item[distance:unlocked] 0.953270639009954\n",
       "\\item[pretraining:unlocked] 0.658840155987675\n",
       "\\item[distance:pretraining:unlocked] 0.317756832994253\n",
       "\\end{description*}\n"
      ],
      "text/markdown": [
       "distance\n",
       ":   1pretraining\n",
       ":   0.999999999999092distance:pretraining\n",
       ":   0.999999840554521unlocked\n",
       ":   0.999923478982005distance:unlocked\n",
       ":   0.953270639009954pretraining:unlocked\n",
       ":   0.658840155987675distance:pretraining:unlocked\n",
       ":   0.317756832994253\n",
       "\n"
      ],
      "text/plain": [
       "                     distance pretraining distance:pretraining unlocked\n",
       "Sum of weights:      1.00     1.00        1.00                 1.00    \n",
       "N containing models:   14       14           6                   14    \n",
       "                     distance:unlocked pretraining:unlocked\n",
       "Sum of weights:      0.95              0.66                \n",
       "N containing models:    6                 6                \n",
       "                     distance:pretraining:unlocked\n",
       "Sum of weights:      0.32                         \n",
       "N containing models:    1                         "
      ]
     },
     "metadata": {},
     "output_type": "display_data"
    }
   ],
   "source": [
    "sw(model_selection)"
   ]
  },
  {
   "cell_type": "code",
   "execution_count": 36,
   "metadata": {
    "vscode": {
     "languageId": "r"
    }
   },
   "outputs": [
    {
     "name": "stderr",
     "output_type": "stream",
     "text": [
      "fixed-effect model matrix is rank deficient so dropping 1 column / coefficient\n",
      "\n"
     ]
    },
    {
     "data": {
      "text/plain": [
       "Linear mixed model fit by REML ['lmerMod']\n",
       "Formula: \n",
       "adjusted_time ~ distance + pretraining + unlocked + distance:pretraining +  \n",
       "    distance:unlocked + pretraining:unlocked + (1 | fly) + (1 |      Date)\n",
       "   Data: data_clean\n",
       "\n",
       "REML criterion at convergence: 12520\n",
       "\n",
       "Scaled residuals: \n",
       "    Min      1Q  Median      3Q     Max \n",
       "-2.9675 -0.4848 -0.0290  0.4729  4.1826 \n",
       "\n",
       "Random effects:\n",
       " Groups   Name        Variance Std.Dev.\n",
       " fly      (Intercept) 2236313  1495.4  \n",
       " Date     (Intercept)   93525   305.8  \n",
       " Residual             1031233  1015.5  \n",
       "Number of obs: 733, groups:  fly, 147; Date, 14\n",
       "\n",
       "Fixed effects:\n",
       "                      Estimate Std. Error t value\n",
       "(Intercept)           1327.894    277.419   4.787\n",
       "distance                42.318      2.818  15.019\n",
       "pretrainingy          -395.013    387.482  -1.019\n",
       "unlockedy             -241.974    366.413  -0.660\n",
       "distance:pretrainingy  -21.341      3.981  -5.361\n",
       "distance:unlockedy       6.259      3.740   1.673\n",
       "\n",
       "Correlation of Fixed Effects:\n",
       "            (Intr) distnc prtrnn unlckd dstnc:p\n",
       "distance    -0.389                             \n",
       "pretrainngy -0.667  0.278                      \n",
       "unlockedy    0.005  0.002 -0.553               \n",
       "dstnc:prtrn  0.276 -0.708 -0.395  0.210        \n",
       "dstnc:nlckd  0.001  0.000  0.210 -0.384 -0.531 \n",
       "fit warnings:\n",
       "fixed-effect model matrix is rank deficient so dropping 1 column / coefficient"
      ]
     },
     "metadata": {},
     "output_type": "display_data"
    }
   ],
   "source": [
    "best_model <- lmer(adjusted_time ~ distance + pretraining + unlocked +\n",
    "    distance:pretraining + distance:unlocked + pretraining:unlocked +\n",
    "    (1 | fly) + (1 | Date), data=data_clean)\n",
    "\n",
    "summary(best_model)\n"
   ]
  },
  {
   "cell_type": "markdown",
   "metadata": {},
   "source": [
    "# Summary of the model:\n",
    "\n",
    "## Linear Mixed-Effects Model Analysis\n",
    "\n",
    "### Model Overview\n",
    "\n",
    "A linear mixed-effects model was fitted using the `lmer` function from the `lme4` package to analyze the adjusted time to reach each checkpoint. The model included fixed effects for distance, pretraining, unlocking, and their interactions, while accounting for random effects associated with individual flies and dates.\n",
    "\n",
    "**Model Formula:**\n",
    "$$\n",
    "\\text{adjusted\\_time} \\sim \\text{distance} + \\text{pretraining} + \\text{unlocked} + \\text{distance:pretraining} + \\text{distance:unlocked} + \\text{pretraining:unlocked} + (1 | \\text{fly}) + (1 | \\text{Date})\n",
    "$$\n",
    "\n",
    "### Model Fit\n",
    "\n",
    "- **REML Criterion at Convergence:** 12520\n",
    "\n",
    "### Residuals\n",
    "\n",
    "The scaled residuals were analyzed:\n",
    "- **Minimum:** -2.9675\n",
    "- **1st Quartile:** -0.4848\n",
    "- **Median:** -0.0290\n",
    "- **3rd Quartile:** 0.4729\n",
    "- **Maximum:** 4.1826\n",
    "\n",
    "### Random Effects\n",
    "\n",
    "The random effects structure indicated significant variability:\n",
    "\n",
    "| Groups | Name        | Variance | Std. Dev. |\n",
    "|--------|-------------|----------|-----------|\n",
    "| fly    | (Intercept) | 2,236,313| 1495.4    |\n",
    "| Date   | (Intercept) | 93,525   | 305.8     |\n",
    "| Residual             | 1,031,233| 1015.5    |\n",
    "\n",
    "- **Number of Observations:** 733\n",
    "- **Groups:** \n",
    "  - Flies: 147\n",
    "  - Dates: 14\n",
    "\n",
    "### Fixed Effects\n",
    "\n",
    "The fixed effects estimates are summarized below:\n",
    "\n",
    "| Predictor                  | Estimate   | Std. Error | t value |\n",
    "|----------------------------|------------|-------------|---------|\n",
    "| (Intercept)                | 1327.894   | 277.419     | 4.787   |\n",
    "| distance                   | 42.318     | 2.818       | 15.019  |\n",
    "| pretraining (y)           | -395.013   | 387.482     | -1.019  |\n",
    "| unlocked (y)               | -241.974   | 366.413     | -0.660  |\n",
    "| distance:pretraining (y)   | -21.341    | 3.981       | -5.361  |\n",
    "| distance:unlocked (y)      | 6.259      | 3.740       | 1.673   |\n",
    "\n",
    "### Correlation of Fixed Effects\n",
    "\n",
    "The correlation between fixed effects coefficients is as follows:\n",
    "\n",
    "| Predictor                  | distance   | pretraining (y) | unlocked (y) |\n",
    "|----------------------------|------------|------------------|--------------|\n",
    "| distance                   | -0.389     |                  |              |\n",
    "| pretraining (y)           | -0.667     | 0.278            |              |\n",
    "| unlocked (y)               | 0.005      | -0.553           |              |\n",
    "| distance:pretraining (y)   | 0.276      | -0.708           | -0.395       |\n",
    "| distance:unlocked (y)      | 0.001      | 0.210            | -0.384       |\n",
    "\n",
    "### Warnings\n",
    "\n",
    "A warning was issued indicating that the fixed-effect model matrix is rank deficient, resulting in the dropping of one column/coefficient.\n",
    "\n",
    "### Conclusion\n",
    "\n",
    "The analysis indicates that:\n",
    "- Distance significantly affects adjusted time.\n",
    "- The interaction between distance and pretraining is significant, suggesting that pretraining modifies the effect of distance on adjusted time.\n",
    "- The main effects of pretraining and unlocking alone are not statistically significant.\n",
    "- There is substantial variability in adjusted time attributed to differences between individual flies and dates.\n",
    "\n",
    "Further investigation may be warranted to address the rank deficiency and explore potential collinearity among predictors."
   ]
  }
 ],
 "metadata": {
  "kernelspec": {
   "display_name": "R",
   "language": "R",
   "name": "ir"
  },
  "language_info": {
   "codemirror_mode": "r",
   "file_extension": ".r",
   "mimetype": "text/x-r-source",
   "name": "R",
   "pygments_lexer": "r",
   "version": "4.4.2"
  }
 },
 "nbformat": 4,
 "nbformat_minor": 2
}
