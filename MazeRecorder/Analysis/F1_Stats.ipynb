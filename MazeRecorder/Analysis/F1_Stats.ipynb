{
 "cells": [
  {
   "cell_type": "code",
   "execution_count": null,
   "metadata": {
    "vscode": {
     "languageId": "r"
    }
   },
   "outputs": [],
   "source": [
    "# import the packages\n",
    "\n",
    "library(lme4)\n",
    "library(MuMIn)"
   ]
  },
  {
   "cell_type": "markdown",
   "metadata": {},
   "source": [
    "# Analysis on the Checkpoint data"
   ]
  },
  {
   "cell_type": "code",
   "execution_count": null,
   "metadata": {
    "vscode": {
     "languageId": "r"
    }
   },
   "outputs": [],
   "source": [
    "# Import the data\n",
    "data <- read.csv(\"/mnt/upramdya_data/MD/F1_Tracks/Datasets/241114_F1_Checkpoints.csv\")\n",
    "\n",
    "# Show the data\n",
    "head(data)"
   ]
  },
  {
   "cell_type": "code",
   "execution_count": null,
   "metadata": {
    "vscode": {
     "languageId": "r"
    }
   },
   "outputs": [],
   "source": [
    "# Get all columns\n",
    "colnames(data)"
   ]
  },
  {
   "cell_type": "code",
   "execution_count": null,
   "metadata": {
    "vscode": {
     "languageId": "r"
    }
   },
   "outputs": [],
   "source": [
    "# List variables to be used in the model\n",
    "vars <- c(\"adjusted_time\", \"pretraining\", \"unlocked\", \"distance\", \"fly\", \"Date\")\n",
    "\n",
    "# Remove the rows with missing values in the variables of interest\n",
    "data_clean <- data[complete.cases(data[vars]), ]\n",
    "\n",
    "# Check what was removed\n",
    "print(dim(data))\n",
    "print(dim(data_clean))\n",
    "\n",
    "# Remove all columns that are not in the vars list\n",
    "data_clean <- data_clean[vars]\n",
    "\n",
    "# Check the structure of the cleaned data\n",
    "str(data_clean)\n"
   ]
  },
  {
   "cell_type": "code",
   "execution_count": null,
   "metadata": {
    "vscode": {
     "languageId": "r"
    }
   },
   "outputs": [],
   "source": [
    "sapply(data_clean, function(x) sum(is.na(x)))"
   ]
  },
  {
   "cell_type": "code",
   "execution_count": null,
   "metadata": {
    "vscode": {
     "languageId": "r"
    }
   },
   "outputs": [],
   "source": [
    "# Now run a linear mixed effects model to see if the adjusted time to reach each checkpoint is significantly different between the conditions, with important variables being: pretraining, unlocked, distance, success_direction and random effects being fly\n",
    "\n",
    "\n",
    "model <- lmer(adjusted_time ~ pretraining * unlocked * distance + (1|fly) + (1|Date), \n",
    "              data = data_clean, \n",
    "              na.action = na.fail)\n",
    "\n",
    "summary(model)"
   ]
  },
  {
   "cell_type": "markdown",
   "metadata": {},
   "source": []
  },
  {
   "cell_type": "code",
   "execution_count": null,
   "metadata": {
    "vscode": {
     "languageId": "r"
    }
   },
   "outputs": [],
   "source": [
    "model_selection <- dredge(model)\n",
    "\n",
    "summary(model_selection)"
   ]
  },
  {
   "cell_type": "code",
   "execution_count": null,
   "metadata": {
    "vscode": {
     "languageId": "r"
    }
   },
   "outputs": [],
   "source": [
    "top_models <- get.models(model_selection, subset = delta < 2)\n",
    "model.avg(top_models)\n"
   ]
  },
  {
   "cell_type": "code",
   "execution_count": null,
   "metadata": {
    "vscode": {
     "languageId": "r"
    }
   },
   "outputs": [],
   "source": [
    "sw(model_selection)"
   ]
  },
  {
   "cell_type": "code",
   "execution_count": null,
   "metadata": {
    "vscode": {
     "languageId": "r"
    }
   },
   "outputs": [],
   "source": [
    "best_model <- lmer(adjusted_time ~ distance + pretraining + unlocked +\n",
    "    distance:pretraining + distance:unlocked + pretraining:unlocked +\n",
    "    (1 | fly) + (1 | Date), data=data_clean)\n",
    "\n",
    "summary(best_model)\n"
   ]
  },
  {
   "cell_type": "markdown",
   "metadata": {},
   "source": [
    "# Summary of the model:\n",
    "\n",
    "## Linear Mixed-Effects Model Analysis\n",
    "\n",
    "### Model Overview\n",
    "\n",
    "A linear mixed-effects model was fitted using the `lmer` function from the `lme4` package to analyze the adjusted time to reach each checkpoint. The model included fixed effects for distance, pretraining, unlocking, and their interactions, while accounting for random effects associated with individual flies and dates.\n",
    "\n",
    "**Model Formula:**\n",
    "$$\n",
    "\\text{adjusted\\_time} \\sim \\text{distance} + \\text{pretraining} + \\text{unlocked} + \\text{distance:pretraining} + \\text{distance:unlocked} + \\text{pretraining:unlocked} + (1 | \\text{fly}) + (1 | \\text{Date})\n",
    "$$\n",
    "\n",
    "### Model Fit\n",
    "\n",
    "- **REML Criterion at Convergence:** 12520\n",
    "\n",
    "### Residuals\n",
    "\n",
    "The scaled residuals were analyzed:\n",
    "- **Minimum:** -2.9675\n",
    "- **1st Quartile:** -0.4848\n",
    "- **Median:** -0.0290\n",
    "- **3rd Quartile:** 0.4729\n",
    "- **Maximum:** 4.1826\n",
    "\n",
    "### Random Effects\n",
    "\n",
    "The random effects structure indicated significant variability:\n",
    "\n",
    "| Groups | Name        | Variance | Std. Dev. |\n",
    "|--------|-------------|----------|-----------|\n",
    "| fly    | (Intercept) | 2,236,313| 1495.4    |\n",
    "| Date   | (Intercept) | 93,525   | 305.8     |\n",
    "| Residual             | 1,031,233| 1015.5    |\n",
    "\n",
    "- **Number of Observations:** 733\n",
    "- **Groups:** \n",
    "  - Flies: 147\n",
    "  - Dates: 14\n",
    "\n",
    "### Fixed Effects\n",
    "\n",
    "The fixed effects estimates are summarized below:\n",
    "\n",
    "| Predictor                  | Estimate   | Std. Error | t value |\n",
    "|----------------------------|------------|-------------|---------|\n",
    "| (Intercept)                | 1327.894   | 277.419     | 4.787   |\n",
    "| distance                   | 42.318     | 2.818       | 15.019  |\n",
    "| pretraining (y)           | -395.013   | 387.482     | -1.019  |\n",
    "| unlocked (y)               | -241.974   | 366.413     | -0.660  |\n",
    "| distance:pretraining (y)   | -21.341    | 3.981       | -5.361  |\n",
    "| distance:unlocked (y)      | 6.259      | 3.740       | 1.673   |\n",
    "\n",
    "### Correlation of Fixed Effects\n",
    "\n",
    "The correlation between fixed effects coefficients is as follows:\n",
    "\n",
    "| Predictor                  | distance   | pretraining (y) | unlocked (y) |\n",
    "|----------------------------|------------|------------------|--------------|\n",
    "| distance                   | -0.389     |                  |              |\n",
    "| pretraining (y)           | -0.667     | 0.278            |              |\n",
    "| unlocked (y)               | 0.005      | -0.553           |              |\n",
    "| distance:pretraining (y)   | 0.276      | -0.708           | -0.395       |\n",
    "| distance:unlocked (y)      | 0.001      | 0.210            | -0.384       |\n",
    "\n",
    "### Warnings\n",
    "\n",
    "A warning was issued indicating that the fixed-effect model matrix is rank deficient, resulting in the dropping of one column/coefficient.\n",
    "\n",
    "### Conclusion\n",
    "\n",
    "The analysis indicates that:\n",
    "- Distance significantly affects adjusted time.\n",
    "- The interaction between distance and pretraining is significant, suggesting that pretraining modifies the effect of distance on adjusted time.\n",
    "- The main effects of pretraining and unlocking alone are not statistically significant.\n",
    "- There is substantial variability in adjusted time attributed to differences between individual flies and dates.\n",
    "\n",
    "Further investigation may be warranted to address the rank deficiency and explore potential collinearity among predictors."
   ]
  }
 ],
 "metadata": {
  "kernelspec": {
   "display_name": "R",
   "language": "R",
   "name": "ir"
  },
  "language_info": {
   "codemirror_mode": "r",
   "file_extension": ".r",
   "mimetype": "text/x-r-source",
   "name": "R",
   "pygments_lexer": "r",
   "version": "4.4.2"
  }
 },
 "nbformat": 4,
 "nbformat_minor": 2
}
