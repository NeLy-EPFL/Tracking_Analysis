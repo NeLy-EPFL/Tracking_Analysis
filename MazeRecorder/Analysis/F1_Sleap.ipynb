{
 "cells": [
  {
   "cell_type": "code",
   "execution_count": null,
   "metadata": {},
   "outputs": [],
   "source": [
    "from utils_behavior import Sleap_utils\n",
    "import importlib\n",
    "\n",
    "from pathlib import Path\n",
    "\n",
    "from matplotlib import pyplot as plt\n",
    "\n",
    "import pandas as pd\n",
    "\n",
    "import numpy as np\n",
    "import h5py\n"
   ]
  },
  {
   "cell_type": "markdown",
   "metadata": {},
   "source": [
    "# Working on one dataset to setup the metrics"
   ]
  },
  {
   "cell_type": "code",
   "execution_count": null,
   "metadata": {},
   "outputs": [],
   "source": [
    "importlib.reload(Sleap_utils)"
   ]
  },
  {
   "cell_type": "code",
   "execution_count": null,
   "metadata": {},
   "outputs": [],
   "source": [
    "data_path = Path(\"/mnt/upramdya_data/MD/F1_Tracks/Videos/240924_F1_3mm_ends_Videos_Checked/arena4/Right\")\n",
    "video = list(data_path.glob(\"*.mp4\"))[0]\n",
    "ball = list(data_path.glob(\"*ball*.h5\"))[0]\n",
    "fly = list(data_path.glob(\"*fly*.h5\"))[0]\n",
    "\n",
    "balltracks = Sleap_utils.Sleap_Tracks(ball, object_type=\"ball\")\n",
    "flytracks = Sleap_utils.Sleap_Tracks(fly, object_type=\"fly\")\n",
    "\n",
    "Experiment = Sleap_utils.CombinedSleapTracks(video, [flytracks, balltracks])\n",
    "\n",
    "Experiment.dataset"
   ]
  },
  {
   "cell_type": "markdown",
   "metadata": {},
   "source": [
    "## Find when the fly exits the first corridor\n",
    "\n",
    "This corresponds to having its x position atleast 100 px away from the start"
   ]
  },
  {
   "cell_type": "code",
   "execution_count": null,
   "metadata": {},
   "outputs": [],
   "source": [
    "# Get the data for object fly_1\n",
    "fly1 = Experiment.dataset[Experiment.dataset[\"object\"] == \"fly_1\"]\n",
    "\n",
    "# Find the first frame where fly_1 x_thorax is > its initial value + 100 px\n",
    "\n",
    "fly1[fly1[\"x_thorax\"] > fly1[\"x_thorax\"].iloc[0] + 100].iloc[0]"
   ]
  },
  {
   "cell_type": "code",
   "execution_count": null,
   "metadata": {},
   "outputs": [],
   "source": [
    "# Display the frame corresponding to the above row\n",
    "\n",
    "Exit_frame = Experiment.sleap_tracks_list[0].generate_annotated_frame(77816)\n",
    "\n",
    "plt.imshow(Exit_frame)"
   ]
  },
  {
   "cell_type": "markdown",
   "metadata": {},
   "source": [
    "## Finding when the second ball is moved\n",
    "\n",
    "For this one I'm gonna find out when the ball has been displaced 25 px, 50 px, 75 px and 100 px"
   ]
  },
  {
   "cell_type": "code",
   "execution_count": null,
   "metadata": {},
   "outputs": [],
   "source": [
    "ball2 = Experiment.dataset[Experiment.dataset[\"object\"] == \"ball_2\"]\n",
    "\n",
    "# Initial y_centre value\n",
    "initial_y_centre = ball2[\"y_centre\"].iloc[0]\n",
    "\n",
    "# Define the distances to check\n",
    "distances = [25, 50, 75, 100]\n",
    "\n",
    "# Find the first row where ball_2 y_centre is greater than 25, 50, 75, and 100 px away from its initial value\n",
    "for distance in distances:\n",
    "    filtered_ball2 = ball2[abs(ball2[\"y_centre\"] - initial_y_centre) > distance]\n",
    "    if not filtered_ball2.empty:\n",
    "        print(f\"Ball reached {distance} px distance:\")\n",
    "        print(filtered_ball2.iloc[0][\"time\"])\n",
    "    else:\n",
    "        print(f\"No row found where y_centre is greater than {distance} px away from initial value.\")\n"
   ]
  },
  {
   "cell_type": "code",
   "execution_count": null,
   "metadata": {},
   "outputs": [],
   "source": [
    "# This fly apparently never moved the ball. Let's check the last frame to see if the ball is still there\n",
    "last_frame = Experiment.sleap_tracks_list[1].generate_annotated_frame(Experiment.sleap_tracks_list[1].total_frames - 1)\n",
    "\n",
    "plt.imshow(last_frame)"
   ]
  },
  {
   "cell_type": "code",
   "execution_count": null,
   "metadata": {},
   "outputs": [],
   "source": [
    "# CHeck the range of values of the ball_2 y_centre\n",
    "ball2[\"y_centre\"].min(), ball2[\"y_centre\"].max()"
   ]
  },
  {
   "cell_type": "markdown",
   "metadata": {},
   "source": [
    "# Applying to whole dataset"
   ]
  },
  {
   "cell_type": "code",
   "execution_count": null,
   "metadata": {},
   "outputs": [],
   "source": [
    "# Get all the directories that contain the videos\n",
    "data_path = Path(\"/mnt/upramdya_data/MD/F1_Tracks/Videos/\")\n",
    "\n",
    "# Get all the directories that contain mp4 files\n",
    "video_paths = list(data_path.glob(\"**/*.mp4\"))\n",
    "\n",
    "# Initialize a list to store results\n",
    "results = []\n",
    "\n",
    "# Define the distances to check for ball movement\n",
    "distances = [25, 50, 75, 100]\n",
    "\n",
    "\n",
    "# Process each video folder\n",
    "for video_path in video_paths:\n",
    "    video_name = video_path.stem\n",
    "    fly_files = list(video_path.parent.glob(\"*fly*.h5\"))\n",
    "    print(f\"fly_files: {fly_files}\")\n",
    "    ball_files = list(video_path.parent.glob(\"*ball*.h5\"))\n",
    "    \n",
    "    print(f\"ball_files: {ball_files}\")\n",
    "    \n",
    "    if not fly_files or not ball_files:\n",
    "        print(f\"Missing fly or ball file for {video_name}\")\n",
    "        continue\n",
    "    \n",
    "    fly = fly_files[0]\n",
    "    ball = ball_files[0]\n",
    "    \n",
    "    # Check if the files are valid HDF5 files\n",
    "    try:\n",
    "        with h5py.File(fly, \"r\") as f:\n",
    "            pass\n",
    "        with h5py.File(ball, \"r\") as b:\n",
    "            pass\n",
    "    except OSError as e:\n",
    "        print(f\"Error opening file for {video_name}: {e}\")\n",
    "        # Skip this video\n",
    "        continue\n",
    "    \n",
    "    flytracks = Sleap_utils.Sleap_Tracks(fly, object_type=\"fly\")\n",
    "    balltracks = Sleap_utils.Sleap_Tracks(ball, object_type=\"ball\")\n",
    "    \n",
    "    Experiment = Sleap_utils.CombinedSleapTracks(video_path, [flytracks, balltracks])\n",
    "    \n",
    "    # Process fly data\n",
    "    fly1 = Experiment.dataset[Experiment.dataset[\"object\"] == \"fly_1\"]\n",
    "    fly_exit_condition = fly1[\"x_thorax\"] > fly1[\"x_thorax\"].iloc[0] + 100\n",
    "    if not fly_exit_condition.any():\n",
    "        print(f\"No exit frame found for fly_1 in {video_name}\")\n",
    "        fly_exit_frame = np.nan\n",
    "        fly_exit_time = np.nan\n",
    "    else:\n",
    "        fly_exit_frame = fly1[fly_exit_condition].iloc[0][\"frame\"]\n",
    "        fly_exit_time = fly1[fly_exit_condition].iloc[0][\"time\"]\n",
    "    \n",
    "    # Determine which ball object to use and the condition\n",
    "    if \"ball_2\" in Experiment.dataset[\"object\"].values:\n",
    "        ball_object = \"ball_2\"\n",
    "        condition = \"Pretrained\"\n",
    "    else:\n",
    "        ball_object = \"ball_1\"\n",
    "        condition = \"Control\"\n",
    "    \n",
    "    # Process ball data\n",
    "    ball_data = Experiment.dataset[Experiment.dataset[\"object\"] == ball_object]\n",
    "    initial_y_centre = ball_data[\"y_centre\"].iloc[0]\n",
    "    \n",
    "    ball_movement_times = {}\n",
    "    adjusted_ball_movement_times = {}\n",
    "    for distance in distances:\n",
    "        filtered_ball_data = ball_data[abs(ball_data[\"y_centre\"] - initial_y_centre) > distance]\n",
    "        if not filtered_ball_data.empty:\n",
    "            ball_movement_time = filtered_ball_data.iloc[0][\"time\"]\n",
    "            ball_movement_times[distance] = ball_movement_time\n",
    "            if pd.notna(fly_exit_time):\n",
    "                adjusted_ball_movement_times[distance] = ball_movement_time - fly_exit_time\n",
    "            else:\n",
    "                adjusted_ball_movement_times[distance] = np.nan\n",
    "        else:\n",
    "            ball_movement_times[distance] = np.nan\n",
    "            adjusted_ball_movement_times[distance] = np.nan\n",
    "    \n",
    "    # Append the results\n",
    "    result = {\n",
    "        \"video_name\": str(video_path.relative_to(data_path)),\n",
    "        \"condition\": condition,\n",
    "        \"fly_exit_time\": fly_exit_time,\n",
    "        **{f\"ball_movement_{distance}px\": ball_movement_times[distance] for distance in distances},\n",
    "        **{f\"adjusted_ball_movement_{distance}px\": adjusted_ball_movement_times[distance] for distance in distances}\n",
    "    }\n",
    "    results.append(result)\n",
    "    \n",
    "    print(f\"Processed {video_name}\")\n",
    "\n",
    "# Convert results to DataFrame\n",
    "results_df = pd.DataFrame(results)\n",
    "\n",
    "# Save results to a CSV file\n",
    "#results_df.to_csv(\"experiment_results.csv\", index=False)\n",
    "\n",
    "# Display the results\n",
    "print(\"Experiment Results:\")\n",
    "results_df.head()"
   ]
  },
  {
   "cell_type": "code",
   "execution_count": null,
   "metadata": {},
   "outputs": [],
   "source": [
    "import pandas as pd\n",
    "import holoviews as hv\n",
    "from holoviews import opts\n",
    "hv.extension('bokeh')\n",
    "\n",
    "# Assuming results_df is your DataFrame with the necessary columns\n",
    "# Convert the DataFrame to long format for easier plotting with Holoviews\n",
    "long_df = pd.melt(results_df, id_vars=['video_name', 'condition', 'fly_exit_time'],\n",
    "                  value_vars=[f'adjusted_ball_movement_{distance}px' for distance in [25, 50, 75, 100]],\n",
    "                  var_name='distance', value_name='adjusted_time')\n",
    "\n",
    "# Extract the distance value from the variable name\n",
    "long_df['distance'] = long_df['distance'].str.extract('(\\d+)').astype(int)\n",
    "\n",
    "# Create the boxplots\n",
    "boxplots = hv.BoxWhisker(long_df, ['distance', 'condition'], 'adjusted_time')\n",
    "\n",
    "# Customize the plot\n",
    "boxplots.opts(\n",
    "    opts.BoxWhisker(width=800, height=400, box_fill_color=hv.Cycle('Category20'), \n",
    "                    whisker_color='black', show_legend=True, legend_position='top_right',\n",
    "                    xlabel='Distance (px)', ylabel='Adjusted Time', title='Adjusted Time to Move Ball by Distance')\n",
    ")\n",
    "\n",
    "# Display the plot\n",
    "#hv.save(boxplots, 'boxplots.html')\n",
    "boxplots"
   ]
  },
  {
   "cell_type": "code",
   "execution_count": null,
   "metadata": {},
   "outputs": [],
   "source": [
    "# Count how many videos have control\n",
    "results_df[\"condition\"].value_counts()"
   ]
  },
  {
   "cell_type": "code",
   "execution_count": null,
   "metadata": {},
   "outputs": [],
   "source": []
  }
 ],
 "metadata": {
  "kernelspec": {
   "display_name": "tracking_analysis",
   "language": "python",
   "name": "python3"
  },
  "language_info": {
   "codemirror_mode": {
    "name": "ipython",
    "version": 3
   },
   "file_extension": ".py",
   "mimetype": "text/x-python",
   "name": "python",
   "nbconvert_exporter": "python",
   "pygments_lexer": "ipython3",
   "version": "3.12.6"
  }
 },
 "nbformat": 4,
 "nbformat_minor": 2
}
