{
 "cells": [
  {
   "cell_type": "code",
   "execution_count": null,
   "metadata": {},
   "outputs": [],
   "source": [
    "from pathlib import Path\n",
    "import json\n",
    "import pyarrow\n",
    "import math\n",
    "import re\n",
    "import os\n",
    "\n",
    "import pandas as pd\n",
    "import numpy as np\n",
    "import matplotlib.pyplot as plt\n",
    "import seaborn as sns\n",
    "import h5py\n",
    "\n",
    "from scipy.stats import gaussian_kde\n",
    "from scipy.ndimage import label\n",
    "from sklearn.cluster import DBSCAN\n",
    "from sklearn.neighbors import NearestNeighbors\n",
    "from sklearn.preprocessing import StandardScaler\n",
    "from sklearn.decomposition import PCA\n",
    "\n",
    "import holoviews as hv\n",
    "from holoviews import opts\n",
    "\n",
    "import traceback\n",
    "\n",
    "\n",
    "hv.extension(\"bokeh\")\n",
    "\n",
    "from shiny import App, Inputs, Outputs, Session, reactive, render, req, ui\n",
    "\n",
    "from utils_behavior import (\n",
    "    Sleap_utils,\n",
    "    HoloviewsTemplates,\n",
    "    Utils,\n",
    "    Processing,\n",
    "    Ballpushing_utils,\n",
    "    Seaborn_Templates,\n",
    ")\n",
    "\n",
    "import Config\n",
    "\n",
    "import importlib"
   ]
  },
  {
   "cell_type": "code",
   "execution_count": null,
   "metadata": {},
   "outputs": [],
   "source": [
    "importlib.reload(Config)"
   ]
  },
  {
   "cell_type": "code",
   "execution_count": null,
   "metadata": {},
   "outputs": [],
   "source": [
    "BallTrajectories = pd.read_feather(\n",
    "    \"/mnt/upramdya_data/MD/MultiMazeRecorder/Datasets/Coordinates/240110_coordinates_Data/coordinates/250106_Pooled_coordinates.feather\"\n",
    ")"
   ]
  },
  {
   "cell_type": "code",
   "execution_count": null,
   "metadata": {},
   "outputs": [],
   "source": [
    "importlib.reload(Config)"
   ]
  },
  {
   "cell_type": "code",
   "execution_count": null,
   "metadata": {},
   "outputs": [],
   "source": [
    "BallTrajectories = Config.cleanup_data(BallTrajectories)\n",
    "\n",
    "BallTrajectories = Config.map_split_registry(BallTrajectories)\n",
    "\n",
    "BallTrajectories"
   ]
  },
  {
   "cell_type": "markdown",
   "metadata": {},
   "source": [
    "# Plot one particular Nickname"
   ]
  },
  {
   "cell_type": "code",
   "execution_count": null,
   "metadata": {},
   "outputs": [],
   "source": [
    "MBON08 = BallTrajectories[BallTrajectories[\"Genotype\"] == \"TNTxG87\"]"
   ]
  },
  {
   "cell_type": "code",
   "execution_count": null,
   "metadata": {},
   "outputs": [],
   "source": [
    "MBON08[\"fly\"].unique()"
   ]
  },
  {
   "cell_type": "code",
   "execution_count": null,
   "metadata": {},
   "outputs": [],
   "source": [
    "importlib.reload(Config)"
   ]
  },
  {
   "cell_type": "code",
   "execution_count": null,
   "metadata": {},
   "outputs": [],
   "source": [
    "subset = Config.get_subset_data(BallTrajectories,\"Nickname\", \"SS54549 (P-F3-5R patch line)\")\n",
    "\n",
    "subset"
   ]
  },
  {
   "cell_type": "code",
   "execution_count": null,
   "metadata": {},
   "outputs": [],
   "source": [
    "subset.groupby(\"Nickname\").apply(lambda x: x[\"fly\"].nunique())"
   ]
  },
  {
   "cell_type": "code",
   "execution_count": null,
   "metadata": {},
   "outputs": [],
   "source": [
    "# Check the distribution of frame values grouped by Nickname\n",
    "\n",
    "subset.groupby(\"Nickname\")[\"frame\"].describe()"
   ]
  },
  {
   "cell_type": "code",
   "execution_count": null,
   "metadata": {},
   "outputs": [],
   "source": [
    "# Check how many unique \"fly \" values I have grouped by Nickname\n",
    "\n",
    "subset.groupby(\"Nickname\").apply(lambda x: x[\"fly\"].nunique())"
   ]
  },
  {
   "cell_type": "code",
   "execution_count": null,
   "metadata": {},
   "outputs": [],
   "source": [
    "importlib.reload(Processing)"
   ]
  },
  {
   "cell_type": "code",
   "execution_count": null,
   "metadata": {},
   "outputs": [],
   "source": [
    "# Apply some lowpass filtering to distance_ball_0 grouped by fly\n",
    "\n",
    "for fly in subset[\"fly\"].unique():\n",
    "    subset.loc[subset[\"fly\"] == fly, \"distance_ball_0_filtered\"] = Processing.savgol_lowpass_filter(\n",
    "        subset.loc[subset[\"fly\"] == fly, \"distance_ball_0\"], 22\n",
    "    )"
   ]
  },
  {
   "cell_type": "code",
   "execution_count": null,
   "metadata": {},
   "outputs": [],
   "source": [
    "subset"
   ]
  },
  {
   "cell_type": "code",
   "execution_count": null,
   "metadata": {},
   "outputs": [],
   "source": [
    "# Plot distance_ball_0 as function of time hue by Brain region\n",
    "\n",
    "plt.figure(figsize=(10, 6))\n",
    "\n",
    "sns.lineplot(\n",
    "    data=subset,\n",
    "    x=\"time\",\n",
    "    y=\"distance_ball_0\",\n",
    "    hue=\"Brain region\",\n",
    "    ci=None,\n",
    "    palette=Config.color_dict,\n",
    ")\n",
    "\n",
    "plt.legend(bbox_to_anchor=(1.05, 1), loc=2, borderaxespad=0.0)\n",
    "\n",
    "plt.show()"
   ]
  },
  {
   "cell_type": "code",
   "execution_count": null,
   "metadata": {},
   "outputs": [],
   "source": [
    "# Plot only one nickname but plot each individual fly separately\n",
    "\n",
    "plt.figure(figsize=(10, 6))\n",
    "\n",
    "sns.lineplot(\n",
    "    data=subset[subset[\"Nickname\"] == \"MBON-08-GaL4  MBON-09-GaL4 \"],\n",
    "    x=\"time\",\n",
    "    y=\"distance_ball_0\",\n",
    "    hue=\"fly\",\n",
    "    ci=None,\n",
    ")\n",
    "\n",
    "plt.legend(bbox_to_anchor=(1.05, 1), loc=2, borderaxespad=0.0)\n",
    "\n",
    "plt.show()"
   ]
  },
  {
   "cell_type": "markdown",
   "metadata": {},
   "source": [
    "# Plot all nicknames groupes by brain region"
   ]
  },
  {
   "cell_type": "code",
   "execution_count": null,
   "metadata": {},
   "outputs": [],
   "source": [
    "importlib.reload(Config)\n",
    "importlib.reload(Processing)"
   ]
  },
  {
   "cell_type": "code",
   "execution_count": null,
   "metadata": {},
   "outputs": [],
   "source": [
    "# Initialize random generator\n",
    "rg = np.random.default_rng()\n",
    "\n",
    "output_dir = Path(\"/mnt/upramdya_data/MD/MultiMazeRecorder/Plots/250130_Coordinates_Downsampled_Signif_2/\")\n",
    "\n",
    "# If output directory does not exist, create it\n",
    "\n",
    "output_dir.mkdir(parents=True, exist_ok=True)\n",
    "\n",
    "# Process brain regions\n",
    "miscellaneous_nicknames = []\n",
    "for brain_region in Config.registries[\"brain_regions\"]:\n",
    "    output_path = output_dir / f\"Full_euclidean_distance_coordinates_line_{brain_region}.png\"\n",
    "    \n",
    "    if os.path.exists(output_path):\n",
    "        print(f\"Skipping Brain region {brain_region} as the plot already exists.\")\n",
    "        continue\n",
    "    \n",
    "    region_data = BallTrajectories[BallTrajectories['Brain region'] == brain_region]\n",
    "    nicknames = region_data['Nickname'].unique()\n",
    "    \n",
    "    if len(nicknames) < 5 and brain_region != \"Control\":\n",
    "        miscellaneous_nicknames.extend(nicknames)\n",
    "        continue\n",
    "    \n",
    "    if brain_region != \"Control\":\n",
    "        try:\n",
    "            Config.create_and_save_plot(BallTrajectories, nicknames, brain_region, output_path, Config.registries, show_signif=True)\n",
    "            print(f\"Processed Brain region {brain_region}\")\n",
    "        except Exception as e:\n",
    "            print(f\"Error processing Brain region {brain_region}: {e}\")\n",
    "            traceback.print_exc()\n",
    "\n",
    "# Process Miscellaneous brain region\n",
    "if miscellaneous_nicknames:\n",
    "    try:\n",
    "        output_path = output_dir / \"Full_euclidean_distance_coordinates_line_Miscellaneous.png\"\n",
    "        Config.create_and_save_plot(BallTrajectories, miscellaneous_nicknames, \"Miscellaneous\", output_path, Config.registries, show_signif=True)\n",
    "        print(\"Processed Miscellaneous Brain region\")\n",
    "    except Exception as e:\n",
    "        print(f\"Error processing Miscellaneous Brain region: {e}\")\n",
    "        traceback.print_exc()\n",
    "\n",
    "# Plot the Control brain region\n",
    "try:\n",
    "    control_nicknames = Config.registries[\"control_nicknames\"]\n",
    "    output_path = output_dir / \"Full_euclidean_distance_coordinates_line_Control.png\"\n",
    "    Config.create_control_plot(BallTrajectories, control_nicknames, output_path)\n",
    "    print(\"Processed Control Brain region\")\n",
    "except Exception as e:\n",
    "    print(f\"Error processing Control Brain region: {e}\")\n",
    "    traceback.print_exc()"
   ]
  },
  {
   "cell_type": "markdown",
   "metadata": {},
   "source": [
    "# Load data from individual datasets"
   ]
  },
  {
   "cell_type": "code",
   "execution_count": null,
   "metadata": {},
   "outputs": [],
   "source": [
    "importlib.reload(Config)"
   ]
  },
  {
   "cell_type": "code",
   "execution_count": null,
   "metadata": {},
   "outputs": [],
   "source": [
    "# Process brain regions\n",
    "\n",
    "registries = Config.registries\n",
    "data_path = Path(\"/mnt/upramdya_data/MD/MultiMazeRecorder/Datasets/Skeleton_TNT/240120_short_contacts_no_cutoff_no_downsample_Data/coordinates_regions\")\n",
    "miscellaneous_nicknames = []\n",
    "for brain_region in registries[\"brain_regions\"]:\n",
    "    \n",
    "    if brain_region != \"Control\":\n",
    "        output_path = f\"/mnt/upramdya_data/MD/MultiMazeRecorder/Plots/250122_Coordinates_full/Full_euclidean_distance_coordinates_line_{brain_region}.png\"\n",
    "    \n",
    "        if os.path.exists(output_path):\n",
    "            print(f\"Skipping Brain region {brain_region} as the plot already exists.\")\n",
    "            continue\n",
    "        \n",
    "        BallTrajectories = Config.load_datasets_for_brain_region(brain_region, data_path, registries, downsample_factor=10)\n",
    "        \n",
    "        region_data = BallTrajectories[BallTrajectories['Brain region'] != \"Control\"]\n",
    "        nicknames = region_data['Nickname'].unique()\n",
    "        \n",
    "        if len(nicknames) < 5 and brain_region != \"Control\":\n",
    "            miscellaneous_nicknames.extend(nicknames)\n",
    "            continue\n",
    "        try:\n",
    "            Config.create_and_save_plot(region_data, nicknames, brain_region, output_path, registries, show_signif=True)\n",
    "            print(f\"Processed Brain region {brain_region}\")\n",
    "        except Exception as e:\n",
    "            print(f\"Error processing Brain region {brain_region}: {e}\")\n",
    "            \n",
    "    else:\n",
    "        output_path = \"/mnt/upramdya_data/MD/MultiMazeRecorder/Plots/250120_coordinates/Full_euclidean_distance_coordinates_line_Control.png\"\n",
    "        \n",
    "        if os.path.exists(output_path):\n",
    "            \n",
    "            print(f\"Skipping Control Brain region as the plot already exists.\")\n",
    "            continue\n",
    "        \n",
    "        BallTrajectories = Config.load_datasets_for_brain_region(brain_region, data_path, registries, downsample_factor=10)\n",
    "\n",
    "\n",
    "        nicknames = region_data['Nickname'].unique()\n",
    "        \n",
    "        # Plot the Control brain region\n",
    "        try:\n",
    "            control_nicknames = registries[\"control_nicknames\"]\n",
    "            \n",
    "            Config.create_control_plot(region_data, control_nicknames, output_path)\n",
    "            print(\"Processed Control Brain region\")\n",
    "        except Exception as e:\n",
    "            print(f\"Error processing Control Brain region: {e}\")\n",
    "\n",
    "# Process Miscellaneous brain region\n",
    "if miscellaneous_nicknames:\n",
    "    try:\n",
    "        output_path = \"/mnt/upramdya_data/MD/MultiMazeRecorder/Plots/250120_coordinates/Full_euclidean_distance_coordinates_line_Miscellaneous.png\"\n",
    "        Config.create_and_save_plot(region_data, miscellaneous_nicknames, \"Miscellaneous\", output_path, registries, show_signif=True)\n",
    "        print(\"Processed Miscellaneous Brain region\")\n",
    "    except Exception as e:\n",
    "        print(f\"Error processing Miscellaneous Brain region: {e}\")\n",
    "\n"
   ]
  },
  {
   "cell_type": "code",
   "execution_count": null,
   "metadata": {},
   "outputs": [],
   "source": []
  },
  {
   "cell_type": "markdown",
   "metadata": {},
   "source": [
    "# Permutation test"
   ]
  },
  {
   "cell_type": "code",
   "execution_count": null,
   "metadata": {},
   "outputs": [],
   "source": [
    "CX = pd.read_feather(\"/mnt/upramdya_data/MD/MultiMazeRecorder/Datasets/Skeleton_TNT/240120_short_contacts_no_cutoff_no_downsample_Data/coordinates_regions/CX.feather\")"
   ]
  },
  {
   "cell_type": "code",
   "execution_count": null,
   "metadata": {},
   "outputs": [],
   "source": [
    "control = pd.read_feather(\"/mnt/upramdya_data/MD/MultiMazeRecorder/Datasets/Skeleton_TNT/240120_short_contacts_no_cutoff_no_downsample_Data/coordinates_regions/Control.feather\")"
   ]
  },
  {
   "cell_type": "code",
   "execution_count": null,
   "metadata": {},
   "outputs": [],
   "source": [
    "CX_ctrl = pd.concat([CX, control], ignore_index=True)"
   ]
  },
  {
   "cell_type": "code",
   "execution_count": null,
   "metadata": {},
   "outputs": [],
   "source": [
    "# Pick a random subset\n",
    "\n",
    "Test = Config.get_subset_data(CX_ctrl, \"Nickname\", \"random\")"
   ]
  },
  {
   "cell_type": "code",
   "execution_count": null,
   "metadata": {},
   "outputs": [],
   "source": [
    "Test.head()"
   ]
  },
  {
   "cell_type": "code",
   "execution_count": null,
   "metadata": {},
   "outputs": [],
   "source": [
    "# Split the data by Nickname\n",
    "\n",
    "Focal = Test[Test[\"Brain region\"] != \"Control\"]\n",
    "\n",
    "Control = Test[Test[\"Brain region\"] == \"Control\"]"
   ]
  },
  {
   "cell_type": "code",
   "execution_count": null,
   "metadata": {},
   "outputs": [],
   "source": [
    "# Make the average distance_ball_0 grouped by time\n",
    "\n",
    "Focal_avg = Focal[\"distance_ball_0\"].groupby(Focal[\"time\"]).mean()\n",
    "\n",
    "Ctrl_avg = Control[\"distance_ball_0\"].groupby(Control[\"time\"]).mean()"
   ]
  },
  {
   "cell_type": "code",
   "execution_count": null,
   "metadata": {},
   "outputs": [],
   "source": [
    "# Set the column \"time\" as index\n",
    "\n",
    "Focal_avg = Focal_avg.reset_index()\n",
    "\n",
    "Ctrl_avg = Ctrl_avg.reset_index()"
   ]
  },
  {
   "cell_type": "code",
   "execution_count": null,
   "metadata": {},
   "outputs": [],
   "source": [
    "# Step 2: Ensure both DataFrames have the same index (time points)\n",
    "common_index = Focal_avg.index.intersection(Ctrl_avg.index)\n",
    "Focal_avg = Focal_avg.loc[common_index]\n",
    "Ctrl_avg = Ctrl_avg.loc[common_index]"
   ]
  },
  {
   "cell_type": "code",
   "execution_count": null,
   "metadata": {},
   "outputs": [],
   "source": [
    "# Step 3: Call the permutation_test function\n",
    "observed_diff, p_values = Processing.permutation_test(Focal_avg, Ctrl_avg, n_permutations=1000)\n"
   ]
  },
  {
   "cell_type": "code",
   "execution_count": null,
   "metadata": {},
   "outputs": [],
   "source": [
    "# Find significant time points\n",
    "significance_level = 0.05\n",
    "significant_timepoints = np.where(p_values < significance_level)[0]\n",
    "\n",
    "print(f\"Number of significant time points: {len(significant_timepoints)}\")\n",
    "print(f\"Percentage of significant time points: {len(significant_timepoints) / len(p_values) * 100:.2f}%\")\n",
    "\n",
    "# Optional: Apply multiple testing correction\n",
    "from statsmodels.stats.multitest import multipletests\n",
    "\n",
    "rejected, p_values_corrected, _, _ = multipletests(p_values, method='fdr_bh')\n",
    "significant_timepoints_corrected = np.where(rejected)[0]\n",
    "\n",
    "print(f\"Number of significant time points after correction: {len(significant_timepoints_corrected)}\")\n",
    "print(f\"Percentage of significant time points after correction: {len(significant_timepoints_corrected) / len(p_values) * 100:.2f}%\")"
   ]
  },
  {
   "cell_type": "code",
   "execution_count": null,
   "metadata": {},
   "outputs": [],
   "source": [
    "\n",
    "plt.figure(figsize=(12, 6))\n",
    "plt.plot(observed_diff.index, observed_diff.values, label='Observed Difference')\n",
    "plt.scatter(observed_diff.index[significant_timepoints], \n",
    "            observed_diff.values[significant_timepoints], \n",
    "            color='red', label='Significant Points')\n",
    "plt.axhline(y=0, color='k', linestyle='--')\n",
    "plt.xlabel('Time')\n",
    "plt.ylabel('Difference in distance_ball_0')\n",
    "plt.title('Permutation Test Results: Focal vs Control')\n",
    "plt.legend()\n",
    "plt.show()"
   ]
  },
  {
   "cell_type": "code",
   "execution_count": null,
   "metadata": {},
   "outputs": [],
   "source": [
    "# Plot the trajectories associated with each Nickname\n",
    "\n",
    "sns.lineplot(data=Test, x=\"time\", y=\"distance_ball_0\", hue=\"Nickname\", ci=None)"
   ]
  },
  {
   "cell_type": "code",
   "execution_count": null,
   "metadata": {},
   "outputs": [],
   "source": [
    "# Add a column to indicate significant timepoints\n",
    "Test['Significant'] = Test['time'].isin(Focal_avg.iloc[significant_timepoints]['time'])"
   ]
  },
  {
   "cell_type": "code",
   "execution_count": null,
   "metadata": {},
   "outputs": [],
   "source": [
    "importlib.reload(Config)"
   ]
  },
  {
   "cell_type": "code",
   "execution_count": null,
   "metadata": {},
   "outputs": [],
   "source": [
    "significant_times = Test[Test['Significant']]['time']\n",
    "            "
   ]
  },
  {
   "cell_type": "code",
   "execution_count": null,
   "metadata": {},
   "outputs": [],
   "source": [
    "sns.lineplot(data=Test, x='time', y='distance_ball_0', hue='Brain region', palette=Config.color_dict, ci=None)\n",
    "\n",
    "for time in significant_times:\n",
    "    plt.axvspan(time - 0.5, time + 0.5, color='red', alpha=0.3)\n",
    "    \n",
    "    plt.set_title(f'Test')\n",
    "    plt.set_xlabel('Time (s)')\n",
    "    plt.set_ylabel('Median Euclidean Distance')\n",
    "    "
   ]
  },
  {
   "cell_type": "code",
   "execution_count": null,
   "metadata": {},
   "outputs": [],
   "source": []
  }
 ],
 "metadata": {
  "kernelspec": {
   "display_name": "tracking_analysis",
   "language": "python",
   "name": "python3"
  },
  "language_info": {
   "codemirror_mode": {
    "name": "ipython",
    "version": 3
   },
   "file_extension": ".py",
   "mimetype": "text/x-python",
   "name": "python",
   "nbconvert_exporter": "python",
   "pygments_lexer": "ipython3",
   "version": "3.12.6"
  }
 },
 "nbformat": 4,
 "nbformat_minor": 2
}
