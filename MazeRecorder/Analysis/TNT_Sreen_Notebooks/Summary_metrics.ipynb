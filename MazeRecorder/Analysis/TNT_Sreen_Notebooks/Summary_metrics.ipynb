{
 "cells": [
  {
   "cell_type": "code",
   "execution_count": null,
   "metadata": {},
   "outputs": [],
   "source": [
    "from pathlib import Path\n",
    "import json\n",
    "import pyarrow\n",
    "import math\n",
    "import re\n",
    "import os\n",
    "\n",
    "import pandas as pd\n",
    "import numpy as np\n",
    "import matplotlib.pyplot as plt\n",
    "import seaborn as sns\n",
    "import h5py\n",
    "\n",
    "from scipy.stats import gaussian_kde\n",
    "from scipy.ndimage import label\n",
    "from sklearn.cluster import DBSCAN\n",
    "from sklearn.neighbors import NearestNeighbors\n",
    "from sklearn.preprocessing import StandardScaler\n",
    "from sklearn.decomposition import PCA\n",
    "\n",
    "import holoviews as hv\n",
    "from holoviews import opts\n",
    "hv.extension('bokeh')\n",
    "\n",
    "from shiny import App, Inputs, Outputs, Session, reactive, render, req, ui\n",
    "\n",
    "from utils_behavior import Sleap_utils, HoloviewsTemplates, Utils, Processing, Ballpushing_utils, Seaborn_Templates\n",
    "\n",
    "import importlib"
   ]
  },
  {
   "cell_type": "code",
   "execution_count": null,
   "metadata": {},
   "outputs": [],
   "source": [
    "Summary_data = pd.read_feather(\"/mnt/upramdya_data/MD/MultiMazeRecorder/Datasets/250204_Summary_Data/summary/250203_Pooled_summary.feather\")"
   ]
  },
  {
   "cell_type": "code",
   "execution_count": null,
   "metadata": {},
   "outputs": [],
   "source": [
    "# Check number of unique values in the fly column\n",
    "\n",
    "Summary_data['fly'].nunique()"
   ]
  },
  {
   "cell_type": "code",
   "execution_count": null,
   "metadata": {},
   "outputs": [],
   "source": [
    "Summary_data.columns"
   ]
  },
  {
   "cell_type": "code",
   "execution_count": null,
   "metadata": {},
   "outputs": [],
   "source": [
    "controls = [#'TNTxCS', \n",
    "            #'TNTxPR', \n",
    "            'Empty-Gal4', 'Empty-Split'] # Replace with your list of genotypes"
   ]
  },
  {
   "cell_type": "code",
   "execution_count": null,
   "metadata": {},
   "outputs": [],
   "source": [
    "# List of metrics\n",
    "metrics = ['nb_events', 'max_event', 'max_event_time', 'max_distance',\n",
    "           'final_event', 'final_event_time', 'nb_significant_events',\n",
    "           'significant_ratio', 'first_significant_event',\n",
    "           'first_significant_event_time', 'aha_moment', 'aha_moment_time',\n",
    "           'insight_effect', 'cumulated_breaks_duration', 'pushed', 'pulled',\n",
    "           'pulling_ratio', 'interaction_proportion', 'distance_moved']"
   ]
  },
  {
   "cell_type": "code",
   "execution_count": null,
   "metadata": {},
   "outputs": [],
   "source": [
    "# Check which metrics have NA values\n",
    "\n",
    "Summary_data[metrics].isna().sum()"
   ]
  },
  {
   "cell_type": "code",
   "execution_count": null,
   "metadata": {},
   "outputs": [],
   "source": [
    "pca_metrics = ['nb_events', 'max_distance',\n",
    "            'nb_significant_events',\n",
    "           'significant_ratio', 'cumulated_breaks_duration', 'pushed', 'pulled',\n",
    "            'interaction_proportion', 'distance_moved']"
   ]
  },
  {
   "cell_type": "code",
   "execution_count": null,
   "metadata": {},
   "outputs": [],
   "source": [
    "importlib.reload(HoloviewsTemplates)\n",
    "\n",
    "importlib.reload(HoloviewsTemplates)"
   ]
  },
  {
   "cell_type": "code",
   "execution_count": null,
   "metadata": {},
   "outputs": [],
   "source": [
    "# Find out what is the maximum value of insight_effect\n",
    "\n",
    "Summary_data['insight_effect'].max()"
   ]
  },
  {
   "cell_type": "code",
   "execution_count": null,
   "metadata": {},
   "outputs": [],
   "source": [
    "# Check if there are any NA values in the insight_effect column or Inf\n",
    "\n",
    "Summary_data['insight_effect'].isna().sum()"
   ]
  },
  {
   "cell_type": "code",
   "execution_count": null,
   "metadata": {},
   "outputs": [],
   "source": [
    "# Data only with flies that don't have aha moment as first\n",
    "\n",
    "Summary_data_no_aha = Summary_data[Summary_data['aha_moment_first'] == False]\n",
    "\n",
    "# "
   ]
  },
  {
   "cell_type": "code",
   "execution_count": null,
   "metadata": {},
   "outputs": [],
   "source": [
    "plot = HoloviewsTemplates.jitter_boxplot(data=Summary_data, metric=\"distance_moved\", kdims=\"Nickname\",groupby=\"Brain region\", render=\"grouped\", control=controls, hline=\"bootstrap\")\n",
    "\n",
    "plot"
   ]
  },
  {
   "cell_type": "code",
   "execution_count": null,
   "metadata": {},
   "outputs": [],
   "source": [
    "plot = HoloviewsTemplates.jitter_boxplot(data=Summary_data, metric=\"pulled\", kdims=\"Nickname\",groupby=\"Brain region\", render=\"grouped\", control=controls, hline=\"bootstrap\")\n",
    "\n",
    "plot"
   ]
  },
  {
   "cell_type": "code",
   "execution_count": null,
   "metadata": {},
   "outputs": [],
   "source": [
    "plot = HoloviewsTemplates.jitter_boxplot(data=Summary_data, metric=\"insight_effect\", kdims=\"Nickname\",groupby=\"Brain region\", render=\"grouped\", control=controls, hline=\"bootstrap\")\n",
    "\n",
    "plot"
   ]
  },
  {
   "cell_type": "code",
   "execution_count": null,
   "metadata": {},
   "outputs": [],
   "source": [
    "for metric in metrics:\n",
    "    plot = HoloviewsTemplates.jitter_boxplot(data=Summary_data, metric=metric, kdims=\"Nickname\",groupby=\"Brain region\", render=\"grouped\", control=controls, hline=\"bootstrap\")\n",
    "\n",
    "    hv.save(plot, f\"/mnt/upramdya_data/MD/MultiMazeRecorder/Plots/250203_Summary/{metric}_3.html\")\n",
    "\n"
   ]
  },
  {
   "cell_type": "code",
   "execution_count": null,
   "metadata": {},
   "outputs": [],
   "source": [
    "# Plot each of them for \n",
    "\n",
    "summary_plots = []\n",
    "\n",
    "for metric in metrics:\n",
    "    plot = Seaborn_Templates.sns_plot(Summary_data, metric, \"Nickname\", \"jitterboxplot\", group_by=\"Brain region\" )\n",
    "    \n",
    "    summary_plots.append(plot)"
   ]
  }
 ],
 "metadata": {
  "kernelspec": {
   "display_name": "tracking_analysis",
   "language": "python",
   "name": "python3"
  },
  "language_info": {
   "codemirror_mode": {
    "name": "ipython",
    "version": 3
   },
   "file_extension": ".py",
   "mimetype": "text/x-python",
   "name": "python",
   "nbconvert_exporter": "python",
   "pygments_lexer": "ipython3",
   "version": "3.12.6"
  }
 },
 "nbformat": 4,
 "nbformat_minor": 2
}
