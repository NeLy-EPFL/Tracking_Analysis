{
 "cells": [
  {
   "cell_type": "code",
   "execution_count": null,
   "metadata": {},
   "outputs": [],
   "source": [
    "from pathlib import Path\n",
    "import json\n",
    "import pyarrow\n",
    "import math\n",
    "import re\n",
    "import os\n",
    "\n",
    "import pandas as pd\n",
    "import numpy as np\n",
    "import matplotlib.pyplot as plt\n",
    "import seaborn as sns\n",
    "import h5py\n",
    "\n",
    "from scipy.stats import gaussian_kde\n",
    "from scipy.ndimage import label\n",
    "from sklearn.cluster import DBSCAN\n",
    "from sklearn.neighbors import NearestNeighbors\n",
    "from sklearn.preprocessing import StandardScaler\n",
    "from sklearn.decomposition import PCA\n",
    "\n",
    "import holoviews as hv\n",
    "from holoviews import opts\n",
    "\n",
    "hv.extension(\"bokeh\")\n",
    "\n",
    "from shiny import App, Inputs, Outputs, Session, reactive, render, req, ui\n",
    "\n",
    "from utils_behavior import (\n",
    "    Sleap_utils,\n",
    "    HoloviewsTemplates,\n",
    "    Utils,\n",
    "    Processing,\n",
    "    Ballpushing_utils,\n",
    "    Seaborn_Templates,\n",
    ")\n",
    "\n",
    "import Config\n",
    "\n",
    "import importlib"
   ]
  },
  {
   "cell_type": "code",
   "execution_count": null,
   "metadata": {},
   "outputs": [],
   "source": [
    "# Short contacts\n",
    "\n",
    "Transformed = pd.read_feather(\"/mnt/upramdya_data/MD/MultiMazeRecorder/Datasets/Skeleton_TNT/240115_short_contacts_no_cutoff_Data/Transformed_contacts_nocutoff.feather\")"
   ]
  },
  {
   "cell_type": "code",
   "execution_count": null,
   "metadata": {},
   "outputs": [],
   "source": [
    "Transformed = Config.cleanup_data(Transformed)\n",
    "\n",
    "Transformed = Config.map_split_registry(Transformed)"
   ]
  },
  {
   "cell_type": "code",
   "execution_count": null,
   "metadata": {},
   "outputs": [],
   "source": [
    "registries = Config.prepare_registries(Transformed)"
   ]
  },
  {
   "cell_type": "code",
   "execution_count": null,
   "metadata": {},
   "outputs": [],
   "source": [
    "Transformed[\"identifier\"] = Transformed[\"fly\"]+str(Transformed[\"contact_index\"])"
   ]
  },
  {
   "cell_type": "markdown",
   "metadata": {},
   "source": [
    "# Contact rates"
   ]
  },
  {
   "cell_type": "code",
   "execution_count": null,
   "metadata": {},
   "outputs": [],
   "source": [
    "importlib.reload(Config)"
   ]
  },
  {
   "cell_type": "code",
   "execution_count": null,
   "metadata": {},
   "outputs": [],
   "source": [
    "Test = Config.get_subset_data(Transformed, value=\"R78A01 (ExR1 (EB))\")"
   ]
  },
  {
   "cell_type": "code",
   "execution_count": null,
   "metadata": {},
   "outputs": [],
   "source": [
    "# Define the time window (e.g., 10 seconds)\n",
    "time_window = 100\n",
    "\n",
    "# Determine the maximum time in the dataset\n",
    "max_time = Test['start'].max()\n",
    "\n",
    "# Create bins for the time windows\n",
    "bins = np.arange(0, max_time + time_window, time_window)\n",
    "\n",
    "# Create a new column 'time_window' that indicates the time window each 'start' time belongs to\n",
    "Test['time_window'] = pd.cut(Test['start'], bins=bins, right=False, labels=bins[:-1])\n",
    "\n",
    "# Group by 'time_window', 'Brain region', and 'fly' and count the number of unique contacts in each time window\n",
    "contact_rate = Test.groupby(['time_window', 'Brain region', 'fly'])['identifier'].nunique().reset_index()\n",
    "\n",
    "# Rename the columns for clarity\n",
    "contact_rate.columns = ['time_window', 'Brain region', 'fly', 'contact_count']\n",
    "\n",
    "# Plot the contact rate over time with confidence intervals\n",
    "plt.figure(figsize=(12, 6))\n",
    "sns.lineplot(data=contact_rate, x='time_window', y='contact_count', hue='Brain region', marker='o', palette=Config.color_dict, ci='sd')\n",
    "plt.xlabel('Time Window (s)')\n",
    "plt.ylabel('Number of Unique Contacts')\n",
    "plt.title(f'Contact Rate Over Time for test vs control')\n",
    "plt.show()"
   ]
  },
  {
   "cell_type": "code",
   "execution_count": null,
   "metadata": {},
   "outputs": [],
   "source": [
    "# Make a rugplot of the start times for the random Nickname\n",
    "\n",
    "# Plot the subset data\n",
    "\n",
    "plt.figure(figsize=(10, 6))\n",
    "\n",
    "# Create the rugplot\n",
    "sns.kdeplot(data=Test, x='start', hue='Brain region', palette=Config.color_dict)\n",
    "\n",
    "sns.ecdfplot(data=Test, x='start', hue='Brain region', palette=Config.color_dict)\n",
    "\n",
    "# set x axis limits to time window\n",
    "\n",
    "plt.xlim(0, 3600)\n",
    "\n",
    "# Set the title for the figure\n",
    "\n",
    "plt.title(f'Start Times for test vs control')\n",
    "\n",
    "# Set the axis labels\n",
    "\n",
    "plt.xlabel('Start time')\n",
    "\n",
    "plt.ylabel('Nickname')\n",
    "\n",
    "# Show the plot\n",
    "\n",
    "plt.show()"
   ]
  },
  {
   "cell_type": "code",
   "execution_count": null,
   "metadata": {},
   "outputs": [],
   "source": [
    "\n",
    "# Assuming 'data' is your dataset\n",
    "fig, (ax1, ax2) = plt.subplots(2, 1, figsize=(10, 10))\n",
    "\n",
    "# KDE plot\n",
    "sns.kdeplot(data=Test, x=\"start\", ax=ax1, hue=\"Brain region\", palette=Config.color_dict)\n",
    "ax1.set_title(\"KDE Plot\")\n",
    "\n",
    "# adjust the x-axis limits\n",
    "ax1.set_xlim(0, 3600)\n",
    "\n",
    "# ECDF plot\n",
    "sns.ecdfplot(data=Test, x=\"start\", ax=ax2, hue=\"Brain region\", palette=Config.color_dict)\n",
    "ax2.set_title(\"ECDF Plot\")\n",
    "\n",
    "ax2.set_xlim(0, 3600)\n",
    "\n",
    "\n",
    "plt.tight_layout()\n",
    "plt.show()"
   ]
  },
  {
   "cell_type": "markdown",
   "metadata": {},
   "source": [
    "# Apply to whole dataset"
   ]
  },
  {
   "cell_type": "code",
   "execution_count": null,
   "metadata": {},
   "outputs": [],
   "source": [
    "importlib.reload(Config)"
   ]
  },
  {
   "cell_type": "code",
   "execution_count": null,
   "metadata": {},
   "outputs": [],
   "source": [
    "# Initialize random generator\n",
    "rg = np.random.default_rng()\n",
    "\n",
    "# Process brain regions\n",
    "miscellaneous_nicknames = []\n",
    "for brain_region in registries[\"brain_regions\"]:\n",
    "    output_path = f\"/mnt/upramdya_data/MD/MultiMazeRecorder/Plots/250120_KDE_ECDF/KDE_ECDF_plots_{brain_region}.png\"\n",
    "    \n",
    "    if os.path.exists(output_path):\n",
    "        print(f\"Skipping Brain region {brain_region} as the plot already exists.\")\n",
    "        continue\n",
    "    \n",
    "    region_data = Transformed[Transformed['Brain region'] == brain_region]\n",
    "    nicknames = region_data['Nickname'].unique()\n",
    "    \n",
    "    if len(nicknames) < 5 and brain_region != \"Control\":\n",
    "        miscellaneous_nicknames.extend(nicknames)\n",
    "        continue\n",
    "    \n",
    "    try:\n",
    "        Config.create_and_save_kde_ecdf_plot(Transformed, nicknames, brain_region, output_path, registries)\n",
    "        print(f\"Processed Brain region {brain_region}\")\n",
    "    except Exception as e:\n",
    "        print(f\"Error processing Brain region {brain_region}: {e}\")\n",
    "\n",
    "# Process Miscellaneous brain region\n",
    "if miscellaneous_nicknames:\n",
    "    try:\n",
    "        output_path = \"/mnt/upramdya_data/MD/MultiMazeRecorder/Plots/250120_KDE_ECDF/KDE_ECDF_plots_Miscellaneous.png\"\n",
    "        Config.create_and_save_kde_ecdf_plot(Transformed, miscellaneous_nicknames, \"Miscellaneous\", output_path, registries)\n",
    "        print(\"Processed Miscellaneous Brain region\")\n",
    "    except Exception as e:\n",
    "        print(f\"Error processing Miscellaneous Brain region: {e}\")\n",
    "\n",
    "# Plot the Control brain region\n",
    "try:\n",
    "    control_nicknames = registries[\"control_nicknames\"]\n",
    "    output_path = \"/mnt/upramdya_data/MD/MultiMazeRecorder/Plots/250120_KDE_ECDF/KDE_ECDF_plots_Control.png\"\n",
    "    Config.create_and_save_kde_ecdf_plot(Transformed, control_nicknames, \"Control\", output_path, registries)\n",
    "    print(\"Processed Control Brain region\")\n",
    "except Exception as e:\n",
    "    print(f\"Error processing Control Brain region: {e}\")"
   ]
  },
  {
   "cell_type": "code",
   "execution_count": null,
   "metadata": {},
   "outputs": [],
   "source": []
  }
 ],
 "metadata": {
  "kernelspec": {
   "display_name": "trackinganalysis",
   "language": "python",
   "name": "python3"
  },
  "language_info": {
   "codemirror_mode": {
    "name": "ipython",
    "version": 3
   },
   "file_extension": ".py",
   "mimetype": "text/x-python",
   "name": "python",
   "nbconvert_exporter": "python",
   "pygments_lexer": "ipython3",
   "version": "3.11.5"
  }
 },
 "nbformat": 4,
 "nbformat_minor": 2
}
