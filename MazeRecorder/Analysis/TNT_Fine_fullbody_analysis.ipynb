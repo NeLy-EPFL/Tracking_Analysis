{
 "cells": [
  {
   "cell_type": "markdown",
   "metadata": {},
   "source": [
    "This notebook will regroup analysis performed on full body tracking data related to the TNT screen"
   ]
  },
  {
   "cell_type": "code",
   "execution_count": null,
   "metadata": {},
   "outputs": [],
   "source": [
    "from utils_behavior import Sleap_utils\n",
    "from utils_behavior import HoloviewsTemplates\n",
    "from utils_behavior import HoloviewsPlots\n",
    "from utils_behavior import Utils\n",
    "from utils_behavior import Processing\n",
    "\n",
    "from utils_behavior import Ballpushing_utils\n",
    "from utils_behavior import Seaborn_Templates\n",
    "\n",
    "import importlib\n",
    "\n",
    "from pathlib import Path\n",
    "\n",
    "import json\n",
    "\n",
    "import pandas as pd\n",
    "import matplotlib.pyplot as plt\n",
    "import matplotlib.colors as mcolors\n",
    "import numpy as np\n",
    "import pandas as pd\n",
    "import holoviews as hv\n",
    "from holoviews import opts\n",
    "hv.extension('bokeh')\n",
    "import seaborn as sns\n",
    "from shiny import App, Inputs, Outputs, Session, reactive, render, req, ui\n",
    "\n",
    "\n",
    "\n",
    "#import lux\n",
    "\n",
    "import pandas as pd\n",
    "\n",
    "#lux.config.set_executor_type(\"Pandas\")\n",
    "\n",
    "import numpy as np\n",
    "import h5py\n",
    "import re"
   ]
  },
  {
   "cell_type": "markdown",
   "metadata": {},
   "source": [
    "> Note that my dataclasses are too heavy (~ 2 Gb each) to be easily computed directly in the notebook. That is why a script called \"DataSetBuilder.py\" was used to generate a dataset based on TNT data"
   ]
  },
  {
   "cell_type": "markdown",
   "metadata": {},
   "source": [
    "# Summaries"
   ]
  },
  {
   "cell_type": "code",
   "execution_count": null,
   "metadata": {},
   "outputs": [],
   "source": [
    "Summary_data = pd.read_feather(\"/mnt/upramdya_data/MD/MultiMazeRecorder/Datasets/Skeleton_TNT/241217_FinalEventCutoffData_norm/summary/241209_Pooled_summary.feather\")"
   ]
  },
  {
   "cell_type": "code",
   "execution_count": null,
   "metadata": {},
   "outputs": [],
   "source": [
    "Summary_data.columns"
   ]
  },
  {
   "cell_type": "code",
   "execution_count": null,
   "metadata": {},
   "outputs": [],
   "source": [
    "Summary_data=Summary_data[~Summary_data[\"Genotype\"].isin([\"M6\", \"M7\", \"PR\", \"CS\"])]"
   ]
  },
  {
   "cell_type": "code",
   "execution_count": null,
   "metadata": {},
   "outputs": [],
   "source": [
    "control_genotypes = [\n",
    "    \"TNTxZ2035\",\n",
    "    \"TNTxZ2018\",\n",
    "    \"TNTxM7\",\n",
    "]  # Replace with your list of genotypes"
   ]
  },
  {
   "cell_type": "code",
   "execution_count": null,
   "metadata": {},
   "outputs": [],
   "source": [
    "# List of metrics\n",
    "\n",
    "metrics = ['nb_events', 'max_event', 'max_event_time', 'max_distance',\n",
    "       'final_event', 'final_event_time', 'nb_significant_events',\n",
    "       'significant_ratio', 'first_significant_event',\n",
    "       'first_significant_event_time', 'aha_moment', 'aha_moment_time',\n",
    "       'insight_effect', 'cumulated_breaks_duration', 'pushed', 'pulled',\n",
    "       'pulling_ratio', 'success_direction', 'interaction_proportion',\n",
    "       'distance_moved']"
   ]
  },
  {
   "cell_type": "code",
   "execution_count": null,
   "metadata": {},
   "outputs": [],
   "source": [
    "importlib.reload(HoloviewsTemplates)\n",
    "\n",
    "importlib.reload(HoloviewsPlots)"
   ]
  },
  {
   "cell_type": "code",
   "execution_count": null,
   "metadata": {},
   "outputs": [],
   "source": [
    "plot = HoloviewsPlots.jitter_boxplot(data=Summary_data, metric=\"nb_events\", kdims=\"Nickname\",groupby=\"Brain region\", render=\"grouped\", control=control_genotypes)\n",
    "\n",
    "plot"
   ]
  },
  {
   "cell_type": "code",
   "execution_count": null,
   "metadata": {},
   "outputs": [],
   "source": [
    "# Plot each of them for \n",
    "\n",
    "summary_plots = []\n",
    "\n",
    "for metric in metrics:\n",
    "    plot = Seaborn_Templates.sns_plot(Summary_data, metric, \"Nickname\", \"jitterboxplot\", group_by=\"Brain region\" )\n",
    "    \n",
    "    summary_plots.append(plot)"
   ]
  },
  {
   "cell_type": "code",
   "execution_count": null,
   "metadata": {},
   "outputs": [],
   "source": [
    "summary_plots[0]"
   ]
  },
  {
   "cell_type": "markdown",
   "metadata": {},
   "source": [
    "# Analysis of ball derivative for contact indices"
   ]
  },
  {
   "cell_type": "code",
   "execution_count": null,
   "metadata": {},
   "outputs": [],
   "source": [
    "# Load the dataset\n",
    "\n",
    "TNT_Data = pd.read_csv(\"/mnt/upramdya_data/MD/MultiMazeRecorder/Datasets/Skeleton_TNT/Experiments/241204_Pooled.csv\")"
   ]
  },
  {
   "cell_type": "code",
   "execution_count": null,
   "metadata": {},
   "outputs": [],
   "source": [
    "TNT_Data = pd.read_feather(\"/mnt/upramdya_data/MD/MultiMazeRecorder/Datasets/Skeleton_TNT/241218_Transformed_contact_data_derivative.feather\")"
   ]
  },
  {
   "cell_type": "code",
   "execution_count": null,
   "metadata": {},
   "outputs": [],
   "source": [
    "TNT_Data.head()"
   ]
  },
  {
   "cell_type": "code",
   "execution_count": null,
   "metadata": {},
   "outputs": [],
   "source": [
    "# Make a new column \"Aha_moment\" that is True if the average ball displacement grouped by Nickname is at any time greater than 0.2\n",
    "# Compute the mean ball displacement for each contact index within each group\n",
    "mean_displacement = TNT_Data.groupby(['Nickname', 'contact_index'])['ball_displacement'].mean().reset_index()\n",
    "\n",
    "# Check if the mean ball displacement exceeds 0.2 at any contact index for each group\n",
    "aha_moment = mean_displacement.groupby('Nickname')['ball_displacement'].transform(lambda x: (x > 0.2).any())\n",
    "\n",
    "# Create a dictionary to map Nickname to Aha_Moment\n",
    "aha_moment_dict = aha_moment.groupby(mean_displacement['Nickname']).first().to_dict()\n",
    "\n",
    "# Create the Aha_Moment column\n",
    "TNT_Data['Aha_Moment'] = TNT_Data['Nickname'].map(aha_moment_dict)\n",
    "\n",
    "# Display the DataFrame\n",
    "TNT_Data.head()"
   ]
  },
  {
   "cell_type": "code",
   "execution_count": null,
   "metadata": {},
   "outputs": [],
   "source": [
    "TNT_Data.head()"
   ]
  },
  {
   "cell_type": "code",
   "execution_count": null,
   "metadata": {},
   "outputs": [],
   "source": [
    "TNT_Learn = TNT_Data[TNT_Data[\"Aha_Moment\"]==True]\n",
    "\n",
    "TNT_Learn.head()"
   ]
  },
  {
   "cell_type": "code",
   "execution_count": null,
   "metadata": {},
   "outputs": [],
   "source": [
    "peaks = TNT_Learn [TNT_Learn[\"ball_displacement\"]>0.2]"
   ]
  },
  {
   "cell_type": "code",
   "execution_count": null,
   "metadata": {},
   "outputs": [],
   "source": [
    "# Plot the peaks using Seaborn\n",
    "plt.figure(figsize=(10, 6))\n",
    "sns.scatterplot(data=peaks, x='contact_index', y='ball_displacement', hue='Nickname')\n",
    "\n",
    "plt.xlabel('Contact Index')\n",
    "plt.ylabel('Ball Displacement')\n",
    "plt.title('Positions of Peaks > 0.2 of Ball Displacement')\n",
    "plt.show()"
   ]
  },
  {
   "cell_type": "code",
   "execution_count": null,
   "metadata": {},
   "outputs": [],
   "source": [
    "#  Compute the first contact index where ball displacement is greater than 0.2 for each fly\n",
    "first_peak = peaks.groupby('fly').apply(lambda x: x.loc[x['contact_index'].idxmin()]).reset_index(drop=True)\n",
    "\n",
    "# Display the first peak for each fly\n",
    "\n",
    "first_peak.head()\n"
   ]
  },
  {
   "cell_type": "code",
   "execution_count": null,
   "metadata": {},
   "outputs": [],
   "source": [
    "# Generate a sorted dataset based on median value grouped by Nickname\n",
    "\n",
    "sorted_data = first_peak.groupby('Nickname')['ball_displacement'].median().sort_values().index\n",
    "\n",
    "# Reorder the dataset based on the sorted Nicknames\n",
    "\n",
    "first_peak_sorted = first_peak.set_index('Nickname').loc[sorted_data].reset_index()"
   ]
  },
  {
   "cell_type": "code",
   "execution_count": null,
   "metadata": {},
   "outputs": [],
   "source": [
    "\n",
    "# Plot the first peak for each fly using Seaborn\n",
    "\n",
    "plt.figure(figsize=(10, 6))\n",
    "\n",
    "sns.boxplot(data=first_peak_sorted, x='contact_index', y='Nickname', hue=\"Brain region\")\n",
    "\n",
    "plt.xlabel('Contact Index')\n",
    "\n",
    "plt.ylabel('Count')\n",
    "\n",
    "plt.title('First Peak of Ball Displacement > 0.2')\n",
    "\n",
    "plt.show()"
   ]
  },
  {
   "cell_type": "code",
   "execution_count": null,
   "metadata": {},
   "outputs": [],
   "source": [
    "importlib.reload(Seaborn_Templates)"
   ]
  },
  {
   "cell_type": "code",
   "execution_count": null,
   "metadata": {},
   "outputs": [],
   "source": [
    "Seaborn_Templates.sns_plot(plot_type=\"jitterboxplot\", data=first_peak, sort_by=\"median\", metric = \"contact_index\", kdims= \"Nickname\",colorby=\"Brain region\")"
   ]
  },
  {
   "cell_type": "code",
   "execution_count": null,
   "metadata": {},
   "outputs": [],
   "source": [
    "# Redo with log scale\n",
    "\n",
    "plt.figure(figsize=(10, 6))\n",
    "\n",
    "sns.histplot(data=first_peak, x='contact_index', bins=range(0, 100, 1), kde=True, hue='Nickname')\n",
    "\n",
    "plt.xlabel('Contact Index')\n",
    "\n",
    "plt.ylabel('Count')\n",
    "\n",
    "plt.title('First Peak of Ball Displacement > 0.2')\n",
    "\n",
    "plt.xscale('log')\n",
    "\n",
    "plt.show()"
   ]
  },
  {
   "cell_type": "markdown",
   "metadata": {},
   "source": [
    "# Working with transformed data"
   ]
  },
  {
   "cell_type": "code",
   "execution_count": null,
   "metadata": {},
   "outputs": [],
   "source": [
    "Transformed = pd.read_feather(\"/mnt/upramdya_data/MD/MultiMazeRecorder/Datasets/Skeleton_TNT/241218_Transformed_contact_data_derivative.feather\")"
   ]
  },
  {
   "cell_type": "code",
   "execution_count": null,
   "metadata": {},
   "outputs": [],
   "source": [
    "Transformed.head()"
   ]
  },
  {
   "cell_type": "code",
   "execution_count": null,
   "metadata": {},
   "outputs": [],
   "source": [
    "Transformed.columns"
   ]
  },
  {
   "cell_type": "code",
   "execution_count": null,
   "metadata": {},
   "outputs": [],
   "source": [
    "# Get the distribution of y parameters for the ball\n",
    "\n",
    "# Get all columns with \"y_centre_preprocessed\" in the name\n",
    "\n",
    "y_columns = [col for col in Transformed.columns if 'y_centre_preprocessed' in col]\n",
    "\n",
    "y_columns"
   ]
  },
  {
   "cell_type": "code",
   "execution_count": null,
   "metadata": {},
   "outputs": [],
   "source": [
    "# Assuming 'Transformed' is your DataFrame and 'Brain region' is the column to subset by\n",
    "control_region = 'Control'  # Define the Control Brain region\n",
    "brain_regions = Transformed['Brain region'].unique()\n",
    "brain_regions = [region for region in brain_regions if region != control_region]"
   ]
  },
  {
   "cell_type": "code",
   "execution_count": null,
   "metadata": {},
   "outputs": [],
   "source": [
    "# Define the number of rows and columns for the grid\n",
    "n_cols = 3\n",
    "n_rows = (len(brain_regions) + n_cols - 1) // n_cols\n",
    "\n",
    "# Create a figure and axes for the grid of plots\n",
    "fig, axes = plt.subplots(n_rows, n_cols, figsize=(30, 10 * n_rows))\n",
    "\n",
    "# Flatten the axes array for easy iteration\n",
    "axes = axes.flatten()\n",
    "\n",
    "# Loop through each Brain region and create a subplot\n",
    "for i, region in enumerate(brain_regions):\n",
    "    # Subset the data for the Control Brain region and the current Brain region\n",
    "    subset_data = Transformed[Transformed['Brain region'].isin([control_region, region])]\n",
    "    \n",
    "    # Plot the distribution\n",
    "    sns.histplot(data=subset_data, x='y_centre_preprocessed_disp_mean', kde=True, hue='Nickname', ax=axes[i], bins=range(-3, 3, 1))\n",
    "    \n",
    "    # Set the title for the subplot\n",
    "    axes[i].set_title(f'{control_region} + {region}')\n",
    "    axes[i].set_xlabel('y_centre_preprocessed_disp_mean')\n",
    "    axes[i].set_ylabel('Count')\n",
    "    \n",
    "    axes[i].set_xlim(-3, 3)  # Adjust the limits as needed\n",
    "\n",
    "# Remove any unused subplots\n",
    "for j in range(i + 1, len(axes)):\n",
    "    fig.delaxes(axes[j])\n",
    "\n",
    "# Adjust the layout\n",
    "plt.tight_layout()\n",
    "\n",
    "# Show the plot\n",
    "plt.show()"
   ]
  },
  {
   "cell_type": "markdown",
   "metadata": {},
   "source": [
    "# Include contacts timing"
   ]
  },
  {
   "cell_type": "code",
   "execution_count": null,
   "metadata": {},
   "outputs": [],
   "source": [
    "Transformed['y_centre_preprocessed_disp_mean_abs'] = Transformed['y_centre_preprocessed_disp_mean'].abs()\n",
    "\n",
    "# Calculate the global minimum and maximum values of the absolute y_centre_preprocessed_disp_mean\n",
    "global_min = Transformed['y_centre_preprocessed_disp_mean_abs'].min()\n",
    "global_max = Transformed['y_centre_preprocessed_disp_mean_abs'].max()"
   ]
  },
  {
   "cell_type": "code",
   "execution_count": null,
   "metadata": {},
   "outputs": [],
   "source": [
    "# Assuming 'data' is your DataFrame\n",
    "brain_regions = Transformed['Brain region'].unique()"
   ]
  },
  {
   "cell_type": "code",
   "execution_count": null,
   "metadata": {},
   "outputs": [],
   "source": [
    "# Sort the data by Nickname within each brain region\n",
    "Transformed = Transformed.sort_values(by=['Brain region', 'Nickname'])"
   ]
  },
  {
   "cell_type": "code",
   "execution_count": null,
   "metadata": {},
   "outputs": [],
   "source": [
    "# Get unique brain regions\n",
    "brain_regions = Transformed['Brain region'].unique()\n",
    "\n",
    "# Create log-normalized colormap\n",
    "metric = 'y_centre_preprocessed_disp_mean_abs'\n",
    "log_values = np.log1p(Transformed[metric])\n",
    "global_min = log_values.min()\n",
    "global_max = log_values.max()\n",
    "\n",
    "for brain_region in brain_regions:\n",
    "    subset_data = Transformed[Transformed['Brain region'] == brain_region]\n",
    "    unique_combinations = subset_data[['Nickname', 'fly']].drop_duplicates()\n",
    "    \n",
    "    # Create figure with minimal height per fly\n",
    "    fig, ax = plt.subplots(figsize=(15, max(4, len(unique_combinations) * 0.2)))\n",
    "    \n",
    "    # Create logarithmic colormap\n",
    "    cmap = plt.get_cmap('viridis')\n",
    "    norm = mcolors.Normalize(vmin=global_min, vmax=global_max)\n",
    "    \n",
    "    # Plot events with minimal spacing\n",
    "    for i, (nickname, fly) in enumerate(unique_combinations.itertuples(index=False)):\n",
    "        fly_data = subset_data[(subset_data['Nickname'] == nickname) & \n",
    "                             (subset_data['fly'] == fly)]\n",
    "        for _, row in fly_data.iterrows():\n",
    "            log_value = np.log1p(row[metric])\n",
    "            ax.plot([row['start'], row['end']], [i, i], \n",
    "                   color=cmap(norm(log_value)), \n",
    "                   lw=4,  # Thicker lines for better visibility\n",
    "                   solid_capstyle='butt')\n",
    "    \n",
    "    # Compact y-axis with minimal spacing\n",
    "    ax.set_yticks(np.arange(len(unique_combinations)))\n",
    "    ax.set_yticklabels([f\"{nickname}-{fly}\" for nickname, fly in \n",
    "                        unique_combinations.itertuples(index=False)],\n",
    "                       fontsize=6)  # Even smaller font\n",
    "    \n",
    "    # Remove extra whitespace\n",
    "    ax.margins(y=0.01)  # Minimal margins\n",
    "    ax.grid(False)\n",
    "    ax.set_xlabel('Time')\n",
    "    ax.set_ylabel('Nickname-Fly')\n",
    "    ax.set_title(f'Raster Plot for {brain_region}')\n",
    "    \n",
    "    # Add colorbar\n",
    "    sm = plt.cm.ScalarMappable(cmap=cmap, norm=norm)\n",
    "    cbar = plt.colorbar(sm, ax=ax)\n",
    "    cbar.set_label(f'log({metric} + 1)')\n",
    "    \n",
    "    plt.tight_layout()\n",
    "    plt.show()"
   ]
  },
  {
   "cell_type": "code",
   "execution_count": null,
   "metadata": {},
   "outputs": [],
   "source": [
    "for brain_region in brain_regions:\n",
    "    subset_data = Transformed[Transformed['Brain region'] == brain_region]\n",
    "    \n",
    "    # Create a matrix representation\n",
    "    # First, get unique nicknames and time points\n",
    "    nicknames = subset_data['Nickname'].unique()\n",
    "    time_points = np.arange(subset_data['start'].min(), subset_data['end'].max(), 0.1)  # Adjust step size as needed\n",
    "    \n",
    "    # Create empty matrix\n",
    "    matrix = np.zeros((len(nicknames), len(time_points)))\n",
    "    matrix_values = np.full_like(matrix, np.nan)\n",
    "    \n",
    "    # Fill matrix\n",
    "    for i, nickname in enumerate(nicknames):\n",
    "        nick_data = subset_data[subset_data['Nickname'] == nickname]\n",
    "        for _, row in nick_data.iterrows():\n",
    "            start_idx = int((row['start'] - time_points[0]) / 0.1)\n",
    "            end_idx = int((row['end'] - time_points[0]) / 0.1)\n",
    "            if start_idx < len(time_points) and end_idx < len(time_points):\n",
    "                matrix_values[i, start_idx:end_idx] = np.log1p(row[metric])\n",
    "    \n",
    "    # Create figure\n",
    "    plt.figure(figsize=(15, max(4, len(nicknames) * 0.3)))\n",
    "    \n",
    "    # Plot heatmap\n",
    "    sns.heatmap(matrix_values,\n",
    "                cmap='viridis',\n",
    "                yticklabels=nicknames,\n",
    "                xticklabels=np.round(time_points[::100], 1),  # Show fewer x-ticks\n",
    "                cbar_kws={'label': f'log({metric} + 1)'},\n",
    "                mask=np.isnan(matrix_values))\n",
    "    \n",
    "    plt.title(f'Activity Heatmap for {brain_region}')\n",
    "    plt.xlabel('Time')\n",
    "    plt.ylabel('Nickname')\n",
    "    plt.tight_layout()\n",
    "    plt.show()"
   ]
  },
  {
   "cell_type": "code",
   "execution_count": null,
   "metadata": {},
   "outputs": [],
   "source": [
    "for brain_region in brain_regions:\n",
    "    subset_data = Transformed[Transformed['Brain region'] == brain_region]\n",
    "    \n",
    "    # Create a matrix representation\n",
    "    # First, get unique nicknames and time points\n",
    "    nicknames = subset_data['Nickname'].unique()\n",
    "    time_points = np.arange(subset_data['start'].min(), subset_data['end'].max(), 0.1)  # Adjust step size as needed\n",
    "    \n",
    "    # Create empty matrix\n",
    "    matrix = np.zeros((len(nicknames), len(time_points)))\n",
    "    matrix_values = np.full_like(matrix, np.nan)\n",
    "    \n",
    "    # Fill matrix\n",
    "    for i, nickname in enumerate(nicknames):\n",
    "        nick_data = subset_data[subset_data['Nickname'] == nickname]\n",
    "        for _, row in nick_data.iterrows():\n",
    "            start_idx = int((row['start'] - time_points[0]) / 0.1)\n",
    "            end_idx = int((row['end'] - time_points[0]) / 0.1)\n",
    "            if start_idx < len(time_points) and end_idx < len(time_points):\n",
    "                matrix_values[i, start_idx:end_idx] = np.log1p(row[metric])\n",
    "    \n",
    "    # Create figure\n",
    "    plt.figure(figsize=(15, max(4, len(nicknames) * 0.3)))\n",
    "    \n",
    "    # Plot heatmap\n",
    "    sns.heatmap(matrix_values,\n",
    "                cmap='viridis',\n",
    "                yticklabels=nicknames,\n",
    "                xticklabels=np.round(time_points[::100], 1),  # Show fewer x-ticks\n",
    "                cbar_kws={'label': f'log({metric} + 1)'},\n",
    "                mask=np.isnan(matrix_values))\n",
    "    \n",
    "    plt.title(f'Activity Heatmap for {brain_region}')\n",
    "    plt.xlabel('Time')\n",
    "    plt.ylabel('Nickname')\n",
    "    plt.tight_layout()\n",
    "    plt.show()"
   ]
  },
  {
   "cell_type": "code",
   "execution_count": null,
   "metadata": {},
   "outputs": [],
   "source": [
    "for brain_region in brain_regions:\n",
    "    subset_data = Transformed[Transformed['Brain region'] == brain_region]\n",
    "    \n",
    "    # Get unique flies sorted by nickname\n",
    "    flies_df = subset_data[['Nickname', 'fly']].drop_duplicates()\n",
    "    flies_df = flies_df.sort_values(['Nickname', 'fly'])\n",
    "    fly_labels = [f\"{row.Nickname}-{row.fly}\" for idx, row in flies_df.iterrows()]\n",
    "    \n",
    "    # Create time points array\n",
    "    time_points = np.arange(subset_data['start'].min(), subset_data['end'].max(), 0.1)\n",
    "    \n",
    "    # Create empty matrix\n",
    "    matrix = np.zeros((len(fly_labels), len(time_points)))\n",
    "    matrix_values = np.full_like(matrix, np.nan)\n",
    "    \n",
    "    # Fill matrix\n",
    "    for i, (_, fly_row) in enumerate(flies_df.iterrows()):\n",
    "        fly_data = subset_data[\n",
    "            (subset_data['Nickname'] == fly_row['Nickname']) & \n",
    "            (subset_data['fly'] == fly_row['fly'])\n",
    "        ]\n",
    "        for _, row in fly_data.iterrows():\n",
    "            start_idx = int((row['start'] - time_points[0]) / 0.1)\n",
    "            end_idx = int((row['end'] - time_points[0]) / 0.1)\n",
    "            if start_idx < len(time_points) and end_idx < len(time_points):\n",
    "                matrix_values[i, start_idx:end_idx] = np.log1p(row[metric])\n",
    "    \n",
    "    # Create figure\n",
    "    plt.figure(figsize=(15, max(4, len(fly_labels) * 0.3)))\n",
    "    \n",
    "    # Plot heatmap\n",
    "    sns.heatmap(matrix_values,\n",
    "                cmap='viridis',\n",
    "                yticklabels=fly_labels,\n",
    "                xticklabels=np.round(time_points[::100], 1),\n",
    "                cbar_kws={'label': f'log({metric} + 1)'},\n",
    "                mask=np.isnan(matrix_values))\n",
    "    \n",
    "    plt.title(f'Activity Heatmap for {brain_region}')\n",
    "    plt.xlabel('Time')\n",
    "    plt.ylabel('Fly')\n",
    "    plt.tight_layout()\n",
    "    plt.show()"
   ]
  },
  {
   "cell_type": "markdown",
   "metadata": {},
   "source": [
    "# Contact TSNE"
   ]
  },
  {
   "cell_type": "code",
   "execution_count": null,
   "metadata": {},
   "outputs": [],
   "source": [
    "TSNE_Data = pd.read_feather(\"/mnt/upramdya_data/MD/MultiMazeRecorder/Datasets/Skeleton_TNT/TSNE/241210_behavior_map_tsne.feather\")"
   ]
  },
  {
   "cell_type": "code",
   "execution_count": null,
   "metadata": {},
   "outputs": [],
   "source": [
    "TSNE_Data.head()"
   ]
  },
  {
   "cell_type": "code",
   "execution_count": null,
   "metadata": {},
   "outputs": [],
   "source": [
    "# Plot the t-SNE data using Seaborn\n",
    "\n",
    "plt.figure(figsize=(10, 6))\n",
    "\n",
    "sns.scatterplot(data=TSNE_Data, x='t-SNE Component 1', y='t-SNE Component 2', hue=\"Brain region\")\n",
    "\n",
    "plt.xlabel('t-SNE1')\n",
    "\n",
    "plt.ylabel('t-SNE2')\n",
    "\n",
    "plt.title('t-SNE Plot of Behavior Map')\n",
    "\n",
    "plt.show()\n",
    "\n"
   ]
  },
  {
   "cell_type": "code",
   "execution_count": null,
   "metadata": {},
   "outputs": [],
   "source": [
    "# Make a subset with only the \"Brain region\" == \"Control\" and plot it side by side with the \"Brain region\" != \"Control\"\n",
    "\n",
    "control_data = TSNE_Data[TSNE_Data['Brain region'] == 'Control']\n",
    "\n",
    "experimental_data = TSNE_Data[TSNE_Data['Brain region'] != 'Control']\n",
    "\n",
    "# Plot the t-SNE data using Seaborn\n",
    "\n",
    "plt.figure(figsize=(10, 6))\n",
    "\n",
    "sns.scatterplot(data=control_data, x='t-SNE Component 1', y='t-SNE Component 2', hue=\"Brain region\")\n",
    "\n",
    "plt.xlabel('t-SNE1')\n",
    "\n",
    "plt.ylabel('t-SNE2')\n",
    "\n",
    "plt.title('t-SNE Plot of Behavior Map - Control')\n",
    "\n",
    "plt.show()\n",
    "\n",
    "plt.figure(figsize=(10, 6))\n",
    "\n",
    "sns.scatterplot(data=experimental_data, x='t-SNE Component 1', y='t-SNE Component 2', hue=\"Brain region\")\n",
    "\n",
    "plt.xlabel('t-SNE1')\n",
    "\n",
    "plt.ylabel('t-SNE2')\n",
    "\n",
    "plt.title('t-SNE Plot of Behavior Map - Experimental')\n",
    "\n",
    "plt.show()"
   ]
  },
  {
   "cell_type": "code",
   "execution_count": null,
   "metadata": {},
   "outputs": [],
   "source": [
    "# Make a density plot of the t-SNE data\n",
    "\n",
    "plt.figure(figsize=(10, 6))\n",
    "\n",
    "sns.kdeplot(data=TSNE_Data, x='t-SNE Component 1', y='t-SNE Component 2', fill=True)\n",
    "\n",
    "plt.xlabel('t-SNE1')\n",
    "\n",
    "plt.ylabel('t-SNE2')\n",
    "\n",
    "plt.title('t-SNE Density Plot of Behavior Map')\n",
    "\n",
    "plt.show()"
   ]
  },
  {
   "cell_type": "code",
   "execution_count": null,
   "metadata": {},
   "outputs": [],
   "source": [
    "import pandas as pd\n",
    "import seaborn as sns\n",
    "import matplotlib.pyplot as plt\n",
    "import numpy as np\n",
    "from scipy.stats import gaussian_kde\n",
    "from sklearn.cluster import DBSCAN\n",
    "from sklearn.neighbors import NearestNeighbors\n",
    "\n",
    "# Extract t-SNE components\n",
    "x = TSNE_Data['t-SNE Component 1']\n",
    "y = TSNE_Data['t-SNE Component 2']\n",
    "\n",
    "# Compute the KDE\n",
    "kde = gaussian_kde([x, y], bw_method=0.05)\n",
    "\n",
    "# Evaluate the KDE on a grid\n",
    "xmin, xmax = x.min(), x.max()\n",
    "ymin, ymax = y.min(), y.max()\n",
    "xx, yy = np.mgrid[xmin:xmax:100j, ymin:ymax:100j]\n",
    "positions = np.vstack([xx.ravel(), yy.ravel()])\n",
    "kde_values = kde(positions).reshape(xx.shape)"
   ]
  },
  {
   "cell_type": "code",
   "execution_count": null,
   "metadata": {},
   "outputs": [],
   "source": [
    "# Plot the KDE and extract contour levels\n",
    "plt.figure(figsize=(10, 8))\n",
    "contour = plt.contourf(xx, yy, kde_values, levels=20, cmap=\"Blues\")\n",
    "plt.colorbar(label=\"Density\")\n",
    "plt.title(\"KDE Contour Plot\")\n",
    "plt.xlabel(\"t-SNE Component 1\")\n",
    "plt.ylabel(\"t-SNE Component 2\")\n",
    "plt.show()"
   ]
  },
  {
   "cell_type": "code",
   "execution_count": null,
   "metadata": {},
   "outputs": [],
   "source": [
    "# Extract the top 5 density levels (darkest shades)\n",
    "top_levels = contour.levels[-12:]  # Adjust number of levels if needed\n",
    "threshold = top_levels[0]  # Use the lowest value of the top 5 levels as threshold"
   ]
  },
  {
   "cell_type": "code",
   "execution_count": null,
   "metadata": {},
   "outputs": [],
   "source": [
    "# Plot the area of contour levels above the threshold\n",
    "\n",
    "plt.figure(figsize=(10, 8))\n",
    "\n",
    "plt.contourf(xx, yy, kde_values, levels=top_levels, cmap=\"Blues\")\n",
    "\n",
    "plt.colorbar(label=\"Density\")\n",
    "\n",
    "plt.title(\"KDE Contour Plot (Top 5 Levels)\")\n",
    "\n",
    "plt.xlabel(\"t-SNE Component 1\")\n",
    "\n",
    "plt.ylabel(\"t-SNE Component 2\")\n",
    "\n",
    "plt.show()"
   ]
  },
  {
   "cell_type": "code",
   "execution_count": null,
   "metadata": {},
   "outputs": [],
   "source": [
    "# Plot the TSNE data with contour around the top 5 density levels\n",
    "\n",
    "plt.figure(figsize=(10, 6))\n",
    "\n",
    "sns.scatterplot(data=TSNE_Data, x='t-SNE Component 1', y='t-SNE Component 2', alpha=0.5)\n",
    "\n",
    "plt.contour(xx, yy, kde_values, levels=top_levels, colors='r')\n",
    "\n",
    "plt.xlabel('t-SNE1')\n",
    "\n",
    "plt.ylabel('t-SNE2')\n",
    "\n",
    "plt.title('t-SNE Plot of Behavior Map with Density Contour')\n",
    "\n",
    "plt.show()"
   ]
  },
  {
   "cell_type": "code",
   "execution_count": null,
   "metadata": {},
   "outputs": [],
   "source": [
    "# Redo but get only the lowest contour level among the selected levels\n",
    "\n",
    "plt.figure(figsize=(10, 6))\n",
    "\n",
    "sns.scatterplot(data=TSNE_Data, x='t-SNE Component 1', y='t-SNE Component 2', alpha=0.5)\n",
    "\n",
    "plt.contour(xx, yy, kde_values, levels=[threshold], colors='r')\n",
    "\n",
    "plt.xlabel('t-SNE1')\n",
    "\n",
    "plt.ylabel('t-SNE2')\n",
    "\n",
    "plt.title('t-SNE Plot of Behavior Map with Density Contour')\n",
    "\n",
    "plt.show()"
   ]
  },
  {
   "cell_type": "code",
   "execution_count": null,
   "metadata": {},
   "outputs": [],
   "source": [
    "# Make a list of the distinct areas of the contour plot\n",
    "\n",
    "contour_areas = []\n",
    "\n",
    "for i in range(len(top_levels) - 1):\n",
    "    \n",
    "    # Get the area of the contour between the current and next levels\n",
    "    area = np.sum(kde_values * (kde_values >= top_levels[i]) * (kde_values < top_levels[i + 1]))\n",
    "    \n",
    "    contour_areas.append(area)\n",
    "    \n",
    "# Display the areas of the contour plot\n",
    "\n",
    "contour_areas\n",
    "\n",
    "# Find the indices of the points that are within the contour area\n",
    "\n",
    "points_in_contour = np.where(kde_values >= threshold)\n",
    "\n",
    "# Extract the x and y coordinates of the points within the contour area\n",
    "\n",
    "x_in_contour = xx[points_in_contour]\n",
    "\n",
    "y_in_contour = yy[points_in_contour]\n",
    "\n",
    "# Plot the points within the contour area\n",
    "\n",
    "plt.figure(figsize=(10, 6))\n",
    "\n",
    "plt.scatter(x_in_contour, y_in_contour, alpha=0.5)\n",
    "\n",
    "plt.contour(xx, yy, kde_values, levels=[threshold], colors='r')\n",
    "\n",
    "plt.xlabel('t-SNE1')\n",
    "\n",
    "plt.ylabel('t-SNE2')\n",
    "\n",
    "plt.title('Points within the Density Contour')\n",
    "\n",
    "plt.show()"
   ]
  },
  {
   "cell_type": "code",
   "execution_count": null,
   "metadata": {},
   "outputs": [],
   "source": [
    "x_in_contour\n",
    "\n",
    "\n"
   ]
  },
  {
   "cell_type": "code",
   "execution_count": null,
   "metadata": {},
   "outputs": [],
   "source": [
    "import pandas as pd\n",
    "import seaborn as sns\n",
    "import matplotlib.pyplot as plt\n",
    "import numpy as np\n",
    "from scipy.stats import gaussian_kde\n",
    "from scipy.ndimage import label\n",
    "\n",
    "# Create a binary mask for high-density areas\n",
    "high_density_mask = kde_values >= threshold\n",
    "\n",
    "# Label connected components in the binary mask\n",
    "labeled_array, num_features = label(high_density_mask)\n",
    "\n",
    "# Create subsets for each distinct area\n",
    "subsets = []\n",
    "for i in range(1, num_features + 1):\n",
    "    area_mask = labeled_array == i\n",
    "    x_in_area = xx[area_mask]\n",
    "    y_in_area = yy[area_mask]\n",
    "    \n",
    "    # Find points from the original dataset that fall within this area\n",
    "    points_in_area = TSNE_Data[\n",
    "        (TSNE_Data['t-SNE Component 1'] >= x_in_area.min()) &\n",
    "        (TSNE_Data['t-SNE Component 1'] <= x_in_area.max()) &\n",
    "        (TSNE_Data['t-SNE Component 2'] >= y_in_area.min()) &\n",
    "        (TSNE_Data['t-SNE Component 2'] <= y_in_area.max())\n",
    "    ]\n",
    "    \n",
    "    # If the area is not empty, save it to a subset list and a file\n",
    "    \n",
    "    if len(points_in_area) > 0:\n",
    "        points_in_area.to_feather(f\"/mnt/upramdya_data/MD/MultiMazeRecorder/Datasets/Skeleton_TNT/Cluster_data/241210_behavior_map_tsne_area_{i}.feather\")\n",
    "        subsets.append(points_in_area)\n",
    "    \n",
    "    \n",
    "\n",
    "# Plot each distinct area with a different color\n",
    "plt.figure(figsize=(12, 10))\n",
    "plt.contourf(xx, yy, kde_values, levels=20, cmap=\"Blues\", alpha=0.3)\n",
    "\n",
    "colors = plt.cm.rainbow(np.linspace(0, 1, num_features))\n",
    "for i, subset in enumerate(subsets):\n",
    "    plt.scatter(subset['t-SNE Component 1'], subset['t-SNE Component 2'], \n",
    "                color=colors[i], label=f'Area {i+1}', alpha=0.6)\n",
    "\n",
    "plt.legend(bbox_to_anchor=(1.05, 1), loc='upper left')\n",
    "plt.title('Distinct High-Density Areas in t-SNE Plot')\n",
    "plt.xlabel('t-SNE Component 1')\n",
    "plt.ylabel('t-SNE Component 2')\n",
    "plt.tight_layout()\n",
    "plt.show()\n",
    "\n",
    "# Print information about each subset\n",
    "for i, subset in enumerate(subsets):\n",
    "    print(f\"Area {i+1}: {len(subset)} points\")"
   ]
  },
  {
   "cell_type": "code",
   "execution_count": null,
   "metadata": {},
   "outputs": [],
   "source": []
  },
  {
   "cell_type": "code",
   "execution_count": null,
   "metadata": {},
   "outputs": [],
   "source": [
    "# Load the source data \n",
    "\n",
    "source_data = pd.read_feather(\"/mnt/upramdya_data/MD/MultiMazeRecorder/Datasets/Skeleton_TNT/241209_ContactData/241209_Pooled_contact_data.feather\")\n",
    "\n",
    "source_data.head()"
   ]
  },
  {
   "cell_type": "code",
   "execution_count": null,
   "metadata": {},
   "outputs": [],
   "source": [
    "# Subset the data based on the threshold\n",
    "\n",
    "dense_data = TSNE_Data[kde([x, y]) > threshold]\n",
    "\n",
    "# Plot the dense data\n",
    "\n",
    "plt.figure(figsize=(10, 6))\n",
    "\n",
    "sns.scatterplot(data=dense_data, x='t-SNE Component 1', y='t-SNE Component 2', hue=\"Brain region\")\n",
    "\n",
    "plt.xlabel('t-SNE1')\n",
    "\n",
    "plt.ylabel('t-SNE2')\n",
    "\n",
    "plt.title('t-SNE Plot of Dense Data')\n",
    "\n",
    "plt.show()"
   ]
  },
  {
   "cell_type": "code",
   "execution_count": null,
   "metadata": {},
   "outputs": [],
   "source": [
    "# Identify high-density regions based on threshold\n",
    "high_density_mask = kde_values > threshold\n",
    "high_density_coords = positions[:, high_density_mask.ravel()].T\n",
    "\n",
    "# Fine-tune DBSCAN parameters with a grid search\n",
    "best_eps = None\n",
    "best_min_samples = None\n",
    "max_clusters = 0\n",
    "\n",
    "eps_values = np.arange(1.0, 20.0, 1.0)  # Adjust step size as needed\n",
    "min_samples_values = range(3, 10)\n",
    "\n",
    "for eps in eps_values:\n",
    "    for min_samples in min_samples_values:\n",
    "        dbscan = DBSCAN(eps=eps, min_samples=min_samples)\n",
    "        clusters = dbscan.fit_predict(high_density_coords)\n",
    "        n_clusters = len(set(clusters)) - (1 if -1 in clusters else 0)  # Exclude noise\n",
    "\n",
    "        if n_clusters > max_clusters:\n",
    "            max_clusters = n_clusters\n",
    "            best_eps = eps\n",
    "            best_min_samples = min_samples\n",
    "\n",
    "# Apply DBSCAN with the best parameters found\n",
    "dbscan = DBSCAN(eps=best_eps, min_samples=best_min_samples)\n",
    "clusters = dbscan.fit_predict(high_density_coords)\n",
    "\n",
    "# Assign clusters to original data points using nearest neighbors\n",
    "nn = NearestNeighbors(n_neighbors=1)\n",
    "nn.fit(high_density_coords)\n",
    "\n",
    "distances, indices = nn.kneighbors(np.column_stack([x, y]))\n",
    "TSNE_Data['cluster'] = -1  # Initialize with -1 (noise)\n",
    "for i, dist in enumerate(distances):\n",
    "    if dist[0] < best_eps:  # Use best_eps as distance threshold\n",
    "        TSNE_Data.at[i, 'cluster'] = clusters[indices[i][0]]\n"
   ]
  },
  {
   "cell_type": "code",
   "execution_count": null,
   "metadata": {},
   "outputs": [],
   "source": [
    "# Make a grid plot with each subplot being one brain region\n",
    "\n",
    "g = sns.FacetGrid(TSNE_Data, col='Brain region', col_wrap=3, height=4)\n",
    "\n",
    "g.map(sns.scatterplot, 't-SNE Component 1', 't-SNE Component 2')\n",
    "\n",
    "g.set_axis_labels('t-SNE1', 't-SNE2')\n",
    "\n",
    "g.set_titles('Brain Region: {col_name}')\n",
    "\n",
    "plt.show()"
   ]
  },
  {
   "cell_type": "code",
   "execution_count": null,
   "metadata": {},
   "outputs": [],
   "source": [
    "# Do the same but with density plots\n",
    "\n",
    "g = sns.FacetGrid(TSNE_Data, col='Brain region', col_wrap=3, height=4)\n",
    "\n",
    "g.map(sns.kdeplot, 't-SNE Component 1', 't-SNE Component 2', fill=True)\n",
    "\n",
    "g.set_axis_labels('t-SNE1', 't-SNE2')\n",
    "\n",
    "g.set_titles('Brain Region: {col_name}')\n",
    "\n",
    "plt.show()"
   ]
  },
  {
   "cell_type": "code",
   "execution_count": null,
   "metadata": {},
   "outputs": [],
   "source": [
    "TSNE_Data"
   ]
  },
  {
   "cell_type": "code",
   "execution_count": null,
   "metadata": {},
   "outputs": [],
   "source": []
  },
  {
   "cell_type": "code",
   "execution_count": null,
   "metadata": {},
   "outputs": [],
   "source": [
    "source_folder = Path(\"/mnt/upramdya_data/MD/MultiMazeRecorder/Datasets/Skeleton_TNT/TSNE\")"
   ]
  },
  {
   "cell_type": "code",
   "execution_count": null,
   "metadata": {},
   "outputs": [],
   "source": [
    "# Get all feather files in the source folder\n",
    "datasets = list(source_folder.glob(\"*.feather\"))\n",
    "\n",
    "# Define the number of rows and columns for the grid\n",
    "n_cols = 3\n",
    "n_rows = (len(datasets) + n_cols - 1) // n_cols\n",
    "\n",
    "# Create a figure and axes for the grid of plots\n",
    "fig, axes = plt.subplots(n_rows, n_cols, figsize=(15, 5 * n_rows))\n",
    "\n",
    "# Flatten the axes array for easy iteration\n",
    "axes = axes.flatten()\n",
    "\n",
    "# Loop through each dataset and create a subplot\n",
    "for i, dataset_path in enumerate(datasets):\n",
    "    # Load the dataset\n",
    "    TSNE_Data = pd.read_feather(dataset_path)\n",
    "    \n",
    "    # Create a scatter plot for the t-SNE data\n",
    "    sns.scatterplot(data=TSNE_Data, x='t-SNE Component 1', y='t-SNE Component 2', ax=axes[i])\n",
    "    \n",
    "    # Set the title for the subplot\n",
    "    axes[i].set_title(dataset_path.stem)\n",
    "    axes[i].set_xlabel('t-SNE1')\n",
    "    axes[i].set_ylabel('t-SNE2')\n",
    "\n",
    "# Remove any unused subplots\n",
    "for j in range(i + 1, len(axes)):\n",
    "    fig.delaxes(axes[j])\n",
    "\n",
    "# Adjust the layout\n",
    "plt.tight_layout()\n",
    "\n",
    "# Show the plot\n",
    "plt.show()"
   ]
  },
  {
   "cell_type": "code",
   "execution_count": null,
   "metadata": {},
   "outputs": [],
   "source": [
    "# Load the source PCA\n",
    "PCA_results = pd.read_feather(\"/mnt/upramdya_data/MD/MultiMazeRecorder/Datasets/Skeleton_TNT/PCA/241210_pca_data_transformed_New.feather\")\n"
   ]
  },
  {
   "cell_type": "code",
   "execution_count": null,
   "metadata": {},
   "outputs": [],
   "source": [
    "PCA_results.head()"
   ]
  },
  {
   "cell_type": "code",
   "execution_count": null,
   "metadata": {},
   "outputs": [],
   "source": [
    "# Plot the 2 first components of the PCA\n",
    "plt.figure(figsize=(10, 6))\n",
    "\n",
    "sns.scatterplot(data=PCA_results, x='PCA Component 1', y='PCA Component 2', hue=\"Brain region\")\n",
    "\n",
    "plt.xlabel('PC1')\n",
    "\n",
    "plt.ylabel('PC2')\n",
    "\n",
    "plt.title('PCA Plot of Behavior Map')\n",
    "\n",
    "plt.show()"
   ]
  },
  {
   "cell_type": "code",
   "execution_count": null,
   "metadata": {},
   "outputs": [],
   "source": [
    " PCA_results.columns"
   ]
  },
  {
   "cell_type": "code",
   "execution_count": null,
   "metadata": {},
   "outputs": [],
   "source": []
  }
 ],
 "metadata": {
  "kernelspec": {
   "display_name": "tracking_analysis",
   "language": "python",
   "name": "python3"
  },
  "language_info": {
   "codemirror_mode": {
    "name": "ipython",
    "version": 3
   },
   "file_extension": ".py",
   "mimetype": "text/x-python",
   "name": "python",
   "nbconvert_exporter": "python",
   "pygments_lexer": "ipython3",
   "version": "3.12.6"
  }
 },
 "nbformat": 4,
 "nbformat_minor": 2
}
