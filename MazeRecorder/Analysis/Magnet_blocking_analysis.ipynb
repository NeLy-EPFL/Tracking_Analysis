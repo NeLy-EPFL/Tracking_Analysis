{
 "cells": [
  {
   "cell_type": "markdown",
   "metadata": {},
   "source": [
    "This notebook is for the analysis of experiments in which some flies were interacting with balls that were blocked using magnets. After a certain amount of time, magnets were removed and we want to compare how well they push balls compared to controls."
   ]
  },
  {
   "cell_type": "markdown",
   "metadata": {},
   "source": [
    "# Required packages \n"
   ]
  },
  {
   "cell_type": "code",
   "execution_count": null,
   "metadata": {},
   "outputs": [],
   "source": [
    "import sys\n",
    "import os\n",
    "from icecream import ic\n",
    "\n",
    "from pathlib import Path\n",
    "\n",
    "import utils_behavior\n",
    "\n",
    "from utils_behavior import Ballpushing_utils\n",
    "from utils_behavior import Utils\n",
    "from utils_behavior import Processing\n",
    "from utils_behavior import HoloviewsTemplates\n",
    "\n",
    "import pandas as pd\n",
    "import hvplot.pandas\n",
    "import numpy as np\n",
    "\n",
    "from scipy import stats\n",
    "from statsmodels.stats.multitest import multipletests\n",
    "\n",
    "from sklearn.decomposition import PCA\n",
    "from sklearn.preprocessing import StandardScaler\n",
    "import pandas as pd\n",
    "\n",
    "import matplotlib.pyplot as plt\n",
    "import seaborn as sns\n",
    "\n",
    "import iqplot\n",
    "\n",
    "import importlib\n",
    "\n",
    "import holoviews as hv\n",
    "import bokeh.io\n",
    "import colorcet\n",
    "\n",
    "bokeh.io.output_notebook()\n",
    "\n",
    "hv.extension(\"bokeh\")"
   ]
  },
  {
   "cell_type": "code",
   "execution_count": null,
   "metadata": {},
   "outputs": [],
   "source": [
    "# Select the experiments to analyze"
   ]
  },
  {
   "cell_type": "markdown",
   "metadata": {},
   "source": [
    "Let's start with one that is representative of the best settings I had, which was using magnets under the backlighting sheet, keeping control flies in their chambers until the first half-hour of pretraining was finished.\n",
    "These were done on **240530 and 240531**"
   ]
  },
  {
   "cell_type": "code",
   "execution_count": null,
   "metadata": {},
   "outputs": [],
   "source": [
    "# Get the data path\n",
    "Datapath = Utils.get_data_path()\n",
    "\n",
    "# Get all folders with \"TNT_Fine\" in the name\n",
    "\n",
    "Folders = [\n",
    "    f\n",
    "    for f in os.listdir(Datapath)\n",
    "    if \"240530\" in f or \"240531\" in f and os.path.isdir(Datapath / f)\n",
    "]\n",
    "\n",
    "Folders"
   ]
  },
  {
   "cell_type": "code",
   "execution_count": null,
   "metadata": {},
   "outputs": [],
   "source": [
    "importlib.reload(Ballpushing_utils)"
   ]
  },
  {
   "cell_type": "code",
   "execution_count": null,
   "metadata": {},
   "outputs": [],
   "source": [
    "# Generate Experiment objects from each folder\n",
    "\n",
    "Experiments = [Ballpushing_utils.Experiment(Datapath / f) for f in Folders]"
   ]
  },
  {
   "cell_type": "code",
   "execution_count": null,
   "metadata": {},
   "outputs": [],
   "source": [
    "# Build the dataset\n",
    "\n",
    "magnet_data = Ballpushing_utils.Dataset(Experiments)\n",
    "\n",
    "print(magnet_data)"
   ]
  },
  {
   "cell_type": "code",
   "execution_count": null,
   "metadata": {},
   "outputs": [],
   "source": [
    "start = 30 * 60\n",
    "\n",
    "magnet_data.generate_dataset(\"summary\", time_range=[start])"
   ]
  },
  {
   "cell_type": "code",
   "execution_count": null,
   "metadata": {},
   "outputs": [],
   "source": [
    "# Get the data columns\n",
    "\n",
    "data_columns = magnet_data.data.columns\n",
    "\n",
    "data_columns"
   ]
  },
  {
   "cell_type": "markdown",
   "metadata": {},
   "source": [
    "# Do some plotting"
   ]
  },
  {
   "cell_type": "markdown",
   "metadata": {},
   "source": [
    "Now we're gonna plot some metrics and compare them between Magnet y and magnet n."
   ]
  },
  {
   "cell_type": "code",
   "execution_count": null,
   "metadata": {},
   "outputs": [],
   "source": [
    "importlib.reload(HoloviewsTemplates)"
   ]
  },
  {
   "cell_type": "code",
   "execution_count": null,
   "metadata": {},
   "outputs": [],
   "source": [
    "Plot = HoloviewsTemplates.jitter_boxplot(magnet_data.data, \"TimeToFinish\", \"Magnet\", magnet_data.metadata)"
   ]
  },
  {
   "cell_type": "code",
   "execution_count": null,
   "metadata": {},
   "outputs": [],
   "source": [
    "Plot\n",
    "# + Histogram distribution"
   ]
  },
  {
   "cell_type": "markdown",
   "metadata": {},
   "source": [
    "## Make and save all metrics plots"
   ]
  },
  {
   "cell_type": "code",
   "execution_count": null,
   "metadata": {},
   "outputs": [],
   "source": [
    "savepath = Utils.get_labserver() / \"Experimental_data/MultiMazeRecorder/Plots/MagnetBlock/240613\""
   ]
  },
  {
   "cell_type": "code",
   "execution_count": null,
   "metadata": {},
   "outputs": [],
   "source": [
    "# Generate the list of metrics\n",
    "\n",
    "metrics = [\n",
    "    \"NumberEvents\",\n",
    "    \"FinalEvent\",\n",
    "    \"FinalTime\",\n",
    "    \"SignificantEvents\",\n",
    "    \"SignificantFirst\",\n",
    "    \"SignificantFirstTime\",\n",
    "    \"Pushes\",\n",
    "    \"Pulls\",\n",
    "    \"PullingRatio\",\n",
    "    \"InteractionProportion\",\n",
    "    \"AhaMoment\",\n",
    "    \"AhaMomentIndex\",\n",
    "    \"InsightEffect\",\n",
    "    \"TimeToFinish\",\n",
    "    \"SignificantRatio\",\n",
    "]"
   ]
  },
  {
   "cell_type": "code",
   "execution_count": null,
   "metadata": {},
   "outputs": [],
   "source": [
    "# For each metric, generate a jitter boxplot and save it\n",
    "\n",
    "for metric in metrics: \n",
    "    Plot = HoloviewsTemplates.jitter_boxplot(\n",
    "        magnet_data.data, metric, \"Magnet\", magnet_data.metadata, scale_max=[True if metric == \"FinalTime\" else False]\n",
    "    )\n",
    "    hv.save(Plot, savepath / f\"{metric}.html\")"
   ]
  },
  {
   "cell_type": "code",
   "execution_count": null,
   "metadata": {},
   "outputs": [],
   "source": [
    "# Make a nice layout with all the plots:\n",
    "plots = []\n",
    "\n",
    "for metric in metrics:\n",
    "    Plot = HoloviewsTemplates.jitter_boxplot(\n",
    "        magnet_data.data,\n",
    "        metric,\n",
    "        \"Magnet\",\n",
    "        magnet_data.metadata,\n",
    "        scale_max=[True if metric == \"FinalTime\" else False],\n",
    "    )\n",
    "    plots.append(Plot)\n",
    "\n",
    "layout = hv.Layout(plots).cols(2)"
   ]
  },
  {
   "cell_type": "code",
   "execution_count": null,
   "metadata": {},
   "outputs": [],
   "source": [
    "hv.save(layout, savepath / \"All_metrics.html\")"
   ]
  },
  {
   "cell_type": "code",
   "execution_count": null,
   "metadata": {},
   "outputs": [],
   "source": [
    "importlib.reload(HoloviewsTemplates)"
   ]
  },
  {
   "cell_type": "markdown",
   "metadata": {},
   "source": [
    "# Distribution\n",
    "\n",
    "We can see that there seems to be some distribution variability between groups, which would be better highlighted by using something like an histogram"
   ]
  },
  {
   "cell_type": "code",
   "execution_count": null,
   "metadata": {},
   "outputs": [],
   "source": [
    "Hist = HoloviewsTemplates.histograms(magnet_data.data, \"TimeToFinish\", \"Magnet\", bins = 20)"
   ]
  },
  {
   "cell_type": "code",
   "execution_count": null,
   "metadata": {},
   "outputs": [],
   "source": [
    "Hist"
   ]
  },
  {
   "cell_type": "code",
   "execution_count": null,
   "metadata": {},
   "outputs": [],
   "source": []
  },
  {
   "cell_type": "markdown",
   "metadata": {},
   "source": []
  }
 ],
 "metadata": {
  "kernelspec": {
   "display_name": "Main",
   "language": "python",
   "name": "python3"
  },
  "language_info": {
   "codemirror_mode": {
    "name": "ipython",
    "version": 3
   },
   "file_extension": ".py",
   "mimetype": "text/x-python",
   "name": "python",
   "nbconvert_exporter": "python",
   "pygments_lexer": "ipython3",
   "version": "3.10.13"
  }
 },
 "nbformat": 4,
 "nbformat_minor": 2
}
