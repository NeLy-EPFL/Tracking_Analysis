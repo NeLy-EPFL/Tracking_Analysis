{
 "cells": [
  {
   "cell_type": "markdown",
   "metadata": {},
   "source": [
    "This notebook is for the analysis of experiments in which some flies were interacting with balls that were blocked using magnets. After a certain amount of time, magnets were removed and we want to compare how well they push balls compared to controls."
   ]
  },
  {
   "cell_type": "markdown",
   "metadata": {},
   "source": [
    "# Required packages \n"
   ]
  },
  {
   "cell_type": "code",
   "execution_count": 1,
   "metadata": {},
   "outputs": [
    {
     "name": "stdout",
     "output_type": "stream",
     "text": [
      "Loading BallPushing utils version 20 Jan 2025\n"
     ]
    },
    {
     "data": {
      "text/html": [
       "<script type=\"esms-options\">{\"shimMode\": true}</script><style>*[data-root-id],\n",
       "*[data-root-id] > * {\n",
       "  box-sizing: border-box;\n",
       "  font-family: var(--jp-ui-font-family);\n",
       "  font-size: var(--jp-ui-font-size1);\n",
       "  color: var(--vscode-editor-foreground, var(--jp-ui-font-color1));\n",
       "}\n",
       "\n",
       "/* Override VSCode background color */\n",
       ".cell-output-ipywidget-background:has(\n",
       "    > .cell-output-ipywidget-background > .lm-Widget > *[data-root-id]\n",
       "  ),\n",
       ".cell-output-ipywidget-background:has(> .lm-Widget > *[data-root-id]) {\n",
       "  background-color: transparent !important;\n",
       "}\n",
       "</style>"
      ]
     },
     "metadata": {},
     "output_type": "display_data"
    },
    {
     "data": {
      "application/javascript": "(function(root) {\n  function now() {\n    return new Date();\n  }\n\n  const force = true;\n  const py_version = '3.5.2'.replace('rc', '-rc.').replace('.dev', '-dev.');\n  const reloading = false;\n  const Bokeh = root.Bokeh;\n\n  // Set a timeout for this load but only if we are not already initializing\n  if (typeof (root._bokeh_timeout) === \"undefined\" || (force || !root._bokeh_is_initializing)) {\n    root._bokeh_timeout = Date.now() + 5000;\n    root._bokeh_failed_load = false;\n  }\n\n  function run_callbacks() {\n    try {\n      root._bokeh_onload_callbacks.forEach(function(callback) {\n        if (callback != null)\n          callback();\n      });\n    } finally {\n      delete root._bokeh_onload_callbacks;\n    }\n    console.debug(\"Bokeh: all callbacks have finished\");\n  }\n\n  function load_libs(css_urls, js_urls, js_modules, js_exports, callback) {\n    if (css_urls == null) css_urls = [];\n    if (js_urls == null) js_urls = [];\n    if (js_modules == null) js_modules = [];\n    if (js_exports == null) js_exports = {};\n\n    root._bokeh_onload_callbacks.push(callback);\n\n    if (root._bokeh_is_loading > 0) {\n      // Don't load bokeh if it is still initializing\n      console.debug(\"Bokeh: BokehJS is being loaded, scheduling callback at\", now());\n      return null;\n    } else if (js_urls.length === 0 && js_modules.length === 0 && Object.keys(js_exports).length === 0) {\n      // There is nothing to load\n      run_callbacks();\n      return null;\n    }\n\n    function on_load() {\n      root._bokeh_is_loading--;\n      if (root._bokeh_is_loading === 0) {\n        console.debug(\"Bokeh: all BokehJS libraries/stylesheets loaded\");\n        run_callbacks()\n      }\n    }\n    window._bokeh_on_load = on_load\n\n    function on_error(e) {\n      const src_el = e.srcElement\n      console.error(\"failed to load \" + (src_el.href || src_el.src));\n    }\n\n    const skip = [];\n    if (window.requirejs) {\n      window.requirejs.config({'packages': {}, 'paths': {}, 'shim': {}});\n      root._bokeh_is_loading = css_urls.length + 0;\n    } else {\n      root._bokeh_is_loading = css_urls.length + js_urls.length + js_modules.length + Object.keys(js_exports).length;\n    }\n\n    const existing_stylesheets = []\n    const links = document.getElementsByTagName('link')\n    for (let i = 0; i < links.length; i++) {\n      const link = links[i]\n      if (link.href != null) {\n        existing_stylesheets.push(link.href)\n      }\n    }\n    for (let i = 0; i < css_urls.length; i++) {\n      const url = css_urls[i];\n      const escaped = encodeURI(url)\n      if (existing_stylesheets.indexOf(escaped) !== -1) {\n        on_load()\n        continue;\n      }\n      const element = document.createElement(\"link\");\n      element.onload = on_load;\n      element.onerror = on_error;\n      element.rel = \"stylesheet\";\n      element.type = \"text/css\";\n      element.href = url;\n      console.debug(\"Bokeh: injecting link tag for BokehJS stylesheet: \", url);\n      document.body.appendChild(element);\n    }    var existing_scripts = []\n    const scripts = document.getElementsByTagName('script')\n    for (let i = 0; i < scripts.length; i++) {\n      var script = scripts[i]\n      if (script.src != null) {\n        existing_scripts.push(script.src)\n      }\n    }\n    for (let i = 0; i < js_urls.length; i++) {\n      const url = js_urls[i];\n      const escaped = encodeURI(url)\n      if (skip.indexOf(escaped) !== -1 || existing_scripts.indexOf(escaped) !== -1) {\n        if (!window.requirejs) {\n          on_load();\n        }\n        continue;\n      }\n      const element = document.createElement('script');\n      element.onload = on_load;\n      element.onerror = on_error;\n      element.async = false;\n      element.src = url;\n      console.debug(\"Bokeh: injecting script tag for BokehJS library: \", url);\n      document.head.appendChild(element);\n    }\n    for (let i = 0; i < js_modules.length; i++) {\n      const url = js_modules[i];\n      const escaped = encodeURI(url)\n      if (skip.indexOf(escaped) !== -1 || existing_scripts.indexOf(escaped) !== -1) {\n        if (!window.requirejs) {\n          on_load();\n        }\n        continue;\n      }\n      var element = document.createElement('script');\n      element.onload = on_load;\n      element.onerror = on_error;\n      element.async = false;\n      element.src = url;\n      element.type = \"module\";\n      console.debug(\"Bokeh: injecting script tag for BokehJS library: \", url);\n      document.head.appendChild(element);\n    }\n    for (const name in js_exports) {\n      const url = js_exports[name];\n      const escaped = encodeURI(url)\n      if (skip.indexOf(escaped) >= 0 || root[name] != null) {\n        if (!window.requirejs) {\n          on_load();\n        }\n        continue;\n      }\n      var element = document.createElement('script');\n      element.onerror = on_error;\n      element.async = false;\n      element.type = \"module\";\n      console.debug(\"Bokeh: injecting script tag for BokehJS library: \", url);\n      element.textContent = `\n      import ${name} from \"${url}\"\n      window.${name} = ${name}\n      window._bokeh_on_load()\n      `\n      document.head.appendChild(element);\n    }\n    if (!js_urls.length && !js_modules.length) {\n      on_load()\n    }\n  };\n\n  function inject_raw_css(css) {\n    const element = document.createElement(\"style\");\n    element.appendChild(document.createTextNode(css));\n    document.body.appendChild(element);\n  }\n\n  const js_urls = [\"https://cdn.holoviz.org/panel/1.5.0/dist/bundled/reactiveesm/es-module-shims@^1.10.0/dist/es-module-shims.min.js\", \"https://cdn.bokeh.org/bokeh/release/bokeh-3.5.2.min.js\", \"https://cdn.bokeh.org/bokeh/release/bokeh-gl-3.5.2.min.js\", \"https://cdn.bokeh.org/bokeh/release/bokeh-widgets-3.5.2.min.js\", \"https://cdn.bokeh.org/bokeh/release/bokeh-tables-3.5.2.min.js\", \"https://cdn.holoviz.org/panel/1.5.0/dist/panel.min.js\"];\n  const js_modules = [];\n  const js_exports = {};\n  const css_urls = [];\n  const inline_js = [    function(Bokeh) {\n      Bokeh.set_log_level(\"info\");\n    },\nfunction(Bokeh) {} // ensure no trailing comma for IE\n  ];\n\n  function run_inline_js() {\n    if ((root.Bokeh !== undefined) || (force === true)) {\n      for (let i = 0; i < inline_js.length; i++) {\n        try {\n          inline_js[i].call(root, root.Bokeh);\n        } catch(e) {\n          if (!reloading) {\n            throw e;\n          }\n        }\n      }\n      // Cache old bokeh versions\n      if (Bokeh != undefined && !reloading) {\n        var NewBokeh = root.Bokeh;\n        if (Bokeh.versions === undefined) {\n          Bokeh.versions = new Map();\n        }\n        if (NewBokeh.version !== Bokeh.version) {\n          Bokeh.versions.set(NewBokeh.version, NewBokeh)\n        }\n        root.Bokeh = Bokeh;\n      }\n    } else if (Date.now() < root._bokeh_timeout) {\n      setTimeout(run_inline_js, 100);\n    } else if (!root._bokeh_failed_load) {\n      console.log(\"Bokeh: BokehJS failed to load within specified timeout.\");\n      root._bokeh_failed_load = true;\n    }\n    root._bokeh_is_initializing = false\n  }\n\n  function load_or_wait() {\n    // Implement a backoff loop that tries to ensure we do not load multiple\n    // versions of Bokeh and its dependencies at the same time.\n    // In recent versions we use the root._bokeh_is_initializing flag\n    // to determine whether there is an ongoing attempt to initialize\n    // bokeh, however for backward compatibility we also try to ensure\n    // that we do not start loading a newer (Panel>=1.0 and Bokeh>3) version\n    // before older versions are fully initialized.\n    if (root._bokeh_is_initializing && Date.now() > root._bokeh_timeout) {\n      // If the timeout and bokeh was not successfully loaded we reset\n      // everything and try loading again\n      root._bokeh_timeout = Date.now() + 5000;\n      root._bokeh_is_initializing = false;\n      root._bokeh_onload_callbacks = undefined;\n      root._bokeh_is_loading = 0\n      console.log(\"Bokeh: BokehJS was loaded multiple times but one version failed to initialize.\");\n      load_or_wait();\n    } else if (root._bokeh_is_initializing || (typeof root._bokeh_is_initializing === \"undefined\" && root._bokeh_onload_callbacks !== undefined)) {\n      setTimeout(load_or_wait, 100);\n    } else {\n      root._bokeh_is_initializing = true\n      root._bokeh_onload_callbacks = []\n      const bokeh_loaded = root.Bokeh != null && (root.Bokeh.version === py_version || (root.Bokeh.versions !== undefined && root.Bokeh.versions.has(py_version)));\n      if (!reloading && !bokeh_loaded) {\n        if (root.Bokeh) {\n          root.Bokeh = undefined;\n        }\n        console.debug(\"Bokeh: BokehJS not loaded, scheduling load and callback at\", now());\n      }\n      load_libs(css_urls, js_urls, js_modules, js_exports, function() {\n        console.debug(\"Bokeh: BokehJS plotting callback run at\", now());\n        run_inline_js();\n      });\n    }\n  }\n  // Give older versions of the autoload script a head-start to ensure\n  // they initialize before we start loading newer version.\n  setTimeout(load_or_wait, 100)\n}(window));",
      "application/vnd.holoviews_load.v0+json": ""
     },
     "metadata": {},
     "output_type": "display_data"
    },
    {
     "data": {
      "application/javascript": "\nif ((window.PyViz === undefined) || (window.PyViz instanceof HTMLElement)) {\n  window.PyViz = {comms: {}, comm_status:{}, kernels:{}, receivers: {}, plot_index: []}\n}\n\n\n    function JupyterCommManager() {\n    }\n\n    JupyterCommManager.prototype.register_target = function(plot_id, comm_id, msg_handler) {\n      if (window.comm_manager || ((window.Jupyter !== undefined) && (Jupyter.notebook.kernel != null))) {\n        var comm_manager = window.comm_manager || Jupyter.notebook.kernel.comm_manager;\n        comm_manager.register_target(comm_id, function(comm) {\n          comm.on_msg(msg_handler);\n        });\n      } else if ((plot_id in window.PyViz.kernels) && (window.PyViz.kernels[plot_id])) {\n        window.PyViz.kernels[plot_id].registerCommTarget(comm_id, function(comm) {\n          comm.onMsg = msg_handler;\n        });\n      } else if (typeof google != 'undefined' && google.colab.kernel != null) {\n        google.colab.kernel.comms.registerTarget(comm_id, (comm) => {\n          var messages = comm.messages[Symbol.asyncIterator]();\n          function processIteratorResult(result) {\n            var message = result.value;\n            console.log(message)\n            var content = {data: message.data, comm_id};\n            var buffers = []\n            for (var buffer of message.buffers || []) {\n              buffers.push(new DataView(buffer))\n            }\n            var metadata = message.metadata || {};\n            var msg = {content, buffers, metadata}\n            msg_handler(msg);\n            return messages.next().then(processIteratorResult);\n          }\n          return messages.next().then(processIteratorResult);\n        })\n      }\n    }\n\n    JupyterCommManager.prototype.get_client_comm = function(plot_id, comm_id, msg_handler) {\n      if (comm_id in window.PyViz.comms) {\n        return window.PyViz.comms[comm_id];\n      } else if (window.comm_manager || ((window.Jupyter !== undefined) && (Jupyter.notebook.kernel != null))) {\n        var comm_manager = window.comm_manager || Jupyter.notebook.kernel.comm_manager;\n        var comm = comm_manager.new_comm(comm_id, {}, {}, {}, comm_id);\n        if (msg_handler) {\n          comm.on_msg(msg_handler);\n        }\n      } else if ((plot_id in window.PyViz.kernels) && (window.PyViz.kernels[plot_id])) {\n        var comm = window.PyViz.kernels[plot_id].connectToComm(comm_id);\n        comm.open();\n        if (msg_handler) {\n          comm.onMsg = msg_handler;\n        }\n      } else if (typeof google != 'undefined' && google.colab.kernel != null) {\n        var comm_promise = google.colab.kernel.comms.open(comm_id)\n        comm_promise.then((comm) => {\n          window.PyViz.comms[comm_id] = comm;\n          if (msg_handler) {\n            var messages = comm.messages[Symbol.asyncIterator]();\n            function processIteratorResult(result) {\n              var message = result.value;\n              var content = {data: message.data};\n              var metadata = message.metadata || {comm_id};\n              var msg = {content, metadata}\n              msg_handler(msg);\n              return messages.next().then(processIteratorResult);\n            }\n            return messages.next().then(processIteratorResult);\n          }\n        }) \n        var sendClosure = (data, metadata, buffers, disposeOnDone) => {\n          return comm_promise.then((comm) => {\n            comm.send(data, metadata, buffers, disposeOnDone);\n          });\n        };\n        var comm = {\n          send: sendClosure\n        };\n      }\n      window.PyViz.comms[comm_id] = comm;\n      return comm;\n    }\n    window.PyViz.comm_manager = new JupyterCommManager();\n    \n\n\nvar JS_MIME_TYPE = 'application/javascript';\nvar HTML_MIME_TYPE = 'text/html';\nvar EXEC_MIME_TYPE = 'application/vnd.holoviews_exec.v0+json';\nvar CLASS_NAME = 'output';\n\n/**\n * Render data to the DOM node\n */\nfunction render(props, node) {\n  var div = document.createElement(\"div\");\n  var script = document.createElement(\"script\");\n  node.appendChild(div);\n  node.appendChild(script);\n}\n\n/**\n * Handle when a new output is added\n */\nfunction handle_add_output(event, handle) {\n  var output_area = handle.output_area;\n  var output = handle.output;\n  if ((output.data == undefined) || (!output.data.hasOwnProperty(EXEC_MIME_TYPE))) {\n    return\n  }\n  var id = output.metadata[EXEC_MIME_TYPE][\"id\"];\n  var toinsert = output_area.element.find(\".\" + CLASS_NAME.split(' ')[0]);\n  if (id !== undefined) {\n    var nchildren = toinsert.length;\n    var html_node = toinsert[nchildren-1].children[0];\n    html_node.innerHTML = output.data[HTML_MIME_TYPE];\n    var scripts = [];\n    var nodelist = html_node.querySelectorAll(\"script\");\n    for (var i in nodelist) {\n      if (nodelist.hasOwnProperty(i)) {\n        scripts.push(nodelist[i])\n      }\n    }\n\n    scripts.forEach( function (oldScript) {\n      var newScript = document.createElement(\"script\");\n      var attrs = [];\n      var nodemap = oldScript.attributes;\n      for (var j in nodemap) {\n        if (nodemap.hasOwnProperty(j)) {\n          attrs.push(nodemap[j])\n        }\n      }\n      attrs.forEach(function(attr) { newScript.setAttribute(attr.name, attr.value) });\n      newScript.appendChild(document.createTextNode(oldScript.innerHTML));\n      oldScript.parentNode.replaceChild(newScript, oldScript);\n    });\n    if (JS_MIME_TYPE in output.data) {\n      toinsert[nchildren-1].children[1].textContent = output.data[JS_MIME_TYPE];\n    }\n    output_area._hv_plot_id = id;\n    if ((window.Bokeh !== undefined) && (id in Bokeh.index)) {\n      window.PyViz.plot_index[id] = Bokeh.index[id];\n    } else {\n      window.PyViz.plot_index[id] = null;\n    }\n  } else if (output.metadata[EXEC_MIME_TYPE][\"server_id\"] !== undefined) {\n    var bk_div = document.createElement(\"div\");\n    bk_div.innerHTML = output.data[HTML_MIME_TYPE];\n    var script_attrs = bk_div.children[0].attributes;\n    for (var i = 0; i < script_attrs.length; i++) {\n      toinsert[toinsert.length - 1].childNodes[1].setAttribute(script_attrs[i].name, script_attrs[i].value);\n    }\n    // store reference to server id on output_area\n    output_area._bokeh_server_id = output.metadata[EXEC_MIME_TYPE][\"server_id\"];\n  }\n}\n\n/**\n * Handle when an output is cleared or removed\n */\nfunction handle_clear_output(event, handle) {\n  var id = handle.cell.output_area._hv_plot_id;\n  var server_id = handle.cell.output_area._bokeh_server_id;\n  if (((id === undefined) || !(id in PyViz.plot_index)) && (server_id !== undefined)) { return; }\n  var comm = window.PyViz.comm_manager.get_client_comm(\"hv-extension-comm\", \"hv-extension-comm\", function () {});\n  if (server_id !== null) {\n    comm.send({event_type: 'server_delete', 'id': server_id});\n    return;\n  } else if (comm !== null) {\n    comm.send({event_type: 'delete', 'id': id});\n  }\n  delete PyViz.plot_index[id];\n  if ((window.Bokeh !== undefined) & (id in window.Bokeh.index)) {\n    var doc = window.Bokeh.index[id].model.document\n    doc.clear();\n    const i = window.Bokeh.documents.indexOf(doc);\n    if (i > -1) {\n      window.Bokeh.documents.splice(i, 1);\n    }\n  }\n}\n\n/**\n * Handle kernel restart event\n */\nfunction handle_kernel_cleanup(event, handle) {\n  delete PyViz.comms[\"hv-extension-comm\"];\n  window.PyViz.plot_index = {}\n}\n\n/**\n * Handle update_display_data messages\n */\nfunction handle_update_output(event, handle) {\n  handle_clear_output(event, {cell: {output_area: handle.output_area}})\n  handle_add_output(event, handle)\n}\n\nfunction register_renderer(events, OutputArea) {\n  function append_mime(data, metadata, element) {\n    // create a DOM node to render to\n    var toinsert = this.create_output_subarea(\n    metadata,\n    CLASS_NAME,\n    EXEC_MIME_TYPE\n    );\n    this.keyboard_manager.register_events(toinsert);\n    // Render to node\n    var props = {data: data, metadata: metadata[EXEC_MIME_TYPE]};\n    render(props, toinsert[0]);\n    element.append(toinsert);\n    return toinsert\n  }\n\n  events.on('output_added.OutputArea', handle_add_output);\n  events.on('output_updated.OutputArea', handle_update_output);\n  events.on('clear_output.CodeCell', handle_clear_output);\n  events.on('delete.Cell', handle_clear_output);\n  events.on('kernel_ready.Kernel', handle_kernel_cleanup);\n\n  OutputArea.prototype.register_mime_type(EXEC_MIME_TYPE, append_mime, {\n    safe: true,\n    index: 0\n  });\n}\n\nif (window.Jupyter !== undefined) {\n  try {\n    var events = require('base/js/events');\n    var OutputArea = require('notebook/js/outputarea').OutputArea;\n    if (OutputArea.prototype.mime_types().indexOf(EXEC_MIME_TYPE) == -1) {\n      register_renderer(events, OutputArea);\n    }\n  } catch(err) {\n  }\n}\n",
      "application/vnd.holoviews_load.v0+json": ""
     },
     "metadata": {},
     "output_type": "display_data"
    },
    {
     "data": {
      "application/vnd.holoviews_exec.v0+json": "",
      "text/html": [
       "<div id='p1002'>\n",
       "  <div id=\"c48e5900-9c8d-4a8d-a682-62c1c2acd53d\" data-root-id=\"p1002\" style=\"display: contents;\"></div>\n",
       "</div>\n",
       "<script type=\"application/javascript\">(function(root) {\n",
       "  var docs_json = {\"ae350e20-ca7e-468f-a94a-d4298a2b0f1c\":{\"version\":\"3.5.2\",\"title\":\"Bokeh Application\",\"roots\":[{\"type\":\"object\",\"name\":\"panel.models.browser.BrowserInfo\",\"id\":\"p1002\"},{\"type\":\"object\",\"name\":\"panel.models.comm_manager.CommManager\",\"id\":\"p1003\",\"attributes\":{\"plot_id\":\"p1002\",\"comm_id\":\"bfc471e3b9a8442d88c9243a01556a4d\",\"client_comm_id\":\"95ce27b58ab34c3ab4c90971e4559a67\"}}],\"defs\":[{\"type\":\"model\",\"name\":\"ReactiveHTML1\"},{\"type\":\"model\",\"name\":\"FlexBox1\",\"properties\":[{\"name\":\"align_content\",\"kind\":\"Any\",\"default\":\"flex-start\"},{\"name\":\"align_items\",\"kind\":\"Any\",\"default\":\"flex-start\"},{\"name\":\"flex_direction\",\"kind\":\"Any\",\"default\":\"row\"},{\"name\":\"flex_wrap\",\"kind\":\"Any\",\"default\":\"wrap\"},{\"name\":\"gap\",\"kind\":\"Any\",\"default\":\"\"},{\"name\":\"justify_content\",\"kind\":\"Any\",\"default\":\"flex-start\"}]},{\"type\":\"model\",\"name\":\"FloatPanel1\",\"properties\":[{\"name\":\"config\",\"kind\":\"Any\",\"default\":{\"type\":\"map\"}},{\"name\":\"contained\",\"kind\":\"Any\",\"default\":true},{\"name\":\"position\",\"kind\":\"Any\",\"default\":\"right-top\"},{\"name\":\"offsetx\",\"kind\":\"Any\",\"default\":null},{\"name\":\"offsety\",\"kind\":\"Any\",\"default\":null},{\"name\":\"theme\",\"kind\":\"Any\",\"default\":\"primary\"},{\"name\":\"status\",\"kind\":\"Any\",\"default\":\"normalized\"}]},{\"type\":\"model\",\"name\":\"GridStack1\",\"properties\":[{\"name\":\"mode\",\"kind\":\"Any\",\"default\":\"warn\"},{\"name\":\"ncols\",\"kind\":\"Any\",\"default\":null},{\"name\":\"nrows\",\"kind\":\"Any\",\"default\":null},{\"name\":\"allow_resize\",\"kind\":\"Any\",\"default\":true},{\"name\":\"allow_drag\",\"kind\":\"Any\",\"default\":true},{\"name\":\"state\",\"kind\":\"Any\",\"default\":[]}]},{\"type\":\"model\",\"name\":\"drag1\",\"properties\":[{\"name\":\"slider_width\",\"kind\":\"Any\",\"default\":5},{\"name\":\"slider_color\",\"kind\":\"Any\",\"default\":\"black\"},{\"name\":\"value\",\"kind\":\"Any\",\"default\":50}]},{\"type\":\"model\",\"name\":\"click1\",\"properties\":[{\"name\":\"terminal_output\",\"kind\":\"Any\",\"default\":\"\"},{\"name\":\"debug_name\",\"kind\":\"Any\",\"default\":\"\"},{\"name\":\"clears\",\"kind\":\"Any\",\"default\":0}]},{\"type\":\"model\",\"name\":\"FastWrapper1\",\"properties\":[{\"name\":\"object\",\"kind\":\"Any\",\"default\":null},{\"name\":\"style\",\"kind\":\"Any\",\"default\":null}]},{\"type\":\"model\",\"name\":\"NotificationAreaBase1\",\"properties\":[{\"name\":\"js_events\",\"kind\":\"Any\",\"default\":{\"type\":\"map\"}},{\"name\":\"position\",\"kind\":\"Any\",\"default\":\"bottom-right\"},{\"name\":\"_clear\",\"kind\":\"Any\",\"default\":0}]},{\"type\":\"model\",\"name\":\"NotificationArea1\",\"properties\":[{\"name\":\"js_events\",\"kind\":\"Any\",\"default\":{\"type\":\"map\"}},{\"name\":\"notifications\",\"kind\":\"Any\",\"default\":[]},{\"name\":\"position\",\"kind\":\"Any\",\"default\":\"bottom-right\"},{\"name\":\"_clear\",\"kind\":\"Any\",\"default\":0},{\"name\":\"types\",\"kind\":\"Any\",\"default\":[{\"type\":\"map\",\"entries\":[[\"type\",\"warning\"],[\"background\",\"#ffc107\"],[\"icon\",{\"type\":\"map\",\"entries\":[[\"className\",\"fas fa-exclamation-triangle\"],[\"tagName\",\"i\"],[\"color\",\"white\"]]}]]},{\"type\":\"map\",\"entries\":[[\"type\",\"info\"],[\"background\",\"#007bff\"],[\"icon\",{\"type\":\"map\",\"entries\":[[\"className\",\"fas fa-info-circle\"],[\"tagName\",\"i\"],[\"color\",\"white\"]]}]]}]}]},{\"type\":\"model\",\"name\":\"Notification\",\"properties\":[{\"name\":\"background\",\"kind\":\"Any\",\"default\":null},{\"name\":\"duration\",\"kind\":\"Any\",\"default\":3000},{\"name\":\"icon\",\"kind\":\"Any\",\"default\":null},{\"name\":\"message\",\"kind\":\"Any\",\"default\":\"\"},{\"name\":\"notification_type\",\"kind\":\"Any\",\"default\":null},{\"name\":\"_destroyed\",\"kind\":\"Any\",\"default\":false}]},{\"type\":\"model\",\"name\":\"TemplateActions1\",\"properties\":[{\"name\":\"open_modal\",\"kind\":\"Any\",\"default\":0},{\"name\":\"close_modal\",\"kind\":\"Any\",\"default\":0}]},{\"type\":\"model\",\"name\":\"BootstrapTemplateActions1\",\"properties\":[{\"name\":\"open_modal\",\"kind\":\"Any\",\"default\":0},{\"name\":\"close_modal\",\"kind\":\"Any\",\"default\":0}]},{\"type\":\"model\",\"name\":\"TemplateEditor1\",\"properties\":[{\"name\":\"layout\",\"kind\":\"Any\",\"default\":[]}]},{\"type\":\"model\",\"name\":\"MaterialTemplateActions1\",\"properties\":[{\"name\":\"open_modal\",\"kind\":\"Any\",\"default\":0},{\"name\":\"close_modal\",\"kind\":\"Any\",\"default\":0}]},{\"type\":\"model\",\"name\":\"ReactiveESM1\"},{\"type\":\"model\",\"name\":\"JSComponent1\"},{\"type\":\"model\",\"name\":\"ReactComponent1\"},{\"type\":\"model\",\"name\":\"AnyWidgetComponent1\"},{\"type\":\"model\",\"name\":\"request_value1\",\"properties\":[{\"name\":\"fill\",\"kind\":\"Any\",\"default\":\"none\"},{\"name\":\"_synced\",\"kind\":\"Any\",\"default\":null},{\"name\":\"_request_sync\",\"kind\":\"Any\",\"default\":0}]}]}};\n",
       "  var render_items = [{\"docid\":\"ae350e20-ca7e-468f-a94a-d4298a2b0f1c\",\"roots\":{\"p1002\":\"c48e5900-9c8d-4a8d-a682-62c1c2acd53d\"},\"root_ids\":[\"p1002\"]}];\n",
       "  var docs = Object.values(docs_json)\n",
       "  if (!docs) {\n",
       "    return\n",
       "  }\n",
       "  const py_version = docs[0].version.replace('rc', '-rc.').replace('.dev', '-dev.')\n",
       "  async function embed_document(root) {\n",
       "    var Bokeh = get_bokeh(root)\n",
       "    await Bokeh.embed.embed_items_notebook(docs_json, render_items);\n",
       "    for (const render_item of render_items) {\n",
       "      for (const root_id of render_item.root_ids) {\n",
       "\tconst id_el = document.getElementById(root_id)\n",
       "\tif (id_el.children.length && id_el.children[0].hasAttribute('data-root-id')) {\n",
       "\t  const root_el = id_el.children[0]\n",
       "\t  root_el.id = root_el.id + '-rendered'\n",
       "\t  for (const child of root_el.children) {\n",
       "            // Ensure JupyterLab does not capture keyboard shortcuts\n",
       "            // see: https://jupyterlab.readthedocs.io/en/4.1.x/extension/notebook.html#keyboard-interaction-model\n",
       "\t    child.setAttribute('data-lm-suppress-shortcuts', 'true')\n",
       "\t  }\n",
       "\t}\n",
       "      }\n",
       "    }\n",
       "  }\n",
       "  function get_bokeh(root) {\n",
       "    if (root.Bokeh === undefined) {\n",
       "      return null\n",
       "    } else if (root.Bokeh.version !== py_version) {\n",
       "      if (root.Bokeh.versions === undefined || !root.Bokeh.versions.has(py_version)) {\n",
       "\treturn null\n",
       "      }\n",
       "      return root.Bokeh.versions.get(py_version);\n",
       "    } else if (root.Bokeh.version === py_version) {\n",
       "      return root.Bokeh\n",
       "    }\n",
       "    return null\n",
       "  }\n",
       "  function is_loaded(root) {\n",
       "    var Bokeh = get_bokeh(root)\n",
       "    return (Bokeh != null && Bokeh.Panel !== undefined)\n",
       "  }\n",
       "  if (is_loaded(root)) {\n",
       "    embed_document(root);\n",
       "  } else {\n",
       "    var attempts = 0;\n",
       "    var timer = setInterval(function(root) {\n",
       "      if (is_loaded(root)) {\n",
       "        clearInterval(timer);\n",
       "        embed_document(root);\n",
       "      } else if (document.readyState == \"complete\") {\n",
       "        attempts++;\n",
       "        if (attempts > 200) {\n",
       "          clearInterval(timer);\n",
       "\t  var Bokeh = get_bokeh(root)\n",
       "\t  if (Bokeh == null || Bokeh.Panel == null) {\n",
       "            console.warn(\"Panel: ERROR: Unable to run Panel code because Bokeh or Panel library is missing\");\n",
       "\t  } else {\n",
       "\t    console.warn(\"Panel: WARNING: Attempting to render but not all required libraries could be resolved.\")\n",
       "\t    embed_document(root)\n",
       "\t  }\n",
       "        }\n",
       "      }\n",
       "    }, 25, root)\n",
       "  }\n",
       "})(window);</script>"
      ]
     },
     "metadata": {
      "application/vnd.holoviews_exec.v0+json": {
       "id": "p1002"
      }
     },
     "output_type": "display_data"
    },
    {
     "data": {
      "text/html": [
       "    <style>\n",
       "        .bk-notebook-logo {\n",
       "            display: block;\n",
       "            width: 20px;\n",
       "            height: 20px;\n",
       "            background-image: url(data:image/png;base64,iVBORw0KGgoAAAANSUhEUgAAABQAAAAUCAYAAACNiR0NAAAABHNCSVQICAgIfAhkiAAAAAlwSFlzAAALEgAACxIB0t1+/AAAABx0RVh0U29mdHdhcmUAQWRvYmUgRmlyZXdvcmtzIENTNui8sowAAAOkSURBVDiNjZRtaJVlGMd/1/08zzln5zjP1LWcU9N0NkN8m2CYjpgQYQXqSs0I84OLIC0hkEKoPtiH3gmKoiJDU7QpLgoLjLIQCpEsNJ1vqUOdO7ppbuec5+V+rj4ctwzd8IIbbi6u+8f1539dt3A78eXC7QizUF7gyV1fD1Yqg4JWz84yffhm0qkFqBogB9rM8tZdtwVsPUhWhGcFJngGeWrPzHm5oaMmkfEg1usvLFyc8jLRqDOMru7AyC8saQr7GG7f5fvDeH7Ej8CM66nIF+8yngt6HWaKh7k49Soy9nXurCi1o3qUbS3zWfrYeQDTB/Qj6kX6Ybhw4B+bOYoLKCC9H3Nu/leUTZ1JdRWkkn2ldcCamzrcf47KKXdAJllSlxAOkRgyHsGC/zRday5Qld9DyoM4/q/rUoy/CXh3jzOu3bHUVZeU+DEn8FInkPBFlu3+nW3Nw0mk6vCDiWg8CeJaxEwuHS3+z5RgY+YBR6V1Z1nxSOfoaPa4LASWxxdNp+VWTk7+4vzaou8v8PN+xo+KY2xsw6une2frhw05CTYOmQvsEhjhWjn0bmXPjpE1+kplmmkP3suftwTubK9Vq22qKmrBhpY4jvd5afdRA3wGjFAgcnTK2s4hY0/GPNIb0nErGMCRxWOOX64Z8RAC4oCXdklmEvcL8o0BfkNK4lUg9HTl+oPlQxdNo3Mg4Nv175e/1LDGzZen30MEjRUtmXSfiTVu1kK8W4txyV6BMKlbgk3lMwYCiusNy9fVfvvwMxv8Ynl6vxoByANLTWplvuj/nF9m2+PDtt1eiHPBr1oIfhCChQMBw6Aw0UulqTKZdfVvfG7VcfIqLG9bcldL/+pdWTLxLUy8Qq38heUIjh4XlzZxzQm19lLFlr8vdQ97rjZVOLf8nclzckbcD4wxXMidpX30sFd37Fv/GtwwhzhxGVAprjbg0gCAEeIgwCZyTV2Z1REEW8O4py0wsjeloKoMr6iCY6dP92H6Vw/oTyICIthibxjm/DfN9lVz8IqtqKYLUXfoKVMVQVVJOElGjrnnUt9T9wbgp8AyYKaGlqingHZU/uG2NTZSVqwHQTWkx9hxjkpWDaCg6Ckj5qebgBVbT3V3NNXMSiWSDdGV3hrtzla7J+duwPOToIg42ChPQOQjspnSlp1V+Gjdged7+8UN5CRAV7a5EdFNwCjEaBR27b3W890TE7g24NAP/mMDXRWrGoFPQI9ls/MWO2dWFAar/xcOIImbbpA3zgAAAABJRU5ErkJggg==);\n",
       "        }\n",
       "    </style>\n",
       "    <div>\n",
       "        <a href=\"https://bokeh.org\" target=\"_blank\" class=\"bk-notebook-logo\"></a>\n",
       "        <span id=\"c0a94412-491a-4b6d-895a-0fae8a9a5225\">Loading BokehJS ...</span>\n",
       "    </div>\n"
      ]
     },
     "metadata": {},
     "output_type": "display_data"
    },
    {
     "data": {
      "application/javascript": "'use strict';\n(function(root) {\n  function now() {\n    return new Date();\n  }\n\n  const force = true;\n\n  if (typeof root._bokeh_onload_callbacks === \"undefined\" || force === true) {\n    root._bokeh_onload_callbacks = [];\n    root._bokeh_is_loading = undefined;\n  }\n\nconst JS_MIME_TYPE = 'application/javascript';\n  const HTML_MIME_TYPE = 'text/html';\n  const EXEC_MIME_TYPE = 'application/vnd.bokehjs_exec.v0+json';\n  const CLASS_NAME = 'output_bokeh rendered_html';\n\n  /**\n   * Render data to the DOM node\n   */\n  function render(props, node) {\n    const script = document.createElement(\"script\");\n    node.appendChild(script);\n  }\n\n  /**\n   * Handle when an output is cleared or removed\n   */\n  function handleClearOutput(event, handle) {\n    function drop(id) {\n      const view = Bokeh.index.get_by_id(id)\n      if (view != null) {\n        view.model.document.clear()\n        Bokeh.index.delete(view)\n      }\n    }\n\n    const cell = handle.cell;\n\n    const id = cell.output_area._bokeh_element_id;\n    const server_id = cell.output_area._bokeh_server_id;\n\n    // Clean up Bokeh references\n    if (id != null) {\n      drop(id)\n    }\n\n    if (server_id !== undefined) {\n      // Clean up Bokeh references\n      const cmd_clean = \"from bokeh.io.state import curstate; print(curstate().uuid_to_server['\" + server_id + \"'].get_sessions()[0].document.roots[0]._id)\";\n      cell.notebook.kernel.execute(cmd_clean, {\n        iopub: {\n          output: function(msg) {\n            const id = msg.content.text.trim()\n            drop(id)\n          }\n        }\n      });\n      // Destroy server and session\n      const cmd_destroy = \"import bokeh.io.notebook as ion; ion.destroy_server('\" + server_id + \"')\";\n      cell.notebook.kernel.execute(cmd_destroy);\n    }\n  }\n\n  /**\n   * Handle when a new output is added\n   */\n  function handleAddOutput(event, handle) {\n    const output_area = handle.output_area;\n    const output = handle.output;\n\n    // limit handleAddOutput to display_data with EXEC_MIME_TYPE content only\n    if ((output.output_type != \"display_data\") || (!Object.prototype.hasOwnProperty.call(output.data, EXEC_MIME_TYPE))) {\n      return\n    }\n\n    const toinsert = output_area.element.find(\".\" + CLASS_NAME.split(' ')[0]);\n\n    if (output.metadata[EXEC_MIME_TYPE][\"id\"] !== undefined) {\n      toinsert[toinsert.length - 1].firstChild.textContent = output.data[JS_MIME_TYPE];\n      // store reference to embed id on output_area\n      output_area._bokeh_element_id = output.metadata[EXEC_MIME_TYPE][\"id\"];\n    }\n    if (output.metadata[EXEC_MIME_TYPE][\"server_id\"] !== undefined) {\n      const bk_div = document.createElement(\"div\");\n      bk_div.innerHTML = output.data[HTML_MIME_TYPE];\n      const script_attrs = bk_div.children[0].attributes;\n      for (let i = 0; i < script_attrs.length; i++) {\n        toinsert[toinsert.length - 1].firstChild.setAttribute(script_attrs[i].name, script_attrs[i].value);\n        toinsert[toinsert.length - 1].firstChild.textContent = bk_div.children[0].textContent\n      }\n      // store reference to server id on output_area\n      output_area._bokeh_server_id = output.metadata[EXEC_MIME_TYPE][\"server_id\"];\n    }\n  }\n\n  function register_renderer(events, OutputArea) {\n\n    function append_mime(data, metadata, element) {\n      // create a DOM node to render to\n      const toinsert = this.create_output_subarea(\n        metadata,\n        CLASS_NAME,\n        EXEC_MIME_TYPE\n      );\n      this.keyboard_manager.register_events(toinsert);\n      // Render to node\n      const props = {data: data, metadata: metadata[EXEC_MIME_TYPE]};\n      render(props, toinsert[toinsert.length - 1]);\n      element.append(toinsert);\n      return toinsert\n    }\n\n    /* Handle when an output is cleared or removed */\n    events.on('clear_output.CodeCell', handleClearOutput);\n    events.on('delete.Cell', handleClearOutput);\n\n    /* Handle when a new output is added */\n    events.on('output_added.OutputArea', handleAddOutput);\n\n    /**\n     * Register the mime type and append_mime function with output_area\n     */\n    OutputArea.prototype.register_mime_type(EXEC_MIME_TYPE, append_mime, {\n      /* Is output safe? */\n      safe: true,\n      /* Index of renderer in `output_area.display_order` */\n      index: 0\n    });\n  }\n\n  // register the mime type if in Jupyter Notebook environment and previously unregistered\n  if (root.Jupyter !== undefined) {\n    const events = require('base/js/events');\n    const OutputArea = require('notebook/js/outputarea').OutputArea;\n\n    if (OutputArea.prototype.mime_types().indexOf(EXEC_MIME_TYPE) == -1) {\n      register_renderer(events, OutputArea);\n    }\n  }\n  if (typeof (root._bokeh_timeout) === \"undefined\" || force === true) {\n    root._bokeh_timeout = Date.now() + 5000;\n    root._bokeh_failed_load = false;\n  }\n\n  const NB_LOAD_WARNING = {'data': {'text/html':\n     \"<div style='background-color: #fdd'>\\n\"+\n     \"<p>\\n\"+\n     \"BokehJS does not appear to have successfully loaded. If loading BokehJS from CDN, this \\n\"+\n     \"may be due to a slow or bad network connection. Possible fixes:\\n\"+\n     \"</p>\\n\"+\n     \"<ul>\\n\"+\n     \"<li>re-rerun `output_notebook()` to attempt to load from CDN again, or</li>\\n\"+\n     \"<li>use INLINE resources instead, as so:</li>\\n\"+\n     \"</ul>\\n\"+\n     \"<code>\\n\"+\n     \"from bokeh.resources import INLINE\\n\"+\n     \"output_notebook(resources=INLINE)\\n\"+\n     \"</code>\\n\"+\n     \"</div>\"}};\n\n  function display_loaded(error = null) {\n    const el = document.getElementById(\"c0a94412-491a-4b6d-895a-0fae8a9a5225\");\n    if (el != null) {\n      const html = (() => {\n        if (typeof root.Bokeh === \"undefined\") {\n          if (error == null) {\n            return \"BokehJS is loading ...\";\n          } else {\n            return \"BokehJS failed to load.\";\n          }\n        } else {\n          const prefix = `BokehJS ${root.Bokeh.version}`;\n          if (error == null) {\n            return `${prefix} successfully loaded.`;\n          } else {\n            return `${prefix} <b>encountered errors</b> while loading and may not function as expected.`;\n          }\n        }\n      })();\n      el.innerHTML = html;\n\n      if (error != null) {\n        const wrapper = document.createElement(\"div\");\n        wrapper.style.overflow = \"auto\";\n        wrapper.style.height = \"5em\";\n        wrapper.style.resize = \"vertical\";\n        const content = document.createElement(\"div\");\n        content.style.fontFamily = \"monospace\";\n        content.style.whiteSpace = \"pre-wrap\";\n        content.style.backgroundColor = \"rgb(255, 221, 221)\";\n        content.textContent = error.stack ?? error.toString();\n        wrapper.append(content);\n        el.append(wrapper);\n      }\n    } else if (Date.now() < root._bokeh_timeout) {\n      setTimeout(() => display_loaded(error), 100);\n    }\n  }\n\n  function run_callbacks() {\n    try {\n      root._bokeh_onload_callbacks.forEach(function(callback) {\n        if (callback != null)\n          callback();\n      });\n    } finally {\n      delete root._bokeh_onload_callbacks\n    }\n    console.debug(\"Bokeh: all callbacks have finished\");\n  }\n\n  function load_libs(css_urls, js_urls, callback) {\n    if (css_urls == null) css_urls = [];\n    if (js_urls == null) js_urls = [];\n\n    root._bokeh_onload_callbacks.push(callback);\n    if (root._bokeh_is_loading > 0) {\n      console.debug(\"Bokeh: BokehJS is being loaded, scheduling callback at\", now());\n      return null;\n    }\n    if (js_urls == null || js_urls.length === 0) {\n      run_callbacks();\n      return null;\n    }\n    console.debug(\"Bokeh: BokehJS not loaded, scheduling load and callback at\", now());\n    root._bokeh_is_loading = css_urls.length + js_urls.length;\n\n    function on_load() {\n      root._bokeh_is_loading--;\n      if (root._bokeh_is_loading === 0) {\n        console.debug(\"Bokeh: all BokehJS libraries/stylesheets loaded\");\n        run_callbacks()\n      }\n    }\n\n    function on_error(url) {\n      console.error(\"failed to load \" + url);\n    }\n\n    for (let i = 0; i < css_urls.length; i++) {\n      const url = css_urls[i];\n      const element = document.createElement(\"link\");\n      element.onload = on_load;\n      element.onerror = on_error.bind(null, url);\n      element.rel = \"stylesheet\";\n      element.type = \"text/css\";\n      element.href = url;\n      console.debug(\"Bokeh: injecting link tag for BokehJS stylesheet: \", url);\n      document.body.appendChild(element);\n    }\n\n    for (let i = 0; i < js_urls.length; i++) {\n      const url = js_urls[i];\n      const element = document.createElement('script');\n      element.onload = on_load;\n      element.onerror = on_error.bind(null, url);\n      element.async = false;\n      element.src = url;\n      console.debug(\"Bokeh: injecting script tag for BokehJS library: \", url);\n      document.head.appendChild(element);\n    }\n  };\n\n  function inject_raw_css(css) {\n    const element = document.createElement(\"style\");\n    element.appendChild(document.createTextNode(css));\n    document.body.appendChild(element);\n  }\n\n  const js_urls = [\"https://cdn.holoviz.org/panel/1.5.0/dist/bundled/reactiveesm/es-module-shims@^1.10.0/dist/es-module-shims.min.js\", \"https://cdn.bokeh.org/bokeh/release/bokeh-3.5.2.min.js\", \"https://cdn.bokeh.org/bokeh/release/bokeh-gl-3.5.2.min.js\", \"https://cdn.bokeh.org/bokeh/release/bokeh-widgets-3.5.2.min.js\", \"https://cdn.bokeh.org/bokeh/release/bokeh-tables-3.5.2.min.js\", \"https://cdn.bokeh.org/bokeh/release/bokeh-mathjax-3.5.2.min.js\", \"https://unpkg.com/@holoviz/panel@1.5.0/dist/panel.min.js\"];\n  const css_urls = [];\n\n  const inline_js = [    function(Bokeh) {\n      Bokeh.set_log_level(\"info\");\n    },\nfunction(Bokeh) {\n    }\n  ];\n\n  function run_inline_js() {\n    if (root.Bokeh !== undefined || force === true) {\n      try {\n            for (let i = 0; i < inline_js.length; i++) {\n      inline_js[i].call(root, root.Bokeh);\n    }\n\n      } catch (error) {display_loaded(error);throw error;\n      }if (force === true) {\n        display_loaded();\n      }} else if (Date.now() < root._bokeh_timeout) {\n      setTimeout(run_inline_js, 100);\n    } else if (!root._bokeh_failed_load) {\n      console.log(\"Bokeh: BokehJS failed to load within specified timeout.\");\n      root._bokeh_failed_load = true;\n    } else if (force !== true) {\n      const cell = $(document.getElementById(\"c0a94412-491a-4b6d-895a-0fae8a9a5225\")).parents('.cell').data().cell;\n      cell.output_area.append_execute_result(NB_LOAD_WARNING)\n    }\n  }\n\n  if (root._bokeh_is_loading === 0) {\n    console.debug(\"Bokeh: BokehJS loaded, going straight to plotting\");\n    run_inline_js();\n  } else {\n    load_libs(css_urls, js_urls, function() {\n      console.debug(\"Bokeh: BokehJS plotting callback run at\", now());\n      run_inline_js();\n    });\n  }\n}(window));",
      "application/vnd.bokehjs_load.v0+json": ""
     },
     "metadata": {},
     "output_type": "display_data"
    },
    {
     "data": {
      "text/html": [
       "<script type=\"esms-options\">{\"shimMode\": true}</script><style>*[data-root-id],\n",
       "*[data-root-id] > * {\n",
       "  box-sizing: border-box;\n",
       "  font-family: var(--jp-ui-font-family);\n",
       "  font-size: var(--jp-ui-font-size1);\n",
       "  color: var(--vscode-editor-foreground, var(--jp-ui-font-color1));\n",
       "}\n",
       "\n",
       "/* Override VSCode background color */\n",
       ".cell-output-ipywidget-background:has(\n",
       "    > .cell-output-ipywidget-background > .lm-Widget > *[data-root-id]\n",
       "  ),\n",
       ".cell-output-ipywidget-background:has(> .lm-Widget > *[data-root-id]) {\n",
       "  background-color: transparent !important;\n",
       "}\n",
       "</style>"
      ]
     },
     "metadata": {},
     "output_type": "display_data"
    },
    {
     "data": {
      "application/javascript": "(function(root) {\n  function now() {\n    return new Date();\n  }\n\n  const force = false;\n  const py_version = '3.5.2'.replace('rc', '-rc.').replace('.dev', '-dev.');\n  const reloading = true;\n  const Bokeh = root.Bokeh;\n\n  // Set a timeout for this load but only if we are not already initializing\n  if (typeof (root._bokeh_timeout) === \"undefined\" || (force || !root._bokeh_is_initializing)) {\n    root._bokeh_timeout = Date.now() + 5000;\n    root._bokeh_failed_load = false;\n  }\n\n  function run_callbacks() {\n    try {\n      root._bokeh_onload_callbacks.forEach(function(callback) {\n        if (callback != null)\n          callback();\n      });\n    } finally {\n      delete root._bokeh_onload_callbacks;\n    }\n    console.debug(\"Bokeh: all callbacks have finished\");\n  }\n\n  function load_libs(css_urls, js_urls, js_modules, js_exports, callback) {\n    if (css_urls == null) css_urls = [];\n    if (js_urls == null) js_urls = [];\n    if (js_modules == null) js_modules = [];\n    if (js_exports == null) js_exports = {};\n\n    root._bokeh_onload_callbacks.push(callback);\n\n    if (root._bokeh_is_loading > 0) {\n      // Don't load bokeh if it is still initializing\n      console.debug(\"Bokeh: BokehJS is being loaded, scheduling callback at\", now());\n      return null;\n    } else if (js_urls.length === 0 && js_modules.length === 0 && Object.keys(js_exports).length === 0) {\n      // There is nothing to load\n      run_callbacks();\n      return null;\n    }\n\n    function on_load() {\n      root._bokeh_is_loading--;\n      if (root._bokeh_is_loading === 0) {\n        console.debug(\"Bokeh: all BokehJS libraries/stylesheets loaded\");\n        run_callbacks()\n      }\n    }\n    window._bokeh_on_load = on_load\n\n    function on_error(e) {\n      const src_el = e.srcElement\n      console.error(\"failed to load \" + (src_el.href || src_el.src));\n    }\n\n    const skip = [];\n    if (window.requirejs) {\n      window.requirejs.config({'packages': {}, 'paths': {}, 'shim': {}});\n      root._bokeh_is_loading = css_urls.length + 0;\n    } else {\n      root._bokeh_is_loading = css_urls.length + js_urls.length + js_modules.length + Object.keys(js_exports).length;\n    }\n\n    const existing_stylesheets = []\n    const links = document.getElementsByTagName('link')\n    for (let i = 0; i < links.length; i++) {\n      const link = links[i]\n      if (link.href != null) {\n        existing_stylesheets.push(link.href)\n      }\n    }\n    for (let i = 0; i < css_urls.length; i++) {\n      const url = css_urls[i];\n      const escaped = encodeURI(url)\n      if (existing_stylesheets.indexOf(escaped) !== -1) {\n        on_load()\n        continue;\n      }\n      const element = document.createElement(\"link\");\n      element.onload = on_load;\n      element.onerror = on_error;\n      element.rel = \"stylesheet\";\n      element.type = \"text/css\";\n      element.href = url;\n      console.debug(\"Bokeh: injecting link tag for BokehJS stylesheet: \", url);\n      document.body.appendChild(element);\n    }    var existing_scripts = []\n    const scripts = document.getElementsByTagName('script')\n    for (let i = 0; i < scripts.length; i++) {\n      var script = scripts[i]\n      if (script.src != null) {\n        existing_scripts.push(script.src)\n      }\n    }\n    for (let i = 0; i < js_urls.length; i++) {\n      const url = js_urls[i];\n      const escaped = encodeURI(url)\n      if (skip.indexOf(escaped) !== -1 || existing_scripts.indexOf(escaped) !== -1) {\n        if (!window.requirejs) {\n          on_load();\n        }\n        continue;\n      }\n      const element = document.createElement('script');\n      element.onload = on_load;\n      element.onerror = on_error;\n      element.async = false;\n      element.src = url;\n      console.debug(\"Bokeh: injecting script tag for BokehJS library: \", url);\n      document.head.appendChild(element);\n    }\n    for (let i = 0; i < js_modules.length; i++) {\n      const url = js_modules[i];\n      const escaped = encodeURI(url)\n      if (skip.indexOf(escaped) !== -1 || existing_scripts.indexOf(escaped) !== -1) {\n        if (!window.requirejs) {\n          on_load();\n        }\n        continue;\n      }\n      var element = document.createElement('script');\n      element.onload = on_load;\n      element.onerror = on_error;\n      element.async = false;\n      element.src = url;\n      element.type = \"module\";\n      console.debug(\"Bokeh: injecting script tag for BokehJS library: \", url);\n      document.head.appendChild(element);\n    }\n    for (const name in js_exports) {\n      const url = js_exports[name];\n      const escaped = encodeURI(url)\n      if (skip.indexOf(escaped) >= 0 || root[name] != null) {\n        if (!window.requirejs) {\n          on_load();\n        }\n        continue;\n      }\n      var element = document.createElement('script');\n      element.onerror = on_error;\n      element.async = false;\n      element.type = \"module\";\n      console.debug(\"Bokeh: injecting script tag for BokehJS library: \", url);\n      element.textContent = `\n      import ${name} from \"${url}\"\n      window.${name} = ${name}\n      window._bokeh_on_load()\n      `\n      document.head.appendChild(element);\n    }\n    if (!js_urls.length && !js_modules.length) {\n      on_load()\n    }\n  };\n\n  function inject_raw_css(css) {\n    const element = document.createElement(\"style\");\n    element.appendChild(document.createTextNode(css));\n    document.body.appendChild(element);\n  }\n\n  const js_urls = [\"https://cdn.holoviz.org/panel/1.5.0/dist/bundled/reactiveesm/es-module-shims@^1.10.0/dist/es-module-shims.min.js\"];\n  const js_modules = [];\n  const js_exports = {};\n  const css_urls = [];\n  const inline_js = [    function(Bokeh) {\n      Bokeh.set_log_level(\"info\");\n    },\nfunction(Bokeh) {} // ensure no trailing comma for IE\n  ];\n\n  function run_inline_js() {\n    if ((root.Bokeh !== undefined) || (force === true)) {\n      for (let i = 0; i < inline_js.length; i++) {\n        try {\n          inline_js[i].call(root, root.Bokeh);\n        } catch(e) {\n          if (!reloading) {\n            throw e;\n          }\n        }\n      }\n      // Cache old bokeh versions\n      if (Bokeh != undefined && !reloading) {\n        var NewBokeh = root.Bokeh;\n        if (Bokeh.versions === undefined) {\n          Bokeh.versions = new Map();\n        }\n        if (NewBokeh.version !== Bokeh.version) {\n          Bokeh.versions.set(NewBokeh.version, NewBokeh)\n        }\n        root.Bokeh = Bokeh;\n      }\n    } else if (Date.now() < root._bokeh_timeout) {\n      setTimeout(run_inline_js, 100);\n    } else if (!root._bokeh_failed_load) {\n      console.log(\"Bokeh: BokehJS failed to load within specified timeout.\");\n      root._bokeh_failed_load = true;\n    }\n    root._bokeh_is_initializing = false\n  }\n\n  function load_or_wait() {\n    // Implement a backoff loop that tries to ensure we do not load multiple\n    // versions of Bokeh and its dependencies at the same time.\n    // In recent versions we use the root._bokeh_is_initializing flag\n    // to determine whether there is an ongoing attempt to initialize\n    // bokeh, however for backward compatibility we also try to ensure\n    // that we do not start loading a newer (Panel>=1.0 and Bokeh>3) version\n    // before older versions are fully initialized.\n    if (root._bokeh_is_initializing && Date.now() > root._bokeh_timeout) {\n      // If the timeout and bokeh was not successfully loaded we reset\n      // everything and try loading again\n      root._bokeh_timeout = Date.now() + 5000;\n      root._bokeh_is_initializing = false;\n      root._bokeh_onload_callbacks = undefined;\n      root._bokeh_is_loading = 0\n      console.log(\"Bokeh: BokehJS was loaded multiple times but one version failed to initialize.\");\n      load_or_wait();\n    } else if (root._bokeh_is_initializing || (typeof root._bokeh_is_initializing === \"undefined\" && root._bokeh_onload_callbacks !== undefined)) {\n      setTimeout(load_or_wait, 100);\n    } else {\n      root._bokeh_is_initializing = true\n      root._bokeh_onload_callbacks = []\n      const bokeh_loaded = root.Bokeh != null && (root.Bokeh.version === py_version || (root.Bokeh.versions !== undefined && root.Bokeh.versions.has(py_version)));\n      if (!reloading && !bokeh_loaded) {\n        if (root.Bokeh) {\n          root.Bokeh = undefined;\n        }\n        console.debug(\"Bokeh: BokehJS not loaded, scheduling load and callback at\", now());\n      }\n      load_libs(css_urls, js_urls, js_modules, js_exports, function() {\n        console.debug(\"Bokeh: BokehJS plotting callback run at\", now());\n        run_inline_js();\n      });\n    }\n  }\n  // Give older versions of the autoload script a head-start to ensure\n  // they initialize before we start loading newer version.\n  setTimeout(load_or_wait, 100)\n}(window));",
      "application/vnd.holoviews_load.v0+json": ""
     },
     "metadata": {},
     "output_type": "display_data"
    },
    {
     "data": {
      "application/javascript": "\nif ((window.PyViz === undefined) || (window.PyViz instanceof HTMLElement)) {\n  window.PyViz = {comms: {}, comm_status:{}, kernels:{}, receivers: {}, plot_index: []}\n}\n\n\n    function JupyterCommManager() {\n    }\n\n    JupyterCommManager.prototype.register_target = function(plot_id, comm_id, msg_handler) {\n      if (window.comm_manager || ((window.Jupyter !== undefined) && (Jupyter.notebook.kernel != null))) {\n        var comm_manager = window.comm_manager || Jupyter.notebook.kernel.comm_manager;\n        comm_manager.register_target(comm_id, function(comm) {\n          comm.on_msg(msg_handler);\n        });\n      } else if ((plot_id in window.PyViz.kernels) && (window.PyViz.kernels[plot_id])) {\n        window.PyViz.kernels[plot_id].registerCommTarget(comm_id, function(comm) {\n          comm.onMsg = msg_handler;\n        });\n      } else if (typeof google != 'undefined' && google.colab.kernel != null) {\n        google.colab.kernel.comms.registerTarget(comm_id, (comm) => {\n          var messages = comm.messages[Symbol.asyncIterator]();\n          function processIteratorResult(result) {\n            var message = result.value;\n            console.log(message)\n            var content = {data: message.data, comm_id};\n            var buffers = []\n            for (var buffer of message.buffers || []) {\n              buffers.push(new DataView(buffer))\n            }\n            var metadata = message.metadata || {};\n            var msg = {content, buffers, metadata}\n            msg_handler(msg);\n            return messages.next().then(processIteratorResult);\n          }\n          return messages.next().then(processIteratorResult);\n        })\n      }\n    }\n\n    JupyterCommManager.prototype.get_client_comm = function(plot_id, comm_id, msg_handler) {\n      if (comm_id in window.PyViz.comms) {\n        return window.PyViz.comms[comm_id];\n      } else if (window.comm_manager || ((window.Jupyter !== undefined) && (Jupyter.notebook.kernel != null))) {\n        var comm_manager = window.comm_manager || Jupyter.notebook.kernel.comm_manager;\n        var comm = comm_manager.new_comm(comm_id, {}, {}, {}, comm_id);\n        if (msg_handler) {\n          comm.on_msg(msg_handler);\n        }\n      } else if ((plot_id in window.PyViz.kernels) && (window.PyViz.kernels[plot_id])) {\n        var comm = window.PyViz.kernels[plot_id].connectToComm(comm_id);\n        comm.open();\n        if (msg_handler) {\n          comm.onMsg = msg_handler;\n        }\n      } else if (typeof google != 'undefined' && google.colab.kernel != null) {\n        var comm_promise = google.colab.kernel.comms.open(comm_id)\n        comm_promise.then((comm) => {\n          window.PyViz.comms[comm_id] = comm;\n          if (msg_handler) {\n            var messages = comm.messages[Symbol.asyncIterator]();\n            function processIteratorResult(result) {\n              var message = result.value;\n              var content = {data: message.data};\n              var metadata = message.metadata || {comm_id};\n              var msg = {content, metadata}\n              msg_handler(msg);\n              return messages.next().then(processIteratorResult);\n            }\n            return messages.next().then(processIteratorResult);\n          }\n        }) \n        var sendClosure = (data, metadata, buffers, disposeOnDone) => {\n          return comm_promise.then((comm) => {\n            comm.send(data, metadata, buffers, disposeOnDone);\n          });\n        };\n        var comm = {\n          send: sendClosure\n        };\n      }\n      window.PyViz.comms[comm_id] = comm;\n      return comm;\n    }\n    window.PyViz.comm_manager = new JupyterCommManager();\n    \n\n\nvar JS_MIME_TYPE = 'application/javascript';\nvar HTML_MIME_TYPE = 'text/html';\nvar EXEC_MIME_TYPE = 'application/vnd.holoviews_exec.v0+json';\nvar CLASS_NAME = 'output';\n\n/**\n * Render data to the DOM node\n */\nfunction render(props, node) {\n  var div = document.createElement(\"div\");\n  var script = document.createElement(\"script\");\n  node.appendChild(div);\n  node.appendChild(script);\n}\n\n/**\n * Handle when a new output is added\n */\nfunction handle_add_output(event, handle) {\n  var output_area = handle.output_area;\n  var output = handle.output;\n  if ((output.data == undefined) || (!output.data.hasOwnProperty(EXEC_MIME_TYPE))) {\n    return\n  }\n  var id = output.metadata[EXEC_MIME_TYPE][\"id\"];\n  var toinsert = output_area.element.find(\".\" + CLASS_NAME.split(' ')[0]);\n  if (id !== undefined) {\n    var nchildren = toinsert.length;\n    var html_node = toinsert[nchildren-1].children[0];\n    html_node.innerHTML = output.data[HTML_MIME_TYPE];\n    var scripts = [];\n    var nodelist = html_node.querySelectorAll(\"script\");\n    for (var i in nodelist) {\n      if (nodelist.hasOwnProperty(i)) {\n        scripts.push(nodelist[i])\n      }\n    }\n\n    scripts.forEach( function (oldScript) {\n      var newScript = document.createElement(\"script\");\n      var attrs = [];\n      var nodemap = oldScript.attributes;\n      for (var j in nodemap) {\n        if (nodemap.hasOwnProperty(j)) {\n          attrs.push(nodemap[j])\n        }\n      }\n      attrs.forEach(function(attr) { newScript.setAttribute(attr.name, attr.value) });\n      newScript.appendChild(document.createTextNode(oldScript.innerHTML));\n      oldScript.parentNode.replaceChild(newScript, oldScript);\n    });\n    if (JS_MIME_TYPE in output.data) {\n      toinsert[nchildren-1].children[1].textContent = output.data[JS_MIME_TYPE];\n    }\n    output_area._hv_plot_id = id;\n    if ((window.Bokeh !== undefined) && (id in Bokeh.index)) {\n      window.PyViz.plot_index[id] = Bokeh.index[id];\n    } else {\n      window.PyViz.plot_index[id] = null;\n    }\n  } else if (output.metadata[EXEC_MIME_TYPE][\"server_id\"] !== undefined) {\n    var bk_div = document.createElement(\"div\");\n    bk_div.innerHTML = output.data[HTML_MIME_TYPE];\n    var script_attrs = bk_div.children[0].attributes;\n    for (var i = 0; i < script_attrs.length; i++) {\n      toinsert[toinsert.length - 1].childNodes[1].setAttribute(script_attrs[i].name, script_attrs[i].value);\n    }\n    // store reference to server id on output_area\n    output_area._bokeh_server_id = output.metadata[EXEC_MIME_TYPE][\"server_id\"];\n  }\n}\n\n/**\n * Handle when an output is cleared or removed\n */\nfunction handle_clear_output(event, handle) {\n  var id = handle.cell.output_area._hv_plot_id;\n  var server_id = handle.cell.output_area._bokeh_server_id;\n  if (((id === undefined) || !(id in PyViz.plot_index)) && (server_id !== undefined)) { return; }\n  var comm = window.PyViz.comm_manager.get_client_comm(\"hv-extension-comm\", \"hv-extension-comm\", function () {});\n  if (server_id !== null) {\n    comm.send({event_type: 'server_delete', 'id': server_id});\n    return;\n  } else if (comm !== null) {\n    comm.send({event_type: 'delete', 'id': id});\n  }\n  delete PyViz.plot_index[id];\n  if ((window.Bokeh !== undefined) & (id in window.Bokeh.index)) {\n    var doc = window.Bokeh.index[id].model.document\n    doc.clear();\n    const i = window.Bokeh.documents.indexOf(doc);\n    if (i > -1) {\n      window.Bokeh.documents.splice(i, 1);\n    }\n  }\n}\n\n/**\n * Handle kernel restart event\n */\nfunction handle_kernel_cleanup(event, handle) {\n  delete PyViz.comms[\"hv-extension-comm\"];\n  window.PyViz.plot_index = {}\n}\n\n/**\n * Handle update_display_data messages\n */\nfunction handle_update_output(event, handle) {\n  handle_clear_output(event, {cell: {output_area: handle.output_area}})\n  handle_add_output(event, handle)\n}\n\nfunction register_renderer(events, OutputArea) {\n  function append_mime(data, metadata, element) {\n    // create a DOM node to render to\n    var toinsert = this.create_output_subarea(\n    metadata,\n    CLASS_NAME,\n    EXEC_MIME_TYPE\n    );\n    this.keyboard_manager.register_events(toinsert);\n    // Render to node\n    var props = {data: data, metadata: metadata[EXEC_MIME_TYPE]};\n    render(props, toinsert[0]);\n    element.append(toinsert);\n    return toinsert\n  }\n\n  events.on('output_added.OutputArea', handle_add_output);\n  events.on('output_updated.OutputArea', handle_update_output);\n  events.on('clear_output.CodeCell', handle_clear_output);\n  events.on('delete.Cell', handle_clear_output);\n  events.on('kernel_ready.Kernel', handle_kernel_cleanup);\n\n  OutputArea.prototype.register_mime_type(EXEC_MIME_TYPE, append_mime, {\n    safe: true,\n    index: 0\n  });\n}\n\nif (window.Jupyter !== undefined) {\n  try {\n    var events = require('base/js/events');\n    var OutputArea = require('notebook/js/outputarea').OutputArea;\n    if (OutputArea.prototype.mime_types().indexOf(EXEC_MIME_TYPE) == -1) {\n      register_renderer(events, OutputArea);\n    }\n  } catch(err) {\n  }\n}\n",
      "application/vnd.holoviews_load.v0+json": ""
     },
     "metadata": {},
     "output_type": "display_data"
    }
   ],
   "source": [
    "import sys\n",
    "import os\n",
    "from icecream import ic\n",
    "\n",
    "from pathlib import Path\n",
    "\n",
    "import utils_behavior\n",
    "\n",
    "from utils_behavior import Ballpushing_utils\n",
    "from utils_behavior import Utils\n",
    "from utils_behavior import Processing\n",
    "from utils_behavior import HoloviewsTemplates\n",
    "from utils_behavior import Seaborn_Templates\n",
    "from utils_behavior import Sleap_utils\n",
    "from utils_behavior import Processing\n",
    "\n",
    "\n",
    "import pandas as pd\n",
    "import hvplot.pandas\n",
    "import numpy as np\n",
    "\n",
    "from scipy import stats\n",
    "from statsmodels.stats.multitest import multipletests\n",
    "\n",
    "# from sklearn.decomposition import PCA\n",
    "# from sklearn.preprocessing import StandardScaler\n",
    "import pandas as pd\n",
    "\n",
    "import matplotlib.pyplot as plt\n",
    "import seaborn as sns\n",
    "\n",
    "#import iqplot\n",
    "\n",
    "import importlib\n",
    "\n",
    "import holoviews as hv\n",
    "import bokeh.io\n",
    "import colorcet\n",
    "\n",
    "bokeh.io.output_notebook()\n",
    "\n",
    "hv.extension(\"bokeh\")"
   ]
  },
  {
   "cell_type": "code",
   "execution_count": null,
   "metadata": {},
   "outputs": [],
   "source": [
    "# Select the experiments to analyze"
   ]
  },
  {
   "cell_type": "markdown",
   "metadata": {},
   "source": [
    "Let's start with one that is representative of the best settings I had, which was using magnets under the backlighting sheet, keeping control flies in their chambers until the first half-hour of pretraining was finished.\n",
    "These were done on **240530 and 240531**"
   ]
  },
  {
   "cell_type": "code",
   "execution_count": null,
   "metadata": {},
   "outputs": [],
   "source": [
    "# Get the data path\n",
    "Datapath = Utils.get_data_path()\n",
    "\n",
    "# Get all folders with \"TNT_Fine\" in the name\n",
    "\n",
    "Folders = [\n",
    "    f\n",
    "    for f in os.listdir(Datapath)\n",
    "    if \"240530\" in f or \"240531\" in f and os.path.isdir(Datapath / f)\n",
    "]\n",
    "\n",
    "Folders"
   ]
  },
  {
   "cell_type": "code",
   "execution_count": null,
   "metadata": {},
   "outputs": [],
   "source": [
    "importlib.reload(Ballpushing_utils)"
   ]
  },
  {
   "cell_type": "code",
   "execution_count": null,
   "metadata": {},
   "outputs": [],
   "source": [
    "# Generate Experiment objects from each folder\n",
    "\n",
    "Experiments = [Ballpushing_utils.Experiment(Datapath / f, experiment_type = \"MagnetBlock\") for f in Folders]"
   ]
  },
  {
   "cell_type": "code",
   "execution_count": null,
   "metadata": {},
   "outputs": [],
   "source": [
    "importlib.reload(Ballpushing_utils)"
   ]
  },
  {
   "cell_type": "code",
   "execution_count": null,
   "metadata": {},
   "outputs": [],
   "source": [
    "# Build the position\n",
    "\n",
    "magnet_data_summary = Ballpushing_utils.Dataset(Experiments, dataset_type=\"summary\")\n",
    "\n",
    "print(magnet_data_summary)"
   ]
  },
  {
   "cell_type": "code",
   "execution_count": null,
   "metadata": {},
   "outputs": [],
   "source": [
    "Magnet_summary_dataset = magnet_data_summary.data\n",
    "\n",
    "Magnet_summary_dataset"
   ]
  },
  {
   "cell_type": "code",
   "execution_count": null,
   "metadata": {},
   "outputs": [],
   "source": [
    "magnet_data_summary.data.columns"
   ]
  },
  {
   "cell_type": "code",
   "execution_count": null,
   "metadata": {},
   "outputs": [],
   "source": [
    "metrics_to_plot = ['nb_events', 'max_event', 'max_event_time', 'max_distance',\n",
    "       'final_event', 'final_event_time', 'nb_significant_events',\n",
    "       'significant_ratio', 'first_significant_event',\n",
    "       'first_significant_event_time', 'aha_moment', 'aha_moment_time',\n",
    "       'insight_effect', 'cumulated_breaks_duration', 'pushed', 'pulled',\n",
    "       'pulling_ratio', 'success_direction', 'interaction_proportion',\n",
    "       'distance_moved']"
   ]
  },
  {
   "cell_type": "code",
   "execution_count": null,
   "metadata": {},
   "outputs": [],
   "source": [
    "importlib.reload(Seaborn_Templates)"
   ]
  },
  {
   "cell_type": "code",
   "execution_count": null,
   "metadata": {},
   "outputs": [],
   "source": [
    "for metric in metrics_to_plot:\n",
    "    try:\n",
    "        Seaborn_Templates.sns_plot(magnet_data_summary.data, metric=metric, kdims=\"Magnet\", colorby=\"Magnet\", plot_type=\"jitterboxplot\")\n",
    "        \n",
    "    except:\n",
    "        print(f\"Error with {metric}\")\n",
    "        \n",
    "        \n",
    "\n"
   ]
  },
  {
   "cell_type": "code",
   "execution_count": null,
   "metadata": {},
   "outputs": [],
   "source": [
    "start = 30 * 60\n",
    "\n",
    "magnet_data.generate_dataset(\"summary\", time_range=[start])"
   ]
  },
  {
   "cell_type": "code",
   "execution_count": null,
   "metadata": {},
   "outputs": [],
   "source": [
    "# Get sample size : get how many unique fly ids we have grouped by Magnet\n",
    "\n",
    "magnet_data.data.groupby(\"Magnet\")[\"fly\"].nunique()\n",
    "\n",
    "# Create a \"label\" column that is \"Magnet block\" if Magnet is y, and \"Control\" if Magnet is n. Add the sample size to the label.\n",
    "\n",
    "magnet_data.data[\"label\"] = magnet_data.data[\"Magnet\"].apply(\n",
    "    lambda x: \"Magnet block (n = 59)\" if x == \"y\" else \"Control (n = 48)\"\n",
    ")\n"
   ]
  },
  {
   "cell_type": "code",
   "execution_count": null,
   "metadata": {},
   "outputs": [],
   "source": [
    "# Get the data columns\n",
    "\n",
    "data_columns = magnet_data.data.columns\n",
    "\n",
    "data_columns"
   ]
  },
  {
   "cell_type": "markdown",
   "metadata": {},
   "source": [
    "# Do some plotting"
   ]
  },
  {
   "cell_type": "markdown",
   "metadata": {},
   "source": [
    "Now we're gonna plot some metrics and compare them between Magnet y and magnet n."
   ]
  },
  {
   "cell_type": "code",
   "execution_count": null,
   "metadata": {},
   "outputs": [],
   "source": [
    "importlib.reload(HoloviewsTemplates)"
   ]
  },
  {
   "cell_type": "code",
   "execution_count": null,
   "metadata": {},
   "outputs": [],
   "source": [
    "Plot = HoloviewsTemplates.jitter_boxplot(\n",
    "    data=magnet_data.data,\n",
    "    metric =\"TimeToFinish\",\n",
    "    kdims = \"label\",\n",
    "    metadata=magnet_data.metadata,\n",
    "    plot_options=HoloviewsTemplates.hv_slides,\n",
    "    colorby=\"Genotype\",\n",
    ")"
   ]
  },
  {
   "cell_type": "code",
   "execution_count": null,
   "metadata": {},
   "outputs": [],
   "source": [
    "Plot = Plot.opts(\n",
    "    ylabel = \"Time to bring the ball to the end (s)\",\n",
    "    ylim = (0, 3800)\n",
    ")"
   ]
  },
  {
   "cell_type": "code",
   "execution_count": null,
   "metadata": {},
   "outputs": [],
   "source": [
    "Plot\n",
    "# + Histogram distribution"
   ]
  },
  {
   "cell_type": "markdown",
   "metadata": {},
   "source": [
    "## Make and save all metrics plots"
   ]
  },
  {
   "cell_type": "code",
   "execution_count": null,
   "metadata": {},
   "outputs": [],
   "source": [
    "savepath = Utils.get_labserver() / \"Experimental_data/MultiMazeRecorder/Plots/MagnetBlock/240617\""
   ]
  },
  {
   "cell_type": "code",
   "execution_count": null,
   "metadata": {},
   "outputs": [],
   "source": [
    "hv.save(Plot, savepath / \"TimeToFinish_byGenotype.html\")"
   ]
  },
  {
   "cell_type": "code",
   "execution_count": null,
   "metadata": {},
   "outputs": [],
   "source": [
    "# Also get the png\n",
    "hv.save(Plot, savepath / \"TimeToFinish_byGenotype.png\", fmt=\"png\")"
   ]
  },
  {
   "cell_type": "code",
   "execution_count": null,
   "metadata": {},
   "outputs": [],
   "source": [
    "# Do the same with NumberEvents\n",
    "\n",
    "Plot = HoloviewsTemplates.jitter_boxplot(\n",
    "    data=magnet_data.data,\n",
    "    metric=\"NumberEvents\",\n",
    "    kdims=\"label\",\n",
    "    metadata=magnet_data.metadata,\n",
    "    plot_options=HoloviewsTemplates.hv_slides,\n",
    "    colorby=\"Genotype\",\n",
    ")\n",
    "\n",
    "Plot = Plot.opts(\n",
    "    ylabel = \"Number of events\",\n",
    ")\n",
    "\n",
    "hv.save(Plot, savepath / \"NumberEvents_byGenotype.html\")"
   ]
  },
  {
   "cell_type": "code",
   "execution_count": null,
   "metadata": {},
   "outputs": [],
   "source": [
    "# Generate the list of metrics\n",
    "\n",
    "metrics = [\n",
    "    \"NumberEvents\",\n",
    "    \"FinalEvent\",\n",
    "    \"FinalTime\",\n",
    "    \"SignificantEvents\",\n",
    "    \"SignificantFirst\",\n",
    "    \"SignificantFirstTime\",\n",
    "    \"Pushes\",\n",
    "    \"Pulls\",\n",
    "    \"PullingRatio\",\n",
    "    \"InteractionProportion\",\n",
    "    \"AhaMoment\",\n",
    "    \"AhaMomentIndex\",\n",
    "    \"InsightEffect\",\n",
    "    \"TimeToFinish\",\n",
    "    \"SignificantRatio\",\n",
    "]"
   ]
  },
  {
   "cell_type": "code",
   "execution_count": null,
   "metadata": {},
   "outputs": [],
   "source": [
    "# For each metric, generate a jitter boxplot and save it\n",
    "\n",
    "for metric in metrics: \n",
    "    Plot = HoloviewsTemplates.jitter_boxplot(\n",
    "        magnet_data.data, metric, \"Magnet\", magnet_data.metadata, scale_max=[True if metric == \"FinalTime\" else False]\n",
    "    )\n",
    "    hv.save(Plot, savepath / f\"{metric}.html\")"
   ]
  },
  {
   "cell_type": "code",
   "execution_count": null,
   "metadata": {},
   "outputs": [],
   "source": [
    "# Make a nice layout with all the plots:\n",
    "plots = []\n",
    "\n",
    "for metric in metrics:\n",
    "    Plot = HoloviewsTemplates.jitter_boxplot(\n",
    "        magnet_data.data,\n",
    "        metric,\n",
    "        \"Magnet\",\n",
    "        magnet_data.metadata,\n",
    "        scale_max=[True if metric in [\"FinalTime\", \"SignificantRatio\"] else False],\n",
    "    )\n",
    "    plots.append(Plot)\n",
    "\n",
    "layout = hv.Layout(plots).cols(2)"
   ]
  },
  {
   "cell_type": "code",
   "execution_count": null,
   "metadata": {},
   "outputs": [],
   "source": [
    "hv.save(layout, savepath / \"All_metrics.html\")"
   ]
  },
  {
   "cell_type": "code",
   "execution_count": null,
   "metadata": {},
   "outputs": [],
   "source": [
    "importlib.reload(HoloviewsTemplates)"
   ]
  },
  {
   "cell_type": "markdown",
   "metadata": {},
   "source": [
    "# Distribution\n",
    "\n",
    "We can see that there seems to be some distribution variability between groups, which would be better highlighted by using something like an histogram"
   ]
  },
  {
   "cell_type": "code",
   "execution_count": null,
   "metadata": {},
   "outputs": [],
   "source": [
    "Hist = HoloviewsTemplates.histograms(magnet_data.data, \"TimeToFinish\", \"label\", bins = 20, xlabel = \"Time to bring the ball to the end (s)\", plot_options=HoloviewsTemplates.hv_slides, orientation = \"horizontal\")"
   ]
  },
  {
   "cell_type": "code",
   "execution_count": null,
   "metadata": {},
   "outputs": [],
   "source": [
    "Hist"
   ]
  },
  {
   "cell_type": "code",
   "execution_count": null,
   "metadata": {},
   "outputs": [],
   "source": [
    "hv.save(Hist, savepath / \"TimeToFinish_histogram.png\")"
   ]
  },
  {
   "cell_type": "markdown",
   "metadata": {},
   "source": []
  },
  {
   "cell_type": "markdown",
   "metadata": {},
   "source": [
    "# Heatmaps\n",
    "\n",
    "Let's look at the ball position over time grouped by Magnet condition"
   ]
  },
  {
   "cell_type": "code",
   "execution_count": null,
   "metadata": {},
   "outputs": [],
   "source": [
    "importlib.reload(Ballpushing_utils)"
   ]
  },
  {
   "cell_type": "code",
   "execution_count": null,
   "metadata": {},
   "outputs": [],
   "source": [
    "start = 30 * 60"
   ]
  },
  {
   "cell_type": "code",
   "execution_count": null,
   "metadata": {},
   "outputs": [],
   "source": [
    "position = magnet_data.generate_dataset(metrics = \"coordinates\", time_range=[start])"
   ]
  },
  {
   "cell_type": "markdown",
   "metadata": {},
   "source": [
    "## Sanity checks\n",
    "\n",
    "> The dataset should be 3600 seconds long. So 3600 * 29 rows."
   ]
  },
  {
   "cell_type": "code",
   "execution_count": null,
   "metadata": {},
   "outputs": [],
   "source": [
    "position.head()"
   ]
  },
  {
   "cell_type": "code",
   "execution_count": null,
   "metadata": {},
   "outputs": [],
   "source": [
    "# Get the data columns\n",
    "\n",
    "data_columns = position.columns\n",
    "\n",
    "data_columns"
   ]
  },
  {
   "cell_type": "code",
   "execution_count": null,
   "metadata": {},
   "outputs": [],
   "source": [
    "import holoviews as hv\n",
    "from holoviews import opts\n",
    "from holoviews.plotting.util import process_cmap\n",
    "from bokeh.palettes import Viridis256\n",
    "from bokeh.models import FixedTicker\n",
    "import dask.dataframe as dd\n",
    "\n",
    "# Convert the DataFrame to a Dask DataFrame\n",
    "ddf = dd.from_pandas(position, npartitions=4)  # Use a suitable number of partitions\n",
    "\n",
    "# Convert 'Magnet' and 'time' to categorical data type\n",
    "ddf[\"Magnet\"] = ddf[\"Magnet\"].astype(\"category\")\n",
    "ddf[\"time\"] = ddf[\"time\"].astype(\"category\")\n",
    "\n",
    "# Ensure that the categories of 'time' are known\n",
    "ddf[\"time\"] = ddf[\"time\"].cat.as_known()\n",
    "\n",
    "# Define custom colormap\n",
    "cmap = process_cmap(\"Viridis256_r\", provider=\"bokeh\")\n",
    "\n",
    "# Get unique genotypes\n",
    "Genotypes = ddf[\"Magnet\"].unique().compute()\n",
    "\n",
    "\n",
    "# Define a function that removes y-axis ticks\n",
    "def remove_yticks(plot, element):\n",
    "    plot.handles[\"yaxis\"].ticker = FixedTicker(ticks=[])\n",
    "\n",
    "\n",
    "# Pivot the DataFrame once\n",
    "df_pivot = ddf.categorize([\"Magnet\", \"time\"]).pivot_table(\n",
    "    index=\"fly\", columns=\"time\", values=\"yball_relative\", aggfunc=\"first\"\n",
    ")\n",
    "\n",
    "for genotype in Genotypes:\n",
    "    # Slice the pivoted DataFrame for the current genotype\n",
    "    df_genotype = df_pivot.loc[ddf[ddf[\"Magnet\"] == genotype][\"fly\"].unique()]\n",
    "\n",
    "    # Create a HeatMap\n",
    "    heatmap = hv.HeatMap((df_genotype.columns, df_genotype.index, df_genotype.values))\n",
    "\n",
    "    # Apply options to the HeatMap\n",
    "    heatmap.opts(\n",
    "        opts.HeatMap(\n",
    "            cmap=cmap,\n",
    "            colorbar=True,\n",
    "            tools=[\"hover\"],\n",
    "            width=900,\n",
    "            height=900,\n",
    "            title=genotype,\n",
    "            xlabel=\"Time(s)\",\n",
    "            ylabel=\"\",\n",
    "            fontscale=1.5,\n",
    "        )\n",
    "    )\n",
    "\n",
    "    # Save each plot as a separate file in SVG format\n",
    "    hv.save(heatmap, f\"{savepath}/heatmap_{genotype}.svg\", fmt=\"svg\")"
   ]
  },
  {
   "cell_type": "code",
   "execution_count": null,
   "metadata": {},
   "outputs": [],
   "source": [
    "Plotlist[0]"
   ]
  },
  {
   "cell_type": "code",
   "execution_count": null,
   "metadata": {},
   "outputs": [],
   "source": [
    "# Create a layout with all the plots\n",
    "layout = hv.Layout(Plotlist).cols(2)\n",
    "\n",
    "layout"
   ]
  },
  {
   "cell_type": "code",
   "execution_count": null,
   "metadata": {},
   "outputs": [],
   "source": [
    "# Save the layout\n",
    "hv.save(layout, savepath / \"Heatmaps.html\")"
   ]
  },
  {
   "cell_type": "markdown",
   "metadata": {},
   "source": [
    "# New protocol\n",
    "\n",
    "Here I'm gonna replicate the analysis with a new protocol where control flies get to explore part of the corridor and have a transparent gate to see the ball and so the gate lifting doesn't provide a clear cue that they can push now."
   ]
  },
  {
   "cell_type": "code",
   "execution_count": null,
   "metadata": {},
   "outputs": [],
   "source": [
    "importlib.reload(Ballpushing_utils)\n"
   ]
  },
  {
   "cell_type": "code",
   "execution_count": 2,
   "metadata": {},
   "outputs": [
    {
     "data": {
      "text/plain": [
       "['240711_MagnetBlock_Videos_Tracked', '240710_MagnetBlock_Videos_Tracked']"
      ]
     },
     "execution_count": 2,
     "metadata": {},
     "output_type": "execute_result"
    }
   ],
   "source": [
    "# Get the data path\n",
    "Datapath = Utils.get_data_path()\n",
    "\n",
    "# Get all folders with \"TNT_Fine\" in the name\n",
    "\n",
    "Folders = [\n",
    "    f\n",
    "    for f in os.listdir(Datapath)\n",
    "    if \"240710\" in f or \"240711\" in f and os.path.isdir(Datapath / f)\n",
    "]\n",
    "\n",
    "Folders"
   ]
  },
  {
   "cell_type": "code",
   "execution_count": null,
   "metadata": {},
   "outputs": [],
   "source": [
    "savepath = Utils.get_data_path() / \"Experimental_data/MultiMazeRecorder/Plots/MagnetBlock/250130\"\n",
    "\n",
    "print(savepath)\n",
    "\n",
    "# if the folder does not exist, create it\n",
    "\n",
    "savepath.mkdir(parents=True, exist_ok=True)"
   ]
  },
  {
   "cell_type": "code",
   "execution_count": 3,
   "metadata": {},
   "outputs": [
    {
     "name": "stdout",
     "output_type": "stream",
     "text": [
      "Config loaded with the following parameters:\n",
      "time_range: None\n",
      "success_cutoff: False\n",
      "success_cutoff_method: final_event\n",
      "tracks_smoothing: True\n",
      "downsampling_factor: None\n",
      "interaction_threshold: (0, 70)\n",
      "gap_between_events: 4\n",
      "events_min_length: 2\n",
      "dead_threshold: 30\n",
      "adjusted_events_normalisation: 1000\n",
      "significant_threshold: 5\n",
      "aha_moment_threshold: 20\n",
      "success_direction_threshold: 25\n",
      "final_event_threshold: 170\n",
      "final_event_F1_threshold: 100\n",
      "max_event_threshold: 10\n",
      "template_width: 96\n",
      "template_height: 516\n",
      "padding: 20\n",
      "y_crop: (74, 0)\n",
      "contact_threshold: (0, 13)\n",
      "gap_between_contacts: 0.5\n",
      "contact_min_length: 0.5\n",
      "skeleton_tracks_smoothing: False\n",
      "hidden_value: -1\n",
      "Loading fly from /mnt/upramdya_data/MD/MultiMazeRecorder/Videos/240711_MagnetBlock_Videos_Tracked/arena2/corridor5\n",
      "Loading fly from /mnt/upramdya_data/MD/MultiMazeRecorder/Videos/240711_MagnetBlock_Videos_Tracked/arena2/corridor1\n",
      "Warning: 240711_MagnetBlock_Videos_Tracked_arena2_corridor1 is dying at 3906.7586206896553\n",
      "Loading fly from /mnt/upramdya_data/MD/MultiMazeRecorder/Videos/240711_MagnetBlock_Videos_Tracked/arena2/corridor4\n",
      "Loading fly from /mnt/upramdya_data/MD/MultiMazeRecorder/Videos/240711_MagnetBlock_Videos_Tracked/arena2/corridor2\n",
      "Loading fly from /mnt/upramdya_data/MD/MultiMazeRecorder/Videos/240711_MagnetBlock_Videos_Tracked/arena2/corridor6\n",
      "Loading fly from /mnt/upramdya_data/MD/MultiMazeRecorder/Videos/240711_MagnetBlock_Videos_Tracked/arena2/corridor3\n",
      "Loading fly from /mnt/upramdya_data/MD/MultiMazeRecorder/Videos/240711_MagnetBlock_Videos_Tracked/arena7/corridor5\n",
      "Loading fly from /mnt/upramdya_data/MD/MultiMazeRecorder/Videos/240711_MagnetBlock_Videos_Tracked/arena7/corridor1\n",
      "Loading fly from /mnt/upramdya_data/MD/MultiMazeRecorder/Videos/240711_MagnetBlock_Videos_Tracked/arena7/corridor4\n",
      "240711_MagnetBlock_Videos_Tracked_arena7_corridor4 did not move significantly.\n",
      "Warning: 240711_MagnetBlock_Videos_Tracked_arena7_corridor4 is dying at 3752.5862068965516\n",
      "Invalid data for: 240711_MagnetBlock_Videos_Tracked_arena7_corridor4. Skipping.\n",
      "Invalid data for: 240711_MagnetBlock_Videos_Tracked_arena7_corridor4. Skipping.\n",
      "Loading fly from /mnt/upramdya_data/MD/MultiMazeRecorder/Videos/240711_MagnetBlock_Videos_Tracked/arena7/corridor2\n",
      "Warning: 240711_MagnetBlock_Videos_Tracked_arena7_corridor2 is dying at 5839.896551724138\n",
      "Loading fly from /mnt/upramdya_data/MD/MultiMazeRecorder/Videos/240711_MagnetBlock_Videos_Tracked/arena7/corridor6\n",
      "Loading fly from /mnt/upramdya_data/MD/MultiMazeRecorder/Videos/240711_MagnetBlock_Videos_Tracked/arena7/corridor3\n",
      "Loading fly from /mnt/upramdya_data/MD/MultiMazeRecorder/Videos/240711_MagnetBlock_Videos_Tracked/arena6/corridor5\n",
      "Warning: 240711_MagnetBlock_Videos_Tracked_arena6_corridor5 is dying at 3710.9655172413795\n",
      "Loading fly from /mnt/upramdya_data/MD/MultiMazeRecorder/Videos/240711_MagnetBlock_Videos_Tracked/arena6/corridor1\n",
      "Warning: 240711_MagnetBlock_Videos_Tracked_arena6_corridor1 is dying at 3906.551724137931\n",
      "Loading fly from /mnt/upramdya_data/MD/MultiMazeRecorder/Videos/240711_MagnetBlock_Videos_Tracked/arena6/corridor4\n",
      "Warning: 240711_MagnetBlock_Videos_Tracked_arena6_corridor4 is dying at 3710.896551724138\n",
      "Loading fly from /mnt/upramdya_data/MD/MultiMazeRecorder/Videos/240711_MagnetBlock_Videos_Tracked/arena6/corridor2\n",
      "Warning: 240711_MagnetBlock_Videos_Tracked_arena6_corridor2 is dying at 3709.9655172413795\n",
      "Loading fly from /mnt/upramdya_data/MD/MultiMazeRecorder/Videos/240711_MagnetBlock_Videos_Tracked/arena6/corridor6\n",
      "Warning: 240711_MagnetBlock_Videos_Tracked_arena6_corridor6 is dying at 3711.2758620689656\n",
      "Loading fly from /mnt/upramdya_data/MD/MultiMazeRecorder/Videos/240711_MagnetBlock_Videos_Tracked/arena6/corridor3\n",
      "Warning: 240711_MagnetBlock_Videos_Tracked_arena6_corridor3 is dying at 3710.8275862068967\n",
      "Loading fly from /mnt/upramdya_data/MD/MultiMazeRecorder/Videos/240711_MagnetBlock_Videos_Tracked/arena5/corridor5\n",
      "Warning: 240711_MagnetBlock_Videos_Tracked_arena5_corridor5 is dying at 5022.620689655172\n",
      "Loading fly from /mnt/upramdya_data/MD/MultiMazeRecorder/Videos/240711_MagnetBlock_Videos_Tracked/arena5/corridor1\n",
      "Warning: 240711_MagnetBlock_Videos_Tracked_arena5_corridor1 is dying at 5690.517241379311\n",
      "Loading fly from /mnt/upramdya_data/MD/MultiMazeRecorder/Videos/240711_MagnetBlock_Videos_Tracked/arena5/corridor4\n",
      "240711_MagnetBlock_Videos_Tracked_arena5_corridor4 did not move significantly.\n",
      "Warning: 240711_MagnetBlock_Videos_Tracked_arena5_corridor4 is dying at 3600.0344827586205\n",
      "Invalid data for: 240711_MagnetBlock_Videos_Tracked_arena5_corridor4. Skipping.\n",
      "Invalid data for: 240711_MagnetBlock_Videos_Tracked_arena5_corridor4. Skipping.\n",
      "Loading fly from /mnt/upramdya_data/MD/MultiMazeRecorder/Videos/240711_MagnetBlock_Videos_Tracked/arena5/corridor2\n",
      "Warning: 240711_MagnetBlock_Videos_Tracked_arena5_corridor2 is dying at 5809.517241379311\n",
      "Loading fly from /mnt/upramdya_data/MD/MultiMazeRecorder/Videos/240711_MagnetBlock_Videos_Tracked/arena5/corridor6\n",
      "Warning: 240711_MagnetBlock_Videos_Tracked_arena5_corridor6 is dying at 5692.896551724138\n",
      "Loading fly from /mnt/upramdya_data/MD/MultiMazeRecorder/Videos/240711_MagnetBlock_Videos_Tracked/arena5/corridor3\n",
      "Warning: 240711_MagnetBlock_Videos_Tracked_arena5_corridor3 is dying at 5157.827586206897\n",
      "Loading fly from /mnt/upramdya_data/MD/MultiMazeRecorder/Videos/240711_MagnetBlock_Videos_Tracked/arena8/corridor5\n",
      "Warning: 240711_MagnetBlock_Videos_Tracked_arena8_corridor5 is dying at 3981.1724137931033\n",
      "Loading fly from /mnt/upramdya_data/MD/MultiMazeRecorder/Videos/240711_MagnetBlock_Videos_Tracked/arena8/corridor1\n",
      "Loading fly from /mnt/upramdya_data/MD/MultiMazeRecorder/Videos/240711_MagnetBlock_Videos_Tracked/arena8/corridor4\n",
      "Warning: 240711_MagnetBlock_Videos_Tracked_arena8_corridor4 is dying at 4323.6551724137935\n",
      "Loading fly from /mnt/upramdya_data/MD/MultiMazeRecorder/Videos/240711_MagnetBlock_Videos_Tracked/arena8/corridor2\n",
      "Loading fly from /mnt/upramdya_data/MD/MultiMazeRecorder/Videos/240711_MagnetBlock_Videos_Tracked/arena8/corridor6\n",
      "Warning: 240711_MagnetBlock_Videos_Tracked_arena8_corridor6 is dying at 5239.827586206897\n",
      "Loading fly from /mnt/upramdya_data/MD/MultiMazeRecorder/Videos/240711_MagnetBlock_Videos_Tracked/arena8/corridor3\n",
      "Warning: 240711_MagnetBlock_Videos_Tracked_arena8_corridor3 is dying at 4590.620689655172\n",
      "Loading fly from /mnt/upramdya_data/MD/MultiMazeRecorder/Videos/240711_MagnetBlock_Videos_Tracked/arena3/corridor5\n",
      "Loading fly from /mnt/upramdya_data/MD/MultiMazeRecorder/Videos/240711_MagnetBlock_Videos_Tracked/arena3/corridor1\n",
      "Warning: 240711_MagnetBlock_Videos_Tracked_arena3_corridor1 is dying at 4108.103448275862\n",
      "Loading fly from /mnt/upramdya_data/MD/MultiMazeRecorder/Videos/240711_MagnetBlock_Videos_Tracked/arena3/corridor4\n",
      "Warning: 240711_MagnetBlock_Videos_Tracked_arena3_corridor4 is dying at 6050.206896551724\n",
      "Loading fly from /mnt/upramdya_data/MD/MultiMazeRecorder/Videos/240711_MagnetBlock_Videos_Tracked/arena3/corridor2\n",
      "Warning: 240711_MagnetBlock_Videos_Tracked_arena3_corridor2 is dying at 4237.896551724138\n",
      "Loading fly from /mnt/upramdya_data/MD/MultiMazeRecorder/Videos/240711_MagnetBlock_Videos_Tracked/arena3/corridor6\n",
      "Warning: 240711_MagnetBlock_Videos_Tracked_arena3_corridor6 is dying at 4007.103448275862\n",
      "Loading fly from /mnt/upramdya_data/MD/MultiMazeRecorder/Videos/240711_MagnetBlock_Videos_Tracked/arena3/corridor3\n",
      "Loading fly from /mnt/upramdya_data/MD/MultiMazeRecorder/Videos/240711_MagnetBlock_Videos_Tracked/arena4/corridor5\n",
      "Loading fly from /mnt/upramdya_data/MD/MultiMazeRecorder/Videos/240711_MagnetBlock_Videos_Tracked/arena4/corridor1\n",
      "Loading fly from /mnt/upramdya_data/MD/MultiMazeRecorder/Videos/240711_MagnetBlock_Videos_Tracked/arena4/corridor4\n",
      "Warning: 240711_MagnetBlock_Videos_Tracked_arena4_corridor4 is dying at 4424.0344827586205\n",
      "Loading fly from /mnt/upramdya_data/MD/MultiMazeRecorder/Videos/240711_MagnetBlock_Videos_Tracked/arena4/corridor2\n",
      "Warning: 240711_MagnetBlock_Videos_Tracked_arena4_corridor2 is dying at 5678.413793103448\n",
      "Loading fly from /mnt/upramdya_data/MD/MultiMazeRecorder/Videos/240711_MagnetBlock_Videos_Tracked/arena4/corridor6\n",
      "Loading fly from /mnt/upramdya_data/MD/MultiMazeRecorder/Videos/240711_MagnetBlock_Videos_Tracked/arena4/corridor3\n",
      "Loading fly from /mnt/upramdya_data/MD/MultiMazeRecorder/Videos/240711_MagnetBlock_Videos_Tracked/arena1/corridor5\n",
      "Loading fly from /mnt/upramdya_data/MD/MultiMazeRecorder/Videos/240711_MagnetBlock_Videos_Tracked/arena1/corridor1\n",
      "Warning: 240711_MagnetBlock_Videos_Tracked_arena1_corridor1 is dying at 5496.379310344828\n",
      "Loading fly from /mnt/upramdya_data/MD/MultiMazeRecorder/Videos/240711_MagnetBlock_Videos_Tracked/arena1/corridor4\n",
      "Loading fly from /mnt/upramdya_data/MD/MultiMazeRecorder/Videos/240711_MagnetBlock_Videos_Tracked/arena1/corridor2\n",
      "Warning: 240711_MagnetBlock_Videos_Tracked_arena1_corridor2 is dying at 4244.724137931034\n",
      "Loading fly from /mnt/upramdya_data/MD/MultiMazeRecorder/Videos/240711_MagnetBlock_Videos_Tracked/arena1/corridor6\n",
      "Loading fly from /mnt/upramdya_data/MD/MultiMazeRecorder/Videos/240711_MagnetBlock_Videos_Tracked/arena1/corridor3\n",
      "Loading fly from /mnt/upramdya_data/MD/MultiMazeRecorder/Videos/240711_MagnetBlock_Videos_Tracked/arena9/corridor5\n",
      "Warning: 240711_MagnetBlock_Videos_Tracked_arena9_corridor5 is dying at 4434.206896551724\n",
      "Loading fly from /mnt/upramdya_data/MD/MultiMazeRecorder/Videos/240711_MagnetBlock_Videos_Tracked/arena9/corridor1\n",
      "Loading fly from /mnt/upramdya_data/MD/MultiMazeRecorder/Videos/240711_MagnetBlock_Videos_Tracked/arena9/corridor4\n",
      "Warning: 240711_MagnetBlock_Videos_Tracked_arena9_corridor4 is dying at 4679.896551724138\n",
      "Loading fly from /mnt/upramdya_data/MD/MultiMazeRecorder/Videos/240711_MagnetBlock_Videos_Tracked/arena9/corridor2\n",
      "Loading fly from /mnt/upramdya_data/MD/MultiMazeRecorder/Videos/240711_MagnetBlock_Videos_Tracked/arena9/corridor6\n",
      "Loading fly from /mnt/upramdya_data/MD/MultiMazeRecorder/Videos/240711_MagnetBlock_Videos_Tracked/arena9/corridor3\n",
      "Warning: 240711_MagnetBlock_Videos_Tracked_arena9_corridor3 is dying at 3941.5172413793102\n",
      "Config loaded with the following parameters:\n",
      "time_range: None\n",
      "success_cutoff: False\n",
      "success_cutoff_method: final_event\n",
      "tracks_smoothing: True\n",
      "downsampling_factor: None\n",
      "interaction_threshold: (0, 70)\n",
      "gap_between_events: 4\n",
      "events_min_length: 2\n",
      "dead_threshold: 30\n",
      "adjusted_events_normalisation: 1000\n",
      "significant_threshold: 5\n",
      "aha_moment_threshold: 20\n",
      "success_direction_threshold: 25\n",
      "final_event_threshold: 170\n",
      "final_event_F1_threshold: 100\n",
      "max_event_threshold: 10\n",
      "template_width: 96\n",
      "template_height: 516\n",
      "padding: 20\n",
      "y_crop: (74, 0)\n",
      "contact_threshold: (0, 13)\n",
      "gap_between_contacts: 0.5\n",
      "contact_min_length: 0.5\n",
      "skeleton_tracks_smoothing: False\n",
      "hidden_value: -1\n",
      "Loading fly from /mnt/upramdya_data/MD/MultiMazeRecorder/Videos/240710_MagnetBlock_Videos_Tracked/arena2/corridor5\n",
      "Loading fly from /mnt/upramdya_data/MD/MultiMazeRecorder/Videos/240710_MagnetBlock_Videos_Tracked/arena2/corridor1\n",
      "Loading fly from /mnt/upramdya_data/MD/MultiMazeRecorder/Videos/240710_MagnetBlock_Videos_Tracked/arena2/corridor4\n",
      "Warning: 240710_MagnetBlock_Videos_Tracked_arena2_corridor4 is dying at 5683.172413793103\n",
      "Loading fly from /mnt/upramdya_data/MD/MultiMazeRecorder/Videos/240710_MagnetBlock_Videos_Tracked/arena2/corridor2\n",
      "Warning: 240710_MagnetBlock_Videos_Tracked_arena2_corridor2 is dying at 5372.620689655172\n",
      "Loading fly from /mnt/upramdya_data/MD/MultiMazeRecorder/Videos/240710_MagnetBlock_Videos_Tracked/arena2/corridor6\n",
      "Warning: 240710_MagnetBlock_Videos_Tracked_arena2_corridor6 is dying at 3709.0689655172414\n",
      "Loading fly from /mnt/upramdya_data/MD/MultiMazeRecorder/Videos/240710_MagnetBlock_Videos_Tracked/arena2/corridor3\n",
      "Loading fly from /mnt/upramdya_data/MD/MultiMazeRecorder/Videos/240710_MagnetBlock_Videos_Tracked/arena7/corridor5\n",
      "Warning: 240710_MagnetBlock_Videos_Tracked_arena7_corridor5 is dying at 3701.1724137931033\n",
      "Loading fly from /mnt/upramdya_data/MD/MultiMazeRecorder/Videos/240710_MagnetBlock_Videos_Tracked/arena7/corridor1\n",
      "Loading fly from /mnt/upramdya_data/MD/MultiMazeRecorder/Videos/240710_MagnetBlock_Videos_Tracked/arena7/corridor4\n",
      "Warning: 240710_MagnetBlock_Videos_Tracked_arena7_corridor4 is dying at 4106.068965517241\n",
      "Loading fly from /mnt/upramdya_data/MD/MultiMazeRecorder/Videos/240710_MagnetBlock_Videos_Tracked/arena7/corridor2\n",
      "Loading fly from /mnt/upramdya_data/MD/MultiMazeRecorder/Videos/240710_MagnetBlock_Videos_Tracked/arena7/corridor6\n",
      "Warning: 240710_MagnetBlock_Videos_Tracked_arena7_corridor6 is dying at 4945.827586206897\n",
      "Loading fly from /mnt/upramdya_data/MD/MultiMazeRecorder/Videos/240710_MagnetBlock_Videos_Tracked/arena7/corridor3\n",
      "Warning: 240710_MagnetBlock_Videos_Tracked_arena7_corridor3 is dying at 5377.9655172413795\n",
      "Loading fly from /mnt/upramdya_data/MD/MultiMazeRecorder/Videos/240710_MagnetBlock_Videos_Tracked/arena6/corridor5\n",
      "Warning: 240710_MagnetBlock_Videos_Tracked_arena6_corridor5 is dying at 4304.586206896552\n",
      "Loading fly from /mnt/upramdya_data/MD/MultiMazeRecorder/Videos/240710_MagnetBlock_Videos_Tracked/arena6/corridor1\n",
      "Warning: 240710_MagnetBlock_Videos_Tracked_arena6_corridor1 is dying at 3870.6206896551726\n",
      "Loading fly from /mnt/upramdya_data/MD/MultiMazeRecorder/Videos/240710_MagnetBlock_Videos_Tracked/arena6/corridor4\n",
      "Warning: 240710_MagnetBlock_Videos_Tracked_arena6_corridor4 is dying at 5795.413793103448\n",
      "Loading fly from /mnt/upramdya_data/MD/MultiMazeRecorder/Videos/240710_MagnetBlock_Videos_Tracked/arena6/corridor2\n",
      "Loading fly from /mnt/upramdya_data/MD/MultiMazeRecorder/Videos/240710_MagnetBlock_Videos_Tracked/arena6/corridor6\n",
      "Loading fly from /mnt/upramdya_data/MD/MultiMazeRecorder/Videos/240710_MagnetBlock_Videos_Tracked/arena6/corridor3\n",
      "Loading fly from /mnt/upramdya_data/MD/MultiMazeRecorder/Videos/240710_MagnetBlock_Videos_Tracked/arena5/corridor5\n",
      "Warning: 240710_MagnetBlock_Videos_Tracked_arena5_corridor5 is dying at 6188.068965517241\n",
      "Loading fly from /mnt/upramdya_data/MD/MultiMazeRecorder/Videos/240710_MagnetBlock_Videos_Tracked/arena5/corridor1\n",
      "Loading fly from /mnt/upramdya_data/MD/MultiMazeRecorder/Videos/240710_MagnetBlock_Videos_Tracked/arena5/corridor4\n",
      "Warning: 240710_MagnetBlock_Videos_Tracked_arena5_corridor4 is dying at 5193.827586206897\n",
      "Loading fly from /mnt/upramdya_data/MD/MultiMazeRecorder/Videos/240710_MagnetBlock_Videos_Tracked/arena5/corridor2\n",
      "Warning: 240710_MagnetBlock_Videos_Tracked_arena5_corridor2 is dying at 4872.103448275862\n",
      "Loading fly from /mnt/upramdya_data/MD/MultiMazeRecorder/Videos/240710_MagnetBlock_Videos_Tracked/arena5/corridor6\n",
      "Loading fly from /mnt/upramdya_data/MD/MultiMazeRecorder/Videos/240710_MagnetBlock_Videos_Tracked/arena5/corridor3\n",
      "Warning: 240710_MagnetBlock_Videos_Tracked_arena5_corridor3 is dying at 3739.0344827586205\n",
      "Loading fly from /mnt/upramdya_data/MD/MultiMazeRecorder/Videos/240710_MagnetBlock_Videos_Tracked/arena8/corridor5\n",
      "Warning: 240710_MagnetBlock_Videos_Tracked_arena8_corridor5 is dying at 4474.310344827586\n",
      "Loading fly from /mnt/upramdya_data/MD/MultiMazeRecorder/Videos/240710_MagnetBlock_Videos_Tracked/arena8/corridor1\n",
      "Warning: 240710_MagnetBlock_Videos_Tracked_arena8_corridor1 is dying at 3701.3793103448274\n",
      "Loading fly from /mnt/upramdya_data/MD/MultiMazeRecorder/Videos/240710_MagnetBlock_Videos_Tracked/arena8/corridor4\n",
      "Loading fly from /mnt/upramdya_data/MD/MultiMazeRecorder/Videos/240710_MagnetBlock_Videos_Tracked/arena8/corridor2\n",
      "Warning: 240710_MagnetBlock_Videos_Tracked_arena8_corridor2 is dying at 4020.8275862068967\n",
      "Loading fly from /mnt/upramdya_data/MD/MultiMazeRecorder/Videos/240710_MagnetBlock_Videos_Tracked/arena8/corridor6\n",
      "Loading fly from /mnt/upramdya_data/MD/MultiMazeRecorder/Videos/240710_MagnetBlock_Videos_Tracked/arena8/corridor3\n",
      "Warning: 240710_MagnetBlock_Videos_Tracked_arena8_corridor3 is dying at 5078.448275862069\n",
      "Loading fly from /mnt/upramdya_data/MD/MultiMazeRecorder/Videos/240710_MagnetBlock_Videos_Tracked/arena3/corridor5\n",
      "Loading fly from /mnt/upramdya_data/MD/MultiMazeRecorder/Videos/240710_MagnetBlock_Videos_Tracked/arena3/corridor1\n",
      "Loading fly from /mnt/upramdya_data/MD/MultiMazeRecorder/Videos/240710_MagnetBlock_Videos_Tracked/arena3/corridor4\n",
      "Loading fly from /mnt/upramdya_data/MD/MultiMazeRecorder/Videos/240710_MagnetBlock_Videos_Tracked/arena3/corridor2\n",
      "Warning: 240710_MagnetBlock_Videos_Tracked_arena3_corridor2 is dying at 3711.206896551724\n",
      "Loading fly from /mnt/upramdya_data/MD/MultiMazeRecorder/Videos/240710_MagnetBlock_Videos_Tracked/arena3/corridor6\n",
      "Loading fly from /mnt/upramdya_data/MD/MultiMazeRecorder/Videos/240710_MagnetBlock_Videos_Tracked/arena3/corridor3\n",
      "Loading fly from /mnt/upramdya_data/MD/MultiMazeRecorder/Videos/240710_MagnetBlock_Videos_Tracked/arena4/corridor5\n",
      "Warning: 240710_MagnetBlock_Videos_Tracked_arena4_corridor5 is dying at 5602.896551724138\n",
      "Loading fly from /mnt/upramdya_data/MD/MultiMazeRecorder/Videos/240710_MagnetBlock_Videos_Tracked/arena4/corridor1\n",
      "Warning: 240710_MagnetBlock_Videos_Tracked_arena4_corridor1 is dying at 3600.0344827586205\n",
      "Loading fly from /mnt/upramdya_data/MD/MultiMazeRecorder/Videos/240710_MagnetBlock_Videos_Tracked/arena4/corridor4\n",
      "Warning: 240710_MagnetBlock_Videos_Tracked_arena4_corridor4 is dying at 3634.896551724138\n",
      "Loading fly from /mnt/upramdya_data/MD/MultiMazeRecorder/Videos/240710_MagnetBlock_Videos_Tracked/arena4/corridor2\n",
      "Loading fly from /mnt/upramdya_data/MD/MultiMazeRecorder/Videos/240710_MagnetBlock_Videos_Tracked/arena4/corridor6\n",
      "Loading fly from /mnt/upramdya_data/MD/MultiMazeRecorder/Videos/240710_MagnetBlock_Videos_Tracked/arena4/corridor3\n",
      "Warning: 240710_MagnetBlock_Videos_Tracked_arena4_corridor3 is dying at 3675.448275862069\n",
      "Loading fly from /mnt/upramdya_data/MD/MultiMazeRecorder/Videos/240710_MagnetBlock_Videos_Tracked/arena1/corridor5\n",
      "Loading fly from /mnt/upramdya_data/MD/MultiMazeRecorder/Videos/240710_MagnetBlock_Videos_Tracked/arena1/corridor1\n",
      "Loading fly from /mnt/upramdya_data/MD/MultiMazeRecorder/Videos/240710_MagnetBlock_Videos_Tracked/arena1/corridor4\n",
      "Loading fly from /mnt/upramdya_data/MD/MultiMazeRecorder/Videos/240710_MagnetBlock_Videos_Tracked/arena1/corridor2\n",
      "Loading fly from /mnt/upramdya_data/MD/MultiMazeRecorder/Videos/240710_MagnetBlock_Videos_Tracked/arena1/corridor6\n",
      "Loading fly from /mnt/upramdya_data/MD/MultiMazeRecorder/Videos/240710_MagnetBlock_Videos_Tracked/arena1/corridor3\n",
      "Warning: 240710_MagnetBlock_Videos_Tracked_arena1_corridor3 is dying at 4631.068965517241\n",
      "Loading fly from /mnt/upramdya_data/MD/MultiMazeRecorder/Videos/240710_MagnetBlock_Videos_Tracked/arena9/corridor5\n",
      "Warning: 240710_MagnetBlock_Videos_Tracked_arena9_corridor5 is dying at 3704.0344827586205\n",
      "Loading fly from /mnt/upramdya_data/MD/MultiMazeRecorder/Videos/240710_MagnetBlock_Videos_Tracked/arena9/corridor1\n",
      "Warning: 240710_MagnetBlock_Videos_Tracked_arena9_corridor1 is dying at 4989.0\n",
      "Loading fly from /mnt/upramdya_data/MD/MultiMazeRecorder/Videos/240710_MagnetBlock_Videos_Tracked/arena9/corridor4\n",
      "Warning: 240710_MagnetBlock_Videos_Tracked_arena9_corridor4 is dying at 3704.0344827586205\n",
      "Loading fly from /mnt/upramdya_data/MD/MultiMazeRecorder/Videos/240710_MagnetBlock_Videos_Tracked/arena9/corridor2\n",
      "Warning: 240710_MagnetBlock_Videos_Tracked_arena9_corridor2 is dying at 4594.206896551724\n",
      "Loading fly from /mnt/upramdya_data/MD/MultiMazeRecorder/Videos/240710_MagnetBlock_Videos_Tracked/arena9/corridor6\n",
      "240710_MagnetBlock_Videos_Tracked_arena9_corridor6 did not move significantly.\n",
      "Warning: 240710_MagnetBlock_Videos_Tracked_arena9_corridor6 is dying at 3600.0344827586205\n",
      "Invalid data for: 240710_MagnetBlock_Videos_Tracked_arena9_corridor6. Skipping.\n",
      "Invalid data for: 240710_MagnetBlock_Videos_Tracked_arena9_corridor6. Skipping.\n",
      "Loading fly from /mnt/upramdya_data/MD/MultiMazeRecorder/Videos/240710_MagnetBlock_Videos_Tracked/arena9/corridor3\n",
      "Warning: 240710_MagnetBlock_Videos_Tracked_arena9_corridor3 is dying at 3709.0689655172414\n"
     ]
    }
   ],
   "source": [
    "\n",
    "# Generate Experiment objects from each folder\n",
    "\n",
    "Experiments = [Ballpushing_utils.Experiment(Datapath / f, experiment_type=\"MagnetBlock\") for f in Folders]"
   ]
  },
  {
   "cell_type": "code",
   "execution_count": null,
   "metadata": {},
   "outputs": [],
   "source": [
    "importlib.reload(Ballpushing_utils)"
   ]
  },
  {
   "cell_type": "code",
   "execution_count": 4,
   "metadata": {},
   "outputs": [
    {
     "name": "stdout",
     "output_type": "stream",
     "text": [
      "Config loaded with the following parameters:\n",
      "time_range: None\n",
      "success_cutoff: False\n",
      "success_cutoff_method: final_event\n",
      "tracks_smoothing: True\n",
      "downsampling_factor: None\n",
      "interaction_threshold: (0, 70)\n",
      "gap_between_events: 4\n",
      "events_min_length: 2\n",
      "dead_threshold: 30\n",
      "adjusted_events_normalisation: 1000\n",
      "significant_threshold: 5\n",
      "aha_moment_threshold: 20\n",
      "success_direction_threshold: 25\n",
      "final_event_threshold: 170\n",
      "final_event_F1_threshold: 100\n",
      "max_event_threshold: 10\n",
      "template_width: 96\n",
      "template_height: 516\n",
      "padding: 20\n",
      "y_crop: (74, 0)\n",
      "contact_threshold: (0, 13)\n",
      "gap_between_contacts: 0.5\n",
      "contact_min_length: 0.5\n",
      "skeleton_tracks_smoothing: False\n",
      "hidden_value: -1\n"
     ]
    }
   ],
   "source": [
    "magnet_data_coords = Ballpushing_utils.Dataset(Experiments, dataset_type=\"coordinates\")"
   ]
  },
  {
   "cell_type": "code",
   "execution_count": null,
   "metadata": {},
   "outputs": [],
   "source": [
    "magnet_data_coords.data.head()"
   ]
  },
  {
   "cell_type": "code",
   "execution_count": 5,
   "metadata": {},
   "outputs": [],
   "source": [
    "# Save the data\n",
    "\n",
    "# Rename the Magnet values to \"Magnet block\" and \"Control\" \n",
    "\n",
    "magnet_data_coords.data[\"label\"] = magnet_data_coords.data[\"Magnet\"].apply(lambda x: \"Magnet block\" if x == \"y\" else \"Control\")\n",
    "\n",
    "magnet_data_coords.data.to_feather(\"/mnt/upramdya_data/MD/MagnetBlock/Datasets/250213_coordinates.feather\")"
   ]
  },
  {
   "cell_type": "code",
   "execution_count": null,
   "metadata": {},
   "outputs": [],
   "source": [
    "# Make a downsampled version of the data, taking only every 290 rows based on the time column\n",
    "\n",
    "magnet_data_coords_ds = magnet_data_coords.data.iloc[::290, :]"
   ]
  },
  {
   "cell_type": "code",
   "execution_count": null,
   "metadata": {},
   "outputs": [],
   "source": [
    "importlib.reload(Processing)"
   ]
  },
  {
   "cell_type": "code",
   "execution_count": null,
   "metadata": {},
   "outputs": [],
   "source": [
    "bin_number = 10\n",
    "\n",
    "# Prepare data for permutation test\n",
    "\n",
    "binned_data = Processing.preprocess_data(magnet_data_coords.data, bins=bin_number, group_col=\"Magnet\")\n",
    "\n",
    "# Compute the permutation test\n",
    "\n",
    "permutation = Processing.compute_permutation_test(binned_data, group_col= \"Magnet\", control_group=\"n\", metric=\"avg_distance_ball_0\", n_permutations=1000)\n",
    "\n",
    "print (permutation[\"p_values_corrected\"])\n",
    "\n",
    "print(permutation[\"significant_timepoints\"])\n",
    "            \n",
    "# Add the 'Significant' column to the preprocessed data\n",
    "binned_data['Significant'] = binned_data['time_bin'].isin(permutation['significant_timepoints'])\n"
   ]
  },
  {
   "cell_type": "code",
   "execution_count": null,
   "metadata": {},
   "outputs": [],
   "source": [
    "\n",
    "# Prepare figure\n",
    "\n",
    "plt.figure(figsize=(20, 10))\n",
    "\n",
    "# Plot the raw data\n",
    "sns.lineplot(data=magnet_data_coords.data, x='time', y='distance_ball_0', hue='Magnet')\n",
    "\n",
    "# Highlight significant timepoints with dotted lines and asterisks\n",
    "\n",
    "significant_bins = binned_data[binned_data['Significant']]['time_bin']\n",
    "for time_bin in range(bin_number):\n",
    "    bin_start = magnet_data_coords.data['time'].min() + time_bin * (magnet_data_coords.data['time'].max() - magnet_data_coords.data['time'].min()) / bin_number\n",
    "    bin_end = bin_start + (magnet_data_coords.data['time'].max() - magnet_data_coords.data['time'].min()) / bin_number\n",
    "    \n",
    "    # Draw faint dotted lines for the bins\n",
    "    plt.axvline(bin_start, color='gray', linestyle='dotted', alpha=0.5)\n",
    "    plt.axvline(bin_end, color='gray', linestyle='dotted', alpha=0.5)\n",
    "    \n",
    "    # Annotate significance levels\n",
    "    if time_bin in significant_bins.values:\n",
    "        p_value = permutation['p_values_corrected'][time_bin]\n",
    "        if p_value < 0.001:\n",
    "            significance = '***'\n",
    "        elif p_value < 0.01:\n",
    "            significance = '**'\n",
    "        elif p_value < 0.05:\n",
    "            significance = '*'\n",
    "        else:\n",
    "            significance = ''\n",
    "        \n",
    "        if significance:\n",
    "            # Lower the y position of the stars and increase font size\n",
    "            y_position = magnet_data_coords.data['distance_ball_0'].max() * 0.95\n",
    "            plt.annotate(significance, xy=(bin_start + (bin_end - bin_start) / 2, y_position), \n",
    "                            xycoords='data', ha='center', va='bottom', fontsize=16, color='red')\n",
    "\n",
    "# Adjust labels\n",
    "\n",
    "plt.xlabel('Time (s)')\n",
    "\n",
    "plt.ylabel('Ball distance from start (px)')\n",
    "# plt.set_xlabel('Time (s)')\n",
    "# plt.set_ylabel('Ball distance from start (px)')\n",
    "\n",
    "# Save the plot\n",
    "\n",
    "plt.savefig(savepath / \"Ballpositions_curves_signif.png\")\n",
    "\n",
    "plt.show()\n"
   ]
  },
  {
   "cell_type": "code",
   "execution_count": null,
   "metadata": {},
   "outputs": [],
   "source": [
    "\n",
    "# Plot the coordinates with IC and with hue = Magnet\n",
    "\n",
    "curves = sns.lineplot(\n",
    "    data=magnet_data_coords.data,\n",
    "    x=\"time\",\n",
    "    y=\"distance_ball_0\",\n",
    "    hue=\"Magnet\",\n",
    ")\n",
    "\n",
    "# Save the plot\n",
    "\n",
    "curves.get_figure().savefig(savepath / \"Ballpositions_curves.png\")\n",
    "curves"
   ]
  },
  {
   "cell_type": "code",
   "execution_count": null,
   "metadata": {},
   "outputs": [],
   "source": [
    "magnet_data_coords.head()"
   ]
  },
  {
   "cell_type": "code",
   "execution_count": null,
   "metadata": {},
   "outputs": [],
   "source": [
    "# Rename the Magnet values to \"Magnet block\" and \"Control\" \n",
    "\n",
    "magnet_data_coords[\"label\"] = magnet_data_coords[\"Magnet\"].apply(lambda x: \"Magnet block\" if x == \"y\" else \"Control\")"
   ]
  },
  {
   "cell_type": "code",
   "execution_count": null,
   "metadata": {},
   "outputs": [],
   "source": [
    "# Plot the average ball displacement grouped by Magnet\n",
    "\n",
    "Lineplot = sns.lineplot(data=magnet_data_coords, x=\"time\", y=\"distance_ball_0\", hue=\"Magnet\")\n",
    "\n",
    "# Customize x, y and legend labels\n",
    "\n",
    "Lineplot.set(xlabel=\"Time (s)\", ylabel=\"Distance (px)\", title=\"\")\n",
    "\n",
    "plt.savefig(\"/mnt/upramdya_data/MD/MultiMazeRecorder/Plots/MagnetBlock/241212Average_ball_displacement.png\")\n",
    "\n",
    "plt.show()\n"
   ]
  },
  {
   "cell_type": "code",
   "execution_count": null,
   "metadata": {},
   "outputs": [],
   "source": [
    "importlib.reload(Ballpushing_utils)\n",
    "importlib.reload(Sleap_utils)"
   ]
  },
  {
   "cell_type": "code",
   "execution_count": null,
   "metadata": {},
   "outputs": [],
   "source": [
    "# Build the position\n",
    "\n",
    "magnet_data_summary = Ballpushing_utils.Dataset(Experiments, dataset_type=\"summary\").data"
   ]
  },
  {
   "cell_type": "code",
   "execution_count": null,
   "metadata": {},
   "outputs": [],
   "source": [
    "magnet_data_summary"
   ]
  },
  {
   "cell_type": "code",
   "execution_count": null,
   "metadata": {},
   "outputs": [],
   "source": [
    "# Get the data columns\n",
    "magnet_data_summary.columns"
   ]
  },
  {
   "cell_type": "code",
   "execution_count": null,
   "metadata": {},
   "outputs": [],
   "source": [
    "metrics_to_plot = ['nb_events', 'max_event', 'max_event_time', 'max_distance',\n",
    "       'final_event', 'final_event_time', 'nb_significant_events',\n",
    "       'significant_ratio', 'first_significant_event',\n",
    "       'first_significant_event_time', 'aha_moment', 'aha_moment_time',\n",
    "       'insight_effect', 'cumulated_breaks_duration', 'pushed', 'pulled',\n",
    "       'pulling_ratio', 'success_direction', 'interaction_proportion',\n",
    "       'distance_moved']"
   ]
  },
  {
   "cell_type": "code",
   "execution_count": null,
   "metadata": {},
   "outputs": [],
   "source": [
    "metrics_to_exclude = [\"final_event\", \"final_event_time\"]"
   ]
  },
  {
   "cell_type": "code",
   "execution_count": null,
   "metadata": {},
   "outputs": [],
   "source": [
    "# Rename the Magnet values to \"Magnet block\" and \"Control\" \n",
    "\n",
    "magnet_data_summary[\"label\"] = magnet_data_summary[\"Magnet\"].apply(lambda x: \"Magnet block\" if x == \"y\" else \"Control\")"
   ]
  },
  {
   "cell_type": "code",
   "execution_count": null,
   "metadata": {},
   "outputs": [],
   "source": [
    "importlib.reload(Seaborn_Templates)"
   ]
  },
  {
   "cell_type": "code",
   "execution_count": null,
   "metadata": {},
   "outputs": [],
   "source": [
    "from scipy.stats import ttest_ind\n",
    "import statsmodels.stats.api as sms\n",
    "\n",
    "for metric in metrics_to_plot:\n",
    "    try:\n",
    "        # Plot the metric\n",
    "        Plot = Seaborn_Templates.sns_plot(magnet_data_summary, metric=metric, kdims=\"label\", colorby=\"label\", plot_type=\"jitterboxplot\")\n",
    "        plt.savefig(f\"/mnt/upramdya_data/MD/MultiMazeRecorder/Plots/MagnetBlock/241212/{metric}.png\")\n",
    "        \n",
    "        # Perform t-test and calculate confidence interval if the metric is not in the exclusion list\n",
    "        if metric not in metrics_to_exclude:\n",
    "            \n",
    "            # Create a DataFrame with the data for the given metric but without the NaN values for this metric\n",
    "            \n",
    "            data = magnet_data_summary.dropna(subset=[metric])\n",
    "            \n",
    "            # Extract data for the two conditions\n",
    "            condition1 = data[data[\"label\"] == \"Control\"][metric]\n",
    "            #print(condition1)\n",
    "            \n",
    "            condition2 = data[data[\"label\"] == \"Magnet block\"][metric]\n",
    "            #print(condition2)\n",
    "                       \n",
    "            # Check for sufficient data points\n",
    "            if len(condition1) < 2 or len(condition2) < 2:\n",
    "                print(f\"Not enough data for {metric}\")\n",
    "                continue\n",
    "            \n",
    "            # Check for identical values\n",
    "            if condition1.var() == 0 or condition2.var() == 0:\n",
    "                print(f\"Identical values for {metric}\")\n",
    "                continue\n",
    "            \n",
    "            # Perform t-test\n",
    "            t_stat, p_value = ttest_ind(condition1, condition2)\n",
    "            \n",
    "            # Calculate effect size (Cohen's d)\n",
    "            cohen_d = (condition1.mean() - condition2.mean()) / (np.sqrt((condition1.var() + condition2.var()) / 2))\n",
    "            \n",
    "            # Calculate confidence interval for the effect size\n",
    "            cm = sms.CompareMeans(sms.DescrStatsW(condition1), sms.DescrStatsW(condition2))\n",
    "            ci_low, ci_high = cm.tconfint_diff(usevar='pooled')\n",
    "            \n",
    "            print(f\"{metric}: t-statistic = {t_stat}, p-value = {p_value}, Cohen's d = {cohen_d}, CI = [{ci_low}, {ci_high}]\")\n",
    "        \n",
    "    except Exception as e:\n",
    "        print(f\"Error with {metric}: {e}\")"
   ]
  },
  {
   "cell_type": "code",
   "execution_count": null,
   "metadata": {},
   "outputs": [],
   "source": [
    "# Get sample size : get how many unique fly ids we have grouped by Magnet\n",
    "\n",
    "magnet_data.data.groupby(\"Magnet\")[\"fly\"].nunique()"
   ]
  },
  {
   "cell_type": "code",
   "execution_count": null,
   "metadata": {},
   "outputs": [],
   "source": [
    "# Create a \"label\" column that is \"Magnet block\" if Magnet is y, and \"Control\" if Magnet is n. Add the sample size to the label.\n",
    "\n",
    "magnet_data.data[\"label\"] = magnet_data.data[\"Magnet\"].apply(\n",
    "    lambda x: \"Magnet block (n = 53)\" if x == \"y\" else \"Control (n = 54)\"\n",
    ")"
   ]
  },
  {
   "cell_type": "markdown",
   "metadata": {},
   "source": [
    "## Event based metric jitterboxplots"
   ]
  },
  {
   "cell_type": "code",
   "execution_count": null,
   "metadata": {},
   "outputs": [],
   "source": [
    "Plot = HoloviewsTemplates.jitter_boxplot(\n",
    "    data=magnet_data.data,\n",
    "    metric=\"TimeToFinish\",\n",
    "    kdims=\"label\",\n",
    "    metadata=magnet_data.metadata,\n",
    "    plot_options=HoloviewsTemplates.hv_slides,\n",
    "    colorby=\"Magnet\",\n",
    ")\n",
    "Plot = Plot.opts(ylabel=\"Time to bring the ball to the end (s)\", ylim=(0, 3800))\n",
    "\n",
    "Plot"
   ]
  },
  {
   "cell_type": "code",
   "execution_count": null,
   "metadata": {},
   "outputs": [],
   "source": [
    "savepath = Path(\"/mnt/upramdya_files/DURRIEU_Matthias/Videos/240820_LabMeeting/Plots/\")"
   ]
  },
  {
   "cell_type": "code",
   "execution_count": null,
   "metadata": {},
   "outputs": [],
   "source": [
    "hv.save(Plot, savepath / \"TimeToFinish_byMagnet.html\")\n",
    "hv.save(Plot, savepath / \"TimeToFinish_byMagnet.png\", fmt=\"png\")"
   ]
  },
  {
   "cell_type": "code",
   "execution_count": null,
   "metadata": {},
   "outputs": [],
   "source": [
    "# Filter the data to get only flies for which the Time to finish is less than the maximum time\n",
    "\n",
    "Filtered = magnet_data.data[magnet_data.data[\"TimeToFinish\"] < 3600]\n",
    "Filtered.groupby(\"Magnet\")[\"fly\"].nunique()"
   ]
  },
  {
   "cell_type": "code",
   "execution_count": null,
   "metadata": {},
   "outputs": [],
   "source": [
    "\n",
    "# Change the labels to inclue the updated sample size\n",
    "Filtered[\"label\"] = Filtered[\"Magnet\"].apply(\n",
    "    lambda x: \"Magnet block (n = 24)\" if x == \"y\" else \"Control (n = 29)\"\n",
    ")\n",
    "\n",
    "# Redo the plot\n",
    "\n",
    "Plot = HoloviewsTemplates.jitter_boxplot(\n",
    "    data=Filtered,\n",
    "    metric=\"TimeToFinish\",\n",
    "    kdims=\"label\",\n",
    "    metadata=magnet_data.metadata,\n",
    "    plot_options=HoloviewsTemplates.hv_slides,\n",
    "    colorby=\"Magnet\",\n",
    ")\n",
    "\n",
    "#Plot\n",
    "\n"
   ]
  },
  {
   "cell_type": "code",
   "execution_count": null,
   "metadata": {},
   "outputs": [],
   "source": [
    "# Save this plot\n",
    "\n",
    "savepath = Path(\"/mnt/upramdya_data/MD/MultiMazeRecorder/Plots/MagnetBlock/240718\")\n",
    "\n",
    "hv.save(Plot, savepath / \"TimeToFinish_Filtered.html\")"
   ]
  },
  {
   "cell_type": "code",
   "execution_count": null,
   "metadata": {},
   "outputs": [],
   "source": [
    "savepath = Path(\"/mnt/upramdya_data/MD/MultiMazeRecorder/Plots/MagnetBlock/240718\")"
   ]
  },
  {
   "cell_type": "code",
   "execution_count": null,
   "metadata": {},
   "outputs": [],
   "source": [
    "hv.save(Plot, savepath / \"TimeToFinish_byGenotype.html\")"
   ]
  },
  {
   "cell_type": "code",
   "execution_count": null,
   "metadata": {},
   "outputs": [],
   "source": [
    "# Generate the list of metrics\n",
    "\n",
    "metrics = [\n",
    "    \"NumberEvents\",\n",
    "    \"FinalEvent\",\n",
    "    \"FinalTime\",\n",
    "    \"SignificantEvents\",\n",
    "    \"SignificantFirst\",\n",
    "    \"SignificantFirstTime\",\n",
    "    \"Pushes\",\n",
    "    \"Pulls\",\n",
    "    \"PullingRatio\",\n",
    "    \"InteractionProportion\",\n",
    "    \"AhaMoment\",\n",
    "    \"AhaMomentIndex\",\n",
    "    \"InsightEffect\",\n",
    "    \"TimeToFinish\",\n",
    "    \"SignificantRatio\",\n",
    "]\n",
    "# For each metric, generate a jitter boxplot and save it\n",
    "\n",
    "for metric in metrics:\n",
    "    Plot = HoloviewsTemplates.jitter_boxplot(\n",
    "        magnet_data.data,\n",
    "        metric,\n",
    "        \"label\",\n",
    "        magnet_data.metadata,\n",
    "        plot_options=HoloviewsTemplates.hv_slides,\n",
    "        scale_max=[True if metric == \"FinalTime\" else False],\n",
    "    )\n",
    "    hv.save(Plot, savepath / f\"{metric}.html\")\n",
    "    hv.save(Plot, savepath / f\"{metric}.png\", fmt=\"png\")\n",
    "# Make a nice layout with all the plots:\n",
    "plots = []\n",
    "\n",
    "for metric in metrics:\n",
    "    Plot = HoloviewsTemplates.jitter_boxplot(\n",
    "        magnet_data.data,\n",
    "        metric,\n",
    "        \"label\",\n",
    "        magnet_data.metadata,\n",
    "        plot_options=HoloviewsTemplates.hv_slides,\n",
    "        scale_max=[True if metric in [\"FinalTime\", \"SignificantRatio\"] else False],\n",
    "    )\n",
    "    plots.append(Plot)\n",
    "\n",
    "layout = hv.Layout(plots).cols(2)\n",
    "hv.save(layout, savepath / \"All_metrics.html\")\n",
    "\n",
    "# Also get the png\n",
    "hv.save(layout, savepath / \"All_metrics.png\", fmt=\"png\")"
   ]
  },
  {
   "cell_type": "code",
   "execution_count": null,
   "metadata": {},
   "outputs": [],
   "source": [
    "savepath = Path(\"/mnt/upramdya_data/MD/MultiMazeRecorder/Plots/MagnetBlock/240815\")"
   ]
  },
  {
   "cell_type": "code",
   "execution_count": null,
   "metadata": {},
   "outputs": [],
   "source": [
    "metrics = [\n",
    "    \"NumberEvents\",\n",
    "    \"FinalEvent\",\n",
    "    \"FinalTime\",\n",
    "    \"SignificantEvents\",\n",
    "    \"SignificantFirst\",\n",
    "    \"SignificantFirstTime\",\n",
    "    \"Pushes\",\n",
    "    \"Pulls\",\n",
    "    \"PullingRatio\",\n",
    "    \"InteractionProportion\",\n",
    "    \"AhaMoment\",\n",
    "    \"AhaMomentIndex\",\n",
    "    \"InsightEffect\",\n",
    "    \"TimeToFinish\",\n",
    "    \"SignificantRatio\",\n",
    "]\n",
    "# For each metric, generate a jitter boxplot and save it\n",
    "\n",
    "for metric in metrics:\n",
    "    Plot = HoloviewsTemplates.jitter_boxplot(\n",
    "        Filtered,\n",
    "        metric,\n",
    "        \"label\",\n",
    "        magnet_data.metadata,\n",
    "        plot_options=HoloviewsTemplates.hv_slides,\n",
    "        scale_max=[True if metric == \"FinalTime\" else False],\n",
    "    )\n",
    "    hv.save(Plot, savepath / f\"{metric}_Filtered.html\")\n",
    "    hv.save(Plot, savepath / f\"{metric}_Filtered.png\", fmt=\"png\")\n",
    "# Make a nice layout with all the plots:\n",
    "plots = []\n",
    "\n",
    "for metric in metrics:\n",
    "    Plot = HoloviewsTemplates.jitter_boxplot(\n",
    "        Filtered,\n",
    "        metric,\n",
    "        \"label\",\n",
    "        magnet_data.metadata,\n",
    "        plot_options=HoloviewsTemplates.hv_slides,\n",
    "        scale_max=[True if metric in [\"FinalTime\", \"SignificantRatio\"] else False],\n",
    "    )\n",
    "    plots.append(Plot)\n",
    "\n",
    "layout = hv.Layout(plots).cols(2)\n",
    "hv.save(layout, savepath / \"All_metrics_Filtered.html\")\n",
    "\n",
    "# Also get the png\n",
    "hv.save(layout, savepath / \"All_metrics_Filtered.png\", fmt=\"png\")"
   ]
  },
  {
   "cell_type": "markdown",
   "metadata": {},
   "source": [
    "## Distribution"
   ]
  },
  {
   "cell_type": "code",
   "execution_count": null,
   "metadata": {},
   "outputs": [],
   "source": [
    "Hist = HoloviewsTemplates.histograms(\n",
    "    magnet_data.data,\n",
    "    \"TimeToFinish\",\n",
    "    \"label\",\n",
    "    bins=20,\n",
    "    xlabel=\"Time to bring the ball to the end (s)\",\n",
    "    plot_options=HoloviewsTemplates.hv_slides,\n",
    "    orientation=\"horizontal\",\n",
    ")\n",
    "Hist\n",
    "hv.save(Hist, savepath / \"TimeToFinish_histogram.png\")"
   ]
  },
  {
   "cell_type": "markdown",
   "metadata": {},
   "source": [
    "# Ball trajectories"
   ]
  },
  {
   "cell_type": "code",
   "execution_count": null,
   "metadata": {},
   "outputs": [],
   "source": [
    "# Make another Dataset using coordinates\n",
    "\n",
    "Trajectories = magnet_data.generate_dataset(metrics=\"coordinates\")"
   ]
  },
  {
   "cell_type": "code",
   "execution_count": null,
   "metadata": {},
   "outputs": [],
   "source": [
    "\n",
    "# Assuming Trajectories is a DataFrame with columns 'time', 'yfly_relative', and 'Magnet'\n",
    "\n",
    "# Define the start time (in seconds)\n",
    "start = 30 * 60  # 30 minutes\n",
    "\n",
    "# Calculate yfly_relative velocity\n",
    "Trajectories[\"yfly_relative_velocity\"] = (\n",
    "    Trajectories[\"yfly_relative\"].diff() / Trajectories[\"time\"].diff()\n",
    ")\n",
    "\n",
    "# Group by Magnet condition\n",
    "grouped = Trajectories.groupby(\"Magnet\")\n",
    "\n",
    "# Initialize lists to store results\n",
    "results = []\n",
    "\n",
    "# Iterate over each group\n",
    "for name, group in grouped:\n",
    "    # Filter the data for the specific time point and the two minutes after\n",
    "    time_point_data = group[group[\"time\"] == start]\n",
    "    two_minutes_data = group[\n",
    "        (group[\"time\"] >= start) & (group[\"time\"] <= start + 2 * 60)\n",
    "    ]\n",
    "\n",
    "    # Calculate the velocity at the specific time point\n",
    "    if not time_point_data.empty:\n",
    "        velocity_at_time_point = time_point_data[\"yfly_relative_velocity\"].values[0]\n",
    "    else:\n",
    "        velocity_at_time_point = None\n",
    "\n",
    "    # Calculate the average velocity over the two minutes after the start time\n",
    "    average_velocity_two_minutes = two_minutes_data[\"yfly_relative_velocity\"].mean()\n",
    "\n",
    "    # Store the results\n",
    "    results.append(\n",
    "        {\n",
    "            \"Magnet\": name,\n",
    "            \"Velocity at time point\": velocity_at_time_point,\n",
    "            \"Average velocity for two minutes\": average_velocity_two_minutes,\n",
    "        }\n",
    "    )\n",
    "\n",
    "# Convert results to DataFrame for better visualization\n",
    "results_df = pd.DataFrame(results)\n",
    "\n",
    "# Print the results\n",
    "print(results_df)"
   ]
  },
  {
   "cell_type": "code",
   "execution_count": null,
   "metadata": {},
   "outputs": [],
   "source": [
    "import holoviews as hv\n",
    "from holoviews import opts\n",
    "\n",
    "hv.extension(\"bokeh\")\n",
    "\n",
    "# Assuming Trajectories is a DataFrame with columns 'time', 'yfly_relative', and 'Magnet'\n",
    "\n",
    "# Define the start time (in seconds)\n",
    "start = 30 * 60  # 30 minutes\n",
    "\n",
    "# Define the window around the start point (e.g., 5 minutes before and after)\n",
    "window = 5 * 60  # 5 minutes\n",
    "\n",
    "# Calculate yfly_relative velocity\n",
    "Trajectories[\"yfly_relative_velocity\"] = (\n",
    "    Trajectories[\"yfly_relative\"].diff() / Trajectories[\"time\"].diff()\n",
    ")\n",
    "\n",
    "# Filter the data within the window around the start point\n",
    "window_data = Trajectories[\n",
    "    (Trajectories[\"time\"] >= start - window) & (Trajectories[\"time\"] <= start + window)\n",
    "]\n",
    "\n",
    "# Group by Magnet condition and time\n",
    "grouped = window_data.groupby([\"Magnet\", \"time\"])\n",
    "\n",
    "# Calculate the average velocity for each group\n",
    "average_velocity = grouped[\"yfly_relative_velocity\"].mean().reset_index()\n",
    "\n",
    "# Create Holoviews Curve elements for each Magnet condition\n",
    "curves = []\n",
    "for magnet in average_velocity[\"Magnet\"].unique():\n",
    "    magnet_data = average_velocity[average_velocity[\"Magnet\"] == magnet]\n",
    "    curve = hv.Curve(\n",
    "        (magnet_data[\"time\"], magnet_data[\"yfly_relative_velocity\"]),\n",
    "        \"Time (seconds)\",\n",
    "        \"Average Velocity\",\n",
    "    ).opts(\n",
    "        title=\"Average Velocity Across Flies Grouped by Magnet Positions\",\n",
    "        line_width=1,  # Thinner lines\n",
    "        #legend_label=f\"Magnet {magnet}\",\n",
    "    )\n",
    "    curves.append(curve)\n",
    "\n",
    "# Overlay the curves\n",
    "overlay = hv.Overlay(curves).opts(opts.Overlay(legend_position=\"right\", show_grid=True))\n",
    "\n",
    "# Add a vertical line for the start point\n",
    "vline = hv.VLine(start).opts(\n",
    "    color=\"red\", line_dash=\"dashed\", line_width=1, labelled=[\"Start Point\"]\n",
    ")\n",
    "\n",
    "# Combine the overlay and the vertical line\n",
    "final_plot = overlay * vline\n",
    "\n",
    "# Display the plot\n",
    "hv.output(final_plot)"
   ]
  },
  {
   "cell_type": "code",
   "execution_count": null,
   "metadata": {},
   "outputs": [],
   "source": [
    "import pandas as pd\n",
    "import holoviews as hv\n",
    "from holoviews import opts\n",
    "\n",
    "hv.extension(\"bokeh\")\n",
    "\n",
    "# Assuming Trajectories is a DataFrame with columns 'time', 'yfly_relative', and 'Magnet'\n",
    "\n",
    "# Define the start time (in seconds)\n",
    "start = 30 * 60  # 30 minutes\n",
    "\n",
    "# Define the window around the start point (1 minute before and after)\n",
    "window = 1 * 60  # 1 minute\n",
    "\n",
    "# Calculate yfly_relative velocity\n",
    "Trajectories[\"yfly_relative_velocity\"] = (\n",
    "    Trajectories[\"yfly_relative\"].diff() / Trajectories[\"time\"].diff()\n",
    ")\n",
    "\n",
    "# Calculate the speed (absolute value of velocity)\n",
    "Trajectories[\"yfly_relative_speed\"] = Trajectories[\"yfly_relative_velocity\"].abs()\n",
    "\n",
    "# Filter the data for 1 minute before the start point\n",
    "before_start_data = Trajectories[\n",
    "    (Trajectories[\"time\"] >= start - window) & (Trajectories[\"time\"] < start)\n",
    "]\n",
    "\n",
    "# Filter the data for 1 minute after the start point\n",
    "after_start_data = Trajectories[\n",
    "    (Trajectories[\"time\"] > start) & (Trajectories[\"time\"] <= start + window)\n",
    "]\n",
    "\n",
    "# Group by Magnet condition and calculate the average speed for each group\n",
    "average_speed_before = (\n",
    "    before_start_data.groupby(\"Magnet\")[\"yfly_relative_speed\"].mean().reset_index()\n",
    ")\n",
    "average_speed_after = (\n",
    "    after_start_data.groupby(\"Magnet\")[\"yfly_relative_speed\"].mean().reset_index()\n",
    ")\n",
    "\n",
    "# Rename the columns for clarity\n",
    "average_speed_before.columns = [\"Magnet\", \"Average Speed Before\"]\n",
    "average_speed_after.columns = [\"Magnet\", \"Average Speed After\"]\n",
    "\n",
    "# Merge the results into a single DataFrame\n",
    "average_speed = pd.merge(\n",
    "    average_speed_before, average_speed_after, on=\"Magnet\", how=\"outer\"\n",
    ")\n",
    "\n",
    "# Display the result\n",
    "print(average_speed)"
   ]
  },
  {
   "cell_type": "code",
   "execution_count": null,
   "metadata": {},
   "outputs": [],
   "source": [
    "import holoviews as hv\n",
    "from holoviews import opts\n",
    "\n",
    "hv.extension(\"bokeh\")\n",
    "\n",
    "# Assuming Trajectories is a DataFrame with columns 'time', 'yfly_relative', and 'Magnet'\n",
    "\n",
    "# Define the start time (in seconds)\n",
    "start = 30 * 60  # 30 minutes\n",
    "\n",
    "# Define the window around the start point (e.g., 5 minutes before and after)\n",
    "window = 5 * 60  # 5 minutes\n",
    "\n",
    "# Calculate yfly_relative velocity\n",
    "Trajectories[\"yfly_relative_velocity\"] = (\n",
    "    Trajectories[\"yfly_relative\"].diff() / Trajectories[\"time\"].diff()\n",
    ")\n",
    "\n",
    "# Calculate the speed (absolute value of velocity)\n",
    "Trajectories[\"yfly_relative_speed\"] = Trajectories[\"yfly_relative_velocity\"].abs()\n",
    "\n",
    "# Filter the data within the window around the start point\n",
    "window_data = Trajectories[\n",
    "    (Trajectories[\"time\"] >= start - window) & (Trajectories[\"time\"] <= start + window)\n",
    "]\n",
    "\n",
    "# Group by Magnet condition and time\n",
    "grouped = window_data.groupby([\"Magnet\", \"time\"])\n",
    "\n",
    "# Calculate the average speed for each group\n",
    "average_speed = grouped[\"yfly_relative_speed\"].mean().reset_index()\n",
    "\n",
    "# Create Holoviews Curve elements for each Magnet condition\n",
    "curves = []\n",
    "for magnet in average_speed[\"Magnet\"].unique():\n",
    "    magnet_data = average_speed[average_speed[\"Magnet\"] == magnet]\n",
    "    curve = hv.Curve(\n",
    "        (magnet_data[\"time\"], magnet_data[\"yfly_relative_speed\"]),\n",
    "        \"Time (seconds)\",\n",
    "        \"Average Speed\",\n",
    "    ).opts(\n",
    "        title=\"Average Speed Across Flies Grouped by Magnet Positions\",\n",
    "        line_width=1,  # Thinner lines\n",
    "        # legend_label=f\"Magnet {magnet}\",\n",
    "    ).relabel(f\"Magnet {magnet}\")\n",
    "    curves.append(curve)\n",
    "\n",
    "# Overlay the curves\n",
    "overlay = hv.Overlay(curves).opts(opts.Overlay(legend_position=\"right\", show_grid=True))\n",
    "\n",
    "# Add a vertical line for the start point\n",
    "vline = hv.VLine(start).opts(\n",
    "    color=\"red\", line_dash=\"dashed\", line_width=1, labelled=[\"Start Point\"]\n",
    ")\n",
    "\n",
    "# Combine the overlay and the vertical line\n",
    "final_plot = overlay * vline\n",
    "\n",
    "# Display the plot\n",
    "hv.output(final_plot)"
   ]
  },
  {
   "cell_type": "code",
   "execution_count": null,
   "metadata": {},
   "outputs": [],
   "source": [
    "# 1 pixel = 0.06 mm . Make a Velocity as mm/s plot\n",
    "\n",
    "# Assuming Trajectories is a DataFrame with columns 'time', 'yfly_relative', and 'Magnet'\n",
    "\n",
    "# Define the start time (in seconds)\n",
    "start = 30 * 60  # 30 minutes\n",
    "\n",
    "# Define the window around the start point (e.g., 5 minutes before and after)\n",
    "window = 5 * 60  # 5 minutes\n",
    "\n",
    "# Calculate yfly_relative velocity\n",
    "Trajectories[\"yfly_relative_velocity\"] = (\n",
    "    Trajectories[\"yfly_relative\"].diff() / Trajectories[\"time\"].diff()\n",
    ")\n",
    "\n",
    "# Calculate the speed (absolute value of velocity)\n",
    "\n",
    "Trajectories[\"yfly_relative_speed\"] = Trajectories[\"yfly_relative_velocity\"].abs()\n",
    "\n",
    "# Convert the speed to mm/s\n",
    "\n",
    "Trajectories[\"yfly_relative_speed_mm_s\"] = Trajectories[\"yfly_relative_speed\"] * 0.06\n",
    "\n",
    "# Filter the data within the window around the start point\n",
    "\n",
    "window_data = Trajectories[\n",
    "    (Trajectories[\"time\"] >= start - window) & (Trajectories[\"time\"] <= start + window)\n",
    "]\n",
    "\n",
    "# Group by Magnet condition and time\n",
    "\n",
    "grouped = window_data.groupby([\"Magnet\", \"time\"])\n",
    "\n",
    "# Calculate the average speed for each group\n",
    "\n",
    "average_speed = grouped[\"yfly_relative_speed_mm_s\"].mean().reset_index()\n",
    "\n",
    "# Create Holoviews Curve elements for each Magnet condition\n",
    "\n",
    "curves = []\n",
    "\n",
    "for magnet in average_speed[\"Magnet\"].unique():\n",
    "    magnet_data = average_speed[average_speed[\"Magnet\"] == magnet]\n",
    "    curve = (\n",
    "        hv.Curve(\n",
    "            (magnet_data[\"time\"], magnet_data[\"yfly_relative_speed_mm_s\"]),\n",
    "            \"Time (seconds)\",\n",
    "            \"Average Speed (mm/s)\",\n",
    "        )\n",
    "        .opts(\n",
    "            title=\"Average Speed Across Flies Grouped by Magnet Positions\",\n",
    "            line_width=1,  # Thinner lines\n",
    "        )\n",
    "        .relabel(f\"Magnet {magnet}\")\n",
    "    )\n",
    "    curves.append(curve)\n",
    "\n",
    "# Overlay the curves\n",
    "\n",
    "overlay = hv.Overlay(curves).opts(opts.Overlay(legend_position=\"right\", show_grid=True))\n",
    "\n",
    "# Add a vertical line for the start point\n",
    "\n",
    "vline = hv.VLine(start).opts(\n",
    "    color=\"red\", line_dash=\"dashed\", line_width=1, labelled=[\"Start Point\"]\n",
    ")\n",
    "\n",
    "# Combine the overlay and the vertical line\n",
    "\n",
    "final_plot = overlay * vline\n",
    "\n",
    "# Display the plot\n",
    "\n",
    "hv.output(final_plot)"
   ]
  },
  {
   "cell_type": "code",
   "execution_count": null,
   "metadata": {},
   "outputs": [],
   "source": [
    "# Define the start time (in seconds)\n",
    "start = 30 * 60  # 30 minutes\n",
    "\n",
    "# Define the window around the start point (e.g., 5 minutes before and after)\n",
    "window = 5 * 60  # 5 minutes\n",
    "\n",
    "# Calculate yfly_relative velocity\n",
    "Trajectories[\"yfly_relative_velocity\"] = (\n",
    "    Trajectories[\"yfly_relative\"].diff() / Trajectories[\"time\"].diff()\n",
    ")\n",
    "\n",
    "# Calculate the speed (absolute value of velocity)\n",
    "Trajectories[\"yfly_relative_speed\"] = Trajectories[\"yfly_relative_velocity\"].abs()\n",
    "\n",
    "# Convert the speed to mm/s\n",
    "Trajectories[\"yfly_relative_speed_mm_s\"] = Trajectories[\"yfly_relative_speed\"] * 0.06\n",
    "\n",
    "# Apply a rolling window average for smoothing (e.g., window size of 5)\n",
    "Trajectories[\"yfly_relative_speed_mm_s_smooth\"] = Trajectories.groupby(\"Magnet\")[\n",
    "    \"yfly_relative_speed_mm_s\"\n",
    "].transform(lambda x: x.rolling(window=150, min_periods=1).mean())\n",
    "\n",
    "# Filter the data within the window around the start point\n",
    "window_data = Trajectories[\n",
    "    (Trajectories[\"time\"] >= start - window) & (Trajectories[\"time\"] <= start + window)\n",
    "]\n",
    "\n",
    "# Group by Magnet condition and time\n",
    "grouped = window_data.groupby([\"Magnet\", \"time\"])\n",
    "\n",
    "# Calculate the average speed for each group\n",
    "average_speed = grouped[\"yfly_relative_speed_mm_s_smooth\"].mean().reset_index()\n",
    "\n",
    "# Create Holoviews Curve elements for each Magnet condition\n",
    "curves = []\n",
    "\n",
    "for magnet in average_speed[\"Magnet\"].unique():\n",
    "    magnet_data = average_speed[average_speed[\"Magnet\"] == magnet]\n",
    "    curve = (\n",
    "        hv.Curve(\n",
    "            (magnet_data[\"time\"], magnet_data[\"yfly_relative_speed_mm_s_smooth\"]),\n",
    "            \"Time (seconds)\",\n",
    "            \"Average Speed (mm/s)\",\n",
    "        )\n",
    "        .opts(\n",
    "            title=\"Average Speed Across Flies Grouped by Magnet Positions\",\n",
    "            line_width=3,  # Thinner lines\n",
    "            ylabel=\"Average Speed (mm/s)\",\n",
    "        )\n",
    "        .relabel(f\"Magnet {magnet}\")\n",
    "    )  # Use relabel to set the legend label\n",
    "    curves.append(curve)\n",
    "\n",
    "# Overlay the curves\n",
    "overlay = hv.Overlay(curves).opts(opts.Overlay(legend_position=\"right\", show_grid=True))\n",
    "\n",
    "# Add a vertical line for the start point\n",
    "vline = hv.VLine(start).opts(\n",
    "    color=\"red\", line_dash=\"dashed\", line_width=1, labelled=[\"Start Point\"]\n",
    ")\n",
    "\n",
    "# Combine the overlay and the vertical line\n",
    "final_plot = (overlay * vline).options(**HoloviewsTemplates.hv_slides[\"plot\"]).opts(invert_axes=False)\n",
    "\n",
    "# Display the plot\n",
    "hv.output(final_plot)"
   ]
  },
  {
   "cell_type": "code",
   "execution_count": null,
   "metadata": {},
   "outputs": [],
   "source": [
    "# Group by Magnet condition and count the number of unique flies\n",
    "sample_size = window_data.groupby(\"Magnet\")[\"fly\"].nunique().reset_index()\n",
    "sample_size.columns = [\"Magnet\", \"sample_size\"]\n",
    "\n",
    "print(sample_size)"
   ]
  },
  {
   "cell_type": "code",
   "execution_count": null,
   "metadata": {},
   "outputs": [],
   "source": [
    "# Assuming Trajectories is a DataFrame with columns 'time', 'yfly_relative', and 'Magnet'\n",
    "\n",
    "# Define the start time (in seconds)\n",
    "start = 60 * 60  # 60 minutes\n",
    "\n",
    "# Define the window around the start point (e.g., 5 minutes before and after)\n",
    "window = 10 * 60  # 5 minutes\n",
    "\n",
    "# Calculate yfly_relative velocity\n",
    "Trajectories[\"yfly_relative_velocity\"] = (\n",
    "    Trajectories[\"yfly_relative\"].diff() / Trajectories[\"time\"].diff()\n",
    ")\n",
    "\n",
    "# Calculate the speed (absolute value of velocity)\n",
    "Trajectories[\"yfly_relative_speed\"] = Trajectories[\"yfly_relative_velocity\"].abs()\n",
    "\n",
    "# Convert the speed to mm/s\n",
    "Trajectories[\"yfly_relative_speed_mm_s\"] = Trajectories[\"yfly_relative_speed\"] * 0.06\n",
    "\n",
    "# Apply a rolling window average for smoothing (e.g., window size of 5)\n",
    "Trajectories[\"yfly_relative_speed_mm_s_smooth\"] = Trajectories.groupby(\"Magnet\")[\n",
    "    \"yfly_relative_speed_mm_s\"\n",
    "].transform(lambda x: x.rolling(window=150, min_periods=1).mean())\n",
    "\n",
    "# Filter the data within the window around the start point\n",
    "window_data = Trajectories[\n",
    "    (Trajectories[\"time\"] >= start - window) & (Trajectories[\"time\"] <= start + window)\n",
    "]\n",
    "\n",
    "# Group by Magnet condition and time\n",
    "grouped = window_data.groupby([\"Magnet\", \"time\"])\n",
    "\n",
    "# Calculate the average speed and SEM for each group\n",
    "average_speed = (\n",
    "    grouped[\"yfly_relative_speed_mm_s_smooth\"].agg([\"mean\", \"sem\"]).reset_index()\n",
    ")\n",
    "\n",
    "# Compute sample size based on the number of unique flies per Magnet condition\n",
    "sample_size = window_data.groupby(\"Magnet\")[\"fly\"].nunique().reset_index()\n",
    "sample_size.columns = [\"Magnet\", \"sample_size\"]\n",
    "\n",
    "# Merge the sample size with the average_speed DataFrame\n",
    "average_speed = pd.merge(average_speed, sample_size, on=\"Magnet\")\n",
    "\n",
    "# Generate a label column with the Magnet and sample size information\n",
    "average_speed[\"label\"] = average_speed.apply(\n",
    "    lambda row: (\n",
    "        f\"Magnet block (n = {row['sample_size']})\"\n",
    "        if row[\"Magnet\"] == \"y\"\n",
    "        else f\"Control (n = {row['sample_size']})\"\n",
    "    ),\n",
    "    axis=1,\n",
    ")\n",
    "\n",
    "# Create Holoviews Curve and Area elements for each Magnet condition\n",
    "curves = []\n",
    "areas = []\n",
    "\n",
    "for label in average_speed[\"label\"].unique():\n",
    "    label_data = average_speed[average_speed[\"label\"] == label]\n",
    "    time = label_data[\"time\"]\n",
    "    mean_speed = label_data[\"mean\"]\n",
    "    sem_speed = label_data[\"sem\"]\n",
    "\n",
    "    # Calculate the upper and lower bounds of the confidence interval\n",
    "    lower_bound = mean_speed - sem_speed\n",
    "    upper_bound = mean_speed + sem_speed\n",
    "\n",
    "    # Create the curve for the mean speed\n",
    "    curve = (\n",
    "        hv.Curve(\n",
    "            (time, mean_speed),\n",
    "            \"Time (seconds)\",\n",
    "            \"Average Speed (mm/s)\",\n",
    "        )\n",
    "        .opts(\n",
    "            title=\"Average Speed Across Flies Grouped by Magnet Positions\",\n",
    "            line_width=3,\n",
    "            ylabel=\"Average Speed (mm/s)\",\n",
    "        )\n",
    "        .relabel(label)  # Use the label for the legend\n",
    "    )\n",
    "    curves.append(curve)\n",
    "\n",
    "    # Create the area for the confidence interval\n",
    "    area = hv.Area((time, lower_bound, upper_bound), vdims=[\"lower\", \"upper\"]).opts(\n",
    "        alpha=0.3,\n",
    "    )\n",
    "    areas.append(area)\n",
    "\n",
    "# Overlay the curves and confidence intervals\n",
    "overlay = hv.Overlay(areas + curves).opts(\n",
    "    opts.Overlay(legend_position=\"right\", show_grid=True)\n",
    ")\n",
    "\n",
    "# Add a vertical line for the start point\n",
    "vline = hv.VLine(start).opts(\n",
    "    color=\"red\", line_dash=\"dashed\", line_width=3, labelled=[\"Start Point\"]\n",
    ")\n",
    "\n",
    "# Combine the overlay and the vertical line\n",
    "final_plot = (\n",
    "    (overlay * vline)\n",
    "    .options(**HoloviewsTemplates.hv_slides[\"plot\"])\n",
    "    .opts(invert_axes=False, show_legend=True, width = 2000)\n",
    ")\n",
    "\n",
    "# Display the plot\n",
    "hv.output(final_plot)"
   ]
  },
  {
   "cell_type": "code",
   "execution_count": null,
   "metadata": {},
   "outputs": [],
   "source": [
    "# Save this plot\n",
    "\n",
    "savepath = Path(\"/mnt/upramdya_data/MD/MultiMazeRecorder/Plots/MagnetBlock/240718\")\n",
    "\n",
    "hv.save(final_plot, savepath / \"AverageSpeed.html\")\n",
    "hv.save(final_plot, savepath / \"AverageSpeed.png\", fmt=\"png\")"
   ]
  },
  {
   "cell_type": "code",
   "execution_count": null,
   "metadata": {},
   "outputs": [],
   "source": [
    "import pandas as pd\n",
    "import holoviews as hv\n",
    "from holoviews import opts\n",
    "import numpy as np\n",
    "\n",
    "hv.extension(\"bokeh\")\n",
    "\n",
    "# Assuming Trajectories is a DataFrame with columns 'time', 'yfly_relative', and 'Magnet'\n",
    "\n",
    "# Calculate yfly_relative velocity\n",
    "Trajectories[\"yfly_relative_velocity\"] = (\n",
    "    Trajectories[\"yfly_relative\"].diff() / Trajectories[\"time\"].diff()\n",
    ")\n",
    "\n",
    "# Calculate the speed (absolute value of velocity)\n",
    "Trajectories[\"yfly_relative_speed\"] = Trajectories[\"yfly_relative_velocity\"].abs()\n",
    "\n",
    "# Convert the speed to mm/s\n",
    "Trajectories[\"yfly_relative_speed_mm_s\"] = Trajectories[\"yfly_relative_speed\"] * 0.06\n",
    "\n",
    "# Apply a rolling window average for smoothing (e.g., window size of 5)\n",
    "Trajectories[\"yfly_relative_speed_mm_s_smooth\"] = Trajectories.groupby(\"Magnet\")[\n",
    "    \"yfly_relative_speed_mm_s\"\n",
    "].transform(lambda x: x.rolling(window=(500), min_periods=1).mean())\n",
    "\n",
    "# Group by Magnet condition and time\n",
    "grouped = Trajectories.groupby([\"Magnet\", \"time\"])\n",
    "\n",
    "# Calculate the average speed and SEM for each group\n",
    "average_speed = (\n",
    "    grouped[\"yfly_relative_speed_mm_s_smooth\"].agg([\"mean\", \"sem\"]).reset_index()\n",
    ")\n",
    "\n",
    "# Compute sample size based on the number of unique flies per Magnet condition\n",
    "sample_size = window_data.groupby(\"Magnet\")[\"fly\"].nunique().reset_index()\n",
    "sample_size.columns = [\"Magnet\", \"sample_size\"]\n",
    "\n",
    "# Merge the sample size with the average_speed DataFrame\n",
    "average_speed = pd.merge(average_speed, sample_size, on=\"Magnet\")\n",
    "\n",
    "# Generate a label column with the Magnet and sample size information\n",
    "average_speed[\"label\"] = average_speed.apply(\n",
    "    lambda row: (\n",
    "        f\"Magnet block (n = {row['sample_size']})\"\n",
    "        if row[\"Magnet\"] == \"y\"\n",
    "        else f\"Control (n = {row['sample_size']})\"\n",
    "    ),\n",
    "    axis=1,\n",
    ")\n",
    "\n",
    "# Create Holoviews Curve and Area elements for each Magnet condition\n",
    "curves = []\n",
    "areas = []\n",
    "\n",
    "for magnet in average_speed[\"label\"].unique():\n",
    "    magnet_data = average_speed[average_speed[\"label\"] == magnet]\n",
    "    time = magnet_data[\"time\"]\n",
    "    mean_speed = magnet_data[\"mean\"]\n",
    "    sem_speed = magnet_data[\"sem\"]\n",
    "\n",
    "    # Calculate the upper and lower bounds of the confidence interval\n",
    "    lower_bound = mean_speed - sem_speed\n",
    "    upper_bound = mean_speed + sem_speed\n",
    "\n",
    "    # Create the curve for the mean speed\n",
    "    curve = (\n",
    "        hv.Curve(\n",
    "            (time, mean_speed),\n",
    "            \"Time (seconds)\",\n",
    "            \"Average Speed (mm/s)\",\n",
    "        )\n",
    "        .opts(\n",
    "            title=\"Average Speed Across Flies Grouped by Magnet Positions\",\n",
    "            line_width=3,\n",
    "            ylabel=\"Average Speed (mm/s)\",\n",
    "        )\n",
    "        .relabel(f\"Magnet {magnet}\")\n",
    "    )\n",
    "    curves.append(curve)\n",
    "\n",
    "    # Create the area for the confidence interval\n",
    "    area = hv.Area((time, lower_bound, upper_bound), vdims=[\"lower\", \"upper\"]).opts(\n",
    "        alpha=0.3,\n",
    "    )\n",
    "    areas.append(area)"
   ]
  },
  {
   "cell_type": "code",
   "execution_count": null,
   "metadata": {},
   "outputs": [],
   "source": [
    "\n",
    "# Overlay the curves and confidence intervals\n",
    "overlay = hv.Overlay(curves).opts(\n",
    "    opts.Overlay(show_grid=True)\n",
    ").options(**HoloviewsTemplates.hv_slides[\"plot\"]).opts(invert_axes=False, show_legend=True)\n",
    "\n",
    "# Display the plot\n",
    "hv.output(overlay)"
   ]
  },
  {
   "cell_type": "code",
   "execution_count": null,
   "metadata": {},
   "outputs": [],
   "source": [
    "hv.save(overlay, savepath / \"AverageSpeed_Full.html\")\n",
    "hv.save(overlay, savepath / \"AverageSpeed_Full.png\", fmt=\"png\")"
   ]
  },
  {
   "cell_type": "code",
   "execution_count": null,
   "metadata": {},
   "outputs": [],
   "source": []
  }
 ],
 "metadata": {
  "kernelspec": {
   "display_name": "tracking_analysis",
   "language": "python",
   "name": "python3"
  },
  "language_info": {
   "codemirror_mode": {
    "name": "ipython",
    "version": 3
   },
   "file_extension": ".py",
   "mimetype": "text/x-python",
   "name": "python",
   "nbconvert_exporter": "python",
   "pygments_lexer": "ipython3",
   "version": "3.12.6"
  }
 },
 "nbformat": 4,
 "nbformat_minor": 2
}
