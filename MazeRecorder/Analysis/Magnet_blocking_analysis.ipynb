{
 "cells": [
  {
   "cell_type": "markdown",
   "metadata": {},
   "source": [
    "This notebook is for the analysis of experiments in which some flies were interacting with balls that were blocked using magnets. After a certain amount of time, magnets were removed and we want to compare how well they push balls compared to controls."
   ]
  },
  {
   "cell_type": "markdown",
   "metadata": {},
   "source": [
    "# Required packages \n"
   ]
  },
  {
   "cell_type": "code",
   "execution_count": null,
   "metadata": {},
   "outputs": [],
   "source": [
    "import sys\n",
    "import os\n",
    "from icecream import ic\n",
    "\n",
    "from pathlib import Path\n",
    "\n",
    "import utils_behavior\n",
    "\n",
    "from utils_behavior import Ballpushing_utils\n",
    "from utils_behavior import Utils\n",
    "from utils_behavior import Processing\n",
    "from utils_behavior import HoloviewsTemplates\n",
    "\n",
    "import pandas as pd\n",
    "import hvplot.pandas\n",
    "import numpy as np\n",
    "\n",
    "from scipy import stats\n",
    "from statsmodels.stats.multitest import multipletests\n",
    "\n",
    "from sklearn.decomposition import PCA\n",
    "from sklearn.preprocessing import StandardScaler\n",
    "import pandas as pd\n",
    "\n",
    "import matplotlib.pyplot as plt\n",
    "import seaborn as sns\n",
    "\n",
    "import iqplot\n",
    "\n",
    "import importlib\n",
    "\n",
    "import holoviews as hv\n",
    "import bokeh.io\n",
    "import colorcet\n",
    "\n",
    "bokeh.io.output_notebook()\n",
    "\n",
    "hv.extension(\"bokeh\")"
   ]
  },
  {
   "cell_type": "code",
   "execution_count": null,
   "metadata": {},
   "outputs": [],
   "source": [
    "# Select the experiments to analyze"
   ]
  },
  {
   "cell_type": "markdown",
   "metadata": {},
   "source": [
    "Let's start with one that is representative of the best settings I had, which was using magnets under the backlighting sheet, keeping control flies in their chambers until the first half-hour of pretraining was finished.\n",
    "These were done on **240530 and 240531**"
   ]
  },
  {
   "cell_type": "code",
   "execution_count": null,
   "metadata": {},
   "outputs": [],
   "source": [
    "# Get the data path\n",
    "Datapath = Utils.get_data_path()\n",
    "\n",
    "# Get all folders with \"TNT_Fine\" in the name\n",
    "\n",
    "Folders = [\n",
    "    f\n",
    "    for f in os.listdir(Datapath)\n",
    "    if \"240530\" in f or \"240531\" in f and os.path.isdir(Datapath / f)\n",
    "]\n",
    "\n",
    "Folders"
   ]
  },
  {
   "cell_type": "code",
   "execution_count": null,
   "metadata": {},
   "outputs": [],
   "source": [
    "importlib.reload(Ballpushing_utils)"
   ]
  },
  {
   "cell_type": "code",
   "execution_count": null,
   "metadata": {},
   "outputs": [],
   "source": [
    "# Generate Experiment objects from each folder\n",
    "\n",
    "Experiments = [Ballpushing_utils.Experiment(Datapath / f) for f in Folders]"
   ]
  },
  {
   "cell_type": "code",
   "execution_count": null,
   "metadata": {},
   "outputs": [],
   "source": [
    "importlib.reload(Ballpushing_utils)"
   ]
  },
  {
   "cell_type": "code",
   "execution_count": null,
   "metadata": {},
   "outputs": [],
   "source": [
    "# Build the position\n",
    "\n",
    "magnet_data = Ballpushing_utils.Dataset(Experiments)\n",
    "\n",
    "print(magnet_data)"
   ]
  },
  {
   "cell_type": "code",
   "execution_count": null,
   "metadata": {},
   "outputs": [],
   "source": [
    "start = 30 * 60\n",
    "\n",
    "magnet_data.generate_dataset(\"summary\", time_range=[start])"
   ]
  },
  {
   "cell_type": "code",
   "execution_count": null,
   "metadata": {},
   "outputs": [],
   "source": [
    "# Get sample size : get how many unique fly ids we have grouped by Magnet\n",
    "\n",
    "magnet_data.data.groupby(\"Magnet\")[\"fly\"].nunique()\n",
    "\n",
    "# Create a \"label\" column that is \"Magnet block\" if Magnet is y, and \"Control\" if Magnet is n. Add the sample size to the label.\n",
    "\n",
    "magnet_data.data[\"label\"] = magnet_data.data[\"Magnet\"].apply(\n",
    "    lambda x: \"Magnet block (n = 59)\" if x == \"y\" else \"Control (n = 48)\"\n",
    ")\n"
   ]
  },
  {
   "cell_type": "code",
   "execution_count": null,
   "metadata": {},
   "outputs": [],
   "source": [
    "# Get the data columns\n",
    "\n",
    "data_columns = magnet_data.data.columns\n",
    "\n",
    "data_columns"
   ]
  },
  {
   "cell_type": "markdown",
   "metadata": {},
   "source": [
    "# Do some plotting"
   ]
  },
  {
   "cell_type": "markdown",
   "metadata": {},
   "source": [
    "Now we're gonna plot some metrics and compare them between Magnet y and magnet n."
   ]
  },
  {
   "cell_type": "code",
   "execution_count": null,
   "metadata": {},
   "outputs": [],
   "source": [
    "importlib.reload(HoloviewsTemplates)"
   ]
  },
  {
   "cell_type": "code",
   "execution_count": null,
   "metadata": {},
   "outputs": [],
   "source": [
    "Plot = HoloviewsTemplates.jitter_boxplot(\n",
    "    data=magnet_data.data,\n",
    "    metric =\"TimeToFinish\",\n",
    "    kdims = \"label\",\n",
    "    metadata=magnet_data.metadata,\n",
    "    plot_options=HoloviewsTemplates.hv_slides,\n",
    "    colorby=\"Genotype\",\n",
    ")"
   ]
  },
  {
   "cell_type": "code",
   "execution_count": null,
   "metadata": {},
   "outputs": [],
   "source": [
    "Plot = Plot.opts(\n",
    "    ylabel = \"Time to bring the ball to the end (s)\",\n",
    "    ylim = (0, 3800)\n",
    ")"
   ]
  },
  {
   "cell_type": "code",
   "execution_count": null,
   "metadata": {},
   "outputs": [],
   "source": [
    "Plot\n",
    "# + Histogram distribution"
   ]
  },
  {
   "cell_type": "markdown",
   "metadata": {},
   "source": [
    "## Make and save all metrics plots"
   ]
  },
  {
   "cell_type": "code",
   "execution_count": null,
   "metadata": {},
   "outputs": [],
   "source": [
    "savepath = Utils.get_labserver() / \"Experimental_data/MultiMazeRecorder/Plots/MagnetBlock/240617\""
   ]
  },
  {
   "cell_type": "code",
   "execution_count": null,
   "metadata": {},
   "outputs": [],
   "source": [
    "hv.save(Plot, savepath / \"TimeToFinish_byGenotype.html\")"
   ]
  },
  {
   "cell_type": "code",
   "execution_count": null,
   "metadata": {},
   "outputs": [],
   "source": [
    "# Also get the png\n",
    "hv.save(Plot, savepath / \"TimeToFinish_byGenotype.png\", fmt=\"png\")"
   ]
  },
  {
   "cell_type": "code",
   "execution_count": null,
   "metadata": {},
   "outputs": [],
   "source": [
    "# Do the same with NumberEvents\n",
    "\n",
    "Plot = HoloviewsTemplates.jitter_boxplot(\n",
    "    data=magnet_data.data,\n",
    "    metric=\"NumberEvents\",\n",
    "    kdims=\"label\",\n",
    "    metadata=magnet_data.metadata,\n",
    "    plot_options=HoloviewsTemplates.hv_slides,\n",
    "    colorby=\"Genotype\",\n",
    ")\n",
    "\n",
    "Plot = Plot.opts(\n",
    "    ylabel = \"Number of events\",\n",
    ")\n",
    "\n",
    "hv.save(Plot, savepath / \"NumberEvents_byGenotype.html\")"
   ]
  },
  {
   "cell_type": "code",
   "execution_count": null,
   "metadata": {},
   "outputs": [],
   "source": [
    "# Generate the list of metrics\n",
    "\n",
    "metrics = [\n",
    "    \"NumberEvents\",\n",
    "    \"FinalEvent\",\n",
    "    \"FinalTime\",\n",
    "    \"SignificantEvents\",\n",
    "    \"SignificantFirst\",\n",
    "    \"SignificantFirstTime\",\n",
    "    \"Pushes\",\n",
    "    \"Pulls\",\n",
    "    \"PullingRatio\",\n",
    "    \"InteractionProportion\",\n",
    "    \"AhaMoment\",\n",
    "    \"AhaMomentIndex\",\n",
    "    \"InsightEffect\",\n",
    "    \"TimeToFinish\",\n",
    "    \"SignificantRatio\",\n",
    "]"
   ]
  },
  {
   "cell_type": "code",
   "execution_count": null,
   "metadata": {},
   "outputs": [],
   "source": [
    "# For each metric, generate a jitter boxplot and save it\n",
    "\n",
    "for metric in metrics: \n",
    "    Plot = HoloviewsTemplates.jitter_boxplot(\n",
    "        magnet_data.data, metric, \"Magnet\", magnet_data.metadata, scale_max=[True if metric == \"FinalTime\" else False]\n",
    "    )\n",
    "    hv.save(Plot, savepath / f\"{metric}.html\")"
   ]
  },
  {
   "cell_type": "code",
   "execution_count": null,
   "metadata": {},
   "outputs": [],
   "source": [
    "# Make a nice layout with all the plots:\n",
    "plots = []\n",
    "\n",
    "for metric in metrics:\n",
    "    Plot = HoloviewsTemplates.jitter_boxplot(\n",
    "        magnet_data.data,\n",
    "        metric,\n",
    "        \"Magnet\",\n",
    "        magnet_data.metadata,\n",
    "        scale_max=[True if metric in [\"FinalTime\", \"SignificantRatio\"] else False],\n",
    "    )\n",
    "    plots.append(Plot)\n",
    "\n",
    "layout = hv.Layout(plots).cols(2)"
   ]
  },
  {
   "cell_type": "code",
   "execution_count": null,
   "metadata": {},
   "outputs": [],
   "source": [
    "hv.save(layout, savepath / \"All_metrics.html\")"
   ]
  },
  {
   "cell_type": "code",
   "execution_count": null,
   "metadata": {},
   "outputs": [],
   "source": [
    "importlib.reload(HoloviewsTemplates)"
   ]
  },
  {
   "cell_type": "markdown",
   "metadata": {},
   "source": [
    "# Distribution\n",
    "\n",
    "We can see that there seems to be some distribution variability between groups, which would be better highlighted by using something like an histogram"
   ]
  },
  {
   "cell_type": "code",
   "execution_count": null,
   "metadata": {},
   "outputs": [],
   "source": [
    "Hist = HoloviewsTemplates.histograms(magnet_data.data, \"TimeToFinish\", \"label\", bins = 20, xlabel = \"Time to bring the ball to the end (s)\", plot_options=HoloviewsTemplates.hv_slides, orientation = \"horizontal\")"
   ]
  },
  {
   "cell_type": "code",
   "execution_count": null,
   "metadata": {},
   "outputs": [],
   "source": [
    "Hist"
   ]
  },
  {
   "cell_type": "code",
   "execution_count": null,
   "metadata": {},
   "outputs": [],
   "source": [
    "hv.save(Hist, savepath / \"TimeToFinish_histogram.png\")"
   ]
  },
  {
   "cell_type": "markdown",
   "metadata": {},
   "source": []
  },
  {
   "cell_type": "markdown",
   "metadata": {},
   "source": [
    "# Heatmaps\n",
    "\n",
    "Let's look at the ball position over time grouped by Magnet condition"
   ]
  },
  {
   "cell_type": "code",
   "execution_count": null,
   "metadata": {},
   "outputs": [],
   "source": [
    "importlib.reload(Ballpushing_utils)"
   ]
  },
  {
   "cell_type": "code",
   "execution_count": null,
   "metadata": {},
   "outputs": [],
   "source": [
    "start = 30 * 60"
   ]
  },
  {
   "cell_type": "code",
   "execution_count": null,
   "metadata": {},
   "outputs": [],
   "source": [
    "position = magnet_data.generate_dataset(metrics = \"coordinates\", time_range=[start])"
   ]
  },
  {
   "cell_type": "markdown",
   "metadata": {},
   "source": [
    "## Sanity checks\n",
    "\n",
    "> The dataset should be 3600 seconds long. So 3600 * 29 rows."
   ]
  },
  {
   "cell_type": "code",
   "execution_count": null,
   "metadata": {},
   "outputs": [],
   "source": [
    "position.head()"
   ]
  },
  {
   "cell_type": "code",
   "execution_count": null,
   "metadata": {},
   "outputs": [],
   "source": [
    "# Get the data columns\n",
    "\n",
    "data_columns = position.columns\n",
    "\n",
    "data_columns"
   ]
  },
  {
   "cell_type": "code",
   "execution_count": null,
   "metadata": {},
   "outputs": [],
   "source": [
    "import holoviews as hv\n",
    "from holoviews import opts\n",
    "from holoviews.plotting.util import process_cmap\n",
    "from bokeh.palettes import Viridis256\n",
    "from bokeh.models import FixedTicker\n",
    "import dask.dataframe as dd\n",
    "\n",
    "# Convert the DataFrame to a Dask DataFrame\n",
    "ddf = dd.from_pandas(position, npartitions=4)  # Use a suitable number of partitions\n",
    "\n",
    "# Convert 'Magnet' and 'time' to categorical data type\n",
    "ddf[\"Magnet\"] = ddf[\"Magnet\"].astype(\"category\")\n",
    "ddf[\"time\"] = ddf[\"time\"].astype(\"category\")\n",
    "\n",
    "# Ensure that the categories of 'time' are known\n",
    "ddf[\"time\"] = ddf[\"time\"].cat.as_known()\n",
    "\n",
    "# Define custom colormap\n",
    "cmap = process_cmap(\"Viridis256_r\", provider=\"bokeh\")\n",
    "\n",
    "# Get unique genotypes\n",
    "Genotypes = ddf[\"Magnet\"].unique().compute()\n",
    "\n",
    "\n",
    "# Define a function that removes y-axis ticks\n",
    "def remove_yticks(plot, element):\n",
    "    plot.handles[\"yaxis\"].ticker = FixedTicker(ticks=[])\n",
    "\n",
    "\n",
    "# Pivot the DataFrame once\n",
    "df_pivot = ddf.categorize([\"Magnet\", \"time\"]).pivot_table(\n",
    "    index=\"fly\", columns=\"time\", values=\"yball_relative\", aggfunc=\"first\"\n",
    ")\n",
    "\n",
    "for genotype in Genotypes:\n",
    "    # Slice the pivoted DataFrame for the current genotype\n",
    "    df_genotype = df_pivot.loc[ddf[ddf[\"Magnet\"] == genotype][\"fly\"].unique()]\n",
    "\n",
    "    # Create a HeatMap\n",
    "    heatmap = hv.HeatMap((df_genotype.columns, df_genotype.index, df_genotype.values))\n",
    "\n",
    "    # Apply options to the HeatMap\n",
    "    heatmap.opts(\n",
    "        opts.HeatMap(\n",
    "            cmap=cmap,\n",
    "            colorbar=True,\n",
    "            tools=[\"hover\"],\n",
    "            width=900,\n",
    "            height=900,\n",
    "            title=genotype,\n",
    "            xlabel=\"Time(s)\",\n",
    "            ylabel=\"\",\n",
    "            fontscale=1.5,\n",
    "        )\n",
    "    )\n",
    "\n",
    "    # Save each plot as a separate file in SVG format\n",
    "    hv.save(heatmap, f\"{savepath}/heatmap_{genotype}.svg\", fmt=\"svg\")"
   ]
  },
  {
   "cell_type": "code",
   "execution_count": null,
   "metadata": {},
   "outputs": [],
   "source": [
    "Plotlist[0]"
   ]
  },
  {
   "cell_type": "code",
   "execution_count": null,
   "metadata": {},
   "outputs": [],
   "source": [
    "# Create a layout with all the plots\n",
    "layout = hv.Layout(Plotlist).cols(2)\n",
    "\n",
    "layout"
   ]
  },
  {
   "cell_type": "code",
   "execution_count": null,
   "metadata": {},
   "outputs": [],
   "source": [
    "# Save the layout\n",
    "hv.save(layout, savepath / \"Heatmaps.html\")"
   ]
  },
  {
   "cell_type": "markdown",
   "metadata": {},
   "source": [
    "# New protocol\n",
    "\n",
    "Here I'm gonna replicate the analysis with a new protocol where control flies get to explore part of the corridor and have a transparent gate to see the ball and so the gate lifting doesn't provide a clear cue that they can push now."
   ]
  },
  {
   "cell_type": "code",
   "execution_count": null,
   "metadata": {},
   "outputs": [],
   "source": [
    "# Get the data path\n",
    "Datapath = Utils.get_data_path()\n",
    "\n",
    "# Get all folders with \"TNT_Fine\" in the name\n",
    "\n",
    "Folders = [\n",
    "    f\n",
    "    for f in os.listdir(Datapath)\n",
    "    if \"240710\" in f or \"240711\" in f and os.path.isdir(Datapath / f)\n",
    "]\n",
    "\n",
    "Folders"
   ]
  },
  {
   "cell_type": "code",
   "execution_count": null,
   "metadata": {},
   "outputs": [],
   "source": [
    "importlib.reload(Ballpushing_utils)"
   ]
  },
  {
   "cell_type": "code",
   "execution_count": null,
   "metadata": {},
   "outputs": [],
   "source": [
    "\n",
    "# Generate Experiment objects from each folder\n",
    "\n",
    "Experiments = [Ballpushing_utils.Experiment(Datapath / f) for f in Folders]"
   ]
  },
  {
   "cell_type": "code",
   "execution_count": null,
   "metadata": {},
   "outputs": [],
   "source": [
    "# Build the position\n",
    "\n",
    "magnet_data = Ballpushing_utils.Dataset(Experiments)\n",
    "\n",
    "print(magnet_data)\n",
    "start = 60 * 60\n",
    "\n",
    "magnet_data.generate_dataset(\"summary\", time_range=[start])"
   ]
  },
  {
   "cell_type": "code",
   "execution_count": null,
   "metadata": {},
   "outputs": [],
   "source": [
    "preview = magnet_data.data\n",
    "preview"
   ]
  },
  {
   "cell_type": "code",
   "execution_count": null,
   "metadata": {},
   "outputs": [],
   "source": [
    "# Get the data columns\n",
    "\n",
    "data_columns = magnet_data.data.columns\n",
    "\n",
    "data_columns"
   ]
  },
  {
   "cell_type": "code",
   "execution_count": null,
   "metadata": {},
   "outputs": [],
   "source": [
    "# Get sample size : get how many unique fly ids we have grouped by Magnet\n",
    "\n",
    "magnet_data.data.groupby(\"Magnet\")[\"fly\"].nunique()"
   ]
  },
  {
   "cell_type": "code",
   "execution_count": null,
   "metadata": {},
   "outputs": [],
   "source": [
    "# Create a \"label\" column that is \"Magnet block\" if Magnet is y, and \"Control\" if Magnet is n. Add the sample size to the label.\n",
    "\n",
    "magnet_data.data[\"label\"] = magnet_data.data[\"Magnet\"].apply(\n",
    "    lambda x: \"Magnet block (n = 53)\" if x == \"y\" else \"Control (n = 54)\"\n",
    ")"
   ]
  },
  {
   "cell_type": "markdown",
   "metadata": {},
   "source": [
    "## Event based metric jitterboxplots"
   ]
  },
  {
   "cell_type": "code",
   "execution_count": null,
   "metadata": {},
   "outputs": [],
   "source": [
    "Plot = HoloviewsTemplates.jitter_boxplot(\n",
    "    data=magnet_data.data,\n",
    "    metric=\"TimeToFinish\",\n",
    "    kdims=\"label\",\n",
    "    metadata=magnet_data.metadata,\n",
    "    plot_options=HoloviewsTemplates.hv_slides,\n",
    "    colorby=\"Magnet\",\n",
    ")\n",
    "Plot = Plot.opts(ylabel=\"Time to bring the ball to the end (s)\", ylim=(0, 3800))\n"
   ]
  },
  {
   "cell_type": "code",
   "execution_count": null,
   "metadata": {},
   "outputs": [],
   "source": [
    "savepath = Path(\"/mnt/upramdya_data/MD/MultiMazeRecorder/Plots/MagnetBlock/240718\")"
   ]
  },
  {
   "cell_type": "code",
   "execution_count": null,
   "metadata": {},
   "outputs": [],
   "source": [
    "hv.save(Plot, savepath / \"TimeToFinish_byGenotype.html\")"
   ]
  },
  {
   "cell_type": "code",
   "execution_count": null,
   "metadata": {},
   "outputs": [],
   "source": [
    "# Generate the list of metrics\n",
    "\n",
    "metrics = [\n",
    "    \"NumberEvents\",\n",
    "    \"FinalEvent\",\n",
    "    \"FinalTime\",\n",
    "    \"SignificantEvents\",\n",
    "    \"SignificantFirst\",\n",
    "    \"SignificantFirstTime\",\n",
    "    \"Pushes\",\n",
    "    \"Pulls\",\n",
    "    \"PullingRatio\",\n",
    "    \"InteractionProportion\",\n",
    "    \"AhaMoment\",\n",
    "    \"AhaMomentIndex\",\n",
    "    \"InsightEffect\",\n",
    "    \"TimeToFinish\",\n",
    "    \"SignificantRatio\",\n",
    "]\n",
    "# For each metric, generate a jitter boxplot and save it\n",
    "\n",
    "for metric in metrics:\n",
    "    Plot = HoloviewsTemplates.jitter_boxplot(\n",
    "        magnet_data.data,\n",
    "        metric,\n",
    "        \"label\",\n",
    "        magnet_data.metadata,\n",
    "        scale_max=[True if metric == \"FinalTime\" else False],\n",
    "    )\n",
    "    hv.save(Plot, savepath / f\"{metric}.html\")\n",
    "    hv.save(Plot, savepath / f\"{metric}.png\", fmt=\"png\")\n",
    "# Make a nice layout with all the plots:\n",
    "plots = []\n",
    "\n",
    "for metric in metrics:\n",
    "    Plot = HoloviewsTemplates.jitter_boxplot(\n",
    "        magnet_data.data,\n",
    "        metric,\n",
    "        \"label\",\n",
    "        magnet_data.metadata,\n",
    "        scale_max=[True if metric in [\"FinalTime\", \"SignificantRatio\"] else False],\n",
    "    )\n",
    "    plots.append(Plot)\n",
    "\n",
    "layout = hv.Layout(plots).cols(2)\n",
    "hv.save(layout, savepath / \"All_metrics.html\")\n",
    "\n",
    "# Also get the png\n",
    "hv.save(layout, savepath / \"All_metrics.png\", fmt=\"png\")"
   ]
  },
  {
   "cell_type": "markdown",
   "metadata": {},
   "source": [
    "## Distribution"
   ]
  },
  {
   "cell_type": "code",
   "execution_count": null,
   "metadata": {},
   "outputs": [],
   "source": [
    "Hist = HoloviewsTemplates.histograms(\n",
    "    magnet_data.data,\n",
    "    \"TimeToFinish\",\n",
    "    \"label\",\n",
    "    bins=20,\n",
    "    xlabel=\"Time to bring the ball to the end (s)\",\n",
    "    plot_options=HoloviewsTemplates.hv_slides,\n",
    "    orientation=\"horizontal\",\n",
    ")\n",
    "Hist\n",
    "hv.save(Hist, savepath / \"TimeToFinish_histogram.png\")"
   ]
  },
  {
   "cell_type": "code",
   "execution_count": null,
   "metadata": {},
   "outputs": [],
   "source": []
  }
 ],
 "metadata": {
  "kernelspec": {
   "display_name": "Main",
   "language": "python",
   "name": "python3"
  },
  "language_info": {
   "codemirror_mode": {
    "name": "ipython",
    "version": 3
   },
   "file_extension": ".py",
   "mimetype": "text/x-python",
   "name": "python",
   "nbconvert_exporter": "python",
   "pygments_lexer": "ipython3",
   "version": "3.10.13"
  }
 },
 "nbformat": 4,
 "nbformat_minor": 2
}
