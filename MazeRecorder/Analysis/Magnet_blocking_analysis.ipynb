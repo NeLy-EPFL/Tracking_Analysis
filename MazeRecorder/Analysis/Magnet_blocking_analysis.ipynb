{
 "cells": [
  {
   "cell_type": "markdown",
   "metadata": {},
   "source": [
    "This notebook is for the analysis of experiments in which some flies were interacting with balls that were blocked using magnets. After a certain amount of time, magnets were removed and we want to compare how well they push balls compared to controls."
   ]
  },
  {
   "cell_type": "markdown",
   "metadata": {},
   "source": [
    "# Required packages \n"
   ]
  },
  {
   "cell_type": "code",
   "execution_count": null,
   "metadata": {},
   "outputs": [],
   "source": [
    "import sys\n",
    "import os\n",
    "from icecream import ic\n",
    "\n",
    "from pathlib import Path\n",
    "\n",
    "import utils_behavior\n",
    "\n",
    "from utils_behavior import Ballpushing_utils\n",
    "from utils_behavior import Utils\n",
    "from utils_behavior import Processing\n",
    "from utils_behavior import HoloviewsTemplates\n",
    "from utils_behavior import Seaborn_Templates\n",
    "from utils_behavior import Sleap_utils\n",
    "\n",
    "\n",
    "import pandas as pd\n",
    "import hvplot.pandas\n",
    "import numpy as np\n",
    "\n",
    "from scipy import stats\n",
    "from statsmodels.stats.multitest import multipletests\n",
    "\n",
    "# from sklearn.decomposition import PCA\n",
    "# from sklearn.preprocessing import StandardScaler\n",
    "import pandas as pd\n",
    "\n",
    "import matplotlib.pyplot as plt\n",
    "import seaborn as sns\n",
    "\n",
    "#import iqplot\n",
    "\n",
    "import importlib\n",
    "\n",
    "import holoviews as hv\n",
    "import bokeh.io\n",
    "import colorcet\n",
    "\n",
    "bokeh.io.output_notebook()\n",
    "\n",
    "hv.extension(\"bokeh\")"
   ]
  },
  {
   "cell_type": "code",
   "execution_count": null,
   "metadata": {},
   "outputs": [],
   "source": [
    "# Select the experiments to analyze"
   ]
  },
  {
   "cell_type": "markdown",
   "metadata": {},
   "source": [
    "Let's start with one that is representative of the best settings I had, which was using magnets under the backlighting sheet, keeping control flies in their chambers until the first half-hour of pretraining was finished.\n",
    "These were done on **240530 and 240531**"
   ]
  },
  {
   "cell_type": "code",
   "execution_count": null,
   "metadata": {},
   "outputs": [],
   "source": [
    "# Get the data path\n",
    "Datapath = Utils.get_data_path()\n",
    "\n",
    "# Get all folders with \"TNT_Fine\" in the name\n",
    "\n",
    "Folders = [\n",
    "    f\n",
    "    for f in os.listdir(Datapath)\n",
    "    if \"240530\" in f or \"240531\" in f and os.path.isdir(Datapath / f)\n",
    "]\n",
    "\n",
    "Folders"
   ]
  },
  {
   "cell_type": "code",
   "execution_count": null,
   "metadata": {},
   "outputs": [],
   "source": [
    "importlib.reload(Ballpushing_utils)"
   ]
  },
  {
   "cell_type": "code",
   "execution_count": null,
   "metadata": {},
   "outputs": [],
   "source": [
    "# Generate Experiment objects from each folder\n",
    "\n",
    "Experiments = [Ballpushing_utils.Experiment(Datapath / f, experiment_type = \"MagnetBlock\") for f in Folders]"
   ]
  },
  {
   "cell_type": "code",
   "execution_count": null,
   "metadata": {},
   "outputs": [],
   "source": [
    "importlib.reload(Ballpushing_utils)"
   ]
  },
  {
   "cell_type": "code",
   "execution_count": null,
   "metadata": {},
   "outputs": [],
   "source": [
    "# Build the position\n",
    "\n",
    "magnet_data_summary = Ballpushing_utils.Dataset(Experiments, dataset_type=\"summary\")\n",
    "\n",
    "print(magnet_data_summary)"
   ]
  },
  {
   "cell_type": "code",
   "execution_count": null,
   "metadata": {},
   "outputs": [],
   "source": [
    "Magnet_summary_dataset = magnet_data_summary.data\n",
    "\n",
    "Magnet_summary_dataset"
   ]
  },
  {
   "cell_type": "code",
   "execution_count": null,
   "metadata": {},
   "outputs": [],
   "source": [
    "magnet_data_summary.data.columns"
   ]
  },
  {
   "cell_type": "code",
   "execution_count": null,
   "metadata": {},
   "outputs": [],
   "source": [
    "metrics_to_plot = ['nb_events', 'max_event', 'max_event_time', 'max_distance',\n",
    "       'final_event', 'final_event_time', 'nb_significant_events',\n",
    "       'significant_ratio', 'first_significant_event',\n",
    "       'first_significant_event_time', 'aha_moment', 'aha_moment_time',\n",
    "       'insight_effect', 'cumulated_breaks_duration', 'pushed', 'pulled',\n",
    "       'pulling_ratio', 'success_direction', 'interaction_proportion',\n",
    "       'distance_moved']"
   ]
  },
  {
   "cell_type": "code",
   "execution_count": null,
   "metadata": {},
   "outputs": [],
   "source": [
    "importlib.reload(Seaborn_Templates)"
   ]
  },
  {
   "cell_type": "code",
   "execution_count": null,
   "metadata": {},
   "outputs": [],
   "source": [
    "for metric in metrics_to_plot:\n",
    "    try:\n",
    "        Seaborn_Templates.sns_plot(magnet_data_summary.data, metric=metric, kdims=\"Magnet\", colorby=\"Magnet\", plot_type=\"jitterboxplot\")\n",
    "        \n",
    "    except:\n",
    "        print(f\"Error with {metric}\")\n",
    "        \n",
    "        \n",
    "\n"
   ]
  },
  {
   "cell_type": "code",
   "execution_count": null,
   "metadata": {},
   "outputs": [],
   "source": [
    "start = 30 * 60\n",
    "\n",
    "magnet_data.generate_dataset(\"summary\", time_range=[start])"
   ]
  },
  {
   "cell_type": "code",
   "execution_count": null,
   "metadata": {},
   "outputs": [],
   "source": [
    "# Get sample size : get how many unique fly ids we have grouped by Magnet\n",
    "\n",
    "magnet_data.data.groupby(\"Magnet\")[\"fly\"].nunique()\n",
    "\n",
    "# Create a \"label\" column that is \"Magnet block\" if Magnet is y, and \"Control\" if Magnet is n. Add the sample size to the label.\n",
    "\n",
    "magnet_data.data[\"label\"] = magnet_data.data[\"Magnet\"].apply(\n",
    "    lambda x: \"Magnet block (n = 59)\" if x == \"y\" else \"Control (n = 48)\"\n",
    ")\n"
   ]
  },
  {
   "cell_type": "code",
   "execution_count": null,
   "metadata": {},
   "outputs": [],
   "source": [
    "# Get the data columns\n",
    "\n",
    "data_columns = magnet_data.data.columns\n",
    "\n",
    "data_columns"
   ]
  },
  {
   "cell_type": "markdown",
   "metadata": {},
   "source": [
    "# Do some plotting"
   ]
  },
  {
   "cell_type": "markdown",
   "metadata": {},
   "source": [
    "Now we're gonna plot some metrics and compare them between Magnet y and magnet n."
   ]
  },
  {
   "cell_type": "code",
   "execution_count": null,
   "metadata": {},
   "outputs": [],
   "source": [
    "importlib.reload(HoloviewsTemplates)"
   ]
  },
  {
   "cell_type": "code",
   "execution_count": null,
   "metadata": {},
   "outputs": [],
   "source": [
    "Plot = HoloviewsTemplates.jitter_boxplot(\n",
    "    data=magnet_data.data,\n",
    "    metric =\"TimeToFinish\",\n",
    "    kdims = \"label\",\n",
    "    metadata=magnet_data.metadata,\n",
    "    plot_options=HoloviewsTemplates.hv_slides,\n",
    "    colorby=\"Genotype\",\n",
    ")"
   ]
  },
  {
   "cell_type": "code",
   "execution_count": null,
   "metadata": {},
   "outputs": [],
   "source": [
    "Plot = Plot.opts(\n",
    "    ylabel = \"Time to bring the ball to the end (s)\",\n",
    "    ylim = (0, 3800)\n",
    ")"
   ]
  },
  {
   "cell_type": "code",
   "execution_count": null,
   "metadata": {},
   "outputs": [],
   "source": [
    "Plot\n",
    "# + Histogram distribution"
   ]
  },
  {
   "cell_type": "markdown",
   "metadata": {},
   "source": [
    "## Make and save all metrics plots"
   ]
  },
  {
   "cell_type": "code",
   "execution_count": null,
   "metadata": {},
   "outputs": [],
   "source": [
    "savepath = Utils.get_labserver() / \"Experimental_data/MultiMazeRecorder/Plots/MagnetBlock/240617\""
   ]
  },
  {
   "cell_type": "code",
   "execution_count": null,
   "metadata": {},
   "outputs": [],
   "source": [
    "hv.save(Plot, savepath / \"TimeToFinish_byGenotype.html\")"
   ]
  },
  {
   "cell_type": "code",
   "execution_count": null,
   "metadata": {},
   "outputs": [],
   "source": [
    "# Also get the png\n",
    "hv.save(Plot, savepath / \"TimeToFinish_byGenotype.png\", fmt=\"png\")"
   ]
  },
  {
   "cell_type": "code",
   "execution_count": null,
   "metadata": {},
   "outputs": [],
   "source": [
    "# Do the same with NumberEvents\n",
    "\n",
    "Plot = HoloviewsTemplates.jitter_boxplot(\n",
    "    data=magnet_data.data,\n",
    "    metric=\"NumberEvents\",\n",
    "    kdims=\"label\",\n",
    "    metadata=magnet_data.metadata,\n",
    "    plot_options=HoloviewsTemplates.hv_slides,\n",
    "    colorby=\"Genotype\",\n",
    ")\n",
    "\n",
    "Plot = Plot.opts(\n",
    "    ylabel = \"Number of events\",\n",
    ")\n",
    "\n",
    "hv.save(Plot, savepath / \"NumberEvents_byGenotype.html\")"
   ]
  },
  {
   "cell_type": "code",
   "execution_count": null,
   "metadata": {},
   "outputs": [],
   "source": [
    "# Generate the list of metrics\n",
    "\n",
    "metrics = [\n",
    "    \"NumberEvents\",\n",
    "    \"FinalEvent\",\n",
    "    \"FinalTime\",\n",
    "    \"SignificantEvents\",\n",
    "    \"SignificantFirst\",\n",
    "    \"SignificantFirstTime\",\n",
    "    \"Pushes\",\n",
    "    \"Pulls\",\n",
    "    \"PullingRatio\",\n",
    "    \"InteractionProportion\",\n",
    "    \"AhaMoment\",\n",
    "    \"AhaMomentIndex\",\n",
    "    \"InsightEffect\",\n",
    "    \"TimeToFinish\",\n",
    "    \"SignificantRatio\",\n",
    "]"
   ]
  },
  {
   "cell_type": "code",
   "execution_count": null,
   "metadata": {},
   "outputs": [],
   "source": [
    "# For each metric, generate a jitter boxplot and save it\n",
    "\n",
    "for metric in metrics: \n",
    "    Plot = HoloviewsTemplates.jitter_boxplot(\n",
    "        magnet_data.data, metric, \"Magnet\", magnet_data.metadata, scale_max=[True if metric == \"FinalTime\" else False]\n",
    "    )\n",
    "    hv.save(Plot, savepath / f\"{metric}.html\")"
   ]
  },
  {
   "cell_type": "code",
   "execution_count": null,
   "metadata": {},
   "outputs": [],
   "source": [
    "# Make a nice layout with all the plots:\n",
    "plots = []\n",
    "\n",
    "for metric in metrics:\n",
    "    Plot = HoloviewsTemplates.jitter_boxplot(\n",
    "        magnet_data.data,\n",
    "        metric,\n",
    "        \"Magnet\",\n",
    "        magnet_data.metadata,\n",
    "        scale_max=[True if metric in [\"FinalTime\", \"SignificantRatio\"] else False],\n",
    "    )\n",
    "    plots.append(Plot)\n",
    "\n",
    "layout = hv.Layout(plots).cols(2)"
   ]
  },
  {
   "cell_type": "code",
   "execution_count": null,
   "metadata": {},
   "outputs": [],
   "source": [
    "hv.save(layout, savepath / \"All_metrics.html\")"
   ]
  },
  {
   "cell_type": "code",
   "execution_count": null,
   "metadata": {},
   "outputs": [],
   "source": [
    "importlib.reload(HoloviewsTemplates)"
   ]
  },
  {
   "cell_type": "markdown",
   "metadata": {},
   "source": [
    "# Distribution\n",
    "\n",
    "We can see that there seems to be some distribution variability between groups, which would be better highlighted by using something like an histogram"
   ]
  },
  {
   "cell_type": "code",
   "execution_count": null,
   "metadata": {},
   "outputs": [],
   "source": [
    "Hist = HoloviewsTemplates.histograms(magnet_data.data, \"TimeToFinish\", \"label\", bins = 20, xlabel = \"Time to bring the ball to the end (s)\", plot_options=HoloviewsTemplates.hv_slides, orientation = \"horizontal\")"
   ]
  },
  {
   "cell_type": "code",
   "execution_count": null,
   "metadata": {},
   "outputs": [],
   "source": [
    "Hist"
   ]
  },
  {
   "cell_type": "code",
   "execution_count": null,
   "metadata": {},
   "outputs": [],
   "source": [
    "hv.save(Hist, savepath / \"TimeToFinish_histogram.png\")"
   ]
  },
  {
   "cell_type": "markdown",
   "metadata": {},
   "source": []
  },
  {
   "cell_type": "markdown",
   "metadata": {},
   "source": [
    "# Heatmaps\n",
    "\n",
    "Let's look at the ball position over time grouped by Magnet condition"
   ]
  },
  {
   "cell_type": "code",
   "execution_count": null,
   "metadata": {},
   "outputs": [],
   "source": [
    "importlib.reload(Ballpushing_utils)"
   ]
  },
  {
   "cell_type": "code",
   "execution_count": null,
   "metadata": {},
   "outputs": [],
   "source": [
    "start = 30 * 60"
   ]
  },
  {
   "cell_type": "code",
   "execution_count": null,
   "metadata": {},
   "outputs": [],
   "source": [
    "position = magnet_data.generate_dataset(metrics = \"coordinates\", time_range=[start])"
   ]
  },
  {
   "cell_type": "markdown",
   "metadata": {},
   "source": [
    "## Sanity checks\n",
    "\n",
    "> The dataset should be 3600 seconds long. So 3600 * 29 rows."
   ]
  },
  {
   "cell_type": "code",
   "execution_count": null,
   "metadata": {},
   "outputs": [],
   "source": [
    "position.head()"
   ]
  },
  {
   "cell_type": "code",
   "execution_count": null,
   "metadata": {},
   "outputs": [],
   "source": [
    "# Get the data columns\n",
    "\n",
    "data_columns = position.columns\n",
    "\n",
    "data_columns"
   ]
  },
  {
   "cell_type": "code",
   "execution_count": null,
   "metadata": {},
   "outputs": [],
   "source": [
    "import holoviews as hv\n",
    "from holoviews import opts\n",
    "from holoviews.plotting.util import process_cmap\n",
    "from bokeh.palettes import Viridis256\n",
    "from bokeh.models import FixedTicker\n",
    "import dask.dataframe as dd\n",
    "\n",
    "# Convert the DataFrame to a Dask DataFrame\n",
    "ddf = dd.from_pandas(position, npartitions=4)  # Use a suitable number of partitions\n",
    "\n",
    "# Convert 'Magnet' and 'time' to categorical data type\n",
    "ddf[\"Magnet\"] = ddf[\"Magnet\"].astype(\"category\")\n",
    "ddf[\"time\"] = ddf[\"time\"].astype(\"category\")\n",
    "\n",
    "# Ensure that the categories of 'time' are known\n",
    "ddf[\"time\"] = ddf[\"time\"].cat.as_known()\n",
    "\n",
    "# Define custom colormap\n",
    "cmap = process_cmap(\"Viridis256_r\", provider=\"bokeh\")\n",
    "\n",
    "# Get unique genotypes\n",
    "Genotypes = ddf[\"Magnet\"].unique().compute()\n",
    "\n",
    "\n",
    "# Define a function that removes y-axis ticks\n",
    "def remove_yticks(plot, element):\n",
    "    plot.handles[\"yaxis\"].ticker = FixedTicker(ticks=[])\n",
    "\n",
    "\n",
    "# Pivot the DataFrame once\n",
    "df_pivot = ddf.categorize([\"Magnet\", \"time\"]).pivot_table(\n",
    "    index=\"fly\", columns=\"time\", values=\"yball_relative\", aggfunc=\"first\"\n",
    ")\n",
    "\n",
    "for genotype in Genotypes:\n",
    "    # Slice the pivoted DataFrame for the current genotype\n",
    "    df_genotype = df_pivot.loc[ddf[ddf[\"Magnet\"] == genotype][\"fly\"].unique()]\n",
    "\n",
    "    # Create a HeatMap\n",
    "    heatmap = hv.HeatMap((df_genotype.columns, df_genotype.index, df_genotype.values))\n",
    "\n",
    "    # Apply options to the HeatMap\n",
    "    heatmap.opts(\n",
    "        opts.HeatMap(\n",
    "            cmap=cmap,\n",
    "            colorbar=True,\n",
    "            tools=[\"hover\"],\n",
    "            width=900,\n",
    "            height=900,\n",
    "            title=genotype,\n",
    "            xlabel=\"Time(s)\",\n",
    "            ylabel=\"\",\n",
    "            fontscale=1.5,\n",
    "        )\n",
    "    )\n",
    "\n",
    "    # Save each plot as a separate file in SVG format\n",
    "    hv.save(heatmap, f\"{savepath}/heatmap_{genotype}.svg\", fmt=\"svg\")"
   ]
  },
  {
   "cell_type": "code",
   "execution_count": null,
   "metadata": {},
   "outputs": [],
   "source": [
    "Plotlist[0]"
   ]
  },
  {
   "cell_type": "code",
   "execution_count": null,
   "metadata": {},
   "outputs": [],
   "source": [
    "# Create a layout with all the plots\n",
    "layout = hv.Layout(Plotlist).cols(2)\n",
    "\n",
    "layout"
   ]
  },
  {
   "cell_type": "code",
   "execution_count": null,
   "metadata": {},
   "outputs": [],
   "source": [
    "# Save the layout\n",
    "hv.save(layout, savepath / \"Heatmaps.html\")"
   ]
  },
  {
   "cell_type": "markdown",
   "metadata": {},
   "source": [
    "# New protocol\n",
    "\n",
    "Here I'm gonna replicate the analysis with a new protocol where control flies get to explore part of the corridor and have a transparent gate to see the ball and so the gate lifting doesn't provide a clear cue that they can push now."
   ]
  },
  {
   "cell_type": "code",
   "execution_count": null,
   "metadata": {},
   "outputs": [],
   "source": [
    "importlib.reload(Ballpushing_utils)\n"
   ]
  },
  {
   "cell_type": "code",
   "execution_count": null,
   "metadata": {},
   "outputs": [],
   "source": [
    "# Get the data path\n",
    "Datapath = Utils.get_data_path()\n",
    "\n",
    "# Get all folders with \"TNT_Fine\" in the name\n",
    "\n",
    "Folders = [\n",
    "    f\n",
    "    for f in os.listdir(Datapath)\n",
    "    if \"240710\" in f or \"240711\" in f and os.path.isdir(Datapath / f)\n",
    "]\n",
    "\n",
    "Folders"
   ]
  },
  {
   "cell_type": "code",
   "execution_count": null,
   "metadata": {},
   "outputs": [],
   "source": [
    "savepath = Utils.get_labserver() / \"Experimental_data/MultiMazeRecorder/Plots/MagnetBlock/241212\""
   ]
  },
  {
   "cell_type": "code",
   "execution_count": null,
   "metadata": {},
   "outputs": [],
   "source": [
    "\n",
    "# Generate Experiment objects from each folder\n",
    "\n",
    "Experiments = [Ballpushing_utils.Experiment(Datapath / f, experiment_type=\"MagnetBlock\") for f in Folders]"
   ]
  },
  {
   "cell_type": "code",
   "execution_count": null,
   "metadata": {},
   "outputs": [],
   "source": [
    "importlib.reload(Ballpushing_utils)"
   ]
  },
  {
   "cell_type": "code",
   "execution_count": null,
   "metadata": {},
   "outputs": [],
   "source": [
    "magnet_data_coords = Ballpushing_utils.Dataset(Experiments, dataset_type=\"coordinates\").data"
   ]
  },
  {
   "cell_type": "code",
   "execution_count": null,
   "metadata": {},
   "outputs": [],
   "source": [
    "magnet_data_coords.head()"
   ]
  },
  {
   "cell_type": "code",
   "execution_count": null,
   "metadata": {},
   "outputs": [],
   "source": [
    "# Rename the Magnet values to \"Magnet block\" and \"Control\" \n",
    "\n",
    "magnet_data_coords[\"label\"] = magnet_data_coords[\"Magnet\"].apply(lambda x: \"Magnet block\" if x == \"y\" else \"Control\")"
   ]
  },
  {
   "cell_type": "code",
   "execution_count": null,
   "metadata": {},
   "outputs": [],
   "source": [
    "# Plot the average ball displacement grouped by Magnet\n",
    "\n",
    "Lineplot = sns.lineplot(data=magnet_data_coords, x=\"time\", y=\"distance_ball_0\", hue=\"Magnet\")\n",
    "\n",
    "# Customize x, y and legend labels\n",
    "\n",
    "Lineplot.set(xlabel=\"Time (s)\", ylabel=\"Distance (px)\", title=\"\")\n",
    "\n",
    "plt.savefig(\"/mnt/upramdya_data/MD/MultiMazeRecorder/Plots/MagnetBlock/241212Average_ball_displacement.png\")\n",
    "\n",
    "plt.show()\n"
   ]
  },
  {
   "cell_type": "code",
   "execution_count": null,
   "metadata": {},
   "outputs": [],
   "source": [
    "importlib.reload(Ballpushing_utils)\n",
    "importlib.reload(Sleap_utils)"
   ]
  },
  {
   "cell_type": "code",
   "execution_count": null,
   "metadata": {},
   "outputs": [],
   "source": [
    "# Build the position\n",
    "\n",
    "magnet_data_summary = Ballpushing_utils.Dataset(Experiments, dataset_type=\"summary\").data"
   ]
  },
  {
   "cell_type": "code",
   "execution_count": null,
   "metadata": {},
   "outputs": [],
   "source": [
    "magnet_data_summary"
   ]
  },
  {
   "cell_type": "code",
   "execution_count": null,
   "metadata": {},
   "outputs": [],
   "source": [
    "# Get the data columns\n",
    "magnet_data_summary.columns"
   ]
  },
  {
   "cell_type": "code",
   "execution_count": null,
   "metadata": {},
   "outputs": [],
   "source": [
    "metrics_to_plot = ['nb_events', 'max_event', 'max_event_time', 'max_distance',\n",
    "       'final_event', 'final_event_time', 'nb_significant_events',\n",
    "       'significant_ratio', 'first_significant_event',\n",
    "       'first_significant_event_time', 'aha_moment', 'aha_moment_time',\n",
    "       'insight_effect', 'cumulated_breaks_duration', 'pushed', 'pulled',\n",
    "       'pulling_ratio', 'success_direction', 'interaction_proportion',\n",
    "       'distance_moved']"
   ]
  },
  {
   "cell_type": "code",
   "execution_count": null,
   "metadata": {},
   "outputs": [],
   "source": [
    "metrics_to_exclude = [\"final_event\", \"final_event_time\"]"
   ]
  },
  {
   "cell_type": "code",
   "execution_count": null,
   "metadata": {},
   "outputs": [],
   "source": [
    "# Rename the Magnet values to \"Magnet block\" and \"Control\" \n",
    "\n",
    "magnet_data_summary[\"label\"] = magnet_data_summary[\"Magnet\"].apply(lambda x: \"Magnet block\" if x == \"y\" else \"Control\")"
   ]
  },
  {
   "cell_type": "code",
   "execution_count": null,
   "metadata": {},
   "outputs": [],
   "source": [
    "importlib.reload(Seaborn_Templates)"
   ]
  },
  {
   "cell_type": "code",
   "execution_count": null,
   "metadata": {},
   "outputs": [],
   "source": [
    "from scipy.stats import ttest_ind\n",
    "import statsmodels.stats.api as sms\n",
    "\n",
    "for metric in metrics_to_plot:\n",
    "    try:\n",
    "        # Plot the metric\n",
    "        Plot = Seaborn_Templates.sns_plot(magnet_data_summary, metric=metric, kdims=\"label\", colorby=\"label\", plot_type=\"jitterboxplot\")\n",
    "        plt.savefig(f\"/mnt/upramdya_data/MD/MultiMazeRecorder/Plots/MagnetBlock/241212/{metric}.png\")\n",
    "        \n",
    "        # Perform t-test and calculate confidence interval if the metric is not in the exclusion list\n",
    "        if metric not in metrics_to_exclude:\n",
    "            \n",
    "            # Create a DataFrame with the data for the given metric but without the NaN values for this metric\n",
    "            \n",
    "            data = magnet_data_summary.dropna(subset=[metric])\n",
    "            \n",
    "            # Extract data for the two conditions\n",
    "            condition1 = data[data[\"label\"] == \"Control\"][metric]\n",
    "            #print(condition1)\n",
    "            \n",
    "            condition2 = data[data[\"label\"] == \"Magnet block\"][metric]\n",
    "            #print(condition2)\n",
    "                       \n",
    "            # Check for sufficient data points\n",
    "            if len(condition1) < 2 or len(condition2) < 2:\n",
    "                print(f\"Not enough data for {metric}\")\n",
    "                continue\n",
    "            \n",
    "            # Check for identical values\n",
    "            if condition1.var() == 0 or condition2.var() == 0:\n",
    "                print(f\"Identical values for {metric}\")\n",
    "                continue\n",
    "            \n",
    "            # Perform t-test\n",
    "            t_stat, p_value = ttest_ind(condition1, condition2)\n",
    "            \n",
    "            # Calculate effect size (Cohen's d)\n",
    "            cohen_d = (condition1.mean() - condition2.mean()) / (np.sqrt((condition1.var() + condition2.var()) / 2))\n",
    "            \n",
    "            # Calculate confidence interval for the effect size\n",
    "            cm = sms.CompareMeans(sms.DescrStatsW(condition1), sms.DescrStatsW(condition2))\n",
    "            ci_low, ci_high = cm.tconfint_diff(usevar='pooled')\n",
    "            \n",
    "            print(f\"{metric}: t-statistic = {t_stat}, p-value = {p_value}, Cohen's d = {cohen_d}, CI = [{ci_low}, {ci_high}]\")\n",
    "        \n",
    "    except Exception as e:\n",
    "        print(f\"Error with {metric}: {e}\")"
   ]
  },
  {
   "cell_type": "code",
   "execution_count": null,
   "metadata": {},
   "outputs": [],
   "source": [
    "# Get sample size : get how many unique fly ids we have grouped by Magnet\n",
    "\n",
    "magnet_data.data.groupby(\"Magnet\")[\"fly\"].nunique()"
   ]
  },
  {
   "cell_type": "code",
   "execution_count": null,
   "metadata": {},
   "outputs": [],
   "source": [
    "# Create a \"label\" column that is \"Magnet block\" if Magnet is y, and \"Control\" if Magnet is n. Add the sample size to the label.\n",
    "\n",
    "magnet_data.data[\"label\"] = magnet_data.data[\"Magnet\"].apply(\n",
    "    lambda x: \"Magnet block (n = 53)\" if x == \"y\" else \"Control (n = 54)\"\n",
    ")"
   ]
  },
  {
   "cell_type": "markdown",
   "metadata": {},
   "source": [
    "## Event based metric jitterboxplots"
   ]
  },
  {
   "cell_type": "code",
   "execution_count": null,
   "metadata": {},
   "outputs": [],
   "source": [
    "Plot = HoloviewsTemplates.jitter_boxplot(\n",
    "    data=magnet_data.data,\n",
    "    metric=\"TimeToFinish\",\n",
    "    kdims=\"label\",\n",
    "    metadata=magnet_data.metadata,\n",
    "    plot_options=HoloviewsTemplates.hv_slides,\n",
    "    colorby=\"Magnet\",\n",
    ")\n",
    "Plot = Plot.opts(ylabel=\"Time to bring the ball to the end (s)\", ylim=(0, 3800))\n",
    "\n",
    "Plot"
   ]
  },
  {
   "cell_type": "code",
   "execution_count": null,
   "metadata": {},
   "outputs": [],
   "source": [
    "savepath = Path(\"/mnt/upramdya_files/DURRIEU_Matthias/Videos/240820_LabMeeting/Plots/\")"
   ]
  },
  {
   "cell_type": "code",
   "execution_count": null,
   "metadata": {},
   "outputs": [],
   "source": [
    "hv.save(Plot, savepath / \"TimeToFinish_byMagnet.html\")\n",
    "hv.save(Plot, savepath / \"TimeToFinish_byMagnet.png\", fmt=\"png\")"
   ]
  },
  {
   "cell_type": "code",
   "execution_count": null,
   "metadata": {},
   "outputs": [],
   "source": [
    "# Filter the data to get only flies for which the Time to finish is less than the maximum time\n",
    "\n",
    "Filtered = magnet_data.data[magnet_data.data[\"TimeToFinish\"] < 3600]\n",
    "Filtered.groupby(\"Magnet\")[\"fly\"].nunique()"
   ]
  },
  {
   "cell_type": "code",
   "execution_count": null,
   "metadata": {},
   "outputs": [],
   "source": [
    "\n",
    "# Change the labels to inclue the updated sample size\n",
    "Filtered[\"label\"] = Filtered[\"Magnet\"].apply(\n",
    "    lambda x: \"Magnet block (n = 24)\" if x == \"y\" else \"Control (n = 29)\"\n",
    ")\n",
    "\n",
    "# Redo the plot\n",
    "\n",
    "Plot = HoloviewsTemplates.jitter_boxplot(\n",
    "    data=Filtered,\n",
    "    metric=\"TimeToFinish\",\n",
    "    kdims=\"label\",\n",
    "    metadata=magnet_data.metadata,\n",
    "    plot_options=HoloviewsTemplates.hv_slides,\n",
    "    colorby=\"Magnet\",\n",
    ")\n",
    "\n",
    "#Plot\n",
    "\n"
   ]
  },
  {
   "cell_type": "code",
   "execution_count": null,
   "metadata": {},
   "outputs": [],
   "source": [
    "# Save this plot\n",
    "\n",
    "savepath = Path(\"/mnt/upramdya_data/MD/MultiMazeRecorder/Plots/MagnetBlock/240718\")\n",
    "\n",
    "hv.save(Plot, savepath / \"TimeToFinish_Filtered.html\")"
   ]
  },
  {
   "cell_type": "code",
   "execution_count": null,
   "metadata": {},
   "outputs": [],
   "source": [
    "savepath = Path(\"/mnt/upramdya_data/MD/MultiMazeRecorder/Plots/MagnetBlock/240718\")"
   ]
  },
  {
   "cell_type": "code",
   "execution_count": null,
   "metadata": {},
   "outputs": [],
   "source": [
    "hv.save(Plot, savepath / \"TimeToFinish_byGenotype.html\")"
   ]
  },
  {
   "cell_type": "code",
   "execution_count": null,
   "metadata": {},
   "outputs": [],
   "source": [
    "# Generate the list of metrics\n",
    "\n",
    "metrics = [\n",
    "    \"NumberEvents\",\n",
    "    \"FinalEvent\",\n",
    "    \"FinalTime\",\n",
    "    \"SignificantEvents\",\n",
    "    \"SignificantFirst\",\n",
    "    \"SignificantFirstTime\",\n",
    "    \"Pushes\",\n",
    "    \"Pulls\",\n",
    "    \"PullingRatio\",\n",
    "    \"InteractionProportion\",\n",
    "    \"AhaMoment\",\n",
    "    \"AhaMomentIndex\",\n",
    "    \"InsightEffect\",\n",
    "    \"TimeToFinish\",\n",
    "    \"SignificantRatio\",\n",
    "]\n",
    "# For each metric, generate a jitter boxplot and save it\n",
    "\n",
    "for metric in metrics:\n",
    "    Plot = HoloviewsTemplates.jitter_boxplot(\n",
    "        magnet_data.data,\n",
    "        metric,\n",
    "        \"label\",\n",
    "        magnet_data.metadata,\n",
    "        plot_options=HoloviewsTemplates.hv_slides,\n",
    "        scale_max=[True if metric == \"FinalTime\" else False],\n",
    "    )\n",
    "    hv.save(Plot, savepath / f\"{metric}.html\")\n",
    "    hv.save(Plot, savepath / f\"{metric}.png\", fmt=\"png\")\n",
    "# Make a nice layout with all the plots:\n",
    "plots = []\n",
    "\n",
    "for metric in metrics:\n",
    "    Plot = HoloviewsTemplates.jitter_boxplot(\n",
    "        magnet_data.data,\n",
    "        metric,\n",
    "        \"label\",\n",
    "        magnet_data.metadata,\n",
    "        plot_options=HoloviewsTemplates.hv_slides,\n",
    "        scale_max=[True if metric in [\"FinalTime\", \"SignificantRatio\"] else False],\n",
    "    )\n",
    "    plots.append(Plot)\n",
    "\n",
    "layout = hv.Layout(plots).cols(2)\n",
    "hv.save(layout, savepath / \"All_metrics.html\")\n",
    "\n",
    "# Also get the png\n",
    "hv.save(layout, savepath / \"All_metrics.png\", fmt=\"png\")"
   ]
  },
  {
   "cell_type": "code",
   "execution_count": null,
   "metadata": {},
   "outputs": [],
   "source": [
    "savepath = Path(\"/mnt/upramdya_data/MD/MultiMazeRecorder/Plots/MagnetBlock/240815\")"
   ]
  },
  {
   "cell_type": "code",
   "execution_count": null,
   "metadata": {},
   "outputs": [],
   "source": [
    "metrics = [\n",
    "    \"NumberEvents\",\n",
    "    \"FinalEvent\",\n",
    "    \"FinalTime\",\n",
    "    \"SignificantEvents\",\n",
    "    \"SignificantFirst\",\n",
    "    \"SignificantFirstTime\",\n",
    "    \"Pushes\",\n",
    "    \"Pulls\",\n",
    "    \"PullingRatio\",\n",
    "    \"InteractionProportion\",\n",
    "    \"AhaMoment\",\n",
    "    \"AhaMomentIndex\",\n",
    "    \"InsightEffect\",\n",
    "    \"TimeToFinish\",\n",
    "    \"SignificantRatio\",\n",
    "]\n",
    "# For each metric, generate a jitter boxplot and save it\n",
    "\n",
    "for metric in metrics:\n",
    "    Plot = HoloviewsTemplates.jitter_boxplot(\n",
    "        Filtered,\n",
    "        metric,\n",
    "        \"label\",\n",
    "        magnet_data.metadata,\n",
    "        plot_options=HoloviewsTemplates.hv_slides,\n",
    "        scale_max=[True if metric == \"FinalTime\" else False],\n",
    "    )\n",
    "    hv.save(Plot, savepath / f\"{metric}_Filtered.html\")\n",
    "    hv.save(Plot, savepath / f\"{metric}_Filtered.png\", fmt=\"png\")\n",
    "# Make a nice layout with all the plots:\n",
    "plots = []\n",
    "\n",
    "for metric in metrics:\n",
    "    Plot = HoloviewsTemplates.jitter_boxplot(\n",
    "        Filtered,\n",
    "        metric,\n",
    "        \"label\",\n",
    "        magnet_data.metadata,\n",
    "        plot_options=HoloviewsTemplates.hv_slides,\n",
    "        scale_max=[True if metric in [\"FinalTime\", \"SignificantRatio\"] else False],\n",
    "    )\n",
    "    plots.append(Plot)\n",
    "\n",
    "layout = hv.Layout(plots).cols(2)\n",
    "hv.save(layout, savepath / \"All_metrics_Filtered.html\")\n",
    "\n",
    "# Also get the png\n",
    "hv.save(layout, savepath / \"All_metrics_Filtered.png\", fmt=\"png\")"
   ]
  },
  {
   "cell_type": "markdown",
   "metadata": {},
   "source": [
    "## Distribution"
   ]
  },
  {
   "cell_type": "code",
   "execution_count": null,
   "metadata": {},
   "outputs": [],
   "source": [
    "Hist = HoloviewsTemplates.histograms(\n",
    "    magnet_data.data,\n",
    "    \"TimeToFinish\",\n",
    "    \"label\",\n",
    "    bins=20,\n",
    "    xlabel=\"Time to bring the ball to the end (s)\",\n",
    "    plot_options=HoloviewsTemplates.hv_slides,\n",
    "    orientation=\"horizontal\",\n",
    ")\n",
    "Hist\n",
    "hv.save(Hist, savepath / \"TimeToFinish_histogram.png\")"
   ]
  },
  {
   "cell_type": "markdown",
   "metadata": {},
   "source": [
    "# Ball trajectories"
   ]
  },
  {
   "cell_type": "code",
   "execution_count": null,
   "metadata": {},
   "outputs": [],
   "source": [
    "# Make another Dataset using coordinates\n",
    "\n",
    "Trajectories = magnet_data.generate_dataset(metrics=\"coordinates\")"
   ]
  },
  {
   "cell_type": "code",
   "execution_count": null,
   "metadata": {},
   "outputs": [],
   "source": [
    "\n",
    "# Assuming Trajectories is a DataFrame with columns 'time', 'yfly_relative', and 'Magnet'\n",
    "\n",
    "# Define the start time (in seconds)\n",
    "start = 30 * 60  # 30 minutes\n",
    "\n",
    "# Calculate yfly_relative velocity\n",
    "Trajectories[\"yfly_relative_velocity\"] = (\n",
    "    Trajectories[\"yfly_relative\"].diff() / Trajectories[\"time\"].diff()\n",
    ")\n",
    "\n",
    "# Group by Magnet condition\n",
    "grouped = Trajectories.groupby(\"Magnet\")\n",
    "\n",
    "# Initialize lists to store results\n",
    "results = []\n",
    "\n",
    "# Iterate over each group\n",
    "for name, group in grouped:\n",
    "    # Filter the data for the specific time point and the two minutes after\n",
    "    time_point_data = group[group[\"time\"] == start]\n",
    "    two_minutes_data = group[\n",
    "        (group[\"time\"] >= start) & (group[\"time\"] <= start + 2 * 60)\n",
    "    ]\n",
    "\n",
    "    # Calculate the velocity at the specific time point\n",
    "    if not time_point_data.empty:\n",
    "        velocity_at_time_point = time_point_data[\"yfly_relative_velocity\"].values[0]\n",
    "    else:\n",
    "        velocity_at_time_point = None\n",
    "\n",
    "    # Calculate the average velocity over the two minutes after the start time\n",
    "    average_velocity_two_minutes = two_minutes_data[\"yfly_relative_velocity\"].mean()\n",
    "\n",
    "    # Store the results\n",
    "    results.append(\n",
    "        {\n",
    "            \"Magnet\": name,\n",
    "            \"Velocity at time point\": velocity_at_time_point,\n",
    "            \"Average velocity for two minutes\": average_velocity_two_minutes,\n",
    "        }\n",
    "    )\n",
    "\n",
    "# Convert results to DataFrame for better visualization\n",
    "results_df = pd.DataFrame(results)\n",
    "\n",
    "# Print the results\n",
    "print(results_df)"
   ]
  },
  {
   "cell_type": "code",
   "execution_count": null,
   "metadata": {},
   "outputs": [],
   "source": [
    "import holoviews as hv\n",
    "from holoviews import opts\n",
    "\n",
    "hv.extension(\"bokeh\")\n",
    "\n",
    "# Assuming Trajectories is a DataFrame with columns 'time', 'yfly_relative', and 'Magnet'\n",
    "\n",
    "# Define the start time (in seconds)\n",
    "start = 30 * 60  # 30 minutes\n",
    "\n",
    "# Define the window around the start point (e.g., 5 minutes before and after)\n",
    "window = 5 * 60  # 5 minutes\n",
    "\n",
    "# Calculate yfly_relative velocity\n",
    "Trajectories[\"yfly_relative_velocity\"] = (\n",
    "    Trajectories[\"yfly_relative\"].diff() / Trajectories[\"time\"].diff()\n",
    ")\n",
    "\n",
    "# Filter the data within the window around the start point\n",
    "window_data = Trajectories[\n",
    "    (Trajectories[\"time\"] >= start - window) & (Trajectories[\"time\"] <= start + window)\n",
    "]\n",
    "\n",
    "# Group by Magnet condition and time\n",
    "grouped = window_data.groupby([\"Magnet\", \"time\"])\n",
    "\n",
    "# Calculate the average velocity for each group\n",
    "average_velocity = grouped[\"yfly_relative_velocity\"].mean().reset_index()\n",
    "\n",
    "# Create Holoviews Curve elements for each Magnet condition\n",
    "curves = []\n",
    "for magnet in average_velocity[\"Magnet\"].unique():\n",
    "    magnet_data = average_velocity[average_velocity[\"Magnet\"] == magnet]\n",
    "    curve = hv.Curve(\n",
    "        (magnet_data[\"time\"], magnet_data[\"yfly_relative_velocity\"]),\n",
    "        \"Time (seconds)\",\n",
    "        \"Average Velocity\",\n",
    "    ).opts(\n",
    "        title=\"Average Velocity Across Flies Grouped by Magnet Positions\",\n",
    "        line_width=1,  # Thinner lines\n",
    "        #legend_label=f\"Magnet {magnet}\",\n",
    "    )\n",
    "    curves.append(curve)\n",
    "\n",
    "# Overlay the curves\n",
    "overlay = hv.Overlay(curves).opts(opts.Overlay(legend_position=\"right\", show_grid=True))\n",
    "\n",
    "# Add a vertical line for the start point\n",
    "vline = hv.VLine(start).opts(\n",
    "    color=\"red\", line_dash=\"dashed\", line_width=1, labelled=[\"Start Point\"]\n",
    ")\n",
    "\n",
    "# Combine the overlay and the vertical line\n",
    "final_plot = overlay * vline\n",
    "\n",
    "# Display the plot\n",
    "hv.output(final_plot)"
   ]
  },
  {
   "cell_type": "code",
   "execution_count": null,
   "metadata": {},
   "outputs": [],
   "source": [
    "import pandas as pd\n",
    "import holoviews as hv\n",
    "from holoviews import opts\n",
    "\n",
    "hv.extension(\"bokeh\")\n",
    "\n",
    "# Assuming Trajectories is a DataFrame with columns 'time', 'yfly_relative', and 'Magnet'\n",
    "\n",
    "# Define the start time (in seconds)\n",
    "start = 30 * 60  # 30 minutes\n",
    "\n",
    "# Define the window around the start point (1 minute before and after)\n",
    "window = 1 * 60  # 1 minute\n",
    "\n",
    "# Calculate yfly_relative velocity\n",
    "Trajectories[\"yfly_relative_velocity\"] = (\n",
    "    Trajectories[\"yfly_relative\"].diff() / Trajectories[\"time\"].diff()\n",
    ")\n",
    "\n",
    "# Calculate the speed (absolute value of velocity)\n",
    "Trajectories[\"yfly_relative_speed\"] = Trajectories[\"yfly_relative_velocity\"].abs()\n",
    "\n",
    "# Filter the data for 1 minute before the start point\n",
    "before_start_data = Trajectories[\n",
    "    (Trajectories[\"time\"] >= start - window) & (Trajectories[\"time\"] < start)\n",
    "]\n",
    "\n",
    "# Filter the data for 1 minute after the start point\n",
    "after_start_data = Trajectories[\n",
    "    (Trajectories[\"time\"] > start) & (Trajectories[\"time\"] <= start + window)\n",
    "]\n",
    "\n",
    "# Group by Magnet condition and calculate the average speed for each group\n",
    "average_speed_before = (\n",
    "    before_start_data.groupby(\"Magnet\")[\"yfly_relative_speed\"].mean().reset_index()\n",
    ")\n",
    "average_speed_after = (\n",
    "    after_start_data.groupby(\"Magnet\")[\"yfly_relative_speed\"].mean().reset_index()\n",
    ")\n",
    "\n",
    "# Rename the columns for clarity\n",
    "average_speed_before.columns = [\"Magnet\", \"Average Speed Before\"]\n",
    "average_speed_after.columns = [\"Magnet\", \"Average Speed After\"]\n",
    "\n",
    "# Merge the results into a single DataFrame\n",
    "average_speed = pd.merge(\n",
    "    average_speed_before, average_speed_after, on=\"Magnet\", how=\"outer\"\n",
    ")\n",
    "\n",
    "# Display the result\n",
    "print(average_speed)"
   ]
  },
  {
   "cell_type": "code",
   "execution_count": null,
   "metadata": {},
   "outputs": [],
   "source": [
    "import holoviews as hv\n",
    "from holoviews import opts\n",
    "\n",
    "hv.extension(\"bokeh\")\n",
    "\n",
    "# Assuming Trajectories is a DataFrame with columns 'time', 'yfly_relative', and 'Magnet'\n",
    "\n",
    "# Define the start time (in seconds)\n",
    "start = 30 * 60  # 30 minutes\n",
    "\n",
    "# Define the window around the start point (e.g., 5 minutes before and after)\n",
    "window = 5 * 60  # 5 minutes\n",
    "\n",
    "# Calculate yfly_relative velocity\n",
    "Trajectories[\"yfly_relative_velocity\"] = (\n",
    "    Trajectories[\"yfly_relative\"].diff() / Trajectories[\"time\"].diff()\n",
    ")\n",
    "\n",
    "# Calculate the speed (absolute value of velocity)\n",
    "Trajectories[\"yfly_relative_speed\"] = Trajectories[\"yfly_relative_velocity\"].abs()\n",
    "\n",
    "# Filter the data within the window around the start point\n",
    "window_data = Trajectories[\n",
    "    (Trajectories[\"time\"] >= start - window) & (Trajectories[\"time\"] <= start + window)\n",
    "]\n",
    "\n",
    "# Group by Magnet condition and time\n",
    "grouped = window_data.groupby([\"Magnet\", \"time\"])\n",
    "\n",
    "# Calculate the average speed for each group\n",
    "average_speed = grouped[\"yfly_relative_speed\"].mean().reset_index()\n",
    "\n",
    "# Create Holoviews Curve elements for each Magnet condition\n",
    "curves = []\n",
    "for magnet in average_speed[\"Magnet\"].unique():\n",
    "    magnet_data = average_speed[average_speed[\"Magnet\"] == magnet]\n",
    "    curve = hv.Curve(\n",
    "        (magnet_data[\"time\"], magnet_data[\"yfly_relative_speed\"]),\n",
    "        \"Time (seconds)\",\n",
    "        \"Average Speed\",\n",
    "    ).opts(\n",
    "        title=\"Average Speed Across Flies Grouped by Magnet Positions\",\n",
    "        line_width=1,  # Thinner lines\n",
    "        # legend_label=f\"Magnet {magnet}\",\n",
    "    ).relabel(f\"Magnet {magnet}\")\n",
    "    curves.append(curve)\n",
    "\n",
    "# Overlay the curves\n",
    "overlay = hv.Overlay(curves).opts(opts.Overlay(legend_position=\"right\", show_grid=True))\n",
    "\n",
    "# Add a vertical line for the start point\n",
    "vline = hv.VLine(start).opts(\n",
    "    color=\"red\", line_dash=\"dashed\", line_width=1, labelled=[\"Start Point\"]\n",
    ")\n",
    "\n",
    "# Combine the overlay and the vertical line\n",
    "final_plot = overlay * vline\n",
    "\n",
    "# Display the plot\n",
    "hv.output(final_plot)"
   ]
  },
  {
   "cell_type": "code",
   "execution_count": null,
   "metadata": {},
   "outputs": [],
   "source": [
    "# 1 pixel = 0.06 mm . Make a Velocity as mm/s plot\n",
    "\n",
    "# Assuming Trajectories is a DataFrame with columns 'time', 'yfly_relative', and 'Magnet'\n",
    "\n",
    "# Define the start time (in seconds)\n",
    "start = 30 * 60  # 30 minutes\n",
    "\n",
    "# Define the window around the start point (e.g., 5 minutes before and after)\n",
    "window = 5 * 60  # 5 minutes\n",
    "\n",
    "# Calculate yfly_relative velocity\n",
    "Trajectories[\"yfly_relative_velocity\"] = (\n",
    "    Trajectories[\"yfly_relative\"].diff() / Trajectories[\"time\"].diff()\n",
    ")\n",
    "\n",
    "# Calculate the speed (absolute value of velocity)\n",
    "\n",
    "Trajectories[\"yfly_relative_speed\"] = Trajectories[\"yfly_relative_velocity\"].abs()\n",
    "\n",
    "# Convert the speed to mm/s\n",
    "\n",
    "Trajectories[\"yfly_relative_speed_mm_s\"] = Trajectories[\"yfly_relative_speed\"] * 0.06\n",
    "\n",
    "# Filter the data within the window around the start point\n",
    "\n",
    "window_data = Trajectories[\n",
    "    (Trajectories[\"time\"] >= start - window) & (Trajectories[\"time\"] <= start + window)\n",
    "]\n",
    "\n",
    "# Group by Magnet condition and time\n",
    "\n",
    "grouped = window_data.groupby([\"Magnet\", \"time\"])\n",
    "\n",
    "# Calculate the average speed for each group\n",
    "\n",
    "average_speed = grouped[\"yfly_relative_speed_mm_s\"].mean().reset_index()\n",
    "\n",
    "# Create Holoviews Curve elements for each Magnet condition\n",
    "\n",
    "curves = []\n",
    "\n",
    "for magnet in average_speed[\"Magnet\"].unique():\n",
    "    magnet_data = average_speed[average_speed[\"Magnet\"] == magnet]\n",
    "    curve = (\n",
    "        hv.Curve(\n",
    "            (magnet_data[\"time\"], magnet_data[\"yfly_relative_speed_mm_s\"]),\n",
    "            \"Time (seconds)\",\n",
    "            \"Average Speed (mm/s)\",\n",
    "        )\n",
    "        .opts(\n",
    "            title=\"Average Speed Across Flies Grouped by Magnet Positions\",\n",
    "            line_width=1,  # Thinner lines\n",
    "        )\n",
    "        .relabel(f\"Magnet {magnet}\")\n",
    "    )\n",
    "    curves.append(curve)\n",
    "\n",
    "# Overlay the curves\n",
    "\n",
    "overlay = hv.Overlay(curves).opts(opts.Overlay(legend_position=\"right\", show_grid=True))\n",
    "\n",
    "# Add a vertical line for the start point\n",
    "\n",
    "vline = hv.VLine(start).opts(\n",
    "    color=\"red\", line_dash=\"dashed\", line_width=1, labelled=[\"Start Point\"]\n",
    ")\n",
    "\n",
    "# Combine the overlay and the vertical line\n",
    "\n",
    "final_plot = overlay * vline\n",
    "\n",
    "# Display the plot\n",
    "\n",
    "hv.output(final_plot)"
   ]
  },
  {
   "cell_type": "code",
   "execution_count": null,
   "metadata": {},
   "outputs": [],
   "source": [
    "# Define the start time (in seconds)\n",
    "start = 30 * 60  # 30 minutes\n",
    "\n",
    "# Define the window around the start point (e.g., 5 minutes before and after)\n",
    "window = 5 * 60  # 5 minutes\n",
    "\n",
    "# Calculate yfly_relative velocity\n",
    "Trajectories[\"yfly_relative_velocity\"] = (\n",
    "    Trajectories[\"yfly_relative\"].diff() / Trajectories[\"time\"].diff()\n",
    ")\n",
    "\n",
    "# Calculate the speed (absolute value of velocity)\n",
    "Trajectories[\"yfly_relative_speed\"] = Trajectories[\"yfly_relative_velocity\"].abs()\n",
    "\n",
    "# Convert the speed to mm/s\n",
    "Trajectories[\"yfly_relative_speed_mm_s\"] = Trajectories[\"yfly_relative_speed\"] * 0.06\n",
    "\n",
    "# Apply a rolling window average for smoothing (e.g., window size of 5)\n",
    "Trajectories[\"yfly_relative_speed_mm_s_smooth\"] = Trajectories.groupby(\"Magnet\")[\n",
    "    \"yfly_relative_speed_mm_s\"\n",
    "].transform(lambda x: x.rolling(window=150, min_periods=1).mean())\n",
    "\n",
    "# Filter the data within the window around the start point\n",
    "window_data = Trajectories[\n",
    "    (Trajectories[\"time\"] >= start - window) & (Trajectories[\"time\"] <= start + window)\n",
    "]\n",
    "\n",
    "# Group by Magnet condition and time\n",
    "grouped = window_data.groupby([\"Magnet\", \"time\"])\n",
    "\n",
    "# Calculate the average speed for each group\n",
    "average_speed = grouped[\"yfly_relative_speed_mm_s_smooth\"].mean().reset_index()\n",
    "\n",
    "# Create Holoviews Curve elements for each Magnet condition\n",
    "curves = []\n",
    "\n",
    "for magnet in average_speed[\"Magnet\"].unique():\n",
    "    magnet_data = average_speed[average_speed[\"Magnet\"] == magnet]\n",
    "    curve = (\n",
    "        hv.Curve(\n",
    "            (magnet_data[\"time\"], magnet_data[\"yfly_relative_speed_mm_s_smooth\"]),\n",
    "            \"Time (seconds)\",\n",
    "            \"Average Speed (mm/s)\",\n",
    "        )\n",
    "        .opts(\n",
    "            title=\"Average Speed Across Flies Grouped by Magnet Positions\",\n",
    "            line_width=3,  # Thinner lines\n",
    "            ylabel=\"Average Speed (mm/s)\",\n",
    "        )\n",
    "        .relabel(f\"Magnet {magnet}\")\n",
    "    )  # Use relabel to set the legend label\n",
    "    curves.append(curve)\n",
    "\n",
    "# Overlay the curves\n",
    "overlay = hv.Overlay(curves).opts(opts.Overlay(legend_position=\"right\", show_grid=True))\n",
    "\n",
    "# Add a vertical line for the start point\n",
    "vline = hv.VLine(start).opts(\n",
    "    color=\"red\", line_dash=\"dashed\", line_width=1, labelled=[\"Start Point\"]\n",
    ")\n",
    "\n",
    "# Combine the overlay and the vertical line\n",
    "final_plot = (overlay * vline).options(**HoloviewsTemplates.hv_slides[\"plot\"]).opts(invert_axes=False)\n",
    "\n",
    "# Display the plot\n",
    "hv.output(final_plot)"
   ]
  },
  {
   "cell_type": "code",
   "execution_count": null,
   "metadata": {},
   "outputs": [],
   "source": [
    "# Group by Magnet condition and count the number of unique flies\n",
    "sample_size = window_data.groupby(\"Magnet\")[\"fly\"].nunique().reset_index()\n",
    "sample_size.columns = [\"Magnet\", \"sample_size\"]\n",
    "\n",
    "print(sample_size)"
   ]
  },
  {
   "cell_type": "code",
   "execution_count": null,
   "metadata": {},
   "outputs": [],
   "source": [
    "# Assuming Trajectories is a DataFrame with columns 'time', 'yfly_relative', and 'Magnet'\n",
    "\n",
    "# Define the start time (in seconds)\n",
    "start = 60 * 60  # 60 minutes\n",
    "\n",
    "# Define the window around the start point (e.g., 5 minutes before and after)\n",
    "window = 10 * 60  # 5 minutes\n",
    "\n",
    "# Calculate yfly_relative velocity\n",
    "Trajectories[\"yfly_relative_velocity\"] = (\n",
    "    Trajectories[\"yfly_relative\"].diff() / Trajectories[\"time\"].diff()\n",
    ")\n",
    "\n",
    "# Calculate the speed (absolute value of velocity)\n",
    "Trajectories[\"yfly_relative_speed\"] = Trajectories[\"yfly_relative_velocity\"].abs()\n",
    "\n",
    "# Convert the speed to mm/s\n",
    "Trajectories[\"yfly_relative_speed_mm_s\"] = Trajectories[\"yfly_relative_speed\"] * 0.06\n",
    "\n",
    "# Apply a rolling window average for smoothing (e.g., window size of 5)\n",
    "Trajectories[\"yfly_relative_speed_mm_s_smooth\"] = Trajectories.groupby(\"Magnet\")[\n",
    "    \"yfly_relative_speed_mm_s\"\n",
    "].transform(lambda x: x.rolling(window=150, min_periods=1).mean())\n",
    "\n",
    "# Filter the data within the window around the start point\n",
    "window_data = Trajectories[\n",
    "    (Trajectories[\"time\"] >= start - window) & (Trajectories[\"time\"] <= start + window)\n",
    "]\n",
    "\n",
    "# Group by Magnet condition and time\n",
    "grouped = window_data.groupby([\"Magnet\", \"time\"])\n",
    "\n",
    "# Calculate the average speed and SEM for each group\n",
    "average_speed = (\n",
    "    grouped[\"yfly_relative_speed_mm_s_smooth\"].agg([\"mean\", \"sem\"]).reset_index()\n",
    ")\n",
    "\n",
    "# Compute sample size based on the number of unique flies per Magnet condition\n",
    "sample_size = window_data.groupby(\"Magnet\")[\"fly\"].nunique().reset_index()\n",
    "sample_size.columns = [\"Magnet\", \"sample_size\"]\n",
    "\n",
    "# Merge the sample size with the average_speed DataFrame\n",
    "average_speed = pd.merge(average_speed, sample_size, on=\"Magnet\")\n",
    "\n",
    "# Generate a label column with the Magnet and sample size information\n",
    "average_speed[\"label\"] = average_speed.apply(\n",
    "    lambda row: (\n",
    "        f\"Magnet block (n = {row['sample_size']})\"\n",
    "        if row[\"Magnet\"] == \"y\"\n",
    "        else f\"Control (n = {row['sample_size']})\"\n",
    "    ),\n",
    "    axis=1,\n",
    ")\n",
    "\n",
    "# Create Holoviews Curve and Area elements for each Magnet condition\n",
    "curves = []\n",
    "areas = []\n",
    "\n",
    "for label in average_speed[\"label\"].unique():\n",
    "    label_data = average_speed[average_speed[\"label\"] == label]\n",
    "    time = label_data[\"time\"]\n",
    "    mean_speed = label_data[\"mean\"]\n",
    "    sem_speed = label_data[\"sem\"]\n",
    "\n",
    "    # Calculate the upper and lower bounds of the confidence interval\n",
    "    lower_bound = mean_speed - sem_speed\n",
    "    upper_bound = mean_speed + sem_speed\n",
    "\n",
    "    # Create the curve for the mean speed\n",
    "    curve = (\n",
    "        hv.Curve(\n",
    "            (time, mean_speed),\n",
    "            \"Time (seconds)\",\n",
    "            \"Average Speed (mm/s)\",\n",
    "        )\n",
    "        .opts(\n",
    "            title=\"Average Speed Across Flies Grouped by Magnet Positions\",\n",
    "            line_width=3,\n",
    "            ylabel=\"Average Speed (mm/s)\",\n",
    "        )\n",
    "        .relabel(label)  # Use the label for the legend\n",
    "    )\n",
    "    curves.append(curve)\n",
    "\n",
    "    # Create the area for the confidence interval\n",
    "    area = hv.Area((time, lower_bound, upper_bound), vdims=[\"lower\", \"upper\"]).opts(\n",
    "        alpha=0.3,\n",
    "    )\n",
    "    areas.append(area)\n",
    "\n",
    "# Overlay the curves and confidence intervals\n",
    "overlay = hv.Overlay(areas + curves).opts(\n",
    "    opts.Overlay(legend_position=\"right\", show_grid=True)\n",
    ")\n",
    "\n",
    "# Add a vertical line for the start point\n",
    "vline = hv.VLine(start).opts(\n",
    "    color=\"red\", line_dash=\"dashed\", line_width=3, labelled=[\"Start Point\"]\n",
    ")\n",
    "\n",
    "# Combine the overlay and the vertical line\n",
    "final_plot = (\n",
    "    (overlay * vline)\n",
    "    .options(**HoloviewsTemplates.hv_slides[\"plot\"])\n",
    "    .opts(invert_axes=False, show_legend=True, width = 2000)\n",
    ")\n",
    "\n",
    "# Display the plot\n",
    "hv.output(final_plot)"
   ]
  },
  {
   "cell_type": "code",
   "execution_count": null,
   "metadata": {},
   "outputs": [],
   "source": [
    "# Save this plot\n",
    "\n",
    "savepath = Path(\"/mnt/upramdya_data/MD/MultiMazeRecorder/Plots/MagnetBlock/240718\")\n",
    "\n",
    "hv.save(final_plot, savepath / \"AverageSpeed.html\")\n",
    "hv.save(final_plot, savepath / \"AverageSpeed.png\", fmt=\"png\")"
   ]
  },
  {
   "cell_type": "code",
   "execution_count": null,
   "metadata": {},
   "outputs": [],
   "source": [
    "import pandas as pd\n",
    "import holoviews as hv\n",
    "from holoviews import opts\n",
    "import numpy as np\n",
    "\n",
    "hv.extension(\"bokeh\")\n",
    "\n",
    "# Assuming Trajectories is a DataFrame with columns 'time', 'yfly_relative', and 'Magnet'\n",
    "\n",
    "# Calculate yfly_relative velocity\n",
    "Trajectories[\"yfly_relative_velocity\"] = (\n",
    "    Trajectories[\"yfly_relative\"].diff() / Trajectories[\"time\"].diff()\n",
    ")\n",
    "\n",
    "# Calculate the speed (absolute value of velocity)\n",
    "Trajectories[\"yfly_relative_speed\"] = Trajectories[\"yfly_relative_velocity\"].abs()\n",
    "\n",
    "# Convert the speed to mm/s\n",
    "Trajectories[\"yfly_relative_speed_mm_s\"] = Trajectories[\"yfly_relative_speed\"] * 0.06\n",
    "\n",
    "# Apply a rolling window average for smoothing (e.g., window size of 5)\n",
    "Trajectories[\"yfly_relative_speed_mm_s_smooth\"] = Trajectories.groupby(\"Magnet\")[\n",
    "    \"yfly_relative_speed_mm_s\"\n",
    "].transform(lambda x: x.rolling(window=(500), min_periods=1).mean())\n",
    "\n",
    "# Group by Magnet condition and time\n",
    "grouped = Trajectories.groupby([\"Magnet\", \"time\"])\n",
    "\n",
    "# Calculate the average speed and SEM for each group\n",
    "average_speed = (\n",
    "    grouped[\"yfly_relative_speed_mm_s_smooth\"].agg([\"mean\", \"sem\"]).reset_index()\n",
    ")\n",
    "\n",
    "# Compute sample size based on the number of unique flies per Magnet condition\n",
    "sample_size = window_data.groupby(\"Magnet\")[\"fly\"].nunique().reset_index()\n",
    "sample_size.columns = [\"Magnet\", \"sample_size\"]\n",
    "\n",
    "# Merge the sample size with the average_speed DataFrame\n",
    "average_speed = pd.merge(average_speed, sample_size, on=\"Magnet\")\n",
    "\n",
    "# Generate a label column with the Magnet and sample size information\n",
    "average_speed[\"label\"] = average_speed.apply(\n",
    "    lambda row: (\n",
    "        f\"Magnet block (n = {row['sample_size']})\"\n",
    "        if row[\"Magnet\"] == \"y\"\n",
    "        else f\"Control (n = {row['sample_size']})\"\n",
    "    ),\n",
    "    axis=1,\n",
    ")\n",
    "\n",
    "# Create Holoviews Curve and Area elements for each Magnet condition\n",
    "curves = []\n",
    "areas = []\n",
    "\n",
    "for magnet in average_speed[\"label\"].unique():\n",
    "    magnet_data = average_speed[average_speed[\"label\"] == magnet]\n",
    "    time = magnet_data[\"time\"]\n",
    "    mean_speed = magnet_data[\"mean\"]\n",
    "    sem_speed = magnet_data[\"sem\"]\n",
    "\n",
    "    # Calculate the upper and lower bounds of the confidence interval\n",
    "    lower_bound = mean_speed - sem_speed\n",
    "    upper_bound = mean_speed + sem_speed\n",
    "\n",
    "    # Create the curve for the mean speed\n",
    "    curve = (\n",
    "        hv.Curve(\n",
    "            (time, mean_speed),\n",
    "            \"Time (seconds)\",\n",
    "            \"Average Speed (mm/s)\",\n",
    "        )\n",
    "        .opts(\n",
    "            title=\"Average Speed Across Flies Grouped by Magnet Positions\",\n",
    "            line_width=3,\n",
    "            ylabel=\"Average Speed (mm/s)\",\n",
    "        )\n",
    "        .relabel(f\"Magnet {magnet}\")\n",
    "    )\n",
    "    curves.append(curve)\n",
    "\n",
    "    # Create the area for the confidence interval\n",
    "    area = hv.Area((time, lower_bound, upper_bound), vdims=[\"lower\", \"upper\"]).opts(\n",
    "        alpha=0.3,\n",
    "    )\n",
    "    areas.append(area)"
   ]
  },
  {
   "cell_type": "code",
   "execution_count": null,
   "metadata": {},
   "outputs": [],
   "source": [
    "\n",
    "# Overlay the curves and confidence intervals\n",
    "overlay = hv.Overlay(curves).opts(\n",
    "    opts.Overlay(show_grid=True)\n",
    ").options(**HoloviewsTemplates.hv_slides[\"plot\"]).opts(invert_axes=False, show_legend=True)\n",
    "\n",
    "# Display the plot\n",
    "hv.output(overlay)"
   ]
  },
  {
   "cell_type": "code",
   "execution_count": null,
   "metadata": {},
   "outputs": [],
   "source": [
    "hv.save(overlay, savepath / \"AverageSpeed_Full.html\")\n",
    "hv.save(overlay, savepath / \"AverageSpeed_Full.png\", fmt=\"png\")"
   ]
  },
  {
   "cell_type": "code",
   "execution_count": null,
   "metadata": {},
   "outputs": [],
   "source": []
  }
 ],
 "metadata": {
  "kernelspec": {
   "display_name": "tracking_analysis",
   "language": "python",
   "name": "python3"
  },
  "language_info": {
   "codemirror_mode": {
    "name": "ipython",
    "version": 3
   },
   "file_extension": ".py",
   "mimetype": "text/x-python",
   "name": "python",
   "nbconvert_exporter": "python",
   "pygments_lexer": "ipython3",
   "version": "3.12.6"
  }
 },
 "nbformat": 4,
 "nbformat_minor": 2
}
