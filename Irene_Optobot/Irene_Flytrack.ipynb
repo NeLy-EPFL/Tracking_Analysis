{
 "cells": [
  {
   "cell_type": "markdown",
   "metadata": {},
   "source": [
    "This code is made to find videos for which OptobotAnalysis tracking exited with \"Arena out of FOV\" error and to track them using the Food objects project's Tracktor based algorithm "
   ]
  },
  {
   "cell_type": "markdown",
   "metadata": {},
   "source": [
    "# Required packages"
   ]
  },
  {
   "cell_type": "code",
   "execution_count": null,
   "metadata": {},
   "outputs": [],
   "source": [
    "import sys\n",
    "from pathlib import Path\n",
    "sys.path.insert(0, \"../Utilities\")\n",
    "\n",
    "sys.path.insert(0, \"../Food_Objects/Tracking\")\n",
    "\n",
    "import Utils\n",
    "\n",
    "import TrackFly_New"
   ]
  },
  {
   "cell_type": "markdown",
   "metadata": {},
   "source": [
    "# Find the missing videos\n",
    "\n",
    "Videos that have been successfully tracked have a file with the video name and \".pkl\" format. "
   ]
  },
  {
   "cell_type": "code",
   "execution_count": null,
   "metadata": {},
   "outputs": [],
   "source": [
    "## Define the input folder path\n",
    "\n",
    "input = Utils.get_labserver() / \"Experimental_data\" / \"Irene_Optobot\"\n",
    "\n",
    "## Get only the folders with \"days\" in the name\n",
    "folders = [x for x in input.iterdir() if x.is_dir() and \"day\" in x.name]\n",
    "\n",
    "## For each folder, look for folder, subfolders etc. recursively, containing .mp4 files and check if a .pkl extension exist\n",
    "\n",
    "unique_subfolders = set()\n",
    "\n",
    "for folder in folders:\n",
    "    # Check if the subfolder contains any .mp4 files\n",
    "    for subfolder in folder.rglob(\"*\"):\n",
    "        if \"DLC\" in subfolder.name or \"cache\" in subfolder.name:\n",
    "            continue\n",
    "        mp4_files = list(subfolder.glob(\"*.mp4\"))\n",
    "        pkl_files = list(subfolder.glob(\"*.pkl\"))\n",
    "        csv_files = list(subfolder.glob(\"*.csv\"))\n",
    "        if mp4_files and not pkl_files and not csv_files:\n",
    "            unique_subfolders.add(subfolder)\n",
    "\n",
    "# Exclude paths that contains 'w1118'\n",
    "unique_subfolders = [x for x in unique_subfolders if \"w1118\" not in x.parts]\n",
    "unique_subfolders = [x for x in unique_subfolders if \"Irene_20d_Tracking\" not in x.parts]\n",
    "\n",
    "for unique_subfolder in unique_subfolders:\n",
    "    print(unique_subfolder)"
   ]
  },
  {
   "cell_type": "code",
   "execution_count": null,
   "metadata": {},
   "outputs": [],
   "source": []
  },
  {
   "cell_type": "markdown",
   "metadata": {},
   "source": [
    "# Running tracking\n",
    "\n",
    "Using the custom tracktor code we have in Trackfly.py"
   ]
  },
  {
   "cell_type": "code",
   "execution_count": null,
   "metadata": {},
   "outputs": [],
   "source": [
    "for folder in unique_subfolders:\n",
    "    TrackFly_New.track_objects_in_folder(folder, trim=False, filter_keywords=['tracked'])"
   ]
  },
  {
   "cell_type": "code",
   "execution_count": null,
   "metadata": {},
   "outputs": [],
   "source": []
  }
 ],
 "metadata": {
  "kernelspec": {
   "display_name": "irene_optobot",
   "language": "python",
   "name": "python3"
  },
  "language_info": {
   "codemirror_mode": {
    "name": "ipython",
    "version": 3
   },
   "file_extension": ".py",
   "mimetype": "text/x-python",
   "name": "python",
   "nbconvert_exporter": "python",
   "pygments_lexer": "ipython3",
   "version": "3.10.9"
  }
 },
 "nbformat": 4,
 "nbformat_minor": 2
}
