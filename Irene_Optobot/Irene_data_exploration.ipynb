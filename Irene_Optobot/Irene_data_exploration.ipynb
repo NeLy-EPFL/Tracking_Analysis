{
 "cells": [
  {
   "cell_type": "markdown",
   "metadata": {},
   "source": [
    "# Summary"
   ]
  },
  {
   "cell_type": "markdown",
   "metadata": {},
   "source": [
    "Here we test the tools developped in Utilities/Optobot_utils.py. We then use these tools to analyse Irene's optobot experiments."
   ]
  },
  {
   "cell_type": "markdown",
   "metadata": {},
   "source": [
    "# Package imports"
   ]
  },
  {
   "cell_type": "code",
   "execution_count": 4,
   "metadata": {},
   "outputs": [],
   "source": [
    "import sys\n",
    "from pathlib import Path\n",
    "import numpy as np\n",
    "\n",
    "sys.path.append(\"/home/durrieu/Tracking_Analysis/Utilities\")\n",
    "#sys.path.append(\"/Users/ulric/git/Tracking_Analysis/Utilities\")\n",
    "import Utils\n",
    "import Optobot_utils"
   ]
  },
  {
   "cell_type": "markdown",
   "metadata": {},
   "source": [
    "# Accessing the experiments\n",
    "\n",
    "We first developp a function to find the experiments in the main directory. We then use a custom class to load the experiments, including metadata and DLC data."
   ]
  },
  {
   "cell_type": "code",
   "execution_count": 2,
   "metadata": {},
   "outputs": [
    {
     "data": {
      "text/plain": [
       "[PosixPath('/Users/ulric/Library/CloudStorage/GoogleDrive-matthias.durrieu@epfl.ch/Shared drives/DATA_Irene/OptobotExperiment/Irene_20d/SynjRQ-THGal4/f7_20d/221220/175714_s0a0_p6-0'),\n",
       " PosixPath('/Users/ulric/Library/CloudStorage/GoogleDrive-matthias.durrieu@epfl.ch/Shared drives/DATA_Irene/OptobotExperiment/Irene_20d/SynjRQ-THGal4/f6_20d/221220/175414_s0a0_p6-0'),\n",
       " PosixPath('/Users/ulric/Library/CloudStorage/GoogleDrive-matthias.durrieu@epfl.ch/Shared drives/DATA_Irene/OptobotExperiment/Irene_20d/SynjRQ-THGal4/f4_20d/221220/172209_s0a0_p6-0'),\n",
       " PosixPath('/Users/ulric/Library/CloudStorage/GoogleDrive-matthias.durrieu@epfl.ch/Shared drives/DATA_Irene/OptobotExperiment/Irene_20d/SynjRQ-THGal4/f5_20d/221220/174245_s0a0_p6-0'),\n",
       " PosixPath('/Users/ulric/Library/CloudStorage/GoogleDrive-matthias.durrieu@epfl.ch/Shared drives/DATA_Irene/OptobotExperiment/Irene_20d/SynjRQ-THGal4/f1_20d/221219/162248_s0a0_p6-0'),\n",
       " PosixPath('/Users/ulric/Library/CloudStorage/GoogleDrive-matthias.durrieu@epfl.ch/Shared drives/DATA_Irene/OptobotExperiment/Irene_20d/SynjRQ-THGal4/f2_20d/221219/163822_s0a0_p6-0'),\n",
       " PosixPath('/Users/ulric/Library/CloudStorage/GoogleDrive-matthias.durrieu@epfl.ch/Shared drives/DATA_Irene/OptobotExperiment/Irene_20d/SynjRQ-THGal4/f3_20d/221220/170429_s0a0_p6-0'),\n",
       " PosixPath('/Users/ulric/Library/CloudStorage/GoogleDrive-matthias.durrieu@epfl.ch/Shared drives/DATA_Irene/OptobotExperiment/Irene_20d/SynjRQ-THGal4/m3_20d/221220/171811_s0a0_p6-0'),\n",
       " PosixPath('/Users/ulric/Library/CloudStorage/GoogleDrive-matthias.durrieu@epfl.ch/Shared drives/DATA_Irene/OptobotExperiment/Irene_20d/SynjRQ-THGal4/m2_20d/221219/174047_s0a0_p6-0'),\n",
       " PosixPath('/Users/ulric/Library/CloudStorage/GoogleDrive-matthias.durrieu@epfl.ch/Shared drives/DATA_Irene/OptobotExperiment/Irene_20d/SynjRQ-THGal4/m1_20d/221219/173202_s0a0_p6-0'),\n",
       " PosixPath('/Users/ulric/Library/CloudStorage/GoogleDrive-matthias.durrieu@epfl.ch/Shared drives/DATA_Irene/OptobotExperiment/Irene_20d/SynjRQ-THGal4/m4_20d/221220/173846_s0a0_p6-0'),\n",
       " PosixPath('/Users/ulric/Library/CloudStorage/GoogleDrive-matthias.durrieu@epfl.ch/Shared drives/DATA_Irene/OptobotExperiment/Irene_20d/SynjRQ-Atg18/f6_20d/221220/175049_s0a0_p6-0'),\n",
       " PosixPath('/Users/ulric/Library/CloudStorage/GoogleDrive-matthias.durrieu@epfl.ch/Shared drives/DATA_Irene/OptobotExperiment/Irene_20d/SynjRQ-Atg18/f1_20d/221219/161800_s0a0_p6-0'),\n",
       " PosixPath('/Users/ulric/Library/CloudStorage/GoogleDrive-matthias.durrieu@epfl.ch/Shared drives/DATA_Irene/OptobotExperiment/Irene_20d/SynjRQ-Atg18/f2_20d/221219/163440_s0a0_p6-0'),\n",
       " PosixPath('/Users/ulric/Library/CloudStorage/GoogleDrive-matthias.durrieu@epfl.ch/Shared drives/DATA_Irene/OptobotExperiment/Irene_20d/SynjRQ-Atg18/f3_20d/221219/165111_s0a0_p6-0'),\n",
       " PosixPath('/Users/ulric/Library/CloudStorage/GoogleDrive-matthias.durrieu@epfl.ch/Shared drives/DATA_Irene/OptobotExperiment/Irene_20d/SynjRQ-Atg18/m2_20d/221220/165954_s0a0_p6-0'),\n",
       " PosixPath('/Users/ulric/Library/CloudStorage/GoogleDrive-matthias.durrieu@epfl.ch/Shared drives/DATA_Irene/OptobotExperiment/Irene_20d/SynjRQ-Atg18/m1_20d/221219/172830_s0a0_p6-0'),\n",
       " PosixPath('/Users/ulric/Library/CloudStorage/GoogleDrive-matthias.durrieu@epfl.ch/Shared drives/DATA_Irene/OptobotExperiment/Irene_20d/SynjRQ-Atg18/m4_20d/221220/173200_s0a0_p6-0'),\n",
       " PosixPath('/Users/ulric/Library/CloudStorage/GoogleDrive-matthias.durrieu@epfl.ch/Shared drives/DATA_Irene/OptobotExperiment/Irene_20d/IF-Atg18/f7_20d/221220/174710_s0a0_p6-0'),\n",
       " PosixPath('/Users/ulric/Library/CloudStorage/GoogleDrive-matthias.durrieu@epfl.ch/Shared drives/DATA_Irene/OptobotExperiment/Irene_20d/IF-Atg18/f6_20d/221220/172742_s0a0_p6-0'),\n",
       " PosixPath('/Users/ulric/Library/CloudStorage/GoogleDrive-matthias.durrieu@epfl.ch/Shared drives/DATA_Irene/OptobotExperiment/Irene_20d/IF-Atg18/f4_20d/221219/170426_s0a0_p6-0'),\n",
       " PosixPath('/Users/ulric/Library/CloudStorage/GoogleDrive-matthias.durrieu@epfl.ch/Shared drives/DATA_Irene/OptobotExperiment/Irene_20d/IF-Atg18/f5_20d/221219/172047_s0a0_p6-0'),\n",
       " PosixPath('/Users/ulric/Library/CloudStorage/GoogleDrive-matthias.durrieu@epfl.ch/Shared drives/DATA_Irene/OptobotExperiment/Irene_20d/IF-Atg18/f1_20d/221219/161344_s0a0_p6-0'),\n",
       " PosixPath('/Users/ulric/Library/CloudStorage/GoogleDrive-matthias.durrieu@epfl.ch/Shared drives/DATA_Irene/OptobotExperiment/Irene_20d/IF-Atg18/f2_20d/221219/163045_s0a0_p6-0'),\n",
       " PosixPath('/Users/ulric/Library/CloudStorage/GoogleDrive-matthias.durrieu@epfl.ch/Shared drives/DATA_Irene/OptobotExperiment/Irene_20d/IF-Atg18/f3_20d/221219/164644_s0a0_p6-0'),\n",
       " PosixPath('/Users/ulric/Library/CloudStorage/GoogleDrive-matthias.durrieu@epfl.ch/Shared drives/DATA_Irene/OptobotExperiment/Irene_20d/IF-Atg18/m3_20d/221220/170907_s0a0_p6-0'),\n",
       " PosixPath('/Users/ulric/Library/CloudStorage/GoogleDrive-matthias.durrieu@epfl.ch/Shared drives/DATA_Irene/OptobotExperiment/Irene_20d/IF-Atg18/m2_20d/221219/171202_s0a0_p6-0'),\n",
       " PosixPath('/Users/ulric/Library/CloudStorage/GoogleDrive-matthias.durrieu@epfl.ch/Shared drives/DATA_Irene/OptobotExperiment/Irene_20d/IF-Atg18/m4_20d/221220/165502_s0a0_p6-0'),\n",
       " PosixPath('/Users/ulric/Library/CloudStorage/GoogleDrive-matthias.durrieu@epfl.ch/Shared drives/DATA_Irene/OptobotExperiment/Irene_20d/IF-THGal4/f4_20d/221219/165946_s0a0_p6-0'),\n",
       " PosixPath('/Users/ulric/Library/CloudStorage/GoogleDrive-matthias.durrieu@epfl.ch/Shared drives/DATA_Irene/OptobotExperiment/Irene_20d/IF-THGal4/f5_20d/221219/171700_s0a0_p6-0'),\n",
       " PosixPath('/Users/ulric/Library/CloudStorage/GoogleDrive-matthias.durrieu@epfl.ch/Shared drives/DATA_Irene/OptobotExperiment/Irene_20d/IF-THGal4/f1_20d/221219/161021_s0a0_p6-0'),\n",
       " PosixPath('/Users/ulric/Library/CloudStorage/GoogleDrive-matthias.durrieu@epfl.ch/Shared drives/DATA_Irene/OptobotExperiment/Irene_20d/IF-THGal4/f2_20d/221219/162650_s0a0_p6-0'),\n",
       " PosixPath('/Users/ulric/Library/CloudStorage/GoogleDrive-matthias.durrieu@epfl.ch/Shared drives/DATA_Irene/OptobotExperiment/Irene_20d/IF-THGal4/f3_20d/221219/164230_s0a0_p6-0'),\n",
       " PosixPath('/Users/ulric/Library/CloudStorage/GoogleDrive-matthias.durrieu@epfl.ch/Shared drives/DATA_Irene/OptobotExperiment/Irene_20d/IF-THGal4/m3_20d/221219/174416_s0a0_p6-0'),\n",
       " PosixPath('/Users/ulric/Library/CloudStorage/GoogleDrive-matthias.durrieu@epfl.ch/Shared drives/DATA_Irene/OptobotExperiment/Irene_20d/IF-THGal4/m2_20d/221219/173657_s0a0_p6-0'),\n",
       " PosixPath('/Users/ulric/Library/CloudStorage/GoogleDrive-matthias.durrieu@epfl.ch/Shared drives/DATA_Irene/OptobotExperiment/Irene_20d/IF-THGal4/m1_20d/221219/165526_s0a0_p6-0'),\n",
       " PosixPath('/Users/ulric/Library/CloudStorage/GoogleDrive-matthias.durrieu@epfl.ch/Shared drives/DATA_Irene/OptobotExperiment/Irene_20d/IF-THGal4/m5_20d/221219/174939_s0a0_p6-0'),\n",
       " PosixPath('/Users/ulric/Library/CloudStorage/GoogleDrive-matthias.durrieu@epfl.ch/Shared drives/DATA_Irene/OptobotExperiment/Irene_20d/IF-THGal4/m4_20d/221219/174652_s0a0_p6-0'),\n",
       " PosixPath('/Users/ulric/Library/CloudStorage/GoogleDrive-matthias.durrieu@epfl.ch/Shared drives/DATA_Irene/OptobotExperiment/Irene_toAnalyzeandSEND/SynjRQ_f2_2d/221202/221131_s0a0_p6-0'),\n",
       " PosixPath('/Users/ulric/Library/CloudStorage/GoogleDrive-matthias.durrieu@epfl.ch/Shared drives/DATA_Irene/OptobotExperiment/Irene_toAnalyzeandSEND/SynjRQ-THGal4_m2_9d/221209/194948_s0a0_p6-0'),\n",
       " PosixPath('/Users/ulric/Library/CloudStorage/GoogleDrive-matthias.durrieu@epfl.ch/Shared drives/DATA_Irene/OptobotExperiment/Irene_toAnalyzeandSEND/SynjRQ-Atg18_1m_2d/221129/194658_s0a0_p0-0'),\n",
       " PosixPath('/Users/ulric/Library/CloudStorage/GoogleDrive-matthias.durrieu@epfl.ch/Shared drives/DATA_Irene/OptobotExperiment/Irene_toAnalyzeandSEND/IF_Atg18_m1_6d/221207/180840_s0a0_p6-0'),\n",
       " PosixPath('/Users/ulric/Library/CloudStorage/GoogleDrive-matthias.durrieu@epfl.ch/Shared drives/DATA_Irene/OptobotExperiment/Irene_toAnalyzeandSEND/SynjRQ-THGal4_f4_9d/221209/194707_s0a0_p6-0'),\n",
       " PosixPath('/Users/ulric/Library/CloudStorage/GoogleDrive-matthias.durrieu@epfl.ch/Shared drives/DATA_Irene/OptobotExperiment/Irene_toAnalyzeandSEND/IF-Atg18_1m_2d/221129/195835_s0a0_p0-0'),\n",
       " PosixPath('/Users/ulric/Library/CloudStorage/GoogleDrive-matthias.durrieu@epfl.ch/Shared drives/DATA_Irene/OptobotExperiment/Irene_toAnalyzeandSEND/SynjRQ_f3_2d/221202/221405_s0a0_p6-0'),\n",
       " PosixPath('/Users/ulric/Library/CloudStorage/GoogleDrive-matthias.durrieu@epfl.ch/Shared drives/DATA_Irene/OptobotExperiment/Irene_toAnalyzeandSEND/SynjRQ-THGal4_f1_9d/221209/193513_s0a0_p6-0'),\n",
       " PosixPath('/Users/ulric/Library/CloudStorage/GoogleDrive-matthias.durrieu@epfl.ch/Shared drives/DATA_Irene/OptobotExperiment/Irene_toAnalyzeandSEND/SynjRQ-THGal4_m3_9d/221209/195449_s0a0_p6-0'),\n",
       " PosixPath('/Users/ulric/Library/CloudStorage/GoogleDrive-matthias.durrieu@epfl.ch/Shared drives/DATA_Irene/OptobotExperiment/Irene_toAnalyzeandSEND/SynjRQ_m1_2d/221202/220017_s0a0_p6-0'),\n",
       " PosixPath('/Users/ulric/Library/CloudStorage/GoogleDrive-matthias.durrieu@epfl.ch/Shared drives/DATA_Irene/OptobotExperiment/Irene_toAnalyzeandSEND/IF-Atg18_f2_9d/221209/205307_s0a0_p6-0'),\n",
       " PosixPath('/Users/ulric/Library/CloudStorage/GoogleDrive-matthias.durrieu@epfl.ch/Shared drives/DATA_Irene/OptobotExperiment/Irene_toAnalyzeandSEND/IF-THGal4_f2_9d/221209/200613_s0a0_p6-0'),\n",
       " PosixPath('/Users/ulric/Library/CloudStorage/GoogleDrive-matthias.durrieu@epfl.ch/Shared drives/DATA_Irene/OptobotExperiment/Irene_toAnalyzeandSEND/SynjRQ-Atg18_f3_9d/221209/203547_s0a0_p6-0'),\n",
       " PosixPath('/Users/ulric/Library/CloudStorage/GoogleDrive-matthias.durrieu@epfl.ch/Shared drives/DATA_Irene/OptobotExperiment/Irene_toAnalyzeandSEND/IF-THGal4_f3_9d/221209/200839_s0a0_p6-0'),\n",
       " PosixPath('/Users/ulric/Library/CloudStorage/GoogleDrive-matthias.durrieu@epfl.ch/Shared drives/DATA_Irene/OptobotExperiment/Irene_toAnalyzeandSEND/SynjRQ-Atg18_f2_9d/221209/203254_s0a0_p6-0'),\n",
       " PosixPath('/Users/ulric/Library/CloudStorage/GoogleDrive-matthias.durrieu@epfl.ch/Shared drives/DATA_Irene/OptobotExperiment/Irene_toAnalyzeandSEND/IF-THGal4_m1_9d/221209/201509_s0a0_p6-0'),\n",
       " PosixPath('/Users/ulric/Library/CloudStorage/GoogleDrive-matthias.durrieu@epfl.ch/Shared drives/DATA_Irene/OptobotExperiment/Irene_toAnalyzeandSEND/IF-Atg18_m1_9d/221209/210500_s0a0_p6-0'),\n",
       " PosixPath('/Users/ulric/Library/CloudStorage/GoogleDrive-matthias.durrieu@epfl.ch/Shared drives/DATA_Irene/OptobotExperiment/Irene_toAnalyzeandSEND/IF-Atg18_f3_9d/221209/205546_s0a0_p6-0'),\n",
       " PosixPath('/Users/ulric/Library/CloudStorage/GoogleDrive-matthias.durrieu@epfl.ch/Shared drives/DATA_Irene/OptobotExperiment/Irene_toAnalyzeandSEND/SynjRQ-Atg18_f1_9d/221209/203001_s0a0_p6-0'),\n",
       " PosixPath('/Users/ulric/Library/CloudStorage/GoogleDrive-matthias.durrieu@epfl.ch/Shared drives/DATA_Irene/OptobotExperiment/Irene_toAnalyzeandSEND/SynjRQ-Atg18_m3_9d/221209/204441_s0a0_p6-0'),\n",
       " PosixPath('/Users/ulric/Library/CloudStorage/GoogleDrive-matthias.durrieu@epfl.ch/Shared drives/DATA_Irene/OptobotExperiment/Irene_toAnalyzeandSEND/IF-Atg18_f4_9d/221209/205815_s0a0_p6-0'),\n",
       " PosixPath('/Users/ulric/Library/CloudStorage/GoogleDrive-matthias.durrieu@epfl.ch/Shared drives/DATA_Irene/OptobotExperiment/Irene_toAnalyzeandSEND/IF-THGal4_m2_9d/221209/201738_s0a0_p6-0'),\n",
       " PosixPath('/Users/ulric/Library/CloudStorage/GoogleDrive-matthias.durrieu@epfl.ch/Shared drives/DATA_Irene/OptobotExperiment/Irene_toAnalyzeandSEND/SynjRQ_1m_2d/221129/195141_s0a0_p0-0'),\n",
       " PosixPath('/Users/ulric/Library/CloudStorage/GoogleDrive-matthias.durrieu@epfl.ch/Shared drives/DATA_Irene/OptobotExperiment/Irene_toAnalyzeandSEND/IF-THGal4_f4_9d/221209/201229_s0a0_p6-0'),\n",
       " PosixPath('/Users/ulric/Library/CloudStorage/GoogleDrive-matthias.durrieu@epfl.ch/Shared drives/DATA_Irene/OptobotExperiment/Irene_toAnalyzeandSEND/IF-Atg18_m2_9d/221209/210742_s0a0_p6-0'),\n",
       " PosixPath('/Users/ulric/Library/CloudStorage/GoogleDrive-matthias.durrieu@epfl.ch/Shared drives/DATA_Irene/OptobotExperiment/Irene_toAnalyzeandSEND/IF-Atg18_f1_9d/221209/205038_s0a0_p6-0'),\n",
       " PosixPath('/Users/ulric/Library/CloudStorage/GoogleDrive-matthias.durrieu@epfl.ch/Shared drives/DATA_Irene/OptobotExperiment/Irene_toAnalyzeandSEND/IF-THGal4_f1_9d/221209/200346_s0a0_p6-0'),\n",
       " PosixPath('/Users/ulric/Library/CloudStorage/GoogleDrive-matthias.durrieu@epfl.ch/Shared drives/DATA_Irene/OptobotExperiment/Irene_toAnalyzeandSEND/SynjRQ-Atg18_m2_9d/221209/204200_s0a0_p6-0'),\n",
       " PosixPath('/Users/ulric/Library/CloudStorage/GoogleDrive-matthias.durrieu@epfl.ch/Shared drives/DATA_Irene/OptobotExperiment/Irene_toAnalyzeandSEND/IF-Atg18_f5_9d/221209/210115_s0a0_p6-0'),\n",
       " PosixPath('/Users/ulric/Library/CloudStorage/GoogleDrive-matthias.durrieu@epfl.ch/Shared drives/DATA_Irene/OptobotExperiment/Irene_toAnalyzeandSEND/IF-THGal4_m3_9d/221209/202038_s0a0_p6-0'),\n",
       " PosixPath('/Users/ulric/Library/CloudStorage/GoogleDrive-matthias.durrieu@epfl.ch/Shared drives/DATA_Irene/OptobotExperiment/Irene_toAnalyzeandSEND/IF-TH_Gal4_1m_2d/221129/200126_s0a0_p0-0'),\n",
       " PosixPath('/Users/ulric/Library/CloudStorage/GoogleDrive-matthias.durrieu@epfl.ch/Shared drives/DATA_Irene/OptobotExperiment/Irene_toAnalyzeandSEND/SynjRQ-THGal4_m4_9d/221209/195722_s0a0_p6-0'),\n",
       " PosixPath('/Users/ulric/Library/CloudStorage/GoogleDrive-matthias.durrieu@epfl.ch/Shared drives/DATA_Irene/OptobotExperiment/Irene_toAnalyzeandSEND/IF_Atg18_f1_6d/221207/181602_s0a0_p6-0'),\n",
       " PosixPath('/Users/ulric/Library/CloudStorage/GoogleDrive-matthias.durrieu@epfl.ch/Shared drives/DATA_Irene/OptobotExperiment/Irene_toAnalyzeandSEND/SynjRQ-THGal4_f2_9d/221209/194036_s0a0_p6-0'),\n",
       " PosixPath('/Users/ulric/Library/CloudStorage/GoogleDrive-matthias.durrieu@epfl.ch/Shared drives/DATA_Irene/OptobotExperiment/Irene_toAnalyzeandSEND/SynjRQ_m2_2d/221202/220247_s0a0_p6-0'),\n",
       " PosixPath('/Users/ulric/Library/CloudStorage/GoogleDrive-matthias.durrieu@epfl.ch/Shared drives/DATA_Irene/OptobotExperiment/Irene_toAnalyzeandSEND/SynjRQ_f1_2d/221202/220857_s0a0_p6-0'),\n",
       " PosixPath('/Users/ulric/Library/CloudStorage/GoogleDrive-matthias.durrieu@epfl.ch/Shared drives/DATA_Irene/OptobotExperiment/Irene_toAnalyzeandSEND/synjRQ-2m/221121/185917_s0a0_p6-0'),\n",
       " PosixPath('/Users/ulric/Library/CloudStorage/GoogleDrive-matthias.durrieu@epfl.ch/Shared drives/DATA_Irene/OptobotExperiment/Irene_toAnalyzeandSEND/synjRQ-2m/221121/185709_s0a0_p6-0'),\n",
       " PosixPath('/Users/ulric/Library/CloudStorage/GoogleDrive-matthias.durrieu@epfl.ch/Shared drives/DATA_Irene/OptobotExperiment/Irene_toAnalyzeandSEND/SynjRQ-THGal4_f3_9d/221209/194319_s0a0_p6-0'),\n",
       " PosixPath('/Users/ulric/Library/CloudStorage/GoogleDrive-matthias.durrieu@epfl.ch/Shared drives/DATA_Irene/OptobotExperiment/Irene_toAnalyzeandSEND/SynjRQ-THGal4_m1_9d/221209/193753_s0a0_p6-0'),\n",
       " PosixPath('/Users/ulric/Library/CloudStorage/GoogleDrive-matthias.durrieu@epfl.ch/Shared drives/DATA_Irene/OptobotExperiment/Irene_toAnalyzeandSEND/SynjRQ_m3_2d/221202/220519_s0a0_p6-0'),\n",
       " PosixPath('/Users/ulric/Library/CloudStorage/GoogleDrive-matthias.durrieu@epfl.ch/Shared drives/DATA_Irene/OptobotExperiment/Irene_toAnalyzeandSEND/IF_Atg18_m2_6d/221207/181204_s0a0_p6-0'),\n",
       " PosixPath('/Users/ulric/Library/CloudStorage/GoogleDrive-matthias.durrieu@epfl.ch/Shared drives/DATA_Irene/OptobotExperiment/Irene_toAnalyzeandSEND/synjRQ-1m/221121/183756_s0a0_p6-0'),\n",
       " PosixPath('/Users/ulric/Library/CloudStorage/GoogleDrive-matthias.durrieu@epfl.ch/Shared drives/DATA_Irene/OptobotExperiment/Irene_toSEND_Experiment2/IF_THGal4_m4_6d/221207/183436_s0a0_p6-0'),\n",
       " PosixPath('/Users/ulric/Library/CloudStorage/GoogleDrive-matthias.durrieu@epfl.ch/Shared drives/DATA_Irene/OptobotExperiment/Irene_toSEND_Experiment2/SynjRQ-Atg18_m3_6d/221207/191758_s0a0_p6-0'),\n",
       " PosixPath('/Users/ulric/Library/CloudStorage/GoogleDrive-matthias.durrieu@epfl.ch/Shared drives/DATA_Irene/OptobotExperiment/Irene_toSEND_Experiment2/SynjRQ-Atg18_f1_6d/221207/192103_s0a0_p6-0'),\n",
       " PosixPath('/Users/ulric/Library/CloudStorage/GoogleDrive-matthias.durrieu@epfl.ch/Shared drives/DATA_Irene/OptobotExperiment/Irene_toSEND_Experiment2/SynjRQ-Atg18_f2_4d/221205/193424_s0a0_p6-0'),\n",
       " PosixPath('/Users/ulric/Library/CloudStorage/GoogleDrive-matthias.durrieu@epfl.ch/Shared drives/DATA_Irene/OptobotExperiment/Irene_toSEND_Experiment2/IF-Atg18_m5_4d/221205/201018_s0a0_p6-0'),\n",
       " PosixPath('/Users/ulric/Library/CloudStorage/GoogleDrive-matthias.durrieu@epfl.ch/Shared drives/DATA_Irene/OptobotExperiment/Irene_toSEND_Experiment2/SynjRQ-Atg18_1m_2d/221130/195954_s0a0_p0-0'),\n",
       " PosixPath('/Users/ulric/Library/CloudStorage/GoogleDrive-matthias.durrieu@epfl.ch/Shared drives/DATA_Irene/OptobotExperiment/Irene_toSEND_Experiment2/IF_THGal4_f5_4d/221205/181249_s0a0_p6-0'),\n",
       " PosixPath('/Users/ulric/Library/CloudStorage/GoogleDrive-matthias.durrieu@epfl.ch/Shared drives/DATA_Irene/OptobotExperiment/Irene_toSEND_Experiment2/IF-Atg18_4m_2d/221130/204151_s0a0_p0-0'),\n",
       " PosixPath('/Users/ulric/Library/CloudStorage/GoogleDrive-matthias.durrieu@epfl.ch/Shared drives/DATA_Irene/OptobotExperiment/Irene_toSEND_Experiment2/IF_THGal4_m3_4d/221205/175217_s0a0_p6-0'),\n",
       " PosixPath('/Users/ulric/Library/CloudStorage/GoogleDrive-matthias.durrieu@epfl.ch/Shared drives/DATA_Irene/OptobotExperiment/Irene_toSEND_Experiment2/w1118_f3_2d/221207/205648_s0a0_p6-0'),\n",
       " PosixPath('/Users/ulric/Library/CloudStorage/GoogleDrive-matthias.durrieu@epfl.ch/Shared drives/DATA_Irene/OptobotExperiment/Irene_toSEND_Experiment2/SynjRQ-Atg18_m4_4d/221205/192501_s0a0_p6-0'),\n",
       " PosixPath('/Users/ulric/Library/CloudStorage/GoogleDrive-matthias.durrieu@epfl.ch/Shared drives/DATA_Irene/OptobotExperiment/Irene_toSEND_Experiment2/IF-Atg18_f3_4d/221205/202600_s0a0_p6-0'),\n",
       " PosixPath('/Users/ulric/Library/CloudStorage/GoogleDrive-matthias.durrieu@epfl.ch/Shared drives/DATA_Irene/OptobotExperiment/Irene_toSEND_Experiment2/w1118_m1_2d/221207/204045_s0a0_p6-0'),\n",
       " PosixPath('/Users/ulric/Library/CloudStorage/GoogleDrive-matthias.durrieu@epfl.ch/Shared drives/DATA_Irene/OptobotExperiment/Irene_toSEND_Experiment2/IF-Atg18_m1_4d/221205/195659_s0a0_p6-0'),\n",
       " PosixPath('/Users/ulric/Library/CloudStorage/GoogleDrive-matthias.durrieu@epfl.ch/Shared drives/DATA_Irene/OptobotExperiment/Irene_toSEND_Experiment2/SynjRQ-Atg18_f5_6d/221207/193433_s0a0_p6-0'),\n",
       " PosixPath('/Users/ulric/Library/CloudStorage/GoogleDrive-matthias.durrieu@epfl.ch/Shared drives/DATA_Irene/OptobotExperiment/Irene_toSEND_Experiment2/IF_THGal4_f1_4d/221205/180059_s0a0_p6-0'),\n",
       " PosixPath('/Users/ulric/Library/CloudStorage/GoogleDrive-matthias.durrieu@epfl.ch/Shared drives/DATA_Irene/OptobotExperiment/Irene_toSEND_Experiment2/SynjRQ-Atg18_2m_2d/221130/200254_s0a0_p0-0'),\n",
       " PosixPath('/Users/ulric/Library/CloudStorage/GoogleDrive-matthias.durrieu@epfl.ch/Shared drives/DATA_Irene/OptobotExperiment/Irene_toSEND_Experiment2/IF_THGal4_f2_6d/221207/184341_s0a0_p6-0'),\n",
       " PosixPath('/Users/ulric/Library/CloudStorage/GoogleDrive-matthias.durrieu@epfl.ch/Shared drives/DATA_Irene/OptobotExperiment/Irene_toSEND_Experiment2/IF_THGal4_m1_6d/221207/182621_s0a0_p6-0'),\n",
       " PosixPath('/Users/ulric/Library/CloudStorage/GoogleDrive-matthias.durrieu@epfl.ch/Shared drives/DATA_Irene/OptobotExperiment/Irene_toSEND_Experiment2/IF-Atg18_1m_2d/221130/203638_s0a0_p0-0'),\n",
       " PosixPath('/Users/ulric/Library/CloudStorage/GoogleDrive-matthias.durrieu@epfl.ch/Shared drives/DATA_Irene/OptobotExperiment/Irene_toSEND_Experiment2/IF_THGal4_m2_4d/221205/174828_s0a0_p6-0'),\n",
       " PosixPath('/Users/ulric/Library/CloudStorage/GoogleDrive-matthias.durrieu@epfl.ch/Shared drives/DATA_Irene/OptobotExperiment/Irene_toSEND_Experiment2/w1118_f2_2d/221207/205419_s0a0_p6-0'),\n",
       " PosixPath('/Users/ulric/Library/CloudStorage/GoogleDrive-matthias.durrieu@epfl.ch/Shared drives/DATA_Irene/OptobotExperiment/Irene_toSEND_Experiment2/SynjRQ-Atg18_m5_4d/221205/192849_s0a0_p6-0'),\n",
       " PosixPath('/Users/ulric/Library/CloudStorage/GoogleDrive-matthias.durrieu@epfl.ch/Shared drives/DATA_Irene/OptobotExperiment/Irene_toSEND_Experiment2/IF-Atg18_f2_4d/221205/202218_s0a0_p6-0'),\n",
       " PosixPath('/Users/ulric/Library/CloudStorage/GoogleDrive-matthias.durrieu@epfl.ch/Shared drives/DATA_Irene/OptobotExperiment/Irene_toSEND_Experiment2/SynjRQ-Atg18_f4_6d/221207/193156_s0a0_p6-0'),\n",
       " PosixPath('/Users/ulric/Library/CloudStorage/GoogleDrive-matthias.durrieu@epfl.ch/Shared drives/DATA_Irene/OptobotExperiment/Irene_toSEND_Experiment2/IF-Atg18_2m_2d/221130/203947_s0a0_p0-0'),\n",
       " PosixPath('/Users/ulric/Library/CloudStorage/GoogleDrive-matthias.durrieu@epfl.ch/Shared drives/DATA_Irene/OptobotExperiment/Irene_toSEND_Experiment2/IF_THGal4_m5_6d/221207/183805_s0a0_p6-0'),\n",
       " PosixPath('/Users/ulric/Library/CloudStorage/GoogleDrive-matthias.durrieu@epfl.ch/Shared drives/DATA_Irene/OptobotExperiment/Irene_toSEND_Experiment2/SynjRQ-Atg18_m1_4d/221205/191627_s0a0_p6-0'),\n",
       " PosixPath('/Users/ulric/Library/CloudStorage/GoogleDrive-matthias.durrieu@epfl.ch/Shared drives/DATA_Irene/OptobotExperiment/Irene_toSEND_Experiment2/SynjRQ-Atg18_m2_6d/221207/191428_s0a0_p6-0'),\n",
       " PosixPath('/Users/ulric/Library/CloudStorage/GoogleDrive-matthias.durrieu@epfl.ch/Shared drives/DATA_Irene/OptobotExperiment/Irene_toSEND_Experiment2/SynjRQ-Atg18_f3_4d/221205/193650_s0a0_p6-0'),\n",
       " PosixPath('/Users/ulric/Library/CloudStorage/GoogleDrive-matthias.durrieu@epfl.ch/Shared drives/DATA_Irene/OptobotExperiment/Irene_toSEND_Experiment2/IF-Atg18_m4_4d/221205/200641_s0a0_p6-0'),\n",
       " PosixPath('/Users/ulric/Library/CloudStorage/GoogleDrive-matthias.durrieu@epfl.ch/Shared drives/DATA_Irene/OptobotExperiment/Irene_toSEND_Experiment2/IF_THGal4_f4_4d/221205/180932_s0a0_p6-0'),\n",
       " PosixPath('/Users/ulric/Library/CloudStorage/GoogleDrive-matthias.durrieu@epfl.ch/Shared drives/DATA_Irene/OptobotExperiment/Irene_toSEND_Experiment2/IF-Atg18_3m_2d/221130/204422_s0a0_p0-0'),\n",
       " PosixPath('/Users/ulric/Library/CloudStorage/GoogleDrive-matthias.durrieu@epfl.ch/Shared drives/DATA_Irene/OptobotExperiment/Irene_toSEND_Experiment2/SynjRQ-THGal4_m4_6d/221207/201016_s0a0_p6-0'),\n",
       " PosixPath('/Users/ulric/Library/CloudStorage/GoogleDrive-matthias.durrieu@epfl.ch/Shared drives/DATA_Irene/OptobotExperiment/Irene_toSEND_Experiment2/IF-Atg18_2f_2d/221130/205259_s0a0_p0-0'),\n",
       " PosixPath('/Users/ulric/Library/CloudStorage/GoogleDrive-matthias.durrieu@epfl.ch/Shared drives/DATA_Irene/OptobotExperiment/Irene_toSEND_Experiment2/SynjRQ-Atg18_4f_2d/221130/201808_s0a0_p0-0'),\n",
       " PosixPath('/Users/ulric/Library/CloudStorage/GoogleDrive-matthias.durrieu@epfl.ch/Shared drives/DATA_Irene/OptobotExperiment/Irene_toSEND_Experiment2/IF-Atg18_3f_2d/221130/205606_s0a0_p0-0'),\n",
       " PosixPath('/Users/ulric/Library/CloudStorage/GoogleDrive-matthias.durrieu@epfl.ch/Shared drives/DATA_Irene/OptobotExperiment/Irene_toSEND_Experiment2/SynjRQ_m2_4d/221205/183048_s0a0_p6-0'),\n",
       " PosixPath('/Users/ulric/Library/CloudStorage/GoogleDrive-matthias.durrieu@epfl.ch/Shared drives/DATA_Irene/OptobotExperiment/Irene_toSEND_Experiment2/IF-Atg18_1f_2d/221130/204701_s0a0_p0-0'),\n",
       " PosixPath('/Users/ulric/Library/CloudStorage/GoogleDrive-matthias.durrieu@epfl.ch/Shared drives/DATA_Irene/OptobotExperiment/Irene_toSEND_Experiment2/SynjRQ_f4_4d/221205/185335_s0a0_p6-0'),\n",
       " PosixPath('/Users/ulric/Library/CloudStorage/GoogleDrive-matthias.durrieu@epfl.ch/Shared drives/DATA_Irene/OptobotExperiment/Irene_toSEND_Experiment2/SynjRQ-THGal4_f2_6d/221207/202400_s0a0_p6-0'),\n",
       " PosixPath('/Users/ulric/Library/CloudStorage/GoogleDrive-matthias.durrieu@epfl.ch/Shared drives/DATA_Irene/OptobotExperiment/Irene_toSEND_Experiment2/SynjRQ-THGal4_m1_6d/221207/200148_s0a0_p6-0'),\n",
       " PosixPath('/Users/ulric/Library/CloudStorage/GoogleDrive-matthias.durrieu@epfl.ch/Shared drives/DATA_Irene/OptobotExperiment/Irene_toSEND_Experiment2/IF-Atg18_4f_2d/221130/205918_s0a0_p0-0'),\n",
       " PosixPath('/Users/ulric/Library/CloudStorage/GoogleDrive-matthias.durrieu@epfl.ch/Shared drives/DATA_Irene/OptobotExperiment/Irene_toSEND_Experiment2/SynjRQ_f5_4d/221205/185603_s0a0_p6-0'),\n",
       " PosixPath('/Users/ulric/Library/CloudStorage/GoogleDrive-matthias.durrieu@epfl.ch/Shared drives/DATA_Irene/OptobotExperiment/Irene_toSEND_Experiment2/SynjRQ-Atg18_3f_2d/221130/201207_s0a0_p0-0'),\n",
       " PosixPath('/Users/ulric/Library/CloudStorage/GoogleDrive-matthias.durrieu@epfl.ch/Shared drives/DATA_Irene/OptobotExperiment/Irene_toSEND_Experiment2/SynjRQ-Atg18_2f_2d/221130/200918_s0a0_p0-0'),\n",
       " PosixPath('/Users/ulric/Library/CloudStorage/GoogleDrive-matthias.durrieu@epfl.ch/Shared drives/DATA_Irene/OptobotExperiment/Irene_toSEND_Experiment2/SynjRQ-THGal4_f3_6d/221207/202647_s0a0_p6-0'),\n",
       " PosixPath('/Users/ulric/Library/CloudStorage/GoogleDrive-matthias.durrieu@epfl.ch/Shared drives/DATA_Irene/OptobotExperiment/Irene_toSEND_Experiment2/SynjRQ-THGal4_m5_6d/221207/201256_s0a0_p6-0'),\n",
       " PosixPath('/Users/ulric/Library/CloudStorage/GoogleDrive-matthias.durrieu@epfl.ch/Shared drives/DATA_Irene/OptobotExperiment/Irene_toSEND_Experiment2/SynjRQ_f1_4d/221205/184240_s0a0_p6-0'),\n",
       " PosixPath('/Users/ulric/Library/CloudStorage/GoogleDrive-matthias.durrieu@epfl.ch/Shared drives/DATA_Irene/OptobotExperiment/Irene_toSEND_Experiment2/SynjRQ-Atg18_1f_2d/221130/200536_s0a0_p0-0'),\n",
       " PosixPath('/Users/ulric/Library/CloudStorage/GoogleDrive-matthias.durrieu@epfl.ch/Shared drives/DATA_Irene/OptobotExperiment/Irene_toSEND_Experiment2/SynjRQ_m3_4d/221205/183322_s0a0_p6-0'),\n",
       " PosixPath('/Users/ulric/Library/CloudStorage/GoogleDrive-matthias.durrieu@epfl.ch/Shared drives/DATA_Irene/OptobotExperiment/Irene_toSEND_Experiment2/SynjRQ-THGal4_m2_6d/221207/200434_s0a0_p6-0'),\n",
       " PosixPath('/Users/ulric/Library/CloudStorage/GoogleDrive-matthias.durrieu@epfl.ch/Shared drives/DATA_Irene/OptobotExperiment/Irene_toSEND_Experiment2/SynjRQ_2m_2d/221130/192618_s0a0_p0-0'),\n",
       " PosixPath('/Users/ulric/Library/CloudStorage/GoogleDrive-matthias.durrieu@epfl.ch/Shared drives/DATA_Irene/OptobotExperiment/Irene_toSEND_Experiment2/SynjRQ_m4_4d/221205/183629_s0a0_p6-0'),\n",
       " PosixPath('/Users/ulric/Library/CloudStorage/GoogleDrive-matthias.durrieu@epfl.ch/Shared drives/DATA_Irene/OptobotExperiment/Irene_toSEND_Experiment2/SynjRQ_3m_2d/221130/193211_s0a0_p0-0'),\n",
       " PosixPath('/Users/ulric/Library/CloudStorage/GoogleDrive-matthias.durrieu@epfl.ch/Shared drives/DATA_Irene/OptobotExperiment/Irene_toSEND_Experiment2/IF_THGal4_1f_2d/221130/184218_s0a0_p0-0'),\n",
       " PosixPath('/Users/ulric/Library/CloudStorage/GoogleDrive-matthias.durrieu@epfl.ch/Shared drives/DATA_Irene/OptobotExperiment/Irene_toSEND_Experiment2/IF_THGal4_3f_2d/221130/185118_s0a0_p0-0'),\n",
       " PosixPath('/Users/ulric/Library/CloudStorage/GoogleDrive-matthias.durrieu@epfl.ch/Shared drives/DATA_Irene/OptobotExperiment/Irene_toSEND_Experiment2/SynjRQ_1m_2d/221130/192038_s0a0_p0-0'),\n",
       " PosixPath('/Users/ulric/Library/CloudStorage/GoogleDrive-matthias.durrieu@epfl.ch/Shared drives/DATA_Irene/OptobotExperiment/Irene_toSEND_Experiment2/SynjRQ_f2_4d/221205/184612_s0a0_p6-0'),\n",
       " PosixPath('/Users/ulric/Library/CloudStorage/GoogleDrive-matthias.durrieu@epfl.ch/Shared drives/DATA_Irene/OptobotExperiment/Irene_toSEND_Experiment2/SynjRQ-THGal4_f4_6d/221207/202934_s0a0_p6-0'),\n",
       " PosixPath('/Users/ulric/Library/CloudStorage/GoogleDrive-matthias.durrieu@epfl.ch/Shared drives/DATA_Irene/OptobotExperiment/Irene_toSEND_Experiment2/IF_THGal4_2f_2d/221130/184719_s0a0_p0-0'),\n",
       " PosixPath('/Users/ulric/Library/CloudStorage/GoogleDrive-matthias.durrieu@epfl.ch/Shared drives/DATA_Irene/OptobotExperiment/Irene_toSEND_Experiment2/SynjRQ_4m_2d/221130/193459_s0a0_p0-0'),\n",
       " PosixPath('/Users/ulric/Library/CloudStorage/GoogleDrive-matthias.durrieu@epfl.ch/Shared drives/DATA_Irene/OptobotExperiment/Irene_toSEND_Experiment2/SynjRQ_f3_4d/221205/185101_s0a0_p6-0'),\n",
       " PosixPath('/Users/ulric/Library/CloudStorage/GoogleDrive-matthias.durrieu@epfl.ch/Shared drives/DATA_Irene/OptobotExperiment/Irene_toSEND_Experiment2/SynjRQ_m1_4d/221205/182819_s0a0_p6-0'),\n",
       " PosixPath('/Users/ulric/Library/CloudStorage/GoogleDrive-matthias.durrieu@epfl.ch/Shared drives/DATA_Irene/OptobotExperiment/Irene_toSEND_Experiment2/SynjRQ-THGal4_f5_6d/221207/203204_s0a0_p6-0'),\n",
       " PosixPath('/Users/ulric/Library/CloudStorage/GoogleDrive-matthias.durrieu@epfl.ch/Shared drives/DATA_Irene/OptobotExperiment/Irene_toSEND_Experiment2/SynjRQ-THGal4_m3_6d/221207/200741_s0a0_p6-0'),\n",
       " PosixPath('/Users/ulric/Library/CloudStorage/GoogleDrive-matthias.durrieu@epfl.ch/Shared drives/DATA_Irene/OptobotExperiment/Irene_toSEND_Experiment2/SynjRQ_m5_4d/221205/183947_s0a0_p6-0'),\n",
       " PosixPath('/Users/ulric/Library/CloudStorage/GoogleDrive-matthias.durrieu@epfl.ch/Shared drives/DATA_Irene/OptobotExperiment/Irene_toSEND_Experiment2/SynjRQ-THGal4_f1_6d/221207/201847_s0a0_p6-0'),\n",
       " PosixPath('/Users/ulric/Library/CloudStorage/GoogleDrive-matthias.durrieu@epfl.ch/Shared drives/DATA_Irene/OptobotExperiment/Irene_toSEND_Experiment2/IF_THGal4_4f_2d/221130/185503_s0a0_p0-0'),\n",
       " PosixPath('/Users/ulric/Library/CloudStorage/GoogleDrive-matthias.durrieu@epfl.ch/Shared drives/DATA_Irene/OptobotExperiment/Irene_toSEND_Experiment2/IF_THGal4_m2_6d/221207/182902_s0a0_p6-0'),\n",
       " PosixPath('/Users/ulric/Library/CloudStorage/GoogleDrive-matthias.durrieu@epfl.ch/Shared drives/DATA_Irene/OptobotExperiment/Irene_toSEND_Experiment2/IF_THGal4_m1_4d/221205/174600_s0a0_p6-0'),\n",
       " PosixPath('/Users/ulric/Library/CloudStorage/GoogleDrive-matthias.durrieu@epfl.ch/Shared drives/DATA_Irene/OptobotExperiment/Irene_toSEND_Experiment2/IF-Atg18_f1_4d/221205/201954_s0a0_p6-0'),\n",
       " PosixPath('/Users/ulric/Library/CloudStorage/GoogleDrive-matthias.durrieu@epfl.ch/Shared drives/DATA_Irene/OptobotExperiment/Irene_toSEND_Experiment2/w1118_f1_2d/221207/205052_s0a0_p6-0'),\n",
       " PosixPath('/Users/ulric/Library/CloudStorage/GoogleDrive-matthias.durrieu@epfl.ch/Shared drives/DATA_Irene/OptobotExperiment/Irene_toSEND_Experiment2/IF-Atg18_m3_4d/221205/200206_s0a0_p6-0'),\n",
       " PosixPath('/Users/ulric/Library/CloudStorage/GoogleDrive-matthias.durrieu@epfl.ch/Shared drives/DATA_Irene/OptobotExperiment/Irene_toSEND_Experiment2/w1118_m3_2d/221207/204609_s0a0_p6-0'),\n",
       " PosixPath('/Users/ulric/Library/CloudStorage/GoogleDrive-matthias.durrieu@epfl.ch/Shared drives/DATA_Irene/OptobotExperiment/Irene_toSEND_Experiment2/SynjRQ-Atg18_f4_4d/221205/194022_s0a0_p6-0'),\n",
       " PosixPath('/Users/ulric/Library/CloudStorage/GoogleDrive-matthias.durrieu@epfl.ch/Shared drives/DATA_Irene/OptobotExperiment/Irene_toSEND_Experiment2/SynjRQ-Atg18_f7_6d/221207/194037_s0a0_p6-0'),\n",
       " PosixPath('/Users/ulric/Library/CloudStorage/GoogleDrive-matthias.durrieu@epfl.ch/Shared drives/DATA_Irene/OptobotExperiment/Irene_toSEND_Experiment2/IF_THGal4_f3_4d/221205/180654_s0a0_p6-0'),\n",
       " PosixPath('/Users/ulric/Library/CloudStorage/GoogleDrive-matthias.durrieu@epfl.ch/Shared drives/DATA_Irene/OptobotExperiment/Irene_toSEND_Experiment2/IF_THGal4_m5_4d/221205/175718_s0a0_p6-0'),\n",
       " PosixPath('/Users/ulric/Library/CloudStorage/GoogleDrive-matthias.durrieu@epfl.ch/Shared drives/DATA_Irene/OptobotExperiment/Irene_toSEND_Experiment2/IF-Atg18_f5_4d/221205/203100_s0a0_p6-0'),\n",
       " PosixPath('/Users/ulric/Library/CloudStorage/GoogleDrive-matthias.durrieu@epfl.ch/Shared drives/DATA_Irene/OptobotExperiment/Irene_toSEND_Experiment2/SynjRQ-Atg18_m2_4d/221205/191857_s0a0_p6-0'),\n",
       " PosixPath('/Users/ulric/Library/CloudStorage/GoogleDrive-matthias.durrieu@epfl.ch/Shared drives/DATA_Irene/OptobotExperiment/Irene_toSEND_Experiment2/SynjRQ_4f_2d/221130/194145_s0a0_p0-0'),\n",
       " PosixPath('/Users/ulric/Library/CloudStorage/GoogleDrive-matthias.durrieu@epfl.ch/Shared drives/DATA_Irene/OptobotExperiment/Irene_toSEND_Experiment2/SynjRQ-Atg18_m1_6d/221207/191148_s0a0_p6-0'),\n",
       " PosixPath('/Users/ulric/Library/CloudStorage/GoogleDrive-matthias.durrieu@epfl.ch/Shared drives/DATA_Irene/OptobotExperiment/Irene_toSEND_Experiment2/SynjRQ-Atg18_f3_6d/221207/192821_s0a0_p6-0'),\n",
       " PosixPath('/Users/ulric/Library/CloudStorage/GoogleDrive-matthias.durrieu@epfl.ch/Shared drives/DATA_Irene/OptobotExperiment/Irene_toSEND_Experiment2/IF_THGal4_f4_6d/221207/184936_s0a0_p6-0'),\n",
       " PosixPath('/Users/ulric/Library/CloudStorage/GoogleDrive-matthias.durrieu@epfl.ch/Shared drives/DATA_Irene/OptobotExperiment/Irene_toSEND_Experiment2/IF_THGal4_m4_4d/221205/175449_s0a0_p6-0'),\n",
       " PosixPath('/Users/ulric/Library/CloudStorage/GoogleDrive-matthias.durrieu@epfl.ch/Shared drives/DATA_Irene/OptobotExperiment/Irene_toSEND_Experiment2/IF-Atg18_f4_4d/221205/202836_s0a0_p6-0'),\n",
       " PosixPath('/Users/ulric/Library/CloudStorage/GoogleDrive-matthias.durrieu@epfl.ch/Shared drives/DATA_Irene/OptobotExperiment/Irene_toSEND_Experiment2/SynjRQ-Atg18_m3_4d/221205/192230_s0a0_p6-0'),\n",
       " PosixPath('/Users/ulric/Library/CloudStorage/GoogleDrive-matthias.durrieu@epfl.ch/Shared drives/DATA_Irene/OptobotExperiment/Irene_toSEND_Experiment2/IF_THGal4_3m_2d/221130/183601_s0a0_p0-0'),\n",
       " PosixPath('/Users/ulric/Library/CloudStorage/GoogleDrive-matthias.durrieu@epfl.ch/Shared drives/DATA_Irene/OptobotExperiment/Irene_toSEND_Experiment2/SynjRQ_1f_2d/221130/191751_s0a0_p0-0'),\n",
       " PosixPath('/Users/ulric/Library/CloudStorage/GoogleDrive-matthias.durrieu@epfl.ch/Shared drives/DATA_Irene/OptobotExperiment/Irene_toSEND_Experiment2/SynjRQ-Atg18_f2_6d/221207/192414_s0a0_p6-0'),\n",
       " PosixPath('/Users/ulric/Library/CloudStorage/GoogleDrive-matthias.durrieu@epfl.ch/Shared drives/DATA_Irene/OptobotExperiment/Irene_toSEND_Experiment2/IF_THGal4_2m_2d/221130/183249_s0a0_p0-0'),\n",
       " PosixPath('/Users/ulric/Library/CloudStorage/GoogleDrive-matthias.durrieu@epfl.ch/Shared drives/DATA_Irene/OptobotExperiment/Irene_toSEND_Experiment2/IF-Atg18_m6_4d/221205/201454_s0a0_p6-0'),\n",
       " PosixPath('/Users/ulric/Library/CloudStorage/GoogleDrive-matthias.durrieu@epfl.ch/Shared drives/DATA_Irene/OptobotExperiment/Irene_toSEND_Experiment2/SynjRQ-Atg18_f1_4d/221205/193153_s0a0_p6-0'),\n",
       " PosixPath('/Users/ulric/Library/CloudStorage/GoogleDrive-matthias.durrieu@epfl.ch/Shared drives/DATA_Irene/OptobotExperiment/Irene_toSEND_Experiment2/IF_THGal4_f5_6d/221207/185310_s0a0_p6-0'),\n",
       " PosixPath('/Users/ulric/Library/CloudStorage/GoogleDrive-matthias.durrieu@epfl.ch/Shared drives/DATA_Irene/OptobotExperiment/Irene_toSEND_Experiment2/IF_THGal4_m3_6d/221207/183207_s0a0_p6-0'),\n",
       " PosixPath('/Users/ulric/Library/CloudStorage/GoogleDrive-matthias.durrieu@epfl.ch/Shared drives/DATA_Irene/OptobotExperiment/Irene_toSEND_Experiment2/SynjRQ_2f_2d/221130/192331_s0a0_p0-0'),\n",
       " PosixPath('/Users/ulric/Library/CloudStorage/GoogleDrive-matthias.durrieu@epfl.ch/Shared drives/DATA_Irene/OptobotExperiment/Irene_toSEND_Experiment2/IF-Atg18_m2_4d/221205/195934_s0a0_p6-0'),\n",
       " PosixPath('/Users/ulric/Library/CloudStorage/GoogleDrive-matthias.durrieu@epfl.ch/Shared drives/DATA_Irene/OptobotExperiment/Irene_toSEND_Experiment2/w1118_m2_2d/221207/204320_s0a0_p6-0'),\n",
       " PosixPath('/Users/ulric/Library/CloudStorage/GoogleDrive-matthias.durrieu@epfl.ch/Shared drives/DATA_Irene/OptobotExperiment/Irene_toSEND_Experiment2/SynjRQ_3f_2d/221130/193830_s0a0_p0-0'),\n",
       " PosixPath('/Users/ulric/Library/CloudStorage/GoogleDrive-matthias.durrieu@epfl.ch/Shared drives/DATA_Irene/OptobotExperiment/Irene_toSEND_Experiment2/SynjRQ-Atg18_f5_4d/221205/194301_s0a0_p6-0'),\n",
       " PosixPath('/Users/ulric/Library/CloudStorage/GoogleDrive-matthias.durrieu@epfl.ch/Shared drives/DATA_Irene/OptobotExperiment/Irene_toSEND_Experiment2/IF_THGal4_1m_2d/221130/182845_s0a0_p0-0'),\n",
       " PosixPath('/Users/ulric/Library/CloudStorage/GoogleDrive-matthias.durrieu@epfl.ch/Shared drives/DATA_Irene/OptobotExperiment/Irene_toSEND_Experiment2/SynjRQ-Atg18_f6_6d/221207/193719_s0a0_p6-0'),\n",
       " PosixPath('/Users/ulric/Library/CloudStorage/GoogleDrive-matthias.durrieu@epfl.ch/Shared drives/DATA_Irene/OptobotExperiment/Irene_toSEND_Experiment2/IF_THGal4_f2_4d/221205/180327_s0a0_p6-0'),\n",
       " PosixPath('/Users/ulric/Library/CloudStorage/GoogleDrive-matthias.durrieu@epfl.ch/Shared drives/DATA_Irene/OptobotExperiment/Irene_toSEND_Experiment2/IF_THGal4_f1_6d/221207/184113_s0a0_p6-0')]"
      ]
     },
     "execution_count": 2,
     "metadata": {},
     "output_type": "execute_result"
    }
   ],
   "source": [
    "Exps = Optobot_utils.find_experiments(\n",
    "    Path(\"/Users/ulric/Library/CloudStorage/GoogleDrive-matthias.durrieu@epfl.ch/Shared drives/DATA_Irene/OptobotExperiment\")\n",
    ")\n",
    "\n",
    "Exps"
   ]
  },
  {
   "cell_type": "code",
   "execution_count": 3,
   "metadata": {},
   "outputs": [],
   "source": [
    "TestFly = Exps[0]"
   ]
  },
  {
   "cell_type": "code",
   "execution_count": 6,
   "metadata": {},
   "outputs": [
    {
     "ename": "KeyboardInterrupt",
     "evalue": "",
     "output_type": "error",
     "traceback": [
      "\u001b[0;31m---------------------------------------------------------------------------\u001b[0m",
      "\u001b[0;31mKeyboardInterrupt\u001b[0m                         Traceback (most recent call last)",
      "Input \u001b[0;32mIn [6]\u001b[0m, in \u001b[0;36m<cell line: 4>\u001b[0;34m()\u001b[0m\n\u001b[1;32m      1\u001b[0m \u001b[38;5;66;03m# Extract the npy file called experiment_dict.npy\u001b[39;00m\n\u001b[1;32m      2\u001b[0m \n\u001b[1;32m      3\u001b[0m \u001b[38;5;66;03m# Load the experiment_dict.npy file\u001b[39;00m\n\u001b[0;32m----> 4\u001b[0m exp_dict \u001b[38;5;241m=\u001b[39m \u001b[43mnp\u001b[49m\u001b[38;5;241;43m.\u001b[39;49m\u001b[43mload\u001b[49m\u001b[43m(\u001b[49m\u001b[43mTestFly\u001b[49m\u001b[43m \u001b[49m\u001b[38;5;241;43m/\u001b[39;49m\u001b[43m \u001b[49m\u001b[38;5;124;43m\"\u001b[39;49m\u001b[38;5;124;43mexperiment_dict.npy\u001b[39;49m\u001b[38;5;124;43m\"\u001b[39;49m\u001b[43m,\u001b[49m\u001b[43m \u001b[49m\u001b[43mallow_pickle\u001b[49m\u001b[38;5;241;43m=\u001b[39;49m\u001b[38;5;28;43;01mTrue\u001b[39;49;00m\u001b[43m)\u001b[49m\u001b[38;5;241m.\u001b[39mitem()\n",
      "File \u001b[0;32m/opt/miniconda3/envs/TrackingAnalysis/lib/python3.10/site-packages/numpy/lib/npyio.py:397\u001b[0m, in \u001b[0;36mload\u001b[0;34m(file, mmap_mode, allow_pickle, fix_imports, encoding)\u001b[0m\n\u001b[1;32m    395\u001b[0m _ZIP_SUFFIX \u001b[38;5;241m=\u001b[39m \u001b[38;5;124mb\u001b[39m\u001b[38;5;124m'\u001b[39m\u001b[38;5;124mPK\u001b[39m\u001b[38;5;130;01m\\x05\u001b[39;00m\u001b[38;5;130;01m\\x06\u001b[39;00m\u001b[38;5;124m'\u001b[39m \u001b[38;5;66;03m# empty zip files start with this\u001b[39;00m\n\u001b[1;32m    396\u001b[0m N \u001b[38;5;241m=\u001b[39m \u001b[38;5;28mlen\u001b[39m(\u001b[38;5;28mformat\u001b[39m\u001b[38;5;241m.\u001b[39mMAGIC_PREFIX)\n\u001b[0;32m--> 397\u001b[0m magic \u001b[38;5;241m=\u001b[39m \u001b[43mfid\u001b[49m\u001b[38;5;241;43m.\u001b[39;49m\u001b[43mread\u001b[49m\u001b[43m(\u001b[49m\u001b[43mN\u001b[49m\u001b[43m)\u001b[49m\n\u001b[1;32m    398\u001b[0m \u001b[38;5;66;03m# If the file size is less than N, we need to make sure not\u001b[39;00m\n\u001b[1;32m    399\u001b[0m \u001b[38;5;66;03m# to seek past the beginning of the file\u001b[39;00m\n\u001b[1;32m    400\u001b[0m fid\u001b[38;5;241m.\u001b[39mseek(\u001b[38;5;241m-\u001b[39m\u001b[38;5;28mmin\u001b[39m(N, \u001b[38;5;28mlen\u001b[39m(magic)), \u001b[38;5;241m1\u001b[39m)  \u001b[38;5;66;03m# back-up\u001b[39;00m\n",
      "\u001b[0;31mKeyboardInterrupt\u001b[0m: "
     ]
    }
   ],
   "source": [
    "# Extract the npy file called experiment_dict.npy\n",
    "\n",
    "# Load the experiment_dict.npy file\n",
    "exp_dict = np.load(TestFly / \"experiment_dict.npy\", allow_pickle=True).item()"
   ]
  },
  {
   "cell_type": "code",
   "execution_count": 8,
   "metadata": {},
   "outputs": [
    {
     "ename": "KeyboardInterrupt",
     "evalue": "",
     "output_type": "error",
     "traceback": [
      "\u001b[0;31m---------------------------------------------------------------------------\u001b[0m",
      "\u001b[0;31mKeyboardInterrupt\u001b[0m                         Traceback (most recent call last)",
      "Input \u001b[0;32mIn [8]\u001b[0m, in \u001b[0;36m<cell line: 2>\u001b[0;34m()\u001b[0m\n\u001b[1;32m      1\u001b[0m \u001b[38;5;66;03m# Load the genotype_dict.npy file\u001b[39;00m\n\u001b[0;32m----> 2\u001b[0m gen_dict \u001b[38;5;241m=\u001b[39m \u001b[43mnp\u001b[49m\u001b[38;5;241;43m.\u001b[39;49m\u001b[43mload\u001b[49m\u001b[43m(\u001b[49m\u001b[43mTestFly\u001b[49m\u001b[38;5;241;43m.\u001b[39;49m\u001b[43mparent\u001b[49m\u001b[38;5;241;43m.\u001b[39;49m\u001b[43mparent\u001b[49m\u001b[43m \u001b[49m\u001b[38;5;241;43m/\u001b[39;49m\u001b[43m \u001b[49m\u001b[38;5;124;43m\"\u001b[39;49m\u001b[38;5;124;43mgenotype_dict.npy\u001b[39;49m\u001b[38;5;124;43m\"\u001b[39;49m\u001b[43m,\u001b[49m\u001b[43m \u001b[49m\u001b[43mallow_pickle\u001b[49m\u001b[38;5;241;43m=\u001b[39;49m\u001b[38;5;28;43;01mTrue\u001b[39;49;00m\u001b[43m)\u001b[49m\u001b[38;5;241m.\u001b[39mitem()\n",
      "File \u001b[0;32m/opt/miniconda3/envs/TrackingAnalysis/lib/python3.10/site-packages/numpy/lib/npyio.py:397\u001b[0m, in \u001b[0;36mload\u001b[0;34m(file, mmap_mode, allow_pickle, fix_imports, encoding)\u001b[0m\n\u001b[1;32m    395\u001b[0m _ZIP_SUFFIX \u001b[38;5;241m=\u001b[39m \u001b[38;5;124mb\u001b[39m\u001b[38;5;124m'\u001b[39m\u001b[38;5;124mPK\u001b[39m\u001b[38;5;130;01m\\x05\u001b[39;00m\u001b[38;5;130;01m\\x06\u001b[39;00m\u001b[38;5;124m'\u001b[39m \u001b[38;5;66;03m# empty zip files start with this\u001b[39;00m\n\u001b[1;32m    396\u001b[0m N \u001b[38;5;241m=\u001b[39m \u001b[38;5;28mlen\u001b[39m(\u001b[38;5;28mformat\u001b[39m\u001b[38;5;241m.\u001b[39mMAGIC_PREFIX)\n\u001b[0;32m--> 397\u001b[0m magic \u001b[38;5;241m=\u001b[39m \u001b[43mfid\u001b[49m\u001b[38;5;241;43m.\u001b[39;49m\u001b[43mread\u001b[49m\u001b[43m(\u001b[49m\u001b[43mN\u001b[49m\u001b[43m)\u001b[49m\n\u001b[1;32m    398\u001b[0m \u001b[38;5;66;03m# If the file size is less than N, we need to make sure not\u001b[39;00m\n\u001b[1;32m    399\u001b[0m \u001b[38;5;66;03m# to seek past the beginning of the file\u001b[39;00m\n\u001b[1;32m    400\u001b[0m fid\u001b[38;5;241m.\u001b[39mseek(\u001b[38;5;241m-\u001b[39m\u001b[38;5;28mmin\u001b[39m(N, \u001b[38;5;28mlen\u001b[39m(magic)), \u001b[38;5;241m1\u001b[39m)  \u001b[38;5;66;03m# back-up\u001b[39;00m\n",
      "\u001b[0;31mKeyboardInterrupt\u001b[0m: "
     ]
    }
   ],
   "source": [
    "# Load the genotype_dict.npy file\n",
    "gen_dict = np.load(TestFly.parent.parent / \"genotype_dict.npy\", allow_pickle=True).item()"
   ]
  },
  {
   "cell_type": "markdown",
   "metadata": {},
   "source": [
    "Here small change to check what is committed"
   ]
  },
  {
   "cell_type": "code",
   "execution_count": null,
   "metadata": {},
   "outputs": [],
   "source": []
  }
 ],
 "metadata": {
  "kernelspec": {
   "display_name": "TrackingAnalysis",
   "language": "python",
   "name": "python3"
  },
  "language_info": {
   "codemirror_mode": {
    "name": "ipython",
    "version": 3
   },
   "file_extension": ".py",
   "mimetype": "text/x-python",
   "name": "python",
   "nbconvert_exporter": "python",
   "pygments_lexer": "ipython3",
   "version": "3.10.4"
  }
 },
 "nbformat": 4,
 "nbformat_minor": 2
}
