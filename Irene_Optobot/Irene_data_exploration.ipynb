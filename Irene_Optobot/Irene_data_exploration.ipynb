{
 "cells": [
  {
   "cell_type": "markdown",
   "metadata": {},
   "source": [
    "# Summary"
   ]
  },
  {
   "cell_type": "markdown",
   "metadata": {},
   "source": [
    "Here we test the tools developped in Utilities/Optobot_utils.py. We then use these tools to analyse Irene's optobot experiments."
   ]
  },
  {
   "cell_type": "markdown",
   "metadata": {},
   "source": [
    "# Package imports"
   ]
  },
  {
   "cell_type": "code",
   "execution_count": null,
   "metadata": {},
   "outputs": [],
   "source": [
    "import sys\n",
    "from pathlib import Path\n",
    "import numpy as np\n",
    "sys.path.insert(0, \"../Utilities\")\n",
    "\n",
    "# sys.path.append(\"/home/durrieu/Tracking_Analysis/Utilities\")\n",
    "# sys.path.append(\"/Users/ulric/git/Tracking_Analysis/Utilities\")\n",
    "import Utils\n",
    "import Optobot_utils"
   ]
  },
  {
   "cell_type": "markdown",
   "metadata": {},
   "source": [
    "# Accessing the experiments\n",
    "\n",
    "We first developp a function to find the experiments in the main directory. We then use a custom class to load the experiments, including metadata and DLC data."
   ]
  },
  {
   "cell_type": "code",
   "execution_count": null,
   "metadata": {},
   "outputs": [],
   "source": [
    "Exps = Optobot_utils.find_experiments(\n",
    "    Utils.get_labserver() / \"Experimental_data\" / \"Irene_Optobot\"\n",
    ")\n",
    "\n",
    "Exps"
   ]
  },
  {
   "cell_type": "code",
   "execution_count": null,
   "metadata": {},
   "outputs": [],
   "source": [
    "TestFly = Exps[0]"
   ]
  },
  {
   "cell_type": "code",
   "execution_count": null,
   "metadata": {},
   "outputs": [],
   "source": [
    "# Extract the npy file called experiment_dict.npy\n",
    "\n",
    "# Load the experiment_dict.npy file\n",
    "exp_dict = np.load(TestFly / \"experiment_dict.npy\", allow_pickle=True).item()\n",
    "\n",
    "exp_dict"
   ]
  },
  {
   "cell_type": "code",
   "execution_count": null,
   "metadata": {},
   "outputs": [],
   "source": [
    "exp_dict[\"fly0\"]"
   ]
  },
  {
   "cell_type": "code",
   "execution_count": null,
   "metadata": {},
   "outputs": [],
   "source": [
    "# Load the genotype_dict.npy file\n",
    "gen_dict = np.load(TestFly.parent.parent / \"genotype_dict.npy\", allow_pickle=True).item()\n",
    "\n",
    "gen_dict"
   ]
  },
  {
   "cell_type": "code",
   "execution_count": null,
   "metadata": {},
   "outputs": [],
   "source": [
    "# Find a .pkl file in the folder\n",
    "pkl_files = list(TestFly.glob(\"*.pkl\"))\n",
    "\n",
    "# Get the first .pkl file\n",
    "pkl_file = pkl_files[0]"
   ]
  },
  {
   "cell_type": "code",
   "execution_count": null,
   "metadata": {},
   "outputs": [],
   "source": [
    "# Load the .pkl file\n",
    "import pickle\n",
    "with open(pkl_file, \"rb\") as input:\n",
    "    data = pickle.load(input)"
   ]
  },
  {
   "cell_type": "code",
   "execution_count": null,
   "metadata": {},
   "outputs": [],
   "source": [
    "import pandas as pd\n",
    "\n",
    "# Read the .pkl file\n",
    "data = pd.read_pickle(pkl_file)\n",
    "\n",
    "data"
   ]
  },
  {
   "cell_type": "code",
   "execution_count": null,
   "metadata": {},
   "outputs": [],
   "source": [
    "# Solve multiindex\n",
    "\n",
    "data.columns = data.columns.droplevel(0)\n",
    "\n",
    "data.reset_index(inplace=True)\n",
    "\n",
    "data"
   ]
  },
  {
   "cell_type": "code",
   "execution_count": null,
   "metadata": {},
   "outputs": [],
   "source": [
    "print(data.columns)"
   ]
  },
  {
   "cell_type": "code",
   "execution_count": null,
   "metadata": {},
   "outputs": [],
   "source": [
    "# Drop the top level of the multi-index for 'pos_x' and 'pos_y'\n",
    "data.columns = (\n",
    "    data.columns.droplevel(0)\n",
    "    if \"pos_x\" in data.columns or \"pos_y\" in data.columns\n",
    "    else data.columns\n",
    ")\n",
    "\n",
    "data"
   ]
  },
  {
   "cell_type": "markdown",
   "metadata": {},
   "source": [
    "# Testing dataframe loading"
   ]
  },
  {
   "cell_type": "code",
   "execution_count": null,
   "metadata": {},
   "outputs": [],
   "source": [
    "TestFly = Optobot_utils.Fly(Exps[0])"
   ]
  },
  {
   "cell_type": "code",
   "execution_count": null,
   "metadata": {},
   "outputs": [],
   "source": [
    "TestFly.data"
   ]
  },
  {
   "cell_type": "code",
   "execution_count": null,
   "metadata": {},
   "outputs": [],
   "source": [
    "Exps[0].parent.parent"
   ]
  },
  {
   "cell_type": "code",
   "execution_count": null,
   "metadata": {},
   "outputs": [],
   "source": []
  }
 ],
 "metadata": {
  "kernelspec": {
   "display_name": "TrackingAnalysis",
   "language": "python",
   "name": "python3"
  },
  "language_info": {
   "codemirror_mode": {
    "name": "ipython",
    "version": 3
   },
   "file_extension": ".py",
   "mimetype": "text/x-python",
   "name": "python",
   "nbconvert_exporter": "python",
   "pygments_lexer": "ipython3",
   "version": "3.11.5"
  }
 },
 "nbformat": 4,
 "nbformat_minor": 2
}
