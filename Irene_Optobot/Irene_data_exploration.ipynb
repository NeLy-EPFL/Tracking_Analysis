{
 "cells": [
  {
   "cell_type": "markdown",
   "metadata": {},
   "source": [
    "# Introduction"
   ]
  },
  {
   "cell_type": "markdown",
   "metadata": {},
   "source": [
    "In this document, there's a dataset generation, plotting and analysis of Irene's optobot experiments"
   ]
  },
  {
   "cell_type": "markdown",
   "metadata": {},
   "source": [
    "# Package imports"
   ]
  },
  {
   "cell_type": "code",
   "execution_count": null,
   "metadata": {},
   "outputs": [],
   "source": [
    "import sys\n",
    "import importlib\n",
    "from pathlib import Path\n",
    "import numpy as np\n",
    "sys.path.insert(0, \"../Utilities\")\n",
    "\n",
    "from IPython.display import display, HTML\n",
    "from scipy import stats\n",
    "from pingouin import mwu\n",
    "\n",
    "import pickle\n",
    "import pandas as pd\n",
    "\n",
    "# sys.path.append(\"/home/durrieu/Tracking_Analysis/Utilities\")\n",
    "# sys.path.append(\"/Users/ulric/git/Tracking_Analysis/Utilities\")\n",
    "import Utils\n",
    "import Optobot_utils\n",
    "import Processing\n",
    "\n",
    "import holoviews as hv\n",
    "hv.extension('bokeh')\n",
    "\n",
    "# Import holoviews template\n",
    "import HoloviewsTemplates\n",
    "\n",
    "import warnings\n",
    "warnings.filterwarnings('ignore')\n",
    "\n",
    "%load_ext rpy2.ipython"
   ]
  },
  {
   "cell_type": "markdown",
   "metadata": {},
   "source": [
    "# Accessing the experiments\n",
    "\n",
    "We first developp a function to find the experiments in the main directory. We then use a custom class to load the experiments, including metadata and DLC data."
   ]
  },
  {
   "cell_type": "code",
   "execution_count": null,
   "metadata": {},
   "outputs": [],
   "source": [
    "Exps = Optobot_utils.find_experiments(\n",
    "    Utils.get_labserver() / \"Experimental_data\" / \"Irene_Optobot\"\n",
    ")\n",
    "\n",
    "# Uncomment below to display the list of detected experiments\n",
    "#Exps"
   ]
  },
  {
   "cell_type": "markdown",
   "metadata": {},
   "source": [
    "# Generating the dataset"
   ]
  },
  {
   "cell_type": "code",
   "execution_count": null,
   "metadata": {},
   "outputs": [],
   "source": [
    "data_list = []\n",
    "\n",
    "for i, exp in enumerate(Exps):\n",
    "    try:\n",
    "        # Load the data and add it to a list to be concatenated later\n",
    "        data = Optobot_utils.Fly(exp).data\n",
    "        # Add a unique identifier to each DataFrame\n",
    "        data[\"id\"] = i\n",
    "        data_list.append(data)\n",
    "    except Exception as e:\n",
    "        print(f\"error occurred while loading {exp}\")\n",
    "        print(str(e))\n",
    "\n",
    "# Concatenate the DataFrames\n",
    "dataset = pd.concat(data_list, ignore_index=True)\n",
    "\n",
    "dataset"
   ]
  },
  {
   "cell_type": "markdown",
   "metadata": {},
   "source": [
    "Using pandas methods we can check how many flies we get for each group and genotype"
   ]
  },
  {
   "cell_type": "code",
   "execution_count": null,
   "metadata": {},
   "outputs": [],
   "source": [
    "# Count the number of unique \"fly\" values grouped by \"age\"\n",
    "\n",
    "unique_fly_counts = dataset.groupby([\"age\", \"genotype\"])[\"id\"].nunique()\n",
    "\n",
    "unique_fly_counts"
   ]
  },
  {
   "cell_type": "markdown",
   "metadata": {},
   "source": [
    "> Here there are some genotypes that are the same with slightly different syntax. There's also w1118 flies that we won't include in this study.\n",
    "\n",
    "\n",
    "## Data cleaning"
   ]
  },
  {
   "cell_type": "code",
   "execution_count": null,
   "metadata": {},
   "outputs": [],
   "source": [
    "# Get all unique values of genotype\n",
    "\n",
    "genotypes = dataset[\"genotype\"].unique()\n",
    "\n",
    "genotypes\n",
    "# Replace the genotypes that are the same but spelled differently\n",
    "# IF_Atg18 and IF-Atg18 are the same genotype\n",
    "dataset[\"genotype\"] = dataset[\"genotype\"].replace(\"IF_Atg18\", \"IF-Atg18\")\n",
    "# IF-THGal4 and IF_THGal4 are the same genotype\n",
    "dataset[\"genotype\"] = dataset[\"genotype\"].replace(\"IF_THGal4\", \"IF-THGal4\")\n",
    "# SYnjRQ and SynjRQ are the same genotype\n",
    "dataset[\"genotype\"] = dataset[\"genotype\"].replace(\"SYnjRQ\", \"SynjRQ\")\n",
    "# SynjRQ and SynjRQ-THGal4 are the same genotype\n",
    "dataset[\"genotype\"] = dataset[\"genotype\"].replace(\"SynjRQ-THGal4\", \"SynjRQ\")\n",
    "\n",
    "# Get all unique values of genotype\n",
    "genotypes = dataset[\"genotype\"].unique()\n",
    "\n",
    "genotypes\n",
    "# Exclude the genotypes that are not of interest, in this case w1118\n",
    "dataset = dataset[dataset != \"w1118\"]\n",
    "# Count the number of unique \"fly\" values grouped by \"age\" and \"genotype\"\n",
    "\n",
    "unique_fly_counts = dataset.groupby([\"age\", \"genotype\"])[\"id\"].nunique()\n",
    "\n",
    "unique_fly_counts"
   ]
  },
  {
   "cell_type": "markdown",
   "metadata": {},
   "source": [
    "## Detecting moving bouts and resting\n",
    "\n",
    "Tracking data is noisy. Looking at it, it looks like anything where velocity is **below 0.1 mm/s correspond to a fly not moving**, which we'll use as threshold for resting. We also see that some small movements like grooming increase velocity a bit so we'll add a second threshold to detect **moving bouts when the fly's velocity rises above 0.5 mm/s**."
   ]
  },
  {
   "cell_type": "code",
   "execution_count": null,
   "metadata": {},
   "outputs": [],
   "source": [
    "# Create a new column called \"resting\" that is True if the velocity is less than 0.1 and False otherwise\n",
    "\n",
    "dataset[\"resting\"] = dataset[\"velocity\"] < 0.1\n",
    "\n",
    "dataset[\"moving\"] = dataset[\"velocity\"] > 0.5"
   ]
  },
  {
   "cell_type": "markdown",
   "metadata": {},
   "source": [
    "# Statistic analysis and plotting\n",
    "\n",
    "In the following part we'll plot data as jitter boxplots and run inferential statistics. Because the samples are fairly small and contain some outliers, parametric tests are not the best option. Two different strategies can be used:\n",
    "\n",
    "1) Including age and genotype together, we can run a **PERMANOVA**, which doesn't make any assumption other than observations being independent. This will show whether there is an effet of genotype, age, and whether there is an interaction between age and genotype. If something shows up as significant (p-value < 0.05), we'll run a **pairwise comparison for permutation tests** with a Bonferroni correction for multiple comparisons.\n",
    "\n",
    "2) Subsetting age, we can run a **Kruskal-Wallis** test for each age category and if the test returns a p-value < 0.05, run a posthoc pairwise comparison. In this case, we'll use a planned comparisons approach where we'll apply **Mann-whitney tests** with a Bonferroni correction for multiple comparisons. "
   ]
  },
  {
   "cell_type": "markdown",
   "metadata": {},
   "source": [
    "## Average velocity"
   ]
  },
  {
   "cell_type": "markdown",
   "metadata": {},
   "source": [
    "### Generating the dataset"
   ]
  },
  {
   "cell_type": "code",
   "execution_count": null,
   "metadata": {},
   "outputs": [],
   "source": [
    "# Subset the data to only get moving = True\n",
    "\n",
    "moving = dataset[dataset[\"moving\"]]\n",
    "\n",
    "# Get average velocity grouped by genotype and id\n",
    "Avg_vel = moving.groupby([\"genotype\",\"age\", \"id\"])[\"velocity\"].mean()\n",
    "\n",
    "# Flatten the multi-index to form a DataFrame\n",
    "Avg_vel = Avg_vel.reset_index()\n",
    "\n",
    "Avg_vel"
   ]
  },
  {
   "cell_type": "code",
   "execution_count": null,
   "metadata": {},
   "outputs": [],
   "source": [
    "# Ensure that Avg_vel[\"age\"].unique() returns an array\n",
    "unique_ages = np.array(Avg_vel[\"age\"].unique())\n",
    "\n",
    "unique_ages"
   ]
  },
  {
   "cell_type": "code",
   "execution_count": null,
   "metadata": {},
   "outputs": [],
   "source": [
    "# Find Sample size for each age\n",
    "sample_size = moving.groupby([\"age\", \"genotype\"])[\"id\"].nunique()\n",
    "\n",
    "sample_size"
   ]
  },
  {
   "cell_type": "markdown",
   "metadata": {},
   "source": [
    "### Plotting"
   ]
  },
  {
   "cell_type": "code",
   "execution_count": null,
   "metadata": {},
   "outputs": [],
   "source": [
    "importlib.reload(HoloviewsTemplates)"
   ]
  },
  {
   "cell_type": "code",
   "execution_count": null,
   "metadata": {},
   "outputs": [],
   "source": [
    "# Create a dictionary of plots for each age\n",
    "plots = {\n",
    "    age: (\n",
    "        hv.BoxWhisker(\n",
    "            Avg_vel[Avg_vel[\"age\"] == age], kdims=[\"genotype\"], vdims=\"velocity\"\n",
    "        ).opts(**HoloviewsTemplates.hv_irene[\"boxwhisker\"])\n",
    "        * hv.Scatter(\n",
    "            Avg_vel[Avg_vel[\"age\"] == age], kdims=[\"genotype\"], vdims=\"velocity\"\n",
    "        )\n",
    "        .opts(**HoloviewsTemplates.hv_irene[\"scatter\"])\n",
    "        .opts(color=\"genotype\")\n",
    "    )\n",
    "    .opts(\n",
    "        **HoloviewsTemplates.hv_irene[\"plot\"],\n",
    "        ylabel=\"Average velocity (mm/s)\",\n",
    "    )\n",
    "    .opts(title=f\"Age: {age}\")\n",
    "    for age in unique_ages\n",
    "}"
   ]
  },
  {
   "cell_type": "code",
   "execution_count": null,
   "metadata": {},
   "outputs": [],
   "source": [
    "\n",
    "# Use hv.Layout to display the plots side by side\n",
    "layout = hv.Layout(plots.values()).cols(2)\n",
    "\n",
    "layout"
   ]
  },
  {
   "cell_type": "code",
   "execution_count": null,
   "metadata": {},
   "outputs": [],
   "source": [
    "# Save this as a html file\n",
    "hv.save(layout, \"/mnt/labserver/DURRIEU_Matthias/Experimental_data/Irene_Optobot/Plots/avg_velocity_plots.html\")\n",
    "\n",
    "# Also save the plots as a png file\n",
    "#hv.save(layout, \"/mnt/labserver/DURRIEU_Matthias/Experimental_data/Irene_Optobot/Plots/avg_velocity_plots.png\")"
   ]
  },
  {
   "cell_type": "markdown",
   "metadata": {},
   "source": [
    "### Statistics\n",
    "\n",
    "#### Kruskal-Wallis and Mann-Whitney"
   ]
  },
  {
   "cell_type": "code",
   "execution_count": null,
   "metadata": {},
   "outputs": [],
   "source": [
    "# Define the pairs of groups to compare\n",
    "pairs = [\n",
    "    (\"IF-Atg18\", \"SynjRQ-Atg18\"),\n",
    "    (\"IF-Atg18\", \"SynjRQ\"),\n",
    "    (\"IF-THGal4\", \"SynjRQ-Atg18\"),\n",
    "    (\"IF-THGal4\", \"SynjRQ\"),\n",
    "    (\"SynjRQ-Atg18\", \"SynjRQ\"),\n",
    "]"
   ]
  },
  {
   "cell_type": "code",
   "execution_count": null,
   "metadata": {},
   "outputs": [],
   "source": [
    "# Create lists to store the results\n",
    "kruskal_results = []\n",
    "posthoc_results = []\n",
    "\n",
    "# Loop over each unique age\n",
    "for age in unique_ages:\n",
    "    # Subset the data for the current age\n",
    "    data_age = Avg_vel[Avg_vel[\"age\"] == age]\n",
    "\n",
    "    # Remove the w1118 genotype\n",
    "    data_age = data_age[data_age[\"genotype\"] != \"w1118\"]\n",
    "\n",
    "    # Create a list to store the velocity values for each genotype\n",
    "    velocity_values = []\n",
    "\n",
    "    # Loop over each unique genotype\n",
    "    for genotype in genotypes:\n",
    "        if genotype == \"w1118\":\n",
    "            continue\n",
    "        # Subset the data for the current genotype\n",
    "        data_genotype = data_age[data_age[\"genotype\"] == genotype]\n",
    "\n",
    "        # Append the velocity values to the list\n",
    "        velocity_values.append(data_genotype[\"velocity\"].values)\n",
    "\n",
    "    # Perform the Kruskal-Wallis test\n",
    "    H, pval = stats.kruskal(*velocity_values)\n",
    "\n",
    "    # Add the results to the Kruskal list\n",
    "    kruskal_results.append({\"Age\": age, \"H-statistic\": H, \"P-Value\": pval})\n",
    "\n",
    "    if pval < 0.05:\n",
    "        # Perform the pairwise Mann-Whitney U tests\n",
    "        for pair in pairs:\n",
    "            group1 = data_age[data_age[\"genotype\"] == pair[0]][\"velocity\"]\n",
    "            group2 = data_age[data_age[\"genotype\"] == pair[1]][\"velocity\"]\n",
    "            posthoc = mwu(group1, group2, alternative=\"two-sided\")\n",
    "\n",
    "            # Apply the Bonferroni correction\n",
    "            p_val = posthoc[\"p-val\"].item() * len(pairs)\n",
    "            p_val = 1 if p_val > 1 else p_val\n",
    "\n",
    "            # Add the post-hoc test results to the post-hoc list\n",
    "            posthoc_results.append(\n",
    "                {\n",
    "                    \"Age\": age,\n",
    "                    \"Pair\": f\"{pair[0]} vs {pair[1]}\",\n",
    "                    \"Post-hoc P-Value\": p_val,\n",
    "                }\n",
    "            )\n",
    "\n",
    "# Convert the lists to DataFrames\n",
    "kruskal_df = pd.DataFrame(kruskal_results)\n",
    "posthoc_df = pd.DataFrame(posthoc_results)\n",
    "\n",
    "\n",
    "# Define a function for elementwise styles\n",
    "def color_red_if_less_than_005(val):\n",
    "    color = \"red\" if val < 0.05 else \"black\"\n",
    "    return f\"color: {color}\"\n",
    "\n",
    "\n",
    "# Define a function for columnwise styles\n",
    "def highlight_p_values(data):\n",
    "    is_p_value = data.name == \"P-Value\" or data.name == \"Post-hoc P-Value\"\n",
    "    return [color_red_if_less_than_005(val) if is_p_value else \"\" for val in data]\n",
    "\n",
    "\n",
    "# Apply the styles\n",
    "kruskal_df = kruskal_df.style.apply(highlight_p_values)\n",
    "posthoc_df = posthoc_df.style.apply(highlight_p_values)\n",
    "\n",
    "display(kruskal_df)\n",
    "display(posthoc_df)"
   ]
  },
  {
   "cell_type": "code",
   "execution_count": null,
   "metadata": {},
   "outputs": [],
   "source": [
    "# convert genotype and age to factors\n",
    "Avg_vel[\"genotype\"] = pd.Categorical(Avg_vel[\"genotype\"])\n",
    "Avg_vel[\"age\"] = pd.Categorical(Avg_vel[\"age\"])"
   ]
  },
  {
   "cell_type": "code",
   "execution_count": null,
   "metadata": {},
   "outputs": [],
   "source": [
    "%%R -i Avg_vel\n",
    "# Define a local library path : \n",
    "local_lib <- \"/home/durrieu/R/x86_64-pc-linux-gnu-library/4.3\"\n",
    "\n",
    "\n",
    "# Import libraries\n",
    "\n",
    "library(ARTool, lib.loc=local_lib)\n",
    "\n",
    "# Read the CSV file into an R data.frame\n",
    "#Avg_vel <- read.csv(\"/mnt/labserver/DURRIEU_Matthias/Experimental_data/Irene_Optobot/Plots/Avg_vel.csv\")\n",
    "\n",
    "# Convert genotype and age to factors\n",
    "Avg_vel$genotype <- as.factor(Avg_vel$genotype)\n",
    "Avg_vel$age <- as.factor(Avg_vel$age)\n",
    "\n",
    "# Print Avg_vel\n",
    "\n",
    "#print(Avg_vel)\n",
    "\n",
    "# Load the required R packages\n",
    "library(ARTool)\n",
    "\n",
    "# Perform the Aligned Rank Transform\n",
    "art <- art(velocity ~ genotype * age, data = Avg_vel)\n",
    "\n",
    "# Perform a two-way ANOVA on the aligned ranks\n",
    "anova_results <- anova(art)\n",
    "\n",
    "# Print the results\n",
    "print(anova_results)"
   ]
  },
  {
   "cell_type": "markdown",
   "metadata": {},
   "source": [
    "### Summary\n",
    "\n",
    "Average velocity doesn't seem to be very different from one group to the other. Running a dataset-wide analysis shows no difference; Running a age by age analysis reveals a genotype effect at age 9, specifically between IF-Atg18 and SynjRQ-Atg18, as well as SynjRQ-Atg18 vs SynjRQ.\n",
    "\n"
   ]
  },
  {
   "cell_type": "markdown",
   "metadata": {},
   "source": [
    "## Max Velocity\n",
    "\n",
    "### Generating the dataset"
   ]
  },
  {
   "cell_type": "code",
   "execution_count": null,
   "metadata": {},
   "outputs": [],
   "source": [
    "# Get the max velocity grouped by genotype and id\n",
    "Max_vel = moving.groupby([\"genotype\", \"age\", \"id\"])[\"velocity\"].max()\n",
    "\n",
    "Max_vel = Max_vel.reset_index()"
   ]
  },
  {
   "cell_type": "markdown",
   "metadata": {},
   "source": [
    "### Plotting"
   ]
  },
  {
   "cell_type": "code",
   "execution_count": null,
   "metadata": {},
   "outputs": [],
   "source": [
    "# Create a dictionary of plots for each age\n",
    "plots = {\n",
    "    age: (\n",
    "        hv.BoxWhisker(\n",
    "            Max_vel[Max_vel[\"age\"] == age], kdims=[\"genotype\"], vdims=\"velocity\"\n",
    "        ).opts(**HoloviewsTemplates.hv_irene[\"boxwhisker\"])\n",
    "        * hv.Scatter(\n",
    "            Max_vel[Max_vel[\"age\"] == age], kdims=[\"genotype\"], vdims=\"velocity\"\n",
    "        )\n",
    "        .opts(**HoloviewsTemplates.hv_irene[\"scatter\"])\n",
    "        .opts(color=\"genotype\")\n",
    "    )\n",
    "    .opts(\n",
    "        **HoloviewsTemplates.hv_irene[\"plot\"],\n",
    "        ylabel=\"Maximum velocity (mm/s)\",\n",
    "    )\n",
    "    .opts(title=f\"Age: {age}\")\n",
    "    for age in unique_ages\n",
    "}"
   ]
  },
  {
   "cell_type": "code",
   "execution_count": null,
   "metadata": {},
   "outputs": [],
   "source": [
    "layout = hv.Layout(plots.values()).cols(2)\n",
    "\n",
    "layout"
   ]
  },
  {
   "cell_type": "code",
   "execution_count": null,
   "metadata": {},
   "outputs": [],
   "source": [
    "# Save this as a html file\n",
    "hv.save(\n",
    "    layout,\n",
    "    \"/mnt/labserver/DURRIEU_Matthias/Experimental_data/Irene_Optobot/Plots/max_velocity_plots.html\",\n",
    ")\n",
    "\n",
    "# Also save the plots as a png file\n",
    "# hv.save(\n",
    "#     layout,\n",
    "#     \"/mnt/labserver/DURRIEU_Matthias/Experimental_data/Irene_Optobot/Plots/max_velocity_plots.png\",\n",
    "# )"
   ]
  },
  {
   "cell_type": "markdown",
   "metadata": {},
   "source": [
    "### Statistics\n",
    "\n",
    "#### Kruskal-wallis and Mann-Whitney tests"
   ]
  },
  {
   "cell_type": "code",
   "execution_count": null,
   "metadata": {},
   "outputs": [],
   "source": [
    "# Create lists to store the results\n",
    "kruskal_results = []\n",
    "posthoc_results = []\n",
    "\n",
    "# Loop over each unique age\n",
    "for age in unique_ages:\n",
    "    # Subset the data for the current age\n",
    "    data_age = Max_vel[Max_vel[\"age\"] == age]\n",
    "\n",
    "    # Remove the w1118 genotype\n",
    "    data_age = data_age[data_age[\"genotype\"] != \"w1118\"]\n",
    "\n",
    "    # Create a list to store the velocity values for each genotype\n",
    "    velocity_values = []\n",
    "\n",
    "    # Loop over each unique genotype\n",
    "    for genotype in genotypes:\n",
    "        if genotype == \"w1118\":\n",
    "            continue\n",
    "        # Subset the data for the current genotype\n",
    "        data_genotype = data_age[data_age[\"genotype\"] == genotype]\n",
    "\n",
    "        # Append the velocity values to the list\n",
    "        velocity_values.append(data_genotype[\"velocity\"].values)\n",
    "\n",
    "    # Perform the Kruskal-Wallis test\n",
    "    H, pval = stats.kruskal(*velocity_values)\n",
    "\n",
    "    # Add the results to the Kruskal list\n",
    "    kruskal_results.append({\"Age\": age, \"H-statistic\": H, \"P-Value\": pval})\n",
    "\n",
    "    if pval < 0.05:\n",
    "        # Perform the pairwise Mann-Whitney U tests\n",
    "        for pair in pairs:\n",
    "            group1 = data_age[data_age[\"genotype\"] == pair[0]][\"velocity\"]\n",
    "            group2 = data_age[data_age[\"genotype\"] == pair[1]][\"velocity\"]\n",
    "            posthoc = mwu(group1, group2, alternative=\"two-sided\")\n",
    "\n",
    "            # Apply the Bonferroni correction\n",
    "            p_val = posthoc[\"p-val\"].item() * len(pairs)\n",
    "            p_val = 1 if p_val > 1 else p_val\n",
    "\n",
    "            # Add the post-hoc test results to the post-hoc list\n",
    "            posthoc_results.append(\n",
    "                {\n",
    "                    \"Age\": age,\n",
    "                    \"Pair\": f\"{pair[0]} vs {pair[1]}\",\n",
    "                    \"Post-hoc P-Value\": p_val,\n",
    "                }\n",
    "            )\n",
    "\n",
    "# Convert the lists to DataFrames\n",
    "kruskal_df = pd.DataFrame(kruskal_results)\n",
    "posthoc_df = pd.DataFrame(posthoc_results)\n",
    "\n",
    "\n",
    "# Define a function for elementwise styles\n",
    "def color_red_if_less_than_005(val):\n",
    "    color = \"red\" if val < 0.05 else \"black\"\n",
    "    return f\"color: {color}\"\n",
    "\n",
    "\n",
    "# Define a function for columnwise styles\n",
    "def highlight_p_values(data):\n",
    "    is_p_value = data.name == \"P-Value\" or data.name == \"Post-hoc P-Value\"\n",
    "    return [color_red_if_less_than_005(val) if is_p_value else \"\" for val in data]\n",
    "\n",
    "\n",
    "# Apply the styles\n",
    "kruskal_df = kruskal_df.style.apply(highlight_p_values)\n",
    "posthoc_df = posthoc_df.style.apply(highlight_p_values)\n",
    "\n",
    "display(kruskal_df)\n",
    "display(posthoc_df)"
   ]
  },
  {
   "cell_type": "markdown",
   "metadata": {},
   "source": [
    "#### PERMANOVA and Adonis pairwise comparisons"
   ]
  },
  {
   "cell_type": "code",
   "execution_count": null,
   "metadata": {},
   "outputs": [],
   "source": [
    "%%R -i Max_vel\n",
    "\n",
    "# Define a local library path : \n",
    "local_lib <- \"/home/durrieu/R/x86_64-pc-linux-gnu-library/4.3\"\n",
    "\n",
    "\n",
    "# Import libraries\n",
    "\n",
    "library(ARTool, lib.loc=local_lib)\n",
    "\n",
    "# Read the CSV file into an R data.frame\n",
    "#Avg_vel <- read.csv(\"/mnt/labserver/DURRIEU_Matthias/Experimental_data/Irene_Optobot/Plots/Avg_vel.csv\")\n",
    "\n",
    "# Convert genotype and age to factors\n",
    "Max_vel$genotype <- as.factor(Max_vel$genotype)\n",
    "Max_vel$age <- as.factor(Max_vel$age)\n",
    "\n",
    "# Print Avg_vel\n",
    "\n",
    "#print(Avg_vel)\n",
    "\n",
    "# Load the required R packages\n",
    "library(ARTool)\n",
    "\n",
    "# Perform the Aligned Rank Transform\n",
    "art <- art(velocity ~ genotype * age, data = Max_vel)\n",
    "\n",
    "# Perform a two-way ANOVA on the aligned ranks\n",
    "anova_results <- anova(art)\n",
    "\n",
    "# Print the results\n",
    "print(anova_results)"
   ]
  },
  {
   "cell_type": "code",
   "execution_count": null,
   "metadata": {},
   "outputs": [],
   "source": [
    "%%R -i Max_vel -o results\n",
    "\n",
    "\n",
    "# Define a local library path : \n",
    "local_lib <- \"/home/durrieu/R/x86_64-pc-linux-gnu-library/4.3\"\n",
    "\n",
    "\n",
    "# Import libraries\n",
    "\n",
    "library(pairwiseAdonis, lib.loc=local_lib)\n",
    "\n",
    "# Define the pairs\n",
    "pairs <- list(\n",
    "  c(\"IF-Atg18\", \"SynjRQ-Atg18\"),\n",
    "  c(\"IF-Atg18\", \"SynjRQ\"),\n",
    "  c(\"IF-THGal4\", \"SynjRQ-Atg18\"),\n",
    "  c(\"IF-THGal4\", \"SynjRQ\"),\n",
    "  c(\"SynjRQ-Atg18\", \"SynjRQ\")\n",
    ")\n",
    "\n",
    "# Calculate the number of comparisons\n",
    "num_comparisons <- length(pairs)\n",
    "\n",
    "# Initialize an empty data frame to store the results\n",
    "results <- data.frame()\n",
    "\n",
    "# For each pair, subset the data and perform the test\n",
    "for (pair in pairs) {\n",
    "  subset_data <- Max_vel[Max_vel$genotype %in% pair, ]\n",
    "  pairwise_results <- pairwise.adonis(as.matrix(subset_data$velocity), subset_data$genotype)\n",
    "  \n",
    "  # Apply the Bonferroni correction\n",
    "  pairwise_results$p.adjusted <- pairwise_results$p.value * num_comparisons\n",
    "  \n",
    "  # Add the pair and the results to the data frame\n",
    "  results <- rbind(results, data.frame(pair = paste(pair, collapse = \" vs \"), p.value = pairwise_results$p.value, p.adjusted = pairwise_results$p.adjusted))\n",
    "}"
   ]
  },
  {
   "cell_type": "code",
   "execution_count": null,
   "metadata": {},
   "outputs": [],
   "source": [
    "#Define a function for columnwise styles\n",
    "def highlight_p_values(data):\n",
    "    is_p_value = data.name == \"p.adjusted\"\n",
    "    return [color_red_if_less_than_005(val) if is_p_value else '' for val in data]\n",
    "\n",
    "# Apply the styles\n",
    "styled_results = results.style.apply(highlight_p_values)\n",
    "\n",
    "# Display the DataFrame\n",
    "styled_results"
   ]
  },
  {
   "cell_type": "markdown",
   "metadata": {},
   "source": [
    "### Summary:\n",
    "\n",
    "Maximum velocity doesn't seem to be changed by genotype. At age 9 I find one difference: IF-Atg18 vs SynjRQ-Atg18 with the first method and nothing with the second method."
   ]
  },
  {
   "cell_type": "markdown",
   "metadata": {},
   "source": [
    "## Time spent moving / Resting"
   ]
  },
  {
   "cell_type": "markdown",
   "metadata": {},
   "source": [
    "### Dataset generation"
   ]
  },
  {
   "cell_type": "code",
   "execution_count": null,
   "metadata": {},
   "outputs": [],
   "source": [
    "# Get the number of rows in the dataset where moving = True, grouped by genotype and id, and divide by the total number of rows grouped by genotype and id\n",
    "\n",
    "prop_moving = (\n",
    "    moving.groupby([\"genotype\", \"age\", \"id\"])\n",
    "    .size()\n",
    "    .div(dataset.groupby([\"genotype\", \"age\", \"id\"]).size())\n",
    "    .reset_index(name=\"prop_time_moving\")\n",
    ")\n",
    "prop_moving"
   ]
  },
  {
   "cell_type": "markdown",
   "metadata": {},
   "source": [
    "### Plotting"
   ]
  },
  {
   "cell_type": "code",
   "execution_count": null,
   "metadata": {},
   "outputs": [],
   "source": [
    "# Create a dictionary of plots for each age\n",
    "plots = {\n",
    "    age: (\n",
    "        hv.BoxWhisker(\n",
    "            prop_moving[prop_moving[\"age\"] == age],\n",
    "            kdims=[\"genotype\"],\n",
    "            vdims=\"prop_time_moving\",\n",
    "        ).opts(**HoloviewsTemplates.hv_irene[\"boxwhisker\"])\n",
    "        * hv.Scatter(\n",
    "            prop_moving[prop_moving[\"age\"] == age],\n",
    "            kdims=[\"genotype\"],\n",
    "            vdims=\"prop_time_moving\",\n",
    "        )\n",
    "        .opts(**HoloviewsTemplates.hv_irene[\"scatter\"])\n",
    "        .opts(color=\"genotype\")\n",
    "    )\n",
    "    .opts(\n",
    "        **HoloviewsTemplates.hv_irene[\"plot\"],\n",
    "        ylabel=\"Proportion of time spent moving\",\n",
    "    )\n",
    "    .opts(title=f\"Age: {age}\")\n",
    "    for age in unique_ages\n",
    "}"
   ]
  },
  {
   "cell_type": "code",
   "execution_count": null,
   "metadata": {},
   "outputs": [],
   "source": [
    "layout = hv.Layout(plots.values()).cols(2)\n",
    "\n",
    "layout"
   ]
  },
  {
   "cell_type": "code",
   "execution_count": null,
   "metadata": {},
   "outputs": [],
   "source": [
    "# Save this as a html file\n",
    "hv.save(\n",
    "    layout,\n",
    "    \"/mnt/labserver/DURRIEU_Matthias/Experimental_data/Irene_Optobot/Plots/proportion_moving_plots.html\",\n",
    ")\n",
    "\n",
    "# Also save the plots as a png file\n",
    "# hv.save(\n",
    "#     layout,\n",
    "#     \"/mnt/labserver/DURRIEU_Matthias/Experimental_data/Irene_Optobot/Plots/proportion_moving_plots.png\",\n",
    "# )"
   ]
  },
  {
   "cell_type": "markdown",
   "metadata": {},
   "source": [
    "### Statistics\n",
    "\n",
    "#### Kruskal-Wallis and Mann-Whitney"
   ]
  },
  {
   "cell_type": "code",
   "execution_count": null,
   "metadata": {},
   "outputs": [],
   "source": [
    "# Create lists to store the results\n",
    "kruskal_results = []\n",
    "posthoc_results = []\n",
    "\n",
    "# Loop over each unique age\n",
    "for age in unique_ages:\n",
    "    # Subset the data for the current age\n",
    "    data_age = prop_moving[prop_moving[\"age\"] == age]\n",
    "\n",
    "    # Remove the w1118 genotype\n",
    "    data_age = data_age[data_age[\"genotype\"] != \"w1118\"]\n",
    "\n",
    "    # Create a list to store the velocity values for each genotype\n",
    "    velocity_values = []\n",
    "\n",
    "    # Loop over each unique genotype\n",
    "    for genotype in genotypes:\n",
    "        if genotype == \"w1118\":\n",
    "            continue\n",
    "        # Subset the data for the current genotype\n",
    "        data_genotype = data_age[data_age[\"genotype\"] == genotype]\n",
    "\n",
    "        # Append the velocity values to the list\n",
    "        velocity_values.append(data_genotype[\"prop_time_moving\"].values)\n",
    "\n",
    "    # Perform the Kruskal-Wallis test\n",
    "    H, pval = stats.kruskal(*velocity_values)\n",
    "\n",
    "    # Add the results to the Kruskal list\n",
    "    kruskal_results.append({\"Age\": age, \"H-statistic\": H, \"P-Value\": pval})\n",
    "\n",
    "    if pval < 0.05:\n",
    "        # Perform the pairwise Mann-Whitney U tests\n",
    "        for pair in pairs:\n",
    "            group1 = data_age[data_age[\"genotype\"] == pair[0]][\"prop_time_moving\"]\n",
    "            group2 = data_age[data_age[\"genotype\"] == pair[1]][\"prop_time_moving\"]\n",
    "            posthoc = mwu(group1, group2, alternative=\"two-sided\")\n",
    "\n",
    "            # Apply the Bonferroni correction\n",
    "            p_val = posthoc[\"p-val\"].item() * len(pairs)\n",
    "            p_val = 1 if p_val > 1 else p_val\n",
    "\n",
    "            # Add the post-hoc test results to the post-hoc list\n",
    "            posthoc_results.append(\n",
    "                {\n",
    "                    \"Age\": age,\n",
    "                    \"Pair\": f\"{pair[0]} vs {pair[1]}\",\n",
    "                    \"Post-hoc P-Value\": p_val,\n",
    "                }\n",
    "            )\n",
    "\n",
    "# Convert the lists to DataFrames\n",
    "kruskal_df = pd.DataFrame(kruskal_results)\n",
    "posthoc_df = pd.DataFrame(posthoc_results)\n",
    "\n",
    "\n",
    "# Define a function for elementwise styles\n",
    "def color_red_if_less_than_005(val):\n",
    "    color = \"red\" if val < 0.05 else \"black\"\n",
    "    return f\"color: {color}\"\n",
    "\n",
    "\n",
    "# Define a function for columnwise styles\n",
    "def highlight_p_values(data):\n",
    "    is_p_value = data.name == \"P-Value\" or data.name == \"Post-hoc P-Value\"\n",
    "    return [color_red_if_less_than_005(val) if is_p_value else \"\" for val in data]\n",
    "\n",
    "\n",
    "# Apply the styles\n",
    "kruskal_df = kruskal_df.style.apply(highlight_p_values)\n",
    "posthoc_df = posthoc_df.style.apply(highlight_p_values)\n",
    "\n",
    "display(kruskal_df)\n",
    "display(posthoc_df)"
   ]
  },
  {
   "cell_type": "markdown",
   "metadata": {},
   "source": [
    "#### PERMANOVA and Adonis pairwise comparisons"
   ]
  },
  {
   "cell_type": "code",
   "execution_count": null,
   "metadata": {},
   "outputs": [],
   "source": [
    "%%R -i prop_moving\n",
    "\n",
    "# Define a local library path :\n",
    "local_lib <- \"/home/durrieu/R/x86_64-pc-linux-gnu-library/4.3\"\n",
    "\n",
    "# Import libraries\n",
    "library(ARTool, lib.loc=local_lib)\n",
    "\n",
    "# Convert genotype and age to factors\n",
    "prop_moving$genotype <- as.factor(prop_moving$genotype)\n",
    "prop_moving$age <- as.factor(prop_moving$age)\n",
    "\n",
    "# Perform the Aligned Rank Transform\n",
    "art <- art(prop_time_moving ~ genotype * age, data = prop_moving)\n",
    "\n",
    "# Perform a two-way ANOVA on the aligned ranks\n",
    "anova_results <- anova(art)\n",
    "\n",
    "# Print the results\n",
    "print(anova_results)"
   ]
  },
  {
   "cell_type": "markdown",
   "metadata": {},
   "source": [
    "### Summary\n",
    "\n",
    "Nothing to see here\n",
    "\n",
    "## Proportion of time resting\n",
    "\n",
    "### Dataset generation"
   ]
  },
  {
   "cell_type": "code",
   "execution_count": null,
   "metadata": {},
   "outputs": [],
   "source": [
    "# Do the same with resting\n",
    "resting = dataset[dataset[\"resting\"]]\n",
    "\n",
    "prop_resting = (\n",
    "    resting.groupby([\"genotype\", \"age\", \"id\"])\n",
    "    .size()\n",
    "    .div(dataset.groupby([\"genotype\", \"age\", \"id\"]).size())\n",
    "    .reset_index(name=\"prop_time_resting\")\n",
    ")\n",
    "prop_resting"
   ]
  },
  {
   "cell_type": "markdown",
   "metadata": {},
   "source": [
    "### Plotting"
   ]
  },
  {
   "cell_type": "code",
   "execution_count": null,
   "metadata": {},
   "outputs": [],
   "source": [
    "# Create a dictionary of plots for each age\n",
    "plots = {\n",
    "    age: (\n",
    "        hv.BoxWhisker(\n",
    "            prop_resting[prop_moving[\"age\"] == age],\n",
    "            kdims=[\"genotype\"],\n",
    "            vdims=\"prop_time_resting\",\n",
    "        ).opts(**HoloviewsTemplates.hv_irene[\"boxwhisker\"])\n",
    "        * hv.Scatter(\n",
    "            prop_resting[prop_moving[\"age\"] == age],\n",
    "            kdims=[\"genotype\"],\n",
    "            vdims=\"prop_time_resting\",\n",
    "        )\n",
    "        .opts(**HoloviewsTemplates.hv_irene[\"scatter\"])\n",
    "        .opts(color=\"genotype\")\n",
    "    )\n",
    "    .opts(\n",
    "        **HoloviewsTemplates.hv_irene[\"plot\"],\n",
    "        ylabel=\"Proportion of time spent resting\",\n",
    "    )\n",
    "    .opts(title=f\"Age: {age}\")\n",
    "    for age in unique_ages\n",
    "}\n",
    "\n",
    "layout = hv.Layout(plots.values()).cols(2)\n",
    "\n",
    "layout"
   ]
  },
  {
   "cell_type": "code",
   "execution_count": null,
   "metadata": {},
   "outputs": [],
   "source": [
    "\n",
    "# Save this as a html file\n",
    "hv.save(\n",
    "    layout,\n",
    "    \"/mnt/labserver/DURRIEU_Matthias/Experimental_data/Irene_Optobot/Plots/proportion_resting_plots.html\",\n",
    ")\n",
    "\n",
    "# Also save the plots as a png file\n",
    "\n",
    "# hv.save(\n",
    "#     layout,\n",
    "#     \"/mnt/labserver/DURRIEU_Matthias/Experimental_data/Irene_Optobot/Plots/proportion_resting_plots.png\",\n",
    "# )"
   ]
  },
  {
   "cell_type": "markdown",
   "metadata": {},
   "source": [
    "### Statistics\n",
    "\n",
    "#### Kruskal-Wallis test and Mann-whitney pairwise tests"
   ]
  },
  {
   "cell_type": "code",
   "execution_count": null,
   "metadata": {},
   "outputs": [],
   "source": [
    "# Create lists to store the results\n",
    "kruskal_results = []\n",
    "posthoc_results = []\n",
    "\n",
    "# Loop over each unique age\n",
    "for age in unique_ages:\n",
    "    # Subset the data for the current age\n",
    "    data_age = prop_resting[prop_resting[\"age\"] == age]\n",
    "\n",
    "    # Remove the w1118 genotype\n",
    "    data_age = data_age[data_age[\"genotype\"] != \"w1118\"]\n",
    "\n",
    "    # Create a list to store the velocity values for each genotype\n",
    "    velocity_values = []\n",
    "\n",
    "    # Loop over each unique genotype\n",
    "    for genotype in genotypes:\n",
    "        if genotype == \"w1118\":\n",
    "            continue\n",
    "        # Subset the data for the current genotype\n",
    "        data_genotype = data_age[data_age[\"genotype\"] == genotype]\n",
    "\n",
    "        # Append the velocity values to the list\n",
    "        velocity_values.append(data_genotype[\"prop_time_resting\"].values)\n",
    "\n",
    "    # Perform the Kruskal-Wallis test\n",
    "    H, pval = stats.kruskal(*velocity_values)\n",
    "\n",
    "    # Add the results to the Kruskal list\n",
    "    kruskal_results.append({\"Age\": age, \"H-statistic\": H, \"P-Value\": pval})\n",
    "\n",
    "    if pval < 0.05:\n",
    "        # Perform the pairwise Mann-Whitney U tests\n",
    "        for pair in pairs:\n",
    "            group1 = data_age[data_age[\"genotype\"] == pair[0]][\"prop_time_resting\"]\n",
    "            group2 = data_age[data_age[\"genotype\"] == pair[1]][\"prop_time_resting\"]\n",
    "            posthoc = mwu(group1, group2, alternative=\"two-sided\")\n",
    "\n",
    "            # Apply the Bonferroni correction\n",
    "            p_val = posthoc[\"p-val\"].item() * len(pairs)\n",
    "            p_val = 1 if p_val > 1 else p_val\n",
    "\n",
    "            # Add the post-hoc test results to the post-hoc list\n",
    "            posthoc_results.append(\n",
    "                {\n",
    "                    \"Age\": age,\n",
    "                    \"Pair\": f\"{pair[0]} vs {pair[1]}\",\n",
    "                    \"Post-hoc P-Value\": p_val,\n",
    "                }\n",
    "            )\n",
    "\n",
    "# Convert the lists to DataFrames\n",
    "kruskal_df = pd.DataFrame(kruskal_results)\n",
    "posthoc_df = pd.DataFrame(posthoc_results)\n",
    "\n",
    "\n",
    "# Define a function for elementwise styles\n",
    "def color_red_if_less_than_005(val):\n",
    "    color = \"red\" if val < 0.05 else \"black\"\n",
    "    return f\"color: {color}\"\n",
    "\n",
    "\n",
    "# Define a function for columnwise styles\n",
    "def highlight_p_values(data):\n",
    "    is_p_value = data.name == \"P-Value\" or data.name == \"Post-hoc P-Value\"\n",
    "    return [color_red_if_less_than_005(val) if is_p_value else \"\" for val in data]\n",
    "\n",
    "\n",
    "# Apply the styles\n",
    "kruskal_df = kruskal_df.style.apply(highlight_p_values)\n",
    "posthoc_df = posthoc_df.style.apply(highlight_p_values)\n",
    "\n",
    "display(kruskal_df)\n",
    "display(posthoc_df)"
   ]
  },
  {
   "cell_type": "markdown",
   "metadata": {},
   "source": [
    "#### PERMANOVA and Adonis pairwise comparisons"
   ]
  },
  {
   "cell_type": "code",
   "execution_count": null,
   "metadata": {},
   "outputs": [],
   "source": [
    "%%R -i prop_resting\n",
    "\n",
    "# Define a local library path :\n",
    "local_lib <- \"/home/durrieu/R/x86_64-pc-linux-gnu-library/4.3\"\n",
    "\n",
    "# Import libraries\n",
    "library(ARTool, lib.loc=local_lib)\n",
    "\n",
    "# Convert genotype and age to factors\n",
    "prop_resting$genotype <- as.factor(prop_resting$genotype)\n",
    "prop_resting$age <- as.factor(prop_resting$age)\n",
    "\n",
    "# Perform the Aligned Rank Transform\n",
    "art <- art(prop_time_resting ~ genotype * age, data = prop_resting)\n",
    "\n",
    "# Perform a two-way ANOVA on the aligned ranks\n",
    "anova_results <- anova(art)\n",
    "\n",
    "# Print the results\n",
    "print(anova_results)"
   ]
  },
  {
   "cell_type": "markdown",
   "metadata": {},
   "source": [
    "### Summary\n",
    "\n",
    "Nothing to see here either\n",
    "\n",
    "## Distance travelled\n",
    "\n",
    "### Dataset generation"
   ]
  },
  {
   "cell_type": "code",
   "execution_count": null,
   "metadata": {},
   "outputs": [],
   "source": [
    "# Get the max distance traveled grouped by genotype, age and id\n",
    "Max_dist = moving.groupby([\"genotype\", \"age\", \"id\"])[\"cumulated_distance\"].max().reset_index()"
   ]
  },
  {
   "cell_type": "code",
   "execution_count": null,
   "metadata": {},
   "outputs": [],
   "source": [
    "Max_dist"
   ]
  },
  {
   "cell_type": "code",
   "execution_count": null,
   "metadata": {},
   "outputs": [],
   "source": [
    "# Create a dictionary of plots for each age\n",
    "plots = {\n",
    "    age: (\n",
    "        hv.BoxWhisker(\n",
    "            Max_dist[prop_moving[\"age\"] == age],\n",
    "            kdims=[\"genotype\"],\n",
    "            vdims=\"cumulated_distance\",\n",
    "        ).opts(**HoloviewsTemplates.hv_irene[\"boxwhisker\"])\n",
    "        * hv.Scatter(\n",
    "            Max_dist[prop_moving[\"age\"] == age],\n",
    "            kdims=[\"genotype\"],\n",
    "            vdims=\"cumulated_distance\",\n",
    "        )\n",
    "        .opts(**HoloviewsTemplates.hv_irene[\"scatter\"])\n",
    "        .opts(color=\"genotype\")\n",
    "    )\n",
    "    .opts(\n",
    "        **HoloviewsTemplates.hv_irene[\"plot\"],\n",
    "        ylabel=\"Distance traveled (mm)\",\n",
    "    )\n",
    "    .opts(title=f\"Age: {age}\")\n",
    "    for age in unique_ages\n",
    "}\n",
    "\n",
    "layout = hv.Layout(plots.values()).cols(2)\n",
    "\n",
    "layout"
   ]
  },
  {
   "cell_type": "code",
   "execution_count": null,
   "metadata": {},
   "outputs": [],
   "source": [
    "\n",
    "\n",
    "# Save this as a html file\n",
    "hv.save(\n",
    "    layout,\n",
    "    \"/mnt/labserver/DURRIEU_Matthias/Experimental_data/Irene_Optobot/Plots/distance_traveled_plots.html\",\n",
    ")\n",
    "\n",
    "# Also save the plots as a png file\n",
    "\n",
    "# hv.save(\n",
    "#     layout,\n",
    "#     \"/mnt/labserver/DURRIEU_Matthias/Experimental_data/Irene_Optobot/Plots/distance_traveled_plots.png\",\n",
    "# )"
   ]
  },
  {
   "cell_type": "markdown",
   "metadata": {},
   "source": [
    "### Statistics\n",
    "\n",
    "#### Kruskal-Wallis test and Mann-Whitney tests"
   ]
  },
  {
   "cell_type": "code",
   "execution_count": null,
   "metadata": {},
   "outputs": [],
   "source": [
    "# Create lists to store the results\n",
    "kruskal_results = []\n",
    "posthoc_results = []\n",
    "\n",
    "# Loop over each unique age\n",
    "for age in unique_ages:\n",
    "    # Subset the data for the current age\n",
    "    data_age = Max_dist[Max_dist[\"age\"] == age]\n",
    "\n",
    "    # Remove the w1118 genotype\n",
    "    data_age = data_age[data_age[\"genotype\"] != \"w1118\"]\n",
    "\n",
    "    # Create a list to store the velocity values for each genotype\n",
    "    velocity_values = []\n",
    "\n",
    "    # Loop over each unique genotype\n",
    "    for genotype in genotypes:\n",
    "        if genotype == \"w1118\":\n",
    "            continue\n",
    "        # Subset the data for the current genotype\n",
    "        data_genotype = data_age[data_age[\"genotype\"] == genotype]\n",
    "\n",
    "        # Append the velocity values to the list\n",
    "        velocity_values.append(data_genotype[\"cumulated_distance\"].values)\n",
    "\n",
    "    # Perform the Kruskal-Wallis test\n",
    "    H, pval = stats.kruskal(*velocity_values)\n",
    "\n",
    "    # Add the results to the Kruskal list\n",
    "    kruskal_results.append({\"Age\": age, \"H-statistic\": H, \"P-Value\": pval})\n",
    "\n",
    "    if pval < 0.05:\n",
    "        # Perform the pairwise Mann-Whitney U tests\n",
    "        for pair in pairs:\n",
    "            group1 = data_age[data_age[\"genotype\"] == pair[0]][\"cumulated_distance\"]\n",
    "            group2 = data_age[data_age[\"genotype\"] == pair[1]][\"cumulated_distance\"]\n",
    "            posthoc = mwu(group1, group2, alternative=\"two-sided\")\n",
    "\n",
    "            # Apply the Bonferroni correction\n",
    "            p_val = posthoc[\"p-val\"].item() * len(pairs)\n",
    "            p_val = 1 if p_val > 1 else p_val\n",
    "\n",
    "            # Add the post-hoc test results to the post-hoc list\n",
    "            posthoc_results.append(\n",
    "                {\n",
    "                    \"Age\": age,\n",
    "                    \"Pair\": f\"{pair[0]} vs {pair[1]}\",\n",
    "                    \"Post-hoc P-Value\": p_val,\n",
    "                }\n",
    "            )\n",
    "\n",
    "# Convert the lists to DataFrames\n",
    "kruskal_df = pd.DataFrame(kruskal_results)\n",
    "posthoc_df = pd.DataFrame(posthoc_results)\n",
    "\n",
    "\n",
    "# Define a function for elementwise styles\n",
    "def color_red_if_less_than_005(val):\n",
    "    color = \"red\" if val < 0.05 else \"black\"\n",
    "    return f\"color: {color}\"\n",
    "\n",
    "\n",
    "# Define a function for columnwise styles\n",
    "def highlight_p_values(data):\n",
    "    is_p_value = data.name == \"P-Value\" or data.name == \"Post-hoc P-Value\"\n",
    "    return [color_red_if_less_than_005(val) if is_p_value else \"\" for val in data]\n",
    "\n",
    "\n",
    "# Apply the styles\n",
    "kruskal_df = kruskal_df.style.apply(highlight_p_values)\n",
    "posthoc_df = posthoc_df.style.apply(highlight_p_values)\n",
    "\n",
    "display(kruskal_df)\n",
    "display(posthoc_df)"
   ]
  },
  {
   "cell_type": "markdown",
   "metadata": {},
   "source": [
    "#### PERMANOVA and Adonis pairwise test"
   ]
  },
  {
   "cell_type": "code",
   "execution_count": null,
   "metadata": {},
   "outputs": [],
   "source": [
    "%%R -i Max_dist\n",
    "\n",
    "# Define a local library path :\n",
    "local_lib <- \"/home/durrieu/R/x86_64-pc-linux-gnu-library/4.3\"\n",
    "\n",
    "# Import libraries\n",
    "library(ARTool, lib.loc=local_lib)\n",
    "\n",
    "# Convert genotype and age to factors\n",
    "Max_dist$genotype <- as.factor(Max_dist$genotype)\n",
    "Max_dist$age <- as.factor(Max_dist$age)\n",
    "\n",
    "# Perform the Aligned Rank Transform\n",
    "art <- art(cumulated_distance ~ genotype * age, data = Max_dist)\n",
    "\n",
    "# Perform a two-way ANOVA on the aligned ranks\n",
    "anova_results <- anova(art)\n",
    "\n",
    "# Print the results\n",
    "print(anova_results)"
   ]
  },
  {
   "cell_type": "markdown",
   "metadata": {},
   "source": [
    "### Summary\n",
    "\n",
    "Again, an effect of genotype is found with Kruskal-Wallis test at 9 days. IF-THGal4 vs SynjRQ-Atg18\t is different, but there's a trend for IF-Atg18 vs SynjRQ-Atg18 and SynjRQ-Atg18 vs SynjRQ\t"
   ]
  },
  {
   "cell_type": "markdown",
   "metadata": {},
   "source": [
    "## Additionnal data: cumulated distance over time\n",
    "\n",
    "An interesting metric could be to look at how much flies move during the video, looking at chronology."
   ]
  },
  {
   "cell_type": "code",
   "execution_count": null,
   "metadata": {},
   "outputs": [],
   "source": [
    "# Let's try to plot the cumulated distance traveled over time as curves, averaged over genotype and grouped by age and id\n",
    "\n",
    "# Get the cumulated distance traveled grouped by genotype, age and id\n",
    "Cum_dist = moving.groupby([\"time\", \"genotype\", \"age\"])[\"cumulated_distance\"].mean().reset_index()\n",
    "\n",
    "Cum_dist"
   ]
  },
  {
   "cell_type": "code",
   "execution_count": null,
   "metadata": {},
   "outputs": [],
   "source": [
    "# Apply the filter to each group of data\n",
    "for age in Cum_dist[\"age\"].unique():\n",
    "    for genotype in Cum_dist[\"genotype\"].unique():\n",
    "        # Filter data for the current age and genotype\n",
    "        data = Cum_dist[(Cum_dist[\"age\"] == age) & (Cum_dist[\"genotype\"] == genotype)]\n",
    "\n",
    "        # Apply the filter\n",
    "        filtered_data = Processing.butter_lowpass_filter(\n",
    "            data[\"cumulated_distance\"], cutoff=0.01, order=1\n",
    "        )\n",
    "\n",
    "        # Replace the original data with the filtered data\n",
    "        Cum_dist.loc[data.index, \"cumulated_distance\"] = filtered_data"
   ]
  },
  {
   "cell_type": "code",
   "execution_count": null,
   "metadata": {},
   "outputs": [],
   "source": [
    "# Create an empty list to store plots\n",
    "plots = []\n",
    "\n",
    "# Create separate plots for each age\n",
    "for age in Cum_dist[\"age\"].unique():\n",
    "    # Filter data for the current age\n",
    "    data = Cum_dist[Cum_dist[\"age\"] == age]\n",
    "\n",
    "    # Create an empty overlay for this age\n",
    "    age_overlay = hv.NdOverlay({})\n",
    "\n",
    "    # Create separate curves for each genotype\n",
    "    for genotype in data[\"genotype\"].unique():\n",
    "        # Filter data for the current genotype\n",
    "        genotype_data = data[data[\"genotype\"] == genotype]\n",
    "\n",
    "        # Create curve and add to the age overlay\n",
    "        curve = hv.Curve(genotype_data, kdims=[\"time\"], vdims=[\"cumulated_distance\"])\n",
    "        age_overlay[genotype] = curve\n",
    "        age_overlay[genotype].opts(title = f\"Age: {age}\", width = 500, height = 500, active_tools = [])\n",
    "\n",
    "    # Add to the list of plots\n",
    "    plots.append(age_overlay)\n",
    "\n",
    "# Create a layout of plots\n",
    "layout = hv.Layout(plots).cols(2)\n",
    "\n",
    "# Display the layout\n",
    "layout"
   ]
  },
  {
   "cell_type": "markdown",
   "metadata": {},
   "source": [
    "Nothing really pops up in this representation."
   ]
  },
  {
   "cell_type": "markdown",
   "metadata": {},
   "source": []
  }
 ],
 "metadata": {
  "kernelspec": {
   "display_name": "Python 3 (ipykernel)",
   "language": "python",
   "name": "python3"
  },
  "language_info": {
   "codemirror_mode": {
    "name": "ipython",
    "version": 3
   },
   "file_extension": ".py",
   "mimetype": "text/x-python",
   "name": "python",
   "nbconvert_exporter": "python",
   "pygments_lexer": "ipython3",
   "version": "3.12.2"
  }
 },
 "nbformat": 4,
 "nbformat_minor": 4
}
