{
 "cells": [
  {
   "cell_type": "markdown",
   "metadata": {},
   "source": [
    "# Summary"
   ]
  },
  {
   "cell_type": "markdown",
   "metadata": {},
   "source": [
    "Here we test the tools developped in Utilities/Optobot_utils.py. We then use these tools to analyse Irene's optobot experiments."
   ]
  },
  {
   "cell_type": "markdown",
   "metadata": {},
   "source": [
    "# Package imports"
   ]
  },
  {
   "cell_type": "code",
   "execution_count": null,
   "metadata": {},
   "outputs": [],
   "source": [
    "import sys\n",
    "from pathlib import Path\n",
    "import numpy as np\n",
    "\n",
    "sys.path.append(\"/home/durrieu/Tracking_Analysis/Utilities\")\n",
    "#sys.path.append(\"/Users/ulric/git/Tracking_Analysis/Utilities\")\n",
    "import Utils\n",
    "import Optobot_utils"
   ]
  },
  {
   "cell_type": "markdown",
   "metadata": {},
   "source": [
    "# Accessing the experiments\n",
    "\n",
    "We first developp a function to find the experiments in the main directory. We then use a custom class to load the experiments, including metadata and DLC data."
   ]
  },
  {
   "cell_type": "code",
   "execution_count": null,
   "metadata": {},
   "outputs": [],
   "source": [
    "Exps = Optobot_utils.find_experiments(\n",
    "    Path(\"/Users/ulric/Library/CloudStorage/GoogleDrive-matthias.durrieu@epfl.ch/Shared drives/DATA_Irene/OptobotExperiment\")\n",
    ")\n",
    "\n",
    "Exps"
   ]
  },
  {
   "cell_type": "code",
   "execution_count": null,
   "metadata": {},
   "outputs": [],
   "source": [
    "TestFly = Exps[0]"
   ]
  },
  {
   "cell_type": "code",
   "execution_count": null,
   "metadata": {},
   "outputs": [],
   "source": [
    "# Extract the npy file called experiment_dict.npy\n",
    "\n",
    "# Load the experiment_dict.npy file\n",
    "exp_dict = np.load(TestFly / \"experiment_dict.npy\", allow_pickle=True).item()"
   ]
  },
  {
   "cell_type": "code",
   "execution_count": null,
   "metadata": {},
   "outputs": [],
   "source": [
    "# Load the genotype_dict.npy file\n",
    "gen_dict = np.load(TestFly.parent.parent / \"genotype_dict.npy\", allow_pickle=True).item()"
   ]
  },
  {
   "cell_type": "markdown",
   "metadata": {},
   "source": [
    "Here small change to check what is committed. Second change now."
   ]
  }
 ],
 "metadata": {
  "kernelspec": {
   "display_name": "TrackingAnalysis",
   "language": "python",
   "name": "python3"
  },
  "language_info": {
   "codemirror_mode": {
    "name": "ipython",
    "version": 3
   },
   "file_extension": ".py",
   "mimetype": "text/x-python",
   "name": "python",
   "nbconvert_exporter": "python",
   "pygments_lexer": "ipython3",
   "version": "3.10.4"
  }
 },
 "nbformat": 4,
 "nbformat_minor": 2
}
